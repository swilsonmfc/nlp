{
  "nbformat": 4,
  "nbformat_minor": 0,
  "metadata": {
    "colab": {
      "name": "NLPTopicModel.ipynb",
      "provenance": [],
      "collapsed_sections": [],
      "toc_visible": true,
      "authorship_tag": "ABX9TyNJFJqQ/LgvqqoTVXDBSf1p",
      "include_colab_link": true
    },
    "kernelspec": {
      "name": "python3",
      "display_name": "Python 3"
    },
    "widgets": {
      "application/vnd.jupyter.widget-state+json": {
        "70d2d4ab21e144199a8f48b16e43156d": {
          "model_module": "@jupyter-widgets/controls",
          "model_name": "IntProgressModel",
          "state": {
            "_view_name": "ProgressView",
            "style": "IPY_MODEL_d6aa7d93590f4a86946358b2301d93ef",
            "_dom_classes": [],
            "description": "Processing: ",
            "_model_name": "IntProgressModel",
            "bar_style": "",
            "max": 13,
            "_view_module": "@jupyter-widgets/controls",
            "_model_module_version": "1.5.0",
            "value": 3,
            "_view_count": null,
            "_view_module_version": "1.5.0",
            "orientation": "horizontal",
            "min": 0,
            "description_tooltip": null,
            "_model_module": "@jupyter-widgets/controls",
            "layout": "IPY_MODEL_654bb003801e4d5faa6f3528a434f607"
          }
        },
        "d6aa7d93590f4a86946358b2301d93ef": {
          "model_module": "@jupyter-widgets/controls",
          "model_name": "ProgressStyleModel",
          "state": {
            "_view_name": "StyleView",
            "_model_name": "ProgressStyleModel",
            "description_width": "",
            "_view_module": "@jupyter-widgets/base",
            "_model_module_version": "1.5.0",
            "_view_count": null,
            "_view_module_version": "1.2.0",
            "bar_color": null,
            "_model_module": "@jupyter-widgets/controls"
          }
        },
        "654bb003801e4d5faa6f3528a434f607": {
          "model_module": "@jupyter-widgets/base",
          "model_name": "LayoutModel",
          "state": {
            "_view_name": "LayoutView",
            "grid_template_rows": null,
            "right": null,
            "justify_content": null,
            "_view_module": "@jupyter-widgets/base",
            "overflow": null,
            "_model_module_version": "1.2.0",
            "_view_count": null,
            "flex_flow": null,
            "width": null,
            "min_width": null,
            "border": null,
            "align_items": null,
            "bottom": null,
            "_model_module": "@jupyter-widgets/base",
            "top": null,
            "grid_column": null,
            "overflow_y": null,
            "overflow_x": null,
            "grid_auto_flow": null,
            "grid_area": null,
            "grid_template_columns": null,
            "flex": null,
            "_model_name": "LayoutModel",
            "justify_items": null,
            "grid_row": null,
            "max_height": null,
            "align_content": null,
            "visibility": null,
            "align_self": null,
            "height": null,
            "min_height": null,
            "padding": null,
            "grid_auto_rows": null,
            "grid_gap": null,
            "max_width": null,
            "order": null,
            "_view_module_version": "1.2.0",
            "grid_template_areas": null,
            "object_position": null,
            "object_fit": null,
            "grid_auto_columns": null,
            "margin": null,
            "display": null,
            "left": null
          }
        },
        "81bafbde079041ad99742fb8a1c7e353": {
          "model_module": "@jupyter-widgets/controls",
          "model_name": "TextModel",
          "state": {
            "_view_name": "TextView",
            "style": "IPY_MODEL_df21efca3d764a81b9f63b1527741e44",
            "_dom_classes": [],
            "description": "",
            "_model_name": "TextModel",
            "placeholder": "​",
            "_view_module": "@jupyter-widgets/controls",
            "_model_module_version": "1.5.0",
            "value": "Following data types have been inferred automatically, if they are correct press enter to continue or type 'quit' otherwise.",
            "_view_count": null,
            "disabled": false,
            "_view_module_version": "1.5.0",
            "continuous_update": true,
            "description_tooltip": null,
            "_model_module": "@jupyter-widgets/controls",
            "layout": "IPY_MODEL_0c3c64ac50d644069232952a7ae68bdb"
          }
        },
        "df21efca3d764a81b9f63b1527741e44": {
          "model_module": "@jupyter-widgets/controls",
          "model_name": "DescriptionStyleModel",
          "state": {
            "_view_name": "StyleView",
            "_model_name": "DescriptionStyleModel",
            "description_width": "",
            "_view_module": "@jupyter-widgets/base",
            "_model_module_version": "1.5.0",
            "_view_count": null,
            "_view_module_version": "1.2.0",
            "_model_module": "@jupyter-widgets/controls"
          }
        },
        "0c3c64ac50d644069232952a7ae68bdb": {
          "model_module": "@jupyter-widgets/base",
          "model_name": "LayoutModel",
          "state": {
            "_view_name": "LayoutView",
            "grid_template_rows": null,
            "right": null,
            "justify_content": null,
            "_view_module": "@jupyter-widgets/base",
            "overflow": null,
            "_model_module_version": "1.2.0",
            "_view_count": null,
            "flex_flow": null,
            "width": "100%",
            "min_width": null,
            "border": null,
            "align_items": null,
            "bottom": null,
            "_model_module": "@jupyter-widgets/base",
            "top": null,
            "grid_column": null,
            "overflow_y": null,
            "overflow_x": null,
            "grid_auto_flow": null,
            "grid_area": null,
            "grid_template_columns": null,
            "flex": null,
            "_model_name": "LayoutModel",
            "justify_items": null,
            "grid_row": null,
            "max_height": null,
            "align_content": null,
            "visibility": null,
            "align_self": null,
            "height": null,
            "min_height": null,
            "padding": null,
            "grid_auto_rows": null,
            "grid_gap": null,
            "max_width": null,
            "order": null,
            "_view_module_version": "1.2.0",
            "grid_template_areas": null,
            "object_position": null,
            "object_fit": null,
            "grid_auto_columns": null,
            "margin": null,
            "display": null,
            "left": null
          }
        },
        "d889b6a2bb3e42d8a187e948e63cf2e6": {
          "model_module": "@jupyter-widgets/controls",
          "model_name": "IntProgressModel",
          "state": {
            "_view_name": "ProgressView",
            "style": "IPY_MODEL_2d73e252d4564832aca2a30a21c2d66f",
            "_dom_classes": [],
            "description": "Processing: ",
            "_model_name": "IntProgressModel",
            "bar_style": "",
            "max": 14,
            "_view_module": "@jupyter-widgets/controls",
            "_model_module_version": "1.5.0",
            "value": 14,
            "_view_count": null,
            "_view_module_version": "1.5.0",
            "orientation": "horizontal",
            "min": 0,
            "description_tooltip": null,
            "_model_module": "@jupyter-widgets/controls",
            "layout": "IPY_MODEL_d88e8aa687484381a39be4e4b93e399e"
          }
        },
        "2d73e252d4564832aca2a30a21c2d66f": {
          "model_module": "@jupyter-widgets/controls",
          "model_name": "ProgressStyleModel",
          "state": {
            "_view_name": "StyleView",
            "_model_name": "ProgressStyleModel",
            "description_width": "",
            "_view_module": "@jupyter-widgets/base",
            "_model_module_version": "1.5.0",
            "_view_count": null,
            "_view_module_version": "1.2.0",
            "bar_color": null,
            "_model_module": "@jupyter-widgets/controls"
          }
        },
        "d88e8aa687484381a39be4e4b93e399e": {
          "model_module": "@jupyter-widgets/base",
          "model_name": "LayoutModel",
          "state": {
            "_view_name": "LayoutView",
            "grid_template_rows": null,
            "right": null,
            "justify_content": null,
            "_view_module": "@jupyter-widgets/base",
            "overflow": null,
            "_model_module_version": "1.2.0",
            "_view_count": null,
            "flex_flow": null,
            "width": null,
            "min_width": null,
            "border": null,
            "align_items": null,
            "bottom": null,
            "_model_module": "@jupyter-widgets/base",
            "top": null,
            "grid_column": null,
            "overflow_y": null,
            "overflow_x": null,
            "grid_auto_flow": null,
            "grid_area": null,
            "grid_template_columns": null,
            "flex": null,
            "_model_name": "LayoutModel",
            "justify_items": null,
            "grid_row": null,
            "max_height": null,
            "align_content": null,
            "visibility": null,
            "align_self": null,
            "height": null,
            "min_height": null,
            "padding": null,
            "grid_auto_rows": null,
            "grid_gap": null,
            "max_width": null,
            "order": null,
            "_view_module_version": "1.2.0",
            "grid_template_areas": null,
            "object_position": null,
            "object_fit": null,
            "grid_auto_columns": null,
            "margin": null,
            "display": null,
            "left": null
          }
        },
        "90e2929f63d442bea65b51ffb8834ba5": {
          "model_module": "@jupyter-widgets/controls",
          "model_name": "IntProgressModel",
          "state": {
            "_view_name": "ProgressView",
            "style": "IPY_MODEL_dda965cbc3a642b3bea4c801218b0e2d",
            "_dom_classes": [],
            "description": "Processing: ",
            "_model_name": "IntProgressModel",
            "bar_style": "",
            "max": 16,
            "_view_module": "@jupyter-widgets/controls",
            "_model_module_version": "1.5.0",
            "value": 16,
            "_view_count": null,
            "_view_module_version": "1.5.0",
            "orientation": "horizontal",
            "min": 0,
            "description_tooltip": null,
            "_model_module": "@jupyter-widgets/controls",
            "layout": "IPY_MODEL_cd643740e5584354ab2c5e4e28756c62"
          }
        },
        "dda965cbc3a642b3bea4c801218b0e2d": {
          "model_module": "@jupyter-widgets/controls",
          "model_name": "ProgressStyleModel",
          "state": {
            "_view_name": "StyleView",
            "_model_name": "ProgressStyleModel",
            "description_width": "",
            "_view_module": "@jupyter-widgets/base",
            "_model_module_version": "1.5.0",
            "_view_count": null,
            "_view_module_version": "1.2.0",
            "bar_color": null,
            "_model_module": "@jupyter-widgets/controls"
          }
        },
        "cd643740e5584354ab2c5e4e28756c62": {
          "model_module": "@jupyter-widgets/base",
          "model_name": "LayoutModel",
          "state": {
            "_view_name": "LayoutView",
            "grid_template_rows": null,
            "right": null,
            "justify_content": null,
            "_view_module": "@jupyter-widgets/base",
            "overflow": null,
            "_model_module_version": "1.2.0",
            "_view_count": null,
            "flex_flow": null,
            "width": null,
            "min_width": null,
            "border": null,
            "align_items": null,
            "bottom": null,
            "_model_module": "@jupyter-widgets/base",
            "top": null,
            "grid_column": null,
            "overflow_y": null,
            "overflow_x": null,
            "grid_auto_flow": null,
            "grid_area": null,
            "grid_template_columns": null,
            "flex": null,
            "_model_name": "LayoutModel",
            "justify_items": null,
            "grid_row": null,
            "max_height": null,
            "align_content": null,
            "visibility": null,
            "align_self": null,
            "height": null,
            "min_height": null,
            "padding": null,
            "grid_auto_rows": null,
            "grid_gap": null,
            "max_width": null,
            "order": null,
            "_view_module_version": "1.2.0",
            "grid_template_areas": null,
            "object_position": null,
            "object_fit": null,
            "grid_auto_columns": null,
            "margin": null,
            "display": null,
            "left": null
          }
        },
        "e89985912f60487d80e5f25759ebe0ee": {
          "model_module": "@jupyter-widgets/controls",
          "model_name": "IntProgressModel",
          "state": {
            "_view_name": "ProgressView",
            "style": "IPY_MODEL_82a3b62f04c940fab5747add68436190",
            "_dom_classes": [],
            "description": "Processing: ",
            "_model_name": "IntProgressModel",
            "bar_style": "",
            "max": 5,
            "_view_module": "@jupyter-widgets/controls",
            "_model_module_version": "1.5.0",
            "value": 4,
            "_view_count": null,
            "_view_module_version": "1.5.0",
            "orientation": "horizontal",
            "min": 0,
            "description_tooltip": null,
            "_model_module": "@jupyter-widgets/controls",
            "layout": "IPY_MODEL_b4cea9d7a0e1403e8f2c3b1876faa399"
          }
        },
        "82a3b62f04c940fab5747add68436190": {
          "model_module": "@jupyter-widgets/controls",
          "model_name": "ProgressStyleModel",
          "state": {
            "_view_name": "StyleView",
            "_model_name": "ProgressStyleModel",
            "description_width": "",
            "_view_module": "@jupyter-widgets/base",
            "_model_module_version": "1.5.0",
            "_view_count": null,
            "_view_module_version": "1.2.0",
            "bar_color": null,
            "_model_module": "@jupyter-widgets/controls"
          }
        },
        "b4cea9d7a0e1403e8f2c3b1876faa399": {
          "model_module": "@jupyter-widgets/base",
          "model_name": "LayoutModel",
          "state": {
            "_view_name": "LayoutView",
            "grid_template_rows": null,
            "right": null,
            "justify_content": null,
            "_view_module": "@jupyter-widgets/base",
            "overflow": null,
            "_model_module_version": "1.2.0",
            "_view_count": null,
            "flex_flow": null,
            "width": null,
            "min_width": null,
            "border": null,
            "align_items": null,
            "bottom": null,
            "_model_module": "@jupyter-widgets/base",
            "top": null,
            "grid_column": null,
            "overflow_y": null,
            "overflow_x": null,
            "grid_auto_flow": null,
            "grid_area": null,
            "grid_template_columns": null,
            "flex": null,
            "_model_name": "LayoutModel",
            "justify_items": null,
            "grid_row": null,
            "max_height": null,
            "align_content": null,
            "visibility": null,
            "align_self": null,
            "height": null,
            "min_height": null,
            "padding": null,
            "grid_auto_rows": null,
            "grid_gap": null,
            "max_width": null,
            "order": null,
            "_view_module_version": "1.2.0",
            "grid_template_areas": null,
            "object_position": null,
            "object_fit": null,
            "grid_auto_columns": null,
            "margin": null,
            "display": null,
            "left": null
          }
        },
        "47c32b7a33c1426ca2c8db412daf39f6": {
          "model_module": "@jupyter-widgets/controls",
          "model_name": "IntProgressModel",
          "state": {
            "_view_name": "ProgressView",
            "style": "IPY_MODEL_752207b9cb45401fb9b275c0b1549993",
            "_dom_classes": [],
            "description": "Processing: ",
            "_model_name": "IntProgressModel",
            "bar_style": "",
            "max": 5,
            "_view_module": "@jupyter-widgets/controls",
            "_model_module_version": "1.5.0",
            "value": 4,
            "_view_count": null,
            "_view_module_version": "1.5.0",
            "orientation": "horizontal",
            "min": 0,
            "description_tooltip": null,
            "_model_module": "@jupyter-widgets/controls",
            "layout": "IPY_MODEL_1b354223d20445bfb93c05ea5be5ee2c"
          }
        },
        "7b4452cd2f754f98882355379446da6a": {
          "model_module": "@jupyter-widgets/controls",
          "model_name": "IntProgressModel",
          "state": {
            "_view_name": "ProgressView",
            "style": "IPY_MODEL_fc66a45fa0c84d6080868be33048a326",
            "_dom_classes": [],
            "description": "Processing: ",
            "_model_name": "IntProgressModel",
            "bar_style": "",
            "max": 5,
            "_view_module": "@jupyter-widgets/controls",
            "_model_module_version": "1.5.0",
            "value": 4,
            "_view_count": null,
            "_view_module_version": "1.5.0",
            "orientation": "horizontal",
            "min": 0,
            "description_tooltip": null,
            "_model_module": "@jupyter-widgets/controls",
            "layout": "IPY_MODEL_452941cddfcc44219d9f730484322fcc"
          }
        }
      }
    }
  },
  "cells": [
    {
      "cell_type": "markdown",
      "metadata": {
        "id": "view-in-github",
        "colab_type": "text"
      },
      "source": [
        "<a href=\"https://colab.research.google.com/github/swilsonmfc/nlp/blob/master/NLPTopicModel.ipynb\" target=\"_parent\"><img src=\"https://colab.research.google.com/assets/colab-badge.svg\" alt=\"Open In Colab\"/></a>"
      ]
    },
    {
      "cell_type": "markdown",
      "metadata": {
        "id": "iEv2goI9kF1w",
        "colab_type": "text"
      },
      "source": [
        "# Topic Models\n",
        "![alt text](https://d2908q01vomqb2.cloudfront.net/f1f836cb4ea6efb2a0b1b99f41ad8b103eff4b59/2018/05/22/sagemaker-ntm-1.gif)"
      ]
    },
    {
      "cell_type": "markdown",
      "metadata": {
        "id": "buG5moNFo8uj",
        "colab_type": "text"
      },
      "source": [
        "# Setup"
      ]
    },
    {
      "cell_type": "code",
      "metadata": {
        "id": "UVQMntY7vkWX",
        "colab_type": "code",
        "colab": {
          "base_uri": "https://localhost:8080/",
          "height": 1000
        },
        "outputId": "f6140f48-3adb-413e-89fb-951e6e04fdaa"
      },
      "source": [
        "pip install pycaret"
      ],
      "execution_count": 1,
      "outputs": [
        {
          "output_type": "stream",
          "text": [
            "Collecting pycaret\n",
            "\u001b[?25l  Downloading https://files.pythonhosted.org/packages/c7/41/f7fa05b6ce3cb3096a35fb5ac6dc0f2bb23e8304f068618fb2501be0a562/pycaret-1.0.0-py3-none-any.whl (188kB)\n",
            "\u001b[K     |████████████████████████████████| 194kB 4.3MB/s \n",
            "\u001b[?25hCollecting pyLDAvis\n",
            "\u001b[?25l  Downloading https://files.pythonhosted.org/packages/a5/3a/af82e070a8a96e13217c8f362f9a73e82d61ac8fff3a2561946a97f96266/pyLDAvis-2.1.2.tar.gz (1.6MB)\n",
            "\u001b[K     |████████████████████████████████| 1.6MB 14.9MB/s \n",
            "\u001b[?25hCollecting cufflinks==0.17.0\n",
            "\u001b[?25l  Downloading https://files.pythonhosted.org/packages/e3/79/1b8673b2723e02919307d558896dbcedcb46807c4e29acd25cfe43a36c8b/cufflinks-0.17.0.tar.gz (81kB)\n",
            "\u001b[K     |████████████████████████████████| 81kB 9.0MB/s \n",
            "\u001b[?25hRequirement already satisfied: wordcloud in /usr/local/lib/python3.6/dist-packages (from pycaret) (1.5.0)\n",
            "Requirement already satisfied: xgboost==0.90 in /usr/local/lib/python3.6/dist-packages (from pycaret) (0.90)\n",
            "Requirement already satisfied: nltk in /usr/local/lib/python3.6/dist-packages (from pycaret) (3.2.5)\n",
            "Collecting datefinder==0.7.0\n",
            "  Downloading https://files.pythonhosted.org/packages/16/2b/af8efaee30c0ba4238cb4d0645a07100d33d11d20a8783c443ed8b813eb9/datefinder-0.7.0-py2.py3-none-any.whl\n",
            "Collecting scikit-learn==0.22\n",
            "\u001b[?25l  Downloading https://files.pythonhosted.org/packages/2e/d0/860c4f6a7027e00acff373d9f5327f4ae3ed5872234b3cbdd7bcb52e5eff/scikit_learn-0.22-cp36-cp36m-manylinux1_x86_64.whl (7.0MB)\n",
            "\u001b[K     |████████████████████████████████| 7.0MB 17.0MB/s \n",
            "\u001b[?25hRequirement already satisfied: gensim in /usr/local/lib/python3.6/dist-packages (from pycaret) (3.6.0)\n",
            "Requirement already satisfied: IPython in /usr/local/lib/python3.6/dist-packages (from pycaret) (5.5.0)\n",
            "Requirement already satisfied: umap-learn in /usr/local/lib/python3.6/dist-packages (from pycaret) (0.4.4)\n",
            "Collecting kmodes==0.10.1\n",
            "  Downloading https://files.pythonhosted.org/packages/79/c0/f7d8a0eb41ac6f302b4bc100f91b6e0f2558425ccfefaa0ec0430f77ee97/kmodes-0.10.1-py2.py3-none-any.whl\n",
            "Collecting shap==0.32.1\n",
            "\u001b[?25l  Downloading https://files.pythonhosted.org/packages/57/43/08f152a59a1d60f0328b476bdd58c791498989981ab9c6d595ec5448a86a/shap-0.32.1.tar.gz (259kB)\n",
            "\u001b[K     |████████████████████████████████| 266kB 44.5MB/s \n",
            "\u001b[?25hCollecting datetime\n",
            "\u001b[?25l  Downloading https://files.pythonhosted.org/packages/73/22/a5297f3a1f92468cc737f8ce7ba6e5f245fcfafeae810ba37bd1039ea01c/DateTime-4.3-py2.py3-none-any.whl (60kB)\n",
            "\u001b[K     |████████████████████████████████| 61kB 6.9MB/s \n",
            "\u001b[?25hCollecting catboost==0.20.2\n",
            "\u001b[?25l  Downloading https://files.pythonhosted.org/packages/97/c4/586923de4634f88a31fd1b4966e15707a912b98b6f4566651b5ef58f36b5/catboost-0.20.2-cp36-none-manylinux1_x86_64.whl (63.9MB)\n",
            "\u001b[K     |████████████████████████████████| 63.9MB 61kB/s \n",
            "\u001b[?25hCollecting pandas-profiling==2.3.0\n",
            "\u001b[?25l  Downloading https://files.pythonhosted.org/packages/2c/2f/aae19e2173c10a9bb7fee5f5cad35dbe53a393960fc91abc477dcc4661e8/pandas-profiling-2.3.0.tar.gz (127kB)\n",
            "\u001b[K     |████████████████████████████████| 133kB 41.4MB/s \n",
            "\u001b[?25hRequirement already satisfied: plotly==4.4.1 in /usr/local/lib/python3.6/dist-packages (from pycaret) (4.4.1)\n",
            "Collecting pyod\n",
            "\u001b[?25l  Downloading https://files.pythonhosted.org/packages/77/4e/5767edaccbfc227914ca774cb6ca9b628a08cbb59b9b4839296953a63d34/pyod-0.8.1.tar.gz (93kB)\n",
            "\u001b[K     |████████████████████████████████| 102kB 8.8MB/s \n",
            "\u001b[?25hRequirement already satisfied: ipywidgets in /usr/local/lib/python3.6/dist-packages (from pycaret) (7.5.1)\n",
            "Requirement already satisfied: pandas in /usr/local/lib/python3.6/dist-packages (from pycaret) (1.0.5)\n",
            "Requirement already satisfied: numpy in /usr/local/lib/python3.6/dist-packages (from pycaret) (1.18.5)\n",
            "Requirement already satisfied: textblob in /usr/local/lib/python3.6/dist-packages (from pycaret) (0.15.3)\n",
            "Collecting awscli\n",
            "\u001b[?25l  Downloading https://files.pythonhosted.org/packages/d9/2c/3227bd375ec37ef645bb5de5ba2fe6546a29246835de011553f525431aab/awscli-1.18.96-py2.py3-none-any.whl (3.2MB)\n",
            "\u001b[K     |████████████████████████████████| 3.2MB 37.9MB/s \n",
            "\u001b[?25hCollecting lightgbm==2.3.1\n",
            "\u001b[?25l  Downloading https://files.pythonhosted.org/packages/0b/9d/ddcb2f43aca194987f1a99e27edf41cf9bc39ea750c3371c2a62698c509a/lightgbm-2.3.1-py2.py3-none-manylinux1_x86_64.whl (1.2MB)\n",
            "\u001b[K     |████████████████████████████████| 1.2MB 42.7MB/s \n",
            "\u001b[?25hRequirement already satisfied: mlxtend in /usr/local/lib/python3.6/dist-packages (from pycaret) (0.14.0)\n",
            "Requirement already satisfied: spacy in /usr/local/lib/python3.6/dist-packages (from pycaret) (2.2.4)\n",
            "Requirement already satisfied: seaborn in /usr/local/lib/python3.6/dist-packages (from pycaret) (0.10.1)\n",
            "Collecting yellowbrick==1.0.1\n",
            "\u001b[?25l  Downloading https://files.pythonhosted.org/packages/d1/cf/6d6ab47c0759d246262f9bdb53e89be3814bf1774bc51fffff995f5859f9/yellowbrick-1.0.1-py3-none-any.whl (378kB)\n",
            "\u001b[K     |████████████████████████████████| 389kB 46.4MB/s \n",
            "\u001b[?25hRequirement already satisfied: joblib in /usr/local/lib/python3.6/dist-packages (from pycaret) (0.15.1)\n",
            "Requirement already satisfied: matplotlib in /usr/local/lib/python3.6/dist-packages (from pycaret) (3.2.2)\n",
            "Requirement already satisfied: wheel>=0.23.0 in /usr/local/lib/python3.6/dist-packages (from pyLDAvis->pycaret) (0.34.2)\n",
            "Requirement already satisfied: scipy>=0.18.0 in /usr/local/lib/python3.6/dist-packages (from pyLDAvis->pycaret) (1.4.1)\n",
            "Requirement already satisfied: jinja2>=2.7.2 in /usr/local/lib/python3.6/dist-packages (from pyLDAvis->pycaret) (2.11.2)\n",
            "Requirement already satisfied: numexpr in /usr/local/lib/python3.6/dist-packages (from pyLDAvis->pycaret) (2.7.1)\n",
            "Requirement already satisfied: pytest in /usr/local/lib/python3.6/dist-packages (from pyLDAvis->pycaret) (3.6.4)\n",
            "Requirement already satisfied: future in /usr/local/lib/python3.6/dist-packages (from pyLDAvis->pycaret) (0.16.0)\n",
            "Collecting funcy\n",
            "\u001b[?25l  Downloading https://files.pythonhosted.org/packages/ce/4b/6ffa76544e46614123de31574ad95758c421aae391a1764921b8a81e1eae/funcy-1.14.tar.gz (548kB)\n",
            "\u001b[K     |████████████████████████████████| 552kB 45.9MB/s \n",
            "\u001b[?25hCollecting chart-studio>=1.0.0\n",
            "\u001b[?25l  Downloading https://files.pythonhosted.org/packages/ca/ce/330794a6b6ca4b9182c38fc69dd2a9cbff60fd49421cb8648ee5fee352dc/chart_studio-1.1.0-py3-none-any.whl (64kB)\n",
            "\u001b[K     |████████████████████████████████| 71kB 8.0MB/s \n",
            "\u001b[?25hRequirement already satisfied: six>=1.9.0 in /usr/local/lib/python3.6/dist-packages (from cufflinks==0.17.0->pycaret) (1.12.0)\n",
            "Requirement already satisfied: colorlover>=0.2.1 in /usr/local/lib/python3.6/dist-packages (from cufflinks==0.17.0->pycaret) (0.3.0)\n",
            "Requirement already satisfied: setuptools>=34.4.1 in /usr/local/lib/python3.6/dist-packages (from cufflinks==0.17.0->pycaret) (47.3.1)\n",
            "Requirement already satisfied: pillow in /usr/local/lib/python3.6/dist-packages (from wordcloud->pycaret) (7.0.0)\n",
            "Requirement already satisfied: regex>=2017.02.08 in /usr/local/lib/python3.6/dist-packages (from datefinder==0.7.0->pycaret) (2019.12.20)\n",
            "Requirement already satisfied: pytz in /usr/local/lib/python3.6/dist-packages (from datefinder==0.7.0->pycaret) (2018.9)\n",
            "Requirement already satisfied: python-dateutil>=2.4.2 in /usr/local/lib/python3.6/dist-packages (from datefinder==0.7.0->pycaret) (2.8.1)\n",
            "Requirement already satisfied: smart-open>=1.2.1 in /usr/local/lib/python3.6/dist-packages (from gensim->pycaret) (2.0.0)\n",
            "Requirement already satisfied: pygments in /usr/local/lib/python3.6/dist-packages (from IPython->pycaret) (2.1.3)\n",
            "Requirement already satisfied: traitlets>=4.2 in /usr/local/lib/python3.6/dist-packages (from IPython->pycaret) (4.3.3)\n",
            "Requirement already satisfied: prompt-toolkit<2.0.0,>=1.0.4 in /usr/local/lib/python3.6/dist-packages (from IPython->pycaret) (1.0.18)\n",
            "Requirement already satisfied: decorator in /usr/local/lib/python3.6/dist-packages (from IPython->pycaret) (4.4.2)\n",
            "Requirement already satisfied: pickleshare in /usr/local/lib/python3.6/dist-packages (from IPython->pycaret) (0.7.5)\n",
            "Requirement already satisfied: simplegeneric>0.8 in /usr/local/lib/python3.6/dist-packages (from IPython->pycaret) (0.8.1)\n",
            "Requirement already satisfied: pexpect; sys_platform != \"win32\" in /usr/local/lib/python3.6/dist-packages (from IPython->pycaret) (4.8.0)\n",
            "Requirement already satisfied: tbb in /usr/local/lib/python3.6/dist-packages (from umap-learn->pycaret) (2020.0.133)\n",
            "Requirement already satisfied: numba!=0.47,>=0.46 in /usr/local/lib/python3.6/dist-packages (from umap-learn->pycaret) (0.48.0)\n",
            "Requirement already satisfied: tqdm>4.25.0 in /usr/local/lib/python3.6/dist-packages (from shap==0.32.1->pycaret) (4.41.1)\n",
            "Collecting zope.interface\n",
            "\u001b[?25l  Downloading https://files.pythonhosted.org/packages/57/33/565274c28a11af60b7cfc0519d46bde4125fcd7d32ebc0a81b480d0e8da6/zope.interface-5.1.0-cp36-cp36m-manylinux2010_x86_64.whl (234kB)\n",
            "\u001b[K     |████████████████████████████████| 235kB 50.5MB/s \n",
            "\u001b[?25hRequirement already satisfied: graphviz in /usr/local/lib/python3.6/dist-packages (from catboost==0.20.2->pycaret) (0.10.1)\n",
            "Requirement already satisfied: missingno>=0.4.2 in /usr/local/lib/python3.6/dist-packages (from pandas-profiling==2.3.0->pycaret) (0.4.2)\n",
            "Collecting htmlmin>=0.1.12\n",
            "  Downloading https://files.pythonhosted.org/packages/b3/e7/fcd59e12169de19f0131ff2812077f964c6b960e7c09804d30a7bf2ab461/htmlmin-0.1.12.tar.gz\n",
            "Collecting phik>=0.9.8\n",
            "\u001b[?25l  Downloading https://files.pythonhosted.org/packages/01/5a/7ef1c04ce62cd72f900c06298dc2385840550d5c653a0dbc19109a5477e6/phik-0.10.0-py3-none-any.whl (599kB)\n",
            "\u001b[K     |████████████████████████████████| 604kB 40.7MB/s \n",
            "\u001b[?25hCollecting confuse>=1.0.0\n",
            "\u001b[?25l  Downloading https://files.pythonhosted.org/packages/b5/6d/bedc0d1068bd244cee05843313cbec6cebb9f01f925538269bababc6d887/confuse-1.3.0-py2.py3-none-any.whl (64kB)\n",
            "\u001b[K     |████████████████████████████████| 71kB 7.9MB/s \n",
            "\u001b[?25hRequirement already satisfied: astropy in /usr/local/lib/python3.6/dist-packages (from pandas-profiling==2.3.0->pycaret) (4.0.1.post1)\n",
            "Requirement already satisfied: retrying>=1.3.3 in /usr/local/lib/python3.6/dist-packages (from plotly==4.4.1->pycaret) (1.3.3)\n",
            "Collecting combo\n",
            "  Downloading https://files.pythonhosted.org/packages/0a/2a/61b6ac584e75d8df16dc27962aa5fe99d76b09da5b6710e83d4862c84001/combo-0.1.1.tar.gz\n",
            "Collecting suod\n",
            "\u001b[?25l  Downloading https://files.pythonhosted.org/packages/a1/87/9170cabe1b5e10a7d095c0e28f2e30e7c1886a13f063de85d3cfacc06f4b/suod-0.0.4.tar.gz (2.1MB)\n",
            "\u001b[K     |████████████████████████████████| 2.1MB 40.6MB/s \n",
            "\u001b[?25hRequirement already satisfied: ipykernel>=4.5.1 in /usr/local/lib/python3.6/dist-packages (from ipywidgets->pycaret) (4.10.1)\n",
            "Requirement already satisfied: nbformat>=4.2.0 in /usr/local/lib/python3.6/dist-packages (from ipywidgets->pycaret) (5.0.7)\n",
            "Requirement already satisfied: widgetsnbextension~=3.5.0 in /usr/local/lib/python3.6/dist-packages (from ipywidgets->pycaret) (3.5.1)\n",
            "Collecting rsa<=3.5.0,>=3.1.2\n",
            "\u001b[?25l  Downloading https://files.pythonhosted.org/packages/e1/ae/baedc9cb175552e95f3395c43055a6a5e125ae4d48a1d7a924baca83e92e/rsa-3.4.2-py2.py3-none-any.whl (46kB)\n",
            "\u001b[K     |████████████████████████████████| 51kB 5.8MB/s \n",
            "\u001b[?25hRequirement already satisfied: docutils<0.16,>=0.10 in /usr/local/lib/python3.6/dist-packages (from awscli->pycaret) (0.15.2)\n",
            "Requirement already satisfied: PyYAML<5.4,>=3.10; python_version != \"3.4\" in /usr/local/lib/python3.6/dist-packages (from awscli->pycaret) (3.13)\n",
            "Collecting botocore==1.17.19\n",
            "\u001b[?25l  Downloading https://files.pythonhosted.org/packages/e4/33/60eb84ff5dfb26a0c3ae606ba42686f23e9fd5038afddd5882d37623d589/botocore-1.17.19-py2.py3-none-any.whl (6.3MB)\n",
            "\u001b[K     |████████████████████████████████| 6.3MB 31.3MB/s \n",
            "\u001b[?25hCollecting colorama<0.4.4,>=0.2.5; python_version != \"3.4\"\n",
            "  Downloading https://files.pythonhosted.org/packages/c9/dc/45cdef1b4d119eb96316b3117e6d5708a08029992b2fee2c143c7a0a5cc5/colorama-0.4.3-py2.py3-none-any.whl\n",
            "Requirement already satisfied: s3transfer<0.4.0,>=0.3.0 in /usr/local/lib/python3.6/dist-packages (from awscli->pycaret) (0.3.3)\n",
            "Requirement already satisfied: blis<0.5.0,>=0.4.0 in /usr/local/lib/python3.6/dist-packages (from spacy->pycaret) (0.4.1)\n",
            "Requirement already satisfied: thinc==7.4.0 in /usr/local/lib/python3.6/dist-packages (from spacy->pycaret) (7.4.0)\n",
            "Requirement already satisfied: murmurhash<1.1.0,>=0.28.0 in /usr/local/lib/python3.6/dist-packages (from spacy->pycaret) (1.0.2)\n",
            "Requirement already satisfied: cymem<2.1.0,>=2.0.2 in /usr/local/lib/python3.6/dist-packages (from spacy->pycaret) (2.0.3)\n",
            "Requirement already satisfied: wasabi<1.1.0,>=0.4.0 in /usr/local/lib/python3.6/dist-packages (from spacy->pycaret) (0.7.0)\n",
            "Requirement already satisfied: plac<1.2.0,>=0.9.6 in /usr/local/lib/python3.6/dist-packages (from spacy->pycaret) (1.1.3)\n",
            "Requirement already satisfied: requests<3.0.0,>=2.13.0 in /usr/local/lib/python3.6/dist-packages (from spacy->pycaret) (2.23.0)\n",
            "Requirement already satisfied: catalogue<1.1.0,>=0.0.7 in /usr/local/lib/python3.6/dist-packages (from spacy->pycaret) (1.0.0)\n",
            "Requirement already satisfied: preshed<3.1.0,>=3.0.2 in /usr/local/lib/python3.6/dist-packages (from spacy->pycaret) (3.0.2)\n",
            "Requirement already satisfied: srsly<1.1.0,>=1.0.2 in /usr/local/lib/python3.6/dist-packages (from spacy->pycaret) (1.0.2)\n",
            "Requirement already satisfied: cycler>=0.10.0 in /usr/local/lib/python3.6/dist-packages (from yellowbrick==1.0.1->pycaret) (0.10.0)\n",
            "Requirement already satisfied: kiwisolver>=1.0.1 in /usr/local/lib/python3.6/dist-packages (from matplotlib->pycaret) (1.2.0)\n",
            "Requirement already satisfied: pyparsing!=2.0.4,!=2.1.2,!=2.1.6,>=2.0.1 in /usr/local/lib/python3.6/dist-packages (from matplotlib->pycaret) (2.4.7)\n",
            "Requirement already satisfied: MarkupSafe>=0.23 in /usr/local/lib/python3.6/dist-packages (from jinja2>=2.7.2->pyLDAvis->pycaret) (1.1.1)\n",
            "Requirement already satisfied: atomicwrites>=1.0 in /usr/local/lib/python3.6/dist-packages (from pytest->pyLDAvis->pycaret) (1.4.0)\n",
            "Requirement already satisfied: attrs>=17.4.0 in /usr/local/lib/python3.6/dist-packages (from pytest->pyLDAvis->pycaret) (19.3.0)\n",
            "Requirement already satisfied: more-itertools>=4.0.0 in /usr/local/lib/python3.6/dist-packages (from pytest->pyLDAvis->pycaret) (8.4.0)\n",
            "Requirement already satisfied: py>=1.5.0 in /usr/local/lib/python3.6/dist-packages (from pytest->pyLDAvis->pycaret) (1.8.2)\n",
            "Requirement already satisfied: pluggy<0.8,>=0.5 in /usr/local/lib/python3.6/dist-packages (from pytest->pyLDAvis->pycaret) (0.7.1)\n",
            "Requirement already satisfied: boto3 in /usr/local/lib/python3.6/dist-packages (from smart-open>=1.2.1->gensim->pycaret) (1.14.9)\n",
            "Requirement already satisfied: boto in /usr/local/lib/python3.6/dist-packages (from smart-open>=1.2.1->gensim->pycaret) (2.49.0)\n",
            "Requirement already satisfied: ipython-genutils in /usr/local/lib/python3.6/dist-packages (from traitlets>=4.2->IPython->pycaret) (0.2.0)\n",
            "Requirement already satisfied: wcwidth in /usr/local/lib/python3.6/dist-packages (from prompt-toolkit<2.0.0,>=1.0.4->IPython->pycaret) (0.2.5)\n",
            "Requirement already satisfied: ptyprocess>=0.5 in /usr/local/lib/python3.6/dist-packages (from pexpect; sys_platform != \"win32\"->IPython->pycaret) (0.6.0)\n",
            "Requirement already satisfied: llvmlite<0.32.0,>=0.31.0dev0 in /usr/local/lib/python3.6/dist-packages (from numba!=0.47,>=0.46->umap-learn->pycaret) (0.31.0)\n",
            "Requirement already satisfied: jupyter-client in /usr/local/lib/python3.6/dist-packages (from ipykernel>=4.5.1->ipywidgets->pycaret) (5.3.4)\n",
            "Requirement already satisfied: tornado>=4.0 in /usr/local/lib/python3.6/dist-packages (from ipykernel>=4.5.1->ipywidgets->pycaret) (4.5.3)\n",
            "Requirement already satisfied: jsonschema!=2.5.0,>=2.4 in /usr/local/lib/python3.6/dist-packages (from nbformat>=4.2.0->ipywidgets->pycaret) (2.6.0)\n",
            "Requirement already satisfied: jupyter-core in /usr/local/lib/python3.6/dist-packages (from nbformat>=4.2.0->ipywidgets->pycaret) (4.6.3)\n",
            "Requirement already satisfied: notebook>=4.4.1 in /usr/local/lib/python3.6/dist-packages (from widgetsnbextension~=3.5.0->ipywidgets->pycaret) (5.2.2)\n",
            "Requirement already satisfied: pyasn1>=0.1.3 in /usr/local/lib/python3.6/dist-packages (from rsa<=3.5.0,>=3.1.2->awscli->pycaret) (0.4.8)\n",
            "Requirement already satisfied: urllib3<1.26,>=1.20; python_version != \"3.4\" in /usr/local/lib/python3.6/dist-packages (from botocore==1.17.19->awscli->pycaret) (1.24.3)\n",
            "Requirement already satisfied: jmespath<1.0.0,>=0.7.1 in /usr/local/lib/python3.6/dist-packages (from botocore==1.17.19->awscli->pycaret) (0.10.0)\n",
            "Requirement already satisfied: certifi>=2017.4.17 in /usr/local/lib/python3.6/dist-packages (from requests<3.0.0,>=2.13.0->spacy->pycaret) (2020.6.20)\n",
            "Requirement already satisfied: chardet<4,>=3.0.2 in /usr/local/lib/python3.6/dist-packages (from requests<3.0.0,>=2.13.0->spacy->pycaret) (3.0.4)\n",
            "Requirement already satisfied: idna<3,>=2.5 in /usr/local/lib/python3.6/dist-packages (from requests<3.0.0,>=2.13.0->spacy->pycaret) (2.9)\n",
            "Requirement already satisfied: importlib-metadata>=0.20; python_version < \"3.8\" in /usr/local/lib/python3.6/dist-packages (from catalogue<1.1.0,>=0.0.7->spacy->pycaret) (1.6.1)\n",
            "Requirement already satisfied: pyzmq>=13 in /usr/local/lib/python3.6/dist-packages (from jupyter-client->ipykernel>=4.5.1->ipywidgets->pycaret) (19.0.1)\n",
            "Requirement already satisfied: nbconvert in /usr/local/lib/python3.6/dist-packages (from notebook>=4.4.1->widgetsnbextension~=3.5.0->ipywidgets->pycaret) (5.6.1)\n",
            "Requirement already satisfied: terminado>=0.3.3; sys_platform != \"win32\" in /usr/local/lib/python3.6/dist-packages (from notebook>=4.4.1->widgetsnbextension~=3.5.0->ipywidgets->pycaret) (0.8.3)\n",
            "Requirement already satisfied: zipp>=0.5 in /usr/local/lib/python3.6/dist-packages (from importlib-metadata>=0.20; python_version < \"3.8\"->catalogue<1.1.0,>=0.0.7->spacy->pycaret) (3.1.0)\n",
            "Requirement already satisfied: pandocfilters>=1.4.1 in /usr/local/lib/python3.6/dist-packages (from nbconvert->notebook>=4.4.1->widgetsnbextension~=3.5.0->ipywidgets->pycaret) (1.4.2)\n",
            "Requirement already satisfied: mistune<2,>=0.8.1 in /usr/local/lib/python3.6/dist-packages (from nbconvert->notebook>=4.4.1->widgetsnbextension~=3.5.0->ipywidgets->pycaret) (0.8.4)\n",
            "Requirement already satisfied: testpath in /usr/local/lib/python3.6/dist-packages (from nbconvert->notebook>=4.4.1->widgetsnbextension~=3.5.0->ipywidgets->pycaret) (0.4.4)\n",
            "Requirement already satisfied: defusedxml in /usr/local/lib/python3.6/dist-packages (from nbconvert->notebook>=4.4.1->widgetsnbextension~=3.5.0->ipywidgets->pycaret) (0.6.0)\n",
            "Requirement already satisfied: bleach in /usr/local/lib/python3.6/dist-packages (from nbconvert->notebook>=4.4.1->widgetsnbextension~=3.5.0->ipywidgets->pycaret) (3.1.5)\n",
            "Requirement already satisfied: entrypoints>=0.2.2 in /usr/local/lib/python3.6/dist-packages (from nbconvert->notebook>=4.4.1->widgetsnbextension~=3.5.0->ipywidgets->pycaret) (0.3)\n",
            "Requirement already satisfied: webencodings in /usr/local/lib/python3.6/dist-packages (from bleach->nbconvert->notebook>=4.4.1->widgetsnbextension~=3.5.0->ipywidgets->pycaret) (0.5.1)\n",
            "Requirement already satisfied: packaging in /usr/local/lib/python3.6/dist-packages (from bleach->nbconvert->notebook>=4.4.1->widgetsnbextension~=3.5.0->ipywidgets->pycaret) (20.4)\n",
            "Building wheels for collected packages: pyLDAvis, cufflinks, shap, pandas-profiling, pyod, funcy, htmlmin, combo, suod\n",
            "  Building wheel for pyLDAvis (setup.py) ... \u001b[?25l\u001b[?25hdone\n",
            "  Created wheel for pyLDAvis: filename=pyLDAvis-2.1.2-py2.py3-none-any.whl size=97711 sha256=9f888d8ab7fd8af71c368cadb169de9dc0f7aa6fe4255839d209c803cd1e0992\n",
            "  Stored in directory: /root/.cache/pip/wheels/98/71/24/513a99e58bb6b8465bae4d2d5e9dba8f0bef8179e3051ac414\n",
            "  Building wheel for cufflinks (setup.py) ... \u001b[?25l\u001b[?25hdone\n",
            "  Created wheel for cufflinks: filename=cufflinks-0.17.0-cp36-none-any.whl size=67744 sha256=9147f211fc8adb5577a1489c8dad75102c516fc7b56fc7caaf72b1b5fafc9e49\n",
            "  Stored in directory: /root/.cache/pip/wheels/44/d7/dc/e830ab00bc2dd3b2731295103baa070f8cbdda8891f71a7a8d\n",
            "  Building wheel for shap (setup.py) ... \u001b[?25l\u001b[?25hdone\n",
            "  Created wheel for shap: filename=shap-0.32.1-cp36-cp36m-linux_x86_64.whl size=376821 sha256=8300ee193e6d214e808d30d9e668b472689c95b58ed630ec894321aeea575fe1\n",
            "  Stored in directory: /root/.cache/pip/wheels/8e/b2/50/8fadb5a59789cb5bdeb01b800223be540651ae92915172050b\n",
            "  Building wheel for pandas-profiling (setup.py) ... \u001b[?25l\u001b[?25hdone\n",
            "  Created wheel for pandas-profiling: filename=pandas_profiling-2.3.0-py2.py3-none-any.whl size=145035 sha256=6465fa3cbb8765ab81c57624a70c112e50a916c8a6efdd48408b09d02ddf92b1\n",
            "  Stored in directory: /root/.cache/pip/wheels/ce/c7/f1/dbfef4848ebb048cb1d4a22d1ed0c62d8ff2523747235e19fe\n",
            "  Building wheel for pyod (setup.py) ... \u001b[?25l\u001b[?25hdone\n",
            "  Created wheel for pyod: filename=pyod-0.8.1-cp36-none-any.whl size=105653 sha256=43276965e08baf388d5de4049951198fc2f0397a4ad223ddc59c72c0eeff756d\n",
            "  Stored in directory: /root/.cache/pip/wheels/2e/ca/18/727e9d98a41f5f4385a97d5b429f3a9c8fbee13f9780c18642\n",
            "  Building wheel for funcy (setup.py) ... \u001b[?25l\u001b[?25hdone\n",
            "  Created wheel for funcy: filename=funcy-1.14-py2.py3-none-any.whl size=32042 sha256=7a67f1fb6f16085d1898e474e8600dc6474cf46a4d8f1ebeb7ade53b5fc31d4d\n",
            "  Stored in directory: /root/.cache/pip/wheels/20/5a/d8/1d875df03deae6f178dfdf70238cca33f948ef8a6f5209f2eb\n",
            "  Building wheel for htmlmin (setup.py) ... \u001b[?25l\u001b[?25hdone\n",
            "  Created wheel for htmlmin: filename=htmlmin-0.1.12-cp36-none-any.whl size=27084 sha256=5155430b2879b61145ea8d01e11f8bc94c94333fbbd5d3a55e7058aa8a123449\n",
            "  Stored in directory: /root/.cache/pip/wheels/43/07/ac/7c5a9d708d65247ac1f94066cf1db075540b85716c30255459\n",
            "  Building wheel for combo (setup.py) ... \u001b[?25l\u001b[?25hdone\n",
            "  Created wheel for combo: filename=combo-0.1.1-cp36-none-any.whl size=42111 sha256=57ecc6525b710cf56309404936675e80f12907e86ba3e569dfc8154389b345ae\n",
            "  Stored in directory: /root/.cache/pip/wheels/55/ec/e5/a2331372c676c467e70c6646e646edf6997d5c4905b8c0f5e6\n",
            "  Building wheel for suod (setup.py) ... \u001b[?25l\u001b[?25hdone\n",
            "  Created wheel for suod: filename=suod-0.0.4-cp36-none-any.whl size=2167157 sha256=4055bfbb414159843fb0e7ec73139e492d05b1578631b0a9482e9d2b0f5e893e\n",
            "  Stored in directory: /root/.cache/pip/wheels/57/55/e5/a4fca65bba231f6d0115059b589148774b41faea25b3f2aa27\n",
            "Successfully built pyLDAvis cufflinks shap pandas-profiling pyod funcy htmlmin combo suod\n",
            "Installing collected packages: funcy, pyLDAvis, chart-studio, cufflinks, datefinder, scikit-learn, kmodes, shap, zope.interface, datetime, catboost, htmlmin, phik, confuse, pandas-profiling, combo, suod, pyod, rsa, botocore, colorama, awscli, lightgbm, yellowbrick, pycaret\n",
            "  Found existing installation: cufflinks 0.17.3\n",
            "    Uninstalling cufflinks-0.17.3:\n",
            "      Successfully uninstalled cufflinks-0.17.3\n",
            "  Found existing installation: scikit-learn 0.22.2.post1\n",
            "    Uninstalling scikit-learn-0.22.2.post1:\n",
            "      Successfully uninstalled scikit-learn-0.22.2.post1\n",
            "  Found existing installation: pandas-profiling 1.4.1\n",
            "    Uninstalling pandas-profiling-1.4.1:\n",
            "      Successfully uninstalled pandas-profiling-1.4.1\n",
            "  Found existing installation: rsa 4.6\n",
            "    Uninstalling rsa-4.6:\n",
            "      Successfully uninstalled rsa-4.6\n",
            "  Found existing installation: botocore 1.17.9\n",
            "    Uninstalling botocore-1.17.9:\n",
            "      Successfully uninstalled botocore-1.17.9\n",
            "  Found existing installation: lightgbm 2.2.3\n",
            "    Uninstalling lightgbm-2.2.3:\n",
            "      Successfully uninstalled lightgbm-2.2.3\n",
            "  Found existing installation: yellowbrick 0.9.1\n",
            "    Uninstalling yellowbrick-0.9.1:\n",
            "      Successfully uninstalled yellowbrick-0.9.1\n",
            "Successfully installed awscli-1.18.96 botocore-1.17.19 catboost-0.20.2 chart-studio-1.1.0 colorama-0.4.3 combo-0.1.1 confuse-1.3.0 cufflinks-0.17.0 datefinder-0.7.0 datetime-4.3 funcy-1.14 htmlmin-0.1.12 kmodes-0.10.1 lightgbm-2.3.1 pandas-profiling-2.3.0 phik-0.10.0 pyLDAvis-2.1.2 pycaret-1.0.0 pyod-0.8.1 rsa-3.4.2 scikit-learn-0.22 shap-0.32.1 suod-0.0.4 yellowbrick-1.0.1 zope.interface-5.1.0\n"
          ],
          "name": "stdout"
        },
        {
          "output_type": "display_data",
          "data": {
            "application/vnd.colab-display-data+json": {
              "pip_warning": {
                "packages": [
                  "rsa"
                ]
              }
            }
          },
          "metadata": {
            "tags": []
          }
        }
      ]
    },
    {
      "cell_type": "code",
      "metadata": {
        "id": "lDHEmUk_lFCN",
        "colab_type": "code",
        "colab": {
          "base_uri": "https://localhost:8080/",
          "height": 71
        },
        "outputId": "2002942f-9f1a-479e-bbc1-25f1e1c3d82a"
      },
      "source": [
        "import pandas as pd\n",
        "import numpy as np\n",
        "import matplotlib.pyplot as plt\n",
        "import seaborn\n",
        "import pprint as pp\n",
        "\n",
        "from sklearn.model_selection import train_test_split\n",
        "\n",
        "import spacy\n",
        "\n",
        "from collections import defaultdict\n",
        "\n",
        "from gensim import corpora\n",
        "from gensim import models\n",
        "from gensim import similarities\n",
        "from gensim.utils import simple_preprocess\n",
        "from gensim.utils import lemmatize\n",
        "\n",
        "from pycaret.regression import *"
      ],
      "execution_count": 1,
      "outputs": [
        {
          "output_type": "stream",
          "text": [
            "/usr/local/lib/python3.6/dist-packages/statsmodels/tools/_testing.py:19: FutureWarning: pandas.util.testing is deprecated. Use the functions in the public API at pandas.testing instead.\n",
            "  import pandas.util.testing as tm\n"
          ],
          "name": "stderr"
        }
      ]
    },
    {
      "cell_type": "markdown",
      "metadata": {
        "id": "FWovoAVQvLIK",
        "colab_type": "text"
      },
      "source": [
        "# Kaggle"
      ]
    },
    {
      "cell_type": "code",
      "metadata": {
        "id": "DuhS26l9vLba",
        "colab_type": "code",
        "colab": {
          "base_uri": "https://localhost:8080/",
          "height": 224
        },
        "outputId": "101dd43f-11af-4fb8-fb6d-debd3c6246a2"
      },
      "source": [
        "!pip install kaggle\n",
        "!mkdir -p ~/.kaggle"
      ],
      "execution_count": 2,
      "outputs": [
        {
          "output_type": "stream",
          "text": [
            "Requirement already satisfied: kaggle in /usr/local/lib/python3.6/dist-packages (1.5.6)\n",
            "Requirement already satisfied: tqdm in /usr/local/lib/python3.6/dist-packages (from kaggle) (4.41.1)\n",
            "Requirement already satisfied: certifi in /usr/local/lib/python3.6/dist-packages (from kaggle) (2020.6.20)\n",
            "Requirement already satisfied: python-slugify in /usr/local/lib/python3.6/dist-packages (from kaggle) (4.0.0)\n",
            "Requirement already satisfied: python-dateutil in /usr/local/lib/python3.6/dist-packages (from kaggle) (2.8.1)\n",
            "Requirement already satisfied: requests in /usr/local/lib/python3.6/dist-packages (from kaggle) (2.23.0)\n",
            "Requirement already satisfied: urllib3<1.25,>=1.21.1 in /usr/local/lib/python3.6/dist-packages (from kaggle) (1.24.3)\n",
            "Requirement already satisfied: six>=1.10 in /usr/local/lib/python3.6/dist-packages (from kaggle) (1.12.0)\n",
            "Requirement already satisfied: text-unidecode>=1.3 in /usr/local/lib/python3.6/dist-packages (from python-slugify->kaggle) (1.3)\n",
            "Requirement already satisfied: idna<3,>=2.5 in /usr/local/lib/python3.6/dist-packages (from requests->kaggle) (2.9)\n",
            "Requirement already satisfied: chardet<4,>=3.0.2 in /usr/local/lib/python3.6/dist-packages (from requests->kaggle) (3.0.4)\n"
          ],
          "name": "stdout"
        }
      ]
    },
    {
      "cell_type": "code",
      "metadata": {
        "id": "zBgCJawsvQnC",
        "colab_type": "code",
        "colab": {}
      },
      "source": [
        "from google.colab import files\n",
        "files.upload()"
      ],
      "execution_count": null,
      "outputs": []
    },
    {
      "cell_type": "code",
      "metadata": {
        "id": "du54xlsZvQlB",
        "colab_type": "code",
        "colab": {}
      },
      "source": [
        "!mv kaggle.json ~/.kaggle\n",
        "!chmod 600 ~/.kaggle/kaggle.json"
      ],
      "execution_count": 4,
      "outputs": []
    },
    {
      "cell_type": "markdown",
      "metadata": {
        "id": "9Qa7AyUKkLXf",
        "colab_type": "text"
      },
      "source": [
        "# Data"
      ]
    },
    {
      "cell_type": "markdown",
      "metadata": {
        "id": "5KOuk-dRMqA8",
        "colab_type": "text"
      },
      "source": [
        "## Seattle"
      ]
    },
    {
      "cell_type": "code",
      "metadata": {
        "id": "iS5HtE0DMwHZ",
        "colab_type": "code",
        "colab": {
          "base_uri": "https://localhost:8080/",
          "height": 68
        },
        "outputId": "7444a2d5-2236-43ce-8ae0-f6057501ad85"
      },
      "source": [
        "!kaggle datasets download -d shanelev/seattle-airbnb-listings"
      ],
      "execution_count": 5,
      "outputs": [
        {
          "output_type": "stream",
          "text": [
            "Downloading seattle-airbnb-listings.zip to /content\n",
            "\r  0% 0.00/533k [00:00<?, ?B/s]\n",
            "\r100% 533k/533k [00:00<00:00, 36.4MB/s]\n"
          ],
          "name": "stdout"
        }
      ]
    },
    {
      "cell_type": "code",
      "metadata": {
        "id": "JvTy5vT6oEq1",
        "colab_type": "code",
        "colab": {}
      },
      "source": [
        "!unzip -q seattle-airbnb-listings.zip"
      ],
      "execution_count": 6,
      "outputs": []
    },
    {
      "cell_type": "code",
      "metadata": {
        "id": "q1U41emWoJed",
        "colab_type": "code",
        "colab": {
          "base_uri": "https://localhost:8080/",
          "height": 34
        },
        "outputId": "ed1b1efb-2746-4d76-9e8e-5bb8d685e4d2"
      },
      "source": [
        "!ls"
      ],
      "execution_count": 7,
      "outputs": [
        {
          "output_type": "stream",
          "text": [
            "sample_data  seattle_01.csv  seattle-airbnb-listings.zip\n"
          ],
          "name": "stdout"
        }
      ]
    },
    {
      "cell_type": "code",
      "metadata": {
        "id": "DXccWkG7oMHO",
        "colab_type": "code",
        "colab": {}
      },
      "source": [
        "seattle_df = pd.read_csv('seattle_01.csv')"
      ],
      "execution_count": 8,
      "outputs": []
    },
    {
      "cell_type": "code",
      "metadata": {
        "id": "VzrO0d7EoPWu",
        "colab_type": "code",
        "colab": {
          "base_uri": "https://localhost:8080/",
          "height": 581
        },
        "outputId": "fe019ee5-2766-4d4a-aa09-46cc326a9ab5"
      },
      "source": [
        "seattle_df.head()"
      ],
      "execution_count": 9,
      "outputs": [
        {
          "output_type": "execute_result",
          "data": {
            "text/html": [
              "<div>\n",
              "<style scoped>\n",
              "    .dataframe tbody tr th:only-of-type {\n",
              "        vertical-align: middle;\n",
              "    }\n",
              "\n",
              "    .dataframe tbody tr th {\n",
              "        vertical-align: top;\n",
              "    }\n",
              "\n",
              "    .dataframe thead th {\n",
              "        text-align: right;\n",
              "    }\n",
              "</style>\n",
              "<table border=\"1\" class=\"dataframe\">\n",
              "  <thead>\n",
              "    <tr style=\"text-align: right;\">\n",
              "      <th></th>\n",
              "      <th>Unnamed: 0</th>\n",
              "      <th>room_id</th>\n",
              "      <th>host_id</th>\n",
              "      <th>room_type</th>\n",
              "      <th>address</th>\n",
              "      <th>reviews</th>\n",
              "      <th>overall_satisfaction</th>\n",
              "      <th>accommodates</th>\n",
              "      <th>bedrooms</th>\n",
              "      <th>bathrooms</th>\n",
              "      <th>price</th>\n",
              "      <th>last_modified</th>\n",
              "      <th>latitude</th>\n",
              "      <th>longitude</th>\n",
              "      <th>location</th>\n",
              "      <th>name</th>\n",
              "      <th>currency</th>\n",
              "      <th>rate_type</th>\n",
              "    </tr>\n",
              "  </thead>\n",
              "  <tbody>\n",
              "    <tr>\n",
              "      <th>0</th>\n",
              "      <td>0</td>\n",
              "      <td>2318</td>\n",
              "      <td>2536</td>\n",
              "      <td>Entire home/apt</td>\n",
              "      <td>Seattle, WA, United States</td>\n",
              "      <td>21</td>\n",
              "      <td>5.0</td>\n",
              "      <td>8</td>\n",
              "      <td>4.0</td>\n",
              "      <td>2.5</td>\n",
              "      <td>250</td>\n",
              "      <td>2018-12-20 03:46:14.698548</td>\n",
              "      <td>47.610819</td>\n",
              "      <td>-122.290816</td>\n",
              "      <td>0101000020E6100000D449B6BA9C925EC0416326512FCE...</td>\n",
              "      <td>Casa Madrona - Urban Oasis, 1 block from the P...</td>\n",
              "      <td>USD</td>\n",
              "      <td>nightly</td>\n",
              "    </tr>\n",
              "    <tr>\n",
              "      <th>1</th>\n",
              "      <td>1</td>\n",
              "      <td>3335</td>\n",
              "      <td>4193</td>\n",
              "      <td>Entire home/apt</td>\n",
              "      <td>Seattle, WA, United States</td>\n",
              "      <td>1</td>\n",
              "      <td>NaN</td>\n",
              "      <td>4</td>\n",
              "      <td>2.0</td>\n",
              "      <td>1.0</td>\n",
              "      <td>100</td>\n",
              "      <td>2018-12-20 04:08:45.277643</td>\n",
              "      <td>47.529846</td>\n",
              "      <td>-122.275840</td>\n",
              "      <td>0101000020E61000006FBBD05CA7915EC04DF564FED1C3...</td>\n",
              "      <td>Sweet Seattle Urban Homestead 2 Bdr</td>\n",
              "      <td>USD</td>\n",
              "      <td>nightly</td>\n",
              "    </tr>\n",
              "    <tr>\n",
              "      <th>2</th>\n",
              "      <td>2</td>\n",
              "      <td>4291</td>\n",
              "      <td>35749</td>\n",
              "      <td>Private room</td>\n",
              "      <td>Seattle, WA, United States</td>\n",
              "      <td>63</td>\n",
              "      <td>4.5</td>\n",
              "      <td>2</td>\n",
              "      <td>1.0</td>\n",
              "      <td>1.0</td>\n",
              "      <td>82</td>\n",
              "      <td>2018-12-20 03:04:19.861014</td>\n",
              "      <td>47.687801</td>\n",
              "      <td>-122.313427</td>\n",
              "      <td>0101000020E6100000BDAB1E300F945EC0FB93F8DC09D8...</td>\n",
              "      <td>Sunrise in Seattle Master Suite</td>\n",
              "      <td>USD</td>\n",
              "      <td>nightly</td>\n",
              "    </tr>\n",
              "    <tr>\n",
              "      <th>3</th>\n",
              "      <td>3</td>\n",
              "      <td>5682</td>\n",
              "      <td>8993</td>\n",
              "      <td>Entire home/apt</td>\n",
              "      <td>Seattle, WA, United States</td>\n",
              "      <td>462</td>\n",
              "      <td>5.0</td>\n",
              "      <td>2</td>\n",
              "      <td>0.0</td>\n",
              "      <td>1.0</td>\n",
              "      <td>49</td>\n",
              "      <td>2018-12-20 04:11:25.482975</td>\n",
              "      <td>47.523980</td>\n",
              "      <td>-122.359891</td>\n",
              "      <td>0101000020E6100000FCC7427408975EC009E1D1C611C3...</td>\n",
              "      <td>Cozy Studio, min. to downtown -WiFi</td>\n",
              "      <td>USD</td>\n",
              "      <td>nightly</td>\n",
              "    </tr>\n",
              "    <tr>\n",
              "      <th>4</th>\n",
              "      <td>4</td>\n",
              "      <td>6606</td>\n",
              "      <td>14942</td>\n",
              "      <td>Entire home/apt</td>\n",
              "      <td>Seattle, WA, United States</td>\n",
              "      <td>134</td>\n",
              "      <td>4.5</td>\n",
              "      <td>2</td>\n",
              "      <td>1.0</td>\n",
              "      <td>1.0</td>\n",
              "      <td>90</td>\n",
              "      <td>2018-12-20 03:12:38.391711</td>\n",
              "      <td>47.654109</td>\n",
              "      <td>-122.337605</td>\n",
              "      <td>0101000020E6100000D47D00529B955EC07782FDD7B9D3...</td>\n",
              "      <td>Fab, private seattle urban cottage!</td>\n",
              "      <td>USD</td>\n",
              "      <td>nightly</td>\n",
              "    </tr>\n",
              "  </tbody>\n",
              "</table>\n",
              "</div>"
            ],
            "text/plain": [
              "   Unnamed: 0  room_id  ...  currency rate_type\n",
              "0           0     2318  ...       USD   nightly\n",
              "1           1     3335  ...       USD   nightly\n",
              "2           2     4291  ...       USD   nightly\n",
              "3           3     5682  ...       USD   nightly\n",
              "4           4     6606  ...       USD   nightly\n",
              "\n",
              "[5 rows x 18 columns]"
            ]
          },
          "metadata": {
            "tags": []
          },
          "execution_count": 9
        }
      ]
    },
    {
      "cell_type": "code",
      "metadata": {
        "id": "GSNny7ft2XSe",
        "colab_type": "code",
        "colab": {
          "base_uri": "https://localhost:8080/",
          "height": 34
        },
        "outputId": "1c3cb3e4-8946-48a2-9f0f-4b1db86a8420"
      },
      "source": [
        "len(seattle_df)"
      ],
      "execution_count": 10,
      "outputs": [
        {
          "output_type": "execute_result",
          "data": {
            "text/plain": [
              "7576"
            ]
          },
          "metadata": {
            "tags": []
          },
          "execution_count": 10
        }
      ]
    },
    {
      "cell_type": "markdown",
      "metadata": {
        "id": "AkVqUmaOfJwB",
        "colab_type": "text"
      },
      "source": [
        "# Latent Semantic Analysis - LSA\n",
        "* Sometimes called Latent Semantic Indexing - LSI\n",
        "* Organize documents into topics\n",
        "* The topics are hidden (latent)\n",
        "* We can specify how many topics"
      ]
    },
    {
      "cell_type": "markdown",
      "metadata": {
        "id": "-iTRLFJYTFsP",
        "colab_type": "text"
      },
      "source": [
        "## Technical Notes\n",
        "* Construct a Document-Term matrix\n",
        "  * Rows = Documents\n",
        "  * Columns = Terms\n",
        "  * Cells = Frequency of words\n",
        "* Convert Document-Term matrix into TF-IDF Matrix\n",
        "  * TF = Term Frequency\n",
        "  * IDF = Inverse Document Frequency\n",
        "  * Intuition:\n",
        "    * TF - Word occurs frequently it's likely important\n",
        "    * Stopwords are a problem (The, an, and) - occur frequenty in documents\n",
        "    * IDF - If a word is rare considering all the documents it's likely more important\n",
        "    * How rare is too rare?  Minimum threshold of appearances\n",
        "\n",
        "![alt text](https://cdn.searchenginejournal.com/wp-content/uploads/2019/10/screenshot-1.png)\n",
        "\n",
        "* Use matrix factorization to reduce dimensionality\n",
        "  * Squeeze to K-dimensions\n",
        "  * K is the number of topics\n",
        "* LSA == PCA \n",
        "  * PCA - Principal Components\n",
        "    * Find matrix U * V that approximates TF-IDF matrix\n",
        "    * Minimize difference between TF-IDF and U * V\n",
        "  * SVD - Singular value decomposition \n",
        "    * Increase explainability by constraining number of topics\n",
        "  * NNMF - Non-Negative Matrix Factorization \n",
        "    * SVD + constraint where U & V > 0\n",
        "* Truncated SVD yields three matrixes \n",
        "  * We can multiply them back together to approximate the original TF-IDF matrix\n",
        "  * SVD decomposes a matrix into three other matrices. \n",
        "  * U* S * VT\n",
        "  * U [Documents X Topics]\n",
        "  * S [Topics X Topics] = Amount of Variance Explained\n",
        "  * VT [Topics X Terms]\n",
        "![alt text](https://cdn.analyticsvidhya.com/wp-content/uploads/2018/09/Screenshot_7.png)\n"
      ]
    },
    {
      "cell_type": "markdown",
      "metadata": {
        "id": "jZ_xcKKrToYM",
        "colab_type": "text"
      },
      "source": [
        "# Gensim Example \n",
        "![alt text](https://repository-images.githubusercontent.com/1349775/202c4680-8f7c-11e9-91c6-745fdcbeffe8)"
      ]
    },
    {
      "cell_type": "code",
      "metadata": {
        "id": "mJVLsC8n1u2J",
        "colab_type": "code",
        "colab": {}
      },
      "source": [
        "documents = [\n",
        "    \"Human machine interface for lab abc computer applications May 10, 2000\",\n",
        "    \"A survey of user opinion of computer system response time\",\n",
        "    \"The EPS user interface management system\",\n",
        "    \"System and human system engineering testing of EPS\",\n",
        "    \"Relation of user perceived response time to error measurement\",\n",
        "    \"The generation of random binary unordered trees\",\n",
        "    \"The intersection graph of paths in trees\",\n",
        "    \"Graph minors IV Widths of trees and well quasi ordering\",\n",
        "    \"Graph minors A survey\",\n",
        "]"
      ],
      "execution_count": 11,
      "outputs": []
    },
    {
      "cell_type": "markdown",
      "metadata": {
        "id": "KQkcM4Gz7it8",
        "colab_type": "text"
      },
      "source": [
        "## Documents"
      ]
    },
    {
      "cell_type": "code",
      "metadata": {
        "id": "jFo2ZzhH7gyh",
        "colab_type": "code",
        "colab": {
          "base_uri": "https://localhost:8080/",
          "height": 170
        },
        "outputId": "3e35fc8f-3ad6-4078-ee27-ff8e87291f2a"
      },
      "source": [
        "pp.pprint(documents)"
      ],
      "execution_count": 12,
      "outputs": [
        {
          "output_type": "stream",
          "text": [
            "['Human machine interface for lab abc computer applications May 10, 2000',\n",
            " 'A survey of user opinion of computer system response time',\n",
            " 'The EPS user interface management system',\n",
            " 'System and human system engineering testing of EPS',\n",
            " 'Relation of user perceived response time to error measurement',\n",
            " 'The generation of random binary unordered trees',\n",
            " 'The intersection graph of paths in trees',\n",
            " 'Graph minors IV Widths of trees and well quasi ordering',\n",
            " 'Graph minors A survey']\n"
          ],
          "name": "stdout"
        }
      ]
    },
    {
      "cell_type": "markdown",
      "metadata": {
        "id": "-0E25KOl7nEB",
        "colab_type": "text"
      },
      "source": [
        "## Tokenize\n",
        "* Remove stop words\n",
        "* Make lower case"
      ]
    },
    {
      "cell_type": "code",
      "metadata": {
        "id": "rlJ4LUhr7p_5",
        "colab_type": "code",
        "colab": {
          "base_uri": "https://localhost:8080/",
          "height": 323
        },
        "outputId": "39e8b3d2-d5eb-46e7-dfde-1db7197dc579"
      },
      "source": [
        "stoplist = set('for a of the and to in'.split()) # Where else can we get these\n",
        "texts = [\n",
        "    [word for word in document.lower().split() if word not in stoplist]\n",
        "    for document in documents\n",
        "]\n",
        "pp.pprint(texts)"
      ],
      "execution_count": 13,
      "outputs": [
        {
          "output_type": "stream",
          "text": [
            "[['human',\n",
            "  'machine',\n",
            "  'interface',\n",
            "  'lab',\n",
            "  'abc',\n",
            "  'computer',\n",
            "  'applications',\n",
            "  'may',\n",
            "  '10,',\n",
            "  '2000'],\n",
            " ['survey', 'user', 'opinion', 'computer', 'system', 'response', 'time'],\n",
            " ['eps', 'user', 'interface', 'management', 'system'],\n",
            " ['system', 'human', 'system', 'engineering', 'testing', 'eps'],\n",
            " ['relation', 'user', 'perceived', 'response', 'time', 'error', 'measurement'],\n",
            " ['generation', 'random', 'binary', 'unordered', 'trees'],\n",
            " ['intersection', 'graph', 'paths', 'trees'],\n",
            " ['graph', 'minors', 'iv', 'widths', 'trees', 'well', 'quasi', 'ordering'],\n",
            " ['graph', 'minors', 'survey']]\n"
          ],
          "name": "stdout"
        }
      ]
    },
    {
      "cell_type": "code",
      "metadata": {
        "id": "bhDQdq8PJq5M",
        "colab_type": "code",
        "colab": {
          "base_uri": "https://localhost:8080/",
          "height": 295
        },
        "outputId": "92b0d485-4840-4e3d-e903-8deeca2db508"
      },
      "source": [
        "plt.hist([len(t) for t in texts])\n",
        "plt.title('Document Length')\n",
        "plt.xlabel('Word Count')\n",
        "plt.ylabel('Frequency')\n",
        "plt.show()"
      ],
      "execution_count": 14,
      "outputs": [
        {
          "output_type": "display_data",
          "data": {
            "image/png": "[encoded data removed]",
            "text/plain": [
              "<Figure size 432x288 with 1 Axes>"
            ]
          },
          "metadata": {
            "tags": [],
            "needs_background": "light"
          }
        }
      ]
    },
    {
      "cell_type": "markdown",
      "metadata": {
        "id": "aG5lXhhQ71d9",
        "colab_type": "text"
      },
      "source": [
        "## Low Frequency Words\n",
        "* Drop words from the tokenized text appearing once"
      ]
    },
    {
      "cell_type": "code",
      "metadata": {
        "id": "rZlSnHeM75-z",
        "colab_type": "code",
        "colab": {
          "base_uri": "https://localhost:8080/",
          "height": 170
        },
        "outputId": "bffab140-79ee-41b8-a7f5-3ddf386d9ea5"
      },
      "source": [
        "frequency = defaultdict(int)\n",
        "for text in texts:\n",
        "    for token in text:\n",
        "        frequency[token] += 1\n",
        "\n",
        "texts = [\n",
        "    [token for token in text if frequency[token] > 1]\n",
        "    for text in texts\n",
        "]\n",
        "pp.pprint(texts)"
      ],
      "execution_count": 15,
      "outputs": [
        {
          "output_type": "stream",
          "text": [
            "[['human', 'interface', 'computer'],\n",
            " ['survey', 'user', 'computer', 'system', 'response', 'time'],\n",
            " ['eps', 'user', 'interface', 'system'],\n",
            " ['system', 'human', 'system', 'eps'],\n",
            " ['user', 'response', 'time'],\n",
            " ['trees'],\n",
            " ['graph', 'trees'],\n",
            " ['graph', 'minors', 'trees'],\n",
            " ['graph', 'minors', 'survey']]\n"
          ],
          "name": "stdout"
        }
      ]
    },
    {
      "cell_type": "code",
      "metadata": {
        "id": "ZR2waFfJKs_9",
        "colab_type": "code",
        "colab": {
          "base_uri": "https://localhost:8080/",
          "height": 295
        },
        "outputId": "e2b4d4d9-0341-4258-af5e-8f2083904c56"
      },
      "source": [
        "plt.hist([len(t) for t in texts])\n",
        "plt.title('Document Length')\n",
        "plt.xlabel('Word Count')\n",
        "plt.ylabel('Frequency')\n",
        "plt.show()"
      ],
      "execution_count": 16,
      "outputs": [
        {
          "output_type": "display_data",
          "data": {
            "image/png": "[encoded data removed]",
            "text/plain": [
              "<Figure size 432x288 with 1 Axes>"
            ]
          },
          "metadata": {
            "tags": [],
            "needs_background": "light"
          }
        }
      ]
    },
    {
      "cell_type": "markdown",
      "metadata": {
        "id": "U6bd5hIG8FX7",
        "colab_type": "text"
      },
      "source": [
        "## Dictionary"
      ]
    },
    {
      "cell_type": "code",
      "metadata": {
        "id": "3GdIw-2N8LSu",
        "colab_type": "code",
        "colab": {
          "base_uri": "https://localhost:8080/",
          "height": 258
        },
        "outputId": "3e7707d8-2d19-4355-9e68-26fc178c9d74"
      },
      "source": [
        "dictionary = corpora.Dictionary(texts)\n",
        "print(dictionary)\n",
        "for key in dictionary:\n",
        "  print(key, dictionary[key])"
      ],
      "execution_count": 17,
      "outputs": [
        {
          "output_type": "stream",
          "text": [
            "Dictionary(12 unique tokens: ['computer', 'human', 'interface', 'response', 'survey']...)\n",
            "0 computer\n",
            "1 human\n",
            "2 interface\n",
            "3 response\n",
            "4 survey\n",
            "5 system\n",
            "6 time\n",
            "7 user\n",
            "8 eps\n",
            "9 trees\n",
            "10 graph\n",
            "11 minors\n"
          ],
          "name": "stdout"
        }
      ]
    },
    {
      "cell_type": "markdown",
      "metadata": {
        "id": "xG5l7aM48asu",
        "colab_type": "text"
      },
      "source": [
        "## Bag of Words\n",
        "* Represented as list of tuples per document (word index, frequency)"
      ]
    },
    {
      "cell_type": "code",
      "metadata": {
        "id": "H2e-UOVu8eLo",
        "colab_type": "code",
        "colab": {
          "base_uri": "https://localhost:8080/",
          "height": 170
        },
        "outputId": "947920cf-0759-4431-eb0f-bb21a9d8139d"
      },
      "source": [
        "corpus = [dictionary.doc2bow(text) for text in texts]\n",
        "pp.pprint(corpus)"
      ],
      "execution_count": 18,
      "outputs": [
        {
          "output_type": "stream",
          "text": [
            "[[(0, 1), (1, 1), (2, 1)],\n",
            " [(0, 1), (3, 1), (4, 1), (5, 1), (6, 1), (7, 1)],\n",
            " [(2, 1), (5, 1), (7, 1), (8, 1)],\n",
            " [(1, 1), (5, 2), (8, 1)],\n",
            " [(3, 1), (6, 1), (7, 1)],\n",
            " [(9, 1)],\n",
            " [(9, 1), (10, 1)],\n",
            " [(9, 1), (10, 1), (11, 1)],\n",
            " [(4, 1), (10, 1), (11, 1)]]\n"
          ],
          "name": "stdout"
        }
      ]
    },
    {
      "cell_type": "markdown",
      "metadata": {
        "id": "PEJr6Gr98r3-",
        "colab_type": "text"
      },
      "source": [
        "## TF-IDF\n",
        "* Term Frequency - Inverse Document Frequency\n",
        "* Represented by a model in Gensim"
      ]
    },
    {
      "cell_type": "code",
      "metadata": {
        "id": "tYyu3lHj8vH1",
        "colab_type": "code",
        "colab": {
          "base_uri": "https://localhost:8080/",
          "height": 190
        },
        "outputId": "b85ce609-5fdb-4e78-a1ed-6dd948933b92"
      },
      "source": [
        "tfidf = models.TfidfModel(corpus) \n",
        "corpus_tfidf = tfidf[corpus]\n",
        "for doc in corpus_tfidf:\n",
        "    print(doc)"
      ],
      "execution_count": 19,
      "outputs": [
        {
          "output_type": "stream",
          "text": [
            "[(0, 0.5773502691896257), (1, 0.5773502691896257), (2, 0.5773502691896257)]\n",
            "[(0, 0.44424552527467476), (3, 0.44424552527467476), (4, 0.44424552527467476), (5, 0.3244870206138555), (6, 0.44424552527467476), (7, 0.3244870206138555)]\n",
            "[(2, 0.5710059809418182), (5, 0.4170757362022777), (7, 0.4170757362022777), (8, 0.5710059809418182)]\n",
            "[(1, 0.49182558987264147), (5, 0.7184811607083769), (8, 0.49182558987264147)]\n",
            "[(3, 0.6282580468670046), (6, 0.6282580468670046), (7, 0.45889394536615247)]\n",
            "[(9, 1.0)]\n",
            "[(9, 0.7071067811865475), (10, 0.7071067811865475)]\n",
            "[(9, 0.5080429008916749), (10, 0.5080429008916749), (11, 0.695546419520037)]\n",
            "[(4, 0.6282580468670046), (10, 0.45889394536615247), (11, 0.6282580468670046)]\n"
          ],
          "name": "stdout"
        }
      ]
    },
    {
      "cell_type": "markdown",
      "metadata": {
        "id": "CXu9tVAJ8y16",
        "colab_type": "text"
      },
      "source": [
        "## LSA Model\n",
        "* Why Gensim vs TruncatedSVD?\n",
        "  * Memory efficient (Constant Size)\n",
        "  * Streamed corpora\n",
        "  * One pass corpora (Streaming)\n",
        "  * Distributed computing "
      ]
    },
    {
      "cell_type": "code",
      "metadata": {
        "id": "GQuxmbqZ80--",
        "colab_type": "code",
        "colab": {
          "base_uri": "https://localhost:8080/",
          "height": 51
        },
        "outputId": "d020800b-8118-427b-f59c-9a1f0c88603b"
      },
      "source": [
        "lsi_model = models.LsiModel(corpus_tfidf, id2word=dictionary, num_topics=2) \n",
        "corpus_lsi = lsi_model[corpus_tfidf]  \n",
        "lsi_model.print_topics(2, num_words=3)"
      ],
      "execution_count": 20,
      "outputs": [
        {
          "output_type": "execute_result",
          "data": {
            "text/plain": [
              "[(0, '0.703*\"trees\" + 0.538*\"graph\" + 0.402*\"minors\"'),\n",
              " (1, '-0.460*\"system\" + -0.373*\"user\" + -0.332*\"eps\"')]"
            ]
          },
          "metadata": {
            "tags": []
          },
          "execution_count": 20
        }
      ]
    },
    {
      "cell_type": "code",
      "metadata": {
        "id": "0zXVivY687vZ",
        "colab_type": "code",
        "colab": {
          "base_uri": "https://localhost:8080/",
          "height": 190
        },
        "outputId": "8feb2e81-8fb2-4144-9414-4a1735c5c5be"
      },
      "source": [
        "for doc, as_text in zip(corpus_lsi, documents):\n",
        "    print(doc, as_text)"
      ],
      "execution_count": 21,
      "outputs": [
        {
          "output_type": "stream",
          "text": [
            "[(0, 0.06600783396090264), (1, -0.5200703306361851)] Human machine interface for lab abc computer applications May 10, 2000\n",
            "[(0, 0.19667592859142471), (1, -0.7609563167700049)] A survey of user opinion of computer system response time\n",
            "[(0, 0.08992639972446387), (1, -0.7241860626752517)] The EPS user interface management system\n",
            "[(0, 0.07585847652178121), (1, -0.6320551586003438)] System and human system engineering testing of EPS\n",
            "[(0, 0.1015029918498013), (1, -0.5737308483002957)] Relation of user perceived response time to error measurement\n",
            "[(0, 0.7032108939378311), (1, 0.16115180214025748)] The generation of random binary unordered trees\n",
            "[(0, 0.8774787673119833), (1, 0.1675890686465938)] The intersection graph of paths in trees\n",
            "[(0, 0.9098624686818579), (1, 0.14086553628719004)] Graph minors IV Widths of trees and well quasi ordering\n",
            "[(0, 0.6165825350569284), (1, -0.05392907566389349)] Graph minors A survey\n"
          ],
          "name": "stdout"
        }
      ]
    },
    {
      "cell_type": "code",
      "metadata": {
        "id": "NdNPvQ6rSpmd",
        "colab_type": "code",
        "colab": {
          "base_uri": "https://localhost:8080/",
          "height": 494
        },
        "outputId": "f5ec1cdf-4cb3-40e7-e6b6-4ea470bd6659"
      },
      "source": [
        "items = []\n",
        "for doc, as_text in zip(corpus_lsi, documents):\n",
        "    items.append({'Topic 1':doc[0][1], 'Topic 2': doc[1][1], 'Document': as_text[0:20] + '...'})\n",
        "data = pd.DataFrame(items)\n",
        "\n",
        "fig, ax = plt.subplots(figsize=(10,8))\n",
        "ax.scatter(data['Topic 1'], data['Topic 2'])\n",
        "\n",
        "for index, row in data.iterrows():\n",
        "    ax.annotate(row['Document'], (row['Topic 1'], row['Topic 2']))\n",
        "\n",
        "plt.title('LSA Visualization');\n",
        "plt.xlabel('Topic 1')\n",
        "plt.ylabel('Topic 2');"
      ],
      "execution_count": 22,
      "outputs": [
        {
          "output_type": "display_data",
          "data": {
            "image/png": "[encoded data removed]",
            "text/plain": [
              "<Figure size 720x576 with 1 Axes>"
            ]
          },
          "metadata": {
            "tags": [],
            "needs_background": "light"
          }
        }
      ]
    },
    {
      "cell_type": "code",
      "metadata": {
        "id": "I5fR-bJeUJH6",
        "colab_type": "code",
        "colab": {
          "base_uri": "https://localhost:8080/",
          "height": 85
        },
        "outputId": "65eadc81-0994-4e35-be96-611c79eaab9b"
      },
      "source": [
        "data.dtypes"
      ],
      "execution_count": 73,
      "outputs": [
        {
          "output_type": "execute_result",
          "data": {
            "text/plain": [
              "Topic 1     float64\n",
              "Topic 2     float64\n",
              "Document     object\n",
              "dtype: object"
            ]
          },
          "metadata": {
            "tags": []
          },
          "execution_count": 73
        }
      ]
    },
    {
      "cell_type": "markdown",
      "metadata": {
        "id": "hrx1hysx8_-q",
        "colab_type": "text"
      },
      "source": [
        "## Similarity\n",
        "* Distance \n",
        "* Cosine Similarity"
      ]
    },
    {
      "cell_type": "code",
      "metadata": {
        "id": "FYvijl5cqCNc",
        "colab_type": "code",
        "colab": {
          "base_uri": "https://localhost:8080/",
          "height": 51
        },
        "outputId": "235c9b46-06a3-47aa-f2cc-65faca96a8e7"
      },
      "source": [
        "doc = \"Human computer interaction\"\n",
        "vec_bow = dictionary.doc2bow(doc.lower().split())\n",
        "vec_lsi = lsi_model[vec_bow]  # convert the query to LSI space\n",
        "\n",
        "print(doc)\n",
        "print(vec_lsi)"
      ],
      "execution_count": 24,
      "outputs": [
        {
          "output_type": "stream",
          "text": [
            "Human computer interaction\n",
            "[(0, 0.07910475117444749), (1, -0.5732835243079405)]\n"
          ],
          "name": "stdout"
        }
      ]
    },
    {
      "cell_type": "code",
      "metadata": {
        "id": "bYeWOY4H9Kwn",
        "colab_type": "code",
        "colab": {
          "base_uri": "https://localhost:8080/",
          "height": 224
        },
        "outputId": "51eff7e5-e76f-4994-9eeb-ee0e0cbc6405"
      },
      "source": [
        "index = similarities.MatrixSimilarity(lsi_model[corpus])\n",
        "sims = index[vec_lsi]  # perform a similarity query against the corpus\n",
        "pp.pprint(list(enumerate(sims)))  # print (document_number, document_similarity) 2-tuples"
      ],
      "execution_count": 25,
      "outputs": [
        {
          "output_type": "stream",
          "text": [
            "[(0, 0.9999408),\n",
            " (1, 0.9946708),\n",
            " (2, 0.9999428),\n",
            " (3, 0.999879),\n",
            " (4, 0.99935204),\n",
            " (5, -0.08804217),\n",
            " (6, -0.0515742),\n",
            " (7, -0.023664713),\n",
            " (8, 0.1938726)]\n"
          ],
          "name": "stdout"
        },
        {
          "output_type": "stream",
          "text": [
            "/usr/local/lib/python3.6/dist-packages/gensim/matutils.py:737: FutureWarning: Conversion of the second argument of issubdtype from `int` to `np.signedinteger` is deprecated. In future, it will be treated as `np.int64 == np.dtype(int).type`.\n",
            "  if np.issubdtype(vec.dtype, np.int):\n"
          ],
          "name": "stderr"
        }
      ]
    },
    {
      "cell_type": "markdown",
      "metadata": {
        "id": "_6yi1Q316m2O",
        "colab_type": "text"
      },
      "source": [
        "# SpaCy Pipeline\n",
        "![alt text](https://cdn-images-1.medium.com/freeze/max/1000/1*wqfF41Ysh-kV-fXMDGxSGg.jpeg?q=20)"
      ]
    },
    {
      "cell_type": "markdown",
      "metadata": {
        "id": "bPZXh9YGFFNZ",
        "colab_type": "text"
      },
      "source": [
        "## Documents"
      ]
    },
    {
      "cell_type": "code",
      "metadata": {
        "id": "VmxlJ0CWFKO3",
        "colab_type": "code",
        "colab": {}
      },
      "source": [
        "documents = [\n",
        "    \"Human machine interface for lab abc computer applications on May 10, 2000\",\n",
        "    \"A survey of user opinion of computer system response time\",\n",
        "    \"The EPS user interface management system\",\n",
        "    \"System and human system engineering testing of EPS\",\n",
        "    \"Relation of user perceived response time to error measurement\",\n",
        "    \"The generation of random binary unordered trees\",\n",
        "    \"The intersection graph of paths in trees\",\n",
        "    \"Graph minors IV Widths of trees and well quasi ordering\",\n",
        "    \"Graph minors A survey\",\n",
        "]"
      ],
      "execution_count": 26,
      "outputs": []
    },
    {
      "cell_type": "code",
      "metadata": {
        "id": "qFQFqVoFFLeJ",
        "colab_type": "code",
        "colab": {
          "base_uri": "https://localhost:8080/",
          "height": 120
        },
        "outputId": "74e7ce36-58d2-4dc6-ebeb-68baa9fe95c0"
      },
      "source": [
        "paragraph = '. '.join(documents)\n",
        "paragraph"
      ],
      "execution_count": 27,
      "outputs": [
        {
          "output_type": "execute_result",
          "data": {
            "application/vnd.google.colaboratory.intrinsic": {
              "type": "string"
            },
            "text/plain": [
              "'Human machine interface for lab abc computer applications on May 10, 2000. A survey of user opinion of computer system response time. The EPS user interface management system. System and human system engineering testing of EPS. Relation of user perceived response time to error measurement. The generation of random binary unordered trees. The intersection graph of paths in trees. Graph minors IV Widths of trees and well quasi ordering. Graph minors A survey'"
            ]
          },
          "metadata": {
            "tags": []
          },
          "execution_count": 27
        }
      ]
    },
    {
      "cell_type": "markdown",
      "metadata": {
        "id": "rBJqFcu0Cgny",
        "colab_type": "text"
      },
      "source": [
        "## Loading Spacy"
      ]
    },
    {
      "cell_type": "code",
      "metadata": {
        "id": "vd9Q7ouB_dGn",
        "colab_type": "code",
        "colab": {}
      },
      "source": [
        "import spacy\n",
        "nlp = spacy.load('en')"
      ],
      "execution_count": 28,
      "outputs": []
    },
    {
      "cell_type": "markdown",
      "metadata": {
        "id": "vuBOO6imCnHe",
        "colab_type": "text"
      },
      "source": [
        "## Pipeline"
      ]
    },
    {
      "cell_type": "code",
      "metadata": {
        "id": "Ul_132nhCktH",
        "colab_type": "code",
        "colab": {
          "base_uri": "https://localhost:8080/",
          "height": 34
        },
        "outputId": "5fcc5fa2-7f79-43c8-9563-78081a35352a"
      },
      "source": [
        "print(nlp.pipe_names)"
      ],
      "execution_count": 29,
      "outputs": [
        {
          "output_type": "stream",
          "text": [
            "['tagger', 'parser', 'ner']\n"
          ],
          "name": "stdout"
        }
      ]
    },
    {
      "cell_type": "markdown",
      "metadata": {
        "id": "-J6Lck0GFv8X",
        "colab_type": "text"
      },
      "source": [
        "## Processing\n",
        "* Can tokenize document per item\n",
        "* Can infer sentence boundaries by adding sentencizer to pipeline"
      ]
    },
    {
      "cell_type": "code",
      "metadata": {
        "id": "9wCUMtABFvBl",
        "colab_type": "code",
        "colab": {
          "base_uri": "https://localhost:8080/",
          "height": 170
        },
        "outputId": "f5fb7b4b-a467-4164-d99c-44030b1c90ca"
      },
      "source": [
        "nlp = spacy.load('en')\n",
        "texts_spacy = [nlp(document) for document in documents]\n",
        "texts_spacy"
      ],
      "execution_count": 30,
      "outputs": [
        {
          "output_type": "execute_result",
          "data": {
            "text/plain": [
              "[Human machine interface for lab abc computer applications on May 10, 2000,\n",
              " A survey of user opinion of computer system response time,\n",
              " The EPS user interface management system,\n",
              " System and human system engineering testing of EPS,\n",
              " Relation of user perceived response time to error measurement,\n",
              " The generation of random binary unordered trees,\n",
              " The intersection graph of paths in trees,\n",
              " Graph minors IV Widths of trees and well quasi ordering,\n",
              " Graph minors A survey]"
            ]
          },
          "metadata": {
            "tags": []
          },
          "execution_count": 30
        }
      ]
    },
    {
      "cell_type": "code",
      "metadata": {
        "id": "Dj10DXT8FvVl",
        "colab_type": "code",
        "colab": {
          "base_uri": "https://localhost:8080/",
          "height": 187
        },
        "outputId": "4a5fac68-7155-486b-cfd8-12ca9248616c"
      },
      "source": [
        "nlp_para = spacy.load('en')\n",
        "nlp_para.add_pipe(nlp.create_pipe('sentencizer'))\n",
        "texts_spacy = nlp_para(paragraph)\n",
        "sentences = [sent.string.strip() for sent in texts_spacy.sents]\n",
        "pp.pprint(sentences)"
      ],
      "execution_count": 31,
      "outputs": [
        {
          "output_type": "stream",
          "text": [
            "['Human machine interface for lab abc computer applications on May 10, 2000.',\n",
            " 'A survey of user opinion of computer system response time.',\n",
            " 'The EPS user interface management system.',\n",
            " 'System and human system engineering testing of EPS.',\n",
            " 'Relation of user perceived response time to error measurement.',\n",
            " 'The generation of random binary unordered trees.',\n",
            " 'The intersection graph of paths in trees.',\n",
            " 'Graph minors IV Widths of trees and well quasi ordering.',\n",
            " 'Graph minors',\n",
            " 'A survey']\n"
          ],
          "name": "stdout"
        }
      ]
    },
    {
      "cell_type": "markdown",
      "metadata": {
        "id": "AHOmyp19CjTg",
        "colab_type": "text"
      },
      "source": [
        "## Tokens\n",
        "* Pipeline creates tokens\n",
        "* Token attributes are populated depending on pipeline steps"
      ]
    },
    {
      "cell_type": "code",
      "metadata": {
        "id": "mQSEu55r_hhE",
        "colab_type": "code",
        "colab": {
          "base_uri": "https://localhost:8080/",
          "height": 359
        },
        "outputId": "ed80ef0c-46da-442c-9ba5-8ea209849f64"
      },
      "source": [
        "texts_spacy = [nlp(document) for document in documents]\n",
        "\n",
        "rows = []\n",
        "for text in texts_spacy:\n",
        "  for token in text:\n",
        "    rows.append({'token': token.text,\n",
        "                 'lower': token.lower_, \n",
        "                 'lemma': token.lemma_, \n",
        "                 'pos': token.pos_,\n",
        "                 'shape': token.shape_,\n",
        "                 'dependency': token.dep_,\n",
        "                 'entity': token.ent_type_, \n",
        "                 'tag': token.tag_,\n",
        "                 'stop': token.is_stop})\n",
        "pd.DataFrame(rows)[0:10]"
      ],
      "execution_count": 32,
      "outputs": [
        {
          "output_type": "execute_result",
          "data": {
            "text/html": [
              "<div>\n",
              "<style scoped>\n",
              "    .dataframe tbody tr th:only-of-type {\n",
              "        vertical-align: middle;\n",
              "    }\n",
              "\n",
              "    .dataframe tbody tr th {\n",
              "        vertical-align: top;\n",
              "    }\n",
              "\n",
              "    .dataframe thead th {\n",
              "        text-align: right;\n",
              "    }\n",
              "</style>\n",
              "<table border=\"1\" class=\"dataframe\">\n",
              "  <thead>\n",
              "    <tr style=\"text-align: right;\">\n",
              "      <th></th>\n",
              "      <th>token</th>\n",
              "      <th>lower</th>\n",
              "      <th>lemma</th>\n",
              "      <th>pos</th>\n",
              "      <th>shape</th>\n",
              "      <th>dependency</th>\n",
              "      <th>entity</th>\n",
              "      <th>tag</th>\n",
              "      <th>stop</th>\n",
              "    </tr>\n",
              "  </thead>\n",
              "  <tbody>\n",
              "    <tr>\n",
              "      <th>0</th>\n",
              "      <td>Human</td>\n",
              "      <td>human</td>\n",
              "      <td>human</td>\n",
              "      <td>ADJ</td>\n",
              "      <td>Xxxxx</td>\n",
              "      <td>amod</td>\n",
              "      <td></td>\n",
              "      <td>JJ</td>\n",
              "      <td>False</td>\n",
              "    </tr>\n",
              "    <tr>\n",
              "      <th>1</th>\n",
              "      <td>machine</td>\n",
              "      <td>machine</td>\n",
              "      <td>machine</td>\n",
              "      <td>NOUN</td>\n",
              "      <td>xxxx</td>\n",
              "      <td>compound</td>\n",
              "      <td></td>\n",
              "      <td>NN</td>\n",
              "      <td>False</td>\n",
              "    </tr>\n",
              "    <tr>\n",
              "      <th>2</th>\n",
              "      <td>interface</td>\n",
              "      <td>interface</td>\n",
              "      <td>interface</td>\n",
              "      <td>NOUN</td>\n",
              "      <td>xxxx</td>\n",
              "      <td>ROOT</td>\n",
              "      <td></td>\n",
              "      <td>NN</td>\n",
              "      <td>False</td>\n",
              "    </tr>\n",
              "    <tr>\n",
              "      <th>3</th>\n",
              "      <td>for</td>\n",
              "      <td>for</td>\n",
              "      <td>for</td>\n",
              "      <td>ADP</td>\n",
              "      <td>xxx</td>\n",
              "      <td>prep</td>\n",
              "      <td></td>\n",
              "      <td>IN</td>\n",
              "      <td>True</td>\n",
              "    </tr>\n",
              "    <tr>\n",
              "      <th>4</th>\n",
              "      <td>lab</td>\n",
              "      <td>lab</td>\n",
              "      <td>lab</td>\n",
              "      <td>PROPN</td>\n",
              "      <td>xxx</td>\n",
              "      <td>compound</td>\n",
              "      <td></td>\n",
              "      <td>NNP</td>\n",
              "      <td>False</td>\n",
              "    </tr>\n",
              "    <tr>\n",
              "      <th>5</th>\n",
              "      <td>abc</td>\n",
              "      <td>abc</td>\n",
              "      <td>abc</td>\n",
              "      <td>PROPN</td>\n",
              "      <td>xxx</td>\n",
              "      <td>compound</td>\n",
              "      <td>ORG</td>\n",
              "      <td>NNP</td>\n",
              "      <td>False</td>\n",
              "    </tr>\n",
              "    <tr>\n",
              "      <th>6</th>\n",
              "      <td>computer</td>\n",
              "      <td>computer</td>\n",
              "      <td>computer</td>\n",
              "      <td>NOUN</td>\n",
              "      <td>xxxx</td>\n",
              "      <td>compound</td>\n",
              "      <td></td>\n",
              "      <td>NN</td>\n",
              "      <td>False</td>\n",
              "    </tr>\n",
              "    <tr>\n",
              "      <th>7</th>\n",
              "      <td>applications</td>\n",
              "      <td>applications</td>\n",
              "      <td>application</td>\n",
              "      <td>NOUN</td>\n",
              "      <td>xxxx</td>\n",
              "      <td>pobj</td>\n",
              "      <td></td>\n",
              "      <td>NNS</td>\n",
              "      <td>False</td>\n",
              "    </tr>\n",
              "    <tr>\n",
              "      <th>8</th>\n",
              "      <td>on</td>\n",
              "      <td>on</td>\n",
              "      <td>on</td>\n",
              "      <td>ADP</td>\n",
              "      <td>xx</td>\n",
              "      <td>prep</td>\n",
              "      <td></td>\n",
              "      <td>IN</td>\n",
              "      <td>True</td>\n",
              "    </tr>\n",
              "    <tr>\n",
              "      <th>9</th>\n",
              "      <td>May</td>\n",
              "      <td>may</td>\n",
              "      <td>May</td>\n",
              "      <td>PROPN</td>\n",
              "      <td>Xxx</td>\n",
              "      <td>pobj</td>\n",
              "      <td>DATE</td>\n",
              "      <td>NNP</td>\n",
              "      <td>True</td>\n",
              "    </tr>\n",
              "  </tbody>\n",
              "</table>\n",
              "</div>"
            ],
            "text/plain": [
              "          token         lower        lemma    pos  ... dependency entity  tag   stop\n",
              "0         Human         human        human    ADJ  ...       amod          JJ  False\n",
              "1       machine       machine      machine   NOUN  ...   compound          NN  False\n",
              "2     interface     interface    interface   NOUN  ...       ROOT          NN  False\n",
              "3           for           for          for    ADP  ...       prep          IN   True\n",
              "4           lab           lab          lab  PROPN  ...   compound         NNP  False\n",
              "5           abc           abc          abc  PROPN  ...   compound    ORG  NNP  False\n",
              "6      computer      computer     computer   NOUN  ...   compound          NN  False\n",
              "7  applications  applications  application   NOUN  ...       pobj         NNS  False\n",
              "8            on            on           on    ADP  ...       prep          IN   True\n",
              "9           May           may          May  PROPN  ...       pobj   DATE  NNP   True\n",
              "\n",
              "[10 rows x 9 columns]"
            ]
          },
          "metadata": {
            "tags": []
          },
          "execution_count": 32
        }
      ]
    },
    {
      "cell_type": "markdown",
      "metadata": {
        "id": "T0dBpoa8C3cK",
        "colab_type": "text"
      },
      "source": [
        "## displaCy"
      ]
    },
    {
      "cell_type": "code",
      "metadata": {
        "id": "w0Yfhh-MDhZP",
        "colab_type": "code",
        "colab": {}
      },
      "source": [
        "import spacy\n",
        "from spacy import displacy"
      ],
      "execution_count": 33,
      "outputs": []
    },
    {
      "cell_type": "code",
      "metadata": {
        "id": "CocYJ04_Dl31",
        "colab_type": "code",
        "colab": {
          "base_uri": "https://localhost:8080/",
          "height": 441
        },
        "outputId": "f18a2ded-0af4-45e1-dacf-03f7d61dcb08"
      },
      "source": [
        "doc = nlp(documents[0])\n",
        "displacy.render(doc, style=\"dep\", jupyter=True)"
      ],
      "execution_count": 34,
      "outputs": [
        {
          "output_type": "display_data",
          "data": {
            "text/html": [
              "<span class=\"tex2jax_ignore\"><svg xmlns=\"http://www.w3.org/2000/svg\" xmlns:xlink=\"http://www.w3.org/1999/xlink\" xml:lang=\"en\" id=\"c14fa93e38fe4c3fb970a19ca1397f0c-0\" class=\"displacy\" width=\"2150\" height=\"399.5\" direction=\"ltr\" style=\"max-width: none; height: 399.5px; color: #000000; background: #ffffff; font-family: Arial; direction: ltr\">\n",
              "<text class=\"displacy-token\" fill=\"currentColor\" text-anchor=\"middle\" y=\"309.5\">\n",
              "    <tspan class=\"displacy-word\" fill=\"currentColor\" x=\"50\">Human</tspan>\n",
              "    <tspan class=\"displacy-tag\" dy=\"2em\" fill=\"currentColor\" x=\"50\">ADJ</tspan>\n",
              "</text>\n",
              "\n",
              "<text class=\"displacy-token\" fill=\"currentColor\" text-anchor=\"middle\" y=\"309.5\">\n",
              "    <tspan class=\"displacy-word\" fill=\"currentColor\" x=\"225\">machine</tspan>\n",
              "    <tspan class=\"displacy-tag\" dy=\"2em\" fill=\"currentColor\" x=\"225\">NOUN</tspan>\n",
              "</text>\n",
              "\n",
              "<text class=\"displacy-token\" fill=\"currentColor\" text-anchor=\"middle\" y=\"309.5\">\n",
              "    <tspan class=\"displacy-word\" fill=\"currentColor\" x=\"400\">interface</tspan>\n",
              "    <tspan class=\"displacy-tag\" dy=\"2em\" fill=\"currentColor\" x=\"400\">NOUN</tspan>\n",
              "</text>\n",
              "\n",
              "<text class=\"displacy-token\" fill=\"currentColor\" text-anchor=\"middle\" y=\"309.5\">\n",
              "    <tspan class=\"displacy-word\" fill=\"currentColor\" x=\"575\">for</tspan>\n",
              "    <tspan class=\"displacy-tag\" dy=\"2em\" fill=\"currentColor\" x=\"575\">ADP</tspan>\n",
              "</text>\n",
              "\n",
              "<text class=\"displacy-token\" fill=\"currentColor\" text-anchor=\"middle\" y=\"309.5\">\n",
              "    <tspan class=\"displacy-word\" fill=\"currentColor\" x=\"750\">lab</tspan>\n",
              "    <tspan class=\"displacy-tag\" dy=\"2em\" fill=\"currentColor\" x=\"750\">PROPN</tspan>\n",
              "</text>\n",
              "\n",
              "<text class=\"displacy-token\" fill=\"currentColor\" text-anchor=\"middle\" y=\"309.5\">\n",
              "    <tspan class=\"displacy-word\" fill=\"currentColor\" x=\"925\">abc</tspan>\n",
              "    <tspan class=\"displacy-tag\" dy=\"2em\" fill=\"currentColor\" x=\"925\">PROPN</tspan>\n",
              "</text>\n",
              "\n",
              "<text class=\"displacy-token\" fill=\"currentColor\" text-anchor=\"middle\" y=\"309.5\">\n",
              "    <tspan class=\"displacy-word\" fill=\"currentColor\" x=\"1100\">computer</tspan>\n",
              "    <tspan class=\"displacy-tag\" dy=\"2em\" fill=\"currentColor\" x=\"1100\">NOUN</tspan>\n",
              "</text>\n",
              "\n",
              "<text class=\"displacy-token\" fill=\"currentColor\" text-anchor=\"middle\" y=\"309.5\">\n",
              "    <tspan class=\"displacy-word\" fill=\"currentColor\" x=\"1275\">applications</tspan>\n",
              "    <tspan class=\"displacy-tag\" dy=\"2em\" fill=\"currentColor\" x=\"1275\">NOUN</tspan>\n",
              "</text>\n",
              "\n",
              "<text class=\"displacy-token\" fill=\"currentColor\" text-anchor=\"middle\" y=\"309.5\">\n",
              "    <tspan class=\"displacy-word\" fill=\"currentColor\" x=\"1450\">on</tspan>\n",
              "    <tspan class=\"displacy-tag\" dy=\"2em\" fill=\"currentColor\" x=\"1450\">ADP</tspan>\n",
              "</text>\n",
              "\n",
              "<text class=\"displacy-token\" fill=\"currentColor\" text-anchor=\"middle\" y=\"309.5\">\n",
              "    <tspan class=\"displacy-word\" fill=\"currentColor\" x=\"1625\">May</tspan>\n",
              "    <tspan class=\"displacy-tag\" dy=\"2em\" fill=\"currentColor\" x=\"1625\">PROPN</tspan>\n",
              "</text>\n",
              "\n",
              "<text class=\"displacy-token\" fill=\"currentColor\" text-anchor=\"middle\" y=\"309.5\">\n",
              "    <tspan class=\"displacy-word\" fill=\"currentColor\" x=\"1800\">10,</tspan>\n",
              "    <tspan class=\"displacy-tag\" dy=\"2em\" fill=\"currentColor\" x=\"1800\">NUM</tspan>\n",
              "</text>\n",
              "\n",
              "<text class=\"displacy-token\" fill=\"currentColor\" text-anchor=\"middle\" y=\"309.5\">\n",
              "    <tspan class=\"displacy-word\" fill=\"currentColor\" x=\"1975\">2000</tspan>\n",
              "    <tspan class=\"displacy-tag\" dy=\"2em\" fill=\"currentColor\" x=\"1975\">NUM</tspan>\n",
              "</text>\n",
              "\n",
              "<g class=\"displacy-arrow\">\n",
              "    <path class=\"displacy-arc\" id=\"arrow-c14fa93e38fe4c3fb970a19ca1397f0c-0-0\" stroke-width=\"2px\" d=\"M70,264.5 C70,177.0 215.0,177.0 215.0,264.5\" fill=\"none\" stroke=\"currentColor\"/>\n",
              "    <text dy=\"1.25em\" style=\"font-size: 0.8em; letter-spacing: 1px\">\n",
              "        <textPath xlink:href=\"#arrow-c14fa93e38fe4c3fb970a19ca1397f0c-0-0\" class=\"displacy-label\" startOffset=\"50%\" side=\"left\" fill=\"currentColor\" text-anchor=\"middle\">amod</textPath>\n",
              "    </text>\n",
              "    <path class=\"displacy-arrowhead\" d=\"M70,266.5 L62,254.5 78,254.5\" fill=\"currentColor\"/>\n",
              "</g>\n",
              "\n",
              "<g class=\"displacy-arrow\">\n",
              "    <path class=\"displacy-arc\" id=\"arrow-c14fa93e38fe4c3fb970a19ca1397f0c-0-1\" stroke-width=\"2px\" d=\"M245,264.5 C245,177.0 390.0,177.0 390.0,264.5\" fill=\"none\" stroke=\"currentColor\"/>\n",
              "    <text dy=\"1.25em\" style=\"font-size: 0.8em; letter-spacing: 1px\">\n",
              "        <textPath xlink:href=\"#arrow-c14fa93e38fe4c3fb970a19ca1397f0c-0-1\" class=\"displacy-label\" startOffset=\"50%\" side=\"left\" fill=\"currentColor\" text-anchor=\"middle\">compound</textPath>\n",
              "    </text>\n",
              "    <path class=\"displacy-arrowhead\" d=\"M245,266.5 L237,254.5 253,254.5\" fill=\"currentColor\"/>\n",
              "</g>\n",
              "\n",
              "<g class=\"displacy-arrow\">\n",
              "    <path class=\"displacy-arc\" id=\"arrow-c14fa93e38fe4c3fb970a19ca1397f0c-0-2\" stroke-width=\"2px\" d=\"M420,264.5 C420,177.0 565.0,177.0 565.0,264.5\" fill=\"none\" stroke=\"currentColor\"/>\n",
              "    <text dy=\"1.25em\" style=\"font-size: 0.8em; letter-spacing: 1px\">\n",
              "        <textPath xlink:href=\"#arrow-c14fa93e38fe4c3fb970a19ca1397f0c-0-2\" class=\"displacy-label\" startOffset=\"50%\" side=\"left\" fill=\"currentColor\" text-anchor=\"middle\">prep</textPath>\n",
              "    </text>\n",
              "    <path class=\"displacy-arrowhead\" d=\"M565.0,266.5 L573.0,254.5 557.0,254.5\" fill=\"currentColor\"/>\n",
              "</g>\n",
              "\n",
              "<g class=\"displacy-arrow\">\n",
              "    <path class=\"displacy-arc\" id=\"arrow-c14fa93e38fe4c3fb970a19ca1397f0c-0-3\" stroke-width=\"2px\" d=\"M770,264.5 C770,177.0 915.0,177.0 915.0,264.5\" fill=\"none\" stroke=\"currentColor\"/>\n",
              "    <text dy=\"1.25em\" style=\"font-size: 0.8em; letter-spacing: 1px\">\n",
              "        <textPath xlink:href=\"#arrow-c14fa93e38fe4c3fb970a19ca1397f0c-0-3\" class=\"displacy-label\" startOffset=\"50%\" side=\"left\" fill=\"currentColor\" text-anchor=\"middle\">compound</textPath>\n",
              "    </text>\n",
              "    <path class=\"displacy-arrowhead\" d=\"M770,266.5 L762,254.5 778,254.5\" fill=\"currentColor\"/>\n",
              "</g>\n",
              "\n",
              "<g class=\"displacy-arrow\">\n",
              "    <path class=\"displacy-arc\" id=\"arrow-c14fa93e38fe4c3fb970a19ca1397f0c-0-4\" stroke-width=\"2px\" d=\"M945,264.5 C945,177.0 1090.0,177.0 1090.0,264.5\" fill=\"none\" stroke=\"currentColor\"/>\n",
              "    <text dy=\"1.25em\" style=\"font-size: 0.8em; letter-spacing: 1px\">\n",
              "        <textPath xlink:href=\"#arrow-c14fa93e38fe4c3fb970a19ca1397f0c-0-4\" class=\"displacy-label\" startOffset=\"50%\" side=\"left\" fill=\"currentColor\" text-anchor=\"middle\">compound</textPath>\n",
              "    </text>\n",
              "    <path class=\"displacy-arrowhead\" d=\"M945,266.5 L937,254.5 953,254.5\" fill=\"currentColor\"/>\n",
              "</g>\n",
              "\n",
              "<g class=\"displacy-arrow\">\n",
              "    <path class=\"displacy-arc\" id=\"arrow-c14fa93e38fe4c3fb970a19ca1397f0c-0-5\" stroke-width=\"2px\" d=\"M1120,264.5 C1120,177.0 1265.0,177.0 1265.0,264.5\" fill=\"none\" stroke=\"currentColor\"/>\n",
              "    <text dy=\"1.25em\" style=\"font-size: 0.8em; letter-spacing: 1px\">\n",
              "        <textPath xlink:href=\"#arrow-c14fa93e38fe4c3fb970a19ca1397f0c-0-5\" class=\"displacy-label\" startOffset=\"50%\" side=\"left\" fill=\"currentColor\" text-anchor=\"middle\">compound</textPath>\n",
              "    </text>\n",
              "    <path class=\"displacy-arrowhead\" d=\"M1120,266.5 L1112,254.5 1128,254.5\" fill=\"currentColor\"/>\n",
              "</g>\n",
              "\n",
              "<g class=\"displacy-arrow\">\n",
              "    <path class=\"displacy-arc\" id=\"arrow-c14fa93e38fe4c3fb970a19ca1397f0c-0-6\" stroke-width=\"2px\" d=\"M595,264.5 C595,2.0 1275.0,2.0 1275.0,264.5\" fill=\"none\" stroke=\"currentColor\"/>\n",
              "    <text dy=\"1.25em\" style=\"font-size: 0.8em; letter-spacing: 1px\">\n",
              "        <textPath xlink:href=\"#arrow-c14fa93e38fe4c3fb970a19ca1397f0c-0-6\" class=\"displacy-label\" startOffset=\"50%\" side=\"left\" fill=\"currentColor\" text-anchor=\"middle\">pobj</textPath>\n",
              "    </text>\n",
              "    <path class=\"displacy-arrowhead\" d=\"M1275.0,266.5 L1283.0,254.5 1267.0,254.5\" fill=\"currentColor\"/>\n",
              "</g>\n",
              "\n",
              "<g class=\"displacy-arrow\">\n",
              "    <path class=\"displacy-arc\" id=\"arrow-c14fa93e38fe4c3fb970a19ca1397f0c-0-7\" stroke-width=\"2px\" d=\"M1295,264.5 C1295,177.0 1440.0,177.0 1440.0,264.5\" fill=\"none\" stroke=\"currentColor\"/>\n",
              "    <text dy=\"1.25em\" style=\"font-size: 0.8em; letter-spacing: 1px\">\n",
              "        <textPath xlink:href=\"#arrow-c14fa93e38fe4c3fb970a19ca1397f0c-0-7\" class=\"displacy-label\" startOffset=\"50%\" side=\"left\" fill=\"currentColor\" text-anchor=\"middle\">prep</textPath>\n",
              "    </text>\n",
              "    <path class=\"displacy-arrowhead\" d=\"M1440.0,266.5 L1448.0,254.5 1432.0,254.5\" fill=\"currentColor\"/>\n",
              "</g>\n",
              "\n",
              "<g class=\"displacy-arrow\">\n",
              "    <path class=\"displacy-arc\" id=\"arrow-c14fa93e38fe4c3fb970a19ca1397f0c-0-8\" stroke-width=\"2px\" d=\"M1470,264.5 C1470,177.0 1615.0,177.0 1615.0,264.5\" fill=\"none\" stroke=\"currentColor\"/>\n",
              "    <text dy=\"1.25em\" style=\"font-size: 0.8em; letter-spacing: 1px\">\n",
              "        <textPath xlink:href=\"#arrow-c14fa93e38fe4c3fb970a19ca1397f0c-0-8\" class=\"displacy-label\" startOffset=\"50%\" side=\"left\" fill=\"currentColor\" text-anchor=\"middle\">pobj</textPath>\n",
              "    </text>\n",
              "    <path class=\"displacy-arrowhead\" d=\"M1615.0,266.5 L1623.0,254.5 1607.0,254.5\" fill=\"currentColor\"/>\n",
              "</g>\n",
              "\n",
              "<g class=\"displacy-arrow\">\n",
              "    <path class=\"displacy-arc\" id=\"arrow-c14fa93e38fe4c3fb970a19ca1397f0c-0-9\" stroke-width=\"2px\" d=\"M1645,264.5 C1645,177.0 1790.0,177.0 1790.0,264.5\" fill=\"none\" stroke=\"currentColor\"/>\n",
              "    <text dy=\"1.25em\" style=\"font-size: 0.8em; letter-spacing: 1px\">\n",
              "        <textPath xlink:href=\"#arrow-c14fa93e38fe4c3fb970a19ca1397f0c-0-9\" class=\"displacy-label\" startOffset=\"50%\" side=\"left\" fill=\"currentColor\" text-anchor=\"middle\">nummod</textPath>\n",
              "    </text>\n",
              "    <path class=\"displacy-arrowhead\" d=\"M1790.0,266.5 L1798.0,254.5 1782.0,254.5\" fill=\"currentColor\"/>\n",
              "</g>\n",
              "\n",
              "<g class=\"displacy-arrow\">\n",
              "    <path class=\"displacy-arc\" id=\"arrow-c14fa93e38fe4c3fb970a19ca1397f0c-0-10\" stroke-width=\"2px\" d=\"M1645,264.5 C1645,89.5 1970.0,89.5 1970.0,264.5\" fill=\"none\" stroke=\"currentColor\"/>\n",
              "    <text dy=\"1.25em\" style=\"font-size: 0.8em; letter-spacing: 1px\">\n",
              "        <textPath xlink:href=\"#arrow-c14fa93e38fe4c3fb970a19ca1397f0c-0-10\" class=\"displacy-label\" startOffset=\"50%\" side=\"left\" fill=\"currentColor\" text-anchor=\"middle\">nummod</textPath>\n",
              "    </text>\n",
              "    <path class=\"displacy-arrowhead\" d=\"M1970.0,266.5 L1978.0,254.5 1962.0,254.5\" fill=\"currentColor\"/>\n",
              "</g>\n",
              "</svg></span>"
            ],
            "text/plain": [
              "<IPython.core.display.HTML object>"
            ]
          },
          "metadata": {
            "tags": []
          }
        }
      ]
    },
    {
      "cell_type": "code",
      "metadata": {
        "id": "9nuuK92-ESxn",
        "colab_type": "code",
        "colab": {
          "base_uri": "https://localhost:8080/",
          "height": 52
        },
        "outputId": "764c0830-9187-4196-aed7-6d76b69abf9b"
      },
      "source": [
        "displacy.render(doc, style=\"ent\", jupyter=True)"
      ],
      "execution_count": 35,
      "outputs": [
        {
          "output_type": "display_data",
          "data": {
            "text/html": [
              "<span class=\"tex2jax_ignore\"><div class=\"entities\" style=\"line-height: 2.5; direction: ltr\">Human machine interface for lab \n",
              "<mark class=\"entity\" style=\"background: #7aecec; padding: 0.45em 0.6em; margin: 0 0.25em; line-height: 1; border-radius: 0.35em;\">\n",
              "    abc\n",
              "    <span style=\"font-size: 0.8em; font-weight: bold; line-height: 1; border-radius: 0.35em; text-transform: uppercase; vertical-align: middle; margin-left: 0.5rem\">ORG</span>\n",
              "</mark>\n",
              " computer applications on \n",
              "<mark class=\"entity\" style=\"background: #bfe1d9; padding: 0.45em 0.6em; margin: 0 0.25em; line-height: 1; border-radius: 0.35em;\">\n",
              "    May 10, 2000\n",
              "    <span style=\"font-size: 0.8em; font-weight: bold; line-height: 1; border-radius: 0.35em; text-transform: uppercase; vertical-align: middle; margin-left: 0.5rem\">DATE</span>\n",
              "</mark>\n",
              "</div></span>"
            ],
            "text/plain": [
              "<IPython.core.display.HTML object>"
            ]
          },
          "metadata": {
            "tags": []
          }
        }
      ]
    },
    {
      "cell_type": "markdown",
      "metadata": {
        "id": "diPVUb4VoZ1i",
        "colab_type": "text"
      },
      "source": [
        "## SpaCy -> Gensim\n",
        "* Gensim wants text\n",
        "* token.text from SpaCy"
      ]
    },
    {
      "cell_type": "markdown",
      "metadata": {
        "id": "L2X04cj4DHzx",
        "colab_type": "text"
      },
      "source": [
        "# Latent Dirichlet Allocation - LDA\n",
        "* Proposed in 2000 in the genetics field\n",
        "* Applied to NLP in 2003 by Blei & Ng\n",
        "* Generative probablistic model of a corpus (collection of documents)\n",
        "  * Documents can be approximated with random mixtures over latent topics\n",
        "  * Each topic is represented as a distribution over the words in the vocabulary\n",
        "\n",
        "## Thought Experiment\n",
        "* Corpus of Documents\n",
        "* Latent Topics\n",
        "  * Sports \n",
        "  * Politics\n",
        "  * Scary\n",
        "* Documents\n",
        "  * Given document - what topic?\n",
        "  * 10% Sports, 80% Politics, 10% Scary\n",
        "  * 60% Sports, 20% Politics, 20% Scary\n",
        "  * 33% Sports, 34% Politics, 33% Scary\n",
        "  * Documents can be a mixture of topics!\n",
        "* Words \n",
        "  * Given topic - what word?\n",
        "  * Court: 40% Sports, 40% Politics, 20% Scary\n",
        "  * Ghost: 10% Sports, 10% Politics, 60% Scary\n",
        "  * Race : 40% Sports, 30% Politics, 10% Scary\n",
        "  * Win  : 10% Sports, 20% Politics, 10% Scary\n",
        "  * Words are a distribution over the vocabulary conditioned by the topic\n",
        "\n",
        "## Dirichlet Distribution\n",
        "* Hyperparameter alpha controls edge / center\n",
        "![alt text](https://cdn-images-1.medium.com/max/900/0*mAmRqUT4gRoFj-eo.)\n",
        "\n",
        "## Technical Notes\n",
        "* Can we build a machine to generate documents with just dice?\n",
        "* Approach:\n",
        "  * How many documents?  Use the size of the corpus.\n",
        "  * How many words (N) in \"document\"?  Use the corpus average length and draw from Poisson distribution. \n",
        "    * Expected Value = Average Length\n",
        "    * Variance = Average Length\n",
        "  * Choose Topic Mix from Dirichlet distribution (Theta)\n",
        "    * Hyperparameter alpha (is our Dirichlet more focused in the center or to the edges)?\n",
        "  * For each word (N):\n",
        "    * Choose a topic (Z) from Multinomial distribution (Theta)\n",
        "    * Choose a word conditioned on Topic (Z)\n",
        "    * Note:  We don't write a document, but rather reproduce the \"bag\"\n",
        "  * Repeat for each document in corpus\n",
        "  * Select machine that \"reconstructs\" the original document the best\n",
        "  * Repeat process\n",
        "* After processing we get two matrixes\n",
        "  * Words X Topics\n",
        "  * Topics X Documents\n",
        "\n"
      ]
    },
    {
      "cell_type": "markdown",
      "metadata": {
        "id": "FLCUVBTpQ7f3",
        "colab_type": "text"
      },
      "source": [
        "# LSA vs LDA\n",
        "\n",
        "![alt text](https://image2.slideserve.com/3877409/slide21-l.jpg)\n",
        "\n",
        "* LSA\n",
        "  * Keep things spread apart that were far apart to start\n",
        "  * LSA has the advantage of good optimization\n",
        "* LDA\n",
        "  * Keep things close that were close together to start\n",
        "  * More understandable \n",
        "  * Tends to keep frequently co-occurring words in the same topic"
      ]
    },
    {
      "cell_type": "markdown",
      "metadata": {
        "id": "qfb_BAmrgmph",
        "colab_type": "text"
      },
      "source": [
        "# Seattle - Dataset\n",
        "* Use SpaCy to parse \"name\" field\n",
        "* Use Gensim to:\n",
        "  * Transform to tf-idf space\n",
        "  * Transform to LSA space\n",
        "  * Build a LDA Model\n",
        "* Craft features from topics\n",
        "* Build ML model to forecast AirBnB price"
      ]
    },
    {
      "cell_type": "markdown",
      "metadata": {
        "id": "_3WcRfLArVey",
        "colab_type": "text"
      },
      "source": [
        "## Documents"
      ]
    },
    {
      "cell_type": "code",
      "metadata": {
        "id": "GrO4bCjDgrJe",
        "colab_type": "code",
        "colab": {
          "base_uri": "https://localhost:8080/",
          "height": 187
        },
        "outputId": "6fff22ee-114b-45b2-cc14-3e6689c28f73"
      },
      "source": [
        "documents = seattle_df.name.to_list()\n",
        "documents[0:10]"
      ],
      "execution_count": 36,
      "outputs": [
        {
          "output_type": "execute_result",
          "data": {
            "text/plain": [
              "['Casa Madrona - Urban Oasis, 1 block from the Park!',\n",
              " 'Sweet Seattle Urban Homestead 2 Bdr',\n",
              " 'Sunrise in Seattle Master Suite',\n",
              " 'Cozy Studio, min. to downtown -WiFi',\n",
              " 'Fab, private seattle urban cottage!',\n",
              " 'Glorious sun room w/ memory foambed',\n",
              " 'Downtown/Convention Ctr B&B - Nice!',\n",
              " 'The Adorable Sweet Orange Craftsman',\n",
              " 'The Coolest Tangerine Dream MIL! ',\n",
              " 'the down home , spacious, central and fab!']"
            ]
          },
          "metadata": {
            "tags": []
          },
          "execution_count": 36
        }
      ]
    },
    {
      "cell_type": "markdown",
      "metadata": {
        "id": "il7cg9InrW6M",
        "colab_type": "text"
      },
      "source": [
        "## Tokenize\n",
        "* Skip stopwords\n",
        "* Skip punctuation"
      ]
    },
    {
      "cell_type": "code",
      "metadata": {
        "id": "XPAtQd3Kg9tp",
        "colab_type": "code",
        "colab": {
          "base_uri": "https://localhost:8080/",
          "height": 187
        },
        "outputId": "86305411-2d14-4c0e-9b74-20ee5c7939be"
      },
      "source": [
        "nlp = spacy.load('en')\n",
        "tokens = [nlp(document) for document in documents]\n",
        "tokens[0:10]"
      ],
      "execution_count": 37,
      "outputs": [
        {
          "output_type": "execute_result",
          "data": {
            "text/plain": [
              "[Casa Madrona - Urban Oasis, 1 block from the Park!,\n",
              " Sweet Seattle Urban Homestead 2 Bdr,\n",
              " Sunrise in Seattle Master Suite,\n",
              " Cozy Studio, min. to downtown -WiFi,\n",
              " Fab, private seattle urban cottage!,\n",
              " Glorious sun room w/ memory foambed,\n",
              " Downtown/Convention Ctr B&B - Nice!,\n",
              " The Adorable Sweet Orange Craftsman,\n",
              " The Coolest Tangerine Dream MIL! ,\n",
              " the down home , spacious, central and fab!]"
            ]
          },
          "metadata": {
            "tags": []
          },
          "execution_count": 37
        }
      ]
    },
    {
      "cell_type": "code",
      "metadata": {
        "id": "amNrs9ZGiIi2",
        "colab_type": "code",
        "colab": {}
      },
      "source": [
        "texts = [\n",
        "         [token.text for token in document\n",
        "          if not token.is_stop and not token.is_punct]\n",
        "         for document in tokens\n",
        "        ]"
      ],
      "execution_count": 38,
      "outputs": []
    },
    {
      "cell_type": "markdown",
      "metadata": {
        "id": "ukjtfFSZrYnq",
        "colab_type": "text"
      },
      "source": [
        "## Dictionary"
      ]
    },
    {
      "cell_type": "code",
      "metadata": {
        "id": "Y-qY8ONmh3Ij",
        "colab_type": "code",
        "colab": {
          "base_uri": "https://localhost:8080/",
          "height": 34
        },
        "outputId": "40f673d7-ae0d-42f9-804e-6e23d13b3fc6"
      },
      "source": [
        "dictionary = corpora.Dictionary(texts)\n",
        "print(dictionary)"
      ],
      "execution_count": 39,
      "outputs": [
        {
          "output_type": "stream",
          "text": [
            "Dictionary(4297 unique tokens: ['1', 'Casa', 'Madrona', 'Oasis', 'Park']...)\n"
          ],
          "name": "stdout"
        }
      ]
    },
    {
      "cell_type": "markdown",
      "metadata": {
        "id": "VYXNlH1QraAs",
        "colab_type": "text"
      },
      "source": [
        "## Bag of Words"
      ]
    },
    {
      "cell_type": "code",
      "metadata": {
        "id": "JhkoKbmWi30h",
        "colab_type": "code",
        "colab": {}
      },
      "source": [
        "corpus = [dictionary.doc2bow(text) for text in texts]"
      ],
      "execution_count": 40,
      "outputs": []
    },
    {
      "cell_type": "markdown",
      "metadata": {
        "id": "GngWNV_xrcsA",
        "colab_type": "text"
      },
      "source": [
        "## TF-IDF"
      ]
    },
    {
      "cell_type": "code",
      "metadata": {
        "id": "AY5AJmLzi-TI",
        "colab_type": "code",
        "colab": {}
      },
      "source": [
        "tfidf = models.TfidfModel(corpus) \n",
        "corpus_tfidf = tfidf[corpus]"
      ],
      "execution_count": 41,
      "outputs": []
    },
    {
      "cell_type": "markdown",
      "metadata": {
        "id": "bykIfZkmrj71",
        "colab_type": "text"
      },
      "source": [
        "## LSA Model"
      ]
    },
    {
      "cell_type": "code",
      "metadata": {
        "id": "ZufndIPojD5L",
        "colab_type": "code",
        "colab": {
          "base_uri": "https://localhost:8080/",
          "height": 102
        },
        "outputId": "8774a59d-2733-40cc-fe34-c8e23f075fbb"
      },
      "source": [
        "lsi_model = models.LsiModel(corpus_tfidf, id2word=dictionary, num_topics=5) \n",
        "corpus_lsi = lsi_model[corpus_tfidf]  \n",
        "lsi_model.print_topics(5, num_words=3)"
      ],
      "execution_count": 42,
      "outputs": [
        {
          "output_type": "execute_result",
          "data": {
            "text/plain": [
              "[(0, '0.329*\"Seattle\" + 0.274*\"Hill\" + 0.259*\"Private\"'),\n",
              " (1, '-0.537*\"Hill\" + -0.513*\"Capitol\" + 0.298*\"Seattle\"'),\n",
              " (2, '0.468*\"Place\" + 0.454*\"Pike\" + -0.282*\"Hill\"'),\n",
              " (3, '-0.557*\"Queen\" + -0.533*\"Anne\" + 0.376*\"Seattle\"'),\n",
              " (4, '0.305*\"Lake\" + 0.296*\"Apt\" + 0.284*\"near\"')]"
            ]
          },
          "metadata": {
            "tags": []
          },
          "execution_count": 42
        }
      ]
    },
    {
      "cell_type": "markdown",
      "metadata": {
        "id": "EmslvxNzrAyc",
        "colab_type": "text"
      },
      "source": [
        "## LDA Model"
      ]
    },
    {
      "cell_type": "markdown",
      "metadata": {
        "id": "c2iPKxsnRvAk",
        "colab_type": "text"
      },
      "source": [
        "### Bag of Words"
      ]
    },
    {
      "cell_type": "code",
      "metadata": {
        "id": "dBoJG65JRVlw",
        "colab_type": "code",
        "colab": {
          "base_uri": "https://localhost:8080/",
          "height": 102
        },
        "outputId": "e2062f64-953e-4ea8-b74c-eccb9b0258ac"
      },
      "source": [
        "lda_bow_model = models.LdaModel(corpus, id2word=dictionary, num_topics=5) \n",
        "corpus_bow_lda = lda_model[corpus]  \n",
        "lda_bow_model.print_topics(5, num_words=3)"
      ],
      "execution_count": 47,
      "outputs": [
        {
          "output_type": "execute_result",
          "data": {
            "text/plain": [
              "[(0, '0.047*\"Hill\" + 0.033*\"Capitol\" + 0.026*\"Seattle\"'),\n",
              " (1, '0.020*\"2\" + 0.019*\"Seattle\" + 0.018*\"Studio\"'),\n",
              " (2, '0.053*\"Seattle\" + 0.041*\"Apartment\" + 0.024*\"Private\"'),\n",
              " (3, '0.033*\"★\" + 0.027*\"near\" + 0.024*\"House\"'),\n",
              " (4, '0.036*\"Seattle\" + 0.023*\"Place\" + 0.022*\"Pike\"')]"
            ]
          },
          "metadata": {
            "tags": []
          },
          "execution_count": 47
        }
      ]
    },
    {
      "cell_type": "markdown",
      "metadata": {
        "id": "df2XsXRRRx_H",
        "colab_type": "text"
      },
      "source": [
        "### TF-IDF"
      ]
    },
    {
      "cell_type": "code",
      "metadata": {
        "colab_type": "code",
        "id": "RtQQkFR1k_9M",
        "colab": {
          "base_uri": "https://localhost:8080/",
          "height": 102
        },
        "outputId": "53c0112f-da4e-4797-e589-7e77189d9beb"
      },
      "source": [
        "lda_model = models.LdaModel(corpus_tfidf, id2word=dictionary, num_topics=5) \n",
        "corpus_lda = lda_model[corpus_tfidf]  \n",
        "lda_model.print_topics(5, num_words=3)"
      ],
      "execution_count": 45,
      "outputs": [
        {
          "output_type": "execute_result",
          "data": {
            "text/plain": [
              "[(0, '0.018*\"Place\" + 0.017*\"Pike\" + 0.016*\"Hill\"'),\n",
              " (1, '0.012*\"Seattle\" + 0.011*\"Queen\" + 0.011*\"xx\"'),\n",
              " (2, '0.012*\"House\" + 0.012*\"heart\" + 0.011*\"Puget\"'),\n",
              " (3, '0.010*\"Seattle\" + 0.009*\"Private\" + 0.009*\"Bedroom\"'),\n",
              " (4, '0.012*\"Seattle\" + 0.010*\"Hill\" + 0.009*\"Apartment\"')]"
            ]
          },
          "metadata": {
            "tags": []
          },
          "execution_count": 45
        }
      ]
    },
    {
      "cell_type": "markdown",
      "metadata": {
        "id": "dyboEF4Kq9w5",
        "colab_type": "text"
      },
      "source": [
        "## Features from Topics"
      ]
    },
    {
      "cell_type": "code",
      "metadata": {
        "id": "cvHuM91HoQ0U",
        "colab_type": "code",
        "colab": {
          "base_uri": "https://localhost:8080/",
          "height": 581
        },
        "outputId": "cf411f08-f7c4-42a6-eb35-132516d3f95b"
      },
      "source": [
        "seattle_topic_df = seattle_df.copy()\n",
        "\n",
        "assignments = [item for item in lda_model.get_document_topics(corpus_lda)]\n",
        "for index in range(lda_model.num_topics):\n",
        "  seattle_topic_df[f'lda_topic_{index}'] = [assign[index][1] for assign in assignments]\n",
        "\n",
        "seattle_topic_df.head()"
      ],
      "execution_count": 48,
      "outputs": [
        {
          "output_type": "execute_result",
          "data": {
            "text/html": [
              "<div>\n",
              "<style scoped>\n",
              "    .dataframe tbody tr th:only-of-type {\n",
              "        vertical-align: middle;\n",
              "    }\n",
              "\n",
              "    .dataframe tbody tr th {\n",
              "        vertical-align: top;\n",
              "    }\n",
              "\n",
              "    .dataframe thead th {\n",
              "        text-align: right;\n",
              "    }\n",
              "</style>\n",
              "<table border=\"1\" class=\"dataframe\">\n",
              "  <thead>\n",
              "    <tr style=\"text-align: right;\">\n",
              "      <th></th>\n",
              "      <th>Unnamed: 0</th>\n",
              "      <th>room_id</th>\n",
              "      <th>host_id</th>\n",
              "      <th>room_type</th>\n",
              "      <th>address</th>\n",
              "      <th>reviews</th>\n",
              "      <th>overall_satisfaction</th>\n",
              "      <th>accommodates</th>\n",
              "      <th>bedrooms</th>\n",
              "      <th>bathrooms</th>\n",
              "      <th>price</th>\n",
              "      <th>last_modified</th>\n",
              "      <th>latitude</th>\n",
              "      <th>longitude</th>\n",
              "      <th>location</th>\n",
              "      <th>name</th>\n",
              "      <th>currency</th>\n",
              "      <th>rate_type</th>\n",
              "      <th>lda_topic_0</th>\n",
              "      <th>lda_topic_1</th>\n",
              "      <th>lda_topic_2</th>\n",
              "      <th>lda_topic_3</th>\n",
              "      <th>lda_topic_4</th>\n",
              "    </tr>\n",
              "  </thead>\n",
              "  <tbody>\n",
              "    <tr>\n",
              "      <th>0</th>\n",
              "      <td>0</td>\n",
              "      <td>2318</td>\n",
              "      <td>2536</td>\n",
              "      <td>Entire home/apt</td>\n",
              "      <td>Seattle, WA, United States</td>\n",
              "      <td>21</td>\n",
              "      <td>5.0</td>\n",
              "      <td>8</td>\n",
              "      <td>4.0</td>\n",
              "      <td>2.5</td>\n",
              "      <td>250</td>\n",
              "      <td>2018-12-20 03:46:14.698548</td>\n",
              "      <td>47.610819</td>\n",
              "      <td>-122.290816</td>\n",
              "      <td>0101000020E6100000D449B6BA9C925EC0416326512FCE...</td>\n",
              "      <td>Casa Madrona - Urban Oasis, 1 block from the P...</td>\n",
              "      <td>USD</td>\n",
              "      <td>nightly</td>\n",
              "      <td>0.103684</td>\n",
              "      <td>0.585852</td>\n",
              "      <td>0.108730</td>\n",
              "      <td>0.101389</td>\n",
              "      <td>0.100345</td>\n",
              "    </tr>\n",
              "    <tr>\n",
              "      <th>1</th>\n",
              "      <td>1</td>\n",
              "      <td>3335</td>\n",
              "      <td>4193</td>\n",
              "      <td>Entire home/apt</td>\n",
              "      <td>Seattle, WA, United States</td>\n",
              "      <td>1</td>\n",
              "      <td>NaN</td>\n",
              "      <td>4</td>\n",
              "      <td>2.0</td>\n",
              "      <td>1.0</td>\n",
              "      <td>100</td>\n",
              "      <td>2018-12-20 04:08:45.277643</td>\n",
              "      <td>47.529846</td>\n",
              "      <td>-122.275840</td>\n",
              "      <td>0101000020E61000006FBBD05CA7915EC04DF564FED1C3...</td>\n",
              "      <td>Sweet Seattle Urban Homestead 2 Bdr</td>\n",
              "      <td>USD</td>\n",
              "      <td>nightly</td>\n",
              "      <td>0.106048</td>\n",
              "      <td>0.174466</td>\n",
              "      <td>0.104415</td>\n",
              "      <td>0.512702</td>\n",
              "      <td>0.102369</td>\n",
              "    </tr>\n",
              "    <tr>\n",
              "      <th>2</th>\n",
              "      <td>2</td>\n",
              "      <td>4291</td>\n",
              "      <td>35749</td>\n",
              "      <td>Private room</td>\n",
              "      <td>Seattle, WA, United States</td>\n",
              "      <td>63</td>\n",
              "      <td>4.5</td>\n",
              "      <td>2</td>\n",
              "      <td>1.0</td>\n",
              "      <td>1.0</td>\n",
              "      <td>82</td>\n",
              "      <td>2018-12-20 03:04:19.861014</td>\n",
              "      <td>47.687801</td>\n",
              "      <td>-122.313427</td>\n",
              "      <td>0101000020E6100000BDAB1E300F945EC0FB93F8DC09D8...</td>\n",
              "      <td>Sunrise in Seattle Master Suite</td>\n",
              "      <td>USD</td>\n",
              "      <td>nightly</td>\n",
              "      <td>0.107602</td>\n",
              "      <td>0.577750</td>\n",
              "      <td>0.112417</td>\n",
              "      <td>0.101793</td>\n",
              "      <td>0.100439</td>\n",
              "    </tr>\n",
              "    <tr>\n",
              "      <th>3</th>\n",
              "      <td>3</td>\n",
              "      <td>5682</td>\n",
              "      <td>8993</td>\n",
              "      <td>Entire home/apt</td>\n",
              "      <td>Seattle, WA, United States</td>\n",
              "      <td>462</td>\n",
              "      <td>5.0</td>\n",
              "      <td>2</td>\n",
              "      <td>0.0</td>\n",
              "      <td>1.0</td>\n",
              "      <td>49</td>\n",
              "      <td>2018-12-20 04:11:25.482975</td>\n",
              "      <td>47.523980</td>\n",
              "      <td>-122.359891</td>\n",
              "      <td>0101000020E6100000FCC7427408975EC009E1D1C611C3...</td>\n",
              "      <td>Cozy Studio, min. to downtown -WiFi</td>\n",
              "      <td>USD</td>\n",
              "      <td>nightly</td>\n",
              "      <td>0.106012</td>\n",
              "      <td>0.180719</td>\n",
              "      <td>0.104729</td>\n",
              "      <td>0.506179</td>\n",
              "      <td>0.102360</td>\n",
              "    </tr>\n",
              "    <tr>\n",
              "      <th>4</th>\n",
              "      <td>4</td>\n",
              "      <td>6606</td>\n",
              "      <td>14942</td>\n",
              "      <td>Entire home/apt</td>\n",
              "      <td>Seattle, WA, United States</td>\n",
              "      <td>134</td>\n",
              "      <td>4.5</td>\n",
              "      <td>2</td>\n",
              "      <td>1.0</td>\n",
              "      <td>1.0</td>\n",
              "      <td>90</td>\n",
              "      <td>2018-12-20 03:12:38.391711</td>\n",
              "      <td>47.654109</td>\n",
              "      <td>-122.337605</td>\n",
              "      <td>0101000020E6100000D47D00529B955EC07782FDD7B9D3...</td>\n",
              "      <td>Fab, private seattle urban cottage!</td>\n",
              "      <td>USD</td>\n",
              "      <td>nightly</td>\n",
              "      <td>0.106098</td>\n",
              "      <td>0.173499</td>\n",
              "      <td>0.104470</td>\n",
              "      <td>0.513570</td>\n",
              "      <td>0.102364</td>\n",
              "    </tr>\n",
              "  </tbody>\n",
              "</table>\n",
              "</div>"
            ],
            "text/plain": [
              "   Unnamed: 0  room_id  host_id  ... lda_topic_2 lda_topic_3  lda_topic_4\n",
              "0           0     2318     2536  ...    0.108730    0.101389     0.100345\n",
              "1           1     3335     4193  ...    0.104415    0.512702     0.102369\n",
              "2           2     4291    35749  ...    0.112417    0.101793     0.100439\n",
              "3           3     5682     8993  ...    0.104729    0.506179     0.102360\n",
              "4           4     6606    14942  ...    0.104470    0.513570     0.102364\n",
              "\n",
              "[5 rows x 23 columns]"
            ]
          },
          "metadata": {
            "tags": []
          },
          "execution_count": 48
        }
      ]
    },
    {
      "cell_type": "markdown",
      "metadata": {
        "id": "pkHRIUAnnKyp",
        "colab_type": "text"
      },
      "source": [
        "# Seattle Prediction"
      ]
    },
    {
      "cell_type": "code",
      "metadata": {
        "id": "U4YJZN4ouMdi",
        "colab_type": "code",
        "colab": {
          "base_uri": "https://localhost:8080/",
          "height": 425
        },
        "outputId": "8216e735-e08d-43cd-d61e-e6917f1c1511"
      },
      "source": [
        "seattle_topic_df.dtypes"
      ],
      "execution_count": 49,
      "outputs": [
        {
          "output_type": "execute_result",
          "data": {
            "text/plain": [
              "Unnamed: 0                int64\n",
              "room_id                   int64\n",
              "host_id                   int64\n",
              "room_type                object\n",
              "address                  object\n",
              "reviews                   int64\n",
              "overall_satisfaction    float64\n",
              "accommodates              int64\n",
              "bedrooms                float64\n",
              "bathrooms               float64\n",
              "price                     int64\n",
              "last_modified            object\n",
              "latitude                float64\n",
              "longitude               float64\n",
              "location                 object\n",
              "name                     object\n",
              "currency                 object\n",
              "rate_type                object\n",
              "lda_topic_0             float64\n",
              "lda_topic_1             float64\n",
              "lda_topic_2             float64\n",
              "lda_topic_3             float64\n",
              "lda_topic_4             float64\n",
              "dtype: object"
            ]
          },
          "metadata": {
            "tags": []
          },
          "execution_count": 49
        }
      ]
    },
    {
      "cell_type": "code",
      "metadata": {
        "id": "GNmBiArrvwYa",
        "colab_type": "code",
        "colab": {}
      },
      "source": [
        "columns = ['room_type',\n",
        "           'reviews',\n",
        "           'overall_satisfaction',\n",
        "           'accommodates',\n",
        "           'bedrooms',\n",
        "           'bathrooms',\n",
        "           'price',\n",
        "           'latitude',\n",
        "           'longitude',\n",
        "           'currency',\n",
        "           'rate_type',\n",
        "           'lda_topic_0',\n",
        "           'lda_topic_1',\n",
        "           'lda_topic_2',\n",
        "           'lda_topic_3',\n",
        "           'lda_topic_4']\n",
        "\n",
        "X_train = seattle_topic_df[columns]"
      ],
      "execution_count": 52,
      "outputs": []
    },
    {
      "cell_type": "code",
      "metadata": {
        "id": "FfBkvV8pwURY",
        "colab_type": "code",
        "colab": {
          "base_uri": "https://localhost:8080/",
          "height": 309
        },
        "outputId": "735bbba5-9c8b-49c0-9a1e-cad0b7df55b4"
      },
      "source": [
        "X_train.head()"
      ],
      "execution_count": 53,
      "outputs": [
        {
          "output_type": "execute_result",
          "data": {
            "text/html": [
              "<div>\n",
              "<style scoped>\n",
              "    .dataframe tbody tr th:only-of-type {\n",
              "        vertical-align: middle;\n",
              "    }\n",
              "\n",
              "    .dataframe tbody tr th {\n",
              "        vertical-align: top;\n",
              "    }\n",
              "\n",
              "    .dataframe thead th {\n",
              "        text-align: right;\n",
              "    }\n",
              "</style>\n",
              "<table border=\"1\" class=\"dataframe\">\n",
              "  <thead>\n",
              "    <tr style=\"text-align: right;\">\n",
              "      <th></th>\n",
              "      <th>room_type</th>\n",
              "      <th>reviews</th>\n",
              "      <th>overall_satisfaction</th>\n",
              "      <th>accommodates</th>\n",
              "      <th>bedrooms</th>\n",
              "      <th>bathrooms</th>\n",
              "      <th>price</th>\n",
              "      <th>latitude</th>\n",
              "      <th>longitude</th>\n",
              "      <th>currency</th>\n",
              "      <th>rate_type</th>\n",
              "      <th>lda_topic_0</th>\n",
              "      <th>lda_topic_1</th>\n",
              "      <th>lda_topic_2</th>\n",
              "      <th>lda_topic_3</th>\n",
              "      <th>lda_topic_4</th>\n",
              "    </tr>\n",
              "  </thead>\n",
              "  <tbody>\n",
              "    <tr>\n",
              "      <th>0</th>\n",
              "      <td>Entire home/apt</td>\n",
              "      <td>21</td>\n",
              "      <td>5.0</td>\n",
              "      <td>8</td>\n",
              "      <td>4.0</td>\n",
              "      <td>2.5</td>\n",
              "      <td>250</td>\n",
              "      <td>47.610819</td>\n",
              "      <td>-122.290816</td>\n",
              "      <td>USD</td>\n",
              "      <td>nightly</td>\n",
              "      <td>0.103684</td>\n",
              "      <td>0.585852</td>\n",
              "      <td>0.108730</td>\n",
              "      <td>0.101389</td>\n",
              "      <td>0.100345</td>\n",
              "    </tr>\n",
              "    <tr>\n",
              "      <th>1</th>\n",
              "      <td>Entire home/apt</td>\n",
              "      <td>1</td>\n",
              "      <td>NaN</td>\n",
              "      <td>4</td>\n",
              "      <td>2.0</td>\n",
              "      <td>1.0</td>\n",
              "      <td>100</td>\n",
              "      <td>47.529846</td>\n",
              "      <td>-122.275840</td>\n",
              "      <td>USD</td>\n",
              "      <td>nightly</td>\n",
              "      <td>0.106048</td>\n",
              "      <td>0.174466</td>\n",
              "      <td>0.104415</td>\n",
              "      <td>0.512702</td>\n",
              "      <td>0.102369</td>\n",
              "    </tr>\n",
              "    <tr>\n",
              "      <th>2</th>\n",
              "      <td>Private room</td>\n",
              "      <td>63</td>\n",
              "      <td>4.5</td>\n",
              "      <td>2</td>\n",
              "      <td>1.0</td>\n",
              "      <td>1.0</td>\n",
              "      <td>82</td>\n",
              "      <td>47.687801</td>\n",
              "      <td>-122.313427</td>\n",
              "      <td>USD</td>\n",
              "      <td>nightly</td>\n",
              "      <td>0.107602</td>\n",
              "      <td>0.577750</td>\n",
              "      <td>0.112417</td>\n",
              "      <td>0.101793</td>\n",
              "      <td>0.100439</td>\n",
              "    </tr>\n",
              "    <tr>\n",
              "      <th>3</th>\n",
              "      <td>Entire home/apt</td>\n",
              "      <td>462</td>\n",
              "      <td>5.0</td>\n",
              "      <td>2</td>\n",
              "      <td>0.0</td>\n",
              "      <td>1.0</td>\n",
              "      <td>49</td>\n",
              "      <td>47.523980</td>\n",
              "      <td>-122.359891</td>\n",
              "      <td>USD</td>\n",
              "      <td>nightly</td>\n",
              "      <td>0.106012</td>\n",
              "      <td>0.180719</td>\n",
              "      <td>0.104729</td>\n",
              "      <td>0.506179</td>\n",
              "      <td>0.102360</td>\n",
              "    </tr>\n",
              "    <tr>\n",
              "      <th>4</th>\n",
              "      <td>Entire home/apt</td>\n",
              "      <td>134</td>\n",
              "      <td>4.5</td>\n",
              "      <td>2</td>\n",
              "      <td>1.0</td>\n",
              "      <td>1.0</td>\n",
              "      <td>90</td>\n",
              "      <td>47.654109</td>\n",
              "      <td>-122.337605</td>\n",
              "      <td>USD</td>\n",
              "      <td>nightly</td>\n",
              "      <td>0.106098</td>\n",
              "      <td>0.173499</td>\n",
              "      <td>0.104470</td>\n",
              "      <td>0.513570</td>\n",
              "      <td>0.102364</td>\n",
              "    </tr>\n",
              "  </tbody>\n",
              "</table>\n",
              "</div>"
            ],
            "text/plain": [
              "         room_type  reviews  ...  lda_topic_3  lda_topic_4\n",
              "0  Entire home/apt       21  ...     0.101389     0.100345\n",
              "1  Entire home/apt        1  ...     0.512702     0.102369\n",
              "2     Private room       63  ...     0.101793     0.100439\n",
              "3  Entire home/apt      462  ...     0.506179     0.102360\n",
              "4  Entire home/apt      134  ...     0.513570     0.102364\n",
              "\n",
              "[5 rows x 16 columns]"
            ]
          },
          "metadata": {
            "tags": []
          },
          "execution_count": 53
        }
      ]
    },
    {
      "cell_type": "code",
      "metadata": {
        "id": "E29MpiSRwnir",
        "colab_type": "code",
        "colab": {
          "base_uri": "https://localhost:8080/",
          "height": 34
        },
        "outputId": "a4315b10-c959-45fd-b0a8-e36e2a5d7342"
      },
      "source": [
        "print('Train', X_train.shape)"
      ],
      "execution_count": 54,
      "outputs": [
        {
          "output_type": "stream",
          "text": [
            "Train (7576, 16)\n"
          ],
          "name": "stdout"
        }
      ]
    },
    {
      "cell_type": "markdown",
      "metadata": {
        "id": "2YXvcd3fw9Gk",
        "colab_type": "text"
      },
      "source": [
        "## Model"
      ]
    },
    {
      "cell_type": "code",
      "metadata": {
        "id": "CZWSr9YgxfJb",
        "colab_type": "code",
        "colab": {
          "base_uri": "https://localhost:8080/",
          "height": 956,
          "referenced_widgets": [
            "70d2d4ab21e144199a8f48b16e43156d",
            "d6aa7d93590f4a86946358b2301d93ef",
            "654bb003801e4d5faa6f3528a434f607",
            "81bafbde079041ad99742fb8a1c7e353",
            "df21efca3d764a81b9f63b1527741e44",
            "0c3c64ac50d644069232952a7ae68bdb"
          ]
        },
        "outputId": "5523fa13-d723-4037-d813-180c1e666eea"
      },
      "source": [
        "experiment = setup(X_train, target='price',\n",
        "                   numeric_features = ['accommodates'])"
      ],
      "execution_count": 56,
      "outputs": [
        {
          "output_type": "stream",
          "text": [
            " \n",
            "Setup Succesfully Completed!\n"
          ],
          "name": "stdout"
        },
        {
          "output_type": "display_data",
          "data": {
            "text/html": [
              "<style  type=\"text/css\" >\n",
              "    #T_8519796e_c1d5_11ea_abba_0242ac1c0002row4_col1 {\n",
              "            background-color:  lightgreen;\n",
              "        }</style><table id=\"T_8519796e_c1d5_11ea_abba_0242ac1c0002\" ><thead>    <tr>        <th class=\"blank level0\" ></th>        <th class=\"col_heading level0 col0\" >Description</th>        <th class=\"col_heading level0 col1\" >Value</th>    </tr></thead><tbody>\n",
              "                <tr>\n",
              "                        <th id=\"T_8519796e_c1d5_11ea_abba_0242ac1c0002level0_row0\" class=\"row_heading level0 row0\" >0</th>\n",
              "                        <td id=\"T_8519796e_c1d5_11ea_abba_0242ac1c0002row0_col0\" class=\"data row0 col0\" >session_id</td>\n",
              "                        <td id=\"T_8519796e_c1d5_11ea_abba_0242ac1c0002row0_col1\" class=\"data row0 col1\" >7580</td>\n",
              "            </tr>\n",
              "            <tr>\n",
              "                        <th id=\"T_8519796e_c1d5_11ea_abba_0242ac1c0002level0_row1\" class=\"row_heading level0 row1\" >1</th>\n",
              "                        <td id=\"T_8519796e_c1d5_11ea_abba_0242ac1c0002row1_col0\" class=\"data row1 col0\" >Transform Target </td>\n",
              "                        <td id=\"T_8519796e_c1d5_11ea_abba_0242ac1c0002row1_col1\" class=\"data row1 col1\" >False</td>\n",
              "            </tr>\n",
              "            <tr>\n",
              "                        <th id=\"T_8519796e_c1d5_11ea_abba_0242ac1c0002level0_row2\" class=\"row_heading level0 row2\" >2</th>\n",
              "                        <td id=\"T_8519796e_c1d5_11ea_abba_0242ac1c0002row2_col0\" class=\"data row2 col0\" >Transform Target Method</td>\n",
              "                        <td id=\"T_8519796e_c1d5_11ea_abba_0242ac1c0002row2_col1\" class=\"data row2 col1\" >None</td>\n",
              "            </tr>\n",
              "            <tr>\n",
              "                        <th id=\"T_8519796e_c1d5_11ea_abba_0242ac1c0002level0_row3\" class=\"row_heading level0 row3\" >3</th>\n",
              "                        <td id=\"T_8519796e_c1d5_11ea_abba_0242ac1c0002row3_col0\" class=\"data row3 col0\" >Original Data</td>\n",
              "                        <td id=\"T_8519796e_c1d5_11ea_abba_0242ac1c0002row3_col1\" class=\"data row3 col1\" >(7576, 16)</td>\n",
              "            </tr>\n",
              "            <tr>\n",
              "                        <th id=\"T_8519796e_c1d5_11ea_abba_0242ac1c0002level0_row4\" class=\"row_heading level0 row4\" >4</th>\n",
              "                        <td id=\"T_8519796e_c1d5_11ea_abba_0242ac1c0002row4_col0\" class=\"data row4 col0\" >Missing Values </td>\n",
              "                        <td id=\"T_8519796e_c1d5_11ea_abba_0242ac1c0002row4_col1\" class=\"data row4 col1\" >True</td>\n",
              "            </tr>\n",
              "            <tr>\n",
              "                        <th id=\"T_8519796e_c1d5_11ea_abba_0242ac1c0002level0_row5\" class=\"row_heading level0 row5\" >5</th>\n",
              "                        <td id=\"T_8519796e_c1d5_11ea_abba_0242ac1c0002row5_col0\" class=\"data row5 col0\" >Numeric Features </td>\n",
              "                        <td id=\"T_8519796e_c1d5_11ea_abba_0242ac1c0002row5_col1\" class=\"data row5 col1\" >12</td>\n",
              "            </tr>\n",
              "            <tr>\n",
              "                        <th id=\"T_8519796e_c1d5_11ea_abba_0242ac1c0002level0_row6\" class=\"row_heading level0 row6\" >6</th>\n",
              "                        <td id=\"T_8519796e_c1d5_11ea_abba_0242ac1c0002row6_col0\" class=\"data row6 col0\" >Categorical Features </td>\n",
              "                        <td id=\"T_8519796e_c1d5_11ea_abba_0242ac1c0002row6_col1\" class=\"data row6 col1\" >3</td>\n",
              "            </tr>\n",
              "            <tr>\n",
              "                        <th id=\"T_8519796e_c1d5_11ea_abba_0242ac1c0002level0_row7\" class=\"row_heading level0 row7\" >7</th>\n",
              "                        <td id=\"T_8519796e_c1d5_11ea_abba_0242ac1c0002row7_col0\" class=\"data row7 col0\" >Ordinal Features </td>\n",
              "                        <td id=\"T_8519796e_c1d5_11ea_abba_0242ac1c0002row7_col1\" class=\"data row7 col1\" >False</td>\n",
              "            </tr>\n",
              "            <tr>\n",
              "                        <th id=\"T_8519796e_c1d5_11ea_abba_0242ac1c0002level0_row8\" class=\"row_heading level0 row8\" >8</th>\n",
              "                        <td id=\"T_8519796e_c1d5_11ea_abba_0242ac1c0002row8_col0\" class=\"data row8 col0\" >High Cardinality Features </td>\n",
              "                        <td id=\"T_8519796e_c1d5_11ea_abba_0242ac1c0002row8_col1\" class=\"data row8 col1\" >False</td>\n",
              "            </tr>\n",
              "            <tr>\n",
              "                        <th id=\"T_8519796e_c1d5_11ea_abba_0242ac1c0002level0_row9\" class=\"row_heading level0 row9\" >9</th>\n",
              "                        <td id=\"T_8519796e_c1d5_11ea_abba_0242ac1c0002row9_col0\" class=\"data row9 col0\" >High Cardinality Method </td>\n",
              "                        <td id=\"T_8519796e_c1d5_11ea_abba_0242ac1c0002row9_col1\" class=\"data row9 col1\" >None</td>\n",
              "            </tr>\n",
              "            <tr>\n",
              "                        <th id=\"T_8519796e_c1d5_11ea_abba_0242ac1c0002level0_row10\" class=\"row_heading level0 row10\" >10</th>\n",
              "                        <td id=\"T_8519796e_c1d5_11ea_abba_0242ac1c0002row10_col0\" class=\"data row10 col0\" >Sampled Data</td>\n",
              "                        <td id=\"T_8519796e_c1d5_11ea_abba_0242ac1c0002row10_col1\" class=\"data row10 col1\" >(7576, 16)</td>\n",
              "            </tr>\n",
              "            <tr>\n",
              "                        <th id=\"T_8519796e_c1d5_11ea_abba_0242ac1c0002level0_row11\" class=\"row_heading level0 row11\" >11</th>\n",
              "                        <td id=\"T_8519796e_c1d5_11ea_abba_0242ac1c0002row11_col0\" class=\"data row11 col0\" >Transformed Train Set</td>\n",
              "                        <td id=\"T_8519796e_c1d5_11ea_abba_0242ac1c0002row11_col1\" class=\"data row11 col1\" >(5303, 17)</td>\n",
              "            </tr>\n",
              "            <tr>\n",
              "                        <th id=\"T_8519796e_c1d5_11ea_abba_0242ac1c0002level0_row12\" class=\"row_heading level0 row12\" >12</th>\n",
              "                        <td id=\"T_8519796e_c1d5_11ea_abba_0242ac1c0002row12_col0\" class=\"data row12 col0\" >Transformed Test Set</td>\n",
              "                        <td id=\"T_8519796e_c1d5_11ea_abba_0242ac1c0002row12_col1\" class=\"data row12 col1\" >(2273, 17)</td>\n",
              "            </tr>\n",
              "            <tr>\n",
              "                        <th id=\"T_8519796e_c1d5_11ea_abba_0242ac1c0002level0_row13\" class=\"row_heading level0 row13\" >13</th>\n",
              "                        <td id=\"T_8519796e_c1d5_11ea_abba_0242ac1c0002row13_col0\" class=\"data row13 col0\" >Numeric Imputer </td>\n",
              "                        <td id=\"T_8519796e_c1d5_11ea_abba_0242ac1c0002row13_col1\" class=\"data row13 col1\" >mean</td>\n",
              "            </tr>\n",
              "            <tr>\n",
              "                        <th id=\"T_8519796e_c1d5_11ea_abba_0242ac1c0002level0_row14\" class=\"row_heading level0 row14\" >14</th>\n",
              "                        <td id=\"T_8519796e_c1d5_11ea_abba_0242ac1c0002row14_col0\" class=\"data row14 col0\" >Categorical Imputer </td>\n",
              "                        <td id=\"T_8519796e_c1d5_11ea_abba_0242ac1c0002row14_col1\" class=\"data row14 col1\" >constant</td>\n",
              "            </tr>\n",
              "            <tr>\n",
              "                        <th id=\"T_8519796e_c1d5_11ea_abba_0242ac1c0002level0_row15\" class=\"row_heading level0 row15\" >15</th>\n",
              "                        <td id=\"T_8519796e_c1d5_11ea_abba_0242ac1c0002row15_col0\" class=\"data row15 col0\" >Normalize </td>\n",
              "                        <td id=\"T_8519796e_c1d5_11ea_abba_0242ac1c0002row15_col1\" class=\"data row15 col1\" >False</td>\n",
              "            </tr>\n",
              "            <tr>\n",
              "                        <th id=\"T_8519796e_c1d5_11ea_abba_0242ac1c0002level0_row16\" class=\"row_heading level0 row16\" >16</th>\n",
              "                        <td id=\"T_8519796e_c1d5_11ea_abba_0242ac1c0002row16_col0\" class=\"data row16 col0\" >Normalize Method </td>\n",
              "                        <td id=\"T_8519796e_c1d5_11ea_abba_0242ac1c0002row16_col1\" class=\"data row16 col1\" >None</td>\n",
              "            </tr>\n",
              "            <tr>\n",
              "                        <th id=\"T_8519796e_c1d5_11ea_abba_0242ac1c0002level0_row17\" class=\"row_heading level0 row17\" >17</th>\n",
              "                        <td id=\"T_8519796e_c1d5_11ea_abba_0242ac1c0002row17_col0\" class=\"data row17 col0\" >Transformation </td>\n",
              "                        <td id=\"T_8519796e_c1d5_11ea_abba_0242ac1c0002row17_col1\" class=\"data row17 col1\" >False</td>\n",
              "            </tr>\n",
              "            <tr>\n",
              "                        <th id=\"T_8519796e_c1d5_11ea_abba_0242ac1c0002level0_row18\" class=\"row_heading level0 row18\" >18</th>\n",
              "                        <td id=\"T_8519796e_c1d5_11ea_abba_0242ac1c0002row18_col0\" class=\"data row18 col0\" >Transformation Method </td>\n",
              "                        <td id=\"T_8519796e_c1d5_11ea_abba_0242ac1c0002row18_col1\" class=\"data row18 col1\" >None</td>\n",
              "            </tr>\n",
              "            <tr>\n",
              "                        <th id=\"T_8519796e_c1d5_11ea_abba_0242ac1c0002level0_row19\" class=\"row_heading level0 row19\" >19</th>\n",
              "                        <td id=\"T_8519796e_c1d5_11ea_abba_0242ac1c0002row19_col0\" class=\"data row19 col0\" >PCA </td>\n",
              "                        <td id=\"T_8519796e_c1d5_11ea_abba_0242ac1c0002row19_col1\" class=\"data row19 col1\" >False</td>\n",
              "            </tr>\n",
              "            <tr>\n",
              "                        <th id=\"T_8519796e_c1d5_11ea_abba_0242ac1c0002level0_row20\" class=\"row_heading level0 row20\" >20</th>\n",
              "                        <td id=\"T_8519796e_c1d5_11ea_abba_0242ac1c0002row20_col0\" class=\"data row20 col0\" >PCA Method </td>\n",
              "                        <td id=\"T_8519796e_c1d5_11ea_abba_0242ac1c0002row20_col1\" class=\"data row20 col1\" >None</td>\n",
              "            </tr>\n",
              "            <tr>\n",
              "                        <th id=\"T_8519796e_c1d5_11ea_abba_0242ac1c0002level0_row21\" class=\"row_heading level0 row21\" >21</th>\n",
              "                        <td id=\"T_8519796e_c1d5_11ea_abba_0242ac1c0002row21_col0\" class=\"data row21 col0\" >PCA Components </td>\n",
              "                        <td id=\"T_8519796e_c1d5_11ea_abba_0242ac1c0002row21_col1\" class=\"data row21 col1\" >None</td>\n",
              "            </tr>\n",
              "            <tr>\n",
              "                        <th id=\"T_8519796e_c1d5_11ea_abba_0242ac1c0002level0_row22\" class=\"row_heading level0 row22\" >22</th>\n",
              "                        <td id=\"T_8519796e_c1d5_11ea_abba_0242ac1c0002row22_col0\" class=\"data row22 col0\" >Ignore Low Variance </td>\n",
              "                        <td id=\"T_8519796e_c1d5_11ea_abba_0242ac1c0002row22_col1\" class=\"data row22 col1\" >False</td>\n",
              "            </tr>\n",
              "            <tr>\n",
              "                        <th id=\"T_8519796e_c1d5_11ea_abba_0242ac1c0002level0_row23\" class=\"row_heading level0 row23\" >23</th>\n",
              "                        <td id=\"T_8519796e_c1d5_11ea_abba_0242ac1c0002row23_col0\" class=\"data row23 col0\" >Combine Rare Levels </td>\n",
              "                        <td id=\"T_8519796e_c1d5_11ea_abba_0242ac1c0002row23_col1\" class=\"data row23 col1\" >False</td>\n",
              "            </tr>\n",
              "            <tr>\n",
              "                        <th id=\"T_8519796e_c1d5_11ea_abba_0242ac1c0002level0_row24\" class=\"row_heading level0 row24\" >24</th>\n",
              "                        <td id=\"T_8519796e_c1d5_11ea_abba_0242ac1c0002row24_col0\" class=\"data row24 col0\" >Rare Level Threshold </td>\n",
              "                        <td id=\"T_8519796e_c1d5_11ea_abba_0242ac1c0002row24_col1\" class=\"data row24 col1\" >None</td>\n",
              "            </tr>\n",
              "            <tr>\n",
              "                        <th id=\"T_8519796e_c1d5_11ea_abba_0242ac1c0002level0_row25\" class=\"row_heading level0 row25\" >25</th>\n",
              "                        <td id=\"T_8519796e_c1d5_11ea_abba_0242ac1c0002row25_col0\" class=\"data row25 col0\" >Numeric Binning </td>\n",
              "                        <td id=\"T_8519796e_c1d5_11ea_abba_0242ac1c0002row25_col1\" class=\"data row25 col1\" >False</td>\n",
              "            </tr>\n",
              "            <tr>\n",
              "                        <th id=\"T_8519796e_c1d5_11ea_abba_0242ac1c0002level0_row26\" class=\"row_heading level0 row26\" >26</th>\n",
              "                        <td id=\"T_8519796e_c1d5_11ea_abba_0242ac1c0002row26_col0\" class=\"data row26 col0\" >Remove Outliers </td>\n",
              "                        <td id=\"T_8519796e_c1d5_11ea_abba_0242ac1c0002row26_col1\" class=\"data row26 col1\" >False</td>\n",
              "            </tr>\n",
              "            <tr>\n",
              "                        <th id=\"T_8519796e_c1d5_11ea_abba_0242ac1c0002level0_row27\" class=\"row_heading level0 row27\" >27</th>\n",
              "                        <td id=\"T_8519796e_c1d5_11ea_abba_0242ac1c0002row27_col0\" class=\"data row27 col0\" >Outliers Threshold </td>\n",
              "                        <td id=\"T_8519796e_c1d5_11ea_abba_0242ac1c0002row27_col1\" class=\"data row27 col1\" >None</td>\n",
              "            </tr>\n",
              "            <tr>\n",
              "                        <th id=\"T_8519796e_c1d5_11ea_abba_0242ac1c0002level0_row28\" class=\"row_heading level0 row28\" >28</th>\n",
              "                        <td id=\"T_8519796e_c1d5_11ea_abba_0242ac1c0002row28_col0\" class=\"data row28 col0\" >Remove Multicollinearity </td>\n",
              "                        <td id=\"T_8519796e_c1d5_11ea_abba_0242ac1c0002row28_col1\" class=\"data row28 col1\" >False</td>\n",
              "            </tr>\n",
              "            <tr>\n",
              "                        <th id=\"T_8519796e_c1d5_11ea_abba_0242ac1c0002level0_row29\" class=\"row_heading level0 row29\" >29</th>\n",
              "                        <td id=\"T_8519796e_c1d5_11ea_abba_0242ac1c0002row29_col0\" class=\"data row29 col0\" >Multicollinearity Threshold </td>\n",
              "                        <td id=\"T_8519796e_c1d5_11ea_abba_0242ac1c0002row29_col1\" class=\"data row29 col1\" >None</td>\n",
              "            </tr>\n",
              "            <tr>\n",
              "                        <th id=\"T_8519796e_c1d5_11ea_abba_0242ac1c0002level0_row30\" class=\"row_heading level0 row30\" >30</th>\n",
              "                        <td id=\"T_8519796e_c1d5_11ea_abba_0242ac1c0002row30_col0\" class=\"data row30 col0\" >Clustering </td>\n",
              "                        <td id=\"T_8519796e_c1d5_11ea_abba_0242ac1c0002row30_col1\" class=\"data row30 col1\" >False</td>\n",
              "            </tr>\n",
              "            <tr>\n",
              "                        <th id=\"T_8519796e_c1d5_11ea_abba_0242ac1c0002level0_row31\" class=\"row_heading level0 row31\" >31</th>\n",
              "                        <td id=\"T_8519796e_c1d5_11ea_abba_0242ac1c0002row31_col0\" class=\"data row31 col0\" >Clustering Iteration </td>\n",
              "                        <td id=\"T_8519796e_c1d5_11ea_abba_0242ac1c0002row31_col1\" class=\"data row31 col1\" >None</td>\n",
              "            </tr>\n",
              "            <tr>\n",
              "                        <th id=\"T_8519796e_c1d5_11ea_abba_0242ac1c0002level0_row32\" class=\"row_heading level0 row32\" >32</th>\n",
              "                        <td id=\"T_8519796e_c1d5_11ea_abba_0242ac1c0002row32_col0\" class=\"data row32 col0\" >Polynomial Features </td>\n",
              "                        <td id=\"T_8519796e_c1d5_11ea_abba_0242ac1c0002row32_col1\" class=\"data row32 col1\" >False</td>\n",
              "            </tr>\n",
              "            <tr>\n",
              "                        <th id=\"T_8519796e_c1d5_11ea_abba_0242ac1c0002level0_row33\" class=\"row_heading level0 row33\" >33</th>\n",
              "                        <td id=\"T_8519796e_c1d5_11ea_abba_0242ac1c0002row33_col0\" class=\"data row33 col0\" >Polynomial Degree </td>\n",
              "                        <td id=\"T_8519796e_c1d5_11ea_abba_0242ac1c0002row33_col1\" class=\"data row33 col1\" >None</td>\n",
              "            </tr>\n",
              "            <tr>\n",
              "                        <th id=\"T_8519796e_c1d5_11ea_abba_0242ac1c0002level0_row34\" class=\"row_heading level0 row34\" >34</th>\n",
              "                        <td id=\"T_8519796e_c1d5_11ea_abba_0242ac1c0002row34_col0\" class=\"data row34 col0\" >Trignometry Features </td>\n",
              "                        <td id=\"T_8519796e_c1d5_11ea_abba_0242ac1c0002row34_col1\" class=\"data row34 col1\" >False</td>\n",
              "            </tr>\n",
              "            <tr>\n",
              "                        <th id=\"T_8519796e_c1d5_11ea_abba_0242ac1c0002level0_row35\" class=\"row_heading level0 row35\" >35</th>\n",
              "                        <td id=\"T_8519796e_c1d5_11ea_abba_0242ac1c0002row35_col0\" class=\"data row35 col0\" >Polynomial Threshold </td>\n",
              "                        <td id=\"T_8519796e_c1d5_11ea_abba_0242ac1c0002row35_col1\" class=\"data row35 col1\" >None</td>\n",
              "            </tr>\n",
              "            <tr>\n",
              "                        <th id=\"T_8519796e_c1d5_11ea_abba_0242ac1c0002level0_row36\" class=\"row_heading level0 row36\" >36</th>\n",
              "                        <td id=\"T_8519796e_c1d5_11ea_abba_0242ac1c0002row36_col0\" class=\"data row36 col0\" >Group Features </td>\n",
              "                        <td id=\"T_8519796e_c1d5_11ea_abba_0242ac1c0002row36_col1\" class=\"data row36 col1\" >False</td>\n",
              "            </tr>\n",
              "            <tr>\n",
              "                        <th id=\"T_8519796e_c1d5_11ea_abba_0242ac1c0002level0_row37\" class=\"row_heading level0 row37\" >37</th>\n",
              "                        <td id=\"T_8519796e_c1d5_11ea_abba_0242ac1c0002row37_col0\" class=\"data row37 col0\" >Feature Selection </td>\n",
              "                        <td id=\"T_8519796e_c1d5_11ea_abba_0242ac1c0002row37_col1\" class=\"data row37 col1\" >False</td>\n",
              "            </tr>\n",
              "            <tr>\n",
              "                        <th id=\"T_8519796e_c1d5_11ea_abba_0242ac1c0002level0_row38\" class=\"row_heading level0 row38\" >38</th>\n",
              "                        <td id=\"T_8519796e_c1d5_11ea_abba_0242ac1c0002row38_col0\" class=\"data row38 col0\" >Features Selection Threshold </td>\n",
              "                        <td id=\"T_8519796e_c1d5_11ea_abba_0242ac1c0002row38_col1\" class=\"data row38 col1\" >None</td>\n",
              "            </tr>\n",
              "            <tr>\n",
              "                        <th id=\"T_8519796e_c1d5_11ea_abba_0242ac1c0002level0_row39\" class=\"row_heading level0 row39\" >39</th>\n",
              "                        <td id=\"T_8519796e_c1d5_11ea_abba_0242ac1c0002row39_col0\" class=\"data row39 col0\" >Feature Interaction </td>\n",
              "                        <td id=\"T_8519796e_c1d5_11ea_abba_0242ac1c0002row39_col1\" class=\"data row39 col1\" >False</td>\n",
              "            </tr>\n",
              "            <tr>\n",
              "                        <th id=\"T_8519796e_c1d5_11ea_abba_0242ac1c0002level0_row40\" class=\"row_heading level0 row40\" >40</th>\n",
              "                        <td id=\"T_8519796e_c1d5_11ea_abba_0242ac1c0002row40_col0\" class=\"data row40 col0\" >Feature Ratio </td>\n",
              "                        <td id=\"T_8519796e_c1d5_11ea_abba_0242ac1c0002row40_col1\" class=\"data row40 col1\" >False</td>\n",
              "            </tr>\n",
              "            <tr>\n",
              "                        <th id=\"T_8519796e_c1d5_11ea_abba_0242ac1c0002level0_row41\" class=\"row_heading level0 row41\" >41</th>\n",
              "                        <td id=\"T_8519796e_c1d5_11ea_abba_0242ac1c0002row41_col0\" class=\"data row41 col0\" >Interaction Threshold </td>\n",
              "                        <td id=\"T_8519796e_c1d5_11ea_abba_0242ac1c0002row41_col1\" class=\"data row41 col1\" >None</td>\n",
              "            </tr>\n",
              "    </tbody></table>"
            ],
            "text/plain": [
              "<pandas.io.formats.style.Styler at 0x7f8f14fb5be0>"
            ]
          },
          "metadata": {
            "tags": []
          }
        }
      ]
    },
    {
      "cell_type": "markdown",
      "metadata": {
        "id": "kp0ghINQ0a7h",
        "colab_type": "text"
      },
      "source": [
        "## Build Random Forest"
      ]
    },
    {
      "cell_type": "code",
      "metadata": {
        "id": "B1TWLznvyAQe",
        "colab_type": "code",
        "colab": {
          "base_uri": "https://localhost:8080/",
          "height": 421,
          "referenced_widgets": [
            "d889b6a2bb3e42d8a187e948e63cf2e6",
            "2d73e252d4564832aca2a30a21c2d66f",
            "d88e8aa687484381a39be4e4b93e399e"
          ]
        },
        "outputId": "b9705282-25b7-4444-b4a5-c696c7ffaf69"
      },
      "source": [
        "rf = create_model(estimator = 'rf')"
      ],
      "execution_count": 57,
      "outputs": [
        {
          "output_type": "display_data",
          "data": {
            "text/html": [
              "<div>\n",
              "<style scoped>\n",
              "    .dataframe tbody tr th:only-of-type {\n",
              "        vertical-align: middle;\n",
              "    }\n",
              "\n",
              "    .dataframe tbody tr th {\n",
              "        vertical-align: top;\n",
              "    }\n",
              "\n",
              "    .dataframe thead th {\n",
              "        text-align: right;\n",
              "    }\n",
              "</style>\n",
              "<table border=\"1\" class=\"dataframe\">\n",
              "  <thead>\n",
              "    <tr style=\"text-align: right;\">\n",
              "      <th></th>\n",
              "      <th>MAE</th>\n",
              "      <th>MSE</th>\n",
              "      <th>RMSE</th>\n",
              "      <th>R2</th>\n",
              "      <th>RMSLE</th>\n",
              "      <th>MAPE</th>\n",
              "    </tr>\n",
              "  </thead>\n",
              "  <tbody>\n",
              "    <tr>\n",
              "      <th>0</th>\n",
              "      <td>43.0353</td>\n",
              "      <td>17332.9111</td>\n",
              "      <td>131.6545</td>\n",
              "      <td>-0.9302</td>\n",
              "      <td>0.4329</td>\n",
              "      <td>0.4041</td>\n",
              "    </tr>\n",
              "    <tr>\n",
              "      <th>1</th>\n",
              "      <td>44.7353</td>\n",
              "      <td>17824.3785</td>\n",
              "      <td>133.5080</td>\n",
              "      <td>0.1688</td>\n",
              "      <td>0.4074</td>\n",
              "      <td>0.3448</td>\n",
              "    </tr>\n",
              "    <tr>\n",
              "      <th>2</th>\n",
              "      <td>38.1141</td>\n",
              "      <td>4614.6064</td>\n",
              "      <td>67.9309</td>\n",
              "      <td>0.4039</td>\n",
              "      <td>0.4169</td>\n",
              "      <td>0.3759</td>\n",
              "    </tr>\n",
              "    <tr>\n",
              "      <th>3</th>\n",
              "      <td>38.5773</td>\n",
              "      <td>6136.0630</td>\n",
              "      <td>78.3330</td>\n",
              "      <td>-0.0780</td>\n",
              "      <td>0.4201</td>\n",
              "      <td>0.3893</td>\n",
              "    </tr>\n",
              "    <tr>\n",
              "      <th>4</th>\n",
              "      <td>39.5411</td>\n",
              "      <td>10189.4530</td>\n",
              "      <td>100.9428</td>\n",
              "      <td>0.0292</td>\n",
              "      <td>0.4329</td>\n",
              "      <td>0.3851</td>\n",
              "    </tr>\n",
              "    <tr>\n",
              "      <th>5</th>\n",
              "      <td>34.5507</td>\n",
              "      <td>3043.7722</td>\n",
              "      <td>55.1704</td>\n",
              "      <td>0.5310</td>\n",
              "      <td>0.4189</td>\n",
              "      <td>0.3891</td>\n",
              "    </tr>\n",
              "    <tr>\n",
              "      <th>6</th>\n",
              "      <td>38.4397</td>\n",
              "      <td>4468.8646</td>\n",
              "      <td>66.8496</td>\n",
              "      <td>0.4634</td>\n",
              "      <td>0.4293</td>\n",
              "      <td>0.3854</td>\n",
              "    </tr>\n",
              "    <tr>\n",
              "      <th>7</th>\n",
              "      <td>52.5815</td>\n",
              "      <td>66736.3242</td>\n",
              "      <td>258.3337</td>\n",
              "      <td>0.2422</td>\n",
              "      <td>0.4254</td>\n",
              "      <td>0.3597</td>\n",
              "    </tr>\n",
              "    <tr>\n",
              "      <th>8</th>\n",
              "      <td>38.1920</td>\n",
              "      <td>5908.2719</td>\n",
              "      <td>76.8653</td>\n",
              "      <td>0.4067</td>\n",
              "      <td>0.4121</td>\n",
              "      <td>0.3467</td>\n",
              "    </tr>\n",
              "    <tr>\n",
              "      <th>9</th>\n",
              "      <td>38.6709</td>\n",
              "      <td>13169.3909</td>\n",
              "      <td>114.7580</td>\n",
              "      <td>-0.2121</td>\n",
              "      <td>0.4102</td>\n",
              "      <td>0.3766</td>\n",
              "    </tr>\n",
              "    <tr>\n",
              "      <th>Mean</th>\n",
              "      <td>40.6438</td>\n",
              "      <td>14942.4036</td>\n",
              "      <td>108.4346</td>\n",
              "      <td>0.1025</td>\n",
              "      <td>0.4206</td>\n",
              "      <td>0.3757</td>\n",
              "    </tr>\n",
              "    <tr>\n",
              "      <th>SD</th>\n",
              "      <td>4.7827</td>\n",
              "      <td>17998.5212</td>\n",
              "      <td>56.4299</td>\n",
              "      <td>0.4153</td>\n",
              "      <td>0.0088</td>\n",
              "      <td>0.0185</td>\n",
              "    </tr>\n",
              "  </tbody>\n",
              "</table>\n",
              "</div>"
            ],
            "text/plain": [
              "          MAE         MSE      RMSE      R2   RMSLE    MAPE\n",
              "0     43.0353  17332.9111  131.6545 -0.9302  0.4329  0.4041\n",
              "1     44.7353  17824.3785  133.5080  0.1688  0.4074  0.3448\n",
              "2     38.1141   4614.6064   67.9309  0.4039  0.4169  0.3759\n",
              "3     38.5773   6136.0630   78.3330 -0.0780  0.4201  0.3893\n",
              "4     39.5411  10189.4530  100.9428  0.0292  0.4329  0.3851\n",
              "5     34.5507   3043.7722   55.1704  0.5310  0.4189  0.3891\n",
              "6     38.4397   4468.8646   66.8496  0.4634  0.4293  0.3854\n",
              "7     52.5815  66736.3242  258.3337  0.2422  0.4254  0.3597\n",
              "8     38.1920   5908.2719   76.8653  0.4067  0.4121  0.3467\n",
              "9     38.6709  13169.3909  114.7580 -0.2121  0.4102  0.3766\n",
              "Mean  40.6438  14942.4036  108.4346  0.1025  0.4206  0.3757\n",
              "SD     4.7827  17998.5212   56.4299  0.4153  0.0088  0.0185"
            ]
          },
          "metadata": {
            "tags": []
          }
        }
      ]
    },
    {
      "cell_type": "code",
      "metadata": {
        "id": "A95lB45iVUSy",
        "colab_type": "code",
        "colab": {
          "base_uri": "https://localhost:8080/",
          "height": 421,
          "referenced_widgets": [
            "90e2929f63d442bea65b51ffb8834ba5",
            "dda965cbc3a642b3bea4c801218b0e2d",
            "cd643740e5584354ab2c5e4e28756c62"
          ]
        },
        "outputId": "20672655-6d6e-44d3-8b34-c7f5b5091702"
      },
      "source": [
        "tuned_rf = tune_model(estimator = 'rf')"
      ],
      "execution_count": 69,
      "outputs": [
        {
          "output_type": "display_data",
          "data": {
            "text/html": [
              "<div>\n",
              "<style scoped>\n",
              "    .dataframe tbody tr th:only-of-type {\n",
              "        vertical-align: middle;\n",
              "    }\n",
              "\n",
              "    .dataframe tbody tr th {\n",
              "        vertical-align: top;\n",
              "    }\n",
              "\n",
              "    .dataframe thead th {\n",
              "        text-align: right;\n",
              "    }\n",
              "</style>\n",
              "<table border=\"1\" class=\"dataframe\">\n",
              "  <thead>\n",
              "    <tr style=\"text-align: right;\">\n",
              "      <th></th>\n",
              "      <th>MAE</th>\n",
              "      <th>MSE</th>\n",
              "      <th>RMSE</th>\n",
              "      <th>R2</th>\n",
              "      <th>RMSLE</th>\n",
              "      <th>MAPE</th>\n",
              "    </tr>\n",
              "  </thead>\n",
              "  <tbody>\n",
              "    <tr>\n",
              "      <th>0</th>\n",
              "      <td>38.7634</td>\n",
              "      <td>6778.8719</td>\n",
              "      <td>82.3339</td>\n",
              "      <td>0.2451</td>\n",
              "      <td>0.4198</td>\n",
              "      <td>0.3862</td>\n",
              "    </tr>\n",
              "    <tr>\n",
              "      <th>1</th>\n",
              "      <td>42.1141</td>\n",
              "      <td>15283.3094</td>\n",
              "      <td>123.6257</td>\n",
              "      <td>0.2873</td>\n",
              "      <td>0.3913</td>\n",
              "      <td>0.3205</td>\n",
              "    </tr>\n",
              "    <tr>\n",
              "      <th>2</th>\n",
              "      <td>37.9776</td>\n",
              "      <td>4247.9614</td>\n",
              "      <td>65.1764</td>\n",
              "      <td>0.4513</td>\n",
              "      <td>0.4041</td>\n",
              "      <td>0.3615</td>\n",
              "    </tr>\n",
              "    <tr>\n",
              "      <th>3</th>\n",
              "      <td>36.4634</td>\n",
              "      <td>3486.3456</td>\n",
              "      <td>59.0453</td>\n",
              "      <td>0.3875</td>\n",
              "      <td>0.4154</td>\n",
              "      <td>0.3795</td>\n",
              "    </tr>\n",
              "    <tr>\n",
              "      <th>4</th>\n",
              "      <td>35.0170</td>\n",
              "      <td>5762.3603</td>\n",
              "      <td>75.9102</td>\n",
              "      <td>0.4510</td>\n",
              "      <td>0.3974</td>\n",
              "      <td>0.3359</td>\n",
              "    </tr>\n",
              "    <tr>\n",
              "      <th>5</th>\n",
              "      <td>34.0200</td>\n",
              "      <td>2925.9792</td>\n",
              "      <td>54.0923</td>\n",
              "      <td>0.5492</td>\n",
              "      <td>0.4068</td>\n",
              "      <td>0.3778</td>\n",
              "    </tr>\n",
              "    <tr>\n",
              "      <th>6</th>\n",
              "      <td>37.0683</td>\n",
              "      <td>4274.8417</td>\n",
              "      <td>65.3823</td>\n",
              "      <td>0.4867</td>\n",
              "      <td>0.4148</td>\n",
              "      <td>0.3641</td>\n",
              "    </tr>\n",
              "    <tr>\n",
              "      <th>7</th>\n",
              "      <td>50.5381</td>\n",
              "      <td>62164.0586</td>\n",
              "      <td>249.3272</td>\n",
              "      <td>0.2941</td>\n",
              "      <td>0.4074</td>\n",
              "      <td>0.3380</td>\n",
              "    </tr>\n",
              "    <tr>\n",
              "      <th>8</th>\n",
              "      <td>37.8861</td>\n",
              "      <td>5844.2392</td>\n",
              "      <td>76.4476</td>\n",
              "      <td>0.4132</td>\n",
              "      <td>0.4043</td>\n",
              "      <td>0.3427</td>\n",
              "    </tr>\n",
              "    <tr>\n",
              "      <th>9</th>\n",
              "      <td>33.6916</td>\n",
              "      <td>4049.9862</td>\n",
              "      <td>63.6395</td>\n",
              "      <td>0.6272</td>\n",
              "      <td>0.4069</td>\n",
              "      <td>0.3683</td>\n",
              "    </tr>\n",
              "    <tr>\n",
              "      <th>Mean</th>\n",
              "      <td>38.3540</td>\n",
              "      <td>11481.7953</td>\n",
              "      <td>91.4980</td>\n",
              "      <td>0.4193</td>\n",
              "      <td>0.4068</td>\n",
              "      <td>0.3575</td>\n",
              "    </tr>\n",
              "    <tr>\n",
              "      <th>SD</th>\n",
              "      <td>4.6904</td>\n",
              "      <td>17223.1946</td>\n",
              "      <td>55.7665</td>\n",
              "      <td>0.1145</td>\n",
              "      <td>0.0081</td>\n",
              "      <td>0.0208</td>\n",
              "    </tr>\n",
              "  </tbody>\n",
              "</table>\n",
              "</div>"
            ],
            "text/plain": [
              "          MAE         MSE      RMSE      R2   RMSLE    MAPE\n",
              "0     38.7634   6778.8719   82.3339  0.2451  0.4198  0.3862\n",
              "1     42.1141  15283.3094  123.6257  0.2873  0.3913  0.3205\n",
              "2     37.9776   4247.9614   65.1764  0.4513  0.4041  0.3615\n",
              "3     36.4634   3486.3456   59.0453  0.3875  0.4154  0.3795\n",
              "4     35.0170   5762.3603   75.9102  0.4510  0.3974  0.3359\n",
              "5     34.0200   2925.9792   54.0923  0.5492  0.4068  0.3778\n",
              "6     37.0683   4274.8417   65.3823  0.4867  0.4148  0.3641\n",
              "7     50.5381  62164.0586  249.3272  0.2941  0.4074  0.3380\n",
              "8     37.8861   5844.2392   76.4476  0.4132  0.4043  0.3427\n",
              "9     33.6916   4049.9862   63.6395  0.6272  0.4069  0.3683\n",
              "Mean  38.3540  11481.7953   91.4980  0.4193  0.4068  0.3575\n",
              "SD     4.6904  17223.1946   55.7665  0.1145  0.0081  0.0208"
            ]
          },
          "metadata": {
            "tags": []
          }
        }
      ]
    },
    {
      "cell_type": "markdown",
      "metadata": {
        "id": "cTr5U7Fi0XAp",
        "colab_type": "text"
      },
      "source": [
        "## Residuals"
      ]
    },
    {
      "cell_type": "code",
      "metadata": {
        "id": "E0kLqQts0BwC",
        "colab_type": "code",
        "colab": {
          "base_uri": "https://localhost:8080/",
          "height": 376,
          "referenced_widgets": [
            "e89985912f60487d80e5f25759ebe0ee",
            "82a3b62f04c940fab5747add68436190",
            "b4cea9d7a0e1403e8f2c3b1876faa399"
          ]
        },
        "outputId": "c3272a1e-dc1d-4de1-c18e-3bf09920e03a"
      },
      "source": [
        "plot_model(tuned_rf, plot='residuals')"
      ],
      "execution_count": 70,
      "outputs": [
        {
          "output_type": "display_data",
          "data": {
            "image/png": "[encoded data removed]",
            "text/plain": [
              "<Figure size 576x396 with 2 Axes>"
            ]
          },
          "metadata": {
            "tags": []
          }
        }
      ]
    },
    {
      "cell_type": "markdown",
      "metadata": {
        "id": "ZygpfBCE0gr8",
        "colab_type": "text"
      },
      "source": [
        "## Errors"
      ]
    },
    {
      "cell_type": "code",
      "metadata": {
        "id": "1fHorDUq0j2E",
        "colab_type": "code",
        "colab": {
          "base_uri": "https://localhost:8080/",
          "height": 378,
          "referenced_widgets": [
            "47c32b7a33c1426ca2c8db412daf39f6"
          ]
        },
        "outputId": "bc6c886f-50f9-46a9-a877-2707182d67d0"
      },
      "source": [
        "plot_model(tuned_rf, plot='error')"
      ],
      "execution_count": 71,
      "outputs": [
        {
          "output_type": "display_data",
          "data": {
            "image/png": "[encoded data removed]",
            "text/plain": [
              "<Figure size 576x396 with 1 Axes>"
            ]
          },
          "metadata": {
            "tags": []
          }
        }
      ]
    },
    {
      "cell_type": "markdown",
      "metadata": {
        "id": "mXA-WXV20mXa",
        "colab_type": "text"
      },
      "source": [
        "## Feature Importance"
      ]
    },
    {
      "cell_type": "code",
      "metadata": {
        "id": "vOc0X-Rd0o3t",
        "colab_type": "code",
        "colab": {
          "base_uri": "https://localhost:8080/",
          "height": 349,
          "referenced_widgets": [
            "7b4452cd2f754f98882355379446da6a"
          ]
        },
        "outputId": "4dd086f3-d040-4ab7-f53a-6cd093dc2e78"
      },
      "source": [
        "plot_model(tuned_rf, plot='feature')"
      ],
      "execution_count": 72,
      "outputs": [
        {
          "output_type": "display_data",
          "data": {
            "image/png": "[encoded data removed]",
            "text/plain": [
              "<Figure size 576x360 with 1 Axes>"
            ]
          },
          "metadata": {
            "tags": []
          }
        }
      ]
    },
    {
      "cell_type": "code",
      "metadata": {
        "id": "io30vKCj1rUY",
        "colab_type": "code",
        "colab": {
          "base_uri": "https://localhost:8080/",
          "height": 519
        },
        "outputId": "ddd53e4f-34c3-4b32-aa56-f9a4201709a5"
      },
      "source": [
        "predict_model(rf)"
      ],
      "execution_count": 61,
      "outputs": [
        {
          "output_type": "display_data",
          "data": {
            "text/html": [
              "<div>\n",
              "<style scoped>\n",
              "    .dataframe tbody tr th:only-of-type {\n",
              "        vertical-align: middle;\n",
              "    }\n",
              "\n",
              "    .dataframe tbody tr th {\n",
              "        vertical-align: top;\n",
              "    }\n",
              "\n",
              "    .dataframe thead th {\n",
              "        text-align: right;\n",
              "    }\n",
              "</style>\n",
              "<table border=\"1\" class=\"dataframe\">\n",
              "  <thead>\n",
              "    <tr style=\"text-align: right;\">\n",
              "      <th></th>\n",
              "      <th>Model</th>\n",
              "      <th>MAE</th>\n",
              "      <th>MSE</th>\n",
              "      <th>RMSE</th>\n",
              "      <th>R2</th>\n",
              "      <th>RMSLE</th>\n",
              "      <th>MAPE</th>\n",
              "    </tr>\n",
              "  </thead>\n",
              "  <tbody>\n",
              "    <tr>\n",
              "      <th>0</th>\n",
              "      <td>Random Forest Regressor</td>\n",
              "      <td>39.1738</td>\n",
              "      <td>6243.0203</td>\n",
              "      <td>79.0128</td>\n",
              "      <td>0.2501</td>\n",
              "      <td>0.422</td>\n",
              "      <td>0.3749</td>\n",
              "    </tr>\n",
              "  </tbody>\n",
              "</table>\n",
              "</div>"
            ],
            "text/plain": [
              "                     Model      MAE        MSE     RMSE      R2  RMSLE    MAPE\n",
              "0  Random Forest Regressor  39.1738  6243.0203  79.0128  0.2501  0.422  0.3749"
            ]
          },
          "metadata": {
            "tags": []
          }
        },
        {
          "output_type": "execute_result",
          "data": {
            "text/html": [
              "<div>\n",
              "<style scoped>\n",
              "    .dataframe tbody tr th:only-of-type {\n",
              "        vertical-align: middle;\n",
              "    }\n",
              "\n",
              "    .dataframe tbody tr th {\n",
              "        vertical-align: top;\n",
              "    }\n",
              "\n",
              "    .dataframe thead th {\n",
              "        text-align: right;\n",
              "    }\n",
              "</style>\n",
              "<table border=\"1\" class=\"dataframe\">\n",
              "  <thead>\n",
              "    <tr style=\"text-align: right;\">\n",
              "      <th></th>\n",
              "      <th>reviews</th>\n",
              "      <th>overall_satisfaction</th>\n",
              "      <th>accommodates</th>\n",
              "      <th>bedrooms</th>\n",
              "      <th>bathrooms</th>\n",
              "      <th>latitude</th>\n",
              "      <th>longitude</th>\n",
              "      <th>lda_topic_0</th>\n",
              "      <th>lda_topic_1</th>\n",
              "      <th>lda_topic_2</th>\n",
              "      <th>lda_topic_3</th>\n",
              "      <th>lda_topic_4</th>\n",
              "      <th>room_type_Entire home/apt</th>\n",
              "      <th>room_type_Private room</th>\n",
              "      <th>room_type_Shared room</th>\n",
              "      <th>currency_USD</th>\n",
              "      <th>rate_type_nightly</th>\n",
              "      <th>price</th>\n",
              "      <th>Label</th>\n",
              "    </tr>\n",
              "  </thead>\n",
              "  <tbody>\n",
              "    <tr>\n",
              "      <th>0</th>\n",
              "      <td>37.0</td>\n",
              "      <td>5.000000</td>\n",
              "      <td>10.0</td>\n",
              "      <td>3.0</td>\n",
              "      <td>2.0</td>\n",
              "      <td>47.637431</td>\n",
              "      <td>-122.370255</td>\n",
              "      <td>0.106325</td>\n",
              "      <td>0.575725</td>\n",
              "      <td>0.110391</td>\n",
              "      <td>0.105135</td>\n",
              "      <td>0.102424</td>\n",
              "      <td>1.0</td>\n",
              "      <td>0.0</td>\n",
              "      <td>0.0</td>\n",
              "      <td>1.0</td>\n",
              "      <td>1.0</td>\n",
              "      <td>87</td>\n",
              "      <td>236.53</td>\n",
              "    </tr>\n",
              "    <tr>\n",
              "      <th>1</th>\n",
              "      <td>3.0</td>\n",
              "      <td>5.000000</td>\n",
              "      <td>1.0</td>\n",
              "      <td>1.0</td>\n",
              "      <td>1.0</td>\n",
              "      <td>47.658249</td>\n",
              "      <td>-122.317639</td>\n",
              "      <td>0.106746</td>\n",
              "      <td>0.579225</td>\n",
              "      <td>0.110295</td>\n",
              "      <td>0.102682</td>\n",
              "      <td>0.101053</td>\n",
              "      <td>0.0</td>\n",
              "      <td>0.0</td>\n",
              "      <td>1.0</td>\n",
              "      <td>1.0</td>\n",
              "      <td>1.0</td>\n",
              "      <td>65</td>\n",
              "      <td>59.69</td>\n",
              "    </tr>\n",
              "    <tr>\n",
              "      <th>2</th>\n",
              "      <td>4.0</td>\n",
              "      <td>3.500000</td>\n",
              "      <td>3.0</td>\n",
              "      <td>1.0</td>\n",
              "      <td>1.0</td>\n",
              "      <td>47.601285</td>\n",
              "      <td>-122.334880</td>\n",
              "      <td>0.104267</td>\n",
              "      <td>0.141644</td>\n",
              "      <td>0.552406</td>\n",
              "      <td>0.101211</td>\n",
              "      <td>0.100472</td>\n",
              "      <td>1.0</td>\n",
              "      <td>0.0</td>\n",
              "      <td>0.0</td>\n",
              "      <td>1.0</td>\n",
              "      <td>1.0</td>\n",
              "      <td>80</td>\n",
              "      <td>77.30</td>\n",
              "    </tr>\n",
              "    <tr>\n",
              "      <th>3</th>\n",
              "      <td>4.0</td>\n",
              "      <td>5.000000</td>\n",
              "      <td>2.0</td>\n",
              "      <td>1.0</td>\n",
              "      <td>1.0</td>\n",
              "      <td>47.625500</td>\n",
              "      <td>-122.118220</td>\n",
              "      <td>0.109652</td>\n",
              "      <td>0.575510</td>\n",
              "      <td>0.112259</td>\n",
              "      <td>0.102145</td>\n",
              "      <td>0.100434</td>\n",
              "      <td>0.0</td>\n",
              "      <td>1.0</td>\n",
              "      <td>0.0</td>\n",
              "      <td>1.0</td>\n",
              "      <td>1.0</td>\n",
              "      <td>52</td>\n",
              "      <td>75.29</td>\n",
              "    </tr>\n",
              "    <tr>\n",
              "      <th>4</th>\n",
              "      <td>36.0</td>\n",
              "      <td>4.500000</td>\n",
              "      <td>4.0</td>\n",
              "      <td>1.0</td>\n",
              "      <td>1.0</td>\n",
              "      <td>47.663838</td>\n",
              "      <td>-122.341501</td>\n",
              "      <td>0.106306</td>\n",
              "      <td>0.302213</td>\n",
              "      <td>0.389340</td>\n",
              "      <td>0.101547</td>\n",
              "      <td>0.100594</td>\n",
              "      <td>1.0</td>\n",
              "      <td>0.0</td>\n",
              "      <td>0.0</td>\n",
              "      <td>1.0</td>\n",
              "      <td>1.0</td>\n",
              "      <td>99</td>\n",
              "      <td>92.54</td>\n",
              "    </tr>\n",
              "    <tr>\n",
              "      <th>...</th>\n",
              "      <td>...</td>\n",
              "      <td>...</td>\n",
              "      <td>...</td>\n",
              "      <td>...</td>\n",
              "      <td>...</td>\n",
              "      <td>...</td>\n",
              "      <td>...</td>\n",
              "      <td>...</td>\n",
              "      <td>...</td>\n",
              "      <td>...</td>\n",
              "      <td>...</td>\n",
              "      <td>...</td>\n",
              "      <td>...</td>\n",
              "      <td>...</td>\n",
              "      <td>...</td>\n",
              "      <td>...</td>\n",
              "      <td>...</td>\n",
              "      <td>...</td>\n",
              "      <td>...</td>\n",
              "    </tr>\n",
              "    <tr>\n",
              "      <th>2268</th>\n",
              "      <td>90.0</td>\n",
              "      <td>5.000000</td>\n",
              "      <td>5.0</td>\n",
              "      <td>2.0</td>\n",
              "      <td>1.0</td>\n",
              "      <td>47.631304</td>\n",
              "      <td>-122.362322</td>\n",
              "      <td>0.107010</td>\n",
              "      <td>0.580395</td>\n",
              "      <td>0.110572</td>\n",
              "      <td>0.101624</td>\n",
              "      <td>0.100398</td>\n",
              "      <td>1.0</td>\n",
              "      <td>0.0</td>\n",
              "      <td>0.0</td>\n",
              "      <td>1.0</td>\n",
              "      <td>1.0</td>\n",
              "      <td>49</td>\n",
              "      <td>118.68</td>\n",
              "    </tr>\n",
              "    <tr>\n",
              "      <th>2269</th>\n",
              "      <td>0.0</td>\n",
              "      <td>4.841226</td>\n",
              "      <td>3.0</td>\n",
              "      <td>1.0</td>\n",
              "      <td>1.0</td>\n",
              "      <td>47.609770</td>\n",
              "      <td>-122.341231</td>\n",
              "      <td>0.106209</td>\n",
              "      <td>0.200690</td>\n",
              "      <td>0.105683</td>\n",
              "      <td>0.485093</td>\n",
              "      <td>0.102326</td>\n",
              "      <td>1.0</td>\n",
              "      <td>0.0</td>\n",
              "      <td>0.0</td>\n",
              "      <td>1.0</td>\n",
              "      <td>1.0</td>\n",
              "      <td>50</td>\n",
              "      <td>72.58</td>\n",
              "    </tr>\n",
              "    <tr>\n",
              "      <th>2270</th>\n",
              "      <td>361.0</td>\n",
              "      <td>5.000000</td>\n",
              "      <td>2.0</td>\n",
              "      <td>1.0</td>\n",
              "      <td>1.0</td>\n",
              "      <td>47.608130</td>\n",
              "      <td>-122.293766</td>\n",
              "      <td>0.104741</td>\n",
              "      <td>0.159673</td>\n",
              "      <td>0.533513</td>\n",
              "      <td>0.101461</td>\n",
              "      <td>0.100612</td>\n",
              "      <td>0.0</td>\n",
              "      <td>1.0</td>\n",
              "      <td>0.0</td>\n",
              "      <td>1.0</td>\n",
              "      <td>1.0</td>\n",
              "      <td>47</td>\n",
              "      <td>69.65</td>\n",
              "    </tr>\n",
              "    <tr>\n",
              "      <th>2271</th>\n",
              "      <td>7.0</td>\n",
              "      <td>4.500000</td>\n",
              "      <td>1.0</td>\n",
              "      <td>1.0</td>\n",
              "      <td>1.0</td>\n",
              "      <td>47.626344</td>\n",
              "      <td>-122.187849</td>\n",
              "      <td>0.545646</td>\n",
              "      <td>0.149686</td>\n",
              "      <td>0.102668</td>\n",
              "      <td>0.101455</td>\n",
              "      <td>0.100545</td>\n",
              "      <td>0.0</td>\n",
              "      <td>1.0</td>\n",
              "      <td>0.0</td>\n",
              "      <td>1.0</td>\n",
              "      <td>1.0</td>\n",
              "      <td>29</td>\n",
              "      <td>56.39</td>\n",
              "    </tr>\n",
              "    <tr>\n",
              "      <th>2272</th>\n",
              "      <td>116.0</td>\n",
              "      <td>5.000000</td>\n",
              "      <td>3.0</td>\n",
              "      <td>1.0</td>\n",
              "      <td>1.0</td>\n",
              "      <td>47.637061</td>\n",
              "      <td>-122.352554</td>\n",
              "      <td>0.547548</td>\n",
              "      <td>0.145893</td>\n",
              "      <td>0.103914</td>\n",
              "      <td>0.101992</td>\n",
              "      <td>0.100654</td>\n",
              "      <td>1.0</td>\n",
              "      <td>0.0</td>\n",
              "      <td>0.0</td>\n",
              "      <td>1.0</td>\n",
              "      <td>1.0</td>\n",
              "      <td>73</td>\n",
              "      <td>99.12</td>\n",
              "    </tr>\n",
              "  </tbody>\n",
              "</table>\n",
              "<p>2273 rows × 19 columns</p>\n",
              "</div>"
            ],
            "text/plain": [
              "      reviews  overall_satisfaction  ...  price   Label\n",
              "0        37.0              5.000000  ...     87  236.53\n",
              "1         3.0              5.000000  ...     65   59.69\n",
              "2         4.0              3.500000  ...     80   77.30\n",
              "3         4.0              5.000000  ...     52   75.29\n",
              "4        36.0              4.500000  ...     99   92.54\n",
              "...       ...                   ...  ...    ...     ...\n",
              "2268     90.0              5.000000  ...     49  118.68\n",
              "2269      0.0              4.841226  ...     50   72.58\n",
              "2270    361.0              5.000000  ...     47   69.65\n",
              "2271      7.0              4.500000  ...     29   56.39\n",
              "2272    116.0              5.000000  ...     73   99.12\n",
              "\n",
              "[2273 rows x 19 columns]"
            ]
          },
          "metadata": {
            "tags": []
          },
          "execution_count": 61
        }
      ]
    },
    {
      "cell_type": "code",
      "metadata": {
        "id": "L4vUzAfw5gbB",
        "colab_type": "code",
        "colab": {}
      },
      "source": [
        ""
      ],
      "execution_count": null,
      "outputs": []
    }
  ]
}