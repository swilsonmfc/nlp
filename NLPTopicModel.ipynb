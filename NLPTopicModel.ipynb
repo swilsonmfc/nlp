{
  "nbformat": 4,
  "nbformat_minor": 0,
  "metadata": {
    "colab": {
      "name": "NLPTopicModel.ipynb",
      "provenance": [],
      "collapsed_sections": [],
      "toc_visible": true,
      "authorship_tag": "ABX9TyPTZDPgukgK3xxOieq+nht3",
      "include_colab_link": true
    },
    "kernelspec": {
      "name": "python3",
      "display_name": "Python 3"
    },
    "widgets": {
      "application/vnd.jupyter.widget-state+json": {
        "16edb763ae664caea3c31678880c14df": {
          "model_module": "@jupyter-widgets/controls",
          "model_name": "IntProgressModel",
          "state": {
            "_view_name": "ProgressView",
            "style": "IPY_MODEL_898f98ab0c3140a89e31af3d8124b99d",
            "_dom_classes": [],
            "description": "Processing: ",
            "_model_name": "IntProgressModel",
            "bar_style": "",
            "max": 13,
            "_view_module": "@jupyter-widgets/controls",
            "_model_module_version": "1.5.0",
            "value": 3,
            "_view_count": null,
            "_view_module_version": "1.5.0",
            "orientation": "horizontal",
            "min": 0,
            "description_tooltip": null,
            "_model_module": "@jupyter-widgets/controls",
            "layout": "IPY_MODEL_e4d09ce4f3804279b740ae0e9da831fd"
          }
        },
        "898f98ab0c3140a89e31af3d8124b99d": {
          "model_module": "@jupyter-widgets/controls",
          "model_name": "ProgressStyleModel",
          "state": {
            "_view_name": "StyleView",
            "_model_name": "ProgressStyleModel",
            "description_width": "",
            "_view_module": "@jupyter-widgets/base",
            "_model_module_version": "1.5.0",
            "_view_count": null,
            "_view_module_version": "1.2.0",
            "bar_color": null,
            "_model_module": "@jupyter-widgets/controls"
          }
        },
        "e4d09ce4f3804279b740ae0e9da831fd": {
          "model_module": "@jupyter-widgets/base",
          "model_name": "LayoutModel",
          "state": {
            "_view_name": "LayoutView",
            "grid_template_rows": null,
            "right": null,
            "justify_content": null,
            "_view_module": "@jupyter-widgets/base",
            "overflow": null,
            "_model_module_version": "1.2.0",
            "_view_count": null,
            "flex_flow": null,
            "width": null,
            "min_width": null,
            "border": null,
            "align_items": null,
            "bottom": null,
            "_model_module": "@jupyter-widgets/base",
            "top": null,
            "grid_column": null,
            "overflow_y": null,
            "overflow_x": null,
            "grid_auto_flow": null,
            "grid_area": null,
            "grid_template_columns": null,
            "flex": null,
            "_model_name": "LayoutModel",
            "justify_items": null,
            "grid_row": null,
            "max_height": null,
            "align_content": null,
            "visibility": null,
            "align_self": null,
            "height": null,
            "min_height": null,
            "padding": null,
            "grid_auto_rows": null,
            "grid_gap": null,
            "max_width": null,
            "order": null,
            "_view_module_version": "1.2.0",
            "grid_template_areas": null,
            "object_position": null,
            "object_fit": null,
            "grid_auto_columns": null,
            "margin": null,
            "display": null,
            "left": null
          }
        },
        "132e90fe39d14797b380be151eff4de5": {
          "model_module": "@jupyter-widgets/controls",
          "model_name": "TextModel",
          "state": {
            "_view_name": "TextView",
            "style": "IPY_MODEL_7755679fe8b846bc82483cd96a0d1eda",
            "_dom_classes": [],
            "description": "",
            "_model_name": "TextModel",
            "placeholder": "​",
            "_view_module": "@jupyter-widgets/controls",
            "_model_module_version": "1.5.0",
            "value": "Following data types have been inferred automatically, if they are correct press enter to continue or type 'quit' otherwise.",
            "_view_count": null,
            "disabled": false,
            "_view_module_version": "1.5.0",
            "continuous_update": true,
            "description_tooltip": null,
            "_model_module": "@jupyter-widgets/controls",
            "layout": "IPY_MODEL_99d39e17ff6e4a03b533b5964016bdfd"
          }
        },
        "7755679fe8b846bc82483cd96a0d1eda": {
          "model_module": "@jupyter-widgets/controls",
          "model_name": "DescriptionStyleModel",
          "state": {
            "_view_name": "StyleView",
            "_model_name": "DescriptionStyleModel",
            "description_width": "",
            "_view_module": "@jupyter-widgets/base",
            "_model_module_version": "1.5.0",
            "_view_count": null,
            "_view_module_version": "1.2.0",
            "_model_module": "@jupyter-widgets/controls"
          }
        },
        "99d39e17ff6e4a03b533b5964016bdfd": {
          "model_module": "@jupyter-widgets/base",
          "model_name": "LayoutModel",
          "state": {
            "_view_name": "LayoutView",
            "grid_template_rows": null,
            "right": null,
            "justify_content": null,
            "_view_module": "@jupyter-widgets/base",
            "overflow": null,
            "_model_module_version": "1.2.0",
            "_view_count": null,
            "flex_flow": null,
            "width": "100%",
            "min_width": null,
            "border": null,
            "align_items": null,
            "bottom": null,
            "_model_module": "@jupyter-widgets/base",
            "top": null,
            "grid_column": null,
            "overflow_y": null,
            "overflow_x": null,
            "grid_auto_flow": null,
            "grid_area": null,
            "grid_template_columns": null,
            "flex": null,
            "_model_name": "LayoutModel",
            "justify_items": null,
            "grid_row": null,
            "max_height": null,
            "align_content": null,
            "visibility": null,
            "align_self": null,
            "height": null,
            "min_height": null,
            "padding": null,
            "grid_auto_rows": null,
            "grid_gap": null,
            "max_width": null,
            "order": null,
            "_view_module_version": "1.2.0",
            "grid_template_areas": null,
            "object_position": null,
            "object_fit": null,
            "grid_auto_columns": null,
            "margin": null,
            "display": null,
            "left": null
          }
        },
        "5d41c2349a184b6ca6e31bf39c4c4be6": {
          "model_module": "@jupyter-widgets/controls",
          "model_name": "IntProgressModel",
          "state": {
            "_view_name": "ProgressView",
            "style": "IPY_MODEL_3965801e20274b87909d45c48a168135",
            "_dom_classes": [],
            "description": "Processing: ",
            "_model_name": "IntProgressModel",
            "bar_style": "",
            "max": 14,
            "_view_module": "@jupyter-widgets/controls",
            "_model_module_version": "1.5.0",
            "value": 14,
            "_view_count": null,
            "_view_module_version": "1.5.0",
            "orientation": "horizontal",
            "min": 0,
            "description_tooltip": null,
            "_model_module": "@jupyter-widgets/controls",
            "layout": "IPY_MODEL_1f2890408a83467fbd9c867f00907044"
          }
        },
        "3965801e20274b87909d45c48a168135": {
          "model_module": "@jupyter-widgets/controls",
          "model_name": "ProgressStyleModel",
          "state": {
            "_view_name": "StyleView",
            "_model_name": "ProgressStyleModel",
            "description_width": "",
            "_view_module": "@jupyter-widgets/base",
            "_model_module_version": "1.5.0",
            "_view_count": null,
            "_view_module_version": "1.2.0",
            "bar_color": null,
            "_model_module": "@jupyter-widgets/controls"
          }
        },
        "1f2890408a83467fbd9c867f00907044": {
          "model_module": "@jupyter-widgets/base",
          "model_name": "LayoutModel",
          "state": {
            "_view_name": "LayoutView",
            "grid_template_rows": null,
            "right": null,
            "justify_content": null,
            "_view_module": "@jupyter-widgets/base",
            "overflow": null,
            "_model_module_version": "1.2.0",
            "_view_count": null,
            "flex_flow": null,
            "width": null,
            "min_width": null,
            "border": null,
            "align_items": null,
            "bottom": null,
            "_model_module": "@jupyter-widgets/base",
            "top": null,
            "grid_column": null,
            "overflow_y": null,
            "overflow_x": null,
            "grid_auto_flow": null,
            "grid_area": null,
            "grid_template_columns": null,
            "flex": null,
            "_model_name": "LayoutModel",
            "justify_items": null,
            "grid_row": null,
            "max_height": null,
            "align_content": null,
            "visibility": null,
            "align_self": null,
            "height": null,
            "min_height": null,
            "padding": null,
            "grid_auto_rows": null,
            "grid_gap": null,
            "max_width": null,
            "order": null,
            "_view_module_version": "1.2.0",
            "grid_template_areas": null,
            "object_position": null,
            "object_fit": null,
            "grid_auto_columns": null,
            "margin": null,
            "display": null,
            "left": null
          }
        },
        "3669f5b7856b4f7483983dbd95c8fc88": {
          "model_module": "@jupyter-widgets/controls",
          "model_name": "IntProgressModel",
          "state": {
            "_view_name": "ProgressView",
            "style": "IPY_MODEL_b96ddaabcd3a4fc7b2c1faed579514c8",
            "_dom_classes": [],
            "description": "Processing: ",
            "_model_name": "IntProgressModel",
            "bar_style": "",
            "max": 5,
            "_view_module": "@jupyter-widgets/controls",
            "_model_module_version": "1.5.0",
            "value": 4,
            "_view_count": null,
            "_view_module_version": "1.5.0",
            "orientation": "horizontal",
            "min": 0,
            "description_tooltip": null,
            "_model_module": "@jupyter-widgets/controls",
            "layout": "IPY_MODEL_c0aa124eb0684089bcbf251ae788ff10"
          }
        },
        "b96ddaabcd3a4fc7b2c1faed579514c8": {
          "model_module": "@jupyter-widgets/controls",
          "model_name": "ProgressStyleModel",
          "state": {
            "_view_name": "StyleView",
            "_model_name": "ProgressStyleModel",
            "description_width": "",
            "_view_module": "@jupyter-widgets/base",
            "_model_module_version": "1.5.0",
            "_view_count": null,
            "_view_module_version": "1.2.0",
            "bar_color": null,
            "_model_module": "@jupyter-widgets/controls"
          }
        },
        "c0aa124eb0684089bcbf251ae788ff10": {
          "model_module": "@jupyter-widgets/base",
          "model_name": "LayoutModel",
          "state": {
            "_view_name": "LayoutView",
            "grid_template_rows": null,
            "right": null,
            "justify_content": null,
            "_view_module": "@jupyter-widgets/base",
            "overflow": null,
            "_model_module_version": "1.2.0",
            "_view_count": null,
            "flex_flow": null,
            "width": null,
            "min_width": null,
            "border": null,
            "align_items": null,
            "bottom": null,
            "_model_module": "@jupyter-widgets/base",
            "top": null,
            "grid_column": null,
            "overflow_y": null,
            "overflow_x": null,
            "grid_auto_flow": null,
            "grid_area": null,
            "grid_template_columns": null,
            "flex": null,
            "_model_name": "LayoutModel",
            "justify_items": null,
            "grid_row": null,
            "max_height": null,
            "align_content": null,
            "visibility": null,
            "align_self": null,
            "height": null,
            "min_height": null,
            "padding": null,
            "grid_auto_rows": null,
            "grid_gap": null,
            "max_width": null,
            "order": null,
            "_view_module_version": "1.2.0",
            "grid_template_areas": null,
            "object_position": null,
            "object_fit": null,
            "grid_auto_columns": null,
            "margin": null,
            "display": null,
            "left": null
          }
        },
        "30f2966b13f64157ad4c49af7ab9f733": {
          "model_module": "@jupyter-widgets/controls",
          "model_name": "IntProgressModel",
          "state": {
            "_view_name": "ProgressView",
            "style": "IPY_MODEL_bfdab1473fd54c689861de5e0d4d73e5",
            "_dom_classes": [],
            "description": "Processing: ",
            "_model_name": "IntProgressModel",
            "bar_style": "",
            "max": 5,
            "_view_module": "@jupyter-widgets/controls",
            "_model_module_version": "1.5.0",
            "value": 4,
            "_view_count": null,
            "_view_module_version": "1.5.0",
            "orientation": "horizontal",
            "min": 0,
            "description_tooltip": null,
            "_model_module": "@jupyter-widgets/controls",
            "layout": "IPY_MODEL_0c5dbd2b5d424083a955871d0d39dea9"
          }
        },
        "e566b7e3082f4b7ea392e58fda367bf5": {
          "model_module": "@jupyter-widgets/controls",
          "model_name": "IntProgressModel",
          "state": {
            "_view_name": "ProgressView",
            "style": "IPY_MODEL_dfadde50bb1e486d9490731062654779",
            "_dom_classes": [],
            "description": "Processing: ",
            "_model_name": "IntProgressModel",
            "bar_style": "",
            "max": 5,
            "_view_module": "@jupyter-widgets/controls",
            "_model_module_version": "1.5.0",
            "value": 4,
            "_view_count": null,
            "_view_module_version": "1.5.0",
            "orientation": "horizontal",
            "min": 0,
            "description_tooltip": null,
            "_model_module": "@jupyter-widgets/controls",
            "layout": "IPY_MODEL_cbbe8c108c7143d2b9312afa1c0484d1"
          }
        }
      }
    }
  },
  "cells": [
    {
      "cell_type": "markdown",
      "metadata": {
        "id": "view-in-github",
        "colab_type": "text"
      },
      "source": [
        "<a href=\"https://colab.research.google.com/github/swilsonmfc/nlp/blob/master/NLPTopicModel.ipynb\" target=\"_parent\"><img src=\"https://colab.research.google.com/assets/colab-badge.svg\" alt=\"Open In Colab\"/></a>"
      ]
    },
    {
      "cell_type": "markdown",
      "metadata": {
        "id": "iEv2goI9kF1w",
        "colab_type": "text"
      },
      "source": [
        "# Topic Models\n",
        "![alt text](https://d2908q01vomqb2.cloudfront.net/f1f836cb4ea6efb2a0b1b99f41ad8b103eff4b59/2018/05/22/sagemaker-ntm-1.gif)"
      ]
    },
    {
      "cell_type": "markdown",
      "metadata": {
        "id": "buG5moNFo8uj",
        "colab_type": "text"
      },
      "source": [
        "# Setup"
      ]
    },
    {
      "cell_type": "code",
      "metadata": {
        "id": "UVQMntY7vkWX",
        "colab_type": "code",
        "colab": {
          "base_uri": "https://localhost:8080/",
          "height": 1000
        },
        "outputId": "f40c8ade-7398-4580-d901-63d5b4136b19"
      },
      "source": [
        "pip install pycaret"
      ],
      "execution_count": null,
      "outputs": [
        {
          "output_type": "stream",
          "text": [
            "Collecting pycaret\n",
            "\u001b[?25l  Downloading https://files.pythonhosted.org/packages/c7/41/f7fa05b6ce3cb3096a35fb5ac6dc0f2bb23e8304f068618fb2501be0a562/pycaret-1.0.0-py3-none-any.whl (188kB)\n",
            "\r\u001b[K     |█▊                              | 10kB 17.9MB/s eta 0:00:01\r\u001b[K     |███▌                            | 20kB 1.7MB/s eta 0:00:01\r\u001b[K     |█████▏                          | 30kB 2.3MB/s eta 0:00:01\r\u001b[K     |███████                         | 40kB 2.5MB/s eta 0:00:01\r\u001b[K     |████████▊                       | 51kB 2.0MB/s eta 0:00:01\r\u001b[K     |██████████▍                     | 61kB 2.3MB/s eta 0:00:01\r\u001b[K     |████████████▏                   | 71kB 2.5MB/s eta 0:00:01\r\u001b[K     |██████████████                  | 81kB 2.7MB/s eta 0:00:01\r\u001b[K     |███████████████▋                | 92kB 2.9MB/s eta 0:00:01\r\u001b[K     |█████████████████▍              | 102kB 2.8MB/s eta 0:00:01\r\u001b[K     |███████████████████▏            | 112kB 2.8MB/s eta 0:00:01\r\u001b[K     |████████████████████▉           | 122kB 2.8MB/s eta 0:00:01\r\u001b[K     |██████████████████████▋         | 133kB 2.8MB/s eta 0:00:01\r\u001b[K     |████████████████████████▍       | 143kB 2.8MB/s eta 0:00:01\r\u001b[K     |██████████████████████████      | 153kB 2.8MB/s eta 0:00:01\r\u001b[K     |███████████████████████████▉    | 163kB 2.8MB/s eta 0:00:01\r\u001b[K     |█████████████████████████████▋  | 174kB 2.8MB/s eta 0:00:01\r\u001b[K     |███████████████████████████████▎| 184kB 2.8MB/s eta 0:00:01\r\u001b[K     |████████████████████████████████| 194kB 2.8MB/s \n",
            "\u001b[?25hRequirement already satisfied: ipywidgets in /usr/local/lib/python3.6/dist-packages (from pycaret) (7.5.1)\n",
            "Collecting scikit-learn==0.22\n",
            "\u001b[?25l  Downloading https://files.pythonhosted.org/packages/2e/d0/860c4f6a7027e00acff373d9f5327f4ae3ed5872234b3cbdd7bcb52e5eff/scikit_learn-0.22-cp36-cp36m-manylinux1_x86_64.whl (7.0MB)\n",
            "\u001b[K     |████████████████████████████████| 7.0MB 7.9MB/s \n",
            "\u001b[?25hRequirement already satisfied: IPython in /usr/local/lib/python3.6/dist-packages (from pycaret) (5.5.0)\n",
            "Requirement already satisfied: spacy in /usr/local/lib/python3.6/dist-packages (from pycaret) (2.2.4)\n",
            "Requirement already satisfied: gensim in /usr/local/lib/python3.6/dist-packages (from pycaret) (3.6.0)\n",
            "Collecting pandas-profiling==2.3.0\n",
            "\u001b[?25l  Downloading https://files.pythonhosted.org/packages/2c/2f/aae19e2173c10a9bb7fee5f5cad35dbe53a393960fc91abc477dcc4661e8/pandas-profiling-2.3.0.tar.gz (127kB)\n",
            "\u001b[K     |████████████████████████████████| 133kB 38.5MB/s \n",
            "\u001b[?25hCollecting DateTime==4.3\n",
            "\u001b[?25l  Downloading https://files.pythonhosted.org/packages/73/22/a5297f3a1f92468cc737f8ce7ba6e5f245fcfafeae810ba37bd1039ea01c/DateTime-4.3-py2.py3-none-any.whl (60kB)\n",
            "\u001b[K     |████████████████████████████████| 61kB 7.9MB/s \n",
            "\u001b[?25hCollecting catboost==0.20.2\n",
            "\u001b[?25l  Downloading https://files.pythonhosted.org/packages/97/c4/586923de4634f88a31fd1b4966e15707a912b98b6f4566651b5ef58f36b5/catboost-0.20.2-cp36-none-manylinux1_x86_64.whl (63.9MB)\n",
            "\u001b[K     |████████████████████████████████| 63.9MB 67kB/s \n",
            "\u001b[?25hCollecting awscli\n",
            "\u001b[?25l  Downloading https://files.pythonhosted.org/packages/fd/ff/8e6b89c5b79c9b2d9886a561175f3cd5919e20121f8f00ec6cdd2c0ebb21/awscli-1.18.103-py2.py3-none-any.whl (3.3MB)\n",
            "\u001b[K     |████████████████████████████████| 3.3MB 47.5MB/s \n",
            "\u001b[?25hRequirement already satisfied: plotly==4.4.1 in /usr/local/lib/python3.6/dist-packages (from pycaret) (4.4.1)\n",
            "Collecting shap==0.32.1\n",
            "\u001b[?25l  Downloading https://files.pythonhosted.org/packages/57/43/08f152a59a1d60f0328b476bdd58c791498989981ab9c6d595ec5448a86a/shap-0.32.1.tar.gz (259kB)\n",
            "\u001b[K     |████████████████████████████████| 266kB 43.7MB/s \n",
            "\u001b[?25hRequirement already satisfied: textblob in /usr/local/lib/python3.6/dist-packages (from pycaret) (0.15.3)\n",
            "Collecting pyLDAvis\n",
            "\u001b[?25l  Downloading https://files.pythonhosted.org/packages/a5/3a/af82e070a8a96e13217c8f362f9a73e82d61ac8fff3a2561946a97f96266/pyLDAvis-2.1.2.tar.gz (1.6MB)\n",
            "\u001b[K     |████████████████████████████████| 1.6MB 43.4MB/s \n",
            "\u001b[?25hCollecting datefinder==0.7.0\n",
            "  Downloading https://files.pythonhosted.org/packages/16/2b/af8efaee30c0ba4238cb4d0645a07100d33d11d20a8783c443ed8b813eb9/datefinder-0.7.0-py2.py3-none-any.whl\n",
            "Requirement already satisfied: seaborn in /usr/local/lib/python3.6/dist-packages (from pycaret) (0.10.1)\n",
            "Requirement already satisfied: joblib in /usr/local/lib/python3.6/dist-packages (from pycaret) (0.16.0)\n",
            "Requirement already satisfied: mlxtend in /usr/local/lib/python3.6/dist-packages (from pycaret) (0.14.0)\n",
            "Requirement already satisfied: xgboost==0.90 in /usr/local/lib/python3.6/dist-packages (from pycaret) (0.90)\n",
            "Requirement already satisfied: wordcloud in /usr/local/lib/python3.6/dist-packages (from pycaret) (1.5.0)\n",
            "Requirement already satisfied: pandas in /usr/local/lib/python3.6/dist-packages (from pycaret) (1.0.5)\n",
            "Collecting pyod\n",
            "\u001b[?25l  Downloading https://files.pythonhosted.org/packages/77/4e/5767edaccbfc227914ca774cb6ca9b628a08cbb59b9b4839296953a63d34/pyod-0.8.1.tar.gz (93kB)\n",
            "\u001b[K     |████████████████████████████████| 102kB 10.8MB/s \n",
            "\u001b[?25hRequirement already satisfied: nltk in /usr/local/lib/python3.6/dist-packages (from pycaret) (3.2.5)\n",
            "Collecting lightgbm==2.3.1\n",
            "\u001b[?25l  Downloading https://files.pythonhosted.org/packages/0b/9d/ddcb2f43aca194987f1a99e27edf41cf9bc39ea750c3371c2a62698c509a/lightgbm-2.3.1-py2.py3-none-manylinux1_x86_64.whl (1.2MB)\n",
            "\u001b[K     |████████████████████████████████| 1.2MB 48.9MB/s \n",
            "\u001b[?25hRequirement already satisfied: matplotlib in /usr/local/lib/python3.6/dist-packages (from pycaret) (3.2.2)\n",
            "Collecting cufflinks==0.17.0\n",
            "\u001b[?25l  Downloading https://files.pythonhosted.org/packages/e3/79/1b8673b2723e02919307d558896dbcedcb46807c4e29acd25cfe43a36c8b/cufflinks-0.17.0.tar.gz (81kB)\n",
            "\u001b[K     |████████████████████████████████| 81kB 9.0MB/s \n",
            "\u001b[?25hRequirement already satisfied: umap-learn in /usr/local/lib/python3.6/dist-packages (from pycaret) (0.4.6)\n",
            "Requirement already satisfied: numpy in /usr/local/lib/python3.6/dist-packages (from pycaret) (1.18.5)\n",
            "Collecting yellowbrick==1.0.1\n",
            "\u001b[?25l  Downloading https://files.pythonhosted.org/packages/d1/cf/6d6ab47c0759d246262f9bdb53e89be3814bf1774bc51fffff995f5859f9/yellowbrick-1.0.1-py3-none-any.whl (378kB)\n",
            "\u001b[K     |████████████████████████████████| 389kB 41.0MB/s \n",
            "\u001b[?25hCollecting kmodes==0.10.1\n",
            "  Downloading https://files.pythonhosted.org/packages/79/c0/f7d8a0eb41ac6f302b4bc100f91b6e0f2558425ccfefaa0ec0430f77ee97/kmodes-0.10.1-py2.py3-none-any.whl\n",
            "Requirement already satisfied: nbformat>=4.2.0 in /usr/local/lib/python3.6/dist-packages (from ipywidgets->pycaret) (5.0.7)\n",
            "Requirement already satisfied: ipykernel>=4.5.1 in /usr/local/lib/python3.6/dist-packages (from ipywidgets->pycaret) (4.10.1)\n",
            "Requirement already satisfied: widgetsnbextension~=3.5.0 in /usr/local/lib/python3.6/dist-packages (from ipywidgets->pycaret) (3.5.1)\n",
            "Requirement already satisfied: traitlets>=4.3.1 in /usr/local/lib/python3.6/dist-packages (from ipywidgets->pycaret) (4.3.3)\n",
            "Requirement already satisfied: scipy>=0.17.0 in /usr/local/lib/python3.6/dist-packages (from scikit-learn==0.22->pycaret) (1.4.1)\n",
            "Requirement already satisfied: pygments in /usr/local/lib/python3.6/dist-packages (from IPython->pycaret) (2.1.3)\n",
            "Requirement already satisfied: setuptools>=18.5 in /usr/local/lib/python3.6/dist-packages (from IPython->pycaret) (49.1.0)\n",
            "Requirement already satisfied: decorator in /usr/local/lib/python3.6/dist-packages (from IPython->pycaret) (4.4.2)\n",
            "Requirement already satisfied: pickleshare in /usr/local/lib/python3.6/dist-packages (from IPython->pycaret) (0.7.5)\n",
            "Requirement already satisfied: pexpect; sys_platform != \"win32\" in /usr/local/lib/python3.6/dist-packages (from IPython->pycaret) (4.8.0)\n",
            "Requirement already satisfied: simplegeneric>0.8 in /usr/local/lib/python3.6/dist-packages (from IPython->pycaret) (0.8.1)\n",
            "Requirement already satisfied: prompt-toolkit<2.0.0,>=1.0.4 in /usr/local/lib/python3.6/dist-packages (from IPython->pycaret) (1.0.18)\n",
            "Requirement already satisfied: catalogue<1.1.0,>=0.0.7 in /usr/local/lib/python3.6/dist-packages (from spacy->pycaret) (1.0.0)\n",
            "Requirement already satisfied: thinc==7.4.0 in /usr/local/lib/python3.6/dist-packages (from spacy->pycaret) (7.4.0)\n",
            "Requirement already satisfied: srsly<1.1.0,>=1.0.2 in /usr/local/lib/python3.6/dist-packages (from spacy->pycaret) (1.0.2)\n",
            "Requirement already satisfied: blis<0.5.0,>=0.4.0 in /usr/local/lib/python3.6/dist-packages (from spacy->pycaret) (0.4.1)\n",
            "Requirement already satisfied: preshed<3.1.0,>=3.0.2 in /usr/local/lib/python3.6/dist-packages (from spacy->pycaret) (3.0.2)\n",
            "Requirement already satisfied: cymem<2.1.0,>=2.0.2 in /usr/local/lib/python3.6/dist-packages (from spacy->pycaret) (2.0.3)\n",
            "Requirement already satisfied: plac<1.2.0,>=0.9.6 in /usr/local/lib/python3.6/dist-packages (from spacy->pycaret) (1.1.3)\n",
            "Requirement already satisfied: murmurhash<1.1.0,>=0.28.0 in /usr/local/lib/python3.6/dist-packages (from spacy->pycaret) (1.0.2)\n",
            "Requirement already satisfied: wasabi<1.1.0,>=0.4.0 in /usr/local/lib/python3.6/dist-packages (from spacy->pycaret) (0.7.1)\n",
            "Requirement already satisfied: tqdm<5.0.0,>=4.38.0 in /usr/local/lib/python3.6/dist-packages (from spacy->pycaret) (4.41.1)\n",
            "Requirement already satisfied: requests<3.0.0,>=2.13.0 in /usr/local/lib/python3.6/dist-packages (from spacy->pycaret) (2.23.0)\n",
            "Requirement already satisfied: smart-open>=1.2.1 in /usr/local/lib/python3.6/dist-packages (from gensim->pycaret) (2.1.0)\n",
            "Requirement already satisfied: six>=1.5.0 in /usr/local/lib/python3.6/dist-packages (from gensim->pycaret) (1.15.0)\n",
            "Requirement already satisfied: jinja2>=2.8 in /usr/local/lib/python3.6/dist-packages (from pandas-profiling==2.3.0->pycaret) (2.11.2)\n",
            "Requirement already satisfied: missingno>=0.4.2 in /usr/local/lib/python3.6/dist-packages (from pandas-profiling==2.3.0->pycaret) (0.4.2)\n",
            "Collecting htmlmin>=0.1.12\n",
            "  Downloading https://files.pythonhosted.org/packages/b3/e7/fcd59e12169de19f0131ff2812077f964c6b960e7c09804d30a7bf2ab461/htmlmin-0.1.12.tar.gz\n",
            "Collecting phik>=0.9.8\n",
            "\u001b[?25l  Downloading https://files.pythonhosted.org/packages/01/5a/7ef1c04ce62cd72f900c06298dc2385840550d5c653a0dbc19109a5477e6/phik-0.10.0-py3-none-any.whl (599kB)\n",
            "\u001b[K     |████████████████████████████████| 604kB 42.6MB/s \n",
            "\u001b[?25hCollecting confuse>=1.0.0\n",
            "\u001b[?25l  Downloading https://files.pythonhosted.org/packages/b5/6d/bedc0d1068bd244cee05843313cbec6cebb9f01f925538269bababc6d887/confuse-1.3.0-py2.py3-none-any.whl (64kB)\n",
            "\u001b[K     |████████████████████████████████| 71kB 7.3MB/s \n",
            "\u001b[?25hRequirement already satisfied: astropy in /usr/local/lib/python3.6/dist-packages (from pandas-profiling==2.3.0->pycaret) (4.0.1.post1)\n",
            "Requirement already satisfied: pytz in /usr/local/lib/python3.6/dist-packages (from DateTime==4.3->pycaret) (2018.9)\n",
            "Collecting zope.interface\n",
            "\u001b[?25l  Downloading https://files.pythonhosted.org/packages/57/33/565274c28a11af60b7cfc0519d46bde4125fcd7d32ebc0a81b480d0e8da6/zope.interface-5.1.0-cp36-cp36m-manylinux2010_x86_64.whl (234kB)\n",
            "\u001b[K     |████████████████████████████████| 235kB 48.4MB/s \n",
            "\u001b[?25hRequirement already satisfied: graphviz in /usr/local/lib/python3.6/dist-packages (from catboost==0.20.2->pycaret) (0.10.1)\n",
            "Requirement already satisfied: docutils<0.16,>=0.10 in /usr/local/lib/python3.6/dist-packages (from awscli->pycaret) (0.15.2)\n",
            "Collecting botocore==1.17.26\n",
            "\u001b[?25l  Downloading https://files.pythonhosted.org/packages/ab/e5/4bf433f4fe4bb193f65c9d8be0b72d31c0ac04a564b787cc0f0929644325/botocore-1.17.26-py2.py3-none-any.whl (6.4MB)\n",
            "\u001b[K     |████████████████████████████████| 6.4MB 45.4MB/s \n",
            "\u001b[?25hRequirement already satisfied: PyYAML<5.4,>=3.10; python_version != \"3.4\" in /usr/local/lib/python3.6/dist-packages (from awscli->pycaret) (3.13)\n",
            "Collecting colorama<0.4.4,>=0.2.5; python_version != \"3.4\"\n",
            "  Downloading https://files.pythonhosted.org/packages/c9/dc/45cdef1b4d119eb96316b3117e6d5708a08029992b2fee2c143c7a0a5cc5/colorama-0.4.3-py2.py3-none-any.whl\n",
            "Requirement already satisfied: s3transfer<0.4.0,>=0.3.0 in /usr/local/lib/python3.6/dist-packages (from awscli->pycaret) (0.3.3)\n",
            "Collecting rsa<=4.5.0,>=3.1.2; python_version != \"3.4\"\n",
            "  Downloading https://files.pythonhosted.org/packages/26/f8/8127fdda0294f044121d20aac7785feb810e159098447967a6103dedfb96/rsa-4.5-py2.py3-none-any.whl\n",
            "Requirement already satisfied: retrying>=1.3.3 in /usr/local/lib/python3.6/dist-packages (from plotly==4.4.1->pycaret) (1.3.3)\n",
            "Requirement already satisfied: wheel>=0.23.0 in /usr/local/lib/python3.6/dist-packages (from pyLDAvis->pycaret) (0.34.2)\n",
            "Requirement already satisfied: numexpr in /usr/local/lib/python3.6/dist-packages (from pyLDAvis->pycaret) (2.7.1)\n",
            "Requirement already satisfied: pytest in /usr/local/lib/python3.6/dist-packages (from pyLDAvis->pycaret) (3.6.4)\n",
            "Requirement already satisfied: future in /usr/local/lib/python3.6/dist-packages (from pyLDAvis->pycaret) (0.16.0)\n",
            "Collecting funcy\n",
            "\u001b[?25l  Downloading https://files.pythonhosted.org/packages/ce/4b/6ffa76544e46614123de31574ad95758c421aae391a1764921b8a81e1eae/funcy-1.14.tar.gz (548kB)\n",
            "\u001b[K     |████████████████████████████████| 552kB 40.2MB/s \n",
            "\u001b[?25hRequirement already satisfied: regex>=2017.02.08 in /usr/local/lib/python3.6/dist-packages (from datefinder==0.7.0->pycaret) (2019.12.20)\n",
            "Requirement already satisfied: python-dateutil>=2.4.2 in /usr/local/lib/python3.6/dist-packages (from datefinder==0.7.0->pycaret) (2.8.1)\n",
            "Requirement already satisfied: pillow in /usr/local/lib/python3.6/dist-packages (from wordcloud->pycaret) (7.0.0)\n",
            "Collecting combo\n",
            "  Downloading https://files.pythonhosted.org/packages/0a/2a/61b6ac584e75d8df16dc27962aa5fe99d76b09da5b6710e83d4862c84001/combo-0.1.1.tar.gz\n",
            "Requirement already satisfied: numba>=0.35 in /usr/local/lib/python3.6/dist-packages (from pyod->pycaret) (0.48.0)\n",
            "Collecting suod\n",
            "\u001b[?25l  Downloading https://files.pythonhosted.org/packages/a1/87/9170cabe1b5e10a7d095c0e28f2e30e7c1886a13f063de85d3cfacc06f4b/suod-0.0.4.tar.gz (2.1MB)\n",
            "\u001b[K     |████████████████████████████████| 2.1MB 43.3MB/s \n",
            "\u001b[?25hRequirement already satisfied: pyparsing!=2.0.4,!=2.1.2,!=2.1.6,>=2.0.1 in /usr/local/lib/python3.6/dist-packages (from matplotlib->pycaret) (2.4.7)\n",
            "Requirement already satisfied: kiwisolver>=1.0.1 in /usr/local/lib/python3.6/dist-packages (from matplotlib->pycaret) (1.2.0)\n",
            "Requirement already satisfied: cycler>=0.10 in /usr/local/lib/python3.6/dist-packages (from matplotlib->pycaret) (0.10.0)\n",
            "Collecting chart-studio>=1.0.0\n",
            "\u001b[?25l  Downloading https://files.pythonhosted.org/packages/ca/ce/330794a6b6ca4b9182c38fc69dd2a9cbff60fd49421cb8648ee5fee352dc/chart_studio-1.1.0-py3-none-any.whl (64kB)\n",
            "\u001b[K     |████████████████████████████████| 71kB 8.1MB/s \n",
            "\u001b[?25hRequirement already satisfied: colorlover>=0.2.1 in /usr/local/lib/python3.6/dist-packages (from cufflinks==0.17.0->pycaret) (0.3.0)\n",
            "Requirement already satisfied: ipython-genutils in /usr/local/lib/python3.6/dist-packages (from nbformat>=4.2.0->ipywidgets->pycaret) (0.2.0)\n",
            "Requirement already satisfied: jupyter-core in /usr/local/lib/python3.6/dist-packages (from nbformat>=4.2.0->ipywidgets->pycaret) (4.6.3)\n",
            "Requirement already satisfied: jsonschema!=2.5.0,>=2.4 in /usr/local/lib/python3.6/dist-packages (from nbformat>=4.2.0->ipywidgets->pycaret) (2.6.0)\n",
            "Requirement already satisfied: tornado>=4.0 in /usr/local/lib/python3.6/dist-packages (from ipykernel>=4.5.1->ipywidgets->pycaret) (4.5.3)\n",
            "Requirement already satisfied: jupyter-client in /usr/local/lib/python3.6/dist-packages (from ipykernel>=4.5.1->ipywidgets->pycaret) (5.3.5)\n",
            "Requirement already satisfied: notebook>=4.4.1 in /usr/local/lib/python3.6/dist-packages (from widgetsnbextension~=3.5.0->ipywidgets->pycaret) (5.2.2)\n",
            "Requirement already satisfied: ptyprocess>=0.5 in /usr/local/lib/python3.6/dist-packages (from pexpect; sys_platform != \"win32\"->IPython->pycaret) (0.6.0)\n",
            "Requirement already satisfied: wcwidth in /usr/local/lib/python3.6/dist-packages (from prompt-toolkit<2.0.0,>=1.0.4->IPython->pycaret) (0.2.5)\n",
            "Requirement already satisfied: importlib-metadata>=0.20; python_version < \"3.8\" in /usr/local/lib/python3.6/dist-packages (from catalogue<1.1.0,>=0.0.7->spacy->pycaret) (1.7.0)\n",
            "Requirement already satisfied: chardet<4,>=3.0.2 in /usr/local/lib/python3.6/dist-packages (from requests<3.0.0,>=2.13.0->spacy->pycaret) (3.0.4)\n",
            "Requirement already satisfied: urllib3!=1.25.0,!=1.25.1,<1.26,>=1.21.1 in /usr/local/lib/python3.6/dist-packages (from requests<3.0.0,>=2.13.0->spacy->pycaret) (1.24.3)\n",
            "Requirement already satisfied: idna<3,>=2.5 in /usr/local/lib/python3.6/dist-packages (from requests<3.0.0,>=2.13.0->spacy->pycaret) (2.10)\n",
            "Requirement already satisfied: certifi>=2017.4.17 in /usr/local/lib/python3.6/dist-packages (from requests<3.0.0,>=2.13.0->spacy->pycaret) (2020.6.20)\n",
            "Requirement already satisfied: boto3 in /usr/local/lib/python3.6/dist-packages (from smart-open>=1.2.1->gensim->pycaret) (1.14.22)\n",
            "Requirement already satisfied: boto in /usr/local/lib/python3.6/dist-packages (from smart-open>=1.2.1->gensim->pycaret) (2.49.0)\n",
            "Requirement already satisfied: MarkupSafe>=0.23 in /usr/local/lib/python3.6/dist-packages (from jinja2>=2.8->pandas-profiling==2.3.0->pycaret) (1.1.1)\n",
            "Requirement already satisfied: jmespath<1.0.0,>=0.7.1 in /usr/local/lib/python3.6/dist-packages (from botocore==1.17.26->awscli->pycaret) (0.10.0)\n",
            "Requirement already satisfied: pyasn1>=0.1.3 in /usr/local/lib/python3.6/dist-packages (from rsa<=4.5.0,>=3.1.2; python_version != \"3.4\"->awscli->pycaret) (0.4.8)\n",
            "Requirement already satisfied: pluggy<0.8,>=0.5 in /usr/local/lib/python3.6/dist-packages (from pytest->pyLDAvis->pycaret) (0.7.1)\n",
            "Requirement already satisfied: py>=1.5.0 in /usr/local/lib/python3.6/dist-packages (from pytest->pyLDAvis->pycaret) (1.9.0)\n",
            "Requirement already satisfied: attrs>=17.4.0 in /usr/local/lib/python3.6/dist-packages (from pytest->pyLDAvis->pycaret) (19.3.0)\n",
            "Requirement already satisfied: atomicwrites>=1.0 in /usr/local/lib/python3.6/dist-packages (from pytest->pyLDAvis->pycaret) (1.4.0)\n",
            "Requirement already satisfied: more-itertools>=4.0.0 in /usr/local/lib/python3.6/dist-packages (from pytest->pyLDAvis->pycaret) (8.4.0)\n",
            "Requirement already satisfied: llvmlite<0.32.0,>=0.31.0dev0 in /usr/local/lib/python3.6/dist-packages (from numba>=0.35->pyod->pycaret) (0.31.0)\n",
            "Requirement already satisfied: pyzmq>=13 in /usr/local/lib/python3.6/dist-packages (from jupyter-client->ipykernel>=4.5.1->ipywidgets->pycaret) (19.0.1)\n",
            "Requirement already satisfied: nbconvert in /usr/local/lib/python3.6/dist-packages (from notebook>=4.4.1->widgetsnbextension~=3.5.0->ipywidgets->pycaret) (5.6.1)\n",
            "Requirement already satisfied: terminado>=0.3.3; sys_platform != \"win32\" in /usr/local/lib/python3.6/dist-packages (from notebook>=4.4.1->widgetsnbextension~=3.5.0->ipywidgets->pycaret) (0.8.3)\n",
            "Requirement already satisfied: zipp>=0.5 in /usr/local/lib/python3.6/dist-packages (from importlib-metadata>=0.20; python_version < \"3.8\"->catalogue<1.1.0,>=0.0.7->spacy->pycaret) (3.1.0)\n",
            "Requirement already satisfied: testpath in /usr/local/lib/python3.6/dist-packages (from nbconvert->notebook>=4.4.1->widgetsnbextension~=3.5.0->ipywidgets->pycaret) (0.4.4)\n",
            "Requirement already satisfied: mistune<2,>=0.8.1 in /usr/local/lib/python3.6/dist-packages (from nbconvert->notebook>=4.4.1->widgetsnbextension~=3.5.0->ipywidgets->pycaret) (0.8.4)\n",
            "Requirement already satisfied: defusedxml in /usr/local/lib/python3.6/dist-packages (from nbconvert->notebook>=4.4.1->widgetsnbextension~=3.5.0->ipywidgets->pycaret) (0.6.0)\n",
            "Requirement already satisfied: pandocfilters>=1.4.1 in /usr/local/lib/python3.6/dist-packages (from nbconvert->notebook>=4.4.1->widgetsnbextension~=3.5.0->ipywidgets->pycaret) (1.4.2)\n",
            "Requirement already satisfied: bleach in /usr/local/lib/python3.6/dist-packages (from nbconvert->notebook>=4.4.1->widgetsnbextension~=3.5.0->ipywidgets->pycaret) (3.1.5)\n",
            "Requirement already satisfied: entrypoints>=0.2.2 in /usr/local/lib/python3.6/dist-packages (from nbconvert->notebook>=4.4.1->widgetsnbextension~=3.5.0->ipywidgets->pycaret) (0.3)\n",
            "Requirement already satisfied: webencodings in /usr/local/lib/python3.6/dist-packages (from bleach->nbconvert->notebook>=4.4.1->widgetsnbextension~=3.5.0->ipywidgets->pycaret) (0.5.1)\n",
            "Requirement already satisfied: packaging in /usr/local/lib/python3.6/dist-packages (from bleach->nbconvert->notebook>=4.4.1->widgetsnbextension~=3.5.0->ipywidgets->pycaret) (20.4)\n",
            "Building wheels for collected packages: pandas-profiling, shap, pyLDAvis, pyod, cufflinks, htmlmin, funcy, combo, suod\n",
            "  Building wheel for pandas-profiling (setup.py) ... \u001b[?25l\u001b[?25hdone\n",
            "  Created wheel for pandas-profiling: filename=pandas_profiling-2.3.0-py2.py3-none-any.whl size=145035 sha256=1d7457eac90c29c2a68fd9d798fe633dee59ac1d46bc22be76d074869934e8ca\n",
            "  Stored in directory: /root/.cache/pip/wheels/ce/c7/f1/dbfef4848ebb048cb1d4a22d1ed0c62d8ff2523747235e19fe\n",
            "  Building wheel for shap (setup.py) ... \u001b[?25l\u001b[?25hdone\n",
            "  Created wheel for shap: filename=shap-0.32.1-cp36-cp36m-linux_x86_64.whl size=376804 sha256=6456f9cbcae9bbb5186b70635cf30ac3095ae1baea879c0bc2a4ac807d8984f7\n",
            "  Stored in directory: /root/.cache/pip/wheels/8e/b2/50/8fadb5a59789cb5bdeb01b800223be540651ae92915172050b\n",
            "  Building wheel for pyLDAvis (setup.py) ... \u001b[?25l\u001b[?25hdone\n",
            "  Created wheel for pyLDAvis: filename=pyLDAvis-2.1.2-py2.py3-none-any.whl size=97711 sha256=f0a0af885325fb780a45e455e768c1e2af194efb0e8fba07c1fa8b06648811ae\n",
            "  Stored in directory: /root/.cache/pip/wheels/98/71/24/513a99e58bb6b8465bae4d2d5e9dba8f0bef8179e3051ac414\n",
            "  Building wheel for pyod (setup.py) ... \u001b[?25l\u001b[?25hdone\n",
            "  Created wheel for pyod: filename=pyod-0.8.1-cp36-none-any.whl size=105653 sha256=a4aefc0d3926bb2b7dc3be7c002aadef18fc2d2eaa6cf6b8dae21dd992f82452\n",
            "  Stored in directory: /root/.cache/pip/wheels/2e/ca/18/727e9d98a41f5f4385a97d5b429f3a9c8fbee13f9780c18642\n",
            "  Building wheel for cufflinks (setup.py) ... \u001b[?25l\u001b[?25hdone\n",
            "  Created wheel for cufflinks: filename=cufflinks-0.17.0-cp36-none-any.whl size=67744 sha256=92e587b623956a299ac4fa5f350b1659afba5063fe25e088be669b9512a4b3b2\n",
            "  Stored in directory: /root/.cache/pip/wheels/44/d7/dc/e830ab00bc2dd3b2731295103baa070f8cbdda8891f71a7a8d\n",
            "  Building wheel for htmlmin (setup.py) ... \u001b[?25l\u001b[?25hdone\n",
            "  Created wheel for htmlmin: filename=htmlmin-0.1.12-cp36-none-any.whl size=27084 sha256=742aa816d1af5bc58e6884ba88abe0484f0cbca1fba7d55c9a07bbcecf1fe981\n",
            "  Stored in directory: /root/.cache/pip/wheels/43/07/ac/7c5a9d708d65247ac1f94066cf1db075540b85716c30255459\n",
            "  Building wheel for funcy (setup.py) ... \u001b[?25l\u001b[?25hdone\n",
            "  Created wheel for funcy: filename=funcy-1.14-py2.py3-none-any.whl size=32042 sha256=887eb798ae3183e936eb0a82c18f6955267593a93f4a23a9e14fc45ded97cb66\n",
            "  Stored in directory: /root/.cache/pip/wheels/20/5a/d8/1d875df03deae6f178dfdf70238cca33f948ef8a6f5209f2eb\n",
            "  Building wheel for combo (setup.py) ... \u001b[?25l\u001b[?25hdone\n",
            "  Created wheel for combo: filename=combo-0.1.1-cp36-none-any.whl size=42111 sha256=f7230a0a5b773d3f2f59cd322598ebcae1d0e406cf862da527f9368cfb1745d6\n",
            "  Stored in directory: /root/.cache/pip/wheels/55/ec/e5/a2331372c676c467e70c6646e646edf6997d5c4905b8c0f5e6\n",
            "  Building wheel for suod (setup.py) ... \u001b[?25l\u001b[?25hdone\n",
            "  Created wheel for suod: filename=suod-0.0.4-cp36-none-any.whl size=2167157 sha256=f023e53408af8201be1fdea9fc56c2bb8a8aa6f47f81068075a2b97393f1dd07\n",
            "  Stored in directory: /root/.cache/pip/wheels/57/55/e5/a4fca65bba231f6d0115059b589148774b41faea25b3f2aa27\n",
            "Successfully built pandas-profiling shap pyLDAvis pyod cufflinks htmlmin funcy combo suod\n",
            "Installing collected packages: scikit-learn, htmlmin, phik, confuse, pandas-profiling, zope.interface, DateTime, catboost, botocore, colorama, rsa, awscli, shap, funcy, pyLDAvis, datefinder, combo, suod, pyod, lightgbm, chart-studio, cufflinks, yellowbrick, kmodes, pycaret\n",
            "  Found existing installation: scikit-learn 0.22.2.post1\n",
            "    Uninstalling scikit-learn-0.22.2.post1:\n",
            "      Successfully uninstalled scikit-learn-0.22.2.post1\n",
            "  Found existing installation: pandas-profiling 1.4.1\n",
            "    Uninstalling pandas-profiling-1.4.1:\n",
            "      Successfully uninstalled pandas-profiling-1.4.1\n",
            "  Found existing installation: botocore 1.17.22\n",
            "    Uninstalling botocore-1.17.22:\n",
            "      Successfully uninstalled botocore-1.17.22\n",
            "  Found existing installation: rsa 4.6\n",
            "    Uninstalling rsa-4.6:\n",
            "      Successfully uninstalled rsa-4.6\n",
            "  Found existing installation: lightgbm 2.2.3\n",
            "    Uninstalling lightgbm-2.2.3:\n",
            "      Successfully uninstalled lightgbm-2.2.3\n",
            "  Found existing installation: cufflinks 0.17.3\n",
            "    Uninstalling cufflinks-0.17.3:\n",
            "      Successfully uninstalled cufflinks-0.17.3\n",
            "  Found existing installation: yellowbrick 0.9.1\n",
            "    Uninstalling yellowbrick-0.9.1:\n",
            "      Successfully uninstalled yellowbrick-0.9.1\n",
            "Successfully installed DateTime-4.3 awscli-1.18.103 botocore-1.17.26 catboost-0.20.2 chart-studio-1.1.0 colorama-0.4.3 combo-0.1.1 confuse-1.3.0 cufflinks-0.17.0 datefinder-0.7.0 funcy-1.14 htmlmin-0.1.12 kmodes-0.10.1 lightgbm-2.3.1 pandas-profiling-2.3.0 phik-0.10.0 pyLDAvis-2.1.2 pycaret-1.0.0 pyod-0.8.1 rsa-4.5 scikit-learn-0.22 shap-0.32.1 suod-0.0.4 yellowbrick-1.0.1 zope.interface-5.1.0\n"
          ],
          "name": "stdout"
        },
        {
          "output_type": "display_data",
          "data": {
            "application/vnd.colab-display-data+json": {
              "pip_warning": {
                "packages": [
                  "rsa"
                ]
              }
            }
          },
          "metadata": {
            "tags": []
          }
        }
      ]
    },
    {
      "cell_type": "code",
      "metadata": {
        "id": "R_SxJd3d_b5A",
        "colab_type": "code",
        "colab": {
          "base_uri": "https://localhost:8080/",
          "height": 374
        },
        "outputId": "b6871c7e-e2f5-46b2-c19d-554fd93dd973"
      },
      "source": [
        "pip install pyldavis"
      ],
      "execution_count": null,
      "outputs": [
        {
          "output_type": "stream",
          "text": [
            "Requirement already satisfied: pyldavis in /usr/local/lib/python3.6/dist-packages (2.1.2)\n",
            "Requirement already satisfied: joblib>=0.8.4 in /usr/local/lib/python3.6/dist-packages (from pyldavis) (0.16.0)\n",
            "Requirement already satisfied: pandas>=0.17.0 in /usr/local/lib/python3.6/dist-packages (from pyldavis) (1.0.5)\n",
            "Requirement already satisfied: wheel>=0.23.0 in /usr/local/lib/python3.6/dist-packages (from pyldavis) (0.34.2)\n",
            "Requirement already satisfied: numpy>=1.9.2 in /usr/local/lib/python3.6/dist-packages (from pyldavis) (1.18.5)\n",
            "Requirement already satisfied: pytest in /usr/local/lib/python3.6/dist-packages (from pyldavis) (3.6.4)\n",
            "Requirement already satisfied: scipy>=0.18.0 in /usr/local/lib/python3.6/dist-packages (from pyldavis) (1.4.1)\n",
            "Requirement already satisfied: jinja2>=2.7.2 in /usr/local/lib/python3.6/dist-packages (from pyldavis) (2.11.2)\n",
            "Requirement already satisfied: numexpr in /usr/local/lib/python3.6/dist-packages (from pyldavis) (2.7.1)\n",
            "Requirement already satisfied: funcy in /usr/local/lib/python3.6/dist-packages (from pyldavis) (1.14)\n",
            "Requirement already satisfied: future in /usr/local/lib/python3.6/dist-packages (from pyldavis) (0.16.0)\n",
            "Requirement already satisfied: python-dateutil>=2.6.1 in /usr/local/lib/python3.6/dist-packages (from pandas>=0.17.0->pyldavis) (2.8.1)\n",
            "Requirement already satisfied: pytz>=2017.2 in /usr/local/lib/python3.6/dist-packages (from pandas>=0.17.0->pyldavis) (2018.9)\n",
            "Requirement already satisfied: six>=1.10.0 in /usr/local/lib/python3.6/dist-packages (from pytest->pyldavis) (1.15.0)\n",
            "Requirement already satisfied: pluggy<0.8,>=0.5 in /usr/local/lib/python3.6/dist-packages (from pytest->pyldavis) (0.7.1)\n",
            "Requirement already satisfied: setuptools in /usr/local/lib/python3.6/dist-packages (from pytest->pyldavis) (49.1.0)\n",
            "Requirement already satisfied: attrs>=17.4.0 in /usr/local/lib/python3.6/dist-packages (from pytest->pyldavis) (19.3.0)\n",
            "Requirement already satisfied: more-itertools>=4.0.0 in /usr/local/lib/python3.6/dist-packages (from pytest->pyldavis) (8.4.0)\n",
            "Requirement already satisfied: atomicwrites>=1.0 in /usr/local/lib/python3.6/dist-packages (from pytest->pyldavis) (1.4.0)\n",
            "Requirement already satisfied: py>=1.5.0 in /usr/local/lib/python3.6/dist-packages (from pytest->pyldavis) (1.9.0)\n",
            "Requirement already satisfied: MarkupSafe>=0.23 in /usr/local/lib/python3.6/dist-packages (from jinja2>=2.7.2->pyldavis) (1.1.1)\n"
          ],
          "name": "stdout"
        }
      ]
    },
    {
      "cell_type": "code",
      "metadata": {
        "id": "lDHEmUk_lFCN",
        "colab_type": "code",
        "colab": {
          "base_uri": "https://localhost:8080/",
          "height": 71
        },
        "outputId": "1e2f8915-28c3-45f3-f095-327d53b8d2eb"
      },
      "source": [
        "import pandas as pd\n",
        "import numpy as np\n",
        "import matplotlib.pyplot as plt\n",
        "import seaborn\n",
        "import pprint as pp\n",
        "\n",
        "from sklearn.model_selection import train_test_split\n",
        "\n",
        "import spacy\n",
        "\n",
        "from collections import defaultdict\n",
        "\n",
        "from gensim import corpora\n",
        "from gensim import models\n",
        "from gensim import similarities\n",
        "from gensim.utils import simple_preprocess\n",
        "from gensim.utils import lemmatize\n",
        "\n",
        "from pycaret.regression import *\n",
        "\n",
        "import pyLDAvis\n",
        "import pyLDAvis.gensim\n",
        "\n",
        "from wordcloud import WordCloud"
      ],
      "execution_count": null,
      "outputs": [
        {
          "output_type": "stream",
          "text": [
            "/usr/local/lib/python3.6/dist-packages/statsmodels/tools/_testing.py:19: FutureWarning: pandas.util.testing is deprecated. Use the functions in the public API at pandas.testing instead.\n",
            "  import pandas.util.testing as tm\n"
          ],
          "name": "stderr"
        }
      ]
    },
    {
      "cell_type": "code",
      "metadata": {
        "id": "_qsdAWOUCVOb",
        "colab_type": "code",
        "colab": {}
      },
      "source": [
        "import warnings\n",
        "warnings.simplefilter('ignore')"
      ],
      "execution_count": null,
      "outputs": []
    },
    {
      "cell_type": "markdown",
      "metadata": {
        "id": "FWovoAVQvLIK",
        "colab_type": "text"
      },
      "source": [
        "# Kaggle"
      ]
    },
    {
      "cell_type": "code",
      "metadata": {
        "id": "DuhS26l9vLba",
        "colab_type": "code",
        "colab": {
          "base_uri": "https://localhost:8080/",
          "height": 204
        },
        "outputId": "894a2329-7d4b-491d-dacb-02b5b5080948"
      },
      "source": [
        "!pip install kaggle\n",
        "!mkdir -p ~/.kaggle"
      ],
      "execution_count": null,
      "outputs": [
        {
          "output_type": "stream",
          "text": [
            "Requirement already satisfied: kaggle in /usr/local/lib/python3.6/dist-packages (1.5.6)\n",
            "Requirement already satisfied: python-dateutil in /usr/local/lib/python3.6/dist-packages (from kaggle) (2.8.1)\n",
            "Requirement already satisfied: requests in /usr/local/lib/python3.6/dist-packages (from kaggle) (2.23.0)\n",
            "Requirement already satisfied: urllib3<1.25,>=1.21.1 in /usr/local/lib/python3.6/dist-packages (from kaggle) (1.24.3)\n",
            "Requirement already satisfied: python-slugify in /usr/local/lib/python3.6/dist-packages (from kaggle) (4.0.1)\n",
            "Requirement already satisfied: six>=1.10 in /usr/local/lib/python3.6/dist-packages (from kaggle) (1.15.0)\n",
            "Requirement already satisfied: certifi in /usr/local/lib/python3.6/dist-packages (from kaggle) (2020.6.20)\n",
            "Requirement already satisfied: tqdm in /usr/local/lib/python3.6/dist-packages (from kaggle) (4.41.1)\n",
            "Requirement already satisfied: chardet<4,>=3.0.2 in /usr/local/lib/python3.6/dist-packages (from requests->kaggle) (3.0.4)\n",
            "Requirement already satisfied: idna<3,>=2.5 in /usr/local/lib/python3.6/dist-packages (from requests->kaggle) (2.10)\n",
            "Requirement already satisfied: text-unidecode>=1.3 in /usr/local/lib/python3.6/dist-packages (from python-slugify->kaggle) (1.3)\n"
          ],
          "name": "stdout"
        }
      ]
    },
    {
      "cell_type": "code",
      "metadata": {
        "id": "zBgCJawsvQnC",
        "colab_type": "code",
        "colab": {}
      },
      "source": [
        "from google.colab import files\n",
        "files.upload()"
      ],
      "execution_count": null,
      "outputs": []
    },
    {
      "cell_type": "code",
      "metadata": {
        "id": "du54xlsZvQlB",
        "colab_type": "code",
        "colab": {}
      },
      "source": [
        "!mv kaggle.json ~/.kaggle\n",
        "!chmod 600 ~/.kaggle/kaggle.json"
      ],
      "execution_count": null,
      "outputs": []
    },
    {
      "cell_type": "markdown",
      "metadata": {
        "id": "9Qa7AyUKkLXf",
        "colab_type": "text"
      },
      "source": [
        "# Data"
      ]
    },
    {
      "cell_type": "markdown",
      "metadata": {
        "id": "5KOuk-dRMqA8",
        "colab_type": "text"
      },
      "source": [
        "## Seattle"
      ]
    },
    {
      "cell_type": "code",
      "metadata": {
        "id": "iS5HtE0DMwHZ",
        "colab_type": "code",
        "colab": {
          "base_uri": "https://localhost:8080/",
          "height": 68
        },
        "outputId": "19339417-3ad4-42e1-ae5b-956406816135"
      },
      "source": [
        "!kaggle datasets download -d shanelev/seattle-airbnb-listings"
      ],
      "execution_count": null,
      "outputs": [
        {
          "output_type": "stream",
          "text": [
            "Downloading seattle-airbnb-listings.zip to /content\n",
            "\r  0% 0.00/533k [00:00<?, ?B/s]\n",
            "\r100% 533k/533k [00:00<00:00, 71.3MB/s]\n"
          ],
          "name": "stdout"
        }
      ]
    },
    {
      "cell_type": "code",
      "metadata": {
        "id": "JvTy5vT6oEq1",
        "colab_type": "code",
        "colab": {}
      },
      "source": [
        "!unzip -q seattle-airbnb-listings.zip"
      ],
      "execution_count": null,
      "outputs": []
    },
    {
      "cell_type": "code",
      "metadata": {
        "id": "q1U41emWoJed",
        "colab_type": "code",
        "colab": {
          "base_uri": "https://localhost:8080/",
          "height": 34
        },
        "outputId": "b4516fa7-8f02-4f09-be49-c36917ec8111"
      },
      "source": [
        "!ls"
      ],
      "execution_count": null,
      "outputs": [
        {
          "output_type": "stream",
          "text": [
            "sample_data  seattle_01.csv  seattle-airbnb-listings.zip\n"
          ],
          "name": "stdout"
        }
      ]
    },
    {
      "cell_type": "code",
      "metadata": {
        "id": "DXccWkG7oMHO",
        "colab_type": "code",
        "colab": {}
      },
      "source": [
        "seattle_df = pd.read_csv('seattle_01.csv')"
      ],
      "execution_count": null,
      "outputs": []
    },
    {
      "cell_type": "code",
      "metadata": {
        "id": "VzrO0d7EoPWu",
        "colab_type": "code",
        "colab": {
          "base_uri": "https://localhost:8080/",
          "height": 581
        },
        "outputId": "58f25ff0-ec31-421d-e411-adca2a2295b5"
      },
      "source": [
        "seattle_df.head()"
      ],
      "execution_count": null,
      "outputs": [
        {
          "output_type": "execute_result",
          "data": {
            "text/html": [
              "<div>\n",
              "<style scoped>\n",
              "    .dataframe tbody tr th:only-of-type {\n",
              "        vertical-align: middle;\n",
              "    }\n",
              "\n",
              "    .dataframe tbody tr th {\n",
              "        vertical-align: top;\n",
              "    }\n",
              "\n",
              "    .dataframe thead th {\n",
              "        text-align: right;\n",
              "    }\n",
              "</style>\n",
              "<table border=\"1\" class=\"dataframe\">\n",
              "  <thead>\n",
              "    <tr style=\"text-align: right;\">\n",
              "      <th></th>\n",
              "      <th>Unnamed: 0</th>\n",
              "      <th>room_id</th>\n",
              "      <th>host_id</th>\n",
              "      <th>room_type</th>\n",
              "      <th>address</th>\n",
              "      <th>reviews</th>\n",
              "      <th>overall_satisfaction</th>\n",
              "      <th>accommodates</th>\n",
              "      <th>bedrooms</th>\n",
              "      <th>bathrooms</th>\n",
              "      <th>price</th>\n",
              "      <th>last_modified</th>\n",
              "      <th>latitude</th>\n",
              "      <th>longitude</th>\n",
              "      <th>location</th>\n",
              "      <th>name</th>\n",
              "      <th>currency</th>\n",
              "      <th>rate_type</th>\n",
              "    </tr>\n",
              "  </thead>\n",
              "  <tbody>\n",
              "    <tr>\n",
              "      <th>0</th>\n",
              "      <td>0</td>\n",
              "      <td>2318</td>\n",
              "      <td>2536</td>\n",
              "      <td>Entire home/apt</td>\n",
              "      <td>Seattle, WA, United States</td>\n",
              "      <td>21</td>\n",
              "      <td>5.0</td>\n",
              "      <td>8</td>\n",
              "      <td>4.0</td>\n",
              "      <td>2.5</td>\n",
              "      <td>250</td>\n",
              "      <td>2018-12-20 03:46:14.698548</td>\n",
              "      <td>47.610819</td>\n",
              "      <td>-122.290816</td>\n",
              "      <td>0101000020E6100000D449B6BA9C925EC0416326512FCE...</td>\n",
              "      <td>Casa Madrona - Urban Oasis, 1 block from the P...</td>\n",
              "      <td>USD</td>\n",
              "      <td>nightly</td>\n",
              "    </tr>\n",
              "    <tr>\n",
              "      <th>1</th>\n",
              "      <td>1</td>\n",
              "      <td>3335</td>\n",
              "      <td>4193</td>\n",
              "      <td>Entire home/apt</td>\n",
              "      <td>Seattle, WA, United States</td>\n",
              "      <td>1</td>\n",
              "      <td>NaN</td>\n",
              "      <td>4</td>\n",
              "      <td>2.0</td>\n",
              "      <td>1.0</td>\n",
              "      <td>100</td>\n",
              "      <td>2018-12-20 04:08:45.277643</td>\n",
              "      <td>47.529846</td>\n",
              "      <td>-122.275840</td>\n",
              "      <td>0101000020E61000006FBBD05CA7915EC04DF564FED1C3...</td>\n",
              "      <td>Sweet Seattle Urban Homestead 2 Bdr</td>\n",
              "      <td>USD</td>\n",
              "      <td>nightly</td>\n",
              "    </tr>\n",
              "    <tr>\n",
              "      <th>2</th>\n",
              "      <td>2</td>\n",
              "      <td>4291</td>\n",
              "      <td>35749</td>\n",
              "      <td>Private room</td>\n",
              "      <td>Seattle, WA, United States</td>\n",
              "      <td>63</td>\n",
              "      <td>4.5</td>\n",
              "      <td>2</td>\n",
              "      <td>1.0</td>\n",
              "      <td>1.0</td>\n",
              "      <td>82</td>\n",
              "      <td>2018-12-20 03:04:19.861014</td>\n",
              "      <td>47.687801</td>\n",
              "      <td>-122.313427</td>\n",
              "      <td>0101000020E6100000BDAB1E300F945EC0FB93F8DC09D8...</td>\n",
              "      <td>Sunrise in Seattle Master Suite</td>\n",
              "      <td>USD</td>\n",
              "      <td>nightly</td>\n",
              "    </tr>\n",
              "    <tr>\n",
              "      <th>3</th>\n",
              "      <td>3</td>\n",
              "      <td>5682</td>\n",
              "      <td>8993</td>\n",
              "      <td>Entire home/apt</td>\n",
              "      <td>Seattle, WA, United States</td>\n",
              "      <td>462</td>\n",
              "      <td>5.0</td>\n",
              "      <td>2</td>\n",
              "      <td>0.0</td>\n",
              "      <td>1.0</td>\n",
              "      <td>49</td>\n",
              "      <td>2018-12-20 04:11:25.482975</td>\n",
              "      <td>47.523980</td>\n",
              "      <td>-122.359891</td>\n",
              "      <td>0101000020E6100000FCC7427408975EC009E1D1C611C3...</td>\n",
              "      <td>Cozy Studio, min. to downtown -WiFi</td>\n",
              "      <td>USD</td>\n",
              "      <td>nightly</td>\n",
              "    </tr>\n",
              "    <tr>\n",
              "      <th>4</th>\n",
              "      <td>4</td>\n",
              "      <td>6606</td>\n",
              "      <td>14942</td>\n",
              "      <td>Entire home/apt</td>\n",
              "      <td>Seattle, WA, United States</td>\n",
              "      <td>134</td>\n",
              "      <td>4.5</td>\n",
              "      <td>2</td>\n",
              "      <td>1.0</td>\n",
              "      <td>1.0</td>\n",
              "      <td>90</td>\n",
              "      <td>2018-12-20 03:12:38.391711</td>\n",
              "      <td>47.654109</td>\n",
              "      <td>-122.337605</td>\n",
              "      <td>0101000020E6100000D47D00529B955EC07782FDD7B9D3...</td>\n",
              "      <td>Fab, private seattle urban cottage!</td>\n",
              "      <td>USD</td>\n",
              "      <td>nightly</td>\n",
              "    </tr>\n",
              "  </tbody>\n",
              "</table>\n",
              "</div>"
            ],
            "text/plain": [
              "   Unnamed: 0  room_id  ...  currency rate_type\n",
              "0           0     2318  ...       USD   nightly\n",
              "1           1     3335  ...       USD   nightly\n",
              "2           2     4291  ...       USD   nightly\n",
              "3           3     5682  ...       USD   nightly\n",
              "4           4     6606  ...       USD   nightly\n",
              "\n",
              "[5 rows x 18 columns]"
            ]
          },
          "metadata": {
            "tags": []
          },
          "execution_count": 12
        }
      ]
    },
    {
      "cell_type": "code",
      "metadata": {
        "id": "GSNny7ft2XSe",
        "colab_type": "code",
        "colab": {
          "base_uri": "https://localhost:8080/",
          "height": 34
        },
        "outputId": "91baac40-204e-4abe-c2e7-2d49f927e644"
      },
      "source": [
        "len(seattle_df)"
      ],
      "execution_count": null,
      "outputs": [
        {
          "output_type": "execute_result",
          "data": {
            "text/plain": [
              "7576"
            ]
          },
          "metadata": {
            "tags": []
          },
          "execution_count": 13
        }
      ]
    },
    {
      "cell_type": "markdown",
      "metadata": {
        "id": "AkVqUmaOfJwB",
        "colab_type": "text"
      },
      "source": [
        "# Latent Semantic Analysis - LSA\n",
        "* Sometimes called Latent Semantic Indexing - LSI\n",
        "* Organize documents into topics\n",
        "* The topics are hidden (latent)\n",
        "* We can specify how many topics"
      ]
    },
    {
      "cell_type": "markdown",
      "metadata": {
        "id": "-iTRLFJYTFsP",
        "colab_type": "text"
      },
      "source": [
        "## Technical Notes\n",
        "* Construct a Document-Term matrix\n",
        "  * Rows = Documents\n",
        "  * Columns = Terms\n",
        "  * Cells = Frequency of words\n",
        "* Convert Document-Term matrix into TF-IDF Matrix\n",
        "  * TF = Term Frequency\n",
        "  * IDF = Inverse Document Frequency\n",
        "  * Intuition:\n",
        "    * TF - Word occurs frequently it's likely important\n",
        "    * Stopwords are a problem (The, an, and) - occur frequenty in documents\n",
        "    * IDF - If a word is rare considering all the documents it's likely more important\n",
        "    * How rare is too rare?  Minimum threshold of appearances\n",
        "\n",
        "![alt text](https://cdn.searchenginejournal.com/wp-content/uploads/2019/10/screenshot-1.png)\n",
        "\n",
        "* Use matrix factorization to reduce dimensionality\n",
        "  * Squeeze to K-dimensions\n",
        "  * K is the number of topics\n",
        "* LSA == PCA \n",
        "  * PCA - Principal Components\n",
        "    * Find matrix U * V that approximates TF-IDF matrix\n",
        "    * Minimize difference between TF-IDF and U * V\n",
        "  * SVD - Singular value decomposition \n",
        "    * Increase explainability by constraining number of topics\n",
        "  * NNMF - Non-Negative Matrix Factorization \n",
        "    * SVD + constraint where U & V > 0\n",
        "* Truncated SVD yields three matrixes \n",
        "  * We can multiply them back together to approximate the original TF-IDF matrix\n",
        "  * SVD decomposes a matrix into three other matrices. \n",
        "  * U* S * VT\n",
        "  * U [Documents X Topics]\n",
        "  * S [Topics X Topics] = Amount of Variance Explained\n",
        "  * VT [Topics X Terms]\n",
        "![alt text](https://cdn.analyticsvidhya.com/wp-content/uploads/2018/09/Screenshot_7.png)\n"
      ]
    },
    {
      "cell_type": "markdown",
      "metadata": {
        "id": "jZ_xcKKrToYM",
        "colab_type": "text"
      },
      "source": [
        "# Gensim Example \n",
        "![alt text](https://repository-images.githubusercontent.com/1349775/202c4680-8f7c-11e9-91c6-745fdcbeffe8)"
      ]
    },
    {
      "cell_type": "code",
      "metadata": {
        "id": "mJVLsC8n1u2J",
        "colab_type": "code",
        "colab": {}
      },
      "source": [
        "documents = [\n",
        "    \"Human machine interface for lab abc computer applications May 10, 2000\",\n",
        "    \"A survey of user opinion of computer system response time\",\n",
        "    \"The EPS user interface management system\",\n",
        "    \"System and human system engineering testing of EPS\",\n",
        "    \"Relation of user perceived response time to error measurement\",\n",
        "    \"The generation of random binary unordered trees\",\n",
        "    \"The intersection graph of paths in trees\",\n",
        "    \"Graph minors IV Widths of trees and well quasi ordering\",\n",
        "    \"Graph minors A survey\",\n",
        "]"
      ],
      "execution_count": null,
      "outputs": []
    },
    {
      "cell_type": "markdown",
      "metadata": {
        "id": "KQkcM4Gz7it8",
        "colab_type": "text"
      },
      "source": [
        "## Documents"
      ]
    },
    {
      "cell_type": "code",
      "metadata": {
        "id": "jFo2ZzhH7gyh",
        "colab_type": "code",
        "colab": {
          "base_uri": "https://localhost:8080/",
          "height": 170
        },
        "outputId": "4c105881-7458-47ff-fa0b-bb8a35bbf976"
      },
      "source": [
        "pp.pprint(documents)"
      ],
      "execution_count": null,
      "outputs": [
        {
          "output_type": "stream",
          "text": [
            "['Human machine interface for lab abc computer applications May 10, 2000',\n",
            " 'A survey of user opinion of computer system response time',\n",
            " 'The EPS user interface management system',\n",
            " 'System and human system engineering testing of EPS',\n",
            " 'Relation of user perceived response time to error measurement',\n",
            " 'The generation of random binary unordered trees',\n",
            " 'The intersection graph of paths in trees',\n",
            " 'Graph minors IV Widths of trees and well quasi ordering',\n",
            " 'Graph minors A survey']\n"
          ],
          "name": "stdout"
        }
      ]
    },
    {
      "cell_type": "markdown",
      "metadata": {
        "id": "-0E25KOl7nEB",
        "colab_type": "text"
      },
      "source": [
        "## Tokenize\n",
        "* Remove stop words\n",
        "* Make lower case"
      ]
    },
    {
      "cell_type": "code",
      "metadata": {
        "id": "rlJ4LUhr7p_5",
        "colab_type": "code",
        "colab": {
          "base_uri": "https://localhost:8080/",
          "height": 323
        },
        "outputId": "805f0992-4037-47db-a156-3e0ce753ffa0"
      },
      "source": [
        "stoplist = set('for a of the and to in'.split()) # Where else can we get these\n",
        "texts = [\n",
        "    [word for word in document.lower().split() if word not in stoplist]\n",
        "    for document in documents\n",
        "]\n",
        "pp.pprint(texts)"
      ],
      "execution_count": null,
      "outputs": [
        {
          "output_type": "stream",
          "text": [
            "[['human',\n",
            "  'machine',\n",
            "  'interface',\n",
            "  'lab',\n",
            "  'abc',\n",
            "  'computer',\n",
            "  'applications',\n",
            "  'may',\n",
            "  '10,',\n",
            "  '2000'],\n",
            " ['survey', 'user', 'opinion', 'computer', 'system', 'response', 'time'],\n",
            " ['eps', 'user', 'interface', 'management', 'system'],\n",
            " ['system', 'human', 'system', 'engineering', 'testing', 'eps'],\n",
            " ['relation', 'user', 'perceived', 'response', 'time', 'error', 'measurement'],\n",
            " ['generation', 'random', 'binary', 'unordered', 'trees'],\n",
            " ['intersection', 'graph', 'paths', 'trees'],\n",
            " ['graph', 'minors', 'iv', 'widths', 'trees', 'well', 'quasi', 'ordering'],\n",
            " ['graph', 'minors', 'survey']]\n"
          ],
          "name": "stdout"
        }
      ]
    },
    {
      "cell_type": "code",
      "metadata": {
        "id": "bhDQdq8PJq5M",
        "colab_type": "code",
        "colab": {
          "base_uri": "https://localhost:8080/",
          "height": 295
        },
        "outputId": "5ccdaa7b-b97e-469b-f0ce-7aee669c8b00"
      },
      "source": [
        "plt.hist([len(t) for t in texts])\n",
        "plt.title('Document Length')\n",
        "plt.xlabel('Word Count')\n",
        "plt.ylabel('Frequency')\n",
        "plt.show()"
      ],
      "execution_count": null,
      "outputs": [
        {
          "output_type": "display_data",
          "data": {
            "image/png": "[encoded data removed]",
            "text/plain": [
              "<Figure size 432x288 with 1 Axes>"
            ]
          },
          "metadata": {
            "tags": [],
            "needs_background": "light"
          }
        }
      ]
    },
    {
      "cell_type": "markdown",
      "metadata": {
        "id": "aG5lXhhQ71d9",
        "colab_type": "text"
      },
      "source": [
        "## Low Frequency Words\n",
        "* Drop words from the tokenized text appearing once"
      ]
    },
    {
      "cell_type": "code",
      "metadata": {
        "id": "rZlSnHeM75-z",
        "colab_type": "code",
        "colab": {
          "base_uri": "https://localhost:8080/",
          "height": 170
        },
        "outputId": "a73b8ce7-9fbf-48d6-efd3-ccfc7bbdd50c"
      },
      "source": [
        "frequency = defaultdict(int)\n",
        "for text in texts:\n",
        "    for token in text:\n",
        "        frequency[token] += 1\n",
        "\n",
        "texts = [\n",
        "    [token for token in text if frequency[token] > 1]\n",
        "    for text in texts\n",
        "]\n",
        "pp.pprint(texts)"
      ],
      "execution_count": null,
      "outputs": [
        {
          "output_type": "stream",
          "text": [
            "[['human', 'interface', 'computer'],\n",
            " ['survey', 'user', 'computer', 'system', 'response', 'time'],\n",
            " ['eps', 'user', 'interface', 'system'],\n",
            " ['system', 'human', 'system', 'eps'],\n",
            " ['user', 'response', 'time'],\n",
            " ['trees'],\n",
            " ['graph', 'trees'],\n",
            " ['graph', 'minors', 'trees'],\n",
            " ['graph', 'minors', 'survey']]\n"
          ],
          "name": "stdout"
        }
      ]
    },
    {
      "cell_type": "code",
      "metadata": {
        "id": "ZR2waFfJKs_9",
        "colab_type": "code",
        "colab": {
          "base_uri": "https://localhost:8080/",
          "height": 295
        },
        "outputId": "1d3793a8-37ba-47fe-ff9e-9537c5e6b029"
      },
      "source": [
        "plt.hist([len(t) for t in texts])\n",
        "plt.title('Document Length')\n",
        "plt.xlabel('Word Count')\n",
        "plt.ylabel('Frequency')\n",
        "plt.show()"
      ],
      "execution_count": null,
      "outputs": [
        {
          "output_type": "display_data",
          "data": {
            "image/png": "[encoded data removed]",
            "text/plain": [
              "<Figure size 432x288 with 1 Axes>"
            ]
          },
          "metadata": {
            "tags": [],
            "needs_background": "light"
          }
        }
      ]
    },
    {
      "cell_type": "markdown",
      "metadata": {
        "id": "U6bd5hIG8FX7",
        "colab_type": "text"
      },
      "source": [
        "## Dictionary"
      ]
    },
    {
      "cell_type": "code",
      "metadata": {
        "id": "3GdIw-2N8LSu",
        "colab_type": "code",
        "colab": {
          "base_uri": "https://localhost:8080/",
          "height": 238
        },
        "outputId": "c9667fcd-8efc-43ac-da7c-51ec8781ea49"
      },
      "source": [
        "dictionary = corpora.Dictionary(texts)\n",
        "print(dictionary)\n",
        "for key in dictionary:\n",
        "  print(key, dictionary[key])"
      ],
      "execution_count": null,
      "outputs": [
        {
          "output_type": "stream",
          "text": [
            "Dictionary(12 unique tokens: ['computer', 'human', 'interface', 'response', 'survey']...)\n",
            "0 computer\n",
            "1 human\n",
            "2 interface\n",
            "3 response\n",
            "4 survey\n",
            "5 system\n",
            "6 time\n",
            "7 user\n",
            "8 eps\n",
            "9 trees\n",
            "10 graph\n",
            "11 minors\n"
          ],
          "name": "stdout"
        }
      ]
    },
    {
      "cell_type": "markdown",
      "metadata": {
        "id": "xG5l7aM48asu",
        "colab_type": "text"
      },
      "source": [
        "## Bag of Words\n",
        "* Represented as list of tuples per document (word index, frequency)"
      ]
    },
    {
      "cell_type": "code",
      "metadata": {
        "id": "H2e-UOVu8eLo",
        "colab_type": "code",
        "colab": {
          "base_uri": "https://localhost:8080/",
          "height": 170
        },
        "outputId": "33007177-66c8-41d1-cee1-43df926171f7"
      },
      "source": [
        "corpus = [dictionary.doc2bow(text) for text in texts]\n",
        "pp.pprint(corpus)"
      ],
      "execution_count": null,
      "outputs": [
        {
          "output_type": "stream",
          "text": [
            "[[(0, 1), (1, 1), (2, 1)],\n",
            " [(0, 1), (3, 1), (4, 1), (5, 1), (6, 1), (7, 1)],\n",
            " [(2, 1), (5, 1), (7, 1), (8, 1)],\n",
            " [(1, 1), (5, 2), (8, 1)],\n",
            " [(3, 1), (6, 1), (7, 1)],\n",
            " [(9, 1)],\n",
            " [(9, 1), (10, 1)],\n",
            " [(9, 1), (10, 1), (11, 1)],\n",
            " [(4, 1), (10, 1), (11, 1)]]\n"
          ],
          "name": "stdout"
        }
      ]
    },
    {
      "cell_type": "markdown",
      "metadata": {
        "id": "PEJr6Gr98r3-",
        "colab_type": "text"
      },
      "source": [
        "## TF-IDF\n",
        "* Term Frequency - Inverse Document Frequency\n",
        "* Represented by a model in Gensim"
      ]
    },
    {
      "cell_type": "code",
      "metadata": {
        "id": "tYyu3lHj8vH1",
        "colab_type": "code",
        "colab": {
          "base_uri": "https://localhost:8080/",
          "height": 190
        },
        "outputId": "380a8af3-c6b1-4dde-e16b-96cecd1cd38c"
      },
      "source": [
        "tfidf = models.TfidfModel(corpus) \n",
        "corpus_tfidf = tfidf[corpus]\n",
        "for doc in corpus_tfidf:\n",
        "    print(doc)"
      ],
      "execution_count": null,
      "outputs": [
        {
          "output_type": "stream",
          "text": [
            "[(0, 0.5773502691896257), (1, 0.5773502691896257), (2, 0.5773502691896257)]\n",
            "[(0, 0.44424552527467476), (3, 0.44424552527467476), (4, 0.44424552527467476), (5, 0.3244870206138555), (6, 0.44424552527467476), (7, 0.3244870206138555)]\n",
            "[(2, 0.5710059809418182), (5, 0.4170757362022777), (7, 0.4170757362022777), (8, 0.5710059809418182)]\n",
            "[(1, 0.49182558987264147), (5, 0.7184811607083769), (8, 0.49182558987264147)]\n",
            "[(3, 0.6282580468670046), (6, 0.6282580468670046), (7, 0.45889394536615247)]\n",
            "[(9, 1.0)]\n",
            "[(9, 0.7071067811865475), (10, 0.7071067811865475)]\n",
            "[(9, 0.5080429008916749), (10, 0.5080429008916749), (11, 0.695546419520037)]\n",
            "[(4, 0.6282580468670046), (10, 0.45889394536615247), (11, 0.6282580468670046)]\n"
          ],
          "name": "stdout"
        }
      ]
    },
    {
      "cell_type": "markdown",
      "metadata": {
        "id": "CXu9tVAJ8y16",
        "colab_type": "text"
      },
      "source": [
        "## LSA Model\n",
        "* Why Gensim vs TruncatedSVD?\n",
        "  * Memory efficient (Constant Size)\n",
        "  * Streamed corpora\n",
        "  * One pass corpora (Streaming)\n",
        "  * Distributed computing "
      ]
    },
    {
      "cell_type": "code",
      "metadata": {
        "id": "GQuxmbqZ80--",
        "colab_type": "code",
        "colab": {
          "base_uri": "https://localhost:8080/",
          "height": 51
        },
        "outputId": "8f76d2c1-4393-49a1-9c2c-305409e57520"
      },
      "source": [
        "lsi_model = models.LsiModel(corpus_tfidf, id2word=dictionary, num_topics=2) \n",
        "corpus_lsi = lsi_model[corpus_tfidf]  \n",
        "lsi_model.print_topics(2, num_words=3)"
      ],
      "execution_count": null,
      "outputs": [
        {
          "output_type": "execute_result",
          "data": {
            "text/plain": [
              "[(0, '0.703*\"trees\" + 0.538*\"graph\" + 0.402*\"minors\"'),\n",
              " (1, '-0.460*\"system\" + -0.373*\"user\" + -0.332*\"eps\"')]"
            ]
          },
          "metadata": {
            "tags": []
          },
          "execution_count": 23
        }
      ]
    },
    {
      "cell_type": "code",
      "metadata": {
        "id": "0zXVivY687vZ",
        "colab_type": "code",
        "colab": {
          "base_uri": "https://localhost:8080/",
          "height": 170
        },
        "outputId": "3dd371ef-be82-41a4-8427-ae16118acd74"
      },
      "source": [
        "for doc, as_text in zip(corpus_lsi, documents):\n",
        "    print(doc, as_text)"
      ],
      "execution_count": null,
      "outputs": [
        {
          "output_type": "stream",
          "text": [
            "[(0, 0.06600783396090788), (1, -0.5200703306361839)] Human machine interface for lab abc computer applications May 10, 2000\n",
            "[(0, 0.196675928591431), (1, -0.7609563167700029)] A survey of user opinion of computer system response time\n",
            "[(0, 0.08992639972446993), (1, -0.7241860626752499)] The EPS user interface management system\n",
            "[(0, 0.0758584765217866), (1, -0.6320551586003418)] System and human system engineering testing of EPS\n",
            "[(0, 0.10150299184980577), (1, -0.5737308483002945)] Relation of user perceived response time to error measurement\n",
            "[(0, 0.7032108939378298), (1, 0.16115180214026334)] The generation of random binary unordered trees\n",
            "[(0, 0.8774787673119816), (1, 0.16758906864660092)] The intersection graph of paths in trees\n",
            "[(0, 0.9098624686818564), (1, 0.14086553628719722)] Graph minors IV Widths of trees and well quasi ordering\n",
            "[(0, 0.6165825350569281), (1, -0.05392907566388881)] Graph minors A survey\n"
          ],
          "name": "stdout"
        }
      ]
    },
    {
      "cell_type": "code",
      "metadata": {
        "id": "NdNPvQ6rSpmd",
        "colab_type": "code",
        "colab": {
          "base_uri": "https://localhost:8080/",
          "height": 513
        },
        "outputId": "a65e64c5-ac37-4dcc-a54a-0ccea8a22c2d"
      },
      "source": [
        "items = []\n",
        "for doc, as_text in zip(corpus_lsi, documents):\n",
        "    items.append({'Topic 1':doc[0][1], 'Topic 2': doc[1][1], 'Document': as_text[0:20] + '...'})\n",
        "data = pd.DataFrame(items)\n",
        "\n",
        "fig, ax = plt.subplots(figsize=(10,8))\n",
        "ax.scatter(data['Topic 1'], data['Topic 2'])\n",
        "\n",
        "for index, row in data.iterrows():\n",
        "    ax.annotate(row['Document'], (row['Topic 1'], row['Topic 2']))\n",
        "\n",
        "plt.title('LSA Visualization');\n",
        "plt.xlabel('Topic 1')\n",
        "plt.ylabel('Topic 2');"
      ],
      "execution_count": null,
      "outputs": [
        {
          "output_type": "display_data",
          "data": {
            "image/png": "[encoded data removed]",
            "text/plain": [
              "<Figure size 720x576 with 1 Axes>"
            ]
          },
          "metadata": {
            "tags": [],
            "needs_background": "light"
          }
        }
      ]
    },
    {
      "cell_type": "code",
      "metadata": {
        "id": "I5fR-bJeUJH6",
        "colab_type": "code",
        "colab": {
          "base_uri": "https://localhost:8080/",
          "height": 85
        },
        "outputId": "9617aef9-41fb-43f3-abe6-d2ce9d12a3e6"
      },
      "source": [
        "data.dtypes"
      ],
      "execution_count": null,
      "outputs": [
        {
          "output_type": "execute_result",
          "data": {
            "text/plain": [
              "Topic 1     float64\n",
              "Topic 2     float64\n",
              "Document     object\n",
              "dtype: object"
            ]
          },
          "metadata": {
            "tags": []
          },
          "execution_count": 26
        }
      ]
    },
    {
      "cell_type": "markdown",
      "metadata": {
        "id": "hrx1hysx8_-q",
        "colab_type": "text"
      },
      "source": [
        "## Similarity\n",
        "* Distance \n",
        "* Cosine Similarity"
      ]
    },
    {
      "cell_type": "code",
      "metadata": {
        "id": "FYvijl5cqCNc",
        "colab_type": "code",
        "colab": {
          "base_uri": "https://localhost:8080/",
          "height": 51
        },
        "outputId": "987318a0-d634-4ba1-db7c-f19a850df2d6"
      },
      "source": [
        "doc = \"Human computer interaction\"\n",
        "vec_bow = dictionary.doc2bow(doc.lower().split())\n",
        "vec_lsi = lsi_model[vec_bow]  # convert the query to LSI space\n",
        "\n",
        "print(doc)\n",
        "print(vec_lsi)"
      ],
      "execution_count": null,
      "outputs": [
        {
          "output_type": "stream",
          "text": [
            "Human computer interaction\n",
            "[(0, 0.07910475117445347), (1, -0.573283524307939)]\n"
          ],
          "name": "stdout"
        }
      ]
    },
    {
      "cell_type": "code",
      "metadata": {
        "id": "bYeWOY4H9Kwn",
        "colab_type": "code",
        "colab": {
          "base_uri": "https://localhost:8080/",
          "height": 170
        },
        "outputId": "d095a701-5502-41cd-cf05-242bcb22ddd8"
      },
      "source": [
        "index = similarities.MatrixSimilarity(lsi_model[corpus])\n",
        "sims = index[vec_lsi]  # perform a similarity query against the corpus\n",
        "pp.pprint(list(enumerate(sims)))  # print (document_number, document_similarity) 2-tuples"
      ],
      "execution_count": null,
      "outputs": [
        {
          "output_type": "stream",
          "text": [
            "[(0, 0.9999408),\n",
            " (1, 0.9946708),\n",
            " (2, 0.9999428),\n",
            " (3, 0.999879),\n",
            " (4, 0.99935204),\n",
            " (5, -0.08804217),\n",
            " (6, -0.0515742),\n",
            " (7, -0.023664713),\n",
            " (8, 0.1938726)]\n"
          ],
          "name": "stdout"
        }
      ]
    },
    {
      "cell_type": "markdown",
      "metadata": {
        "id": "_6yi1Q316m2O",
        "colab_type": "text"
      },
      "source": [
        "# SpaCy Pipeline\n",
        "![alt text](https://cdn-images-1.medium.com/freeze/max/1000/1*wqfF41Ysh-kV-fXMDGxSGg.jpeg?q=20)"
      ]
    },
    {
      "cell_type": "markdown",
      "metadata": {
        "id": "bPZXh9YGFFNZ",
        "colab_type": "text"
      },
      "source": [
        "## Documents"
      ]
    },
    {
      "cell_type": "code",
      "metadata": {
        "id": "VmxlJ0CWFKO3",
        "colab_type": "code",
        "colab": {}
      },
      "source": [
        "documents = [\n",
        "    \"Human machine interface for lab abc computer applications on May 10, 2000\",\n",
        "    \"A survey of user opinion of computer system response time\",\n",
        "    \"The EPS user interface management system\",\n",
        "    \"System and human system engineering testing of EPS\",\n",
        "    \"Relation of user perceived response time to error measurement\",\n",
        "    \"The generation of random binary unordered trees\",\n",
        "    \"The intersection graph of paths in trees\",\n",
        "    \"Graph minors IV Widths of trees and well quasi ordering\",\n",
        "    \"Graph minors A survey\",\n",
        "]"
      ],
      "execution_count": null,
      "outputs": []
    },
    {
      "cell_type": "code",
      "metadata": {
        "id": "qFQFqVoFFLeJ",
        "colab_type": "code",
        "colab": {
          "base_uri": "https://localhost:8080/",
          "height": 86
        },
        "outputId": "e22cd923-63f9-4a0e-db5e-a8f1cd4d238f"
      },
      "source": [
        "paragraph = '. '.join(documents)\n",
        "paragraph"
      ],
      "execution_count": null,
      "outputs": [
        {
          "output_type": "execute_result",
          "data": {
            "application/vnd.google.colaboratory.intrinsic+json": {
              "type": "string"
            },
            "text/plain": [
              "'Human machine interface for lab abc computer applications on May 10, 2000. A survey of user opinion of computer system response time. The EPS user interface management system. System and human system engineering testing of EPS. Relation of user perceived response time to error measurement. The generation of random binary unordered trees. The intersection graph of paths in trees. Graph minors IV Widths of trees and well quasi ordering. Graph minors A survey'"
            ]
          },
          "metadata": {
            "tags": []
          },
          "execution_count": 30
        }
      ]
    },
    {
      "cell_type": "markdown",
      "metadata": {
        "id": "rBJqFcu0Cgny",
        "colab_type": "text"
      },
      "source": [
        "## Loading Spacy"
      ]
    },
    {
      "cell_type": "code",
      "metadata": {
        "id": "vd9Q7ouB_dGn",
        "colab_type": "code",
        "colab": {}
      },
      "source": [
        "import spacy\n",
        "nlp = spacy.load('en')"
      ],
      "execution_count": null,
      "outputs": []
    },
    {
      "cell_type": "markdown",
      "metadata": {
        "id": "vuBOO6imCnHe",
        "colab_type": "text"
      },
      "source": [
        "## Pipeline"
      ]
    },
    {
      "cell_type": "code",
      "metadata": {
        "id": "Ul_132nhCktH",
        "colab_type": "code",
        "colab": {
          "base_uri": "https://localhost:8080/",
          "height": 34
        },
        "outputId": "ca3da0f3-cb65-4f28-c771-9a44ee7d2d62"
      },
      "source": [
        "print(nlp.pipe_names)"
      ],
      "execution_count": null,
      "outputs": [
        {
          "output_type": "stream",
          "text": [
            "['tagger', 'parser', 'ner']\n"
          ],
          "name": "stdout"
        }
      ]
    },
    {
      "cell_type": "markdown",
      "metadata": {
        "id": "-J6Lck0GFv8X",
        "colab_type": "text"
      },
      "source": [
        "## Processing\n",
        "* Can tokenize document per item\n",
        "* Can infer sentence boundaries by adding sentencizer to pipeline"
      ]
    },
    {
      "cell_type": "code",
      "metadata": {
        "id": "9wCUMtABFvBl",
        "colab_type": "code",
        "colab": {
          "base_uri": "https://localhost:8080/",
          "height": 170
        },
        "outputId": "f9df3ae8-970a-482e-cbd5-888d19a29a28"
      },
      "source": [
        "nlp = spacy.load('en')\n",
        "texts_spacy = [nlp(document) for document in documents]\n",
        "texts_spacy"
      ],
      "execution_count": null,
      "outputs": [
        {
          "output_type": "execute_result",
          "data": {
            "text/plain": [
              "[Human machine interface for lab abc computer applications on May 10, 2000,\n",
              " A survey of user opinion of computer system response time,\n",
              " The EPS user interface management system,\n",
              " System and human system engineering testing of EPS,\n",
              " Relation of user perceived response time to error measurement,\n",
              " The generation of random binary unordered trees,\n",
              " The intersection graph of paths in trees,\n",
              " Graph minors IV Widths of trees and well quasi ordering,\n",
              " Graph minors A survey]"
            ]
          },
          "metadata": {
            "tags": []
          },
          "execution_count": 33
        }
      ]
    },
    {
      "cell_type": "code",
      "metadata": {
        "id": "Dj10DXT8FvVl",
        "colab_type": "code",
        "colab": {
          "base_uri": "https://localhost:8080/",
          "height": 187
        },
        "outputId": "97a102e6-a82b-4099-c9f3-4c5e86fe5328"
      },
      "source": [
        "nlp_para = spacy.load('en')\n",
        "nlp_para.add_pipe(nlp.create_pipe('sentencizer'))\n",
        "texts_spacy = nlp_para(paragraph)\n",
        "sentences = [sent.string.strip() for sent in texts_spacy.sents]\n",
        "pp.pprint(sentences)"
      ],
      "execution_count": null,
      "outputs": [
        {
          "output_type": "stream",
          "text": [
            "['Human machine interface for lab abc computer applications on May 10, 2000.',\n",
            " 'A survey of user opinion of computer system response time.',\n",
            " 'The EPS user interface management system.',\n",
            " 'System and human system engineering testing of EPS.',\n",
            " 'Relation of user perceived response time to error measurement.',\n",
            " 'The generation of random binary unordered trees.',\n",
            " 'The intersection graph of paths in trees.',\n",
            " 'Graph minors IV Widths of trees and well quasi ordering.',\n",
            " 'Graph minors',\n",
            " 'A survey']\n"
          ],
          "name": "stdout"
        }
      ]
    },
    {
      "cell_type": "markdown",
      "metadata": {
        "id": "AHOmyp19CjTg",
        "colab_type": "text"
      },
      "source": [
        "## Tokens\n",
        "* Pipeline creates tokens\n",
        "* Token attributes are populated depending on pipeline steps"
      ]
    },
    {
      "cell_type": "code",
      "metadata": {
        "id": "mQSEu55r_hhE",
        "colab_type": "code",
        "colab": {
          "base_uri": "https://localhost:8080/",
          "height": 359
        },
        "outputId": "0b99dfad-5d3c-4ed3-933f-be68d7cced75"
      },
      "source": [
        "texts_spacy = [nlp(document) for document in documents]\n",
        "\n",
        "rows = []\n",
        "for text in texts_spacy:\n",
        "  for token in text:\n",
        "    rows.append({'token': token.text,\n",
        "                 'lower': token.lower_, \n",
        "                 'lemma': token.lemma_, \n",
        "                 'pos': token.pos_,\n",
        "                 'shape': token.shape_,\n",
        "                 'dependency': token.dep_,\n",
        "                 'entity': token.ent_type_, \n",
        "                 'tag': token.tag_,\n",
        "                 'stop': token.is_stop})\n",
        "pd.DataFrame(rows)[0:10]"
      ],
      "execution_count": null,
      "outputs": [
        {
          "output_type": "execute_result",
          "data": {
            "text/html": [
              "<div>\n",
              "<style scoped>\n",
              "    .dataframe tbody tr th:only-of-type {\n",
              "        vertical-align: middle;\n",
              "    }\n",
              "\n",
              "    .dataframe tbody tr th {\n",
              "        vertical-align: top;\n",
              "    }\n",
              "\n",
              "    .dataframe thead th {\n",
              "        text-align: right;\n",
              "    }\n",
              "</style>\n",
              "<table border=\"1\" class=\"dataframe\">\n",
              "  <thead>\n",
              "    <tr style=\"text-align: right;\">\n",
              "      <th></th>\n",
              "      <th>token</th>\n",
              "      <th>lower</th>\n",
              "      <th>lemma</th>\n",
              "      <th>pos</th>\n",
              "      <th>shape</th>\n",
              "      <th>dependency</th>\n",
              "      <th>entity</th>\n",
              "      <th>tag</th>\n",
              "      <th>stop</th>\n",
              "    </tr>\n",
              "  </thead>\n",
              "  <tbody>\n",
              "    <tr>\n",
              "      <th>0</th>\n",
              "      <td>Human</td>\n",
              "      <td>human</td>\n",
              "      <td>human</td>\n",
              "      <td>ADJ</td>\n",
              "      <td>Xxxxx</td>\n",
              "      <td>amod</td>\n",
              "      <td></td>\n",
              "      <td>JJ</td>\n",
              "      <td>False</td>\n",
              "    </tr>\n",
              "    <tr>\n",
              "      <th>1</th>\n",
              "      <td>machine</td>\n",
              "      <td>machine</td>\n",
              "      <td>machine</td>\n",
              "      <td>NOUN</td>\n",
              "      <td>xxxx</td>\n",
              "      <td>compound</td>\n",
              "      <td></td>\n",
              "      <td>NN</td>\n",
              "      <td>False</td>\n",
              "    </tr>\n",
              "    <tr>\n",
              "      <th>2</th>\n",
              "      <td>interface</td>\n",
              "      <td>interface</td>\n",
              "      <td>interface</td>\n",
              "      <td>NOUN</td>\n",
              "      <td>xxxx</td>\n",
              "      <td>ROOT</td>\n",
              "      <td></td>\n",
              "      <td>NN</td>\n",
              "      <td>False</td>\n",
              "    </tr>\n",
              "    <tr>\n",
              "      <th>3</th>\n",
              "      <td>for</td>\n",
              "      <td>for</td>\n",
              "      <td>for</td>\n",
              "      <td>ADP</td>\n",
              "      <td>xxx</td>\n",
              "      <td>prep</td>\n",
              "      <td></td>\n",
              "      <td>IN</td>\n",
              "      <td>True</td>\n",
              "    </tr>\n",
              "    <tr>\n",
              "      <th>4</th>\n",
              "      <td>lab</td>\n",
              "      <td>lab</td>\n",
              "      <td>lab</td>\n",
              "      <td>PROPN</td>\n",
              "      <td>xxx</td>\n",
              "      <td>compound</td>\n",
              "      <td></td>\n",
              "      <td>NNP</td>\n",
              "      <td>False</td>\n",
              "    </tr>\n",
              "    <tr>\n",
              "      <th>5</th>\n",
              "      <td>abc</td>\n",
              "      <td>abc</td>\n",
              "      <td>abc</td>\n",
              "      <td>PROPN</td>\n",
              "      <td>xxx</td>\n",
              "      <td>compound</td>\n",
              "      <td>ORG</td>\n",
              "      <td>NNP</td>\n",
              "      <td>False</td>\n",
              "    </tr>\n",
              "    <tr>\n",
              "      <th>6</th>\n",
              "      <td>computer</td>\n",
              "      <td>computer</td>\n",
              "      <td>computer</td>\n",
              "      <td>NOUN</td>\n",
              "      <td>xxxx</td>\n",
              "      <td>compound</td>\n",
              "      <td></td>\n",
              "      <td>NN</td>\n",
              "      <td>False</td>\n",
              "    </tr>\n",
              "    <tr>\n",
              "      <th>7</th>\n",
              "      <td>applications</td>\n",
              "      <td>applications</td>\n",
              "      <td>application</td>\n",
              "      <td>NOUN</td>\n",
              "      <td>xxxx</td>\n",
              "      <td>pobj</td>\n",
              "      <td></td>\n",
              "      <td>NNS</td>\n",
              "      <td>False</td>\n",
              "    </tr>\n",
              "    <tr>\n",
              "      <th>8</th>\n",
              "      <td>on</td>\n",
              "      <td>on</td>\n",
              "      <td>on</td>\n",
              "      <td>ADP</td>\n",
              "      <td>xx</td>\n",
              "      <td>prep</td>\n",
              "      <td></td>\n",
              "      <td>IN</td>\n",
              "      <td>True</td>\n",
              "    </tr>\n",
              "    <tr>\n",
              "      <th>9</th>\n",
              "      <td>May</td>\n",
              "      <td>may</td>\n",
              "      <td>May</td>\n",
              "      <td>PROPN</td>\n",
              "      <td>Xxx</td>\n",
              "      <td>pobj</td>\n",
              "      <td>DATE</td>\n",
              "      <td>NNP</td>\n",
              "      <td>True</td>\n",
              "    </tr>\n",
              "  </tbody>\n",
              "</table>\n",
              "</div>"
            ],
            "text/plain": [
              "          token         lower        lemma    pos  ... dependency entity  tag   stop\n",
              "0         Human         human        human    ADJ  ...       amod          JJ  False\n",
              "1       machine       machine      machine   NOUN  ...   compound          NN  False\n",
              "2     interface     interface    interface   NOUN  ...       ROOT          NN  False\n",
              "3           for           for          for    ADP  ...       prep          IN   True\n",
              "4           lab           lab          lab  PROPN  ...   compound         NNP  False\n",
              "5           abc           abc          abc  PROPN  ...   compound    ORG  NNP  False\n",
              "6      computer      computer     computer   NOUN  ...   compound          NN  False\n",
              "7  applications  applications  application   NOUN  ...       pobj         NNS  False\n",
              "8            on            on           on    ADP  ...       prep          IN   True\n",
              "9           May           may          May  PROPN  ...       pobj   DATE  NNP   True\n",
              "\n",
              "[10 rows x 9 columns]"
            ]
          },
          "metadata": {
            "tags": []
          },
          "execution_count": 35
        }
      ]
    },
    {
      "cell_type": "markdown",
      "metadata": {
        "id": "T0dBpoa8C3cK",
        "colab_type": "text"
      },
      "source": [
        "## displaCy"
      ]
    },
    {
      "cell_type": "code",
      "metadata": {
        "id": "w0Yfhh-MDhZP",
        "colab_type": "code",
        "colab": {}
      },
      "source": [
        "import spacy\n",
        "from spacy import displacy"
      ],
      "execution_count": null,
      "outputs": []
    },
    {
      "cell_type": "code",
      "metadata": {
        "id": "CocYJ04_Dl31",
        "colab_type": "code",
        "colab": {
          "base_uri": "https://localhost:8080/",
          "height": 441
        },
        "outputId": "fff5f42e-6274-47d8-82dc-0fb5cd11f9c8"
      },
      "source": [
        "doc = nlp(documents[0])\n",
        "displacy.render(doc, style=\"dep\", jupyter=True)"
      ],
      "execution_count": null,
      "outputs": [
        {
          "output_type": "display_data",
          "data": {
            "text/html": [
              "<span class=\"tex2jax_ignore\"><svg xmlns=\"http://www.w3.org/2000/svg\" xmlns:xlink=\"http://www.w3.org/1999/xlink\" xml:lang=\"en\" id=\"8b12f321899f46f69d07f1235e22883c-0\" class=\"displacy\" width=\"2150\" height=\"399.5\" direction=\"ltr\" style=\"max-width: none; height: 399.5px; color: #000000; background: #ffffff; font-family: Arial; direction: ltr\">\n",
              "<text class=\"displacy-token\" fill=\"currentColor\" text-anchor=\"middle\" y=\"309.5\">\n",
              "    <tspan class=\"displacy-word\" fill=\"currentColor\" x=\"50\">Human</tspan>\n",
              "    <tspan class=\"displacy-tag\" dy=\"2em\" fill=\"currentColor\" x=\"50\">ADJ</tspan>\n",
              "</text>\n",
              "\n",
              "<text class=\"displacy-token\" fill=\"currentColor\" text-anchor=\"middle\" y=\"309.5\">\n",
              "    <tspan class=\"displacy-word\" fill=\"currentColor\" x=\"225\">machine</tspan>\n",
              "    <tspan class=\"displacy-tag\" dy=\"2em\" fill=\"currentColor\" x=\"225\">NOUN</tspan>\n",
              "</text>\n",
              "\n",
              "<text class=\"displacy-token\" fill=\"currentColor\" text-anchor=\"middle\" y=\"309.5\">\n",
              "    <tspan class=\"displacy-word\" fill=\"currentColor\" x=\"400\">interface</tspan>\n",
              "    <tspan class=\"displacy-tag\" dy=\"2em\" fill=\"currentColor\" x=\"400\">NOUN</tspan>\n",
              "</text>\n",
              "\n",
              "<text class=\"displacy-token\" fill=\"currentColor\" text-anchor=\"middle\" y=\"309.5\">\n",
              "    <tspan class=\"displacy-word\" fill=\"currentColor\" x=\"575\">for</tspan>\n",
              "    <tspan class=\"displacy-tag\" dy=\"2em\" fill=\"currentColor\" x=\"575\">ADP</tspan>\n",
              "</text>\n",
              "\n",
              "<text class=\"displacy-token\" fill=\"currentColor\" text-anchor=\"middle\" y=\"309.5\">\n",
              "    <tspan class=\"displacy-word\" fill=\"currentColor\" x=\"750\">lab</tspan>\n",
              "    <tspan class=\"displacy-tag\" dy=\"2em\" fill=\"currentColor\" x=\"750\">PROPN</tspan>\n",
              "</text>\n",
              "\n",
              "<text class=\"displacy-token\" fill=\"currentColor\" text-anchor=\"middle\" y=\"309.5\">\n",
              "    <tspan class=\"displacy-word\" fill=\"currentColor\" x=\"925\">abc</tspan>\n",
              "    <tspan class=\"displacy-tag\" dy=\"2em\" fill=\"currentColor\" x=\"925\">PROPN</tspan>\n",
              "</text>\n",
              "\n",
              "<text class=\"displacy-token\" fill=\"currentColor\" text-anchor=\"middle\" y=\"309.5\">\n",
              "    <tspan class=\"displacy-word\" fill=\"currentColor\" x=\"1100\">computer</tspan>\n",
              "    <tspan class=\"displacy-tag\" dy=\"2em\" fill=\"currentColor\" x=\"1100\">NOUN</tspan>\n",
              "</text>\n",
              "\n",
              "<text class=\"displacy-token\" fill=\"currentColor\" text-anchor=\"middle\" y=\"309.5\">\n",
              "    <tspan class=\"displacy-word\" fill=\"currentColor\" x=\"1275\">applications</tspan>\n",
              "    <tspan class=\"displacy-tag\" dy=\"2em\" fill=\"currentColor\" x=\"1275\">NOUN</tspan>\n",
              "</text>\n",
              "\n",
              "<text class=\"displacy-token\" fill=\"currentColor\" text-anchor=\"middle\" y=\"309.5\">\n",
              "    <tspan class=\"displacy-word\" fill=\"currentColor\" x=\"1450\">on</tspan>\n",
              "    <tspan class=\"displacy-tag\" dy=\"2em\" fill=\"currentColor\" x=\"1450\">ADP</tspan>\n",
              "</text>\n",
              "\n",
              "<text class=\"displacy-token\" fill=\"currentColor\" text-anchor=\"middle\" y=\"309.5\">\n",
              "    <tspan class=\"displacy-word\" fill=\"currentColor\" x=\"1625\">May</tspan>\n",
              "    <tspan class=\"displacy-tag\" dy=\"2em\" fill=\"currentColor\" x=\"1625\">PROPN</tspan>\n",
              "</text>\n",
              "\n",
              "<text class=\"displacy-token\" fill=\"currentColor\" text-anchor=\"middle\" y=\"309.5\">\n",
              "    <tspan class=\"displacy-word\" fill=\"currentColor\" x=\"1800\">10,</tspan>\n",
              "    <tspan class=\"displacy-tag\" dy=\"2em\" fill=\"currentColor\" x=\"1800\">NUM</tspan>\n",
              "</text>\n",
              "\n",
              "<text class=\"displacy-token\" fill=\"currentColor\" text-anchor=\"middle\" y=\"309.5\">\n",
              "    <tspan class=\"displacy-word\" fill=\"currentColor\" x=\"1975\">2000</tspan>\n",
              "    <tspan class=\"displacy-tag\" dy=\"2em\" fill=\"currentColor\" x=\"1975\">NUM</tspan>\n",
              "</text>\n",
              "\n",
              "<g class=\"displacy-arrow\">\n",
              "    <path class=\"displacy-arc\" id=\"arrow-8b12f321899f46f69d07f1235e22883c-0-0\" stroke-width=\"2px\" d=\"M70,264.5 C70,177.0 215.0,177.0 215.0,264.5\" fill=\"none\" stroke=\"currentColor\"/>\n",
              "    <text dy=\"1.25em\" style=\"font-size: 0.8em; letter-spacing: 1px\">\n",
              "        <textPath xlink:href=\"#arrow-8b12f321899f46f69d07f1235e22883c-0-0\" class=\"displacy-label\" startOffset=\"50%\" side=\"left\" fill=\"currentColor\" text-anchor=\"middle\">amod</textPath>\n",
              "    </text>\n",
              "    <path class=\"displacy-arrowhead\" d=\"M70,266.5 L62,254.5 78,254.5\" fill=\"currentColor\"/>\n",
              "</g>\n",
              "\n",
              "<g class=\"displacy-arrow\">\n",
              "    <path class=\"displacy-arc\" id=\"arrow-8b12f321899f46f69d07f1235e22883c-0-1\" stroke-width=\"2px\" d=\"M245,264.5 C245,177.0 390.0,177.0 390.0,264.5\" fill=\"none\" stroke=\"currentColor\"/>\n",
              "    <text dy=\"1.25em\" style=\"font-size: 0.8em; letter-spacing: 1px\">\n",
              "        <textPath xlink:href=\"#arrow-8b12f321899f46f69d07f1235e22883c-0-1\" class=\"displacy-label\" startOffset=\"50%\" side=\"left\" fill=\"currentColor\" text-anchor=\"middle\">compound</textPath>\n",
              "    </text>\n",
              "    <path class=\"displacy-arrowhead\" d=\"M245,266.5 L237,254.5 253,254.5\" fill=\"currentColor\"/>\n",
              "</g>\n",
              "\n",
              "<g class=\"displacy-arrow\">\n",
              "    <path class=\"displacy-arc\" id=\"arrow-8b12f321899f46f69d07f1235e22883c-0-2\" stroke-width=\"2px\" d=\"M420,264.5 C420,177.0 565.0,177.0 565.0,264.5\" fill=\"none\" stroke=\"currentColor\"/>\n",
              "    <text dy=\"1.25em\" style=\"font-size: 0.8em; letter-spacing: 1px\">\n",
              "        <textPath xlink:href=\"#arrow-8b12f321899f46f69d07f1235e22883c-0-2\" class=\"displacy-label\" startOffset=\"50%\" side=\"left\" fill=\"currentColor\" text-anchor=\"middle\">prep</textPath>\n",
              "    </text>\n",
              "    <path class=\"displacy-arrowhead\" d=\"M565.0,266.5 L573.0,254.5 557.0,254.5\" fill=\"currentColor\"/>\n",
              "</g>\n",
              "\n",
              "<g class=\"displacy-arrow\">\n",
              "    <path class=\"displacy-arc\" id=\"arrow-8b12f321899f46f69d07f1235e22883c-0-3\" stroke-width=\"2px\" d=\"M770,264.5 C770,177.0 915.0,177.0 915.0,264.5\" fill=\"none\" stroke=\"currentColor\"/>\n",
              "    <text dy=\"1.25em\" style=\"font-size: 0.8em; letter-spacing: 1px\">\n",
              "        <textPath xlink:href=\"#arrow-8b12f321899f46f69d07f1235e22883c-0-3\" class=\"displacy-label\" startOffset=\"50%\" side=\"left\" fill=\"currentColor\" text-anchor=\"middle\">compound</textPath>\n",
              "    </text>\n",
              "    <path class=\"displacy-arrowhead\" d=\"M770,266.5 L762,254.5 778,254.5\" fill=\"currentColor\"/>\n",
              "</g>\n",
              "\n",
              "<g class=\"displacy-arrow\">\n",
              "    <path class=\"displacy-arc\" id=\"arrow-8b12f321899f46f69d07f1235e22883c-0-4\" stroke-width=\"2px\" d=\"M945,264.5 C945,177.0 1090.0,177.0 1090.0,264.5\" fill=\"none\" stroke=\"currentColor\"/>\n",
              "    <text dy=\"1.25em\" style=\"font-size: 0.8em; letter-spacing: 1px\">\n",
              "        <textPath xlink:href=\"#arrow-8b12f321899f46f69d07f1235e22883c-0-4\" class=\"displacy-label\" startOffset=\"50%\" side=\"left\" fill=\"currentColor\" text-anchor=\"middle\">compound</textPath>\n",
              "    </text>\n",
              "    <path class=\"displacy-arrowhead\" d=\"M945,266.5 L937,254.5 953,254.5\" fill=\"currentColor\"/>\n",
              "</g>\n",
              "\n",
              "<g class=\"displacy-arrow\">\n",
              "    <path class=\"displacy-arc\" id=\"arrow-8b12f321899f46f69d07f1235e22883c-0-5\" stroke-width=\"2px\" d=\"M1120,264.5 C1120,177.0 1265.0,177.0 1265.0,264.5\" fill=\"none\" stroke=\"currentColor\"/>\n",
              "    <text dy=\"1.25em\" style=\"font-size: 0.8em; letter-spacing: 1px\">\n",
              "        <textPath xlink:href=\"#arrow-8b12f321899f46f69d07f1235e22883c-0-5\" class=\"displacy-label\" startOffset=\"50%\" side=\"left\" fill=\"currentColor\" text-anchor=\"middle\">compound</textPath>\n",
              "    </text>\n",
              "    <path class=\"displacy-arrowhead\" d=\"M1120,266.5 L1112,254.5 1128,254.5\" fill=\"currentColor\"/>\n",
              "</g>\n",
              "\n",
              "<g class=\"displacy-arrow\">\n",
              "    <path class=\"displacy-arc\" id=\"arrow-8b12f321899f46f69d07f1235e22883c-0-6\" stroke-width=\"2px\" d=\"M595,264.5 C595,2.0 1275.0,2.0 1275.0,264.5\" fill=\"none\" stroke=\"currentColor\"/>\n",
              "    <text dy=\"1.25em\" style=\"font-size: 0.8em; letter-spacing: 1px\">\n",
              "        <textPath xlink:href=\"#arrow-8b12f321899f46f69d07f1235e22883c-0-6\" class=\"displacy-label\" startOffset=\"50%\" side=\"left\" fill=\"currentColor\" text-anchor=\"middle\">pobj</textPath>\n",
              "    </text>\n",
              "    <path class=\"displacy-arrowhead\" d=\"M1275.0,266.5 L1283.0,254.5 1267.0,254.5\" fill=\"currentColor\"/>\n",
              "</g>\n",
              "\n",
              "<g class=\"displacy-arrow\">\n",
              "    <path class=\"displacy-arc\" id=\"arrow-8b12f321899f46f69d07f1235e22883c-0-7\" stroke-width=\"2px\" d=\"M1295,264.5 C1295,177.0 1440.0,177.0 1440.0,264.5\" fill=\"none\" stroke=\"currentColor\"/>\n",
              "    <text dy=\"1.25em\" style=\"font-size: 0.8em; letter-spacing: 1px\">\n",
              "        <textPath xlink:href=\"#arrow-8b12f321899f46f69d07f1235e22883c-0-7\" class=\"displacy-label\" startOffset=\"50%\" side=\"left\" fill=\"currentColor\" text-anchor=\"middle\">prep</textPath>\n",
              "    </text>\n",
              "    <path class=\"displacy-arrowhead\" d=\"M1440.0,266.5 L1448.0,254.5 1432.0,254.5\" fill=\"currentColor\"/>\n",
              "</g>\n",
              "\n",
              "<g class=\"displacy-arrow\">\n",
              "    <path class=\"displacy-arc\" id=\"arrow-8b12f321899f46f69d07f1235e22883c-0-8\" stroke-width=\"2px\" d=\"M1470,264.5 C1470,177.0 1615.0,177.0 1615.0,264.5\" fill=\"none\" stroke=\"currentColor\"/>\n",
              "    <text dy=\"1.25em\" style=\"font-size: 0.8em; letter-spacing: 1px\">\n",
              "        <textPath xlink:href=\"#arrow-8b12f321899f46f69d07f1235e22883c-0-8\" class=\"displacy-label\" startOffset=\"50%\" side=\"left\" fill=\"currentColor\" text-anchor=\"middle\">pobj</textPath>\n",
              "    </text>\n",
              "    <path class=\"displacy-arrowhead\" d=\"M1615.0,266.5 L1623.0,254.5 1607.0,254.5\" fill=\"currentColor\"/>\n",
              "</g>\n",
              "\n",
              "<g class=\"displacy-arrow\">\n",
              "    <path class=\"displacy-arc\" id=\"arrow-8b12f321899f46f69d07f1235e22883c-0-9\" stroke-width=\"2px\" d=\"M1645,264.5 C1645,177.0 1790.0,177.0 1790.0,264.5\" fill=\"none\" stroke=\"currentColor\"/>\n",
              "    <text dy=\"1.25em\" style=\"font-size: 0.8em; letter-spacing: 1px\">\n",
              "        <textPath xlink:href=\"#arrow-8b12f321899f46f69d07f1235e22883c-0-9\" class=\"displacy-label\" startOffset=\"50%\" side=\"left\" fill=\"currentColor\" text-anchor=\"middle\">nummod</textPath>\n",
              "    </text>\n",
              "    <path class=\"displacy-arrowhead\" d=\"M1790.0,266.5 L1798.0,254.5 1782.0,254.5\" fill=\"currentColor\"/>\n",
              "</g>\n",
              "\n",
              "<g class=\"displacy-arrow\">\n",
              "    <path class=\"displacy-arc\" id=\"arrow-8b12f321899f46f69d07f1235e22883c-0-10\" stroke-width=\"2px\" d=\"M1645,264.5 C1645,89.5 1970.0,89.5 1970.0,264.5\" fill=\"none\" stroke=\"currentColor\"/>\n",
              "    <text dy=\"1.25em\" style=\"font-size: 0.8em; letter-spacing: 1px\">\n",
              "        <textPath xlink:href=\"#arrow-8b12f321899f46f69d07f1235e22883c-0-10\" class=\"displacy-label\" startOffset=\"50%\" side=\"left\" fill=\"currentColor\" text-anchor=\"middle\">nummod</textPath>\n",
              "    </text>\n",
              "    <path class=\"displacy-arrowhead\" d=\"M1970.0,266.5 L1978.0,254.5 1962.0,254.5\" fill=\"currentColor\"/>\n",
              "</g>\n",
              "</svg></span>"
            ],
            "text/plain": [
              "<IPython.core.display.HTML object>"
            ]
          },
          "metadata": {
            "tags": []
          }
        }
      ]
    },
    {
      "cell_type": "code",
      "metadata": {
        "id": "9nuuK92-ESxn",
        "colab_type": "code",
        "colab": {
          "base_uri": "https://localhost:8080/",
          "height": 52
        },
        "outputId": "4471b4e8-a4e2-4c5c-d7f0-e5b33aa787f7"
      },
      "source": [
        "displacy.render(doc, style=\"ent\", jupyter=True)"
      ],
      "execution_count": null,
      "outputs": [
        {
          "output_type": "display_data",
          "data": {
            "text/html": [
              "<span class=\"tex2jax_ignore\"><div class=\"entities\" style=\"line-height: 2.5; direction: ltr\">Human machine interface for lab \n",
              "<mark class=\"entity\" style=\"background: #7aecec; padding: 0.45em 0.6em; margin: 0 0.25em; line-height: 1; border-radius: 0.35em;\">\n",
              "    abc\n",
              "    <span style=\"font-size: 0.8em; font-weight: bold; line-height: 1; border-radius: 0.35em; text-transform: uppercase; vertical-align: middle; margin-left: 0.5rem\">ORG</span>\n",
              "</mark>\n",
              " computer applications on \n",
              "<mark class=\"entity\" style=\"background: #bfe1d9; padding: 0.45em 0.6em; margin: 0 0.25em; line-height: 1; border-radius: 0.35em;\">\n",
              "    May 10, 2000\n",
              "    <span style=\"font-size: 0.8em; font-weight: bold; line-height: 1; border-radius: 0.35em; text-transform: uppercase; vertical-align: middle; margin-left: 0.5rem\">DATE</span>\n",
              "</mark>\n",
              "</div></span>"
            ],
            "text/plain": [
              "<IPython.core.display.HTML object>"
            ]
          },
          "metadata": {
            "tags": []
          }
        }
      ]
    },
    {
      "cell_type": "markdown",
      "metadata": {
        "id": "diPVUb4VoZ1i",
        "colab_type": "text"
      },
      "source": [
        "## SpaCy -> Gensim\n",
        "* Gensim wants text\n",
        "* token.text from SpaCy"
      ]
    },
    {
      "cell_type": "markdown",
      "metadata": {
        "id": "L2X04cj4DHzx",
        "colab_type": "text"
      },
      "source": [
        "# Latent Dirichlet Allocation - LDA\n",
        "* Proposed in 2000 in the genetics field\n",
        "* Applied to NLP in 2003 by Blei & Ng\n",
        "* Generative probablistic model of a corpus (collection of documents)\n",
        "  * Documents can be approximated with random mixtures over latent topics\n",
        "  * Each topic is represented as a distribution over the words in the vocabulary\n",
        "\n",
        "## Thought Experiment\n",
        "* Corpus of Documents\n",
        "* Latent Topics\n",
        "  * Sports \n",
        "  * Politics\n",
        "  * Scary\n",
        "* Documents\n",
        "  * Given document - what topic?\n",
        "  * 10% Sports, 80% Politics, 10% Scary\n",
        "  * 60% Sports, 20% Politics, 20% Scary\n",
        "  * 33% Sports, 34% Politics, 33% Scary\n",
        "  * Documents can be a mixture of topics!\n",
        "* Words \n",
        "  * Given topic - what word?\n",
        "  * Court: 40% Sports, 40% Politics, 20% Scary\n",
        "  * Ghost: 10% Sports, 10% Politics, 60% Scary\n",
        "  * Race : 40% Sports, 30% Politics, 10% Scary\n",
        "  * Win  : 10% Sports, 20% Politics, 10% Scary\n",
        "  * Words are a distribution over the vocabulary conditioned by the topic\n",
        "\n",
        "## Dirichlet Distribution\n",
        "* Hyperparameter alpha controls edge / center\n",
        "![alt text](https://cdn-images-1.medium.com/max/900/0*mAmRqUT4gRoFj-eo.)\n",
        "\n",
        "## Technical Notes\n",
        "* Can we build a machine to generate documents with just dice?\n",
        "* Approach:\n",
        "  * How many documents?  Use the size of the corpus.\n",
        "  * How many words (N) in \"document\"?  Use the corpus average length and draw from Poisson distribution. \n",
        "    * Expected Value = Average Length\n",
        "    * Variance = Average Length\n",
        "  * Choose Topic Mix from Dirichlet distribution (Theta)\n",
        "    * Hyperparameter alpha (is our Dirichlet more focused in the center or to the edges)?\n",
        "  * For each word (N):\n",
        "    * Choose a topic (Z) from Multinomial distribution (Theta)\n",
        "    * Choose a word conditioned on Topic (Z)\n",
        "    * Note:  We don't write a document, but rather reproduce the \"bag\"\n",
        "  * Repeat for each document in corpus\n",
        "  * Select machine that \"reconstructs\" the original document the best\n",
        "  * Repeat process\n",
        "* After processing we get two matrixes\n",
        "  * Words X Topics\n",
        "  * Topics X Documents\n",
        "\n"
      ]
    },
    {
      "cell_type": "markdown",
      "metadata": {
        "id": "FLCUVBTpQ7f3",
        "colab_type": "text"
      },
      "source": [
        "# LSA vs LDA\n",
        "\n",
        "![alt text](https://image2.slideserve.com/3877409/slide21-l.jpg)\n",
        "\n",
        "* LSA\n",
        "  * Keep things spread apart that were far apart to start\n",
        "  * LSA has the advantage of good optimization\n",
        "* LDA\n",
        "  * Keep things close that were close together to start\n",
        "  * More understandable \n",
        "  * Tends to keep frequently co-occurring words in the same topic"
      ]
    },
    {
      "cell_type": "markdown",
      "metadata": {
        "id": "qfb_BAmrgmph",
        "colab_type": "text"
      },
      "source": [
        "# Seattle - Dataset\n",
        "* Use SpaCy to parse \"name\" field\n",
        "* Use Gensim to:\n",
        "  * Transform to tf-idf space\n",
        "  * Transform to LSA space\n",
        "  * Build a LDA Model\n",
        "* Craft features from topics\n",
        "* Build ML model to forecast AirBnB price"
      ]
    },
    {
      "cell_type": "markdown",
      "metadata": {
        "id": "_3WcRfLArVey",
        "colab_type": "text"
      },
      "source": [
        "## Documents"
      ]
    },
    {
      "cell_type": "code",
      "metadata": {
        "id": "GrO4bCjDgrJe",
        "colab_type": "code",
        "colab": {
          "base_uri": "https://localhost:8080/",
          "height": 187
        },
        "outputId": "92a9cf0f-7e66-44e8-b35f-e67ad2bc1128"
      },
      "source": [
        "documents = seattle_df.name.to_list()\n",
        "documents[0:10]"
      ],
      "execution_count": null,
      "outputs": [
        {
          "output_type": "execute_result",
          "data": {
            "text/plain": [
              "['Casa Madrona - Urban Oasis, 1 block from the Park!',\n",
              " 'Sweet Seattle Urban Homestead 2 Bdr',\n",
              " 'Sunrise in Seattle Master Suite',\n",
              " 'Cozy Studio, min. to downtown -WiFi',\n",
              " 'Fab, private seattle urban cottage!',\n",
              " 'Glorious sun room w/ memory foambed',\n",
              " 'Downtown/Convention Ctr B&B - Nice!',\n",
              " 'The Adorable Sweet Orange Craftsman',\n",
              " 'The Coolest Tangerine Dream MIL! ',\n",
              " 'the down home , spacious, central and fab!']"
            ]
          },
          "metadata": {
            "tags": []
          },
          "execution_count": 39
        }
      ]
    },
    {
      "cell_type": "markdown",
      "metadata": {
        "id": "il7cg9InrW6M",
        "colab_type": "text"
      },
      "source": [
        "## Tokenize\n",
        "* Skip stopwords\n",
        "* Skip punctuation"
      ]
    },
    {
      "cell_type": "code",
      "metadata": {
        "id": "XPAtQd3Kg9tp",
        "colab_type": "code",
        "colab": {
          "base_uri": "https://localhost:8080/",
          "height": 187
        },
        "outputId": "362249ec-ed57-4053-e56f-8b514cb36937"
      },
      "source": [
        "nlp = spacy.load('en')\n",
        "tokens = [nlp(document) for document in documents]\n",
        "tokens[0:10]"
      ],
      "execution_count": null,
      "outputs": [
        {
          "output_type": "execute_result",
          "data": {
            "text/plain": [
              "[Casa Madrona - Urban Oasis, 1 block from the Park!,\n",
              " Sweet Seattle Urban Homestead 2 Bdr,\n",
              " Sunrise in Seattle Master Suite,\n",
              " Cozy Studio, min. to downtown -WiFi,\n",
              " Fab, private seattle urban cottage!,\n",
              " Glorious sun room w/ memory foambed,\n",
              " Downtown/Convention Ctr B&B - Nice!,\n",
              " The Adorable Sweet Orange Craftsman,\n",
              " The Coolest Tangerine Dream MIL! ,\n",
              " the down home , spacious, central and fab!]"
            ]
          },
          "metadata": {
            "tags": []
          },
          "execution_count": 40
        }
      ]
    },
    {
      "cell_type": "code",
      "metadata": {
        "id": "amNrs9ZGiIi2",
        "colab_type": "code",
        "colab": {}
      },
      "source": [
        "texts = [\n",
        "         [token.text for token in document\n",
        "          if not token.is_stop and not token.is_punct]\n",
        "         for document in tokens\n",
        "        ]"
      ],
      "execution_count": null,
      "outputs": []
    },
    {
      "cell_type": "markdown",
      "metadata": {
        "id": "ukjtfFSZrYnq",
        "colab_type": "text"
      },
      "source": [
        "## Dictionary"
      ]
    },
    {
      "cell_type": "code",
      "metadata": {
        "id": "Y-qY8ONmh3Ij",
        "colab_type": "code",
        "colab": {
          "base_uri": "https://localhost:8080/",
          "height": 34
        },
        "outputId": "18e53cd4-4247-4905-8530-5bb6c0d0f634"
      },
      "source": [
        "dictionary = corpora.Dictionary(texts)\n",
        "print(dictionary)"
      ],
      "execution_count": null,
      "outputs": [
        {
          "output_type": "stream",
          "text": [
            "Dictionary(4297 unique tokens: ['1', 'Casa', 'Madrona', 'Oasis', 'Park']...)\n"
          ],
          "name": "stdout"
        }
      ]
    },
    {
      "cell_type": "markdown",
      "metadata": {
        "id": "VYXNlH1QraAs",
        "colab_type": "text"
      },
      "source": [
        "## Bag of Words"
      ]
    },
    {
      "cell_type": "code",
      "metadata": {
        "id": "JhkoKbmWi30h",
        "colab_type": "code",
        "colab": {}
      },
      "source": [
        "corpus = [dictionary.doc2bow(text) for text in texts]"
      ],
      "execution_count": null,
      "outputs": []
    },
    {
      "cell_type": "markdown",
      "metadata": {
        "id": "GngWNV_xrcsA",
        "colab_type": "text"
      },
      "source": [
        "## TF-IDF"
      ]
    },
    {
      "cell_type": "code",
      "metadata": {
        "id": "AY5AJmLzi-TI",
        "colab_type": "code",
        "colab": {}
      },
      "source": [
        "tfidf = models.TfidfModel(corpus) \n",
        "corpus_tfidf = tfidf[corpus]"
      ],
      "execution_count": null,
      "outputs": []
    },
    {
      "cell_type": "markdown",
      "metadata": {
        "id": "bykIfZkmrj71",
        "colab_type": "text"
      },
      "source": [
        "## LSA Model"
      ]
    },
    {
      "cell_type": "code",
      "metadata": {
        "id": "ZufndIPojD5L",
        "colab_type": "code",
        "colab": {
          "base_uri": "https://localhost:8080/",
          "height": 102
        },
        "outputId": "8d1a624f-d92e-4937-88ce-03ae4ca1360a"
      },
      "source": [
        "lsi_model = models.LsiModel(corpus_tfidf, id2word=dictionary, num_topics=5) \n",
        "corpus_lsi = lsi_model[corpus_tfidf]  \n",
        "lsi_model.print_topics(5, num_words=3)"
      ],
      "execution_count": null,
      "outputs": [
        {
          "output_type": "execute_result",
          "data": {
            "text/plain": [
              "[(0, '-0.329*\"Seattle\" + -0.274*\"Hill\" + -0.259*\"Private\"'),\n",
              " (1, '-0.536*\"Hill\" + -0.514*\"Capitol\" + 0.296*\"Seattle\"'),\n",
              " (2, '-0.467*\"Place\" + -0.454*\"Pike\" + 0.282*\"Hill\"'),\n",
              " (3, '-0.556*\"Queen\" + -0.532*\"Anne\" + 0.374*\"Seattle\"'),\n",
              " (4, '0.306*\"Lake\" + 0.293*\"Apt\" + 0.285*\"near\"')]"
            ]
          },
          "metadata": {
            "tags": []
          },
          "execution_count": 45
        }
      ]
    },
    {
      "cell_type": "markdown",
      "metadata": {
        "id": "EmslvxNzrAyc",
        "colab_type": "text"
      },
      "source": [
        "## LDA Model"
      ]
    },
    {
      "cell_type": "markdown",
      "metadata": {
        "id": "c2iPKxsnRvAk",
        "colab_type": "text"
      },
      "source": [
        "### Bag of Words"
      ]
    },
    {
      "cell_type": "code",
      "metadata": {
        "id": "dBoJG65JRVlw",
        "colab_type": "code",
        "colab": {
          "base_uri": "https://localhost:8080/",
          "height": 102
        },
        "outputId": "1d3f8876-c51d-49f6-94b5-d7e1e5b6458a"
      },
      "source": [
        "lda_bow_model = models.LdaModel(corpus, id2word=dictionary, num_topics=5) \n",
        "corpus_bow_lda = lda_bow_model[corpus]  \n",
        "lda_bow_model.print_topics(5, num_words=3)"
      ],
      "execution_count": null,
      "outputs": [
        {
          "output_type": "execute_result",
          "data": {
            "text/plain": [
              "[(0, '0.027*\"Seattle\" + 0.021*\"2\" + 0.019*\"View\"'),\n",
              " (1, '0.021*\"downtown\" + 0.017*\"1BD\" + 0.017*\"2\"'),\n",
              " (2, '0.037*\"Hill\" + 0.035*\"Seattle\" + 0.023*\"Place\"'),\n",
              " (3, '0.052*\"Private\" + 0.043*\"Seattle\" + 0.021*\"Room\"'),\n",
              " (4, '0.031*\"Seattle\" + 0.025*\"Hill\" + 0.023*\"Modern\"')]"
            ]
          },
          "metadata": {
            "tags": []
          },
          "execution_count": 46
        }
      ]
    },
    {
      "cell_type": "markdown",
      "metadata": {
        "id": "df2XsXRRRx_H",
        "colab_type": "text"
      },
      "source": [
        "### TF-IDF"
      ]
    },
    {
      "cell_type": "code",
      "metadata": {
        "colab_type": "code",
        "id": "RtQQkFR1k_9M",
        "colab": {
          "base_uri": "https://localhost:8080/",
          "height": 102
        },
        "outputId": "2d18bb99-0d7c-4de6-a6e5-7c14e18aa146"
      },
      "source": [
        "lda_model = models.LdaModel(corpus_tfidf, id2word=dictionary, num_topics=5) \n",
        "corpus_lda = lda_model[corpus_tfidf]  \n",
        "lda_model.print_topics(5, num_words=3)"
      ],
      "execution_count": null,
      "outputs": [
        {
          "output_type": "execute_result",
          "data": {
            "text/plain": [
              "[(0, '0.013*\"Hill\" + 0.012*\"F\" + 0.011*\"Private\"'),\n",
              " (1, '0.016*\"Lake\" + 0.015*\"Seattle\" + 0.012*\"House\"'),\n",
              " (2, '0.012*\"Ballard\" + 0.011*\"Cozy\" + 0.011*\"Apartment\"'),\n",
              " (3, '0.020*\"Place\" + 0.019*\"Pike\" + 0.017*\"Downtown\"'),\n",
              " (4, '0.014*\"Bedroom\" + 0.013*\"Seattle\" + 0.013*\"Room\"')]"
            ]
          },
          "metadata": {
            "tags": []
          },
          "execution_count": 47
        }
      ]
    },
    {
      "cell_type": "markdown",
      "metadata": {
        "id": "bFvS-kbtWct1",
        "colab_type": "text"
      },
      "source": [
        "# Perplexity & Coherence\n",
        "* How good are my topics?\n",
        "* Perplexity\n",
        "  * Perplexity is a metric for evaluating language models. \n",
        "  * Perpiexity measures how \"surprised\" a model is by unseen, new data \n",
        "  * Perplexity is measured on a hold-out test set by normalized log-likelihood\n",
        "  * How well does the model represent or reproduce the statistics of the held-out data.\n",
        "  * Perplexity optimized topics may not be human interpretable (i.e. human judgment and perplexity lead to different outcomes)\n",
        "* Coherence\n",
        "  * Attempts to overcome the interpretability limitation of perplexity\n",
        "  * Topic coherence uses multiple measures to evaluate the coherence between topics inferred by a model. \n",
        "  * Coherence is a score for a single topic measuring the degree of semantic similarity between high scoring words in the topic. "
      ]
    },
    {
      "cell_type": "code",
      "metadata": {
        "id": "w7WTr1-oWe3i",
        "colab_type": "code",
        "colab": {
          "base_uri": "https://localhost:8080/",
          "height": 51
        },
        "outputId": "977b0725-77f8-4d17-ee34-8f55ce93ae92"
      },
      "source": [
        "coherence_model_lda = models.CoherenceModel(model=lda_model, texts=texts, corpus=corpus_tfidf, dictionary=dictionary, coherence ='c_v')\n",
        "coherence_lda = coherence_model_lda.get_coherence()\n",
        "print('\\nCoherence Score: ', coherence_lda)"
      ],
      "execution_count": null,
      "outputs": [
        {
          "output_type": "stream",
          "text": [
            "\n",
            "Coherence Score:  0.3511878784671249\n"
          ],
          "name": "stdout"
        }
      ]
    },
    {
      "cell_type": "markdown",
      "metadata": {
        "id": "YqIgwHdpXMJW",
        "colab_type": "text"
      },
      "source": [
        "## Tuning"
      ]
    },
    {
      "cell_type": "code",
      "metadata": {
        "id": "xYXRhd1UXRG_",
        "colab_type": "code",
        "colab": {
          "base_uri": "https://localhost:8080/",
          "height": 328
        },
        "outputId": "4ba2161e-a0b1-45b3-a492-2c39585bc6f2"
      },
      "source": [
        "coherence_df = pd.DataFrame(columns=['Coherence'])\n",
        "for k in range(2, 11):\n",
        "  test_model = models.LdaModel(corpus_tfidf, id2word=dictionary, num_topics=k) \n",
        "  test_corpus_lda = test_model[corpus_tfidf]  \n",
        "  coherence_model_lda = models.CoherenceModel(model=test_model, texts=texts, corpus=test_corpus_lda, dictionary=dictionary, coherence ='c_v')\n",
        "  coherence_lda = coherence_model_lda.get_coherence()\n",
        "  coherence_df.loc[f'Topics {k}'] = [coherence_lda]\n",
        "coherence_df"
      ],
      "execution_count": null,
      "outputs": [
        {
          "output_type": "execute_result",
          "data": {
            "text/html": [
              "<div>\n",
              "<style scoped>\n",
              "    .dataframe tbody tr th:only-of-type {\n",
              "        vertical-align: middle;\n",
              "    }\n",
              "\n",
              "    .dataframe tbody tr th {\n",
              "        vertical-align: top;\n",
              "    }\n",
              "\n",
              "    .dataframe thead th {\n",
              "        text-align: right;\n",
              "    }\n",
              "</style>\n",
              "<table border=\"1\" class=\"dataframe\">\n",
              "  <thead>\n",
              "    <tr style=\"text-align: right;\">\n",
              "      <th></th>\n",
              "      <th>Coherence</th>\n",
              "    </tr>\n",
              "  </thead>\n",
              "  <tbody>\n",
              "    <tr>\n",
              "      <th>Topics 2</th>\n",
              "      <td>0.216044</td>\n",
              "    </tr>\n",
              "    <tr>\n",
              "      <th>Topics 3</th>\n",
              "      <td>0.268953</td>\n",
              "    </tr>\n",
              "    <tr>\n",
              "      <th>Topics 4</th>\n",
              "      <td>0.333252</td>\n",
              "    </tr>\n",
              "    <tr>\n",
              "      <th>Topics 5</th>\n",
              "      <td>0.333995</td>\n",
              "    </tr>\n",
              "    <tr>\n",
              "      <th>Topics 6</th>\n",
              "      <td>0.388944</td>\n",
              "    </tr>\n",
              "    <tr>\n",
              "      <th>Topics 7</th>\n",
              "      <td>0.368819</td>\n",
              "    </tr>\n",
              "    <tr>\n",
              "      <th>Topics 8</th>\n",
              "      <td>0.375005</td>\n",
              "    </tr>\n",
              "    <tr>\n",
              "      <th>Topics 9</th>\n",
              "      <td>0.387905</td>\n",
              "    </tr>\n",
              "    <tr>\n",
              "      <th>Topics 10</th>\n",
              "      <td>0.413084</td>\n",
              "    </tr>\n",
              "  </tbody>\n",
              "</table>\n",
              "</div>"
            ],
            "text/plain": [
              "           Coherence\n",
              "Topics 2    0.216044\n",
              "Topics 3    0.268953\n",
              "Topics 4    0.333252\n",
              "Topics 5    0.333995\n",
              "Topics 6    0.388944\n",
              "Topics 7    0.368819\n",
              "Topics 8    0.375005\n",
              "Topics 9    0.387905\n",
              "Topics 10   0.413084"
            ]
          },
          "metadata": {
            "tags": []
          },
          "execution_count": 49
        }
      ]
    },
    {
      "cell_type": "markdown",
      "metadata": {
        "id": "-urSqJJB_OvV",
        "colab_type": "text"
      },
      "source": [
        "# Visualizing Topic Models"
      ]
    },
    {
      "cell_type": "markdown",
      "metadata": {
        "id": "GWGAyCWZE6Gt",
        "colab_type": "text"
      },
      "source": [
        "## WordClouds"
      ]
    },
    {
      "cell_type": "code",
      "metadata": {
        "id": "QyOZ2YswEtb_",
        "colab_type": "code",
        "colab": {
          "base_uri": "https://localhost:8080/",
          "height": 1000
        },
        "outputId": "b890fc1d-0983-4e2c-a6e4-316fdf09554a"
      },
      "source": [
        "for t in range(lda_model.num_topics):\n",
        "    plt.figure()\n",
        "    topic_words = {tup[0]:tup[1] for tup in lda_model.show_topic(t, 200)}\n",
        "    plt.imshow(WordCloud().fit_words(topic_words))\n",
        "    plt.axis(\"off\")\n",
        "    plt.title(\"Topic #\" + str(t))\n",
        "    plt.show()"
      ],
      "execution_count": null,
      "outputs": [
        {
          "output_type": "display_data",
          "data": {
            "image/png": "[encoded data removed]",
            "text/plain": [
              "<Figure size 432x288 with 1 Axes>"
            ]
          },
          "metadata": {
            "tags": [],
            "needs_background": "light"
          }
        },
        {
          "output_type": "display_data",
          "data": {
            "image/png": "[encoded data removed]",
            "text/plain": [
              "<Figure size 432x288 with 1 Axes>"
            ]
          },
          "metadata": {
            "tags": [],
            "needs_background": "light"
          }
        },
        {
          "output_type": "display_data",
          "data": {
            "image/png": "[encoded data removed]",
            "text/plain": [
              "<Figure size 432x288 with 1 Axes>"
            ]
          },
          "metadata": {
            "tags": [],
            "needs_background": "light"
          }
        },
        {
          "output_type": "display_data",
          "data": {
            "image/png": "[encoded data removed]",
            "text/plain": [
              "<Figure size 432x288 with 1 Axes>"
            ]
          },
          "metadata": {
            "tags": [],
            "needs_background": "light"
          }
        },
        {
          "output_type": "display_data",
          "data": {
            "image/png": "[encoded data removed]",
            "text/plain": [
              "<Figure size 432x288 with 1 Axes>"
            ]
          },
          "metadata": {
            "tags": [],
            "needs_background": "light"
          }
        }
      ]
    },
    {
      "cell_type": "markdown",
      "metadata": {
        "id": "8zDYzrzeFCbI",
        "colab_type": "text"
      },
      "source": [
        "## PyLDAVis\n",
        "* Port of R package by Carson Sievert and Kenny Shirley\n",
        "* http://nlp.stanford.edu/events/illvi2014/papers/sievert-illvi2014.pdf"
      ]
    },
    {
      "cell_type": "code",
      "metadata": {
        "id": "l91ouxsXDjfq",
        "colab_type": "code",
        "colab": {
          "base_uri": "https://localhost:8080/",
          "height": 861
        },
        "outputId": "25e490a9-5128-43d7-fa43-7203fbe4cca8"
      },
      "source": [
        "pyLDAvis.enable_notebook()\n",
        "vis = pyLDAvis.gensim.prepare(lda_model, corpus_tfidf, dictionary)\n",
        "vis"
      ],
      "execution_count": null,
      "outputs": [
        {
          "output_type": "execute_result",
          "data": {
            "text/html": [
              "\n",
              "<link rel=\"stylesheet\" type=\"text/css\" href=\"https://cdn.rawgit.com/bmabey/pyLDAvis/files/ldavis.v1.0.0.css\">\n",
              "\n",
              "\n",
              "<div id=\"ldavis_el1211399325190008482849926790\"></div>\n",
              "<script type=\"text/javascript\">\n",
              "\n",
              "var ldavis_el1211399325190008482849926790_data = {\"mdsDat\": {\"x\": [0.169291855165215, -0.019236407288481337, -0.030437250820898383, -0.04583771074523011, -0.07378048631060521], \"y\": [0.02898303349472763, -0.047556524514296226, -0.07599756254262645, -0.041408439575888044, 0.13597949313808302], \"topics\": [1, 2, 3, 4, 5], \"cluster\": [1, 1, 1, 1, 1], \"Freq\": [21.320024490356445, 20.496265411376953, 20.17930793762207, 19.46722984313965, 18.537168502807617]}, \"tinfo\": {\"Term\": [\"Pike\", \"Place\", \"F\", \"xx\", \"Needle\", \"Space\", \"Lake\", \"Puget\", \"\\u2605\", \"Walkscore\", \"100\", \"Guest\", \"Capital\", \"Belltown\", \"Amazon\", \"Condo\", \"Townhouse\", \"SLU\", \"Bedroom\", \"heart\", \"Union\", \"Stay\", \"1BD\", \"Downtown\", \"Ballard\", \"Avenue\", \"Mid\", \"Executive\", \"Green\", \"Apartments\", \"minutes\", \"Shared\", \"1st\", \"Minutes\", \"Newcastle\", \"Needle\", \"100\", \"7\", \"Pool\", \"Stay\", \"Upscale\", \"Small\", \"Space\", \"Comfort\", \"97\", \"Min\", \"Couples\", \"1BD/1BA\", \"2BR/2BTH\", \"Walkscore\", \"Level\", \"11\", \"Kerry\", \"Main\", \"Wonderful\", \"Yard\", \"walking\", \"13\", \"2BR/2BA\", \"98\", \"Executive\", \"Belltown\", \"Pike\", \"\\u2605\", \"Place\", \"Condo\", \"XX\", \"2BD\", \"Heart\", \"6\", \"1BD\", \"Convention\", \"Condos\", \"Stunning\", \"Downtown\", \"Alfred\", \"Center\", \"Alki\", \"1br\", \"Seattle\", \"Luxury\", \"Studio\", \"Waterfront\", \"Walk\", \"Apartment\", \"View\", \"Modern\", \"Hill\", \"Home\", \"Apt\", \"Capitol\", \"Puget\", \"Airport\", \"Rise\", \"Forest\", \"Town\", \"Northgate\", \"family\", \"located\", \"Pet\", \"Elliott\", \"stylish\", \"great\", \"Sound\", \"sleeps\", \"Travel\", \"Midcentury\", \"mins\", \"Perfectly\", \"Filled\", \"comfortable\", \"Pioneer\", \"Adorable\", \"single\", \"Hideaway\", \"Orange\", \"BRAND\", \"Greenwood\", \"Amenities\", \"International\", \"|\", \"Ultra\", \"High\", \"Entire\", \"clean\", \"Townhouse\", \"Street\", \"Ballard\", \"perfect\", \"Rooftop\", \"Magnolia\", \"Walkable\", \"location\", \"close\", \"Spacious\", \"Chic\", \"Craftsman\", \"District\", \"Cozy\", \"Apartment\", \"Greenlake\", \"Location\", \"Garden\", \"Studio\", \"Private\", \"bedroom\", \"Modern\", \"Central\", \"Seattle\", \"Hill\", \"Beautiful\", \"Home\", \"Near\", \"Capitol\", \"room\", \"home\", \"Room\", \"Downtown\", \"Suite\", \"xx\", \"Little\", \"Waterfront+Pike\", \"term\", \"beautiful\", \"Long\", \"luxury\", \"Crown\", \"Madison\", \"Westlake\", \"bungalow\", \"beds\", \"Deluxe\", \"Treehouse\", \"Eco\", \"Mins\", \"Bus\", \"Bryant\", \"Skyline\", \"Red\", \"Pearl\", \"Life\", \"Emerald\", \"Daylight\", \"Simple\", \"craftsman\", \"little\", \"right\", \"Owl\", \"Access\", \"Balcony\", \"Living\", \"Union\", \"Columbia\", \"cozy\", \"Rental\", \"Guest\", \"Bungalow\", \"Easy\", \"beach\", \"Lake\", \"Green\", \"Open\", \"Sweet\", \"heart\", \"South\", \"Park\", \"City\", \"Wallingford\", \"House\", \"Cottage\", \"BR\", \"1\", \"Seattle\", \"Cozy\", \"Suite\", \"Bright\", \"Home\", \"Washington\", \"Modern\", \"Queen\", \"2\", \"Bedroom\", \"Private\", \"Hill\", \"near\", \"Anne\", \"West\", \"Apartment\", \"Studio\", \"F\", \"Amazon\", \"HighRise\", \"Friendly\", \"entrance\", \"Charm\", \"convenient\", \"comfy\", \"King\", \"new\", \"shared\", \"Timberlawn\", \"Sweeping\", \"Apartments\", \"Broadway\", \"bright\", \"balcony\", \"comfort\", \"Lodge\", \"Georgetown\", \"Upper\", \"remodeled\", \"brand\", \"Farm\", \"Female\", \"law\", \"4BR\", \"Royal\", \"Mt\", \"easy\", \"Ridge\", \"Single\", \"away\", \"Carriage\", \"Family\", \"bathroom\", \"house\", \"Goog\", \"Phinney\", \"quiet\", \"bed\", \"private\", \"room\", \"near\", \"Bellevue\", \"Comfy\", \"Clean\", \"Hill\", \"Capitol\", \"Private\", \"Queen\", \"home\", \"bedroom\", \"studio\", \"Downtown\", \"Anne\", \"Seattle\", \"bath\", \"Studio\", \"Suite\", \"Cozy\", \"apartment\", \"Room\", \"Home\", \"Modern\", \"Capital\", \"Premium\", \"WA\", \"space\", \"SLU\", \"Avenue\", \"Camlin\", \"Hidden\", \"Mid\", \"Century\", \"Trendy\", \"Blocks\", \"Blue\", \"water\", \"Peace\", \"Chroma\", \"Domicile\", \"East\", \"Delightful\", \"Mountain\", \"Welcome\", \"Huge\", \"12\", \"Kitchen\", \"Convenience\", \"Modern&New\", \"drive\", \"Relax\", \"1BR/1BA\", \"APT\", \"Entrance\", \"Corporate\", \"Getaway\", \"Coed\", \"10\", \"Bedroom\", \"min\", \"Luxurious\", \"Room\", \"New\", \"Kirkland\", \"Private\", \"Bed\", \"West\", \"Seattle\", \"NEW\", \"Redmond\", \"modern\", \"2\", \"Suite\", \"Modern\", \"Apartment\", \"Hill\", \"Apt\", \"Home\", \"1\", \"Bellevue\", \"Close\", \"Lake\", \"Capitol\", \"View\"], \"Freq\": [86.0, 94.0, 37.0, 36.0, 37.0, 40.0, 80.0, 29.0, 46.0, 37.0, 30.0, 49.0, 22.0, 38.0, 22.0, 49.0, 40.0, 20.0, 81.0, 38.0, 28.0, 23.0, 45.0, 120.0, 66.0, 17.0, 18.0, 23.0, 36.0, 20.0, 15.136188507080078, 15.506168365478516, 14.514779090881348, 13.340176582336426, 11.308499336242676, 35.218658447265625, 28.1064510345459, 10.838156700134277, 8.018545150756836, 21.179718017578125, 7.003190517425537, 6.944530963897705, 36.96491622924805, 6.091887950897217, 5.708818435668945, 5.592090606689453, 5.754424095153809, 5.332468032836914, 5.932991981506348, 32.76604461669922, 4.73817777633667, 4.630819797515869, 4.498891353607178, 5.411766052246094, 4.479466915130615, 5.677846431732178, 4.307522773742676, 4.272161483764648, 6.318100452423096, 9.4391450881958, 20.47116470336914, 31.161270141601562, 67.5870132446289, 36.31953430175781, 69.2903060913086, 36.67836380004883, 8.647059440612793, 12.848237037658691, 31.885242462158203, 14.730429649353027, 31.035385131835938, 18.211835861206055, 16.988525390625, 15.233996391296387, 58.108394622802734, 11.78986644744873, 22.9234676361084, 17.00334930419922, 11.038893699645996, 51.98240661621094, 22.05094337463379, 35.14146041870117, 18.625091552734375, 21.149169921875, 27.022241592407227, 21.278846740722656, 23.314714431762695, 24.29402732849121, 21.575252532958984, 18.555824279785156, 18.723390579223633, 29.127649307250977, 13.080012321472168, 11.967409133911133, 9.331758499145508, 7.998422622680664, 6.860419273376465, 8.501317977905273, 12.134444236755371, 5.512638092041016, 5.268901348114014, 5.5120978355407715, 9.26540470123291, 11.105545997619629, 5.129268646240234, 5.01677131652832, 5.041805267333984, 4.933135986328125, 4.842135429382324, 5.370125770568848, 8.385076522827148, 7.281254768371582, 4.314539432525635, 4.312272548675537, 13.009649276733398, 4.200891017913818, 4.03260612487793, 17.581361770629883, 3.7649447917938232, 3.685635805130005, 17.69869613647461, 7.8733086585998535, 12.593803405761719, 15.268413543701172, 7.590339183807373, 28.744558334350586, 11.391607284545898, 40.26904296875, 8.575230598449707, 14.250251770019531, 14.149660110473633, 11.152372360229492, 20.09071922302246, 22.6522274017334, 31.380857467651367, 9.942822456359863, 21.753293991088867, 14.571820259094238, 37.38252258300781, 36.7275505065918, 18.2351016998291, 18.340246200561523, 17.607736587524414, 30.1634521484375, 30.55994987487793, 21.208707809448242, 24.052730560302734, 16.21347999572754, 26.77540397644043, 22.197132110595703, 16.73940658569336, 19.162559509277344, 15.848243713378906, 18.345800399780273, 17.109189987182617, 16.83322525024414, 17.79230499267578, 17.912158966064453, 15.985872268676758, 36.06593322753906, 14.075716972351074, 13.462733268737793, 13.118612289428711, 8.711170196533203, 12.673089981079102, 10.552160263061523, 7.090444087982178, 12.837170600891113, 8.136713027954102, 5.900218486785889, 7.732054233551025, 5.736776828765869, 8.271292686462402, 5.633846282958984, 5.380324840545654, 6.752685546875, 4.9359540939331055, 4.877338409423828, 4.828926086425781, 5.003625869750977, 5.040072441101074, 5.429093360900879, 8.072417259216309, 5.3836870193481445, 5.51694917678833, 4.428159713745117, 4.3415961265563965, 4.76953125, 6.5338454246521, 8.0669584274292, 11.45932388305664, 22.827266693115234, 15.337121963500977, 14.62209701538086, 11.259325981140137, 35.643558502197266, 19.829845428466797, 6.796065330505371, 8.027911186218262, 52.86317825317383, 26.294410705566406, 13.447410583496094, 11.19294261932373, 24.632646560668945, 12.231947898864746, 24.464818954467773, 30.277976989746094, 14.708178520202637, 38.51539993286133, 23.337326049804688, 16.61411476135254, 31.20320701599121, 48.068660736083984, 34.624046325683594, 32.290191650390625, 17.28680992126465, 21.956111907958984, 13.450004577636719, 21.359790802001953, 16.9412784576416, 18.096933364868164, 17.76842498779297, 18.999393463134766, 18.95171356201172, 17.189990997314453, 15.787550926208496, 15.80758285522461, 16.05512046813965, 15.967613220214844, 36.97810745239258, 21.512170791625977, 9.527006149291992, 17.60165786743164, 9.792091369628906, 8.73335075378418, 7.113503932952881, 6.941925048828125, 10.386253356933594, 16.12274169921875, 5.689542293548584, 6.4488959312438965, 5.677011489868164, 18.127037048339844, 5.3605194091796875, 5.770286560058594, 5.102093696594238, 5.64326286315918, 4.847159385681152, 6.512231826782227, 8.139400482177734, 5.498119354248047, 6.132317543029785, 4.154277324676514, 4.231266498565674, 5.518033504486084, 3.9190001487731934, 3.750467300415039, 3.7644262313842773, 3.7386138439178467, 10.035713195800781, 9.396753311157227, 7.656710624694824, 5.537349224090576, 16.64291763305664, 9.661299705505371, 21.950719833374023, 13.229125022888184, 11.81081485748291, 13.284327507019043, 15.529889106750488, 28.80187225341797, 29.746816635131836, 31.75149917602539, 27.442241668701172, 15.414973258972168, 20.565492630004883, 40.1936149597168, 29.36815643310547, 35.759429931640625, 22.69297218322754, 21.832576751708984, 21.345314025878906, 15.187662124633789, 26.177947998046875, 17.7465763092041, 29.928142547607422, 13.528701782226562, 20.25574493408203, 19.167396545410156, 19.20636749267578, 15.472794532775879, 17.72691535949707, 17.33730125427246, 15.87302017211914, 21.574203491210938, 13.198144912719727, 13.585090637207031, 11.80918025970459, 19.304555892944336, 16.942285537719727, 10.759485244750977, 9.1570405960083, 16.890649795532227, 16.06977081298828, 7.681346893310547, 7.541627883911133, 10.491669654846191, 7.317506313323975, 7.290061950683594, 11.99720287322998, 11.99720287322998, 7.928695201873779, 8.414822578430176, 9.3817720413208, 6.369842529296875, 5.932276248931885, 8.253506660461426, 6.471367359161377, 5.316763877868652, 5.361850261688232, 7.9462480545043945, 5.154397487640381, 4.926613807678223, 4.402516841888428, 9.078646659851074, 15.659273147583008, 17.853845596313477, 10.28285026550293, 13.359478950500488, 41.39474105834961, 14.99767017364502, 9.840677261352539, 38.84807205200195, 21.82758140563965, 18.996328353881836, 37.85981750488281, 16.69009780883789, 23.798749923706055, 39.79821014404297, 12.468798637390137, 11.664896011352539, 12.741190910339355, 23.89451789855957, 24.345197677612305, 22.614160537719727, 23.115718841552734, 23.93897819519043, 16.95162010192871, 19.79461097717285, 18.339262008666992, 15.911561012268066, 13.177867889404297, 15.023093223571777, 14.109838485717773, 13.334206581115723], \"Total\": [86.0, 94.0, 37.0, 36.0, 37.0, 40.0, 80.0, 29.0, 46.0, 37.0, 30.0, 49.0, 22.0, 38.0, 22.0, 49.0, 40.0, 20.0, 81.0, 38.0, 28.0, 23.0, 45.0, 120.0, 66.0, 17.0, 18.0, 23.0, 36.0, 20.0, 15.785603523254395, 16.187532424926758, 15.170317649841309, 13.989909172058105, 11.965664863586426, 37.4968376159668, 30.072093963623047, 11.776086807250977, 8.732534408569336, 23.13290023803711, 7.653994560241699, 7.597514629364014, 40.83510208129883, 6.737137794494629, 6.370404243469238, 6.253852367401123, 6.4442524909973145, 5.973019123077393, 6.6959052085876465, 37.021446228027344, 5.382719993591309, 5.279107570648193, 5.142168045043945, 6.191745758056641, 5.125629425048828, 6.515707015991211, 4.954751491546631, 4.9170331954956055, 7.297745227813721, 10.925594329833984, 23.88233757019043, 38.30894470214844, 86.87493896484375, 46.671749114990234, 94.10174560546875, 49.31437683105469, 10.43530559539795, 16.28700828552246, 46.443424224853516, 19.232988357543945, 45.87982177734375, 26.52501106262207, 24.79220962524414, 21.82578468322754, 120.27420043945312, 15.796146392822266, 39.754791259765625, 27.007246017456055, 14.654387474060059, 196.55282592773438, 46.59230041503906, 109.35395812988281, 36.436824798583984, 47.794429779052734, 115.67901611328125, 70.19859313964844, 107.21440887451172, 129.57546997070312, 99.82583618164062, 54.060577392578125, 91.02705383300781, 29.8673152923584, 13.722986221313477, 12.820302963256836, 10.065528869628906, 8.648049354553223, 7.5010247230529785, 9.414703369140625, 13.470891952514648, 6.173574924468994, 5.909422397613525, 6.195580005645752, 10.419598579406738, 12.495285034179688, 5.774765491485596, 5.655476093292236, 5.684952735900879, 5.5832438468933105, 5.481240272521973, 6.090418815612793, 9.597308158874512, 8.339828491210938, 4.95496940612793, 4.95621395111084, 14.962895393371582, 4.8492937088012695, 4.667382717132568, 20.572473526000977, 4.417714595794678, 4.324978351593018, 20.92070770263672, 9.312877655029297, 15.339192390441895, 18.97957992553711, 9.17011833190918, 40.01694107055664, 15.272491455078125, 66.96308135986328, 11.072287559509277, 21.04523468017578, 21.563589096069336, 16.05010223388672, 36.06725311279297, 43.3145751953125, 70.68936920166016, 14.13098430633545, 44.47005844116211, 24.83516502380371, 110.88778686523438, 115.67901611328125, 38.00402069091797, 39.287811279296875, 38.016021728515625, 109.35395812988281, 131.31886291503906, 66.73043823242188, 107.21440887451172, 40.14891815185547, 196.55282592773438, 129.57546997070312, 54.834449768066406, 99.82583618164062, 43.86180877685547, 91.02705383300781, 66.61043548583984, 62.08380126953125, 94.88603210449219, 120.27420043945312, 98.21821594238281, 36.91360092163086, 14.712349891662598, 14.10520076751709, 13.999643325805664, 9.35146713256836, 13.628046989440918, 11.378555297851562, 7.72834587097168, 14.043360710144043, 9.004618644714355, 6.541623115539551, 8.595617294311523, 6.380771636962891, 9.23361587524414, 6.291300296783447, 6.0286760330200195, 7.60311222076416, 5.571103096008301, 5.513606071472168, 5.466152191162109, 5.667269706726074, 5.708555221557617, 6.157562732696533, 9.175176620483398, 6.133782386779785, 6.287498474121094, 5.0639495849609375, 4.978307247161865, 5.483815670013428, 7.535330772399902, 9.315126419067383, 13.568010330200195, 28.227643966674805, 19.265674591064453, 18.32562828063965, 13.751739501953125, 49.40697479248047, 25.80837059020996, 7.935662269592285, 9.56115436553955, 80.0945053100586, 36.70098114013672, 17.525564193725586, 14.400527000427246, 38.27817153930664, 16.2392520904541, 41.28369903564453, 55.73413848876953, 21.391090393066406, 80.37313842773438, 43.654945373535156, 28.34612274169922, 77.60953521728516, 196.55282592773438, 110.88778686523438, 98.21821594238281, 42.99474334716797, 99.82583618164062, 23.27383041381836, 107.21440887451172, 60.91437530517578, 83.03170013427734, 81.22479248046875, 131.31886291503906, 129.57546997070312, 73.19574737548828, 51.985599517822266, 65.90068054199219, 115.67901611328125, 109.35395812988281, 37.902442932128906, 22.542165756225586, 10.214351654052734, 18.92549705505371, 10.649011611938477, 9.508115768432617, 7.760318279266357, 7.580819606781006, 11.360993385314941, 17.85515594482422, 6.331592082977295, 7.180713176727295, 6.333253860473633, 20.283470153808594, 6.003458023071289, 6.483422756195068, 5.745725631713867, 6.372604846954346, 5.494307994842529, 7.441244125366211, 9.305293083190918, 6.306746482849121, 7.038976669311523, 4.792792320251465, 4.916618347167969, 6.4147233963012695, 4.57207727432251, 4.386520862579346, 4.403733253479004, 4.374885082244873, 11.880988121032715, 11.136509895324707, 9.403624534606934, 6.645876884460449, 22.054285049438477, 12.64134693145752, 34.743072509765625, 18.966602325439453, 16.541526794433594, 19.8196964263916, 24.39198875427246, 55.35667419433594, 66.61043548583984, 73.19574737548828, 61.7747802734375, 27.972684860229492, 43.7612190246582, 129.57546997070312, 91.02705383300781, 131.31886291503906, 60.91437530517578, 62.08380126953125, 66.73043823242188, 33.71628189086914, 120.27420043945312, 51.985599517822266, 196.55282592773438, 28.31705093383789, 109.35395812988281, 98.21821594238281, 110.88778686523438, 48.144351959228516, 94.88603210449219, 99.82583618164062, 107.21440887451172, 22.23113250732422, 13.839123725891113, 14.302136421203613, 12.472838401794434, 20.418304443359375, 17.933927536010742, 11.40115737915039, 9.802351951599121, 18.141529083251953, 17.320716857910156, 8.33433723449707, 8.19227123260498, 11.398870468139648, 7.960097312927246, 7.9341607093811035, 13.075414657592773, 13.075414657592773, 8.664536476135254, 9.208951950073242, 10.276101112365723, 7.011529922485352, 6.578566551208496, 9.235527992248535, 7.2420268058776855, 5.958989143371582, 6.018099784851074, 8.919354438781738, 5.798939228057861, 5.567002296447754, 5.04654598236084, 11.063372611999512, 20.750444412231445, 24.218002319335938, 13.276912689208984, 18.88888931274414, 81.22479248046875, 23.421066284179688, 13.003639221191406, 94.88603210449219, 44.87359619140625, 38.218238830566406, 131.31886291503906, 33.02311706542969, 65.90068054199219, 196.55282592773438, 20.808774948120117, 18.358680725097656, 22.034618377685547, 83.03170013427734, 98.21821594238281, 107.21440887451172, 115.67901611328125, 129.57546997070312, 54.060577392578125, 99.82583618164062, 77.60953521728516, 61.7747802734375, 26.611581802368164, 80.0945053100586, 91.02705383300781, 70.19859313964844], \"Category\": [\"Default\", \"Default\", \"Default\", \"Default\", \"Default\", \"Default\", \"Default\", \"Default\", \"Default\", \"Default\", \"Default\", \"Default\", \"Default\", \"Default\", \"Default\", \"Default\", \"Default\", \"Default\", \"Default\", \"Default\", \"Default\", \"Default\", \"Default\", \"Default\", \"Default\", \"Default\", \"Default\", \"Default\", \"Default\", \"Default\", \"Topic1\", \"Topic1\", \"Topic1\", \"Topic1\", \"Topic1\", \"Topic1\", \"Topic1\", \"Topic1\", \"Topic1\", \"Topic1\", \"Topic1\", \"Topic1\", \"Topic1\", \"Topic1\", \"Topic1\", \"Topic1\", \"Topic1\", \"Topic1\", \"Topic1\", \"Topic1\", \"Topic1\", \"Topic1\", \"Topic1\", \"Topic1\", \"Topic1\", \"Topic1\", \"Topic1\", \"Topic1\", \"Topic1\", \"Topic1\", \"Topic1\", \"Topic1\", \"Topic1\", \"Topic1\", \"Topic1\", \"Topic1\", \"Topic1\", \"Topic1\", \"Topic1\", \"Topic1\", \"Topic1\", \"Topic1\", \"Topic1\", \"Topic1\", \"Topic1\", \"Topic1\", \"Topic1\", \"Topic1\", \"Topic1\", \"Topic1\", \"Topic1\", \"Topic1\", \"Topic1\", \"Topic1\", \"Topic1\", \"Topic1\", \"Topic1\", \"Topic1\", \"Topic1\", \"Topic1\", \"Topic1\", \"Topic2\", \"Topic2\", \"Topic2\", \"Topic2\", \"Topic2\", \"Topic2\", \"Topic2\", \"Topic2\", \"Topic2\", \"Topic2\", \"Topic2\", \"Topic2\", \"Topic2\", \"Topic2\", \"Topic2\", \"Topic2\", \"Topic2\", \"Topic2\", \"Topic2\", \"Topic2\", \"Topic2\", \"Topic2\", \"Topic2\", \"Topic2\", \"Topic2\", \"Topic2\", \"Topic2\", \"Topic2\", \"Topic2\", \"Topic2\", \"Topic2\", \"Topic2\", \"Topic2\", \"Topic2\", \"Topic2\", \"Topic2\", \"Topic2\", \"Topic2\", \"Topic2\", \"Topic2\", \"Topic2\", \"Topic2\", \"Topic2\", \"Topic2\", \"Topic2\", \"Topic2\", \"Topic2\", \"Topic2\", \"Topic2\", \"Topic2\", \"Topic2\", \"Topic2\", \"Topic2\", \"Topic2\", \"Topic2\", \"Topic2\", \"Topic2\", \"Topic2\", \"Topic2\", \"Topic2\", \"Topic2\", \"Topic2\", \"Topic2\", \"Topic2\", \"Topic2\", \"Topic2\", \"Topic2\", \"Topic2\", \"Topic3\", \"Topic3\", \"Topic3\", \"Topic3\", \"Topic3\", \"Topic3\", \"Topic3\", \"Topic3\", \"Topic3\", \"Topic3\", \"Topic3\", \"Topic3\", \"Topic3\", \"Topic3\", \"Topic3\", \"Topic3\", \"Topic3\", \"Topic3\", \"Topic3\", \"Topic3\", \"Topic3\", \"Topic3\", \"Topic3\", \"Topic3\", \"Topic3\", \"Topic3\", \"Topic3\", \"Topic3\", \"Topic3\", \"Topic3\", \"Topic3\", \"Topic3\", \"Topic3\", \"Topic3\", \"Topic3\", \"Topic3\", \"Topic3\", \"Topic3\", \"Topic3\", \"Topic3\", \"Topic3\", \"Topic3\", \"Topic3\", \"Topic3\", \"Topic3\", \"Topic3\", \"Topic3\", \"Topic3\", \"Topic3\", \"Topic3\", \"Topic3\", \"Topic3\", \"Topic3\", \"Topic3\", \"Topic3\", \"Topic3\", \"Topic3\", \"Topic3\", \"Topic3\", \"Topic3\", \"Topic3\", \"Topic3\", \"Topic3\", \"Topic3\", \"Topic3\", \"Topic3\", \"Topic3\", \"Topic3\", \"Topic3\", \"Topic3\", \"Topic4\", \"Topic4\", \"Topic4\", \"Topic4\", \"Topic4\", \"Topic4\", \"Topic4\", \"Topic4\", \"Topic4\", \"Topic4\", \"Topic4\", \"Topic4\", \"Topic4\", \"Topic4\", \"Topic4\", \"Topic4\", \"Topic4\", \"Topic4\", \"Topic4\", \"Topic4\", \"Topic4\", \"Topic4\", \"Topic4\", \"Topic4\", \"Topic4\", \"Topic4\", \"Topic4\", \"Topic4\", \"Topic4\", \"Topic4\", \"Topic4\", \"Topic4\", \"Topic4\", \"Topic4\", \"Topic4\", \"Topic4\", \"Topic4\", \"Topic4\", \"Topic4\", \"Topic4\", \"Topic4\", \"Topic4\", \"Topic4\", \"Topic4\", \"Topic4\", \"Topic4\", \"Topic4\", \"Topic4\", \"Topic4\", \"Topic4\", \"Topic4\", \"Topic4\", \"Topic4\", \"Topic4\", \"Topic4\", \"Topic4\", \"Topic4\", \"Topic4\", \"Topic4\", \"Topic4\", \"Topic4\", \"Topic4\", \"Topic4\", \"Topic4\", \"Topic4\", \"Topic5\", \"Topic5\", \"Topic5\", \"Topic5\", \"Topic5\", \"Topic5\", \"Topic5\", \"Topic5\", \"Topic5\", \"Topic5\", \"Topic5\", \"Topic5\", \"Topic5\", \"Topic5\", \"Topic5\", \"Topic5\", \"Topic5\", \"Topic5\", \"Topic5\", \"Topic5\", \"Topic5\", \"Topic5\", \"Topic5\", \"Topic5\", \"Topic5\", \"Topic5\", \"Topic5\", \"Topic5\", \"Topic5\", \"Topic5\", \"Topic5\", \"Topic5\", \"Topic5\", \"Topic5\", \"Topic5\", \"Topic5\", \"Topic5\", \"Topic5\", \"Topic5\", \"Topic5\", \"Topic5\", \"Topic5\", \"Topic5\", \"Topic5\", \"Topic5\", \"Topic5\", \"Topic5\", \"Topic5\", \"Topic5\", \"Topic5\", \"Topic5\", \"Topic5\", \"Topic5\", \"Topic5\", \"Topic5\", \"Topic5\", \"Topic5\", \"Topic5\", \"Topic5\", \"Topic5\", \"Topic5\"], \"logprob\": [30.0, 29.0, 28.0, 27.0, 26.0, 25.0, 24.0, 23.0, 22.0, 21.0, 20.0, 19.0, 18.0, 17.0, 16.0, 15.0, 14.0, 13.0, 12.0, 11.0, 10.0, 9.0, 8.0, 7.0, 6.0, 5.0, 4.0, 3.0, 2.0, 1.0, -5.441299915313721, -5.417200088500977, -5.4832000732421875, -5.567599773406982, -5.732800006866455, -4.596799850463867, -4.822400093078613, -5.775300025939941, -6.076600074768066, -5.105400085449219, -6.211999893188477, -6.220399856567383, -4.548399925231934, -6.351399898529053, -6.416399955749512, -6.436999797821045, -6.408400058746338, -6.484600067138672, -6.377900123596191, -4.669000148773193, -6.602700233459473, -6.625699996948242, -6.654600143432617, -6.469799995422363, -6.658899784088135, -6.421800136566162, -6.697999954223633, -6.706299781799316, -6.315000057220459, -5.91349983215332, -5.139400005340576, -4.719200134277344, -3.944999933242798, -4.565999984741211, -3.920099973678589, -4.55620002746582, -6.001200199127197, -5.605199813842773, -4.696300029754639, -5.468500137329102, -4.723299980163574, -5.25629997253418, -5.325900077819824, -5.434899806976318, -4.096099853515625, -5.691199779510498, -5.026199817657471, -5.324999809265137, -5.756999969482422, -4.207499980926514, -5.065000057220459, -4.598999977111816, -5.23390007019043, -5.106800079345703, -4.861700057983398, -5.1006999015808105, -5.009300231933594, -4.968200206756592, -5.086900234222412, -5.237599849700928, -5.228600025177002, -4.747300148010254, -5.547900199890137, -5.6367998123168945, -5.8856000900268555, -6.039700031280518, -6.19320011138916, -5.978799819946289, -5.622900009155273, -6.4120001792907715, -6.457200050354004, -6.4120001792907715, -5.8927001953125, -5.71150016784668, -6.484000205993652, -6.506199836730957, -6.501200199127197, -6.5229997634887695, -6.541600227355957, -6.4380998611450195, -5.992499828338623, -6.133699893951416, -6.6570000648498535, -6.65749979019165, -5.553299903869629, -6.683700084686279, -6.724599838256836, -5.252200126647949, -6.793300151824951, -6.814599990844727, -5.245500087738037, -6.055500030517578, -5.5858001708984375, -5.393199920654297, -6.092100143432617, -4.760499954223633, -5.686100006103516, -4.423399925231934, -5.970099925994873, -5.462200164794922, -5.469299793243408, -5.707300186157227, -5.11870002746582, -4.998700141906738, -4.672800064086914, -5.8221001625061035, -5.0391998291015625, -5.439899921417236, -4.497799873352051, -4.515500068664551, -5.21560001373291, -5.20989990234375, -5.250699996948242, -4.712399959564209, -4.6992998123168945, -5.064599990844727, -4.938700199127197, -5.333199977874756, -4.831500053405762, -5.019000053405762, -5.301199913024902, -5.165999889373779, -5.355899810791016, -5.20959997177124, -5.279399871826172, -5.295599937438965, -5.240200042724609, -5.233500003814697, -5.347300052642822, -4.518099784851074, -5.459000110626221, -5.503499984741211, -5.529399871826172, -5.938799858093262, -5.563899993896484, -5.747099876403809, -6.144700050354004, -5.55109977722168, -6.006999969482422, -6.328400135040283, -6.058000087738037, -6.356500148773193, -5.990600109100342, -6.374599933624268, -6.4207000732421875, -6.19350004196167, -6.506899833679199, -6.518799781799316, -6.528800010681152, -6.493199825286865, -6.486000061035156, -6.411600112915039, -6.014999866485596, -6.420000076293945, -6.395599842071533, -6.6153998374938965, -6.635200023651123, -6.541200160980225, -6.226399898529053, -6.015600204467773, -5.664599895477295, -4.975500106811523, -5.3730998039245605, -5.420899868011475, -5.682199954986572, -4.529799938201904, -5.116199970245361, -6.187099933624268, -6.020500183105469, -4.135700225830078, -4.834099769592285, -5.5046000480651855, -5.6880998611450195, -4.8993000984191895, -5.599400043487549, -4.906199932098389, -4.692999839782715, -5.414999961853027, -4.452400207519531, -4.953400135040283, -5.2932000160217285, -4.662899971008301, -4.230800151824951, -4.558899879455566, -4.628600120544434, -5.253499984741211, -5.014400005340576, -5.50439977645874, -5.041900157928467, -5.27370023727417, -5.207699775695801, -5.22599983215332, -5.158999919891357, -5.161499977111816, -5.259099960327148, -5.344200134277344, -5.342899799346924, -5.327400207519531, -5.332799911499023, -4.457200050354004, -4.998899936676025, -5.813399791717529, -5.19950008392334, -5.785900115966797, -5.900300025939941, -6.105500221252441, -6.129899978637695, -5.7270002365112305, -5.287300109863281, -6.32889986038208, -6.20359992980957, -6.331099987030029, -5.170100212097168, -6.388400077819824, -6.314799785614014, -6.43779993057251, -6.336999893188477, -6.489099979400635, -6.19379997253418, -5.970799922943115, -6.363100051879883, -6.253900051116943, -6.6433000564575195, -6.625, -6.359499931335449, -6.701600074768066, -6.74560022354126, -6.7418999671936035, -6.748799800872803, -5.761300086975098, -5.827099800109863, -6.031899929046631, -6.355999946594238, -5.255499839782715, -5.7993998527526855, -4.978700160980225, -5.485099792480469, -5.598499774932861, -5.480899810791016, -5.324699878692627, -4.706999778747559, -4.674799919128418, -4.609499931335449, -4.75540018081665, -5.332099914550781, -5.043900012969971, -4.373799800872803, -4.687600135803223, -4.490699768066406, -4.945400238037109, -4.984099864959717, -5.006700038909912, -5.3470001220703125, -4.802599906921387, -5.191299915313721, -4.668700218200684, -5.462699890136719, -5.059000015258789, -5.114299774169922, -5.112199783325195, -5.328400135040283, -5.192399978637695, -5.214600086212158, -5.3028998374938965, -4.947000026702881, -5.438499927520752, -5.409599781036377, -5.549699783325195, -5.058199882507324, -5.188700199127197, -5.6427001953125, -5.803999900817871, -5.191800117492676, -5.241600036621094, -5.979700088500977, -5.9980998039245605, -5.667900085449219, -6.028299808502197, -6.0320000648498535, -5.533899784088135, -5.533899784088135, -5.947999954223633, -5.888500213623047, -5.779799938201904, -6.166999816894531, -6.238100051879883, -5.907899856567383, -6.151100158691406, -6.347700119018555, -6.339200019836426, -5.945799827575684, -6.378699779510498, -6.423900127410889, -6.536399841308594, -5.812600135803223, -5.267499923706055, -5.136300086975098, -5.6880998611450195, -5.426300048828125, -4.295400142669678, -5.3105998039245605, -5.73199987411499, -4.35890007019043, -4.935400009155273, -5.0742998123168945, -4.3846001625061035, -5.203700065612793, -4.848899841308594, -4.334700107574463, -5.495299816131592, -5.5619001388549805, -5.473700046539307, -4.844900131225586, -4.826200008392334, -4.900000095367432, -4.877999782562256, -4.8429999351501465, -5.188199996948242, -5.033100128173828, -5.109499931335449, -5.251500129699707, -5.440000057220459, -5.308899879455566, -5.371699810028076, -5.428199768066406], \"loglift\": [30.0, 29.0, 28.0, 27.0, 26.0, 25.0, 24.0, 23.0, 22.0, 21.0, 20.0, 19.0, 18.0, 17.0, 16.0, 15.0, 14.0, 13.0, 12.0, 11.0, 10.0, 9.0, 8.0, 7.0, 6.0, 5.0, 4.0, 3.0, 2.0, 1.0, 1.503499984741211, 1.502500057220459, 1.5013999938964844, 1.4980000257492065, 1.4889999628067017, 1.482800006866455, 1.4779000282287598, 1.462499976158142, 1.4601999521255493, 1.4572999477386475, 1.4566999673843384, 1.4557000398635864, 1.4459999799728394, 1.4448000192642212, 1.4358999729156494, 1.4336999654769897, 1.4322999715805054, 1.4321000576019287, 1.4246000051498413, 1.4234000444412231, 1.4179999828338623, 1.4144999980926514, 1.4119000434875488, 1.4108999967575073, 1.4107999801635742, 1.4078999757766724, 1.405500054359436, 1.4048999547958374, 1.4013999700546265, 1.3992999792099, 1.3913999795913696, 1.3389999866485596, 1.2944999933242798, 1.294700026512146, 1.2395000457763672, 1.249500036239624, 1.3574999570846558, 1.30840003490448, 1.1693999767303467, 1.2788000106811523, 1.1546000242233276, 1.1694999933242798, 1.1675000190734863, 1.1859999895095825, 0.8180999755859375, 1.253000020980835, 0.9950000047683716, 1.082800030708313, 1.2621999979019165, 0.21549999713897705, 0.7973999977111816, 0.41029998660087585, 0.8744999766349792, 0.7301999926567078, 0.09139999747276306, 0.35190001130104065, 0.01979999989271164, -0.12849999964237213, 0.01360000018030405, 0.47620001435279846, -0.03590000048279762, 1.5599000453948975, 1.5369000434875488, 1.5161000490188599, 1.5091999769210815, 1.5068000555038452, 1.4957000017166138, 1.4829000234603882, 1.4803999662399292, 1.4716999530792236, 1.4701999425888062, 1.468000054359436, 1.4674999713897705, 1.4670000076293945, 1.4664000272750854, 1.4651000499725342, 1.464900016784668, 1.4610999822616577, 1.4609999656677246, 1.4591000080108643, 1.4499000310897827, 1.4492000341415405, 1.4464999437332153, 1.4457999467849731, 1.4450000524520874, 1.4414000511169434, 1.4386999607086182, 1.4278000593185425, 1.4249999523162842, 1.4249999523162842, 1.4177000522613525, 1.4170000553131104, 1.3876999616622925, 1.367400050163269, 1.395900011062622, 1.25409996509552, 1.2918000221252441, 1.0764000415802002, 1.3293999433517456, 1.1950000524520874, 1.163599967956543, 1.220900058746338, 0.9998000264167786, 0.9366999864578247, 0.7728000283241272, 1.2333999872207642, 0.8698999881744385, 1.051800012588501, 0.4975999891757965, 0.4375999867916107, 0.850600004196167, 0.8230999708175659, 0.8152999877929688, 0.296999990940094, 0.12700000405311584, 0.43869999051094055, 0.09030000120401382, 0.6782000064849854, -0.40849998593330383, -0.1793999969959259, 0.3984000086784363, -0.06549999862909317, 0.5669000148773193, -0.01679999940097332, 0.2257000058889389, 0.2797999978065491, -0.08900000154972076, -0.31940001249313354, -0.2305999994277954, 1.577299952507019, 1.5563000440597534, 1.5539000034332275, 1.5355000495910645, 1.5296000242233276, 1.527899980545044, 1.5250999927520752, 1.5144000053405762, 1.510699987411499, 1.4991999864578247, 1.4973000288009644, 1.4946000576019287, 1.4940999746322632, 1.4904999732971191, 1.4901000261306763, 1.4867000579833984, 1.4818999767303467, 1.4795000553131104, 1.4779000282287598, 1.4766000509262085, 1.4759999513626099, 1.4759999513626099, 1.4745999574661255, 1.472499966621399, 1.4701000452041626, 1.4697999954223633, 1.4663000106811523, 1.4637000560760498, 1.4609999656677246, 1.457900047302246, 1.4565999507904053, 1.4315999746322632, 1.388200044631958, 1.372499942779541, 1.3746999502182007, 1.4005000591278076, 1.2740000486373901, 1.3370000123977661, 1.4455000162124634, 1.4256999492645264, 1.184999942779541, 1.2670999765396118, 1.3356000185012817, 1.3485000133514404, 1.1597000360488892, 1.3171000480651855, 1.077299952507019, 0.9902999997138977, 1.2259000539779663, 0.8648999929428101, 0.9742000102996826, 1.0663000345230103, 0.689300000667572, 0.19220000505447388, 0.43650001287460327, 0.48809999227523804, 0.6894000172615051, 0.08609999716281891, 1.0521999597549438, -0.012799999676644802, 0.3208000063896179, 0.07699999958276749, 0.08070000261068344, -0.3327000141143799, -0.32190001010894775, 0.1517000049352646, 0.40880000591278076, 0.1729000061750412, -0.3743000030517578, -0.32350000739097595, 1.6117000579833984, 1.5896999835968018, 1.5667999982833862, 1.5638999938964844, 1.5525000095367432, 1.5513999462127686, 1.549399971961975, 1.5484000444412231, 1.5467000007629395, 1.5343999862670898, 1.5295000076293945, 1.5289000272750854, 1.5269999504089355, 1.5240000486373901, 1.5232000350952148, 1.5198999643325806, 1.5176000595092773, 1.5148999691009521, 1.5111000537872314, 1.503100037574768, 1.5025999546051025, 1.4991999864578247, 1.4984999895095825, 1.493499994277954, 1.486299991607666, 1.4859000444412231, 1.482300043106079, 1.4797999858856201, 1.479599952697754, 1.4793000221252441, 1.4675999879837036, 1.466599941253662, 1.430899977684021, 1.4539999961853027, 1.3549000024795532, 1.3675999641418457, 1.177299976348877, 1.2762000560760498, 1.2996000051498413, 1.236299991607666, 1.1849000453948975, 0.9830999970436096, 0.830299973487854, 0.8011999726295471, 0.824999988079071, 1.0405000448226929, 0.8812999725341797, 0.4659000039100647, 0.5052000284194946, 0.33559998869895935, 0.6489999890327454, 0.5914000272750854, 0.4966000020503998, 0.8389000296592712, 0.11159999668598175, 0.5616999864578247, -0.24570000171661377, 0.8978000283241272, -0.04969999939203262, 0.0024999999441206455, -0.11680000275373459, 0.5012999773025513, -0.041200000792741776, -0.11410000175237656, -0.27379998564720154, 1.655400037765503, 1.6380000114440918, 1.6339999437332153, 1.6306999921798706, 1.6292999982833862, 1.628499984741211, 1.627500057220459, 1.617300033569336, 1.6138999462127686, 1.6103999614715576, 1.6038000583648682, 1.6025999784469604, 1.6024999618530273, 1.601199984550476, 1.6007000207901, 1.5993000268936157, 1.5993000268936157, 1.59660005569458, 1.5951999425888062, 1.5943000316619873, 1.589400053024292, 1.5820000171661377, 1.5729999542236328, 1.5729000568389893, 1.5714000463485718, 1.5699000358581543, 1.5699000358581543, 1.5676000118255615, 1.5631999969482422, 1.5489000082015991, 1.4876999855041504, 1.4039000272750854, 1.3804999589920044, 1.429800033569336, 1.3389999866485596, 1.011299967765808, 1.2396999597549438, 1.4067000150680542, 0.7924000024795532, 0.9646999835968018, 0.986299991607666, 0.4417000114917755, 1.003000020980835, 0.6668999791145325, 0.08829999715089798, 1.173200011253357, 1.2318999767303467, 1.1375999450683594, 0.4397999942302704, 0.2904999852180481, 0.1290999948978424, 0.07509999722242355, -0.0034000000450760126, 0.5256999731063843, 0.0674000009894371, 0.24269999563694, 0.328900009393692, 0.9825999736785889, 0.011800000444054604, -0.17890000343322754, 0.024399999529123306]}, \"token.table\": {\"Topic\": [1, 2, 3, 4, 5, 1, 4, 5, 1, 2, 1, 5, 1, 1, 2, 3, 4, 5, 1, 5, 1, 3, 1, 1, 2, 3, 4, 5, 1, 3, 4, 1, 1, 4, 1, 2, 3, 1, 1, 1, 2, 4, 5, 3, 4, 2, 2, 1, 2, 3, 5, 1, 2, 3, 4, 3, 4, 2, 1, 2, 3, 4, 5, 1, 2, 3, 4, 5, 1, 4, 1, 2, 3, 4, 5, 5, 1, 2, 3, 5, 2, 3, 4, 1, 2, 3, 4, 5, 1, 2, 3, 4, 5, 2, 3, 4, 5, 1, 2, 3, 4, 5, 1, 2, 3, 4, 5, 1, 3, 4, 5, 5, 5, 1, 2, 3, 4, 5, 4, 3, 2, 3, 4, 5, 3, 5, 5, 1, 2, 3, 4, 5, 4, 5, 1, 2, 3, 4, 5, 1, 2, 3, 4, 5, 1, 5, 4, 2, 4, 5, 4, 5, 1, 2, 3, 4, 5, 1, 2, 3, 4, 5, 1, 2, 4, 5, 1, 5, 1, 3, 4, 1, 1, 2, 3, 4, 1, 2, 3, 4, 5, 1, 3, 4, 5, 1, 3, 4, 5, 1, 5, 1, 2, 3, 4, 5, 1, 1, 2, 3, 4, 5, 1, 2, 3, 4, 5, 3, 2, 3, 5, 3, 1, 2, 3, 4, 5, 4, 5, 1, 2, 3, 4, 5, 5, 3, 4, 3, 2, 3, 2, 3, 4, 5, 1, 3, 4, 1, 2, 4, 5, 4, 4, 2, 2, 1, 4, 1, 2, 3, 4, 5, 4, 1, 2, 3, 4, 5, 3, 4, 1, 2, 3, 4, 5, 1, 2, 3, 4, 5, 2, 4, 5, 2, 3, 4, 5, 1, 2, 3, 4, 5, 5, 2, 3, 1, 2, 3, 4, 1, 2, 3, 4, 5, 1, 2, 3, 4, 5, 1, 2, 3, 4, 5, 5, 2, 1, 4, 1, 3, 4, 5, 5, 1, 2, 3, 4, 5, 1, 3, 3, 1, 3, 4, 1, 2, 3, 4, 5, 4, 3, 2, 4, 5, 1, 2, 3, 4, 5, 3, 1, 2, 3, 4, 1, 1, 5, 2, 1, 3, 1, 1, 2, 3, 4, 5, 5, 5, 4, 2, 5, 1, 2, 3, 4, 5, 1, 2, 1, 2, 3, 4, 5, 1, 2, 1, 3, 4, 2, 3, 1, 3, 4, 5, 5, 3, 2, 2, 2, 3, 4, 1, 2, 3, 4, 5, 2, 1, 2, 3, 4, 5, 1, 5, 1, 2, 3, 4, 5, 2, 1, 2, 3, 4, 5, 3, 1, 2, 4, 5, 5, 2, 3, 2, 4, 2, 2, 5, 1, 2, 3, 4, 5, 4, 5, 1, 2, 3, 4, 5, 1, 3, 3, 4, 5, 3, 1, 2, 3, 4, 1, 3, 4, 1, 2, 1, 2, 3, 4, 5, 1, 3, 4, 1, 2, 3, 4, 5, 1, 2, 3, 4, 5, 1, 2, 4, 5, 1, 2, 3, 4, 5, 4, 1, 2, 3, 4, 2, 2, 4, 5, 2, 3, 5, 2, 3, 1, 3, 5, 1, 4, 1, 1, 2, 3, 4, 5, 5, 1, 2, 3, 4, 5, 2, 5, 1, 2, 4, 2, 3, 4, 5, 1, 2, 3, 4, 5, 1, 2, 3, 4, 5, 3, 5, 1, 2, 3, 4, 5, 3, 1, 1, 4, 5, 1, 1, 2, 3, 4, 5, 1, 3, 4, 4, 1, 2, 3, 4, 5, 3, 4, 3, 4, 3, 1, 2, 3, 4, 1, 2, 3, 4, 5, 3, 4, 4, 3, 2, 5, 1, 2, 3, 4, 5, 4, 2, 4, 4, 1, 3, 4, 3, 5, 4, 4, 2, 2, 1, 2, 3, 5, 1, 2, 3, 4, 5, 1, 2, 3, 4, 5, 4, 3, 2, 5, 1, 2, 3, 4, 3, 1, 2, 3, 4, 5, 2, 1, 2, 3, 5, 1, 2, 3, 4, 5, 2, 4, 2, 3, 1, 2, 3, 4, 5, 1, 3, 4, 5, 4, 3, 1, 2, 3, 4, 5, 4, 2, 2, 5, 1, 2, 3, 4, 5, 2, 3, 1, 5, 3, 1, 2, 5, 1, 2, 5], \"Freq\": [0.09019510447978973, 0.10308011621236801, 0.39943546056747437, 0.1675051897764206, 0.23193027079105377, 0.21176470816135406, 0.052941177040338516, 0.6882352828979492, 0.9310957789421082, 0.033253420144319534, 0.9471297860145569, 0.8662201166152954, 0.8134986758232117, 0.6756783127784729, 0.043592147529125214, 0.06538822501897812, 0.19616466760635376, 0.021796073764562607, 0.8370975852012634, 0.8981494307518005, 0.7506284117698669, 0.20471684634685516, 0.988772988319397, 0.16861030459403992, 0.14452311396598816, 0.21678467094898224, 0.1806538999080658, 0.2890462279319763, 0.7981821894645691, 0.12279725819826126, 0.06139862909913063, 0.8221717476844788, 0.8960700035095215, 0.8748758435249329, 0.7799100279808044, 0.15598200261592865, 0.051993999630212784, 0.9340963959693909, 0.9418554306030273, 0.823753833770752, 0.09152819961309433, 0.09152819961309433, 0.7926213145256042, 0.9289572238922119, 0.13270817697048187, 0.807270348072052, 0.9473156929016113, 0.7596789598464966, 0.06330657750368118, 0.06330657750368118, 0.12661315500736237, 0.6294606924057007, 0.07405419647693634, 0.22216260433197021, 0.07405419647693634, 0.044361308217048645, 0.9759488105773926, 0.9054455161094666, 0.09618048369884491, 0.1538887768983841, 0.3077775537967682, 0.3462497293949127, 0.09618048369884491, 0.2334044724702835, 0.3198505640029907, 0.13831375539302826, 0.11237993091344833, 0.19882602989673615, 0.09860245883464813, 0.8874221444129944, 0.3514575958251953, 0.1109866052865982, 0.1479821354150772, 0.0739910677075386, 0.3144620358943939, 0.9479239583015442, 0.0705563873052597, 0.24694734811782837, 0.5997292995452881, 0.10583458095788956, 0.8570113778114319, 0.8588181734085083, 0.10735227167606354, 0.05973440781235695, 0.5973441004753113, 0.13440242409706116, 0.1194688156247139, 0.08960161358118057, 0.16413038969039917, 0.31002408266067505, 0.2553139626979828, 0.09118355065584183, 0.18236710131168365, 0.21197272837162018, 0.03028181754052639, 0.27253636717796326, 0.5147908926010132, 0.0984920933842659, 0.08618058264255524, 0.22160720825195312, 0.08618058264255524, 0.5047720074653625, 0.12950268387794495, 0.01618783548474312, 0.16187836229801178, 0.4370715618133545, 0.2590053677558899, 0.809210479259491, 0.10441425442695618, 0.05220712721347809, 0.026103563606739044, 0.9765301942825317, 0.8772798776626587, 0.20932792127132416, 0.1162932887673378, 0.3953971862792969, 0.16281059384346008, 0.1162932887673378, 0.8328533172607422, 0.8974883556365967, 0.15498846769332886, 0.7749423980712891, 0.038747116923332214, 0.038747116923332214, 0.9206756353378296, 0.964814305305481, 0.9896032214164734, 0.20872914791107178, 0.19774341583251953, 0.10985744744539261, 0.3185866177082062, 0.15380042791366577, 0.9028154015541077, 0.15046922862529755, 0.5785466432571411, 0.15092520415782928, 0.025154201313853264, 0.2012336105108261, 0.05030840262770653, 0.1494436264038086, 0.39851635694503784, 0.1494436264038086, 0.1494436264038086, 0.1494436264038086, 0.057734329253435135, 0.9237492680549622, 0.9465597867965698, 0.7076647877693176, 0.2122994363307953, 0.07076647877693176, 0.07647941261529922, 0.9177529215812683, 0.2332502156496048, 0.03588464856147766, 0.5382697582244873, 0.14353859424591064, 0.03588464856147766, 0.09140513092279434, 0.18281026184558868, 0.15995897352695465, 0.47987693548202515, 0.11425641179084778, 0.07515524327754974, 0.22546574473381042, 0.18788811564445496, 0.4885091185569763, 0.1506374329328537, 0.7531871199607849, 0.051905788481235504, 0.7785868048667908, 0.10381157696247101, 0.8905858993530273, 0.0714983195066452, 0.1072474792599678, 0.2859932780265808, 0.5362374186515808, 0.7502883076667786, 0.02027806267142296, 0.08111225068569183, 0.1013903096318245, 0.060834188014268875, 0.6856992840766907, 0.24201150238513947, 0.08067050576210022, 0.8390684723854065, 0.678604781627655, 0.037700265645980835, 0.2262016087770462, 0.037700265645980835, 0.24095869064331055, 0.7710677981376648, 0.022906912490725517, 0.25197604298591614, 0.5268589854240417, 0.022906912490725517, 0.16034838557243347, 0.9310622215270996, 0.0721450075507164, 0.33367064595222473, 0.3156343996524811, 0.17134438455104828, 0.1082175076007843, 0.044974081218242645, 0.4947148859500885, 0.2698444724082947, 0.08994816243648529, 0.11243519932031631, 0.9057565927505493, 0.10898973047733307, 0.8719178438186646, 0.8687199354171753, 0.940325140953064, 0.040265485644340515, 0.6039822697639465, 0.20132742822170258, 0.040265485644340515, 0.08053097128868103, 0.07647941261529922, 0.9177529215812683, 0.4822314381599426, 0.14965802431106567, 0.05820034444332123, 0.2161727100610733, 0.09145768731832504, 0.9233038425445557, 0.8820939660072327, 0.12601342797279358, 0.953697919845581, 0.8461064100265503, 0.8120095729827881, 0.7903230786323547, 0.15806461870670319, 0.09038835018873215, 0.8134951591491699, 0.8374389410018921, 0.12561585009098053, 0.9761903882026672, 0.04534266144037247, 0.136027991771698, 0.7708252668380737, 0.04534266144037247, 0.8345865607261658, 0.8135673403739929, 0.820961594581604, 0.8941407799720764, 0.0528387725353241, 0.951097846031189, 0.0526093989610672, 0.4734845757484436, 0.2367422878742218, 0.0263046994805336, 0.2367422878742218, 0.9407029151916504, 0.04129159823060036, 0.04129159823060036, 0.08258319646120071, 0.08258319646120071, 0.7432487607002258, 0.2636212706565857, 0.6854153275489807, 0.027247227728366852, 0.027247227728366852, 0.708427906036377, 0.10898891091346741, 0.10898891091346741, 0.07893901318311691, 0.47363409399986267, 0.15787802636623383, 0.05262601003050804, 0.23681704699993134, 0.8749555349349976, 0.04860864207148552, 0.04860864207148552, 0.02024005725979805, 0.7286420464515686, 0.1214403435587883, 0.1214403435587883, 0.6890103220939636, 0.06459472328424454, 0.10765786468982697, 0.12918944656848907, 0.021531572565436363, 0.9181469678878784, 0.8688157796859741, 0.06683198362588882, 0.13038496673107147, 0.8475022315979004, 0.06519248336553574, 0.9790146350860596, 0.18522024154663086, 0.16978521645069122, 0.14663268625736237, 0.30870041251182556, 0.18522024154663086, 0.22038382291793823, 0.19033148884773254, 0.22038382291793823, 0.1702965945005417, 0.20034892857074738, 0.1119777113199234, 0.1244196742773056, 0.4852367341518402, 0.1493036150932312, 0.136861652135849, 0.9120528101921082, 0.9248601198196411, 0.7778819799423218, 0.8802047371864319, 0.13082759082317352, 0.18315862119197845, 0.18315862119197845, 0.4971448481082916, 0.8284973502159119, 0.06242625415325165, 0.03745575249195099, 0.6617183089256287, 0.06242625415325165, 0.18727876245975494, 0.9288983941078186, 0.8758783340454102, 0.9515814781188965, 0.07370277494192123, 0.810730516910553, 0.07370277494192123, 0.20362550020217896, 0.45815736055374146, 0.02545318752527237, 0.178172305226326, 0.12726593017578125, 0.9100326895713806, 0.9539151191711426, 0.07690154761075974, 0.15380309522151947, 0.7690154910087585, 0.4721810221672058, 0.17170219123363495, 0.08585109561681747, 0.15023942291736603, 0.10731387138366699, 0.9257043600082397, 0.04637446999549866, 0.6492425799369812, 0.2318723499774933, 0.04637446999549866, 0.807526707649231, 0.055122144520282745, 0.9370764493942261, 0.8795148134231567, 0.9594086408615112, 0.8293694853782654, 0.9292411804199219, 0.21452340483665466, 0.22385050356388092, 0.19586919248104095, 0.14923366904258728, 0.21452340483665466, 0.8308270573616028, 0.8758185505867004, 0.9083202481269836, 0.3844532072544098, 0.5766797661781311, 0.22798877954483032, 0.36478203535079956, 0.09119550883769989, 0.11399438977241516, 0.20518989861011505, 0.9334120750427246, 0.05333783105015755, 0.08913927525281906, 0.11142409592866898, 0.1337089240550995, 0.17827855050563812, 0.49026602506637573, 0.9192970395088196, 0.9332058429718018, 0.11411900818347931, 0.7417735457420349, 0.057059504091739655, 0.8248623609542847, 0.9117739200592041, 0.2664490044116974, 0.5813432335853577, 0.024222634732723236, 0.12111318111419678, 0.8822609186172485, 0.8822590708732605, 0.9122022986412048, 0.9718841910362244, 0.24181564152240753, 0.06045391038060188, 0.7254469394683838, 0.7827343344688416, 0.12661878764629364, 0.011510799638926983, 0.034532397985458374, 0.04604319855570793, 0.8393458127975464, 0.7332488894462585, 0.13814833760261536, 0.0743875652551651, 0.010626795701682568, 0.03188038617372513, 0.916114330291748, 0.939365804195404, 0.06092041730880737, 0.23606662452220917, 0.1446859985589981, 0.2741418778896332, 0.2893719971179962, 0.9709610342979431, 0.08208242803812027, 0.14774838089942932, 0.27908027172088623, 0.3775791823863983, 0.1149154007434845, 0.9147202372550964, 0.05447014421224594, 0.16341044008731842, 0.16341044008731842, 0.6536417603492737, 0.862226665019989, 0.1454361528158188, 0.7998988032341003, 0.08416808396577835, 0.8416808247566223, 0.9360153079032898, 0.6652337312698364, 0.28510016202926636, 0.07377271354198456, 0.18970125913619995, 0.14754542708396912, 0.18970125913619995, 0.4110194146633148, 0.9118844270706177, 0.9305375814437866, 0.26455992460250854, 0.13736765086650848, 0.2442091554403305, 0.15263071656227112, 0.20350763201713562, 0.988415002822876, 0.8151577115058899, 0.08979474008083344, 0.8081526756286621, 0.08979474008083344, 0.9068475365638733, 0.9213539361953735, 0.8803320527076721, 0.08003018796443939, 0.08003018796443939, 0.12315838038921356, 0.7389503121376038, 0.06157919019460678, 0.9060832262039185, 0.07346620410680771, 0.16975678503513336, 0.4385383725166321, 0.16975678503513336, 0.12731759250164032, 0.0707319900393486, 0.9077979922294617, 0.043228473514318466, 0.043228473514318466, 0.06547719985246658, 0.7202492356300354, 0.06547719985246658, 0.06547719985246658, 0.06547719985246658, 0.3200615644454956, 0.2743384838104248, 0.1463138610124588, 0.1828923225402832, 0.0731569305062294, 0.6872605085372925, 0.04581736773252487, 0.04581736773252487, 0.1832694709300995, 0.06108846515417099, 0.1629025787115097, 0.3258051574230194, 0.1934468001127243, 0.24435386061668396, 0.9473803043365479, 0.06944189965724945, 0.1388837993144989, 0.7638609409332275, 0.8355715870857239, 0.9250640869140625, 0.7246930599212646, 0.17492590844631195, 0.0999576672911644, 0.8840988874435425, 0.8663994669914246, 0.9598843455314636, 0.8590255379676819, 0.10737819224596024, 0.035426266491413116, 0.8148040771484375, 0.14170506596565247, 0.1074657142162323, 0.8597257137298584, 0.9145551323890686, 0.29915130138397217, 0.12820769846439362, 0.2136794924736023, 0.17094360291957855, 0.185188889503479, 0.9788747429847717, 0.43938174843788147, 0.12553764879703522, 0.18830646574497223, 0.12553764879703522, 0.10461470484733582, 0.6853538751602173, 0.2492195963859558, 0.8913752436637878, 0.054022740572690964, 0.054022740572690964, 0.046748433262109756, 0.701226532459259, 0.18699373304843903, 0.046748433262109756, 0.04296671226620674, 0.04296671226620674, 0.5585672855377197, 0.04296671226620674, 0.34373369812965393, 0.5214504599571228, 0.08233428746461868, 0.16466857492923737, 0.08233428746461868, 0.13722380995750427, 0.9216458797454834, 0.855733335018158, 0.19726654887199402, 0.030348699539899826, 0.2427895963191986, 0.1669178456068039, 0.3641844093799591, 0.8884329795837402, 0.7803919315338135, 0.8624567985534668, 0.09582853317260742, 0.09582853317260742, 0.9208517074584961, 0.16616694629192352, 0.2700212895870209, 0.2077086865901947, 0.31156301498413086, 0.04154173657298088, 0.10634197294712067, 0.10634197294712067, 0.8507357835769653, 0.8702120780944824, 0.1059432327747345, 0.211886465549469, 0.141257643699646, 0.494401752948761, 0.070628821849823, 0.15821099281311035, 0.7910549640655518, 0.8367190361022949, 0.10458987951278687, 0.9624158143997192, 0.04099706560373306, 0.12299120426177979, 0.16398826241493225, 0.655953049659729, 0.029971329495310783, 0.3146989643573761, 0.2247849702835083, 0.3146989643573761, 0.10489965230226517, 0.9307068586349487, 0.8523966073989868, 0.9254370927810669, 0.9172035455703735, 0.8723987936973572, 0.10904984921216965, 0.13852150738239288, 0.5309990644454956, 0.11543458700180054, 0.20778225362300873, 0.023086916655302048, 0.9415302276611328, 0.8335670828819275, 0.9233829975128174, 0.9020248651504517, 0.05456838756799698, 0.8185258507728577, 0.10913677513599396, 0.954274594783783, 0.8969259262084961, 0.9143097400665283, 0.9390543103218079, 0.9559515118598938, 0.8637568950653076, 0.02612455002963543, 0.28737005591392517, 0.6531137228012085, 0.02612455002963543, 0.08053630590438843, 0.27382344007492065, 0.14496535062789917, 0.3543597459793091, 0.16107261180877686, 0.14391358196735382, 0.028782716020941734, 0.1726962924003601, 0.6332197785377502, 0.028782716020941734, 0.9353482127189636, 0.7898972630500793, 0.8908095955848694, 0.07423413544893265, 0.05545196309685707, 0.5545196533203125, 0.11090392619371414, 0.24953383207321167, 0.9667308330535889, 0.1280898153781891, 0.1280898153781891, 0.04269660264253616, 0.08539320528507233, 0.640449047088623, 0.8955367207527161, 0.9502329230308533, 0.36306506395339966, 0.04538313299417496, 0.5899807214736938, 0.17760594189167023, 0.0683099776506424, 0.23225392401218414, 0.43718385696411133, 0.08197197318077087, 0.05600623041391373, 0.8960996866226196, 0.8128401637077332, 0.1806311458349228, 0.05419400706887245, 0.2167760282754898, 0.18064668774604797, 0.5238754153251648, 0.018064668402075768, 0.05045485869050026, 0.05045485869050026, 0.6559131741523743, 0.2522743046283722, 0.7928017973899841, 0.8034859895706177, 0.06005065143108368, 0.25521525740623474, 0.1501266211271286, 0.450379878282547, 0.09007597714662552, 0.9476289749145508, 0.8070676326751709, 0.8658360242843628, 0.9620905518531799, 0.05931852012872696, 0.17795556783676147, 0.2669333517551422, 0.4448889195919037, 0.02965926006436348, 0.9684323072433472, 0.9285950660705566, 0.8073058724403381, 0.8793862462043762, 0.9752503037452698, 0.09559906274080276, 0.8603915572166443, 0.04779953137040138, 0.7713445425033569, 0.19283613562583923, 0.021426238119602203], \"Term\": [\"1\", \"1\", \"1\", \"1\", \"1\", \"10\", \"10\", \"10\", \"100\", \"100\", \"11\", \"12\", \"13\", \"1BD\", \"1BD\", \"1BD\", \"1BD\", \"1BD\", \"1BD/1BA\", \"1BR/1BA\", \"1br\", \"1br\", \"1st\", \"2\", \"2\", \"2\", \"2\", \"2\", \"2BD\", \"2BD\", \"2BD\", \"2BR/2BA\", \"2BR/2BTH\", \"4BR\", \"6\", \"6\", \"6\", \"7\", \"97\", \"98\", \"98\", \"98\", \"APT\", \"Access\", \"Access\", \"Adorable\", \"Airport\", \"Alfred\", \"Alfred\", \"Alfred\", \"Alfred\", \"Alki\", \"Alki\", \"Alki\", \"Alki\", \"Amazon\", \"Amazon\", \"Amenities\", \"Anne\", \"Anne\", \"Anne\", \"Anne\", \"Anne\", \"Apartment\", \"Apartment\", \"Apartment\", \"Apartment\", \"Apartment\", \"Apartments\", \"Apartments\", \"Apt\", \"Apt\", \"Apt\", \"Apt\", \"Apt\", \"Avenue\", \"BR\", \"BR\", \"BR\", \"BR\", \"BRAND\", \"Balcony\", \"Balcony\", \"Ballard\", \"Ballard\", \"Ballard\", \"Ballard\", \"Ballard\", \"Beautiful\", \"Beautiful\", \"Beautiful\", \"Beautiful\", \"Beautiful\", \"Bed\", \"Bed\", \"Bed\", \"Bed\", \"Bedroom\", \"Bedroom\", \"Bedroom\", \"Bedroom\", \"Bedroom\", \"Bellevue\", \"Bellevue\", \"Bellevue\", \"Bellevue\", \"Bellevue\", \"Belltown\", \"Belltown\", \"Belltown\", \"Belltown\", \"Blocks\", \"Blue\", \"Bright\", \"Bright\", \"Bright\", \"Bright\", \"Bright\", \"Broadway\", \"Bryant\", \"Bungalow\", \"Bungalow\", \"Bungalow\", \"Bungalow\", \"Bus\", \"Camlin\", \"Capital\", \"Capitol\", \"Capitol\", \"Capitol\", \"Capitol\", \"Capitol\", \"Carriage\", \"Carriage\", \"Center\", \"Center\", \"Center\", \"Center\", \"Center\", \"Central\", \"Central\", \"Central\", \"Central\", \"Central\", \"Century\", \"Century\", \"Charm\", \"Chic\", \"Chic\", \"Chic\", \"Chroma\", \"Chroma\", \"City\", \"City\", \"City\", \"City\", \"City\", \"Clean\", \"Clean\", \"Clean\", \"Clean\", \"Clean\", \"Close\", \"Close\", \"Close\", \"Close\", \"Coed\", \"Coed\", \"Columbia\", \"Columbia\", \"Columbia\", \"Comfort\", \"Comfy\", \"Comfy\", \"Comfy\", \"Comfy\", \"Condo\", \"Condo\", \"Condo\", \"Condo\", \"Condo\", \"Condos\", \"Condos\", \"Condos\", \"Convenience\", \"Convention\", \"Convention\", \"Convention\", \"Convention\", \"Corporate\", \"Corporate\", \"Cottage\", \"Cottage\", \"Cottage\", \"Cottage\", \"Cottage\", \"Couples\", \"Cozy\", \"Cozy\", \"Cozy\", \"Cozy\", \"Cozy\", \"Craftsman\", \"Craftsman\", \"Craftsman\", \"Craftsman\", \"Craftsman\", \"Crown\", \"Daylight\", \"Daylight\", \"Delightful\", \"Deluxe\", \"District\", \"District\", \"District\", \"District\", \"District\", \"Domicile\", \"Domicile\", \"Downtown\", \"Downtown\", \"Downtown\", \"Downtown\", \"Downtown\", \"East\", \"Easy\", \"Easy\", \"Eco\", \"Elliott\", \"Emerald\", \"Entire\", \"Entire\", \"Entrance\", \"Entrance\", \"Executive\", \"Executive\", \"F\", \"Family\", \"Family\", \"Family\", \"Family\", \"Farm\", \"Female\", \"Filled\", \"Forest\", \"Friendly\", \"Friendly\", \"Garden\", \"Garden\", \"Garden\", \"Garden\", \"Garden\", \"Georgetown\", \"Getaway\", \"Getaway\", \"Getaway\", \"Getaway\", \"Getaway\", \"Goog\", \"Goog\", \"Green\", \"Green\", \"Green\", \"Green\", \"Green\", \"Greenlake\", \"Greenlake\", \"Greenlake\", \"Greenlake\", \"Greenlake\", \"Greenwood\", \"Greenwood\", \"Greenwood\", \"Guest\", \"Guest\", \"Guest\", \"Guest\", \"Heart\", \"Heart\", \"Heart\", \"Heart\", \"Heart\", \"Hidden\", \"Hideaway\", \"Hideaway\", \"High\", \"High\", \"High\", \"HighRise\", \"Hill\", \"Hill\", \"Hill\", \"Hill\", \"Hill\", \"Home\", \"Home\", \"Home\", \"Home\", \"Home\", \"House\", \"House\", \"House\", \"House\", \"House\", \"Huge\", \"International\", \"Kerry\", \"King\", \"Kirkland\", \"Kirkland\", \"Kirkland\", \"Kirkland\", \"Kitchen\", \"Lake\", \"Lake\", \"Lake\", \"Lake\", \"Lake\", \"Level\", \"Life\", \"Little\", \"Living\", \"Living\", \"Living\", \"Location\", \"Location\", \"Location\", \"Location\", \"Location\", \"Lodge\", \"Long\", \"Luxurious\", \"Luxurious\", \"Luxurious\", \"Luxury\", \"Luxury\", \"Luxury\", \"Luxury\", \"Luxury\", \"Madison\", \"Magnolia\", \"Magnolia\", \"Magnolia\", \"Magnolia\", \"Main\", \"Mid\", \"Mid\", \"Midcentury\", \"Min\", \"Mins\", \"Minutes\", \"Modern\", \"Modern\", \"Modern\", \"Modern\", \"Modern\", \"Modern&New\", \"Mountain\", \"Mt\", \"NEW\", \"NEW\", \"Near\", \"Near\", \"Near\", \"Near\", \"Near\", \"Needle\", \"Needle\", \"New\", \"New\", \"New\", \"New\", \"New\", \"Newcastle\", \"Northgate\", \"Open\", \"Open\", \"Open\", \"Orange\", \"Owl\", \"Park\", \"Park\", \"Park\", \"Park\", \"Peace\", \"Pearl\", \"Perfectly\", \"Pet\", \"Phinney\", \"Phinney\", \"Phinney\", \"Pike\", \"Pike\", \"Pike\", \"Pike\", \"Pike\", \"Pioneer\", \"Place\", \"Place\", \"Place\", \"Place\", \"Place\", \"Pool\", \"Premium\", \"Private\", \"Private\", \"Private\", \"Private\", \"Private\", \"Puget\", \"Queen\", \"Queen\", \"Queen\", \"Queen\", \"Queen\", \"Red\", \"Redmond\", \"Redmond\", \"Redmond\", \"Redmond\", \"Relax\", \"Rental\", \"Rental\", \"Ridge\", \"Ridge\", \"Rise\", \"Rooftop\", \"Rooftop\", \"Room\", \"Room\", \"Room\", \"Room\", \"Room\", \"Royal\", \"SLU\", \"Seattle\", \"Seattle\", \"Seattle\", \"Seattle\", \"Seattle\", \"Shared\", \"Simple\", \"Single\", \"Single\", \"Single\", \"Skyline\", \"Small\", \"Sound\", \"Sound\", \"Sound\", \"South\", \"South\", \"South\", \"Space\", \"Space\", \"Spacious\", \"Spacious\", \"Spacious\", \"Spacious\", \"Spacious\", \"Stay\", \"Stay\", \"Stay\", \"Street\", \"Street\", \"Street\", \"Street\", \"Street\", \"Studio\", \"Studio\", \"Studio\", \"Studio\", \"Studio\", \"Stunning\", \"Stunning\", \"Stunning\", \"Stunning\", \"Suite\", \"Suite\", \"Suite\", \"Suite\", \"Suite\", \"Sweeping\", \"Sweet\", \"Sweet\", \"Sweet\", \"Timberlawn\", \"Town\", \"Townhouse\", \"Townhouse\", \"Townhouse\", \"Travel\", \"Treehouse\", \"Trendy\", \"Ultra\", \"Ultra\", \"Union\", \"Union\", \"Union\", \"Upper\", \"Upper\", \"Upscale\", \"View\", \"View\", \"View\", \"View\", \"View\", \"WA\", \"Walk\", \"Walk\", \"Walk\", \"Walk\", \"Walk\", \"Walkable\", \"Walkable\", \"Walkscore\", \"Walkscore\", \"Walkscore\", \"Wallingford\", \"Wallingford\", \"Wallingford\", \"Wallingford\", \"Washington\", \"Washington\", \"Washington\", \"Washington\", \"Washington\", \"Waterfront\", \"Waterfront\", \"Waterfront\", \"Waterfront\", \"Waterfront\", \"Waterfront+Pike\", \"Welcome\", \"West\", \"West\", \"West\", \"West\", \"West\", \"Westlake\", \"Wonderful\", \"XX\", \"XX\", \"XX\", \"Yard\", \"apartment\", \"apartment\", \"apartment\", \"apartment\", \"apartment\", \"away\", \"away\", \"away\", \"balcony\", \"bath\", \"bath\", \"bath\", \"bath\", \"bath\", \"bathroom\", \"bathroom\", \"beach\", \"beach\", \"beautiful\", \"bed\", \"bed\", \"bed\", \"bed\", \"bedroom\", \"bedroom\", \"bedroom\", \"bedroom\", \"bedroom\", \"beds\", \"brand\", \"bright\", \"bungalow\", \"clean\", \"clean\", \"close\", \"close\", \"close\", \"close\", \"close\", \"comfort\", \"comfortable\", \"comfy\", \"convenient\", \"cozy\", \"cozy\", \"cozy\", \"craftsman\", \"drive\", \"easy\", \"entrance\", \"family\", \"great\", \"heart\", \"heart\", \"heart\", \"heart\", \"home\", \"home\", \"home\", \"home\", \"home\", \"house\", \"house\", \"house\", \"house\", \"house\", \"law\", \"little\", \"located\", \"located\", \"location\", \"location\", \"location\", \"location\", \"luxury\", \"min\", \"min\", \"min\", \"min\", \"min\", \"mins\", \"minutes\", \"modern\", \"modern\", \"modern\", \"near\", \"near\", \"near\", \"near\", \"near\", \"new\", \"new\", \"perfect\", \"perfect\", \"private\", \"private\", \"private\", \"private\", \"private\", \"quiet\", \"quiet\", \"quiet\", \"quiet\", \"remodeled\", \"right\", \"room\", \"room\", \"room\", \"room\", \"room\", \"shared\", \"single\", \"sleeps\", \"space\", \"studio\", \"studio\", \"studio\", \"studio\", \"studio\", \"stylish\", \"term\", \"walking\", \"water\", \"xx\", \"|\", \"|\", \"|\", \"\\u2605\", \"\\u2605\", \"\\u2605\"]}, \"R\": 30, \"lambda.step\": 0.01, \"plot.opts\": {\"xlab\": \"PC1\", \"ylab\": \"PC2\"}, \"topic.order\": [4, 3, 2, 1, 5]};\n",
              "\n",
              "function LDAvis_load_lib(url, callback){\n",
              "  var s = document.createElement('script');\n",
              "  s.src = url;\n",
              "  s.async = true;\n",
              "  s.onreadystatechange = s.onload = callback;\n",
              "  s.onerror = function(){console.warn(\"failed to load library \" + url);};\n",
              "  document.getElementsByTagName(\"head\")[0].appendChild(s);\n",
              "}\n",
              "\n",
              "if(typeof(LDAvis) !== \"undefined\"){\n",
              "   // already loaded: just create the visualization\n",
              "   !function(LDAvis){\n",
              "       new LDAvis(\"#\" + \"ldavis_el1211399325190008482849926790\", ldavis_el1211399325190008482849926790_data);\n",
              "   }(LDAvis);\n",
              "}else if(typeof define === \"function\" && define.amd){\n",
              "   // require.js is available: use it to load d3/LDAvis\n",
              "   require.config({paths: {d3: \"https://cdnjs.cloudflare.com/ajax/libs/d3/3.5.5/d3.min\"}});\n",
              "   require([\"d3\"], function(d3){\n",
              "      window.d3 = d3;\n",
              "      LDAvis_load_lib(\"https://cdn.rawgit.com/bmabey/pyLDAvis/files/ldavis.v1.0.0.js\", function(){\n",
              "        new LDAvis(\"#\" + \"ldavis_el1211399325190008482849926790\", ldavis_el1211399325190008482849926790_data);\n",
              "      });\n",
              "    });\n",
              "}else{\n",
              "    // require.js not available: dynamically load d3 & LDAvis\n",
              "    LDAvis_load_lib(\"https://cdnjs.cloudflare.com/ajax/libs/d3/3.5.5/d3.min.js\", function(){\n",
              "         LDAvis_load_lib(\"https://cdn.rawgit.com/bmabey/pyLDAvis/files/ldavis.v1.0.0.js\", function(){\n",
              "                 new LDAvis(\"#\" + \"ldavis_el1211399325190008482849926790\", ldavis_el1211399325190008482849926790_data);\n",
              "            })\n",
              "         });\n",
              "}\n",
              "</script>"
            ],
            "text/plain": [
              "PreparedData(topic_coordinates=              x         y  topics  cluster       Freq\n",
              "topic                                                \n",
              "3      0.169292  0.028983       1        1  21.320024\n",
              "2     -0.019236 -0.047557       2        1  20.496265\n",
              "1     -0.030437 -0.075998       3        1  20.179308\n",
              "0     -0.045838 -0.041408       4        1  19.467230\n",
              "4     -0.073780  0.135979       5        1  18.537169, topic_info=          Term       Freq      Total Category  logprob  loglift\n",
              "540       Pike  86.000000  86.000000  Default  30.0000  30.0000\n",
              "541      Place  94.000000  94.000000  Default  29.0000  29.0000\n",
              "683          F  37.000000  37.000000  Default  28.0000  28.0000\n",
              "2646        xx  36.000000  36.000000  Default  27.0000  27.0000\n",
              "309     Needle  37.000000  37.000000  Default  26.0000  26.0000\n",
              "...        ...        ...        ...      ...      ...      ...\n",
              "171   Bellevue  15.911561  61.774780   Topic5  -5.2515   0.3289\n",
              "365      Close  13.177868  26.611582   Topic5  -5.4400   0.9826\n",
              "67        Lake  15.023093  80.094505   Topic5  -5.3089   0.0118\n",
              "115    Capitol  14.109838  91.027054   Topic5  -5.3717  -0.1789\n",
              "193       View  13.334207  70.198593   Topic5  -5.4282   0.0244\n",
              "\n",
              "[355 rows x 6 columns], token_table=      Topic      Freq Term\n",
              "term                      \n",
              "0         1  0.090195    1\n",
              "0         2  0.103080    1\n",
              "0         3  0.399435    1\n",
              "0         4  0.167505    1\n",
              "0         5  0.231930    1\n",
              "...     ...       ...  ...\n",
              "1448      2  0.860392    |\n",
              "1448      5  0.047800    |\n",
              "111       1  0.771345    ★\n",
              "111       2  0.192836    ★\n",
              "111       5  0.021426    ★\n",
              "\n",
              "[675 rows x 3 columns], R=30, lambda_step=0.01, plot_opts={'xlab': 'PC1', 'ylab': 'PC2'}, topic_order=[4, 3, 2, 1, 5])"
            ]
          },
          "metadata": {
            "tags": []
          },
          "execution_count": 51
        }
      ]
    },
    {
      "cell_type": "markdown",
      "metadata": {
        "id": "pkHRIUAnnKyp",
        "colab_type": "text"
      },
      "source": [
        "# Seattle Prediction"
      ]
    },
    {
      "cell_type": "markdown",
      "metadata": {
        "id": "dyboEF4Kq9w5",
        "colab_type": "text"
      },
      "source": [
        "## Features from Topics"
      ]
    },
    {
      "cell_type": "code",
      "metadata": {
        "id": "cvHuM91HoQ0U",
        "colab_type": "code",
        "colab": {
          "base_uri": "https://localhost:8080/",
          "height": 581
        },
        "outputId": "d043f65c-9ccf-4d34-f0ff-a03749b62cda"
      },
      "source": [
        "seattle_topic_df = seattle_df.copy()\n",
        "\n",
        "assignments = [item for item in lda_model.get_document_topics(corpus_lda)]\n",
        "for index in range(lda_model.num_topics):\n",
        "  seattle_topic_df[f'lda_topic_{index}'] = [assign[index][1] for assign in assignments]\n",
        "\n",
        "seattle_topic_df.head()"
      ],
      "execution_count": null,
      "outputs": [
        {
          "output_type": "execute_result",
          "data": {
            "text/html": [
              "<div>\n",
              "<style scoped>\n",
              "    .dataframe tbody tr th:only-of-type {\n",
              "        vertical-align: middle;\n",
              "    }\n",
              "\n",
              "    .dataframe tbody tr th {\n",
              "        vertical-align: top;\n",
              "    }\n",
              "\n",
              "    .dataframe thead th {\n",
              "        text-align: right;\n",
              "    }\n",
              "</style>\n",
              "<table border=\"1\" class=\"dataframe\">\n",
              "  <thead>\n",
              "    <tr style=\"text-align: right;\">\n",
              "      <th></th>\n",
              "      <th>Unnamed: 0</th>\n",
              "      <th>room_id</th>\n",
              "      <th>host_id</th>\n",
              "      <th>room_type</th>\n",
              "      <th>address</th>\n",
              "      <th>reviews</th>\n",
              "      <th>overall_satisfaction</th>\n",
              "      <th>accommodates</th>\n",
              "      <th>bedrooms</th>\n",
              "      <th>bathrooms</th>\n",
              "      <th>price</th>\n",
              "      <th>last_modified</th>\n",
              "      <th>latitude</th>\n",
              "      <th>longitude</th>\n",
              "      <th>location</th>\n",
              "      <th>name</th>\n",
              "      <th>currency</th>\n",
              "      <th>rate_type</th>\n",
              "      <th>lda_topic_0</th>\n",
              "      <th>lda_topic_1</th>\n",
              "      <th>lda_topic_2</th>\n",
              "      <th>lda_topic_3</th>\n",
              "      <th>lda_topic_4</th>\n",
              "    </tr>\n",
              "  </thead>\n",
              "  <tbody>\n",
              "    <tr>\n",
              "      <th>0</th>\n",
              "      <td>0</td>\n",
              "      <td>2318</td>\n",
              "      <td>2536</td>\n",
              "      <td>Entire home/apt</td>\n",
              "      <td>Seattle, WA, United States</td>\n",
              "      <td>21</td>\n",
              "      <td>5.0</td>\n",
              "      <td>8</td>\n",
              "      <td>4.0</td>\n",
              "      <td>2.5</td>\n",
              "      <td>250</td>\n",
              "      <td>2018-12-20 03:46:14.698548</td>\n",
              "      <td>47.610819</td>\n",
              "      <td>-122.290816</td>\n",
              "      <td>0101000020E6100000D449B6BA9C925EC0416326512FCE...</td>\n",
              "      <td>Casa Madrona - Urban Oasis, 1 block from the P...</td>\n",
              "      <td>USD</td>\n",
              "      <td>nightly</td>\n",
              "      <td>0.100264</td>\n",
              "      <td>0.333833</td>\n",
              "      <td>0.311261</td>\n",
              "      <td>0.102492</td>\n",
              "      <td>0.152150</td>\n",
              "    </tr>\n",
              "    <tr>\n",
              "      <th>1</th>\n",
              "      <td>1</td>\n",
              "      <td>3335</td>\n",
              "      <td>4193</td>\n",
              "      <td>Entire home/apt</td>\n",
              "      <td>Seattle, WA, United States</td>\n",
              "      <td>1</td>\n",
              "      <td>NaN</td>\n",
              "      <td>4</td>\n",
              "      <td>2.0</td>\n",
              "      <td>1.0</td>\n",
              "      <td>100</td>\n",
              "      <td>2018-12-20 04:08:45.277643</td>\n",
              "      <td>47.529846</td>\n",
              "      <td>-122.275840</td>\n",
              "      <td>0101000020E61000006FBBD05CA7915EC04DF564FED1C3...</td>\n",
              "      <td>Sweet Seattle Urban Homestead 2 Bdr</td>\n",
              "      <td>USD</td>\n",
              "      <td>nightly</td>\n",
              "      <td>0.100216</td>\n",
              "      <td>0.102153</td>\n",
              "      <td>0.101081</td>\n",
              "      <td>0.100720</td>\n",
              "      <td>0.595829</td>\n",
              "    </tr>\n",
              "    <tr>\n",
              "      <th>2</th>\n",
              "      <td>2</td>\n",
              "      <td>4291</td>\n",
              "      <td>35749</td>\n",
              "      <td>Private room</td>\n",
              "      <td>Seattle, WA, United States</td>\n",
              "      <td>63</td>\n",
              "      <td>4.5</td>\n",
              "      <td>2</td>\n",
              "      <td>1.0</td>\n",
              "      <td>1.0</td>\n",
              "      <td>82</td>\n",
              "      <td>2018-12-20 03:04:19.861014</td>\n",
              "      <td>47.687801</td>\n",
              "      <td>-122.313427</td>\n",
              "      <td>0101000020E6100000BDAB1E300F945EC0FB93F8DC09D8...</td>\n",
              "      <td>Sunrise in Seattle Master Suite</td>\n",
              "      <td>USD</td>\n",
              "      <td>nightly</td>\n",
              "      <td>0.100298</td>\n",
              "      <td>0.109418</td>\n",
              "      <td>0.101266</td>\n",
              "      <td>0.102641</td>\n",
              "      <td>0.586378</td>\n",
              "    </tr>\n",
              "    <tr>\n",
              "      <th>3</th>\n",
              "      <td>3</td>\n",
              "      <td>5682</td>\n",
              "      <td>8993</td>\n",
              "      <td>Entire home/apt</td>\n",
              "      <td>Seattle, WA, United States</td>\n",
              "      <td>462</td>\n",
              "      <td>5.0</td>\n",
              "      <td>2</td>\n",
              "      <td>0.0</td>\n",
              "      <td>1.0</td>\n",
              "      <td>49</td>\n",
              "      <td>2018-12-20 04:11:25.482975</td>\n",
              "      <td>47.523980</td>\n",
              "      <td>-122.359891</td>\n",
              "      <td>0101000020E6100000FCC7427408975EC009E1D1C611C3...</td>\n",
              "      <td>Cozy Studio, min. to downtown -WiFi</td>\n",
              "      <td>USD</td>\n",
              "      <td>nightly</td>\n",
              "      <td>0.100531</td>\n",
              "      <td>0.119826</td>\n",
              "      <td>0.503319</td>\n",
              "      <td>0.104540</td>\n",
              "      <td>0.171783</td>\n",
              "    </tr>\n",
              "    <tr>\n",
              "      <th>4</th>\n",
              "      <td>4</td>\n",
              "      <td>6606</td>\n",
              "      <td>14942</td>\n",
              "      <td>Entire home/apt</td>\n",
              "      <td>Seattle, WA, United States</td>\n",
              "      <td>134</td>\n",
              "      <td>4.5</td>\n",
              "      <td>2</td>\n",
              "      <td>1.0</td>\n",
              "      <td>1.0</td>\n",
              "      <td>90</td>\n",
              "      <td>2018-12-20 03:12:38.391711</td>\n",
              "      <td>47.654109</td>\n",
              "      <td>-122.337605</td>\n",
              "      <td>0101000020E6100000D47D00529B955EC07782FDD7B9D3...</td>\n",
              "      <td>Fab, private seattle urban cottage!</td>\n",
              "      <td>USD</td>\n",
              "      <td>nightly</td>\n",
              "      <td>0.101481</td>\n",
              "      <td>0.423607</td>\n",
              "      <td>0.105991</td>\n",
              "      <td>0.101416</td>\n",
              "      <td>0.267504</td>\n",
              "    </tr>\n",
              "  </tbody>\n",
              "</table>\n",
              "</div>"
            ],
            "text/plain": [
              "   Unnamed: 0  room_id  host_id  ... lda_topic_2 lda_topic_3  lda_topic_4\n",
              "0           0     2318     2536  ...    0.311261    0.102492     0.152150\n",
              "1           1     3335     4193  ...    0.101081    0.100720     0.595829\n",
              "2           2     4291    35749  ...    0.101266    0.102641     0.586378\n",
              "3           3     5682     8993  ...    0.503319    0.104540     0.171783\n",
              "4           4     6606    14942  ...    0.105991    0.101416     0.267504\n",
              "\n",
              "[5 rows x 23 columns]"
            ]
          },
          "metadata": {
            "tags": []
          },
          "execution_count": 52
        }
      ]
    },
    {
      "cell_type": "markdown",
      "metadata": {
        "id": "k-rHciJ5_KjS",
        "colab_type": "text"
      },
      "source": [
        "## Data Prep"
      ]
    },
    {
      "cell_type": "code",
      "metadata": {
        "id": "U4YJZN4ouMdi",
        "colab_type": "code",
        "colab": {
          "base_uri": "https://localhost:8080/",
          "height": 425
        },
        "outputId": "407b6224-ef46-48ce-d0ef-9b1011b7fcf0"
      },
      "source": [
        "seattle_topic_df.dtypes"
      ],
      "execution_count": null,
      "outputs": [
        {
          "output_type": "execute_result",
          "data": {
            "text/plain": [
              "Unnamed: 0                int64\n",
              "room_id                   int64\n",
              "host_id                   int64\n",
              "room_type                object\n",
              "address                  object\n",
              "reviews                   int64\n",
              "overall_satisfaction    float64\n",
              "accommodates              int64\n",
              "bedrooms                float64\n",
              "bathrooms               float64\n",
              "price                     int64\n",
              "last_modified            object\n",
              "latitude                float64\n",
              "longitude               float64\n",
              "location                 object\n",
              "name                     object\n",
              "currency                 object\n",
              "rate_type                object\n",
              "lda_topic_0             float64\n",
              "lda_topic_1             float64\n",
              "lda_topic_2             float64\n",
              "lda_topic_3             float64\n",
              "lda_topic_4             float64\n",
              "dtype: object"
            ]
          },
          "metadata": {
            "tags": []
          },
          "execution_count": 53
        }
      ]
    },
    {
      "cell_type": "code",
      "metadata": {
        "id": "GNmBiArrvwYa",
        "colab_type": "code",
        "colab": {}
      },
      "source": [
        "columns = ['room_type',\n",
        "           'reviews',\n",
        "           'overall_satisfaction',\n",
        "           'accommodates',\n",
        "           'bedrooms',\n",
        "           'bathrooms',\n",
        "           'price',\n",
        "           'latitude',\n",
        "           'longitude',\n",
        "           'currency',\n",
        "           'rate_type',\n",
        "           'lda_topic_0',\n",
        "           'lda_topic_1',\n",
        "           'lda_topic_2',\n",
        "           'lda_topic_3',\n",
        "           'lda_topic_4']\n",
        "\n",
        "X_train = seattle_topic_df[columns]"
      ],
      "execution_count": null,
      "outputs": []
    },
    {
      "cell_type": "code",
      "metadata": {
        "id": "FfBkvV8pwURY",
        "colab_type": "code",
        "colab": {
          "base_uri": "https://localhost:8080/",
          "height": 309
        },
        "outputId": "5e2be97c-fe13-482c-d769-a0eef8b7c2b1"
      },
      "source": [
        "X_train.head()"
      ],
      "execution_count": null,
      "outputs": [
        {
          "output_type": "execute_result",
          "data": {
            "text/html": [
              "<div>\n",
              "<style scoped>\n",
              "    .dataframe tbody tr th:only-of-type {\n",
              "        vertical-align: middle;\n",
              "    }\n",
              "\n",
              "    .dataframe tbody tr th {\n",
              "        vertical-align: top;\n",
              "    }\n",
              "\n",
              "    .dataframe thead th {\n",
              "        text-align: right;\n",
              "    }\n",
              "</style>\n",
              "<table border=\"1\" class=\"dataframe\">\n",
              "  <thead>\n",
              "    <tr style=\"text-align: right;\">\n",
              "      <th></th>\n",
              "      <th>room_type</th>\n",
              "      <th>reviews</th>\n",
              "      <th>overall_satisfaction</th>\n",
              "      <th>accommodates</th>\n",
              "      <th>bedrooms</th>\n",
              "      <th>bathrooms</th>\n",
              "      <th>price</th>\n",
              "      <th>latitude</th>\n",
              "      <th>longitude</th>\n",
              "      <th>currency</th>\n",
              "      <th>rate_type</th>\n",
              "      <th>lda_topic_0</th>\n",
              "      <th>lda_topic_1</th>\n",
              "      <th>lda_topic_2</th>\n",
              "      <th>lda_topic_3</th>\n",
              "      <th>lda_topic_4</th>\n",
              "    </tr>\n",
              "  </thead>\n",
              "  <tbody>\n",
              "    <tr>\n",
              "      <th>0</th>\n",
              "      <td>Entire home/apt</td>\n",
              "      <td>21</td>\n",
              "      <td>5.0</td>\n",
              "      <td>8</td>\n",
              "      <td>4.0</td>\n",
              "      <td>2.5</td>\n",
              "      <td>250</td>\n",
              "      <td>47.610819</td>\n",
              "      <td>-122.290816</td>\n",
              "      <td>USD</td>\n",
              "      <td>nightly</td>\n",
              "      <td>0.100264</td>\n",
              "      <td>0.333833</td>\n",
              "      <td>0.311261</td>\n",
              "      <td>0.102492</td>\n",
              "      <td>0.152150</td>\n",
              "    </tr>\n",
              "    <tr>\n",
              "      <th>1</th>\n",
              "      <td>Entire home/apt</td>\n",
              "      <td>1</td>\n",
              "      <td>NaN</td>\n",
              "      <td>4</td>\n",
              "      <td>2.0</td>\n",
              "      <td>1.0</td>\n",
              "      <td>100</td>\n",
              "      <td>47.529846</td>\n",
              "      <td>-122.275840</td>\n",
              "      <td>USD</td>\n",
              "      <td>nightly</td>\n",
              "      <td>0.100216</td>\n",
              "      <td>0.102153</td>\n",
              "      <td>0.101081</td>\n",
              "      <td>0.100720</td>\n",
              "      <td>0.595829</td>\n",
              "    </tr>\n",
              "    <tr>\n",
              "      <th>2</th>\n",
              "      <td>Private room</td>\n",
              "      <td>63</td>\n",
              "      <td>4.5</td>\n",
              "      <td>2</td>\n",
              "      <td>1.0</td>\n",
              "      <td>1.0</td>\n",
              "      <td>82</td>\n",
              "      <td>47.687801</td>\n",
              "      <td>-122.313427</td>\n",
              "      <td>USD</td>\n",
              "      <td>nightly</td>\n",
              "      <td>0.100298</td>\n",
              "      <td>0.109418</td>\n",
              "      <td>0.101266</td>\n",
              "      <td>0.102641</td>\n",
              "      <td>0.586378</td>\n",
              "    </tr>\n",
              "    <tr>\n",
              "      <th>3</th>\n",
              "      <td>Entire home/apt</td>\n",
              "      <td>462</td>\n",
              "      <td>5.0</td>\n",
              "      <td>2</td>\n",
              "      <td>0.0</td>\n",
              "      <td>1.0</td>\n",
              "      <td>49</td>\n",
              "      <td>47.523980</td>\n",
              "      <td>-122.359891</td>\n",
              "      <td>USD</td>\n",
              "      <td>nightly</td>\n",
              "      <td>0.100531</td>\n",
              "      <td>0.119826</td>\n",
              "      <td>0.503319</td>\n",
              "      <td>0.104540</td>\n",
              "      <td>0.171783</td>\n",
              "    </tr>\n",
              "    <tr>\n",
              "      <th>4</th>\n",
              "      <td>Entire home/apt</td>\n",
              "      <td>134</td>\n",
              "      <td>4.5</td>\n",
              "      <td>2</td>\n",
              "      <td>1.0</td>\n",
              "      <td>1.0</td>\n",
              "      <td>90</td>\n",
              "      <td>47.654109</td>\n",
              "      <td>-122.337605</td>\n",
              "      <td>USD</td>\n",
              "      <td>nightly</td>\n",
              "      <td>0.101481</td>\n",
              "      <td>0.423607</td>\n",
              "      <td>0.105991</td>\n",
              "      <td>0.101416</td>\n",
              "      <td>0.267504</td>\n",
              "    </tr>\n",
              "  </tbody>\n",
              "</table>\n",
              "</div>"
            ],
            "text/plain": [
              "         room_type  reviews  ...  lda_topic_3  lda_topic_4\n",
              "0  Entire home/apt       21  ...     0.102492     0.152150\n",
              "1  Entire home/apt        1  ...     0.100720     0.595829\n",
              "2     Private room       63  ...     0.102641     0.586378\n",
              "3  Entire home/apt      462  ...     0.104540     0.171783\n",
              "4  Entire home/apt      134  ...     0.101416     0.267504\n",
              "\n",
              "[5 rows x 16 columns]"
            ]
          },
          "metadata": {
            "tags": []
          },
          "execution_count": 55
        }
      ]
    },
    {
      "cell_type": "code",
      "metadata": {
        "id": "E29MpiSRwnir",
        "colab_type": "code",
        "colab": {
          "base_uri": "https://localhost:8080/",
          "height": 34
        },
        "outputId": "4595e6a8-0782-496e-9833-c27d27ce6807"
      },
      "source": [
        "print('Train', X_train.shape)"
      ],
      "execution_count": null,
      "outputs": [
        {
          "output_type": "stream",
          "text": [
            "Train (7576, 16)\n"
          ],
          "name": "stdout"
        }
      ]
    },
    {
      "cell_type": "markdown",
      "metadata": {
        "id": "2YXvcd3fw9Gk",
        "colab_type": "text"
      },
      "source": [
        "## Model"
      ]
    },
    {
      "cell_type": "code",
      "metadata": {
        "id": "CZWSr9YgxfJb",
        "colab_type": "code",
        "colab": {
          "base_uri": "https://localhost:8080/",
          "height": 956,
          "referenced_widgets": [
            "16edb763ae664caea3c31678880c14df",
            "898f98ab0c3140a89e31af3d8124b99d",
            "e4d09ce4f3804279b740ae0e9da831fd",
            "132e90fe39d14797b380be151eff4de5",
            "7755679fe8b846bc82483cd96a0d1eda",
            "99d39e17ff6e4a03b533b5964016bdfd"
          ]
        },
        "outputId": "dd14a19c-5983-4e8f-f5c7-28411eae21c8"
      },
      "source": [
        "experiment = setup(X_train, target='price',\n",
        "                   numeric_features = ['accommodates'])"
      ],
      "execution_count": null,
      "outputs": [
        {
          "output_type": "stream",
          "text": [
            " \n",
            "Setup Succesfully Completed!\n"
          ],
          "name": "stdout"
        },
        {
          "output_type": "display_data",
          "data": {
            "text/html": [
              "<style  type=\"text/css\" >\n",
              "    #T_657876e2_ccf1_11ea_afdb_0242ac1c0002row4_col1 {\n",
              "            background-color:  lightgreen;\n",
              "        }</style><table id=\"T_657876e2_ccf1_11ea_afdb_0242ac1c0002\" ><thead>    <tr>        <th class=\"blank level0\" ></th>        <th class=\"col_heading level0 col0\" >Description</th>        <th class=\"col_heading level0 col1\" >Value</th>    </tr></thead><tbody>\n",
              "                <tr>\n",
              "                        <th id=\"T_657876e2_ccf1_11ea_afdb_0242ac1c0002level0_row0\" class=\"row_heading level0 row0\" >0</th>\n",
              "                        <td id=\"T_657876e2_ccf1_11ea_afdb_0242ac1c0002row0_col0\" class=\"data row0 col0\" >session_id</td>\n",
              "                        <td id=\"T_657876e2_ccf1_11ea_afdb_0242ac1c0002row0_col1\" class=\"data row0 col1\" >7211</td>\n",
              "            </tr>\n",
              "            <tr>\n",
              "                        <th id=\"T_657876e2_ccf1_11ea_afdb_0242ac1c0002level0_row1\" class=\"row_heading level0 row1\" >1</th>\n",
              "                        <td id=\"T_657876e2_ccf1_11ea_afdb_0242ac1c0002row1_col0\" class=\"data row1 col0\" >Transform Target </td>\n",
              "                        <td id=\"T_657876e2_ccf1_11ea_afdb_0242ac1c0002row1_col1\" class=\"data row1 col1\" >False</td>\n",
              "            </tr>\n",
              "            <tr>\n",
              "                        <th id=\"T_657876e2_ccf1_11ea_afdb_0242ac1c0002level0_row2\" class=\"row_heading level0 row2\" >2</th>\n",
              "                        <td id=\"T_657876e2_ccf1_11ea_afdb_0242ac1c0002row2_col0\" class=\"data row2 col0\" >Transform Target Method</td>\n",
              "                        <td id=\"T_657876e2_ccf1_11ea_afdb_0242ac1c0002row2_col1\" class=\"data row2 col1\" >None</td>\n",
              "            </tr>\n",
              "            <tr>\n",
              "                        <th id=\"T_657876e2_ccf1_11ea_afdb_0242ac1c0002level0_row3\" class=\"row_heading level0 row3\" >3</th>\n",
              "                        <td id=\"T_657876e2_ccf1_11ea_afdb_0242ac1c0002row3_col0\" class=\"data row3 col0\" >Original Data</td>\n",
              "                        <td id=\"T_657876e2_ccf1_11ea_afdb_0242ac1c0002row3_col1\" class=\"data row3 col1\" >(7576, 16)</td>\n",
              "            </tr>\n",
              "            <tr>\n",
              "                        <th id=\"T_657876e2_ccf1_11ea_afdb_0242ac1c0002level0_row4\" class=\"row_heading level0 row4\" >4</th>\n",
              "                        <td id=\"T_657876e2_ccf1_11ea_afdb_0242ac1c0002row4_col0\" class=\"data row4 col0\" >Missing Values </td>\n",
              "                        <td id=\"T_657876e2_ccf1_11ea_afdb_0242ac1c0002row4_col1\" class=\"data row4 col1\" >True</td>\n",
              "            </tr>\n",
              "            <tr>\n",
              "                        <th id=\"T_657876e2_ccf1_11ea_afdb_0242ac1c0002level0_row5\" class=\"row_heading level0 row5\" >5</th>\n",
              "                        <td id=\"T_657876e2_ccf1_11ea_afdb_0242ac1c0002row5_col0\" class=\"data row5 col0\" >Numeric Features </td>\n",
              "                        <td id=\"T_657876e2_ccf1_11ea_afdb_0242ac1c0002row5_col1\" class=\"data row5 col1\" >12</td>\n",
              "            </tr>\n",
              "            <tr>\n",
              "                        <th id=\"T_657876e2_ccf1_11ea_afdb_0242ac1c0002level0_row6\" class=\"row_heading level0 row6\" >6</th>\n",
              "                        <td id=\"T_657876e2_ccf1_11ea_afdb_0242ac1c0002row6_col0\" class=\"data row6 col0\" >Categorical Features </td>\n",
              "                        <td id=\"T_657876e2_ccf1_11ea_afdb_0242ac1c0002row6_col1\" class=\"data row6 col1\" >3</td>\n",
              "            </tr>\n",
              "            <tr>\n",
              "                        <th id=\"T_657876e2_ccf1_11ea_afdb_0242ac1c0002level0_row7\" class=\"row_heading level0 row7\" >7</th>\n",
              "                        <td id=\"T_657876e2_ccf1_11ea_afdb_0242ac1c0002row7_col0\" class=\"data row7 col0\" >Ordinal Features </td>\n",
              "                        <td id=\"T_657876e2_ccf1_11ea_afdb_0242ac1c0002row7_col1\" class=\"data row7 col1\" >False</td>\n",
              "            </tr>\n",
              "            <tr>\n",
              "                        <th id=\"T_657876e2_ccf1_11ea_afdb_0242ac1c0002level0_row8\" class=\"row_heading level0 row8\" >8</th>\n",
              "                        <td id=\"T_657876e2_ccf1_11ea_afdb_0242ac1c0002row8_col0\" class=\"data row8 col0\" >High Cardinality Features </td>\n",
              "                        <td id=\"T_657876e2_ccf1_11ea_afdb_0242ac1c0002row8_col1\" class=\"data row8 col1\" >False</td>\n",
              "            </tr>\n",
              "            <tr>\n",
              "                        <th id=\"T_657876e2_ccf1_11ea_afdb_0242ac1c0002level0_row9\" class=\"row_heading level0 row9\" >9</th>\n",
              "                        <td id=\"T_657876e2_ccf1_11ea_afdb_0242ac1c0002row9_col0\" class=\"data row9 col0\" >High Cardinality Method </td>\n",
              "                        <td id=\"T_657876e2_ccf1_11ea_afdb_0242ac1c0002row9_col1\" class=\"data row9 col1\" >None</td>\n",
              "            </tr>\n",
              "            <tr>\n",
              "                        <th id=\"T_657876e2_ccf1_11ea_afdb_0242ac1c0002level0_row10\" class=\"row_heading level0 row10\" >10</th>\n",
              "                        <td id=\"T_657876e2_ccf1_11ea_afdb_0242ac1c0002row10_col0\" class=\"data row10 col0\" >Sampled Data</td>\n",
              "                        <td id=\"T_657876e2_ccf1_11ea_afdb_0242ac1c0002row10_col1\" class=\"data row10 col1\" >(7576, 16)</td>\n",
              "            </tr>\n",
              "            <tr>\n",
              "                        <th id=\"T_657876e2_ccf1_11ea_afdb_0242ac1c0002level0_row11\" class=\"row_heading level0 row11\" >11</th>\n",
              "                        <td id=\"T_657876e2_ccf1_11ea_afdb_0242ac1c0002row11_col0\" class=\"data row11 col0\" >Transformed Train Set</td>\n",
              "                        <td id=\"T_657876e2_ccf1_11ea_afdb_0242ac1c0002row11_col1\" class=\"data row11 col1\" >(5303, 17)</td>\n",
              "            </tr>\n",
              "            <tr>\n",
              "                        <th id=\"T_657876e2_ccf1_11ea_afdb_0242ac1c0002level0_row12\" class=\"row_heading level0 row12\" >12</th>\n",
              "                        <td id=\"T_657876e2_ccf1_11ea_afdb_0242ac1c0002row12_col0\" class=\"data row12 col0\" >Transformed Test Set</td>\n",
              "                        <td id=\"T_657876e2_ccf1_11ea_afdb_0242ac1c0002row12_col1\" class=\"data row12 col1\" >(2273, 17)</td>\n",
              "            </tr>\n",
              "            <tr>\n",
              "                        <th id=\"T_657876e2_ccf1_11ea_afdb_0242ac1c0002level0_row13\" class=\"row_heading level0 row13\" >13</th>\n",
              "                        <td id=\"T_657876e2_ccf1_11ea_afdb_0242ac1c0002row13_col0\" class=\"data row13 col0\" >Numeric Imputer </td>\n",
              "                        <td id=\"T_657876e2_ccf1_11ea_afdb_0242ac1c0002row13_col1\" class=\"data row13 col1\" >mean</td>\n",
              "            </tr>\n",
              "            <tr>\n",
              "                        <th id=\"T_657876e2_ccf1_11ea_afdb_0242ac1c0002level0_row14\" class=\"row_heading level0 row14\" >14</th>\n",
              "                        <td id=\"T_657876e2_ccf1_11ea_afdb_0242ac1c0002row14_col0\" class=\"data row14 col0\" >Categorical Imputer </td>\n",
              "                        <td id=\"T_657876e2_ccf1_11ea_afdb_0242ac1c0002row14_col1\" class=\"data row14 col1\" >constant</td>\n",
              "            </tr>\n",
              "            <tr>\n",
              "                        <th id=\"T_657876e2_ccf1_11ea_afdb_0242ac1c0002level0_row15\" class=\"row_heading level0 row15\" >15</th>\n",
              "                        <td id=\"T_657876e2_ccf1_11ea_afdb_0242ac1c0002row15_col0\" class=\"data row15 col0\" >Normalize </td>\n",
              "                        <td id=\"T_657876e2_ccf1_11ea_afdb_0242ac1c0002row15_col1\" class=\"data row15 col1\" >False</td>\n",
              "            </tr>\n",
              "            <tr>\n",
              "                        <th id=\"T_657876e2_ccf1_11ea_afdb_0242ac1c0002level0_row16\" class=\"row_heading level0 row16\" >16</th>\n",
              "                        <td id=\"T_657876e2_ccf1_11ea_afdb_0242ac1c0002row16_col0\" class=\"data row16 col0\" >Normalize Method </td>\n",
              "                        <td id=\"T_657876e2_ccf1_11ea_afdb_0242ac1c0002row16_col1\" class=\"data row16 col1\" >None</td>\n",
              "            </tr>\n",
              "            <tr>\n",
              "                        <th id=\"T_657876e2_ccf1_11ea_afdb_0242ac1c0002level0_row17\" class=\"row_heading level0 row17\" >17</th>\n",
              "                        <td id=\"T_657876e2_ccf1_11ea_afdb_0242ac1c0002row17_col0\" class=\"data row17 col0\" >Transformation </td>\n",
              "                        <td id=\"T_657876e2_ccf1_11ea_afdb_0242ac1c0002row17_col1\" class=\"data row17 col1\" >False</td>\n",
              "            </tr>\n",
              "            <tr>\n",
              "                        <th id=\"T_657876e2_ccf1_11ea_afdb_0242ac1c0002level0_row18\" class=\"row_heading level0 row18\" >18</th>\n",
              "                        <td id=\"T_657876e2_ccf1_11ea_afdb_0242ac1c0002row18_col0\" class=\"data row18 col0\" >Transformation Method </td>\n",
              "                        <td id=\"T_657876e2_ccf1_11ea_afdb_0242ac1c0002row18_col1\" class=\"data row18 col1\" >None</td>\n",
              "            </tr>\n",
              "            <tr>\n",
              "                        <th id=\"T_657876e2_ccf1_11ea_afdb_0242ac1c0002level0_row19\" class=\"row_heading level0 row19\" >19</th>\n",
              "                        <td id=\"T_657876e2_ccf1_11ea_afdb_0242ac1c0002row19_col0\" class=\"data row19 col0\" >PCA </td>\n",
              "                        <td id=\"T_657876e2_ccf1_11ea_afdb_0242ac1c0002row19_col1\" class=\"data row19 col1\" >False</td>\n",
              "            </tr>\n",
              "            <tr>\n",
              "                        <th id=\"T_657876e2_ccf1_11ea_afdb_0242ac1c0002level0_row20\" class=\"row_heading level0 row20\" >20</th>\n",
              "                        <td id=\"T_657876e2_ccf1_11ea_afdb_0242ac1c0002row20_col0\" class=\"data row20 col0\" >PCA Method </td>\n",
              "                        <td id=\"T_657876e2_ccf1_11ea_afdb_0242ac1c0002row20_col1\" class=\"data row20 col1\" >None</td>\n",
              "            </tr>\n",
              "            <tr>\n",
              "                        <th id=\"T_657876e2_ccf1_11ea_afdb_0242ac1c0002level0_row21\" class=\"row_heading level0 row21\" >21</th>\n",
              "                        <td id=\"T_657876e2_ccf1_11ea_afdb_0242ac1c0002row21_col0\" class=\"data row21 col0\" >PCA Components </td>\n",
              "                        <td id=\"T_657876e2_ccf1_11ea_afdb_0242ac1c0002row21_col1\" class=\"data row21 col1\" >None</td>\n",
              "            </tr>\n",
              "            <tr>\n",
              "                        <th id=\"T_657876e2_ccf1_11ea_afdb_0242ac1c0002level0_row22\" class=\"row_heading level0 row22\" >22</th>\n",
              "                        <td id=\"T_657876e2_ccf1_11ea_afdb_0242ac1c0002row22_col0\" class=\"data row22 col0\" >Ignore Low Variance </td>\n",
              "                        <td id=\"T_657876e2_ccf1_11ea_afdb_0242ac1c0002row22_col1\" class=\"data row22 col1\" >False</td>\n",
              "            </tr>\n",
              "            <tr>\n",
              "                        <th id=\"T_657876e2_ccf1_11ea_afdb_0242ac1c0002level0_row23\" class=\"row_heading level0 row23\" >23</th>\n",
              "                        <td id=\"T_657876e2_ccf1_11ea_afdb_0242ac1c0002row23_col0\" class=\"data row23 col0\" >Combine Rare Levels </td>\n",
              "                        <td id=\"T_657876e2_ccf1_11ea_afdb_0242ac1c0002row23_col1\" class=\"data row23 col1\" >False</td>\n",
              "            </tr>\n",
              "            <tr>\n",
              "                        <th id=\"T_657876e2_ccf1_11ea_afdb_0242ac1c0002level0_row24\" class=\"row_heading level0 row24\" >24</th>\n",
              "                        <td id=\"T_657876e2_ccf1_11ea_afdb_0242ac1c0002row24_col0\" class=\"data row24 col0\" >Rare Level Threshold </td>\n",
              "                        <td id=\"T_657876e2_ccf1_11ea_afdb_0242ac1c0002row24_col1\" class=\"data row24 col1\" >None</td>\n",
              "            </tr>\n",
              "            <tr>\n",
              "                        <th id=\"T_657876e2_ccf1_11ea_afdb_0242ac1c0002level0_row25\" class=\"row_heading level0 row25\" >25</th>\n",
              "                        <td id=\"T_657876e2_ccf1_11ea_afdb_0242ac1c0002row25_col0\" class=\"data row25 col0\" >Numeric Binning </td>\n",
              "                        <td id=\"T_657876e2_ccf1_11ea_afdb_0242ac1c0002row25_col1\" class=\"data row25 col1\" >False</td>\n",
              "            </tr>\n",
              "            <tr>\n",
              "                        <th id=\"T_657876e2_ccf1_11ea_afdb_0242ac1c0002level0_row26\" class=\"row_heading level0 row26\" >26</th>\n",
              "                        <td id=\"T_657876e2_ccf1_11ea_afdb_0242ac1c0002row26_col0\" class=\"data row26 col0\" >Remove Outliers </td>\n",
              "                        <td id=\"T_657876e2_ccf1_11ea_afdb_0242ac1c0002row26_col1\" class=\"data row26 col1\" >False</td>\n",
              "            </tr>\n",
              "            <tr>\n",
              "                        <th id=\"T_657876e2_ccf1_11ea_afdb_0242ac1c0002level0_row27\" class=\"row_heading level0 row27\" >27</th>\n",
              "                        <td id=\"T_657876e2_ccf1_11ea_afdb_0242ac1c0002row27_col0\" class=\"data row27 col0\" >Outliers Threshold </td>\n",
              "                        <td id=\"T_657876e2_ccf1_11ea_afdb_0242ac1c0002row27_col1\" class=\"data row27 col1\" >None</td>\n",
              "            </tr>\n",
              "            <tr>\n",
              "                        <th id=\"T_657876e2_ccf1_11ea_afdb_0242ac1c0002level0_row28\" class=\"row_heading level0 row28\" >28</th>\n",
              "                        <td id=\"T_657876e2_ccf1_11ea_afdb_0242ac1c0002row28_col0\" class=\"data row28 col0\" >Remove Multicollinearity </td>\n",
              "                        <td id=\"T_657876e2_ccf1_11ea_afdb_0242ac1c0002row28_col1\" class=\"data row28 col1\" >False</td>\n",
              "            </tr>\n",
              "            <tr>\n",
              "                        <th id=\"T_657876e2_ccf1_11ea_afdb_0242ac1c0002level0_row29\" class=\"row_heading level0 row29\" >29</th>\n",
              "                        <td id=\"T_657876e2_ccf1_11ea_afdb_0242ac1c0002row29_col0\" class=\"data row29 col0\" >Multicollinearity Threshold </td>\n",
              "                        <td id=\"T_657876e2_ccf1_11ea_afdb_0242ac1c0002row29_col1\" class=\"data row29 col1\" >None</td>\n",
              "            </tr>\n",
              "            <tr>\n",
              "                        <th id=\"T_657876e2_ccf1_11ea_afdb_0242ac1c0002level0_row30\" class=\"row_heading level0 row30\" >30</th>\n",
              "                        <td id=\"T_657876e2_ccf1_11ea_afdb_0242ac1c0002row30_col0\" class=\"data row30 col0\" >Clustering </td>\n",
              "                        <td id=\"T_657876e2_ccf1_11ea_afdb_0242ac1c0002row30_col1\" class=\"data row30 col1\" >False</td>\n",
              "            </tr>\n",
              "            <tr>\n",
              "                        <th id=\"T_657876e2_ccf1_11ea_afdb_0242ac1c0002level0_row31\" class=\"row_heading level0 row31\" >31</th>\n",
              "                        <td id=\"T_657876e2_ccf1_11ea_afdb_0242ac1c0002row31_col0\" class=\"data row31 col0\" >Clustering Iteration </td>\n",
              "                        <td id=\"T_657876e2_ccf1_11ea_afdb_0242ac1c0002row31_col1\" class=\"data row31 col1\" >None</td>\n",
              "            </tr>\n",
              "            <tr>\n",
              "                        <th id=\"T_657876e2_ccf1_11ea_afdb_0242ac1c0002level0_row32\" class=\"row_heading level0 row32\" >32</th>\n",
              "                        <td id=\"T_657876e2_ccf1_11ea_afdb_0242ac1c0002row32_col0\" class=\"data row32 col0\" >Polynomial Features </td>\n",
              "                        <td id=\"T_657876e2_ccf1_11ea_afdb_0242ac1c0002row32_col1\" class=\"data row32 col1\" >False</td>\n",
              "            </tr>\n",
              "            <tr>\n",
              "                        <th id=\"T_657876e2_ccf1_11ea_afdb_0242ac1c0002level0_row33\" class=\"row_heading level0 row33\" >33</th>\n",
              "                        <td id=\"T_657876e2_ccf1_11ea_afdb_0242ac1c0002row33_col0\" class=\"data row33 col0\" >Polynomial Degree </td>\n",
              "                        <td id=\"T_657876e2_ccf1_11ea_afdb_0242ac1c0002row33_col1\" class=\"data row33 col1\" >None</td>\n",
              "            </tr>\n",
              "            <tr>\n",
              "                        <th id=\"T_657876e2_ccf1_11ea_afdb_0242ac1c0002level0_row34\" class=\"row_heading level0 row34\" >34</th>\n",
              "                        <td id=\"T_657876e2_ccf1_11ea_afdb_0242ac1c0002row34_col0\" class=\"data row34 col0\" >Trignometry Features </td>\n",
              "                        <td id=\"T_657876e2_ccf1_11ea_afdb_0242ac1c0002row34_col1\" class=\"data row34 col1\" >False</td>\n",
              "            </tr>\n",
              "            <tr>\n",
              "                        <th id=\"T_657876e2_ccf1_11ea_afdb_0242ac1c0002level0_row35\" class=\"row_heading level0 row35\" >35</th>\n",
              "                        <td id=\"T_657876e2_ccf1_11ea_afdb_0242ac1c0002row35_col0\" class=\"data row35 col0\" >Polynomial Threshold </td>\n",
              "                        <td id=\"T_657876e2_ccf1_11ea_afdb_0242ac1c0002row35_col1\" class=\"data row35 col1\" >None</td>\n",
              "            </tr>\n",
              "            <tr>\n",
              "                        <th id=\"T_657876e2_ccf1_11ea_afdb_0242ac1c0002level0_row36\" class=\"row_heading level0 row36\" >36</th>\n",
              "                        <td id=\"T_657876e2_ccf1_11ea_afdb_0242ac1c0002row36_col0\" class=\"data row36 col0\" >Group Features </td>\n",
              "                        <td id=\"T_657876e2_ccf1_11ea_afdb_0242ac1c0002row36_col1\" class=\"data row36 col1\" >False</td>\n",
              "            </tr>\n",
              "            <tr>\n",
              "                        <th id=\"T_657876e2_ccf1_11ea_afdb_0242ac1c0002level0_row37\" class=\"row_heading level0 row37\" >37</th>\n",
              "                        <td id=\"T_657876e2_ccf1_11ea_afdb_0242ac1c0002row37_col0\" class=\"data row37 col0\" >Feature Selection </td>\n",
              "                        <td id=\"T_657876e2_ccf1_11ea_afdb_0242ac1c0002row37_col1\" class=\"data row37 col1\" >False</td>\n",
              "            </tr>\n",
              "            <tr>\n",
              "                        <th id=\"T_657876e2_ccf1_11ea_afdb_0242ac1c0002level0_row38\" class=\"row_heading level0 row38\" >38</th>\n",
              "                        <td id=\"T_657876e2_ccf1_11ea_afdb_0242ac1c0002row38_col0\" class=\"data row38 col0\" >Features Selection Threshold </td>\n",
              "                        <td id=\"T_657876e2_ccf1_11ea_afdb_0242ac1c0002row38_col1\" class=\"data row38 col1\" >None</td>\n",
              "            </tr>\n",
              "            <tr>\n",
              "                        <th id=\"T_657876e2_ccf1_11ea_afdb_0242ac1c0002level0_row39\" class=\"row_heading level0 row39\" >39</th>\n",
              "                        <td id=\"T_657876e2_ccf1_11ea_afdb_0242ac1c0002row39_col0\" class=\"data row39 col0\" >Feature Interaction </td>\n",
              "                        <td id=\"T_657876e2_ccf1_11ea_afdb_0242ac1c0002row39_col1\" class=\"data row39 col1\" >False</td>\n",
              "            </tr>\n",
              "            <tr>\n",
              "                        <th id=\"T_657876e2_ccf1_11ea_afdb_0242ac1c0002level0_row40\" class=\"row_heading level0 row40\" >40</th>\n",
              "                        <td id=\"T_657876e2_ccf1_11ea_afdb_0242ac1c0002row40_col0\" class=\"data row40 col0\" >Feature Ratio </td>\n",
              "                        <td id=\"T_657876e2_ccf1_11ea_afdb_0242ac1c0002row40_col1\" class=\"data row40 col1\" >False</td>\n",
              "            </tr>\n",
              "            <tr>\n",
              "                        <th id=\"T_657876e2_ccf1_11ea_afdb_0242ac1c0002level0_row41\" class=\"row_heading level0 row41\" >41</th>\n",
              "                        <td id=\"T_657876e2_ccf1_11ea_afdb_0242ac1c0002row41_col0\" class=\"data row41 col0\" >Interaction Threshold </td>\n",
              "                        <td id=\"T_657876e2_ccf1_11ea_afdb_0242ac1c0002row41_col1\" class=\"data row41 col1\" >None</td>\n",
              "            </tr>\n",
              "    </tbody></table>"
            ],
            "text/plain": [
              "<pandas.io.formats.style.Styler at 0x7f44c67b1898>"
            ]
          },
          "metadata": {
            "tags": []
          }
        }
      ]
    },
    {
      "cell_type": "markdown",
      "metadata": {
        "id": "kp0ghINQ0a7h",
        "colab_type": "text"
      },
      "source": [
        "## Build Random Forest"
      ]
    },
    {
      "cell_type": "code",
      "metadata": {
        "id": "B1TWLznvyAQe",
        "colab_type": "code",
        "colab": {
          "base_uri": "https://localhost:8080/",
          "height": 421,
          "referenced_widgets": [
            "5d41c2349a184b6ca6e31bf39c4c4be6",
            "3965801e20274b87909d45c48a168135",
            "1f2890408a83467fbd9c867f00907044"
          ]
        },
        "outputId": "6b5c6db3-c5ea-4569-ba14-8cc94d97b5d3"
      },
      "source": [
        "rf = create_model(estimator = 'rf')"
      ],
      "execution_count": null,
      "outputs": [
        {
          "output_type": "display_data",
          "data": {
            "text/html": [
              "<div>\n",
              "<style scoped>\n",
              "    .dataframe tbody tr th:only-of-type {\n",
              "        vertical-align: middle;\n",
              "    }\n",
              "\n",
              "    .dataframe tbody tr th {\n",
              "        vertical-align: top;\n",
              "    }\n",
              "\n",
              "    .dataframe thead th {\n",
              "        text-align: right;\n",
              "    }\n",
              "</style>\n",
              "<table border=\"1\" class=\"dataframe\">\n",
              "  <thead>\n",
              "    <tr style=\"text-align: right;\">\n",
              "      <th></th>\n",
              "      <th>MAE</th>\n",
              "      <th>MSE</th>\n",
              "      <th>RMSE</th>\n",
              "      <th>R2</th>\n",
              "      <th>RMSLE</th>\n",
              "      <th>MAPE</th>\n",
              "    </tr>\n",
              "  </thead>\n",
              "  <tbody>\n",
              "    <tr>\n",
              "      <th>0</th>\n",
              "      <td>38.1482</td>\n",
              "      <td>5884.2568</td>\n",
              "      <td>76.7089</td>\n",
              "      <td>0.4089</td>\n",
              "      <td>0.4009</td>\n",
              "      <td>0.3334</td>\n",
              "    </tr>\n",
              "    <tr>\n",
              "      <th>1</th>\n",
              "      <td>36.7419</td>\n",
              "      <td>3758.8189</td>\n",
              "      <td>61.3092</td>\n",
              "      <td>0.4515</td>\n",
              "      <td>0.4125</td>\n",
              "      <td>0.3796</td>\n",
              "    </tr>\n",
              "    <tr>\n",
              "      <th>2</th>\n",
              "      <td>41.2220</td>\n",
              "      <td>5031.4413</td>\n",
              "      <td>70.9327</td>\n",
              "      <td>0.2654</td>\n",
              "      <td>0.4493</td>\n",
              "      <td>0.4306</td>\n",
              "    </tr>\n",
              "    <tr>\n",
              "      <th>3</th>\n",
              "      <td>35.9288</td>\n",
              "      <td>4534.0866</td>\n",
              "      <td>67.3356</td>\n",
              "      <td>0.2684</td>\n",
              "      <td>0.4188</td>\n",
              "      <td>0.4001</td>\n",
              "    </tr>\n",
              "    <tr>\n",
              "      <th>4</th>\n",
              "      <td>38.2554</td>\n",
              "      <td>5474.0635</td>\n",
              "      <td>73.9869</td>\n",
              "      <td>0.6087</td>\n",
              "      <td>0.4069</td>\n",
              "      <td>0.3538</td>\n",
              "    </tr>\n",
              "    <tr>\n",
              "      <th>5</th>\n",
              "      <td>37.3403</td>\n",
              "      <td>4712.6090</td>\n",
              "      <td>68.6484</td>\n",
              "      <td>0.2790</td>\n",
              "      <td>0.4340</td>\n",
              "      <td>0.3888</td>\n",
              "    </tr>\n",
              "    <tr>\n",
              "      <th>6</th>\n",
              "      <td>40.1441</td>\n",
              "      <td>11012.6794</td>\n",
              "      <td>104.9413</td>\n",
              "      <td>0.5249</td>\n",
              "      <td>0.4084</td>\n",
              "      <td>0.3634</td>\n",
              "    </tr>\n",
              "    <tr>\n",
              "      <th>7</th>\n",
              "      <td>38.6769</td>\n",
              "      <td>4694.9398</td>\n",
              "      <td>68.5196</td>\n",
              "      <td>0.5173</td>\n",
              "      <td>0.4285</td>\n",
              "      <td>0.3848</td>\n",
              "    </tr>\n",
              "    <tr>\n",
              "      <th>8</th>\n",
              "      <td>39.2006</td>\n",
              "      <td>14454.4976</td>\n",
              "      <td>120.2269</td>\n",
              "      <td>0.3159</td>\n",
              "      <td>0.3955</td>\n",
              "      <td>0.3410</td>\n",
              "    </tr>\n",
              "    <tr>\n",
              "      <th>9</th>\n",
              "      <td>38.1859</td>\n",
              "      <td>5229.7311</td>\n",
              "      <td>72.3169</td>\n",
              "      <td>0.4266</td>\n",
              "      <td>0.4297</td>\n",
              "      <td>0.3775</td>\n",
              "    </tr>\n",
              "    <tr>\n",
              "      <th>Mean</th>\n",
              "      <td>38.3844</td>\n",
              "      <td>6478.7124</td>\n",
              "      <td>78.4926</td>\n",
              "      <td>0.4067</td>\n",
              "      <td>0.4185</td>\n",
              "      <td>0.3753</td>\n",
              "    </tr>\n",
              "    <tr>\n",
              "      <th>SD</th>\n",
              "      <td>1.4775</td>\n",
              "      <td>3266.0007</td>\n",
              "      <td>17.8218</td>\n",
              "      <td>0.1153</td>\n",
              "      <td>0.0159</td>\n",
              "      <td>0.0274</td>\n",
              "    </tr>\n",
              "  </tbody>\n",
              "</table>\n",
              "</div>"
            ],
            "text/plain": [
              "          MAE         MSE      RMSE      R2   RMSLE    MAPE\n",
              "0     38.1482   5884.2568   76.7089  0.4089  0.4009  0.3334\n",
              "1     36.7419   3758.8189   61.3092  0.4515  0.4125  0.3796\n",
              "2     41.2220   5031.4413   70.9327  0.2654  0.4493  0.4306\n",
              "3     35.9288   4534.0866   67.3356  0.2684  0.4188  0.4001\n",
              "4     38.2554   5474.0635   73.9869  0.6087  0.4069  0.3538\n",
              "5     37.3403   4712.6090   68.6484  0.2790  0.4340  0.3888\n",
              "6     40.1441  11012.6794  104.9413  0.5249  0.4084  0.3634\n",
              "7     38.6769   4694.9398   68.5196  0.5173  0.4285  0.3848\n",
              "8     39.2006  14454.4976  120.2269  0.3159  0.3955  0.3410\n",
              "9     38.1859   5229.7311   72.3169  0.4266  0.4297  0.3775\n",
              "Mean  38.3844   6478.7124   78.4926  0.4067  0.4185  0.3753\n",
              "SD     1.4775   3266.0007   17.8218  0.1153  0.0159  0.0274"
            ]
          },
          "metadata": {
            "tags": []
          }
        }
      ]
    },
    {
      "cell_type": "markdown",
      "metadata": {
        "id": "cTr5U7Fi0XAp",
        "colab_type": "text"
      },
      "source": [
        "## Residuals"
      ]
    },
    {
      "cell_type": "code",
      "metadata": {
        "id": "E0kLqQts0BwC",
        "colab_type": "code",
        "colab": {
          "base_uri": "https://localhost:8080/",
          "height": 376,
          "referenced_widgets": [
            "3669f5b7856b4f7483983dbd95c8fc88",
            "b96ddaabcd3a4fc7b2c1faed579514c8",
            "c0aa124eb0684089bcbf251ae788ff10"
          ]
        },
        "outputId": "9a6f7886-b663-405b-d0f5-71123a9aaa53"
      },
      "source": [
        "plot_model(rf, plot='residuals')"
      ],
      "execution_count": null,
      "outputs": [
        {
          "output_type": "display_data",
          "data": {
            "image/png": "[encoded data removed]",
            "text/plain": [
              "<Figure size 576x396 with 2 Axes>"
            ]
          },
          "metadata": {
            "tags": []
          }
        }
      ]
    },
    {
      "cell_type": "markdown",
      "metadata": {
        "id": "ZygpfBCE0gr8",
        "colab_type": "text"
      },
      "source": [
        "## Errors"
      ]
    },
    {
      "cell_type": "code",
      "metadata": {
        "id": "1fHorDUq0j2E",
        "colab_type": "code",
        "colab": {
          "base_uri": "https://localhost:8080/",
          "height": 378,
          "referenced_widgets": [
            "30f2966b13f64157ad4c49af7ab9f733"
          ]
        },
        "outputId": "c8f538db-e2f1-4773-a34f-6284f94c845c"
      },
      "source": [
        "plot_model(rf, plot='error')"
      ],
      "execution_count": null,
      "outputs": [
        {
          "output_type": "display_data",
          "data": {
            "image/png": "[encoded data removed]",
            "text/plain": [
              "<Figure size 576x396 with 1 Axes>"
            ]
          },
          "metadata": {
            "tags": []
          }
        }
      ]
    },
    {
      "cell_type": "markdown",
      "metadata": {
        "id": "mXA-WXV20mXa",
        "colab_type": "text"
      },
      "source": [
        "## Feature Importance"
      ]
    },
    {
      "cell_type": "code",
      "metadata": {
        "id": "vOc0X-Rd0o3t",
        "colab_type": "code",
        "colab": {
          "base_uri": "https://localhost:8080/",
          "height": 349,
          "referenced_widgets": [
            "e566b7e3082f4b7ea392e58fda367bf5"
          ]
        },
        "outputId": "cd657f08-2c0b-4b0f-b66b-27ee5d6aab54"
      },
      "source": [
        "plot_model(rf, plot='feature')"
      ],
      "execution_count": null,
      "outputs": [
        {
          "output_type": "display_data",
          "data": {
            "image/png": "[encoded data removed]",
            "text/plain": [
              "<Figure size 576x360 with 1 Axes>"
            ]
          },
          "metadata": {
            "tags": []
          }
        }
      ]
    },
    {
      "cell_type": "code",
      "metadata": {
        "id": "io30vKCj1rUY",
        "colab_type": "code",
        "colab": {
          "base_uri": "https://localhost:8080/",
          "height": 519
        },
        "outputId": "d16ca367-b8b7-41dc-9b0a-b7d1aac351ab"
      },
      "source": [
        "predict_model(rf)"
      ],
      "execution_count": null,
      "outputs": [
        {
          "output_type": "display_data",
          "data": {
            "text/html": [
              "<div>\n",
              "<style scoped>\n",
              "    .dataframe tbody tr th:only-of-type {\n",
              "        vertical-align: middle;\n",
              "    }\n",
              "\n",
              "    .dataframe tbody tr th {\n",
              "        vertical-align: top;\n",
              "    }\n",
              "\n",
              "    .dataframe thead th {\n",
              "        text-align: right;\n",
              "    }\n",
              "</style>\n",
              "<table border=\"1\" class=\"dataframe\">\n",
              "  <thead>\n",
              "    <tr style=\"text-align: right;\">\n",
              "      <th></th>\n",
              "      <th>Model</th>\n",
              "      <th>MAE</th>\n",
              "      <th>MSE</th>\n",
              "      <th>RMSE</th>\n",
              "      <th>R2</th>\n",
              "      <th>RMSLE</th>\n",
              "      <th>MAPE</th>\n",
              "    </tr>\n",
              "  </thead>\n",
              "  <tbody>\n",
              "    <tr>\n",
              "      <th>0</th>\n",
              "      <td>Random Forest Regressor</td>\n",
              "      <td>39.6194</td>\n",
              "      <td>18560.2877</td>\n",
              "      <td>136.2361</td>\n",
              "      <td>0.2098</td>\n",
              "      <td>0.414</td>\n",
              "      <td>0.3546</td>\n",
              "    </tr>\n",
              "  </tbody>\n",
              "</table>\n",
              "</div>"
            ],
            "text/plain": [
              "                     Model      MAE         MSE  ...      R2  RMSLE    MAPE\n",
              "0  Random Forest Regressor  39.6194  18560.2877  ...  0.2098  0.414  0.3546\n",
              "\n",
              "[1 rows x 7 columns]"
            ]
          },
          "metadata": {
            "tags": []
          }
        },
        {
          "output_type": "execute_result",
          "data": {
            "text/html": [
              "<div>\n",
              "<style scoped>\n",
              "    .dataframe tbody tr th:only-of-type {\n",
              "        vertical-align: middle;\n",
              "    }\n",
              "\n",
              "    .dataframe tbody tr th {\n",
              "        vertical-align: top;\n",
              "    }\n",
              "\n",
              "    .dataframe thead th {\n",
              "        text-align: right;\n",
              "    }\n",
              "</style>\n",
              "<table border=\"1\" class=\"dataframe\">\n",
              "  <thead>\n",
              "    <tr style=\"text-align: right;\">\n",
              "      <th></th>\n",
              "      <th>reviews</th>\n",
              "      <th>overall_satisfaction</th>\n",
              "      <th>accommodates</th>\n",
              "      <th>bedrooms</th>\n",
              "      <th>bathrooms</th>\n",
              "      <th>latitude</th>\n",
              "      <th>longitude</th>\n",
              "      <th>lda_topic_0</th>\n",
              "      <th>lda_topic_1</th>\n",
              "      <th>lda_topic_2</th>\n",
              "      <th>lda_topic_3</th>\n",
              "      <th>lda_topic_4</th>\n",
              "      <th>room_type_Entire home/apt</th>\n",
              "      <th>room_type_Private room</th>\n",
              "      <th>room_type_Shared room</th>\n",
              "      <th>currency_USD</th>\n",
              "      <th>rate_type_nightly</th>\n",
              "      <th>price</th>\n",
              "      <th>Label</th>\n",
              "    </tr>\n",
              "  </thead>\n",
              "  <tbody>\n",
              "    <tr>\n",
              "      <th>0</th>\n",
              "      <td>19.0</td>\n",
              "      <td>5.000000</td>\n",
              "      <td>2.0</td>\n",
              "      <td>1.0</td>\n",
              "      <td>2.5</td>\n",
              "      <td>47.534491</td>\n",
              "      <td>-122.280063</td>\n",
              "      <td>0.101394</td>\n",
              "      <td>0.509440</td>\n",
              "      <td>0.106979</td>\n",
              "      <td>0.101406</td>\n",
              "      <td>0.180782</td>\n",
              "      <td>0.0</td>\n",
              "      <td>1.0</td>\n",
              "      <td>0.0</td>\n",
              "      <td>1.0</td>\n",
              "      <td>1.0</td>\n",
              "      <td>43</td>\n",
              "      <td>46.13</td>\n",
              "    </tr>\n",
              "    <tr>\n",
              "      <th>1</th>\n",
              "      <td>60.0</td>\n",
              "      <td>5.000000</td>\n",
              "      <td>2.0</td>\n",
              "      <td>1.0</td>\n",
              "      <td>1.5</td>\n",
              "      <td>47.544524</td>\n",
              "      <td>-122.321100</td>\n",
              "      <td>0.101210</td>\n",
              "      <td>0.106201</td>\n",
              "      <td>0.101970</td>\n",
              "      <td>0.101408</td>\n",
              "      <td>0.589211</td>\n",
              "      <td>1.0</td>\n",
              "      <td>0.0</td>\n",
              "      <td>0.0</td>\n",
              "      <td>1.0</td>\n",
              "      <td>1.0</td>\n",
              "      <td>75</td>\n",
              "      <td>79.43</td>\n",
              "    </tr>\n",
              "    <tr>\n",
              "      <th>2</th>\n",
              "      <td>19.0</td>\n",
              "      <td>4.500000</td>\n",
              "      <td>2.0</td>\n",
              "      <td>1.0</td>\n",
              "      <td>2.0</td>\n",
              "      <td>47.661323</td>\n",
              "      <td>-122.323993</td>\n",
              "      <td>0.100166</td>\n",
              "      <td>0.536367</td>\n",
              "      <td>0.108386</td>\n",
              "      <td>0.102267</td>\n",
              "      <td>0.152814</td>\n",
              "      <td>0.0</td>\n",
              "      <td>1.0</td>\n",
              "      <td>0.0</td>\n",
              "      <td>1.0</td>\n",
              "      <td>1.0</td>\n",
              "      <td>25</td>\n",
              "      <td>26.84</td>\n",
              "    </tr>\n",
              "    <tr>\n",
              "      <th>3</th>\n",
              "      <td>0.0</td>\n",
              "      <td>4.841226</td>\n",
              "      <td>3.0</td>\n",
              "      <td>1.0</td>\n",
              "      <td>1.0</td>\n",
              "      <td>47.600047</td>\n",
              "      <td>-122.323676</td>\n",
              "      <td>0.100209</td>\n",
              "      <td>0.102164</td>\n",
              "      <td>0.101045</td>\n",
              "      <td>0.100699</td>\n",
              "      <td>0.595882</td>\n",
              "      <td>1.0</td>\n",
              "      <td>0.0</td>\n",
              "      <td>0.0</td>\n",
              "      <td>1.0</td>\n",
              "      <td>1.0</td>\n",
              "      <td>40</td>\n",
              "      <td>54.78</td>\n",
              "    </tr>\n",
              "    <tr>\n",
              "      <th>4</th>\n",
              "      <td>252.0</td>\n",
              "      <td>5.000000</td>\n",
              "      <td>3.0</td>\n",
              "      <td>0.0</td>\n",
              "      <td>1.0</td>\n",
              "      <td>47.611760</td>\n",
              "      <td>-122.321416</td>\n",
              "      <td>0.101387</td>\n",
              "      <td>0.500773</td>\n",
              "      <td>0.106656</td>\n",
              "      <td>0.101395</td>\n",
              "      <td>0.189789</td>\n",
              "      <td>1.0</td>\n",
              "      <td>0.0</td>\n",
              "      <td>0.0</td>\n",
              "      <td>1.0</td>\n",
              "      <td>1.0</td>\n",
              "      <td>50</td>\n",
              "      <td>71.97</td>\n",
              "    </tr>\n",
              "    <tr>\n",
              "      <th>...</th>\n",
              "      <td>...</td>\n",
              "      <td>...</td>\n",
              "      <td>...</td>\n",
              "      <td>...</td>\n",
              "      <td>...</td>\n",
              "      <td>...</td>\n",
              "      <td>...</td>\n",
              "      <td>...</td>\n",
              "      <td>...</td>\n",
              "      <td>...</td>\n",
              "      <td>...</td>\n",
              "      <td>...</td>\n",
              "      <td>...</td>\n",
              "      <td>...</td>\n",
              "      <td>...</td>\n",
              "      <td>...</td>\n",
              "      <td>...</td>\n",
              "      <td>...</td>\n",
              "      <td>...</td>\n",
              "    </tr>\n",
              "    <tr>\n",
              "      <th>2268</th>\n",
              "      <td>2.0</td>\n",
              "      <td>4.841226</td>\n",
              "      <td>5.0</td>\n",
              "      <td>4.0</td>\n",
              "      <td>2.0</td>\n",
              "      <td>47.528364</td>\n",
              "      <td>-122.280887</td>\n",
              "      <td>0.101396</td>\n",
              "      <td>0.511668</td>\n",
              "      <td>0.106975</td>\n",
              "      <td>0.101403</td>\n",
              "      <td>0.178558</td>\n",
              "      <td>1.0</td>\n",
              "      <td>0.0</td>\n",
              "      <td>0.0</td>\n",
              "      <td>1.0</td>\n",
              "      <td>1.0</td>\n",
              "      <td>138</td>\n",
              "      <td>149.96</td>\n",
              "    </tr>\n",
              "    <tr>\n",
              "      <th>2269</th>\n",
              "      <td>152.0</td>\n",
              "      <td>5.000000</td>\n",
              "      <td>2.0</td>\n",
              "      <td>1.0</td>\n",
              "      <td>1.0</td>\n",
              "      <td>47.606228</td>\n",
              "      <td>-122.325413</td>\n",
              "      <td>0.101395</td>\n",
              "      <td>0.503415</td>\n",
              "      <td>0.106382</td>\n",
              "      <td>0.101370</td>\n",
              "      <td>0.187437</td>\n",
              "      <td>0.0</td>\n",
              "      <td>1.0</td>\n",
              "      <td>0.0</td>\n",
              "      <td>1.0</td>\n",
              "      <td>1.0</td>\n",
              "      <td>60</td>\n",
              "      <td>72.66</td>\n",
              "    </tr>\n",
              "    <tr>\n",
              "      <th>2270</th>\n",
              "      <td>1.0</td>\n",
              "      <td>4.841226</td>\n",
              "      <td>4.0</td>\n",
              "      <td>2.0</td>\n",
              "      <td>1.5</td>\n",
              "      <td>47.674842</td>\n",
              "      <td>-122.380528</td>\n",
              "      <td>0.100461</td>\n",
              "      <td>0.117332</td>\n",
              "      <td>0.525872</td>\n",
              "      <td>0.104376</td>\n",
              "      <td>0.151959</td>\n",
              "      <td>1.0</td>\n",
              "      <td>0.0</td>\n",
              "      <td>0.0</td>\n",
              "      <td>1.0</td>\n",
              "      <td>1.0</td>\n",
              "      <td>173</td>\n",
              "      <td>189.25</td>\n",
              "    </tr>\n",
              "    <tr>\n",
              "      <th>2271</th>\n",
              "      <td>80.0</td>\n",
              "      <td>5.000000</td>\n",
              "      <td>2.0</td>\n",
              "      <td>1.0</td>\n",
              "      <td>1.0</td>\n",
              "      <td>47.556566</td>\n",
              "      <td>-122.363248</td>\n",
              "      <td>0.100465</td>\n",
              "      <td>0.117817</td>\n",
              "      <td>0.523235</td>\n",
              "      <td>0.104429</td>\n",
              "      <td>0.154053</td>\n",
              "      <td>0.0</td>\n",
              "      <td>1.0</td>\n",
              "      <td>0.0</td>\n",
              "      <td>1.0</td>\n",
              "      <td>1.0</td>\n",
              "      <td>49</td>\n",
              "      <td>72.32</td>\n",
              "    </tr>\n",
              "    <tr>\n",
              "      <th>2272</th>\n",
              "      <td>13.0</td>\n",
              "      <td>5.000000</td>\n",
              "      <td>4.0</td>\n",
              "      <td>1.0</td>\n",
              "      <td>1.0</td>\n",
              "      <td>47.630635</td>\n",
              "      <td>-122.367796</td>\n",
              "      <td>0.100259</td>\n",
              "      <td>0.102684</td>\n",
              "      <td>0.101320</td>\n",
              "      <td>0.100877</td>\n",
              "      <td>0.594861</td>\n",
              "      <td>1.0</td>\n",
              "      <td>0.0</td>\n",
              "      <td>0.0</td>\n",
              "      <td>1.0</td>\n",
              "      <td>1.0</td>\n",
              "      <td>90</td>\n",
              "      <td>129.80</td>\n",
              "    </tr>\n",
              "  </tbody>\n",
              "</table>\n",
              "<p>2273 rows × 19 columns</p>\n",
              "</div>"
            ],
            "text/plain": [
              "      reviews  overall_satisfaction  ...  price   Label\n",
              "0        19.0              5.000000  ...     43   46.13\n",
              "1        60.0              5.000000  ...     75   79.43\n",
              "2        19.0              4.500000  ...     25   26.84\n",
              "3         0.0              4.841226  ...     40   54.78\n",
              "4       252.0              5.000000  ...     50   71.97\n",
              "...       ...                   ...  ...    ...     ...\n",
              "2268      2.0              4.841226  ...    138  149.96\n",
              "2269    152.0              5.000000  ...     60   72.66\n",
              "2270      1.0              4.841226  ...    173  189.25\n",
              "2271     80.0              5.000000  ...     49   72.32\n",
              "2272     13.0              5.000000  ...     90  129.80\n",
              "\n",
              "[2273 rows x 19 columns]"
            ]
          },
          "metadata": {
            "tags": []
          },
          "execution_count": 62
        }
      ]
    },
    {
      "cell_type": "code",
      "metadata": {
        "id": "L4vUzAfw5gbB",
        "colab_type": "code",
        "colab": {}
      },
      "source": [
        ""
      ],
      "execution_count": null,
      "outputs": []
    }
  ]
}