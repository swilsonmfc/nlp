{
  "nbformat": 4,
  "nbformat_minor": 0,
  "metadata": {
    "colab": {
      "name": "NLPTopicModel.ipynb",
      "provenance": [],
      "collapsed_sections": [],
      "toc_visible": true,
      "authorship_tag": "ABX9TyPCuS0TzZvddlZeO00pktBn",
      "include_colab_link": true
    },
    "kernelspec": {
      "name": "python3",
      "display_name": "Python 3"
    },
    "widgets": {
      "application/vnd.jupyter.widget-state+json": {
        "7a37db441c4042a98087723891ad7fcf": {
          "model_module": "@jupyter-widgets/controls",
          "model_name": "IntProgressModel",
          "state": {
            "_view_name": "ProgressView",
            "style": "IPY_MODEL_0f9e552a456740579d288570581c670e",
            "_dom_classes": [],
            "description": "Processing: ",
            "_model_name": "IntProgressModel",
            "bar_style": "",
            "max": 13,
            "_view_module": "@jupyter-widgets/controls",
            "_model_module_version": "1.5.0",
            "value": 3,
            "_view_count": null,
            "_view_module_version": "1.5.0",
            "orientation": "horizontal",
            "min": 0,
            "description_tooltip": null,
            "_model_module": "@jupyter-widgets/controls",
            "layout": "IPY_MODEL_ffdedafd636945ec837009ddbcca8513"
          }
        },
        "0f9e552a456740579d288570581c670e": {
          "model_module": "@jupyter-widgets/controls",
          "model_name": "ProgressStyleModel",
          "state": {
            "_view_name": "StyleView",
            "_model_name": "ProgressStyleModel",
            "description_width": "",
            "_view_module": "@jupyter-widgets/base",
            "_model_module_version": "1.5.0",
            "_view_count": null,
            "_view_module_version": "1.2.0",
            "bar_color": null,
            "_model_module": "@jupyter-widgets/controls"
          }
        },
        "ffdedafd636945ec837009ddbcca8513": {
          "model_module": "@jupyter-widgets/base",
          "model_name": "LayoutModel",
          "state": {
            "_view_name": "LayoutView",
            "grid_template_rows": null,
            "right": null,
            "justify_content": null,
            "_view_module": "@jupyter-widgets/base",
            "overflow": null,
            "_model_module_version": "1.2.0",
            "_view_count": null,
            "flex_flow": null,
            "width": null,
            "min_width": null,
            "border": null,
            "align_items": null,
            "bottom": null,
            "_model_module": "@jupyter-widgets/base",
            "top": null,
            "grid_column": null,
            "overflow_y": null,
            "overflow_x": null,
            "grid_auto_flow": null,
            "grid_area": null,
            "grid_template_columns": null,
            "flex": null,
            "_model_name": "LayoutModel",
            "justify_items": null,
            "grid_row": null,
            "max_height": null,
            "align_content": null,
            "visibility": null,
            "align_self": null,
            "height": null,
            "min_height": null,
            "padding": null,
            "grid_auto_rows": null,
            "grid_gap": null,
            "max_width": null,
            "order": null,
            "_view_module_version": "1.2.0",
            "grid_template_areas": null,
            "object_position": null,
            "object_fit": null,
            "grid_auto_columns": null,
            "margin": null,
            "display": null,
            "left": null
          }
        },
        "94c2129f8d754d648838e6d2d692971e": {
          "model_module": "@jupyter-widgets/controls",
          "model_name": "TextModel",
          "state": {
            "_view_name": "TextView",
            "style": "IPY_MODEL_207fea1b87c4406c9e48b10e9836b43e",
            "_dom_classes": [],
            "description": "",
            "_model_name": "TextModel",
            "placeholder": "​",
            "_view_module": "@jupyter-widgets/controls",
            "_model_module_version": "1.5.0",
            "value": "Following data types have been inferred automatically, if they are correct press enter to continue or type 'quit' otherwise.",
            "_view_count": null,
            "disabled": false,
            "_view_module_version": "1.5.0",
            "continuous_update": true,
            "description_tooltip": null,
            "_model_module": "@jupyter-widgets/controls",
            "layout": "IPY_MODEL_83454ec7687d4cc2a6588735f29476d6"
          }
        },
        "207fea1b87c4406c9e48b10e9836b43e": {
          "model_module": "@jupyter-widgets/controls",
          "model_name": "DescriptionStyleModel",
          "state": {
            "_view_name": "StyleView",
            "_model_name": "DescriptionStyleModel",
            "description_width": "",
            "_view_module": "@jupyter-widgets/base",
            "_model_module_version": "1.5.0",
            "_view_count": null,
            "_view_module_version": "1.2.0",
            "_model_module": "@jupyter-widgets/controls"
          }
        },
        "83454ec7687d4cc2a6588735f29476d6": {
          "model_module": "@jupyter-widgets/base",
          "model_name": "LayoutModel",
          "state": {
            "_view_name": "LayoutView",
            "grid_template_rows": null,
            "right": null,
            "justify_content": null,
            "_view_module": "@jupyter-widgets/base",
            "overflow": null,
            "_model_module_version": "1.2.0",
            "_view_count": null,
            "flex_flow": null,
            "width": "100%",
            "min_width": null,
            "border": null,
            "align_items": null,
            "bottom": null,
            "_model_module": "@jupyter-widgets/base",
            "top": null,
            "grid_column": null,
            "overflow_y": null,
            "overflow_x": null,
            "grid_auto_flow": null,
            "grid_area": null,
            "grid_template_columns": null,
            "flex": null,
            "_model_name": "LayoutModel",
            "justify_items": null,
            "grid_row": null,
            "max_height": null,
            "align_content": null,
            "visibility": null,
            "align_self": null,
            "height": null,
            "min_height": null,
            "padding": null,
            "grid_auto_rows": null,
            "grid_gap": null,
            "max_width": null,
            "order": null,
            "_view_module_version": "1.2.0",
            "grid_template_areas": null,
            "object_position": null,
            "object_fit": null,
            "grid_auto_columns": null,
            "margin": null,
            "display": null,
            "left": null
          }
        },
        "abd2719acb6244d8b4138ddc62bcd948": {
          "model_module": "@jupyter-widgets/controls",
          "model_name": "IntProgressModel",
          "state": {
            "_view_name": "ProgressView",
            "style": "IPY_MODEL_bf28785502da4426be78946208265385",
            "_dom_classes": [],
            "description": "Processing: ",
            "_model_name": "IntProgressModel",
            "bar_style": "",
            "max": 14,
            "_view_module": "@jupyter-widgets/controls",
            "_model_module_version": "1.5.0",
            "value": 14,
            "_view_count": null,
            "_view_module_version": "1.5.0",
            "orientation": "horizontal",
            "min": 0,
            "description_tooltip": null,
            "_model_module": "@jupyter-widgets/controls",
            "layout": "IPY_MODEL_4cdcf62cc2b7484fb888adefff4cc03a"
          }
        },
        "bf28785502da4426be78946208265385": {
          "model_module": "@jupyter-widgets/controls",
          "model_name": "ProgressStyleModel",
          "state": {
            "_view_name": "StyleView",
            "_model_name": "ProgressStyleModel",
            "description_width": "",
            "_view_module": "@jupyter-widgets/base",
            "_model_module_version": "1.5.0",
            "_view_count": null,
            "_view_module_version": "1.2.0",
            "bar_color": null,
            "_model_module": "@jupyter-widgets/controls"
          }
        },
        "4cdcf62cc2b7484fb888adefff4cc03a": {
          "model_module": "@jupyter-widgets/base",
          "model_name": "LayoutModel",
          "state": {
            "_view_name": "LayoutView",
            "grid_template_rows": null,
            "right": null,
            "justify_content": null,
            "_view_module": "@jupyter-widgets/base",
            "overflow": null,
            "_model_module_version": "1.2.0",
            "_view_count": null,
            "flex_flow": null,
            "width": null,
            "min_width": null,
            "border": null,
            "align_items": null,
            "bottom": null,
            "_model_module": "@jupyter-widgets/base",
            "top": null,
            "grid_column": null,
            "overflow_y": null,
            "overflow_x": null,
            "grid_auto_flow": null,
            "grid_area": null,
            "grid_template_columns": null,
            "flex": null,
            "_model_name": "LayoutModel",
            "justify_items": null,
            "grid_row": null,
            "max_height": null,
            "align_content": null,
            "visibility": null,
            "align_self": null,
            "height": null,
            "min_height": null,
            "padding": null,
            "grid_auto_rows": null,
            "grid_gap": null,
            "max_width": null,
            "order": null,
            "_view_module_version": "1.2.0",
            "grid_template_areas": null,
            "object_position": null,
            "object_fit": null,
            "grid_auto_columns": null,
            "margin": null,
            "display": null,
            "left": null
          }
        },
        "c27eb224b5a340648abe99e7af0258b8": {
          "model_module": "@jupyter-widgets/controls",
          "model_name": "IntProgressModel",
          "state": {
            "_view_name": "ProgressView",
            "style": "IPY_MODEL_656ddd5c604246d7aa8d7099e872bce4",
            "_dom_classes": [],
            "description": "Processing: ",
            "_model_name": "IntProgressModel",
            "bar_style": "",
            "max": 5,
            "_view_module": "@jupyter-widgets/controls",
            "_model_module_version": "1.5.0",
            "value": 4,
            "_view_count": null,
            "_view_module_version": "1.5.0",
            "orientation": "horizontal",
            "min": 0,
            "description_tooltip": null,
            "_model_module": "@jupyter-widgets/controls",
            "layout": "IPY_MODEL_b9c7394dcb8746c5be2d8c85fa41e378"
          }
        },
        "656ddd5c604246d7aa8d7099e872bce4": {
          "model_module": "@jupyter-widgets/controls",
          "model_name": "ProgressStyleModel",
          "state": {
            "_view_name": "StyleView",
            "_model_name": "ProgressStyleModel",
            "description_width": "",
            "_view_module": "@jupyter-widgets/base",
            "_model_module_version": "1.5.0",
            "_view_count": null,
            "_view_module_version": "1.2.0",
            "bar_color": null,
            "_model_module": "@jupyter-widgets/controls"
          }
        },
        "b9c7394dcb8746c5be2d8c85fa41e378": {
          "model_module": "@jupyter-widgets/base",
          "model_name": "LayoutModel",
          "state": {
            "_view_name": "LayoutView",
            "grid_template_rows": null,
            "right": null,
            "justify_content": null,
            "_view_module": "@jupyter-widgets/base",
            "overflow": null,
            "_model_module_version": "1.2.0",
            "_view_count": null,
            "flex_flow": null,
            "width": null,
            "min_width": null,
            "border": null,
            "align_items": null,
            "bottom": null,
            "_model_module": "@jupyter-widgets/base",
            "top": null,
            "grid_column": null,
            "overflow_y": null,
            "overflow_x": null,
            "grid_auto_flow": null,
            "grid_area": null,
            "grid_template_columns": null,
            "flex": null,
            "_model_name": "LayoutModel",
            "justify_items": null,
            "grid_row": null,
            "max_height": null,
            "align_content": null,
            "visibility": null,
            "align_self": null,
            "height": null,
            "min_height": null,
            "padding": null,
            "grid_auto_rows": null,
            "grid_gap": null,
            "max_width": null,
            "order": null,
            "_view_module_version": "1.2.0",
            "grid_template_areas": null,
            "object_position": null,
            "object_fit": null,
            "grid_auto_columns": null,
            "margin": null,
            "display": null,
            "left": null
          }
        },
        "31450ff9c3f54905bd3658daa3a37c01": {
          "model_module": "@jupyter-widgets/controls",
          "model_name": "IntProgressModel",
          "state": {
            "_view_name": "ProgressView",
            "style": "IPY_MODEL_285c87f13daa4de484c6d32b03f03237",
            "_dom_classes": [],
            "description": "Processing: ",
            "_model_name": "IntProgressModel",
            "bar_style": "",
            "max": 5,
            "_view_module": "@jupyter-widgets/controls",
            "_model_module_version": "1.5.0",
            "value": 4,
            "_view_count": null,
            "_view_module_version": "1.5.0",
            "orientation": "horizontal",
            "min": 0,
            "description_tooltip": null,
            "_model_module": "@jupyter-widgets/controls",
            "layout": "IPY_MODEL_4c2705f9e4724d8aa77c638221de2d01"
          }
        },
        "285c87f13daa4de484c6d32b03f03237": {
          "model_module": "@jupyter-widgets/controls",
          "model_name": "ProgressStyleModel",
          "state": {
            "_view_name": "StyleView",
            "_model_name": "ProgressStyleModel",
            "description_width": "",
            "_view_module": "@jupyter-widgets/base",
            "_model_module_version": "1.5.0",
            "_view_count": null,
            "_view_module_version": "1.2.0",
            "bar_color": null,
            "_model_module": "@jupyter-widgets/controls"
          }
        },
        "4c2705f9e4724d8aa77c638221de2d01": {
          "model_module": "@jupyter-widgets/base",
          "model_name": "LayoutModel",
          "state": {
            "_view_name": "LayoutView",
            "grid_template_rows": null,
            "right": null,
            "justify_content": null,
            "_view_module": "@jupyter-widgets/base",
            "overflow": null,
            "_model_module_version": "1.2.0",
            "_view_count": null,
            "flex_flow": null,
            "width": null,
            "min_width": null,
            "border": null,
            "align_items": null,
            "bottom": null,
            "_model_module": "@jupyter-widgets/base",
            "top": null,
            "grid_column": null,
            "overflow_y": null,
            "overflow_x": null,
            "grid_auto_flow": null,
            "grid_area": null,
            "grid_template_columns": null,
            "flex": null,
            "_model_name": "LayoutModel",
            "justify_items": null,
            "grid_row": null,
            "max_height": null,
            "align_content": null,
            "visibility": null,
            "align_self": null,
            "height": null,
            "min_height": null,
            "padding": null,
            "grid_auto_rows": null,
            "grid_gap": null,
            "max_width": null,
            "order": null,
            "_view_module_version": "1.2.0",
            "grid_template_areas": null,
            "object_position": null,
            "object_fit": null,
            "grid_auto_columns": null,
            "margin": null,
            "display": null,
            "left": null
          }
        },
        "46cc16209bd54e75a94e1bd693cac24e": {
          "model_module": "@jupyter-widgets/controls",
          "model_name": "IntProgressModel",
          "state": {
            "_view_name": "ProgressView",
            "style": "IPY_MODEL_11f19586401e40859dc2844e98556119",
            "_dom_classes": [],
            "description": "Processing: ",
            "_model_name": "IntProgressModel",
            "bar_style": "",
            "max": 5,
            "_view_module": "@jupyter-widgets/controls",
            "_model_module_version": "1.5.0",
            "value": 4,
            "_view_count": null,
            "_view_module_version": "1.5.0",
            "orientation": "horizontal",
            "min": 0,
            "description_tooltip": null,
            "_model_module": "@jupyter-widgets/controls",
            "layout": "IPY_MODEL_4d37aa4bc407425ab15df66e471ad88f"
          }
        }
      }
    }
  },
  "cells": [
    {
      "cell_type": "markdown",
      "metadata": {
        "id": "view-in-github",
        "colab_type": "text"
      },
      "source": [
        "<a href=\"https://colab.research.google.com/github/swilsonmfc/nlp/blob/master/NLPTopicModel.ipynb\" target=\"_parent\"><img src=\"https://colab.research.google.com/assets/colab-badge.svg\" alt=\"Open In Colab\"/></a>"
      ]
    },
    {
      "cell_type": "markdown",
      "metadata": {
        "id": "iEv2goI9kF1w",
        "colab_type": "text"
      },
      "source": [
        "# Topic Models\n",
        "![alt text](https://d2908q01vomqb2.cloudfront.net/f1f836cb4ea6efb2a0b1b99f41ad8b103eff4b59/2018/05/22/sagemaker-ntm-1.gif)"
      ]
    },
    {
      "cell_type": "markdown",
      "metadata": {
        "id": "buG5moNFo8uj",
        "colab_type": "text"
      },
      "source": [
        "# Setup"
      ]
    },
    {
      "cell_type": "code",
      "metadata": {
        "id": "UVQMntY7vkWX",
        "colab_type": "code",
        "colab": {
          "base_uri": "https://localhost:8080/",
          "height": 1000
        },
        "outputId": "9c8bfcc5-10fa-4058-d19e-7f71b4a3bd6b"
      },
      "source": [
        "pip install pycaret"
      ],
      "execution_count": 2,
      "outputs": [
        {
          "output_type": "stream",
          "text": [
            "Collecting pycaret\n",
            "\u001b[?25l  Downloading https://files.pythonhosted.org/packages/c7/41/f7fa05b6ce3cb3096a35fb5ac6dc0f2bb23e8304f068618fb2501be0a562/pycaret-1.0.0-py3-none-any.whl (188kB)\n",
            "\u001b[K     |████████████████████████████████| 194kB 2.7MB/s \n",
            "\u001b[?25hRequirement already satisfied: plotly==4.4.1 in /usr/local/lib/python3.6/dist-packages (from pycaret) (4.4.1)\n",
            "Collecting datetime\n",
            "\u001b[?25l  Downloading https://files.pythonhosted.org/packages/73/22/a5297f3a1f92468cc737f8ce7ba6e5f245fcfafeae810ba37bd1039ea01c/DateTime-4.3-py2.py3-none-any.whl (60kB)\n",
            "\u001b[K     |████████████████████████████████| 61kB 5.2MB/s \n",
            "\u001b[?25hRequirement already satisfied: matplotlib in /usr/local/lib/python3.6/dist-packages (from pycaret) (3.2.2)\n",
            "Requirement already satisfied: pyLDAvis in /usr/local/lib/python3.6/dist-packages (from pycaret) (2.1.2)\n",
            "Requirement already satisfied: spacy in /usr/local/lib/python3.6/dist-packages (from pycaret) (2.2.4)\n",
            "Collecting scikit-learn==0.22\n",
            "\u001b[?25l  Downloading https://files.pythonhosted.org/packages/2e/d0/860c4f6a7027e00acff373d9f5327f4ae3ed5872234b3cbdd7bcb52e5eff/scikit_learn-0.22-cp36-cp36m-manylinux1_x86_64.whl (7.0MB)\n",
            "\u001b[K     |████████████████████████████████| 7.0MB 7.6MB/s \n",
            "\u001b[?25hCollecting catboost==0.20.2\n",
            "\u001b[?25l  Downloading https://files.pythonhosted.org/packages/97/c4/586923de4634f88a31fd1b4966e15707a912b98b6f4566651b5ef58f36b5/catboost-0.20.2-cp36-none-manylinux1_x86_64.whl (63.9MB)\n",
            "\u001b[K     |████████████████████████████████| 63.9MB 53kB/s \n",
            "\u001b[?25hCollecting cufflinks==0.17.0\n",
            "\u001b[?25l  Downloading https://files.pythonhosted.org/packages/e3/79/1b8673b2723e02919307d558896dbcedcb46807c4e29acd25cfe43a36c8b/cufflinks-0.17.0.tar.gz (81kB)\n",
            "\u001b[K     |████████████████████████████████| 81kB 9.5MB/s \n",
            "\u001b[?25hRequirement already satisfied: pandas in /usr/local/lib/python3.6/dist-packages (from pycaret) (1.0.5)\n",
            "Requirement already satisfied: IPython in /usr/local/lib/python3.6/dist-packages (from pycaret) (5.5.0)\n",
            "Requirement already satisfied: umap-learn in /usr/local/lib/python3.6/dist-packages (from pycaret) (0.4.6)\n",
            "Requirement already satisfied: nltk in /usr/local/lib/python3.6/dist-packages (from pycaret) (3.2.5)\n",
            "Collecting yellowbrick==1.0.1\n",
            "\u001b[?25l  Downloading https://files.pythonhosted.org/packages/d1/cf/6d6ab47c0759d246262f9bdb53e89be3814bf1774bc51fffff995f5859f9/yellowbrick-1.0.1-py3-none-any.whl (378kB)\n",
            "\u001b[K     |████████████████████████████████| 389kB 44.3MB/s \n",
            "\u001b[?25hRequirement already satisfied: numpy in /usr/local/lib/python3.6/dist-packages (from pycaret) (1.18.5)\n",
            "Collecting pyod\n",
            "\u001b[?25l  Downloading https://files.pythonhosted.org/packages/77/4e/5767edaccbfc227914ca774cb6ca9b628a08cbb59b9b4839296953a63d34/pyod-0.8.1.tar.gz (93kB)\n",
            "\u001b[K     |████████████████████████████████| 102kB 10.6MB/s \n",
            "\u001b[?25hCollecting awscli\n",
            "\u001b[?25l  Downloading https://files.pythonhosted.org/packages/1f/58/c7e54ef03333bb35c6efaf42c39d67ed9139ffaa1c13a1278d97dfa999a8/awscli-1.18.100.tar.gz (1.3MB)\n",
            "\u001b[K     |████████████████████████████████| 1.3MB 33.7MB/s \n",
            "\u001b[?25hRequirement already satisfied: joblib in /usr/local/lib/python3.6/dist-packages (from pycaret) (0.16.0)\n",
            "Requirement already satisfied: seaborn in /usr/local/lib/python3.6/dist-packages (from pycaret) (0.10.1)\n",
            "Requirement already satisfied: textblob in /usr/local/lib/python3.6/dist-packages (from pycaret) (0.15.3)\n",
            "Requirement already satisfied: xgboost==0.90 in /usr/local/lib/python3.6/dist-packages (from pycaret) (0.90)\n",
            "Collecting kmodes==0.10.1\n",
            "  Downloading https://files.pythonhosted.org/packages/79/c0/f7d8a0eb41ac6f302b4bc100f91b6e0f2558425ccfefaa0ec0430f77ee97/kmodes-0.10.1-py2.py3-none-any.whl\n",
            "Requirement already satisfied: ipywidgets in /usr/local/lib/python3.6/dist-packages (from pycaret) (7.5.1)\n",
            "Collecting shap==0.32.1\n",
            "\u001b[?25l  Downloading https://files.pythonhosted.org/packages/57/43/08f152a59a1d60f0328b476bdd58c791498989981ab9c6d595ec5448a86a/shap-0.32.1.tar.gz (259kB)\n",
            "\u001b[K     |████████████████████████████████| 266kB 41.1MB/s \n",
            "\u001b[?25hCollecting pandas-profiling==2.3.0\n",
            "\u001b[?25l  Downloading https://files.pythonhosted.org/packages/2c/2f/aae19e2173c10a9bb7fee5f5cad35dbe53a393960fc91abc477dcc4661e8/pandas-profiling-2.3.0.tar.gz (127kB)\n",
            "\u001b[K     |████████████████████████████████| 133kB 47.8MB/s \n",
            "\u001b[?25hRequirement already satisfied: wordcloud in /usr/local/lib/python3.6/dist-packages (from pycaret) (1.5.0)\n",
            "Requirement already satisfied: mlxtend in /usr/local/lib/python3.6/dist-packages (from pycaret) (0.14.0)\n",
            "Collecting datefinder==0.7.0\n",
            "  Downloading https://files.pythonhosted.org/packages/16/2b/af8efaee30c0ba4238cb4d0645a07100d33d11d20a8783c443ed8b813eb9/datefinder-0.7.0-py2.py3-none-any.whl\n",
            "Collecting lightgbm==2.3.1\n",
            "\u001b[?25l  Downloading https://files.pythonhosted.org/packages/0b/9d/ddcb2f43aca194987f1a99e27edf41cf9bc39ea750c3371c2a62698c509a/lightgbm-2.3.1-py2.py3-none-manylinux1_x86_64.whl (1.2MB)\n",
            "\u001b[K     |████████████████████████████████| 1.2MB 42.2MB/s \n",
            "\u001b[?25hRequirement already satisfied: gensim in /usr/local/lib/python3.6/dist-packages (from pycaret) (3.6.0)\n",
            "Requirement already satisfied: retrying>=1.3.3 in /usr/local/lib/python3.6/dist-packages (from plotly==4.4.1->pycaret) (1.3.3)\n",
            "Requirement already satisfied: six in /usr/local/lib/python3.6/dist-packages (from plotly==4.4.1->pycaret) (1.12.0)\n",
            "Collecting zope.interface\n",
            "\u001b[?25l  Downloading https://files.pythonhosted.org/packages/57/33/565274c28a11af60b7cfc0519d46bde4125fcd7d32ebc0a81b480d0e8da6/zope.interface-5.1.0-cp36-cp36m-manylinux2010_x86_64.whl (234kB)\n",
            "\u001b[K     |████████████████████████████████| 235kB 48.0MB/s \n",
            "\u001b[?25hRequirement already satisfied: pytz in /usr/local/lib/python3.6/dist-packages (from datetime->pycaret) (2018.9)\n",
            "Requirement already satisfied: pyparsing!=2.0.4,!=2.1.2,!=2.1.6,>=2.0.1 in /usr/local/lib/python3.6/dist-packages (from matplotlib->pycaret) (2.4.7)\n",
            "Requirement already satisfied: kiwisolver>=1.0.1 in /usr/local/lib/python3.6/dist-packages (from matplotlib->pycaret) (1.2.0)\n",
            "Requirement already satisfied: python-dateutil>=2.1 in /usr/local/lib/python3.6/dist-packages (from matplotlib->pycaret) (2.8.1)\n",
            "Requirement already satisfied: cycler>=0.10 in /usr/local/lib/python3.6/dist-packages (from matplotlib->pycaret) (0.10.0)\n",
            "Requirement already satisfied: funcy in /usr/local/lib/python3.6/dist-packages (from pyLDAvis->pycaret) (1.14)\n",
            "Requirement already satisfied: jinja2>=2.7.2 in /usr/local/lib/python3.6/dist-packages (from pyLDAvis->pycaret) (2.11.2)\n",
            "Requirement already satisfied: wheel>=0.23.0 in /usr/local/lib/python3.6/dist-packages (from pyLDAvis->pycaret) (0.34.2)\n",
            "Requirement already satisfied: pytest in /usr/local/lib/python3.6/dist-packages (from pyLDAvis->pycaret) (3.6.4)\n",
            "Requirement already satisfied: scipy>=0.18.0 in /usr/local/lib/python3.6/dist-packages (from pyLDAvis->pycaret) (1.4.1)\n",
            "Requirement already satisfied: future in /usr/local/lib/python3.6/dist-packages (from pyLDAvis->pycaret) (0.16.0)\n",
            "Requirement already satisfied: numexpr in /usr/local/lib/python3.6/dist-packages (from pyLDAvis->pycaret) (2.7.1)\n",
            "Requirement already satisfied: preshed<3.1.0,>=3.0.2 in /usr/local/lib/python3.6/dist-packages (from spacy->pycaret) (3.0.2)\n",
            "Requirement already satisfied: requests<3.0.0,>=2.13.0 in /usr/local/lib/python3.6/dist-packages (from spacy->pycaret) (2.23.0)\n",
            "Requirement already satisfied: murmurhash<1.1.0,>=0.28.0 in /usr/local/lib/python3.6/dist-packages (from spacy->pycaret) (1.0.2)\n",
            "Requirement already satisfied: blis<0.5.0,>=0.4.0 in /usr/local/lib/python3.6/dist-packages (from spacy->pycaret) (0.4.1)\n",
            "Requirement already satisfied: thinc==7.4.0 in /usr/local/lib/python3.6/dist-packages (from spacy->pycaret) (7.4.0)\n",
            "Requirement already satisfied: cymem<2.1.0,>=2.0.2 in /usr/local/lib/python3.6/dist-packages (from spacy->pycaret) (2.0.3)\n",
            "Requirement already satisfied: tqdm<5.0.0,>=4.38.0 in /usr/local/lib/python3.6/dist-packages (from spacy->pycaret) (4.41.1)\n",
            "Requirement already satisfied: wasabi<1.1.0,>=0.4.0 in /usr/local/lib/python3.6/dist-packages (from spacy->pycaret) (0.7.0)\n",
            "Requirement already satisfied: catalogue<1.1.0,>=0.0.7 in /usr/local/lib/python3.6/dist-packages (from spacy->pycaret) (1.0.0)\n",
            "Requirement already satisfied: plac<1.2.0,>=0.9.6 in /usr/local/lib/python3.6/dist-packages (from spacy->pycaret) (1.1.3)\n",
            "Requirement already satisfied: srsly<1.1.0,>=1.0.2 in /usr/local/lib/python3.6/dist-packages (from spacy->pycaret) (1.0.2)\n",
            "Requirement already satisfied: setuptools in /usr/local/lib/python3.6/dist-packages (from spacy->pycaret) (49.1.0)\n",
            "Requirement already satisfied: graphviz in /usr/local/lib/python3.6/dist-packages (from catboost==0.20.2->pycaret) (0.10.1)\n",
            "Collecting chart-studio>=1.0.0\n",
            "\u001b[?25l  Downloading https://files.pythonhosted.org/packages/ca/ce/330794a6b6ca4b9182c38fc69dd2a9cbff60fd49421cb8648ee5fee352dc/chart_studio-1.1.0-py3-none-any.whl (64kB)\n",
            "\u001b[K     |████████████████████████████████| 71kB 8.7MB/s \n",
            "\u001b[?25hRequirement already satisfied: colorlover>=0.2.1 in /usr/local/lib/python3.6/dist-packages (from cufflinks==0.17.0->pycaret) (0.3.0)\n",
            "Requirement already satisfied: pickleshare in /usr/local/lib/python3.6/dist-packages (from IPython->pycaret) (0.7.5)\n",
            "Requirement already satisfied: prompt-toolkit<2.0.0,>=1.0.4 in /usr/local/lib/python3.6/dist-packages (from IPython->pycaret) (1.0.18)\n",
            "Requirement already satisfied: traitlets>=4.2 in /usr/local/lib/python3.6/dist-packages (from IPython->pycaret) (4.3.3)\n",
            "Requirement already satisfied: decorator in /usr/local/lib/python3.6/dist-packages (from IPython->pycaret) (4.4.2)\n",
            "Requirement already satisfied: simplegeneric>0.8 in /usr/local/lib/python3.6/dist-packages (from IPython->pycaret) (0.8.1)\n",
            "Requirement already satisfied: pygments in /usr/local/lib/python3.6/dist-packages (from IPython->pycaret) (2.1.3)\n",
            "Requirement already satisfied: pexpect; sys_platform != \"win32\" in /usr/local/lib/python3.6/dist-packages (from IPython->pycaret) (4.8.0)\n",
            "Requirement already satisfied: numba!=0.47,>=0.46 in /usr/local/lib/python3.6/dist-packages (from umap-learn->pycaret) (0.48.0)\n",
            "Collecting combo\n",
            "  Downloading https://files.pythonhosted.org/packages/0a/2a/61b6ac584e75d8df16dc27962aa5fe99d76b09da5b6710e83d4862c84001/combo-0.1.1.tar.gz\n",
            "Collecting suod\n",
            "\u001b[?25l  Downloading https://files.pythonhosted.org/packages/a1/87/9170cabe1b5e10a7d095c0e28f2e30e7c1886a13f063de85d3cfacc06f4b/suod-0.0.4.tar.gz (2.1MB)\n",
            "\u001b[K     |████████████████████████████████| 2.1MB 41.1MB/s \n",
            "\u001b[?25hCollecting botocore==1.17.23\n",
            "\u001b[?25l  Downloading https://files.pythonhosted.org/packages/77/71/5b973cd4acf3332f3c4642d9ef1f9acf859f390d9510ff12c9b20fcb1dc0/botocore-1.17.23-py2.py3-none-any.whl (6.3MB)\n",
            "\u001b[K     |████████████████████████████████| 6.3MB 37.9MB/s \n",
            "\u001b[?25hRequirement already satisfied: docutils<0.16,>=0.10 in /usr/local/lib/python3.6/dist-packages (from awscli->pycaret) (0.15.2)\n",
            "Requirement already satisfied: s3transfer<0.4.0,>=0.3.0 in /usr/local/lib/python3.6/dist-packages (from awscli->pycaret) (0.3.3)\n",
            "Requirement already satisfied: PyYAML<5.4,>=3.10 in /usr/local/lib/python3.6/dist-packages (from awscli->pycaret) (3.13)\n",
            "Collecting colorama<0.4.4,>=0.2.5\n",
            "  Downloading https://files.pythonhosted.org/packages/c9/dc/45cdef1b4d119eb96316b3117e6d5708a08029992b2fee2c143c7a0a5cc5/colorama-0.4.3-py2.py3-none-any.whl\n",
            "Collecting rsa<=4.5.0,>=3.1.2\n",
            "  Downloading https://files.pythonhosted.org/packages/26/f8/8127fdda0294f044121d20aac7785feb810e159098447967a6103dedfb96/rsa-4.5-py2.py3-none-any.whl\n",
            "Requirement already satisfied: ipykernel>=4.5.1 in /usr/local/lib/python3.6/dist-packages (from ipywidgets->pycaret) (4.10.1)\n",
            "Requirement already satisfied: nbformat>=4.2.0 in /usr/local/lib/python3.6/dist-packages (from ipywidgets->pycaret) (5.0.7)\n",
            "Requirement already satisfied: widgetsnbextension~=3.5.0 in /usr/local/lib/python3.6/dist-packages (from ipywidgets->pycaret) (3.5.1)\n",
            "Requirement already satisfied: missingno>=0.4.2 in /usr/local/lib/python3.6/dist-packages (from pandas-profiling==2.3.0->pycaret) (0.4.2)\n",
            "Collecting htmlmin>=0.1.12\n",
            "  Downloading https://files.pythonhosted.org/packages/b3/e7/fcd59e12169de19f0131ff2812077f964c6b960e7c09804d30a7bf2ab461/htmlmin-0.1.12.tar.gz\n",
            "Collecting phik>=0.9.8\n",
            "\u001b[?25l  Downloading https://files.pythonhosted.org/packages/01/5a/7ef1c04ce62cd72f900c06298dc2385840550d5c653a0dbc19109a5477e6/phik-0.10.0-py3-none-any.whl (599kB)\n",
            "\u001b[K     |████████████████████████████████| 604kB 41.2MB/s \n",
            "\u001b[?25hCollecting confuse>=1.0.0\n",
            "\u001b[?25l  Downloading https://files.pythonhosted.org/packages/b5/6d/bedc0d1068bd244cee05843313cbec6cebb9f01f925538269bababc6d887/confuse-1.3.0-py2.py3-none-any.whl (64kB)\n",
            "\u001b[K     |████████████████████████████████| 71kB 7.7MB/s \n",
            "\u001b[?25hRequirement already satisfied: astropy in /usr/local/lib/python3.6/dist-packages (from pandas-profiling==2.3.0->pycaret) (4.0.1.post1)\n",
            "Requirement already satisfied: pillow in /usr/local/lib/python3.6/dist-packages (from wordcloud->pycaret) (7.0.0)\n",
            "Requirement already satisfied: regex>=2017.02.08 in /usr/local/lib/python3.6/dist-packages (from datefinder==0.7.0->pycaret) (2019.12.20)\n",
            "Requirement already satisfied: smart-open>=1.2.1 in /usr/local/lib/python3.6/dist-packages (from gensim->pycaret) (2.1.0)\n",
            "Requirement already satisfied: MarkupSafe>=0.23 in /usr/local/lib/python3.6/dist-packages (from jinja2>=2.7.2->pyLDAvis->pycaret) (1.1.1)\n",
            "Requirement already satisfied: attrs>=17.4.0 in /usr/local/lib/python3.6/dist-packages (from pytest->pyLDAvis->pycaret) (19.3.0)\n",
            "Requirement already satisfied: py>=1.5.0 in /usr/local/lib/python3.6/dist-packages (from pytest->pyLDAvis->pycaret) (1.9.0)\n",
            "Requirement already satisfied: more-itertools>=4.0.0 in /usr/local/lib/python3.6/dist-packages (from pytest->pyLDAvis->pycaret) (8.4.0)\n",
            "Requirement already satisfied: atomicwrites>=1.0 in /usr/local/lib/python3.6/dist-packages (from pytest->pyLDAvis->pycaret) (1.4.0)\n",
            "Requirement already satisfied: pluggy<0.8,>=0.5 in /usr/local/lib/python3.6/dist-packages (from pytest->pyLDAvis->pycaret) (0.7.1)\n",
            "Requirement already satisfied: certifi>=2017.4.17 in /usr/local/lib/python3.6/dist-packages (from requests<3.0.0,>=2.13.0->spacy->pycaret) (2020.6.20)\n",
            "Requirement already satisfied: chardet<4,>=3.0.2 in /usr/local/lib/python3.6/dist-packages (from requests<3.0.0,>=2.13.0->spacy->pycaret) (3.0.4)\n",
            "Requirement already satisfied: urllib3!=1.25.0,!=1.25.1,<1.26,>=1.21.1 in /usr/local/lib/python3.6/dist-packages (from requests<3.0.0,>=2.13.0->spacy->pycaret) (1.24.3)\n",
            "Requirement already satisfied: idna<3,>=2.5 in /usr/local/lib/python3.6/dist-packages (from requests<3.0.0,>=2.13.0->spacy->pycaret) (2.10)\n",
            "Requirement already satisfied: importlib-metadata>=0.20; python_version < \"3.8\" in /usr/local/lib/python3.6/dist-packages (from catalogue<1.1.0,>=0.0.7->spacy->pycaret) (1.7.0)\n",
            "Requirement already satisfied: wcwidth in /usr/local/lib/python3.6/dist-packages (from prompt-toolkit<2.0.0,>=1.0.4->IPython->pycaret) (0.2.5)\n",
            "Requirement already satisfied: ipython-genutils in /usr/local/lib/python3.6/dist-packages (from traitlets>=4.2->IPython->pycaret) (0.2.0)\n",
            "Requirement already satisfied: ptyprocess>=0.5 in /usr/local/lib/python3.6/dist-packages (from pexpect; sys_platform != \"win32\"->IPython->pycaret) (0.6.0)\n",
            "Requirement already satisfied: llvmlite<0.32.0,>=0.31.0dev0 in /usr/local/lib/python3.6/dist-packages (from numba!=0.47,>=0.46->umap-learn->pycaret) (0.31.0)\n",
            "Requirement already satisfied: jmespath<1.0.0,>=0.7.1 in /usr/local/lib/python3.6/dist-packages (from botocore==1.17.23->awscli->pycaret) (0.10.0)\n",
            "Requirement already satisfied: pyasn1>=0.1.3 in /usr/local/lib/python3.6/dist-packages (from rsa<=4.5.0,>=3.1.2->awscli->pycaret) (0.4.8)\n",
            "Requirement already satisfied: tornado>=4.0 in /usr/local/lib/python3.6/dist-packages (from ipykernel>=4.5.1->ipywidgets->pycaret) (4.5.3)\n",
            "Requirement already satisfied: jupyter-client in /usr/local/lib/python3.6/dist-packages (from ipykernel>=4.5.1->ipywidgets->pycaret) (5.3.5)\n",
            "Requirement already satisfied: jsonschema!=2.5.0,>=2.4 in /usr/local/lib/python3.6/dist-packages (from nbformat>=4.2.0->ipywidgets->pycaret) (2.6.0)\n",
            "Requirement already satisfied: jupyter-core in /usr/local/lib/python3.6/dist-packages (from nbformat>=4.2.0->ipywidgets->pycaret) (4.6.3)\n",
            "Requirement already satisfied: notebook>=4.4.1 in /usr/local/lib/python3.6/dist-packages (from widgetsnbextension~=3.5.0->ipywidgets->pycaret) (5.2.2)\n",
            "Requirement already satisfied: boto in /usr/local/lib/python3.6/dist-packages (from smart-open>=1.2.1->gensim->pycaret) (2.49.0)\n",
            "Requirement already satisfied: boto3 in /usr/local/lib/python3.6/dist-packages (from smart-open>=1.2.1->gensim->pycaret) (1.14.20)\n",
            "Requirement already satisfied: zipp>=0.5 in /usr/local/lib/python3.6/dist-packages (from importlib-metadata>=0.20; python_version < \"3.8\"->catalogue<1.1.0,>=0.0.7->spacy->pycaret) (3.1.0)\n",
            "Requirement already satisfied: pyzmq>=13 in /usr/local/lib/python3.6/dist-packages (from jupyter-client->ipykernel>=4.5.1->ipywidgets->pycaret) (19.0.1)\n",
            "Requirement already satisfied: nbconvert in /usr/local/lib/python3.6/dist-packages (from notebook>=4.4.1->widgetsnbextension~=3.5.0->ipywidgets->pycaret) (5.6.1)\n",
            "Requirement already satisfied: terminado>=0.3.3; sys_platform != \"win32\" in /usr/local/lib/python3.6/dist-packages (from notebook>=4.4.1->widgetsnbextension~=3.5.0->ipywidgets->pycaret) (0.8.3)\n",
            "Requirement already satisfied: testpath in /usr/local/lib/python3.6/dist-packages (from nbconvert->notebook>=4.4.1->widgetsnbextension~=3.5.0->ipywidgets->pycaret) (0.4.4)\n",
            "Requirement already satisfied: defusedxml in /usr/local/lib/python3.6/dist-packages (from nbconvert->notebook>=4.4.1->widgetsnbextension~=3.5.0->ipywidgets->pycaret) (0.6.0)\n",
            "Requirement already satisfied: entrypoints>=0.2.2 in /usr/local/lib/python3.6/dist-packages (from nbconvert->notebook>=4.4.1->widgetsnbextension~=3.5.0->ipywidgets->pycaret) (0.3)\n",
            "Requirement already satisfied: bleach in /usr/local/lib/python3.6/dist-packages (from nbconvert->notebook>=4.4.1->widgetsnbextension~=3.5.0->ipywidgets->pycaret) (3.1.5)\n",
            "Requirement already satisfied: mistune<2,>=0.8.1 in /usr/local/lib/python3.6/dist-packages (from nbconvert->notebook>=4.4.1->widgetsnbextension~=3.5.0->ipywidgets->pycaret) (0.8.4)\n",
            "Requirement already satisfied: pandocfilters>=1.4.1 in /usr/local/lib/python3.6/dist-packages (from nbconvert->notebook>=4.4.1->widgetsnbextension~=3.5.0->ipywidgets->pycaret) (1.4.2)\n",
            "Requirement already satisfied: webencodings in /usr/local/lib/python3.6/dist-packages (from bleach->nbconvert->notebook>=4.4.1->widgetsnbextension~=3.5.0->ipywidgets->pycaret) (0.5.1)\n",
            "Requirement already satisfied: packaging in /usr/local/lib/python3.6/dist-packages (from bleach->nbconvert->notebook>=4.4.1->widgetsnbextension~=3.5.0->ipywidgets->pycaret) (20.4)\n",
            "Building wheels for collected packages: cufflinks, pyod, awscli, shap, pandas-profiling, combo, suod, htmlmin\n",
            "  Building wheel for cufflinks (setup.py) ... \u001b[?25l\u001b[?25hdone\n",
            "  Created wheel for cufflinks: filename=cufflinks-0.17.0-cp36-none-any.whl size=67744 sha256=bcf600bcd6b83c3f28390c6d966d12c3bed1187f9a13eeb89f7eb359c369f15a\n",
            "  Stored in directory: /root/.cache/pip/wheels/44/d7/dc/e830ab00bc2dd3b2731295103baa070f8cbdda8891f71a7a8d\n",
            "  Building wheel for pyod (setup.py) ... \u001b[?25l\u001b[?25hdone\n",
            "  Created wheel for pyod: filename=pyod-0.8.1-cp36-none-any.whl size=105653 sha256=c3b1ae1ea8111e65cf9ec476c93c8704ca1220f174b646792ac9b6ab8fcdee2c\n",
            "  Stored in directory: /root/.cache/pip/wheels/2e/ca/18/727e9d98a41f5f4385a97d5b429f3a9c8fbee13f9780c18642\n",
            "  Building wheel for awscli (setup.py) ... \u001b[?25l\u001b[?25hdone\n",
            "  Created wheel for awscli: filename=awscli-1.18.100-py2.py3-none-any.whl size=3262849 sha256=a2754094f062fee06fc254e5399a5233069bf254155993c59ea85a809eefbe79\n",
            "  Stored in directory: /root/.cache/pip/wheels/3f/10/56/58e043fc34dda874d50b4e22e2577f364ff2385e7c57474cd5\n",
            "  Building wheel for shap (setup.py) ... \u001b[?25l\u001b[?25hdone\n",
            "  Created wheel for shap: filename=shap-0.32.1-cp36-cp36m-linux_x86_64.whl size=376802 sha256=cb3c7d1bc607ed530c694bc62f3f5d1174c53dd0e38fce61017b441ce88317ca\n",
            "  Stored in directory: /root/.cache/pip/wheels/8e/b2/50/8fadb5a59789cb5bdeb01b800223be540651ae92915172050b\n",
            "  Building wheel for pandas-profiling (setup.py) ... \u001b[?25l\u001b[?25hdone\n",
            "  Created wheel for pandas-profiling: filename=pandas_profiling-2.3.0-py2.py3-none-any.whl size=145035 sha256=f693e88f1e04c153fb5a1d7e4af0ab5f66303fa8b11fbc76f712aa6d442d7982\n",
            "  Stored in directory: /root/.cache/pip/wheels/ce/c7/f1/dbfef4848ebb048cb1d4a22d1ed0c62d8ff2523747235e19fe\n",
            "  Building wheel for combo (setup.py) ... \u001b[?25l\u001b[?25hdone\n",
            "  Created wheel for combo: filename=combo-0.1.1-cp36-none-any.whl size=42111 sha256=39ceb4aa7026ef714f59a6bed0f9f1e00b0c85699b71f55789e4bda2efb8840f\n",
            "  Stored in directory: /root/.cache/pip/wheels/55/ec/e5/a2331372c676c467e70c6646e646edf6997d5c4905b8c0f5e6\n",
            "  Building wheel for suod (setup.py) ... \u001b[?25l\u001b[?25hdone\n",
            "  Created wheel for suod: filename=suod-0.0.4-cp36-none-any.whl size=2167157 sha256=0bea4a1a977feba5b37d9ecae69cafc6a8f4f873248cce4d8f4c6c5a9ff466f1\n",
            "  Stored in directory: /root/.cache/pip/wheels/57/55/e5/a4fca65bba231f6d0115059b589148774b41faea25b3f2aa27\n",
            "  Building wheel for htmlmin (setup.py) ... \u001b[?25l\u001b[?25hdone\n",
            "  Created wheel for htmlmin: filename=htmlmin-0.1.12-cp36-none-any.whl size=27084 sha256=85ddbaa1c67617136ca14c66a59eea6769118772d74f78fce719763b87803dbb\n",
            "  Stored in directory: /root/.cache/pip/wheels/43/07/ac/7c5a9d708d65247ac1f94066cf1db075540b85716c30255459\n",
            "Successfully built cufflinks pyod awscli shap pandas-profiling combo suod htmlmin\n",
            "Installing collected packages: zope.interface, datetime, scikit-learn, catboost, chart-studio, cufflinks, yellowbrick, combo, suod, pyod, botocore, colorama, rsa, awscli, kmodes, shap, htmlmin, phik, confuse, pandas-profiling, datefinder, lightgbm, pycaret\n",
            "  Found existing installation: scikit-learn 0.22.2.post1\n",
            "    Uninstalling scikit-learn-0.22.2.post1:\n",
            "      Successfully uninstalled scikit-learn-0.22.2.post1\n",
            "  Found existing installation: cufflinks 0.17.3\n",
            "    Uninstalling cufflinks-0.17.3:\n",
            "      Successfully uninstalled cufflinks-0.17.3\n",
            "  Found existing installation: yellowbrick 0.9.1\n",
            "    Uninstalling yellowbrick-0.9.1:\n",
            "      Successfully uninstalled yellowbrick-0.9.1\n",
            "  Found existing installation: botocore 1.17.20\n",
            "    Uninstalling botocore-1.17.20:\n",
            "      Successfully uninstalled botocore-1.17.20\n",
            "  Found existing installation: rsa 4.6\n",
            "    Uninstalling rsa-4.6:\n",
            "      Successfully uninstalled rsa-4.6\n",
            "  Found existing installation: pandas-profiling 1.4.1\n",
            "    Uninstalling pandas-profiling-1.4.1:\n",
            "      Successfully uninstalled pandas-profiling-1.4.1\n",
            "  Found existing installation: lightgbm 2.2.3\n",
            "    Uninstalling lightgbm-2.2.3:\n",
            "      Successfully uninstalled lightgbm-2.2.3\n",
            "Successfully installed awscli-1.18.100 botocore-1.17.23 catboost-0.20.2 chart-studio-1.1.0 colorama-0.4.3 combo-0.1.1 confuse-1.3.0 cufflinks-0.17.0 datefinder-0.7.0 datetime-4.3 htmlmin-0.1.12 kmodes-0.10.1 lightgbm-2.3.1 pandas-profiling-2.3.0 phik-0.10.0 pycaret-1.0.0 pyod-0.8.1 rsa-4.5 scikit-learn-0.22 shap-0.32.1 suod-0.0.4 yellowbrick-1.0.1 zope.interface-5.1.0\n"
          ],
          "name": "stdout"
        },
        {
          "output_type": "display_data",
          "data": {
            "application/vnd.colab-display-data+json": {
              "pip_warning": {
                "packages": [
                  "rsa"
                ]
              }
            }
          },
          "metadata": {
            "tags": []
          }
        }
      ]
    },
    {
      "cell_type": "code",
      "metadata": {
        "id": "R_SxJd3d_b5A",
        "colab_type": "code",
        "colab": {
          "base_uri": "https://localhost:8080/",
          "height": 632
        },
        "outputId": "2eed3b0d-d6a4-49dd-d5cf-ae62e7d2c9a5"
      },
      "source": [
        "pip install pyldavis"
      ],
      "execution_count": 1,
      "outputs": [
        {
          "output_type": "stream",
          "text": [
            "Collecting pyldavis\n",
            "\u001b[?25l  Downloading https://files.pythonhosted.org/packages/a5/3a/af82e070a8a96e13217c8f362f9a73e82d61ac8fff3a2561946a97f96266/pyLDAvis-2.1.2.tar.gz (1.6MB)\n",
            "\u001b[K     |████████████████████████████████| 1.6MB 2.9MB/s \n",
            "\u001b[?25hRequirement already satisfied: wheel>=0.23.0 in /usr/local/lib/python3.6/dist-packages (from pyldavis) (0.34.2)\n",
            "Requirement already satisfied: numpy>=1.9.2 in /usr/local/lib/python3.6/dist-packages (from pyldavis) (1.18.5)\n",
            "Requirement already satisfied: scipy>=0.18.0 in /usr/local/lib/python3.6/dist-packages (from pyldavis) (1.4.1)\n",
            "Requirement already satisfied: pandas>=0.17.0 in /usr/local/lib/python3.6/dist-packages (from pyldavis) (1.0.5)\n",
            "Requirement already satisfied: joblib>=0.8.4 in /usr/local/lib/python3.6/dist-packages (from pyldavis) (0.16.0)\n",
            "Requirement already satisfied: jinja2>=2.7.2 in /usr/local/lib/python3.6/dist-packages (from pyldavis) (2.11.2)\n",
            "Requirement already satisfied: numexpr in /usr/local/lib/python3.6/dist-packages (from pyldavis) (2.7.1)\n",
            "Requirement already satisfied: pytest in /usr/local/lib/python3.6/dist-packages (from pyldavis) (3.6.4)\n",
            "Requirement already satisfied: future in /usr/local/lib/python3.6/dist-packages (from pyldavis) (0.16.0)\n",
            "Collecting funcy\n",
            "\u001b[?25l  Downloading https://files.pythonhosted.org/packages/ce/4b/6ffa76544e46614123de31574ad95758c421aae391a1764921b8a81e1eae/funcy-1.14.tar.gz (548kB)\n",
            "\u001b[K     |████████████████████████████████| 552kB 19.0MB/s \n",
            "\u001b[?25hRequirement already satisfied: python-dateutil>=2.6.1 in /usr/local/lib/python3.6/dist-packages (from pandas>=0.17.0->pyldavis) (2.8.1)\n",
            "Requirement already satisfied: pytz>=2017.2 in /usr/local/lib/python3.6/dist-packages (from pandas>=0.17.0->pyldavis) (2018.9)\n",
            "Requirement already satisfied: MarkupSafe>=0.23 in /usr/local/lib/python3.6/dist-packages (from jinja2>=2.7.2->pyldavis) (1.1.1)\n",
            "Requirement already satisfied: six>=1.10.0 in /usr/local/lib/python3.6/dist-packages (from pytest->pyldavis) (1.12.0)\n",
            "Requirement already satisfied: py>=1.5.0 in /usr/local/lib/python3.6/dist-packages (from pytest->pyldavis) (1.9.0)\n",
            "Requirement already satisfied: attrs>=17.4.0 in /usr/local/lib/python3.6/dist-packages (from pytest->pyldavis) (19.3.0)\n",
            "Requirement already satisfied: setuptools in /usr/local/lib/python3.6/dist-packages (from pytest->pyldavis) (49.1.0)\n",
            "Requirement already satisfied: pluggy<0.8,>=0.5 in /usr/local/lib/python3.6/dist-packages (from pytest->pyldavis) (0.7.1)\n",
            "Requirement already satisfied: more-itertools>=4.0.0 in /usr/local/lib/python3.6/dist-packages (from pytest->pyldavis) (8.4.0)\n",
            "Requirement already satisfied: atomicwrites>=1.0 in /usr/local/lib/python3.6/dist-packages (from pytest->pyldavis) (1.4.0)\n",
            "Building wheels for collected packages: pyldavis, funcy\n",
            "  Building wheel for pyldavis (setup.py) ... \u001b[?25l\u001b[?25hdone\n",
            "  Created wheel for pyldavis: filename=pyLDAvis-2.1.2-py2.py3-none-any.whl size=97711 sha256=f105ec98f2c20ca418f7c7e138887c9e106ce884f3afc29b83bffe49d9488997\n",
            "  Stored in directory: /root/.cache/pip/wheels/98/71/24/513a99e58bb6b8465bae4d2d5e9dba8f0bef8179e3051ac414\n",
            "  Building wheel for funcy (setup.py) ... \u001b[?25l\u001b[?25hdone\n",
            "  Created wheel for funcy: filename=funcy-1.14-py2.py3-none-any.whl size=32042 sha256=2c1eedc1e8ba24799797592e5aa812e6842ffa9e681da33a929cd6328e0e84db\n",
            "  Stored in directory: /root/.cache/pip/wheels/20/5a/d8/1d875df03deae6f178dfdf70238cca33f948ef8a6f5209f2eb\n",
            "Successfully built pyldavis funcy\n",
            "Installing collected packages: funcy, pyldavis\n",
            "Successfully installed funcy-1.14 pyldavis-2.1.2\n"
          ],
          "name": "stdout"
        }
      ]
    },
    {
      "cell_type": "code",
      "metadata": {
        "id": "lDHEmUk_lFCN",
        "colab_type": "code",
        "colab": {}
      },
      "source": [
        "import pandas as pd\n",
        "import numpy as np\n",
        "import matplotlib.pyplot as plt\n",
        "import seaborn\n",
        "import pprint as pp\n",
        "\n",
        "from sklearn.model_selection import train_test_split\n",
        "\n",
        "import spacy\n",
        "\n",
        "from collections import defaultdict\n",
        "\n",
        "from gensim import corpora\n",
        "from gensim import models\n",
        "from gensim import similarities\n",
        "from gensim.utils import simple_preprocess\n",
        "from gensim.utils import lemmatize\n",
        "\n",
        "from pycaret.regression import *\n",
        "\n",
        "import pyLDAvis\n",
        "import pyLDAvis.gensim\n",
        "\n",
        "from wordcloud import WordCloud"
      ],
      "execution_count": 61,
      "outputs": []
    },
    {
      "cell_type": "code",
      "metadata": {
        "id": "_qsdAWOUCVOb",
        "colab_type": "code",
        "colab": {}
      },
      "source": [
        "import warnings\n",
        "warnings.simplefilter('ignore')"
      ],
      "execution_count": 52,
      "outputs": []
    },
    {
      "cell_type": "markdown",
      "metadata": {
        "id": "FWovoAVQvLIK",
        "colab_type": "text"
      },
      "source": [
        "# Kaggle"
      ]
    },
    {
      "cell_type": "code",
      "metadata": {
        "id": "DuhS26l9vLba",
        "colab_type": "code",
        "colab": {
          "base_uri": "https://localhost:8080/",
          "height": 204
        },
        "outputId": "02ea68c7-517a-462e-ed88-d2f80e7f56c8"
      },
      "source": [
        "!pip install kaggle\n",
        "!mkdir -p ~/.kaggle"
      ],
      "execution_count": 4,
      "outputs": [
        {
          "output_type": "stream",
          "text": [
            "Requirement already satisfied: kaggle in /usr/local/lib/python3.6/dist-packages (1.5.6)\n",
            "Requirement already satisfied: python-slugify in /usr/local/lib/python3.6/dist-packages (from kaggle) (4.0.1)\n",
            "Requirement already satisfied: tqdm in /usr/local/lib/python3.6/dist-packages (from kaggle) (4.41.1)\n",
            "Requirement already satisfied: urllib3<1.25,>=1.21.1 in /usr/local/lib/python3.6/dist-packages (from kaggle) (1.24.3)\n",
            "Requirement already satisfied: python-dateutil in /usr/local/lib/python3.6/dist-packages (from kaggle) (2.8.1)\n",
            "Requirement already satisfied: certifi in /usr/local/lib/python3.6/dist-packages (from kaggle) (2020.6.20)\n",
            "Requirement already satisfied: six>=1.10 in /usr/local/lib/python3.6/dist-packages (from kaggle) (1.12.0)\n",
            "Requirement already satisfied: requests in /usr/local/lib/python3.6/dist-packages (from kaggle) (2.23.0)\n",
            "Requirement already satisfied: text-unidecode>=1.3 in /usr/local/lib/python3.6/dist-packages (from python-slugify->kaggle) (1.3)\n",
            "Requirement already satisfied: chardet<4,>=3.0.2 in /usr/local/lib/python3.6/dist-packages (from requests->kaggle) (3.0.4)\n",
            "Requirement already satisfied: idna<3,>=2.5 in /usr/local/lib/python3.6/dist-packages (from requests->kaggle) (2.10)\n"
          ],
          "name": "stdout"
        }
      ]
    },
    {
      "cell_type": "code",
      "metadata": {
        "id": "zBgCJawsvQnC",
        "colab_type": "code",
        "colab": {}
      },
      "source": [
        "from google.colab import files\n",
        "files.upload()"
      ],
      "execution_count": null,
      "outputs": []
    },
    {
      "cell_type": "code",
      "metadata": {
        "id": "du54xlsZvQlB",
        "colab_type": "code",
        "colab": {}
      },
      "source": [
        "!mv kaggle.json ~/.kaggle\n",
        "!chmod 600 ~/.kaggle/kaggle.json"
      ],
      "execution_count": 6,
      "outputs": []
    },
    {
      "cell_type": "markdown",
      "metadata": {
        "id": "9Qa7AyUKkLXf",
        "colab_type": "text"
      },
      "source": [
        "# Data"
      ]
    },
    {
      "cell_type": "markdown",
      "metadata": {
        "id": "5KOuk-dRMqA8",
        "colab_type": "text"
      },
      "source": [
        "## Seattle"
      ]
    },
    {
      "cell_type": "code",
      "metadata": {
        "id": "iS5HtE0DMwHZ",
        "colab_type": "code",
        "colab": {
          "base_uri": "https://localhost:8080/",
          "height": 68
        },
        "outputId": "46ab368c-6771-4ad8-c367-bd5657381de0"
      },
      "source": [
        "!kaggle datasets download -d shanelev/seattle-airbnb-listings"
      ],
      "execution_count": 7,
      "outputs": [
        {
          "output_type": "stream",
          "text": [
            "Downloading seattle-airbnb-listings.zip to /content\n",
            "\r  0% 0.00/533k [00:00<?, ?B/s]\n",
            "\r100% 533k/533k [00:00<00:00, 72.5MB/s]\n"
          ],
          "name": "stdout"
        }
      ]
    },
    {
      "cell_type": "code",
      "metadata": {
        "id": "JvTy5vT6oEq1",
        "colab_type": "code",
        "colab": {}
      },
      "source": [
        "!unzip -q seattle-airbnb-listings.zip"
      ],
      "execution_count": 8,
      "outputs": []
    },
    {
      "cell_type": "code",
      "metadata": {
        "id": "q1U41emWoJed",
        "colab_type": "code",
        "colab": {
          "base_uri": "https://localhost:8080/",
          "height": 34
        },
        "outputId": "394f4a91-82fe-4ffa-ec04-1690f6cf6a4f"
      },
      "source": [
        "!ls"
      ],
      "execution_count": 9,
      "outputs": [
        {
          "output_type": "stream",
          "text": [
            "sample_data  seattle_01.csv  seattle-airbnb-listings.zip\n"
          ],
          "name": "stdout"
        }
      ]
    },
    {
      "cell_type": "code",
      "metadata": {
        "id": "DXccWkG7oMHO",
        "colab_type": "code",
        "colab": {}
      },
      "source": [
        "seattle_df = pd.read_csv('seattle_01.csv')"
      ],
      "execution_count": 10,
      "outputs": []
    },
    {
      "cell_type": "code",
      "metadata": {
        "id": "VzrO0d7EoPWu",
        "colab_type": "code",
        "colab": {
          "base_uri": "https://localhost:8080/",
          "height": 581
        },
        "outputId": "61bf5399-f081-4d8a-e454-8dd97963dd9f"
      },
      "source": [
        "seattle_df.head()"
      ],
      "execution_count": 11,
      "outputs": [
        {
          "output_type": "execute_result",
          "data": {
            "text/html": [
              "<div>\n",
              "<style scoped>\n",
              "    .dataframe tbody tr th:only-of-type {\n",
              "        vertical-align: middle;\n",
              "    }\n",
              "\n",
              "    .dataframe tbody tr th {\n",
              "        vertical-align: top;\n",
              "    }\n",
              "\n",
              "    .dataframe thead th {\n",
              "        text-align: right;\n",
              "    }\n",
              "</style>\n",
              "<table border=\"1\" class=\"dataframe\">\n",
              "  <thead>\n",
              "    <tr style=\"text-align: right;\">\n",
              "      <th></th>\n",
              "      <th>Unnamed: 0</th>\n",
              "      <th>room_id</th>\n",
              "      <th>host_id</th>\n",
              "      <th>room_type</th>\n",
              "      <th>address</th>\n",
              "      <th>reviews</th>\n",
              "      <th>overall_satisfaction</th>\n",
              "      <th>accommodates</th>\n",
              "      <th>bedrooms</th>\n",
              "      <th>bathrooms</th>\n",
              "      <th>price</th>\n",
              "      <th>last_modified</th>\n",
              "      <th>latitude</th>\n",
              "      <th>longitude</th>\n",
              "      <th>location</th>\n",
              "      <th>name</th>\n",
              "      <th>currency</th>\n",
              "      <th>rate_type</th>\n",
              "    </tr>\n",
              "  </thead>\n",
              "  <tbody>\n",
              "    <tr>\n",
              "      <th>0</th>\n",
              "      <td>0</td>\n",
              "      <td>2318</td>\n",
              "      <td>2536</td>\n",
              "      <td>Entire home/apt</td>\n",
              "      <td>Seattle, WA, United States</td>\n",
              "      <td>21</td>\n",
              "      <td>5.0</td>\n",
              "      <td>8</td>\n",
              "      <td>4.0</td>\n",
              "      <td>2.5</td>\n",
              "      <td>250</td>\n",
              "      <td>2018-12-20 03:46:14.698548</td>\n",
              "      <td>47.610819</td>\n",
              "      <td>-122.290816</td>\n",
              "      <td>0101000020E6100000D449B6BA9C925EC0416326512FCE...</td>\n",
              "      <td>Casa Madrona - Urban Oasis, 1 block from the P...</td>\n",
              "      <td>USD</td>\n",
              "      <td>nightly</td>\n",
              "    </tr>\n",
              "    <tr>\n",
              "      <th>1</th>\n",
              "      <td>1</td>\n",
              "      <td>3335</td>\n",
              "      <td>4193</td>\n",
              "      <td>Entire home/apt</td>\n",
              "      <td>Seattle, WA, United States</td>\n",
              "      <td>1</td>\n",
              "      <td>NaN</td>\n",
              "      <td>4</td>\n",
              "      <td>2.0</td>\n",
              "      <td>1.0</td>\n",
              "      <td>100</td>\n",
              "      <td>2018-12-20 04:08:45.277643</td>\n",
              "      <td>47.529846</td>\n",
              "      <td>-122.275840</td>\n",
              "      <td>0101000020E61000006FBBD05CA7915EC04DF564FED1C3...</td>\n",
              "      <td>Sweet Seattle Urban Homestead 2 Bdr</td>\n",
              "      <td>USD</td>\n",
              "      <td>nightly</td>\n",
              "    </tr>\n",
              "    <tr>\n",
              "      <th>2</th>\n",
              "      <td>2</td>\n",
              "      <td>4291</td>\n",
              "      <td>35749</td>\n",
              "      <td>Private room</td>\n",
              "      <td>Seattle, WA, United States</td>\n",
              "      <td>63</td>\n",
              "      <td>4.5</td>\n",
              "      <td>2</td>\n",
              "      <td>1.0</td>\n",
              "      <td>1.0</td>\n",
              "      <td>82</td>\n",
              "      <td>2018-12-20 03:04:19.861014</td>\n",
              "      <td>47.687801</td>\n",
              "      <td>-122.313427</td>\n",
              "      <td>0101000020E6100000BDAB1E300F945EC0FB93F8DC09D8...</td>\n",
              "      <td>Sunrise in Seattle Master Suite</td>\n",
              "      <td>USD</td>\n",
              "      <td>nightly</td>\n",
              "    </tr>\n",
              "    <tr>\n",
              "      <th>3</th>\n",
              "      <td>3</td>\n",
              "      <td>5682</td>\n",
              "      <td>8993</td>\n",
              "      <td>Entire home/apt</td>\n",
              "      <td>Seattle, WA, United States</td>\n",
              "      <td>462</td>\n",
              "      <td>5.0</td>\n",
              "      <td>2</td>\n",
              "      <td>0.0</td>\n",
              "      <td>1.0</td>\n",
              "      <td>49</td>\n",
              "      <td>2018-12-20 04:11:25.482975</td>\n",
              "      <td>47.523980</td>\n",
              "      <td>-122.359891</td>\n",
              "      <td>0101000020E6100000FCC7427408975EC009E1D1C611C3...</td>\n",
              "      <td>Cozy Studio, min. to downtown -WiFi</td>\n",
              "      <td>USD</td>\n",
              "      <td>nightly</td>\n",
              "    </tr>\n",
              "    <tr>\n",
              "      <th>4</th>\n",
              "      <td>4</td>\n",
              "      <td>6606</td>\n",
              "      <td>14942</td>\n",
              "      <td>Entire home/apt</td>\n",
              "      <td>Seattle, WA, United States</td>\n",
              "      <td>134</td>\n",
              "      <td>4.5</td>\n",
              "      <td>2</td>\n",
              "      <td>1.0</td>\n",
              "      <td>1.0</td>\n",
              "      <td>90</td>\n",
              "      <td>2018-12-20 03:12:38.391711</td>\n",
              "      <td>47.654109</td>\n",
              "      <td>-122.337605</td>\n",
              "      <td>0101000020E6100000D47D00529B955EC07782FDD7B9D3...</td>\n",
              "      <td>Fab, private seattle urban cottage!</td>\n",
              "      <td>USD</td>\n",
              "      <td>nightly</td>\n",
              "    </tr>\n",
              "  </tbody>\n",
              "</table>\n",
              "</div>"
            ],
            "text/plain": [
              "   Unnamed: 0  room_id  ...  currency rate_type\n",
              "0           0     2318  ...       USD   nightly\n",
              "1           1     3335  ...       USD   nightly\n",
              "2           2     4291  ...       USD   nightly\n",
              "3           3     5682  ...       USD   nightly\n",
              "4           4     6606  ...       USD   nightly\n",
              "\n",
              "[5 rows x 18 columns]"
            ]
          },
          "metadata": {
            "tags": []
          },
          "execution_count": 11
        }
      ]
    },
    {
      "cell_type": "code",
      "metadata": {
        "id": "GSNny7ft2XSe",
        "colab_type": "code",
        "colab": {
          "base_uri": "https://localhost:8080/",
          "height": 34
        },
        "outputId": "21ad0158-8307-483c-d8e1-dbc540e5bb4a"
      },
      "source": [
        "len(seattle_df)"
      ],
      "execution_count": 12,
      "outputs": [
        {
          "output_type": "execute_result",
          "data": {
            "text/plain": [
              "7576"
            ]
          },
          "metadata": {
            "tags": []
          },
          "execution_count": 12
        }
      ]
    },
    {
      "cell_type": "markdown",
      "metadata": {
        "id": "AkVqUmaOfJwB",
        "colab_type": "text"
      },
      "source": [
        "# Latent Semantic Analysis - LSA\n",
        "* Sometimes called Latent Semantic Indexing - LSI\n",
        "* Organize documents into topics\n",
        "* The topics are hidden (latent)\n",
        "* We can specify how many topics"
      ]
    },
    {
      "cell_type": "markdown",
      "metadata": {
        "id": "-iTRLFJYTFsP",
        "colab_type": "text"
      },
      "source": [
        "## Technical Notes\n",
        "* Construct a Document-Term matrix\n",
        "  * Rows = Documents\n",
        "  * Columns = Terms\n",
        "  * Cells = Frequency of words\n",
        "* Convert Document-Term matrix into TF-IDF Matrix\n",
        "  * TF = Term Frequency\n",
        "  * IDF = Inverse Document Frequency\n",
        "  * Intuition:\n",
        "    * TF - Word occurs frequently it's likely important\n",
        "    * Stopwords are a problem (The, an, and) - occur frequenty in documents\n",
        "    * IDF - If a word is rare considering all the documents it's likely more important\n",
        "    * How rare is too rare?  Minimum threshold of appearances\n",
        "\n",
        "![alt text](https://cdn.searchenginejournal.com/wp-content/uploads/2019/10/screenshot-1.png)\n",
        "\n",
        "* Use matrix factorization to reduce dimensionality\n",
        "  * Squeeze to K-dimensions\n",
        "  * K is the number of topics\n",
        "* LSA == PCA \n",
        "  * PCA - Principal Components\n",
        "    * Find matrix U * V that approximates TF-IDF matrix\n",
        "    * Minimize difference between TF-IDF and U * V\n",
        "  * SVD - Singular value decomposition \n",
        "    * Increase explainability by constraining number of topics\n",
        "  * NNMF - Non-Negative Matrix Factorization \n",
        "    * SVD + constraint where U & V > 0\n",
        "* Truncated SVD yields three matrixes \n",
        "  * We can multiply them back together to approximate the original TF-IDF matrix\n",
        "  * SVD decomposes a matrix into three other matrices. \n",
        "  * U* S * VT\n",
        "  * U [Documents X Topics]\n",
        "  * S [Topics X Topics] = Amount of Variance Explained\n",
        "  * VT [Topics X Terms]\n",
        "![alt text](https://cdn.analyticsvidhya.com/wp-content/uploads/2018/09/Screenshot_7.png)\n"
      ]
    },
    {
      "cell_type": "markdown",
      "metadata": {
        "id": "jZ_xcKKrToYM",
        "colab_type": "text"
      },
      "source": [
        "# Gensim Example \n",
        "![alt text](https://repository-images.githubusercontent.com/1349775/202c4680-8f7c-11e9-91c6-745fdcbeffe8)"
      ]
    },
    {
      "cell_type": "code",
      "metadata": {
        "id": "mJVLsC8n1u2J",
        "colab_type": "code",
        "colab": {}
      },
      "source": [
        "documents = [\n",
        "    \"Human machine interface for lab abc computer applications May 10, 2000\",\n",
        "    \"A survey of user opinion of computer system response time\",\n",
        "    \"The EPS user interface management system\",\n",
        "    \"System and human system engineering testing of EPS\",\n",
        "    \"Relation of user perceived response time to error measurement\",\n",
        "    \"The generation of random binary unordered trees\",\n",
        "    \"The intersection graph of paths in trees\",\n",
        "    \"Graph minors IV Widths of trees and well quasi ordering\",\n",
        "    \"Graph minors A survey\",\n",
        "]"
      ],
      "execution_count": 13,
      "outputs": []
    },
    {
      "cell_type": "markdown",
      "metadata": {
        "id": "KQkcM4Gz7it8",
        "colab_type": "text"
      },
      "source": [
        "## Documents"
      ]
    },
    {
      "cell_type": "code",
      "metadata": {
        "id": "jFo2ZzhH7gyh",
        "colab_type": "code",
        "colab": {
          "base_uri": "https://localhost:8080/",
          "height": 170
        },
        "outputId": "f8131e65-8f90-4772-e6e6-53f29c34cae4"
      },
      "source": [
        "pp.pprint(documents)"
      ],
      "execution_count": 14,
      "outputs": [
        {
          "output_type": "stream",
          "text": [
            "['Human machine interface for lab abc computer applications May 10, 2000',\n",
            " 'A survey of user opinion of computer system response time',\n",
            " 'The EPS user interface management system',\n",
            " 'System and human system engineering testing of EPS',\n",
            " 'Relation of user perceived response time to error measurement',\n",
            " 'The generation of random binary unordered trees',\n",
            " 'The intersection graph of paths in trees',\n",
            " 'Graph minors IV Widths of trees and well quasi ordering',\n",
            " 'Graph minors A survey']\n"
          ],
          "name": "stdout"
        }
      ]
    },
    {
      "cell_type": "markdown",
      "metadata": {
        "id": "-0E25KOl7nEB",
        "colab_type": "text"
      },
      "source": [
        "## Tokenize\n",
        "* Remove stop words\n",
        "* Make lower case"
      ]
    },
    {
      "cell_type": "code",
      "metadata": {
        "id": "rlJ4LUhr7p_5",
        "colab_type": "code",
        "colab": {
          "base_uri": "https://localhost:8080/",
          "height": 323
        },
        "outputId": "5eaf904c-2d5a-4ac8-ef90-a4578de0c158"
      },
      "source": [
        "stoplist = set('for a of the and to in'.split()) # Where else can we get these\n",
        "texts = [\n",
        "    [word for word in document.lower().split() if word not in stoplist]\n",
        "    for document in documents\n",
        "]\n",
        "pp.pprint(texts)"
      ],
      "execution_count": 15,
      "outputs": [
        {
          "output_type": "stream",
          "text": [
            "[['human',\n",
            "  'machine',\n",
            "  'interface',\n",
            "  'lab',\n",
            "  'abc',\n",
            "  'computer',\n",
            "  'applications',\n",
            "  'may',\n",
            "  '10,',\n",
            "  '2000'],\n",
            " ['survey', 'user', 'opinion', 'computer', 'system', 'response', 'time'],\n",
            " ['eps', 'user', 'interface', 'management', 'system'],\n",
            " ['system', 'human', 'system', 'engineering', 'testing', 'eps'],\n",
            " ['relation', 'user', 'perceived', 'response', 'time', 'error', 'measurement'],\n",
            " ['generation', 'random', 'binary', 'unordered', 'trees'],\n",
            " ['intersection', 'graph', 'paths', 'trees'],\n",
            " ['graph', 'minors', 'iv', 'widths', 'trees', 'well', 'quasi', 'ordering'],\n",
            " ['graph', 'minors', 'survey']]\n"
          ],
          "name": "stdout"
        }
      ]
    },
    {
      "cell_type": "code",
      "metadata": {
        "id": "bhDQdq8PJq5M",
        "colab_type": "code",
        "colab": {
          "base_uri": "https://localhost:8080/",
          "height": 295
        },
        "outputId": "63b88ad5-a37e-4c19-c979-a10207522236"
      },
      "source": [
        "plt.hist([len(t) for t in texts])\n",
        "plt.title('Document Length')\n",
        "plt.xlabel('Word Count')\n",
        "plt.ylabel('Frequency')\n",
        "plt.show()"
      ],
      "execution_count": 16,
      "outputs": [
        {
          "output_type": "display_data",
          "data": {
            "image/png": "[encoded data removed]",
            "text/plain": [
              "<Figure size 432x288 with 1 Axes>"
            ]
          },
          "metadata": {
            "tags": [],
            "needs_background": "light"
          }
        }
      ]
    },
    {
      "cell_type": "markdown",
      "metadata": {
        "id": "aG5lXhhQ71d9",
        "colab_type": "text"
      },
      "source": [
        "## Low Frequency Words\n",
        "* Drop words from the tokenized text appearing once"
      ]
    },
    {
      "cell_type": "code",
      "metadata": {
        "id": "rZlSnHeM75-z",
        "colab_type": "code",
        "colab": {
          "base_uri": "https://localhost:8080/",
          "height": 170
        },
        "outputId": "8cde3525-2936-421c-978c-6bb909cef3c6"
      },
      "source": [
        "frequency = defaultdict(int)\n",
        "for text in texts:\n",
        "    for token in text:\n",
        "        frequency[token] += 1\n",
        "\n",
        "texts = [\n",
        "    [token for token in text if frequency[token] > 1]\n",
        "    for text in texts\n",
        "]\n",
        "pp.pprint(texts)"
      ],
      "execution_count": 17,
      "outputs": [
        {
          "output_type": "stream",
          "text": [
            "[['human', 'interface', 'computer'],\n",
            " ['survey', 'user', 'computer', 'system', 'response', 'time'],\n",
            " ['eps', 'user', 'interface', 'system'],\n",
            " ['system', 'human', 'system', 'eps'],\n",
            " ['user', 'response', 'time'],\n",
            " ['trees'],\n",
            " ['graph', 'trees'],\n",
            " ['graph', 'minors', 'trees'],\n",
            " ['graph', 'minors', 'survey']]\n"
          ],
          "name": "stdout"
        }
      ]
    },
    {
      "cell_type": "code",
      "metadata": {
        "id": "ZR2waFfJKs_9",
        "colab_type": "code",
        "colab": {
          "base_uri": "https://localhost:8080/",
          "height": 295
        },
        "outputId": "ce20ddad-bc90-41bf-d6ff-553291487426"
      },
      "source": [
        "plt.hist([len(t) for t in texts])\n",
        "plt.title('Document Length')\n",
        "plt.xlabel('Word Count')\n",
        "plt.ylabel('Frequency')\n",
        "plt.show()"
      ],
      "execution_count": 18,
      "outputs": [
        {
          "output_type": "display_data",
          "data": {
            "image/png": "[encoded data removed]",
            "text/plain": [
              "<Figure size 432x288 with 1 Axes>"
            ]
          },
          "metadata": {
            "tags": [],
            "needs_background": "light"
          }
        }
      ]
    },
    {
      "cell_type": "markdown",
      "metadata": {
        "id": "U6bd5hIG8FX7",
        "colab_type": "text"
      },
      "source": [
        "## Dictionary"
      ]
    },
    {
      "cell_type": "code",
      "metadata": {
        "id": "3GdIw-2N8LSu",
        "colab_type": "code",
        "colab": {
          "base_uri": "https://localhost:8080/",
          "height": 238
        },
        "outputId": "07c021ca-10f7-4522-8d12-ffb48e819324"
      },
      "source": [
        "dictionary = corpora.Dictionary(texts)\n",
        "print(dictionary)\n",
        "for key in dictionary:\n",
        "  print(key, dictionary[key])"
      ],
      "execution_count": 19,
      "outputs": [
        {
          "output_type": "stream",
          "text": [
            "Dictionary(12 unique tokens: ['computer', 'human', 'interface', 'response', 'survey']...)\n",
            "0 computer\n",
            "1 human\n",
            "2 interface\n",
            "3 response\n",
            "4 survey\n",
            "5 system\n",
            "6 time\n",
            "7 user\n",
            "8 eps\n",
            "9 trees\n",
            "10 graph\n",
            "11 minors\n"
          ],
          "name": "stdout"
        }
      ]
    },
    {
      "cell_type": "markdown",
      "metadata": {
        "id": "xG5l7aM48asu",
        "colab_type": "text"
      },
      "source": [
        "## Bag of Words\n",
        "* Represented as list of tuples per document (word index, frequency)"
      ]
    },
    {
      "cell_type": "code",
      "metadata": {
        "id": "H2e-UOVu8eLo",
        "colab_type": "code",
        "colab": {
          "base_uri": "https://localhost:8080/",
          "height": 170
        },
        "outputId": "7e545733-437a-48b6-9827-5745aa213b73"
      },
      "source": [
        "corpus = [dictionary.doc2bow(text) for text in texts]\n",
        "pp.pprint(corpus)"
      ],
      "execution_count": 20,
      "outputs": [
        {
          "output_type": "stream",
          "text": [
            "[[(0, 1), (1, 1), (2, 1)],\n",
            " [(0, 1), (3, 1), (4, 1), (5, 1), (6, 1), (7, 1)],\n",
            " [(2, 1), (5, 1), (7, 1), (8, 1)],\n",
            " [(1, 1), (5, 2), (8, 1)],\n",
            " [(3, 1), (6, 1), (7, 1)],\n",
            " [(9, 1)],\n",
            " [(9, 1), (10, 1)],\n",
            " [(9, 1), (10, 1), (11, 1)],\n",
            " [(4, 1), (10, 1), (11, 1)]]\n"
          ],
          "name": "stdout"
        }
      ]
    },
    {
      "cell_type": "markdown",
      "metadata": {
        "id": "PEJr6Gr98r3-",
        "colab_type": "text"
      },
      "source": [
        "## TF-IDF\n",
        "* Term Frequency - Inverse Document Frequency\n",
        "* Represented by a model in Gensim"
      ]
    },
    {
      "cell_type": "code",
      "metadata": {
        "id": "tYyu3lHj8vH1",
        "colab_type": "code",
        "colab": {
          "base_uri": "https://localhost:8080/",
          "height": 190
        },
        "outputId": "7308ec82-012d-48ad-9279-57c7ff9424b8"
      },
      "source": [
        "tfidf = models.TfidfModel(corpus) \n",
        "corpus_tfidf = tfidf[corpus]\n",
        "for doc in corpus_tfidf:\n",
        "    print(doc)"
      ],
      "execution_count": 21,
      "outputs": [
        {
          "output_type": "stream",
          "text": [
            "[(0, 0.5773502691896257), (1, 0.5773502691896257), (2, 0.5773502691896257)]\n",
            "[(0, 0.44424552527467476), (3, 0.44424552527467476), (4, 0.44424552527467476), (5, 0.3244870206138555), (6, 0.44424552527467476), (7, 0.3244870206138555)]\n",
            "[(2, 0.5710059809418182), (5, 0.4170757362022777), (7, 0.4170757362022777), (8, 0.5710059809418182)]\n",
            "[(1, 0.49182558987264147), (5, 0.7184811607083769), (8, 0.49182558987264147)]\n",
            "[(3, 0.6282580468670046), (6, 0.6282580468670046), (7, 0.45889394536615247)]\n",
            "[(9, 1.0)]\n",
            "[(9, 0.7071067811865475), (10, 0.7071067811865475)]\n",
            "[(9, 0.5080429008916749), (10, 0.5080429008916749), (11, 0.695546419520037)]\n",
            "[(4, 0.6282580468670046), (10, 0.45889394536615247), (11, 0.6282580468670046)]\n"
          ],
          "name": "stdout"
        }
      ]
    },
    {
      "cell_type": "markdown",
      "metadata": {
        "id": "CXu9tVAJ8y16",
        "colab_type": "text"
      },
      "source": [
        "## LSA Model\n",
        "* Why Gensim vs TruncatedSVD?\n",
        "  * Memory efficient (Constant Size)\n",
        "  * Streamed corpora\n",
        "  * One pass corpora (Streaming)\n",
        "  * Distributed computing "
      ]
    },
    {
      "cell_type": "code",
      "metadata": {
        "id": "GQuxmbqZ80--",
        "colab_type": "code",
        "colab": {
          "base_uri": "https://localhost:8080/",
          "height": 51
        },
        "outputId": "5b4f816a-be87-4de6-eecb-be02854b1a3b"
      },
      "source": [
        "lsi_model = models.LsiModel(corpus_tfidf, id2word=dictionary, num_topics=2) \n",
        "corpus_lsi = lsi_model[corpus_tfidf]  \n",
        "lsi_model.print_topics(2, num_words=3)"
      ],
      "execution_count": 22,
      "outputs": [
        {
          "output_type": "execute_result",
          "data": {
            "text/plain": [
              "[(0, '0.703*\"trees\" + 0.538*\"graph\" + 0.402*\"minors\"'),\n",
              " (1, '-0.460*\"system\" + -0.373*\"user\" + -0.332*\"eps\"')]"
            ]
          },
          "metadata": {
            "tags": []
          },
          "execution_count": 22
        }
      ]
    },
    {
      "cell_type": "code",
      "metadata": {
        "id": "0zXVivY687vZ",
        "colab_type": "code",
        "colab": {
          "base_uri": "https://localhost:8080/",
          "height": 190
        },
        "outputId": "faa2295e-0c11-48fa-89ef-c281004b7dbb"
      },
      "source": [
        "for doc, as_text in zip(corpus_lsi, documents):\n",
        "    print(doc, as_text)"
      ],
      "execution_count": 23,
      "outputs": [
        {
          "output_type": "stream",
          "text": [
            "[(0, 0.06600783396090396), (1, -0.5200703306361851)] Human machine interface for lab abc computer applications May 10, 2000\n",
            "[(0, 0.1966759285914258), (1, -0.7609563167700044)] A survey of user opinion of computer system response time\n",
            "[(0, 0.08992639972446452), (1, -0.7241860626752507)] The EPS user interface management system\n",
            "[(0, 0.07585847652178164), (1, -0.6320551586003426)] System and human system engineering testing of EPS\n",
            "[(0, 0.10150299184980191), (1, -0.5737308483002951)] Relation of user perceived response time to error measurement\n",
            "[(0, 0.7032108939378312), (1, 0.16115180214025837)] The generation of random binary unordered trees\n",
            "[(0, 0.8774787673119834), (1, 0.16758906864659456)] The intersection graph of paths in trees\n",
            "[(0, 0.9098624686818582), (1, 0.14086553628719048)] Graph minors IV Widths of trees and well quasi ordering\n",
            "[(0, 0.6165825350569285), (1, -0.053929075663893614)] Graph minors A survey\n"
          ],
          "name": "stdout"
        }
      ]
    },
    {
      "cell_type": "code",
      "metadata": {
        "id": "NdNPvQ6rSpmd",
        "colab_type": "code",
        "colab": {
          "base_uri": "https://localhost:8080/",
          "height": 513
        },
        "outputId": "c1f62c10-7ae6-4434-9d0c-ac3dd4df71eb"
      },
      "source": [
        "items = []\n",
        "for doc, as_text in zip(corpus_lsi, documents):\n",
        "    items.append({'Topic 1':doc[0][1], 'Topic 2': doc[1][1], 'Document': as_text[0:20] + '...'})\n",
        "data = pd.DataFrame(items)\n",
        "\n",
        "fig, ax = plt.subplots(figsize=(10,8))\n",
        "ax.scatter(data['Topic 1'], data['Topic 2'])\n",
        "\n",
        "for index, row in data.iterrows():\n",
        "    ax.annotate(row['Document'], (row['Topic 1'], row['Topic 2']))\n",
        "\n",
        "plt.title('LSA Visualization');\n",
        "plt.xlabel('Topic 1')\n",
        "plt.ylabel('Topic 2');"
      ],
      "execution_count": 24,
      "outputs": [
        {
          "output_type": "display_data",
          "data": {
            "image/png": "[encoded data removed]",
            "text/plain": [
              "<Figure size 720x576 with 1 Axes>"
            ]
          },
          "metadata": {
            "tags": [],
            "needs_background": "light"
          }
        }
      ]
    },
    {
      "cell_type": "code",
      "metadata": {
        "id": "I5fR-bJeUJH6",
        "colab_type": "code",
        "colab": {
          "base_uri": "https://localhost:8080/",
          "height": 85
        },
        "outputId": "70864cb2-dfbe-44ad-bc30-f9f9b598235b"
      },
      "source": [
        "data.dtypes"
      ],
      "execution_count": 25,
      "outputs": [
        {
          "output_type": "execute_result",
          "data": {
            "text/plain": [
              "Topic 1     float64\n",
              "Topic 2     float64\n",
              "Document     object\n",
              "dtype: object"
            ]
          },
          "metadata": {
            "tags": []
          },
          "execution_count": 25
        }
      ]
    },
    {
      "cell_type": "markdown",
      "metadata": {
        "id": "hrx1hysx8_-q",
        "colab_type": "text"
      },
      "source": [
        "## Similarity\n",
        "* Distance \n",
        "* Cosine Similarity"
      ]
    },
    {
      "cell_type": "code",
      "metadata": {
        "id": "FYvijl5cqCNc",
        "colab_type": "code",
        "colab": {
          "base_uri": "https://localhost:8080/",
          "height": 51
        },
        "outputId": "0c79b01a-229b-460f-f79d-f982bb5bf4b0"
      },
      "source": [
        "doc = \"Human computer interaction\"\n",
        "vec_bow = dictionary.doc2bow(doc.lower().split())\n",
        "vec_lsi = lsi_model[vec_bow]  # convert the query to LSI space\n",
        "\n",
        "print(doc)\n",
        "print(vec_lsi)"
      ],
      "execution_count": 26,
      "outputs": [
        {
          "output_type": "stream",
          "text": [
            "Human computer interaction\n",
            "[(0, 0.07910475117444901), (1, -0.5732835243079404)]\n"
          ],
          "name": "stdout"
        }
      ]
    },
    {
      "cell_type": "code",
      "metadata": {
        "id": "bYeWOY4H9Kwn",
        "colab_type": "code",
        "colab": {
          "base_uri": "https://localhost:8080/",
          "height": 224
        },
        "outputId": "da68f0fe-9274-4f6b-e83e-a785fbdab8aa"
      },
      "source": [
        "index = similarities.MatrixSimilarity(lsi_model[corpus])\n",
        "sims = index[vec_lsi]  # perform a similarity query against the corpus\n",
        "pp.pprint(list(enumerate(sims)))  # print (document_number, document_similarity) 2-tuples"
      ],
      "execution_count": 27,
      "outputs": [
        {
          "output_type": "stream",
          "text": [
            "[(0, 0.9999408),\n",
            " (1, 0.9946708),\n",
            " (2, 0.9999428),\n",
            " (3, 0.999879),\n",
            " (4, 0.99935204),\n",
            " (5, -0.08804217),\n",
            " (6, -0.0515742),\n",
            " (7, -0.023664713),\n",
            " (8, 0.1938726)]\n"
          ],
          "name": "stdout"
        },
        {
          "output_type": "stream",
          "text": [
            "/usr/local/lib/python3.6/dist-packages/gensim/matutils.py:737: FutureWarning: Conversion of the second argument of issubdtype from `int` to `np.signedinteger` is deprecated. In future, it will be treated as `np.int64 == np.dtype(int).type`.\n",
            "  if np.issubdtype(vec.dtype, np.int):\n"
          ],
          "name": "stderr"
        }
      ]
    },
    {
      "cell_type": "markdown",
      "metadata": {
        "id": "_6yi1Q316m2O",
        "colab_type": "text"
      },
      "source": [
        "# SpaCy Pipeline\n",
        "![alt text](https://cdn-images-1.medium.com/freeze/max/1000/1*wqfF41Ysh-kV-fXMDGxSGg.jpeg?q=20)"
      ]
    },
    {
      "cell_type": "markdown",
      "metadata": {
        "id": "bPZXh9YGFFNZ",
        "colab_type": "text"
      },
      "source": [
        "## Documents"
      ]
    },
    {
      "cell_type": "code",
      "metadata": {
        "id": "VmxlJ0CWFKO3",
        "colab_type": "code",
        "colab": {}
      },
      "source": [
        "documents = [\n",
        "    \"Human machine interface for lab abc computer applications on May 10, 2000\",\n",
        "    \"A survey of user opinion of computer system response time\",\n",
        "    \"The EPS user interface management system\",\n",
        "    \"System and human system engineering testing of EPS\",\n",
        "    \"Relation of user perceived response time to error measurement\",\n",
        "    \"The generation of random binary unordered trees\",\n",
        "    \"The intersection graph of paths in trees\",\n",
        "    \"Graph minors IV Widths of trees and well quasi ordering\",\n",
        "    \"Graph minors A survey\",\n",
        "]"
      ],
      "execution_count": 28,
      "outputs": []
    },
    {
      "cell_type": "code",
      "metadata": {
        "id": "qFQFqVoFFLeJ",
        "colab_type": "code",
        "colab": {
          "base_uri": "https://localhost:8080/",
          "height": 103
        },
        "outputId": "9bc006eb-9f6c-420b-8803-ddc2de7829cb"
      },
      "source": [
        "paragraph = '. '.join(documents)\n",
        "paragraph"
      ],
      "execution_count": 29,
      "outputs": [
        {
          "output_type": "execute_result",
          "data": {
            "application/vnd.google.colaboratory.intrinsic": {
              "type": "string"
            },
            "text/plain": [
              "'Human machine interface for lab abc computer applications on May 10, 2000. A survey of user opinion of computer system response time. The EPS user interface management system. System and human system engineering testing of EPS. Relation of user perceived response time to error measurement. The generation of random binary unordered trees. The intersection graph of paths in trees. Graph minors IV Widths of trees and well quasi ordering. Graph minors A survey'"
            ]
          },
          "metadata": {
            "tags": []
          },
          "execution_count": 29
        }
      ]
    },
    {
      "cell_type": "markdown",
      "metadata": {
        "id": "rBJqFcu0Cgny",
        "colab_type": "text"
      },
      "source": [
        "## Loading Spacy"
      ]
    },
    {
      "cell_type": "code",
      "metadata": {
        "id": "vd9Q7ouB_dGn",
        "colab_type": "code",
        "colab": {}
      },
      "source": [
        "import spacy\n",
        "nlp = spacy.load('en')"
      ],
      "execution_count": 30,
      "outputs": []
    },
    {
      "cell_type": "markdown",
      "metadata": {
        "id": "vuBOO6imCnHe",
        "colab_type": "text"
      },
      "source": [
        "## Pipeline"
      ]
    },
    {
      "cell_type": "code",
      "metadata": {
        "id": "Ul_132nhCktH",
        "colab_type": "code",
        "colab": {
          "base_uri": "https://localhost:8080/",
          "height": 34
        },
        "outputId": "0bed34a2-9abd-409e-cb37-651b001ac608"
      },
      "source": [
        "print(nlp.pipe_names)"
      ],
      "execution_count": 31,
      "outputs": [
        {
          "output_type": "stream",
          "text": [
            "['tagger', 'parser', 'ner']\n"
          ],
          "name": "stdout"
        }
      ]
    },
    {
      "cell_type": "markdown",
      "metadata": {
        "id": "-J6Lck0GFv8X",
        "colab_type": "text"
      },
      "source": [
        "## Processing\n",
        "* Can tokenize document per item\n",
        "* Can infer sentence boundaries by adding sentencizer to pipeline"
      ]
    },
    {
      "cell_type": "code",
      "metadata": {
        "id": "9wCUMtABFvBl",
        "colab_type": "code",
        "colab": {
          "base_uri": "https://localhost:8080/",
          "height": 170
        },
        "outputId": "40ed18f7-fcac-4710-a78c-19c32ad28d3d"
      },
      "source": [
        "nlp = spacy.load('en')\n",
        "texts_spacy = [nlp(document) for document in documents]\n",
        "texts_spacy"
      ],
      "execution_count": 32,
      "outputs": [
        {
          "output_type": "execute_result",
          "data": {
            "text/plain": [
              "[Human machine interface for lab abc computer applications on May 10, 2000,\n",
              " A survey of user opinion of computer system response time,\n",
              " The EPS user interface management system,\n",
              " System and human system engineering testing of EPS,\n",
              " Relation of user perceived response time to error measurement,\n",
              " The generation of random binary unordered trees,\n",
              " The intersection graph of paths in trees,\n",
              " Graph minors IV Widths of trees and well quasi ordering,\n",
              " Graph minors A survey]"
            ]
          },
          "metadata": {
            "tags": []
          },
          "execution_count": 32
        }
      ]
    },
    {
      "cell_type": "code",
      "metadata": {
        "id": "Dj10DXT8FvVl",
        "colab_type": "code",
        "colab": {
          "base_uri": "https://localhost:8080/",
          "height": 187
        },
        "outputId": "6ca8d356-18c0-4c1b-ee93-c9e1b7110fb0"
      },
      "source": [
        "nlp_para = spacy.load('en')\n",
        "nlp_para.add_pipe(nlp.create_pipe('sentencizer'))\n",
        "texts_spacy = nlp_para(paragraph)\n",
        "sentences = [sent.string.strip() for sent in texts_spacy.sents]\n",
        "pp.pprint(sentences)"
      ],
      "execution_count": 33,
      "outputs": [
        {
          "output_type": "stream",
          "text": [
            "['Human machine interface for lab abc computer applications on May 10, 2000.',\n",
            " 'A survey of user opinion of computer system response time.',\n",
            " 'The EPS user interface management system.',\n",
            " 'System and human system engineering testing of EPS.',\n",
            " 'Relation of user perceived response time to error measurement.',\n",
            " 'The generation of random binary unordered trees.',\n",
            " 'The intersection graph of paths in trees.',\n",
            " 'Graph minors IV Widths of trees and well quasi ordering.',\n",
            " 'Graph minors',\n",
            " 'A survey']\n"
          ],
          "name": "stdout"
        }
      ]
    },
    {
      "cell_type": "markdown",
      "metadata": {
        "id": "AHOmyp19CjTg",
        "colab_type": "text"
      },
      "source": [
        "## Tokens\n",
        "* Pipeline creates tokens\n",
        "* Token attributes are populated depending on pipeline steps"
      ]
    },
    {
      "cell_type": "code",
      "metadata": {
        "id": "mQSEu55r_hhE",
        "colab_type": "code",
        "colab": {
          "base_uri": "https://localhost:8080/",
          "height": 359
        },
        "outputId": "8eecec69-2bad-404a-8bc6-2ac1a81a4a79"
      },
      "source": [
        "texts_spacy = [nlp(document) for document in documents]\n",
        "\n",
        "rows = []\n",
        "for text in texts_spacy:\n",
        "  for token in text:\n",
        "    rows.append({'token': token.text,\n",
        "                 'lower': token.lower_, \n",
        "                 'lemma': token.lemma_, \n",
        "                 'pos': token.pos_,\n",
        "                 'shape': token.shape_,\n",
        "                 'dependency': token.dep_,\n",
        "                 'entity': token.ent_type_, \n",
        "                 'tag': token.tag_,\n",
        "                 'stop': token.is_stop})\n",
        "pd.DataFrame(rows)[0:10]"
      ],
      "execution_count": 34,
      "outputs": [
        {
          "output_type": "execute_result",
          "data": {
            "text/html": [
              "<div>\n",
              "<style scoped>\n",
              "    .dataframe tbody tr th:only-of-type {\n",
              "        vertical-align: middle;\n",
              "    }\n",
              "\n",
              "    .dataframe tbody tr th {\n",
              "        vertical-align: top;\n",
              "    }\n",
              "\n",
              "    .dataframe thead th {\n",
              "        text-align: right;\n",
              "    }\n",
              "</style>\n",
              "<table border=\"1\" class=\"dataframe\">\n",
              "  <thead>\n",
              "    <tr style=\"text-align: right;\">\n",
              "      <th></th>\n",
              "      <th>token</th>\n",
              "      <th>lower</th>\n",
              "      <th>lemma</th>\n",
              "      <th>pos</th>\n",
              "      <th>shape</th>\n",
              "      <th>dependency</th>\n",
              "      <th>entity</th>\n",
              "      <th>tag</th>\n",
              "      <th>stop</th>\n",
              "    </tr>\n",
              "  </thead>\n",
              "  <tbody>\n",
              "    <tr>\n",
              "      <th>0</th>\n",
              "      <td>Human</td>\n",
              "      <td>human</td>\n",
              "      <td>human</td>\n",
              "      <td>ADJ</td>\n",
              "      <td>Xxxxx</td>\n",
              "      <td>amod</td>\n",
              "      <td></td>\n",
              "      <td>JJ</td>\n",
              "      <td>False</td>\n",
              "    </tr>\n",
              "    <tr>\n",
              "      <th>1</th>\n",
              "      <td>machine</td>\n",
              "      <td>machine</td>\n",
              "      <td>machine</td>\n",
              "      <td>NOUN</td>\n",
              "      <td>xxxx</td>\n",
              "      <td>compound</td>\n",
              "      <td></td>\n",
              "      <td>NN</td>\n",
              "      <td>False</td>\n",
              "    </tr>\n",
              "    <tr>\n",
              "      <th>2</th>\n",
              "      <td>interface</td>\n",
              "      <td>interface</td>\n",
              "      <td>interface</td>\n",
              "      <td>NOUN</td>\n",
              "      <td>xxxx</td>\n",
              "      <td>ROOT</td>\n",
              "      <td></td>\n",
              "      <td>NN</td>\n",
              "      <td>False</td>\n",
              "    </tr>\n",
              "    <tr>\n",
              "      <th>3</th>\n",
              "      <td>for</td>\n",
              "      <td>for</td>\n",
              "      <td>for</td>\n",
              "      <td>ADP</td>\n",
              "      <td>xxx</td>\n",
              "      <td>prep</td>\n",
              "      <td></td>\n",
              "      <td>IN</td>\n",
              "      <td>True</td>\n",
              "    </tr>\n",
              "    <tr>\n",
              "      <th>4</th>\n",
              "      <td>lab</td>\n",
              "      <td>lab</td>\n",
              "      <td>lab</td>\n",
              "      <td>PROPN</td>\n",
              "      <td>xxx</td>\n",
              "      <td>compound</td>\n",
              "      <td></td>\n",
              "      <td>NNP</td>\n",
              "      <td>False</td>\n",
              "    </tr>\n",
              "    <tr>\n",
              "      <th>5</th>\n",
              "      <td>abc</td>\n",
              "      <td>abc</td>\n",
              "      <td>abc</td>\n",
              "      <td>PROPN</td>\n",
              "      <td>xxx</td>\n",
              "      <td>compound</td>\n",
              "      <td>ORG</td>\n",
              "      <td>NNP</td>\n",
              "      <td>False</td>\n",
              "    </tr>\n",
              "    <tr>\n",
              "      <th>6</th>\n",
              "      <td>computer</td>\n",
              "      <td>computer</td>\n",
              "      <td>computer</td>\n",
              "      <td>NOUN</td>\n",
              "      <td>xxxx</td>\n",
              "      <td>compound</td>\n",
              "      <td></td>\n",
              "      <td>NN</td>\n",
              "      <td>False</td>\n",
              "    </tr>\n",
              "    <tr>\n",
              "      <th>7</th>\n",
              "      <td>applications</td>\n",
              "      <td>applications</td>\n",
              "      <td>application</td>\n",
              "      <td>NOUN</td>\n",
              "      <td>xxxx</td>\n",
              "      <td>pobj</td>\n",
              "      <td></td>\n",
              "      <td>NNS</td>\n",
              "      <td>False</td>\n",
              "    </tr>\n",
              "    <tr>\n",
              "      <th>8</th>\n",
              "      <td>on</td>\n",
              "      <td>on</td>\n",
              "      <td>on</td>\n",
              "      <td>ADP</td>\n",
              "      <td>xx</td>\n",
              "      <td>prep</td>\n",
              "      <td></td>\n",
              "      <td>IN</td>\n",
              "      <td>True</td>\n",
              "    </tr>\n",
              "    <tr>\n",
              "      <th>9</th>\n",
              "      <td>May</td>\n",
              "      <td>may</td>\n",
              "      <td>May</td>\n",
              "      <td>PROPN</td>\n",
              "      <td>Xxx</td>\n",
              "      <td>pobj</td>\n",
              "      <td>DATE</td>\n",
              "      <td>NNP</td>\n",
              "      <td>True</td>\n",
              "    </tr>\n",
              "  </tbody>\n",
              "</table>\n",
              "</div>"
            ],
            "text/plain": [
              "          token         lower        lemma    pos  ... dependency entity  tag   stop\n",
              "0         Human         human        human    ADJ  ...       amod          JJ  False\n",
              "1       machine       machine      machine   NOUN  ...   compound          NN  False\n",
              "2     interface     interface    interface   NOUN  ...       ROOT          NN  False\n",
              "3           for           for          for    ADP  ...       prep          IN   True\n",
              "4           lab           lab          lab  PROPN  ...   compound         NNP  False\n",
              "5           abc           abc          abc  PROPN  ...   compound    ORG  NNP  False\n",
              "6      computer      computer     computer   NOUN  ...   compound          NN  False\n",
              "7  applications  applications  application   NOUN  ...       pobj         NNS  False\n",
              "8            on            on           on    ADP  ...       prep          IN   True\n",
              "9           May           may          May  PROPN  ...       pobj   DATE  NNP   True\n",
              "\n",
              "[10 rows x 9 columns]"
            ]
          },
          "metadata": {
            "tags": []
          },
          "execution_count": 34
        }
      ]
    },
    {
      "cell_type": "markdown",
      "metadata": {
        "id": "T0dBpoa8C3cK",
        "colab_type": "text"
      },
      "source": [
        "## displaCy"
      ]
    },
    {
      "cell_type": "code",
      "metadata": {
        "id": "w0Yfhh-MDhZP",
        "colab_type": "code",
        "colab": {}
      },
      "source": [
        "import spacy\n",
        "from spacy import displacy"
      ],
      "execution_count": 35,
      "outputs": []
    },
    {
      "cell_type": "code",
      "metadata": {
        "id": "CocYJ04_Dl31",
        "colab_type": "code",
        "colab": {
          "base_uri": "https://localhost:8080/",
          "height": 441
        },
        "outputId": "439eb52a-3018-467b-b035-1ee0fb82c490"
      },
      "source": [
        "doc = nlp(documents[0])\n",
        "displacy.render(doc, style=\"dep\", jupyter=True)"
      ],
      "execution_count": 36,
      "outputs": [
        {
          "output_type": "display_data",
          "data": {
            "text/html": [
              "<span class=\"tex2jax_ignore\"><svg xmlns=\"http://www.w3.org/2000/svg\" xmlns:xlink=\"http://www.w3.org/1999/xlink\" xml:lang=\"en\" id=\"deed428d8b8c4bec9ab300b2b04cba5d-0\" class=\"displacy\" width=\"2150\" height=\"399.5\" direction=\"ltr\" style=\"max-width: none; height: 399.5px; color: #000000; background: #ffffff; font-family: Arial; direction: ltr\">\n",
              "<text class=\"displacy-token\" fill=\"currentColor\" text-anchor=\"middle\" y=\"309.5\">\n",
              "    <tspan class=\"displacy-word\" fill=\"currentColor\" x=\"50\">Human</tspan>\n",
              "    <tspan class=\"displacy-tag\" dy=\"2em\" fill=\"currentColor\" x=\"50\">ADJ</tspan>\n",
              "</text>\n",
              "\n",
              "<text class=\"displacy-token\" fill=\"currentColor\" text-anchor=\"middle\" y=\"309.5\">\n",
              "    <tspan class=\"displacy-word\" fill=\"currentColor\" x=\"225\">machine</tspan>\n",
              "    <tspan class=\"displacy-tag\" dy=\"2em\" fill=\"currentColor\" x=\"225\">NOUN</tspan>\n",
              "</text>\n",
              "\n",
              "<text class=\"displacy-token\" fill=\"currentColor\" text-anchor=\"middle\" y=\"309.5\">\n",
              "    <tspan class=\"displacy-word\" fill=\"currentColor\" x=\"400\">interface</tspan>\n",
              "    <tspan class=\"displacy-tag\" dy=\"2em\" fill=\"currentColor\" x=\"400\">NOUN</tspan>\n",
              "</text>\n",
              "\n",
              "<text class=\"displacy-token\" fill=\"currentColor\" text-anchor=\"middle\" y=\"309.5\">\n",
              "    <tspan class=\"displacy-word\" fill=\"currentColor\" x=\"575\">for</tspan>\n",
              "    <tspan class=\"displacy-tag\" dy=\"2em\" fill=\"currentColor\" x=\"575\">ADP</tspan>\n",
              "</text>\n",
              "\n",
              "<text class=\"displacy-token\" fill=\"currentColor\" text-anchor=\"middle\" y=\"309.5\">\n",
              "    <tspan class=\"displacy-word\" fill=\"currentColor\" x=\"750\">lab</tspan>\n",
              "    <tspan class=\"displacy-tag\" dy=\"2em\" fill=\"currentColor\" x=\"750\">PROPN</tspan>\n",
              "</text>\n",
              "\n",
              "<text class=\"displacy-token\" fill=\"currentColor\" text-anchor=\"middle\" y=\"309.5\">\n",
              "    <tspan class=\"displacy-word\" fill=\"currentColor\" x=\"925\">abc</tspan>\n",
              "    <tspan class=\"displacy-tag\" dy=\"2em\" fill=\"currentColor\" x=\"925\">PROPN</tspan>\n",
              "</text>\n",
              "\n",
              "<text class=\"displacy-token\" fill=\"currentColor\" text-anchor=\"middle\" y=\"309.5\">\n",
              "    <tspan class=\"displacy-word\" fill=\"currentColor\" x=\"1100\">computer</tspan>\n",
              "    <tspan class=\"displacy-tag\" dy=\"2em\" fill=\"currentColor\" x=\"1100\">NOUN</tspan>\n",
              "</text>\n",
              "\n",
              "<text class=\"displacy-token\" fill=\"currentColor\" text-anchor=\"middle\" y=\"309.5\">\n",
              "    <tspan class=\"displacy-word\" fill=\"currentColor\" x=\"1275\">applications</tspan>\n",
              "    <tspan class=\"displacy-tag\" dy=\"2em\" fill=\"currentColor\" x=\"1275\">NOUN</tspan>\n",
              "</text>\n",
              "\n",
              "<text class=\"displacy-token\" fill=\"currentColor\" text-anchor=\"middle\" y=\"309.5\">\n",
              "    <tspan class=\"displacy-word\" fill=\"currentColor\" x=\"1450\">on</tspan>\n",
              "    <tspan class=\"displacy-tag\" dy=\"2em\" fill=\"currentColor\" x=\"1450\">ADP</tspan>\n",
              "</text>\n",
              "\n",
              "<text class=\"displacy-token\" fill=\"currentColor\" text-anchor=\"middle\" y=\"309.5\">\n",
              "    <tspan class=\"displacy-word\" fill=\"currentColor\" x=\"1625\">May</tspan>\n",
              "    <tspan class=\"displacy-tag\" dy=\"2em\" fill=\"currentColor\" x=\"1625\">PROPN</tspan>\n",
              "</text>\n",
              "\n",
              "<text class=\"displacy-token\" fill=\"currentColor\" text-anchor=\"middle\" y=\"309.5\">\n",
              "    <tspan class=\"displacy-word\" fill=\"currentColor\" x=\"1800\">10,</tspan>\n",
              "    <tspan class=\"displacy-tag\" dy=\"2em\" fill=\"currentColor\" x=\"1800\">NUM</tspan>\n",
              "</text>\n",
              "\n",
              "<text class=\"displacy-token\" fill=\"currentColor\" text-anchor=\"middle\" y=\"309.5\">\n",
              "    <tspan class=\"displacy-word\" fill=\"currentColor\" x=\"1975\">2000</tspan>\n",
              "    <tspan class=\"displacy-tag\" dy=\"2em\" fill=\"currentColor\" x=\"1975\">NUM</tspan>\n",
              "</text>\n",
              "\n",
              "<g class=\"displacy-arrow\">\n",
              "    <path class=\"displacy-arc\" id=\"arrow-deed428d8b8c4bec9ab300b2b04cba5d-0-0\" stroke-width=\"2px\" d=\"M70,264.5 C70,177.0 215.0,177.0 215.0,264.5\" fill=\"none\" stroke=\"currentColor\"/>\n",
              "    <text dy=\"1.25em\" style=\"font-size: 0.8em; letter-spacing: 1px\">\n",
              "        <textPath xlink:href=\"#arrow-deed428d8b8c4bec9ab300b2b04cba5d-0-0\" class=\"displacy-label\" startOffset=\"50%\" side=\"left\" fill=\"currentColor\" text-anchor=\"middle\">amod</textPath>\n",
              "    </text>\n",
              "    <path class=\"displacy-arrowhead\" d=\"M70,266.5 L62,254.5 78,254.5\" fill=\"currentColor\"/>\n",
              "</g>\n",
              "\n",
              "<g class=\"displacy-arrow\">\n",
              "    <path class=\"displacy-arc\" id=\"arrow-deed428d8b8c4bec9ab300b2b04cba5d-0-1\" stroke-width=\"2px\" d=\"M245,264.5 C245,177.0 390.0,177.0 390.0,264.5\" fill=\"none\" stroke=\"currentColor\"/>\n",
              "    <text dy=\"1.25em\" style=\"font-size: 0.8em; letter-spacing: 1px\">\n",
              "        <textPath xlink:href=\"#arrow-deed428d8b8c4bec9ab300b2b04cba5d-0-1\" class=\"displacy-label\" startOffset=\"50%\" side=\"left\" fill=\"currentColor\" text-anchor=\"middle\">compound</textPath>\n",
              "    </text>\n",
              "    <path class=\"displacy-arrowhead\" d=\"M245,266.5 L237,254.5 253,254.5\" fill=\"currentColor\"/>\n",
              "</g>\n",
              "\n",
              "<g class=\"displacy-arrow\">\n",
              "    <path class=\"displacy-arc\" id=\"arrow-deed428d8b8c4bec9ab300b2b04cba5d-0-2\" stroke-width=\"2px\" d=\"M420,264.5 C420,177.0 565.0,177.0 565.0,264.5\" fill=\"none\" stroke=\"currentColor\"/>\n",
              "    <text dy=\"1.25em\" style=\"font-size: 0.8em; letter-spacing: 1px\">\n",
              "        <textPath xlink:href=\"#arrow-deed428d8b8c4bec9ab300b2b04cba5d-0-2\" class=\"displacy-label\" startOffset=\"50%\" side=\"left\" fill=\"currentColor\" text-anchor=\"middle\">prep</textPath>\n",
              "    </text>\n",
              "    <path class=\"displacy-arrowhead\" d=\"M565.0,266.5 L573.0,254.5 557.0,254.5\" fill=\"currentColor\"/>\n",
              "</g>\n",
              "\n",
              "<g class=\"displacy-arrow\">\n",
              "    <path class=\"displacy-arc\" id=\"arrow-deed428d8b8c4bec9ab300b2b04cba5d-0-3\" stroke-width=\"2px\" d=\"M770,264.5 C770,177.0 915.0,177.0 915.0,264.5\" fill=\"none\" stroke=\"currentColor\"/>\n",
              "    <text dy=\"1.25em\" style=\"font-size: 0.8em; letter-spacing: 1px\">\n",
              "        <textPath xlink:href=\"#arrow-deed428d8b8c4bec9ab300b2b04cba5d-0-3\" class=\"displacy-label\" startOffset=\"50%\" side=\"left\" fill=\"currentColor\" text-anchor=\"middle\">compound</textPath>\n",
              "    </text>\n",
              "    <path class=\"displacy-arrowhead\" d=\"M770,266.5 L762,254.5 778,254.5\" fill=\"currentColor\"/>\n",
              "</g>\n",
              "\n",
              "<g class=\"displacy-arrow\">\n",
              "    <path class=\"displacy-arc\" id=\"arrow-deed428d8b8c4bec9ab300b2b04cba5d-0-4\" stroke-width=\"2px\" d=\"M945,264.5 C945,177.0 1090.0,177.0 1090.0,264.5\" fill=\"none\" stroke=\"currentColor\"/>\n",
              "    <text dy=\"1.25em\" style=\"font-size: 0.8em; letter-spacing: 1px\">\n",
              "        <textPath xlink:href=\"#arrow-deed428d8b8c4bec9ab300b2b04cba5d-0-4\" class=\"displacy-label\" startOffset=\"50%\" side=\"left\" fill=\"currentColor\" text-anchor=\"middle\">compound</textPath>\n",
              "    </text>\n",
              "    <path class=\"displacy-arrowhead\" d=\"M945,266.5 L937,254.5 953,254.5\" fill=\"currentColor\"/>\n",
              "</g>\n",
              "\n",
              "<g class=\"displacy-arrow\">\n",
              "    <path class=\"displacy-arc\" id=\"arrow-deed428d8b8c4bec9ab300b2b04cba5d-0-5\" stroke-width=\"2px\" d=\"M1120,264.5 C1120,177.0 1265.0,177.0 1265.0,264.5\" fill=\"none\" stroke=\"currentColor\"/>\n",
              "    <text dy=\"1.25em\" style=\"font-size: 0.8em; letter-spacing: 1px\">\n",
              "        <textPath xlink:href=\"#arrow-deed428d8b8c4bec9ab300b2b04cba5d-0-5\" class=\"displacy-label\" startOffset=\"50%\" side=\"left\" fill=\"currentColor\" text-anchor=\"middle\">compound</textPath>\n",
              "    </text>\n",
              "    <path class=\"displacy-arrowhead\" d=\"M1120,266.5 L1112,254.5 1128,254.5\" fill=\"currentColor\"/>\n",
              "</g>\n",
              "\n",
              "<g class=\"displacy-arrow\">\n",
              "    <path class=\"displacy-arc\" id=\"arrow-deed428d8b8c4bec9ab300b2b04cba5d-0-6\" stroke-width=\"2px\" d=\"M595,264.5 C595,2.0 1275.0,2.0 1275.0,264.5\" fill=\"none\" stroke=\"currentColor\"/>\n",
              "    <text dy=\"1.25em\" style=\"font-size: 0.8em; letter-spacing: 1px\">\n",
              "        <textPath xlink:href=\"#arrow-deed428d8b8c4bec9ab300b2b04cba5d-0-6\" class=\"displacy-label\" startOffset=\"50%\" side=\"left\" fill=\"currentColor\" text-anchor=\"middle\">pobj</textPath>\n",
              "    </text>\n",
              "    <path class=\"displacy-arrowhead\" d=\"M1275.0,266.5 L1283.0,254.5 1267.0,254.5\" fill=\"currentColor\"/>\n",
              "</g>\n",
              "\n",
              "<g class=\"displacy-arrow\">\n",
              "    <path class=\"displacy-arc\" id=\"arrow-deed428d8b8c4bec9ab300b2b04cba5d-0-7\" stroke-width=\"2px\" d=\"M1295,264.5 C1295,177.0 1440.0,177.0 1440.0,264.5\" fill=\"none\" stroke=\"currentColor\"/>\n",
              "    <text dy=\"1.25em\" style=\"font-size: 0.8em; letter-spacing: 1px\">\n",
              "        <textPath xlink:href=\"#arrow-deed428d8b8c4bec9ab300b2b04cba5d-0-7\" class=\"displacy-label\" startOffset=\"50%\" side=\"left\" fill=\"currentColor\" text-anchor=\"middle\">prep</textPath>\n",
              "    </text>\n",
              "    <path class=\"displacy-arrowhead\" d=\"M1440.0,266.5 L1448.0,254.5 1432.0,254.5\" fill=\"currentColor\"/>\n",
              "</g>\n",
              "\n",
              "<g class=\"displacy-arrow\">\n",
              "    <path class=\"displacy-arc\" id=\"arrow-deed428d8b8c4bec9ab300b2b04cba5d-0-8\" stroke-width=\"2px\" d=\"M1470,264.5 C1470,177.0 1615.0,177.0 1615.0,264.5\" fill=\"none\" stroke=\"currentColor\"/>\n",
              "    <text dy=\"1.25em\" style=\"font-size: 0.8em; letter-spacing: 1px\">\n",
              "        <textPath xlink:href=\"#arrow-deed428d8b8c4bec9ab300b2b04cba5d-0-8\" class=\"displacy-label\" startOffset=\"50%\" side=\"left\" fill=\"currentColor\" text-anchor=\"middle\">pobj</textPath>\n",
              "    </text>\n",
              "    <path class=\"displacy-arrowhead\" d=\"M1615.0,266.5 L1623.0,254.5 1607.0,254.5\" fill=\"currentColor\"/>\n",
              "</g>\n",
              "\n",
              "<g class=\"displacy-arrow\">\n",
              "    <path class=\"displacy-arc\" id=\"arrow-deed428d8b8c4bec9ab300b2b04cba5d-0-9\" stroke-width=\"2px\" d=\"M1645,264.5 C1645,177.0 1790.0,177.0 1790.0,264.5\" fill=\"none\" stroke=\"currentColor\"/>\n",
              "    <text dy=\"1.25em\" style=\"font-size: 0.8em; letter-spacing: 1px\">\n",
              "        <textPath xlink:href=\"#arrow-deed428d8b8c4bec9ab300b2b04cba5d-0-9\" class=\"displacy-label\" startOffset=\"50%\" side=\"left\" fill=\"currentColor\" text-anchor=\"middle\">nummod</textPath>\n",
              "    </text>\n",
              "    <path class=\"displacy-arrowhead\" d=\"M1790.0,266.5 L1798.0,254.5 1782.0,254.5\" fill=\"currentColor\"/>\n",
              "</g>\n",
              "\n",
              "<g class=\"displacy-arrow\">\n",
              "    <path class=\"displacy-arc\" id=\"arrow-deed428d8b8c4bec9ab300b2b04cba5d-0-10\" stroke-width=\"2px\" d=\"M1645,264.5 C1645,89.5 1970.0,89.5 1970.0,264.5\" fill=\"none\" stroke=\"currentColor\"/>\n",
              "    <text dy=\"1.25em\" style=\"font-size: 0.8em; letter-spacing: 1px\">\n",
              "        <textPath xlink:href=\"#arrow-deed428d8b8c4bec9ab300b2b04cba5d-0-10\" class=\"displacy-label\" startOffset=\"50%\" side=\"left\" fill=\"currentColor\" text-anchor=\"middle\">nummod</textPath>\n",
              "    </text>\n",
              "    <path class=\"displacy-arrowhead\" d=\"M1970.0,266.5 L1978.0,254.5 1962.0,254.5\" fill=\"currentColor\"/>\n",
              "</g>\n",
              "</svg></span>"
            ],
            "text/plain": [
              "<IPython.core.display.HTML object>"
            ]
          },
          "metadata": {
            "tags": []
          }
        }
      ]
    },
    {
      "cell_type": "code",
      "metadata": {
        "id": "9nuuK92-ESxn",
        "colab_type": "code",
        "colab": {
          "base_uri": "https://localhost:8080/",
          "height": 52
        },
        "outputId": "57e57544-8f37-428e-f04b-b043f36285b9"
      },
      "source": [
        "displacy.render(doc, style=\"ent\", jupyter=True)"
      ],
      "execution_count": 37,
      "outputs": [
        {
          "output_type": "display_data",
          "data": {
            "text/html": [
              "<span class=\"tex2jax_ignore\"><div class=\"entities\" style=\"line-height: 2.5; direction: ltr\">Human machine interface for lab \n",
              "<mark class=\"entity\" style=\"background: #7aecec; padding: 0.45em 0.6em; margin: 0 0.25em; line-height: 1; border-radius: 0.35em;\">\n",
              "    abc\n",
              "    <span style=\"font-size: 0.8em; font-weight: bold; line-height: 1; border-radius: 0.35em; text-transform: uppercase; vertical-align: middle; margin-left: 0.5rem\">ORG</span>\n",
              "</mark>\n",
              " computer applications on \n",
              "<mark class=\"entity\" style=\"background: #bfe1d9; padding: 0.45em 0.6em; margin: 0 0.25em; line-height: 1; border-radius: 0.35em;\">\n",
              "    May 10, 2000\n",
              "    <span style=\"font-size: 0.8em; font-weight: bold; line-height: 1; border-radius: 0.35em; text-transform: uppercase; vertical-align: middle; margin-left: 0.5rem\">DATE</span>\n",
              "</mark>\n",
              "</div></span>"
            ],
            "text/plain": [
              "<IPython.core.display.HTML object>"
            ]
          },
          "metadata": {
            "tags": []
          }
        }
      ]
    },
    {
      "cell_type": "markdown",
      "metadata": {
        "id": "diPVUb4VoZ1i",
        "colab_type": "text"
      },
      "source": [
        "## SpaCy -> Gensim\n",
        "* Gensim wants text\n",
        "* token.text from SpaCy"
      ]
    },
    {
      "cell_type": "markdown",
      "metadata": {
        "id": "L2X04cj4DHzx",
        "colab_type": "text"
      },
      "source": [
        "# Latent Dirichlet Allocation - LDA\n",
        "* Proposed in 2000 in the genetics field\n",
        "* Applied to NLP in 2003 by Blei & Ng\n",
        "* Generative probablistic model of a corpus (collection of documents)\n",
        "  * Documents can be approximated with random mixtures over latent topics\n",
        "  * Each topic is represented as a distribution over the words in the vocabulary\n",
        "\n",
        "## Thought Experiment\n",
        "* Corpus of Documents\n",
        "* Latent Topics\n",
        "  * Sports \n",
        "  * Politics\n",
        "  * Scary\n",
        "* Documents\n",
        "  * Given document - what topic?\n",
        "  * 10% Sports, 80% Politics, 10% Scary\n",
        "  * 60% Sports, 20% Politics, 20% Scary\n",
        "  * 33% Sports, 34% Politics, 33% Scary\n",
        "  * Documents can be a mixture of topics!\n",
        "* Words \n",
        "  * Given topic - what word?\n",
        "  * Court: 40% Sports, 40% Politics, 20% Scary\n",
        "  * Ghost: 10% Sports, 10% Politics, 60% Scary\n",
        "  * Race : 40% Sports, 30% Politics, 10% Scary\n",
        "  * Win  : 10% Sports, 20% Politics, 10% Scary\n",
        "  * Words are a distribution over the vocabulary conditioned by the topic\n",
        "\n",
        "## Dirichlet Distribution\n",
        "* Hyperparameter alpha controls edge / center\n",
        "![alt text](https://cdn-images-1.medium.com/max/900/0*mAmRqUT4gRoFj-eo.)\n",
        "\n",
        "## Technical Notes\n",
        "* Can we build a machine to generate documents with just dice?\n",
        "* Approach:\n",
        "  * How many documents?  Use the size of the corpus.\n",
        "  * How many words (N) in \"document\"?  Use the corpus average length and draw from Poisson distribution. \n",
        "    * Expected Value = Average Length\n",
        "    * Variance = Average Length\n",
        "  * Choose Topic Mix from Dirichlet distribution (Theta)\n",
        "    * Hyperparameter alpha (is our Dirichlet more focused in the center or to the edges)?\n",
        "  * For each word (N):\n",
        "    * Choose a topic (Z) from Multinomial distribution (Theta)\n",
        "    * Choose a word conditioned on Topic (Z)\n",
        "    * Note:  We don't write a document, but rather reproduce the \"bag\"\n",
        "  * Repeat for each document in corpus\n",
        "  * Select machine that \"reconstructs\" the original document the best\n",
        "  * Repeat process\n",
        "* After processing we get two matrixes\n",
        "  * Words X Topics\n",
        "  * Topics X Documents\n",
        "\n"
      ]
    },
    {
      "cell_type": "markdown",
      "metadata": {
        "id": "FLCUVBTpQ7f3",
        "colab_type": "text"
      },
      "source": [
        "# LSA vs LDA\n",
        "\n",
        "![alt text](https://image2.slideserve.com/3877409/slide21-l.jpg)\n",
        "\n",
        "* LSA\n",
        "  * Keep things spread apart that were far apart to start\n",
        "  * LSA has the advantage of good optimization\n",
        "* LDA\n",
        "  * Keep things close that were close together to start\n",
        "  * More understandable \n",
        "  * Tends to keep frequently co-occurring words in the same topic"
      ]
    },
    {
      "cell_type": "markdown",
      "metadata": {
        "id": "qfb_BAmrgmph",
        "colab_type": "text"
      },
      "source": [
        "# Seattle - Dataset\n",
        "* Use SpaCy to parse \"name\" field\n",
        "* Use Gensim to:\n",
        "  * Transform to tf-idf space\n",
        "  * Transform to LSA space\n",
        "  * Build a LDA Model\n",
        "* Craft features from topics\n",
        "* Build ML model to forecast AirBnB price"
      ]
    },
    {
      "cell_type": "markdown",
      "metadata": {
        "id": "_3WcRfLArVey",
        "colab_type": "text"
      },
      "source": [
        "## Documents"
      ]
    },
    {
      "cell_type": "code",
      "metadata": {
        "id": "GrO4bCjDgrJe",
        "colab_type": "code",
        "colab": {
          "base_uri": "https://localhost:8080/",
          "height": 187
        },
        "outputId": "c044dff4-59b9-4ea8-859b-8d8c0e7eab0e"
      },
      "source": [
        "documents = seattle_df.name.to_list()\n",
        "documents[0:10]"
      ],
      "execution_count": 38,
      "outputs": [
        {
          "output_type": "execute_result",
          "data": {
            "text/plain": [
              "['Casa Madrona - Urban Oasis, 1 block from the Park!',\n",
              " 'Sweet Seattle Urban Homestead 2 Bdr',\n",
              " 'Sunrise in Seattle Master Suite',\n",
              " 'Cozy Studio, min. to downtown -WiFi',\n",
              " 'Fab, private seattle urban cottage!',\n",
              " 'Glorious sun room w/ memory foambed',\n",
              " 'Downtown/Convention Ctr B&B - Nice!',\n",
              " 'The Adorable Sweet Orange Craftsman',\n",
              " 'The Coolest Tangerine Dream MIL! ',\n",
              " 'the down home , spacious, central and fab!']"
            ]
          },
          "metadata": {
            "tags": []
          },
          "execution_count": 38
        }
      ]
    },
    {
      "cell_type": "markdown",
      "metadata": {
        "id": "il7cg9InrW6M",
        "colab_type": "text"
      },
      "source": [
        "## Tokenize\n",
        "* Skip stopwords\n",
        "* Skip punctuation"
      ]
    },
    {
      "cell_type": "code",
      "metadata": {
        "id": "XPAtQd3Kg9tp",
        "colab_type": "code",
        "colab": {
          "base_uri": "https://localhost:8080/",
          "height": 187
        },
        "outputId": "18b6b32c-12b1-411d-c104-1e230bd3ead4"
      },
      "source": [
        "nlp = spacy.load('en')\n",
        "tokens = [nlp(document) for document in documents]\n",
        "tokens[0:10]"
      ],
      "execution_count": 39,
      "outputs": [
        {
          "output_type": "execute_result",
          "data": {
            "text/plain": [
              "[Casa Madrona - Urban Oasis, 1 block from the Park!,\n",
              " Sweet Seattle Urban Homestead 2 Bdr,\n",
              " Sunrise in Seattle Master Suite,\n",
              " Cozy Studio, min. to downtown -WiFi,\n",
              " Fab, private seattle urban cottage!,\n",
              " Glorious sun room w/ memory foambed,\n",
              " Downtown/Convention Ctr B&B - Nice!,\n",
              " The Adorable Sweet Orange Craftsman,\n",
              " The Coolest Tangerine Dream MIL! ,\n",
              " the down home , spacious, central and fab!]"
            ]
          },
          "metadata": {
            "tags": []
          },
          "execution_count": 39
        }
      ]
    },
    {
      "cell_type": "code",
      "metadata": {
        "id": "amNrs9ZGiIi2",
        "colab_type": "code",
        "colab": {}
      },
      "source": [
        "texts = [\n",
        "         [token.text for token in document\n",
        "          if not token.is_stop and not token.is_punct]\n",
        "         for document in tokens\n",
        "        ]"
      ],
      "execution_count": 40,
      "outputs": []
    },
    {
      "cell_type": "markdown",
      "metadata": {
        "id": "ukjtfFSZrYnq",
        "colab_type": "text"
      },
      "source": [
        "## Dictionary"
      ]
    },
    {
      "cell_type": "code",
      "metadata": {
        "id": "Y-qY8ONmh3Ij",
        "colab_type": "code",
        "colab": {
          "base_uri": "https://localhost:8080/",
          "height": 34
        },
        "outputId": "6040ee79-d411-4f82-c8d4-1a494705eab8"
      },
      "source": [
        "dictionary = corpora.Dictionary(texts)\n",
        "print(dictionary)"
      ],
      "execution_count": 41,
      "outputs": [
        {
          "output_type": "stream",
          "text": [
            "Dictionary(4297 unique tokens: ['1', 'Casa', 'Madrona', 'Oasis', 'Park']...)\n"
          ],
          "name": "stdout"
        }
      ]
    },
    {
      "cell_type": "markdown",
      "metadata": {
        "id": "VYXNlH1QraAs",
        "colab_type": "text"
      },
      "source": [
        "## Bag of Words"
      ]
    },
    {
      "cell_type": "code",
      "metadata": {
        "id": "JhkoKbmWi30h",
        "colab_type": "code",
        "colab": {}
      },
      "source": [
        "corpus = [dictionary.doc2bow(text) for text in texts]"
      ],
      "execution_count": 42,
      "outputs": []
    },
    {
      "cell_type": "markdown",
      "metadata": {
        "id": "GngWNV_xrcsA",
        "colab_type": "text"
      },
      "source": [
        "## TF-IDF"
      ]
    },
    {
      "cell_type": "code",
      "metadata": {
        "id": "AY5AJmLzi-TI",
        "colab_type": "code",
        "colab": {}
      },
      "source": [
        "tfidf = models.TfidfModel(corpus) \n",
        "corpus_tfidf = tfidf[corpus]"
      ],
      "execution_count": 43,
      "outputs": []
    },
    {
      "cell_type": "markdown",
      "metadata": {
        "id": "bykIfZkmrj71",
        "colab_type": "text"
      },
      "source": [
        "## LSA Model"
      ]
    },
    {
      "cell_type": "code",
      "metadata": {
        "id": "ZufndIPojD5L",
        "colab_type": "code",
        "colab": {
          "base_uri": "https://localhost:8080/",
          "height": 102
        },
        "outputId": "bc84d0ba-42b3-42ff-efcb-136536e111d7"
      },
      "source": [
        "lsi_model = models.LsiModel(corpus_tfidf, id2word=dictionary, num_topics=5) \n",
        "corpus_lsi = lsi_model[corpus_tfidf]  \n",
        "lsi_model.print_topics(5, num_words=3)"
      ],
      "execution_count": 49,
      "outputs": [
        {
          "output_type": "execute_result",
          "data": {
            "text/plain": [
              "[(0, '0.329*\"Seattle\" + 0.274*\"Hill\" + 0.259*\"Private\"'),\n",
              " (1, '0.535*\"Hill\" + 0.515*\"Capitol\" + -0.298*\"Seattle\"'),\n",
              " (2, '0.468*\"Place\" + 0.455*\"Pike\" + -0.281*\"Hill\"'),\n",
              " (3, '0.558*\"Queen\" + 0.534*\"Anne\" + -0.375*\"Seattle\"'),\n",
              " (4, '0.305*\"Lake\" + 0.299*\"Apt\" + 0.283*\"near\"')]"
            ]
          },
          "metadata": {
            "tags": []
          },
          "execution_count": 49
        }
      ]
    },
    {
      "cell_type": "markdown",
      "metadata": {
        "id": "EmslvxNzrAyc",
        "colab_type": "text"
      },
      "source": [
        "## LDA Model"
      ]
    },
    {
      "cell_type": "markdown",
      "metadata": {
        "id": "c2iPKxsnRvAk",
        "colab_type": "text"
      },
      "source": [
        "### Bag of Words"
      ]
    },
    {
      "cell_type": "code",
      "metadata": {
        "id": "dBoJG65JRVlw",
        "colab_type": "code",
        "colab": {
          "base_uri": "https://localhost:8080/",
          "height": 102
        },
        "outputId": "97b6b1f9-8590-41cb-ca8c-3c4ffb4dc2df"
      },
      "source": [
        "lda_bow_model = models.LdaModel(corpus, id2word=dictionary, num_topics=5) \n",
        "corpus_bow_lda = lda_bow_model[corpus]  \n",
        "lda_bow_model.print_topics(5, num_words=3)"
      ],
      "execution_count": 53,
      "outputs": [
        {
          "output_type": "execute_result",
          "data": {
            "text/plain": [
              "[(0, '0.026*\"Seattle\" + 0.019*\"Modern\" + 0.019*\"Private\"'),\n",
              " (1, '0.041*\"Downtown\" + 0.028*\"Hill\" + 0.023*\"Apartment\"'),\n",
              " (2, '0.032*\"Place\" + 0.031*\"Pike\" + 0.023*\"Home\"'),\n",
              " (3, '0.070*\"Seattle\" + 0.021*\"Apartment\" + 0.020*\"Cozy\"'),\n",
              " (4, '0.044*\"Hill\" + 0.041*\"Seattle\" + 0.028*\"Capitol\"')]"
            ]
          },
          "metadata": {
            "tags": []
          },
          "execution_count": 53
        }
      ]
    },
    {
      "cell_type": "markdown",
      "metadata": {
        "id": "df2XsXRRRx_H",
        "colab_type": "text"
      },
      "source": [
        "### TF-IDF"
      ]
    },
    {
      "cell_type": "code",
      "metadata": {
        "colab_type": "code",
        "id": "RtQQkFR1k_9M",
        "colab": {
          "base_uri": "https://localhost:8080/",
          "height": 102
        },
        "outputId": "725d5392-95db-4f40-9776-621683d91272"
      },
      "source": [
        "lda_model = models.LdaModel(corpus_tfidf, id2word=dictionary, num_topics=5) \n",
        "corpus_lda = lda_model[corpus_tfidf]  \n",
        "lda_model.print_topics(5, num_words=3)"
      ],
      "execution_count": 54,
      "outputs": [
        {
          "output_type": "execute_result",
          "data": {
            "text/plain": [
              "[(0, '0.018*\"Hill\" + 0.012*\"Capitol\" + 0.010*\"Modern\"'),\n",
              " (1, '0.016*\"Seattle\" + 0.013*\"Apartment\" + 0.010*\"Cozy\"'),\n",
              " (2, '0.014*\"Seattle\" + 0.013*\"Heart\" + 0.012*\"xx\"'),\n",
              " (3, '0.025*\"Place\" + 0.023*\"Pike\" + 0.011*\"Downtown\"'),\n",
              " (4, '0.014*\"Seattle\" + 0.013*\"Private\" + 0.009*\"room\"')]"
            ]
          },
          "metadata": {
            "tags": []
          },
          "execution_count": 54
        }
      ]
    },
    {
      "cell_type": "markdown",
      "metadata": {
        "id": "-urSqJJB_OvV",
        "colab_type": "text"
      },
      "source": [
        "# Visualizing Topic Models"
      ]
    },
    {
      "cell_type": "markdown",
      "metadata": {
        "id": "GWGAyCWZE6Gt",
        "colab_type": "text"
      },
      "source": [
        "## WordClouds"
      ]
    },
    {
      "cell_type": "code",
      "metadata": {
        "id": "QyOZ2YswEtb_",
        "colab_type": "code",
        "colab": {
          "base_uri": "https://localhost:8080/",
          "height": 1000
        },
        "outputId": "1909c768-00b7-4e04-832d-48dc827ac2c6"
      },
      "source": [
        "for t in range(lda_model.num_topics):\n",
        "    plt.figure()\n",
        "    topic_words = {tup[0]:tup[1] for tup in lda_model.show_topic(t, 200)}\n",
        "    plt.imshow(WordCloud().fit_words(topic_words))\n",
        "    plt.axis(\"off\")\n",
        "    plt.title(\"Topic #\" + str(t))\n",
        "    plt.show()"
      ],
      "execution_count": 68,
      "outputs": [
        {
          "output_type": "display_data",
          "data": {
            "image/png": "[encoded data removed]",
            "text/plain": [
              "<Figure size 432x288 with 1 Axes>"
            ]
          },
          "metadata": {
            "tags": [],
            "needs_background": "light"
          }
        },
        {
          "output_type": "display_data",
          "data": {
            "image/png": "[encoded data removed]",
            "text/plain": [
              "<Figure size 432x288 with 1 Axes>"
            ]
          },
          "metadata": {
            "tags": [],
            "needs_background": "light"
          }
        },
        {
          "output_type": "display_data",
          "data": {
            "image/png": "[encoded data removed]",
            "text/plain": [
              "<Figure size 432x288 with 1 Axes>"
            ]
          },
          "metadata": {
            "tags": [],
            "needs_background": "light"
          }
        },
        {
          "output_type": "display_data",
          "data": {
            "image/png": "[encoded data removed]",
            "text/plain": [
              "<Figure size 432x288 with 1 Axes>"
            ]
          },
          "metadata": {
            "tags": [],
            "needs_background": "light"
          }
        },
        {
          "output_type": "display_data",
          "data": {
            "image/png": "[encoded data removed]",
            "text/plain": [
              "<Figure size 432x288 with 1 Axes>"
            ]
          },
          "metadata": {
            "tags": [],
            "needs_background": "light"
          }
        }
      ]
    },
    {
      "cell_type": "markdown",
      "metadata": {
        "id": "8zDYzrzeFCbI",
        "colab_type": "text"
      },
      "source": [
        "## PyLDAVis\n",
        "* Port of R package by Carson Sievert and Kenny Shirley\n",
        "* http://nlp.stanford.edu/events/illvi2014/papers/sievert-illvi2014.pdf"
      ]
    },
    {
      "cell_type": "code",
      "metadata": {
        "id": "l91ouxsXDjfq",
        "colab_type": "code",
        "colab": {
          "base_uri": "https://localhost:8080/",
          "height": 861
        },
        "outputId": "fd7f1713-acc7-4dde-8028-96b392fcf459"
      },
      "source": [
        "pyLDAvis.enable_notebook()\n",
        "vis = pyLDAvis.gensim.prepare(lda_model, corpus_tfidf, dictionary)\n",
        "vis"
      ],
      "execution_count": 60,
      "outputs": [
        {
          "output_type": "execute_result",
          "data": {
            "text/html": [
              "\n",
              "<link rel=\"stylesheet\" type=\"text/css\" href=\"https://cdn.rawgit.com/bmabey/pyLDAvis/files/ldavis.v1.0.0.css\">\n",
              "\n",
              "\n",
              "<div id=\"ldavis_el1201402076761946322774576671\"></div>\n",
              "<script type=\"text/javascript\">\n",
              "\n",
              "var ldavis_el1201402076761946322774576671_data = {\"mdsDat\": {\"x\": [0.08136805516796482, -0.15297743961738106, 0.050197027968539615, 0.05640225178784773, -0.034989895306971], \"y\": [0.0498527440594628, -0.04430926414614987, -0.09649595334359609, -0.0307303319433359, 0.12168280537361903], \"topics\": [1, 2, 3, 4, 5], \"cluster\": [1, 1, 1, 1, 1], \"Freq\": [23.82037925720215, 20.73678207397461, 18.918079376220703, 18.286596298217773, 18.238161087036133]}, \"tinfo\": {\"Term\": [\"Place\", \"Pike\", \"xx\", \"F\", \"Heart\", \"Needle\", \"Space\", \"Walkscore\", \"Waterfront\", \"Market\", \"100\", \"Capital\", \"1BD\", \"Executive\", \"Beach\", \"Alki\", \"\\u2605\", \"Amazon\", \"Goog\", \"Corporate\", \"Getaway\", \"Hill\", \"Apartments\", \"Stunning\", \"Redmond\", \"Queen\", \"Amzn\", \"minutes\", \"Condos\", \"Guest\", \"Corporate\", \"Avenue\", \"new\", \"Shared\", \"1st\", \"Needle\", \"space\", \"Bathroom\", \"stay\", \"7\", \"Little\", \"Coed\", \"Forest\", \"HighRise\", \"Hidden\", \"beautiful\", \"Daylight\", \"1br\", \"Town\", \"beds\", \"Space\", \"Left\", \"Ridge\", \"Peace\", \"Huge\", \"bungalow\", \"Main\", \"Deluxe\", \"townhome\", \"Min\", \"Single\", \"Alfred\", \"Phinney\", \"Friendly\", \"Centrally\", \"Stay\", \"located\", \"Puget\", \"West\", \"Queen\", \"Anne\", \"Bungalow\", \"Apartment\", \"Spacious\", \"Kirkland\", \"Seattle\", \"Lake\", \"Room\", \"Cozy\", \"House\", \"Home\", \"Private\", \"Suite\", \"Bedroom\", \"Bed\", \"Studio\", \"City\", \"room\", \"Modern\", \"Ballard\", \"private\", \"Hill\", \"2\", \"bedroom\", \"F\", \"Market\", \"Amazon\", \"Executive\", \"Waterfront+Pike\", \"term\", \"Place\", \"100\", \"98\", \"Pike\", \"Pool\", \"Trendy\", \"Blocks\", \"Walkscore\", \"Rainier\", \"6\", \"Waterfront\", \"Midcentury\", \"prime\", \"guest\", \"street\", \"Wonderful\", \"little\", \"right\", \"Wheel\", \"1bd\", \"Seward\", \"Charmer\", \"3BD\", \"Vibrant\", \"Big\", \"Westlake\", \"Condos\", \"bedrooms\", \"Mountain\", \"1BD\", \"Mid\", \"Century\", \"Open\", \"Water\", \"Belltown\", \"Walk\", \"studio\", \"Clean\", \"Downtown\", \"3\", \"Studio\", \"Parking\", \"condo\", \"Condo\", \"5\", \"View\", \"Hill\", \"Capitol\", \"Seattle\", \"City\", \"2\", \"Views\", \"1\", \"\\u2605\", \"Suite\", \"Capital\", \"Newcastle\", \"living\", \"Small\", \"Crown\", \"convenient\", \"Hideaway\", \"Easy\", \"Ultra\", \"Campus\", \"Bus\", \"Sweeping\", \"Relax\", \"Elliott\", \"15\", \"sleeps\", \"Paradise\", \"clean\", \"Kennydale\", \"Relaxing\", \"Pine\", \"W.\", \"Breathtaking\", \"Cherry\", \"bed/2\", \"East\", \"Affordable\", \"Laurelhurst\", \"Filled\", \"Unique\", \"DT\", \"Comfortable\", \"12\", \"South\", \"Access\", \"District\", \"Convenient\", \"University\", \"Unit\", \"Hill\", \"Micro\", \"Central\", \"Capitol\", \"Quiet\", \"Oasis\", \"Guest\", \"Street\", \"Loft\", \"Room\", \"Modern\", \"Urban\", \"House\", \"Studio\", \"UW\", \"Suite\", \"Private\", \"Cap\", \"Cozy\", \"Seattle\", \"Bellevue\", \"Charming\", \"Home\", \"Bedroom\", \"Downtown\", \"Charm\", \"97\", \"Ave\", \"Guesthouse\", \"Travel\", \"comfort\", \"Skyline\", \"11\", \"Sanctuary\", \"Airport\", \"Nest\", \"Roosevelt\", \"Lakeview\", \"Rise\", \"Adorable\", \"Eco\", \"WLK\", \"perfect\", \"Orange\", \"Female\", \"filled\", \"Old\", \"Blue\", \"block\", \"Royal\", \"mountain\", \"Maple\", \"ft\", \"Leaf\", \"Garage\", \"Getaway\", \"Alki\", \"Stunning\", \"Mercer\", \"Beach\", \"beach\", \"Island\", \"Patio\", \"Luxurious\", \"views\", \"heart\", \"Greenwood\", \"Entire\", \"Beacon\", \"High\", \"room\", \"Bright\", \"Private\", \"private\", \"apartment\", \"Seattle\", \"bedroom\", \"close\", \"Cottage\", \"Greenlake\", \"North\", \"Ballard\", \"Downtown\", \"downtown\", \"Modern\", \"Home\", \"Cozy\", \"Apartment\", \"home\", \"Bellevue\", \"Hill\", \"Lake\", \"Room\", \"xx\", \"Goog\", \"minutes\", \"Premium\", \"Redmond\", \"9\", \"water\", \"20\", \"2BR/2BA\", \"Couples\", \"family\", \"Apartments\", \"Timberlawn\", \"stylish\", \"Convenience\", \"Warm\", \"Chroma\", \"Domicile\", \"building\", \"stunning\", \"Life\", \"Wedgwood\", \"13\", \"mid\", \"Awesome\", \"Christmas\", \"BRAND\", \"bd\", \"DOWNTOWN\", \"Traveler\", \"Heart\", \"Camlin\", \"|\", \"Amzn\", \"Rooftop\", \"WA\", \"NEW\", \"Apt\", \"\\u2605\", \"Facebk\", \"New\", \"near\", \"SLU\", \"Convention\", \"1\", \"Bedroom\", \"Beautiful\", \"Seattle\", \"Center\", \"Downtown\", \"home\", \"2\", \"Home\", \"Private\", \"Apartment\", \"Cozy\", \"Ballard\", \"Condo\", \"Modern\", \"Suite\"], \"Freq\": [92.0, 85.0, 35.0, 36.0, 46.0, 38.0, 42.0, 36.0, 35.0, 27.0, 29.0, 23.0, 45.0, 23.0, 35.0, 27.0, 46.0, 21.0, 18.0, 21.0, 24.0, 131.0, 19.0, 22.0, 17.0, 60.0, 24.0, 15.0, 24.0, 50.0, 20.467689514160156, 17.507368087768555, 17.259990692138672, 16.152664184570312, 15.10155200958252, 37.067588806152344, 11.966257095336914, 11.50274658203125, 18.12436294555664, 11.50740909576416, 13.727349281311035, 12.642513275146484, 9.36436653137207, 9.583297729492188, 9.266785621643066, 8.654549598693848, 8.490222930908203, 13.976903915405273, 7.946926593780518, 7.90431022644043, 39.03139877319336, 7.655097007751465, 10.95257568359375, 7.359964370727539, 6.007654666900635, 5.856648921966553, 5.759106636047363, 5.703000068664551, 11.084808349609375, 5.809140682220459, 10.015414237976074, 14.434762001037598, 14.65144157409668, 16.68320655822754, 13.022934913635254, 20.01351547241211, 11.714195251464844, 22.236421585083008, 39.71112060546875, 36.7099723815918, 31.99192237854004, 18.89491081237793, 50.967071533203125, 34.85820388793945, 22.577529907226562, 61.68470001220703, 35.03293991088867, 38.24666213989258, 39.81376266479492, 31.57820701599121, 35.144813537597656, 38.335758209228516, 29.23366355895996, 25.665252685546875, 18.170894622802734, 25.865100860595703, 20.677928924560547, 20.978862762451172, 22.841777801513672, 20.68048858642578, 19.908597946166992, 21.101333618164062, 18.92862892150879, 18.689224243164062, 35.45329284667969, 26.68971061706543, 20.610340118408203, 22.45298957824707, 12.714727401733398, 12.541254997253418, 86.38631439208984, 27.646928787231445, 10.015816688537598, 79.17871856689453, 7.982556343078613, 7.389668941497803, 7.253230094909668, 33.22578811645508, 8.430498123168945, 17.03718376159668, 31.671192169189453, 4.754594326019287, 4.674971103668213, 12.478616714477539, 4.460748195648193, 4.4173078536987305, 4.1765618324279785, 4.093855857849121, 5.231575965881348, 4.014331340789795, 6.428909778594971, 7.99286413192749, 4.198322772979736, 3.662904739379883, 8.557622909545898, 7.279423713684082, 20.10340690612793, 7.85575532913208, 8.276092529296875, 33.98329544067383, 14.054009437561035, 13.34154224395752, 13.362578392028809, 16.411298751831055, 24.420602798461914, 24.262235641479492, 18.0545654296875, 20.675098419189453, 38.41339874267578, 19.50105857849121, 31.57753562927246, 14.776628494262695, 11.754672050476074, 18.61842155456543, 14.069571495056152, 21.26094627380371, 27.387880325317383, 23.35308074951172, 29.027204513549805, 18.448760986328125, 20.212926864624023, 17.3261661529541, 19.220163345336914, 16.966543197631836, 16.776166915893555, 22.87936019897461, 12.320713996887207, 9.358172416687012, 7.5672993659973145, 7.384570121765137, 7.478204250335693, 14.233613967895508, 7.507295608520508, 8.79083251953125, 6.464817047119141, 7.132394790649414, 5.975150108337402, 5.46513557434082, 5.47868537902832, 11.202181816101074, 5.327252388000488, 5.18844747543335, 8.442241668701172, 4.5183424949646, 6.282316207885742, 13.914969444274902, 4.09353494644165, 4.112267971038818, 4.934043884277344, 3.9598000049591064, 7.84325647354126, 4.6403422355651855, 3.793851375579834, 5.392127513885498, 5.811091899871826, 14.321878433227539, 15.46324634552002, 8.049896240234375, 13.450931549072266, 6.538118839263916, 19.400371551513672, 16.403705596923828, 14.186119079589844, 10.75859546661377, 55.87046813964844, 6.7504754066467285, 21.67040252685547, 38.27684783935547, 22.58528709411621, 17.885068893432617, 24.290321350097656, 10.654376029968262, 16.309606552124023, 29.410350799560547, 30.88483238220215, 14.193204879760742, 25.729598999023438, 29.21521759033203, 17.305143356323242, 23.960819244384766, 27.269922256469727, 12.787200927734375, 19.7843074798584, 23.600631713867188, 16.521638870239258, 15.145377159118652, 16.77129554748535, 15.17578411102295, 14.660953521728516, 8.675034523010254, 5.908381462097168, 7.109866619110107, 8.77421760559082, 4.997272968292236, 5.677901744842529, 4.861292839050293, 4.8198113441467285, 7.580387592315674, 11.970987319946289, 6.418241500854492, 6.518126487731934, 4.317811965942383, 11.12541389465332, 4.299919128417969, 5.4638261795043945, 4.257534503936768, 9.5716552734375, 4.183311462402344, 4.258272171020508, 7.970605850219727, 6.155426502227783, 9.92402458190918, 10.07641315460205, 3.775045156478882, 4.499712944030762, 6.0498480796813965, 3.5220279693603516, 5.9730610847473145, 3.456716537475586, 20.330495834350586, 22.651357650756836, 17.94983673095703, 9.494569778442383, 25.410524368286133, 7.682157039642334, 6.2638444900512695, 12.506319046020508, 9.62946605682373, 14.772147178649902, 22.630727767944336, 13.495210647583008, 12.27985954284668, 14.417974472045898, 10.079962730407715, 26.86815643310547, 19.3541316986084, 37.71156311035156, 20.55621910095215, 18.732711791992188, 40.837947845458984, 21.902246475219727, 16.925085067749023, 16.611392974853516, 15.309697151184082, 14.563444137573242, 19.79033851623535, 24.56707191467285, 17.522985458374023, 22.573286056518555, 19.55327606201172, 19.929779052734375, 19.72565460205078, 15.913128852844238, 15.671466827392578, 18.022104263305664, 13.771042823791504, 13.871163368225098, 34.428409576416016, 17.62820816040039, 15.156627655029297, 12.865885734558105, 16.731632232666016, 8.356904983520508, 7.136836528778076, 9.461203575134277, 6.653669834136963, 5.802363872528076, 8.130950927734375, 17.685565948486328, 6.233821868896484, 5.314507484436035, 5.1880083084106445, 5.958642482757568, 11.217022895812988, 11.217022895812988, 4.934999465942383, 6.255286693572998, 4.809191703796387, 5.303547382354736, 4.261703014373779, 4.0298919677734375, 4.045757293701172, 4.417558193206787, 3.861524820327759, 6.762950897216797, 6.230281829833984, 3.7462244033813477, 38.096527099609375, 9.257585525512695, 16.417743682861328, 18.202857971191406, 14.086316108703613, 10.254443168640137, 13.669380187988281, 27.964750289916992, 24.24696159362793, 11.917563438415527, 21.827234268188477, 29.23514175415039, 12.147231101989746, 14.335204124450684, 26.836299896240234, 26.9130802154541, 20.786264419555664, 41.6497917175293, 17.001060485839844, 27.60974884033203, 18.24750518798828, 19.640281677246094, 19.728500366210938, 20.837848663330078, 19.587434768676758, 19.269380569458008, 16.824886322021484, 14.994078636169434, 16.329835891723633, 14.913145065307617], \"Total\": [92.0, 85.0, 35.0, 36.0, 46.0, 38.0, 42.0, 36.0, 35.0, 27.0, 29.0, 23.0, 45.0, 23.0, 35.0, 27.0, 46.0, 21.0, 18.0, 21.0, 24.0, 131.0, 19.0, 22.0, 17.0, 60.0, 24.0, 15.0, 24.0, 50.0, 21.111835479736328, 18.151878356933594, 17.91327667236328, 16.796545028686523, 15.739681243896484, 38.882164001464844, 12.615310668945312, 12.142556190490723, 19.14104652404785, 12.197017669677734, 14.619278907775879, 13.486013412475586, 10.008183479309082, 10.249778747558594, 9.912077903747559, 9.300529479980469, 9.129441261291504, 15.068129539489746, 8.59638500213623, 8.551673889160156, 42.27046585083008, 8.302063941955566, 11.904876708984375, 8.02074909210205, 6.649255275726318, 6.5078840255737305, 6.400904178619385, 6.34757661819458, 12.342228889465332, 6.469390869140625, 11.165310859680176, 16.25654411315918, 16.55890464782715, 18.975189208984375, 14.776568412780762, 23.862829208374023, 13.342367172241211, 29.799375534057617, 66.31501007080078, 60.29669189453125, 51.49648666381836, 25.768348693847656, 115.75292205810547, 70.43323516845703, 38.451805114746094, 196.80027770996094, 79.5913314819336, 96.2900161743164, 110.5544662475586, 81.24188232421875, 100.30804443359375, 132.04830932617188, 98.20663452148438, 81.06990814208984, 33.396366119384766, 109.81730651855469, 55.10352325439453, 66.99823760986328, 108.20079040527344, 66.32766723632812, 55.203704833984375, 131.50233459472656, 82.53225708007812, 66.35084533691406, 36.174339294433594, 27.78037452697754, 21.535808563232422, 23.485515594482422, 13.358752250671387, 13.263257026672363, 92.26683807373047, 29.684720993041992, 10.773374557495117, 85.52800750732422, 8.628549575805664, 8.04233455657959, 7.905972480773926, 36.486209869384766, 9.293957710266113, 18.905427932739258, 35.45950698852539, 5.408705234527588, 5.323794841766357, 14.227361679077148, 5.108734130859375, 5.071051120758057, 4.825171947479248, 4.744473457336426, 6.06846284866333, 4.6584649085998535, 7.478026390075684, 9.343579292297363, 4.9269609451293945, 4.309595584869385, 10.077635765075684, 8.580206871032715, 24.290374755859375, 9.406942367553711, 9.981030464172363, 45.07771301269531, 17.619436264038086, 16.831010818481445, 16.925085067749023, 22.387859344482422, 38.09532165527344, 47.4079475402832, 32.84730911254883, 43.48119354248047, 120.29080200195312, 44.890098571777344, 109.81730651855469, 27.743423461914062, 18.854385375976562, 49.30961990356445, 27.64629364013672, 69.90950012207031, 131.50233459472656, 92.1168441772461, 196.80027770996094, 55.10352325439453, 82.53225708007812, 47.3314208984375, 76.22315979003906, 46.286216735839844, 98.20663452148438, 23.52375602722168, 12.959782600402832, 10.144113540649414, 8.202982902526855, 8.014949798583984, 8.11866569519043, 15.489323616027832, 8.225447654724121, 9.653242111206055, 7.099062919616699, 7.882546901702881, 6.617616653442383, 6.100907802581787, 6.117428779602051, 12.516345024108887, 5.976562976837158, 5.825838088989258, 9.506543159484863, 5.152815818786621, 7.196882247924805, 16.04570770263672, 4.728488922119141, 4.750637531280518, 5.703582763671875, 4.592990875244141, 9.104022026062012, 5.407532691955566, 4.425135135650635, 6.294667720794678, 6.795085906982422, 17.575927734375, 19.09684181213379, 9.694668769836426, 16.771615982055664, 7.7899603843688965, 25.540672302246094, 21.253145217895508, 19.551227569580078, 14.401788711547852, 131.50233459472656, 8.243842124938965, 40.96251678466797, 92.1168441772461, 44.023765563964844, 31.723312377929688, 50.008365631103516, 15.676102638244629, 32.34043502807617, 96.2900161743164, 108.20079040527344, 26.8308048248291, 81.24188232421875, 109.81730651855469, 46.55036926269531, 98.20663452148438, 132.04830932617188, 27.935951232910156, 110.5544662475586, 196.80027770996094, 62.515716552734375, 50.94414520263672, 100.30804443359375, 81.06990814208984, 120.29080200195312, 9.574556350708008, 6.604164123535156, 7.9706315994262695, 9.836987495422363, 5.636965274810791, 6.4122514724731445, 5.498710632324219, 5.4695844650268555, 8.606500625610352, 13.617237091064453, 7.331081867218018, 7.473411560058594, 4.954804420471191, 12.770849227905273, 4.939401626586914, 6.2811598777771, 4.913295269012451, 11.05585765838623, 4.834183216094971, 4.94407320022583, 9.256875038146973, 7.168076992034912, 11.581169128417969, 11.771814346313477, 4.4105143547058105, 5.274194717407227, 7.108426094055176, 4.1588969230651855, 7.059038162231445, 4.09842586517334, 24.460969924926758, 27.642271041870117, 22.315776824951172, 11.723644256591797, 35.068912506103516, 9.580211639404297, 7.67822790145874, 17.669679641723633, 13.160279273986816, 22.272171020507812, 38.30901336669922, 20.299583435058594, 18.87555503845215, 24.836528778076172, 15.242002487182617, 66.99823760986328, 43.25746154785156, 132.04830932617188, 55.203704833984375, 47.63330841064453, 196.80027770996094, 66.35084533691406, 43.38578414916992, 43.84309387207031, 37.316375732421875, 33.809547424316406, 66.32766723632812, 120.29080200195312, 56.20945739746094, 108.20079040527344, 100.30804443359375, 110.5544662475586, 115.75292205810547, 61.18903350830078, 62.515716552734375, 131.50233459472656, 79.5913314819336, 96.2900161743164, 35.39301681518555, 18.326549530029297, 15.810704231262207, 13.515724182128906, 17.906766891479492, 9.101823806762695, 7.782895088195801, 10.366521835327148, 7.299886703491211, 6.45225715637207, 9.045245170593262, 19.682573318481445, 6.975222587585449, 5.9649858474731445, 5.831507682800293, 6.749861240386963, 12.759700775146484, 12.759700775146484, 5.629586696624756, 7.158120155334473, 5.504482269287109, 6.090865612030029, 4.924388885498047, 4.673916816711426, 4.699743747711182, 5.135950088500977, 4.501643657684326, 7.886273384094238, 7.301486015319824, 4.39335823059082, 46.249786376953125, 11.149185180664062, 20.393051147460938, 24.136404037475586, 20.209178924560547, 14.062906265258789, 20.39543342590332, 53.67698669433594, 46.286216735839844, 18.254730224609375, 44.54814147949219, 72.8544921875, 20.084142684936523, 26.39369010925293, 76.22315979003906, 81.06990814208984, 54.7022705078125, 196.80027770996094, 39.654754638671875, 120.29080200195312, 61.18903350830078, 82.53225708007812, 100.30804443359375, 132.04830932617188, 115.75292205810547, 110.5544662475586, 66.32766723632812, 49.30961990356445, 108.20079040527344, 98.20663452148438], \"Category\": [\"Default\", \"Default\", \"Default\", \"Default\", \"Default\", \"Default\", \"Default\", \"Default\", \"Default\", \"Default\", \"Default\", \"Default\", \"Default\", \"Default\", \"Default\", \"Default\", \"Default\", \"Default\", \"Default\", \"Default\", \"Default\", \"Default\", \"Default\", \"Default\", \"Default\", \"Default\", \"Default\", \"Default\", \"Default\", \"Default\", \"Topic1\", \"Topic1\", \"Topic1\", \"Topic1\", \"Topic1\", \"Topic1\", \"Topic1\", \"Topic1\", \"Topic1\", \"Topic1\", \"Topic1\", \"Topic1\", \"Topic1\", \"Topic1\", \"Topic1\", \"Topic1\", \"Topic1\", \"Topic1\", \"Topic1\", \"Topic1\", \"Topic1\", \"Topic1\", \"Topic1\", \"Topic1\", \"Topic1\", \"Topic1\", \"Topic1\", \"Topic1\", \"Topic1\", \"Topic1\", \"Topic1\", \"Topic1\", \"Topic1\", \"Topic1\", \"Topic1\", \"Topic1\", \"Topic1\", \"Topic1\", \"Topic1\", \"Topic1\", \"Topic1\", \"Topic1\", \"Topic1\", \"Topic1\", \"Topic1\", \"Topic1\", \"Topic1\", \"Topic1\", \"Topic1\", \"Topic1\", \"Topic1\", \"Topic1\", \"Topic1\", \"Topic1\", \"Topic1\", \"Topic1\", \"Topic1\", \"Topic1\", \"Topic1\", \"Topic1\", \"Topic1\", \"Topic1\", \"Topic1\", \"Topic1\", \"Topic2\", \"Topic2\", \"Topic2\", \"Topic2\", \"Topic2\", \"Topic2\", \"Topic2\", \"Topic2\", \"Topic2\", \"Topic2\", \"Topic2\", \"Topic2\", \"Topic2\", \"Topic2\", \"Topic2\", \"Topic2\", \"Topic2\", \"Topic2\", \"Topic2\", \"Topic2\", \"Topic2\", \"Topic2\", \"Topic2\", \"Topic2\", \"Topic2\", \"Topic2\", \"Topic2\", \"Topic2\", \"Topic2\", \"Topic2\", \"Topic2\", \"Topic2\", \"Topic2\", \"Topic2\", \"Topic2\", \"Topic2\", \"Topic2\", \"Topic2\", \"Topic2\", \"Topic2\", \"Topic2\", \"Topic2\", \"Topic2\", \"Topic2\", \"Topic2\", \"Topic2\", \"Topic2\", \"Topic2\", \"Topic2\", \"Topic2\", \"Topic2\", \"Topic2\", \"Topic2\", \"Topic2\", \"Topic2\", \"Topic2\", \"Topic2\", \"Topic2\", \"Topic2\", \"Topic2\", \"Topic2\", \"Topic3\", \"Topic3\", \"Topic3\", \"Topic3\", \"Topic3\", \"Topic3\", \"Topic3\", \"Topic3\", \"Topic3\", \"Topic3\", \"Topic3\", \"Topic3\", \"Topic3\", \"Topic3\", \"Topic3\", \"Topic3\", \"Topic3\", \"Topic3\", \"Topic3\", \"Topic3\", \"Topic3\", \"Topic3\", \"Topic3\", \"Topic3\", \"Topic3\", \"Topic3\", \"Topic3\", \"Topic3\", \"Topic3\", \"Topic3\", \"Topic3\", \"Topic3\", \"Topic3\", \"Topic3\", \"Topic3\", \"Topic3\", \"Topic3\", \"Topic3\", \"Topic3\", \"Topic3\", \"Topic3\", \"Topic3\", \"Topic3\", \"Topic3\", \"Topic3\", \"Topic3\", \"Topic3\", \"Topic3\", \"Topic3\", \"Topic3\", \"Topic3\", \"Topic3\", \"Topic3\", \"Topic3\", \"Topic3\", \"Topic3\", \"Topic3\", \"Topic3\", \"Topic3\", \"Topic3\", \"Topic3\", \"Topic3\", \"Topic3\", \"Topic3\", \"Topic4\", \"Topic4\", \"Topic4\", \"Topic4\", \"Topic4\", \"Topic4\", \"Topic4\", \"Topic4\", \"Topic4\", \"Topic4\", \"Topic4\", \"Topic4\", \"Topic4\", \"Topic4\", \"Topic4\", \"Topic4\", \"Topic4\", \"Topic4\", \"Topic4\", \"Topic4\", \"Topic4\", \"Topic4\", \"Topic4\", \"Topic4\", \"Topic4\", \"Topic4\", \"Topic4\", \"Topic4\", \"Topic4\", \"Topic4\", \"Topic4\", \"Topic4\", \"Topic4\", \"Topic4\", \"Topic4\", \"Topic4\", \"Topic4\", \"Topic4\", \"Topic4\", \"Topic4\", \"Topic4\", \"Topic4\", \"Topic4\", \"Topic4\", \"Topic4\", \"Topic4\", \"Topic4\", \"Topic4\", \"Topic4\", \"Topic4\", \"Topic4\", \"Topic4\", \"Topic4\", \"Topic4\", \"Topic4\", \"Topic4\", \"Topic4\", \"Topic4\", \"Topic4\", \"Topic4\", \"Topic4\", \"Topic4\", \"Topic4\", \"Topic4\", \"Topic4\", \"Topic4\", \"Topic4\", \"Topic4\", \"Topic5\", \"Topic5\", \"Topic5\", \"Topic5\", \"Topic5\", \"Topic5\", \"Topic5\", \"Topic5\", \"Topic5\", \"Topic5\", \"Topic5\", \"Topic5\", \"Topic5\", \"Topic5\", \"Topic5\", \"Topic5\", \"Topic5\", \"Topic5\", \"Topic5\", \"Topic5\", \"Topic5\", \"Topic5\", \"Topic5\", \"Topic5\", \"Topic5\", \"Topic5\", \"Topic5\", \"Topic5\", \"Topic5\", \"Topic5\", \"Topic5\", \"Topic5\", \"Topic5\", \"Topic5\", \"Topic5\", \"Topic5\", \"Topic5\", \"Topic5\", \"Topic5\", \"Topic5\", \"Topic5\", \"Topic5\", \"Topic5\", \"Topic5\", \"Topic5\", \"Topic5\", \"Topic5\", \"Topic5\", \"Topic5\", \"Topic5\", \"Topic5\", \"Topic5\", \"Topic5\", \"Topic5\", \"Topic5\", \"Topic5\", \"Topic5\", \"Topic5\", \"Topic5\", \"Topic5\"], \"logprob\": [30.0, 29.0, 28.0, 27.0, 26.0, 25.0, 24.0, 23.0, 22.0, 21.0, 20.0, 19.0, 18.0, 17.0, 16.0, 15.0, 14.0, 13.0, 12.0, 11.0, 10.0, 9.0, 8.0, 7.0, 6.0, 5.0, 4.0, 3.0, 2.0, 1.0, -5.250400066375732, -5.406700134277344, -5.420899868011475, -5.487199783325195, -5.554500102996826, -4.656499862670898, -5.787199974060059, -5.826700210571289, -5.372000217437744, -5.826300144195557, -5.649899959564209, -5.7322001457214355, -6.032400131225586, -6.009300231933594, -6.042900085449219, -6.111199855804443, -6.13040018081665, -5.631899833679199, -6.196499824523926, -6.201900005340576, -4.604899883270264, -6.23390007019043, -5.875699996948242, -6.273200035095215, -6.47629976272583, -6.501699924468994, -6.518499851226807, -6.528299808502197, -5.863699913024902, -6.509900093078613, -5.965199947357178, -5.599699974060059, -5.584799766540527, -5.454899787902832, -5.702600002288818, -5.272900104522705, -5.808499813079834, -5.167600154876709, -4.587699890136719, -4.666200160980225, -4.803800106048584, -5.330399990081787, -4.338099956512451, -4.7179999351501465, -5.152299880981445, -4.147299766540527, -4.7129998207092285, -4.625199794769287, -4.585100173950195, -4.816800117492676, -4.709799766540527, -4.622900009155273, -4.894000053405762, -5.024199962615967, -5.369500160217285, -5.01639986038208, -5.240200042724609, -5.225800037384033, -5.140699863433838, -5.240099906921387, -5.27810001373291, -5.21999979019165, -5.32859992980957, -5.341300010681152, -4.562399864196777, -4.846399784088135, -5.104899883270264, -5.019199848175049, -5.587900161743164, -5.601600170135498, -3.671799898147583, -4.811100006103516, -5.826499938964844, -3.759000062942505, -6.053400039672852, -6.1305999755859375, -6.149199962615967, -4.627299785614014, -5.998799800872803, -5.295300006866455, -4.675300121307373, -6.571499824523926, -6.588399887084961, -5.606599807739258, -6.635300159454346, -6.645100116729736, -6.701200008392334, -6.721199989318848, -6.475900173187256, -6.740799903869629, -6.269899845123291, -6.05210018157959, -6.696000099182129, -6.832399845123291, -5.983799934387207, -6.145599842071533, -5.129799842834473, -6.069399833679199, -6.017300128936768, -4.604800224304199, -5.487800121307373, -5.53980016708374, -5.5381999015808105, -5.332699775695801, -4.935200214385986, -4.941699981689453, -5.237299919128418, -5.1016998291015625, -4.4822998046875, -5.160200119018555, -4.678199768066406, -5.437600135803223, -5.666399955749512, -5.206500053405762, -5.486599922180176, -5.073800086975098, -4.8206000328063965, -4.979899883270264, -4.762400150299072, -5.215700149536133, -5.124300003051758, -5.27839994430542, -5.174699783325195, -5.2993998527526855, -5.310699939727783, -4.908599853515625, -5.527599811553955, -5.802599906921387, -6.014999866485596, -6.0395002365112305, -6.026899814605713, -5.383299827575684, -6.0229997634887695, -5.865200042724609, -6.172500133514404, -6.07420015335083, -6.251299858093262, -6.3404998779296875, -6.3379998207092285, -5.622799873352051, -6.366000175476074, -6.392399787902832, -5.905600070953369, -6.530700206756592, -6.201099872589111, -5.405900001525879, -6.629499912261963, -6.624899864196777, -6.442699909210205, -6.662700176239014, -5.9791998863220215, -6.5040998458862305, -6.70550012588501, -6.353899955749512, -6.279099941253662, -5.377099990844727, -5.3003997802734375, -5.953199863433838, -5.439799785614014, -6.161200046539307, -5.073599815368652, -5.241399765014648, -5.386600017547607, -5.6631999015808105, -4.0157999992370605, -6.129300117492676, -4.962900161743164, -4.394000053405762, -4.921599864959717, -5.154900074005127, -4.848800182342529, -5.672900199890137, -5.247099876403809, -4.65749979019165, -4.60860013961792, -5.386099815368652, -4.791200160980225, -4.6641998291015625, -5.187900066375732, -4.862400054931641, -4.733099937438965, -5.4903998374938965, -5.053999900817871, -4.877600193023682, -5.2342000007629395, -5.321199893951416, -5.219200134277344, -5.319200038909912, -5.353700160980225, -5.8445000648498535, -6.228499889373779, -6.043399810791016, -5.833099842071533, -6.395999908447266, -6.2683000564575195, -6.423600196838379, -6.432199954986572, -5.979400157928467, -5.52239990234375, -6.1458001136779785, -6.130300045013428, -6.542200088500977, -5.595699787139893, -6.546299934387207, -6.30679988861084, -6.55620002746582, -5.746099948883057, -6.573800086975098, -6.556099891662598, -5.929200172424316, -6.187600135803223, -5.710000038146973, -5.694699764251709, -6.676499843597412, -6.500899791717529, -6.204899787902832, -6.7459001541137695, -6.217700004577637, -6.764599800109863, -4.992800235748291, -4.884699821472168, -5.117300033569336, -5.754199981689453, -4.769800186157227, -5.966000080108643, -6.170100212097168, -5.478700160980225, -5.740099906921387, -5.31220006942749, -4.8856000900268555, -5.402599811553955, -5.497000217437744, -5.336400032043457, -5.694399833679199, -4.714000225067139, -5.041999816894531, -4.375, -4.981800079345703, -5.0746002197265625, -4.295300006866455, -4.918300151824951, -5.17609977722168, -5.194799900054932, -5.276400089263916, -5.326399803161621, -5.019700050354004, -4.803500175476074, -5.14139986038208, -4.888199806213379, -5.031799793243408, -5.012700080871582, -5.0229997634887695, -5.237800121307373, -5.2530999183654785, -5.11329984664917, -5.382400035858154, -5.375100135803223, -4.463399887084961, -5.132800102233887, -5.28380012512207, -5.447700023651123, -5.184999942779541, -5.879199981689453, -6.0370001792907715, -5.755099773406982, -6.107100009918213, -6.24399995803833, -5.906599998474121, -5.129499912261963, -6.172299861907959, -6.3317999839782715, -6.355899810791016, -6.217400074005127, -5.584799766540527, -5.584799766540527, -6.405900001525879, -6.168799877166748, -6.431700229644775, -6.333899974822998, -6.552599906921387, -6.608500003814697, -6.604599952697754, -6.51669979095459, -6.651199817657471, -6.090799808502197, -6.172800064086914, -6.68149995803833, -4.362100124359131, -5.776800155639648, -5.20389986038208, -5.1006999015808105, -5.357100009918213, -5.674600124359131, -5.3871002197265625, -4.671299934387207, -4.814000129699707, -5.5243000984191895, -4.919099807739258, -4.6269001960754395, -5.505199909210205, -5.3394999504089355, -4.712500095367432, -4.709700107574463, -4.9679999351501465, -4.2729997634887695, -5.169000148773193, -4.684100151062012, -5.098199844360352, -5.024700164794922, -5.020199775695801, -4.9654998779296875, -5.027400016784668, -5.043799877166748, -5.1793999671936035, -5.294600009918213, -5.2093000411987305, -5.300000190734863], \"loglift\": [30.0, 29.0, 28.0, 27.0, 26.0, 25.0, 24.0, 23.0, 22.0, 21.0, 20.0, 19.0, 18.0, 17.0, 16.0, 15.0, 14.0, 13.0, 12.0, 11.0, 10.0, 9.0, 8.0, 7.0, 6.0, 5.0, 4.0, 3.0, 2.0, 1.0, 1.4035999774932861, 1.3984999656677246, 1.3975000381469727, 1.3954999446868896, 1.3932000398635864, 1.3868000507354736, 1.3818000555038452, 1.3804999589920044, 1.3801000118255615, 1.3763999938964844, 1.3717000484466553, 1.3700000047683716, 1.3681000471115112, 1.367400050163269, 1.367300033569336, 1.3625999689102173, 1.3619999885559082, 1.3595000505447388, 1.3560999631881714, 1.3559000492095947, 1.3549000024795532, 1.3535000085830688, 1.3513000011444092, 1.3487000465393066, 1.3331999778747559, 1.329200029373169, 1.3289999961853027, 1.3274999856948853, 1.3272000551223755, 1.3270000219345093, 1.3258999586105347, 1.3157999515533447, 1.3121999502182007, 1.305899977684021, 1.3083000183105469, 1.2587000131607056, 1.3044999837875366, 1.1418999433517456, 0.9218000173568726, 0.9383999705314636, 0.9585999846458435, 1.124400019645691, 0.6144000291824341, 0.7312999963760376, 0.9021999835968018, 0.2745000123977661, 0.6140000224113464, 0.5113000273704529, 0.4133000075817108, 0.48969998955726624, 0.38589999079704285, 0.19779999554157257, 0.22290000319480896, 0.28450000286102295, 0.8259999752044678, -0.011300000362098217, 0.4544999897480011, 0.273499995470047, -0.12080000340938568, 0.26919999718666077, 0.4147999882698059, -0.3950999975204468, -0.03790000081062317, 0.16760000586509705, 1.5530999898910522, 1.5332000255584717, 1.5292999744415283, 1.5283000469207764, 1.523900032043457, 1.517300009727478, 1.5074000358581543, 1.5020999908447266, 1.5003000497817993, 1.4960999488830566, 1.4953999519348145, 1.4886000156402588, 1.4871000051498413, 1.479699969291687, 1.4758000373840332, 1.4692000150680542, 1.4602999687194824, 1.4443999528884888, 1.4433000087738037, 1.4421000480651855, 1.437600016593933, 1.4351999759674072, 1.4289000034332275, 1.4257999658584595, 1.4249000549316406, 1.424399971961975, 1.4220999479293823, 1.417099952697754, 1.4132000207901, 1.4106999635696411, 1.4098000526428223, 1.4089000225067139, 1.3840999603271484, 1.3931000232696533, 1.3859000205993652, 1.2906999588012695, 1.3472000360488892, 1.34089994430542, 1.336899995803833, 1.2626999616622925, 1.128600001335144, 0.9034000039100647, 0.9747999906539917, 0.8299000263214111, 0.4318000078201294, 0.7394999861717224, 0.32690000534057617, 0.9433000087738037, 1.1008000373840332, 0.5993000268936157, 0.8978000283241272, 0.3828999996185303, 0.00430000014603138, 0.20090000331401825, -0.3407000005245209, 0.4790000021457672, 0.1664000004529953, 0.5683000087738037, 0.1956000030040741, 0.5697000026702881, -0.193900004029274, 1.6373000144958496, 1.6145000457763672, 1.5844000577926636, 1.5844000577926636, 1.5830999612808228, 1.582900047302246, 1.5805000066757202, 1.573699951171875, 1.5714999437332153, 1.5714999437332153, 1.565000057220459, 1.5628999471664429, 1.5549999475479126, 1.554800033569336, 1.5541000366210938, 1.5499999523162842, 1.5492000579833984, 1.5463000535964966, 1.5336999893188477, 1.529099941253662, 1.5226000547409058, 1.520900011062622, 1.5206999778747559, 1.5200999975204468, 1.516700029373169, 1.5160000324249268, 1.5119999647140503, 1.5111000537872314, 1.5103000402450562, 1.5085999965667725, 1.4602999687194824, 1.4539999961853027, 1.479099988937378, 1.4443999528884888, 1.48989999294281, 1.3901000022888184, 1.4061000347137451, 1.3443000316619873, 1.3733999729156494, 0.8090999722480774, 1.4651999473571777, 1.0283000469207764, 0.7868000268936157, 0.9976000189781189, 1.0920000076293945, 0.9429000020027161, 1.2789000272750854, 0.9804999828338623, 0.4790000021457672, 0.41130000352859497, 1.0283000469207764, 0.5152999758720398, 0.3409000039100647, 0.6754999756813049, 0.25440001487731934, 0.0877000018954277, 0.8835999965667725, -0.05559999868273735, -0.45590001344680786, 0.3343000113964081, 0.4519999921321869, -0.12349999696016312, -0.010599999688565731, -0.43970000743865967, 1.6002999544143677, 1.5877000093460083, 1.5846999883651733, 1.5846999883651733, 1.5785000324249268, 1.5773999691009521, 1.5757999420166016, 1.5724999904632568, 1.5720000267028809, 1.570199966430664, 1.565999984741211, 1.5621999502182007, 1.561400055885315, 1.5611000061035156, 1.5604000091552734, 1.5595999956130981, 1.5556999444961548, 1.554800033569336, 1.5543999671936035, 1.5497000217437744, 1.549399971961975, 1.5467000007629395, 1.544600009918213, 1.5434999465942383, 1.5434000492095947, 1.5401999950408936, 1.5377999544143677, 1.5327999591827393, 1.531999945640564, 1.5286999940872192, 1.5140000581741333, 1.499899983406067, 1.4812999963760376, 1.4881000518798828, 1.3768999576568604, 1.4781999588012695, 1.4953999519348145, 1.3533999919891357, 1.3866000175476074, 1.2884000539779663, 1.1726000308990479, 1.2906999588012695, 1.2690999507904053, 1.1552000045776367, 1.2855000495910645, 0.7853000164031982, 0.8946999907493591, 0.4458000063896179, 0.7110999822616577, 0.7656999826431274, 0.12639999389648438, 0.5906000137329102, 0.7577000260353088, 0.7285000085830688, 0.8080999851226807, 0.8568000197410583, 0.4896000027656555, 0.11050000041723251, 0.5333999991416931, 0.13179999589920044, 0.06390000134706497, -0.014299999922513962, -0.07050000131130219, 0.3522000014781952, 0.31540000438690186, -0.28839999437332153, -0.05530000105500221, -0.2386000007390976, 1.6740000247955322, 1.6627999544143677, 1.6593999862670898, 1.652400016784668, 1.6338000297546387, 1.6162999868392944, 1.6150000095367432, 1.6102999448776245, 1.6089999675750732, 1.5954999923706055, 1.5951000452041626, 1.5946999788284302, 1.5893000364303589, 1.5861999988555908, 1.5846999883651733, 1.5770000219345093, 1.5728000402450562, 1.5728000402450562, 1.5700000524520874, 1.5667999982833862, 1.56659996509552, 1.5631999969482422, 1.5571000576019287, 1.5534000396728516, 1.551800012588501, 1.5509999990463257, 1.54830002784729, 1.5479999780654907, 1.5429999828338623, 1.5422999858856201, 1.507699966430664, 1.5156999826431274, 1.4847999811172485, 1.4194999933242798, 1.3407000303268433, 1.3858000040054321, 1.3014999628067017, 1.0496000051498413, 1.0550999641418457, 1.2752000093460083, 0.9882000088691711, 0.7886000275611877, 1.198799967765808, 1.0911999940872192, 0.6577000021934509, 0.5989999771118164, 0.734000027179718, 0.14880000054836273, 0.8547000288963318, 0.22990000247955322, 0.4916999936103821, 0.26600000262260437, 0.0754999965429306, -0.14470000565052032, -0.07490000128746033, -0.04529999941587448, 0.32989999651908875, 0.5112000107765198, -0.18930000066757202, -0.18320000171661377]}, \"token.table\": {\"Topic\": [1, 2, 3, 4, 5, 2, 5, 4, 1, 3, 4, 5, 1, 3, 1, 2, 3, 4, 5, 2, 1, 4, 1, 1, 2, 3, 4, 5, 5, 5, 1, 2, 3, 4, 5, 2, 1, 2, 3, 4, 5, 2, 3, 5, 1, 5, 4, 2, 3, 4, 4, 3, 2, 4, 1, 2, 3, 1, 2, 4, 5, 2, 1, 2, 5, 1, 2, 4, 5, 1, 2, 3, 4, 5, 2, 5, 1, 2, 3, 4, 5, 4, 1, 5, 5, 1, 2, 3, 4, 5, 1, 1, 2, 3, 4, 5, 2, 3, 4, 1, 2, 3, 4, 5, 1, 3, 5, 1, 2, 3, 4, 5, 1, 2, 3, 4, 5, 1, 2, 3, 5, 1, 2, 2, 1, 3, 4, 3, 1, 2, 3, 4, 5, 1, 2, 3, 4, 3, 1, 2, 5, 3, 1, 2, 3, 4, 5, 3, 1, 2, 3, 4, 5, 1, 2, 3, 5, 1, 3, 4, 5, 1, 3, 1, 2, 4, 2, 3, 1, 2, 3, 4, 5, 3, 5, 2, 5, 1, 2, 3, 4, 5, 1, 2, 3, 4, 1, 1, 2, 3, 5, 1, 2, 3, 4, 5, 2, 4, 5, 5, 2, 3, 4, 5, 1, 2, 3, 5, 1, 1, 2, 3, 4, 5, 5, 1, 2, 3, 4, 5, 3, 1, 5, 3, 5, 1, 1, 1, 2, 3, 4, 5, 2, 5, 1, 2, 3, 4, 5, 3, 4, 3, 4, 3, 1, 2, 4, 2, 2, 1, 2, 5, 4, 3, 1, 1, 4, 5, 4, 1, 3, 4, 5, 5, 1, 2, 3, 4, 5, 2, 3, 4, 5, 1, 2, 3, 5, 4, 1, 2, 3, 4, 5, 1, 3, 1, 2, 4, 1, 1, 2, 3, 4, 5, 1, 2, 3, 4, 5, 1, 2, 3, 4, 5, 1, 4, 5, 3, 1, 2, 3, 4, 5, 1, 2, 3, 4, 5, 4, 3, 4, 1, 5, 1, 1, 2, 3, 4, 5, 1, 2, 3, 4, 1, 4, 2, 4, 5, 1, 3, 1, 2, 2, 1, 1, 2, 3, 4, 5, 2, 3, 4, 1, 5, 1, 4, 4, 1, 2, 3, 4, 5, 3, 1, 2, 4, 5, 1, 2, 3, 4, 4, 1, 2, 3, 4, 3, 2, 3, 4, 5, 1, 3, 4, 5, 1, 1, 4, 2, 3, 4, 5, 2, 3, 2, 3, 4, 5, 2, 5, 1, 2, 3, 4, 5, 1, 3, 4, 1, 2, 3, 4, 5, 1, 2, 3, 4, 5, 2, 5, 3, 3, 1, 1, 4, 2, 5, 1, 2, 3, 4, 5, 4, 4, 2, 3, 5, 4, 1, 2, 3, 4, 5, 2, 5, 1, 1, 5, 4, 3, 2, 3, 4, 1, 4, 1, 2, 3, 4, 5, 1, 2, 4, 5, 1, 2, 3, 1, 2, 3, 4, 5, 2, 4, 1, 2, 3, 4, 5, 3, 5, 1, 4, 5, 2, 1, 2, 3, 4, 5, 3, 3, 3, 4, 5, 2, 3, 4, 1, 2, 3, 4, 5, 2, 1, 2, 3, 4, 5, 1, 2, 3, 4, 5, 3, 1, 2, 4, 5, 4, 1, 2, 3, 4, 5, 2, 4, 5, 5, 2, 4, 5, 1, 2, 5, 2, 5, 1, 2, 3, 4, 5, 2, 4, 2, 2, 1, 2, 3, 4, 5, 1, 5, 3, 4, 1, 3, 1, 2, 3, 4, 5, 2, 5, 1, 4, 5, 5, 1, 1, 3, 1, 2, 3, 4, 5, 4, 2, 4, 3, 1, 2, 3, 4, 5, 5, 2, 4, 4, 1, 2, 5, 1, 2, 3, 4, 5, 1, 2, 4, 5, 2, 3, 1, 2, 5, 5, 4, 1, 2, 3, 4, 5, 1, 3, 4, 2, 1, 2, 3, 4, 5, 2, 1, 2, 3, 4, 5, 3, 1, 1, 2, 2, 1, 2, 3, 4, 5, 5, 5, 2, 1, 2, 4, 5, 5, 5, 3, 4, 5, 1, 2, 3, 4, 5], \"Freq\": [0.23614870011806488, 0.2492680698633194, 0.09183560311794281, 0.06559686362743378, 0.3542230427265167, 0.9432461857795715, 0.03368736431002617, 0.9141462445259094, 0.10314947366714478, 0.8251957893371582, 0.10314947366714478, 0.8122835159301758, 0.07989552617073059, 0.8788508176803589, 0.022183911874890327, 0.7542529702186584, 0.022183911874890327, 0.044367823749780655, 0.15528738498687744, 0.8586519360542297, 0.9291133284568787, 0.06636523455381393, 0.953005313873291, 0.2302130162715912, 0.24232949316501617, 0.14539769291877747, 0.13328121602535248, 0.24232949316501617, 0.8681793212890625, 0.9589189887046814, 0.17821301519870758, 0.44553256034851074, 0.20048964023590088, 0.022276626899838448, 0.17821301519870758, 0.8118594884872437, 0.036171212792396545, 0.506397008895874, 0.036171212792396545, 0.07234242558479309, 0.36171212792396545, 0.899212658405304, 0.05289486050605774, 0.05289486050605774, 0.9838470816612244, 0.8789446949958801, 0.9085177183151245, 0.9282142519950867, 0.8985925316810608, 0.12837035953998566, 0.8098146915435791, 0.9246361255645752, 0.07343633472919464, 0.8812360167503357, 0.8611916303634644, 0.061513688415288925, 0.061513688415288925, 0.10852943360805511, 0.03617647662758827, 0.8320589661598206, 0.03617647662758827, 0.9751201272010803, 0.04143119230866432, 0.2071559578180313, 0.7457614541053772, 0.6214016079902649, 0.09709399938583374, 0.05825640261173248, 0.2136068046092987, 0.4405936300754547, 0.1295863687992096, 0.09502999484539032, 0.1727818101644516, 0.1727818101644516, 0.05080636590719223, 0.9145145416259766, 0.09314978867769241, 0.1676696240901947, 0.11177974939346313, 0.11177974939346313, 0.521638810634613, 0.8782240152359009, 0.9916329383850098, 0.8511102199554443, 0.8885643482208252, 0.3166099488735199, 0.06030665710568428, 0.07538332045078278, 0.3015332818031311, 0.2563033103942871, 0.9882597923278809, 0.1710917055606842, 0.0570305697619915, 0.02851528488099575, 0.7128821015357971, 0.02851528488099575, 0.08052655309438705, 0.3221062123775482, 0.5636858344078064, 0.2376500964164734, 0.054842330515384674, 0.1828077733516693, 0.14624620974063873, 0.3838963210582733, 0.5389807820320129, 0.26949039101600647, 0.17966026067733765, 0.3207108676433563, 0.12335032969713211, 0.18502549827098846, 0.049340132623910904, 0.3330458998680115, 0.27193161845207214, 0.06398390978574753, 0.27193161845207214, 0.2559356391429901, 0.1439637988805771, 0.052499886602163315, 0.6299986243247986, 0.07874982804059982, 0.20999954640865326, 0.09922962635755539, 0.8930665850639343, 0.8854065537452698, 0.0863470658659935, 0.0863470658659935, 0.8634706735610962, 0.8419922590255737, 0.11558699607849121, 0.09246959537267685, 0.1849391907453537, 0.4392305910587311, 0.13870438933372498, 0.737338662147522, 0.03880729898810387, 0.1164218932390213, 0.07761459797620773, 0.8880378603935242, 0.08969265222549438, 0.08969265222549438, 0.8072338700294495, 0.8451820015907288, 0.07159233838319778, 0.28636935353279114, 0.4653501808643341, 0.10738850384950638, 0.07159233838319778, 0.9777350425720215, 0.16283667087554932, 0.24968288838863373, 0.41251957416534424, 0.08684622496366501, 0.07599044591188431, 0.1765235960483551, 0.27739423513412476, 0.10087062418460846, 0.42870017886161804, 0.1220628097653389, 0.5370763540267944, 0.1220628097653389, 0.21971306204795837, 0.8797712326049805, 0.06767471134662628, 0.17824241518974304, 0.7723838090896606, 0.9399913549423218, 0.8562029600143433, 0.10702537000179291, 0.3140694499015808, 0.0981467068195343, 0.2944401204586029, 0.1962934136390686, 0.0981467068195343, 0.8766419887542725, 0.7788237929344177, 0.07837174087762833, 0.8620891571044922, 0.3811008632183075, 0.32665789127349854, 0.10888595879077911, 0.036295320838689804, 0.14518128335475922, 0.06899534910917282, 0.48296743631362915, 0.32197827100753784, 0.13799069821834564, 0.963961660861969, 0.05236468091607094, 0.05236468091607094, 0.785470187664032, 0.10472936183214188, 0.2028001844882965, 0.3853203356266022, 0.0405600368976593, 0.10140009224414825, 0.30420026183128357, 0.823371410369873, 0.04116857051849365, 0.12350571155548096, 0.8574112057685852, 0.09410371631383896, 0.7528297305107117, 0.09410371631383896, 0.04705185815691948, 0.15155138075351715, 0.2652148902416229, 0.03788784518837929, 0.5304297804832458, 0.9473358988761902, 0.22808609902858734, 0.022808609530329704, 0.250894695520401, 0.3877463638782501, 0.11404304951429367, 0.9299071431159973, 0.36181262135505676, 0.10854378342628479, 0.18090631067752838, 0.18090631067752838, 0.17186099290847778, 0.8733679056167603, 0.13695842027664185, 0.8217505216598511, 0.7965440154075623, 0.17068800330162048, 0.8762858510017395, 0.9452426433563232, 0.11745971441268921, 0.07830647379159927, 0.7439115047454834, 0.03915323689579964, 0.03915323689579964, 0.07837174087762833, 0.8620891571044922, 0.12469781190156937, 0.31590113043785095, 0.12469781190156937, 0.20782968401908875, 0.23276925086975098, 0.8787325024604797, 0.10984156280755997, 0.9725914597511292, 0.7960312962532043, 0.8173368573188782, 0.31787145137786865, 0.052978575229644775, 0.6357429027557373, 0.9367476105690002, 0.9675366878509521, 0.054780323058366776, 0.2739016115665436, 0.6573638916015625, 0.8090494871139526, 0.7943230867385864, 0.8992640972137451, 0.8959067463874817, 0.05270039662718773, 0.05270039662718773, 0.7319883704185486, 0.040881454944610596, 0.040881454944610596, 0.8176290392875671, 0.08176290988922119, 0.9821816086769104, 0.05359577387571335, 0.2947767376899719, 0.05359577387571335, 0.4019683003425598, 0.2143830955028534, 0.09852419048547745, 0.049262095242738724, 0.6404072046279907, 0.1970483809709549, 0.3399431109428406, 0.07998661696910858, 0.4799197018146515, 0.07998661696910858, 0.9149142503738403, 0.10810860991477966, 0.021621720865368843, 0.021621720865368843, 0.021621720865368843, 0.8216254115104675, 0.9079831838607788, 0.9038483500480652, 0.19682453572750092, 0.13121634721755981, 0.6560817956924438, 0.9756308197975159, 0.15969298779964447, 0.20531955361366272, 0.42584794759750366, 0.13687969744205475, 0.06843984872102737, 0.3489251434803009, 0.0897236093878746, 0.1694779396057129, 0.19938580691814423, 0.19938580691814423, 0.3938854932785034, 0.06154461205005646, 0.3200319707393646, 0.13539814949035645, 0.08616245537996292, 0.9023566842079163, 0.7814303040504456, 0.1302383840084076, 0.9703432321548462, 0.5981513857841492, 0.026006581261754036, 0.05201316252350807, 0.2080526500940323, 0.15603949129581451, 0.4397463798522949, 0.1884627342224121, 0.1256418228149414, 0.17589855194091797, 0.08794927597045898, 0.8072972297668457, 0.903927206993103, 0.8499741554260254, 0.9636157751083374, 0.9083506464958191, 0.9576395750045776, 0.06184208765625954, 0.24736835062503815, 0.4947367012500763, 0.1546052247285843, 0.03092104382812977, 0.07598622888326645, 0.07598622888326645, 0.1519724577665329, 0.7598623037338257, 0.9373675584793091, 0.844068706035614, 0.9719091653823853, 0.7676793932914734, 0.1705954223871231, 0.12130266427993774, 0.8491186499595642, 0.1702665090560913, 0.7945770621299744, 0.9244356751441956, 0.927444338798523, 0.2125677615404129, 0.14787322282791138, 0.2865043878555298, 0.2125677615404129, 0.14787322282791138, 0.8015204668045044, 0.10019005835056305, 0.10019005835056305, 0.29418349266052246, 0.6864281892776489, 0.9515931010246277, 0.02571873366832733, 0.8184331059455872, 0.06734287738800049, 0.08979050070047379, 0.15713338553905487, 0.17958100140094757, 0.4938477575778961, 0.9259414672851562, 0.17746466398239136, 0.32535189390182495, 0.4436616599559784, 0.05915488675236702, 0.22065791487693787, 0.031522560864686966, 0.5674060583114624, 0.1891353577375412, 0.8370445966720581, 0.05908389762043953, 0.7680906653404236, 0.11816779524087906, 0.8274407386779785, 0.8582456111907959, 0.5406686663627625, 0.18022289872169495, 0.18022289872169495, 0.07208915799856186, 0.0565941222012043, 0.1697823703289032, 0.7357235550880432, 0.0565941222012043, 0.8727364540100098, 0.9058570265769958, 0.06039046868681908, 0.9236740469932556, 0.058460380882024765, 0.011692075990140438, 0.011692075990140438, 0.12464392930269241, 0.8725074529647827, 0.9320791959762573, 0.03251438960433006, 0.010838130488991737, 0.010838130488991737, 0.9271546602249146, 0.9618426561355591, 0.287773460149765, 0.06058388948440552, 0.20447061955928802, 0.287773460149765, 0.1590327024459839, 0.7382705211639404, 0.10067325085401535, 0.13423100113868713, 0.613632321357727, 0.09950795024633408, 0.01658465713262558, 0.04975397512316704, 0.2321852147579193, 0.24986504018306732, 0.0681450143456459, 0.5224450826644897, 0.11357501894235611, 0.0681450143456459, 0.8607742786407471, 0.9493618011474609, 0.8195501565933228, 0.833694338798523, 0.9239910840988159, 0.07830332964658737, 0.8613365888595581, 0.29689478874206543, 0.6927545070648193, 0.39464113116264343, 0.020770585164427757, 0.30117347836494446, 0.14539410173892975, 0.1350088119506836, 0.9366539120674133, 0.9069237112998962, 0.24895262718200684, 0.14937157928943634, 0.5974863171577454, 0.9295299649238586, 0.3150402009487152, 0.1473575085401535, 0.12195105105638504, 0.20833304524421692, 0.21341432631015778, 0.8023507595062256, 0.1337251216173172, 0.9525768756866455, 0.8956311345100403, 0.08956311643123627, 0.9093040823936462, 0.975255012512207, 0.11924909055233002, 0.7751191258430481, 0.05962454527616501, 0.9226300120353699, 0.0473143607378006, 0.496924489736557, 0.18457195162773132, 0.12778058648109436, 0.08518705517053604, 0.09938489645719528, 0.8381235599517822, 0.08381235599517822, 0.04190617799758911, 0.04190617799758911, 0.2551654577255249, 0.06379136443138123, 0.7017050385475159, 0.23675686120986938, 0.2913930416107178, 0.2640749514102936, 0.10016635805368423, 0.11837843060493469, 0.17924538254737854, 0.8066042065620422, 0.29529574513435364, 0.173104390501976, 0.24438267946243286, 0.13237394392490387, 0.15273916721343994, 0.9066708087921143, 0.8601875901222229, 0.9306237697601318, 0.8870021104812622, 0.9104652404785156, 0.8703940510749817, 0.2363031804561615, 0.21482107043266296, 0.3651958107948303, 0.12889264523983002, 0.04296421259641647, 0.9323292374610901, 0.8829910159111023, 0.7637940049171448, 0.13887163996696472, 0.13887163996696472, 0.20459073781967163, 0.7160675525665283, 0.05114768445491791, 0.22362355887889862, 0.07454118877649307, 0.5217882990837097, 0.14908237755298615, 0.037270594388246536, 0.9281613230705261, 0.24317152798175812, 0.300388365983963, 0.12873786687850952, 0.14304207265377045, 0.18595470488071442, 0.23240375518798828, 0.35916945338249207, 0.16902092099189758, 0.16902092099189758, 0.0633828416466713, 0.8459362387657166, 0.07110905647277832, 0.07110905647277832, 0.14221811294555664, 0.7110905647277832, 0.8141175508499146, 0.18984158337116241, 0.5062442421913147, 0.12656106054782867, 0.08437404036521912, 0.1054675504565239, 0.904451310634613, 0.027407614514231682, 0.054815229028463364, 0.8889071345329285, 0.7146730422973633, 0.13400119543075562, 0.08933413028717041, 0.05640236288309097, 0.9024378061294556, 0.05640236288309097, 0.9731447696685791, 0.8209013938903809, 0.6031817197799683, 0.09047725051641464, 0.06031816825270653, 0.16587495803833008, 0.07539771497249603, 0.8158311247825623, 0.11654730886220932, 0.823931872844696, 0.7887911200523376, 0.18894341588020325, 0.20993712544441223, 0.020993713289499283, 0.3988805413246155, 0.18894341588020325, 0.12680260837078094, 0.8876182436943054, 0.10438182950019836, 0.8350546360015869, 0.9676868319511414, 0.8708922266960144, 0.2863565683364868, 0.1507139801979065, 0.12057118117809296, 0.33157074451446533, 0.12057118117809296, 0.850435733795166, 0.10630446672439575, 0.9354893565177917, 0.8494867086410522, 0.08494867384433746, 0.8881646394729614, 0.9219586253166199, 0.105190709233284, 0.841525673866272, 0.09219609946012497, 0.13829414546489716, 0.23049023747444153, 0.39183342456817627, 0.13829414546489716, 0.93570876121521, 0.6364567279815674, 0.3182283639907837, 0.8622106313705444, 0.12453420460224152, 0.10674360394477844, 0.21348720788955688, 0.3202308118343353, 0.24906840920448303, 0.8844425678253174, 0.10802781581878662, 0.864222526550293, 0.9617934823036194, 0.07028710097074509, 0.8434451818466187, 0.07028710097074509, 0.15662109851837158, 0.026103517040610313, 0.15662109851837158, 0.6003808975219727, 0.05220703408122063, 0.27782756090164185, 0.14708517491817474, 0.2614847719669342, 0.2941703498363495, 0.8289859890937805, 0.8872140645980835, 0.8993906378746033, 0.0749492198228836, 0.8558132648468018, 0.9487243294715881, 0.7584096193313599, 0.1647118777036667, 0.10980791598558426, 0.1921638548374176, 0.12353390455245972, 0.39805370569229126, 0.9490167498588562, 0.09044978767633438, 0.9044979214668274, 0.9391797184944153, 0.3622945249080658, 0.12680308520793915, 0.0724589079618454, 0.38040924072265625, 0.0724589079618454, 0.8430861830711365, 0.31344106793403625, 0.05970306321978569, 0.16418342292308807, 0.40299567580223083, 0.05970306321978569, 0.8366012573242188, 0.9512251019477844, 0.9403874278068542, 0.05224374681711197, 0.7829728126525879, 0.09133168309926987, 0.547990083694458, 0.030443893745541573, 0.3044389486312866, 0.030443893745541573, 0.8382089138031006, 0.8382249474525452, 0.9801514148712158, 0.8912490606307983, 0.08102264255285263, 0.6734862327575684, 0.3142935633659363, 0.899408221244812, 0.9606415033340454, 0.14710892736911774, 0.049036312848329544, 0.7845810055732727, 0.02160470373928547, 0.367279976606369, 0.02160470373928547, 0.06481411308050156, 0.5185129046440125], \"Term\": [\"1\", \"1\", \"1\", \"1\", \"1\", \"100\", \"100\", \"11\", \"12\", \"12\", \"12\", \"13\", \"15\", \"15\", \"1BD\", \"1BD\", \"1BD\", \"1BD\", \"1BD\", \"1bd\", \"1br\", \"1br\", \"1st\", \"2\", \"2\", \"2\", \"2\", \"2\", \"20\", \"2BR/2BA\", \"3\", \"3\", \"3\", \"3\", \"3\", \"3BD\", \"5\", \"5\", \"5\", \"5\", \"5\", \"6\", \"6\", \"6\", \"7\", \"9\", \"97\", \"98\", \"Access\", \"Access\", \"Adorable\", \"Affordable\", \"Airport\", \"Airport\", \"Alfred\", \"Alfred\", \"Alfred\", \"Alki\", \"Alki\", \"Alki\", \"Alki\", \"Amazon\", \"Amzn\", \"Amzn\", \"Amzn\", \"Anne\", \"Anne\", \"Anne\", \"Anne\", \"Apartment\", \"Apartment\", \"Apartment\", \"Apartment\", \"Apartment\", \"Apartments\", \"Apartments\", \"Apt\", \"Apt\", \"Apt\", \"Apt\", \"Apt\", \"Ave\", \"Avenue\", \"Awesome\", \"BRAND\", \"Ballard\", \"Ballard\", \"Ballard\", \"Ballard\", \"Ballard\", \"Bathroom\", \"Beach\", \"Beach\", \"Beach\", \"Beach\", \"Beach\", \"Beacon\", \"Beacon\", \"Beacon\", \"Beautiful\", \"Beautiful\", \"Beautiful\", \"Beautiful\", \"Beautiful\", \"Bed\", \"Bed\", \"Bed\", \"Bedroom\", \"Bedroom\", \"Bedroom\", \"Bedroom\", \"Bedroom\", \"Bellevue\", \"Bellevue\", \"Bellevue\", \"Bellevue\", \"Bellevue\", \"Belltown\", \"Belltown\", \"Belltown\", \"Belltown\", \"Big\", \"Big\", \"Blocks\", \"Blue\", \"Blue\", \"Blue\", \"Breathtaking\", \"Bright\", \"Bright\", \"Bright\", \"Bright\", \"Bright\", \"Bungalow\", \"Bungalow\", \"Bungalow\", \"Bungalow\", \"Bus\", \"Camlin\", \"Camlin\", \"Camlin\", \"Campus\", \"Cap\", \"Cap\", \"Cap\", \"Cap\", \"Cap\", \"Capital\", \"Capitol\", \"Capitol\", \"Capitol\", \"Capitol\", \"Capitol\", \"Center\", \"Center\", \"Center\", \"Center\", \"Central\", \"Central\", \"Central\", \"Central\", \"Centrally\", \"Centrally\", \"Century\", \"Century\", \"Charm\", \"Charmer\", \"Charmer\", \"Charming\", \"Charming\", \"Charming\", \"Charming\", \"Charming\", \"Cherry\", \"Christmas\", \"Chroma\", \"Chroma\", \"City\", \"City\", \"City\", \"City\", \"City\", \"Clean\", \"Clean\", \"Clean\", \"Clean\", \"Coed\", \"Comfortable\", \"Comfortable\", \"Comfortable\", \"Comfortable\", \"Condo\", \"Condo\", \"Condo\", \"Condo\", \"Condo\", \"Condos\", \"Condos\", \"Condos\", \"Convenience\", \"Convenient\", \"Convenient\", \"Convenient\", \"Convenient\", \"Convention\", \"Convention\", \"Convention\", \"Convention\", \"Corporate\", \"Cottage\", \"Cottage\", \"Cottage\", \"Cottage\", \"Cottage\", \"Couples\", \"Cozy\", \"Cozy\", \"Cozy\", \"Cozy\", \"Cozy\", \"Crown\", \"DOWNTOWN\", \"DOWNTOWN\", \"DT\", \"DT\", \"Daylight\", \"Deluxe\", \"District\", \"District\", \"District\", \"District\", \"District\", \"Domicile\", \"Domicile\", \"Downtown\", \"Downtown\", \"Downtown\", \"Downtown\", \"Downtown\", \"East\", \"East\", \"Easy\", \"Eco\", \"Elliott\", \"Entire\", \"Entire\", \"Entire\", \"Executive\", \"F\", \"Facebk\", \"Facebk\", \"Facebk\", \"Female\", \"Filled\", \"Forest\", \"Friendly\", \"Friendly\", \"Friendly\", \"Garage\", \"Getaway\", \"Getaway\", \"Getaway\", \"Getaway\", \"Goog\", \"Greenlake\", \"Greenlake\", \"Greenlake\", \"Greenlake\", \"Greenlake\", \"Greenwood\", \"Greenwood\", \"Greenwood\", \"Greenwood\", \"Guest\", \"Guest\", \"Guest\", \"Guest\", \"Guesthouse\", \"Heart\", \"Heart\", \"Heart\", \"Heart\", \"Heart\", \"Hidden\", \"Hideaway\", \"High\", \"High\", \"High\", \"HighRise\", \"Hill\", \"Hill\", \"Hill\", \"Hill\", \"Hill\", \"Home\", \"Home\", \"Home\", \"Home\", \"Home\", \"House\", \"House\", \"House\", \"House\", \"House\", \"Huge\", \"Island\", \"Island\", \"Kennydale\", \"Kirkland\", \"Kirkland\", \"Kirkland\", \"Kirkland\", \"Kirkland\", \"Lake\", \"Lake\", \"Lake\", \"Lake\", \"Lake\", \"Lakeview\", \"Laurelhurst\", \"Leaf\", \"Left\", \"Life\", \"Little\", \"Loft\", \"Loft\", \"Loft\", \"Loft\", \"Loft\", \"Luxurious\", \"Luxurious\", \"Luxurious\", \"Luxurious\", \"Main\", \"Maple\", \"Market\", \"Mercer\", \"Mercer\", \"Micro\", \"Micro\", \"Mid\", \"Mid\", \"Midcentury\", \"Min\", \"Modern\", \"Modern\", \"Modern\", \"Modern\", \"Modern\", \"Mountain\", \"Mountain\", \"Mountain\", \"NEW\", \"NEW\", \"Needle\", \"Needle\", \"Nest\", \"New\", \"New\", \"New\", \"New\", \"New\", \"Newcastle\", \"North\", \"North\", \"North\", \"North\", \"Oasis\", \"Oasis\", \"Oasis\", \"Oasis\", \"Old\", \"Open\", \"Open\", \"Open\", \"Orange\", \"Paradise\", \"Parking\", \"Parking\", \"Parking\", \"Parking\", \"Patio\", \"Patio\", \"Patio\", \"Patio\", \"Peace\", \"Phinney\", \"Phinney\", \"Pike\", \"Pike\", \"Pike\", \"Pike\", \"Pine\", \"Pine\", \"Place\", \"Place\", \"Place\", \"Place\", \"Pool\", \"Premium\", \"Private\", \"Private\", \"Private\", \"Private\", \"Private\", \"Puget\", \"Puget\", \"Puget\", \"Queen\", \"Queen\", \"Queen\", \"Queen\", \"Queen\", \"Quiet\", \"Quiet\", \"Quiet\", \"Quiet\", \"Quiet\", \"Rainier\", \"Redmond\", \"Relax\", \"Relaxing\", \"Ridge\", \"Rise\", \"Rise\", \"Rooftop\", \"Rooftop\", \"Room\", \"Room\", \"Room\", \"Room\", \"Room\", \"Roosevelt\", \"Royal\", \"SLU\", \"SLU\", \"SLU\", \"Sanctuary\", \"Seattle\", \"Seattle\", \"Seattle\", \"Seattle\", \"Seattle\", \"Seward\", \"Seward\", \"Shared\", \"Single\", \"Single\", \"Skyline\", \"Small\", \"South\", \"South\", \"South\", \"Space\", \"Space\", \"Spacious\", \"Spacious\", \"Spacious\", \"Spacious\", \"Spacious\", \"Stay\", \"Stay\", \"Stay\", \"Stay\", \"Street\", \"Street\", \"Street\", \"Studio\", \"Studio\", \"Studio\", \"Studio\", \"Studio\", \"Stunning\", \"Stunning\", \"Suite\", \"Suite\", \"Suite\", \"Suite\", \"Suite\", \"Sweeping\", \"Timberlawn\", \"Town\", \"Travel\", \"Traveler\", \"Trendy\", \"UW\", \"UW\", \"UW\", \"UW\", \"UW\", \"Ultra\", \"Unique\", \"Unit\", \"Unit\", \"Unit\", \"University\", \"University\", \"University\", \"Urban\", \"Urban\", \"Urban\", \"Urban\", \"Urban\", \"Vibrant\", \"View\", \"View\", \"View\", \"View\", \"View\", \"Views\", \"Views\", \"Views\", \"Views\", \"Views\", \"W.\", \"WA\", \"WA\", \"WA\", \"WA\", \"WLK\", \"Walk\", \"Walk\", \"Walk\", \"Walk\", \"Walk\", \"Walkscore\", \"Walkscore\", \"Walkscore\", \"Warm\", \"Water\", \"Water\", \"Water\", \"Waterfront\", \"Waterfront\", \"Waterfront\", \"Waterfront+Pike\", \"Wedgwood\", \"West\", \"West\", \"West\", \"West\", \"West\", \"Westlake\", \"Westlake\", \"Wheel\", \"Wonderful\", \"apartment\", \"apartment\", \"apartment\", \"apartment\", \"apartment\", \"bd\", \"bd\", \"beach\", \"beach\", \"beautiful\", \"bed/2\", \"bedroom\", \"bedroom\", \"bedroom\", \"bedroom\", \"bedroom\", \"bedrooms\", \"bedrooms\", \"beds\", \"block\", \"block\", \"building\", \"bungalow\", \"clean\", \"clean\", \"close\", \"close\", \"close\", \"close\", \"close\", \"comfort\", \"condo\", \"condo\", \"convenient\", \"downtown\", \"downtown\", \"downtown\", \"downtown\", \"downtown\", \"family\", \"filled\", \"filled\", \"ft\", \"guest\", \"guest\", \"guest\", \"heart\", \"heart\", \"heart\", \"heart\", \"heart\", \"home\", \"home\", \"home\", \"home\", \"little\", \"living\", \"located\", \"located\", \"mid\", \"minutes\", \"mountain\", \"near\", \"near\", \"near\", \"near\", \"near\", \"new\", \"perfect\", \"perfect\", \"prime\", \"private\", \"private\", \"private\", \"private\", \"private\", \"right\", \"room\", \"room\", \"room\", \"room\", \"room\", \"sleeps\", \"space\", \"stay\", \"stay\", \"street\", \"studio\", \"studio\", \"studio\", \"studio\", \"studio\", \"stunning\", \"stylish\", \"term\", \"townhome\", \"townhome\", \"views\", \"views\", \"water\", \"xx\", \"|\", \"|\", \"|\", \"\\u2605\", \"\\u2605\", \"\\u2605\", \"\\u2605\", \"\\u2605\"]}, \"R\": 30, \"lambda.step\": 0.01, \"plot.opts\": {\"xlab\": \"PC1\", \"ylab\": \"PC2\"}, \"topic.order\": [2, 4, 1, 5, 3]};\n",
              "\n",
              "function LDAvis_load_lib(url, callback){\n",
              "  var s = document.createElement('script');\n",
              "  s.src = url;\n",
              "  s.async = true;\n",
              "  s.onreadystatechange = s.onload = callback;\n",
              "  s.onerror = function(){console.warn(\"failed to load library \" + url);};\n",
              "  document.getElementsByTagName(\"head\")[0].appendChild(s);\n",
              "}\n",
              "\n",
              "if(typeof(LDAvis) !== \"undefined\"){\n",
              "   // already loaded: just create the visualization\n",
              "   !function(LDAvis){\n",
              "       new LDAvis(\"#\" + \"ldavis_el1201402076761946322774576671\", ldavis_el1201402076761946322774576671_data);\n",
              "   }(LDAvis);\n",
              "}else if(typeof define === \"function\" && define.amd){\n",
              "   // require.js is available: use it to load d3/LDAvis\n",
              "   require.config({paths: {d3: \"https://cdnjs.cloudflare.com/ajax/libs/d3/3.5.5/d3.min\"}});\n",
              "   require([\"d3\"], function(d3){\n",
              "      window.d3 = d3;\n",
              "      LDAvis_load_lib(\"https://cdn.rawgit.com/bmabey/pyLDAvis/files/ldavis.v1.0.0.js\", function(){\n",
              "        new LDAvis(\"#\" + \"ldavis_el1201402076761946322774576671\", ldavis_el1201402076761946322774576671_data);\n",
              "      });\n",
              "    });\n",
              "}else{\n",
              "    // require.js not available: dynamically load d3 & LDAvis\n",
              "    LDAvis_load_lib(\"https://cdnjs.cloudflare.com/ajax/libs/d3/3.5.5/d3.min.js\", function(){\n",
              "         LDAvis_load_lib(\"https://cdn.rawgit.com/bmabey/pyLDAvis/files/ldavis.v1.0.0.js\", function(){\n",
              "                 new LDAvis(\"#\" + \"ldavis_el1201402076761946322774576671\", ldavis_el1201402076761946322774576671_data);\n",
              "            })\n",
              "         });\n",
              "}\n",
              "</script>"
            ],
            "text/plain": [
              "PreparedData(topic_coordinates=              x         y  topics  cluster       Freq\n",
              "topic                                                \n",
              "1      0.081368  0.049853       1        1  23.820379\n",
              "3     -0.152977 -0.044309       2        1  20.736782\n",
              "0      0.050197 -0.096496       3        1  18.918079\n",
              "4      0.056402 -0.030730       4        1  18.286596\n",
              "2     -0.034990  0.121683       5        1  18.238161, topic_info=         Term       Freq       Total Category  logprob  loglift\n",
              "541     Place  92.000000   92.000000  Default  30.0000  30.0000\n",
              "540      Pike  85.000000   85.000000  Default  29.0000  29.0000\n",
              "2646       xx  35.000000   35.000000  Default  28.0000  28.0000\n",
              "683         F  36.000000   36.000000  Default  27.0000  27.0000\n",
              "90      Heart  46.000000   46.000000  Default  26.0000  26.0000\n",
              "...       ...        ...         ...      ...      ...      ...\n",
              "16       Cozy  19.269381  110.554466   Topic5  -5.0438  -0.0453\n",
              "89    Ballard  16.824886   66.327667   Topic5  -5.1794   0.3299\n",
              "334     Condo  14.994079   49.309620   Topic5  -5.2946   0.5112\n",
              "86     Modern  16.329836  108.200790   Topic5  -5.2093  -0.1893\n",
              "13      Suite  14.913145   98.206635   Topic5  -5.3000  -0.1832\n",
              "\n",
              "[347 rows x 6 columns], token_table=      Topic      Freq Term\n",
              "term                      \n",
              "0         1  0.236149    1\n",
              "0         2  0.249268    1\n",
              "0         3  0.091836    1\n",
              "0         4  0.065597    1\n",
              "0         5  0.354223    1\n",
              "...     ...       ...  ...\n",
              "111       1  0.021605    ★\n",
              "111       2  0.367280    ★\n",
              "111       3  0.021605    ★\n",
              "111       4  0.064814    ★\n",
              "111       5  0.518513    ★\n",
              "\n",
              "[655 rows x 3 columns], R=30, lambda_step=0.01, plot_opts={'xlab': 'PC1', 'ylab': 'PC2'}, topic_order=[2, 4, 1, 5, 3])"
            ]
          },
          "metadata": {
            "tags": []
          },
          "execution_count": 60
        }
      ]
    },
    {
      "cell_type": "markdown",
      "metadata": {
        "id": "pkHRIUAnnKyp",
        "colab_type": "text"
      },
      "source": [
        "# Seattle Prediction"
      ]
    },
    {
      "cell_type": "markdown",
      "metadata": {
        "id": "dyboEF4Kq9w5",
        "colab_type": "text"
      },
      "source": [
        "## Features from Topics"
      ]
    },
    {
      "cell_type": "code",
      "metadata": {
        "id": "cvHuM91HoQ0U",
        "colab_type": "code",
        "colab": {
          "base_uri": "https://localhost:8080/",
          "height": 581
        },
        "outputId": "4cc50e65-a8d1-4b9c-9585-14a625c42dfc"
      },
      "source": [
        "seattle_topic_df = seattle_df.copy()\n",
        "\n",
        "assignments = [item for item in lda_model.get_document_topics(corpus_lda)]\n",
        "for index in range(lda_model.num_topics):\n",
        "  seattle_topic_df[f'lda_topic_{index}'] = [assign[index][1] for assign in assignments]\n",
        "\n",
        "seattle_topic_df.head()"
      ],
      "execution_count": 69,
      "outputs": [
        {
          "output_type": "execute_result",
          "data": {
            "text/html": [
              "<div>\n",
              "<style scoped>\n",
              "    .dataframe tbody tr th:only-of-type {\n",
              "        vertical-align: middle;\n",
              "    }\n",
              "\n",
              "    .dataframe tbody tr th {\n",
              "        vertical-align: top;\n",
              "    }\n",
              "\n",
              "    .dataframe thead th {\n",
              "        text-align: right;\n",
              "    }\n",
              "</style>\n",
              "<table border=\"1\" class=\"dataframe\">\n",
              "  <thead>\n",
              "    <tr style=\"text-align: right;\">\n",
              "      <th></th>\n",
              "      <th>Unnamed: 0</th>\n",
              "      <th>room_id</th>\n",
              "      <th>host_id</th>\n",
              "      <th>room_type</th>\n",
              "      <th>address</th>\n",
              "      <th>reviews</th>\n",
              "      <th>overall_satisfaction</th>\n",
              "      <th>accommodates</th>\n",
              "      <th>bedrooms</th>\n",
              "      <th>bathrooms</th>\n",
              "      <th>price</th>\n",
              "      <th>last_modified</th>\n",
              "      <th>latitude</th>\n",
              "      <th>longitude</th>\n",
              "      <th>location</th>\n",
              "      <th>name</th>\n",
              "      <th>currency</th>\n",
              "      <th>rate_type</th>\n",
              "      <th>lda_topic_0</th>\n",
              "      <th>lda_topic_1</th>\n",
              "      <th>lda_topic_2</th>\n",
              "      <th>lda_topic_3</th>\n",
              "      <th>lda_topic_4</th>\n",
              "    </tr>\n",
              "  </thead>\n",
              "  <tbody>\n",
              "    <tr>\n",
              "      <th>0</th>\n",
              "      <td>0</td>\n",
              "      <td>2318</td>\n",
              "      <td>2536</td>\n",
              "      <td>Entire home/apt</td>\n",
              "      <td>Seattle, WA, United States</td>\n",
              "      <td>21</td>\n",
              "      <td>5.0</td>\n",
              "      <td>8</td>\n",
              "      <td>4.0</td>\n",
              "      <td>2.5</td>\n",
              "      <td>250</td>\n",
              "      <td>2018-12-20 03:46:14.698548</td>\n",
              "      <td>47.610819</td>\n",
              "      <td>-122.290816</td>\n",
              "      <td>0101000020E6100000D449B6BA9C925EC0416326512FCE...</td>\n",
              "      <td>Casa Madrona - Urban Oasis, 1 block from the P...</td>\n",
              "      <td>USD</td>\n",
              "      <td>nightly</td>\n",
              "      <td>0.122503</td>\n",
              "      <td>0.103927</td>\n",
              "      <td>0.566746</td>\n",
              "      <td>0.103421</td>\n",
              "      <td>0.103403</td>\n",
              "    </tr>\n",
              "    <tr>\n",
              "      <th>1</th>\n",
              "      <td>1</td>\n",
              "      <td>3335</td>\n",
              "      <td>4193</td>\n",
              "      <td>Entire home/apt</td>\n",
              "      <td>Seattle, WA, United States</td>\n",
              "      <td>1</td>\n",
              "      <td>NaN</td>\n",
              "      <td>4</td>\n",
              "      <td>2.0</td>\n",
              "      <td>1.0</td>\n",
              "      <td>100</td>\n",
              "      <td>2018-12-20 04:08:45.277643</td>\n",
              "      <td>47.529846</td>\n",
              "      <td>-122.275840</td>\n",
              "      <td>0101000020E61000006FBBD05CA7915EC04DF564FED1C3...</td>\n",
              "      <td>Sweet Seattle Urban Homestead 2 Bdr</td>\n",
              "      <td>USD</td>\n",
              "      <td>nightly</td>\n",
              "      <td>0.121769</td>\n",
              "      <td>0.105053</td>\n",
              "      <td>0.566547</td>\n",
              "      <td>0.102985</td>\n",
              "      <td>0.103646</td>\n",
              "    </tr>\n",
              "    <tr>\n",
              "      <th>2</th>\n",
              "      <td>2</td>\n",
              "      <td>4291</td>\n",
              "      <td>35749</td>\n",
              "      <td>Private room</td>\n",
              "      <td>Seattle, WA, United States</td>\n",
              "      <td>63</td>\n",
              "      <td>4.5</td>\n",
              "      <td>2</td>\n",
              "      <td>1.0</td>\n",
              "      <td>1.0</td>\n",
              "      <td>82</td>\n",
              "      <td>2018-12-20 03:04:19.861014</td>\n",
              "      <td>47.687801</td>\n",
              "      <td>-122.313427</td>\n",
              "      <td>0101000020E6100000BDAB1E300F945EC0FB93F8DC09D8...</td>\n",
              "      <td>Sunrise in Seattle Master Suite</td>\n",
              "      <td>USD</td>\n",
              "      <td>nightly</td>\n",
              "      <td>0.130520</td>\n",
              "      <td>0.106691</td>\n",
              "      <td>0.550454</td>\n",
              "      <td>0.107328</td>\n",
              "      <td>0.105006</td>\n",
              "    </tr>\n",
              "    <tr>\n",
              "      <th>3</th>\n",
              "      <td>3</td>\n",
              "      <td>5682</td>\n",
              "      <td>8993</td>\n",
              "      <td>Entire home/apt</td>\n",
              "      <td>Seattle, WA, United States</td>\n",
              "      <td>462</td>\n",
              "      <td>5.0</td>\n",
              "      <td>2</td>\n",
              "      <td>0.0</td>\n",
              "      <td>1.0</td>\n",
              "      <td>49</td>\n",
              "      <td>2018-12-20 04:11:25.482975</td>\n",
              "      <td>47.523980</td>\n",
              "      <td>-122.359891</td>\n",
              "      <td>0101000020E6100000FCC7427408975EC009E1D1C611C3...</td>\n",
              "      <td>Cozy Studio, min. to downtown -WiFi</td>\n",
              "      <td>USD</td>\n",
              "      <td>nightly</td>\n",
              "      <td>0.554109</td>\n",
              "      <td>0.101902</td>\n",
              "      <td>0.140726</td>\n",
              "      <td>0.101815</td>\n",
              "      <td>0.101449</td>\n",
              "    </tr>\n",
              "    <tr>\n",
              "      <th>4</th>\n",
              "      <td>4</td>\n",
              "      <td>6606</td>\n",
              "      <td>14942</td>\n",
              "      <td>Entire home/apt</td>\n",
              "      <td>Seattle, WA, United States</td>\n",
              "      <td>134</td>\n",
              "      <td>4.5</td>\n",
              "      <td>2</td>\n",
              "      <td>1.0</td>\n",
              "      <td>1.0</td>\n",
              "      <td>90</td>\n",
              "      <td>2018-12-20 03:12:38.391711</td>\n",
              "      <td>47.654109</td>\n",
              "      <td>-122.337605</td>\n",
              "      <td>0101000020E6100000D47D00529B955EC07782FDD7B9D3...</td>\n",
              "      <td>Fab, private seattle urban cottage!</td>\n",
              "      <td>USD</td>\n",
              "      <td>nightly</td>\n",
              "      <td>0.124436</td>\n",
              "      <td>0.102913</td>\n",
              "      <td>0.567930</td>\n",
              "      <td>0.101766</td>\n",
              "      <td>0.102954</td>\n",
              "    </tr>\n",
              "  </tbody>\n",
              "</table>\n",
              "</div>"
            ],
            "text/plain": [
              "   Unnamed: 0  room_id  host_id  ... lda_topic_2 lda_topic_3  lda_topic_4\n",
              "0           0     2318     2536  ...    0.566746    0.103421     0.103403\n",
              "1           1     3335     4193  ...    0.566547    0.102985     0.103646\n",
              "2           2     4291    35749  ...    0.550454    0.107328     0.105006\n",
              "3           3     5682     8993  ...    0.140726    0.101815     0.101449\n",
              "4           4     6606    14942  ...    0.567930    0.101766     0.102954\n",
              "\n",
              "[5 rows x 23 columns]"
            ]
          },
          "metadata": {
            "tags": []
          },
          "execution_count": 69
        }
      ]
    },
    {
      "cell_type": "markdown",
      "metadata": {
        "id": "k-rHciJ5_KjS",
        "colab_type": "text"
      },
      "source": [
        "## Data Prep"
      ]
    },
    {
      "cell_type": "code",
      "metadata": {
        "id": "U4YJZN4ouMdi",
        "colab_type": "code",
        "colab": {
          "base_uri": "https://localhost:8080/",
          "height": 425
        },
        "outputId": "d9dbe4da-c0d7-482f-9ee5-bba2c88728a7"
      },
      "source": [
        "seattle_topic_df.dtypes"
      ],
      "execution_count": 70,
      "outputs": [
        {
          "output_type": "execute_result",
          "data": {
            "text/plain": [
              "Unnamed: 0                int64\n",
              "room_id                   int64\n",
              "host_id                   int64\n",
              "room_type                object\n",
              "address                  object\n",
              "reviews                   int64\n",
              "overall_satisfaction    float64\n",
              "accommodates              int64\n",
              "bedrooms                float64\n",
              "bathrooms               float64\n",
              "price                     int64\n",
              "last_modified            object\n",
              "latitude                float64\n",
              "longitude               float64\n",
              "location                 object\n",
              "name                     object\n",
              "currency                 object\n",
              "rate_type                object\n",
              "lda_topic_0             float64\n",
              "lda_topic_1             float64\n",
              "lda_topic_2             float64\n",
              "lda_topic_3             float64\n",
              "lda_topic_4             float64\n",
              "dtype: object"
            ]
          },
          "metadata": {
            "tags": []
          },
          "execution_count": 70
        }
      ]
    },
    {
      "cell_type": "code",
      "metadata": {
        "id": "GNmBiArrvwYa",
        "colab_type": "code",
        "colab": {}
      },
      "source": [
        "columns = ['room_type',\n",
        "           'reviews',\n",
        "           'overall_satisfaction',\n",
        "           'accommodates',\n",
        "           'bedrooms',\n",
        "           'bathrooms',\n",
        "           'price',\n",
        "           'latitude',\n",
        "           'longitude',\n",
        "           'currency',\n",
        "           'rate_type',\n",
        "           'lda_topic_0',\n",
        "           'lda_topic_1',\n",
        "           'lda_topic_2',\n",
        "           'lda_topic_3',\n",
        "           'lda_topic_4']\n",
        "\n",
        "X_train = seattle_topic_df[columns]"
      ],
      "execution_count": 71,
      "outputs": []
    },
    {
      "cell_type": "code",
      "metadata": {
        "id": "FfBkvV8pwURY",
        "colab_type": "code",
        "colab": {
          "base_uri": "https://localhost:8080/",
          "height": 309
        },
        "outputId": "996a765c-0b9e-4d26-ac61-762d6b46b96f"
      },
      "source": [
        "X_train.head()"
      ],
      "execution_count": 72,
      "outputs": [
        {
          "output_type": "execute_result",
          "data": {
            "text/html": [
              "<div>\n",
              "<style scoped>\n",
              "    .dataframe tbody tr th:only-of-type {\n",
              "        vertical-align: middle;\n",
              "    }\n",
              "\n",
              "    .dataframe tbody tr th {\n",
              "        vertical-align: top;\n",
              "    }\n",
              "\n",
              "    .dataframe thead th {\n",
              "        text-align: right;\n",
              "    }\n",
              "</style>\n",
              "<table border=\"1\" class=\"dataframe\">\n",
              "  <thead>\n",
              "    <tr style=\"text-align: right;\">\n",
              "      <th></th>\n",
              "      <th>room_type</th>\n",
              "      <th>reviews</th>\n",
              "      <th>overall_satisfaction</th>\n",
              "      <th>accommodates</th>\n",
              "      <th>bedrooms</th>\n",
              "      <th>bathrooms</th>\n",
              "      <th>price</th>\n",
              "      <th>latitude</th>\n",
              "      <th>longitude</th>\n",
              "      <th>currency</th>\n",
              "      <th>rate_type</th>\n",
              "      <th>lda_topic_0</th>\n",
              "      <th>lda_topic_1</th>\n",
              "      <th>lda_topic_2</th>\n",
              "      <th>lda_topic_3</th>\n",
              "      <th>lda_topic_4</th>\n",
              "    </tr>\n",
              "  </thead>\n",
              "  <tbody>\n",
              "    <tr>\n",
              "      <th>0</th>\n",
              "      <td>Entire home/apt</td>\n",
              "      <td>21</td>\n",
              "      <td>5.0</td>\n",
              "      <td>8</td>\n",
              "      <td>4.0</td>\n",
              "      <td>2.5</td>\n",
              "      <td>250</td>\n",
              "      <td>47.610819</td>\n",
              "      <td>-122.290816</td>\n",
              "      <td>USD</td>\n",
              "      <td>nightly</td>\n",
              "      <td>0.122503</td>\n",
              "      <td>0.103927</td>\n",
              "      <td>0.566746</td>\n",
              "      <td>0.103421</td>\n",
              "      <td>0.103403</td>\n",
              "    </tr>\n",
              "    <tr>\n",
              "      <th>1</th>\n",
              "      <td>Entire home/apt</td>\n",
              "      <td>1</td>\n",
              "      <td>NaN</td>\n",
              "      <td>4</td>\n",
              "      <td>2.0</td>\n",
              "      <td>1.0</td>\n",
              "      <td>100</td>\n",
              "      <td>47.529846</td>\n",
              "      <td>-122.275840</td>\n",
              "      <td>USD</td>\n",
              "      <td>nightly</td>\n",
              "      <td>0.121769</td>\n",
              "      <td>0.105053</td>\n",
              "      <td>0.566547</td>\n",
              "      <td>0.102985</td>\n",
              "      <td>0.103646</td>\n",
              "    </tr>\n",
              "    <tr>\n",
              "      <th>2</th>\n",
              "      <td>Private room</td>\n",
              "      <td>63</td>\n",
              "      <td>4.5</td>\n",
              "      <td>2</td>\n",
              "      <td>1.0</td>\n",
              "      <td>1.0</td>\n",
              "      <td>82</td>\n",
              "      <td>47.687801</td>\n",
              "      <td>-122.313427</td>\n",
              "      <td>USD</td>\n",
              "      <td>nightly</td>\n",
              "      <td>0.130520</td>\n",
              "      <td>0.106691</td>\n",
              "      <td>0.550454</td>\n",
              "      <td>0.107328</td>\n",
              "      <td>0.105006</td>\n",
              "    </tr>\n",
              "    <tr>\n",
              "      <th>3</th>\n",
              "      <td>Entire home/apt</td>\n",
              "      <td>462</td>\n",
              "      <td>5.0</td>\n",
              "      <td>2</td>\n",
              "      <td>0.0</td>\n",
              "      <td>1.0</td>\n",
              "      <td>49</td>\n",
              "      <td>47.523980</td>\n",
              "      <td>-122.359891</td>\n",
              "      <td>USD</td>\n",
              "      <td>nightly</td>\n",
              "      <td>0.554109</td>\n",
              "      <td>0.101902</td>\n",
              "      <td>0.140726</td>\n",
              "      <td>0.101815</td>\n",
              "      <td>0.101449</td>\n",
              "    </tr>\n",
              "    <tr>\n",
              "      <th>4</th>\n",
              "      <td>Entire home/apt</td>\n",
              "      <td>134</td>\n",
              "      <td>4.5</td>\n",
              "      <td>2</td>\n",
              "      <td>1.0</td>\n",
              "      <td>1.0</td>\n",
              "      <td>90</td>\n",
              "      <td>47.654109</td>\n",
              "      <td>-122.337605</td>\n",
              "      <td>USD</td>\n",
              "      <td>nightly</td>\n",
              "      <td>0.124436</td>\n",
              "      <td>0.102913</td>\n",
              "      <td>0.567930</td>\n",
              "      <td>0.101766</td>\n",
              "      <td>0.102954</td>\n",
              "    </tr>\n",
              "  </tbody>\n",
              "</table>\n",
              "</div>"
            ],
            "text/plain": [
              "         room_type  reviews  ...  lda_topic_3  lda_topic_4\n",
              "0  Entire home/apt       21  ...     0.103421     0.103403\n",
              "1  Entire home/apt        1  ...     0.102985     0.103646\n",
              "2     Private room       63  ...     0.107328     0.105006\n",
              "3  Entire home/apt      462  ...     0.101815     0.101449\n",
              "4  Entire home/apt      134  ...     0.101766     0.102954\n",
              "\n",
              "[5 rows x 16 columns]"
            ]
          },
          "metadata": {
            "tags": []
          },
          "execution_count": 72
        }
      ]
    },
    {
      "cell_type": "code",
      "metadata": {
        "id": "E29MpiSRwnir",
        "colab_type": "code",
        "colab": {
          "base_uri": "https://localhost:8080/",
          "height": 34
        },
        "outputId": "a85b5a18-659d-4148-bf0c-5933eb920874"
      },
      "source": [
        "print('Train', X_train.shape)"
      ],
      "execution_count": 73,
      "outputs": [
        {
          "output_type": "stream",
          "text": [
            "Train (7576, 16)\n"
          ],
          "name": "stdout"
        }
      ]
    },
    {
      "cell_type": "markdown",
      "metadata": {
        "id": "2YXvcd3fw9Gk",
        "colab_type": "text"
      },
      "source": [
        "## Model"
      ]
    },
    {
      "cell_type": "code",
      "metadata": {
        "id": "CZWSr9YgxfJb",
        "colab_type": "code",
        "colab": {
          "base_uri": "https://localhost:8080/",
          "height": 956,
          "referenced_widgets": [
            "7a37db441c4042a98087723891ad7fcf",
            "0f9e552a456740579d288570581c670e",
            "ffdedafd636945ec837009ddbcca8513",
            "94c2129f8d754d648838e6d2d692971e",
            "207fea1b87c4406c9e48b10e9836b43e",
            "83454ec7687d4cc2a6588735f29476d6"
          ]
        },
        "outputId": "b58d49e8-9fbe-4d03-fc86-285ebe5b8b39"
      },
      "source": [
        "experiment = setup(X_train, target='price',\n",
        "                   numeric_features = ['accommodates'])"
      ],
      "execution_count": 74,
      "outputs": [
        {
          "output_type": "stream",
          "text": [
            " \n",
            "Setup Succesfully Completed!\n"
          ],
          "name": "stdout"
        },
        {
          "output_type": "display_data",
          "data": {
            "text/html": [
              "<style  type=\"text/css\" >\n",
              "    #T_328f1060_c922_11ea_a457_0242ac1c0002row4_col1 {\n",
              "            background-color:  lightgreen;\n",
              "        }</style><table id=\"T_328f1060_c922_11ea_a457_0242ac1c0002\" ><thead>    <tr>        <th class=\"blank level0\" ></th>        <th class=\"col_heading level0 col0\" >Description</th>        <th class=\"col_heading level0 col1\" >Value</th>    </tr></thead><tbody>\n",
              "                <tr>\n",
              "                        <th id=\"T_328f1060_c922_11ea_a457_0242ac1c0002level0_row0\" class=\"row_heading level0 row0\" >0</th>\n",
              "                        <td id=\"T_328f1060_c922_11ea_a457_0242ac1c0002row0_col0\" class=\"data row0 col0\" >session_id</td>\n",
              "                        <td id=\"T_328f1060_c922_11ea_a457_0242ac1c0002row0_col1\" class=\"data row0 col1\" >8739</td>\n",
              "            </tr>\n",
              "            <tr>\n",
              "                        <th id=\"T_328f1060_c922_11ea_a457_0242ac1c0002level0_row1\" class=\"row_heading level0 row1\" >1</th>\n",
              "                        <td id=\"T_328f1060_c922_11ea_a457_0242ac1c0002row1_col0\" class=\"data row1 col0\" >Transform Target </td>\n",
              "                        <td id=\"T_328f1060_c922_11ea_a457_0242ac1c0002row1_col1\" class=\"data row1 col1\" >False</td>\n",
              "            </tr>\n",
              "            <tr>\n",
              "                        <th id=\"T_328f1060_c922_11ea_a457_0242ac1c0002level0_row2\" class=\"row_heading level0 row2\" >2</th>\n",
              "                        <td id=\"T_328f1060_c922_11ea_a457_0242ac1c0002row2_col0\" class=\"data row2 col0\" >Transform Target Method</td>\n",
              "                        <td id=\"T_328f1060_c922_11ea_a457_0242ac1c0002row2_col1\" class=\"data row2 col1\" >None</td>\n",
              "            </tr>\n",
              "            <tr>\n",
              "                        <th id=\"T_328f1060_c922_11ea_a457_0242ac1c0002level0_row3\" class=\"row_heading level0 row3\" >3</th>\n",
              "                        <td id=\"T_328f1060_c922_11ea_a457_0242ac1c0002row3_col0\" class=\"data row3 col0\" >Original Data</td>\n",
              "                        <td id=\"T_328f1060_c922_11ea_a457_0242ac1c0002row3_col1\" class=\"data row3 col1\" >(7576, 16)</td>\n",
              "            </tr>\n",
              "            <tr>\n",
              "                        <th id=\"T_328f1060_c922_11ea_a457_0242ac1c0002level0_row4\" class=\"row_heading level0 row4\" >4</th>\n",
              "                        <td id=\"T_328f1060_c922_11ea_a457_0242ac1c0002row4_col0\" class=\"data row4 col0\" >Missing Values </td>\n",
              "                        <td id=\"T_328f1060_c922_11ea_a457_0242ac1c0002row4_col1\" class=\"data row4 col1\" >True</td>\n",
              "            </tr>\n",
              "            <tr>\n",
              "                        <th id=\"T_328f1060_c922_11ea_a457_0242ac1c0002level0_row5\" class=\"row_heading level0 row5\" >5</th>\n",
              "                        <td id=\"T_328f1060_c922_11ea_a457_0242ac1c0002row5_col0\" class=\"data row5 col0\" >Numeric Features </td>\n",
              "                        <td id=\"T_328f1060_c922_11ea_a457_0242ac1c0002row5_col1\" class=\"data row5 col1\" >12</td>\n",
              "            </tr>\n",
              "            <tr>\n",
              "                        <th id=\"T_328f1060_c922_11ea_a457_0242ac1c0002level0_row6\" class=\"row_heading level0 row6\" >6</th>\n",
              "                        <td id=\"T_328f1060_c922_11ea_a457_0242ac1c0002row6_col0\" class=\"data row6 col0\" >Categorical Features </td>\n",
              "                        <td id=\"T_328f1060_c922_11ea_a457_0242ac1c0002row6_col1\" class=\"data row6 col1\" >3</td>\n",
              "            </tr>\n",
              "            <tr>\n",
              "                        <th id=\"T_328f1060_c922_11ea_a457_0242ac1c0002level0_row7\" class=\"row_heading level0 row7\" >7</th>\n",
              "                        <td id=\"T_328f1060_c922_11ea_a457_0242ac1c0002row7_col0\" class=\"data row7 col0\" >Ordinal Features </td>\n",
              "                        <td id=\"T_328f1060_c922_11ea_a457_0242ac1c0002row7_col1\" class=\"data row7 col1\" >False</td>\n",
              "            </tr>\n",
              "            <tr>\n",
              "                        <th id=\"T_328f1060_c922_11ea_a457_0242ac1c0002level0_row8\" class=\"row_heading level0 row8\" >8</th>\n",
              "                        <td id=\"T_328f1060_c922_11ea_a457_0242ac1c0002row8_col0\" class=\"data row8 col0\" >High Cardinality Features </td>\n",
              "                        <td id=\"T_328f1060_c922_11ea_a457_0242ac1c0002row8_col1\" class=\"data row8 col1\" >False</td>\n",
              "            </tr>\n",
              "            <tr>\n",
              "                        <th id=\"T_328f1060_c922_11ea_a457_0242ac1c0002level0_row9\" class=\"row_heading level0 row9\" >9</th>\n",
              "                        <td id=\"T_328f1060_c922_11ea_a457_0242ac1c0002row9_col0\" class=\"data row9 col0\" >High Cardinality Method </td>\n",
              "                        <td id=\"T_328f1060_c922_11ea_a457_0242ac1c0002row9_col1\" class=\"data row9 col1\" >None</td>\n",
              "            </tr>\n",
              "            <tr>\n",
              "                        <th id=\"T_328f1060_c922_11ea_a457_0242ac1c0002level0_row10\" class=\"row_heading level0 row10\" >10</th>\n",
              "                        <td id=\"T_328f1060_c922_11ea_a457_0242ac1c0002row10_col0\" class=\"data row10 col0\" >Sampled Data</td>\n",
              "                        <td id=\"T_328f1060_c922_11ea_a457_0242ac1c0002row10_col1\" class=\"data row10 col1\" >(7576, 16)</td>\n",
              "            </tr>\n",
              "            <tr>\n",
              "                        <th id=\"T_328f1060_c922_11ea_a457_0242ac1c0002level0_row11\" class=\"row_heading level0 row11\" >11</th>\n",
              "                        <td id=\"T_328f1060_c922_11ea_a457_0242ac1c0002row11_col0\" class=\"data row11 col0\" >Transformed Train Set</td>\n",
              "                        <td id=\"T_328f1060_c922_11ea_a457_0242ac1c0002row11_col1\" class=\"data row11 col1\" >(5303, 17)</td>\n",
              "            </tr>\n",
              "            <tr>\n",
              "                        <th id=\"T_328f1060_c922_11ea_a457_0242ac1c0002level0_row12\" class=\"row_heading level0 row12\" >12</th>\n",
              "                        <td id=\"T_328f1060_c922_11ea_a457_0242ac1c0002row12_col0\" class=\"data row12 col0\" >Transformed Test Set</td>\n",
              "                        <td id=\"T_328f1060_c922_11ea_a457_0242ac1c0002row12_col1\" class=\"data row12 col1\" >(2273, 17)</td>\n",
              "            </tr>\n",
              "            <tr>\n",
              "                        <th id=\"T_328f1060_c922_11ea_a457_0242ac1c0002level0_row13\" class=\"row_heading level0 row13\" >13</th>\n",
              "                        <td id=\"T_328f1060_c922_11ea_a457_0242ac1c0002row13_col0\" class=\"data row13 col0\" >Numeric Imputer </td>\n",
              "                        <td id=\"T_328f1060_c922_11ea_a457_0242ac1c0002row13_col1\" class=\"data row13 col1\" >mean</td>\n",
              "            </tr>\n",
              "            <tr>\n",
              "                        <th id=\"T_328f1060_c922_11ea_a457_0242ac1c0002level0_row14\" class=\"row_heading level0 row14\" >14</th>\n",
              "                        <td id=\"T_328f1060_c922_11ea_a457_0242ac1c0002row14_col0\" class=\"data row14 col0\" >Categorical Imputer </td>\n",
              "                        <td id=\"T_328f1060_c922_11ea_a457_0242ac1c0002row14_col1\" class=\"data row14 col1\" >constant</td>\n",
              "            </tr>\n",
              "            <tr>\n",
              "                        <th id=\"T_328f1060_c922_11ea_a457_0242ac1c0002level0_row15\" class=\"row_heading level0 row15\" >15</th>\n",
              "                        <td id=\"T_328f1060_c922_11ea_a457_0242ac1c0002row15_col0\" class=\"data row15 col0\" >Normalize </td>\n",
              "                        <td id=\"T_328f1060_c922_11ea_a457_0242ac1c0002row15_col1\" class=\"data row15 col1\" >False</td>\n",
              "            </tr>\n",
              "            <tr>\n",
              "                        <th id=\"T_328f1060_c922_11ea_a457_0242ac1c0002level0_row16\" class=\"row_heading level0 row16\" >16</th>\n",
              "                        <td id=\"T_328f1060_c922_11ea_a457_0242ac1c0002row16_col0\" class=\"data row16 col0\" >Normalize Method </td>\n",
              "                        <td id=\"T_328f1060_c922_11ea_a457_0242ac1c0002row16_col1\" class=\"data row16 col1\" >None</td>\n",
              "            </tr>\n",
              "            <tr>\n",
              "                        <th id=\"T_328f1060_c922_11ea_a457_0242ac1c0002level0_row17\" class=\"row_heading level0 row17\" >17</th>\n",
              "                        <td id=\"T_328f1060_c922_11ea_a457_0242ac1c0002row17_col0\" class=\"data row17 col0\" >Transformation </td>\n",
              "                        <td id=\"T_328f1060_c922_11ea_a457_0242ac1c0002row17_col1\" class=\"data row17 col1\" >False</td>\n",
              "            </tr>\n",
              "            <tr>\n",
              "                        <th id=\"T_328f1060_c922_11ea_a457_0242ac1c0002level0_row18\" class=\"row_heading level0 row18\" >18</th>\n",
              "                        <td id=\"T_328f1060_c922_11ea_a457_0242ac1c0002row18_col0\" class=\"data row18 col0\" >Transformation Method </td>\n",
              "                        <td id=\"T_328f1060_c922_11ea_a457_0242ac1c0002row18_col1\" class=\"data row18 col1\" >None</td>\n",
              "            </tr>\n",
              "            <tr>\n",
              "                        <th id=\"T_328f1060_c922_11ea_a457_0242ac1c0002level0_row19\" class=\"row_heading level0 row19\" >19</th>\n",
              "                        <td id=\"T_328f1060_c922_11ea_a457_0242ac1c0002row19_col0\" class=\"data row19 col0\" >PCA </td>\n",
              "                        <td id=\"T_328f1060_c922_11ea_a457_0242ac1c0002row19_col1\" class=\"data row19 col1\" >False</td>\n",
              "            </tr>\n",
              "            <tr>\n",
              "                        <th id=\"T_328f1060_c922_11ea_a457_0242ac1c0002level0_row20\" class=\"row_heading level0 row20\" >20</th>\n",
              "                        <td id=\"T_328f1060_c922_11ea_a457_0242ac1c0002row20_col0\" class=\"data row20 col0\" >PCA Method </td>\n",
              "                        <td id=\"T_328f1060_c922_11ea_a457_0242ac1c0002row20_col1\" class=\"data row20 col1\" >None</td>\n",
              "            </tr>\n",
              "            <tr>\n",
              "                        <th id=\"T_328f1060_c922_11ea_a457_0242ac1c0002level0_row21\" class=\"row_heading level0 row21\" >21</th>\n",
              "                        <td id=\"T_328f1060_c922_11ea_a457_0242ac1c0002row21_col0\" class=\"data row21 col0\" >PCA Components </td>\n",
              "                        <td id=\"T_328f1060_c922_11ea_a457_0242ac1c0002row21_col1\" class=\"data row21 col1\" >None</td>\n",
              "            </tr>\n",
              "            <tr>\n",
              "                        <th id=\"T_328f1060_c922_11ea_a457_0242ac1c0002level0_row22\" class=\"row_heading level0 row22\" >22</th>\n",
              "                        <td id=\"T_328f1060_c922_11ea_a457_0242ac1c0002row22_col0\" class=\"data row22 col0\" >Ignore Low Variance </td>\n",
              "                        <td id=\"T_328f1060_c922_11ea_a457_0242ac1c0002row22_col1\" class=\"data row22 col1\" >False</td>\n",
              "            </tr>\n",
              "            <tr>\n",
              "                        <th id=\"T_328f1060_c922_11ea_a457_0242ac1c0002level0_row23\" class=\"row_heading level0 row23\" >23</th>\n",
              "                        <td id=\"T_328f1060_c922_11ea_a457_0242ac1c0002row23_col0\" class=\"data row23 col0\" >Combine Rare Levels </td>\n",
              "                        <td id=\"T_328f1060_c922_11ea_a457_0242ac1c0002row23_col1\" class=\"data row23 col1\" >False</td>\n",
              "            </tr>\n",
              "            <tr>\n",
              "                        <th id=\"T_328f1060_c922_11ea_a457_0242ac1c0002level0_row24\" class=\"row_heading level0 row24\" >24</th>\n",
              "                        <td id=\"T_328f1060_c922_11ea_a457_0242ac1c0002row24_col0\" class=\"data row24 col0\" >Rare Level Threshold </td>\n",
              "                        <td id=\"T_328f1060_c922_11ea_a457_0242ac1c0002row24_col1\" class=\"data row24 col1\" >None</td>\n",
              "            </tr>\n",
              "            <tr>\n",
              "                        <th id=\"T_328f1060_c922_11ea_a457_0242ac1c0002level0_row25\" class=\"row_heading level0 row25\" >25</th>\n",
              "                        <td id=\"T_328f1060_c922_11ea_a457_0242ac1c0002row25_col0\" class=\"data row25 col0\" >Numeric Binning </td>\n",
              "                        <td id=\"T_328f1060_c922_11ea_a457_0242ac1c0002row25_col1\" class=\"data row25 col1\" >False</td>\n",
              "            </tr>\n",
              "            <tr>\n",
              "                        <th id=\"T_328f1060_c922_11ea_a457_0242ac1c0002level0_row26\" class=\"row_heading level0 row26\" >26</th>\n",
              "                        <td id=\"T_328f1060_c922_11ea_a457_0242ac1c0002row26_col0\" class=\"data row26 col0\" >Remove Outliers </td>\n",
              "                        <td id=\"T_328f1060_c922_11ea_a457_0242ac1c0002row26_col1\" class=\"data row26 col1\" >False</td>\n",
              "            </tr>\n",
              "            <tr>\n",
              "                        <th id=\"T_328f1060_c922_11ea_a457_0242ac1c0002level0_row27\" class=\"row_heading level0 row27\" >27</th>\n",
              "                        <td id=\"T_328f1060_c922_11ea_a457_0242ac1c0002row27_col0\" class=\"data row27 col0\" >Outliers Threshold </td>\n",
              "                        <td id=\"T_328f1060_c922_11ea_a457_0242ac1c0002row27_col1\" class=\"data row27 col1\" >None</td>\n",
              "            </tr>\n",
              "            <tr>\n",
              "                        <th id=\"T_328f1060_c922_11ea_a457_0242ac1c0002level0_row28\" class=\"row_heading level0 row28\" >28</th>\n",
              "                        <td id=\"T_328f1060_c922_11ea_a457_0242ac1c0002row28_col0\" class=\"data row28 col0\" >Remove Multicollinearity </td>\n",
              "                        <td id=\"T_328f1060_c922_11ea_a457_0242ac1c0002row28_col1\" class=\"data row28 col1\" >False</td>\n",
              "            </tr>\n",
              "            <tr>\n",
              "                        <th id=\"T_328f1060_c922_11ea_a457_0242ac1c0002level0_row29\" class=\"row_heading level0 row29\" >29</th>\n",
              "                        <td id=\"T_328f1060_c922_11ea_a457_0242ac1c0002row29_col0\" class=\"data row29 col0\" >Multicollinearity Threshold </td>\n",
              "                        <td id=\"T_328f1060_c922_11ea_a457_0242ac1c0002row29_col1\" class=\"data row29 col1\" >None</td>\n",
              "            </tr>\n",
              "            <tr>\n",
              "                        <th id=\"T_328f1060_c922_11ea_a457_0242ac1c0002level0_row30\" class=\"row_heading level0 row30\" >30</th>\n",
              "                        <td id=\"T_328f1060_c922_11ea_a457_0242ac1c0002row30_col0\" class=\"data row30 col0\" >Clustering </td>\n",
              "                        <td id=\"T_328f1060_c922_11ea_a457_0242ac1c0002row30_col1\" class=\"data row30 col1\" >False</td>\n",
              "            </tr>\n",
              "            <tr>\n",
              "                        <th id=\"T_328f1060_c922_11ea_a457_0242ac1c0002level0_row31\" class=\"row_heading level0 row31\" >31</th>\n",
              "                        <td id=\"T_328f1060_c922_11ea_a457_0242ac1c0002row31_col0\" class=\"data row31 col0\" >Clustering Iteration </td>\n",
              "                        <td id=\"T_328f1060_c922_11ea_a457_0242ac1c0002row31_col1\" class=\"data row31 col1\" >None</td>\n",
              "            </tr>\n",
              "            <tr>\n",
              "                        <th id=\"T_328f1060_c922_11ea_a457_0242ac1c0002level0_row32\" class=\"row_heading level0 row32\" >32</th>\n",
              "                        <td id=\"T_328f1060_c922_11ea_a457_0242ac1c0002row32_col0\" class=\"data row32 col0\" >Polynomial Features </td>\n",
              "                        <td id=\"T_328f1060_c922_11ea_a457_0242ac1c0002row32_col1\" class=\"data row32 col1\" >False</td>\n",
              "            </tr>\n",
              "            <tr>\n",
              "                        <th id=\"T_328f1060_c922_11ea_a457_0242ac1c0002level0_row33\" class=\"row_heading level0 row33\" >33</th>\n",
              "                        <td id=\"T_328f1060_c922_11ea_a457_0242ac1c0002row33_col0\" class=\"data row33 col0\" >Polynomial Degree </td>\n",
              "                        <td id=\"T_328f1060_c922_11ea_a457_0242ac1c0002row33_col1\" class=\"data row33 col1\" >None</td>\n",
              "            </tr>\n",
              "            <tr>\n",
              "                        <th id=\"T_328f1060_c922_11ea_a457_0242ac1c0002level0_row34\" class=\"row_heading level0 row34\" >34</th>\n",
              "                        <td id=\"T_328f1060_c922_11ea_a457_0242ac1c0002row34_col0\" class=\"data row34 col0\" >Trignometry Features </td>\n",
              "                        <td id=\"T_328f1060_c922_11ea_a457_0242ac1c0002row34_col1\" class=\"data row34 col1\" >False</td>\n",
              "            </tr>\n",
              "            <tr>\n",
              "                        <th id=\"T_328f1060_c922_11ea_a457_0242ac1c0002level0_row35\" class=\"row_heading level0 row35\" >35</th>\n",
              "                        <td id=\"T_328f1060_c922_11ea_a457_0242ac1c0002row35_col0\" class=\"data row35 col0\" >Polynomial Threshold </td>\n",
              "                        <td id=\"T_328f1060_c922_11ea_a457_0242ac1c0002row35_col1\" class=\"data row35 col1\" >None</td>\n",
              "            </tr>\n",
              "            <tr>\n",
              "                        <th id=\"T_328f1060_c922_11ea_a457_0242ac1c0002level0_row36\" class=\"row_heading level0 row36\" >36</th>\n",
              "                        <td id=\"T_328f1060_c922_11ea_a457_0242ac1c0002row36_col0\" class=\"data row36 col0\" >Group Features </td>\n",
              "                        <td id=\"T_328f1060_c922_11ea_a457_0242ac1c0002row36_col1\" class=\"data row36 col1\" >False</td>\n",
              "            </tr>\n",
              "            <tr>\n",
              "                        <th id=\"T_328f1060_c922_11ea_a457_0242ac1c0002level0_row37\" class=\"row_heading level0 row37\" >37</th>\n",
              "                        <td id=\"T_328f1060_c922_11ea_a457_0242ac1c0002row37_col0\" class=\"data row37 col0\" >Feature Selection </td>\n",
              "                        <td id=\"T_328f1060_c922_11ea_a457_0242ac1c0002row37_col1\" class=\"data row37 col1\" >False</td>\n",
              "            </tr>\n",
              "            <tr>\n",
              "                        <th id=\"T_328f1060_c922_11ea_a457_0242ac1c0002level0_row38\" class=\"row_heading level0 row38\" >38</th>\n",
              "                        <td id=\"T_328f1060_c922_11ea_a457_0242ac1c0002row38_col0\" class=\"data row38 col0\" >Features Selection Threshold </td>\n",
              "                        <td id=\"T_328f1060_c922_11ea_a457_0242ac1c0002row38_col1\" class=\"data row38 col1\" >None</td>\n",
              "            </tr>\n",
              "            <tr>\n",
              "                        <th id=\"T_328f1060_c922_11ea_a457_0242ac1c0002level0_row39\" class=\"row_heading level0 row39\" >39</th>\n",
              "                        <td id=\"T_328f1060_c922_11ea_a457_0242ac1c0002row39_col0\" class=\"data row39 col0\" >Feature Interaction </td>\n",
              "                        <td id=\"T_328f1060_c922_11ea_a457_0242ac1c0002row39_col1\" class=\"data row39 col1\" >False</td>\n",
              "            </tr>\n",
              "            <tr>\n",
              "                        <th id=\"T_328f1060_c922_11ea_a457_0242ac1c0002level0_row40\" class=\"row_heading level0 row40\" >40</th>\n",
              "                        <td id=\"T_328f1060_c922_11ea_a457_0242ac1c0002row40_col0\" class=\"data row40 col0\" >Feature Ratio </td>\n",
              "                        <td id=\"T_328f1060_c922_11ea_a457_0242ac1c0002row40_col1\" class=\"data row40 col1\" >False</td>\n",
              "            </tr>\n",
              "            <tr>\n",
              "                        <th id=\"T_328f1060_c922_11ea_a457_0242ac1c0002level0_row41\" class=\"row_heading level0 row41\" >41</th>\n",
              "                        <td id=\"T_328f1060_c922_11ea_a457_0242ac1c0002row41_col0\" class=\"data row41 col0\" >Interaction Threshold </td>\n",
              "                        <td id=\"T_328f1060_c922_11ea_a457_0242ac1c0002row41_col1\" class=\"data row41 col1\" >None</td>\n",
              "            </tr>\n",
              "    </tbody></table>"
            ],
            "text/plain": [
              "<pandas.io.formats.style.Styler at 0x7f8493bdbdd8>"
            ]
          },
          "metadata": {
            "tags": []
          }
        }
      ]
    },
    {
      "cell_type": "markdown",
      "metadata": {
        "id": "kp0ghINQ0a7h",
        "colab_type": "text"
      },
      "source": [
        "## Build Random Forest"
      ]
    },
    {
      "cell_type": "code",
      "metadata": {
        "id": "B1TWLznvyAQe",
        "colab_type": "code",
        "colab": {
          "base_uri": "https://localhost:8080/",
          "height": 421,
          "referenced_widgets": [
            "abd2719acb6244d8b4138ddc62bcd948",
            "bf28785502da4426be78946208265385",
            "4cdcf62cc2b7484fb888adefff4cc03a"
          ]
        },
        "outputId": "18e2d811-3809-43ca-8e1a-9cd86ab93fc5"
      },
      "source": [
        "rf = create_model(estimator = 'rf')"
      ],
      "execution_count": 75,
      "outputs": [
        {
          "output_type": "display_data",
          "data": {
            "text/html": [
              "<div>\n",
              "<style scoped>\n",
              "    .dataframe tbody tr th:only-of-type {\n",
              "        vertical-align: middle;\n",
              "    }\n",
              "\n",
              "    .dataframe tbody tr th {\n",
              "        vertical-align: top;\n",
              "    }\n",
              "\n",
              "    .dataframe thead th {\n",
              "        text-align: right;\n",
              "    }\n",
              "</style>\n",
              "<table border=\"1\" class=\"dataframe\">\n",
              "  <thead>\n",
              "    <tr style=\"text-align: right;\">\n",
              "      <th></th>\n",
              "      <th>MAE</th>\n",
              "      <th>MSE</th>\n",
              "      <th>RMSE</th>\n",
              "      <th>R2</th>\n",
              "      <th>RMSLE</th>\n",
              "      <th>MAPE</th>\n",
              "    </tr>\n",
              "  </thead>\n",
              "  <tbody>\n",
              "    <tr>\n",
              "      <th>0</th>\n",
              "      <td>38.7218</td>\n",
              "      <td>4399.5397</td>\n",
              "      <td>66.3290</td>\n",
              "      <td>0.4401</td>\n",
              "      <td>0.4022</td>\n",
              "      <td>0.3621</td>\n",
              "    </tr>\n",
              "    <tr>\n",
              "      <th>1</th>\n",
              "      <td>37.2173</td>\n",
              "      <td>4049.1204</td>\n",
              "      <td>63.6327</td>\n",
              "      <td>0.4968</td>\n",
              "      <td>0.4081</td>\n",
              "      <td>0.3724</td>\n",
              "    </tr>\n",
              "    <tr>\n",
              "      <th>2</th>\n",
              "      <td>41.7552</td>\n",
              "      <td>17239.1139</td>\n",
              "      <td>131.2978</td>\n",
              "      <td>0.1944</td>\n",
              "      <td>0.3968</td>\n",
              "      <td>0.3412</td>\n",
              "    </tr>\n",
              "    <tr>\n",
              "      <th>3</th>\n",
              "      <td>46.3766</td>\n",
              "      <td>60893.3541</td>\n",
              "      <td>246.7658</td>\n",
              "      <td>0.1397</td>\n",
              "      <td>0.4445</td>\n",
              "      <td>0.3956</td>\n",
              "    </tr>\n",
              "    <tr>\n",
              "      <th>4</th>\n",
              "      <td>38.0280</td>\n",
              "      <td>4322.8837</td>\n",
              "      <td>65.7486</td>\n",
              "      <td>0.4972</td>\n",
              "      <td>0.4085</td>\n",
              "      <td>0.3672</td>\n",
              "    </tr>\n",
              "    <tr>\n",
              "      <th>5</th>\n",
              "      <td>38.7677</td>\n",
              "      <td>4687.4599</td>\n",
              "      <td>68.4650</td>\n",
              "      <td>0.3350</td>\n",
              "      <td>0.4316</td>\n",
              "      <td>0.3866</td>\n",
              "    </tr>\n",
              "    <tr>\n",
              "      <th>6</th>\n",
              "      <td>35.3686</td>\n",
              "      <td>3837.5661</td>\n",
              "      <td>61.9481</td>\n",
              "      <td>0.3836</td>\n",
              "      <td>0.4200</td>\n",
              "      <td>0.3814</td>\n",
              "    </tr>\n",
              "    <tr>\n",
              "      <th>7</th>\n",
              "      <td>41.5491</td>\n",
              "      <td>7354.7703</td>\n",
              "      <td>85.7600</td>\n",
              "      <td>0.2265</td>\n",
              "      <td>0.4751</td>\n",
              "      <td>0.4410</td>\n",
              "    </tr>\n",
              "    <tr>\n",
              "      <th>8</th>\n",
              "      <td>37.9232</td>\n",
              "      <td>4593.4886</td>\n",
              "      <td>67.7753</td>\n",
              "      <td>0.3454</td>\n",
              "      <td>0.4290</td>\n",
              "      <td>0.3813</td>\n",
              "    </tr>\n",
              "    <tr>\n",
              "      <th>9</th>\n",
              "      <td>47.2364</td>\n",
              "      <td>11469.1003</td>\n",
              "      <td>107.0939</td>\n",
              "      <td>0.0410</td>\n",
              "      <td>0.4572</td>\n",
              "      <td>0.3894</td>\n",
              "    </tr>\n",
              "    <tr>\n",
              "      <th>Mean</th>\n",
              "      <td>40.2944</td>\n",
              "      <td>12284.6397</td>\n",
              "      <td>96.4816</td>\n",
              "      <td>0.3100</td>\n",
              "      <td>0.4273</td>\n",
              "      <td>0.3818</td>\n",
              "    </tr>\n",
              "    <tr>\n",
              "      <th>SD</th>\n",
              "      <td>3.7174</td>\n",
              "      <td>16715.0674</td>\n",
              "      <td>54.5521</td>\n",
              "      <td>0.1469</td>\n",
              "      <td>0.0241</td>\n",
              "      <td>0.0247</td>\n",
              "    </tr>\n",
              "  </tbody>\n",
              "</table>\n",
              "</div>"
            ],
            "text/plain": [
              "          MAE         MSE      RMSE      R2   RMSLE    MAPE\n",
              "0     38.7218   4399.5397   66.3290  0.4401  0.4022  0.3621\n",
              "1     37.2173   4049.1204   63.6327  0.4968  0.4081  0.3724\n",
              "2     41.7552  17239.1139  131.2978  0.1944  0.3968  0.3412\n",
              "3     46.3766  60893.3541  246.7658  0.1397  0.4445  0.3956\n",
              "4     38.0280   4322.8837   65.7486  0.4972  0.4085  0.3672\n",
              "5     38.7677   4687.4599   68.4650  0.3350  0.4316  0.3866\n",
              "6     35.3686   3837.5661   61.9481  0.3836  0.4200  0.3814\n",
              "7     41.5491   7354.7703   85.7600  0.2265  0.4751  0.4410\n",
              "8     37.9232   4593.4886   67.7753  0.3454  0.4290  0.3813\n",
              "9     47.2364  11469.1003  107.0939  0.0410  0.4572  0.3894\n",
              "Mean  40.2944  12284.6397   96.4816  0.3100  0.4273  0.3818\n",
              "SD     3.7174  16715.0674   54.5521  0.1469  0.0241  0.0247"
            ]
          },
          "metadata": {
            "tags": []
          }
        }
      ]
    },
    {
      "cell_type": "markdown",
      "metadata": {
        "id": "cTr5U7Fi0XAp",
        "colab_type": "text"
      },
      "source": [
        "## Residuals"
      ]
    },
    {
      "cell_type": "code",
      "metadata": {
        "id": "E0kLqQts0BwC",
        "colab_type": "code",
        "colab": {
          "base_uri": "https://localhost:8080/",
          "height": 376,
          "referenced_widgets": [
            "c27eb224b5a340648abe99e7af0258b8",
            "656ddd5c604246d7aa8d7099e872bce4",
            "b9c7394dcb8746c5be2d8c85fa41e378"
          ]
        },
        "outputId": "e6ea6d86-b7b7-4910-d23a-4868d194bf44"
      },
      "source": [
        "plot_model(rf, plot='residuals')"
      ],
      "execution_count": 77,
      "outputs": [
        {
          "output_type": "display_data",
          "data": {
            "image/png": "[encoded data removed]",
            "text/plain": [
              "<Figure size 576x396 with 2 Axes>"
            ]
          },
          "metadata": {
            "tags": []
          }
        }
      ]
    },
    {
      "cell_type": "markdown",
      "metadata": {
        "id": "ZygpfBCE0gr8",
        "colab_type": "text"
      },
      "source": [
        "## Errors"
      ]
    },
    {
      "cell_type": "code",
      "metadata": {
        "id": "1fHorDUq0j2E",
        "colab_type": "code",
        "colab": {
          "base_uri": "https://localhost:8080/",
          "height": 378,
          "referenced_widgets": [
            "31450ff9c3f54905bd3658daa3a37c01",
            "285c87f13daa4de484c6d32b03f03237",
            "4c2705f9e4724d8aa77c638221de2d01"
          ]
        },
        "outputId": "1dc454d8-c256-4b62-c2b9-f6f00b216f96"
      },
      "source": [
        "plot_model(rf, plot='error')"
      ],
      "execution_count": 78,
      "outputs": [
        {
          "output_type": "display_data",
          "data": {
            "image/png": "[encoded data removed]",
            "text/plain": [
              "<Figure size 576x396 with 1 Axes>"
            ]
          },
          "metadata": {
            "tags": []
          }
        }
      ]
    },
    {
      "cell_type": "markdown",
      "metadata": {
        "id": "mXA-WXV20mXa",
        "colab_type": "text"
      },
      "source": [
        "## Feature Importance"
      ]
    },
    {
      "cell_type": "code",
      "metadata": {
        "id": "vOc0X-Rd0o3t",
        "colab_type": "code",
        "colab": {
          "base_uri": "https://localhost:8080/",
          "height": 349,
          "referenced_widgets": [
            "46cc16209bd54e75a94e1bd693cac24e"
          ]
        },
        "outputId": "0aa54d0e-aca1-4086-e173-162defc5ac0b"
      },
      "source": [
        "plot_model(rf, plot='feature')"
      ],
      "execution_count": 79,
      "outputs": [
        {
          "output_type": "display_data",
          "data": {
            "image/png": "[encoded data removed]",
            "text/plain": [
              "<Figure size 576x360 with 1 Axes>"
            ]
          },
          "metadata": {
            "tags": []
          }
        }
      ]
    },
    {
      "cell_type": "code",
      "metadata": {
        "id": "io30vKCj1rUY",
        "colab_type": "code",
        "colab": {
          "base_uri": "https://localhost:8080/",
          "height": 519
        },
        "outputId": "54c40296-fb22-4059-dbee-50bb521b9708"
      },
      "source": [
        "predict_model(rf)"
      ],
      "execution_count": 80,
      "outputs": [
        {
          "output_type": "display_data",
          "data": {
            "text/html": [
              "<div>\n",
              "<style scoped>\n",
              "    .dataframe tbody tr th:only-of-type {\n",
              "        vertical-align: middle;\n",
              "    }\n",
              "\n",
              "    .dataframe tbody tr th {\n",
              "        vertical-align: top;\n",
              "    }\n",
              "\n",
              "    .dataframe thead th {\n",
              "        text-align: right;\n",
              "    }\n",
              "</style>\n",
              "<table border=\"1\" class=\"dataframe\">\n",
              "  <thead>\n",
              "    <tr style=\"text-align: right;\">\n",
              "      <th></th>\n",
              "      <th>Model</th>\n",
              "      <th>MAE</th>\n",
              "      <th>MSE</th>\n",
              "      <th>RMSE</th>\n",
              "      <th>R2</th>\n",
              "      <th>RMSLE</th>\n",
              "      <th>MAPE</th>\n",
              "    </tr>\n",
              "  </thead>\n",
              "  <tbody>\n",
              "    <tr>\n",
              "      <th>0</th>\n",
              "      <td>Random Forest Regressor</td>\n",
              "      <td>40.0699</td>\n",
              "      <td>9456.0762</td>\n",
              "      <td>97.2424</td>\n",
              "      <td>0.2715</td>\n",
              "      <td>0.4106</td>\n",
              "      <td>0.3667</td>\n",
              "    </tr>\n",
              "  </tbody>\n",
              "</table>\n",
              "</div>"
            ],
            "text/plain": [
              "                     Model      MAE        MSE     RMSE      R2   RMSLE    MAPE\n",
              "0  Random Forest Regressor  40.0699  9456.0762  97.2424  0.2715  0.4106  0.3667"
            ]
          },
          "metadata": {
            "tags": []
          }
        },
        {
          "output_type": "execute_result",
          "data": {
            "text/html": [
              "<div>\n",
              "<style scoped>\n",
              "    .dataframe tbody tr th:only-of-type {\n",
              "        vertical-align: middle;\n",
              "    }\n",
              "\n",
              "    .dataframe tbody tr th {\n",
              "        vertical-align: top;\n",
              "    }\n",
              "\n",
              "    .dataframe thead th {\n",
              "        text-align: right;\n",
              "    }\n",
              "</style>\n",
              "<table border=\"1\" class=\"dataframe\">\n",
              "  <thead>\n",
              "    <tr style=\"text-align: right;\">\n",
              "      <th></th>\n",
              "      <th>reviews</th>\n",
              "      <th>overall_satisfaction</th>\n",
              "      <th>accommodates</th>\n",
              "      <th>bedrooms</th>\n",
              "      <th>bathrooms</th>\n",
              "      <th>latitude</th>\n",
              "      <th>longitude</th>\n",
              "      <th>lda_topic_0</th>\n",
              "      <th>lda_topic_1</th>\n",
              "      <th>lda_topic_2</th>\n",
              "      <th>lda_topic_3</th>\n",
              "      <th>lda_topic_4</th>\n",
              "      <th>room_type_Entire home/apt</th>\n",
              "      <th>room_type_Private room</th>\n",
              "      <th>room_type_Shared room</th>\n",
              "      <th>currency_USD</th>\n",
              "      <th>rate_type_nightly</th>\n",
              "      <th>price</th>\n",
              "      <th>Label</th>\n",
              "    </tr>\n",
              "  </thead>\n",
              "  <tbody>\n",
              "    <tr>\n",
              "      <th>0</th>\n",
              "      <td>57.0</td>\n",
              "      <td>5.000000</td>\n",
              "      <td>4.0</td>\n",
              "      <td>1.0</td>\n",
              "      <td>1.0</td>\n",
              "      <td>47.598509</td>\n",
              "      <td>-122.296287</td>\n",
              "      <td>0.110880</td>\n",
              "      <td>0.103946</td>\n",
              "      <td>0.147280</td>\n",
              "      <td>0.534676</td>\n",
              "      <td>0.103218</td>\n",
              "      <td>1.0</td>\n",
              "      <td>0.0</td>\n",
              "      <td>0.0</td>\n",
              "      <td>1.0</td>\n",
              "      <td>1.0</td>\n",
              "      <td>50</td>\n",
              "      <td>100.38</td>\n",
              "    </tr>\n",
              "    <tr>\n",
              "      <th>1</th>\n",
              "      <td>128.0</td>\n",
              "      <td>5.000000</td>\n",
              "      <td>6.0</td>\n",
              "      <td>1.0</td>\n",
              "      <td>1.0</td>\n",
              "      <td>47.606454</td>\n",
              "      <td>-122.309273</td>\n",
              "      <td>0.129107</td>\n",
              "      <td>0.105157</td>\n",
              "      <td>0.558850</td>\n",
              "      <td>0.103083</td>\n",
              "      <td>0.103802</td>\n",
              "      <td>1.0</td>\n",
              "      <td>0.0</td>\n",
              "      <td>0.0</td>\n",
              "      <td>1.0</td>\n",
              "      <td>1.0</td>\n",
              "      <td>70</td>\n",
              "      <td>95.51</td>\n",
              "    </tr>\n",
              "    <tr>\n",
              "      <th>2</th>\n",
              "      <td>101.0</td>\n",
              "      <td>5.000000</td>\n",
              "      <td>2.0</td>\n",
              "      <td>1.0</td>\n",
              "      <td>1.0</td>\n",
              "      <td>47.661216</td>\n",
              "      <td>-122.357403</td>\n",
              "      <td>0.124902</td>\n",
              "      <td>0.103507</td>\n",
              "      <td>0.566951</td>\n",
              "      <td>0.101223</td>\n",
              "      <td>0.103416</td>\n",
              "      <td>1.0</td>\n",
              "      <td>0.0</td>\n",
              "      <td>0.0</td>\n",
              "      <td>1.0</td>\n",
              "      <td>1.0</td>\n",
              "      <td>75</td>\n",
              "      <td>101.93</td>\n",
              "    </tr>\n",
              "    <tr>\n",
              "      <th>3</th>\n",
              "      <td>38.0</td>\n",
              "      <td>5.000000</td>\n",
              "      <td>4.0</td>\n",
              "      <td>1.0</td>\n",
              "      <td>1.0</td>\n",
              "      <td>47.639051</td>\n",
              "      <td>-122.325245</td>\n",
              "      <td>0.122244</td>\n",
              "      <td>0.105268</td>\n",
              "      <td>0.563071</td>\n",
              "      <td>0.104979</td>\n",
              "      <td>0.104438</td>\n",
              "      <td>1.0</td>\n",
              "      <td>0.0</td>\n",
              "      <td>0.0</td>\n",
              "      <td>1.0</td>\n",
              "      <td>1.0</td>\n",
              "      <td>135</td>\n",
              "      <td>108.20</td>\n",
              "    </tr>\n",
              "    <tr>\n",
              "      <th>4</th>\n",
              "      <td>287.0</td>\n",
              "      <td>5.000000</td>\n",
              "      <td>3.0</td>\n",
              "      <td>0.0</td>\n",
              "      <td>1.0</td>\n",
              "      <td>47.554861</td>\n",
              "      <td>-122.383546</td>\n",
              "      <td>0.118753</td>\n",
              "      <td>0.103141</td>\n",
              "      <td>0.573954</td>\n",
              "      <td>0.101051</td>\n",
              "      <td>0.103101</td>\n",
              "      <td>1.0</td>\n",
              "      <td>0.0</td>\n",
              "      <td>0.0</td>\n",
              "      <td>1.0</td>\n",
              "      <td>1.0</td>\n",
              "      <td>79</td>\n",
              "      <td>78.32</td>\n",
              "    </tr>\n",
              "    <tr>\n",
              "      <th>...</th>\n",
              "      <td>...</td>\n",
              "      <td>...</td>\n",
              "      <td>...</td>\n",
              "      <td>...</td>\n",
              "      <td>...</td>\n",
              "      <td>...</td>\n",
              "      <td>...</td>\n",
              "      <td>...</td>\n",
              "      <td>...</td>\n",
              "      <td>...</td>\n",
              "      <td>...</td>\n",
              "      <td>...</td>\n",
              "      <td>...</td>\n",
              "      <td>...</td>\n",
              "      <td>...</td>\n",
              "      <td>...</td>\n",
              "      <td>...</td>\n",
              "      <td>...</td>\n",
              "      <td>...</td>\n",
              "    </tr>\n",
              "    <tr>\n",
              "      <th>2268</th>\n",
              "      <td>4.0</td>\n",
              "      <td>4.500000</td>\n",
              "      <td>2.0</td>\n",
              "      <td>1.0</td>\n",
              "      <td>1.5</td>\n",
              "      <td>47.693315</td>\n",
              "      <td>-122.377773</td>\n",
              "      <td>0.127465</td>\n",
              "      <td>0.103485</td>\n",
              "      <td>0.564330</td>\n",
              "      <td>0.101327</td>\n",
              "      <td>0.103394</td>\n",
              "      <td>0.0</td>\n",
              "      <td>1.0</td>\n",
              "      <td>0.0</td>\n",
              "      <td>1.0</td>\n",
              "      <td>1.0</td>\n",
              "      <td>45</td>\n",
              "      <td>71.77</td>\n",
              "    </tr>\n",
              "    <tr>\n",
              "      <th>2269</th>\n",
              "      <td>262.0</td>\n",
              "      <td>5.000000</td>\n",
              "      <td>2.0</td>\n",
              "      <td>0.0</td>\n",
              "      <td>1.0</td>\n",
              "      <td>47.620133</td>\n",
              "      <td>-122.316285</td>\n",
              "      <td>0.550529</td>\n",
              "      <td>0.101949</td>\n",
              "      <td>0.144156</td>\n",
              "      <td>0.101899</td>\n",
              "      <td>0.101468</td>\n",
              "      <td>1.0</td>\n",
              "      <td>0.0</td>\n",
              "      <td>0.0</td>\n",
              "      <td>1.0</td>\n",
              "      <td>1.0</td>\n",
              "      <td>62</td>\n",
              "      <td>60.71</td>\n",
              "    </tr>\n",
              "    <tr>\n",
              "      <th>2270</th>\n",
              "      <td>23.0</td>\n",
              "      <td>5.000000</td>\n",
              "      <td>2.0</td>\n",
              "      <td>1.0</td>\n",
              "      <td>1.0</td>\n",
              "      <td>47.671630</td>\n",
              "      <td>-122.385023</td>\n",
              "      <td>0.125442</td>\n",
              "      <td>0.105088</td>\n",
              "      <td>0.562695</td>\n",
              "      <td>0.103048</td>\n",
              "      <td>0.103727</td>\n",
              "      <td>1.0</td>\n",
              "      <td>0.0</td>\n",
              "      <td>0.0</td>\n",
              "      <td>1.0</td>\n",
              "      <td>1.0</td>\n",
              "      <td>95</td>\n",
              "      <td>99.14</td>\n",
              "    </tr>\n",
              "    <tr>\n",
              "      <th>2271</th>\n",
              "      <td>28.0</td>\n",
              "      <td>5.000000</td>\n",
              "      <td>2.0</td>\n",
              "      <td>1.0</td>\n",
              "      <td>1.0</td>\n",
              "      <td>47.515423</td>\n",
              "      <td>-122.365840</td>\n",
              "      <td>0.118889</td>\n",
              "      <td>0.103119</td>\n",
              "      <td>0.573874</td>\n",
              "      <td>0.101029</td>\n",
              "      <td>0.103089</td>\n",
              "      <td>0.0</td>\n",
              "      <td>1.0</td>\n",
              "      <td>0.0</td>\n",
              "      <td>1.0</td>\n",
              "      <td>1.0</td>\n",
              "      <td>50</td>\n",
              "      <td>50.03</td>\n",
              "    </tr>\n",
              "    <tr>\n",
              "      <th>2272</th>\n",
              "      <td>0.0</td>\n",
              "      <td>4.841226</td>\n",
              "      <td>4.0</td>\n",
              "      <td>3.0</td>\n",
              "      <td>2.0</td>\n",
              "      <td>47.619494</td>\n",
              "      <td>-122.121157</td>\n",
              "      <td>0.133406</td>\n",
              "      <td>0.102848</td>\n",
              "      <td>0.558663</td>\n",
              "      <td>0.102196</td>\n",
              "      <td>0.102887</td>\n",
              "      <td>1.0</td>\n",
              "      <td>0.0</td>\n",
              "      <td>0.0</td>\n",
              "      <td>1.0</td>\n",
              "      <td>1.0</td>\n",
              "      <td>94</td>\n",
              "      <td>207.26</td>\n",
              "    </tr>\n",
              "  </tbody>\n",
              "</table>\n",
              "<p>2273 rows × 19 columns</p>\n",
              "</div>"
            ],
            "text/plain": [
              "      reviews  overall_satisfaction  ...  price   Label\n",
              "0        57.0              5.000000  ...     50  100.38\n",
              "1       128.0              5.000000  ...     70   95.51\n",
              "2       101.0              5.000000  ...     75  101.93\n",
              "3        38.0              5.000000  ...    135  108.20\n",
              "4       287.0              5.000000  ...     79   78.32\n",
              "...       ...                   ...  ...    ...     ...\n",
              "2268      4.0              4.500000  ...     45   71.77\n",
              "2269    262.0              5.000000  ...     62   60.71\n",
              "2270     23.0              5.000000  ...     95   99.14\n",
              "2271     28.0              5.000000  ...     50   50.03\n",
              "2272      0.0              4.841226  ...     94  207.26\n",
              "\n",
              "[2273 rows x 19 columns]"
            ]
          },
          "metadata": {
            "tags": []
          },
          "execution_count": 80
        }
      ]
    },
    {
      "cell_type": "code",
      "metadata": {
        "id": "L4vUzAfw5gbB",
        "colab_type": "code",
        "colab": {}
      },
      "source": [
        ""
      ],
      "execution_count": null,
      "outputs": []
    }
  ]
}