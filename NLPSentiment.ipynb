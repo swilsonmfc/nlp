{
  "nbformat": 4,
  "nbformat_minor": 0,
  "metadata": {
    "colab": {
      "name": "NLPSentiment.ipynb",
      "provenance": [],
      "collapsed_sections": [],
      "toc_visible": true,
      "authorship_tag": "ABX9TyOpHHoOKtjlD+HcjgS6Mhu5",
      "include_colab_link": true
    },
    "kernelspec": {
      "name": "python3",
      "display_name": "Python 3"
    },
    "accelerator": "GPU",
    "widgets": {
      "application/vnd.jupyter.widget-state+json": {
        "bd400e0315b34e2e99496ae86ced83a8": {
          "model_module": "@jupyter-widgets/controls",
          "model_name": "HBoxModel",
          "state": {
            "_view_name": "HBoxView",
            "_dom_classes": [],
            "_model_name": "HBoxModel",
            "_view_module": "@jupyter-widgets/controls",
            "_model_module_version": "1.5.0",
            "_view_count": null,
            "_view_module_version": "1.5.0",
            "box_style": "",
            "layout": "IPY_MODEL_0a87bc856c644da3998ab45b476402b8",
            "_model_module": "@jupyter-widgets/controls",
            "children": [
              "IPY_MODEL_6d850879da35478db0aa4d533cebb57a",
              "IPY_MODEL_c1ce2caf699f4c3293dfaab95a8e820b"
            ]
          }
        },
        "0a87bc856c644da3998ab45b476402b8": {
          "model_module": "@jupyter-widgets/base",
          "model_name": "LayoutModel",
          "state": {
            "_view_name": "LayoutView",
            "grid_template_rows": null,
            "right": null,
            "justify_content": null,
            "_view_module": "@jupyter-widgets/base",
            "overflow": null,
            "_model_module_version": "1.2.0",
            "_view_count": null,
            "flex_flow": null,
            "width": null,
            "min_width": null,
            "border": null,
            "align_items": null,
            "bottom": null,
            "_model_module": "@jupyter-widgets/base",
            "top": null,
            "grid_column": null,
            "overflow_y": null,
            "overflow_x": null,
            "grid_auto_flow": null,
            "grid_area": null,
            "grid_template_columns": null,
            "flex": null,
            "_model_name": "LayoutModel",
            "justify_items": null,
            "grid_row": null,
            "max_height": null,
            "align_content": null,
            "visibility": null,
            "align_self": null,
            "height": null,
            "min_height": null,
            "padding": null,
            "grid_auto_rows": null,
            "grid_gap": null,
            "max_width": null,
            "order": null,
            "_view_module_version": "1.2.0",
            "grid_template_areas": null,
            "object_position": null,
            "object_fit": null,
            "grid_auto_columns": null,
            "margin": null,
            "display": null,
            "left": null
          }
        },
        "6d850879da35478db0aa4d533cebb57a": {
          "model_module": "@jupyter-widgets/controls",
          "model_name": "FloatProgressModel",
          "state": {
            "_view_name": "ProgressView",
            "style": "IPY_MODEL_37b9d3a50d314ad9a50e95bce5338657",
            "_dom_classes": [],
            "description": "Downloading: 100%",
            "_model_name": "FloatProgressModel",
            "bar_style": "success",
            "max": 629,
            "_view_module": "@jupyter-widgets/controls",
            "_model_module_version": "1.5.0",
            "value": 629,
            "_view_count": null,
            "_view_module_version": "1.5.0",
            "orientation": "horizontal",
            "min": 0,
            "description_tooltip": null,
            "_model_module": "@jupyter-widgets/controls",
            "layout": "IPY_MODEL_9dc25d18bb22449bae724f3d99feef06"
          }
        },
        "c1ce2caf699f4c3293dfaab95a8e820b": {
          "model_module": "@jupyter-widgets/controls",
          "model_name": "HTMLModel",
          "state": {
            "_view_name": "HTMLView",
            "style": "IPY_MODEL_f45cd5b1987d4d3d9d52fe4975267b7a",
            "_dom_classes": [],
            "description": "",
            "_model_name": "HTMLModel",
            "placeholder": "​",
            "_view_module": "@jupyter-widgets/controls",
            "_model_module_version": "1.5.0",
            "value": " 629/629 [00:02&lt;00:00, 237B/s]",
            "_view_count": null,
            "_view_module_version": "1.5.0",
            "description_tooltip": null,
            "_model_module": "@jupyter-widgets/controls",
            "layout": "IPY_MODEL_8519a946562443efadfe98ab84d8c4a1"
          }
        },
        "37b9d3a50d314ad9a50e95bce5338657": {
          "model_module": "@jupyter-widgets/controls",
          "model_name": "ProgressStyleModel",
          "state": {
            "_view_name": "StyleView",
            "_model_name": "ProgressStyleModel",
            "description_width": "initial",
            "_view_module": "@jupyter-widgets/base",
            "_model_module_version": "1.5.0",
            "_view_count": null,
            "_view_module_version": "1.2.0",
            "bar_color": null,
            "_model_module": "@jupyter-widgets/controls"
          }
        },
        "9dc25d18bb22449bae724f3d99feef06": {
          "model_module": "@jupyter-widgets/base",
          "model_name": "LayoutModel",
          "state": {
            "_view_name": "LayoutView",
            "grid_template_rows": null,
            "right": null,
            "justify_content": null,
            "_view_module": "@jupyter-widgets/base",
            "overflow": null,
            "_model_module_version": "1.2.0",
            "_view_count": null,
            "flex_flow": null,
            "width": null,
            "min_width": null,
            "border": null,
            "align_items": null,
            "bottom": null,
            "_model_module": "@jupyter-widgets/base",
            "top": null,
            "grid_column": null,
            "overflow_y": null,
            "overflow_x": null,
            "grid_auto_flow": null,
            "grid_area": null,
            "grid_template_columns": null,
            "flex": null,
            "_model_name": "LayoutModel",
            "justify_items": null,
            "grid_row": null,
            "max_height": null,
            "align_content": null,
            "visibility": null,
            "align_self": null,
            "height": null,
            "min_height": null,
            "padding": null,
            "grid_auto_rows": null,
            "grid_gap": null,
            "max_width": null,
            "order": null,
            "_view_module_version": "1.2.0",
            "grid_template_areas": null,
            "object_position": null,
            "object_fit": null,
            "grid_auto_columns": null,
            "margin": null,
            "display": null,
            "left": null
          }
        },
        "f45cd5b1987d4d3d9d52fe4975267b7a": {
          "model_module": "@jupyter-widgets/controls",
          "model_name": "DescriptionStyleModel",
          "state": {
            "_view_name": "StyleView",
            "_model_name": "DescriptionStyleModel",
            "description_width": "",
            "_view_module": "@jupyter-widgets/base",
            "_model_module_version": "1.5.0",
            "_view_count": null,
            "_view_module_version": "1.2.0",
            "_model_module": "@jupyter-widgets/controls"
          }
        },
        "8519a946562443efadfe98ab84d8c4a1": {
          "model_module": "@jupyter-widgets/base",
          "model_name": "LayoutModel",
          "state": {
            "_view_name": "LayoutView",
            "grid_template_rows": null,
            "right": null,
            "justify_content": null,
            "_view_module": "@jupyter-widgets/base",
            "overflow": null,
            "_model_module_version": "1.2.0",
            "_view_count": null,
            "flex_flow": null,
            "width": null,
            "min_width": null,
            "border": null,
            "align_items": null,
            "bottom": null,
            "_model_module": "@jupyter-widgets/base",
            "top": null,
            "grid_column": null,
            "overflow_y": null,
            "overflow_x": null,
            "grid_auto_flow": null,
            "grid_area": null,
            "grid_template_columns": null,
            "flex": null,
            "_model_name": "LayoutModel",
            "justify_items": null,
            "grid_row": null,
            "max_height": null,
            "align_content": null,
            "visibility": null,
            "align_self": null,
            "height": null,
            "min_height": null,
            "padding": null,
            "grid_auto_rows": null,
            "grid_gap": null,
            "max_width": null,
            "order": null,
            "_view_module_version": "1.2.0",
            "grid_template_areas": null,
            "object_position": null,
            "object_fit": null,
            "grid_auto_columns": null,
            "margin": null,
            "display": null,
            "left": null
          }
        },
        "20785445f4b346a4934c36003e6ad72f": {
          "model_module": "@jupyter-widgets/controls",
          "model_name": "HBoxModel",
          "state": {
            "_view_name": "HBoxView",
            "_dom_classes": [],
            "_model_name": "HBoxModel",
            "_view_module": "@jupyter-widgets/controls",
            "_model_module_version": "1.5.0",
            "_view_count": null,
            "_view_module_version": "1.5.0",
            "box_style": "",
            "layout": "IPY_MODEL_cce88e6424c3481792100bb8be112663",
            "_model_module": "@jupyter-widgets/controls",
            "children": [
              "IPY_MODEL_1b8396ec6cec4f4ba25487e4a482be33",
              "IPY_MODEL_3dfbb6e7400d46a3b51baa031e76a85f"
            ]
          }
        },
        "cce88e6424c3481792100bb8be112663": {
          "model_module": "@jupyter-widgets/base",
          "model_name": "LayoutModel",
          "state": {
            "_view_name": "LayoutView",
            "grid_template_rows": null,
            "right": null,
            "justify_content": null,
            "_view_module": "@jupyter-widgets/base",
            "overflow": null,
            "_model_module_version": "1.2.0",
            "_view_count": null,
            "flex_flow": null,
            "width": null,
            "min_width": null,
            "border": null,
            "align_items": null,
            "bottom": null,
            "_model_module": "@jupyter-widgets/base",
            "top": null,
            "grid_column": null,
            "overflow_y": null,
            "overflow_x": null,
            "grid_auto_flow": null,
            "grid_area": null,
            "grid_template_columns": null,
            "flex": null,
            "_model_name": "LayoutModel",
            "justify_items": null,
            "grid_row": null,
            "max_height": null,
            "align_content": null,
            "visibility": null,
            "align_self": null,
            "height": null,
            "min_height": null,
            "padding": null,
            "grid_auto_rows": null,
            "grid_gap": null,
            "max_width": null,
            "order": null,
            "_view_module_version": "1.2.0",
            "grid_template_areas": null,
            "object_position": null,
            "object_fit": null,
            "grid_auto_columns": null,
            "margin": null,
            "display": null,
            "left": null
          }
        },
        "1b8396ec6cec4f4ba25487e4a482be33": {
          "model_module": "@jupyter-widgets/controls",
          "model_name": "FloatProgressModel",
          "state": {
            "_view_name": "ProgressView",
            "style": "IPY_MODEL_ee4688b94b354c9d8254b6d6a667aa89",
            "_dom_classes": [],
            "description": "Downloading: 100%",
            "_model_name": "FloatProgressModel",
            "bar_style": "success",
            "max": 231508,
            "_view_module": "@jupyter-widgets/controls",
            "_model_module_version": "1.5.0",
            "value": 231508,
            "_view_count": null,
            "_view_module_version": "1.5.0",
            "orientation": "horizontal",
            "min": 0,
            "description_tooltip": null,
            "_model_module": "@jupyter-widgets/controls",
            "layout": "IPY_MODEL_becd019b6f5b4c20a9b2067a1d562a90"
          }
        },
        "3dfbb6e7400d46a3b51baa031e76a85f": {
          "model_module": "@jupyter-widgets/controls",
          "model_name": "HTMLModel",
          "state": {
            "_view_name": "HTMLView",
            "style": "IPY_MODEL_7caf595417e14a079ac914433bdbfb9b",
            "_dom_classes": [],
            "description": "",
            "_model_name": "HTMLModel",
            "placeholder": "​",
            "_view_module": "@jupyter-widgets/controls",
            "_model_module_version": "1.5.0",
            "value": " 232k/232k [00:01&lt;00:00, 126kB/s]",
            "_view_count": null,
            "_view_module_version": "1.5.0",
            "description_tooltip": null,
            "_model_module": "@jupyter-widgets/controls",
            "layout": "IPY_MODEL_a0f566d2c8544a7ba52e7be8b224b523"
          }
        },
        "ee4688b94b354c9d8254b6d6a667aa89": {
          "model_module": "@jupyter-widgets/controls",
          "model_name": "ProgressStyleModel",
          "state": {
            "_view_name": "StyleView",
            "_model_name": "ProgressStyleModel",
            "description_width": "initial",
            "_view_module": "@jupyter-widgets/base",
            "_model_module_version": "1.5.0",
            "_view_count": null,
            "_view_module_version": "1.2.0",
            "bar_color": null,
            "_model_module": "@jupyter-widgets/controls"
          }
        },
        "becd019b6f5b4c20a9b2067a1d562a90": {
          "model_module": "@jupyter-widgets/base",
          "model_name": "LayoutModel",
          "state": {
            "_view_name": "LayoutView",
            "grid_template_rows": null,
            "right": null,
            "justify_content": null,
            "_view_module": "@jupyter-widgets/base",
            "overflow": null,
            "_model_module_version": "1.2.0",
            "_view_count": null,
            "flex_flow": null,
            "width": null,
            "min_width": null,
            "border": null,
            "align_items": null,
            "bottom": null,
            "_model_module": "@jupyter-widgets/base",
            "top": null,
            "grid_column": null,
            "overflow_y": null,
            "overflow_x": null,
            "grid_auto_flow": null,
            "grid_area": null,
            "grid_template_columns": null,
            "flex": null,
            "_model_name": "LayoutModel",
            "justify_items": null,
            "grid_row": null,
            "max_height": null,
            "align_content": null,
            "visibility": null,
            "align_self": null,
            "height": null,
            "min_height": null,
            "padding": null,
            "grid_auto_rows": null,
            "grid_gap": null,
            "max_width": null,
            "order": null,
            "_view_module_version": "1.2.0",
            "grid_template_areas": null,
            "object_position": null,
            "object_fit": null,
            "grid_auto_columns": null,
            "margin": null,
            "display": null,
            "left": null
          }
        },
        "7caf595417e14a079ac914433bdbfb9b": {
          "model_module": "@jupyter-widgets/controls",
          "model_name": "DescriptionStyleModel",
          "state": {
            "_view_name": "StyleView",
            "_model_name": "DescriptionStyleModel",
            "description_width": "",
            "_view_module": "@jupyter-widgets/base",
            "_model_module_version": "1.5.0",
            "_view_count": null,
            "_view_module_version": "1.2.0",
            "_model_module": "@jupyter-widgets/controls"
          }
        },
        "a0f566d2c8544a7ba52e7be8b224b523": {
          "model_module": "@jupyter-widgets/base",
          "model_name": "LayoutModel",
          "state": {
            "_view_name": "LayoutView",
            "grid_template_rows": null,
            "right": null,
            "justify_content": null,
            "_view_module": "@jupyter-widgets/base",
            "overflow": null,
            "_model_module_version": "1.2.0",
            "_view_count": null,
            "flex_flow": null,
            "width": null,
            "min_width": null,
            "border": null,
            "align_items": null,
            "bottom": null,
            "_model_module": "@jupyter-widgets/base",
            "top": null,
            "grid_column": null,
            "overflow_y": null,
            "overflow_x": null,
            "grid_auto_flow": null,
            "grid_area": null,
            "grid_template_columns": null,
            "flex": null,
            "_model_name": "LayoutModel",
            "justify_items": null,
            "grid_row": null,
            "max_height": null,
            "align_content": null,
            "visibility": null,
            "align_self": null,
            "height": null,
            "min_height": null,
            "padding": null,
            "grid_auto_rows": null,
            "grid_gap": null,
            "max_width": null,
            "order": null,
            "_view_module_version": "1.2.0",
            "grid_template_areas": null,
            "object_position": null,
            "object_fit": null,
            "grid_auto_columns": null,
            "margin": null,
            "display": null,
            "left": null
          }
        },
        "a2df5d055e7c4eb3aca346b23c3096e1": {
          "model_module": "@jupyter-widgets/controls",
          "model_name": "HBoxModel",
          "state": {
            "_view_name": "HBoxView",
            "_dom_classes": [],
            "_model_name": "HBoxModel",
            "_view_module": "@jupyter-widgets/controls",
            "_model_module_version": "1.5.0",
            "_view_count": null,
            "_view_module_version": "1.5.0",
            "box_style": "",
            "layout": "IPY_MODEL_5a1ce277eadf410b8003f56e7bfd0540",
            "_model_module": "@jupyter-widgets/controls",
            "children": [
              "IPY_MODEL_3de9250daf7a4f6d83f8be9c84f375fb",
              "IPY_MODEL_3dcddafc4238420cb5133d3cd36f052a"
            ]
          }
        },
        "5a1ce277eadf410b8003f56e7bfd0540": {
          "model_module": "@jupyter-widgets/base",
          "model_name": "LayoutModel",
          "state": {
            "_view_name": "LayoutView",
            "grid_template_rows": null,
            "right": null,
            "justify_content": null,
            "_view_module": "@jupyter-widgets/base",
            "overflow": null,
            "_model_module_version": "1.2.0",
            "_view_count": null,
            "flex_flow": null,
            "width": null,
            "min_width": null,
            "border": null,
            "align_items": null,
            "bottom": null,
            "_model_module": "@jupyter-widgets/base",
            "top": null,
            "grid_column": null,
            "overflow_y": null,
            "overflow_x": null,
            "grid_auto_flow": null,
            "grid_area": null,
            "grid_template_columns": null,
            "flex": null,
            "_model_name": "LayoutModel",
            "justify_items": null,
            "grid_row": null,
            "max_height": null,
            "align_content": null,
            "visibility": null,
            "align_self": null,
            "height": null,
            "min_height": null,
            "padding": null,
            "grid_auto_rows": null,
            "grid_gap": null,
            "max_width": null,
            "order": null,
            "_view_module_version": "1.2.0",
            "grid_template_areas": null,
            "object_position": null,
            "object_fit": null,
            "grid_auto_columns": null,
            "margin": null,
            "display": null,
            "left": null
          }
        },
        "3de9250daf7a4f6d83f8be9c84f375fb": {
          "model_module": "@jupyter-widgets/controls",
          "model_name": "FloatProgressModel",
          "state": {
            "_view_name": "ProgressView",
            "style": "IPY_MODEL_b3927722348f43d9bfaa3d6f88071a43",
            "_dom_classes": [],
            "description": "Downloading: 100%",
            "_model_name": "FloatProgressModel",
            "bar_style": "success",
            "max": 230,
            "_view_module": "@jupyter-widgets/controls",
            "_model_module_version": "1.5.0",
            "value": 230,
            "_view_count": null,
            "_view_module_version": "1.5.0",
            "orientation": "horizontal",
            "min": 0,
            "description_tooltip": null,
            "_model_module": "@jupyter-widgets/controls",
            "layout": "IPY_MODEL_4d06152fb220492483b138c2751e1834"
          }
        },
        "3dcddafc4238420cb5133d3cd36f052a": {
          "model_module": "@jupyter-widgets/controls",
          "model_name": "HTMLModel",
          "state": {
            "_view_name": "HTMLView",
            "style": "IPY_MODEL_548b2817d6f34724b8bbfa082ee8430a",
            "_dom_classes": [],
            "description": "",
            "_model_name": "HTMLModel",
            "placeholder": "​",
            "_view_module": "@jupyter-widgets/controls",
            "_model_module_version": "1.5.0",
            "value": " 230/230 [00:04&lt;00:00, 53.1B/s]",
            "_view_count": null,
            "_view_module_version": "1.5.0",
            "description_tooltip": null,
            "_model_module": "@jupyter-widgets/controls",
            "layout": "IPY_MODEL_98a99a1567c94e7f93212e1d1b64fbf4"
          }
        },
        "b3927722348f43d9bfaa3d6f88071a43": {
          "model_module": "@jupyter-widgets/controls",
          "model_name": "ProgressStyleModel",
          "state": {
            "_view_name": "StyleView",
            "_model_name": "ProgressStyleModel",
            "description_width": "initial",
            "_view_module": "@jupyter-widgets/base",
            "_model_module_version": "1.5.0",
            "_view_count": null,
            "_view_module_version": "1.2.0",
            "bar_color": null,
            "_model_module": "@jupyter-widgets/controls"
          }
        },
        "4d06152fb220492483b138c2751e1834": {
          "model_module": "@jupyter-widgets/base",
          "model_name": "LayoutModel",
          "state": {
            "_view_name": "LayoutView",
            "grid_template_rows": null,
            "right": null,
            "justify_content": null,
            "_view_module": "@jupyter-widgets/base",
            "overflow": null,
            "_model_module_version": "1.2.0",
            "_view_count": null,
            "flex_flow": null,
            "width": null,
            "min_width": null,
            "border": null,
            "align_items": null,
            "bottom": null,
            "_model_module": "@jupyter-widgets/base",
            "top": null,
            "grid_column": null,
            "overflow_y": null,
            "overflow_x": null,
            "grid_auto_flow": null,
            "grid_area": null,
            "grid_template_columns": null,
            "flex": null,
            "_model_name": "LayoutModel",
            "justify_items": null,
            "grid_row": null,
            "max_height": null,
            "align_content": null,
            "visibility": null,
            "align_self": null,
            "height": null,
            "min_height": null,
            "padding": null,
            "grid_auto_rows": null,
            "grid_gap": null,
            "max_width": null,
            "order": null,
            "_view_module_version": "1.2.0",
            "grid_template_areas": null,
            "object_position": null,
            "object_fit": null,
            "grid_auto_columns": null,
            "margin": null,
            "display": null,
            "left": null
          }
        },
        "548b2817d6f34724b8bbfa082ee8430a": {
          "model_module": "@jupyter-widgets/controls",
          "model_name": "DescriptionStyleModel",
          "state": {
            "_view_name": "StyleView",
            "_model_name": "DescriptionStyleModel",
            "description_width": "",
            "_view_module": "@jupyter-widgets/base",
            "_model_module_version": "1.5.0",
            "_view_count": null,
            "_view_module_version": "1.2.0",
            "_model_module": "@jupyter-widgets/controls"
          }
        },
        "98a99a1567c94e7f93212e1d1b64fbf4": {
          "model_module": "@jupyter-widgets/base",
          "model_name": "LayoutModel",
          "state": {
            "_view_name": "LayoutView",
            "grid_template_rows": null,
            "right": null,
            "justify_content": null,
            "_view_module": "@jupyter-widgets/base",
            "overflow": null,
            "_model_module_version": "1.2.0",
            "_view_count": null,
            "flex_flow": null,
            "width": null,
            "min_width": null,
            "border": null,
            "align_items": null,
            "bottom": null,
            "_model_module": "@jupyter-widgets/base",
            "top": null,
            "grid_column": null,
            "overflow_y": null,
            "overflow_x": null,
            "grid_auto_flow": null,
            "grid_area": null,
            "grid_template_columns": null,
            "flex": null,
            "_model_name": "LayoutModel",
            "justify_items": null,
            "grid_row": null,
            "max_height": null,
            "align_content": null,
            "visibility": null,
            "align_self": null,
            "height": null,
            "min_height": null,
            "padding": null,
            "grid_auto_rows": null,
            "grid_gap": null,
            "max_width": null,
            "order": null,
            "_view_module_version": "1.2.0",
            "grid_template_areas": null,
            "object_position": null,
            "object_fit": null,
            "grid_auto_columns": null,
            "margin": null,
            "display": null,
            "left": null
          }
        },
        "039ee65f3a1a437483e78078161b2250": {
          "model_module": "@jupyter-widgets/controls",
          "model_name": "HBoxModel",
          "state": {
            "_view_name": "HBoxView",
            "_dom_classes": [],
            "_model_name": "HBoxModel",
            "_view_module": "@jupyter-widgets/controls",
            "_model_module_version": "1.5.0",
            "_view_count": null,
            "_view_module_version": "1.5.0",
            "box_style": "",
            "layout": "IPY_MODEL_faf9301c404a4699b9de31c2ae7ea20f",
            "_model_module": "@jupyter-widgets/controls",
            "children": [
              "IPY_MODEL_12b4c083c66c4676be515d7e39cc9a4e",
              "IPY_MODEL_06ef427650e94271a5bcfd03765bd108"
            ]
          }
        },
        "faf9301c404a4699b9de31c2ae7ea20f": {
          "model_module": "@jupyter-widgets/base",
          "model_name": "LayoutModel",
          "state": {
            "_view_name": "LayoutView",
            "grid_template_rows": null,
            "right": null,
            "justify_content": null,
            "_view_module": "@jupyter-widgets/base",
            "overflow": null,
            "_model_module_version": "1.2.0",
            "_view_count": null,
            "flex_flow": null,
            "width": null,
            "min_width": null,
            "border": null,
            "align_items": null,
            "bottom": null,
            "_model_module": "@jupyter-widgets/base",
            "top": null,
            "grid_column": null,
            "overflow_y": null,
            "overflow_x": null,
            "grid_auto_flow": null,
            "grid_area": null,
            "grid_template_columns": null,
            "flex": null,
            "_model_name": "LayoutModel",
            "justify_items": null,
            "grid_row": null,
            "max_height": null,
            "align_content": null,
            "visibility": null,
            "align_self": null,
            "height": null,
            "min_height": null,
            "padding": null,
            "grid_auto_rows": null,
            "grid_gap": null,
            "max_width": null,
            "order": null,
            "_view_module_version": "1.2.0",
            "grid_template_areas": null,
            "object_position": null,
            "object_fit": null,
            "grid_auto_columns": null,
            "margin": null,
            "display": null,
            "left": null
          }
        },
        "12b4c083c66c4676be515d7e39cc9a4e": {
          "model_module": "@jupyter-widgets/controls",
          "model_name": "FloatProgressModel",
          "state": {
            "_view_name": "ProgressView",
            "style": "IPY_MODEL_f1bcf9c6d35044dea2a1a5547598ea84",
            "_dom_classes": [],
            "description": "Downloading: 100%",
            "_model_name": "FloatProgressModel",
            "bar_style": "success",
            "max": 267844284,
            "_view_module": "@jupyter-widgets/controls",
            "_model_module_version": "1.5.0",
            "value": 267844284,
            "_view_count": null,
            "_view_module_version": "1.5.0",
            "orientation": "horizontal",
            "min": 0,
            "description_tooltip": null,
            "_model_module": "@jupyter-widgets/controls",
            "layout": "IPY_MODEL_621b576533854be58cdf0c88021c011a"
          }
        },
        "06ef427650e94271a5bcfd03765bd108": {
          "model_module": "@jupyter-widgets/controls",
          "model_name": "HTMLModel",
          "state": {
            "_view_name": "HTMLView",
            "style": "IPY_MODEL_cf6dbdf0fc3d4dc2aab45fa40452a898",
            "_dom_classes": [],
            "description": "",
            "_model_name": "HTMLModel",
            "placeholder": "​",
            "_view_module": "@jupyter-widgets/controls",
            "_model_module_version": "1.5.0",
            "value": " 268M/268M [00:03&lt;00:00, 70.1MB/s]",
            "_view_count": null,
            "_view_module_version": "1.5.0",
            "description_tooltip": null,
            "_model_module": "@jupyter-widgets/controls",
            "layout": "IPY_MODEL_b2f0eac147e645429279accd2a398d31"
          }
        },
        "f1bcf9c6d35044dea2a1a5547598ea84": {
          "model_module": "@jupyter-widgets/controls",
          "model_name": "ProgressStyleModel",
          "state": {
            "_view_name": "StyleView",
            "_model_name": "ProgressStyleModel",
            "description_width": "initial",
            "_view_module": "@jupyter-widgets/base",
            "_model_module_version": "1.5.0",
            "_view_count": null,
            "_view_module_version": "1.2.0",
            "bar_color": null,
            "_model_module": "@jupyter-widgets/controls"
          }
        },
        "621b576533854be58cdf0c88021c011a": {
          "model_module": "@jupyter-widgets/base",
          "model_name": "LayoutModel",
          "state": {
            "_view_name": "LayoutView",
            "grid_template_rows": null,
            "right": null,
            "justify_content": null,
            "_view_module": "@jupyter-widgets/base",
            "overflow": null,
            "_model_module_version": "1.2.0",
            "_view_count": null,
            "flex_flow": null,
            "width": null,
            "min_width": null,
            "border": null,
            "align_items": null,
            "bottom": null,
            "_model_module": "@jupyter-widgets/base",
            "top": null,
            "grid_column": null,
            "overflow_y": null,
            "overflow_x": null,
            "grid_auto_flow": null,
            "grid_area": null,
            "grid_template_columns": null,
            "flex": null,
            "_model_name": "LayoutModel",
            "justify_items": null,
            "grid_row": null,
            "max_height": null,
            "align_content": null,
            "visibility": null,
            "align_self": null,
            "height": null,
            "min_height": null,
            "padding": null,
            "grid_auto_rows": null,
            "grid_gap": null,
            "max_width": null,
            "order": null,
            "_view_module_version": "1.2.0",
            "grid_template_areas": null,
            "object_position": null,
            "object_fit": null,
            "grid_auto_columns": null,
            "margin": null,
            "display": null,
            "left": null
          }
        },
        "cf6dbdf0fc3d4dc2aab45fa40452a898": {
          "model_module": "@jupyter-widgets/controls",
          "model_name": "DescriptionStyleModel",
          "state": {
            "_view_name": "StyleView",
            "_model_name": "DescriptionStyleModel",
            "description_width": "",
            "_view_module": "@jupyter-widgets/base",
            "_model_module_version": "1.5.0",
            "_view_count": null,
            "_view_module_version": "1.2.0",
            "_model_module": "@jupyter-widgets/controls"
          }
        },
        "b2f0eac147e645429279accd2a398d31": {
          "model_module": "@jupyter-widgets/base",
          "model_name": "LayoutModel",
          "state": {
            "_view_name": "LayoutView",
            "grid_template_rows": null,
            "right": null,
            "justify_content": null,
            "_view_module": "@jupyter-widgets/base",
            "overflow": null,
            "_model_module_version": "1.2.0",
            "_view_count": null,
            "flex_flow": null,
            "width": null,
            "min_width": null,
            "border": null,
            "align_items": null,
            "bottom": null,
            "_model_module": "@jupyter-widgets/base",
            "top": null,
            "grid_column": null,
            "overflow_y": null,
            "overflow_x": null,
            "grid_auto_flow": null,
            "grid_area": null,
            "grid_template_columns": null,
            "flex": null,
            "_model_name": "LayoutModel",
            "justify_items": null,
            "grid_row": null,
            "max_height": null,
            "align_content": null,
            "visibility": null,
            "align_self": null,
            "height": null,
            "min_height": null,
            "padding": null,
            "grid_auto_rows": null,
            "grid_gap": null,
            "max_width": null,
            "order": null,
            "_view_module_version": "1.2.0",
            "grid_template_areas": null,
            "object_position": null,
            "object_fit": null,
            "grid_auto_columns": null,
            "margin": null,
            "display": null,
            "left": null
          }
        }
      }
    }
  },
  "cells": [
    {
      "cell_type": "markdown",
      "metadata": {
        "id": "view-in-github",
        "colab_type": "text"
      },
      "source": [
        "<a href=\"https://colab.research.google.com/github/swilsonmfc/nlp/blob/master/NLPSentiment.ipynb\" target=\"_parent\"><img src=\"https://colab.research.google.com/assets/colab-badge.svg\" alt=\"Open In Colab\"/></a>"
      ]
    },
    {
      "cell_type": "markdown",
      "metadata": {
        "id": "goWAGkbgxNVc",
        "colab_type": "text"
      },
      "source": [
        "# Sentiment Analysis\n",
        "![alt text](https://encrypted-tbn0.gstatic.com/images?q=tbn%3AANd9GcS6v4bdyXgHf_Fow30-WcUejmgtEW7wGXDvPg&usqp=CAU)"
      ]
    },
    {
      "cell_type": "markdown",
      "metadata": {
        "id": "qNCI4e5BxVXW",
        "colab_type": "text"
      },
      "source": [
        "# Setup"
      ]
    },
    {
      "cell_type": "code",
      "metadata": {
        "id": "HV9F5Cv2ySlV",
        "colab_type": "code",
        "colab": {
          "base_uri": "https://localhost:8080/",
          "height": 615
        },
        "outputId": "912a9f44-45f3-441c-cec3-6f20b4c0b385"
      },
      "source": [
        "pip install transformers"
      ],
      "execution_count": 1,
      "outputs": [
        {
          "output_type": "stream",
          "text": [
            "Collecting transformers\n",
            "\u001b[?25l  Downloading https://files.pythonhosted.org/packages/27/3c/91ed8f5c4e7ef3227b4119200fc0ed4b4fd965b1f0172021c25701087825/transformers-3.0.2-py3-none-any.whl (769kB)\n",
            "\r\u001b[K     |▍                               | 10kB 5.9MB/s eta 0:00:01\r\u001b[K     |▉                               | 20kB 3.8MB/s eta 0:00:01\r\u001b[K     |█▎                              | 30kB 5.0MB/s eta 0:00:01\r\u001b[K     |█▊                              | 40kB 4.6MB/s eta 0:00:01\r\u001b[K     |██▏                             | 51kB 5.5MB/s eta 0:00:01\r\u001b[K     |██▋                             | 61kB 6.5MB/s eta 0:00:01\r\u001b[K     |███                             | 71kB 6.7MB/s eta 0:00:01\r\u001b[K     |███▍                            | 81kB 7.4MB/s eta 0:00:01\r\u001b[K     |███▉                            | 92kB 7.1MB/s eta 0:00:01\r\u001b[K     |████▎                           | 102kB 7.4MB/s eta 0:00:01\r\u001b[K     |████▊                           | 112kB 7.4MB/s eta 0:00:01\r\u001b[K     |█████▏                          | 122kB 7.4MB/s eta 0:00:01\r\u001b[K     |█████▌                          | 133kB 7.4MB/s eta 0:00:01\r\u001b[K     |██████                          | 143kB 7.4MB/s eta 0:00:01\r\u001b[K     |██████▍                         | 153kB 7.4MB/s eta 0:00:01\r\u001b[K     |██████▉                         | 163kB 7.4MB/s eta 0:00:01\r\u001b[K     |███████▎                        | 174kB 7.4MB/s eta 0:00:01\r\u001b[K     |███████▊                        | 184kB 7.4MB/s eta 0:00:01\r\u001b[K     |████████                        | 194kB 7.4MB/s eta 0:00:01\r\u001b[K     |████████▌                       | 204kB 7.4MB/s eta 0:00:01\r\u001b[K     |█████████                       | 215kB 7.4MB/s eta 0:00:01\r\u001b[K     |█████████▍                      | 225kB 7.4MB/s eta 0:00:01\r\u001b[K     |█████████▉                      | 235kB 7.4MB/s eta 0:00:01\r\u001b[K     |██████████▎                     | 245kB 7.4MB/s eta 0:00:01\r\u001b[K     |██████████▋                     | 256kB 7.4MB/s eta 0:00:01\r\u001b[K     |███████████                     | 266kB 7.4MB/s eta 0:00:01\r\u001b[K     |███████████▌                    | 276kB 7.4MB/s eta 0:00:01\r\u001b[K     |████████████                    | 286kB 7.4MB/s eta 0:00:01\r\u001b[K     |████████████▍                   | 296kB 7.4MB/s eta 0:00:01\r\u001b[K     |████████████▉                   | 307kB 7.4MB/s eta 0:00:01\r\u001b[K     |█████████████▏                  | 317kB 7.4MB/s eta 0:00:01\r\u001b[K     |█████████████▋                  | 327kB 7.4MB/s eta 0:00:01\r\u001b[K     |██████████████                  | 337kB 7.4MB/s eta 0:00:01\r\u001b[K     |██████████████▌                 | 348kB 7.4MB/s eta 0:00:01\r\u001b[K     |███████████████                 | 358kB 7.4MB/s eta 0:00:01\r\u001b[K     |███████████████▍                | 368kB 7.4MB/s eta 0:00:01\r\u001b[K     |███████████████▊                | 378kB 7.4MB/s eta 0:00:01\r\u001b[K     |████████████████▏               | 389kB 7.4MB/s eta 0:00:01\r\u001b[K     |████████████████▋               | 399kB 7.4MB/s eta 0:00:01\r\u001b[K     |█████████████████               | 409kB 7.4MB/s eta 0:00:01\r\u001b[K     |█████████████████▌              | 419kB 7.4MB/s eta 0:00:01\r\u001b[K     |██████████████████              | 430kB 7.4MB/s eta 0:00:01\r\u001b[K     |██████████████████▎             | 440kB 7.4MB/s eta 0:00:01\r\u001b[K     |██████████████████▊             | 450kB 7.4MB/s eta 0:00:01\r\u001b[K     |███████████████████▏            | 460kB 7.4MB/s eta 0:00:01\r\u001b[K     |███████████████████▋            | 471kB 7.4MB/s eta 0:00:01\r\u001b[K     |████████████████████            | 481kB 7.4MB/s eta 0:00:01\r\u001b[K     |████████████████████▌           | 491kB 7.4MB/s eta 0:00:01\r\u001b[K     |████████████████████▉           | 501kB 7.4MB/s eta 0:00:01\r\u001b[K     |█████████████████████▎          | 512kB 7.4MB/s eta 0:00:01\r\u001b[K     |█████████████████████▊          | 522kB 7.4MB/s eta 0:00:01\r\u001b[K     |██████████████████████▏         | 532kB 7.4MB/s eta 0:00:01\r\u001b[K     |██████████████████████▋         | 542kB 7.4MB/s eta 0:00:01\r\u001b[K     |███████████████████████         | 552kB 7.4MB/s eta 0:00:01\r\u001b[K     |███████████████████████▍        | 563kB 7.4MB/s eta 0:00:01\r\u001b[K     |███████████████████████▉        | 573kB 7.4MB/s eta 0:00:01\r\u001b[K     |████████████████████████▎       | 583kB 7.4MB/s eta 0:00:01\r\u001b[K     |████████████████████████▊       | 593kB 7.4MB/s eta 0:00:01\r\u001b[K     |█████████████████████████▏      | 604kB 7.4MB/s eta 0:00:01\r\u001b[K     |█████████████████████████▋      | 614kB 7.4MB/s eta 0:00:01\r\u001b[K     |██████████████████████████      | 624kB 7.4MB/s eta 0:00:01\r\u001b[K     |██████████████████████████▍     | 634kB 7.4MB/s eta 0:00:01\r\u001b[K     |██████████████████████████▉     | 645kB 7.4MB/s eta 0:00:01\r\u001b[K     |███████████████████████████▎    | 655kB 7.4MB/s eta 0:00:01\r\u001b[K     |███████████████████████████▊    | 665kB 7.4MB/s eta 0:00:01\r\u001b[K     |████████████████████████████▏   | 675kB 7.4MB/s eta 0:00:01\r\u001b[K     |████████████████████████████▌   | 686kB 7.4MB/s eta 0:00:01\r\u001b[K     |█████████████████████████████   | 696kB 7.4MB/s eta 0:00:01\r\u001b[K     |█████████████████████████████▍  | 706kB 7.4MB/s eta 0:00:01\r\u001b[K     |█████████████████████████████▉  | 716kB 7.4MB/s eta 0:00:01\r\u001b[K     |██████████████████████████████▎ | 727kB 7.4MB/s eta 0:00:01\r\u001b[K     |██████████████████████████████▊ | 737kB 7.4MB/s eta 0:00:01\r\u001b[K     |███████████████████████████████ | 747kB 7.4MB/s eta 0:00:01\r\u001b[K     |███████████████████████████████▌| 757kB 7.4MB/s eta 0:00:01\r\u001b[K     |████████████████████████████████| 768kB 7.4MB/s eta 0:00:01\r\u001b[K     |████████████████████████████████| 778kB 7.4MB/s \n",
            "\u001b[?25hRequirement already satisfied: regex!=2019.12.17 in /usr/local/lib/python3.6/dist-packages (from transformers) (2019.12.20)\n",
            "Collecting sentencepiece!=0.1.92\n",
            "\u001b[?25l  Downloading https://files.pythonhosted.org/packages/d4/a4/d0a884c4300004a78cca907a6ff9a5e9fe4f090f5d95ab341c53d28cbc58/sentencepiece-0.1.91-cp36-cp36m-manylinux1_x86_64.whl (1.1MB)\n",
            "\u001b[K     |████████████████████████████████| 1.1MB 28.3MB/s \n",
            "\u001b[?25hRequirement already satisfied: numpy in /usr/local/lib/python3.6/dist-packages (from transformers) (1.18.5)\n",
            "Collecting sacremoses\n",
            "\u001b[?25l  Downloading https://files.pythonhosted.org/packages/7d/34/09d19aff26edcc8eb2a01bed8e98f13a1537005d31e95233fd48216eed10/sacremoses-0.0.43.tar.gz (883kB)\n",
            "\u001b[K     |████████████████████████████████| 890kB 52.8MB/s \n",
            "\u001b[?25hRequirement already satisfied: tqdm>=4.27 in /usr/local/lib/python3.6/dist-packages (from transformers) (4.41.1)\n",
            "Requirement already satisfied: filelock in /usr/local/lib/python3.6/dist-packages (from transformers) (3.0.12)\n",
            "Requirement already satisfied: requests in /usr/local/lib/python3.6/dist-packages (from transformers) (2.23.0)\n",
            "Collecting tokenizers==0.8.1.rc1\n",
            "\u001b[?25l  Downloading https://files.pythonhosted.org/packages/40/d0/30d5f8d221a0ed981a186c8eb986ce1c94e3a6e87f994eae9f4aa5250217/tokenizers-0.8.1rc1-cp36-cp36m-manylinux1_x86_64.whl (3.0MB)\n",
            "\u001b[K     |████████████████████████████████| 3.0MB 48.4MB/s \n",
            "\u001b[?25hRequirement already satisfied: packaging in /usr/local/lib/python3.6/dist-packages (from transformers) (20.4)\n",
            "Requirement already satisfied: dataclasses; python_version < \"3.7\" in /usr/local/lib/python3.6/dist-packages (from transformers) (0.7)\n",
            "Requirement already satisfied: six in /usr/local/lib/python3.6/dist-packages (from sacremoses->transformers) (1.15.0)\n",
            "Requirement already satisfied: click in /usr/local/lib/python3.6/dist-packages (from sacremoses->transformers) (7.1.2)\n",
            "Requirement already satisfied: joblib in /usr/local/lib/python3.6/dist-packages (from sacremoses->transformers) (0.16.0)\n",
            "Requirement already satisfied: certifi>=2017.4.17 in /usr/local/lib/python3.6/dist-packages (from requests->transformers) (2020.6.20)\n",
            "Requirement already satisfied: idna<3,>=2.5 in /usr/local/lib/python3.6/dist-packages (from requests->transformers) (2.10)\n",
            "Requirement already satisfied: urllib3!=1.25.0,!=1.25.1,<1.26,>=1.21.1 in /usr/local/lib/python3.6/dist-packages (from requests->transformers) (1.24.3)\n",
            "Requirement already satisfied: chardet<4,>=3.0.2 in /usr/local/lib/python3.6/dist-packages (from requests->transformers) (3.0.4)\n",
            "Requirement already satisfied: pyparsing>=2.0.2 in /usr/local/lib/python3.6/dist-packages (from packaging->transformers) (2.4.7)\n",
            "Building wheels for collected packages: sacremoses\n",
            "  Building wheel for sacremoses (setup.py) ... \u001b[?25l\u001b[?25hdone\n",
            "  Created wheel for sacremoses: filename=sacremoses-0.0.43-cp36-none-any.whl size=893260 sha256=4f17d7ca949d3c5ec462ad8e2dee7ca7e0a2e395a95c5a79c510bdae7b133246\n",
            "  Stored in directory: /root/.cache/pip/wheels/29/3c/fd/7ce5c3f0666dab31a50123635e6fb5e19ceb42ce38d4e58f45\n",
            "Successfully built sacremoses\n",
            "Installing collected packages: sentencepiece, sacremoses, tokenizers, transformers\n",
            "Successfully installed sacremoses-0.0.43 sentencepiece-0.1.91 tokenizers-0.8.1rc1 transformers-3.0.2\n"
          ],
          "name": "stdout"
        }
      ]
    },
    {
      "cell_type": "code",
      "metadata": {
        "id": "gxV41_eAUL2i",
        "colab_type": "code",
        "colab": {
          "base_uri": "https://localhost:8080/",
          "height": 241
        },
        "outputId": "adc31b56-02dc-4013-c81c-856529e47a31"
      },
      "source": [
        "pip install shifterator"
      ],
      "execution_count": 2,
      "outputs": [
        {
          "output_type": "stream",
          "text": [
            "Collecting shifterator\n",
            "\u001b[?25l  Downloading https://files.pythonhosted.org/packages/f1/91/b4e1bea326f4988d7b8570cf83e0008da89dbf22dee2e3b62623b3c0d8d2/shifterator-0.2.1-py3-none-any.whl (40.4MB)\n",
            "\u001b[K     |████████████████████████████████| 40.4MB 76kB/s \n",
            "\u001b[?25hRequirement already satisfied: matplotlib in /usr/local/lib/python3.6/dist-packages (from shifterator) (3.2.2)\n",
            "Requirement already satisfied: numpy in /usr/local/lib/python3.6/dist-packages (from shifterator) (1.18.5)\n",
            "Requirement already satisfied: python-dateutil>=2.1 in /usr/local/lib/python3.6/dist-packages (from matplotlib->shifterator) (2.8.1)\n",
            "Requirement already satisfied: cycler>=0.10 in /usr/local/lib/python3.6/dist-packages (from matplotlib->shifterator) (0.10.0)\n",
            "Requirement already satisfied: kiwisolver>=1.0.1 in /usr/local/lib/python3.6/dist-packages (from matplotlib->shifterator) (1.2.0)\n",
            "Requirement already satisfied: pyparsing!=2.0.4,!=2.1.2,!=2.1.6,>=2.0.1 in /usr/local/lib/python3.6/dist-packages (from matplotlib->shifterator) (2.4.7)\n",
            "Requirement already satisfied: six>=1.5 in /usr/local/lib/python3.6/dist-packages (from python-dateutil>=2.1->matplotlib->shifterator) (1.15.0)\n",
            "Installing collected packages: shifterator\n",
            "Successfully installed shifterator-0.2.1\n"
          ],
          "name": "stdout"
        }
      ]
    },
    {
      "cell_type": "code",
      "metadata": {
        "id": "i0yNMfByWgMZ",
        "colab_type": "code",
        "colab": {}
      },
      "source": [
        "import pandas as pd\n",
        "import numpy as np\n",
        "import matplotlib.pyplot as plt\n",
        "import seaborn as sns\n",
        "\n",
        "import shifterator as sh\n",
        "\n",
        "import nltk\n",
        "from nltk.corpus import stopwords\n",
        "from nltk.corpus import subjectivity\n",
        "from nltk.corpus import twitter_samples\n",
        "from nltk.tokenize import word_tokenize\n",
        "from nltk.classify import NaiveBayesClassifier\n",
        "from nltk.sentiment import SentimentAnalyzer\n",
        "from nltk.sentiment.vader import SentimentIntensityAnalyzer\n",
        "\n",
        "from textblob import TextBlob\n",
        "\n",
        "import string\n",
        "import spacy\n",
        "from spacy.lang.en.stop_words import STOP_WORDS\n",
        "from spacy.lang.en import English\n",
        "\n",
        "from sklearn.model_selection import train_test_split\n",
        "from sklearn.feature_extraction.text import CountVectorizer\n",
        "from sklearn.feature_extraction.text import TfidfVectorizer\n",
        "from sklearn.feature_extraction import DictVectorizer\n",
        "from sklearn.linear_model import LogisticRegression\n",
        "from sklearn.metrics import accuracy_score\n",
        "\n",
        "from transformers import pipeline"
      ],
      "execution_count": 65,
      "outputs": []
    },
    {
      "cell_type": "markdown",
      "metadata": {
        "id": "GY4O6INUxWWo",
        "colab_type": "text"
      },
      "source": [
        "# Data\n",
        "* Subjective: based on or influenced by personal feelings, tastes, or opinions.\n",
        "* Objective : not influenced by personal feelings or opinions in considering and representing facts."
      ]
    },
    {
      "cell_type": "code",
      "metadata": {
        "id": "LSpyfqdhXMdI",
        "colab_type": "code",
        "colab": {
          "base_uri": "https://localhost:8080/",
          "height": 153
        },
        "outputId": "b424f6d2-d927-49e7-a42a-4427c8ec0831"
      },
      "source": [
        "nltk.download('twitter_samples')\n",
        "nltk.download('stopwords')\n",
        "nltk.download('punkt')\n",
        "nltk.download('vader_lexicon')"
      ],
      "execution_count": 4,
      "outputs": [
        {
          "output_type": "stream",
          "text": [
            "[nltk_data] Downloading package twitter_samples to /root/nltk_data...\n",
            "[nltk_data]   Unzipping corpora/twitter_samples.zip.\n",
            "[nltk_data] Downloading package stopwords to /root/nltk_data...\n",
            "[nltk_data]   Unzipping corpora/stopwords.zip.\n",
            "[nltk_data] Downloading package punkt to /root/nltk_data...\n",
            "[nltk_data]   Unzipping tokenizers/punkt.zip.\n",
            "[nltk_data] Downloading package vader_lexicon to /root/nltk_data...\n"
          ],
          "name": "stdout"
        },
        {
          "output_type": "execute_result",
          "data": {
            "text/plain": [
              "True"
            ]
          },
          "metadata": {
            "tags": []
          },
          "execution_count": 4
        }
      ]
    },
    {
      "cell_type": "markdown",
      "metadata": {
        "id": "CzEnjaejIvJs",
        "colab_type": "text"
      },
      "source": [
        "## Tweets"
      ]
    },
    {
      "cell_type": "code",
      "metadata": {
        "id": "xYgC6kiaI_YA",
        "colab_type": "code",
        "colab": {}
      },
      "source": [
        "positive_tweets = twitter_samples.strings('positive_tweets.json')\n",
        "negative_tweets = twitter_samples.strings('negative_tweets.json')"
      ],
      "execution_count": 5,
      "outputs": []
    },
    {
      "cell_type": "code",
      "metadata": {
        "id": "5_mAsZLmJFnm",
        "colab_type": "code",
        "colab": {}
      },
      "source": [
        "pos = [(sent, 'pos') for sent in positive_tweets]\n",
        "neg = [(sent, 'neg') for sent in negative_tweets]\n",
        "data_tweets = pos + neg"
      ],
      "execution_count": 6,
      "outputs": []
    },
    {
      "cell_type": "code",
      "metadata": {
        "id": "2uWE-ZnMJj1J",
        "colab_type": "code",
        "colab": {
          "base_uri": "https://localhost:8080/",
          "height": 51
        },
        "outputId": "7995a405-8db7-4098-f5e1-20e51dc979c6"
      },
      "source": [
        "print(f'There are {len(pos):,} positive sentences')\n",
        "print(f'There are {len(neg):,} negative sentences')"
      ],
      "execution_count": 7,
      "outputs": [
        {
          "output_type": "stream",
          "text": [
            "There are 5,000 positive sentences\n",
            "There are 5,000 negative sentences\n"
          ],
          "name": "stdout"
        }
      ]
    },
    {
      "cell_type": "markdown",
      "metadata": {
        "id": "OeFI3BgSxXK2",
        "colab_type": "text"
      },
      "source": [
        "# EDA"
      ]
    },
    {
      "cell_type": "code",
      "metadata": {
        "id": "kuCu7ZINk-KO",
        "colab_type": "code",
        "colab": {}
      },
      "source": [
        "stop_words = list(set(stopwords.words('english')))"
      ],
      "execution_count": 8,
      "outputs": []
    },
    {
      "cell_type": "markdown",
      "metadata": {
        "id": "HjGqooTTZpdQ",
        "colab_type": "text"
      },
      "source": [
        "## Positive"
      ]
    },
    {
      "cell_type": "code",
      "metadata": {
        "id": "vDZMRU3oZoWx",
        "colab_type": "code",
        "colab": {
          "base_uri": "https://localhost:8080/",
          "height": 122
        },
        "outputId": "f05df49e-f552-44b6-84ba-11333285e2fe"
      },
      "source": [
        "for sent in pos[0:5]:\n",
        "  print(sent)"
      ],
      "execution_count": 9,
      "outputs": [
        {
          "output_type": "stream",
          "text": [
            "('#FollowFriday @France_Inte @PKuchly57 @Milipol_Paris for being top engaged members in my community this week :)', 'pos')\n",
            "('@Lamb2ja Hey James! How odd :/ Please call our Contact Centre on 02392441234 and we will be able to assist you :) Many thanks!', 'pos')\n",
            "('@DespiteOfficial we had a listen last night :) As You Bleed is an amazing track. When are you in Scotland?!', 'pos')\n",
            "('@97sides CONGRATS :)', 'pos')\n",
            "('yeaaaah yippppy!!!  my accnt verified rqst has succeed got a blue tick mark on my fb profile :) in 15 days', 'pos')\n"
          ],
          "name": "stdout"
        }
      ]
    },
    {
      "cell_type": "markdown",
      "metadata": {
        "id": "-VLA7q5pZr3Z",
        "colab_type": "text"
      },
      "source": [
        "## Negative"
      ]
    },
    {
      "cell_type": "code",
      "metadata": {
        "id": "rfTrIbVOZtgA",
        "colab_type": "code",
        "colab": {
          "base_uri": "https://localhost:8080/",
          "height": 102
        },
        "outputId": "38c8da22-85e0-40e3-caab-fb8c2948f8b2"
      },
      "source": [
        "for sent in neg[0:5]:\n",
        "  print(sent)"
      ],
      "execution_count": 10,
      "outputs": [
        {
          "output_type": "stream",
          "text": [
            "('hopeless for tmr :(', 'neg')\n",
            "(\"Everything in the kids section of IKEA is so cute. Shame I'm nearly 19 in 2 months :(\", 'neg')\n",
            "('@Hegelbon That heart sliding into the waste basket. :(', 'neg')\n",
            "('“@ketchBurning: I hate Japanese call him \"bani\" :( :(”\\n\\nMe too', 'neg')\n",
            "('Dang starting next week I have \"work\" :(', 'neg')\n"
          ],
          "name": "stdout"
        }
      ]
    },
    {
      "cell_type": "markdown",
      "metadata": {
        "id": "VFFA76Ybym6f",
        "colab_type": "text"
      },
      "source": [
        "# Results"
      ]
    },
    {
      "cell_type": "code",
      "metadata": {
        "id": "on0d0tytymC3",
        "colab_type": "code",
        "colab": {}
      },
      "source": [
        "results_df = pd.DataFrame(columns=['Accuracy'])"
      ],
      "execution_count": 12,
      "outputs": []
    },
    {
      "cell_type": "markdown",
      "metadata": {
        "id": "CHwJKF4dxYSY",
        "colab_type": "text"
      },
      "source": [
        "# VADER\n",
        "![alt text](https://t-redactyl.io/figure/Vader_1.jpg)\n",
        "\n",
        "* Valence Aware Dictionary and sEntiment Reasoner\n",
        "  * Rules based Sentiment Analysis\n",
        "  * No training or training data required\n",
        "  * Works well for social media sentiment\n",
        "  * Extends well to other domains\n",
        "  * Can run in a streaming environment (Speed vs Performance)\n",
        "* Score:\n",
        "  * Reports Classification Scores for Positive, Negative & Neutral\n",
        "  * Returns a Compound Score which is normalized from -1 to +1\n",
        "* Packaged in NLTK but available separately (pip install vaderSentiment)"
      ]
    },
    {
      "cell_type": "code",
      "metadata": {
        "id": "NIAIsGdg5Hoi",
        "colab_type": "code",
        "colab": {}
      },
      "source": [
        "vader_analyzer = SentimentIntensityAnalyzer()"
      ],
      "execution_count": 13,
      "outputs": []
    },
    {
      "cell_type": "code",
      "metadata": {
        "id": "_wxv5T6u5Rff",
        "colab_type": "code",
        "colab": {
          "base_uri": "https://localhost:8080/",
          "height": 51
        },
        "outputId": "82e4008d-c119-45ef-8147-a060584b33fb"
      },
      "source": [
        "print(f\"I hate you {vader_analyzer.polarity_scores('I hate you')}\")\n",
        "print(f\"I love you {vader_analyzer.polarity_scores('I love you')}\")"
      ],
      "execution_count": 14,
      "outputs": [
        {
          "output_type": "stream",
          "text": [
            "I hate you {'neg': 0.787, 'neu': 0.213, 'pos': 0.0, 'compound': -0.5719}\n",
            "I love you {'neg': 0.0, 'neu': 0.192, 'pos': 0.808, 'compound': 0.6369}\n"
          ],
          "name": "stdout"
        }
      ]
    },
    {
      "cell_type": "markdown",
      "metadata": {
        "id": "UKHKiGBVJJOj",
        "colab_type": "text"
      },
      "source": [
        "## Rules"
      ]
    },
    {
      "cell_type": "markdown",
      "metadata": {
        "id": "XMX_9aCQJMSM",
        "colab_type": "text"
      },
      "source": [
        "### Punctuation"
      ]
    },
    {
      "cell_type": "code",
      "metadata": {
        "id": "OfCRKVGvJiYr",
        "colab_type": "code",
        "colab": {
          "base_uri": "https://localhost:8080/",
          "height": 68
        },
        "outputId": "ec18f9ec-5d94-45ba-d075-c707a95b558b"
      },
      "source": [
        "print(f\"I love you {vader_analyzer.polarity_scores('I love you')}\")\n",
        "print(f\"I love you! {vader_analyzer.polarity_scores('I love you!')}\")\n",
        "print(f\"I love you!! {vader_analyzer.polarity_scores('I love you!!')}\")"
      ],
      "execution_count": 15,
      "outputs": [
        {
          "output_type": "stream",
          "text": [
            "I love you {'neg': 0.0, 'neu': 0.192, 'pos': 0.808, 'compound': 0.6369}\n",
            "I love you! {'neg': 0.0, 'neu': 0.182, 'pos': 0.818, 'compound': 0.6696}\n",
            "I love you!! {'neg': 0.0, 'neu': 0.173, 'pos': 0.827, 'compound': 0.6988}\n"
          ],
          "name": "stdout"
        }
      ]
    },
    {
      "cell_type": "markdown",
      "metadata": {
        "id": "qkfOxc7PJQ61",
        "colab_type": "text"
      },
      "source": [
        "### Capitalization"
      ]
    },
    {
      "cell_type": "code",
      "metadata": {
        "id": "CTOKsHx6KLQq",
        "colab_type": "code",
        "colab": {
          "base_uri": "https://localhost:8080/",
          "height": 68
        },
        "outputId": "89b75933-c738-4189-df10-79442de516b9"
      },
      "source": [
        "print(f\"I love you {vader_analyzer.polarity_scores('I love you')}\")\n",
        "print(f\"I LOVE you {vader_analyzer.polarity_scores('I LOVE you')}\")\n",
        "print(f\"I LOVE YOU {vader_analyzer.polarity_scores('I LOVE YOU')}\")"
      ],
      "execution_count": 16,
      "outputs": [
        {
          "output_type": "stream",
          "text": [
            "I love you {'neg': 0.0, 'neu': 0.192, 'pos': 0.808, 'compound': 0.6369}\n",
            "I LOVE you {'neg': 0.0, 'neu': 0.169, 'pos': 0.831, 'compound': 0.7125}\n",
            "I LOVE YOU {'neg': 0.0, 'neu': 0.192, 'pos': 0.808, 'compound': 0.6369}\n"
          ],
          "name": "stdout"
        }
      ]
    },
    {
      "cell_type": "markdown",
      "metadata": {
        "id": "ShLQdNBCJUTv",
        "colab_type": "text"
      },
      "source": [
        "### Intensifiers"
      ]
    },
    {
      "cell_type": "code",
      "metadata": {
        "id": "WLhd_yoOKU7B",
        "colab_type": "code",
        "colab": {
          "base_uri": "https://localhost:8080/",
          "height": 51
        },
        "outputId": "dd43bb86-c3c3-4a93-a296-5526870925f7"
      },
      "source": [
        "print(f\"I love pizza {vader_analyzer.polarity_scores('I love pizza')}\")\n",
        "print(f\"I really love pizza {vader_analyzer.polarity_scores('I really love pizza')}\")"
      ],
      "execution_count": 17,
      "outputs": [
        {
          "output_type": "stream",
          "text": [
            "I love pizza {'neg': 0.0, 'neu': 0.192, 'pos': 0.808, 'compound': 0.6369}\n",
            "I really love pizza {'neg': 0.0, 'neu': 0.308, 'pos': 0.692, 'compound': 0.6697}\n"
          ],
          "name": "stdout"
        }
      ]
    },
    {
      "cell_type": "markdown",
      "metadata": {
        "id": "l5m_6vhEJX7W",
        "colab_type": "text"
      },
      "source": [
        "### Conjunctions"
      ]
    },
    {
      "cell_type": "code",
      "metadata": {
        "id": "JLfbPV2jKf0z",
        "colab_type": "code",
        "colab": {
          "base_uri": "https://localhost:8080/",
          "height": 51
        },
        "outputId": "be62dee4-9fb6-4ded-99c8-b769c18fe0dd"
      },
      "source": [
        "print(f\"I love pizza {vader_analyzer.polarity_scores('I love the pizza')}\")\n",
        "print(f\"I love pizza but not the service {vader_analyzer.polarity_scores('I love the pizza but not the service')}\")"
      ],
      "execution_count": 19,
      "outputs": [
        {
          "output_type": "stream",
          "text": [
            "I love pizza {'neg': 0.0, 'neu': 0.323, 'pos': 0.677, 'compound': 0.6369}\n",
            "I love pizza but not the service {'neg': 0.0, 'neu': 0.698, 'pos': 0.302, 'compound': 0.3818}\n"
          ],
          "name": "stdout"
        }
      ]
    },
    {
      "cell_type": "markdown",
      "metadata": {
        "id": "SKSzkLnHJamQ",
        "colab_type": "text"
      },
      "source": [
        "### Emojis"
      ]
    },
    {
      "cell_type": "code",
      "metadata": {
        "id": "wlh-Bb9hMqXE",
        "colab_type": "code",
        "colab": {
          "base_uri": "https://localhost:8080/",
          "height": 85
        },
        "outputId": "aa811b68-50d9-4e51-b222-4ca8a2e79b17"
      },
      "source": [
        "print(f\"I :) pizza {vader_analyzer.polarity_scores('I :) the pizza')}\")\n",
        "print(f\"I :-) pizza {vader_analyzer.polarity_scores('I :-) the pizza')}\")\n",
        "print(f\"I :( pizza {vader_analyzer.polarity_scores('I :( the pizza')}\")\n",
        "print(f\"I :-( pizza {vader_analyzer.polarity_scores('I :-( the pizza')}\")"
      ],
      "execution_count": 21,
      "outputs": [
        {
          "output_type": "stream",
          "text": [
            "I :) pizza {'neg': 0.0, 'neu': 0.4, 'pos': 0.6, 'compound': 0.4588}\n",
            "I :-) pizza {'neg': 0.0, 'neu': 0.465, 'pos': 0.535, 'compound': 0.3182}\n",
            "I :( pizza {'neg': 0.592, 'neu': 0.408, 'pos': 0.0, 'compound': -0.4404}\n",
            "I :-( pizza {'neg': 0.556, 'neu': 0.444, 'pos': 0.0, 'compound': -0.3612}\n"
          ],
          "name": "stdout"
        }
      ]
    },
    {
      "cell_type": "markdown",
      "metadata": {
        "id": "uy1BOSYuX2YC",
        "colab_type": "text"
      },
      "source": [
        "## Predict"
      ]
    },
    {
      "cell_type": "code",
      "metadata": {
        "id": "B2LWDYpoX371",
        "colab_type": "code",
        "colab": {}
      },
      "source": [
        "def predict_vader(dataset):\n",
        "  preds = []\n",
        "  for sent, label in dataset:\n",
        "    pred_score = vader_analyzer.polarity_scores(sent)\n",
        "    pred_class = 'pos' if pred_score['compound'] > 0 else 'neg'\n",
        "    preds.append((pred_score, pred_class, label))\n",
        "  return preds"
      ],
      "execution_count": 22,
      "outputs": []
    },
    {
      "cell_type": "code",
      "metadata": {
        "id": "NQkJCti-Yh1d",
        "colab_type": "code",
        "colab": {}
      },
      "source": [
        "preds = predict_vader(data_tweets)"
      ],
      "execution_count": 23,
      "outputs": []
    },
    {
      "cell_type": "markdown",
      "metadata": {
        "id": "1Y9h2MedZUzQ",
        "colab_type": "text"
      },
      "source": [
        "## Score"
      ]
    },
    {
      "cell_type": "code",
      "metadata": {
        "colab_type": "code",
        "id": "7BS73GN2bD0_",
        "colab": {}
      },
      "source": [
        "def score_vader(preds):\n",
        "  correct = 0\n",
        "  for pred_score, pred_class, label in preds:\n",
        "    if pred_class == label:\n",
        "      correct += 1\n",
        "  score = correct / len(preds) * 100.\n",
        "  return score"
      ],
      "execution_count": 24,
      "outputs": []
    },
    {
      "cell_type": "code",
      "metadata": {
        "id": "5rQpxnPVYqff",
        "colab_type": "code",
        "colab": {
          "base_uri": "https://localhost:8080/",
          "height": 34
        },
        "outputId": "1786a609-491c-4b76-908a-e276d203903c"
      },
      "source": [
        "acc = score_vader(preds)\n",
        "results_df.loc['VADER'] = [acc]\n",
        "print(f'VADER {acc}')"
      ],
      "execution_count": 25,
      "outputs": [
        {
          "output_type": "stream",
          "text": [
            "VADER 85.7\n"
          ],
          "name": "stdout"
        }
      ]
    },
    {
      "cell_type": "markdown",
      "metadata": {
        "id": "HwLIPVC_D8hQ",
        "colab_type": "text"
      },
      "source": [
        "# Naive Bayes\n",
        "![alt text](https://mlalgorithm.files.wordpress.com/2016/06/screenshot-19.png?w=700)"
      ]
    },
    {
      "cell_type": "markdown",
      "metadata": {
        "id": "E2ZXLtA6O_H-",
        "colab_type": "text"
      },
      "source": [
        "## Preprocessing\n",
        "* We need to do some pre-processing before we can run NB\n",
        "* Tweet sentences need to be tokenized\n",
        "* Drop out stop-words\n",
        "* Remove punctuation\n",
        "* Build bag of words \n",
        "* Keep top N words\n",
        "* Featurize words (is present / not present)"
      ]
    },
    {
      "cell_type": "code",
      "metadata": {
        "colab_type": "code",
        "id": "bSJ8Y62eKoUW",
        "colab": {}
      },
      "source": [
        "cleaned_tweets = []\n",
        "for sent, label in data_tweets:\n",
        "  tokens  = sent.split(' ') \n",
        "  stopped = [w for w in tokens if not w in stop_words]\n",
        "  cleaned_tweets.append( (stopped, label) )"
      ],
      "execution_count": 26,
      "outputs": []
    },
    {
      "cell_type": "code",
      "metadata": {
        "colab_type": "code",
        "id": "hmbEOIgEKoUb",
        "colab": {}
      },
      "source": [
        "all_words_tweets = []\n",
        "for sent, label in cleaned_tweets:\n",
        "  all_words_tweets.extend(sent)"
      ],
      "execution_count": 27,
      "outputs": []
    },
    {
      "cell_type": "code",
      "metadata": {
        "colab_type": "code",
        "id": "odaifGpkKoUg",
        "colab": {}
      },
      "source": [
        "TOP = 2500\n",
        "all_words_tweets = nltk.FreqDist(all_words_tweets)\n",
        "word_features_tweets = list(all_words_tweets.keys())[:TOP]"
      ],
      "execution_count": 28,
      "outputs": []
    },
    {
      "cell_type": "code",
      "metadata": {
        "colab_type": "code",
        "id": "Mt5AwRtjKoUk",
        "colab": {}
      },
      "source": [
        "def find_features(document, word_features):\n",
        "    words = set(document)\n",
        "    features = {}\n",
        "    for w in word_features:\n",
        "        features[w] = (w in words)\n",
        "    return features\n",
        "\n",
        "featuresets_tweets = [(find_features(sent, word_features_tweets), label) \n",
        "  for sent, label in cleaned_tweets]"
      ],
      "execution_count": 29,
      "outputs": []
    },
    {
      "cell_type": "markdown",
      "metadata": {
        "id": "xbZ4m1UhuC2-",
        "colab_type": "text"
      },
      "source": [
        "## Train - Test"
      ]
    },
    {
      "cell_type": "code",
      "metadata": {
        "id": "NlPDZ51atDeW",
        "colab_type": "code",
        "colab": {}
      },
      "source": [
        "train_tweets, test_tweets = train_test_split(featuresets_tweets)"
      ],
      "execution_count": 30,
      "outputs": []
    },
    {
      "cell_type": "markdown",
      "metadata": {
        "id": "C51bxHcPuGuY",
        "colab_type": "text"
      },
      "source": [
        "## Model"
      ]
    },
    {
      "cell_type": "code",
      "metadata": {
        "id": "SU_9wFl6uF_Q",
        "colab_type": "code",
        "colab": {}
      },
      "source": [
        "classifier = NaiveBayesClassifier.train(train_tweets)"
      ],
      "execution_count": 31,
      "outputs": []
    },
    {
      "cell_type": "code",
      "metadata": {
        "id": "_O7JGSkguikA",
        "colab_type": "code",
        "colab": {
          "base_uri": "https://localhost:8080/",
          "height": 374
        },
        "outputId": "c5e069bd-d658-4de1-910f-efd0a32a725d"
      },
      "source": [
        "classifier.show_most_informative_features(n=20)"
      ],
      "execution_count": 32,
      "outputs": [
        {
          "output_type": "stream",
          "text": [
            "Most Informative Features\n",
            "                  Thanks = True              pos : neg    =     25.9 : 1.0\n",
            "                    miss = True              neg : pos    =     19.8 : 1.0\n",
            "                   Thank = True              pos : neg    =     16.7 : 1.0\n",
            "               followers = True              pos : neg    =     15.9 : 1.0\n",
            "                     Let = True              pos : neg    =     15.2 : 1.0\n",
            "                  thanks = True              pos : neg    =     14.6 : 1.0\n",
            "                       ) = True              pos : neg    =     13.6 : 1.0\n",
            "                 welcome = True              pos : neg    =     12.8 : 1.0\n",
            "                   great = True              pos : neg    =     12.6 : 1.0\n",
            "                    glad = True              pos : neg    =     12.5 : 1.0\n",
            "               community = True              pos : neg    =     12.5 : 1.0\n",
            "                    Love = True              pos : neg    =     12.0 : 1.0\n",
            "                     via = True              pos : neg    =     11.9 : 1.0\n",
            "                   sorry = True              neg : pos    =     11.6 : 1.0\n",
            "              bestfriend = True              pos : neg    =     11.4 : 1.0\n",
            "                   loves = True              pos : neg    =     11.1 : 1.0\n",
            "                  Friday = True              pos : neg    =     10.8 : 1.0\n",
            "                     Get = True              pos : neg    =     10.7 : 1.0\n",
            "               wonderful = True              pos : neg    =     10.5 : 1.0\n",
            "                   Enjoy = True              pos : neg    =      9.8 : 1.0\n"
          ],
          "name": "stdout"
        }
      ]
    },
    {
      "cell_type": "markdown",
      "metadata": {
        "id": "liOAPe3HuP9P",
        "colab_type": "text"
      },
      "source": [
        "## Test"
      ]
    },
    {
      "cell_type": "code",
      "metadata": {
        "id": "4epMN0EjwaQT",
        "colab_type": "code",
        "colab": {
          "base_uri": "https://localhost:8080/",
          "height": 34
        },
        "outputId": "7ed59d55-8f31-4161-872a-e354c98980ed"
      },
      "source": [
        "acc = nltk.classify.accuracy(classifier, test_tweets) * 100.\n",
        "results_df.loc['Naive Bayes'] = [acc]\n",
        "print(f'Naive Bayes {acc}')"
      ],
      "execution_count": 33,
      "outputs": [
        {
          "output_type": "stream",
          "text": [
            "Naive Bayes 94.12\n"
          ],
          "name": "stdout"
        }
      ]
    },
    {
      "cell_type": "markdown",
      "metadata": {
        "id": "wKeRHqkRyDJr",
        "colab_type": "text"
      },
      "source": [
        "# TextBlob\n",
        "* https://textblob.readthedocs.io/en/dev/quickstart.html\n",
        "* TextBlob an easy to use text-processing interface\n",
        "* TextBlob objects interoperate as Python strings imbued with NLP skills"
      ]
    },
    {
      "cell_type": "code",
      "metadata": {
        "id": "Rlivx1gSctQw",
        "colab_type": "code",
        "colab": {
          "base_uri": "https://localhost:8080/",
          "height": 51
        },
        "outputId": "ddae3e7e-d3ab-44e2-a8a6-08675a103bf4"
      },
      "source": [
        "print(f\"I hate you {TextBlob('I hate you').polarity}\")\n",
        "print(f\"I love you {TextBlob('I love you').polarity}\")"
      ],
      "execution_count": 34,
      "outputs": [
        {
          "output_type": "stream",
          "text": [
            "I hate you -0.8\n",
            "I love you 0.5\n"
          ],
          "name": "stdout"
        }
      ]
    },
    {
      "cell_type": "markdown",
      "metadata": {
        "id": "4Kj7Met80qsW",
        "colab_type": "text"
      },
      "source": [
        "## Predict"
      ]
    },
    {
      "cell_type": "code",
      "metadata": {
        "colab_type": "code",
        "id": "xCUZ9exqZsVd",
        "colab": {}
      },
      "source": [
        "def predict_textblob(dataset):\n",
        "  preds = []\n",
        "  for sent, label in dataset:\n",
        "    pred = TextBlob(sent)\n",
        "    pred_score = pred.polarity\n",
        "    pred_class = 'pos' if pred_score > 0 else 'neg'\n",
        "    preds.append((pred_score, pred_class, label))\n",
        "  return preds"
      ],
      "execution_count": 35,
      "outputs": []
    },
    {
      "cell_type": "code",
      "metadata": {
        "colab_type": "code",
        "id": "18ZS2ku8ZsVk",
        "colab": {}
      },
      "source": [
        "preds = predict_textblob(data_tweets)"
      ],
      "execution_count": 36,
      "outputs": []
    },
    {
      "cell_type": "markdown",
      "metadata": {
        "colab_type": "text",
        "id": "boebuuJ4ZsVn"
      },
      "source": [
        "## Score"
      ]
    },
    {
      "cell_type": "code",
      "metadata": {
        "id": "17dFzwh3amVT",
        "colab_type": "code",
        "colab": {}
      },
      "source": [
        "def score_textblob(preds):\n",
        "  correct = 0\n",
        "  for pred_score, pred_class, label in preds:\n",
        "    if pred_class == label:\n",
        "      correct += 1\n",
        "  score = correct / len(preds) * 100.\n",
        "  return score"
      ],
      "execution_count": 37,
      "outputs": []
    },
    {
      "cell_type": "code",
      "metadata": {
        "colab_type": "code",
        "id": "ERweil_1ZsVo",
        "colab": {
          "base_uri": "https://localhost:8080/",
          "height": 34
        },
        "outputId": "85c82134-4e0b-4ec7-eff4-cbdfe53c069f"
      },
      "source": [
        "acc = score_textblob(preds)\n",
        "results_df.loc['TextBlob'] = [acc]\n",
        "print(f'TextBlob {acc}')"
      ],
      "execution_count": 38,
      "outputs": [
        {
          "output_type": "stream",
          "text": [
            "TextBlob 96.54\n"
          ],
          "name": "stdout"
        }
      ]
    },
    {
      "cell_type": "markdown",
      "metadata": {
        "id": "uV-KRlGzVGVl",
        "colab_type": "text"
      },
      "source": [
        "# Transformer Pipelines\n",
        "* Huggingface offers a low code python interface that wraps common functions\n",
        "* Transformers can be slow for prediction (many computations on the forward pass)\n",
        "* Speed can be improved using \"as a service\" & GPUs"
      ]
    },
    {
      "cell_type": "code",
      "metadata": {
        "id": "WL9C9lPsyPxh",
        "colab_type": "code",
        "colab": {
          "base_uri": "https://localhost:8080/",
          "height": 247,
          "referenced_widgets": [
            "bd400e0315b34e2e99496ae86ced83a8",
            "0a87bc856c644da3998ab45b476402b8",
            "6d850879da35478db0aa4d533cebb57a",
            "c1ce2caf699f4c3293dfaab95a8e820b",
            "37b9d3a50d314ad9a50e95bce5338657",
            "9dc25d18bb22449bae724f3d99feef06",
            "f45cd5b1987d4d3d9d52fe4975267b7a",
            "8519a946562443efadfe98ab84d8c4a1",
            "20785445f4b346a4934c36003e6ad72f",
            "cce88e6424c3481792100bb8be112663",
            "1b8396ec6cec4f4ba25487e4a482be33",
            "3dfbb6e7400d46a3b51baa031e76a85f",
            "ee4688b94b354c9d8254b6d6a667aa89",
            "becd019b6f5b4c20a9b2067a1d562a90",
            "7caf595417e14a079ac914433bdbfb9b",
            "a0f566d2c8544a7ba52e7be8b224b523",
            "a2df5d055e7c4eb3aca346b23c3096e1",
            "5a1ce277eadf410b8003f56e7bfd0540",
            "3de9250daf7a4f6d83f8be9c84f375fb",
            "3dcddafc4238420cb5133d3cd36f052a",
            "b3927722348f43d9bfaa3d6f88071a43",
            "4d06152fb220492483b138c2751e1834",
            "548b2817d6f34724b8bbfa082ee8430a",
            "98a99a1567c94e7f93212e1d1b64fbf4",
            "039ee65f3a1a437483e78078161b2250",
            "faf9301c404a4699b9de31c2ae7ea20f",
            "12b4c083c66c4676be515d7e39cc9a4e",
            "06ef427650e94271a5bcfd03765bd108",
            "f1bcf9c6d35044dea2a1a5547598ea84",
            "621b576533854be58cdf0c88021c011a",
            "cf6dbdf0fc3d4dc2aab45fa40452a898",
            "b2f0eac147e645429279accd2a398d31"
          ]
        },
        "outputId": "f05abcdd-c424-430c-f468-4c482175fb45"
      },
      "source": [
        "nlp = pipeline(\"sentiment-analysis\")\n",
        "print(nlp('I hate you'))\n",
        "print(nlp('I love you'))"
      ],
      "execution_count": 39,
      "outputs": [
        {
          "output_type": "display_data",
          "data": {
            "application/vnd.jupyter.widget-view+json": {
              "model_id": "bd400e0315b34e2e99496ae86ced83a8",
              "version_minor": 0,
              "version_major": 2
            },
            "text/plain": [
              "HBox(children=(FloatProgress(value=0.0, description='Downloading', max=629.0, style=ProgressStyle(description_…"
            ]
          },
          "metadata": {
            "tags": []
          }
        },
        {
          "output_type": "stream",
          "text": [
            "\n"
          ],
          "name": "stdout"
        },
        {
          "output_type": "display_data",
          "data": {
            "application/vnd.jupyter.widget-view+json": {
              "model_id": "20785445f4b346a4934c36003e6ad72f",
              "version_minor": 0,
              "version_major": 2
            },
            "text/plain": [
              "HBox(children=(FloatProgress(value=0.0, description='Downloading', max=231508.0, style=ProgressStyle(descripti…"
            ]
          },
          "metadata": {
            "tags": []
          }
        },
        {
          "output_type": "stream",
          "text": [
            "\n"
          ],
          "name": "stdout"
        },
        {
          "output_type": "display_data",
          "data": {
            "application/vnd.jupyter.widget-view+json": {
              "model_id": "a2df5d055e7c4eb3aca346b23c3096e1",
              "version_minor": 0,
              "version_major": 2
            },
            "text/plain": [
              "HBox(children=(FloatProgress(value=0.0, description='Downloading', max=230.0, style=ProgressStyle(description_…"
            ]
          },
          "metadata": {
            "tags": []
          }
        },
        {
          "output_type": "stream",
          "text": [
            "\n"
          ],
          "name": "stdout"
        },
        {
          "output_type": "display_data",
          "data": {
            "application/vnd.jupyter.widget-view+json": {
              "model_id": "039ee65f3a1a437483e78078161b2250",
              "version_minor": 0,
              "version_major": 2
            },
            "text/plain": [
              "HBox(children=(FloatProgress(value=0.0, description='Downloading', max=267844284.0, style=ProgressStyle(descri…"
            ]
          },
          "metadata": {
            "tags": []
          }
        },
        {
          "output_type": "stream",
          "text": [
            "\n",
            "[{'label': 'NEGATIVE', 'score': 0.9991129040718079}]\n",
            "[{'label': 'POSITIVE', 'score': 0.9998656511306763}]\n"
          ],
          "name": "stdout"
        }
      ]
    },
    {
      "cell_type": "code",
      "metadata": {
        "id": "4JvvOGvn6-Rh",
        "colab_type": "code",
        "colab": {
          "base_uri": "https://localhost:8080/",
          "height": 71
        },
        "outputId": "06a98ca0-d701-4a57-de08-e78ea851131b"
      },
      "source": [
        "for sent, label in data_tweets:\n",
        "  print(sent, label)\n",
        "  print(nlp(sent))\n",
        "  break"
      ],
      "execution_count": 40,
      "outputs": [
        {
          "output_type": "stream",
          "text": [
            "#FollowFriday @France_Inte @PKuchly57 @Milipol_Paris for being top engaged members in my community this week :) pos\n",
            "[{'label': 'POSITIVE', 'score': 0.9260645508766174}]\n"
          ],
          "name": "stdout"
        }
      ]
    },
    {
      "cell_type": "markdown",
      "metadata": {
        "id": "vuOlxctI0tKh",
        "colab_type": "text"
      },
      "source": [
        "## Predict"
      ]
    },
    {
      "cell_type": "code",
      "metadata": {
        "colab_type": "code",
        "id": "EGvnKEH-yuMF",
        "colab": {}
      },
      "source": [
        "def predict_pipelines(dataset):\n",
        "  preds = []\n",
        "  for sent, label in dataset:\n",
        "    pred = nlp(sent)\n",
        "    pred_label = pred[0]['label']\n",
        "    pred_score = pred[0]['score'] * (1 if pred_label == 'POSITIVE' else -1)\n",
        "    pred_class = 'pos' if pred_label == 'POSITIVE' else 'neg'\n",
        "    preds.append((pred_score, pred_class, label))\n",
        "    if len(preds) % 1000 == 0:\n",
        "      print(len(preds))\n",
        "  return preds"
      ],
      "execution_count": 41,
      "outputs": []
    },
    {
      "cell_type": "code",
      "metadata": {
        "colab_type": "code",
        "id": "2KN95aMNyuMJ",
        "colab": {
          "base_uri": "https://localhost:8080/",
          "height": 187
        },
        "outputId": "96e64bf7-4c4a-4d98-97a6-5f06ef7eced9"
      },
      "source": [
        "preds = predict_pipelines(data_tweets)"
      ],
      "execution_count": 42,
      "outputs": [
        {
          "output_type": "stream",
          "text": [
            "1000\n",
            "2000\n",
            "3000\n",
            "4000\n",
            "5000\n",
            "6000\n",
            "7000\n",
            "8000\n",
            "9000\n",
            "10000\n"
          ],
          "name": "stdout"
        }
      ]
    },
    {
      "cell_type": "markdown",
      "metadata": {
        "id": "L5qGZ7yf0vQx",
        "colab_type": "text"
      },
      "source": [
        "## Score"
      ]
    },
    {
      "cell_type": "code",
      "metadata": {
        "colab_type": "code",
        "id": "m09KrBhLzBie",
        "colab": {}
      },
      "source": [
        "def score_pipelines(preds):\n",
        "  correct = 0\n",
        "  for pred_score, pred_class, label in preds:\n",
        "    if pred_class == label:\n",
        "      correct += 1\n",
        "  score = correct / len(preds) * 100.\n",
        "  return score"
      ],
      "execution_count": 43,
      "outputs": []
    },
    {
      "cell_type": "code",
      "metadata": {
        "colab_type": "code",
        "id": "RGVri3nBzBii",
        "colab": {
          "base_uri": "https://localhost:8080/",
          "height": 34
        },
        "outputId": "1493cb93-11ad-4348-a187-3d99e7a9639c"
      },
      "source": [
        "acc = score_pipelines(preds)\n",
        "results_df.loc['Pipelines'] = [acc]\n",
        "print(f'Pipelines {acc}')"
      ],
      "execution_count": 44,
      "outputs": [
        {
          "output_type": "stream",
          "text": [
            "Pipelines 66.21000000000001\n"
          ],
          "name": "stdout"
        }
      ]
    },
    {
      "cell_type": "markdown",
      "metadata": {
        "id": "x_OrJDe6xZTm",
        "colab_type": "text"
      },
      "source": [
        "# SpaCy\n",
        "* SpaCy doesn't have a sentiment implementation\n",
        "* The typical path with SpaCy involves:\n",
        "  * Tokenization / Preprocessing with SpaCy\n",
        "  * A word2vec variant for embeddings\n",
        "  * LSTM Model for Classification"
      ]
    },
    {
      "cell_type": "markdown",
      "metadata": {
        "id": "aYEJFweGBSuh",
        "colab_type": "text"
      },
      "source": [
        "## Tokenization"
      ]
    },
    {
      "cell_type": "code",
      "metadata": {
        "id": "MwJJESWuPhnI",
        "colab_type": "code",
        "colab": {}
      },
      "source": [
        "nlp = spacy.load('en')\n",
        "spacy_stop_words = spacy.lang.en.stop_words.STOP_WORDS\n",
        "spacy_punk = string.punctuation\n",
        "\n",
        "parser = English()\n",
        "\n",
        "def spacy_tokenizer(sentence):\n",
        "  tokens = parser(sentence)\n",
        "  tokens = [ word.lemma_.lower().strip() if word.lemma_ != \"-PRON-\" else word.lower_ for word in tokens ]\n",
        "  tokens = [ word for word in tokens if word not in spacy_stop_words and word not in spacy_punk ]\n",
        "  return tokens"
      ],
      "execution_count": 45,
      "outputs": []
    },
    {
      "cell_type": "code",
      "metadata": {
        "id": "XSBcO1uvCref",
        "colab_type": "code",
        "colab": {}
      },
      "source": [
        "spacy_data = [(spacy_tokenizer(sent), label) for sent, label in data_tweets]"
      ],
      "execution_count": 46,
      "outputs": []
    },
    {
      "cell_type": "code",
      "metadata": {
        "id": "iF9YpD6kEoXI",
        "colab_type": "code",
        "colab": {}
      },
      "source": [
        "spacy_sent  = [sent  for sent, label in data_tweets]\n",
        "spacy_label = [label for sent, label in data_tweets]"
      ],
      "execution_count": 47,
      "outputs": []
    },
    {
      "cell_type": "markdown",
      "metadata": {
        "id": "qrMjoT21Broz",
        "colab_type": "text"
      },
      "source": [
        "## Vectors"
      ]
    },
    {
      "cell_type": "code",
      "metadata": {
        "id": "llw3QzmzB0MW",
        "colab_type": "code",
        "colab": {}
      },
      "source": [
        "vec_bow = CountVectorizer(tokenizer = spacy_tokenizer, ngram_range=(1,1))\n",
        "bow     = vec_bow.fit_transform(spacy_sent)"
      ],
      "execution_count": 48,
      "outputs": []
    },
    {
      "cell_type": "markdown",
      "metadata": {
        "id": "WMQF_PyiFGv_",
        "colab_type": "text"
      },
      "source": [
        "## Train - Test"
      ]
    },
    {
      "cell_type": "code",
      "metadata": {
        "id": "D0ZUSUryFJFA",
        "colab_type": "code",
        "colab": {}
      },
      "source": [
        "X_train_bow,   X_test_bow,   y_train_bow,   y_test_bow   = train_test_split(bow, spacy_label)"
      ],
      "execution_count": 49,
      "outputs": []
    },
    {
      "cell_type": "markdown",
      "metadata": {
        "id": "zmlUtFgRCXE9",
        "colab_type": "text"
      },
      "source": [
        "## Model"
      ]
    },
    {
      "cell_type": "code",
      "metadata": {
        "id": "VTMge0p6CXzt",
        "colab_type": "code",
        "colab": {
          "base_uri": "https://localhost:8080/",
          "height": 102
        },
        "outputId": "abda58d3-0883-4011-b031-8337908a5e4c"
      },
      "source": [
        "clf_bow = LogisticRegression()\n",
        "clf_bow.fit(X_train_bow, y_train_bow)"
      ],
      "execution_count": 50,
      "outputs": [
        {
          "output_type": "execute_result",
          "data": {
            "text/plain": [
              "LogisticRegression(C=1.0, class_weight=None, dual=False, fit_intercept=True,\n",
              "                   intercept_scaling=1, l1_ratio=None, max_iter=100,\n",
              "                   multi_class='auto', n_jobs=None, penalty='l2',\n",
              "                   random_state=None, solver='lbfgs', tol=0.0001, verbose=0,\n",
              "                   warm_start=False)"
            ]
          },
          "metadata": {
            "tags": []
          },
          "execution_count": 50
        }
      ]
    },
    {
      "cell_type": "markdown",
      "metadata": {
        "id": "TkQwHJLXGoat",
        "colab_type": "text"
      },
      "source": [
        "## Predict"
      ]
    },
    {
      "cell_type": "code",
      "metadata": {
        "id": "GREgLcr7GJe9",
        "colab_type": "code",
        "colab": {}
      },
      "source": [
        "pred_bow   = clf_bow.predict(X_test_bow)"
      ],
      "execution_count": 51,
      "outputs": []
    },
    {
      "cell_type": "markdown",
      "metadata": {
        "id": "S1t3sYUIxqor",
        "colab_type": "text"
      },
      "source": [
        "## Score"
      ]
    },
    {
      "cell_type": "code",
      "metadata": {
        "id": "bRHJgGKhG29v",
        "colab_type": "code",
        "colab": {
          "base_uri": "https://localhost:8080/",
          "height": 34
        },
        "outputId": "4759c8ca-46a0-4742-8b59-1d43eb045737"
      },
      "source": [
        "acc_bow   = accuracy_score(y_test_bow, pred_bow) * 100.\n",
        "results_df.loc['SpaCy + LR']   = [acc_bow]\n",
        "print(f'SpaCy + LR {acc_bow}')"
      ],
      "execution_count": 52,
      "outputs": [
        {
          "output_type": "stream",
          "text": [
            "SpaCy + LR 98.44000000000001\n"
          ],
          "name": "stdout"
        }
      ]
    },
    {
      "cell_type": "markdown",
      "metadata": {
        "id": "7SPQF-YmUq3J",
        "colab_type": "text"
      },
      "source": [
        "# Shifterator\n",
        "* A package that builds shift graphs\n",
        "* Shift rraphs are vertical bar charts quantifying:\n",
        "  * Pairwise differences in words between two texts\n",
        "  * How they contribute to scoring "
      ]
    },
    {
      "cell_type": "code",
      "metadata": {
        "id": "Nxt2ybDaU8xt",
        "colab_type": "code",
        "colab": {}
      },
      "source": [
        "spacy_pos_sent  = [sent  for sent, label in pos]\n",
        "spacy_neg_sent  = [sent  for sent, label in neg]"
      ],
      "execution_count": 53,
      "outputs": []
    },
    {
      "cell_type": "code",
      "metadata": {
        "id": "iVBaB3i7UsaB",
        "colab_type": "code",
        "colab": {}
      },
      "source": [
        "words_pos_vec = CountVectorizer(tokenizer = spacy_tokenizer, ngram_range=(1,1))\n",
        "words_neg_vec = CountVectorizer(tokenizer = spacy_tokenizer, ngram_range=(1,1))\n",
        "\n",
        "bow_pos = words_pos_vec.fit_transform(spacy_pos_sent)\n",
        "bow_neg = words_neg_vec.fit_transform(spacy_neg_sent)"
      ],
      "execution_count": 54,
      "outputs": []
    },
    {
      "cell_type": "code",
      "metadata": {
        "id": "0Ws0XPJTViZz",
        "colab_type": "code",
        "colab": {}
      },
      "source": [
        "pos_df = pd.DataFrame(bow_pos.toarray(), columns=words_pos_vec.get_feature_names())\n",
        "dict_pos = pos_df.sum().to_dict()\n",
        "\n",
        "neg_df = pd.DataFrame(bow_neg.toarray(), columns=words_neg_vec.get_feature_names())\n",
        "dict_neg = neg_df.sum().to_dict()"
      ],
      "execution_count": 55,
      "outputs": []
    },
    {
      "cell_type": "code",
      "metadata": {
        "id": "c0am9ifmVWBI",
        "colab_type": "code",
        "colab": {
          "base_uri": "https://localhost:8080/",
          "height": 1000
        },
        "outputId": "a9be5be0-59a8-4b9c-db2e-da8b926d9cd2"
      },
      "source": [
        "proportion_shift = sh.ProportionShift(type2freq_1=dict_pos,\n",
        "                                      type2freq_2=dict_neg)\n",
        "proportion_shift.get_shift_graph(system_names = ['Positive', 'Negative'],\n",
        "                                 title='Proportion Shift of Positive / Negative Tweets');"
      ],
      "execution_count": 56,
      "outputs": [
        {
          "output_type": "stream",
          "text": [
            "/usr/local/lib/python3.6/dist-packages/matplotlib/backends/backend_agg.py:214: RuntimeWarning: Glyph 12299 missing from current font.\n",
            "  font.set_text(s, 0.0, flags=flags)\n",
            "/usr/local/lib/python3.6/dist-packages/matplotlib/backends/backend_agg.py:214: RuntimeWarning: Glyph 12299 missing from current font.\n",
            "  font.set_text(s, 0.0, flags=flags)\n",
            "/usr/local/lib/python3.6/dist-packages/matplotlib/backends/backend_agg.py:183: RuntimeWarning: Glyph 12299 missing from current font.\n",
            "  font.set_text(s, 0, flags=flags)\n"
          ],
          "name": "stderr"
        },
        {
          "output_type": "display_data",
          "data": {
            "image/png": "[encoded data removed]",
            "text/plain": [
              "<Figure size 504x1080 with 3 Axes>"
            ]
          },
          "metadata": {
            "tags": [],
            "needs_background": "light"
          }
        }
      ]
    },
    {
      "cell_type": "markdown",
      "metadata": {
        "id": "bJXkutwxxcJL",
        "colab_type": "text"
      },
      "source": [
        "# Comparison"
      ]
    },
    {
      "cell_type": "code",
      "metadata": {
        "id": "xY-xOcItPF6a",
        "colab_type": "code",
        "colab": {
          "base_uri": "https://localhost:8080/",
          "height": 204
        },
        "outputId": "daf799bc-e8c8-4507-8e6a-8cd22f77634e"
      },
      "source": [
        "results_df['Error Rate'] = 100. - results_df.Accuracy\n",
        "results_df.sort_values('Error Rate', ascending=False)"
      ],
      "execution_count": 57,
      "outputs": [
        {
          "output_type": "execute_result",
          "data": {
            "text/html": [
              "<div>\n",
              "<style scoped>\n",
              "    .dataframe tbody tr th:only-of-type {\n",
              "        vertical-align: middle;\n",
              "    }\n",
              "\n",
              "    .dataframe tbody tr th {\n",
              "        vertical-align: top;\n",
              "    }\n",
              "\n",
              "    .dataframe thead th {\n",
              "        text-align: right;\n",
              "    }\n",
              "</style>\n",
              "<table border=\"1\" class=\"dataframe\">\n",
              "  <thead>\n",
              "    <tr style=\"text-align: right;\">\n",
              "      <th></th>\n",
              "      <th>Accuracy</th>\n",
              "      <th>Error Rate</th>\n",
              "    </tr>\n",
              "  </thead>\n",
              "  <tbody>\n",
              "    <tr>\n",
              "      <th>Pipelines</th>\n",
              "      <td>66.21</td>\n",
              "      <td>33.79</td>\n",
              "    </tr>\n",
              "    <tr>\n",
              "      <th>VADER</th>\n",
              "      <td>85.70</td>\n",
              "      <td>14.30</td>\n",
              "    </tr>\n",
              "    <tr>\n",
              "      <th>Naive Bayes</th>\n",
              "      <td>94.12</td>\n",
              "      <td>5.88</td>\n",
              "    </tr>\n",
              "    <tr>\n",
              "      <th>TextBlob</th>\n",
              "      <td>96.54</td>\n",
              "      <td>3.46</td>\n",
              "    </tr>\n",
              "    <tr>\n",
              "      <th>SpaCy + LR</th>\n",
              "      <td>98.44</td>\n",
              "      <td>1.56</td>\n",
              "    </tr>\n",
              "  </tbody>\n",
              "</table>\n",
              "</div>"
            ],
            "text/plain": [
              "             Accuracy  Error Rate\n",
              "Pipelines       66.21       33.79\n",
              "VADER           85.70       14.30\n",
              "Naive Bayes     94.12        5.88\n",
              "TextBlob        96.54        3.46\n",
              "SpaCy + LR      98.44        1.56"
            ]
          },
          "metadata": {
            "tags": []
          },
          "execution_count": 57
        }
      ]
    },
    {
      "cell_type": "code",
      "metadata": {
        "id": "TOtkpX6MSkVi",
        "colab_type": "code",
        "colab": {}
      },
      "source": [
        ""
      ],
      "execution_count": 57,
      "outputs": []
    }
  ]
}