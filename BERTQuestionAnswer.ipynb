{
  "nbformat": 4,
  "nbformat_minor": 0,
  "metadata": {
    "colab": {
      "name": "BERTQuestionAnswer.ipynb",
      "provenance": [],
      "collapsed_sections": [],
      "toc_visible": true,
      "authorship_tag": "ABX9TyOtSdcYPFqwBCELLiP1e7Tl",
      "include_colab_link": true
    },
    "kernelspec": {
      "name": "python3",
      "display_name": "Python 3"
    },
    "widgets": {
      "application/vnd.jupyter.widget-state+json": {
        "b12d63b17c99442e8c2ebed1ee6198ba": {
          "model_module": "@jupyter-widgets/controls",
          "model_name": "HBoxModel",
          "model_module_version": "1.5.0",
          "state": {
            "_view_name": "HBoxView",
            "_dom_classes": [],
            "_model_name": "HBoxModel",
            "_view_module": "@jupyter-widgets/controls",
            "_model_module_version": "1.5.0",
            "_view_count": null,
            "_view_module_version": "1.5.0",
            "box_style": "",
            "layout": "IPY_MODEL_38475f96fcb844e28a652aa1622ddc10",
            "_model_module": "@jupyter-widgets/controls",
            "children": [
              "IPY_MODEL_0222153e9d674c209551198ea68be94d",
              "IPY_MODEL_fe5c2744f9e9406fb12af4208d58c645",
              "IPY_MODEL_4251d9392f904629868295a8d149e605"
            ]
          }
        },
        "38475f96fcb844e28a652aa1622ddc10": {
          "model_module": "@jupyter-widgets/base",
          "model_name": "LayoutModel",
          "model_module_version": "1.2.0",
          "state": {
            "_view_name": "LayoutView",
            "grid_template_rows": null,
            "right": null,
            "justify_content": null,
            "_view_module": "@jupyter-widgets/base",
            "overflow": null,
            "_model_module_version": "1.2.0",
            "_view_count": null,
            "flex_flow": null,
            "width": null,
            "min_width": null,
            "border": null,
            "align_items": null,
            "bottom": null,
            "_model_module": "@jupyter-widgets/base",
            "top": null,
            "grid_column": null,
            "overflow_y": null,
            "overflow_x": null,
            "grid_auto_flow": null,
            "grid_area": null,
            "grid_template_columns": null,
            "flex": null,
            "_model_name": "LayoutModel",
            "justify_items": null,
            "grid_row": null,
            "max_height": null,
            "align_content": null,
            "visibility": null,
            "align_self": null,
            "height": null,
            "min_height": null,
            "padding": null,
            "grid_auto_rows": null,
            "grid_gap": null,
            "max_width": null,
            "order": null,
            "_view_module_version": "1.2.0",
            "grid_template_areas": null,
            "object_position": null,
            "object_fit": null,
            "grid_auto_columns": null,
            "margin": null,
            "display": null,
            "left": null
          }
        },
        "0222153e9d674c209551198ea68be94d": {
          "model_module": "@jupyter-widgets/controls",
          "model_name": "HTMLModel",
          "model_module_version": "1.5.0",
          "state": {
            "_view_name": "HTMLView",
            "style": "IPY_MODEL_8c06afb998444f8691dcc3cb5a199e61",
            "_dom_classes": [],
            "description": "",
            "_model_name": "HTMLModel",
            "placeholder": "​",
            "_view_module": "@jupyter-widgets/controls",
            "_model_module_version": "1.5.0",
            "value": "Downloading: 100%",
            "_view_count": null,
            "_view_module_version": "1.5.0",
            "description_tooltip": null,
            "_model_module": "@jupyter-widgets/controls",
            "layout": "IPY_MODEL_96802f80d02d44d5b6416d70398ccd01"
          }
        },
        "fe5c2744f9e9406fb12af4208d58c645": {
          "model_module": "@jupyter-widgets/controls",
          "model_name": "FloatProgressModel",
          "model_module_version": "1.5.0",
          "state": {
            "_view_name": "ProgressView",
            "style": "IPY_MODEL_28d04a67923e4b3fa4c2712698e601d5",
            "_dom_classes": [],
            "description": "",
            "_model_name": "FloatProgressModel",
            "bar_style": "success",
            "max": 443,
            "_view_module": "@jupyter-widgets/controls",
            "_model_module_version": "1.5.0",
            "value": 443,
            "_view_count": null,
            "_view_module_version": "1.5.0",
            "orientation": "horizontal",
            "min": 0,
            "description_tooltip": null,
            "_model_module": "@jupyter-widgets/controls",
            "layout": "IPY_MODEL_014ea893ebb44223b910719ae90f44ac"
          }
        },
        "4251d9392f904629868295a8d149e605": {
          "model_module": "@jupyter-widgets/controls",
          "model_name": "HTMLModel",
          "model_module_version": "1.5.0",
          "state": {
            "_view_name": "HTMLView",
            "style": "IPY_MODEL_1a18b07d6c1d4ee8b1cef9a26c788102",
            "_dom_classes": [],
            "description": "",
            "_model_name": "HTMLModel",
            "placeholder": "​",
            "_view_module": "@jupyter-widgets/controls",
            "_model_module_version": "1.5.0",
            "value": " 443/443 [00:00&lt;00:00, 9.20kB/s]",
            "_view_count": null,
            "_view_module_version": "1.5.0",
            "description_tooltip": null,
            "_model_module": "@jupyter-widgets/controls",
            "layout": "IPY_MODEL_ecbf6d61c2e9420c82727405a1591815"
          }
        },
        "8c06afb998444f8691dcc3cb5a199e61": {
          "model_module": "@jupyter-widgets/controls",
          "model_name": "DescriptionStyleModel",
          "model_module_version": "1.5.0",
          "state": {
            "_view_name": "StyleView",
            "_model_name": "DescriptionStyleModel",
            "description_width": "",
            "_view_module": "@jupyter-widgets/base",
            "_model_module_version": "1.5.0",
            "_view_count": null,
            "_view_module_version": "1.2.0",
            "_model_module": "@jupyter-widgets/controls"
          }
        },
        "96802f80d02d44d5b6416d70398ccd01": {
          "model_module": "@jupyter-widgets/base",
          "model_name": "LayoutModel",
          "model_module_version": "1.2.0",
          "state": {
            "_view_name": "LayoutView",
            "grid_template_rows": null,
            "right": null,
            "justify_content": null,
            "_view_module": "@jupyter-widgets/base",
            "overflow": null,
            "_model_module_version": "1.2.0",
            "_view_count": null,
            "flex_flow": null,
            "width": null,
            "min_width": null,
            "border": null,
            "align_items": null,
            "bottom": null,
            "_model_module": "@jupyter-widgets/base",
            "top": null,
            "grid_column": null,
            "overflow_y": null,
            "overflow_x": null,
            "grid_auto_flow": null,
            "grid_area": null,
            "grid_template_columns": null,
            "flex": null,
            "_model_name": "LayoutModel",
            "justify_items": null,
            "grid_row": null,
            "max_height": null,
            "align_content": null,
            "visibility": null,
            "align_self": null,
            "height": null,
            "min_height": null,
            "padding": null,
            "grid_auto_rows": null,
            "grid_gap": null,
            "max_width": null,
            "order": null,
            "_view_module_version": "1.2.0",
            "grid_template_areas": null,
            "object_position": null,
            "object_fit": null,
            "grid_auto_columns": null,
            "margin": null,
            "display": null,
            "left": null
          }
        },
        "28d04a67923e4b3fa4c2712698e601d5": {
          "model_module": "@jupyter-widgets/controls",
          "model_name": "ProgressStyleModel",
          "model_module_version": "1.5.0",
          "state": {
            "_view_name": "StyleView",
            "_model_name": "ProgressStyleModel",
            "description_width": "",
            "_view_module": "@jupyter-widgets/base",
            "_model_module_version": "1.5.0",
            "_view_count": null,
            "_view_module_version": "1.2.0",
            "bar_color": null,
            "_model_module": "@jupyter-widgets/controls"
          }
        },
        "014ea893ebb44223b910719ae90f44ac": {
          "model_module": "@jupyter-widgets/base",
          "model_name": "LayoutModel",
          "model_module_version": "1.2.0",
          "state": {
            "_view_name": "LayoutView",
            "grid_template_rows": null,
            "right": null,
            "justify_content": null,
            "_view_module": "@jupyter-widgets/base",
            "overflow": null,
            "_model_module_version": "1.2.0",
            "_view_count": null,
            "flex_flow": null,
            "width": null,
            "min_width": null,
            "border": null,
            "align_items": null,
            "bottom": null,
            "_model_module": "@jupyter-widgets/base",
            "top": null,
            "grid_column": null,
            "overflow_y": null,
            "overflow_x": null,
            "grid_auto_flow": null,
            "grid_area": null,
            "grid_template_columns": null,
            "flex": null,
            "_model_name": "LayoutModel",
            "justify_items": null,
            "grid_row": null,
            "max_height": null,
            "align_content": null,
            "visibility": null,
            "align_self": null,
            "height": null,
            "min_height": null,
            "padding": null,
            "grid_auto_rows": null,
            "grid_gap": null,
            "max_width": null,
            "order": null,
            "_view_module_version": "1.2.0",
            "grid_template_areas": null,
            "object_position": null,
            "object_fit": null,
            "grid_auto_columns": null,
            "margin": null,
            "display": null,
            "left": null
          }
        },
        "1a18b07d6c1d4ee8b1cef9a26c788102": {
          "model_module": "@jupyter-widgets/controls",
          "model_name": "DescriptionStyleModel",
          "model_module_version": "1.5.0",
          "state": {
            "_view_name": "StyleView",
            "_model_name": "DescriptionStyleModel",
            "description_width": "",
            "_view_module": "@jupyter-widgets/base",
            "_model_module_version": "1.5.0",
            "_view_count": null,
            "_view_module_version": "1.2.0",
            "_model_module": "@jupyter-widgets/controls"
          }
        },
        "ecbf6d61c2e9420c82727405a1591815": {
          "model_module": "@jupyter-widgets/base",
          "model_name": "LayoutModel",
          "model_module_version": "1.2.0",
          "state": {
            "_view_name": "LayoutView",
            "grid_template_rows": null,
            "right": null,
            "justify_content": null,
            "_view_module": "@jupyter-widgets/base",
            "overflow": null,
            "_model_module_version": "1.2.0",
            "_view_count": null,
            "flex_flow": null,
            "width": null,
            "min_width": null,
            "border": null,
            "align_items": null,
            "bottom": null,
            "_model_module": "@jupyter-widgets/base",
            "top": null,
            "grid_column": null,
            "overflow_y": null,
            "overflow_x": null,
            "grid_auto_flow": null,
            "grid_area": null,
            "grid_template_columns": null,
            "flex": null,
            "_model_name": "LayoutModel",
            "justify_items": null,
            "grid_row": null,
            "max_height": null,
            "align_content": null,
            "visibility": null,
            "align_self": null,
            "height": null,
            "min_height": null,
            "padding": null,
            "grid_auto_rows": null,
            "grid_gap": null,
            "max_width": null,
            "order": null,
            "_view_module_version": "1.2.0",
            "grid_template_areas": null,
            "object_position": null,
            "object_fit": null,
            "grid_auto_columns": null,
            "margin": null,
            "display": null,
            "left": null
          }
        },
        "171974d952be49e2a605c838a8608598": {
          "model_module": "@jupyter-widgets/controls",
          "model_name": "HBoxModel",
          "model_module_version": "1.5.0",
          "state": {
            "_view_name": "HBoxView",
            "_dom_classes": [],
            "_model_name": "HBoxModel",
            "_view_module": "@jupyter-widgets/controls",
            "_model_module_version": "1.5.0",
            "_view_count": null,
            "_view_module_version": "1.5.0",
            "box_style": "",
            "layout": "IPY_MODEL_113c7631ec944384a3322023f234dba1",
            "_model_module": "@jupyter-widgets/controls",
            "children": [
              "IPY_MODEL_74934b3a46c14559a4b91c2d8b763c32",
              "IPY_MODEL_7c48b55ffc0d4ae58ed242dbc7f0d9d7",
              "IPY_MODEL_cc8bc646d1a84bfa8cd93337ff7ecbb4"
            ]
          }
        },
        "113c7631ec944384a3322023f234dba1": {
          "model_module": "@jupyter-widgets/base",
          "model_name": "LayoutModel",
          "model_module_version": "1.2.0",
          "state": {
            "_view_name": "LayoutView",
            "grid_template_rows": null,
            "right": null,
            "justify_content": null,
            "_view_module": "@jupyter-widgets/base",
            "overflow": null,
            "_model_module_version": "1.2.0",
            "_view_count": null,
            "flex_flow": null,
            "width": null,
            "min_width": null,
            "border": null,
            "align_items": null,
            "bottom": null,
            "_model_module": "@jupyter-widgets/base",
            "top": null,
            "grid_column": null,
            "overflow_y": null,
            "overflow_x": null,
            "grid_auto_flow": null,
            "grid_area": null,
            "grid_template_columns": null,
            "flex": null,
            "_model_name": "LayoutModel",
            "justify_items": null,
            "grid_row": null,
            "max_height": null,
            "align_content": null,
            "visibility": null,
            "align_self": null,
            "height": null,
            "min_height": null,
            "padding": null,
            "grid_auto_rows": null,
            "grid_gap": null,
            "max_width": null,
            "order": null,
            "_view_module_version": "1.2.0",
            "grid_template_areas": null,
            "object_position": null,
            "object_fit": null,
            "grid_auto_columns": null,
            "margin": null,
            "display": null,
            "left": null
          }
        },
        "74934b3a46c14559a4b91c2d8b763c32": {
          "model_module": "@jupyter-widgets/controls",
          "model_name": "HTMLModel",
          "model_module_version": "1.5.0",
          "state": {
            "_view_name": "HTMLView",
            "style": "IPY_MODEL_016b1a58ccf345a79c23c826aebffabd",
            "_dom_classes": [],
            "description": "",
            "_model_name": "HTMLModel",
            "placeholder": "​",
            "_view_module": "@jupyter-widgets/controls",
            "_model_module_version": "1.5.0",
            "value": "Downloading: 100%",
            "_view_count": null,
            "_view_module_version": "1.5.0",
            "description_tooltip": null,
            "_model_module": "@jupyter-widgets/controls",
            "layout": "IPY_MODEL_3103048b3990404cb45269d763733d52"
          }
        },
        "7c48b55ffc0d4ae58ed242dbc7f0d9d7": {
          "model_module": "@jupyter-widgets/controls",
          "model_name": "FloatProgressModel",
          "model_module_version": "1.5.0",
          "state": {
            "_view_name": "ProgressView",
            "style": "IPY_MODEL_ecb37b45931b4c789ed327a5c0ed4f05",
            "_dom_classes": [],
            "description": "",
            "_model_name": "FloatProgressModel",
            "bar_style": "success",
            "max": 1340675298,
            "_view_module": "@jupyter-widgets/controls",
            "_model_module_version": "1.5.0",
            "value": 1340675298,
            "_view_count": null,
            "_view_module_version": "1.5.0",
            "orientation": "horizontal",
            "min": 0,
            "description_tooltip": null,
            "_model_module": "@jupyter-widgets/controls",
            "layout": "IPY_MODEL_331268c43a964180960818559e79aa80"
          }
        },
        "cc8bc646d1a84bfa8cd93337ff7ecbb4": {
          "model_module": "@jupyter-widgets/controls",
          "model_name": "HTMLModel",
          "model_module_version": "1.5.0",
          "state": {
            "_view_name": "HTMLView",
            "style": "IPY_MODEL_1e7f332ef3f24ea2ba10b680557b3778",
            "_dom_classes": [],
            "description": "",
            "_model_name": "HTMLModel",
            "placeholder": "​",
            "_view_module": "@jupyter-widgets/controls",
            "_model_module_version": "1.5.0",
            "value": " 1.25G/1.25G [00:30&lt;00:00, 45.5MB/s]",
            "_view_count": null,
            "_view_module_version": "1.5.0",
            "description_tooltip": null,
            "_model_module": "@jupyter-widgets/controls",
            "layout": "IPY_MODEL_86b73f84a97742e49afca6167c25b402"
          }
        },
        "016b1a58ccf345a79c23c826aebffabd": {
          "model_module": "@jupyter-widgets/controls",
          "model_name": "DescriptionStyleModel",
          "model_module_version": "1.5.0",
          "state": {
            "_view_name": "StyleView",
            "_model_name": "DescriptionStyleModel",
            "description_width": "",
            "_view_module": "@jupyter-widgets/base",
            "_model_module_version": "1.5.0",
            "_view_count": null,
            "_view_module_version": "1.2.0",
            "_model_module": "@jupyter-widgets/controls"
          }
        },
        "3103048b3990404cb45269d763733d52": {
          "model_module": "@jupyter-widgets/base",
          "model_name": "LayoutModel",
          "model_module_version": "1.2.0",
          "state": {
            "_view_name": "LayoutView",
            "grid_template_rows": null,
            "right": null,
            "justify_content": null,
            "_view_module": "@jupyter-widgets/base",
            "overflow": null,
            "_model_module_version": "1.2.0",
            "_view_count": null,
            "flex_flow": null,
            "width": null,
            "min_width": null,
            "border": null,
            "align_items": null,
            "bottom": null,
            "_model_module": "@jupyter-widgets/base",
            "top": null,
            "grid_column": null,
            "overflow_y": null,
            "overflow_x": null,
            "grid_auto_flow": null,
            "grid_area": null,
            "grid_template_columns": null,
            "flex": null,
            "_model_name": "LayoutModel",
            "justify_items": null,
            "grid_row": null,
            "max_height": null,
            "align_content": null,
            "visibility": null,
            "align_self": null,
            "height": null,
            "min_height": null,
            "padding": null,
            "grid_auto_rows": null,
            "grid_gap": null,
            "max_width": null,
            "order": null,
            "_view_module_version": "1.2.0",
            "grid_template_areas": null,
            "object_position": null,
            "object_fit": null,
            "grid_auto_columns": null,
            "margin": null,
            "display": null,
            "left": null
          }
        },
        "ecb37b45931b4c789ed327a5c0ed4f05": {
          "model_module": "@jupyter-widgets/controls",
          "model_name": "ProgressStyleModel",
          "model_module_version": "1.5.0",
          "state": {
            "_view_name": "StyleView",
            "_model_name": "ProgressStyleModel",
            "description_width": "",
            "_view_module": "@jupyter-widgets/base",
            "_model_module_version": "1.5.0",
            "_view_count": null,
            "_view_module_version": "1.2.0",
            "bar_color": null,
            "_model_module": "@jupyter-widgets/controls"
          }
        },
        "331268c43a964180960818559e79aa80": {
          "model_module": "@jupyter-widgets/base",
          "model_name": "LayoutModel",
          "model_module_version": "1.2.0",
          "state": {
            "_view_name": "LayoutView",
            "grid_template_rows": null,
            "right": null,
            "justify_content": null,
            "_view_module": "@jupyter-widgets/base",
            "overflow": null,
            "_model_module_version": "1.2.0",
            "_view_count": null,
            "flex_flow": null,
            "width": null,
            "min_width": null,
            "border": null,
            "align_items": null,
            "bottom": null,
            "_model_module": "@jupyter-widgets/base",
            "top": null,
            "grid_column": null,
            "overflow_y": null,
            "overflow_x": null,
            "grid_auto_flow": null,
            "grid_area": null,
            "grid_template_columns": null,
            "flex": null,
            "_model_name": "LayoutModel",
            "justify_items": null,
            "grid_row": null,
            "max_height": null,
            "align_content": null,
            "visibility": null,
            "align_self": null,
            "height": null,
            "min_height": null,
            "padding": null,
            "grid_auto_rows": null,
            "grid_gap": null,
            "max_width": null,
            "order": null,
            "_view_module_version": "1.2.0",
            "grid_template_areas": null,
            "object_position": null,
            "object_fit": null,
            "grid_auto_columns": null,
            "margin": null,
            "display": null,
            "left": null
          }
        },
        "1e7f332ef3f24ea2ba10b680557b3778": {
          "model_module": "@jupyter-widgets/controls",
          "model_name": "DescriptionStyleModel",
          "model_module_version": "1.5.0",
          "state": {
            "_view_name": "StyleView",
            "_model_name": "DescriptionStyleModel",
            "description_width": "",
            "_view_module": "@jupyter-widgets/base",
            "_model_module_version": "1.5.0",
            "_view_count": null,
            "_view_module_version": "1.2.0",
            "_model_module": "@jupyter-widgets/controls"
          }
        },
        "86b73f84a97742e49afca6167c25b402": {
          "model_module": "@jupyter-widgets/base",
          "model_name": "LayoutModel",
          "model_module_version": "1.2.0",
          "state": {
            "_view_name": "LayoutView",
            "grid_template_rows": null,
            "right": null,
            "justify_content": null,
            "_view_module": "@jupyter-widgets/base",
            "overflow": null,
            "_model_module_version": "1.2.0",
            "_view_count": null,
            "flex_flow": null,
            "width": null,
            "min_width": null,
            "border": null,
            "align_items": null,
            "bottom": null,
            "_model_module": "@jupyter-widgets/base",
            "top": null,
            "grid_column": null,
            "overflow_y": null,
            "overflow_x": null,
            "grid_auto_flow": null,
            "grid_area": null,
            "grid_template_columns": null,
            "flex": null,
            "_model_name": "LayoutModel",
            "justify_items": null,
            "grid_row": null,
            "max_height": null,
            "align_content": null,
            "visibility": null,
            "align_self": null,
            "height": null,
            "min_height": null,
            "padding": null,
            "grid_auto_rows": null,
            "grid_gap": null,
            "max_width": null,
            "order": null,
            "_view_module_version": "1.2.0",
            "grid_template_areas": null,
            "object_position": null,
            "object_fit": null,
            "grid_auto_columns": null,
            "margin": null,
            "display": null,
            "left": null
          }
        },
        "7a7499fb01c64bba8d2b6c3d6763b1ca": {
          "model_module": "@jupyter-widgets/controls",
          "model_name": "HBoxModel",
          "model_module_version": "1.5.0",
          "state": {
            "_view_name": "HBoxView",
            "_dom_classes": [],
            "_model_name": "HBoxModel",
            "_view_module": "@jupyter-widgets/controls",
            "_model_module_version": "1.5.0",
            "_view_count": null,
            "_view_module_version": "1.5.0",
            "box_style": "",
            "layout": "IPY_MODEL_e0ddd1cdd3994240bf9611dd5d063130",
            "_model_module": "@jupyter-widgets/controls",
            "children": [
              "IPY_MODEL_3e20ab85b04c40e29f850269b0cab420",
              "IPY_MODEL_e396695743004d5abcc473585039855b",
              "IPY_MODEL_67e01fd9d8b843a6a5d25cbb3434c447"
            ]
          }
        },
        "e0ddd1cdd3994240bf9611dd5d063130": {
          "model_module": "@jupyter-widgets/base",
          "model_name": "LayoutModel",
          "model_module_version": "1.2.0",
          "state": {
            "_view_name": "LayoutView",
            "grid_template_rows": null,
            "right": null,
            "justify_content": null,
            "_view_module": "@jupyter-widgets/base",
            "overflow": null,
            "_model_module_version": "1.2.0",
            "_view_count": null,
            "flex_flow": null,
            "width": null,
            "min_width": null,
            "border": null,
            "align_items": null,
            "bottom": null,
            "_model_module": "@jupyter-widgets/base",
            "top": null,
            "grid_column": null,
            "overflow_y": null,
            "overflow_x": null,
            "grid_auto_flow": null,
            "grid_area": null,
            "grid_template_columns": null,
            "flex": null,
            "_model_name": "LayoutModel",
            "justify_items": null,
            "grid_row": null,
            "max_height": null,
            "align_content": null,
            "visibility": null,
            "align_self": null,
            "height": null,
            "min_height": null,
            "padding": null,
            "grid_auto_rows": null,
            "grid_gap": null,
            "max_width": null,
            "order": null,
            "_view_module_version": "1.2.0",
            "grid_template_areas": null,
            "object_position": null,
            "object_fit": null,
            "grid_auto_columns": null,
            "margin": null,
            "display": null,
            "left": null
          }
        },
        "3e20ab85b04c40e29f850269b0cab420": {
          "model_module": "@jupyter-widgets/controls",
          "model_name": "HTMLModel",
          "model_module_version": "1.5.0",
          "state": {
            "_view_name": "HTMLView",
            "style": "IPY_MODEL_c4b16bb191dd4e2b84e3f206df0ddefc",
            "_dom_classes": [],
            "description": "",
            "_model_name": "HTMLModel",
            "placeholder": "​",
            "_view_module": "@jupyter-widgets/controls",
            "_model_module_version": "1.5.0",
            "value": "Downloading: 100%",
            "_view_count": null,
            "_view_module_version": "1.5.0",
            "description_tooltip": null,
            "_model_module": "@jupyter-widgets/controls",
            "layout": "IPY_MODEL_bb2847ad1ea44668ae95ffe7c424b8d5"
          }
        },
        "e396695743004d5abcc473585039855b": {
          "model_module": "@jupyter-widgets/controls",
          "model_name": "FloatProgressModel",
          "model_module_version": "1.5.0",
          "state": {
            "_view_name": "ProgressView",
            "style": "IPY_MODEL_f6d169f9899541e8a669664976761fc9",
            "_dom_classes": [],
            "description": "",
            "_model_name": "FloatProgressModel",
            "bar_style": "success",
            "max": 231508,
            "_view_module": "@jupyter-widgets/controls",
            "_model_module_version": "1.5.0",
            "value": 231508,
            "_view_count": null,
            "_view_module_version": "1.5.0",
            "orientation": "horizontal",
            "min": 0,
            "description_tooltip": null,
            "_model_module": "@jupyter-widgets/controls",
            "layout": "IPY_MODEL_17eb9a8f5fc5478386c8020b74404f7a"
          }
        },
        "67e01fd9d8b843a6a5d25cbb3434c447": {
          "model_module": "@jupyter-widgets/controls",
          "model_name": "HTMLModel",
          "model_module_version": "1.5.0",
          "state": {
            "_view_name": "HTMLView",
            "style": "IPY_MODEL_8e65bec24f194b97991d89b114437d8b",
            "_dom_classes": [],
            "description": "",
            "_model_name": "HTMLModel",
            "placeholder": "​",
            "_view_module": "@jupyter-widgets/controls",
            "_model_module_version": "1.5.0",
            "value": " 226k/226k [00:00&lt;00:00, 3.32MB/s]",
            "_view_count": null,
            "_view_module_version": "1.5.0",
            "description_tooltip": null,
            "_model_module": "@jupyter-widgets/controls",
            "layout": "IPY_MODEL_e9611ca6f5774f71909ea7196896350d"
          }
        },
        "c4b16bb191dd4e2b84e3f206df0ddefc": {
          "model_module": "@jupyter-widgets/controls",
          "model_name": "DescriptionStyleModel",
          "model_module_version": "1.5.0",
          "state": {
            "_view_name": "StyleView",
            "_model_name": "DescriptionStyleModel",
            "description_width": "",
            "_view_module": "@jupyter-widgets/base",
            "_model_module_version": "1.5.0",
            "_view_count": null,
            "_view_module_version": "1.2.0",
            "_model_module": "@jupyter-widgets/controls"
          }
        },
        "bb2847ad1ea44668ae95ffe7c424b8d5": {
          "model_module": "@jupyter-widgets/base",
          "model_name": "LayoutModel",
          "model_module_version": "1.2.0",
          "state": {
            "_view_name": "LayoutView",
            "grid_template_rows": null,
            "right": null,
            "justify_content": null,
            "_view_module": "@jupyter-widgets/base",
            "overflow": null,
            "_model_module_version": "1.2.0",
            "_view_count": null,
            "flex_flow": null,
            "width": null,
            "min_width": null,
            "border": null,
            "align_items": null,
            "bottom": null,
            "_model_module": "@jupyter-widgets/base",
            "top": null,
            "grid_column": null,
            "overflow_y": null,
            "overflow_x": null,
            "grid_auto_flow": null,
            "grid_area": null,
            "grid_template_columns": null,
            "flex": null,
            "_model_name": "LayoutModel",
            "justify_items": null,
            "grid_row": null,
            "max_height": null,
            "align_content": null,
            "visibility": null,
            "align_self": null,
            "height": null,
            "min_height": null,
            "padding": null,
            "grid_auto_rows": null,
            "grid_gap": null,
            "max_width": null,
            "order": null,
            "_view_module_version": "1.2.0",
            "grid_template_areas": null,
            "object_position": null,
            "object_fit": null,
            "grid_auto_columns": null,
            "margin": null,
            "display": null,
            "left": null
          }
        },
        "f6d169f9899541e8a669664976761fc9": {
          "model_module": "@jupyter-widgets/controls",
          "model_name": "ProgressStyleModel",
          "model_module_version": "1.5.0",
          "state": {
            "_view_name": "StyleView",
            "_model_name": "ProgressStyleModel",
            "description_width": "",
            "_view_module": "@jupyter-widgets/base",
            "_model_module_version": "1.5.0",
            "_view_count": null,
            "_view_module_version": "1.2.0",
            "bar_color": null,
            "_model_module": "@jupyter-widgets/controls"
          }
        },
        "17eb9a8f5fc5478386c8020b74404f7a": {
          "model_module": "@jupyter-widgets/base",
          "model_name": "LayoutModel",
          "model_module_version": "1.2.0",
          "state": {
            "_view_name": "LayoutView",
            "grid_template_rows": null,
            "right": null,
            "justify_content": null,
            "_view_module": "@jupyter-widgets/base",
            "overflow": null,
            "_model_module_version": "1.2.0",
            "_view_count": null,
            "flex_flow": null,
            "width": null,
            "min_width": null,
            "border": null,
            "align_items": null,
            "bottom": null,
            "_model_module": "@jupyter-widgets/base",
            "top": null,
            "grid_column": null,
            "overflow_y": null,
            "overflow_x": null,
            "grid_auto_flow": null,
            "grid_area": null,
            "grid_template_columns": null,
            "flex": null,
            "_model_name": "LayoutModel",
            "justify_items": null,
            "grid_row": null,
            "max_height": null,
            "align_content": null,
            "visibility": null,
            "align_self": null,
            "height": null,
            "min_height": null,
            "padding": null,
            "grid_auto_rows": null,
            "grid_gap": null,
            "max_width": null,
            "order": null,
            "_view_module_version": "1.2.0",
            "grid_template_areas": null,
            "object_position": null,
            "object_fit": null,
            "grid_auto_columns": null,
            "margin": null,
            "display": null,
            "left": null
          }
        },
        "8e65bec24f194b97991d89b114437d8b": {
          "model_module": "@jupyter-widgets/controls",
          "model_name": "DescriptionStyleModel",
          "model_module_version": "1.5.0",
          "state": {
            "_view_name": "StyleView",
            "_model_name": "DescriptionStyleModel",
            "description_width": "",
            "_view_module": "@jupyter-widgets/base",
            "_model_module_version": "1.5.0",
            "_view_count": null,
            "_view_module_version": "1.2.0",
            "_model_module": "@jupyter-widgets/controls"
          }
        },
        "e9611ca6f5774f71909ea7196896350d": {
          "model_module": "@jupyter-widgets/base",
          "model_name": "LayoutModel",
          "model_module_version": "1.2.0",
          "state": {
            "_view_name": "LayoutView",
            "grid_template_rows": null,
            "right": null,
            "justify_content": null,
            "_view_module": "@jupyter-widgets/base",
            "overflow": null,
            "_model_module_version": "1.2.0",
            "_view_count": null,
            "flex_flow": null,
            "width": null,
            "min_width": null,
            "border": null,
            "align_items": null,
            "bottom": null,
            "_model_module": "@jupyter-widgets/base",
            "top": null,
            "grid_column": null,
            "overflow_y": null,
            "overflow_x": null,
            "grid_auto_flow": null,
            "grid_area": null,
            "grid_template_columns": null,
            "flex": null,
            "_model_name": "LayoutModel",
            "justify_items": null,
            "grid_row": null,
            "max_height": null,
            "align_content": null,
            "visibility": null,
            "align_self": null,
            "height": null,
            "min_height": null,
            "padding": null,
            "grid_auto_rows": null,
            "grid_gap": null,
            "max_width": null,
            "order": null,
            "_view_module_version": "1.2.0",
            "grid_template_areas": null,
            "object_position": null,
            "object_fit": null,
            "grid_auto_columns": null,
            "margin": null,
            "display": null,
            "left": null
          }
        },
        "b5bab1883c0a4cd8b40bd19b5b43cf2f": {
          "model_module": "@jupyter-widgets/controls",
          "model_name": "HBoxModel",
          "model_module_version": "1.5.0",
          "state": {
            "_view_name": "HBoxView",
            "_dom_classes": [],
            "_model_name": "HBoxModel",
            "_view_module": "@jupyter-widgets/controls",
            "_model_module_version": "1.5.0",
            "_view_count": null,
            "_view_module_version": "1.5.0",
            "box_style": "",
            "layout": "IPY_MODEL_b6809085dee844cdb6887375df2c8f75",
            "_model_module": "@jupyter-widgets/controls",
            "children": [
              "IPY_MODEL_11f5f65055334fd79139ed66470ab232",
              "IPY_MODEL_d22036024c1e4032a918e9a6560d6ef6",
              "IPY_MODEL_bde5b96a1d5145818c06a977485aecd0"
            ]
          }
        },
        "b6809085dee844cdb6887375df2c8f75": {
          "model_module": "@jupyter-widgets/base",
          "model_name": "LayoutModel",
          "model_module_version": "1.2.0",
          "state": {
            "_view_name": "LayoutView",
            "grid_template_rows": null,
            "right": null,
            "justify_content": null,
            "_view_module": "@jupyter-widgets/base",
            "overflow": null,
            "_model_module_version": "1.2.0",
            "_view_count": null,
            "flex_flow": null,
            "width": null,
            "min_width": null,
            "border": null,
            "align_items": null,
            "bottom": null,
            "_model_module": "@jupyter-widgets/base",
            "top": null,
            "grid_column": null,
            "overflow_y": null,
            "overflow_x": null,
            "grid_auto_flow": null,
            "grid_area": null,
            "grid_template_columns": null,
            "flex": null,
            "_model_name": "LayoutModel",
            "justify_items": null,
            "grid_row": null,
            "max_height": null,
            "align_content": null,
            "visibility": null,
            "align_self": null,
            "height": null,
            "min_height": null,
            "padding": null,
            "grid_auto_rows": null,
            "grid_gap": null,
            "max_width": null,
            "order": null,
            "_view_module_version": "1.2.0",
            "grid_template_areas": null,
            "object_position": null,
            "object_fit": null,
            "grid_auto_columns": null,
            "margin": null,
            "display": null,
            "left": null
          }
        },
        "11f5f65055334fd79139ed66470ab232": {
          "model_module": "@jupyter-widgets/controls",
          "model_name": "HTMLModel",
          "model_module_version": "1.5.0",
          "state": {
            "_view_name": "HTMLView",
            "style": "IPY_MODEL_a7b29291faae4501942020f950349751",
            "_dom_classes": [],
            "description": "",
            "_model_name": "HTMLModel",
            "placeholder": "​",
            "_view_module": "@jupyter-widgets/controls",
            "_model_module_version": "1.5.0",
            "value": "Downloading: 100%",
            "_view_count": null,
            "_view_module_version": "1.5.0",
            "description_tooltip": null,
            "_model_module": "@jupyter-widgets/controls",
            "layout": "IPY_MODEL_0fa2462723f843b6b9935362d3a315c6"
          }
        },
        "d22036024c1e4032a918e9a6560d6ef6": {
          "model_module": "@jupyter-widgets/controls",
          "model_name": "FloatProgressModel",
          "model_module_version": "1.5.0",
          "state": {
            "_view_name": "ProgressView",
            "style": "IPY_MODEL_c011fcb6530340d4b5321e99456e7023",
            "_dom_classes": [],
            "description": "",
            "_model_name": "FloatProgressModel",
            "bar_style": "success",
            "max": 28,
            "_view_module": "@jupyter-widgets/controls",
            "_model_module_version": "1.5.0",
            "value": 28,
            "_view_count": null,
            "_view_module_version": "1.5.0",
            "orientation": "horizontal",
            "min": 0,
            "description_tooltip": null,
            "_model_module": "@jupyter-widgets/controls",
            "layout": "IPY_MODEL_9e572edb5bc540869581f31d03c43964"
          }
        },
        "bde5b96a1d5145818c06a977485aecd0": {
          "model_module": "@jupyter-widgets/controls",
          "model_name": "HTMLModel",
          "model_module_version": "1.5.0",
          "state": {
            "_view_name": "HTMLView",
            "style": "IPY_MODEL_9a8326ae0b4d40059cd7866bf202de50",
            "_dom_classes": [],
            "description": "",
            "_model_name": "HTMLModel",
            "placeholder": "​",
            "_view_module": "@jupyter-widgets/controls",
            "_model_module_version": "1.5.0",
            "value": " 28.0/28.0 [00:00&lt;00:00, 708B/s]",
            "_view_count": null,
            "_view_module_version": "1.5.0",
            "description_tooltip": null,
            "_model_module": "@jupyter-widgets/controls",
            "layout": "IPY_MODEL_9f1e5f7f50be4dc68b16e43b56091637"
          }
        },
        "a7b29291faae4501942020f950349751": {
          "model_module": "@jupyter-widgets/controls",
          "model_name": "DescriptionStyleModel",
          "model_module_version": "1.5.0",
          "state": {
            "_view_name": "StyleView",
            "_model_name": "DescriptionStyleModel",
            "description_width": "",
            "_view_module": "@jupyter-widgets/base",
            "_model_module_version": "1.5.0",
            "_view_count": null,
            "_view_module_version": "1.2.0",
            "_model_module": "@jupyter-widgets/controls"
          }
        },
        "0fa2462723f843b6b9935362d3a315c6": {
          "model_module": "@jupyter-widgets/base",
          "model_name": "LayoutModel",
          "model_module_version": "1.2.0",
          "state": {
            "_view_name": "LayoutView",
            "grid_template_rows": null,
            "right": null,
            "justify_content": null,
            "_view_module": "@jupyter-widgets/base",
            "overflow": null,
            "_model_module_version": "1.2.0",
            "_view_count": null,
            "flex_flow": null,
            "width": null,
            "min_width": null,
            "border": null,
            "align_items": null,
            "bottom": null,
            "_model_module": "@jupyter-widgets/base",
            "top": null,
            "grid_column": null,
            "overflow_y": null,
            "overflow_x": null,
            "grid_auto_flow": null,
            "grid_area": null,
            "grid_template_columns": null,
            "flex": null,
            "_model_name": "LayoutModel",
            "justify_items": null,
            "grid_row": null,
            "max_height": null,
            "align_content": null,
            "visibility": null,
            "align_self": null,
            "height": null,
            "min_height": null,
            "padding": null,
            "grid_auto_rows": null,
            "grid_gap": null,
            "max_width": null,
            "order": null,
            "_view_module_version": "1.2.0",
            "grid_template_areas": null,
            "object_position": null,
            "object_fit": null,
            "grid_auto_columns": null,
            "margin": null,
            "display": null,
            "left": null
          }
        },
        "c011fcb6530340d4b5321e99456e7023": {
          "model_module": "@jupyter-widgets/controls",
          "model_name": "ProgressStyleModel",
          "model_module_version": "1.5.0",
          "state": {
            "_view_name": "StyleView",
            "_model_name": "ProgressStyleModel",
            "description_width": "",
            "_view_module": "@jupyter-widgets/base",
            "_model_module_version": "1.5.0",
            "_view_count": null,
            "_view_module_version": "1.2.0",
            "bar_color": null,
            "_model_module": "@jupyter-widgets/controls"
          }
        },
        "9e572edb5bc540869581f31d03c43964": {
          "model_module": "@jupyter-widgets/base",
          "model_name": "LayoutModel",
          "model_module_version": "1.2.0",
          "state": {
            "_view_name": "LayoutView",
            "grid_template_rows": null,
            "right": null,
            "justify_content": null,
            "_view_module": "@jupyter-widgets/base",
            "overflow": null,
            "_model_module_version": "1.2.0",
            "_view_count": null,
            "flex_flow": null,
            "width": null,
            "min_width": null,
            "border": null,
            "align_items": null,
            "bottom": null,
            "_model_module": "@jupyter-widgets/base",
            "top": null,
            "grid_column": null,
            "overflow_y": null,
            "overflow_x": null,
            "grid_auto_flow": null,
            "grid_area": null,
            "grid_template_columns": null,
            "flex": null,
            "_model_name": "LayoutModel",
            "justify_items": null,
            "grid_row": null,
            "max_height": null,
            "align_content": null,
            "visibility": null,
            "align_self": null,
            "height": null,
            "min_height": null,
            "padding": null,
            "grid_auto_rows": null,
            "grid_gap": null,
            "max_width": null,
            "order": null,
            "_view_module_version": "1.2.0",
            "grid_template_areas": null,
            "object_position": null,
            "object_fit": null,
            "grid_auto_columns": null,
            "margin": null,
            "display": null,
            "left": null
          }
        },
        "9a8326ae0b4d40059cd7866bf202de50": {
          "model_module": "@jupyter-widgets/controls",
          "model_name": "DescriptionStyleModel",
          "model_module_version": "1.5.0",
          "state": {
            "_view_name": "StyleView",
            "_model_name": "DescriptionStyleModel",
            "description_width": "",
            "_view_module": "@jupyter-widgets/base",
            "_model_module_version": "1.5.0",
            "_view_count": null,
            "_view_module_version": "1.2.0",
            "_model_module": "@jupyter-widgets/controls"
          }
        },
        "9f1e5f7f50be4dc68b16e43b56091637": {
          "model_module": "@jupyter-widgets/base",
          "model_name": "LayoutModel",
          "model_module_version": "1.2.0",
          "state": {
            "_view_name": "LayoutView",
            "grid_template_rows": null,
            "right": null,
            "justify_content": null,
            "_view_module": "@jupyter-widgets/base",
            "overflow": null,
            "_model_module_version": "1.2.0",
            "_view_count": null,
            "flex_flow": null,
            "width": null,
            "min_width": null,
            "border": null,
            "align_items": null,
            "bottom": null,
            "_model_module": "@jupyter-widgets/base",
            "top": null,
            "grid_column": null,
            "overflow_y": null,
            "overflow_x": null,
            "grid_auto_flow": null,
            "grid_area": null,
            "grid_template_columns": null,
            "flex": null,
            "_model_name": "LayoutModel",
            "justify_items": null,
            "grid_row": null,
            "max_height": null,
            "align_content": null,
            "visibility": null,
            "align_self": null,
            "height": null,
            "min_height": null,
            "padding": null,
            "grid_auto_rows": null,
            "grid_gap": null,
            "max_width": null,
            "order": null,
            "_view_module_version": "1.2.0",
            "grid_template_areas": null,
            "object_position": null,
            "object_fit": null,
            "grid_auto_columns": null,
            "margin": null,
            "display": null,
            "left": null
          }
        },
        "32a6a70c3f8d4e718fea06a4f4376a23": {
          "model_module": "@jupyter-widgets/controls",
          "model_name": "HBoxModel",
          "model_module_version": "1.5.0",
          "state": {
            "_view_name": "HBoxView",
            "_dom_classes": [],
            "_model_name": "HBoxModel",
            "_view_module": "@jupyter-widgets/controls",
            "_model_module_version": "1.5.0",
            "_view_count": null,
            "_view_module_version": "1.5.0",
            "box_style": "",
            "layout": "IPY_MODEL_939619843c9c497e8c3413e86612e040",
            "_model_module": "@jupyter-widgets/controls",
            "children": [
              "IPY_MODEL_add800ed25c24af59c2fd742552f3c0c",
              "IPY_MODEL_af1fa5a611674c13b54850057ecf7ef2",
              "IPY_MODEL_a38fe39f312244df9e5653c148ae97ce"
            ]
          }
        },
        "939619843c9c497e8c3413e86612e040": {
          "model_module": "@jupyter-widgets/base",
          "model_name": "LayoutModel",
          "model_module_version": "1.2.0",
          "state": {
            "_view_name": "LayoutView",
            "grid_template_rows": null,
            "right": null,
            "justify_content": null,
            "_view_module": "@jupyter-widgets/base",
            "overflow": null,
            "_model_module_version": "1.2.0",
            "_view_count": null,
            "flex_flow": null,
            "width": null,
            "min_width": null,
            "border": null,
            "align_items": null,
            "bottom": null,
            "_model_module": "@jupyter-widgets/base",
            "top": null,
            "grid_column": null,
            "overflow_y": null,
            "overflow_x": null,
            "grid_auto_flow": null,
            "grid_area": null,
            "grid_template_columns": null,
            "flex": null,
            "_model_name": "LayoutModel",
            "justify_items": null,
            "grid_row": null,
            "max_height": null,
            "align_content": null,
            "visibility": null,
            "align_self": null,
            "height": null,
            "min_height": null,
            "padding": null,
            "grid_auto_rows": null,
            "grid_gap": null,
            "max_width": null,
            "order": null,
            "_view_module_version": "1.2.0",
            "grid_template_areas": null,
            "object_position": null,
            "object_fit": null,
            "grid_auto_columns": null,
            "margin": null,
            "display": null,
            "left": null
          }
        },
        "add800ed25c24af59c2fd742552f3c0c": {
          "model_module": "@jupyter-widgets/controls",
          "model_name": "HTMLModel",
          "model_module_version": "1.5.0",
          "state": {
            "_view_name": "HTMLView",
            "style": "IPY_MODEL_aa6e339f5db24fbb9e65340fbce3bda2",
            "_dom_classes": [],
            "description": "",
            "_model_name": "HTMLModel",
            "placeholder": "​",
            "_view_module": "@jupyter-widgets/controls",
            "_model_module_version": "1.5.0",
            "value": "Downloading: 100%",
            "_view_count": null,
            "_view_module_version": "1.5.0",
            "description_tooltip": null,
            "_model_module": "@jupyter-widgets/controls",
            "layout": "IPY_MODEL_2ec4d227f53f434188be859589bdc350"
          }
        },
        "af1fa5a611674c13b54850057ecf7ef2": {
          "model_module": "@jupyter-widgets/controls",
          "model_name": "FloatProgressModel",
          "model_module_version": "1.5.0",
          "state": {
            "_view_name": "ProgressView",
            "style": "IPY_MODEL_519c8f46e5824d2bbafb74b0abb033f8",
            "_dom_classes": [],
            "description": "",
            "_model_name": "FloatProgressModel",
            "bar_style": "success",
            "max": 466062,
            "_view_module": "@jupyter-widgets/controls",
            "_model_module_version": "1.5.0",
            "value": 466062,
            "_view_count": null,
            "_view_module_version": "1.5.0",
            "orientation": "horizontal",
            "min": 0,
            "description_tooltip": null,
            "_model_module": "@jupyter-widgets/controls",
            "layout": "IPY_MODEL_a490056cc73c4c7da8b229ea2b40bb84"
          }
        },
        "a38fe39f312244df9e5653c148ae97ce": {
          "model_module": "@jupyter-widgets/controls",
          "model_name": "HTMLModel",
          "model_module_version": "1.5.0",
          "state": {
            "_view_name": "HTMLView",
            "style": "IPY_MODEL_d9977a80269b451989a22d13e1637537",
            "_dom_classes": [],
            "description": "",
            "_model_name": "HTMLModel",
            "placeholder": "​",
            "_view_module": "@jupyter-widgets/controls",
            "_model_module_version": "1.5.0",
            "value": " 455k/455k [00:00&lt;00:00, 6.29MB/s]",
            "_view_count": null,
            "_view_module_version": "1.5.0",
            "description_tooltip": null,
            "_model_module": "@jupyter-widgets/controls",
            "layout": "IPY_MODEL_1774b080799142c79a08d80f813b1176"
          }
        },
        "aa6e339f5db24fbb9e65340fbce3bda2": {
          "model_module": "@jupyter-widgets/controls",
          "model_name": "DescriptionStyleModel",
          "model_module_version": "1.5.0",
          "state": {
            "_view_name": "StyleView",
            "_model_name": "DescriptionStyleModel",
            "description_width": "",
            "_view_module": "@jupyter-widgets/base",
            "_model_module_version": "1.5.0",
            "_view_count": null,
            "_view_module_version": "1.2.0",
            "_model_module": "@jupyter-widgets/controls"
          }
        },
        "2ec4d227f53f434188be859589bdc350": {
          "model_module": "@jupyter-widgets/base",
          "model_name": "LayoutModel",
          "model_module_version": "1.2.0",
          "state": {
            "_view_name": "LayoutView",
            "grid_template_rows": null,
            "right": null,
            "justify_content": null,
            "_view_module": "@jupyter-widgets/base",
            "overflow": null,
            "_model_module_version": "1.2.0",
            "_view_count": null,
            "flex_flow": null,
            "width": null,
            "min_width": null,
            "border": null,
            "align_items": null,
            "bottom": null,
            "_model_module": "@jupyter-widgets/base",
            "top": null,
            "grid_column": null,
            "overflow_y": null,
            "overflow_x": null,
            "grid_auto_flow": null,
            "grid_area": null,
            "grid_template_columns": null,
            "flex": null,
            "_model_name": "LayoutModel",
            "justify_items": null,
            "grid_row": null,
            "max_height": null,
            "align_content": null,
            "visibility": null,
            "align_self": null,
            "height": null,
            "min_height": null,
            "padding": null,
            "grid_auto_rows": null,
            "grid_gap": null,
            "max_width": null,
            "order": null,
            "_view_module_version": "1.2.0",
            "grid_template_areas": null,
            "object_position": null,
            "object_fit": null,
            "grid_auto_columns": null,
            "margin": null,
            "display": null,
            "left": null
          }
        },
        "519c8f46e5824d2bbafb74b0abb033f8": {
          "model_module": "@jupyter-widgets/controls",
          "model_name": "ProgressStyleModel",
          "model_module_version": "1.5.0",
          "state": {
            "_view_name": "StyleView",
            "_model_name": "ProgressStyleModel",
            "description_width": "",
            "_view_module": "@jupyter-widgets/base",
            "_model_module_version": "1.5.0",
            "_view_count": null,
            "_view_module_version": "1.2.0",
            "bar_color": null,
            "_model_module": "@jupyter-widgets/controls"
          }
        },
        "a490056cc73c4c7da8b229ea2b40bb84": {
          "model_module": "@jupyter-widgets/base",
          "model_name": "LayoutModel",
          "model_module_version": "1.2.0",
          "state": {
            "_view_name": "LayoutView",
            "grid_template_rows": null,
            "right": null,
            "justify_content": null,
            "_view_module": "@jupyter-widgets/base",
            "overflow": null,
            "_model_module_version": "1.2.0",
            "_view_count": null,
            "flex_flow": null,
            "width": null,
            "min_width": null,
            "border": null,
            "align_items": null,
            "bottom": null,
            "_model_module": "@jupyter-widgets/base",
            "top": null,
            "grid_column": null,
            "overflow_y": null,
            "overflow_x": null,
            "grid_auto_flow": null,
            "grid_area": null,
            "grid_template_columns": null,
            "flex": null,
            "_model_name": "LayoutModel",
            "justify_items": null,
            "grid_row": null,
            "max_height": null,
            "align_content": null,
            "visibility": null,
            "align_self": null,
            "height": null,
            "min_height": null,
            "padding": null,
            "grid_auto_rows": null,
            "grid_gap": null,
            "max_width": null,
            "order": null,
            "_view_module_version": "1.2.0",
            "grid_template_areas": null,
            "object_position": null,
            "object_fit": null,
            "grid_auto_columns": null,
            "margin": null,
            "display": null,
            "left": null
          }
        },
        "d9977a80269b451989a22d13e1637537": {
          "model_module": "@jupyter-widgets/controls",
          "model_name": "DescriptionStyleModel",
          "model_module_version": "1.5.0",
          "state": {
            "_view_name": "StyleView",
            "_model_name": "DescriptionStyleModel",
            "description_width": "",
            "_view_module": "@jupyter-widgets/base",
            "_model_module_version": "1.5.0",
            "_view_count": null,
            "_view_module_version": "1.2.0",
            "_model_module": "@jupyter-widgets/controls"
          }
        },
        "1774b080799142c79a08d80f813b1176": {
          "model_module": "@jupyter-widgets/base",
          "model_name": "LayoutModel",
          "model_module_version": "1.2.0",
          "state": {
            "_view_name": "LayoutView",
            "grid_template_rows": null,
            "right": null,
            "justify_content": null,
            "_view_module": "@jupyter-widgets/base",
            "overflow": null,
            "_model_module_version": "1.2.0",
            "_view_count": null,
            "flex_flow": null,
            "width": null,
            "min_width": null,
            "border": null,
            "align_items": null,
            "bottom": null,
            "_model_module": "@jupyter-widgets/base",
            "top": null,
            "grid_column": null,
            "overflow_y": null,
            "overflow_x": null,
            "grid_auto_flow": null,
            "grid_area": null,
            "grid_template_columns": null,
            "flex": null,
            "_model_name": "LayoutModel",
            "justify_items": null,
            "grid_row": null,
            "max_height": null,
            "align_content": null,
            "visibility": null,
            "align_self": null,
            "height": null,
            "min_height": null,
            "padding": null,
            "grid_auto_rows": null,
            "grid_gap": null,
            "max_width": null,
            "order": null,
            "_view_module_version": "1.2.0",
            "grid_template_areas": null,
            "object_position": null,
            "object_fit": null,
            "grid_auto_columns": null,
            "margin": null,
            "display": null,
            "left": null
          }
        }
      }
    }
  },
  "cells": [
    {
      "cell_type": "markdown",
      "metadata": {
        "id": "view-in-github",
        "colab_type": "text"
      },
      "source": [
        "<a href=\"https://colab.research.google.com/github/swilsonmfc/nlp/blob/master/BERTQuestionAnswer.ipynb\" target=\"_parent\"><img src=\"https://colab.research.google.com/assets/colab-badge.svg\" alt=\"Open In Colab\"/></a>"
      ]
    },
    {
      "cell_type": "markdown",
      "metadata": {
        "id": "yOszw0BKI1dj"
      },
      "source": [
        "# BERT Question - Answer\n",
        "\n",
        "![](https://garzaprotocol.com/wp-content/uploads/questions-answers.jpg)"
      ]
    },
    {
      "cell_type": "markdown",
      "metadata": {
        "id": "KcfXgcRXcZDy"
      },
      "source": [
        "# Setup"
      ]
    },
    {
      "cell_type": "code",
      "metadata": {
        "id": "caoCjxEzJWUQ",
        "outputId": "d9e4f6e0-5da1-4907-f99a-f871976feb68",
        "colab": {
          "base_uri": "https://localhost:8080/"
        }
      },
      "source": [
        "!pip install transformers"
      ],
      "execution_count": 1,
      "outputs": [
        {
          "output_type": "stream",
          "name": "stdout",
          "text": [
            "Collecting transformers\n",
            "  Downloading transformers-4.15.0-py3-none-any.whl (3.4 MB)\n",
            "\u001b[K     |████████████████████████████████| 3.4 MB 18.6 MB/s \n",
            "\u001b[?25hCollecting tokenizers<0.11,>=0.10.1\n",
            "  Downloading tokenizers-0.10.3-cp37-cp37m-manylinux_2_5_x86_64.manylinux1_x86_64.manylinux_2_12_x86_64.manylinux2010_x86_64.whl (3.3 MB)\n",
            "\u001b[K     |████████████████████████████████| 3.3 MB 42.0 MB/s \n",
            "\u001b[?25hRequirement already satisfied: packaging>=20.0 in /usr/local/lib/python3.7/dist-packages (from transformers) (21.3)\n",
            "Requirement already satisfied: importlib-metadata in /usr/local/lib/python3.7/dist-packages (from transformers) (4.10.0)\n",
            "Collecting sacremoses\n",
            "  Downloading sacremoses-0.0.47-py2.py3-none-any.whl (895 kB)\n",
            "\u001b[K     |████████████████████████████████| 895 kB 41.2 MB/s \n",
            "\u001b[?25hRequirement already satisfied: tqdm>=4.27 in /usr/local/lib/python3.7/dist-packages (from transformers) (4.62.3)\n",
            "Requirement already satisfied: numpy>=1.17 in /usr/local/lib/python3.7/dist-packages (from transformers) (1.19.5)\n",
            "Collecting pyyaml>=5.1\n",
            "  Downloading PyYAML-6.0-cp37-cp37m-manylinux_2_5_x86_64.manylinux1_x86_64.manylinux_2_12_x86_64.manylinux2010_x86_64.whl (596 kB)\n",
            "\u001b[K     |████████████████████████████████| 596 kB 43.0 MB/s \n",
            "\u001b[?25hRequirement already satisfied: regex!=2019.12.17 in /usr/local/lib/python3.7/dist-packages (from transformers) (2019.12.20)\n",
            "Requirement already satisfied: requests in /usr/local/lib/python3.7/dist-packages (from transformers) (2.23.0)\n",
            "Requirement already satisfied: filelock in /usr/local/lib/python3.7/dist-packages (from transformers) (3.4.2)\n",
            "Collecting huggingface-hub<1.0,>=0.1.0\n",
            "  Downloading huggingface_hub-0.4.0-py3-none-any.whl (67 kB)\n",
            "\u001b[K     |████████████████████████████████| 67 kB 3.0 MB/s \n",
            "\u001b[?25hRequirement already satisfied: typing-extensions>=3.7.4.3 in /usr/local/lib/python3.7/dist-packages (from huggingface-hub<1.0,>=0.1.0->transformers) (3.10.0.2)\n",
            "Requirement already satisfied: pyparsing!=3.0.5,>=2.0.2 in /usr/local/lib/python3.7/dist-packages (from packaging>=20.0->transformers) (3.0.6)\n",
            "Requirement already satisfied: zipp>=0.5 in /usr/local/lib/python3.7/dist-packages (from importlib-metadata->transformers) (3.7.0)\n",
            "Requirement already satisfied: idna<3,>=2.5 in /usr/local/lib/python3.7/dist-packages (from requests->transformers) (2.10)\n",
            "Requirement already satisfied: urllib3!=1.25.0,!=1.25.1,<1.26,>=1.21.1 in /usr/local/lib/python3.7/dist-packages (from requests->transformers) (1.24.3)\n",
            "Requirement already satisfied: chardet<4,>=3.0.2 in /usr/local/lib/python3.7/dist-packages (from requests->transformers) (3.0.4)\n",
            "Requirement already satisfied: certifi>=2017.4.17 in /usr/local/lib/python3.7/dist-packages (from requests->transformers) (2021.10.8)\n",
            "Requirement already satisfied: six in /usr/local/lib/python3.7/dist-packages (from sacremoses->transformers) (1.15.0)\n",
            "Requirement already satisfied: click in /usr/local/lib/python3.7/dist-packages (from sacremoses->transformers) (7.1.2)\n",
            "Requirement already satisfied: joblib in /usr/local/lib/python3.7/dist-packages (from sacremoses->transformers) (1.1.0)\n",
            "Installing collected packages: pyyaml, tokenizers, sacremoses, huggingface-hub, transformers\n",
            "  Attempting uninstall: pyyaml\n",
            "    Found existing installation: PyYAML 3.13\n",
            "    Uninstalling PyYAML-3.13:\n",
            "      Successfully uninstalled PyYAML-3.13\n",
            "Successfully installed huggingface-hub-0.4.0 pyyaml-6.0 sacremoses-0.0.47 tokenizers-0.10.3 transformers-4.15.0\n"
          ]
        }
      ]
    },
    {
      "cell_type": "code",
      "metadata": {
        "id": "XJdoPrqEQn6D",
        "outputId": "f17b5226-d467-4b09-c964-590823c4f533",
        "colab": {
          "base_uri": "https://localhost:8080/"
        }
      },
      "source": [
        "!pip install wikipedia"
      ],
      "execution_count": 2,
      "outputs": [
        {
          "output_type": "stream",
          "name": "stdout",
          "text": [
            "Collecting wikipedia\n",
            "  Downloading wikipedia-1.4.0.tar.gz (27 kB)\n",
            "Requirement already satisfied: beautifulsoup4 in /usr/local/lib/python3.7/dist-packages (from wikipedia) (4.6.3)\n",
            "Requirement already satisfied: requests<3.0.0,>=2.0.0 in /usr/local/lib/python3.7/dist-packages (from wikipedia) (2.23.0)\n",
            "Requirement already satisfied: idna<3,>=2.5 in /usr/local/lib/python3.7/dist-packages (from requests<3.0.0,>=2.0.0->wikipedia) (2.10)\n",
            "Requirement already satisfied: chardet<4,>=3.0.2 in /usr/local/lib/python3.7/dist-packages (from requests<3.0.0,>=2.0.0->wikipedia) (3.0.4)\n",
            "Requirement already satisfied: urllib3!=1.25.0,!=1.25.1,<1.26,>=1.21.1 in /usr/local/lib/python3.7/dist-packages (from requests<3.0.0,>=2.0.0->wikipedia) (1.24.3)\n",
            "Requirement already satisfied: certifi>=2017.4.17 in /usr/local/lib/python3.7/dist-packages (from requests<3.0.0,>=2.0.0->wikipedia) (2021.10.8)\n",
            "Building wheels for collected packages: wikipedia\n",
            "  Building wheel for wikipedia (setup.py) ... \u001b[?25l\u001b[?25hdone\n",
            "  Created wheel for wikipedia: filename=wikipedia-1.4.0-py3-none-any.whl size=11695 sha256=d45c4df44817990d206e623ce44dc9665b460142d99c4e7dc42def503241557b\n",
            "  Stored in directory: /root/.cache/pip/wheels/15/93/6d/5b2c68b8a64c7a7a04947b4ed6d89fb557dcc6bc27d1d7f3ba\n",
            "Successfully built wikipedia\n",
            "Installing collected packages: wikipedia\n",
            "Successfully installed wikipedia-1.4.0\n"
          ]
        }
      ]
    },
    {
      "cell_type": "code",
      "metadata": {
        "id": "gBp1IB-GI0DU"
      },
      "source": [
        "import pandas as pd\n",
        "import numpy as np\n",
        "import matplotlib.pyplot as plt\n",
        "import seaborn as sns\n",
        "\n",
        "from transformers import BertTokenizer\n",
        "from transformers import BertForQuestionAnswering\n",
        "\n",
        "import torch\n",
        "import wikipedia\n",
        "import json\n",
        "import textwrap"
      ],
      "execution_count": 3,
      "outputs": []
    },
    {
      "cell_type": "markdown",
      "metadata": {
        "id": "awP7vxnOgXMS"
      },
      "source": [
        "# Download Models"
      ]
    },
    {
      "cell_type": "code",
      "metadata": {
        "id": "c8RTAwNVJbuK",
        "outputId": "f2a9f6da-39db-416f-bc9c-5dbcf3df0cf6",
        "colab": {
          "base_uri": "https://localhost:8080/",
          "height": 81,
          "referenced_widgets": [
            "b12d63b17c99442e8c2ebed1ee6198ba",
            "38475f96fcb844e28a652aa1622ddc10",
            "0222153e9d674c209551198ea68be94d",
            "fe5c2744f9e9406fb12af4208d58c645",
            "4251d9392f904629868295a8d149e605",
            "8c06afb998444f8691dcc3cb5a199e61",
            "96802f80d02d44d5b6416d70398ccd01",
            "28d04a67923e4b3fa4c2712698e601d5",
            "014ea893ebb44223b910719ae90f44ac",
            "1a18b07d6c1d4ee8b1cef9a26c788102",
            "ecbf6d61c2e9420c82727405a1591815",
            "171974d952be49e2a605c838a8608598",
            "113c7631ec944384a3322023f234dba1",
            "74934b3a46c14559a4b91c2d8b763c32",
            "7c48b55ffc0d4ae58ed242dbc7f0d9d7",
            "cc8bc646d1a84bfa8cd93337ff7ecbb4",
            "016b1a58ccf345a79c23c826aebffabd",
            "3103048b3990404cb45269d763733d52",
            "ecb37b45931b4c789ed327a5c0ed4f05",
            "331268c43a964180960818559e79aa80",
            "1e7f332ef3f24ea2ba10b680557b3778",
            "86b73f84a97742e49afca6167c25b402"
          ]
        }
      },
      "source": [
        "model = BertForQuestionAnswering.from_pretrained('bert-large-uncased-whole-word-masking-finetuned-squad')"
      ],
      "execution_count": 4,
      "outputs": [
        {
          "output_type": "display_data",
          "data": {
            "application/vnd.jupyter.widget-view+json": {
              "model_id": "b12d63b17c99442e8c2ebed1ee6198ba",
              "version_minor": 0,
              "version_major": 2
            },
            "text/plain": [
              "Downloading:   0%|          | 0.00/443 [00:00<?, ?B/s]"
            ]
          },
          "metadata": {}
        },
        {
          "output_type": "display_data",
          "data": {
            "application/vnd.jupyter.widget-view+json": {
              "model_id": "171974d952be49e2a605c838a8608598",
              "version_minor": 0,
              "version_major": 2
            },
            "text/plain": [
              "Downloading:   0%|          | 0.00/1.25G [00:00<?, ?B/s]"
            ]
          },
          "metadata": {}
        }
      ]
    },
    {
      "cell_type": "code",
      "metadata": {
        "id": "2UzKc-VIPZD1",
        "outputId": "21b5b040-456c-4065-cd08-ea09fadd312b",
        "colab": {
          "base_uri": "https://localhost:8080/",
          "height": 113,
          "referenced_widgets": [
            "7a7499fb01c64bba8d2b6c3d6763b1ca",
            "e0ddd1cdd3994240bf9611dd5d063130",
            "3e20ab85b04c40e29f850269b0cab420",
            "e396695743004d5abcc473585039855b",
            "67e01fd9d8b843a6a5d25cbb3434c447",
            "c4b16bb191dd4e2b84e3f206df0ddefc",
            "bb2847ad1ea44668ae95ffe7c424b8d5",
            "f6d169f9899541e8a669664976761fc9",
            "17eb9a8f5fc5478386c8020b74404f7a",
            "8e65bec24f194b97991d89b114437d8b",
            "e9611ca6f5774f71909ea7196896350d",
            "b5bab1883c0a4cd8b40bd19b5b43cf2f",
            "b6809085dee844cdb6887375df2c8f75",
            "11f5f65055334fd79139ed66470ab232",
            "d22036024c1e4032a918e9a6560d6ef6",
            "bde5b96a1d5145818c06a977485aecd0",
            "a7b29291faae4501942020f950349751",
            "0fa2462723f843b6b9935362d3a315c6",
            "c011fcb6530340d4b5321e99456e7023",
            "9e572edb5bc540869581f31d03c43964",
            "9a8326ae0b4d40059cd7866bf202de50",
            "9f1e5f7f50be4dc68b16e43b56091637",
            "32a6a70c3f8d4e718fea06a4f4376a23",
            "939619843c9c497e8c3413e86612e040",
            "add800ed25c24af59c2fd742552f3c0c",
            "af1fa5a611674c13b54850057ecf7ef2",
            "a38fe39f312244df9e5653c148ae97ce",
            "aa6e339f5db24fbb9e65340fbce3bda2",
            "2ec4d227f53f434188be859589bdc350",
            "519c8f46e5824d2bbafb74b0abb033f8",
            "a490056cc73c4c7da8b229ea2b40bb84",
            "d9977a80269b451989a22d13e1637537",
            "1774b080799142c79a08d80f813b1176"
          ]
        }
      },
      "source": [
        "tokenizer = BertTokenizer.from_pretrained('bert-large-uncased-whole-word-masking-finetuned-squad')"
      ],
      "execution_count": 5,
      "outputs": [
        {
          "output_type": "display_data",
          "data": {
            "application/vnd.jupyter.widget-view+json": {
              "model_id": "7a7499fb01c64bba8d2b6c3d6763b1ca",
              "version_minor": 0,
              "version_major": 2
            },
            "text/plain": [
              "Downloading:   0%|          | 0.00/226k [00:00<?, ?B/s]"
            ]
          },
          "metadata": {}
        },
        {
          "output_type": "display_data",
          "data": {
            "application/vnd.jupyter.widget-view+json": {
              "model_id": "b5bab1883c0a4cd8b40bd19b5b43cf2f",
              "version_minor": 0,
              "version_major": 2
            },
            "text/plain": [
              "Downloading:   0%|          | 0.00/28.0 [00:00<?, ?B/s]"
            ]
          },
          "metadata": {}
        },
        {
          "output_type": "display_data",
          "data": {
            "application/vnd.jupyter.widget-view+json": {
              "model_id": "32a6a70c3f8d4e718fea06a4f4376a23",
              "version_minor": 0,
              "version_major": 2
            },
            "text/plain": [
              "Downloading:   0%|          | 0.00/455k [00:00<?, ?B/s]"
            ]
          },
          "metadata": {}
        }
      ]
    },
    {
      "cell_type": "markdown",
      "metadata": {
        "id": "XQu0Xk-G_QYj"
      },
      "source": [
        "# Using BERT\n",
        "* Tokenizes known text and word chunks (if not in vocabulary)\n",
        "* Uses embeddings - those embeddings can \"adapt\" given word context\n",
        "* Trained with special tokens:\n",
        "  * [CLS] Classification\n",
        "  * [SEP] Sentence 1, Sentence 2 (does sentence 2 follow sentence 1)\n",
        "* For Question & Answer:\n",
        "  * Sentence 1 = Question\n",
        "  * Sentence 2 = Text Context\n",
        "* Scoring\n",
        "  * Our goal is to find the part of the text context that answers the question\n",
        "  * We need to find the starting token of that text\n",
        "  * We also need the ending token\n",
        "  * We may want to say we don't know if the answer isn't there"
      ]
    },
    {
      "cell_type": "markdown",
      "metadata": {
        "id": "QgVRSiVQDcTc"
      },
      "source": [
        "## BERT\n",
        "\n",
        "![](https://miro.medium.com/max/2348/0*m_kXt3uqZH9e7H4w.png)"
      ]
    },
    {
      "cell_type": "markdown",
      "metadata": {
        "id": "InEFa2nTC6i_"
      },
      "source": [
        "## Question\n",
        "\n",
        "![](http://www.mccormickml.com/assets/BERT/SQuAD/input_formatting.png)"
      ]
    },
    {
      "cell_type": "markdown",
      "metadata": {
        "id": "UF-kzvJtDCa2"
      },
      "source": [
        "## Answer - Starting Token\n",
        "\n",
        "![](http://www.mccormickml.com/assets/BERT/SQuAD/start_token_classification.png)"
      ]
    },
    {
      "cell_type": "markdown",
      "metadata": {
        "id": "2K8L3RRODChR"
      },
      "source": [
        "## Answer - Ending Token\n",
        "* Note we may need a constraint where starting token is strictly <= ending token\n",
        "\n",
        "![](http://www.mccormickml.com/assets/BERT/SQuAD/end_token_classification.png)"
      ]
    },
    {
      "cell_type": "markdown",
      "metadata": {
        "id": "arKhyMolRM79"
      },
      "source": [
        "# Question Answer\n",
        "* Helper function that forms the question and answer into an arrangement that BERT can handle\n",
        "* Condense Subwords = Rewrite subword tokens back into human readable\n",
        "* Display Tokens = Show the q&a tokenized\n",
        "* Display Scores = Show the softmax by token for start and ending word "
      ]
    },
    {
      "cell_type": "code",
      "metadata": {
        "id": "LXtfOYZ5RMB1"
      },
      "source": [
        "def q_and_a(question, answer_text, condense_subwords=False, display_tokens=False, display_scores=False):\n",
        "  if len(answer_text) > 400:\n",
        "    answer_text = answer_text[0:400]\n",
        "\n",
        "  input_ids = tokenizer.encode(question, answer_text)\n",
        "  tokens = tokenizer.convert_ids_to_tokens(input_ids)\n",
        "\n",
        "  if display_tokens:\n",
        "    for token, id in zip(tokens, input_ids):\n",
        "        if id == tokenizer.sep_token_id:\n",
        "            print('')\n",
        "        print('{:<12} {:>6,}'.format(token, id))\n",
        "        if id == tokenizer.sep_token_id:\n",
        "            print('')\n",
        "    \n",
        "  sep_index = input_ids.index(tokenizer.sep_token_id)\n",
        "  num_seg_a = sep_index + 1\n",
        "  num_seg_b = len(input_ids) - num_seg_a\n",
        "\n",
        "  segment_ids = [0]*num_seg_a + [1]*num_seg_b\n",
        "  assert len(segment_ids) == len(input_ids)\n",
        "\n",
        "  out = model(torch.tensor([input_ids]), # The tokens representing our input text.\n",
        "              token_type_ids=torch.tensor([segment_ids])) # The segment IDs to differentiate question from answer_text\n",
        "\n",
        "  start_scores = out[0]\n",
        "  end_scores   = out[1]\n",
        "\n",
        "  answer_start = torch.argmax(start_scores)\n",
        "  answer_end = torch.argmax(end_scores)\n",
        "\n",
        "  answer = ' '.join(tokens[answer_start:answer_end+1])\n",
        "  if condense_subwords:\n",
        "    answer = answer.replace(' ##', '')\n",
        "  print('Answer: \"' + answer + '\"')\n",
        "\n",
        "  if display_scores:\n",
        "    s_scores = start_scores.detach().numpy().flatten()\n",
        "    e_scores = end_scores.detach().numpy().flatten()\n",
        "\n",
        "    token_labels = []\n",
        "    for (i, token) in enumerate(tokens):\n",
        "        token_labels.append('{:} - {:>2}'.format(token, i))\n",
        "\n",
        "    f, (ax1, ax2) = plt.subplots(1, 2, figsize=(10,8), sharey=True)\n",
        "    ax1 = sns.barplot(y=token_labels, x=s_scores, ci=None, orient='h', ax=ax1)\n",
        "    ax1.set_xticklabels(ax1.get_xticklabels(), rotation=90, ha=\"center\")\n",
        "    ax1.grid(True)\n",
        "    plt.title('Start Word Scores')\n",
        "\n",
        "    ax2 = sns.barplot(y=token_labels, x=e_scores, ci=None, orient='h', ax=ax2)\n",
        "    ax2.set_xticklabels(ax2.get_xticklabels(), rotation=90, ha=\"center\")\n",
        "    ax2.grid(True)\n",
        "    plt.title('End Word Scores')\n",
        "    plt.show()"
      ],
      "execution_count": 6,
      "outputs": []
    },
    {
      "cell_type": "markdown",
      "metadata": {
        "id": "LJ3Hr8XAZnk7"
      },
      "source": [
        "# Scores"
      ]
    },
    {
      "cell_type": "code",
      "metadata": {
        "id": "yyN8JTe2hmkz",
        "outputId": "39bb3513-7564-4edb-a82d-cb4754339ec7",
        "colab": {
          "base_uri": "https://localhost:8080/",
          "height": 502
        }
      },
      "source": [
        "q_and_a('Who is Jim Henson?', 'Jim Henson is a puppeteer.', condense_subwords=True, display_scores=True)"
      ],
      "execution_count": 7,
      "outputs": [
        {
          "output_type": "stream",
          "name": "stdout",
          "text": [
            "Answer: \"a puppeteer\"\n"
          ]
        },
        {
          "output_type": "display_data",
          "data": {
            "image/png": "[encoded data removed]",
            "text/plain": [
              "<Figure size 720x576 with 2 Axes>"
            ]
          },
          "metadata": {
            "needs_background": "light"
          }
        }
      ]
    },
    {
      "cell_type": "markdown",
      "metadata": {
        "id": "vqc0RtniQ8hQ"
      },
      "source": [
        "# Wikipedia\n",
        "* Nice library that wraps up access to wikipedia\n",
        "  * Summary\n",
        "  * Search\n",
        "  * Page\n",
        "  * Suggestion\n",
        "* Given its use in many training datasets the library can be helpful!\n",
        "* We'll use the API to form some questions"
      ]
    },
    {
      "cell_type": "code",
      "metadata": {
        "id": "xHdfVPYHNAco",
        "outputId": "32bb49a7-87c3-4c77-86bf-e251b64a5d46",
        "colab": {
          "base_uri": "https://localhost:8080/",
          "height": 175
        }
      },
      "source": [
        "wikipedia.summary(\"Cable News Network\")"
      ],
      "execution_count": 19,
      "outputs": [
        {
          "output_type": "execute_result",
          "data": {
            "application/vnd.google.colaboratory.intrinsic+json": {
              "type": "string"
            },
            "text/plain": [
              "'The Cable News Network (CNN) is a multinational news-based pay television channel headquartered in Atlanta, United States. It is part of AT&T\\'s WarnerMedia. It was founded in 1980 by American media proprietor Ted Turner and Reese Schonfeld as a 24-hour cable news channel. Upon its launch in 1980, CNN was the first television channel to provide 24-hour news coverage, and was the first all-news television channel in the United States.As of September 2018, CNN has 90.1 million television households as subscribers (97.7% of households with cable) in the United States. According to Nielsen, in June 2021 CNN ranked third in viewership among cable news networks, behind Fox News and MSNBC, averaging 580,000 viewers throughout the day, down 49% from a year earlier, amid sharp declines in viewers across all cable news networks. CNN ranks 14th among all basic cable networks.The network is known for its dramatic live coverage of breaking news, some of which has drawn criticism as overly sensationalistic. CNN claims to be \"The Most Trusted Name in News\", however its efforts to be nonpartisan have led to accusations of false balance.Globally, CNN programming has aired through CNN International, seen by viewers in over 212 countries and territories; since May 2019 however, the US domestic version has absorbed international news coverage in order to streamline programming expenses. The American version, sometimes referred to as CNN (US), is also available in Canada, some islands of the Caribbean and in Japan, where it was first broadcast on CNNj in 2003, with simultaneous translation in Japanese.'"
            ]
          },
          "metadata": {},
          "execution_count": 19
        }
      ]
    },
    {
      "cell_type": "code",
      "metadata": {
        "id": "6CWezCzKbLfC",
        "outputId": "91501ed3-aa11-4f08-ccbd-28be07b077fa",
        "colab": {
          "base_uri": "https://localhost:8080/"
        }
      },
      "source": [
        "wikipedia.search('Bill')"
      ],
      "execution_count": 9,
      "outputs": [
        {
          "output_type": "execute_result",
          "data": {
            "text/plain": [
              "['Bill',\n",
              " 'Bill.com',\n",
              " 'The Bill',\n",
              " 'Bill Belichick',\n",
              " 'Bill Murray',\n",
              " 'Bill Clinton',\n",
              " 'Bills, Bills, Bills',\n",
              " 'Bill Skarsgård',\n",
              " 'Bill Gates',\n",
              " 'Buffalo Bill']"
            ]
          },
          "metadata": {},
          "execution_count": 9
        }
      ]
    },
    {
      "cell_type": "code",
      "metadata": {
        "id": "AWCVPz64b2qO",
        "outputId": "7b0a1655-1903-4f23-eb55-0233baac5db5",
        "colab": {
          "base_uri": "https://localhost:8080/",
          "height": 35
        }
      },
      "source": [
        "wikipedia.suggest('Orygun')"
      ],
      "execution_count": 10,
      "outputs": [
        {
          "output_type": "execute_result",
          "data": {
            "application/vnd.google.colaboratory.intrinsic+json": {
              "type": "string"
            },
            "text/plain": [
              "'oregon'"
            ]
          },
          "metadata": {},
          "execution_count": 10
        }
      ]
    },
    {
      "cell_type": "code",
      "metadata": {
        "id": "pwgAQZ0pYN0T",
        "outputId": "b76ec5db-88a9-43eb-bd34-68f7361228a3",
        "colab": {
          "base_uri": "https://localhost:8080/"
        }
      },
      "source": [
        "page = wikipedia.page('London Heathrow Airport')\n",
        "print('\\n======= Title ========')\n",
        "print(page.title)\n",
        "\n",
        "print('\\n======= URL ========')\n",
        "print(page.url)\n",
        "\n",
        "print('\\n======= Categories ========')\n",
        "print(page.categories)\n",
        "\n",
        "print('\\n======= Geo ========')\n",
        "print(page.coordinates)"
      ],
      "execution_count": 11,
      "outputs": [
        {
          "output_type": "stream",
          "name": "stdout",
          "text": [
            "\n",
            "======= Title ========\n",
            "Heathrow Airport\n",
            "\n",
            "======= URL ========\n",
            "https://en.wikipedia.org/wiki/Heathrow_Airport\n",
            "\n",
            "======= Categories ========\n",
            "['1946 establishments in England', 'Airports established in 1946', 'Airports in England', 'Airports in the London region', 'All articles containing potentially dated statements', 'All articles to be split', 'Articles containing potentially dated statements from 2013', 'Articles to be split from January 2022', 'Articles with FAST identifiers', 'Articles with GND identifiers', 'Articles with LCCN identifiers', 'Articles with NLI identifiers', 'Articles with Trove identifiers', 'Articles with VIAF identifiers', 'Articles with WORLDCATID identifiers', 'Articles with multiple identifiers', 'Articles with short description', 'Buildings and structures in the London Borough of Hillingdon', 'CS1 Dutch-language sources (nl)', 'CS1 errors: missing periodical', 'CS1 maint: archived copy as title', 'Commons category link is on Wikidata', 'Coordinates on Wikidata', 'Heathrow Airport', 'Heathrow Airport Holdings', 'Pages containing links to subscription-only content', 'Pages using the Graph extension', 'Proposed transport infrastructure in London', 'Public inquiries in the United Kingdom', 'Short description is different from Wikidata', 'Tourist attractions in the London Borough of Hillingdon', 'Transport in the London Borough of Hillingdon', 'Use British English from July 2015', 'Use dmy dates from August 2020', 'Webarchive template wayback links']\n",
            "\n",
            "======= Geo ========\n",
            "(Decimal('51.47749999999999914734871708787977695465087890625'), Decimal('-0.461388889999999995961132981392438523471355438232421875'))\n"
          ]
        }
      ]
    },
    {
      "cell_type": "code",
      "metadata": {
        "id": "p7N9eNEgZQJj",
        "outputId": "2d1e6e20-ff09-4130-dc8d-e98e3cfb0bf4",
        "colab": {
          "base_uri": "https://localhost:8080/"
        }
      },
      "source": [
        "print('\\n======= Content ========')\n",
        "print(page.content)"
      ],
      "execution_count": 12,
      "outputs": [
        {
          "output_type": "stream",
          "name": "stdout",
          "text": [
            "\n",
            "======= Content ========\n",
            "Heathrow Airport (), originally called London Airport until 1966 and now known as London Heathrow (IATA: LHR, ICAO: EGLL), is a major international airport in London, England. With Gatwick, City, Luton, Stansted and Southend, it is one of six international airports serving London. The airport facility is owned and operated by Heathrow Airport Holdings. In 2020, it was the third busiest airport in the world by international passenger traffic, the twenty-second busiest airport in the world by total passenger traffic, and the third busiest airport in Europe by passenger traffic.\n",
            "Heathrow was founded as a small airfield in 1929, but was developed into a much larger airport after World War Two. The airport, which lies 14 miles (23 km) west of Central London on a site that covers 12.27 square kilometres (4.74 sq mi), gradually expanded over the next seventy-five years, and now has two parallel east–west runways along with four operational passenger terminals, and one cargo terminal. The airport is the primary hub for British Airways and the primary operating base for Virgin Atlantic; in 2020, it handled 22.1 million passengers, a 72.4% drop from 2019, as well as 207,070 aircraft movements.\n",
            "\n",
            "\n",
            "== Location ==\n",
            "\n",
            "Heathrow is 14 mi (23 km) west of central London,. It is located 3 mi (4.8 km) west of the town of Hounslow, 3 miles south of Hayes, and 3 miles north-east of Staines-upon-Thames.\n",
            "The airport is surrounded by the villages of Sipson, Harlington, Harmondsworth, and Longford to the north and the neighbourhoods of Cranford and Hatton to the east. To the south lie Feltham, Bedfont and Stanwell while to the west Heathrow is separated from Wraysbury, Horton and Windsor in Berkshire by the M25 motorway. Heathrow falls entirely within the boundaries of the London Borough of Hillingdon, and under the Twickenham postcode area, with the postcode TW6. The airport is located within the Hayes and Harlington parliamentary constituency.\n",
            "As the airport is located west of London and as its runways run east–west, an airliner's landing approach is usually directly over the conurbation of London when the wind is from the west, which is most of the time.\n",
            "The airport forms part of a travel to work area with Slough, the west part of Greater London, and the north part of Surrey.\n",
            "Along with Gatwick, Stansted, Luton, Southend and London City, Heathrow is one of six airports with scheduled services serving the London area.\n",
            "\n",
            "\n",
            "== History ==\n",
            "\n",
            "Heathrow Airport originated in 1929 as a small airfield (Great West Aerodrome) on land south-east of the hamlet of Heathrow from which the airport takes its name. At that time the land consisted of farms, market gardens and orchards; there was a \"Heathrow Farm\" approximately where the modern Terminal 2 is situated, a \"Heathrow Hall\" and a \"Heathrow House.\" This hamlet was largely along a country lane (Heathrow Road), which ran roughly along the east and south edges of the present central terminals area.\n",
            "Development of the whole Heathrow area as a much larger airport began in 1944. It was stated to be for long-distance military aircraft bound for the Far East; by the time the airfield was nearing completion, World War II had ended, and the UK Government continued to develop the airport as a civil airport. The airport was opened on 25 March 1946 as London Airport and was renamed Heathrow Airport in 1966. The layout for the airport was designed by Sir Frederick Gibberd, who designed the original terminals and central area buildings, including the original control tower and the multi-faith Chapel of St George's.\n",
            "\n",
            "\n",
            "== Operations ==\n",
            "\n",
            "\n",
            "=== Facilities ===\n",
            "\n",
            "Heathrow Airport is used by over 80 airlines flying to 185 destinations in 84 countries. The airport is the primary hub of British Airways and is a base for Virgin Atlantic. It has four passenger terminals (numbered 2 to 5) and a cargo terminal. Of Heathrow's 78 million passengers in 2017, 94% were international travellers; the remaining 6% were bound for (or arriving from) places in the UK. The busiest single destination in passenger numbers is New York, with over 3 million passengers flying between Heathrow and JFK Airport in 2013.In the 1950s, Heathrow had six runways, arranged in three pairs at different angles in the shape of a hexagram with the permanent passenger terminal in the middle and the older terminal along the north edge of the field; two of its runways would always be within 30° of the wind direction. As the required length for runways has grown, Heathrow now has only two parallel runways running east–west. These are extended versions of the two east–west runways from the original hexagram. From the air, almost all of the original runways can still be seen, incorporated into the present system of taxiways. North of the northern runway and the former taxiway and aprons, now the site of extensive car parks, is the entrance to the access tunnel and the site of Heathrow's unofficial \"gate guardian\". For many years the home of a 40% scale model of a British Airways Concorde, G-CONC, the site has been occupied by a model of an Emirates Airbus A380 since 2008.Heathrow Airport has Anglican, Catholic, Free Church, Hindu, Jewish, Muslim and Sikh chaplains. There is a multi-faith prayer room and counselling room in each terminal, in addition to St. George's Interdenominational Chapel in an underground vault adjacent to the old control tower, where Christian services take place. The chaplains organise and lead prayers at certain times in the prayer room.The airport has its own resident press corps, consisting of six photographers and one TV crew, serving all the major newspapers and television stations around the world.Most of Heathrow's internal roads are initial letter coded by area: N in the north (e.g. Newall Road), E in the east (e.g. Elmdon Road), S in the south (e.g. Stratford Road), W in the west (e.g. Walrus Road), C in the centre (e.g. Camborne Road).\n",
            "\n",
            "\n",
            "=== Flight movements ===\n",
            "Aircraft destined for Heathrow are usually routed to one of four holding points.\n",
            "Air traffic controllers at Heathrow Approach Control (based in Swanwick, Hampshire) then guide the aircraft to their final approach, merging aircraft from the four holds into a single stream of traffic, sometimes as close as 2.5 nautical miles (4.6 km; 2.9 mi) apart. Considerable use is made of continuous descent approach techniques to minimize the environmental effects of incoming aircraft, particularly at night. Once an aircraft is established on its final approach, control is handed over to Heathrow Tower.\n",
            "When runway alternation was introduced, aircraft generated significantly more noise on departure than when landing, so a preference for westerly operations during daylight was introduced, which continues to this day. In this mode, aircraft take off towards the west and land from the east over London, thereby minimizing the impact of noise on the most densely populated areas. Heathrow's two runways generally operate in segregated mode, whereby landings are allocated to one runway and takeoffs to the other. To further reduce noise nuisance to people beneath the approach and departure routes, the use of runways 27R and 27L is swapped at 15:00 each day if the wind is from the west. When landings are easterly there is no alternation; 09L remains the landing runway and 09R the takeoff runway due to the legacy of the now rescinded Cranford Agreement, pending taxiway works to allow the roles to be reversed. Occasionally, landings are allowed on the nominated departure runway, to help reduce airborne delays and to position landing aircraft closer to their terminal, reducing taxi times.\n",
            "Night-time flights at Heathrow are subject to restrictions. Between 23:00 and 04:00, the noisiest aircraft (rated QC/8 and QC/16) cannot be scheduled for operation. Also, during the night quota period (23:30–06:00) there are four limits:\n",
            "\n",
            "A limit on the number of flights allowed;\n",
            "A Quota Count system which limits the total amount of noise permitted, but allows operators to choose to operate fewer noisy aircraft or a greater number of quieter planes;\n",
            "QC/4 aircraft cannot be scheduled for operation.\n",
            "A voluntary agreement with the airlines that no early morning arrivals will be scheduled to land before 04:30.A trial of \"noise relief zones\" ran from December 2012 to March 2013, which concentrated approach flight paths into defined areas compared with the existing paths which were spread out. The zones used alternated weekly, meaning residents in the \"no-fly\" areas received respite from aircraft noise for set periods. However, it was concluded that some residents in other areas experienced a significant disbenefit as a result of the trial and that it should therefore not be taken forward in its current form. Heathrow received more than 25,000 noise complaints in just three months over the summer of 2016, but around half were made by the same ten people.In 2017, Heathrow introduced \"Fly Quiet & Green\", a quarterly published league table (currently suspended due to the Covid pandemic) that awards points to the 50 busiest airlines at the airport, ostensibly based on their performance relative to each other across a range of 7 environmental benchmarks, such as NOx emissions.  Heathrow has acknowledged, but not attempted to refute, ongoing criticism over discrepancies and a lack of transparency around the way in which the figures are manipulated. The airport has always refused to publish a breakdown showing how many \"Fly Quiet points\" each performance benchmark has contributed towards the total score it awards to an airline, thereby putting obstacles in the way of any independent auditing of the published results.  Among other criticisms of the league table are the unexplained omission of some of the poorer performers among the 50 busiest airlines and the emphasis on relative rather than absolute performance, so an airline could well improve its \"Fly Quiet\" score quarter-on-quarter even if its environmental performance had in fact worsened over the period.\n",
            "\n",
            "\n",
            "=== Arrival stacks ===\n",
            "\n",
            "Inbound aircraft to London Heathrow Airport typically follow one of a number of Standard Arrival Routes (STARs).  The STARs each terminate at one of four different RNAV waypoints, and these also define four \"stacks\" where aircraft can be held, if necessary, until they are cleared to begin their approach to land.  Stacks are sections of airspace where inbound aircraft will normally use the pattern closest to their arrival route. They can be visualised as invisible helter skelters in the sky. Each stack descends in 1000 ft (300 m) intervals from 16,000 ft (4,000m) down to 8000 ft (2,100m). Aircraft hold between 7,000 feet and 15,000 feet at 1,000 foot intervals. If these holds become full, aircraft are held at more distant points before being cleared onward to one of the four main holds.\n",
            "The following four stacks are currently in place:\n",
            "\n",
            "The Bovingdon stack (BNN) is for arrivals from the north west. It extends above the village of Bovingdon and the town of Chesham, and uses the RNAV waypoint BNN, which is situated on the former RAF Bovingdon airfield.\n",
            "The Biggin Hill stack (BIG) on the south east edge of Greater London is for arrivals from the south east.  It uses the RNAV waypoint BIG, which is situated on London Biggin Hill Airport.\n",
            "The Lambourne stack (LAM) in Essex is for arrivals from the north east.  It uses the RNAV waypoint LAM, which is situated adjacent to Stapleford Aerodrome.\n",
            "The Ockham stack (OCK) in Surrey is for arrivals from the south west.  It uses the RNAV waypoint OCK, which is situated on the former Wisley Airfield.\n",
            "\n",
            "\n",
            "=== Third runway ===\n",
            "In September 2012, the Government of the United Kingdom established the Airports Commission, an independent commission chaired by Sir Howard Davies to examine various options for increasing capacity at UK airports. In July 2015, the commission backed a third runway at Heathrow, which the government approved in October 2016. However, the England and Wales Court of Appeal rejected this plan for a third runway at Heathrow, on the basis that the government failed to consider climate change and the environmental impact of aviation. On 16 December 2020, the U.K. Supreme Court lifted the ban on the third runway expansion, allowing the construction plan to go ahead.\n",
            "\n",
            "\n",
            "=== Regulation ===\n",
            "\n",
            "Until it was required to sell Gatwick and Stansted Airports, Heathrow Airport Holdings held a dominant position in the London aviation market and has been heavily regulated by the Civil Aviation Authority (CAA) as to how much it can charge airlines to land. The annual increase in landing charge per passenger was capped at inflation minus 3% until 1 April 2003. From 2003 to 2007 charges increased by inflation plus 6.5% per year, taking the fee to £9.28 per passenger in 2007. In March 2008, the CAA announced that the charge would be allowed to increase by 23.5% to £12.80 from 1 April 2008 and by inflation plus 7.5% for each of the following four years. In April 2013, the CAA announced a proposal for Heathrow to charge fees calculated by inflation minus 1.3%, continuing until 2019. Whilst the cost of landing at Heathrow is determined by the CAA and Heathrow Airport Holdings, the allocation of landing slots to airlines is carried out by Airport Co-ordination Limited (ACL).Until 2008, air traffic between Heathrow and the United States was strictly governed by the countries' bilateral Bermuda II treaty. The treaty originally allowed only British Airways, Pan Am and TWA to fly from Heathrow to the US. In 1991, Pan Am and TWA sold their rights to United Airlines and American Airlines respectively, while Virgin Atlantic was added to the list of airlines allowed to operate on these routes. The Bermuda bilateral agreement conflicted with the Right of Establishment of the United Kingdom concerning its EU membership, and as a consequence, the UK was ordered to drop the agreement in 2004. A new \"open skies\" agreement was signed by the United States and the European Union on 30 April 2007 and came into effect on 30 March 2008. Shortly afterward, additional US airlines, including Northwest Airlines, Continental Airlines, US Airways and Delta Air Lines started services to Heathrow.\n",
            "The airport has been criticised in recent years for overcrowding and delays; according to Heathrow Airport Holdings, Heathrow's facilities were originally designed to accommodate 55 million passengers annually. The number of passengers using the airport reached a record 70 million in 2012. In 2007 the airport was voted the world's least favourite, alongside Chicago O'Hare, in a TripAdvisor survey. However, the opening of Terminal 5 in 2008 has relieved some pressure on terminal facilities, increasing the airport's terminal capacity to 90 million passengers per year. A tie-up is also in place with McLaren Applied Technologies to optimize the general procedure, reducing delays and pollution.With only two runways, operating at over 98% of their capacity, Heathrow has little room for more flights, although the increasing use of larger aircraft such as the Airbus A380 will allow some increase in passenger numbers. It is difficult for existing airlines to obtain landing slots to enable them to increase their services from the airport, or for new airlines to start operations. To increase the number of flights, Heathrow Airport Holdings has proposed using the existing two runways in 'mixed mode' whereby aircraft would be allowed to take off and land on the same runway. This would increase the airport's capacity from its current 480,000 movements per year to as many as 550,000 according to British Airways CEO Willie Walsh. Heathrow Airport Holdings has also proposed building a third runway to the north of the airport, which would significantly increase traffic capacity.\n",
            "\n",
            "\n",
            "=== Security ===\n",
            "Policing of the airport is the responsibility of the aviation security unit of the Metropolitan Police, although the army, including armoured vehicles of the Household Cavalry, has occasionally been deployed at the airport during periods of heightened security. Full body scanners are now used at the airport, and passengers who object to their use after being selected are required to submit to a hand search in a private room. The scanners display passengers' bodies as a cartoon-style figure, with indicators showing where concealed items may be.For many decades Heathrow had a reputation for theft from baggage by baggage handlers. This led to the airport being nicknamed \"Thiefrow\", with periodic arrests of baggage handlers. Following widespread disruption caused by reports of drone sightings at Gatwick Airport, and a subsequent incident at Heathrow, a drone detection system was installed airport-wide to attempt to combat possible future disruption caused by the illegal use of drones.\n",
            "\n",
            "\n",
            "== Terminals ==\n",
            "\n",
            "\n",
            "=== Terminal usage during COVID-19 pandemic ===\n",
            "Heathrow Airport has 5 terminals with total of 115 gates, with 66 of these being able to support wide body aircraft, and 24 gates being able to support an Airbus A380. Heathrow saw a vast reduction in services, and announced that as of 6 April 2020, the airport would be transitioning to single runway operations and that it would be temporarily closing Terminals 3 and 4, moving all remaining flights into Terminals 2 or 5. Dual runway operations were restored in August 2020. Heathrow returned to single runway operations on 9 November 2020. On 11 December 2020, Heathrow announced Terminal 4 would be shut until the end of 2021. Terminal 3 was reopened for use by Virgin Atlantic and Delta on 15 July 2021.\n",
            "\n",
            "\n",
            "=== Terminal 2 ===\n",
            "\n",
            "The airport's newest terminal, officially known as the Queen's Terminal, was opened on 4 June 2014, and has 24 gates. Designed by Spanish architect Luis Vidal, it was built on the site that had been occupied by the original Terminal 2 and the Queens Building. The main complex was completed in November 2013 and underwent six months of testing before opening to passengers. It includes a satellite pier (T2B), a 1,340-space car park, and a cooling station to generate chilled water. There are 52 shops and 17 bars and restaurants.Terminal 2 is used by all Star Alliance members which fly from Heathrow (consolidating the airlines under Star Alliance's co-location policy \"Move Under One Roof\"). Aer Lingus, Eurowings and Icelandair also operate from the terminal. The airlines moved from their original locations over six months, with only 10% of flights operating from there in the first six weeks (United Airlines' transatlantic flights) to avoid the opening problems seen at Terminal 5. On 4 June 2014, United Airlines became the first airline to move into Terminal 2 from Terminals 1 and 4 followed by All Nippon Airways, Air Canada and Air China from Terminal 3. Air New Zealand, Asiana Airlines, Croatia Airlines, LOT Polish Airlines, South African Airways, and TAP Air Portugal moved in on 22 October 2014. On 12 August 2021, JetBlue began operating flights out of this terminal.\n",
            "The original Terminal 2 opened as the Europa Building in 1955 and was the airport's oldest terminal. It had an area of 49,654 m2 (534,470 sq ft) and was designed to handle around 1.2 million passengers annually. In its final years, it accommodated up to 8 million. A total of 316 million passengers passed through the terminal in its lifetime. The building was demolished in 2010, along with the Queens Building which had housed airline company offices.\n",
            "\n",
            "\n",
            "=== Terminal 3 ===\n",
            "\n",
            "Terminal 3 opened as the Oceanic Terminal on 13 November 1961 to handle flight departures for long-haul routes for foreign carriers to the United States, Asia and other Far Eastern destinations. At this time the airport had a direct helicopter service to Central London from the gardens on the roof of the terminal building. Renamed Terminal 3 in 1968, it was expanded in 1970 with the addition of an arrivals building. Other facilities added included the UK's first moving walkways. In 2006, the new £105 million Pier 6 was completed to accommodate the Airbus A380 superjumbo; Emirates and Qantas operate regular flights from Terminal 3 using the Airbus A380.\n",
            "Redevelopment of Terminal 3's forecourt by the addition of a new four-lane drop-off area and a large pedestrianised plaza, complete with canopy to the front of the terminal building, was completed in 2007. These improvements were intended to improve passengers' experience, reduce traffic congestion and improve security. As part of this project, Virgin Atlantic was assigned its own dedicated check-in area, known as 'Zone A', which features a large sculpture and atrium.\n",
            "As of 2013, Terminal 3 has an area of 98,962 m2 (1,065,220 sq ft) with 28 gates, and in 2011 it handled 19.8 million passengers on 104,100 flights. Terminal 3 is home to Oneworld members (with the exception of Iberia and American's JFK flights, which use Terminal 5 and Malaysia Airlines, Royal Air Maroc and Qatar Airways, all of which use Terminal 4), SkyTeam members Air France, Delta Air Lines, KLM and Middle East Airlines, all new airlines, and a few unaffiliated carriers.\n",
            "\n",
            "\n",
            "=== Terminal 4 ===\n",
            "\n",
            "Opened in 1986, Terminal 4 has 22 gates and is situated to the south of the southern runway next to the cargo terminal and is connected to Terminals 2 and 3 by the Heathrow Cargo Tunnel. The terminal has an area of 105,481 m2 (1,135,390 sq ft) and is now home to the SkyTeam alliance, with the exception of Air France, Delta Air Lines, KLM and Middle East Airlines, which use Terminal 3, Oneworld carriers Malaysia Airlines and Qatar Airways, Gulf Air and to most unaffiliated carriers. It has undergone a £200m upgrade to enable it to accommodate 45 airlines with an upgraded forecourt to reduce traffic congestion and improve security. Most flights that go to Terminal 4 are flights coming from Central Asia, North Africa and the Middle East as well as a few flights to Europe. An extended check-in area with renovated piers and departure lounges and a new baggage system were installed, and two new stands were built to accommodate the Airbus A380; Etihad Airways, Korean Air, Malaysia Airlines and Qatar Airways operate regular A380 flights. Gulf Air and El Al operate regular Boeing 787 flights.\n",
            "\n",
            "\n",
            "=== Terminal 5 ===\n",
            "\n",
            "Terminal 5 lies between the northern and southern runways at the western end of the Heathrow site and was opened by Queen Elizabeth II on 14 March 2008, some 19 years after its inception. It opened to the public on 27 March 2008, and British Airways and its partner company Iberia have exclusive use of this terminal, which has 50 gates, including 3 hardstands. The first passenger to enter Terminal 5 was a UK ex-pat from Kenya who passed through security at 04:30 on the day. He was presented with a boarding pass by the British Airways CEO Willie Walsh for the first departing flight, BA302 to Paris. During the two weeks after its opening, operations were disrupted by problems with the terminal's IT systems, coupled with insufficient testing and staff training, which caused over 500 flights to be cancelled. Until March 2012, Terminal 5 was exclusively used by British Airways as its global hub; however, because of the merger, on 25 March Iberia's operations at Heathrow were moved to the terminal, making it the home of International Airlines Group. On 7 July 2020, American moved to terminal 5, to allow for easier connections from American's transatlantic flights to British Airways flights during the pandemic. However all American's flights, with the exception of JFK, have returned to Terminal 3.\n",
            "Built at £4.3 billion, the terminal consists of a four-story main terminal building (Concourse A) and two satellite buildings linked to the main terminal by an underground people mover transit system. Concourse A has dedicated British Airways's narrowbody fleet for flights around the UK and the rest of Europe, the first satellite (Concourse B) includes dedicated stands for BA and Iberia's widebody fleet except for the Airbus A380, and the second satellite (Concourse C), includes 7 dedicated aircraft stands for the A380. It became fully operational on 1 June 2011. Terminal 5 was voted Skytrax World's Best Airport Terminal 2014 in the Annual World Airport Awards.The main terminal building (Concourse A) has an area of 300,000 square metres (3,200,000 sq ft) while Concourse B covers 60,000 square metres (650,000 sq ft). It has 60 aircraft stands and capacity for 30 million passengers annually as well as more than 100 shops and restaurants. It is also home to British Airways' Flagship lounge, the Concorde Room, alongside four further British Airways branded lounges. One of those lounges is the British Airways Arrivals Lounge which is located land-side.\n",
            "A further building, designated Concourse D and of similar size to Concourse C, may yet be built to the east of the existing site, providing up to another 16 stands. Following British Airways' merger with Iberia, this may become a priority since the combined business will require accommodation at Heathrow under one roof to maximise the cost savings envisaged under the deal. A proposal for Concourse D featured in Heathrow's most recent capital investment plan.\n",
            "The transport network around the airport has been extended to cope with the increase in passenger numbers. New branches of both the Heathrow Express and the Underground's Piccadilly line serve a new shared Heathrow Terminal 5 station. A dedicated motorway spur links the terminal to the M25 (between junctions 14 and 15). The terminal has a 3,800 space multi-storey car park. A more distant long-stay car park for business passengers is connected to the terminal by a personal rapid transit system, the Heathrow Pod, which became operational in the spring of 2011. Within the terminal complex, an automated people mover (APM) system, known as the Transit, is used to transport passengers between the satellite buildings.\n",
            "\n",
            "\n",
            "=== Terminal assignments ===\n",
            "As of July 2020, Heathrow's four passenger terminals are assigned as follows:\n",
            "Following the opening of Terminal 5 in March 2008, a complex programme of terminal moves was implemented. This saw many airlines move to be grouped in terminals by airline alliance as far as possible.Following the opening of Phase 1 of the new Terminal 2 in June 2014, all Star Alliance member airlines (with the exception of new member Air India which moved in early 2017) along with Aer Lingus and Germanwings relocated to Terminal 2 in a phased process completed on 22 October 2014. Additionally, by 30 June 2015 all airlines left Terminal 1 in preparation for its demolition to make room for the construction of Phase 2 of Terminal 2. Some other airlines made further minor moves at a later point, e.g. Delta Air Lines merging all departures in Terminal 3 instead of a split between Terminals 3 and 4.\n",
            "\n",
            "\n",
            "=== Former terminals ===\n",
            "\n",
            "\n",
            "==== Terminal 1 ====\n",
            "\n",
            "Terminal 1 opened in 1968 and was inaugurated by Queen Elizabeth II in April 1969. Terminal 1 was the Heathrow base for British Airways' (BA) domestic and European network and a few of its long haul routes before Terminal 5 opened. The acquisition of British Midland International (BMI) in 2012 by BA's owner International Airlines Group meant British Airways took over BMI's short-haul and medium-haul destinations from the terminal. Terminal 1 was also the main base for most Star Alliance members though some were also based at Terminal 3.\n",
            "Terminal 1 closed at the end of June 2015, the site is now being used to extend Terminal 2 which opened in June 2014. A number of the newer gates used by Terminal 1 were built as part of the Terminal 2 development and are being retained. The last tenants along with British Airways were El Al, Icelandair (moved to Terminal 2 25 March 2015) and LATAM Brasil (the third to move in to Terminal 3 on 27 May 2015). British Airways was the last operator in Terminal 1. Two flights of this carrier, one departing to Hanover and one arriving from Baku, marked the terminal closure on 29 June 2015. British Airways operations have been relocated to Terminals 3 and 5.\n",
            "\n",
            "\n",
            "== Airlines and destinations ==\n",
            "\n",
            "\n",
            "=== Passenger ===\n",
            "The following airlines operate regular scheduled passenger flights at London Heathrow Airport:\n",
            "\n",
            "\n",
            "=== Cargo ===\n",
            "Due to the COVID-19 pandemic Heathrow has seen a large increase in cargo-only flights, not only by already established carriers at the airport operating cargo-only flights using passenger aircraft, but also a number of cargo-only airlines.\n",
            "\n",
            "\n",
            "== Traffic and statistics ==\n",
            "\n",
            "\n",
            "=== Overview ===\n",
            "\n",
            "When ranked by passenger traffic, Heathrow is the sixth busiest internationally, behind Hartsfield–Jackson Atlanta International Airport, Beijing Capital International Airport, Dubai International Airport, Chicago's O'Hare International Airport, and Tokyo Haneda Airport, for the 12 months ending December 2015.In 2015, Heathrow was the busiest airport in Europe in total passenger traffic, with 14% more passengers than Paris–Charles de Gaulle Airport and 22% more than Istanbul Atatürk Airport. Heathrow was the fourth busiest European airport by cargo traffic in 2013, after Frankfurt Airport, Paris Charles de Gaulle and Amsterdam Airport Schiphol.In 2020, Heathrow's passenger numbers dropped sharply by over 72%, (a decrease of 58 million travelers compared to 2019), due to the impact caused by restrictions and/or bans on travel caused by the global COVID-19 pandemic.\n",
            "\n",
            "\n",
            "=== Annual traffic statistics ===\n",
            "\n",
            "\n",
            "==== Overview ====\n",
            "\n",
            "\n",
            "==== In table ====\n",
            "\n",
            "\n",
            "=== Busiest routes ===\n",
            "Heathrow Airport processed 80,884,310 passengers in 2019. New York's John F. Kennedy International Airport was the most popular route with 3,192,195 passengers. The table below shows the 10 busiest international routes at the airport in 2019.\n",
            "\n",
            "\n",
            "== Other facilities ==\n",
            "\n",
            "The head office of Heathrow Airport Holdings (formerly BAA Limited) is located in the Compass Centre by Heathrow's northern runway, a building that previously served as a British Airways flight crew centre. The World Business Centre Heathrow consists of three buildings. 1 World Business Centre houses offices of Heathrow Airport Holdings, Heathrow Airport itself, and Scandinavian Airlines. Previously International Airlines Group had its head office in 2 World Business Centre.At one time the British Airways head office was located within Heathrow Airport at Speedbird House before the completion of Waterside, the current BA head office in Harmondsworth, in June 1998.To the north of the airfield lies the Northern Perimeter Road, along which most of Heathrow's car rental agencies are based, and Bath Road, which runs parallel to it, but outside the airport campus. This is nicknamed \"The Strip\" by locals, because of its continuous line of airport hotels.\n",
            "\n",
            "\n",
            "== Access ==\n",
            "\n",
            "\n",
            "=== Public transport ===\n",
            "\n",
            "\n",
            "==== Train ====\n",
            "\n",
            "Heathrow Express: a non-stop service direct to London Paddington; trains leave every 15 minutes for the 15-minute journey (21 minutes to and from Terminal 5). Trains depart from Heathrow Terminal 5 station or Heathrow Central station (Terminals 2 & 3). A Heathrow Express transfer service operates between Terminal 4 and Heathrow Central to connect with services from London and Terminal 5.\n",
            "TfL Rail: a stopping service to Paddington calling at up to five stations en route – trains leave every 30 minutes for the 27-minute journey. Calls at Hayes & Harlington for connecting trains to Reading. It will be extended in 2022 to Abbey Wood and Shenfield via the Elizabeth line. It was operated by Heathrow Connect until May 2018.\n",
            "London Underground (Piccadilly line): four stations serve the airport: Terminal 2 & 3, Terminal 4 and Terminal 5 serve the passenger terminals; Hatton Cross serves the maintenance areas. The usual journey time from Heathrow Central to Central London is around 40–50 minutes.\n",
            "\n",
            "\n",
            "==== Bus and coach ====\n",
            "Many buses and coaches operate from the large Heathrow Central bus station serving Terminals 2 and 3, and also from bus stations at Terminals 4 and 5.\n",
            "\n",
            "\n",
            "=== Inter-terminal transport ===\n",
            "Terminals 2 and 3 are within walking distance of each other. Transfers from Terminals 2 and 3 to Terminal 4 and 5 are provided by Heathrow Express trains and the London Underground Piccadilly line. Direct transfer between Terminals 4 and 5 is provided by London Buses routes 482 and 490.Transit passengers remaining airside are provided with free dedicated transfer buses between terminals.\n",
            "The Heathrow Pod personal rapid transit system shuttles passengers between Terminal 5 and the business car park using 21 small, driverless transportation pods. The pods are battery-powered and run on-demand on a four-kilometre track, each able to carry up to four adults, two children, and their luggage. Plans exist to extend the Pod system to connect Terminals 2 and 3 to remote car parks.\n",
            "\n",
            "An underground automated people mover system known as the Transit operates within Terminal 5, linking the main terminal with the satellite Terminals 5B and 5C. The Transit operates entirely airside using Bombardier Innovia APM 200 people mover vehicles.\n",
            "\n",
            "\n",
            "=== Hotel access ===\n",
            "The Hotel Hoppa bus network connects all terminals to major hotels in the area.\n",
            "\n",
            "\n",
            "=== Taxi ===\n",
            "Taxis are available at all terminals.\n",
            "\n",
            "\n",
            "=== Car ===\n",
            "\n",
            "Heathrow is accessible via the nearby M4 motorway or A4 road (Terminals 2–3), the M25 motorway (Terminals 4 and 5) and the A30 road (Terminal 4). There are drop-off and pick-up areas at all terminals and short- and long-stay multi-storey car parks. All the Heathrow forecourts are drop-off only. There are further car parks, not run by Heathrow Airport Holdings, just outside the airport: the most recognisable is the National Car Parks facility, although there are many other options; these car parks are connected to the terminals by shuttle buses.\n",
            "Four parallel tunnels under the northern runway connect the M4 Heathrow spur and the A4 road to Terminals 2–3. The two larger tunnels are each two lanes wide and are used for motorised traffic. The two smaller tunnels were originally reserved for pedestrians and bicycles; to increase traffic capacity the cycle lanes have been modified to each take a single lane of cars, although bicycles still have priority over cars. Pedestrian access to the smaller tunnels has been discontinued, with the free bus services being used instead.\n",
            "\n",
            "\n",
            "=== Bicycle ===\n",
            "There are (mainly off-road) bicycle routes to some of the terminals. Free bicycle parking places are available in car parks 1 and 1A, at Terminal 4, and to the North and South of Terminal 5's Interchange Plaza. Cycling is not currently allowed through the main tunnel to access Terminals 2 and 3 (Terminal 1 closed in 2015).\n",
            "\n",
            "\n",
            "== Incidents and accidents ==\n",
            "On 3 March 1948, Sabena Douglas DC-3 OO-AWH crashed in fog. Three crew and 19 of the 22 passengers on board died.\n",
            "On 31 October 1950, BEA Vickers Viking G-AHPN crashed at Heathrow after hitting the runway during a go-around. Three crew and 25 passengers died.\n",
            "On 16 January 1955, a BEA Vickers Viscount (registered as G-AMOK) crashed into barriers whilst taking off in fog from a disused runway strip parallel to the desired runway. There were two injuries.\n",
            "On 22 June 1955, a BOAC de Havilland Dove (registration: G-ALTM) crashed just short of the runway during a filming flight when the pilot shut-down the incorrect engine. There were no casualties.\n",
            "On 1 October 1956, XA897, an Avro Vulcan strategic bomber of the Royal Air Force, crashed at Heathrow after an approach in bad weather. The Vulcan was the first to be delivered to the RAF and was returning from a demonstration flight to Australia and New Zealand. The pilot and co-pilot ejected and survived, but the four other occupants were killed.\n",
            "On 7 January 1960, Vickers Viscount G-AOHU of BEA was damaged beyond economic repair when the nose wheel collapsed on landing. A fire then developed and burnt out the fuselage. There were no casualties among the 59 people on board.\n",
            "On 27 October 1965, BEA Vickers Vanguard G-APEE, flying from Edinburgh, crashed on Runway 28R while attempting to land in poor visibility. All 30 passengers and six crew on board died.\n",
            "On 8 April 1968, BOAC Flight 712 Boeing 707 G-ARWE, departing for Australia via Singapore, suffered an engine fire just after take-off. The engine fell from the wing into a nearby gravel pit in Staines, before the plane managed to perform an emergency landing with the wing on fire. However, the plane was consumed by fire once on the ground. Five people – four passengers and a flight attendant – died, while 122 survived. The flight attendant, Barbara Harrison, who helped with the evacuation, was posthumously awarded the George Cross.\n",
            "On 3 July 1968, the port flap operating rod of G-AMAD, an Airspeed Ambassador operated by BKS Air Transport failed due to fatigue, thereby allowing the port flaps to retract. This resulted in a rolling movement to port which could not be controlled during the approach, causing the aircraft to contact the grass and swerve towards the terminal building. It hit two parked British European Airways Hawker Siddeley Trident aircraft, burst into flames and came to rest against the ground floor of the terminal building. Six of the eight crew died, as did eight horses on board. Trident G-ARPT was written off, and Trident G-ARPI was badly damaged, but subsequently repaired, only to be lost in the Staines crash in 1972.\n",
            "On 18 June 1972, Trident G-ARPI, operating as BEA548, crashed in a field close to the Crooked Billet Public House, Staines, two minutes after taking off. All 118 passengers and crew on board died.\n",
            "On 5 November 1997, an Airbus 340-300 (G-VSKY) operated by Virgin Atlantic made an emergency landing from Los Angeles after trying to shake free the main landing gear. It failed to do so. The plane landed but undersides of engines 1, 2, and 4 were damaged. The plane broke runway lights as well as causing damage to the runway and the right landing gear was torn off the plane. Seven people sustained minor injuries in the evacuation but no more injuries were reported.\n",
            "On 17 January 2008, a British Airways Boeing 777-236ER, G-YMMM, operating flight BA038 from Beijing, crash-landed at Heathrow. The aircraft landed on grass short of the south runway, then slid to the edge of the runway and stopped on the threshold, leading to 18 minor injuries. The aircraft was later found to have suffered a loss of thrust caused by fuel icing.\n",
            "\n",
            "\n",
            "=== Terrorism and security incidents ===\n",
            "On 8 June 1968, James Earl Ray, the man convicted of the 4 April 1968 assassination of Martin Luther King Jr., was captured and arrested at Heathrow Airport while attempting to leave the United Kingdom for Rhodesia (now Zimbabwe) on a false Canadian passport.\n",
            "On 6 September 1970, El Al Flight 219 experienced an attempted hijack by two PFLP members. One hijacker was killed and the other was subdued as the plane made an emergency landing at Heathrow Airport.\n",
            "On 19 May 1974, the IRA planted a series of bombs in the Terminal 1 car park. Two people were injured by the explosions.\n",
            "On 26 November 1983, the Brink's-Mat robbery occurred, in which 6,800 gold bars worth nearly £26,000,000 were taken from a vault near Heathrow. Only a small amount of the gold was recovered and only two men were convicted of the crime.\n",
            "On 17 April 1986, semtex explosives were found in the bag of a pregnant Irishwoman attempting to board an El Al flight. The explosives had been given to her by her Jordanian boyfriend and father of her unborn child Nizar Hindawi. The incident became known as the Hindawi Affair.\n",
            "On December 21, 1988, Pan Am Flight 103 exploded mid-air over the town of Lockerbie, killing all 259 onboard and eleven people on the ground. The flight originated from Frankfurt as a feeder flight with a change of aircraft at Heathrow and was on its transatlantic leg to New York's JFK airport at the time of the incident. An unaccompanied suitcase containing a boombox radio/cassette player which housed the explosive, was checked in at Malta and forwarded as interline baggage for this flight at Frankfurt, wherein it made its way to the transatlantic leg.\n",
            "In 1994, over a six-day period, Heathrow was targeted three times (8, 10, and 13 March) by the IRA, which fired 12 mortars. Heathrow was a symbolic target due to its importance to the UK economy, and much disruption was caused when areas of the airport were closed over the period. The gravity of the incident was heightened because the Queen was being flown back to Heathrow by the RAF on 10 March.\n",
            "In March 2002, thieves stole US$3,000,000 that had arrived on a South African Airways flight. Just a few weeks earlier, a similar amount of money was stolen from a British Airways flight that arrived from Bahrain.\n",
            "In February 2003, the British Army was deployed to Heathrow along with 1,000 police officers in response to intelligence reports suggesting that al-Qaeda terrorists might launch surface-to-air missile attacks at British or American airliners.\n",
            "On 17 May 2004, Scotland Yard's Flying Squad foiled an attempt by seven men to steal £40,000,000 in gold bullion and a similar quantity of cash from the Swissport warehouse at Heathrow.\n",
            "On 25 February 2008, Greenpeace activists protesting against the planned construction of a third runway managed to cross the ramp and climb atop a British Airways Airbus A320, which had just arrived from Manchester Airport. At about 09:45 GMT the protesters unveiled a \"Climate Emergency – No Third Runway\" banner over the aircraft's tailfin. By 11:00 GMT four arrests had been made.\n",
            "On 13 July 2015, thirteen activists belonging to the climate change protest group Plane Stupid managed to break through the perimeter fence and get onto the northern runway. They chained themselves together in protest, disrupting hundreds of flights. All were eventually arrested.\n",
            "\n",
            "\n",
            "=== Other incidents ===\n",
            "On 18 December 2010, 'heavy' (nine cm, according to the Heathrow Winter Resilience Enquiry) snowfall caused the closure of the entire airport, causing one of the largest incidents at Heathrow of all time. Some 4,000 flights were cancelled over five days and 9,500 passengers spent the night at Heathrow on 18 December following the initial snowfall. The problems were caused not only by snow on the runways, but also by snow and ice on the 198 parking stands which were all occupied by aircraft.\n",
            "On 12 July 2013, the ELT on an Ethiopian Airlines Boeing 787 Dreamliner parked at Heathrow airport caught fire due to a short circuit. There were no passengers aboard and no injuries.\n",
            "From 12 September 2019, the climate change campaign group, Heathrow Pause attempted to disrupt flights into and out of Heathrow Airport in London by flying drones in the airport's exclusion zone. The action was unsuccessful at disrupting flights and nineteen people were arrested.\n",
            "\n",
            "\n",
            "== Future expansion and plans ==\n",
            "\n",
            "\n",
            "=== Runway and terminal expansion ===\n",
            "\n",
            "There is a long history of expansion proposals for Heathrow since it was first designated as a civil airport. Following the cancellation of the Maplin project in 1974, a fourth terminal was proposed but expansion beyond this ruled out. However, the Airports Inquiries of 1981–83 and the 1985 Airports Policy White Paper considered further expansion and, following a four-year-long public inquiry in 1995–99, Terminal 5 was approved. In 2003, after many studies and consultations, the Future of Air Transport White Paper was published which proposed a third runway at Heathrow, as well as a second runway at Stansted Airport. In January 2009, the Transport Secretary at the time, Geoff Hoon announced that the British government supported the expansion of Heathrow by building a third 2,200-metre (7,200 ft) runway and a sixth terminal building. This decision followed the 2003 white paper on the future of air transport in the UK, and a public consultation in November 2007. This was a controversial decision which met with widespread opposition because of the expected greenhouse gas emissions, impact on local communities, as well as noise and air pollution concerns.Before the 2010 general election, the Conservative and Liberal Democrat parties announced that they would prevent the construction of any third runway or further material expansion of the airport's operating capacity. The Mayor of London, then Boris Johnson, took the position that London needs more airport capacity, favouring the construction of an entirely new airport in the Thames Estuary rather than expanding Heathrow. After the Conservative-Liberal Democrat coalition took power, it was announced that the third runway expansion was cancelled. Two years later, leading Conservatives were reported to have changed their minds on the subject.Another proposal for expanding Heathrow's capacity was the Heathrow Hub, which aims to extend both runways to a total length of about 7,000 metres and divide them into four so that they each provide two, full length runways, allowing simultaneous take-offs and landings while decreasing noise levels.In July 2013, the airport submitted three new proposals for expansion to the Airports Commission, which was established to review airport capacity in the southeast of England. The Airports Commission was chaired by Sir Howard Davies who, at the time of his appointment was in the employ of GIC Private Limited (formerly known as Government Investment Corporation of Singapore) and a member of its International Advisory Board. GIC Private Limited was then (2012), as it remains today, one of Heathrow's principal owners. Sir Howard Davies resigned these positions upon confirmation of his appointment to lead the Airports Commission, although it has been observed that he failed to identify these interests when invited to complete the Airports Commission's register of interests. Each of the three proposals that were to be considered by Sir Howard Davies's commission involved the construction of a third runway, either to the north, northwest or southwest of the airport.The commission released its interim report in December 2013, shortlisting three options: the north-west third runway option at Heathrow, extending an existing runway at Heathrow, and a second runway at Gatwick Airport. After this report was published, the government confirmed that no options had been ruled out for airport expansion in the South-east and that a new runway would not be built at Heathrow before 2015. The full report was published on 1 July 2015, and backed a third, north-west, runway at Heathrow. Reaction to the report was generally negative, particularly from London Mayor Boris Johnson. One senior Conservative told Channel 4: \"Howard Davies has dumped an utter steaming pile of poo on the Prime Minister's desk.\" On 25 October 2016, the government confirmed that Heathrow would be allowed to build a third runway; however, a final decision would not be taken until winter of 2017/18, after consultations and government votes. The earliest opening year would be 2025.\n",
            "On 5 June 2018, the UK Cabinet approved the third runway, with a full vote planned for Parliament. On 25 June 2018, the House of Commons voted, 415–119, in favour of the third runway. The bill received support from most MPs in the Conservative and Labour parties. A judicial review against the decision was launched by four London local authorities affected by the expansion—Wandsworth, Richmond, Hillingdon and Hammersmith and Fulham—in partnership with Greenpeace and London mayor Sadiq Khan. Khan previously stated he would take legal action if it were passed by Parliament.In February 2020, the Court of Appeal ruled that the plans for a third runway were illegal since they did not adequately take into account the government's commitments to the Paris climate agreement. However, this ruling was later overturned by the Supreme Court in December 2020.\n",
            "\n",
            "\n",
            "=== New transport proposals ===\n",
            "\n",
            "Currently, all rail connections with Heathrow airport run along an east–west alignment to and from central London, and a number of schemes have been proposed over the years to develop new rail transport links with other parts of London and with stations outside the city. This mainline rail service is due to be extended to central London and Essex when the Elizabeth line, currently under construction, opens.A 2009 proposal to create a southern link with London Waterloo via the Waterloo–Reading line was abandoned in 2011 due to lack of funding and difficulties with a high number of level crossings on the route into London, and a plan to link Heathrow to the planned High Speed 2 (HS2) railway line (with a new station, Heathrow Hub) was also dropped from the HS2 plans in March 2015.Among other schemes that have been considered is a rapid transport link between Heathrow and Gatwick Airports, known as Heathwick, which would allow the airports to operate jointly as an airline hub; In 2018, the Department for Transport began to invite proposals for privately funded rail links to Heathrow Airport. Projects being considered under this initiative include:\n",
            "\n",
            "the Western Rail Approach to Heathrow, a proposal for a spur from the Great Western Main Line to link Heathrow to Reading, Slough, the South West, South Wales and the West Midlands;\n",
            "Heathrow Southern Railway, a similar scheme to the abandoned Airtrack proposal, which would connect Terminal 5 station with Chertsey or Virginia Water, Staines, London Waterloo, Guildford and Clapham Junction;\n",
            "HS4Air, a proposal for a new high-speed railway line which would link HS2 to the High Speed 1 line and the Channel Tunnel via a southern route, with stations at Heathrow and Gatwick Airports.\n",
            "\n",
            "\n",
            "== See also ==\n",
            "Airports of London\n",
            "Heathrow Worldwide Distribution Centre\n",
            "List of airports in the United Kingdom and the British Crown Dependencies\n",
            "\n",
            "\n",
            "== Notes ==\n",
            "\n",
            "\n",
            "== References ==\n",
            "\n",
            "\n",
            "=== Citations ===\n",
            "\n",
            "\n",
            "=== Bibliography ===\n",
            "Cotton, Jonathan; Mills, John & Clegg, Gillian. (1986) Archaeology in West Middlesex. Uxbridge: London Borough of Hillingdon ISBN 0-907869-07-6\n",
            "Gallop, Alan. (2005) Time Flies: Heathrow at 60. Stroud: Sutton Publishing ISBN 0-7509-3840-4\n",
            "Helpenny, Bruce B. (1992) Action Stations Vol.8: Military Airfields of Greater London. ISBN 1-85260-431-X\n",
            "Le Blond, Paul. (2018) Inside London's Airports Policy: Indecision, decision and counter-decision, ICE Publishing, ISBN 9780727763655\n",
            "Sherwood, Philip. (1990) The History of Heathrow. Uxbridge: London Borough of Hillingdon ISBN 0-907869-27-0\n",
            "Sherwood, Philip (editor). (1993) The Villages of Harmondsworth. West Middlesex Family History Society, ISBN 0 9511476 2 5\n",
            "Sherwood, Philip. (1999) Heathrow: 2000 Years of History. Stroud: Sutton Publishing ISBN 0-7509-2132-3\n",
            "Sherwood, Philip. (2006) Around Heathrow Past & Present. Sutton Publishing ISBN 0-7509-4135-9\n",
            "(Contains many pairs of photographs, old (or in one case a painting), and new, each pair made from the same viewpoint.)\n",
            "Sherwood, Philip. (2009) Heathrow: 2000 Years of History. Stroud: The History Press ISBN 978-0750921329\n",
            "Sherwood, Philip. (2012) Around Heathrow Through Time. Amberley Publishing, ISBN 978-1-4456-0846-4\n",
            "Sherwood, Tim. (1999) Coming in to Land: A Short History of Hounslow, Hanworth and Heston Aerodromes 1911–1946. Heritage Publications (Hounslow Library) ISBN 1-899144-30-7\n",
            "Smith, Graham. (2003) Taking to the Skies: the Story of British Aviation 1903–1939. Countryside ISBN 1-85306-815-2\n",
            "Smith, Ron. (2002) British Built Aircraft Vol.1. Greater London: Tempus ISBN 0-7524-2770-9\n",
            "Sturtivant, Ray. (1995) Fairey Aircraft: in Old Photographs. Alan Sutton ISBN 0-7509-1135-2\n",
            "Taylor, H.A. (1974) Fairey Aircraft since 1915. Putnam ISBN 0-370-00065-X.\n",
            "Taylor, John WR. (1997) Fairey Aviation: Archive Photographs. Chalford ISBN 0-7524-0684-1\n",
            "\n",
            "\n",
            "== External links ==\n",
            "Official website\n",
            "Heathrow Community Engagement Board\n"
          ]
        }
      ]
    },
    {
      "cell_type": "code",
      "metadata": {
        "id": "GqpcFjwcZat6",
        "outputId": "2f715901-4fc6-4d0d-bd14-fc854d20c0c9",
        "colab": {
          "base_uri": "https://localhost:8080/"
        }
      },
      "source": [
        "print('\\n======= Section ========')\n",
        "print(page.section('Facilities'))"
      ],
      "execution_count": 13,
      "outputs": [
        {
          "output_type": "stream",
          "name": "stdout",
          "text": [
            "\n",
            "======= Section ========\n",
            "Heathrow Airport is used by over 80 airlines flying to 185 destinations in 84 countries. The airport is the primary hub of British Airways and is a base for Virgin Atlantic. It has four passenger terminals (numbered 2 to 5) and a cargo terminal. Of Heathrow's 78 million passengers in 2017, 94% were international travellers; the remaining 6% were bound for (or arriving from) places in the UK. The busiest single destination in passenger numbers is New York, with over 3 million passengers flying between Heathrow and JFK Airport in 2013.In the 1950s, Heathrow had six runways, arranged in three pairs at different angles in the shape of a hexagram with the permanent passenger terminal in the middle and the older terminal along the north edge of the field; two of its runways would always be within 30° of the wind direction. As the required length for runways has grown, Heathrow now has only two parallel runways running east–west. These are extended versions of the two east–west runways from the original hexagram. From the air, almost all of the original runways can still be seen, incorporated into the present system of taxiways. North of the northern runway and the former taxiway and aprons, now the site of extensive car parks, is the entrance to the access tunnel and the site of Heathrow's unofficial \"gate guardian\". For many years the home of a 40% scale model of a British Airways Concorde, G-CONC, the site has been occupied by a model of an Emirates Airbus A380 since 2008.Heathrow Airport has Anglican, Catholic, Free Church, Hindu, Jewish, Muslim and Sikh chaplains. There is a multi-faith prayer room and counselling room in each terminal, in addition to St. George's Interdenominational Chapel in an underground vault adjacent to the old control tower, where Christian services take place. The chaplains organise and lead prayers at certain times in the prayer room.The airport has its own resident press corps, consisting of six photographers and one TV crew, serving all the major newspapers and television stations around the world.Most of Heathrow's internal roads are initial letter coded by area: N in the north (e.g. Newall Road), E in the east (e.g. Elmdon Road), S in the south (e.g. Stratford Road), W in the west (e.g. Walrus Road), C in the centre (e.g. Camborne Road).\n"
          ]
        }
      ]
    },
    {
      "cell_type": "code",
      "metadata": {
        "id": "zOF9t_p7X0W2"
      },
      "source": [
        "wikipedia.set_lang(\"fr\")\n",
        "wikipedia.summary(\"Google\", sentences=1)\n",
        "wikipedia.set_lang(\"en\")"
      ],
      "execution_count": 14,
      "outputs": []
    },
    {
      "cell_type": "markdown",
      "metadata": {
        "id": "AK0uvps3bHkz"
      },
      "source": [
        "## Examples"
      ]
    },
    {
      "cell_type": "code",
      "metadata": {
        "id": "PPwy6AgHQzrM",
        "outputId": "17888ca2-0ab9-44c1-bdea-30a64bdf7b42",
        "colab": {
          "base_uri": "https://localhost:8080/"
        }
      },
      "source": [
        "q_and_a(\"Who founded CNN?\", wikipedia.summary('Cable News Network'))"
      ],
      "execution_count": 20,
      "outputs": [
        {
          "output_type": "stream",
          "name": "stdout",
          "text": [
            "Answer: \"ted turner and reese sc ##hon ##feld\"\n"
          ]
        }
      ]
    },
    {
      "cell_type": "code",
      "metadata": {
        "id": "0IxwxGpdSlGD",
        "outputId": "5595f60b-c14b-490b-bb56-943dc60f9928",
        "colab": {
          "base_uri": "https://localhost:8080/"
        }
      },
      "source": [
        "q_and_a('When were the Steelers created?', wikipedia.summary('Pittsburgh Steelers'))"
      ],
      "execution_count": 21,
      "outputs": [
        {
          "output_type": "stream",
          "name": "stdout",
          "text": [
            "Answer: \"1933\"\n"
          ]
        }
      ]
    },
    {
      "cell_type": "code",
      "metadata": {
        "id": "A1LQ25wNVCv7",
        "outputId": "2cc376f9-a2db-45f0-e487-80796d8ae610",
        "colab": {
          "base_uri": "https://localhost:8080/"
        }
      },
      "source": [
        "q_and_a('What is in pudding?', wikipedia.summary('Pudding'))"
      ],
      "execution_count": 22,
      "outputs": [
        {
          "output_type": "stream",
          "name": "stdout",
          "text": [
            "Answer: \"a type of food that can be either a dessert or a sa ##vo ##ury ( salty or spicy ) dish that is part of the main meal\"\n"
          ]
        }
      ]
    },
    {
      "cell_type": "code",
      "metadata": {
        "id": "GyEocHssXqIA",
        "outputId": "868623f1-6f25-42e6-d381-82ad3b811302",
        "colab": {
          "base_uri": "https://localhost:8080/"
        }
      },
      "source": [
        "q_and_a('What position does Tom Brady play?', wikipedia.summary('TomBrady'))"
      ],
      "execution_count": 23,
      "outputs": [
        {
          "output_type": "stream",
          "name": "stdout",
          "text": [
            "Answer: \"quarterback\"\n"
          ]
        }
      ]
    },
    {
      "cell_type": "code",
      "metadata": {
        "id": "Evr_AsjqZfJz",
        "outputId": "a4506d0b-cf5f-414a-c4f9-b3ad05843202",
        "colab": {
          "base_uri": "https://localhost:8080/"
        }
      },
      "source": [
        "q_and_a('Who was the first president?', wikipedia.summary('List of presidents of the United States'))"
      ],
      "execution_count": 24,
      "outputs": [
        {
          "output_type": "stream",
          "name": "stdout",
          "text": [
            "Answer: \"1789\"\n"
          ]
        }
      ]
    },
    {
      "cell_type": "markdown",
      "metadata": {
        "id": "paqbhI46Hffi"
      },
      "source": [
        "## Random Forest Example"
      ]
    },
    {
      "cell_type": "code",
      "metadata": {
        "id": "851sAiYEVG-q",
        "outputId": "ad2d5fd3-d5ce-450b-e749-3ebb77aa5441",
        "colab": {
          "base_uri": "https://localhost:8080/"
        }
      },
      "source": [
        "print(wikipedia.summary('Random Forest'))"
      ],
      "execution_count": 29,
      "outputs": [
        {
          "output_type": "stream",
          "name": "stdout",
          "text": [
            "Random forests or random decision forests are an ensemble learning method for classification, regression and other tasks that operates by constructing a multitude of decision trees at training time. For classification tasks, the output of the random forest is the class selected by most trees. For regression tasks, the mean or average prediction of the individual trees is returned. Random decision forests correct for decision trees' habit of overfitting to their training set.: 587–588  Random forests generally outperform decision trees, but their accuracy is lower than gradient boosted trees. However, data characteristics can affect their performance.The first algorithm for random decision forests was created in 1995 by Tin Kam Ho using the random subspace method, which, in Ho's formulation, is a way to implement the \"stochastic discrimination\" approach to classification proposed by Eugene Kleinberg.An extension of the algorithm was developed by Leo Breiman and Adele Cutler, who registered \"Random Forests\" as a trademark in 2006 (as of 2019, owned by Minitab, Inc.). The extension combines Breiman's \"bagging\" idea and random selection of features, introduced first by Ho and later independently by Amit and Geman in order to construct a collection of decision trees with controlled variance.\n",
            "Random forests are frequently used as \"blackbox\" models in businesses, as they generate reasonable predictions across a wide range of data while requiring little configuration.\n"
          ]
        }
      ]
    },
    {
      "cell_type": "code",
      "metadata": {
        "id": "VlSJWE0iHnJb",
        "outputId": "0b792571-4986-4b66-9b56-0beaad78e381",
        "colab": {
          "base_uri": "https://localhost:8080/"
        }
      },
      "source": [
        "q_and_a('What is a random forest?', wikipedia.summary('Random Forest'))"
      ],
      "execution_count": 35,
      "outputs": [
        {
          "output_type": "stream",
          "name": "stdout",
          "text": [
            "Answer: \"\"\n"
          ]
        }
      ]
    },
    {
      "cell_type": "code",
      "metadata": {
        "id": "k47OWtLcHp9m",
        "outputId": "fdc16bc1-2d2f-474a-d29a-b0645fb5b184",
        "colab": {
          "base_uri": "https://localhost:8080/",
          "height": 502
        }
      },
      "source": [
        "q_and_a('What is a random forest?', wikipedia.summary('Random Forest'), display_scores=True)"
      ],
      "execution_count": 27,
      "outputs": [
        {
          "output_type": "stream",
          "name": "stdout",
          "text": [
            "Answer: \"\"\n"
          ]
        },
        {
          "output_type": "display_data",
          "data": {
            "image/png": "[encoded data removed]",
            "text/plain": [
              "<Figure size 720x576 with 2 Axes>"
            ]
          },
          "metadata": {
            "needs_background": "light"
          }
        }
      ]
    },
    {
      "cell_type": "code",
      "metadata": {
        "id": "Ycy7DayfH88t",
        "outputId": "ea247c8f-8774-4154-dc47-9cad8ee7ba18",
        "colab": {
          "base_uri": "https://localhost:8080/",
          "height": 522
        }
      },
      "source": [
        "q_and_a('What is a random decision forest?', wikipedia.summary('Random Forest'), display_scores=True)"
      ],
      "execution_count": 33,
      "outputs": [
        {
          "output_type": "stream",
          "name": "stdout",
          "text": [
            "Answer: \"an ensemble learning method for classification , regression and other tasks that operates by constructing a multitude of decision trees at training time\"\n"
          ]
        },
        {
          "output_type": "display_data",
          "data": {
            "image/png": "[encoded data removed]",
            "text/plain": [
              "<Figure size 720x576 with 2 Axes>"
            ]
          },
          "metadata": {
            "needs_background": "light"
          }
        }
      ]
    },
    {
      "cell_type": "markdown",
      "metadata": {
        "id": "QEN5oY1eMmFR"
      },
      "source": [
        "# SQuaD\n",
        "\n",
        "![](https://miro.medium.com/max/1200/1*6ga054VrBMwLG4OC13bQoQ.png)\n",
        "\n",
        "* Stanford Question and Answer Dataset\n",
        "  * Imagenet of Q&A\n",
        "  * Human Level Performance EM 86.831, F1 89.452\n",
        "  * Top Model EM 90.724 F1 93.011\n",
        "* Scoring \n",
        "  * EM = Exact Match of one of the provided answers\n",
        "  * F1 = Token level match (partial credit)\n",
        "* SQuaD 1.1 = 100,000 Questions, Text Context and Answers\n",
        "* SQuaD 2.0 = 150,000 Questions, Text Context and Answers\n",
        "  * 50,000 Adverserial Examples (Engineered to look real)\n",
        "  * Must output nothing to get correct\n",
        "* Site hosts a running competition (taking your model, scoring dev & test)\n",
        "* https://rajpurkar.github.io/SQuAD-explorer/"
      ]
    },
    {
      "cell_type": "code",
      "metadata": {
        "id": "yWyqx82thvQy"
      },
      "source": [
        "answer_text = \"\"\"The word pharmacy is derived from its root word pharma which was a term used \n",
        "since the 15th–17th centuries. However, the original Greek roots from pharmakos imply \n",
        "sorcery or even poison. In addition to pharma responsibilities, the pharma offered general \n",
        "medical advice and a range of services that are now performed solely by other specialist \n",
        "practitioners, such as surgery and midwifery. The pharma (as it was referred to) often \n",
        "operated through a retail shop which, in addition to ingredients for medicines, sold \n",
        "tobacco and patent medicines. Often the place that did this was called an apothecary \n",
        "and several languages have this as the dominant term, though their practices are more \n",
        "akin to a modern pharmacy, in English the term apothecary would today be seen as outdated \n",
        "or only approproriate if herbal remedies were on offer to a large extent. The pharmas also \n",
        "used many other herbs not listed. The Greek word Pharmakeia (Greek: φαρμακεία) derives from \n",
        "pharmakon (φάρμακον), meaning \"drug\", \"medicine\" (or \"poison\").[n 1]\"\"\""
      ],
      "execution_count": 36,
      "outputs": []
    },
    {
      "cell_type": "code",
      "metadata": {
        "id": "iOUO54oqvCC8",
        "outputId": "6441406d-b5b7-4d5f-e357-f3e478de7908",
        "colab": {
          "base_uri": "https://localhost:8080/"
        }
      },
      "source": [
        "question = \"What goods were sold in a pharma?\"\n",
        "q_and_a(question, answer_text, condense_subwords=True)"
      ],
      "execution_count": 37,
      "outputs": [
        {
          "output_type": "stream",
          "name": "stdout",
          "text": [
            "Answer: \"general medical advice and a range of services that are now performed solely by other specialist practitioners , such as surgery and midwifery\"\n"
          ]
        }
      ]
    },
    {
      "cell_type": "code",
      "metadata": {
        "id": "veJlJpmivG5v",
        "outputId": "17b51f82-04a8-4e09-be43-76d18ca2a3bc",
        "colab": {
          "base_uri": "https://localhost:8080/"
        }
      },
      "source": [
        "question = \"What word is the word pharmacy taken from?\"\n",
        "q_and_a(question, answer_text, condense_subwords=True)"
      ],
      "execution_count": 38,
      "outputs": [
        {
          "output_type": "stream",
          "name": "stdout",
          "text": [
            "Answer: \"pharma\"\n"
          ]
        }
      ]
    },
    {
      "cell_type": "markdown",
      "metadata": {
        "id": "F-UbF6GyApXa"
      },
      "source": [
        "# Training Set"
      ]
    },
    {
      "cell_type": "markdown",
      "metadata": {
        "id": "6HVt06IsGFFb"
      },
      "source": [
        "## Download"
      ]
    },
    {
      "cell_type": "code",
      "metadata": {
        "id": "A0F2Em-Yv4Jt",
        "outputId": "f0a124d0-667c-4d27-c436-d0d563e49e72",
        "colab": {
          "base_uri": "https://localhost:8080/"
        }
      },
      "source": [
        "!wget -O squad.json https://rajpurkar.github.io/SQuAD-explorer/dataset/train-v1.1.json"
      ],
      "execution_count": 39,
      "outputs": [
        {
          "output_type": "stream",
          "name": "stdout",
          "text": [
            "--2022-01-19 13:30:33--  https://rajpurkar.github.io/SQuAD-explorer/dataset/train-v1.1.json\n",
            "Resolving rajpurkar.github.io (rajpurkar.github.io)... 185.199.108.153, 185.199.109.153, 185.199.110.153, ...\n",
            "Connecting to rajpurkar.github.io (rajpurkar.github.io)|185.199.108.153|:443... connected.\n",
            "HTTP request sent, awaiting response... 200 OK\n",
            "Length: 30288272 (29M) [application/json]\n",
            "Saving to: ‘squad.json’\n",
            "\n",
            "squad.json          100%[===================>]  28.88M  --.-KB/s    in 0.09s   \n",
            "\n",
            "2022-01-19 13:30:33 (308 MB/s) - ‘squad.json’ saved [30288272/30288272]\n",
            "\n"
          ]
        }
      ]
    },
    {
      "cell_type": "markdown",
      "metadata": {
        "id": "76mc0jrrGGg9"
      },
      "source": [
        "## Parse"
      ]
    },
    {
      "cell_type": "code",
      "metadata": {
        "id": "OiYNqENgA4kc",
        "outputId": "a1d118f8-ac27-470c-fde9-2353abd533e3",
        "colab": {
          "base_uri": "https://localhost:8080/"
        }
      },
      "source": [
        "with open('squad.json', 'r') as f:\n",
        "  j = json.load(f)\n",
        "\n",
        "cases = []\n",
        "for entry in j['data']:\n",
        "    title = entry['title']\n",
        "    for paragraph in entry['paragraphs']:\n",
        "        context = paragraph['context']\n",
        "        for qa in paragraph['qas']:\n",
        "            case = {}\n",
        "            case['title'] = title\n",
        "            case['context_text'] = context\n",
        "\n",
        "            case['qas_id'] = qa['id']\n",
        "            case['question_text'] = qa['question']\n",
        "            \n",
        "            answer = qa['answers'][0]\n",
        "            case['answer_text'] = answer['text']\n",
        "            case['start_position_character'] = answer['answer_start']                \n",
        "            \n",
        "            cases.append(case)\n",
        "print(f'Loaded {len(cases):,} cases')"
      ],
      "execution_count": 40,
      "outputs": [
        {
          "output_type": "stream",
          "name": "stdout",
          "text": [
            "Loaded 87,599 cases\n"
          ]
        }
      ]
    },
    {
      "cell_type": "markdown",
      "metadata": {
        "id": "I07x_5MFGDfm"
      },
      "source": [
        "## Display"
      ]
    },
    {
      "cell_type": "code",
      "metadata": {
        "id": "p-Exgm7VFrXW",
        "outputId": "14c91ddc-6ef8-4334-a865-6b04db40e819",
        "colab": {
          "base_uri": "https://localhost:8080/"
        }
      },
      "source": [
        "wrapper = textwrap.TextWrapper(width=80) \n",
        "case = cases[100]\n",
        "\n",
        "print('Title:', case['title'])\n",
        "print('ID:', case['qas_id'])\n",
        "\n",
        "print('\\n======== Question =========')\n",
        "print(case['question_text'])\n",
        "\n",
        "print('\\n======== Context =========')\n",
        "print(wrapper.fill(case['context_text']))\n",
        "\n",
        "print('\\n======== Answer =========')\n",
        "print(case['answer_text'])\n",
        "\n",
        "print('\\n======== Position =========')\n",
        "print(case['start_position_character'])\n"
      ],
      "execution_count": 41,
      "outputs": [
        {
          "output_type": "stream",
          "name": "stdout",
          "text": [
            "Title: University_of_Notre_Dame\n",
            "ID: 573387acd058e614000b5cb5\n",
            "\n",
            "======== Question =========\n",
            "In what year did the team lead by Knute Rockne win the Rose Bowl?\n",
            "\n",
            "======== Context =========\n",
            "One of the main driving forces in the growth of the University was its football\n",
            "team, the Notre Dame Fighting Irish. Knute Rockne became head coach in 1918.\n",
            "Under Rockne, the Irish would post a record of 105 wins, 12 losses, and five\n",
            "ties. During his 13 years the Irish won three national championships, had five\n",
            "undefeated seasons, won the Rose Bowl in 1925, and produced players such as\n",
            "George Gipp and the \"Four Horsemen\". Knute Rockne has the highest winning\n",
            "percentage (.881) in NCAA Division I/FBS football history. Rockne's offenses\n",
            "employed the Notre Dame Box and his defenses ran a 7–2–2 scheme. The last game\n",
            "Rockne coached was on December 14, 1930 when he led a group of Notre Dame all-\n",
            "stars against the New York Giants in New York City.\n",
            "\n",
            "======== Answer =========\n",
            "1925\n",
            "\n",
            "======== Position =========\n",
            "354\n"
          ]
        }
      ]
    },
    {
      "cell_type": "markdown",
      "metadata": {
        "id": "_JJETNIxDoE3"
      },
      "source": [
        "## Predict"
      ]
    },
    {
      "cell_type": "code",
      "metadata": {
        "id": "rQDfF8AKIgdj",
        "outputId": "03c3bba2-d764-46ca-dd66-243db8f9f039",
        "colab": {
          "base_uri": "https://localhost:8080/"
        }
      },
      "source": [
        "q_and_a(case['question_text'], case['context_text'], condense_subwords=True)"
      ],
      "execution_count": 42,
      "outputs": [
        {
          "output_type": "stream",
          "name": "stdout",
          "text": [
            "Answer: \"1925\"\n"
          ]
        }
      ]
    },
    {
      "cell_type": "code",
      "metadata": {
        "id": "A2PTsgn5HGNV"
      },
      "source": [
        ""
      ],
      "execution_count": null,
      "outputs": []
    }
  ]
}