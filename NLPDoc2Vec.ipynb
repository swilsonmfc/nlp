{
  "nbformat": 4,
  "nbformat_minor": 0,
  "metadata": {
    "colab": {
      "name": "NLPDoc2Vec.ipynb",
      "provenance": [],
      "collapsed_sections": [],
      "toc_visible": true,
      "authorship_tag": "ABX9TyMw6tzExT/+d0zONAqKfpwD",
      "include_colab_link": true
    },
    "kernelspec": {
      "name": "python3",
      "display_name": "Python 3"
    },
    "accelerator": "GPU"
  },
  "cells": [
    {
      "cell_type": "markdown",
      "metadata": {
        "id": "view-in-github",
        "colab_type": "text"
      },
      "source": [
        "<a href=\"https://colab.research.google.com/github/swilsonmfc/nlp/blob/master/NLPDoc2Vec.ipynb\" target=\"_parent\"><img src=\"https://colab.research.google.com/assets/colab-badge.svg\" alt=\"Open In Colab\"/></a>"
      ]
    },
    {
      "cell_type": "markdown",
      "metadata": {
        "id": "aC3uaWkdjQTF",
        "colab_type": "text"
      },
      "source": [
        "# Document Representations\n",
        "![](https://songsforteaching.net/wp-content/uploads/2019/01/wordcloud-lyrics-1.jpg)"
      ]
    },
    {
      "cell_type": "markdown",
      "metadata": {
        "id": "MsGLFnwMjV_1",
        "colab_type": "text"
      },
      "source": [
        "# Setup"
      ]
    },
    {
      "cell_type": "code",
      "metadata": {
        "id": "FBvG_SaLoqCm",
        "colab_type": "code",
        "colab": {
          "base_uri": "https://localhost:8080/",
          "height": 360
        },
        "outputId": "35ea6e9e-4d00-48be-c8b8-1c53d6b32e79"
      },
      "source": [
        "!pip install transformers"
      ],
      "execution_count": 1,
      "outputs": [
        {
          "output_type": "stream",
          "text": [
            "Requirement already satisfied: transformers in /usr/local/lib/python3.6/dist-packages (3.0.2)\n",
            "Requirement already satisfied: sacremoses in /usr/local/lib/python3.6/dist-packages (from transformers) (0.0.43)\n",
            "Requirement already satisfied: dataclasses; python_version < \"3.7\" in /usr/local/lib/python3.6/dist-packages (from transformers) (0.7)\n",
            "Requirement already satisfied: tokenizers==0.8.1.rc1 in /usr/local/lib/python3.6/dist-packages (from transformers) (0.8.1rc1)\n",
            "Requirement already satisfied: filelock in /usr/local/lib/python3.6/dist-packages (from transformers) (3.0.12)\n",
            "Requirement already satisfied: regex!=2019.12.17 in /usr/local/lib/python3.6/dist-packages (from transformers) (2019.12.20)\n",
            "Requirement already satisfied: sentencepiece!=0.1.92 in /usr/local/lib/python3.6/dist-packages (from transformers) (0.1.91)\n",
            "Requirement already satisfied: packaging in /usr/local/lib/python3.6/dist-packages (from transformers) (20.4)\n",
            "Requirement already satisfied: requests in /usr/local/lib/python3.6/dist-packages (from transformers) (2.23.0)\n",
            "Requirement already satisfied: tqdm>=4.27 in /usr/local/lib/python3.6/dist-packages (from transformers) (4.41.1)\n",
            "Requirement already satisfied: numpy in /usr/local/lib/python3.6/dist-packages (from transformers) (1.18.5)\n",
            "Requirement already satisfied: click in /usr/local/lib/python3.6/dist-packages (from sacremoses->transformers) (7.1.2)\n",
            "Requirement already satisfied: joblib in /usr/local/lib/python3.6/dist-packages (from sacremoses->transformers) (0.16.0)\n",
            "Requirement already satisfied: six in /usr/local/lib/python3.6/dist-packages (from sacremoses->transformers) (1.15.0)\n",
            "Requirement already satisfied: pyparsing>=2.0.2 in /usr/local/lib/python3.6/dist-packages (from packaging->transformers) (2.4.7)\n",
            "Requirement already satisfied: certifi>=2017.4.17 in /usr/local/lib/python3.6/dist-packages (from requests->transformers) (2020.6.20)\n",
            "Requirement already satisfied: idna<3,>=2.5 in /usr/local/lib/python3.6/dist-packages (from requests->transformers) (2.10)\n",
            "Requirement already satisfied: chardet<4,>=3.0.2 in /usr/local/lib/python3.6/dist-packages (from requests->transformers) (3.0.4)\n",
            "Requirement already satisfied: urllib3!=1.25.0,!=1.25.1,<1.26,>=1.21.1 in /usr/local/lib/python3.6/dist-packages (from requests->transformers) (1.24.3)\n"
          ],
          "name": "stdout"
        }
      ]
    },
    {
      "cell_type": "code",
      "metadata": {
        "id": "BhrAQFd9QPrE",
        "colab_type": "code",
        "colab": {}
      },
      "source": [
        "import pandas as pd\n",
        "import numpy as np\n",
        "import matplotlib.pyplot as plt\n",
        "import seaborn as sns\n",
        "\n",
        "import glob\n",
        "import random\n",
        "import collections\n",
        "import time\n",
        "import datetime\n",
        "\n",
        "import torch\n",
        "\n",
        "from torch.utils.data import TensorDataset\n",
        "from torch.utils.data import DataLoader\n",
        "from torch.utils.data import RandomSampler\n",
        "from torch.utils.data import SequentialSampler\n",
        "\n",
        "import gensim\n",
        "import gensim.downloader as api\n",
        "from gensim.similarities.docsim import Similarity\n",
        "\n",
        "from transformers import BertTokenizer\n",
        "from transformers import BertForSequenceClassification\n",
        "from transformers import AdamW\n",
        "from transformers import BertConfig\n",
        "from transformers import get_linear_schedule_with_warmup\n",
        "\n",
        "from sklearn.model_selection import train_test_split\n",
        "from sklearn.metrics.pairwise import cosine_similarity\n",
        "from sklearn.metrics import classification_report\n",
        "from sklearn.metrics import ndcg_score"
      ],
      "execution_count": 138,
      "outputs": []
    },
    {
      "cell_type": "markdown",
      "metadata": {
        "id": "nDFVr0abPrBt",
        "colab_type": "text"
      },
      "source": [
        "# Kaggle"
      ]
    },
    {
      "cell_type": "code",
      "metadata": {
        "id": "DuhS26l9vLba",
        "colab_type": "code",
        "colab": {
          "base_uri": "https://localhost:8080/",
          "height": 224
        },
        "outputId": "d8cd514f-f2a0-4288-f230-c51e1f4cd27e"
      },
      "source": [
        "!pip install kaggle\n",
        "!mkdir -p ~/.kaggle"
      ],
      "execution_count": 3,
      "outputs": [
        {
          "output_type": "stream",
          "text": [
            "Requirement already satisfied: kaggle in /usr/local/lib/python3.6/dist-packages (1.5.6)\n",
            "Requirement already satisfied: python-slugify in /usr/local/lib/python3.6/dist-packages (from kaggle) (4.0.1)\n",
            "Requirement already satisfied: certifi in /usr/local/lib/python3.6/dist-packages (from kaggle) (2020.6.20)\n",
            "Requirement already satisfied: python-dateutil in /usr/local/lib/python3.6/dist-packages (from kaggle) (2.8.1)\n",
            "Requirement already satisfied: urllib3<1.25,>=1.21.1 in /usr/local/lib/python3.6/dist-packages (from kaggle) (1.24.3)\n",
            "Requirement already satisfied: requests in /usr/local/lib/python3.6/dist-packages (from kaggle) (2.23.0)\n",
            "Requirement already satisfied: six>=1.10 in /usr/local/lib/python3.6/dist-packages (from kaggle) (1.15.0)\n",
            "Requirement already satisfied: tqdm in /usr/local/lib/python3.6/dist-packages (from kaggle) (4.41.1)\n",
            "Requirement already satisfied: text-unidecode>=1.3 in /usr/local/lib/python3.6/dist-packages (from python-slugify->kaggle) (1.3)\n",
            "Requirement already satisfied: idna<3,>=2.5 in /usr/local/lib/python3.6/dist-packages (from requests->kaggle) (2.10)\n",
            "Requirement already satisfied: chardet<4,>=3.0.2 in /usr/local/lib/python3.6/dist-packages (from requests->kaggle) (3.0.4)\n"
          ],
          "name": "stdout"
        }
      ]
    },
    {
      "cell_type": "code",
      "metadata": {
        "id": "zBgCJawsvQnC",
        "colab_type": "code",
        "colab": {}
      },
      "source": [
        "from google.colab import files\n",
        "files.upload()"
      ],
      "execution_count": null,
      "outputs": []
    },
    {
      "cell_type": "code",
      "metadata": {
        "id": "du54xlsZvQlB",
        "colab_type": "code",
        "colab": {}
      },
      "source": [
        "!mv kaggle.json ~/.kaggle\n",
        "!chmod 600 ~/.kaggle/kaggle.json"
      ],
      "execution_count": 5,
      "outputs": []
    },
    {
      "cell_type": "markdown",
      "metadata": {
        "id": "yvJWX1eajWM-",
        "colab_type": "text"
      },
      "source": [
        "# Data"
      ]
    },
    {
      "cell_type": "code",
      "metadata": {
        "id": "7rxOoy2WQNb8",
        "colab_type": "code",
        "colab": {
          "base_uri": "https://localhost:8080/",
          "height": 68
        },
        "outputId": "c4cdd7b1-79ea-4859-f462-ec8a19bb3280"
      },
      "source": [
        "!kaggle datasets download -d paultimothymooney/poetry"
      ],
      "execution_count": 6,
      "outputs": [
        {
          "output_type": "stream",
          "text": [
            "Downloading poetry.zip to /content\n",
            "\r  0% 0.00/2.00M [00:00<?, ?B/s]\n",
            "\r100% 2.00M/2.00M [00:00<00:00, 140MB/s]\n"
          ],
          "name": "stdout"
        }
      ]
    },
    {
      "cell_type": "markdown",
      "metadata": {
        "id": "EodeaADrSJl9",
        "colab_type": "text"
      },
      "source": [
        "## Download"
      ]
    },
    {
      "cell_type": "code",
      "metadata": {
        "id": "2nK_H4B2Q4ZZ",
        "colab_type": "code",
        "colab": {
          "base_uri": "https://localhost:8080/",
          "height": 34
        },
        "outputId": "2c62b556-b0a7-414c-dd3d-c36f4520afde"
      },
      "source": [
        "!ls"
      ],
      "execution_count": 7,
      "outputs": [
        {
          "output_type": "stream",
          "text": [
            "poetry.zip  sample_data\n"
          ],
          "name": "stdout"
        }
      ]
    },
    {
      "cell_type": "code",
      "metadata": {
        "id": "MnJTYaOuQ6LJ",
        "colab_type": "code",
        "colab": {}
      },
      "source": [
        "!unzip -q poetry.zip"
      ],
      "execution_count": 8,
      "outputs": []
    },
    {
      "cell_type": "code",
      "metadata": {
        "id": "ICN6AlFKQ9Aj",
        "colab_type": "code",
        "colab": {}
      },
      "source": [
        "!rm Kanye_West.txt kanye.txt notorious_big.txt Lil_Wayne.txt"
      ],
      "execution_count": 9,
      "outputs": []
    },
    {
      "cell_type": "markdown",
      "metadata": {
        "id": "N3LCcNH1SPgQ",
        "colab_type": "text"
      },
      "source": [
        "## Artist 2 Lyrics"
      ]
    },
    {
      "cell_type": "code",
      "metadata": {
        "id": "tKNJOJSVRCy-",
        "colab_type": "code",
        "colab": {}
      },
      "source": [
        "artist2lyrics = {}\n",
        "artist2id = {}\n",
        "id2artist = []\n",
        "\n",
        "counter = 0\n",
        "for file in glob.glob('*.txt'):\n",
        "  artist = file[:-4]\n",
        "  with open(file, 'r') as f:\n",
        "    lyrics = f.read()\n",
        "\n",
        "  artist2lyrics[artist] = lyrics\n",
        "  artist2id[artist] = counter\n",
        "  id2artist.append(artist)\n",
        "  counter += 1"
      ],
      "execution_count": 82,
      "outputs": []
    },
    {
      "cell_type": "code",
      "metadata": {
        "id": "QnKAzv3BSCq2",
        "colab_type": "code",
        "colab": {
          "base_uri": "https://localhost:8080/",
          "height": 205
        },
        "outputId": "c78f70bd-1c7a-41ec-f731-c0e68d297861"
      },
      "source": [
        "artist2lyrics['blink-182']"
      ],
      "execution_count": 83,
      "outputs": [
        {
          "output_type": "execute_result",
          "data": {
            "application/vnd.google.colaboratory.intrinsic+json": {
              "type": "string"
            },
            "text/plain": [
              "'Can we forget about the things I said when I was drunk...\\nI didn\\'t mean to call you that\\nI can\\'t remember what was said\\nOr what you threw at me Please tell me\\nPlease tell me why\\nMy car is in the front yard\\nAnd I am sleeping with my cloths on\\nI came in throught the window... Last night\\nAnd your... Gone\\nGone It\\'s no suprise to me I am my own worst enemy\\nCuz every now and then I kick the living shit out of me\\nThe smoke alarm is going offf and there a cigarette\\nStill buring Please tell me why\\nMy car is in the front yard\\nAnd I\\'m sleeping with my clothes on\\nI came in throught the windo last night\\nAnd your gone\\nGone Please tell me why\\nMy car is in the front yard\\nAnd I am sleeping with my clothes on\\nI came inthrough the windo last night It\\'s no suprise to me\\nI am my own worst enemy\\nCuz every now and then I kick the livin\\' shit out of me Can we forget about the things I said when I was drunk\\nI didn\\'t mean to call you that I, I can\\'t get you more pregnant\\nbut if you\\'re worried,\\nall I can take care of myself,\\nI can take care of myself. Remember the days\\nWe would drink on the train\\nOn our way to the show, Chicago\\nNaked Raygun live at the Cabaret Metro\\nTen bucks to get into a fight you can\\'t win\\nBoots and braces, yellow laces\\nOxblood traces of the night before We are forgotten young suburbia\\nLoose on the streets of California\\nUnderneath fluorescent lights\\nWe\\'ll waste the best nights of our life\\nFuck this place, let\\'s put up a parking lot\\n(Na, na na, na na, na na\\nNa, na na, na na, na na)\\nFuck this place, let\\'s put up a parking lot I can\\'t wait \\'til I\\'m off of work\\nI\\'ll meet my friends at the Target curb\\nI rolled my ankle, Matt just broke his wrist\\nI climbed through your window at 3am\\nWe listened to The Smiths and The Violent Femmes\\nYeah, we both sang, \"Why can\\'t I get one kiss?\" We are forgotten young suburbia\\nLoose on the streets of California\\nUnderneath fluorescent lights\\nWe\\'ll waste the best nights of our life\\nFuck this place, let\\'s put up a parking lot We are the broken\\nNo end in sight\\nWe\\'re the forgotten soldiers you left behind\\nThere\\'s no use trying\\nWe lost the war\\nNow the dead and dying\\nAre back to even the score We are forgotten young suburbia\\nLoose on the streets of California\\nUnderneath fluorescent lights\\nWe\\'ll waste the best nights of our life\\nFuck this place, let\\'s put up a parking lot\\nNa, na na, na na, na na\\nNa, na na, na na, na na\\nFuck this place, let\\'s put up a parking lot I\\'m a wreck, I\\'m out of time\\nI barely made it out alive\\nI\\'m not bent, I\\'m not cracked\\nI\\'m just broken\\nI watched the fire burn the sea\\nI wrapped my car around a tree\\nHold me up, underneath\\nThis heavy burden There\\'s a halo in the distance\\nSalvation\\'s barely out of reach Torn apart like the brokenhearted\\nUp in smoke with the fire we started\\nMisery loves company\\nI don\\'t need anyone\\nSmash it up like there\\'s no tomorrow\\nLeave me here with the fear and sorrow\\nMisery loves company\\nI don\\'t need anyone Tied up to a heart of stone\\nI screamed into a microphone\\nI burned the bridge, so I won\\'t find my way home (find my way home) Lay with me, I can\\'t sleep\\nMisery loves company\\nWhen I\\'m bent, when I\\'m cracked\\nWhen I\\'m broken There\\'s a halo in the distance\\nSalvation\\'s barely out of reach (out of reach) Torn apart like the brokenhearted\\nUp in smoke with the fire we started\\nMisery loves company\\nI don\\'t need anyone\\nSmash it up like there\\'s no tomorrow\\nLeave me here with the fear and sorrow\\nMisery loves company\\nI don\\'t need anyone I don\\'t need anyone\\nI don\\'t need anyone\\nI don\\'t need anyone\\nI don\\'t need anyone\\nI don\\'t need anyone Fifteen times a night, when the sun\\'s gone down\\nIn the dark awake and you\\'re not around\\nAnd the closest thought is the edge of oblivion\\nFifteen times a day when you check your phone\\nAnd I won\\'t be there and you\\'re all alone\\n\\'Cause we always lived on the edge of oblivion\\nLeft to find our way through a Hitchcock film\\nIn an empty bed with an hour to kill\\n\\'Cause it\\'s only fun on the edge of oblivion (oblivion) Torn apart like the brokenhearted\\nUp in smoke with the fire we started\\nMisery loves company\\nI don\\'t need anyone\\nSmash it up like there\\'s no tomorrow\\nLeave me here with the fear and sorrow\\nMisery loves company\\nI don\\'t need anyone I don\\'t need anyone\\nI don\\'t need anyone\\nI don\\'t need anyone\\nI don\\'t need anyone\\nI don\\'t need anyone Hello there, the angel from my nightmare\\nThe shadow in the background of the morgue\\nThe unsuspecting victim of darkness in the valley\\nWe can live like Jack and Sally if we want\\nWhere you can always find me\\nWe\\'ll have Halloween on Christmas\\nAnd in the night we\\'ll wish this never ends\\nWe\\'ll wish this never ends\\n(I miss you, miss you)\\n(I miss you, miss you)\\nWhere are you and I\\'m so sorry\\nI cannot sleep, I cannot dream tonight\\nI need somebody and always\\nThis sick strange darkness\\nComes creeping on so haunting every time\\nAnd as I stared I counted\\nWebs from all the spiders\\nCatching things and eating their insides\\nLike indecision to call you\\nAnd hear your voice of treason\\nWill you come home and stop this pain tonight\\nStop this pain tonight\\nDon\\'t waste your time on me you\\'re already\\nThe voice inside my head (I miss you, miss you)\\nDon\\'t waste your time on me you\\'re already\\nThe voice inside my head (I miss you, miss you)\\nDon\\'t waste your time on me you\\'re already\\nThe voice inside my head (I miss you, miss you)\\nDon\\'t waste your time on me you\\'re already\\nThe voice inside my head (I miss you, miss you)\\nDon\\'t waste your time on me you\\'re already\\nThe voice inside my head (I miss you, miss you)\\nDon\\'t waste your time on me you\\'re already\\nThe voice inside my head (I miss you, miss you)\\n(I miss you, miss you)\\n(I miss you, miss you)\\n(I miss you, miss you)\\n(I miss you, miss you) (I miss you miss you) Hello there the angel from my nightmare\\nThe shadow in the background of the morgue\\nThe unsuspecting victim of darkness in the valley\\nWe can live like Jack and Sally if we want\\nWhere you can always find me\\nAnd we\\'ll have Halloween on Christmas\\nAnd in the night we\\'ll wish this never ends\\nWe\\'ll wish this never ends (I miss you I miss you)\\n(I miss you I miss you) Where are you and I\\'m so sorry\\nI cannot sleep I cannot dream tonight\\nI need somebody and always\\nThis sick strange darkness\\nComes creeping on so haunting every time\\nAnd as I stared I counted\\nThe Webs from all the spiders\\nCatching things and eating their insides\\nLike indecision to call you\\nAnd hear your voice of treason\\nWill you come home and stop the pain tonight\\nStop this pain tonight Don\\'t waste your time on me you\\'re already\\nThe voice inside my head (I miss you miss you)\\nDon\\'t waste your time on me you\\'re already\\nThe voice inside my head (I miss you miss you) Don\\'t waste your time on me you\\'re already\\nThe voice inside my head (I miss you miss you)\\nDon\\'t waste your time on me you\\'re already\\nThe voice inside my head (I miss you miss you)\\nDon\\'t waste your time on me you\\'re already\\nThe voice inside my head (I miss you miss you)\\nDon\\'t waste your time on me you\\'re already\\nThe voice inside my head (I miss you miss you) I miss you (miss you miss you)\\n(I miss you miss you) I took her out, it was a Friday night\\nI wore cologne to get the feeling right\\nWe started making out and she took off my pants\\nBut then I turned on the TV And that\\'s about the time she walked away from me\\nNobody likes you when you\\'re twenty three\\nAnd I\\'m still more amused by TV shows\\nWhat the hell is A.D.D.?\\nMy friends say I should act my age\\nWhat\\'s my age again, what\\'s my age again? Then later on, on the drive home\\nI called her mom from a pay phone\\nI said I was the cops\\nAnd your husband\\'s in jail\\nThe state looks down on sodomy And that\\'s about the time that bitch hung up on me\\nNobody likes you when you\\'re twenty three\\nAnd I\\'m still more amused by prank phone calls\\nWhat the hell is call ID?\\nMy friends say I should act my age\\nWhat\\'s my age again, what\\'s my age again? And that\\'s about the time she walked away from me\\nNobody likes you when you\\'re twenty three\\nAnd you still act like you\\'re in freshman year\\nWhat the hell is wrong with me?\\nMy friends say I should act my age\\nWhat\\'s my age again, what\\'s my age again? That\\'s about the time she broke up with me\\nNo one should take themselves so seriously\\nWith many years ahead to fall in line\\nWhy would you wish that on me?\\nI never want to act my age\\nWhat\\'s my age again, what\\'s my age again? What\\'s my age again? All the small things\\nTrue care truth brings\\nI\\'ll take one lift\\nYour ride best trip\\nAlways I know\\nYou\\'ll be at my show\\nWatching, waiting, commiserating Say it ain\\'t so, I will not go\\nTurn the lights off, carry me home\\nNa, na, na, na\\nNa, na, na, na, na, na, na, na, na, na, na Late night, come home\\nWork sucks, I know\\nShe left me roses by the stairs\\nSurprises let me know she cares Say it ain\\'t so, I will not go\\nTurn the lights off, carry me home\\nNa, na, na, na\\nNa, na, na, na, na, na, na, na, na, na, na Say it ain\\'t so, I will not go\\nTurn the lights off, carry me home\\nKeep your head still, I\\'ll be your thrill\\nThe night will go on, my little windmill Say it ain\\'t so, I will not go\\nTurn the lights off, carry me home\\nKeep your head still, I\\'ll be your thrill\\nThe night will go on\\nThe night will go on\\nMy little windmill Shit, piss, fuck, cunt, cock-sucker,\\nMother-fucker, tits, fart, turd, and twat. Shit, piss, fuck, cunt, cock-sucker,\\nMother-fucker, tits, fart, turd, and twat. Shit, piss, fuck, cunt, cock-sucker,\\nMother-fucker, tits, fart, turd, and twat. Shit, piss, fuck, cunt, cock-sucker,\\nMother-fucker, tits, fart, turd, and twat. I fucked your mom\\nI wunna suck my dad, and my mom too, oh is this thing on? (I miss you miss you) Hello there the angel from my nightmare\\nThe shadow in the background of the morgue\\nThe unsuspecting victim of darkness in the valley\\nWe can live like Jack and Sally if we want\\nWhere you can always find me\\nAnd we\\'ll have Halloween on Christmas\\nAnd in the night we\\'ll wish this never ends\\nWe\\'ll wish this never ends (I miss you I miss you)\\n(I miss you I miss you) Where are you and I\\'m so sorry\\nI cannot sleep I cannot dream tonight\\nI need somebody and always\\nThis sick strange darkness\\nComes creeping on so haunting every time\\nAnd as I stared I counted\\nThe Webs from all the spiders\\nCatching things and eating their insides\\nLike indecision to call you\\nAnd hear your voice of treason\\nWill you come home and stop the pain tonight\\nStop this pain tonight Don\\'t waste your time on me you\\'re already\\nThe voice inside my head (I miss you miss you)\\nDon\\'t waste your time on me you\\'re already\\nThe voice inside my head (I miss you miss you) Don\\'t waste your time on me you\\'re already\\nThe voice inside my head (I miss you miss you)\\nDon\\'t waste your time on me you\\'re already\\nThe voice inside my head (I miss you miss you)\\nDon\\'t waste your time on me you\\'re already\\nThe voice inside my head (I miss you miss you)\\nDon\\'t waste your time on me you\\'re already\\nThe voice inside my head (I miss you miss you) I miss you (miss you miss you)\\n(I miss you miss you) It\\'s alright to tell me what you think about me\\nI won\\'t try to argue or hold it against you\\nI know that you\\'re leaving, you must have your reasons\\nThe season is calling, your pictures are falling down The steps that I retrace, the sad look on your face\\nThe timing and structure did you hear he fucked her?\\nA day late a buck short I\\'m writing the report\\nOn losing and failing when I move I\\'m flailing now And it\\'s happened once again\\nI\\'ll turn to a friend\\nSomeone that understands\\nSees through the master plan But everybody\\'s gone\\nAnd I\\'ve been here for too long\\nTo face this on my own, well I guess this is growing up\\nWell I guess this is growing up And maybe I\\'ll see you at a movie sneak preview\\nYou\\'ll show up and walk by on the arm of that guy\\nAnd I\\'ll smile and you\\'ll wave, we\\'ll pretend it\\'s okay\\nThe charade, it won\\'t last, when he\\'s gone I won\\'t come back And it\\'ll happen once again\\nYou\\'ll turn to a friend\\nSomeone that understands\\nAnd sees through the master plan But everybody\\'s gone\\nAnd you\\'ve been there for too long\\nTo face this on your own, well I guess this is growing up Well, I guess this is growing up\\nWell, I guess this is growing up\\nWell, I guess this is growing up\\nWell, I guess this is growing up\\nWell, I guess this is growing up I never thought I\\'d die alone\\nI laughed the loudest who\\'d have known?\\nI trace the cord back to the wall\\nNo wonder it was never plugged in at all\\nI took my time, I hurried up\\nThe choice was mine I didn\\'t think enough\\nI\\'m too depressed to go on\\nYou\\'ll be sorry when I\\'m gone I never conquered, rarely came\\nSixteen just held such better days\\nDays when I still felt alive\\nWe couldn\\'t wait to get outside\\nThe world was wide, too late to try\\nThe tour was over, we\\'d survived\\nI couldn\\'t wait till I got home\\nTo pass the time in my room alone I never thought I\\'d die alone\\nAnother six months I\\'ll be unknown\\nGive all my things to all my friends\\nYou\\'ll never step foot in my room again\\nYou\\'ll close it off, board it up\\nRemember the time that I spilled the cup\\nOf apple juice in the hall\\nPlease tell mom this is not her fault I never conquered, when you came\\nSixteen just held such better days\\nDays when I still felt alive\\nWe couldn\\'t wait to get outside\\nThe world was wide, too late to try\\nThe tour was over, we\\'d survived\\nI couldn\\'t wait till I got home\\nTo pass the time in my room alone I never conquered, when you came\\nTomorrow holds such better days\\nDays when I can still feel alive\\nWhen I can\\'t wait to get outside\\nThe world is wide, the time goes by\\nThe tour is over, I\\'ve survived\\nI can\\'t wait till I get home\\nTo pass the time in my room alone In the car I just can\\'t wait\\nTo pick you up on our very first date\\nIs it cool if I hold your hand?\\nIs it wrong if I think it\\'s lame to dance?\\nDo you like my stupid hair?\\nWould you guess that I didn\\'t know what to wear?\\nI\\'m just scared of what you think\\nYou make me nervous so I really can\\'t eat Let\\'s go\\nDon\\'t wait\\nThis night\\'s almost over\\nHonest, let\\'s make\\nThis night last forever\\nForever and ever\\nLet\\'s make this last forever\\nForever and ever\\nLet\\'s make this last forever When you smile, I melt inside\\nI\\'m not worthy for a minute of your time\\nI really wish it was only me and you\\nI\\'m jealous of everybody in the room\\nPlease don\\'t look at me with those eyes\\nPlease don\\'t hint that you\\'re capable of lies\\nI dread the thought of our very first kiss\\nA target that I\\'m probably gonna miss Let\\'s go\\nDon\\'t wait\\nThis night\\'s almost over\\nHonest, let\\'s make\\nThis night last forever\\nForever and ever\\nLet\\'s make this last forever\\nForever and ever\\nLet\\'s make this last forever Let\\'s go\\nDon\\'t wait\\nThis night\\'s almost over\\nHonest, let\\'s make\\nThis night last forever\\nForever and ever\\nLet\\'s make this last forever\\nForever and ever\\nLet\\'s make this last forever\\nForever and ever\\nLet\\'s make this last forever\\nForever and ever\\nLet\\'s make this last forever I\\'ve been here before a few times\\nAnd I\\'m quite aware we\\'re dying\\nAnd your hands they shake with goodbyes\\nAnd I\\'ll take you back if you\\'d have me\\nSo here I am I\\'m trying\\nSo here I am are you ready Come on let me hold you touch you feel you\\nAlways\\nKiss you taste you all night\\nAlways And I\\'ll miss your laugh your smile\\nI\\'ll admit I\\'m wrong if you\\'d tell me\\nI\\'m so sick of fights I hate them\\nLets start this again for real So here I am I\\'m trying\\nSo here I am are you ready\\nSo here I am I\\'m trying\\nSo here I am are you ready Come on let me hold you touch you feel you\\nAlways\\nKiss you taste you all night\\nAlways\\nTouch you feel you\\nAlways\\nKiss you taste you all night\\nAlways I\\'ve been here before a few times\\nAnd I\\'m quite aware we\\'re dying Come on let me hold you touch you feel you\\nAlways\\nKiss you taste you all night\\nAlways\\nTouch you feel you\\nAlways\\nKiss you taste you all night\\nAlways (Get ready for action!)\\nI got to regret right now (I\\'m feeling this)\\nThe air is so cold and null (I\\'m feeling this)\\nLet me go in her room (I\\'m feeling this)\\nI wanna take off her clothes (I\\'m feeling this)\\nShow me the way to bed (I\\'m feeling this)\\nShow me the way you move (I\\'m feeling this)\\nFuck it it\\'s such a blur (I\\'m feeling this)\\nI love all the things you do (I\\'m feeling this) Fate fell short this time\\nYour smile fades in the summer\\nPlace your hand in mine\\nI\\'ll leave when I wanna Where do we go from here\\nTurn all the lights down now\\nSmiling from ear to ear (I\\'m feeling this)\\nOur breathing has got too loud (I\\'m feeling this)\\nShow me the bedroom floor (I\\'m feeling this)\\nShow me the bathroom mirror (I\\'m feeling this)\\nWe\\'re taking this way too slow (I\\'m feeling this)\\nTake me away from here (I\\'m feeling this) Fate fell short this time\\nYour smile fades in the summer\\nPlace your hand in mine\\nI\\'ll leave when I wanna Fate fell short this time\\nYour smile fades in the summer\\nPlace your hand in mine\\nI\\'ll leave when I wanna This place was never the same again\\nAfter you came and went\\nHow can you say you meant anything different\\nTo anyone standing alone\\nOn the street with a cigarette\\nOn the first night we met Look to the past\\nAnd remember her smile\\nAnd maybe tonight\\nI can breathe for a while\\nI\\'m not in the seat\\nI think I\\'m fallin\\' asleep\\nBut then all that it means is\\nI\\'ll always be dreaming of you Fate fell short this time\\nYour smile fades in the summer\\nPlace your hand in mine\\nI\\'ll leave when I wanna Fate fell short this time\\nYour smile fades in the summer\\nPlace your hand in mine\\nI\\'ll leave when I wanna Fate fell short this time\\nYour smile fades in the summer\\nPlace your hand in mine\\nI\\'ll leave when I wanna Fate fell short this time\\nYour smile fades in the summer\\nPlace your hand in mine\\nI\\'ll leave when I wanna Fate fell short this time\\nYour smile fades in the summer\\nPlace your hand in mine\\nI\\'ll leave when I wanna I said settle down, settle down everything is fine\\nTake your eyes off the floor\\nShe said no I\\'m not, no I\\'m not, no I\\'m not alright\\nI lost my head on the door She\\'s a-a-a-antisocial\\nA-a-a-antisocial\\nA-a-a\\nShe\\'s an angel yeah I\\'m in deep with this girl but she\\'s out of her mind (wooo oh oh ohhh oh)\\nShe said babe I\\'m sorry but I\\'m crazy tonight (wooo oh oh ohhh oh)\\nShe got a black shirt, black skirt and Bauhaus stuck in her head\\nI\\'m in deep with this girl but she\\'s out of her mind (wooo oh oh ohhh oh) Oh yeah\\nWe all need something to live for\\nOh yeah\\nWe all need something to live for She said I let her down, let her down I no longer dream\\nOf anything anymore\\nSaid I\\'m a know-it-all, know-it-all you make me want to scream\\nAnd threw herself on the floor She\\'s a-a-a-antisocial\\nA-a-a-antisocial\\nA-a-a\\nShe\\'s an angel yeah I\\'m in deep with this girl but she\\'s out of her mind (wooo oh oh ohhh oh)\\nShe said babe I\\'m sorry but I\\'m crazy tonight (wooo oh oh ohhh oh)\\nShe got a black shirt, black skirt and Bauhaus stuck in her head\\nI\\'m in deep with this girl but she\\'s out of her mind (wooo oh oh ohhh oh) She\\'s not complicated\\nCan\\'t be overstated at all\\nShe\\'s not complicated-ated-ated at all I\\'m in deep with this girl but she\\'s out of her mind (wooo oh oh ohhh oh) (she\\'s out of her mind)\\nShe said babe I\\'m sorry but I\\'m crazy tonight (wooo oh oh ohhh oh)\\nShe got a black shirt, black skirt and Bauhaus stuck in her head\\nI\\'m in deep with this girl but she\\'s out of her mind (wooo oh oh ohhh oh) Oh yeah\\nWe all need something to live for\\nOh yeah\\nWe all need something to live for It\\'s hard to wake up\\nWhen the shades have been pulled shut\\nThis house is haunted\\nIt\\'s so pathetic\\nIt makes no sense at all\\nI\\'m ripe with things to say\\nThe words rot and fall away\\nWhat stupid poem could fix this home\\nI\\'d read it every day So here\\'s your holiday\\nHope you enjoy it this time\\nYou gave it all away\\nIt was mine\\nSo when you\\'re dead and gone\\nWill you remember this night\\nTwenty years now lost\\nIt\\'s not right Their anger hurts my ears\\nBeen running strong for seven years\\nRather than fix the problems\\nThey never solve them\\nIt makes no sense at all\\nI see them everyday\\nWe get along, so why can\\'t they?\\nIf this is what he wants\\nAnd this is what she wants\\nThen why is there so much pain? So here\\'s your holiday\\nHope you enjoy it this time\\nYou gave it all away\\nIt was mine\\nSo when you\\'re dead and gone\\nWill you remember this night\\nTwenty years now lost\\nIt\\'s not right So here\\'s your holiday\\nHope you enjoy it this time\\nYou gave it all away\\nIt was mine\\nSo when you\\'re dead and gone\\nWill you remember this night\\nTwenty years now lost\\nIt\\'s not right\\nIt\\'s not right\\nIt\\'s not right\\nIt\\'s not right I can\\'t get my feet up off the edge\\nI kinda like the little rush you get\\nWhen you\\'re standing close to death\\nLike when you\\'re driving me crazy Hold on as we crash into the earth\\nA bit of pain will help us suffer when you\\'re hurt\\nFor real \\'cause you were driving me crazy Bite your lips, your word\\'s a robbery\\nDo you grin inside, you\\'re killing me\\nAll along we talked of forever\\nI kinda think that we won\\'t get better\\nIt\\'s the longest start, but the end is not too far away\\nDid you know, I\\'m here to stay We\\'ll stagger home after midnight\\nSleep arm-in-arm in the stairwell\\nWe\\'ll fall apart on the weekend\\nThese nights go on and on and on I can\\'t keep your voice out of my head\\nAll I hear are the many echoes of\\nThe darkest words you said\\nAnd it\\'s driving me crazy I can\\'t find the best in all of this\\nBut I\\'m always looking out for you\\n\\'Cause you\\'re the one I miss\\nAnd it\\'s driving me crazy Bite your lips, your word\\'s a robbery\\nDo you grin inside, you\\'re killing me\\nAll along we talked of forever\\nI kinda think that we won\\'t get better\\nIt\\'s the longest start, but the end\\'s not too far away\\nDid you know, I\\'m here to stay We\\'ll stagger home after midnight\\nSleep arm-in-arm in the stairwell\\nWe\\'ll fall apart on the weekend\\nThese nights go on and on and on We\\'ll stagger home after midnight\\nSleep arm-in-arm in the stairwell\\nWe\\'ll fall apart on the weekend\\nThese nights go on and on and on We\\'ll stagger home after midnight\\nSleep arm-in-arm in the stairwell\\nWe\\'ll fall apart on the weekend\\nThese nights go on and on and on We\\'ll stagger home after midnight\\nSleep arm-in-arm in the stairwell\\nWe\\'ll fall apart on the weekend\\nThese nights go on and on and on I\\'m a wreck, I\\'m out of time\\nI barely made it out alive\\nI\\'m not bent, I\\'m not cracked\\nI\\'m just broken\\nI watched the fire burn the sea\\nI wrapped my car around a tree\\nHold me up, underneath\\nThis heavy burden There\\'s a halo in the distance\\nSalvation\\'s barely out of reach Torn apart like the brokenhearted\\nUp in smoke with the fire we started\\nMisery loves company\\nI don\\'t need anyone\\nSmash it up like there\\'s no tomorrow\\nLeave me here with the fear and sorrow\\nMisery loves company\\nI don\\'t need anyone Tied up to a heart of stone\\nI screamed into a microphone\\nI burned the bridge, so I won\\'t find my way home (find my way home) Lay with me, I can\\'t sleep\\nMisery loves company\\nWhen I\\'m bent, when I\\'m cracked\\nWhen I\\'m broken There\\'s a halo in the distance\\nSalvation\\'s barely out of reach (out of reach) Torn apart like the brokenhearted\\nUp in smoke with the fire we started\\nMisery loves company\\nI don\\'t need anyone\\nSmash it up like there\\'s no tomorrow\\nLeave me here with the fear and sorrow\\nMisery loves company\\nI don\\'t need anyone I don\\'t need anyone\\nI don\\'t need anyone\\nI don\\'t need anyone\\nI don\\'t need anyone\\nI don\\'t need anyone Fifteen times a night, when the sun\\'s gone down\\nIn the dark awake and you\\'re not around\\nAnd the closest thought is the edge of oblivion\\nFifteen times a day when you check your phone\\nAnd I won\\'t be there and you\\'re all alone\\n\\'Cause we always lived on the edge of oblivion\\nLeft to find our way through a Hitchcock film\\nIn an empty bed with an hour to kill\\n\\'Cause it\\'s only fun on the edge of oblivion (oblivion) Torn apart like the brokenhearted\\nUp in smoke with the fire we started\\nMisery loves company\\nI don\\'t need anyone\\nSmash it up like there\\'s no tomorrow\\nLeave me here with the fear and sorrow\\nMisery loves company\\nI don\\'t need anyone I don\\'t need anyone\\nI don\\'t need anyone\\nI don\\'t need anyone\\nI don\\'t need anyone\\nI don\\'t need anyone There\\'s an echo pulling out the meaning\\nRescuing a nightmare from a dream\\nThe voices in my head are always screaming\\nThat none of this means anything to me And it\\'s a long way back from seventeen\\nThe whispers turn into a scream\\nAnd I\\'m, I\\'m not coming home Save your breath, I\\'m nearly\\nBored to death and fading fast\\nLife is too short to last long\\nBack on earth, I\\'m broken\\nLost and cold and fading fast\\nLife is too short to last long There\\'s a stranger staring at the ceiling\\nRescuing a tiger from a tree\\nThe pictures in her head are always dreaming\\nEach of them means everything to me And it\\'s a long way back from seventeen\\nThe whispers turn into a scream\\nAnd I\\'m, I\\'m not coming home Save your breath, I\\'m nearly\\nBored to death and fading fast\\nLife is too short to last long\\nBack on earth, I\\'m broken\\nLost and cold and fading fast\\nLife is too short to last long Oh oh oh oh oh oh oh\\nOh oh oh oh oh oh oh oh (Oh oh oh oh) I think I met her at the minute that the rhythm was set down\\n(Oh oh oh oh) I said I\\'m sorry I\\'m a little bit of a letdown\\n(Oh oh oh oh) but all my friends are daring me to come over\\n(Oh oh oh oh) so I come over and over and over\\n(Oh oh oh oh) so let me buy you a drink and we\\'ll pretend that you think\\n(Oh oh oh oh) that I\\'m the man of your dreams come to life in a dive bar\\n(Oh oh oh oh) and we\\'ll go over and over and over\\n(Oh oh oh oh) and we\\'ll go over and over and over\\n(Oh oh oh oh) and we\\'ll go over and over and over\\n(Oh oh oh oh) and we\\'ll go over and over and over Save your breath, I\\'m nearly\\nBored to death and fading fast\\nLife is too short to last long\\nBack on earth, I\\'m broken\\nLost and cold and fading fast\\nLife is too short to last long (Oh oh oh oh oh, oh oh)\\n(Oh oh oh oh oh oh oh life is too short to last long)\\n(Oh oh oh oh oh oh oh oh) Yeah my girlfriend takes me home when I\\'m too drunk to drive\\nAnd she doesn\\'t get all jealous when I hang out with the guys\\nShe laughs at my dumb jokes when no one does\\nShe brings me mexican food from sombrero just because And my girlfriend likes ul and dhc\\nAnd she\\'s so smart and independent\\nI dont think she needs me\\nQuite half as much as I know I need her\\nI wonder why there\\'s not another guy that she\\'d prefer And when I feel like giving up like my world is falling down\\nI show up at three a.m. she\\'s still up watching vacation\\nAnd I see her pretty face it takes me away to a better place And I know that everything\\'s gonna be fine Yeah my girlfriend takes collect calls from the road\\nAnd it doesn\\'t seem to matter that I\\'m lacking in the bulge\\nShe laughs at my dumb jokes when no one does\\nShe brings me mexican food from sombrero just because And when I feel like giving up like my world is falling down\\nI show up at three a.m. she\\'s still up watching vacation\\nAnd I see her pretty face it takes me away to a better place And I know that everything\\'s gonna be fine Hanging out behind the club on the weekend\\nActing stupid, getting drunk with my best friends\\nI couldn\\'t wait for the summer and the Warped Tour\\nI remember it\\'s the first time that I saw her there She\\'s getting kicked out of school cause she\\'s failing\\nI\\'m kind of nervous cause I think all her friends hate me\\nShe\\'s the one, she\\'ll always be there\\nShe took my hand and that made it I swear Because I fell in love with the girl at the rock show\\nShe said \"what?\" and I told her that I didn\\'t know\\nShe\\'s so cool, I\\'m gonna sneak in through her window\\nEverything\\'s better when she\\'s around\\nI can\\'t wait till her parents go out of town\\nI fell in love with the girl at the rock show When we said we were gonna move to Vegas\\nI remember the look her mother gave us\\nSeventeen without a purpose or direction\\nWe don\\'t owe anyone a fucking explanation I fell in love with the girl at the rock show\\nShe said \"what?\" and I told her that I didn\\'t know\\nShe\\'s so cool, I\\'m gonna sneak in through her window\\nEverything\\'s better when she\\'s around\\nI can\\'t wait till her parents go out of town\\nI fell in love with the girl at the rock show Black and white picture of her on my wall\\nI waited for her call\\nShe always kept me waiting\\nAnd if I ever got another chance\\nI\\'d still ask her to dance\\nBecause she kept me waiting I fell in love with the girl at the rock show\\nShe said \"what?\" and I told her that I didn\\'t know\\nShe\\'s so cool, I\\'m gonna sneak in through her window\\nEverything\\'s better when she\\'s around\\nI can\\'t wait till her parents go out of town\\nI fell in love with the girl at the rock show With the girl at the rock show\\nWith the girl at the rock show (I\\'ll never forget tonight) with the girl at the rock show\\n(I\\'ll never forget tonight) with the girl at the rock show\\n(I\\'ll never forget tonight) with the girl at the rock show\\n(I\\'ll never forget tonight) with the girl at the rock show The drops of rain they fall all over\\nThis awkward silence makes me crazy\\nThe glow inside burns light upon her\\nI\\'ll try to kiss you if you let me\\n(this can\\'t be the end)\\nTidal waves they rip right through me\\nTears from eyes worn cold and sad\\nPick me up now, I need you so bad\\nDown down down down\\nDown down down down\\nDown down down down\\nDown down down down\\nIt gets me so\\nDown down down down\\nDown down down down\\nDown down down down\\nDown down down down\\nIt gets me so\\nYour vows of silence fall all over\\nThe look in your eyes makes me crazy\\nI feel the darkness break upon her\\nI\\'ll take you over if you let me\\n(You did this)\\nTidal waves they rip right through me\\nTears from eyes worn cold and sad\\nPick me up now, I need you so bad.\\nDown down down down\\nDown down down down\\nDown down down down\\nDown down down down\\nIt gets me so\\nDown down down down\\nDown down down down\\nDown down down down\\nDown down down down\\nIt gets me so It\\'s understood, I said it many ways\\nToo scared to run, I\\'m too scared stay\\nI said I\\'d leave, but I could never leave her\\nAnd if I did, you know I\\'d never cheat her But this I ask, it\\'s what I want to know\\nHow would you feel, if I should choose to go\\nAnother guy, you think he\\'d be unlike me\\nAnother guy, you think he\\'d want to fight me She\\'s a dove, she\\'s a fucking nightmare\\nUnpredictable, it was my mistake to stay here\\nOn the go and it\\'s way too late to play\\nI need a girl that I can train I heard it once, I\\'m sure I heard it twice\\nMy dad used to give me all of his advice\\nHe would say you got to turn your back and run now\\nCome on son, you haven\\'t got a chance now She\\'s a dove, she\\'s a fucking nightmare\\nUnpredictable, it was my mistake to stay here\\nOn the go and it\\'s way too late to play\\nI need a girl that I can train She\\'s a dove, she\\'s a fucking nightmare\\nUnpredictable, it was my mistake to stay here\\nOn the go and it\\'s way too late to play\\nI need a girl that I can train Need a girl that I can train\\nNeed a girl that I can train\\nTurn your back and run now\\nYou haven\\'t got a chance now Need a girl that I can train\\nNeed a girl that I can train\\nTurn your back and run now\\nYou haven\\'t got a chance now Nineteen, your eyes are glowing to my beating heart\\nOh, it seems like it is fine as my hand is moving up your arm\\nAnd you never really know where it goes up until it starts\\nI got my eye on you\\nWhatcha gonna do Day dream near a stream with the linear bites\\nOh, I listen to the song on repeat from the other night\\nAnd I can\\'t picture you but I sure got the feeling right\\nWhat a crazy world\\nPretty little girl And we wake from the night in a bed with a bruise\\nAnd we\\'re laughing out loud over the craziest news\\nAnd you reached for my hand I was scared in your room\\nWe fell on the floor and we started to move\\nAnd your hands were like birds as they flew from the coop\\nUp my back they would climb just as I came unglued She said\\nIf you break my heart then I\\'ll change your mind\\nAnd I\\'ll do it again\\nIf you play the part then I will play mine\\nAnd I\\'ll do it again\\nIf we miss the mark if we hold on tight\\nWe\\'ll be there to try it again Nineteen as we roll across the bedroom floor\\nYour eyes they cannot lie as you\\'re dreaming of our future home\\nAnd the kids are growing up as you and I we are growing old\\nWhat a crazy world\\nPretty little girl In the rain with the drink from the back of the bar\\nI would raise up my voice, you would raise it up more\\nWe\\'d forget that our lives being apart it is hard\\nWe\\'d thought we were close but it still feels far\\nCan we learn to get by if we learn to have scars\\nIf we learn to forgive and accept who we are You said\\nIf you break my heart then I\\'ll change your mind\\nAnd I\\'ll do it again\\nIf you play the part then I will play mine\\nAnd I\\'ll do it again\\nIf we miss the mark if we hold on tight\\nWe\\'ll be here to do it again Wait a minute hold up a second\\nDon\\'t leave me here with this feeling\\nLike I\\'m the one full of regret\\nLike I never did good for us both\\nLike you never did pull out that weapon\\nAnd stick that knife in my back\\nWas I supposed to accept it\\nWhen your words are like\\nMore than just sticks and stones\\nKinda like a bullet\\nA hollow tip that lodged in my bones\\nAnd I can\\'t just swallow it\\nMy pride is more than all that I own\\nSo I gotta give it away\\nAnd some of the times I\\'m all the way wrong\\nBut can\\'t you see past me and see my fucked up home\\nThat made me the meanest, the devil is just singing along\\nTo the song I write til I\\'m alone at night\\nAnd I hang up the phone and bite my tongue\\n\\'Cause I know that me and you is just only right but one It\\'s a cry from the past we have been through a lot\\nEvery year has been great and a few have been tough\\nAnd your kids they will reach for the stars up above\\nWe\\'ll sit and relax as we cheer in the morrow\\nThe ropes to the light from the crypt to the grave\\nWe started alone in the end we\\'re okay You said\\nIf you break my heart then I\\'ll change your mind\\nAnd I\\'ll do it again\\nIf you play the part then I will play mine\\nAnd I\\'ll do it again\\nIf we miss the mark if we hold on tight\\nWe\\'ll be here to try it again Im sick of always hearing\\nAll the sad songs on the radio\\nAll day it is there to remind\\nAn oversensitive guy\\nThat hes lost and alone, yeah I hate our favorite restaurant\\nOur favorite movie, our favorite show\\nWe would stay up all through the night\\nWe would laugh and get high\\nAnd never answer the phone I cant forgive\\nCant forget, cant give in\\nWhat went wrong?\\nCause you said this was right\\nYou fucked up my life Im sick of always hearing\\nSappy love songs on the radio\\nThis place, its fucking cursed\\nIn its plague and I can never escape\\nWhen my heart, it explodes I cant forgive\\nCant forget, cant give in\\nWhat went wrong?\\nCause you said this was right\\nYou fucked up my life Im kicking out fiercely\\nAt the world around me\\nWhat went wrong?\\nIm kicking out fiercely\\nAt the world around me\\nWhat went wrong? Im kicking out fiercely\\nAt the world around me\\nWhat went wrong?\\nIm kicking out fiercely\\nAt the world around me\\nWhat went wrong? Im kicking Shit piss fuck cunt cocksucker motherfucker tit fart turd and twat\\nShit piss fuck cunt cocksucker motherfucker tit fart turd and twat\\nShit piss fuck cunt cocksucker motherfucker tit fart turd and twat\\nShit piss fuck cunt cocksucker motherfucker tit fart turd and twat\\nI fucked your mom\\nAnd I want to suck my dad\\nAnd my mama too\\nOh, is this thing on? I swear that I can go on forever again\\nPlease let me know that my one bad day will end\\nI will go down as your lover, your friend\\nGive me your lips and with one kiss we begin\\nAre you afraid of being alone\\nCause I am, I\\'m lost without you\\nAre you afraid of leaving tonight\\nCause I am, I\\'m lost without you I\\'ll leave my room open till sunrise for you\\nI\\'ll keep my eyes patiently focused on you\\nWhere are you now I can hear footsteps I\\'m dreaming\\nAnd if you will, keep me from waking to believe this Are you afraid of being alone\\nCause I am, I\\'m lost without you\\nAre you afraid of leaving tonight\\nCause I am, I\\'m lost without you Are you afraid of being alone\\nCause I am, I\\'m lost without you\\nAre you afraid of leaving tonight\\nCause I am, I\\'m lost without you\\nAre you afraid of being alone\\nCause I am, I\\'m lost without you\\nAre you afraid of leaving tonight\\nCause I am, I\\'m lost without you I\\'m lost without you\\nI\\'m lost without you Don\\'t leave me all alone\\nJust drop me off at home\\nI\\'ll be fine, it\\'s not the first\\nJust like last time, but a little worse, and She said that I\\'m not the one that she thinks about and\\nShe said it stopped being fun, I just bring her down\\nI said, don\\'t let your future be destroyed by my past.\\nShe said, \"don\\'t let my door hit your ass.\" One more chance, I\\'ll try this time\\nI\\'ll give you yours, I won\\'t take mine\\nI\\'ll listen up, pretend to care\\nGo on ahead, I\\'ll meet you there, and She said that I\\'m not the one that she thinks about and\\nShe said it stopped being fun, I just bring her down\\nI said, \"don\\'t let your future be destroyed by my past.\"\\nShe said, \"don\\'t let my door hit your ass.\" Let\\'s try this one more time with feeling\\nOne more time with feeling\\nOne more time with feeling\\nOne more time with feeling She said that I\\'m not the one that she thinks about and\\nShe said it stopped being fun, I just bring her down\\nI said, don\\'t let your future be destroyed by my past.\\nShe said, don\\'t let my door hit your ass Don\\'t leave me all alone\\nJust drop me off at home\\nAnd I\\'ll be fine Remember the days\\nWe would drink on the train\\nOn our way to the show, Chicago\\nNaked Raygun live at the Cabaret Metro\\nTen bucks to get into a fight you can\\'t win\\nBoots and braces, yellow laces\\nOxblood traces of the night before We are forgotten young suburbia\\nLoose on the streets of California\\nUnderneath fluorescent lights\\nWe\\'ll waste the best nights of our life\\nFuck this place, let\\'s put up a parking lot\\n(Na, na na, na na, na na\\nNa, na na, na na, na na)\\nFuck this place, let\\'s put up a parking lot I can\\'t wait \\'til I\\'m off of work\\nI\\'ll meet my friends at the Target curb\\nI rolled my ankle, Matt just broke his wrist\\nI climbed through your window at 3am\\nWe listened to The Smiths and The Violent Femmes\\nYeah, we both sang, \"Why can\\'t I get one kiss?\" We are forgotten young suburbia\\nLoose on the streets of California\\nUnderneath fluorescent lights\\nWe\\'ll waste the best nights of our life\\nFuck this place, let\\'s put up a parking lot We are the broken\\nNo end in sight\\nWe\\'re the forgotten soldiers you left behind\\nThere\\'s no use trying\\nWe lost the war\\nNow the dead and dying\\nAre back to even the score We are forgotten young suburbia\\nLoose on the streets of California\\nUnderneath fluorescent lights\\nWe\\'ll waste the best nights of our life\\nFuck this place, let\\'s put up a parking lot\\nNa, na na, na na, na na\\nNa, na na, na na, na na\\nFuck this place, let\\'s put up a parking lot It\\'s alright to tell me what you think about me\\nI won\\'t try to argue or hold it against you\\nI know that you\\'re leaving you must have your reasons\\nThe season is calling and your pictures are falling down The steps that I retrace the sad look on your face\\nThe timing and structure did you hear he fucked her?\\nA day late a buck short I\\'m writing the report\\nOn losing and failing when I move I\\'m flailing now And it\\'s happened once again I\\'ll turn to a friend\\nSomeone that understands and sees through the master plan But everybody\\'s gone\\nAnd I\\'ve been here for too long\\nTo face this on my own\\nWell, I guess this is growing up\\nWell, I guess this is growing up And maybe I\\'ll see you at a movie sneak preview\\nYou\\'ll show up and walk by on the arm of that guy\\nAnd I\\'ll smile and you\\'ll wave we\\'ll pretend it\\'s okay\\nThe charade it won\\'t last when he\\'s gone I won\\'t come back And it\\'ll happen once again\\nYou\\'ll turn to a friend\\nSomeone that understands\\nAnd sees through the master plan But everybody\\'s gone\\nAnd you\\'ve been there for too long\\nTo face this on your own\\nWell, I guess this is growing up Well, I guess this is growing up\\nWell, I guess this is growing up\\nWell, I guess this is growing up\\nWell, I guess this is growing up\\nWell, I guess this is growing up Everything has fallen to pieces\\nEarth is dying help me Jesus\\nWe need guidance\\nWe\\'ve been misled\\nYoung and hostile\\nBut not stupid\\nCorporate leaders, politicians\\nKids can\\'t vote, adults elect them\\nMobs that rule the school and workplace\\nSigns that caution, sixteen\\'s unsafe We really need to see this through\\nWe never wanted to be abused\\nWe\\'ll never give up, it\\'s no use\\nIf we\\'re f***ed up\\nYou\\'re to blame Let this train wreck burn more slowly\\nKids are victims in this story\\nDrown our youth with useless warnings\\nTeenage rules they\\'re f***ed and boring We really need to see this through\\nWe never wanted to be abused\\nWe\\'ll never give up, it\\'s no use\\nIf we\\'re f***ed up\\nYou\\'re to blame Everything has fallen to pieces\\nEverything has fallen to pieces\\nEverything has fallen to pieces\\nEverything has fallen to pieces\\nEverything has fallen to We really need to see this through\\nWe never wanted to be abused\\nWe\\'ll never give up, it\\'s no use\\nIf we\\'re f***ed up\\nYou\\'re to blame He pauses shaving and he tells himself that he is the bomb\\nShe has her curlers set, her credit cards are paying the funds\\nHe\\'s not that old, I\\'ve been told, a strong sexual goal\\nThey go out everyday she goes every way, oh yeah\\nThey don\\'t even care at all She\\'s open waiting for more\\nAnd I know he\\'s only looking to score\\nAnd it is way too unhealthy\\nOften they\\'ve typically been starved for attention before She smokes a dozen and he doesn\\'t seem to notice the smell\\nHe took the seat off his own bike because the way that it felt\\nHe wants to bone, this I know, she is ready to blow\\nThey go out every night, his pants are super tight, oh yeah\\nThey don\\'t even care at all She\\'s open waiting for more (she\\'s open for more)\\nAnd I know he\\'s only looking to score (he\\'s only looking to score)\\nAnd it is way too unhealthy\\nOften they\\'ve typically been starved for attention before She\\'s open waiting for more\\nAnd I know he\\'s only looking to score\\nAnd it is way too unhealthy\\nOften they\\'ve typically been starved for attention before Can we forget about the things I said when I was drunk...\\nI didn\\'t mean to call you that\\nI can\\'t remember what was said\\nOr what you threw at me Please tell me\\nPlease tell me why\\nMy car is in the front yard\\nAnd I am sleeping with my cloths on\\nI came in throught the window... Last night\\nAnd your... Gone\\nGone It\\'s no suprise to me I am my own worst enemy\\nCuz every now and then I kick the living shit out of me\\nThe smoke alarm is going offf and there a cigarette\\nStill buring Please tell me why\\nMy car is in the front yard\\nAnd I\\'m sleeping with my clothes on\\nI came in throught the windo last night\\nAnd your gone\\nGone Please tell me why\\nMy car is in the front yard\\nAnd I am sleeping with my clothes on\\nI came inthrough the windo last night It\\'s no suprise to me\\nI am my own worst enemy\\nCuz every now and then I kick the livin\\' shit out of me Can we forget about the things I said when I was drunk\\nI didn\\'t mean to call you that Come here, please hold my hand LORD now\\nHelp me, I\\'m scared please show me how\\nTo fight this, God has a master plan\\nAnd I guess, I am in his demand Please save me, this time I cannot run\\nAnd I\\'ll see, you when this is done\\nAnd now I, have come to realize\\nThat you are, the one who\\'s left behind Please stay, until I\\'m gone\\nI\\'m here, hold on, to me\\nI\\'m right here, waiting I see, the light it feels good\\nAnd I\\'ll come, back soon just like you would\\nIt\\'s useless, my name has made the list\\nAnd I wish, I gave you one last kiss Please stay, until I\\'m gone\\nI\\'m here, hold on, to me\\nI\\'m right here, waiting\\nAnd take, my one last breath\\nAnd don\\'t forget\\nThat I will be right here, waiting [Repeat: x3] We\\'re falling faster than we can fly\\nForgotten seconds out on Sunset Drive\\nAnd I hold on tight\\nBut not enough to hold you back It feels like the moon\\nIs spinning off into outer space without you\\nThis room is such a lonely place without you I wish that we could save today\\nBut I know we can\\'t stay the same\\nAnd I keep pushing you away\\nDon\\'t wait for me\\nDon\\'t wait for me Home is such a lonely place without you\\nHome is such a lonely place I love the lightning but hate the rain\\nTomorrow\\'s frightening but not today\\nWish I could slow down time\\nBut not enough to slow you down I feel like the moon\\nIs spinning off into outer space without you\\nThe universe an empty place without you I wish that we could save today\\nBut I know we can\\'t stay the same\\nAnd I keep pushing you away\\nDon\\'t wait for me\\nDon\\'t wait for me Home is such a lonely place without you\\nHome is such a lonely place We\\'re falling faster than we can fly\\nForgotten seconds out on Sunset Drive I wish that we could save today\\nBut I know we can\\'t stay the same\\nAnd I keep pushing you away\\nDon\\'t wait for me\\nDon\\'t wait for me I wish that we could save today\\nBut I know we can\\'t stay the same\\nAnd I keep pushing you away\\nDon\\'t wait for me\\nDon\\'t wait for me Home is such a lonely place without you\\nHome is such a lonely place Home is such a lonely place I always flirt with death\\nI look ill but I don\\'t care about it\\nI can face your threats and\\nStand up straight and tall and shout about it I think I\\'m on another world with you\\nWith you\\nI\\'m on another planet with you\\nWith you You get under my skin\\nI don\\'t find it irritating\\nYou always play to win\\nBut I won\\'t need rehabilitating, oh no I think I\\'m on another world with you\\nWith you\\nI\\'m on another planet with you\\nWith you\\nAnother girl, another planet\\nAnother girl, another planet Space travel\\'s in my blood\\nThere ain\\'t nothing I can do about it\\nLong journeys wear me out but\\nI know, I can\\'t live without it oh no I think I\\'m on another world with you\\nWith you\\nI\\'m on another planet with you\\nWith you Another girl, who\\'s loving you now\\nAnother planet, who\\'s holding you down\\nAnother planet Please, mom\\nYou ground me all the time\\nI know that I was right\\nAll along And I\\'m hoping\\nRemember I\\'m a kid\\nI know not what I did\\nJust having fun You couldn\\'t wait for something new\\nAnd yesterday I thought of you\\nIt left me to think as if I couldn\\'t walk away\\nIt\\'s too late, I fell through Nothing to lose\\nA boy who went out when he finished all his chores\\nNothing to do\\nThey can\\'t trust me because I blew it once before Shit, dad\\nPlease don\\'t kick my ass\\nI know I\\'ve seen you trashed\\nAt least one time Can I blame it\\nOn one of my dumb friends\\nIt\\'s been awhile\\nSince I have used that line You couldn\\'t wait for something new\\nAnd yesterday I thought of you\\nIt left me to think as if I couldn\\'t walk away\\nIt\\'s too late, I fell through Nothing to lose\\nA boy who went out when he finished all his chores\\nNothing to do\\nThey can\\'t trust me because I blew it once before (Alright) Nothing to lose\\nA boy who went out when he finished all his chores\\nNothing to do\\nThey can\\'t trust me because I blew it once before Beige little boxes in a row\\nNeighbors and friends that you don\\'t know\\nHere\\'s a form, go wait in line\\nCan\\'t you see I\\'m doing fine, it\\'s what I\\'ve always wanted Two little kids out on the lawn\\nOnce we had love, now it\\'s gone\\nGood things haven\\'t happened yet\\nI\\'m empty as a movie set, it\\'s what I\\'ve always wanted Hey, here\\'s to you California\\nBeautiful haze of suburbia\\nLiving in the perfect weather\\nSpending time inside together\\nHey, here\\'s to you California Wearing all black out on the beach\\nFaces I\\'ve seen in magazines\\nLet\\'s take a walk out on the pier\\nWatch the shoreline disappear, iIt\\'s what I\\'ve always wanted Hey, here\\'s to you California\\nBeautiful haze of suburbia\\nLiving in the perfect weather\\nSpending time inside together\\nHey, here\\'s to you California Na, na na, na na, na na, na na (woah-ohh)\\nNa, na na, na na, na na, na na (woah-ohh)\\nNa, na na, na na, na na, na na (woah-ohh)\\nNa, na na, na na, na na, na na (woah-ohh) Hey, here\\'s to you California\\nBeautiful haze of suburbia\\nLiving in the perfect weather\\nSpending time inside together\\nHey, here\\'s to you California Cut the skin to the bone\\nFall asleep all alone\\nHear your voice in the dark\\nLose myself in your eyes\\nChoke my voice Say goodnight\\nAs the world falls apart\\nFuck I can\\'t let this kill me, let go\\nI need some more time to fix this Here\\'s a letter for you\\nBut the words get confused\\nAnd the conversation dies\\nApologize for the past\\nTalk some shit take it back\\nAre we cursed to this life Fuck I can\\'t let this kill me, let go\\nI need some more time to fix this problem\\nI need some more time to fix this problem\\nI need some more time to fix this I\\'m talking to the ceiling\\nMy life just lost all meaning\\nDo one thing for me tonight\\nI\\'m dying in this silence The last star left in heaven\\nIs falling down to earth and\\nDo you still feel the same way\\nDo you still feel the same way Fuck I can\\'t let this kill me, let go\\nI need some more time to fix this problem\\nI need some more time to fix this problem\\nI need some more time to fix this So sorry it\\'s over, so sorry it\\'s over\\nThere\\'s so much more that I wanted and\\n(So sorry it\\'s over)\\nThere\\'s so much more that I needed and\\n(So sorry it\\'s over)\\nTime keeps moving on and on and on\\nSoon we\\'ll all be gone\\nLet\\'s take some time to talk this over\\nYou\\'re out of line and rarely sober\\nWe can\\'t depend on your excuses\\n\\'Cause in the end it\\'s fuckin\\' useless\\nYou can only lean on me for so long\\nBring the ship about to watch a friend drown\\nSit out on the ledge, begged you to come down\\nYou can only lean on me for so long I remember shots without a chaser\\nAbsentminded thoughts, now you\\'re a stranger\\nCover up the scars put on your gameface\\nLeft you in the bar to try and save face You can only lean on me for so long\\nBring the ship about to watch a friend drown\\nSit out on the ledge, begged you to come down\\nYou can only lean on me for so long\\nSo sorry it\\'s over, so sorry it\\'s over\\nThere\\'s so much more that I wanted and\\n(So sorry it\\'s over)\\nThere\\'s so much more that I needed and\\n(So sorry it\\'s over)\\nTime keeps moving on and on and on\\nSoon we\\'ll all be gone Man on a mission, can\\'t say I miss him around\\nInsider information, hand in your resignation\\nLoss of a good friend best of intentions I found\\nTight lipped procrastination\\nYeah later, see you around (Here we go motherfuckers)\\nDo you want to come to a party\\nMy friends picked me up in their truck at 11:30\\nThis things at a frat house but the people are cool there\\nReluctant I followed but I never dreamed there\\nWould be someone there who would catch my attention\\nI wasn\\'t out searching for love or affection\\nSo I paid my 3 and the girls got in free\\nShine the beer for tequila and we headed into the party And then in the backyard some terrible ska band\\nSomeone in the background was doing a keg stand\\nThis place is so lame all these girls look the same\\nAll these guys have no game I wish I would have stayed\\nIn my bed back at home watching TV alone\\nWhere I\\'d put on some porn or have sex on the phone\\nFar from people I hate down from anywhere state\\nTrying to intoxicate girls to give them head after the party And then I saw her standing there\\nWith green eyes and long blond hair\\nShe wasn\\'t wearing underwear at least I prayed that\\nShe might be the one maybe we\\'d have some fun\\nMaybe we\\'d watch the sun rise\\nBut that night I learned some girls try too hard Some girls try too hard\\nSome girls try too hard to impress\\nWith the way that they dress\\nWith those things on their chests\\nAnd the things they suggest to me I couldn\\'t believe what this lady was saying\\nThe names she was dropping the games she was playing\\nShe dated this guy who now rides for Black Fly\\'s\\nHow she\\'s down with the Iwise well constructed disguise\\nNow I\\'d rather go dateless than stay here and hate this\\nHer volume of makeup her fake tits were tasteless\\nSo I said I\\'d call her but never would bother\\nUntil I got turned down by another girl at a party So when you see her standing there\\nWith green eyes and long blonde hair\\nShe won\\'t be wearing underwear and you\\'ll discover\\nThis girl\\'s not the one and she\\'ll never be fun\\nYou should just turn and run because you\\'ll find out that\\nSome girls try too hard Some girls try too hard\\nSome girls try too hard to impress\\nWith the way that they dress\\nWith those things on their chest\\nAnd the things they suggest to me Some girls try too hard\\nSome girls try too hard I wanna have the same last dream again\\nThe one where I wake up and I\\'m alive\\nJust as the four walls close me within\\nMy eyes are open up with pure sunlight\\nI\\'m the first to know\\nMy dearest friends\\nEven if your hope has burned with time\\nAnything that is dead shall be re-grown\\nAnd your vicious pain, your warning sign\\nYou will be fine hey yo here I am\\nAnd here we go\\nLife\\'s waiting to begin Any type of love it will be shown\\nLike every single tree reach for the sky\\nIf you\\'re gonna to fall\\nI\\'ll let you know\\nThat I will pick you up\\nLike you for I\\nI felt this thing\\nI can\\'t replace\\nWhere everyone was working for this goal\\nWhere all the children left without a trace\\nOnly to come back as pure as gold\\nTo recite this so\\nhey yo here I am\\nAnd here we go\\nLife\\'s waiting to begin\\nTonight\\nhey ohhh here I am\\nAnd here we go\\nLife\\'s waiting to begin\\nTonight\\nhey yo here I am\\nAnd here we go\\nLife\\'s waiting to begin I cannot live\\nI can\\'t breathe\\nUnless you do this with me\\nI cannot live\\nI can\\'t breathe\\nUnless you do this with me\\nI cannot live\\nI can\\'t breathe\\nUnless you do this with me\\nI cannot live\\nI can\\'t breathe\\nUnless you do this with me\\nI cannot live\\nI can\\'t breathe\\nUnless you do this with me\\nI cannot live\\nI can\\'t breathe\\nUnless you do this with me hey yo, here I am (do this with me)\\nHere we go\\nlife\\'s waiting to begin (do this with me)\\nhey ohhh, here I am (do this with me)\\nHere we go\\nlife\\'s waiting to begin\\nLife\\'s waiting to begin. With all of this I know now\\nEverything inside of my head\\nIt all just goes to show how\\nNothing I know changes me at all\\nAgain I waited for this to change instead\\nTo tear the world in two\\nAnother night with her\\nBut I\\'m always wanting you Use me Holly come on and use me\\nWe know where we go\\nUse me Holly come on and use me\\nWe go where we know With all of this I feel now\\nEverything inside of my heart\\nIt all just seems to be how\\nNothing I feel pulls at me at all\\nAgain I waited for this to pull apart\\nTo break my time in two\\nAnother night with her\\nBut I\\'m always wanting you Use me Holly come on and use me\\nWe know where we go\\nUse me Holly come on and use me\\nWe go where we know She\\'s all I need\\nShe\\'s all I dream\\nShe\\'s all I\\'m always wanting\\nShe\\'s all I need\\nShe\\'s all I dream\\nShe\\'s all I\\'m always wanting you\\nI\\'m always wanting you\\nI\\'m always wanting you Use me Holly come on and use me\\nWe know where we go\\nUse me Holly come on and use me\\nWe go where we know She\\'s all I need\\nShe\\'s all I dream\\nShe\\'s all I\\'m always wanting\\nShe\\'s all I need\\nShe\\'s all I dream\\nShe\\'s all I\\'m always wanting you And all again I wait for this\\nTo fill a whole, to shake the sky in two\\nAnother night with her\\nI\\'m always wanting you\\nAnother night with her\\nBut I\\'m always wanting you Been gone a long time I kinda lost my way, can\\'t find you\\nAnd I caught a short ride to the grave and back this season\\nI can try to get by, but every time I start to panic\\nI\\'m a little bit shy, a bit strange and a little bit manic La da da da, da da da da\\nLa da da da, da da da da da La da da da, da da da da\\nLa da da da, da da da da da I went to a wishing well, I sank to the ocean floor\\nCut up by sharpened rocks, and washed up along the shore\\nI reached for a shooting star, it burned a hole through my hand\\nMade it\\'s way through my heart, had fun in the promised land On the narrowing line, what a way to sort my troubles\\nIn a very short time, gonna pop, better duck and cover\\nCan you figure me out? I got caught like a little kid stealing\\nDid I say it too loud? A bit hard or a little misleading La da da da, da da da da\\nLa da da da, da da da da da La da da da, da da da da\\nLa da da da, da da da da da I went to a wishing well, I sank to the ocean floor\\nCut up by sharpened rocks and washed up along the shore\\nI reached for a shooting star, it burned a hole through my hand\\nMade it\\'s way through my heart, had fun in the promised land La da da da, da da da da\\nLa da da da, da da da da da La da da da, da da da da\\nLa da da da, da da da da da I went to a wishing well, I sank to the ocean floor\\nCut up by sharpened rocks and washed up along the shore\\nI reached for a shooting star, it burned a hole through my hand\\nMade it\\'s way through my heart, had fun in the promised land I went to a wishing well, I sank to the ocean floor\\nCut up by sharpened rocks and washed up along the shore\\nI reached for a shooting star, it burned a hole through my hand\\nMade it\\'s way through my heart, had fun in the promised land Everyone wants to call it all around our life with a better name\\nEveryone falls and spins and gets up again with a friend who does the same\\nEveryone lies and cheats their wants and needs and still believes their heart\\nAnd everyone gets the chills, the kind that kills when the pain begins to start Let me get this straight, do you want me here?\\nAs I struggle through each and every year\\nAnd all these demons, they keep me up all night\\nThey keep me up all night\\nThey keep me up all night Everyone\\'s cross to bears are the crown they wear on endless holiday\\nEveryone raises kids in a world that changes life to a bitter game\\nEveryone works and fights, stays up all night to celebrate the day\\nAnd everyone lives to tell the tale of how we die alone some day Let me get this straight, do you want me here?\\nAs I struggle through each and every year\\nAnd all these demons, they keep me up all night\\nThey keep me up all night\\nThey keep me up all night\\nThey keep me up all night\\nThey keep me up all night I talk to you every now and then\\nI never felt so alone again\\nI stop to think at a wishing well\\nMy thoughts send me on a carousel Here I am standing on my own\\nNot a motion from the telephone\\nI know not a reason why\\nSolitude\\'s a reason to die Just you wait and see (just you wait and see)\\nAs school life is a\\nIt is a woken dream\\nAren\\'t you feeling alone? I guess its just another\\nI guess its just another\\n(I had sex with your mother) night alone Now as I walk down the street\\nI need a job just to sleep in sheets\\nBuying food every once in a while\\nBut not enough to purchase a smile A tank of gas is a treasure to me\\nI know now that nothing is free\\nI talk to you every now and then\\nI never felt so alone again Just you wait and see (just you wait and see)\\nAs school life is a\\nIt is a woken dream\\nAren\\'t you feeling alone? I guess its just another\\nI guess its just another\\nNight alone Thanks a lot you guys!\\nHey kids, it\\'s Satan. Thanks a lot for coming on down to\\nThe show tonight. Hope you all had a great time. I know I did\\nThose Blink fellas sure put on a kick ass show, huh. Hope to see\\nYou all at the after show party. I\\'m gonna start sucking dicks\\nAnd squeezin\\' titties, maybe I can put my peepee in your mouth\\nI love it when the kids come on over and I get, I have them suck\\nAnd kiss my peepee tenderly and gently. I like it when the kids sit\\nOn my lap, and talk about unicorns and flowers and things like that\\nMaybe I\\'ll even suck their blood. See ya kids later! Hey, how you guys doin\\' up in the back? Now from the top balcony\\nCan I get an Amen? Now from the floor, can I get a Hallelujah? Now from\\nAll these other assholes, can I get an oh yeah? On and on, reckless abandon\\nSomething\\'s wrong\\nThis is gonna shock them\\nNothing to hold on to\\nWe\\'ll use this song\\nTo lead you on I learned a lot today\\nNot sure if I\\'ll get laid and\\nNot sure if I\\'ll fail or pass\\nKissed every girl in class\\nEverybody would waste it all\\nTo have a summer that they could call\\nA memory that\\'s full of fun\\nFucked up when it\\'s all done On and on, reckless abandon\\nSomething\\'s wrong\\nThis is gonna shock them\\nNothing to hold on to\\nWe\\'ll use this song\\nTo lead you on\\nAnd break the truth\\nWith more bad news\\nWe left a scar\\nSize extra large Sip a drink of the alcohol\\nEnd up kneeling in bathroom stalls\\nEyes are red and my movements slow\\nToo high, got vertigo He took a shit in the bathroom tub\\nAnd fed the dog brownie drugs\\nTried hard not to get caught\\nHe fucked a chick in the parking lot On and on, reckless abandon\\nSomething\\'s wrong\\nThis is gonna shock them\\nNothing to hold on to\\nWe\\'ll use this song\\nTo lead you on\\nAnd break the truth\\nWith more bad news\\nWe left a scar\\nSize extra large Break a window and bust a wall\\nMaking fun of your friend\\'s mom\\nTurn the music up way too loud\\nCharge the pizza to the house\\nEverybody would waste it all\\nTo have a summer that they could call\\nA memory that\\'s full of fun\\nFucked up when it\\'s all done On and on, reckless abandon\\nSomething\\'s wrong\\nThis is gonna shock them\\nNothing to hold on to\\nWe\\'ll use this song\\nTo lead you on\\nAnd break the truth\\nWith more bad news\\nWe left a scar\\nSize extra large It\\'d be nice\\nTo have a blow job\\nIt would be nice\\nTo have a blow job\\nIt would be nice\\nTo have a blow job\\nIt would be nice\\nTo have a blow job\\nIt would be nice\\nTo have a blow job\\nIt would be nice\\nTo have a blow job\\nIt would be nice\\nTo have a blow job\\nIt would be nice\\nTo have a blow job\\nFrom your mom My Dearest,\\nI\\'ve missed you very, very much since that last night we were together, and will hold that night especially in my memories for years to come. I\\'ve been turning it over and over in my mind lately.\\nI\\'ve read your letter through at least four times, and will probably read it more times before I\\'m through. I\\'ve been sitting here, looking at your picture and getting more homesick every minute. I\\'ve wanted that picture more than anything else I know of, except, of course, you yourself.\\nI keep thinking of you, Darling, keep wishing I could be home with you. I want to leave in the worst possible way so I can come home to see you, but things don\\'t look so good on that subject. But this war has spoiled a lot of things for everyone, I guess.\\nI\\'ve never been so lonesome in my life as I am right now. I\\'m completely lost without you, Darling. I never realized I could miss any one person so much. I just hope it won\\'t be too much longer until I\\'m able to be with you again... and live a sane and normal life. I\\'m sick of always hearing\\nAll the sad songs on the radio\\nAll day it is there to remind an over sensitive guy\\nThat he\\'s lost and alone, yeah I hate our favorite restaurant, favorite movie, our favorite show\\nWe would stay up all through the night\\nWe would laugh and get high\\nAnd never answer the phone I can\\'t forgive\\nCan\\'t forget\\nCan\\'t give in what went wrong\\n\\'Cause you said this was right\\nYou fucked up my life I\\'m sick of always hearing\\nSappy love songs on the radio\\nThis place is fucking cursed in its plague\\nAnd I can never escape when my heart it explodes I can\\'t forgive\\nCan\\'t forget\\nCan\\'t give in what went wrong\\nCause you said this was right\\nYou fucked up my life I\\'m kicking out fiercely of the world around me\\nWhat went wrong I\\'m kicking Don\\'t wanna hear the static on the TV screen\\nDon\\'t wanna live a life of cellphone memories When did you go missing?\\nWhere did I go wrong?\\nSometimes I just don\\'t know where I belong Save yourself where I was saving\\nWe\\'re not the same, we\\'re two in a million\\nThese are the good old days\\nThese are the good old days\\nWe\\'ve gone through hell, the battles we fought \\'em\\nWe stood as one, the young and forgotten\\nThese are the good old days\\nThese are the good old days You\\'re not the only one who grew up feeling scared\\nYou\\'re not the only broken heart gone un-repaired Everyone\\'s gone missing\\nEveryone\\'s done wrong\\nSometimes we both fly too close to the sun Save yourself where I was saving\\nWe\\'re not the same, we\\'re two in a million\\nThese are the good old days\\nThese are the good old days\\nWe\\'ve gone through hell, the battles we fought \\'em\\nWe stood as one, the young and forgotten\\nThese are the good old days\\nThese are the good old days You\\'re giving up\\nWe\\'re getting out\\nWe were young and we\\'re not growing up\\nWe\\'re not growing up You\\'re giving up\\nWe\\'re getting out\\nWe were young and we\\'re not growing up\\nWe\\'re not growing up Save yourself where I was saving\\nWe\\'re not the same, we\\'re two in a million\\nThese are the good old days\\nThese are the good old days\\nWe\\'ve gone through hell, the battles we fought \\'em\\nWe stood as one, the young and forgotten\\nThese are the good old days\\nThese are the good old days These are the good old days\\nThese are the good old days These are the good old days\\nThese are the good old days Last night it came as a picture\\nWith a good reason, a warning sign\\nThis place is void of all passion\\nIf you can imagine it\\'s easy if you try\\nBelieve me I failed this effort\\nI wrote a reminder this wasn\\'t a vision\\nThis time where are you Houston\\nIs somebody out there will somebody listen Should I go back should I go back should I\\nI feel alone and tired\\nShould I go back should I go back should I\\nI hope I won\\'t forget you My head is made up of memories\\nMost of them useless delusions\\nThis room is bored of rehearsal\\nAnd sick of the boundaries\\nI miss you so much Should I go back should I go back should I\\nI feel alone and tired\\nShould I go back should I go back should I\\nThis time I don\\'t want to\\nShould I go back should I go back should I\\nI feel alone and tired\\nShould I go back should I go back should I\\nI hope I won\\'t forget you Should I go back should I go back should I\\nI feel alone and tired\\nShould I go back should I go back should I\\nThis time I don\\'t want to\\nShould I go back should I go back should I\\nI feel alone and tired\\nShould I go back should I go back should I\\nI hope I won\\'t forget you Sometimes I wonder where our lives go\\nThey question who we used to be\\nSometimes I feel like I\\'m the oxygen between\\nThe cigarette and gasoline I can\\'t sleep \\'cause what if I dream\\nOf going back to San Diego\\nWe bought a one way ticket\\nSo we could go see the Cure\\nAnd listen to our favorite songs in the parking lot\\nAnd think of every person I ever lost in San Diego (to San Diego)\\nCan\\'t go back to San Diego (can\\'t go back to San Diego) Abandoned houses with the lights on (oh, oh, oh)\\nLate at night I call your name (oh, oh, oh, oh)\\nAbandoned love songs smashed across the hardwood floors\\nI read the sadness on your face I can\\'t sleep \\'cause what if I dream\\nOf going back to San Diego\\nWe bought a one way ticket\\nSo we could go see the Cure\\nAnd listen to our favorite songs in the parking lot\\nAnd think of every person I ever lost in San Diego (to San Diego)\\nCan\\'t go back to San Diego (can\\'t go back to San Diego) I never needed to hear\\nAll of the pain and the fear\\nYour secrets filled up my ears\\nLike the ocean blue\\nI never wanted to know\\nHow deep these cuts on you go\\nAnd like a river they flow\\nTo the ocean blue Going back to San Diego\\nWe bought a one way ticket\\nSo we could go see the Cure\\nAnd listen to our favorite songs in the parking lot\\nAnd think of every person I ever lost at San Diego (San Diego) (to San Diego)\\nCan\\'t go back to San Diego (San Diego) (can\\'t go back to San Diego) I got no regret right now\\n(I\\'m feeling this)\\nThe air is so cold and numb\\n(I\\'m feeling this)\\nLet me go in her room\\n(I\\'m feeling this)\\nI wanna take off her clothes\\n(I\\'m feeling this) Show me the way to bed\\n(I\\'m feeling this)\\nShow me the way you move\\n(I\\'m feeling this)\\nFuck it it\\'s such a blur\\n(I\\'m feeling this)\\nI love all the things you do\\n(I\\'m feeling this) Fate fell short this time\\nYour smile fades in the summer\\nPlace your hand in mine\\nI\\'ll leave when I wanna Where do we go from here\\nTurn all the lights down now\\nSmiling from ear to ear\\n(I\\'m feeling this)\\nOur breathing has got too loud\\n(I\\'m feeling this) Show me the bedroom floor\\n(I\\'m feeling this)\\nShow me the bathroom mirror\\n(I\\'m feeling this)\\nWere taking this way too slow\\n(I\\'m feeling this)\\nTake me away from here\\n(I\\'m feeling this) Fate fell short this time\\nYour smile fades in the summer\\nPlace your hand in mine\\nI\\'ll leave when I wanna Fate fell short this time\\nYour smile fades in the summer\\nPlace your hand in mine\\nI\\'ll leave when I wanna This place was never the same again after you came and went\\nHow can you say you meant anything different\\nTo anyone standing alone on the street\\nWith a cigarette on the first night we met Look to the past and remember her smile\\nAnd maybe tonight I can breathe for a while\\nI\\'m not in this scene I think I\\'m falling asleep\\nBut then all that it means is I\\'ll always be dreaming of you Fate fell short this time\\nYour smile fades in the summer\\nPlace your hand in mine\\nI\\'ll leave when I wanna Fate fell short this time\\n(Fate fell short this time)\\nYour smile fades in the summer\\n(Your smile fades in the summer)\\nPlace your hand in mine\\n(Place your hand in mine)\\nI\\'ll leave when I wanna\\n(I\\'ll leave when I wanna) Fate fell short this time\\n(Fate fell short this time)\\nYour smile fades in the summer\\n(So lost and disillusioned)\\nPlace your hand in mine\\n(Place your hand in mine)\\nI\\'ll leave when I wanna\\n(So lost and disillusioned) Fate fell short this time\\n(Are we alone do you feel it)\\nYour smile fades in the summer\\n(So lost and disillusioned)\\nPlace your hand in mine\\n(Are we alone do you feel it)\\nI\\'ll leave when I wanna\\n(So lost and disillusioned) Fate fell short this time\\n(Are we alone do you feel it)\\nYour smile fades in the summer\\n(So lost and disillusioned)\\nPlace your hand in mine\\n(Are we alone do you feel it)\\nI\\'ll leave when I wanna\\n(So lost and disillusioned) I know I messed up and it might be over\\nBut let me call you when I\\'m sober\\nI\\'m a dandelion, you\\'re a four-leaf clover\\nBut let me call you when I\\'m sober Naa, na na na na na naaaa\\nNa na na na na na\\nNaa, na na na na na naaaa\\nNa na na na na na I woke up in the pouring rain\\nWest Side Humboldt 7am\\nSleeping by a dumpster to keep me dry\\nWith the radio on and a new black eye Because I bet you couldn\\'t knock me out\\nAnd I guess you, you really got me now\\nBlack sedan ran a red light\\nJust a drunken bike messenger on Tuesday night I know I messed up and it might be over\\nBut let me call you when I\\'m sober\\nI\\'m a dandelion, you\\'re a four-leaf clover\\nBut let me call you when I\\'m sober Naa, na na na na na naaaa\\nNa na na na na na (when I\\'m sober)\\nNaa, na na na na na naaaa\\nNa na na na na na (when I\\'m sober) She undressed and we stumbled downstairs\\nFell onto the table as the neighbors just stared\\nWe laughed out loud and smashed their lights\\nDigging with our hands in the dirt outside And she dragged me to the edge of town\\nAnd she slapped me then she pulled me down\\nI can do bad and you can do better\\nSpending all night getting lost together I know I messed up and it might be over\\nBut let me call you when I\\'m sober\\nI\\'m a dandelion, you\\'re a four-leaf clover\\nBut let me call you when I\\'m sober Sober\\nSober I know I messed up and it might be over\\nBut let me call you when I\\'m sober\\nI\\'m a dandelion, you\\'re a four-leaf clover\\nBut let me call you when I\\'m sober Naa, na na na na na naaaa\\nNa na na na na na (when I\\'m sober)\\nNaa, na na na na na naaaa\\nNa na na na na na (when I\\'m sober) Naa, na na na na na naaaa\\nNa na na na na na (when I\\'m sober)\\nNaa, na na na na na naaaa\\nNa na na na na na (when I\\'m sober) All the small things\\nTrue care truth brings\\nI\\'ll take one lift\\nYour ride best trip\\nAlways I know\\nYou\\'ll be at my show\\nWatching, waiting, commiserating Say it ain\\'t so, I will not go\\nTurn the lights off, carry me home\\nNa, na, na, na\\nNa, na, na, na, na, na, na, na, na, na, na Late night, come home\\nWork sucks, I know\\nShe left me roses by the stairs\\nSurprises let me know she cares Say it ain\\'t so, I will not go\\nTurn the lights off, carry me home\\nNa, na, na, na\\nNa, na, na, na, na, na, na, na, na, na, na Say it ain\\'t so, I will not go\\nTurn the lights off, carry me home\\nKeep your head still, I\\'ll be your thrill\\nThe night will go on, my little windmill Say it ain\\'t so, I will not go\\nTurn the lights off, carry me home\\nKeep your head still, I\\'ll be your thrill\\nThe night will go on\\nThe night will go on\\nMy little windmill Please take me by the hand\\nIt\\'s so cold out tonight, I\\'ll\\nPut blankets on the bed\\nI won\\'t turn out the light, just\\nDon\\'t forget to think about me and I\\nWon\\'t forget you\\n\"I\\'ll write you once a week,\" she said Why does it feel the same\\nTo fall in love or break it off\\nAnd if young love is just a game then\\nI must have missed the kick off\\nDon\\'t depend on me to ever follow through on\\nAnything but I\\'d go through hell for you and I haven\\'t been this scared in a long time\\nAnd I\\'m so unprepared so here\\'s your valentine\\nBouquet of clumsy words, a simple melody\\nThis world\\'s an ugly place, but you\\'re so beautiful to me I\\'ll think about the times\\nShe kissed me after class\\nAnd she put up with my friends\\nI acted like an ass, I\\'d\\nDitch my lecture to watch the girls play soccer\\nIs my picture still hanging in her locker? I haven\\'t been this scared in a long time\\nAnd I\\'m so unprepared so here\\'s your valentine\\nBouquet of clumsy words, a simple melody\\nThis world\\'s an ugly place, but you\\'re so beautiful I haven\\'t been this scared in a long time\\nAnd I\\'m so unprepared so here\\'s your valentine\\nBouquet of clumsy words, a simple melody\\nThis world\\'s an ugly place, but you\\'re so beautiful Got a lotta heart ache\\nHe\\'s a fucking weasel\\nHis issues make my mind ache\\nWant to make a deal\\n\\'Cause I love your little motions\\nYou do with your pigtails\\nWhat a nice creation\\nWorth another night in jail He\\'s a player, diarrhea giver\\nTried to grow his hair out\\nWhen friends were listening to Slayer\\nI would like to find him Friday night\\nHanging out with mom and trying on his fathers tights\\nLife just sucks, I lost the one, I\\'m giving up she found someone\\nThere\\'s plenty more, girls are such a drag So all you little ladies\\nBe sure to choose the right guys\\nYou\\'ll come back to me maybe\\nI\\'ll shower you with lies\\nGot a lotta heart ache\\nHe\\'s a fucking weasel\\nDecisions make my mind ache\\nWant to make a deal Ease away the problems and the pain\\nThe girl chose the one guy who makes you want to kick and scream\\nAll along, you wish that she would stay\\nFuck the guy who took and ran away He\\'s a player, diarrhea giver\\nTried to grow his hair out\\nWhen friends were listening to slayer\\nI would like to find him Friday night\\nHanging out with mom and trying on his fathers tights\\nLife just sucks, I lost the one, I\\'m giving up she found someone\\nThere\\'s plenty more, girls are such a drag Fuck this place, I lost the war\\nI hate you all, your mom\\'s a whore\\nWhere\\'s my dog?\\n\\'Cause girls are such a drag Eyes are, open words are spoken\\nHere\\'s to the sunrise\\nHead is loaded cards are folded\\nUnder the moonlight Can you remember, you remember the last time\\nWe woke up sober?\\nCan you remember, you remember the last night\\nYou ran me over? Are we halfway gone or halfway there? Left alone\\nWe\\'re only halfway home\\nSink like stones\\nFall into the unknown Break me down, I\\'m not afraid of you\\nPull me under\\nSlowly drown, I never wanted to\\nLeft alone to wonder Mind is open, thoughts are woken\\nThere goes the sunrise\\nHeart is broken, love unspoken\\nHere comes the moonlight Can you remember, you remember the last time\\nI left hungover?\\nCan you remember, you remember the last night\\nThat I stayed over? Are we halfway gone or halfway there? Left alone\\nWe\\'re only halfway home\\nSink like stones\\nFall into the unknown Break me down, I\\'m not afraid of you\\nPull me under\\nSlowly drown, I never wanted to\\nLeft alone to wonder (Whoa-oh-oh) we\\'re left alone (whoa-oh-oh)\\n(Whoa-oh-oh) we\\'re left alone (whoa-oh-oh)\\n(Whoa-oh-oh) we\\'re left alone (whoa-oh-oh)\\n(Whoa-oh-oh) we\\'re left alone (whoa-oh-oh) Left alone\\nWe\\'re only halfway home\\nSink like stones\\nFall into the unknown Break me down, I\\'m not afraid of you\\nPull me under\\nSlowly drown, I never wanted to\\nLeft alone to wonder (Whoa-oh-oh) we\\'re left alone (whoa-oh-oh)\\n(Whoa-oh-oh) we\\'re left alone (whoa-oh-oh)\\n(Whoa-oh-oh) we\\'re left alone (whoa-oh-oh)\\n(Whoa-oh-oh) we\\'re left alone (whoa-oh-oh) Josie, you\\'re my\\nSource of most frustration\\nForget when I\\nDon\\'t meet expectations\\nEverything you wished came true\\nIn the end we all blamed you\\nEven though, as they all know you weren\\'t the only one, two, three, four Why do you still keep it around\\nWhen you know it brings me down, I\\'m hating everything\\nAnd I know that you dated other guys\\nBut I gotta wonder why you\\'d leave it out for me (shit!) Why am I still hanging around\\nWhen I know it brings me down, I\\'m hating everything\\nAnd you are getting rides home in his car\\nYou\\'re making out in his front yard, I\\'m hating everything Please don\\'t remind me, put your past behind me\\nIt shines so bright it blinds me, I wish that this would end\\nAnd I am not fine, last night I saw you online\\nYour screen name used to be mine, why can\\'t we just pretend? And if we can have another day\\nI\\'ve got so much left to say, I\\'d tell you everything\\nAnd I\\'ll laugh when I think about the past\\nWhen I see you after class, you\\'re hating everything Please don\\'t remind me, put your past behind me\\nIt shines so bright it blinds me, I wish that this would end\\nAnd I am not fine, last night I saw you online\\nYour screen name used to be mine, why can\\'t we just pretend? Please don\\'t remind me, put your past behind me\\nIt shines so bright it blinds me, I wish that this would end\\nAnd I am not fine, last night I saw you online\\nYour screen name used to be mine, why can\\'t we just pretend? And she said, (na na na na na na na na na na na na na)\\n\"I just forgot you were there\" (na na na na na na na na na na na na na)\\n\"I just forgot you were there\" (na na na na na na na na na na na na na na na na)\\n\"I just forgot you were there\" (na na na na na na na na na na na na na na na na) Please don\\'t remind me, put your past behind me\\nIt shines so bright it blinds me, I wish that this would end\\nAnd I am not fine, last night I saw you online\\nYour screen name used to be mine, why can\\'t we just pretend? Please don\\'t remind me, put your past behind me\\nIt shines so bright it blinds me, I wish that this would end\\nAnd I am not fine, last night I saw you online\\nYour screen name used to be mine, why can\\'t we just pretend? And she said, (na na na na na) Can you read my thoughts, I\\'m not sure what I said\\nI feel dumb and long night coming Did you steal my prayers I don\\'t know where I was\\nI feel numb and all or nothing\\n(All or nothing) It\\'s Friday night let\\'s lose our minds in a downward spiral\\nHere we go\\n\\'Cause we got no control\\n(No control) It\\'s Friday nights always save my life from the worst of times we ever had\\nThank God for punk rock bands Till Monday morning strikes again\\nWe are the kings of the weekend I can feel my head falling off my neck\\nI need something\\nTo keep going So just take my hand\\nOnly seconds left\\nThe clock\\'s running\\nOur time\\'s coming Aaah! It\\'s Friday night let\\'s lose our minds in a downward spiral\\nHere we go\\n\\'Cause we got no control\\n(No control) It\\'s Friday nights always save my life from the worst of times we ever had\\nThank God for punk rock bands Till Monday morning strikes again\\nWe are the kings of the weekend It\\'s Friday night let\\'s lose our minds in a downward spiral\\nHere we go\\n\\'Cause we got no control\\n(No control) It\\'s Friday nights always save my life from the worst of times we ever had\\nThank God for punk rock bands Till Monday morning strikes again\\nWe are the kings of the weekend This is the first (thing I remember)\\nNow it\\'s the last (thing left on my mind)\\nAfraid of the dark (do you hear me whisper)\\nAn empty heart (replaced with paranoia)\\nWhere do we go (life\\'s temporary)\\nAfter we\\'re gone (like new years resolutions)\\nWhy is this hard (do you recognize me)\\nI know I\\'m wrong (but I can\\'t help believing) I\\'m so lost\\nI\\'m barely here\\nI wish I could explain myself\\nBut words escape me\\nIt\\'s too late\\nTo save me\\nYou\\'re too late\\nYou\\'re too late You\\'re cold with disappointment\\nWhile I\\'m drowning in the next room\\nThe last contagious victim of this plague between us\\nI\\'m sick with apprehension\\nI\\'m crippled from exhaustion\\nAnd I dread the moment when you finally come to kill me This is the first (thing I remember)\\nNow it\\'s the last (thing left on my mind)\\nAfraid of the dark (do you hear me whisper)\\nAn empty heart (replaced with paranoia)\\nWhere do we go (life\\'s temporary)\\nAfter we\\'re gone (like new years resolutions)\\nWhy is this hard (do you recognize me)\\nI know I\\'m wrong (but I can\\'t help believing) Crossed the street\\nNaked at night\\nBent over to show some moonlight\\nPulled out some beer and gulped it down\\nNude in a gutter is how I was found\\nThrown in a police car and the door slammed\\nNo noise just silence as I screamed my dick was jammed\\nNow in prison for one month no one to see\\nAll I got is this guy Ben Dover Don\\'t like hesh-don\\'t like rap\\nKicked ol\\' Sally cause she\\'s fat\\nI\\'m a jerk I\\'m a punk\\nTook a shower cause I stunk\\nSmoked a bong killed a cat\\nHad my nuts attacked by rats\\nDad got nude, I wore a thong\\nFor a hobby I make bombs Went to a farm to tip some cows\\nForgot that I left my pants down\\nBent over to pick them up\\nFelt a twelve gauge next to my shit\\nThe farmer took me to his house\\nShowed me the closet from the inside out\\nThe police came and took me away\\nSaw Ben Dover again and he\\'s still gay Don\\'t like hesh-don\\'t like rap\\nKicked ol\\' Sally cause she\\'s fat\\nI\\'m a jerk I\\'m a punk\\nTook a shower cause I stunk\\nSmoked a bong killed a cat\\nHad my nuts attacked by rats\\nDad got nude-I wore a thong\\nFor a hobby I make bombs When the clock strikes two,\\nThere\\'s just so much to do\\nAnd I can\\'t explain what I need\\nJobs and social groups\\nHearing the latest news\\nKeeping our reputations clean\\nAnd I, don\\'t want to worry\\nAbout being on time\\nI\\'ve seen the way you hurry\\nAnd time runs your life\\nAgain\\nThe difference between east and west\\nMoney is so much less\\nNot that I\\'m poor, just to fine\\nI wish that the clock would often just be stopped\\nAnd then we\\'d look\\nInto the time\\nAnd I, don\\'t want to worry\\nAbout being on time\\nI\\'ve seen the way you hurry\\nAnd time runs your life I talk to you every now and then\\nI never felt so alone again\\nI stop to think at a wishing well\\nMy thoughts send me on a carousel\\nHere I am standing on my own\\nNot a motion from the telephone\\nI know not a reason why\\nSolitudes a reason to die Just you wait and see\\nAs school life is a\\nIt is a woken dream\\nAren\\'t you feeling alone? I guess its just another\\nI guess its just another\\nI guess its just another night alone Now as I walk down the street\\nI need a job just to sleep in sheets\\nBuying food every once in a while\\nBut not enough to purchase a smile A tank of gas is a treasure to me\\nI know now that nothing is free\\nI talk to you every now and then\\nI never felt so alone again Just you wait and see\\nAs school life is a\\nIt is a woken dream\\nAren\\'t you feeling alone? I guess its just another\\nI guess its just another\\nI guess its just another night alone Let\\'s get started, the faint and broken-hearted\\nHold it up, I\\'ve got something I cannot hide\\nWorst painkiller, that all-in filler\\nThe apart and departed look in my eyes Sad, how far you ran, I\\'ll search this land\\nUp through the clouds then back here\\nWe could reignite like fireflies, like an atom bomb\\nAt all hours I\\'m empty like the day after Christmas\\nSwept beneath the wave of your goodbye\\nYou left me on the day after Christmas\\nThere\\'s nothing left to say, and so goodnight I will follow the trail to tomorrow\\nWith my loneliness with sorrow all through the night\\nSons and daughters, mothers and their fathers\\nJust the bridges and the waters their clues left behind Sad, how far you ran, I\\'ll search this land\\nUp through the clouds then back here\\nWe could reignite like fireflies, like an atom bomb\\nAt all hours I\\'m empty like the day after Christmas\\nSwept beneath the wave of your goodbye\\nYou left me on the day after Christmas\\nThere\\'s nothing left to say, and so goodnight I\\'m empty like the day after Christmas\\nSwept beneath the wave of your goodbye\\nYou left me on the day after Christmas\\nThere\\'s nothing left to say, and so goodnight There\\'s nothing left to say, and so goodnight\\nGoodnight There she was like a starry night\\nLike a Ferris wheel, full of blue green eyes\\nAnd a heart of steel always on her own\\nAlmost never real\\nWhen the night will begin\\nThe pain it won\\'t end even if she falls in love\\nFact you wanna turn back your heart will attack\\nEven if she falls in love\\nAnd she was like a blade of ice\\nLike a lonely road clears day of life\\nAlways sharp and cold always beautiful\\nI am such a fool When the night will begin\\nThe pain won\\'t end even if she falls in love\\nFact you wanna turn back your heart will attack\\nEven if she falls in love Try to look in her eyes the light is just right\\nEven if she falls in love and it isn\\'t so bad it\\'s\\nDriving you mad even if she falls in love There\\'s a cynical feeling saying I should give up\\nYou said everything you\\'ll ever say\\nThere\\'s a moment of panic when I hear the phone ring\\nAnxiety\\'s calling in my head Is it back again?\\nAre you back again? Don\\'t wake me up before you leave\\nIs there the slightest trace of what you once believed (woah oh oh oh)\\nI feel your hand unlock the door\\nLeaving fingerprints of water in the oil (woah oh oh oh) What\\'s the point of saying sorry now\\nLost my voice while fighting my way out (while fighting my way out) What\\'s the point of saying sorry now (not sorry, not sorry, not sorry, I\\'m not sorry)\\nLost my voice while fighting my way out (not sorry, not sorry, not sorry, I\\'m not sorry now) Dear head, shut up\\nI can\\'t listen no more\\nIt\\'s late, so shut up\\nIs one night too much to ask for You are a haunted house\\nYou\\'re superstitious\\nYou are the coldest stone-carved marble faces I won\\'t fall down that fucking rabbit hole\\nI\\'m barely standing on the ground\\nAll the hints that you leave are too hard to believe at all\\nI won\\'t fall down that fucking rabbit hole With you, with you, with you, with you again\\nWith you, with you, with you, with you again This bed, on fire\\nI can\\'t sleep here no more\\nToo late and tired\\nDreaming down on the floor I\\'m a haunted house\\nI\\'m superstitious\\nI am a cardboard cutout, old and faded I won\\'t fall down that fucking rabbit hole\\nI\\'m barely standing on the ground\\nAll the hints that you leave are too hard to believe at all\\nI won\\'t fall down that fucking rabbit hole With you, with you, with you, with you again\\nWith you, with you, with you, with you again With you, with you, with you, with you again\\nWith you, with you, with you, with you again I won\\'t fall down that fucking rabbit hole (I won\\'t fall down, I won\\'t fall down)\\nI\\'m barely standing on the ground (Barely standing on the ground)\\nAll the hints that you leave are too hard to believe at all\\nI won\\'t fall down that fucking rabbit hole (I won\\'t fall down that fucking rabbit hole) Oh, oh\\nOh, oh\\nOh, oh\\nOh, oh\\nOh, oh\\nOh, oh\\nOh, oh, oh, oh Where the hell did you come from, outer space or heaven above\\nShort of breath my long-lost love\\nI can\\'t believe my eyes, are you for real? My life before was such a mess\\nThere\\'s no use dwelling on the past\\nMy broken heart was in a cast\\nThen you showed up and it began to heal \\'Cause you\\'re the only thing that matters\\n\\'Cause you\\'re the only thing that\\'s real\\n\\'Cause you\\'re the only thing I\\'ll never let go\\n\\'Cause you\\'re the only thing I feel Someday\\nYou\\'ll come back to me\\nAnd I\\'ll say\\nSomething bitterly And you\\'ll go racing toward the kitchen\\nGrab a knife, erase my vision\\nTake my flatscreen television\\nAnd my paintings by Marilyn Manson \\'Cause you\\'re the only thing that matters\\n\\'Cause you\\'re the only thing that\\'s real\\n\\'Cause you\\'re the only thing I\\'ll never let go\\n\\'Cause you\\'re the only thing I feel \\'Cause you\\'re the only thing that matters\\n\\'Cause you\\'re the only thing that\\'s real\\n\\'Cause you\\'re the only thing I\\'ll never let go\\n\\'Cause you\\'re the only thing I feel Six bottles went down the drain\\nOne hours waste of time\\nI\\'d ask if you feel the same\\nStill pushing that chance to try\\nYour breath in this cool room chill\\nLong hair that blows side to side\\nYou speak and make time stand still\\nAnd each time walk right on by? Like violence you have me, forever, and after\\nLike violence you kill me, forever, and after Can\\'t count all the eyes that stare\\nCan\\'t count all the things they see\\nShe kills with no life to spare\\nJust victims left to bleed\\nOne drink and the pain goes down\\nSoft shadows lay by her feet\\nLay soft as you slowly drown\\nLay still while you fall asleep\\n(Fall asleep) Like violence you have me, forever, and after\\nLike violence you kill me, forever and after\\n(And after, and after, and after) Like violence you have me, forever, and after\\nLike violence you kill me,\\nLike violence you have me, forever, and after\\nLike violence you kill me Like violence you have me, forever, and after\\nLike violence you kill me, forever and after\\nLike violence you have me, forever, and after\\nLike violence you kill me, forever and after Push it out, fake a smile\\nAvert disaster just in time\\nI need a drink, cause in a while\\nWorthless answers from friends of mine\\nIt\\'s dumb to ask, cool to ignore\\nGirls possess me but they\\'re never mine\\nI made my entrance\\nAvoided hazards\\nChecked my engine I fell behind I fell behind She makes me feel like it\\'s raining outside\\nAnd when the storms gone I\\'m all torn up inside\\nI\\'m always nervous on days like this like the prom\\nI get too scared to move cause I\\'m a fuckin\\' boy Remember when I was in\\nThe grocery store, now\\'s my time\\nLost the words, lost the nerve,\\nLost the girl, left the line\\nI would wish upon a star\\nBut that star, it doesn\\'t shine\\nSo read my book, with a boring ending\\nA short story of a lonely guy Who fell behind She makes me feel like it\\'s raining outside\\nAnd when the storms gone I\\'m all torn up inside\\nI\\'m always nervous on days like this like the prom\\nI get too scared to move cause I\\'m a fuckin\\' boy She makes me feel like it\\'s raining outside\\nAnd when the storms gone I\\'m all torn up inside\\nI\\'m always nervous on days like this like the prom\\nI get too scared to move cause I\\'m still\\nJust a stupid, worthless boy She didn\\'t mean to deceive you, believe me\\nBut sometimes the hardest part is conceiving The good intentions that you had\\nNow only came to this\\nAnd although she saw the mark\\nThe arrow missed It isn\\'t exciting reciting the stories\\nOf kind words turned hurting when routine gets boring Both getting tired of punk rock clubs\\nAnd both playing in punk rock bands\\nThe start was something good\\nBut some good things must end And she said, \"It could never survive\\nWith such differing lives\\nOne home, one out on tour again We may never come back\\nThe strike of a match\\nThe candle\\'s burning at both ends.\" And now she knows too much\\nAnd I\\'m too fucked up\\nIt\\'s awkward trying to make my move I\\'ll pretend that I\\'m fine\\nShow up right on time\\nBut I know I\\'ll never be that cool I never wanted to hold you back\\nI just wanted to hold on\\nBut my chance is gone I know just where I stand, a boy\\nTrapped in the body of a man and I\\'ll take what you\\'re willing to give\\nAnd I\\'ll teach myself to live\\nWith a walk-on part of a background shot\\nFrom a movie I\\'m not in She\\'s so important\\nAnd I\\'m so retarded And now I realize\\nI should have kissed you in L.A.\\nBut I drove home all alone\\nAs if I had a choice, anyway Where are you coming from?\\nWhat are you running from?\\nIs it so hard to see? And if you\\'re feeling scared\\nRemember the time we shared\\nYou know it meant everything (everything)\\nYou know that it meant everything to me You know that it meant everything to me I think of awhile ago\\nWe might have had it all\\nBut I was so stupid then\\nYou needed time to grow\\nBut now just as things change\\nAs well my feelings do\\nIn time things rearrange\\nI am so sick of chasing you But what do I get\\n\\'Cause I just seem to lose\\nYou make me regret\\nThose times I spent with you\\nAnd playing those games\\nA I wait for your call\\nAnd now I give up,\\nSo goodbye and so long It\\'s not a change of pace\\nThis time I\\'ll get it right\\nIt\\'s not a change of taste\\nI was the one there last night You have your other friends\\nThey were there\\nWhen you cried\\nDidn\\'t mean to hurt you then\\nBest friends just won\\'t\\nLeave your side But what do I get\\n\\'Cause I just seem to lose\\nYou make me regret\\nThose times I spent with you\\nAnd playing those games\\nAs I wait for your call\\nAnd now I give up,\\nSo goodbye and so long It\\'s not a change of pace\\nThis time I\\'ll get it right\\nIt\\'s not a change of taste\\nI was the one there last night When I needed you most\\nWhen I needed a friend\\nYou let me down now\\nLike I let you down then So sorry, it\\'s over\\n(Ah) One thing / I don\\'t know why\\nIt doesn\\'t even matter how hard you try\\nKeep that in mind / I designed this rhyme\\nTo explain in due time\\nAll I know\\ntime is a valuable thing\\nWatch it fly by as the pendulum swings\\nWatch it count down to the end of the day\\nThe clock ticks life away\\nIt\\'s so unreal\\nDidn\\'t look out below\\nWatch the time go right out the window\\nTrying to hold on / but didn\\'t even know\\nWasted it all just to\\nWatch you go\\nI kept everything inside and even though I tried / it all fell apart\\nWhat it meant to me / will eventually / be a memory / of a time when I tried\\nso hard\\nAnd got so far\\nBut in the end\\nIt doesn\\'t even matter\\nI had to fall\\nTo lose it all\\nBut in the end\\nIt doesn\\'t even matter\\nOne thing / I don\\'t know why\\nIt doesn\\'t even matter how hard you try\\nKeep that in mind / I designed this rhyme\\nTo remind myself how\\nI tried so hard\\nIn spite of the way you were mocking me\\nActing like I was part of your property\\nRemembering all the times you fought with me\\nI\\'m surprised it got so (far)\\nThings aren\\'t the way they were before\\nYou wouldn\\'t even recognize me anymore\\nNot that you knew me back then\\nBut it all comes back to me\\nIn the end\\nYou kept everything inside and even though I tried / it all fell apart\\nWhat it meant to me / will eventually / be a memory / of a time when I\\nI tried so hard\\nAnd got so far\\nBut in the end\\nIt doesn\\'t even matter\\nI had to fall\\nTo lose it all\\nBut in the end\\nIt doesn\\'t even matter\\nI\\'ve put my trust in you\\nPushed as far as I can go\\nFor all this\\nThere\\'s only one thing you should know\\nI\\'ve put my trust in you\\nPushed as far as I can go\\nFor all this\\nThere\\'s only one thing you should know\\nI tried so hard\\nAnd got so far\\nBut in the end\\nIt doesn\\'t even matter\\nI had to fall\\nTo lose it all\\nBut in the end\\nIt doesn\\'t even matter I saw you again\\nI think you used me again\\nShould we try this before we give up and move on\\nAnd pretend to restore what we have and hold on\\nAt times like these\\nIt\\'s obvious\\nI saw you again\\nI know you fucked him again\\nCan you comfort yourself with a sense of revenge\\nAre you leaving me here with the taste of the end At times like these\\nIt\\'s obvious\\nAt times like these\\nIt\\'s obvious I saw you again and again and again\\nThere\\'s some room to move on, to move on, to move on\\nAnd I saw you again and again and again\\nHow do we fix this if we never have vision I saw you again and again and again\\nThere\\'s some room to move on, to move on, to move on\\nAnd I saw you again and again and again\\nHow do we fix this if we never have vision I saw you again and again and again\\nThere\\'s some room to move on, to move on, to move on\\nAnd I saw you again and again and again\\nHow do we fix this if we never have vision I saw you again and again and again\\nThere\\'s some room to move on, to move on, to move on\\nAnd I saw you again and again and again\\nHow do we fix this if we never have vision Day in day out\\nUp at 3 AM with the searchlights shining down\\nDay in day out\\nIt\\'s the blinding light underneath the dirt downtown\\nWhoa\\nListen to the sound as they bomb the Sixth Street Bridge\\nWhoa\\nListen to the sound of the voices south of Fifth In Los Angeles, when will you save me\\nLos Angeles when will you save me\\nLos Angeles, when will you save me\\nLos Angeles, I\\'m never coming home\\n(I\\'m never coming, I\\'m never coming) Come down\\nI\\'ve been awake for days\\nKnocked out\\nBy the sound of falling rain\\nCome down yeah we\\'ll watch the sun just burn away the sky\\nWatch the city lights die out up on Mulholland Drive Los Angeles, when will you save me\\nLos Angeles, when will you save me\\nLos Angeles, when will you save me\\nLos Angeles, I\\'m never coming home Wake me when this war is over\\nMeet me where the skyline ends\\nWake me when this war is over\\nMeet me where the skyline ends\\nWake me when this war is over\\nMeet me where the skyline ends Los Angeles when will you save me\\nLos Angeles when will you save me\\nLos Angeles when will you save me\\nLos Angeles I\\'m never coming home\\nI\\'m never coming home\\nI\\'m never coming home\\nI\\'m never coming home\\nI\\'m never coming home [Verse 1: Matt Skiba]\\nLate at night on mercy street\\nThe summer air is way too sweet\\nThe way I feel inside is worse than poison Washed up standing on a beach\\nSomething inside is incomplete\\nI numb the pain for one more night of mourning This is the one last time\\nI promise one last time [Chorus: Mark Hoppus (Matt Skiba)]\\n(I\\'ll take the last train home) (The last train home)\\n(I\\'ll take the last train home) (The last train home)\\n(I\\'ll take the last train home)\\nThe only time I feel alive is when I find something I would die for\\n(The last train home)\\n(I\\'ll take the last train home)\\nThe only time I feel alive is when I find something I would die for\\n(The last train home) [Verse 2: Mark Hoppus]\\nThe tidal wave and aftermath\\nI\\'m seasick from the years we\\'ve passed\\nAdrift at sea with no one left to rescue Tonic and a fifth of gin\\nShe said goodbye and left again\\nThese empty rooms are deafening without you This is one last time\\nI promise one last time [Chorus: Mark Hoppus (Matt Skiba)]\\n(I\\'ll take the last train home) (The last train home)\\n(I\\'ll take the last train home) (The last train home)\\n(I\\'ll take the last train home)\\nThe only time I feel alive is when I find something I would die for\\n(The last train home)\\n(I\\'ll take the last train home)\\nThe only time I feel alive is when I find something I would die for\\n(The last train home) [Bridge: Mark Hoppus and Matt Skiba]\\nLife\\'s so strange\\nTime won\\'t change\\nThe world slips by, I\\'m afraid that she never gave much anyway\\nLife\\'s so strange [Outro: Mark Hoppus (Matt Skiba)]\\n(I\\'ll take the last train home) (The last train home)\\n(I\\'ll take the last train home) (The last train home)\\n(I\\'ll take the last train home) (The last train home)\\n(I\\'ll take the last train home)\\nThe only time I feel alive is when I find something I would die for\\n(The last train home)\\n(I\\'ll take the last train home)\\nThe only time I feel alive is when I find something I would die for\\n(The last train home) '"
            ]
          },
          "metadata": {
            "tags": []
          },
          "execution_count": 83
        }
      ]
    },
    {
      "cell_type": "code",
      "metadata": {
        "id": "mGya6Y5jcB5K",
        "colab_type": "code",
        "colab": {
          "base_uri": "https://localhost:8080/",
          "height": 782
        },
        "outputId": "1e562b07-9ef1-4776-9dc5-c85ab4efda04"
      },
      "source": [
        "artist2id"
      ],
      "execution_count": 84,
      "outputs": [
        {
          "output_type": "execute_result",
          "data": {
            "text/plain": [
              "{'adele': 22,\n",
              " 'al-green': 23,\n",
              " 'alicia-keys': 4,\n",
              " 'amy-winehouse': 9,\n",
              " 'beatles': 41,\n",
              " 'bieber': 28,\n",
              " 'bjork': 33,\n",
              " 'blink-182': 19,\n",
              " 'bob-dylan': 1,\n",
              " 'bob-marley': 31,\n",
              " 'britney-spears': 11,\n",
              " 'bruce-springsteen': 40,\n",
              " 'bruno-mars': 14,\n",
              " 'cake': 36,\n",
              " 'dickinson': 26,\n",
              " 'disney': 37,\n",
              " 'dj-khaled': 7,\n",
              " 'dolly-parton': 2,\n",
              " 'dr-seuss': 18,\n",
              " 'drake': 43,\n",
              " 'eminem': 8,\n",
              " 'janisjoplin': 39,\n",
              " 'jimi-hendrix': 3,\n",
              " 'johnny-cash': 25,\n",
              " 'joni-mitchell': 21,\n",
              " 'kanye-west': 5,\n",
              " 'lady-gaga': 30,\n",
              " 'leonard-cohen': 38,\n",
              " 'lil-wayne': 35,\n",
              " 'lin-manuel-miranda': 17,\n",
              " 'lorde': 12,\n",
              " 'ludacris': 10,\n",
              " 'michael-jackson': 32,\n",
              " 'missy-elliott': 15,\n",
              " 'nickelback': 20,\n",
              " 'nicki-minaj': 44,\n",
              " 'nirvana': 0,\n",
              " 'notorious-big': 42,\n",
              " 'nursery_rhymes': 16,\n",
              " 'patti-smith': 24,\n",
              " 'paul-simon': 27,\n",
              " 'prince': 34,\n",
              " 'r-kelly': 29,\n",
              " 'radiohead': 13,\n",
              " 'rihanna': 6}"
            ]
          },
          "metadata": {
            "tags": []
          },
          "execution_count": 84
        }
      ]
    },
    {
      "cell_type": "markdown",
      "metadata": {
        "id": "biw4MdMOORRA",
        "colab_type": "text"
      },
      "source": [
        "# Corpus"
      ]
    },
    {
      "cell_type": "code",
      "metadata": {
        "id": "G6iglFY1Zsn_",
        "colab_type": "code",
        "colab": {}
      },
      "source": [
        "def read_corpus(artist_lyrics, tokens_only=False):\n",
        "  for artist, lyrics in artist_lyrics.items():\n",
        "      tokens = gensim.utils.simple_preprocess(lyrics)\n",
        "      artist_id = artist2id[artist]\n",
        "\n",
        "      if tokens_only:\n",
        "          yield tokens\n",
        "      else:\n",
        "          # For training data, add tags\n",
        "          yield gensim.models.doc2vec.TaggedDocument(tokens, [artist_id])\n",
        "\n",
        "\n",
        "def split_train_test_corpus(corpus, split=0.75):\n",
        "  train = []\n",
        "  test  = []\n",
        "\n",
        "  for words, artist_id in corpus:\n",
        "    train_len = int(len(words) * split)\n",
        "    train_c = words[0: train_len]\n",
        "    test_c  = words[train_len: ]\n",
        "\n",
        "    train.append(gensim.models.doc2vec.TaggedDocument(train_c, artist_id))\n",
        "    test.append(gensim.models.doc2vec.TaggedDocument(test_c, artist_id))\n",
        "  \n",
        "  return train, test\n",
        "\n",
        "corpus = list(read_corpus(artist2lyrics))\n",
        "train_corpus, test_corpus = split_train_test_corpus(corpus)"
      ],
      "execution_count": 85,
      "outputs": []
    },
    {
      "cell_type": "code",
      "metadata": {
        "id": "GJmxeY4vagmU",
        "colab_type": "code",
        "colab": {
          "base_uri": "https://localhost:8080/",
          "height": 71
        },
        "outputId": "ee7961f2-7c88-48f9-9cc9-19954846e499"
      },
      "source": [
        "train_corpus[:2]"
      ],
      "execution_count": 86,
      "outputs": [
        {
          "output_type": "execute_result",
          "data": {
            "text/plain": [
              "[TaggedDocument(words=['load', 'up', 'on', 'guns', 'bring', 'your', 'friends', 'it', 'fun', 'to', 'lose', 'and', 'to', 'pretend', 'she', 'over', 'bored', 'and', 'self', 'assured', 'oh', 'no', 'know', 'dirty', 'word', 'hello', 'hello', 'hello', 'how', 'low', 'hello', 'hello', 'hello', 'how', 'low', 'hello', 'hello', 'hello', 'how', 'low', 'hello', 'hello', 'hello', 'with', 'the', 'lights', 'out', 'it', 'less', 'dangerous', 'here', 'we', 'are', 'now', 'entertain', 'us', 'feel', 'stupid', 'and', 'contagious', 'here', 'we', 'are', 'now', 'entertain', 'us', 'mulatto', 'an', 'albino', 'mosquito', 'my', 'libido', 'yeah', 'hey', 'worse', 'at', 'what', 'do', 'best', 'and', 'for', 'this', 'gift', 'feel', 'blessed', 'our', 'little', 'group', 'has', 'always', 'been', 'and', 'always', 'will', 'until', 'the', 'end', 'hello', 'hello', 'hello', 'how', 'low', 'hello', 'hello', 'hello', 'how', 'low', 'hello', 'hello', 'hello', 'how', 'low', 'hello', 'hello', 'hello', 'with', 'the', 'lights', 'out', 'it', 'less', 'dangerous', 'here', 'we', 'are', 'now', 'entertain', 'us', 'feel', 'stupid', 'and', 'contagious', 'here', 'we', 'are', 'now', 'entertain', 'us', 'mulatto', 'an', 'albino', 'mosquito', 'my', 'libido', 'yeah', 'hey', 'yeh', 'and', 'forget', 'just', 'why', 'taste', 'oh', 'yeah', 'guess', 'it', 'makes', 'me', 'smile', 'found', 'it', 'hard', 'it', 'hard', 'to', 'find', 'oh', 'well', 'whatever', 'never', 'mind', 'hello', 'hello', 'hello', 'how', 'low', 'hello', 'hello', 'hello', 'how', 'low', 'hello', 'hello', 'hello', 'how', 'low', 'hello', 'hello', 'hello', 'with', 'the', 'lights', 'out', 'it', 'less', 'dangerous', 'here', 'we', 'are', 'now', 'entertain', 'us', 'feel', 'stupid', 'and', 'contagious', 'here', 'we', 'are', 'now', 'entertain', 'us', 'mulatto', 'an', 'albino', 'mosquito', 'my', 'libido', 'denial', 'denial', 'denial', 'denial', 'denial', 'denial', 'denial', 'denial', 'denial', 'what', 'else', 'should', 'be', 'all', 'apologies', 'what', 'else', 'could', 'say', 'everyone', 'is', 'gay', 'what', 'else', 'could', 'write', 'don', 'have', 'the', 'right', 'what', 'else', 'should', 'be', 'all', 'apologies', 'in', 'the', 'sun', 'in', 'the', 'sun', 'feel', 'as', 'one', 'in', 'the', 'sun', 'in', 'the', 'sun', 'married', 'buried', 'wish', 'was', 'like', 'you', 'easily', 'amused', 'find', 'my', 'nest', 'of', 'salt', 'everything', 'my', 'fault', 'take', 'all', 'the', 'blame', 'aqua', 'seafoam', 'shame', 'sunburn', 'freezer', 'burn', 'choking', 'on', 'the', 'ashes', 'of', 'her', 'enemy', 'in', 'the', 'sun', 'in', 'the', 'sun', 'feel', 'as', 'one', 'in', 'the', 'sun', 'in', 'the', 'sun', 'married', 'married', 'married', 'buried', 'hangin', 'round', 'downtown', 'by', 'myself', 'and', 'had', 'so', 'much', 'time', 'to', 'sit', 'and', 'think', 'about', 'myself', 'and', 'then', 'there', 'she', 'was', 'like', 'double', 'cherry', 'pie', 'yeah', 'there', 'she', 'was', 'like', 'disco', 'superfly', 'smell', 'sex', 'and', 'candy', 'here', 'who', 'that', 'lounging', 'in', 'my', 'chair', 'who', 'that', 'casting', 'devious', 'stares', 'in', 'my', 'direction', 'mama', 'this', 'surely', 'is', 'dream', 'yeah', 'yeah', 'mama', 'this', 'surely', 'is', 'dream', 'dig', 'it', 'hangin', 'round', 'downtown', 'by', 'myself', 'and', 'had', 'too', 'much', 'caffeine', 'and', 'was', 'thinkin', 'bout', 'myself', 'and', 'then', 'there', 'she', 'was', 'in', 'platform', 'double', 'suede', 'yeah', 'there', 'she', 'was', 'like', 'disco', 'lemonade', 'smell', 'sex', 'and', 'candy', 'here', 'who', 'that', 'lounging', 'in', 'my', 'chair', 'who', 'that', 'casting', 'devious', 'stares', 'in', 'my', 'direction', 'mama', 'this', 'surely', 'is', 'dream', 'yeah', 'yeah', 'mama', 'this', 'surely', 'is', 'dream', 'dig', 'it', 'yeah', 'mama', 'this', 'surely', 'is', 'dream', 'yeah', 'come', 'as', 'you', 'are', 'as', 'you', 'were', 'as', 'want', 'you', 'to', 'be', 'as', 'friend', 'as', 'friend', 'as', 'an', 'known', 'enemy', 'take', 'your', 'time', 'hurry', 'up', 'the', 'choice', 'is', 'yours', 'don', 'be', 'late', 'take', 'rest', 'as', 'friend', 'as', 'an', 'old', 'memoria', 'memoria', 'memoria', 'memoria', 'come', 'doused', 'in', 'mud', 'soaked', 'in', 'bleach', 'as', 'want', 'you', 'to', 'be', 'as', 'trend', 'as', 'friend', 'as', 'an', 'old', 'memoria', 'memoria', 'memoria', 'memoria', 'and', 'swear', 'that', 'don', 'have', 'gun', 'no', 'don', 'have', 'gun', 'no', 'don', 'have', 'gun', 'memoria', 'memoria', 'memoria', 'memoria', 'no', 'don', 'have', 'gun', 'and', 'swear', 'that', 'don', 'have', 'gun', 'no', 'don', 'have', 'gun', 'no', 'don', 'have', 'gun', 'no', 'don', 'have', 'gun', 'no', 'don', 'have', 'gun', 'memoria', 'memoria', 'load', 'up', 'on', 'guns', 'bring', 'your', 'friends', 'it', 'fun', 'to', 'lose', 'and', 'to', 'pretend', 'she', 'over', 'bored', 'and', 'self', 'assured', 'oh', 'no', 'know', 'dirty', 'word', 'hello', 'hello', 'hello', 'how', 'low', 'hello', 'hello', 'hello', 'how', 'low', 'hello', 'hello', 'hello', 'how', 'low', 'hello', 'hello', 'hello', 'with', 'the', 'lights', 'out', 'it', 'less', 'dangerous', 'here', 'we', 'are', 'now', 'entertain', 'us', 'feel', 'stupid', 'and', 'contagious', 'here', 'we', 'are', 'now', 'entertain', 'us', 'mulatto', 'an', 'albino', 'mosquito', 'my', 'libido', 'yeah', 'hey', 'worse', 'at', 'what', 'do', 'best', 'and', 'for', 'this', 'gift', 'feel', 'blessed', 'our', 'little', 'group', 'has', 'always', 'been', 'and', 'always', 'will', 'until', 'the', 'end', 'hello', 'hello', 'hello', 'how', 'low', 'hello', 'hello', 'hello', 'how', 'low', 'hello', 'hello', 'hello', 'how', 'low', 'hello', 'hello', 'hello', 'with', 'the', 'lights', 'out', 'it', 'less', 'dangerous', 'here', 'we', 'are', 'now', 'entertain', 'us', 'feel', 'stupid', 'and', 'contagious', 'here', 'we', 'are', 'now', 'entertain', 'us', 'mulatto', 'an', 'albino', 'mosquito', 'my', 'libido', 'yeah', 'hey', 'yeh', 'and', 'forget', 'just', 'why', 'taste', 'oh', 'yeah', 'guess', 'it', 'makes', 'me', 'smile', 'found', 'it', 'hard', 'it', 'hard', 'to', 'find', 'oh', 'well', 'whatever', 'never', 'mind', 'hello', 'hello', 'hello', 'how', 'low', 'hello', 'hello', 'hello', 'how', 'low', 'hello', 'hello', 'hello', 'how', 'low', 'hello', 'hello', 'hello', 'with', 'the', 'lights', 'out', 'it', 'less', 'dangerous', 'here', 'we', 'are', 'now', 'entertain', 'us', 'feel', 'stupid', 'and', 'contagious', 'here', 'we', 'are', 'now', 'entertain', 'us', 'mulatto', 'an', 'albino', 'mosquito', 'my', 'libido', 'denial', 'denial', 'denial', 'denial', 'denial', 'denial', 'denial', 'denial', 'denial', 'what', 'else', 'should', 'be', 'all', 'apologies', 'what', 'else', 'could', 'say', 'everyone', 'is', 'gay', 'what', 'else', 'could', 'write', 'don', 'have', 'the', 'right', 'what', 'else', 'should', 'be', 'all', 'apologies', 'in', 'the', 'sun', 'in', 'the', 'sun', 'feel', 'as', 'one', 'in', 'the', 'sun', 'in', 'the', 'sun', 'married', 'buried', 'wish', 'was', 'like', 'you', 'easily', 'amused', 'find', 'my', 'nest', 'of', 'salt', 'everything', 'my', 'fault', 'take', 'all', 'the', 'blame', 'aqua', 'seafoam', 'shame', 'sunburn', 'freezer', 'burn', 'choking', 'on', 'the', 'ashes', 'of', 'her', 'enemy', 'in', 'the', 'sun', 'in', 'the', 'sun', 'feel', 'as', 'one', 'in', 'the', 'sun', 'in', 'the', 'sun', 'married', 'married', 'married', 'buried', 'hangin', 'round', 'downtown', 'by', 'myself', 'and', 'had', 'so', 'much', 'time', 'to', 'sit', 'and', 'think', 'about', 'myself', 'and', 'then', 'there', 'she', 'was', 'like', 'double', 'cherry', 'pie', 'yeah', 'there', 'she', 'was', 'like', 'disco', 'superfly', 'smell', 'sex', 'and', 'candy', 'here', 'who', 'that', 'lounging', 'in', 'my', 'chair', 'who', 'that', 'casting', 'devious', 'stares', 'in', 'my', 'direction', 'mama', 'this', 'surely', 'is', 'dream', 'yeah', 'yeah', 'mama', 'this', 'surely', 'is', 'dream', 'dig', 'it', 'hangin', 'round', 'downtown', 'by', 'myself', 'and', 'had', 'too', 'much', 'caffeine', 'and', 'was', 'thinkin', 'bout', 'myself', 'and', 'then', 'there', 'she', 'was', 'in', 'platform', 'double', 'suede', 'yeah', 'there', 'she', 'was', 'like', 'disco', 'lemonade', 'smell', 'sex', 'and', 'candy', 'here', 'who', 'that', 'lounging', 'in', 'my', 'chair', 'who', 'that', 'casting', 'devious', 'stares', 'in', 'my', 'direction', 'mama', 'this', 'surely', 'is', 'dream', 'yeah', 'yeah', 'mama', 'this', 'surely', 'is', 'dream', 'dig', 'it', 'yeah', 'mama', 'this', 'surely', 'is', 'dream', 'yeah', 'come', 'as', 'you', 'are', 'as', 'you', 'were', 'as', 'want', 'you', 'to', 'be', 'as', 'friend', 'as', 'friend', 'as', 'an', 'known', 'enemy', 'take', 'your', 'time', 'hurry', 'up', 'the', 'choice', 'is', 'yours', 'don', 'be', 'late', 'take', 'rest', 'as', 'friend', 'as', 'an', 'old', 'memoria', 'memoria', 'memoria', 'memoria', 'come', 'doused', 'in', 'mud', 'soaked', 'in', 'bleach', 'as', 'want', 'you', 'to', 'be', 'as', 'trend', 'as', 'friend', 'as', 'an', 'old', 'memoria', 'memoria', 'memoria', 'memoria', 'and', 'swear', 'that', 'don', 'have', 'gun', 'no', 'don', 'have', 'gun', 'no', 'don', 'have', 'gun', 'memoria', 'memoria', 'memoria', 'memoria', 'no', 'don', 'have', 'gun', 'and', 'swear', 'that', 'don', 'have', 'gun', 'no', 'don', 'have', 'gun', 'no', 'don', 'have', 'gun', 'no', 'don', 'have', 'gun', 'no', 'don', 'have', 'gun', 'memoria', 'memoria', 'she', 'eyes', 'me', 'like', 'pisces', 'when', 'am', 'weak', 've', 'been', 'locked', 'inside', 'your', 'heart', 'shaped', 'box', 'for', 'weeks', 've', 'been', 'drawn', 'into', 'your', 'magnetar', 'pit', 'trap', 'trap', 'wish', 'could', 'eat', 'your', 'cancer', 'when', 'you', 'turn', 'black', 'hey', 'wait', 've', 'got', 'new', 'complaint', 'forever', 'in', 'debt', 'to', 'your', 'priceless', 'advice', 'hey', 'wait', 've', 'got', 'new', 'complaint', 'forever', 'in', 'debt', 'to', 'your', 'priceless', 'advice', 'hey', 'wait', 've', 'got', 'new', 'complaint', 'forever', 'in', 'debt', 'to', 'your', 'priceless', 'advice', 'your', 'advice', 'meat', 'eating', 'orchids', 'forgive', 'no', 'one', 'just', 'yet', 'cut', 'myself', 'on', 'angel', 'hair', 'and', 'baby', 'breath', 'broken', 'hymen', 'of', 'your', 'highness', 'left', 'back', 'throw', 'down', 'your', 'umbilical', 'noose', 'so', 'can', 'climb', 'right', 'back', 'hey', 'wait', 've', 'got', 'new', 'complaint', 'forever', 'in', 'debt', 'to', 'your', 'priceless', 'advice', 'hey', 'wait', 've', 'got', 'new', 'complaint', 'forever', 'in', 'debt', 'to', 'your', 'priceless', 'advice', 'hey', 'wait', 've', 'got', 'new', 'complaint', 'forever', 'in', 'debt', 'to', 'your', 'priceless', 'advice', 'your', 'advice', 'she', 'eyes', 'me', 'like', 'pisces', 'when', 'am', 'weak', 've', 'been', 'locked', 'inside', 'your', 'heart', 'shaped', 'box', 'for', 'weeks', 've', 'been', 'drawn', 'into', 'your', 'magnetar', 'pit', 'trap', 'trap', 'wish', 'could', 'eat', 'your', 'cancer', 'when', 'you', 'turn', 'black', 'hey', 'wait', 've', 'got', 'new', 'complaint', 'forever', 'in', 'debt', 'to', 'your', 'priceless', 'advice', 'hey', 'wait', 've', 'got', 'new', 'complaint', 'forever', 'in', 'debt', 'to', 'your', 'priceless', 'advice', 'hey', 'wait', 've', 'got', 'new', 'complaint', 'forever', 'in', 'debt', 'to', 'your', 'priceless', 'advice', 'your', 'advice', 'your', 'advice', 'your', 'advice', 'so', 'happy', 'because', 'today', 've', 'found', 'my', 'friends', 'they', 're', 'in', 'my', 'head', 'so', 'ugly', 'but', 'that', 'okay', 'cause', 'so', 'are', 'you', 'we', 've', 'broken', 'our', 'mirrors', 'sunday', 'morning', 'is', 'everyday', 'for', 'all', 'care', 'and', 'not', 'scared', 'light', 'my', 'candles', 'in', 'daze', 'cause', 've', 'found', 'god', 'hey', 'hey', 'hey', 'so', 'lonely', 'but', 'that', 'okay', 'shaved', 'my', 'head', 'and', 'not', 'sad', 'and', 'just', 'maybe', 'to', 'blame', 'for', 'all', 've', 'heard', 'but', 'not', 'sure', 'so', 'excited', 'can', 'wait', 'to', 'meet', 'you', 'there', 'but', 'don', 'care', 'so', 'horny', 'but', 'that', 'okay', 'my', 'will', 'is', 'good', 'hey', 'hey', 'hey', 'like', 'it', 'not', 'gonna', 'crack', 'miss', 'you', 'not', 'gonna', 'crack', 'love', 'you', 'not', 'gonna', 'crack', 'killed', 'you', 'not', 'gonna', 'crack', 'like', 'it', 'not', 'gonna', 'crack', 'miss', 'you', 'not', 'gonna', 'crack', 'love', 'you', 'not', 'gonna', 'crack', 'killed', 'you', 'not', 'gonna', 'crack', 'so', 'happy', 'cause', 'today', 've', 'found', 'my', 'friends', 'they', 're', 'in', 'my', 'head', 'so', 'ugly', 'that', 'okay', 'cause', 'so', 'are', 'you', 'broke', 'our', 'mirrors', 'sunday', 'morning', 'is', 'everyday', 'for', 'all', 'care', 'and', 'not', 'scared', 'light', 'my', 'candles', 'in', 'daze', 'cause', 've', 'found', 'god', 'yeah', 'yeah', 'yeah', 'yeah', 'yeah', 'yeah', 'yeah', 'yeah', 'yeah', 'yeah', 'yeah', 'yeah', 'yeah', 'like', 'it', 'not', 'gonna', 'crack', 'miss', 'you', 'not', 'gonna', 'crack', 'love', 'you', 'not', 'gonna', 'crack', 'killed', 'you', 'not', 'gonna', 'crack', 'like', 'it', 'not', 'gonna', 'crack', 'miss', 'you', 'not', 'gonna', 'crack', 'love', 'you', 'not', 'gonna', 'crack', 'killed', 'you', 'not', 'gonna', 'crack', 'we', 'passed', 'upon', 'the', 'stair', 'we', 'spoke', 'of', 'was', 'and', 'when', 'although', 'wasn', 'there', 'he', 'said', 'was', 'his', 'friend', 'which', 'came', 'as', 'some', 'surprise', 'spoke', 'into', 'his', 'eyes', 'thought', 'you', 'died', 'alone', 'long', 'long', 'time', 'ago', 'oh', 'no', 'not', 'me', 'never', 'lost', 'control', 'you', 're', 'face', 'to', 'face', 'with', 'the', 'man', 'who', 'sold', 'the', 'world', 'laughed', 'and', 'shook', 'his', 'hand', 'and', 'made', 'my', 'way', 'back', 'home', 'searched', 'for', 'form', 'and', 'land', 'for', 'years', 'and', 'years', 'roamed', 'gazed', 'gazley', 'stare', 'at', 'all', 'the', 'millions', 'here', 'we', 'must', 'have', 'died', 'along', 'long', 'long', 'time', 'ago', 'who', 'knows', 'not', 'me', 'we', 'never', 'lost', 'control', 'you', 're', 'face', 'to', 'face', 'with', 'the', 'man', 'who', 'sold', 'the', 'world', 'polly', 'wants', 'cracker', 'think', 'should', 'get', 'off', 'her', 'first', 'think', 'she', 'wants', 'some', 'water', 'to', 'put', 'out', 'the', 'blow', 'torch', 'it', 'isn', 'me', 'we', 'have', 'some', 'seed', 'let', 'me', 'clip', 'your', 'dirty', 'wings', 'let', 'me', 'take', 'ride', 'don', 'cut', 'yourself', 'want', 'some', 'help', 'to', 'please', 'myself', 've', 'got', 'some', 'rope', 'you', 'have', 'been', 'told', 'promise', 'you', 'have', 'been', 'true', 'let', 'me', 'take', 'ride', 'don', 'cut', 'yourself', 'want', 'some', 'help', 'to', 'please', 'myself', 'polly', 'wants', 'cracker', 'maybe', 'she', 'would', 'like', 'some', 'food', 'she', 'asks', 'me', 'to', 'untie', 'her', 'chase', 'would', 'be', 'nice', 'for', 'few', 'it', 'isn', 'me', 'we', 'have', 'some', 'seed', 'let', 'me', 'clip', 'your', 'dirty', 'wings', 'let', 'me', 'take', 'ride', 'don', 'cut', 'yourself', 'want', 'some', 'help', 'to', 'please', 'myself', 've', 'got', 'some', 'rope', 'you', 'have', 'been', 'told', 'promise', 'you', 'have', 'been', 'true', 'let', 'me', 'take', 'ride', 'don', 'cut', 'yourself', 'want', 'some', 'help', 'to', 'please', 'myself', 'polly', 'said', 'polly', 'says', 'her', 'back', 'hurts', 'and', 'she', 'just', 'as', 'bored', 'as', 'me', 'she', 'caught', 'me', 'off', 'my', 'guard', 'it', 'amazes', 'me', 'the', 'will', 'of', 'instinct', 'it', 'isn', 'me', 'we', 'have', 'some', 'seed', 'let', 'me', 'clip', 'your', 'dirty', 'wings', 'let', 'me', 'take', 'ride', 'don', 'cut', 'yourself', 'want', 'some', 'help', 'to', 'please', 'myself', 've', 'got', 'some', 'rope', 'you', 'have', 'been', 'told', 'promise', 'you', 'have', 'been', 'true', 'let', 'me', 'take', 'ride', 'don', 'cut', 'yourself', 'want', 'some', 'help', 'to', 'please', 'myself', 'need', 'an', 'easy', 'friend', 'do', 'with', 'an', 'ear', 'to', 'lend', 'don', 'think', 'you', 'fit', 'this', 'shoe', 'do', 'won', 'you', 'have', 'clue', 'll', 'take', 'advantage', 'while', 'you', 'hang', 'me', 'out', 'to', 'dry', 'but', 'can', 'see', 'you', 'every', 'night', 'free', 'standing', 'in', 'your', 'line', 'do', 'hope', 'you', 'have', 'the', 'time', 'do', 'pick', 'number', 'too', 'do', 'keep', 'date', 'with', 'you', 'll', 'take', 'advantage', 'while', 'you', 'hang', 'me', 'out', 'to', 'dry', 'but', 'can', 'see', 'you', 'every', 'night', 'free', 'need', 'an', 'easy', 'friend', 'do', 'whip', 'her', 'in', 'to', 'land', 'do', 'think', 'you', 'fit', 'this', 'shoe', 'do', 'won', 'you', 'have', 'clue', 'll', 'take', 'advantage', 'while', 'you', 'hang', 'me', 'out', 'to', 'dry', 'but', 'can', 'see', 'you', 'every', 'night', 'no', 'can', 'see', 'you', 'every', 'night', 'free', 'do', 'do', 'do', 'do', 'my', 'girl', 'my', 'girl', 'don', 'lie', 'to', 'me', 'tell', 'me', 'where', 'did', 'you', 'sleep', 'last', 'night', 'in', 'the', 'pines', 'in', 'the', 'pines', 'where', 'the', 'sun', 'will', 'never', 'shine', 'would', 'shiver', 'the', 'whole', 'night', 'through', 'my', 'girl', 'my', 'girl', 'where', 'will', 'you', 'go', 'going', 'where', 'the', 'cold', 'wind', 'blows', 'in', 'the', 'pines', 'in', 'the', 'pines', 'where', 'the', 'sun', 'will', 'never', 'shine', 'would', 'shiver', 'the', 'whole', 'night', 'through', 'her', 'husband', 'was', 'hard', 'working', 'man', 'just', 'about', 'mile', 'from', 'here', 'his', 'head', 'was', 'found', 'in', 'driving', 'wheel', 'but', 'his', 'body', 'never', 'was', 'found', 'my', 'girl', 'my', 'girl', 'don', 'lie', 'to', 'me', 'tell', 'me', 'where', 'did', 'you', 'sleep', 'last', 'night', 'in', 'the', 'pines', 'in', 'the', 'pines', 'where', 'the', 'sun', 'will', 'never', 'shine', 'would', 'shiver', 'the', 'whole', 'night', 'through', 'my', 'girl', 'my', 'girl', 'where', 'will', 'you', 'go', 'going', 'where', 'the', 'cold', 'wind', 'blows', 'in', 'the', 'pines', 'in', 'the', 'pines', 'where', 'the', 'sun', 'will', 'never', 'shine', 'would', 'shiver', 'the', 'whole', 'night', 'through', 'rape', 'me', 'rape', 'me', 'my', 'friend', 'rape', 'me', 'rape', 'me', 'again', 'not', 'the', 'only', 'one', 'not', 'the', 'only', 'one', 'not', 'the', 'only', 'one', 'not', 'the', 'only', 'one', 'hate', 'me', 'do', 'it', 'and', 'do', 'it', 'again', 'waste', 'me', 'rape', 'me', 'my', 'friend', 'not', 'the', 'only', 'one', 'not', 'the', 'only', 'one', 'not', 'the', 'only', 'one', 'not', 'the', 'only', 'one', 'my', 'favorite', 'inside', 'source', 'll', 'kiss', 'your', 'open', 'sores', 'appreciate', 'your', 'concern', 'you', 're', 'gonna', 'stink', 'and', 'burn', 'rape', 'me', 'rape', 'me', 'my', 'friend', 'rape', 'me', 'rape', 'me', 'again', 'not', 'the', 'only', 'one', 'not', 'the', 'only', 'one', 'not', 'the', 'only', 'one', 'not', 'the', 'only', 'one', 'load', 'up', 'on', 'guns', 'bring', 'your', 'friends', 'it', 'fun', 'to', 'lose', 'and', 'to', 'pretend', 'she', 'overbored', 'self', 'assured', 'and', 'all', 'know', 'are', 'dirty', 'words', 'hello', 'hello', 'hello', 'how', 'low', 'hello', 'hello', 'hello', 'how', 'low', 'hello', 'hello', 'hello', 'how', 'low', 'hello', 'hello', 'hello', 'how', 'low', 'with', 'the', 'lights', 'out', 'it', 'less', 'dangerous', 'here', 'we', 'are', 'now', 'entertain', 'us', 'feel', 'stupid', 'and', 'contagious', 'here', 'we', 'are', 'now', 'entertain', 'us', 'yeah', 'yeah', 'yeah', 'worse', 'at', 'what', 'do', 'best', 'and', 'for', 'this', 'gift', 'feel', 'blessed', 'our', 'little', 'group', 'has', 'always', 'been', 'and', 'always', 'will', 'until', 'the', 'end', 'hello', 'hello', 'hello', 'how', 'low', 'hello', 'hello', 'hello', 'how', 'low', 'hello', 'hello', 'hello', 'how', 'low', 'hello', 'hello', 'hello', 'how', 'low', 'with', 'the', 'lights', 'out', 'it', 'less', 'dangerous', 'here', 'we', 'are', 'now', 'entertain', 'us', 'feel', 'stupid', 'and', 'contagious', 'here', 'we', 'are', 'now', 'entertain', 'us', 'yeah', 'yeah', 'yeah', 'and', 'forget', 'just', 'why', 'taste', 'oh', 'yeah', 'guess', 'it', 'makes', 'me', 'smile', 'found', 'it', 'hard', 'hard', 'to', 'find', 'oh', 'well', 'whatever', 'never', 'mind', 'hello', 'hello', 'hello', 'how', 'low', 'hello', 'hello', 'hello', 'how', 'low', 'hello', 'hello', 'hello', 'how', 'low', 'hello', 'hello', 'hello', 'how', 'low', 'with', 'the', 'lights', 'out', 'it', 'less', 'dangerous', 'here', 'we', 'are', 'now', 'entertain', 'us', 'feel', 'stupid', 'and', 'contagious', 'here', 'we', 'are', 'now', 'entertain', 'us', 'mullato', 'an', 'albino', 'denial', 'denial', 'denial', 'denial', 'denial', 'denial', 'denial', 'denial', 'verse', 'forward', 'yesterday', 'makes', 'me', 'wanna', 'stay', 'what', 'they', 'said', 'was', 'real', 'makes', 'me', 'wanna', 'steal', 'livin', 'under', 'house', 'guess', 'livin', 'mouse', 'all', 'gots', 'is', 'time', 'got', 'no', 'meaning', 'just', 'rhyme', 'chorus', 'take', 'time', 'with', 'wounded', 'hand', 'cause', 'it', 'likes', 'to', 'heal', 'take', 'time', 'with', 'wounded', 'hand', 'cause', 'like', 'to', 'steal', 'take', 'time', 'with', 'wounded', 'hand', 'cause', 'it', 'likes', 'to', 'heal', 'like', 'to', 'steal', 'half', 'the', 'man', 'used', 'to', 'be', 'this', 'feel', 'as', 'the', 'dawn', 'it', 'fades', 'to', 'gray', 'well', 'half', 'the', 'man', 'used', 'to', 'be', 'this', 'feel', 'as', 'the', 'dawn', 'it', 'fades', 'to', 'gray', 'well', 'half', 'the', 'man', 'used', 'to', 'be', 'this', 'feel', 'as', 'the', 'dawn', 'it', 'fades', 'to', 'gray', 'well', 'half', 'the', 'man', 'used', 'to', 'be', 'half', 'the', 'man', 'used', 'to', 'be', 'verse', 'feelin', 'uninspired', 'think', 'll', 'start', 'fire', 'everybody', 'run', 'bobby', 'got', 'gun', 'think', 'you', 're', 'kinda', 'neat', 'then', 'she', 'tells', 'me', 'creep', 'friends', 'don', 'mean', 'thing', 'guess', 'll', 'leave', 'it', 'up', 'to', 'me', 'chorus', 'take', 'time', 'with', 'wounded', 'hand', 'cause', 'it', 'likes', 'to', 'heal', 'take', 'time', 'with', 'wounded', 'hand', 'cause', 'like', 'to', 'steal', 'take', 'time', 'with', 'wounded', 'hand', 'cause', 'it', 'likes', 'to', 'heal', 'like', 'to', 'steal', 'half', 'the', 'man', 'used', 'to', 'be', 'this', 'feel', 'as', 'the', 'dawn', 'it', 'fades', 'to', 'gray', 'well', 'half', 'the', 'man', 'used', 'to', 'be', 'this', 'feel', 'as', 'the', 'dawn', 'it', 'fades', 'to', 'gray', 'well', 'half', 'the', 'man', 'used', 'to', 'be', 'this', 'feel', 'as', 'the', 'dawn', 'it', 'fades', 'to', 'gray', 'well', 'half', 'the', 'man', 'used', 'to', 'be', 'half', 'the', 'man', 'used', 'to', 'be', 'sell', 'the', 'kids', 'for', 'food', 'weather', 'changes', 'moods', 'spring', 'is', 'here', 'again', 'reproductive', 'glands', 'he', 'the', 'one', 'who', 'like', 'all', 'our', 'pretty', 'songs', 'and', 'he', 'likes', 'to', 'sing', 'along', 'and', 'he', 'likes', 'to', 'shoot', 'his', 'gun', 'but', 'he', 'don', 'know', 'what', 'it', 'means', 'don', 'know', 'what', 'it', 'means', 'and', 'say', 'he', 'the', 'one', 'who', 'like', 'all', 'our', 'pretty', 'songs', 'and', 'he', 'likes', 'to', 'sing', 'along', 'and', 'he', 'likes', 'to', 'shoot', 'his', 'gun', 'but', 'he', 'don', 'know', 'what', 'it', 'means', 'don', 'know', 'what', 'it', 'means', 'and', 'say', 'yeah', 'we', 'can', 'have', 'some', 'more', 'nature', 'is', 'whore', 'bruises', 'on', 'the', 'fruit', 'tender', 'age', 'in', 'bloom', 'he', 'the', 'one', 'who', 'like', 'all', 'our', 'pretty', 'songs', 'and', 'he', 'likes', 'to', 'sing', 'along', 'and', 'he', 'likes', 'to', 'shoot', 'his', 'gun', 'but', 'he', 'don', 'know', 'what', 'it', 'means', 'don', 'know', 'what', 'it', 'means', 'and', 'say', 'he', 'the', 'one', 'who', 'like', 'all', 'our', 'pretty', 'songs', 'and', 'he', 'likes', 'to', 'sing', 'along', 'and', 'he', 'likes', 'to', 'shoot', 'his', 'gun', 'but', 'he', 'don', 'know', 'what', 'it', 'means', 'don', 'know', 'what', 'it', 'means', 'and', 'say', 'yeah', 'not', 'like', 'them', 'but', 'can', 'pretend', 'the', 'sun', 'is', 'gone', 'but', 'have', 'light', 'the', 'day', 'is', 'done', 'but', 'having', 'fun', 'think', 'dumb', 'or', 'maybe', 'just', 'happy', 'think', 'just', 'happy', 'my', 'heart', 'is', 'broke', 'but', 'have', 'some', 'glue', 'help', 'me', 'inhale', 'and', 'mend', 'it', 'with', 'you', 'we', 'll', 'float', 'around', 'and', 'hang', 'out', 'on', 'clouds', 'then', 'we', 'll', 'come', 'down', 'and', 'have', 'hangover', 'have', 'hangover', 'skin', 'the', 'sun', 'fall', 'asleep', 'wish', 'away', 'the', 'soul', 'is', 'cheap', 'lesson', 'learned', 'wish', 'me', 'luck', 'soothe', 'the', 'burn', 'wake', 'me', 'up', 'not', 'like', 'them', 'but', 'can', 'pretend', 'the', 'sun', 'is', 'gone', 'but', 'have', 'light', 'the', 'day', 'is', 'done', 'but', 'having', 'fun', 'my', 'girl', 'my', 'girl', 'don', 'lie', 'to', 'me', 'tell', 'me', 'where', 'did', 'you', 'sleep', 'last', 'night', 'in', 'the', 'pines', 'in', 'the', 'pines', 'where', 'the', 'sun', 'don', 'ever', 'shine', 'would', 'shiver', 'the', 'whole', 'night', 'through', 'my', 'girl', 'my', 'girl', 'where', 'will', 'you', 'go', 'going', 'where', 'the', 'cold', 'wind', 'blows', 'in', 'the', 'pines', 'in', 'the', 'pines', 'where', 'the', 'sun', 'don', 'ever', 'shine', 'would', 'shiver', 'the', 'whole', 'night', 'through', 'her', 'husband', 'was', 'hard', 'working', 'man', 'just', 'about', 'mile', 'from', 'here', 'his', 'head', 'was', 'found', 'in', 'driving', 'wheel', 'but', 'his', 'body', 'never', 'was', 'found', 'my', 'girl', 'my', 'girl', 'don', 'lie', 'to', 'me', 'tell', 'me', 'where', 'did', 'you', 'sleep', 'last', 'night', 'in', 'the', 'pines', 'in', 'the', 'pines', 'where', 'the', 'sun', 'don', 'ever', 'shine', 'would', 'shiver', 'the', 'whole', 'night', 'through', 'my', 'girl', 'my', 'girl', 'where', 'will', 'you', 'go', 'going', 'where', 'the', 'cold', 'wind', 'blows', 'in', 'the', 'pines', 'in', 'the', 'pines', 'where', 'the', 'sun', 'don', 'ever', 'shine', 'would', 'shiver', 'the', 'whole', 'night', 'through', 'my', 'girl', 'my', 'girl', 'don', 'lie', 'to', 'me', 'tell', 'me', 'where', 'did', 'you', 'sleep', 'last', 'night', 'in', 'the', 'pines', 'in', 'the', 'pines', 'where', 'the', 'sun', 'don', 'ever', 'shine', 'would', 'shiver', 'the', 'whole', 'night', 'through', 'my', 'girl', 'my', 'girl', 'where', 'will', 'you', 'go', 'going', 'where', 'the', 'cold', 'wind', 'blows', 'in', 'the', 'pines', 'in', 'the', 'pines', 'the', 'sun', 'shine', 'would', 'shiver', 'the', 'whole', 'night', 'through', 'one', 'baby', 'to', 'another', 'says', 'lucky', 'to', 'have', 'met', 'you', 'don', 'care', 'what', 'you', 'think', 'unless', 'it', 'is', 'about', 'me', 'it', 'is', 'now', 'my', 'duty', 'to', 'completely', 'drain', 'you', 'travel', 'through', 'tube', 'and', 'end', 'up', 'in', 'your', 'infection', 'chew', 'my', 'meat', 'for', 'you', 'pass', 'it', 'back', 'and', 'forth', 'in', 'passionate', 'kiss', 'from', 'my', 'mouth', 'to', 'yours', 'like', 'you', 'with', 'eyes', 'so', 'dilated', 've', 'became', 'your', 'pupil', 'you', 've', 'taught', 'me', 'everything', 'without', 'poison', 'apple', 'the', 'water', 'is', 'so', 'yellow', 'healthy', 'student', 'indebted', 'and', 'so', 'grateful', 'vacuum', 'out', 'the', 'fluids', 'chew', 'my', 'meat', 'for', 'you', 'pass', 'it', 'back', 'and', 'forth', 'in', 'passionate', 'kiss', 'from', 'my', 'mouth', 'to', 'yours', 'like', 'you', 'you', 'you', 'you', 'you', 'you', 'one', 'baby', 'to', 'another', 'says', 'lucky', 'to', 'have', 'met', 'you', 'don', 'care', 'what', 'you', 'think', 'unless', 'it', 'is', 'about', 'me', 'it', 'is', 'now', 'my', 'duty', 'to', 'completely', 'drain', 'you', 'travel', 'through', 'tube', 'and', 'end', 'up', 'in', 'your', 'infection', 'chew', 'my', 'meat', 'for', 'you', 'pass', 'it', 'back', 'and', 'forth', 'in', 'passionate', 'kiss', 'from', 'my', 'mouth', 'to', 'yours', 'sloppy', 'lips', 'to', 'lips', 'you', 're', 'my', 'vitamins', 'like', 'you', 'somebody', 'finally', 'freed', 'my', 'brother', 'one', 'more', 'day', 'to', 'free', 'my', 'brother', 'help', 'me', 'won', 'find', 'way', 'no', 'going', 'there', 'to', 'free', 'my', 'brother', 'no', 'one', 'there', 'to', 'free', 'my', 'brother', 'don', 'go', 'there', 'to', 'free', 'my', 'brother', 'help', 'me', 'won', 'find', 'way', 'brother', 'he', 'the', 'friend', 'to', 'revive', 'with', 'all', 'the', 'love', 'got', 'in', 'every', 'way', 'love', 'you', 'in', 'every', 'way', 'll', 'help', 'you', 'help', 'me', 'know', 'going', 'my', 'way', 'jesus', 'don', 'want', 'me', 'for', 'sunbeam', 'sunbeams', 'are', 'never', 'made', 'like', 'me', 'don', 'expect', 'me', 'to', 'cry', 'for', 'all', 'the', 'reasons', 'you', 'had', 'to', 'die', 'don', 'ever', 'ask', 'your', 'love', 'of', 'me', 'don', 'expect', 'me', 'to', 'cry', 'don', 'expect', 'me', 'to', 'lie', 'don', 'expect', 'me', 'to', 'die', 'for', 'me', 'jesus', 'don', 'want', 'me', 'for', 'sunbeam', 'sunbeams', 'are', 'never', 'made', 'like', 'me', 'don', 'expect', 'me', 'to', 'cry', 'for', 'all', 'the', 'reasons', 'you', 'had', 'to', 'die', 'don', 'ever', 'ask', 'your', 'love', 'of', 'me', 'don', 'expect', 'me', 'to', 'cry', 'don', 'expect', 'me', 'to', 'lie', 'don', 'expect', 'me', 'to', 'die', 'for', 'me', 'don', 'expect', 'me', 'to', 'cry', 'don', 'expect', 'me', 'to', 'lie', 'don', 'expect', 'me', 'to', 'die', 'for', 'me', 'jesus', 'don', 'want', 'me', 'for', 'sunbeam', 'sunbeams', 'are', 'never', 'made', 'like', 'me', 'don', 'expect', 'me', 'to', 'cry', 'for', 'all', 'the', 'reasons', 'you', 'had', 'to', 'die', 'don', 'ever', 'ask', 'your', 'love', 'of', 'me', 'don', 'expect', 'me', 'to', 'cry', 'don', 'expect', 'me', 'to', 'lie', 'don', 'expect', 'me', 'to', 'die', 'don', 'expect', 'me', 'to', 'cry', 'don', 'expect', 'me', 'to', 'lie', 'don', 'expect', 'me', 'to', 'die', 'for', 'me', 'would', 'never', 'bother', 'you', 'would', 'never', 'promise', 'to', 'will', 'never', 'follow', 'you', 'will', 'never', 'bother', 'you', 'never', 'say', 'word', 'again', 'will', 'crawl', 'away', 'for', 'good', 'will', 'move', 'away', 'from', 'here', 'you', 'won', 'be', 'afraid', 'of', 'fear', 'no', 'thought', 'was', 'put', 'into', 'this', 'always', 'knew', 'it', 'would', 'come', 'to', 'this', 'things', 'have', 'never', 'been', 'so', 'swell', 'and', 'have', 'never', 'failed', 'to', 'fail', 'pain', 'pain', 'pain', 'you', 'know', 'you', 're', 'right', 'you', 'know', 'you', 're', 'right', 'you', 'know', 'you', 're', 'right', 'it', 'so', 'warm', 'and', 'calm', 'inside', 'no', 'longer', 'have', 'to', 'hide', 'there', 'talk', 'about', 'someone', 'else', 'sterling', 'silver', 'begins', 'to', 'melt', 'nothin', 'really', 'bothers', 'her', 'she', 'just', 'wants', 'to', 'love', 'herself', 'will', 'move', 'away', 'from', 'here', 'you', 'won', 'be', 'afraid', 'of', 'fear', 'no', 'thought', 'was', 'put', 'into', 'this', 'always', 'knew', 'it', 'come', 'to', 'this', 'things', 'have', 'never', 'been', 'so', 'swell', 'and', 'have', 'never', 'failed', 'to', 'fail', 'pain', 'pain', 'pain', 'pain', 'pain', 'you', 'know', 'you', 're', 'right', 'you', 'know', 'you', 're', 'right', 'you', 'know', 'you', 're', 'right', 'you', 'know', 'you', 're', 'right', 'you', 'know', 'you', 're', 'right', 'you', 'know', 'you', 're', 'right', 'you', 'know', 'you', 're', 'right', 'you', 'know', 'you', 're', 'right', 'you', 'know', 'you', 're', 'right', 'you', 'know', 'you', 're', 'right', 'you', 'know', 'you', 're', 'right', 'you', 'know', 'you', 're', 'right', 'you', 'know', 'your', 'rights', 'you', 'know', 'your', 'rights', 'you', 'know', 'your', 'rights', 'pain', 'underneath', 'the', 'bridge', 'the', 'tarp', 'has', 'sprung', 'leak', 'and', 'the', 'animals', 've', 'trapped', 'have', 'all', 'become', 'my', 'pets', 'and', 'living', 'off', 'of', 'grass', 'and', 'the', 'drippings', 'from', 'the', 'ceiling', 'but', 'it', 'okay', 'to', 'eat', 'fish', 'cause', 'they', 'don', 'have', 'any', 'feelings', 'something', 'in', 'the', 'way', 'ummmmm', 'something', 'in', 'the', 'way', 'yeah', 'ummmmm', 'something', 'in', 'the', 'way', 'ummmmm', 'something', 'in', 'the', 'way', 'yeah', 'ummmmm', 'something', 'in', 'the', 'way', 'ummmmm', 'something', 'in', 'the', 'way', 'yeah', 'ummmmm', 'underneath', 'the', 'bridge', 'the', 'tarp', 'has', 'sprung', 'leak', 'and', 'the', 'animals', 've', 'trapped', 'have', 'all', 'become', 'my', 'pets', 'and', 'living', 'off', 'of', 'grass', 'and', 'the', 'drippings', 'from', 'the', 'ceiling', 'but', 'it', 'okay', 'to', 'eat', 'fish', 'cause', 'they', 'don', 'have', 'any', 'feelings', 'something', 'in', 'the', 'way', 'ummmmm', 'something', 'in', 'the', 'way', 'yeah', 'ummmmm', 'something', 'in', 'the', 'way', 'ummmmm', 'something', 'in', 'the', 'way', 'yeah', 'ummmmm', 'something', 'in', 'the', 'way', 'ummmmm', 'something', 'in', 'the', 'way', 'yeah', 'ummmmm', 'something', 'in', 'the', 'way', 'ummmmm', 'something', 'in', 'the', 'way', 'yeah', 'ummmmm', 'don', 'care', 'don', 'care', 'don', 'care', 'don', 'care', 'don', 'care', 'care', 'if', 'it', 'old', 'don', 'mind', 'don', 'mind', 'don', 'mind', 'don', 'mind', 'don', 'mind', 'mind', 'don', 'have', 'mind', 'get', 'away', 'get', 'away', 'get', 'away', 'get', 'away', 'away', 'away', 'from', 'your', 'home', 'afraid', 'afraid', 'afraid', 'afraid', 'afraid', 'afraid', 'afraid', 'of', 'ghost', 'even', 'if', 'you', 'have', 'even', 'if', 'you', 'need', 'don', 'mean', 'to', 'stare', 'we', 'don', 'have', 'to', 'breed', 'we', 'could', 'plant', 'house', 'we', 'could', 'build', 'tree', 'don', 'even', 'care', 'we', 'could', 'have', 'all', 'three', 'she', 'said', 'she', 'said', 'she', 'said', 'she', 'said', 'she', 'said', 'she', 'said', 'she', 'said', 'don', 'care', 'don', 'care', 'don', 'care', 'don', 'care', 'don', 'care', 'care', 'if', 'it', 'old', 'don', 'mind', 'don', 'mind', 'don', 'mind', 'don', 'mind', 'don', 'mind', 'mind', 'don', 'have', 'mind', 'get', 'away', 'get', 'away', 'get', 'away', 'get', 'away', 'away', 'away', 'from', 'your', 'home', 'afraid', 'afraid', 'afraid', 'afraid', 'afraid', 'afraid', 'afraid', 'of', 'ghost', 'even', 'if', 'you', 'have', 'even', 'if', 'you', 'need', 'don', 'mean', 'to', 'stare', 'we', 'don', 'have', 'to', 'breed', 'we', 'can', 'plant', 'house', 'we', 'can', 'build', 'tree', 'don', 'even', 'care', 'we', 'could', 'have', 'all', 'three', 'she', 'said', 'she', 'said', 'she', 'said', 'she', 'said', 'she', 'said', 'she', 'said', 'she', 'said', 'she', 'said', 'even', 'if', 'you', 'have', 'even', 'if', 'you', 'need', 'don', 'mean', 'to', 'stare', 'we', 'don', 'have', 'to', 'breed', 'we', 'can', 'plant', 'house', 'we', 'can', 'build', 'tree', 'don', 'even', 'care', 'we', 'could', 'have', 'all', 'three', 'she', 'said', 'she', 'said', 'she', 'said', 'she', 'said', 'she', 'said', 'she', 'said', 'she', 'said', 'she', 'said', 'good', 'where', 'do', 'bad', 'folks', 'go', 'when', 'they', 'die', 'they', 'don', 'go', 'to', 'heaven', 'where', 'the', 'angels', 'fly', 'they', 'go', 'down', 'to', 'the', 'lake', 'of', 'fire', 'and', 'fry', 'won', 'see', 'em', 'again', 'till', 'the', 'fourth', 'of', 'july', 'knew', 'lady', 'who', 'came', 'from', 'duluth', 'she', 'got', 'bit', 'by', 'dog', 'with', 'rabid', 'tooth', 'she', 'went', 'to', 'her', 'grave', 'just', 'little', 'too', 'soon', 'and', 'she', 'flew', 'away', 'howling', 'on', 'the', 'yellow', 'moon', 'where', 'do', 'bad', 'folks', 'go', 'when', 'they', 'die', 'they', 'don', 'go', 'to', 'heaven', 'where', 'the', 'angels', 'fly', 'they', 'go', 'down', 'to', 'the', 'lake', 'of', 'fire', 'and', 'fry', 'won', 'see', 'em', 'again', 'till', 'the', 'fourth', 'of', 'july', 'now', 'the', 'people', 'cry', 'and', 'the', 'people', 'moan', 'and', 'they', 'look', 'for', 'dry', 'place', 'to', 'call', 'their', 'home', 'and', 'try', 'to', 'find', 'some', 'place', 'to', 'rest', 'their', 'bones', 'while', 'the', 'angels', 'and', 'the', 'devils', 'fight', 'to', 'claim', 'them', 'for', 'their', 'own', 'wouldn', 'you', 'believe', 'it', 'it', 'just', 'my', 'luck', 'wouldn', 'you', 'believe', 'it', 'it', 'just', 'my', 'luck', 'wouldn', 'you', 'believe', 'it', 'it', 'just', 'my', 'luck', 'wouldn', 'you', 'believe', 'it', 'it', 'just', 'my', 'luck', 'no', 'recess', 'no', 'recess', 'no', 'recess', 'wouldn', 'you', 'believe', 'it', 'it', 'just', 'my', 'luck', 'wouldn', 'you', 'believe', 'it', 'it', 'just', 'my', 'luck', 'wouldn', 'you', 'believe', 'it', 'it', 'just', 'my', 'luck', 'wouldn', 'you', 'believe', 'it', 'it', 'just', 'my', 'luck', 'no', 'recess', 'no', 'recess', 'no', 'recess', 'you', 're', 'in', 'high', 'school', 'again', 'you', 're', 'in', 'high', 'school', 'again', 'you', 're', 'in', 'high', 'school', 'again', 'you', 're', 'in', 'high', 'school', 'again', 'you', 're', 'in', 'high', 'school', 'again', 'you', 're', 'in', 'high', 'school', 'again', 'you', 're', 'in', 'high', 'school', 'again', 'you', 're', 'in', 'high', 'school', 'again', 'no', 'recess', 'no', 'recess', 'no', 'recess', 'no', 'recess', 'no', 'recess', 'no', 'recess', 'no', 'recess', 'on', 'my', 'time', 'with', 'everyone', 'have', 'very', 'bad', 'posture', 'sit', 'and', 'drink', 'pennyroyal', 'tea', 'distill', 'the', 'life', 'that', 'inside', 'of', 'me', 'sit', 'and', 'drink', 'pennyroyal', 'tea', 'anemic', 'royalty', 'give', 'me', 'leonard', 'cohen', 'afterworld', 'so', 'can', 'sigh', 'eternally', 'so', 'tired', 'can', 'sleep', 'liar', 'and', 'thief', 'sit', 'and', 'drink', 'pennyroyal', 'tea', 'anemic', 'royalty', 'on', 'warm', 'milk', 'and', 'laxatives', 'cherry', 'flavored', 'antacids', 'sit', 'and', 'drink', 'pennyroyal', 'tea', 'distill', 'the', 'life', 'that', 'inside', 'of', 'me', 'sit', 'and', 'drink', 'pennyroyal', 'tea', 'anemic', 'royalty', 'll', 'start', 'this', 'off', 'without', 'any', 'words', 'got', 'so', 'high', 'that', 'scratched', 'til', 'bled', 'love', 'myself', 'better', 'than', 'you', 'know', 'it', 'wrong', 'so', 'what', 'should', 'do', 'the', 'finest', 'day', 'that', 'ever', 'had', 'was', 'when', 'learned', 'to', 'cry', 'on', 'command', 'love', 'myself', 'better', 'than', 'you', 'know', 'it', 'wrong', 'so', 'what', 'should', 'do', 'on', 'plain', 'can', 'complain', 'on', 'plain', 'my', 'mother', 'died', 'every', 'night', 'it', 'safe', 'to', 'say', 'don', 'quote', 'me', 'on', 'that', 'love', 'myself', 'better', 'than', 'you', 'know', 'it', 'wrong', 'so', 'what', 'should', 'do', 'the', 'black', 'sheep', 'got', 'blackmailed', 'again', 'forgot', 'to', 'put', 'on', 'the', 'zip', 'code', 'love', 'myself', 'better', 'than', 'you', 'know', 'it', 'wrong', 'so', 'what', 'should', 'do', 'on', 'plain', 'can', 'complain', 'on', 'plain', 'somewhere', 'have', 'heard', 'this', 'before', 'in', 'dream', 'my', 'memory', 'has', 'stored', 'as', 'defense', 'neutered', 'and', 'spayed', 'what', 'the', 'hell', 'am', 'trying', 'to', 'say', 'it', 'is', 'now', 'time', 'to', 'make', 'it', 'unclear', 'to', 'write', 'off', 'lines', 'that', 'don', 'make', 'sense', 'love', 'myself', 'better', 'than', 'you', 'know', 'it', 'wrong', 'so', 'what', 'should', 'do', 'one', 'more', 'special', 'message', 'to', 'go', 'and', 'then', 'done', 'and', 'can', 'go', 'home', 'love', 'myself', 'better', 'than', 'you', 'know', 'it', 'wrong', 'so', 'what', 'should', 'do', 'on', 'plain', 'can', 'complain', 'on', 'plain', 'can', 'complain', 'on', 'plain', 'can', 'complain', 'on', 'plain', 'can', 'complain', 'on', 'aplain', 'can', 'complain', 'this', 'is', 'out', 'of', 'our', 'reach', 'this', 'is', 'out', 'of', 'our', 'reach', 'this', 'is', 'out', 'of', 'our', 'reach', 'and', 'it', 'grown', 'this', 'is', 'getting', 'to', 'be', 'this', 'is', 'getting', 'to', 'be', 'this', 'is', 'getting', 'to', 'be', 'drone', 'negative', 'creep', 'negative', 'creep', 'negative', 'creep', 'and', 'stoned', 'negative', 'creep', 'negative', 'creep', 'negative', 'creep', 'and', 'and', 'daddy', 'little', 'girl', 'ain', 'girl', 'no', 'more', 'daddy', 'little', 'girl', 'ain', 'girl', 'no', 'more', 'daddy', 'little', 'girl', 'ain', 'girl', 'no', 'more', 'daddy', 'little', 'girl', 'ain', 'girl', 'no', 'more', 'daddy', 'little', 'girl', 'ain', 'girl', 'no', 'more', 'daddy', 'little', 'girl', 'ain', 'girl', 'no', 'more', 'this', 'is', 'out', 'of', 'our', 'range', 'this', 'is', 'out', 'of', 'our', 'range', 'this', 'is', 'out', 'of', 'our', 'range', 'and', 'it', 'crude', 'this', 'is', 'getting', 'to', 'be', 'this', 'is', 'getting', 'to', 'be', 'this', 'is', 'getting', 'to', 'be', 'like', 'drone', 'negative', 'creep', 'negative', 'creep', 'negative', 'creep', 'and', 'stoned', 'negative', 'creep', 'negative', 'creep', 'negative', 'creep', 'and', 'and', 'daddy', 'little', 'girl', 'ain', 'girl', 'no', 'more', 'daddy', 'little', 'girl', 'ain', 'girl', 'no', 'more', 'daddy', 'little', 'girl', 'ain', 'girl', 'no', 'more', 'daddy', 'little', 'girl', 'ain', 'girl', 'no', 'more', 'daddy', 'little', 'girl', 'ain', 'girl', 'no', 'more', 'daddy', 'little', 'girl', 'ain', 'girl', 'no', 'more', 'fuck', 'yeah', 'drone', 'stoned', 'daddy', 'little', 'girl', 'ain', 'girl', 'no', 'more', 'daddy', 'little', 'girl', 'ain', 'girl', 'no', 'more', 'daddy', 'little', 'girl', 'ain', 'girl', 'no', 'more', 'daddy', 'little', 'girl', 'ain', 'girl', 'no', 'more', 'daddy', 'little', 'girl', 'ain', 'girl', 'no', 'more', 'daddy', 'little', 'girl', 'ain', 'girl', 'no', 'more', 'daddy', 'little', 'girl', 'ain', 'girl', 'no', 'more', 'daddy', 'little', 'girl', 'ain', 'girl', 'no', 'more', 'daddy', 'little', 'girl', 'ain', 'girl', 'no', 'more', 'daddy', 'little', 'girl', 'ain', 'girl', 'no', 'more', 'daddy', 'little', 'girl', 'ain', 'girl', 'no', 'more', 'daddy', 'little', 'girl', 'ain', 'girl', 'no', 'more', 'daddy', 'little', 'girl', 'ain', 'girl', 'no', 'more', 'daddy', 'little', 'girl', 'ain', 'girl', 'no', 'more', 'truth', 'covered', 'in', 'security', 'can', 'let', 'you', 'smother', 'me', 'like', 'to', 'but', 'it', 'couldn', 'work', 'trading', 'off', 'and', 'taking', 'turns', 'don', 'regret', 'thing', 've', 'got', 'this', 'friend', 'you', 'see', 'who', 'makes', 'me', 'feel', 'and', 'wanted', 'more', 'than', 'could', 'steal', 'll', 'arrest', 'myself', 'and', 'wear', 'shield', 'll', 'go', 'out', 'of', 'my', 'way', 'to', 'prove', 'still', 'smell', 'her', 'on', 'you', 'don', 'tell', 'me', 'what', 'wanna', 'hear', 'afraid', 'of', 'never', 'knowning', 'fear', 'experience', 'anything', 'you', 'need', 'll', 'keep', 'fighting', 'jealousy', 'until', 'it', 'fucking', 'gone', 've', 'got', 'this', 'friend', 'you', 'see', 'who', 'makes', 'me', 'feel', 'and', 'wanted', 'more', 'than', 'could', 'steal', 'll', 'arrest', 'myself', 'and', 'wear', 'shield', 'll', 'go', 'out', 'of', 'my', 'way', 'to', 'prove', 'still', 'smell', 'her', 'on', 'you', 'truth', 'covered', 'in', 'security', 'can', 'let', 'you', 'smother', 'me', 'like', 'to', 'but', 'it', 'wouldn', 'work', 'trading', 'off', 'and', 'taking', 'turns', 'don', 'regret', 'thing', 've', 'got', 'this', 'friend', 'you', 'see', 'who', 'makes', 'me', 'feel', 'and', 'wanted', 'more', 'than', 'could', 'steal', 'll', 'arrest', 'myself', 'and', 'wear', 'shield', 'll', 'go', 'out', 'of', 'my', 'way', 'to', 'make', 'you', 'deal', 'we', 've', 'make', 'pact', 'to', 'learn', 'from', 'who', 'ever', 'we', 'want', 'without', 'new', 'rules', 'we', 'll', 'share', 'what', 'lost', 'and', 'what', 'we', 'grew', 'they', 'll', 'go', 'out', 'of', 'their', 'way', 'to', 'prove', 'they', 'still', 'smell', 'her', 'on', 'you', 'they', 'still', 'smell', 'her', 'on', 'you', 'smell', 'her', 'on', 'you', 'it', 'so', 'relieving', 'to', 'know', 'that', 'you', 're', 'leaving', 'as', 'soon', 'as', 'you', 'get', 'paid', 'it', 'so', 'relaxing', 'to', 'hear', 'you', 're', 'asking', 'wherever', 'you', 'get', 'your', 'way', 'it', 'so', 'soothing', 'to', 'know', 'that', 'you', 'll', 'sue', 'me', 'this', 'is', 'starting', 'to', 'sound', 'the', 'same', 'miss', 'the', 'comfort', 'in', 'being', 'sad', 'in', 'her', 'false', 'withness', 'we', 'hope', 'you', 're', 'still', 'with', 'us', 'to', 'see', 'if', 'they', 'float', 'or', 'drown', 'our', 'favorite', 'patient', 'display', 'of', 'patience', 'disease', 'covered', 'puget', 'sound', 'she', 'll', 'come', 'back', 'as', 'fire', 'to', 'burn', 'all', 'the', 'liars', 'and', 'leave', 'blanket', 'of', 'ash', 'on', 'the', 'ground', 'miss', 'the', 'comfort', 'in', 'being', 'sad', 'and', 'if', 'you', 'save', 'yourself', 'you', 'will', 'make', 'him', 'happy', 'he', 'll', 'keep', 'you', 'in', 'jar', 'and', 'you', 'll', 'think', 'you', 're', 'happy', 'he', 'll', 'give', 'you', 'breathing', 'holes', 'and', 'you', 'll', 'think', 'you', 're', 'happy', 'he', 'll', 'cover', 'you', 'with', 'grass', 'and', 'you', 'll', 'think', 'you', 're', 'happy', 'now', 'you', 're', 'in', 'laundry', 'room', 'you', 're', 'in', 'laundry', 'room', 'conclusion', 'came', 'to', 'you', 'ohhh', 'and', 'if', 'you', 'cut', 'yourself', 'you', 'will', 'think', 'you', 're', 'happy', 'he', 'll', 'keep', 'you', 'in', 'jar', 'then', 'you', 'll', 'make', 'him', 'happy', 'he', 'll', 'give', 'you', 'breathing', 'holes', 'then', 'you', 'll', 'think', 'you', 're', 'happy', 'he', 'll', 'cover', 'you', 'with', 'grass', 'then', 'you', 'll', 'think', 'you', 're', 'happy', 'now', 'you', 're', 'in', 'laundry', 'room', 'you', 're', 'in', 'laundry', 'room', 'conclusion', 'came', 'to', 'you', 'ohhh', 'you', 're', 'in', 'laundry', 'room', 'you', 're', 'in', 'laundry', 'room', 'conclusion', 'came', 'to', 'you', 'ohhh', 'and', 'if', 'you', 'fool', 'yourself', 'you', 'will', 'make', 'him', 'happy', 'he', 'll', 'keep', 'you', 'in', 'jar', 'then', 'you', 'll', 'think', 'you', 're', 'happy', 'he', 'll', 'give', 'you', 'breathing', 'holes', 'then', 'you', 'will', 'seem', 'happy', 'you', 'll', 'wallow', 'in', 'the', 'shit', 'then', 'you', 'll', 'think', 'you', 're', 'happy', 'now', 'you', 're', 'in', 'laundry', 'room', 'you', 're', 'in', 'laundry', 'room', 'you', 're', 'in', 'laundry', 'room', 'conclusion', 'came', 'to', 'you', 'ohhh', 'if', 'had', 'to', 'lose', 'mile', 'if', 'had', 'to', 'touch', 'feelings', 'would', 'lose', 'my', 'soul', 'the', 'way', 'do', 'don', 'have', 'to', 'think', 'only', 'have', 'to', 'do', 'it', 'the', 'results', 'are', 'always', 'perfect', 'and', 'that', 'old', 'news', 'would', 'you', 'like', 'to', 'hear', 'my', 'voice', 'sprinkled', 'with', 'emotion', 'invented', 'at', 'your', 'birth', 'can', 'see', 'the', 'end', 'of', 'me', 'my', 'whole', 'expanse', 'cannot', 'see', 'formulate', 'infinity', 'stored', 'deep', 'inside', 'me', 'if', 'had', 'to', 'lose', 'mile', 'if', 'had', 'to', 'touch', 'feelings', 'would', 'lose', 'my', 'soul', 'the', 'way', 'do', 'don', 'have', 'to', 'think', 'only', 'have', 'to', 'do', 'it', 'the', 'results', 'are', 'always', 'perfect', 'and', 'that', 'old', 'news', 'would', 'you', 'like', 'to', 'hear', 'my', 'voice', 'sprinkled', 'with', 'emotion', 'invented', 'at', 'your', 'birth', 'can', 'see', 'the', 'end', 'of', 'me', 'my', 'whole', 'expanse', 'cannot', 'see', 'formulate', 'infinity', 'stored', 'deep', 'inside', 'me', 'formulate', 'infinity', 'stored', 'deep', 'inside', 'me', 'goin', 'to', 'hollywood', 'they', 'll', 'see', 'that', 'so', 'good', 'won', 'care', 'how', 'feel', 'and', 'll', 'get', 'to', 'fuck', 'brooke', 'shields', 'll', 'just', 'sit', 'and', 'grin', 'the', 'money', 'will', 'roll', 'right', 'in', 'want', 'to', 'be', 'star', 'going', 'to', 'have', 'car', 'and', 'you', 'll', 'have', 'to', 'admit', 'll', 'be', 'rich', 'as', 'shit', 'll', 'just', 'sit', 'and', 'grin', 'the', 'money', 'will', 'roll', 'right', 'in', 'would', 'give', 'you', 'some', 'if', 'you', 'only', 'would', 'have', 'treated', 'me', 'nice', 'you', 'll', 'wish', 'that', 'you', 'did', 'you', 'll', 'feel', 'pretty', 'stupid', 'll', 'just', 'sit', 'and', 'grin', 'the', 'money', 'will', 'roll', 'right', 'in', 'it', 'fun', 'to', 'be', 'star', 'it', 'nice', 'to', 'have', 'car', 'yeah', 'you', 'll', 'have', 'to', 'admit', 'that', 'll', 'be', 'rich', 'as', 'shit', 'and', 'll', 'just', 'sit', 'and', 'grin', 'the', 'money', 'will', 'roll', 'right', 'in', 'teenage', 'angst', 'has', 'paid', 'off', 'well', 'now', 'bored', 'and', 'old', 'self', 'appointed', 'judges', 'judge', 'more', 'than', 'they', 'have', 'sold', 'if', 'she', 'floats', 'than', 'she', 'is', 'not', 'witch', 'like', 'we', 'had', 'thought', 'down', 'payment', 'on', 'another', 'one', 'at', 'salem', 'lot', 'serve', 'the', 'servants', 'oh', 'no', 'that', 'legendary', 'divorce', 'is', 'such', 'bore', 'as', 'my', 'bones', 'grew', 'they', 'did', 'hurt', 'they', 'hurt', 'really', 'bad', 'tried', 'hard', 'to', 'have', 'father', 'but', 'instead', 'had', 'dad', 'just', 'want', 'you', 'to', 'know', 'that', 'don', 'hate', 'you', 'anymore', 'there', 'is', 'nothing', 'could', 'say', 'that', 'haven', 'thought', 'before', 'serve', 'the', 'servants', 'oh', 'no', 'that', 'legendary', 'divorce', 'is', 'such', 'bore', 'mom', 'and', 'dad', 'went', 'to', 'show', 'they', 'dropped', 'me', 'off', 'at', 'grandpa', 'joe', 'kicked', 'and', 'screamed', 'said', 'please', 'don', 'go', 'grandma', 'take', 'me', 'home', 'had', 'to', 'eat', 'my', 'dinner', 'there', 'mashed', 'potatos', 'and', 'stuff', 'like', 'that', 'couldn', 'chew', 'my', 'meat', 'too', 'good', 'she', 'said', 'well', 'don', 'you', 'start', 'your', 'crying', 'go', 'outside', 'and', 'ride', 'your', 'bike', 'that', 'what', 'did', 'killed', 'my', 'toe', 'after', 'dinner', 'had', 'ice', 'cream', 'fell', 'asleep', 'and', 'watched', 'tv', 'woke', 'up', 'in', 'my', 'mother', 'arms', 'grandma', 'take', 'me', 'home', 'wanna', 'be', 'alone', 'come', 'on', 'over', 'do', 'the', 'twist', 'aha', 'overdo', 'it', 'have', 'fit', 'aha', 'come', 'on', 'over', 'shoot', 'the', 'shit', 'aha', 'love', 'you', 'so', 'much', 'makes', 'me', 'sick', 'aha', 'beat', 'me', 'out', 'of', 'me', 'beat', 'it', 'beat', 'it', 'she', 'keeps', 'it', 'pumpin', 'strait', 'in', 'my', 'heart', 'if', 'you', 'wouldn', 'mind', 'would', 'like', 'it', 'blew', 'if', 'you', 'wouldn', 'mind', 'would', 'like', 'to', 'lose', 'if', 'you', 'wouldn', 'care', 'would', 'like', 'to', 'leave', 'if', 'you', 'wouldn', 'mind', 'would', 'like', 'to', 'breath', 'is', 'there', 'another', 'reason', 'for', 'your', 'stain', 'could', 'you', 'believe', 'who', 'we', 'knew', 'stress', 'or', 'strain', 'here', 'is', 'another', 'word', 'that', 'rhymes', 'with', 'shame', 'you', 'could', 'do', 'anything', 'your', 'life', 'is', 'shit', 'shit', 'your', 'life', 'is', 'over', 'bull', 'your', 'life', 'is', 'mine', 'cry', 'your', 'life', 'is', 'hell', 'hell', 'gonna', 'die', 'dying', 'with', 'you', 'just', 'going', 'to', 'die', 'to', 'wear', 'my', 'libido', 'gonna', 'try', 'to', 'find', 'it', 'with', 'you', 'just', 'gonna', 'try', 'do', 'what', 'they', 'say', 'your', 'life', 'is', 'shit', 'shit', 'your', 'life', 'is', 'strange', 'and', 'insane', 'your', 'life', 'is', 'not', 'the', 'size', 'of', 'crap', 'your', 'life', 'is', 'now', 'now', 'gonna', 'die', 'dying', 'with', 'you', 'just', 'going', 'to', 'hell', 'without', 'my', 'libido', 'gonna', 'try', 'to', 'find', 'it', 'with', 'you', 'just', 'going', 'to', 'hell', 'without', 'my', 'libido', 'gonna', 'die', 'dying', 'with', 'you', 'just', 'going', 'to', 'hell', 'without', 'my', 'libido', 'gonna', 'try', 'to', 'find', 'it', 'with', 'you', 'just', 'gonna', 'die', 'do', 'what', 'they', 'say', 'your', 'life', 'is', 'shit', 'gonna', 'open', 'myself', 'up', 'flea', 'market', 'gonna', 'open', 'myself', 'up', 'flea', 'market', 'and', 'you', 're', 'gonna', 'wish', 'that', 'you', 'did', 'and', 'retire', 'on', 'the', 'profits', 'first', 'off', 'gonna', 'empty', 'out', 'all', 'of', 'my', 'mrs', 'butterworth', 'jars', 'and', 'gonna', 'put', 'em', 'on', 'shelf', 'with', 'my', 'dollar', 'month', 'tax', 'free', 'century', 'shop', 'and', 'then', 'am', 'going', 'to', 'put', 'my', 'mrs', 'butterworth', 'syrup', 'jars', 'on', 'the', 'shelf', 'next', 'to', 'all', 'the', 'commemorative', 'fast', 'food', 'chain', 'glasses', 'and', 'cups', 've', 'accumulated', 'over', 'the', 'past', 'years', 'then', 'going', 'to', 'get', 'some', 'plywood', 'going', 'to', 'get', 'some', 'plywood', 'and', 'cut', 'them', 'up', 'into', 'two', 'by', 'two', 'piece', 'squares', 'then', 'going', 'to', 'get', 'some', 'burlap', 'and', 'going', 'to', 'cut', 'them', 'into', 'two', 'by', 'two', 'piece', 'squares', 'and', 'then', 'going', 'to', 'put', 'them', 'onto', 'the', 'pieces', 'of', 'plywood', 'and', 'then', 'going', 'to', 'go', 'to', 'the', 'beach', 'going', 'to', 'go', 'to', 'the', 'beach', 'and', 'gonna', 'collect', 'some', 'shells', 'and', 'driftwood', 'and', 'then', 'going', 'to', 'take', 'the', 'shells', 'and', 'driftwood', 'and', 'glue', 'them', 'onto', 'the', 'plywood', 'and', 'burlap', 'many', 'hand', 'has', 'scaled', 'the', 'grand', 'old', 'face', 'of', 'the', 'plateau', 'some', 'belong', 'to', 'strangers', 'and', 'some', 'to', 'folks', 'you', 'know', 'holy', 'ghosts', 'and', 'talk', 'show', 'hosts', 'are', 'planted', 'in', 'the', 'sand', 'to', 'beautify', 'the', 'foothills', 'and', 'shake', 'the', 'many', 'hands', 'there', 'nothing', 'on', 'the', 'top', 'but', 'bucket', 'and', 'mop', 'and', 'an', 'illustrated', 'book', 'about', 'birds', 'you', 'see', 'lot', 'up', 'there', 'but', 'don', 'be', 'scared', 'who', 'needs', 'action', 'when', 'you', 'got', 'words', 'when', 'you', 're', 'finished', 'with', 'the', 'mop', 'then', 'you', 'can', 'stop', 'and', 'look', 'at', 'what', 'you', 've', 'done', 'the', 'plateau', 'clean', 'no', 'dirt', 'to', 'be', 'seen', 'and', 'the', 'work', 'it', 'took', 'was', 'fun', 'well', 'the', 'many', 'hands', 'began', 'to', 'scan', 'around', 'for', 'the', 'next', 'plateau', 'some', 'said', 'it', 'was', 'in', 'greenland', 'and', 'some', 'in', 'mexico', 'others', 'decided', 'it', 'was', 'nowhere', 'except', 'for', 'where', 'they', 'stood', 'but', 'those', 'were', 'all', 'just', 'guesses', 'wouldn', 'help', 'you', 'if', 'they', 'could', 'when', 'was', 'an', 'alien', 'cultures', 'weren', 'opinions', 'gotta', 'find', 'way', 'to', 'find', 'way', 'when', 'there', 'gotta', 'find', 'way', 'better', 'way', 'had', 'better', 'wait', 'never', 'met', 'wise', 'man', 'if', 'so', 'it', 'woman', 'gotta', 'find', 'way', 'to', 'find', 'way', 'when', 'there', 'gotta', 'find', 'way', 'better', 'way', 'had', 'better', 'wait', 'gotta', 'find', 'way', 'to', 'find', 'way', 'when', 'there', 'gotta', 'find', 'way', 'better', 'way', 'had', 'better', 'wait', 'just', 'because', 'you', 're', 'paranoid', 'don', 'mean', 'they', 're', 'not', 'after', 'you', 'gotta', 'find', 'way', 'to', 'find', 'way', 'when', 'there', 'gotta', 'find', 'way', 'better', 'way', 'gotta', 'find', 'way', 'to', 'find', 'way', 'when', 'there', 'gotta', 'find', 'way', 'better', 'way', 'had', 'better', 'wait', 'gotta', 'find', 'way', 'to', 'find', 'way', 'when', 'there', 'gotta', 'find', 'way', 'better', 'way', 'had', 'better', 'wait', 'gotta', 'find', 'way', 'to', 'find', 'way', 'when', 'there', 'gotta', 'find', 'way', 'better', 'way', 'had', 'better', 'wait', 'they', 'hung', 'him', 'on', 'the', 'cross', 'they', 'hung', 'him', 'on', 'the', 'cross', 'they', 'hung', 'him', 'on', 'the', 'cross', 'for', 'me', 'one', 'day', 'when', 'was', 'lost', 'they', 'hung', 'him', 'on', 'the', 'cross', 'they', 'hung', 'him', 'on', 'the', 'cross', 'for', 'me', 'they', 'whooped', 'him', 'up', 'the', 'hill', 'they', 'whooped', 'him', 'up', 'the', 'hill', 'they', 'whooped', 'him', 'up', 'the', 'hill', 'for', 'me', 'one', 'day', 'when', 'was', 'lost', 'they', 'hung', 'him', 'on', 'the', 'cross', 'they', 'whooped', 'him', 'up', 'the', 'hill', 'for', 'me', 'he', 'never', 'said', 'among', 'them', 'word', 'they', 'never', 'said', 'among', 'them', 'word', 'they', 'never', 'said', 'among', 'them', 'word', 'for', 'me', 'one', 'day', 'when', 'was', 'lost', 'they', 'hung', 'him', 'on', 'the', 'cross', 'they', 'hung', 'him', 'on', 'the', 'cross', 'for', 'me', 'they', 'bit', 'him', 'in', 'the', 'side', 'they', 'bit', 'him', 'in', 'the', 'side', 'they', 'bit', 'him', 'in', 'the', 'side', 'for', 'me', 'one', 'day', 'when', 'was', 'lost', 'they', 'hung', 'him', 'on', 'the', 'cross', 'they', 'hung', 'him', 'on', 'the', 'cross', 'for', 'me', 'he', 'hung', 'his', 'head', 'and', 'died', 'he', 'hung', 'his', 'head', 'and', 'died', 'he', 'hung', 'his', 'head', 'and', 'died', 'for', 'me', 'one', 'day', 'when', 'was', 'lost', 'they', 'hung', 'him', 'on', 'the', 'cross', 'they', 'hung', 'him', 'on', 'the', 'cross', 'for', 'me', 'if', 'may', 'if', 'might', 'let', 'me', 'down', 'we', 've', 'been', 'if', 'say', 'what', 'is', 'life', 'might', 'be', 'dreaming', 'if', 'may', 'what', 'is', 'right', 'summon', 'time', 'too', 'see', 'me', 'he', 'lives', 'in', 'his', 'bonnet', 'face', 'from', 'his', 'pocket', 'chains', 'mowing', 'life', 'from', 'trees', 'do', 're', 'mi', 'if', 'may', 'if', 'might', 'wake', 'me', 'up', 'see', 'me', 'if', 'do', 'and', 'if', 'lie', 'find', 'me', 'out', 'see', 'me', 'if', 'may', 'cold', 'as', 'ice', 'may', 'have', 'too', 'see', 'me', 'the', 'ways', 'in', 'his', 'socket', 'the', 'face', 'from', 'his', 'moment', 'the', 'chains', 'from', 'his', 'socket', 'do', 're', 'mi', 'wish', 'me', 'good', 'wish', 'me', 'light', 'find', 'me', 'out', 'see', 'me', 'if', 'may', 'just', 'be', 'quiet', 'follow', 'hate', 'and', 'be', 'me', 'hello', 'and', 'if', 'sigh', 'shake', 'me', 'out', 'tv', 'if', 'may', 'and', 'if', 'might', 'gotta', 'gun', 'to', 'bleed', 'rays', 'in', 'his', 'pocket', 'rays', 'from', 'his', 'wallet', 'chains', 'from', 'his', 'armor', 'am', 'deep', 'do', 're', 'mi', 'really', 'love', 'you', 'baby', 'love', 'what', 'you', 've', 'got', 'let', 'get', 'together', 'we', 'can', 'get', 'hot', 'no', 'more', 'tomorrow', 'baby', 'time', 'is', 'today', 'girl', 'can', 'make', 'you', 'feel', 'okay', 'no', 'place', 'for', 'hidin', 'baby', 'no', 'place', 'to', 'run', 'you', 'pull', 'the', 'trigger', 'of', 'my', 'love', 'gun', 'love', 'gun', 'love', 'gun', 'love', 'gun', 'you', 'can', 'forget', 'me', 'baby', 'don', 'try', 'to', 'lie', 'you', 'll', 'never', 'leave', 'me', 'mama', 'so', 'don', 'try', 'll', 'be', 'gambler', 'baby', 'lay', 'down', 'the', 'bet', 'we', 'get', 'together', 'mama', 'you', 'll', 'sweat', 'no', 'place', 'for', 'hidin', 'baby', 'no', 'place', 'to', 'run', 'you', 'pull', 'the', 'trigger', 'of', 'my', 'love', 'gun', 'love', 'gun', 'repeated', 'several', 'times', 'up', 'up', 'up', 'and', 'down', 'turn', 'turn', 'turn', 'around', 'round', 'round', 'round', 'about', 'and', 'over', 'again', 'gun', 'gun', 'son', 'of', 'gun', 'you', 'are', 'the', 'only', 'one', 'makes', 'any', 'difference', 'to', 'what', 'say', 'the', 'sun', 'shines', 'in', 'the', 'bedroom', 'when', 'we', 'play', 'the', 'raining', 'always', 'starts', 'when', 'you', 'go', 'away', 'the', 'sun', 'shines', 'in', 'the', 'bedroom', 'when', 'we', 'play', 'the', 'raining', 'always', 'starts', 'when', 'you', 'go', 'away', 'up', 'up', 'up', 'and', 'down', 'turn', 'turn', 'turn', 'around', 'round', 'round', 'round', 'about', 'and', 'over', 'again', 'gun', 'gun', 'son', 'of', 'gun', 'you', 'are', 'the', 'only', 'one', 'makes', 'any', 'difference', 'to', 'what', 'say', 'the', 'sun', 'shines', 'in', 'the', 'bedroom', 'when', 'we', 'play', 'the', 'raining', 'always', 'starts', 'when', 'you', 'go', 'away', 'the', 'sun', 'shines', 'in', 'the', 'bedroom', 'when', 'we', 'play', 'the', 'raining', 'always', 'starts', 'when', 'you', 'go', 'away', 'up', 'up', 'up', 'and', 'down', 'turn', 'turn', 'turn', 'around', 'round', 'round', 'round', 'about', 'and', 'over', 'again', 'gun', 'gun', 'son', 'of', 'gun', 'you', 'are', 'the', 'only', 'one', 'makes', 'any', 'difference', 'to', 'what', 'say', 'the', 'sun', 'shines', 'in', 'the', 'bedroom', 'when', 'we', 'play', 'the', 'raining', 'always', 'starts', 'when', 'you', 'go', 'away', 'the', 'sun', 'shines', 'in', 'the', 'bedroom', 'when', 'we', 'play', 'the', 'raining', 'always', 'starts', 'when', 'you', 'go', 'away', 'the', 'sun', 'shines', 'in', 'the', 'bedroom', 'when', 'we', 'play', 'the', 'raining', 'always', 'starts', 'when', 'you', 'go', 'away', 'the', 'sun', 'shines', 'in', 'the', 'bedroom', 'when', 'we', 'play', 'the', 'raining', 'always', 'starts', 'when', 'you', 'go', 'away', 'she', 'said', 'she', 'take', 'me', 'anywhere', 'she', 'take', 'me', 'anywhere', 'as', 'long', 'as', 'she', 'stays', 'with', 'me', 'she', 'said', 'she', 'take', 'me', 'anywhere', 'she', 'take', 'me', 'anywhere', 'as', 'long', 'as', 'stayed', 'clean', 'kiss', 'kiss', 'molly', 'lips', 'kiss', 'kiss', 'molly', 'lips', 'kiss', 'kiss', 'molly', 'lips', 'kiss', 'kiss', 'jesus', 'don', 'want', 'me', 'for', 'sunbeam', 'sunbeams', 'are', 'not', 'made', 'like', 'me', 'don', 'expect', 'me', 'to', 'cry', 'for', 'all', 'the', 'reasons', 'you', 'had', 'to', 'die', 'don', 'ever', 'ask', 'your', 'love', 'of', 'me', 'don', 'expect', 'me', 'to', 'cry', 'don', 'expect', 'me', 'to', 'lie', 'don', 'expect', 'me', 'to', 'die', 'for', 'thee', 'jesus', 'don', 'want', 'me', 'for', 'sunbeam', 'sunbeams', 'are', 'never', 'made', 'like', 'me', 'don', 'expect', 'me', 'to', 'cry', 'for', 'all', 'the', 'reasons', 'you', 'had', 'to', 'die', 'don', 'ever', 'ask', 'your', 'love', 'of', 'me', 'don', 'expect', 'me', 'to', 'cry', 'don', 'expect', 'me', 'to', 'lie', 'don', 'expect', 'me', 'to', 'die', 'for', 'thee', 'don', 'expect', 'me', 'to', 'cry', 'don', 'expect', 'me', 'to', 'lie', 'don', 'expect', 'me', 'to', 'die', 'for', 'thee', 'jesus', 'don', 'want', 'me', 'for', 'sunbeam', 'sunbeams', 'are', 'not', 'made', 'like', 'me', 'don', 'expect', 'me', 'to', 'cry', 'for', 'all', 'the', 'reasons', 'you', 'had', 'to', 'die', 'don', 'ever', 'ask', 'your', 'love', 'of', 'me', 'don', 'expect', 'me', 'to', 'cry', 'don', 'expect', 'me', 'to', 'lie', 'don', 'expect', 'me', 'to', 'cry', 'don', 'expect', 'me', 'to', 'die', 'don', 'expect', 'me', 'to', 'lie', 'don', 'expect', 'me', 'to', 'cry', 'for', 'thee', 'monkey', 'see', 'monkey', 'do', 'don', 'know', 'why', 'rather', 'be', 'deal', 'than', 'cool', 'don', 'know', 'why', 'every', 'line', 'ends', 'in', 'rhyme', 'don', 'know', 'why', 'less', 'is', 'more', 'love', 'is', 'blind', 'don', 'know', 'why', 'stay', 'stay', 'away', 'stay', 'away', 'stay', 'away', 'give', 'an', 'inch', 'take', 'smile', 'don', 'know', 'why', 'fashion', 'shits', 'fashion', 'stile', 'don', 'know', 'why', 'throw', 'it', 'out', 'and', 'keep', 'it', 'in', 'don', 'know', 'why', 'have', 'to', 'have', 'poison', 'skin', 'don', 'know', 'why', 'stay', 'stay', 'away', 'stay', 'away', 'stay', 'away', 'don', 'know', 'why', 'don', 'know', 'why', 'stay', 'stay', 'away', 'stay', 'away', 'stay', 'away', 'monkey', 'see', 'monkey', 'do', 'ci', 'don', 'know', 'why', 'rather', 'be', 'deal', 'than', 'cool', 'don', 'know', 'why', 'every', 'line', 'ends', 'in', 'rhyme', 'don', 'know', 'why', 'less', 'is', 'more', 'love', 'is', 'blind', 'don', 'know', 'why', 'stay', 'stay', 'away', 'stay', 'away', 'stay', 'away', 'don', 'know', 'why', 'don', 'know', 'why', 'stay', 'stay', 'away', 'stay', 'away', 'stay', 'away', 'stay', 'stay', 'away', 'stay', 'away', 'stay', 'away', 'stay', 'away', 'stay', 'away', 'god', 'is', 'gay', 'would', 'you', 'believe', 'me', 'when', 'tell', 'you', 'you', 're', 'the', 'queen', 'of', 'my', 'heart', 'please', 'don', 'deceive', 'me', 'when', 'hurt', 'you', 'just', 'ain', 'the', 'way', 'it', 'seems', 'can', 'you', 'feel', 'my', 'love', 'buzz', 'can', 'you', 'feel', 'my', 'love', 'buzz', 'can', 'you', 'feel', 'my', 'love', 'buzz', 'can', 'you', 'feel', 'my', 'love', 'buzz', 'would', 'you', 'believe', 'me', 'when', 'do', 'you', 'you', 're', 'the', 'queen', 'of', 'my', 'heart', 'please', 'don', 'deceive', 'me', 'when', 'hurt', 'you', 'just', 'ain', 'the', 'way', 'it', 'seems', 'can', 'you', 'feel', 'my', 'love', 'buzz', 'can', 'you', 'feel', 'my', 'love', 'buzz', 'can', 'you', 'feel', 'my', 'love', 'buzz', 'can', 'you', 'feel', 'my', 'love', 'buzz', 'and', 'if', 'you', 'save', 'yourself', 'you', 'will', 'make', 'him', 'happy', 'he', 'll', 'keep', 'you', 'in', 'jar', 'and', 'you', 'll', 'think', 'you', 're', 'happy', 'he', 'll', 'give', 'you', 'breather', 'holes', 'and', 'you', 'll', 'think', 'you', 're', 'happy', 'he', 'll', 'cover', 'you', 'with', 'grass', 'and', 'you', 'll', 'think', 'you', 're', 'happy', 'chorus', 'now', 'you', 're', 'in', 'laundry', 'room', 'you', 're', 'in', 'laundry', 'room', 'the', 'clues', 'they', 'came', 'to', 'you', 'and', 'if', 'you', 'cut', 'yourself', 'you', 'will', 'think', 'you', 're', 'happy', 'he', 'll', 'keep', 'you', 'in', 'jar', 'then', 'you', 'll', 'make', 'him', 'happy', 'he', 'll', 'give', 'you', 'breather', 'holes', 'then', 'you', 'll', 'think', 'you', 're', 'happy', 'he', 'll', 'cover', 'you', 'with', 'grass', 'then', 'you', 'll', 'think', 'you', 're', 'happy', 'chorus', 'repeat', 'and', 'if', 'you', 'fool', 'yourself', 'you', 'will', 'make', 'him', 'happy', 'he', 'll', 'keep', 'you', 'in', 'jar', 'then', 'you', 'll', 'think', 'you', 're', 'happy', 'he', 'll', 'give', 'you', 'breather', 'holes', 'then', 'you', 'will', 'seem', 'happy', 'you', 'll', 'wallow', 'in', 'the', 'shit', 'then', 'you', 'll', 'think', 'you', 're', 'happy', 'chorus', 'moderate', 'rock', 'may', 'day', 'every', 'day', 'my', 'day', 'could', 've', 'had', 'heart', 'attack', 'my', 'heart', 'we', 'don', 'know', 'anything', 'my', 'heart', 'we', 'all', 'want', 'something', 'fair', 'my', 'heart', 'hey', 'hey', 'hey', 'hey', 'hey', 'out', 'of', 'town', 'out', 'of', 'sight', 'is', 'my', 'heart', 'queen', 'of', 'lies', 'today', 'my', 'heart', 'one', 'more', 'on', 'the', 'phone', 'my', 'heart', 'one', 'more', 'at', 'the', 'door', 'of', 'my', 'heart', 'hey', 'hey', 'hey', 'hey', 'hey', 'mean', 'heart', 'cold', 'heart', 'cold', 'heart', 'cold', 'heart', 'cold', 'heart', 'cold', 'heart', 'cold', 'heart', 'cold', 'heart', 'yeah', 'she', 'should', 'have', 'stayed', 'away', 'from', 'friends', 'she', 'should', 'have', 'had', 'more', 'time', 'to', 'spend', 'she', 'should', 'have', 'died', 'when', 'she', 'was', 'born', 'she', 'should', 'have', 'worn', 'the', 'crown', 'of', 'thorns', 'she', 'should', 'have', 'been', 'son', 'she', 'should', 'have', 'stood', 'out', 'in', 'the', 'crowd', 'she', 'should', 'have', 'made', 'her', 'mother', 'proud', 'she', 'should', 'have', 'fallen', 'on', 'her', 'stance', 'she', 'should', 'have', 'had', 'another', 'chance', 'runny', 'nose', 'and', 'runny', 'yolk', 'even', 'if', 'you', 'have', 'cold', 'still', 'you', 'can', 'cough', 'on', 'me', 'again', 'still', 'haven', 'had', 'my', 'fulfill', 'in', 'the', 'someday', 'what', 'that', 'sound', 'broken', 'heart', 'and', 'broken', 'bones', 'think', 'of', 'how', 'castrated', 'horse', 'feels', 'alt', 'think', 'about', 'some', 'capsules', 'of', 'horse', 'pills', 'one', 'more', 'quirky', 'cliche', 'phrase', 'you', 're', 'the', 'one', 'wanna', 'refill', 'in', 'the', 'someday', 'what', 'that', 'sound', 'this', 'song', 'is', 'for', 'lovers', 'out', 'there', 'and', 'the', 'little', 'light', 'in', 'the', 'trees', 'and', 'all', 'the', 'flowers', 'have', 'gingivitis', 'and', 'the', 'birds', 'fly', 'happily', 'we', 're', 'together', 'once', 'again', 'my', 'love', 'need', 'you', 'back', 'oh', 'baby', 'baby', 'can', 'explain', 'just', 'why', 'we', 'lost', 'it', 'from', 'the', 'start', 'living', 'without', 'you', 'girl', 'you', 'll', 'only', 'break', 'my', 'heart', 'can', 'feel', 'it', 'can', 'hold', 'it', 'can', 'rub', 'it', 'can', 'shape', 'it', 'can', 'mold', 'it', 'can', 'cut', 'it', 'can', 'taste', 'it', 'can', 'spank', 'it', 'beat', 'it', 'masturbate', 'it', 'been', 'looking', 'for', 'days', 'now', 'always', 'hearing', 'the', 'same', 'ol', 'city', 'boy', 'won', 'you', 'spank', 'through', 'can', 'make', 'you', 'do', 'things', 'you', 'won', 'think', 'you', 'ever', 'could', 'hey', 'just', 'wanted', 'to', 'know', 'do', 'you', 'like', 'me', 'use', 'just', 'once', 'and', 'destroy', 'invasion', 'of', 'our', 'piracy', 'afterbirth', 'of', 'nation', 'starved', 'without', 'your', 'skeleton', 'key', 'love', 'you', 'for'], tags=[0]),\n",
              " TaggedDocument(words=['there', 'must', 'be', 'some', 'way', 'out', 'of', 'here', 'said', 'the', 'joker', 'to', 'the', 'thief', 'there', 'too', 'much', 'confusion', 'can', 'get', 'no', 'relief', 'businessmen', 'they', 'drink', 'my', 'wine', 'plowmen', 'dig', 'my', 'earth', 'none', 'of', 'them', 'along', 'the', 'line', 'know', 'what', 'any', 'of', 'it', 'is', 'worth', 'no', 'reason', 'to', 'get', 'excited', 'the', 'thief', 'he', 'kindly', 'spoke', 'there', 'are', 'many', 'here', 'among', 'us', 'who', 'feel', 'that', 'life', 'is', 'but', 'joke', 'but', 'you', 'and', 'we', 've', 'been', 'through', 'that', 'and', 'this', 'is', 'not', 'our', 'fate', 'so', 'let', 'us', 'not', 'talk', 'falsely', 'now', 'the', 'hour', 'is', 'getting', 'late', 'all', 'along', 'the', 'watchtower', 'princes', 'kept', 'the', 'view', 'while', 'all', 'the', 'women', 'came', 'and', 'went', 'barefoot', 'servants', 'too', 'outside', 'in', 'the', 'distance', 'wildcat', 'did', 'growl', 'two', 'riders', 'were', 'approaching', 'the', 'wind', 'began', 'to', 'howl', 'once', 'upon', 'time', 'you', 'dressed', 'so', 'fine', 'you', 'threw', 'the', 'bums', 'dime', 'in', 'your', 'prime', 'didn', 'you', 'people', 'call', 'say', 'beware', 'doll', 'you', 're', 'bound', 'to', 'fall', 'you', 'thought', 'they', 'were', 'all', 'kiddin', 'you', 'you', 'used', 'to', 'laugh', 'about', 'everybody', 'that', 'was', 'hangin', 'out', 'now', 'you', 'don', 'talk', 'so', 'loud', 'now', 'you', 'don', 'seem', 'so', 'proud', 'about', 'having', 'to', 'be', 'scrounging', 'for', 'your', 'next', 'meal', 'how', 'does', 'it', 'feel', 'how', 'does', 'it', 'feel', 'to', 'be', 'without', 'home', 'like', 'complete', 'unknown', 'like', 'rolling', 'stone', 'you', 've', 'gone', 'to', 'the', 'finest', 'school', 'all', 'right', 'miss', 'lonely', 'but', 'you', 'know', 'you', 'only', 'used', 'to', 'get', 'juiced', 'in', 'it', 'and', 'nobody', 'has', 'ever', 'taught', 'you', 'how', 'to', 'live', 'on', 'the', 'street', 'and', 'now', 'you', 'find', 'out', 'you', 're', 'gonna', 'have', 'to', 'get', 'used', 'to', 'it', 'you', 'said', 'you', 'never', 'compromise', 'with', 'the', 'mystery', 'tramp', 'but', 'now', 'you', 'realize', 'he', 'not', 'selling', 'any', 'alibis', 'as', 'you', 'stare', 'into', 'the', 'vacuum', 'of', 'his', 'eyes', 'and', 'ask', 'him', 'do', 'you', 'want', 'to', 'make', 'deal', 'how', 'does', 'it', 'feel', 'how', 'does', 'it', 'feel', 'to', 'be', 'on', 'your', 'own', 'with', 'no', 'direction', 'home', 'like', 'complete', 'unknown', 'like', 'rolling', 'stone', 'you', 'never', 'turned', 'around', 'to', 'see', 'the', 'frowns', 'on', 'the', 'jugglers', 'and', 'the', 'clowns', 'when', 'they', 'all', 'come', 'down', 'and', 'did', 'tricks', 'for', 'you', 'you', 'never', 'understood', 'that', 'it', 'ain', 'no', 'good', 'you', 'shouldn', 'let', 'other', 'people', 'get', 'your', 'kicks', 'for', 'you', 'you', 'used', 'to', 'ride', 'on', 'the', 'chrome', 'horse', 'with', 'your', 'diplomat', 'who', 'carried', 'on', 'his', 'shoulder', 'siamese', 'cat', 'ain', 'it', 'hard', 'when', 'you', 'discover', 'that', 'he', 'really', 'wasn', 'where', 'it', 'at', 'after', 'he', 'took', 'from', 'you', 'everything', 'he', 'could', 'steal', 'how', 'does', 'it', 'feel', 'how', 'does', 'it', 'feel', 'to', 'be', 'on', 'your', 'own', 'with', 'no', 'direction', 'home', 'like', 'complete', 'unknown', 'like', 'rolling', 'stone', 'princess', 'on', 'the', 'steeple', 'and', 'all', 'the', 'pretty', 'people', 'they', 're', 'drinkin', 'thinkin', 'that', 'they', 'got', 'it', 'made', 'exchanging', 'all', 'kinds', 'of', 'precious', 'gifts', 'and', 'things', 'but', 'you', 'better', 'lift', 'your', 'diamond', 'ring', 'you', 'better', 'pawn', 'it', 'babe', 'you', 'used', 'to', 'be', 'so', 'amused', 'at', 'napoleon', 'in', 'rags', 'and', 'the', 'language', 'that', 'he', 'used', 'go', 'to', 'him', 'now', 'he', 'calls', 'you', 'you', 'can', 'refuse', 'when', 'you', 'got', 'nothing', 'you', 'got', 'nothing', 'to', 'lose', 'you', 're', 'invisible', 'now', 'you', 'got', 'no', 'secrets', 'to', 'conceal', 'how', 'does', 'it', 'feel', 'how', 'does', 'it', 'feel', 'to', 'be', 'on', 'your', 'own', 'with', 'no', 'direction', 'home', 'like', 'complete', 'unknown', 'like', 'rolling', 'stone', 'oh', 'god', 'said', 'to', 'abraham', 'kill', 'me', 'son', 'abe', 'says', 'man', 'you', 'must', 'be', 'puttin', 'me', 'on', 'god', 'say', 'no', 'abe', 'say', 'what', 'god', 'say', 'you', 'can', 'do', 'what', 'you', 'want', 'abe', 'but', 'the', 'next', 'time', 'you', 'see', 'me', 'comin', 'you', 'better', 'run', 'well', 'abe', 'says', 'where', 'do', 'you', 'want', 'this', 'killin', 'done', 'god', 'says', 'out', 'on', 'highway', 'well', 'georgia', 'sam', 'he', 'had', 'bloody', 'nose', 'welfare', 'department', 'they', 'wouldn', 'give', 'him', 'no', 'clothes', 'he', 'asked', 'poor', 'howard', 'where', 'can', 'go', 'howard', 'said', 'there', 'only', 'one', 'place', 'know', 'sam', 'said', 'tell', 'me', 'quick', 'man', 'got', 'to', 'run', 'ol', 'howard', 'just', 'pointed', 'with', 'his', 'gun', 'and', 'said', 'that', 'way', 'down', 'on', 'highway', 'well', 'mack', 'the', 'finger', 'said', 'to', 'louie', 'the', 'king', 'got', 'forty', 'red', 'white', 'and', 'blue', 'shoestrings', 'and', 'thousand', 'telephones', 'that', 'don', 'ring', 'do', 'you', 'know', 'where', 'can', 'get', 'rid', 'of', 'these', 'things', 'and', 'louie', 'the', 'king', 'said', 'let', 'me', 'think', 'for', 'minute', 'son', 'and', 'he', 'said', 'yes', 'think', 'it', 'can', 'be', 'easily', 'done', 'just', 'take', 'everything', 'down', 'to', 'highway', 'now', 'the', 'fifth', 'daughter', 'on', 'the', 'twelfth', 'night', 'told', 'the', 'first', 'father', 'that', 'things', 'weren', 'right', 'my', 'complexion', 'she', 'said', 'is', 'much', 'too', 'white', 'he', 'said', 'come', 'here', 'and', 'step', 'into', 'the', 'light', 'he', 'says', 'hmm', 'you', 're', 'right', 'let', 'me', 'tell', 'the', 'second', 'mother', 'this', 'has', 'been', 'done', 'but', 'the', 'second', 'mother', 'was', 'with', 'the', 'seventh', 'son', 'and', 'they', 'were', 'both', 'out', 'on', 'highway', 'now', 'the', 'rovin', 'gambler', 'he', 'was', 'very', 'bored', 'he', 'was', 'tryin', 'to', 'create', 'next', 'world', 'war', 'he', 'found', 'promoter', 'who', 'nearly', 'fell', 'off', 'the', 'floor', 'he', 'said', 'never', 'engaged', 'in', 'this', 'kind', 'of', 'thing', 'before', 'but', 'yes', 'think', 'it', 'can', 'be', 'very', 'easily', 'done', 'we', 'll', 'just', 'put', 'some', 'bleachers', 'out', 'in', 'the', 'sun', 'and', 'have', 'it', 'on', 'highway', 'early', 'one', 'mornin', 'the', 'sun', 'was', 'shinin', 'was', 'layin', 'in', 'bed', 'wond', 'rin', 'if', 'she', 'changed', 'at', 'all', 'if', 'her', 'hair', 'was', 'still', 'red', 'her', 'folks', 'they', 'said', 'our', 'lives', 'together', 'sure', 'was', 'gonna', 'be', 'rough', 'they', 'never', 'did', 'like', 'mama', 'homemade', 'dress', 'papa', 'bankbook', 'wasn', 'big', 'enough', 'and', 'was', 'standin', 'on', 'the', 'side', 'of', 'the', 'road', 'rain', 'fallin', 'on', 'my', 'shoes', 'heading', 'out', 'for', 'the', 'east', 'coast', 'lord', 'knows', 've', 'paid', 'some', 'dues', 'gettin', 'through', 'tangled', 'up', 'in', 'blue', 'she', 'was', 'married', 'when', 'we', 'first', 'met', 'soon', 'to', 'be', 'divorced', 'helped', 'her', 'out', 'of', 'jam', 'guess', 'but', 'used', 'little', 'too', 'much', 'force', 'we', 'drove', 'that', 'car', 'as', 'far', 'as', 'we', 'could', 'abandoned', 'it', 'out', 'west', 'split', 'up', 'on', 'dark', 'sad', 'night', 'both', 'agreeing', 'it', 'was', 'best', 'she', 'turned', 'around', 'to', 'look', 'at', 'me', 'as', 'was', 'walkin', 'away', 'heard', 'her', 'say', 'over', 'my', 'shoulder', 'we', 'll', 'meet', 'again', 'someday', 'on', 'the', 'avenue', 'tangled', 'up', 'in', 'blue', 'had', 'job', 'in', 'the', 'great', 'north', 'woods', 'working', 'as', 'cook', 'for', 'spell', 'but', 'never', 'did', 'like', 'it', 'all', 'that', 'much', 'and', 'one', 'day', 'the', 'ax', 'just', 'fell', 'so', 'drifted', 'down', 'to', 'new', 'orleans', 'where', 'happened', 'to', 'be', 'employed', 'workin', 'for', 'while', 'on', 'fishin', 'boat', 'right', 'outside', 'of', 'delacroix', 'but', 'all', 'the', 'while', 'was', 'alone', 'the', 'past', 'was', 'close', 'behind', 'seen', 'lot', 'of', 'women', 'but', 'she', 'never', 'escaped', 'my', 'mind', 'and', 'just', 'grew', 'tangled', 'up', 'in', 'blue', 'she', 'was', 'workin', 'in', 'topless', 'place', 'and', 'stopped', 'in', 'for', 'beer', 'just', 'kept', 'lookin', 'at', 'the', 'side', 'of', 'her', 'face', 'in', 'the', 'spotlight', 'so', 'clear', 'and', 'later', 'on', 'as', 'the', 'crowd', 'thinned', 'out', 'just', 'about', 'to', 'do', 'the', 'same', 'she', 'was', 'standing', 'there', 'in', 'back', 'of', 'my', 'chair', 'said', 'to', 'me', 'don', 'know', 'your', 'name', 'muttered', 'somethin', 'underneath', 'my', 'breath', 'she', 'studied', 'the', 'lines', 'on', 'my', 'face', 'must', 'admit', 'felt', 'little', 'uneasy', 'when', 'she', 'bent', 'down', 'to', 'tie', 'the', 'laces', 'of', 'my', 'shoe', 'tangled', 'up', 'in', 'blue', 'she', 'lit', 'burner', 'on', 'the', 'stove', 'and', 'offered', 'me', 'pipe', 'thought', 'you', 'never', 'say', 'hello', 'she', 'said', 'you', 'look', 'like', 'the', 'silent', 'type', 'then', 'she', 'opened', 'up', 'book', 'of', 'poems', 'and', 'handed', 'it', 'to', 'me', 'written', 'by', 'an', 'italian', 'poet', 'from', 'the', 'thirteenth', 'century', 'and', 'every', 'one', 'of', 'them', 'words', 'rang', 'true', 'and', 'glowed', 'like', 'burnin', 'coal', 'pourin', 'off', 'of', 'every', 'page', 'like', 'it', 'was', 'written', 'in', 'my', 'soul', 'from', 'me', 'to', 'you', 'tangled', 'up', 'in', 'blue', 'lived', 'with', 'them', 'on', 'montague', 'street', 'in', 'basement', 'down', 'the', 'stairs', 'there', 'was', 'music', 'in', 'the', 'cafés', 'at', 'night', 'and', 'revolution', 'in', 'the', 'air', 'then', 'he', 'started', 'into', 'dealing', 'with', 'slaves', 'and', 'something', 'inside', 'of', 'him', 'died', 'she', 'had', 'to', 'sell', 'everything', 'she', 'owned', 'and', 'froze', 'up', 'inside', 'and', 'when', 'finally', 'the', 'bottom', 'fell', 'out', 'became', 'withdrawn', 'the', 'only', 'thing', 'knew', 'how', 'to', 'do', 'was', 'to', 'keep', 'on', 'keepin', 'on', 'like', 'bird', 'that', 'flew', 'tangled', 'up', 'in', 'blue', 'so', 'now', 'goin', 'back', 'again', 'got', 'to', 'get', 'to', 'her', 'somehow', 'all', 'the', 'people', 'we', 'used', 'to', 'know', 'they', 're', 'an', 'illusion', 'to', 'me', 'now', 'some', 'are', 'mathematicians', 'some', 'are', 'carpenters', 'wives', 'don', 'know', 'how', 'it', 'all', 'got', 'started', 'don', 'know', 'what', 'they', 're', 'doin', 'with', 'their', 'lives', 'but', 'me', 'still', 'on', 'the', 'road', 'headin', 'for', 'another', 'joint', 'we', 'always', 'did', 'feel', 'the', 'same', 'we', 'just', 'saw', 'it', 'from', 'different', 'point', 'of', 'view', 'tangled', 'up', 'in', 'blue', 'how', 'many', 'roads', 'must', 'man', 'walk', 'down', 'before', 'you', 'call', 'him', 'man', 'yes', 'how', 'many', 'seas', 'must', 'white', 'dove', 'sail', 'before', 'she', 'sleeps', 'in', 'the', 'sand', 'yes', 'how', 'many', 'times', 'must', 'the', 'cannonballs', 'fly', 'before', 'they', 're', 'forever', 'banned', 'the', 'answer', 'my', 'friend', 'is', 'blowin', 'in', 'the', 'wind', 'the', 'answer', 'is', 'blowin', 'in', 'the', 'wind', 'how', 'many', 'years', 'can', 'mountain', 'exist', 'before', 'it', 'washed', 'to', 'the', 'sea', 'yes', 'how', 'many', 'years', 'can', 'some', 'people', 'exist', 'before', 'they', 're', 'allowed', 'to', 'be', 'free', 'yes', 'how', 'many', 'times', 'can', 'man', 'turn', 'his', 'head', 'pretending', 'he', 'just', 'doesn', 'see', 'the', 'answer', 'my', 'friend', 'is', 'blowin', 'in', 'the', 'wind', 'the', 'answer', 'is', 'blowin', 'in', 'the', 'wind', 'how', 'many', 'times', 'must', 'man', 'look', 'up', 'before', 'he', 'can', 'see', 'the', 'sky', 'yes', 'how', 'many', 'ears', 'must', 'one', 'man', 'have', 'before', 'he', 'can', 'hear', 'people', 'cry', 'yes', 'how', 'many', 'deaths', 'will', 'it', 'take', 'till', 'he', 'knows', 'that', 'too', 'many', 'people', 'have', 'died', 'the', 'answer', 'my', 'friend', 'is', 'blowin', 'in', 'the', 'wind', 'the', 'answer', 'is', 'blowin', 'in', 'the', 'wind', 'you', 'walk', 'into', 'the', 'room', 'with', 'your', 'pencil', 'in', 'your', 'hand', 'you', 'see', 'somebody', 'naked', 'and', 'you', 'say', 'who', 'is', 'that', 'man', 'you', 'try', 'so', 'hard', 'but', 'you', 'don', 'understand', 'just', 'what', 'you', 'll', 'say', 'when', 'you', 'get', 'home', 'because', 'something', 'is', 'happening', 'here', 'but', 'you', 'don', 'know', 'what', 'it', 'is', 'do', 'you', 'mister', 'jones', 'you', 'raise', 'up', 'your', 'head', 'and', 'you', 'ask', 'is', 'this', 'where', 'it', 'is', 'and', 'somebody', 'points', 'to', 'you', 'and', 'says', 'it', 'his', 'and', 'you', 'say', 'what', 'mine', 'and', 'somebody', 'else', 'says', 'where', 'what', 'is', 'and', 'you', 'say', 'oh', 'my', 'god', 'am', 'here', 'all', 'alone', 'because', 'something', 'is', 'happening', 'here', 'but', 'you', 'don', 'know', 'what', 'it', 'is', 'do', 'you', 'mister', 'jones', 'you', 'hand', 'in', 'your', 'ticket', 'and', 'you', 'go', 'watch', 'the', 'geek', 'who', 'immediately', 'walks', 'up', 'to', 'you', 'when', 'he', 'hears', 'you', 'speak', 'and', 'says', 'how', 'does', 'it', 'feel', 'to', 'be', 'such', 'freak', 'and', 'you', 'say', 'impossible', 'as', 'he', 'hands', 'you', 'bone', 'because', 'something', 'is', 'happening', 'here', 'but', 'you', 'don', 'know', 'what', 'it', 'is', 'do', 'you', 'mister', 'jones', 'you', 'have', 'many', 'contacts', 'among', 'the', 'lumberjacks', 'to', 'get', 'you', 'facts', 'when', 'someone', 'attacks', 'your', 'imagination', 'but', 'nobody', 'has', 'any', 'respect', 'anyway', 'they', 'already', 'expect', 'you', 'to', 'just', 'give', 'check', 'to', 'tax', 'deductible', 'charity', 'organizations', 'you', 've', 'been', 'with', 'the', 'professors', 'and', 'they', 've', 'all', 'liked', 'your', 'looks', 'with', 'great', 'lawyers', 'you', 'have', 'discussed', 'lepers', 'and', 'crooks', 'you', 've', 'been', 'through', 'all', 'of', 'scott', 'fitzgerald', 'books', 'you', 're', 'very', 'well', 'read', 'it', 'well', 'known', 'because', 'something', 'is', 'happening', 'here', 'but', 'you', 'don', 'know', 'what', 'it', 'is', 'do', 'you', 'mister', 'jones', 'well', 'the', 'sword', 'swallower', 'he', 'comes', 'up', 'to', 'you', 'and', 'then', 'he', 'kneels', 'he', 'crosses', 'himself', 'and', 'then', 'he', 'clicks', 'his', 'high', 'heels', 'and', 'without', 'further', 'notice', 'he', 'asks', 'you', 'how', 'it', 'feels', 'and', 'he', 'says', 'here', 'is', 'your', 'throat', 'back', 'thanks', 'for', 'the', 'loan', 'because', 'something', 'is', 'happening', 'here', 'but', 'you', 'don', 'know', 'what', 'it', 'is', 'do', 'you', 'mister', 'jones', 'now', 'you', 'see', 'this', 'one', 'eyed', 'midget', 'shouting', 'the', 'word', 'now', 'and', 'you', 'say', 'for', 'what', 'reason', 'and', 'he', 'says', 'how', 'and', 'you', 'say', 'what', 'does', 'this', 'mean', 'and', 'he', 'screams', 'back', 'you', 're', 'cow', 'give', 'me', 'some', 'milk', 'or', 'else', 'go', 'home', 'because', 'something', 'is', 'happening', 'here', 'but', 'you', 'don', 'know', 'what', 'it', 'is', 'do', 'you', 'mister', 'jones', 'well', 'you', 'walk', 'into', 'the', 'room', 'like', 'camel', 'and', 'then', 'you', 'frown', 'you', 'put', 'your', 'eyes', 'in', 'your', 'pocket', 'and', 'your', 'nose', 'on', 'the', 'ground', 'there', 'ought', 'to', 'be', 'law', 'against', 'you', 'comin', 'around', 'you', 'should', 'be', 'made', 'to', 'wear', 'earphones', 'because', 'something', 'is', 'happening', 'here', 'but', 'you', 'don', 'know', 'what', 'it', 'is', 'do', 'you', 'mister', 'jones', 'ain', 'gonna', 'work', 'on', 'maggie', 'farm', 'no', 'more', 'no', 'ain', 'gonna', 'work', 'on', 'maggie', 'farm', 'no', 'more', 'well', 'wake', 'in', 'the', 'morning', 'fold', 'my', 'hands', 'and', 'pray', 'for', 'rain', 'got', 'head', 'full', 'of', 'ideas', 'that', 'are', 'drivin', 'me', 'insane', 'it', 'shame', 'the', 'way', 'she', 'makes', 'me', 'scrub', 'the', 'floor', 'ain', 'gonna', 'work', 'on', 'maggie', 'farm', 'no', 'more', 'ain', 'gonna', 'work', 'for', 'maggie', 'brother', 'no', 'more', 'no', 'ain', 'gonna', 'work', 'for', 'maggie', 'brother', 'no', 'more', 'well', 'he', 'hands', 'you', 'nickel', 'he', 'hands', 'you', 'dime', 'he', 'asks', 'you', 'with', 'grin', 'if', 'you', 're', 'havin', 'good', 'time', 'then', 'he', 'fines', 'you', 'every', 'time', 'you', 'slam', 'the', 'door', 'ain', 'gonna', 'work', 'for', 'maggie', 'brother', 'no', 'more', 'ain', 'gonna', 'work', 'for', 'maggie', 'pa', 'no', 'more', 'no', 'ain', 'gonna', 'work', 'for', 'maggie', 'pa', 'no', 'more', 'well', 'he', 'puts', 'his', 'cigar', 'out', 'in', 'your', 'face', 'just', 'for', 'kicks', 'his', 'bedroom', 'window', 'it', 'is', 'made', 'out', 'of', 'bricks', 'the', 'national', 'guard', 'stands', 'around', 'his', 'door', 'ah', 'ain', 'gonna', 'work', 'for', 'maggie', 'pa', 'no', 'more', 'ain', 'gonna', 'work', 'for', 'maggie', 'ma', 'no', 'more', 'no', 'ain', 'gonna', 'work', 'for', 'maggie', 'ma', 'no', 'more', 'well', 'she', 'talks', 'to', 'all', 'the', 'servants', 'about', 'man', 'and', 'god', 'and', 'law', 'everybody', 'says', 'she', 'the', 'brains', 'behind', 'pa', 'she', 'sixty', 'eight', 'but', 'she', 'says', 'she', 'twenty', 'four', 'ain', 'gonna', 'work', 'for', 'maggie', 'ma', 'no', 'more', 'ain', 'gonna', 'work', 'on', 'maggie', 'farm', 'no', 'more', 'no', 'ain', 'gonna', 'work', 'on', 'maggie', 'farm', 'no', 'more', 'well', 'try', 'my', 'best', 'to', 'be', 'just', 'like', 'am', 'but', 'everybody', 'wants', 'you', 'to', 'be', 'just', 'like', 'them', 'they', 'sing', 'while', 'you', 'slave', 'and', 'just', 'get', 'bored', 'ain', 'gonna', 'work', 'on', 'maggie', 'farm', 'no', 'more', 'well', 'they', 'll', 'stone', 'ya', 'when', 'you', 're', 'trying', 'to', 'be', 'so', 'good', 'they', 'll', 'stone', 'ya', 'just', 'like', 'they', 'said', 'they', 'would', 'they', 'll', 'stone', 'ya', 'when', 'you', 're', 'tryin', 'to', 'go', 'home', 'then', 'they', 'll', 'stone', 'ya', 'when', 'you', 're', 'there', 'all', 'alone', 'but', 'would', 'not', 'feel', 'so', 'all', 'alone', 'everybody', 'must', 'get', 'stoned', 'well', 'they', 'll', 'stone', 'ya', 'when', 'you', 're', 'walkin', 'long', 'the', 'street', 'they', 'll', 'stone', 'ya', 'when', 'you', 're', 'tryin', 'to', 'keep', 'your', 'seat', 'they', 'll', 'stone', 'ya', 'when', 'you', 're', 'walkin', 'on', 'the', 'floor', 'they', 'll', 'stone', 'ya', 'when', 'you', 're', 'walkin', 'to', 'the', 'door', 'but', 'would', 'not', 'feel', 'so', 'all', 'alone', 'everybody', 'must', 'get', 'stoned', 'they', 'll', 'stone', 'ya', 'when', 'you', 're', 'at', 'the', 'breakfast', 'table', 'they', 'll', 'stone', 'ya', 'when', 'you', 'are', 'young', 'and', 'able', 'they', 'll', 'stone', 'ya', 'when', 'you', 're', 'tryin', 'to', 'make', 'buck', 'they', 'll', 'stone', 'ya', 'and', 'then', 'they', 'll', 'say', 'good', 'luck', 'tell', 'ya', 'what', 'would', 'not', 'feel', 'so', 'all', 'alone', 'everybody', 'must', 'get', 'stoned', 'well', 'they', 'll', 'stone', 'you', 'and', 'say', 'that', 'it', 'the', 'end', 'then', 'they', 'll', 'stone', 'you', 'and', 'then', 'they', 'll', 'come', 'back', 'again', 'they', 'll', 'stone', 'you', 'when', 'you', 're', 'riding', 'in', 'your', 'car', 'they', 'll', 'stone', 'you', 'when', 'you', 're', 'playing', 'your', 'guitar', 'yes', 'but', 'would', 'not', 'feel', 'so', 'all', 'alone', 'everybody', 'must', 'get', 'stoned', 'well', 'they', 'll', 'stone', 'you', 'when', 'you', 'walk', 'all', 'alone', 'they', 'll', 'stone', 'you', 'when', 'you', 'are', 'walking', 'home', 'they', 'll', 'stone', 'you', 'and', 'then', 'say', 'you', 'are', 'brave', 'they', 'll', 'stone', 'you', 'when', 'you', 'are', 'set', 'down', 'in', 'your', 'grave', 'but', 'would', 'not', 'feel', 'so', 'all', 'alone', 'everybody', 'must', 'get', 'stoned', 'it', 'ain', 'no', 'use', 'to', 'sit', 'and', 'wonder', 'why', 'babe', 'it', 'don', 'matter', 'anyhow', 'an', 'it', 'ain', 'no', 'use', 'to', 'sit', 'and', 'wonder', 'why', 'babe', 'if', 'you', 'don', 'know', 'by', 'now', 'when', 'your', 'rooster', 'crows', 'at', 'the', 'break', 'of', 'dawn', 'look', 'out', 'your', 'window', 'and', 'll', 'be', 'gone', 'you', 're', 'the', 'reason', 'trav', 'lin', 'on', 'don', 'think', 'twice', 'it', 'all', 'right', 'it', 'ain', 'no', 'use', 'in', 'turnin', 'on', 'your', 'light', 'babe', 'that', 'light', 'never', 'knowed', 'an', 'it', 'ain', 'no', 'use', 'in', 'turnin', 'on', 'your', 'light', 'babe', 'on', 'the', 'dark', 'side', 'of', 'the', 'road', 'still', 'wish', 'there', 'was', 'somethin', 'you', 'would', 'do', 'or', 'say', 'to', 'try', 'and', 'make', 'me', 'change', 'my', 'mind', 'and', 'stay', 'we', 'never', 'did', 'too', 'much', 'talkin', 'anyway', 'so', 'don', 'think', 'twice', 'it', 'all', 'right', 'it', 'ain', 'no', 'use', 'in', 'callin', 'out', 'my', 'name', 'gal', 'like', 'you', 'never', 'did', 'before', 'it', 'ain', 'no', 'use', 'in', 'callin', 'out', 'my', 'name', 'gal', 'can', 'hear', 'you', 'anymore', 'thinkin', 'and', 'wond', 'rin', 'all', 'the', 'way', 'down', 'the', 'road', 'once', 'loved', 'woman', 'child', 'told', 'give', 'her', 'my', 'heart', 'but', 'she', 'wanted', 'my', 'soul', 'but', 'don', 'think', 'twice', 'it', 'all', 'right', 'walkin', 'down', 'that', 'long', 'lonesome', 'road', 'babe', 'where', 'bound', 'can', 'tell', 'but', 'goodbye', 'too', 'good', 'word', 'gal', 'so', 'll', 'just', 'say', 'fare', 'thee', 'well', 'ain', 'sayin', 'you', 'treated', 'me', 'unkind', 'you', 'could', 'have', 'done', 'better', 'but', 'don', 'mind', 'you', 'just', 'kinda', 'wasted', 'my', 'precious', 'time', 'but', 'don', 'think', 'twice', 'it', 'all', 'right', 'go', 'way', 'from', 'my', 'window', 'leave', 'at', 'your', 'own', 'chosen', 'speed', 'not', 'the', 'one', 'you', 'want', 'babe', 'not', 'the', 'one', 'you', 'need', 'you', 'say', 'you', 're', 'lookin', 'for', 'someone', 'never', 'weak', 'but', 'always', 'strong', 'to', 'protect', 'you', 'an', 'defend', 'you', 'whether', 'you', 'are', 'right', 'or', 'wrong', 'someone', 'to', 'open', 'each', 'and', 'every', 'door', 'but', 'it', 'ain', 'me', 'babe', 'no', 'no', 'no', 'it', 'ain', 'me', 'babe', 'it', 'ain', 'me', 'you', 're', 'lookin', 'for', 'babe', 'go', 'lightly', 'from', 'the', 'ledge', 'babe', 'go', 'lightly', 'on', 'the', 'ground', 'not', 'the', 'one', 'you', 'want', 'babe', 'will', 'only', 'let', 'you', 'down', 'you', 'say', 'you', 're', 'lookin', 'for', 'someone', 'who', 'will', 'promise', 'never', 'to', 'part', 'someone', 'to', 'close', 'his', 'eyes', 'for', 'you', 'someone', 'to', 'close', 'his', 'heart', 'someone', 'who', 'will', 'die', 'for', 'you', 'an', 'more', 'but', 'it', 'ain', 'me', 'babe', 'no', 'no', 'no', 'it', 'ain', 'me', 'babe', 'it', 'ain', 'me', 'you', 're', 'lookin', 'for', 'babe', 'go', 'melt', 'back', 'into', 'the', 'night', 'babe', 'everything', 'inside', 'is', 'made', 'of', 'stone', 'there', 'nothing', 'in', 'here', 'moving', 'an', 'anyway', 'not', 'alone', 'you', 'say', 'you', 're', 'lookin', 'for', 'someone', 'who', 'll', 'pick', 'you', 'up', 'each', 'time', 'you', 'fall', 'to', 'gather', 'flowers', 'constantly', 'an', 'to', 'come', 'each', 'time', 'you', 'call', 'lover', 'for', 'your', 'life', 'an', 'nothing', 'more', 'but', 'it', 'ain', 'me', 'babe', 'no', 'no', 'no', 'it', 'ain', 'me', 'babe', 'it', 'ain', 'me', 'you', 're', 'lookin', 'for', 'babe', 'hey', 'mr', 'tambourine', 'man', 'play', 'song', 'for', 'me', 'not', 'sleepy', 'and', 'there', 'is', 'no', 'place', 'going', 'to', 'hey', 'mr', 'tambourine', 'man', 'play', 'song', 'for', 'me', 'in', 'the', 'jingle', 'jangle', 'morning', 'll', 'come', 'followin', 'you', 'though', 'know', 'that', 'evenin', 'empire', 'has', 'returned', 'into', 'sand', 'vanished', 'from', 'my', 'hand', 'left', 'me', 'blindly', 'here', 'to', 'stand', 'but', 'still', 'not', 'sleeping', 'my', 'weariness', 'amazes', 'me', 'branded', 'on', 'my', 'feet', 'have', 'no', 'one', 'to', 'meet', 'and', 'the', 'ancient', 'empty', 'street', 'too', 'dead', 'for', 'dreaming', 'hey', 'mr', 'tambourine', 'man', 'play', 'song', 'for', 'me', 'not', 'sleepy', 'and', 'there', 'is', 'no', 'place', 'going', 'to', 'hey', 'mr', 'tambourine', 'man', 'play', 'song', 'for', 'me', 'in', 'the', 'jingle', 'jangle', 'morning', 'll', 'come', 'followin', 'you', 'take', 'me', 'on', 'trip', 'upon', 'your', 'magic', 'swirlin', 'ship', 'my', 'senses', 'have', 'been', 'stripped', 'my', 'hands', 'can', 'feel', 'to', 'grip', 'my', 'toes', 'too', 'numb', 'to', 'step', 'wait', 'only', 'for', 'my', 'boot', 'heels', 'to', 'be', 'wanderin', 'ready', 'to', 'go', 'anywhere', 'ready', 'for', 'to', 'fade', 'into', 'my', 'own', 'parade', 'cast', 'your', 'dancing', 'spell', 'my', 'way', 'promise', 'to', 'go', 'under', 'it', 'hey', 'mr', 'tambourine', 'man', 'play', 'song', 'for', 'me', 'not', 'sleepy', 'and', 'there', 'is', 'no', 'place', 'going', 'to', 'hey', 'mr', 'tambourine', 'man', 'play', 'song', 'for', 'me', 'in', 'the', 'jingle', 'jangle', 'morning', 'll', 'come', 'followin', 'you', 'though', 'you', 'might', 'hear', 'laughin', 'spinnin', 'swingin', 'madly', 'across', 'the', 'sun', 'it', 'not', 'aimed', 'at', 'anyone', 'it', 'just', 'escapin', 'on', 'the', 'run', 'and', 'but', 'for', 'the', 'sky', 'there', 'are', 'no', 'fences', 'facin', 'and', 'if', 'you', 'hear', 'vague', 'traces', 'of', 'skippin', 'reels', 'of', 'rhyme', 'to', 'your', 'tambourine', 'in', 'time', 'it', 'just', 'ragged', 'clown', 'behind', 'wouldn', 'pay', 'it', 'any', 'mind', 'it', 'just', 'shadow', 'you', 're', 'seein', 'that', 'he', 'chasing', 'hey', 'mr', 'tambourine', 'man', 'play', 'song', 'for', 'me', 'not', 'sleepy', 'and', 'there', 'is', 'no', 'place', 'going', 'to', 'hey', 'mr', 'tambourine', 'man', 'play', 'song', 'for', 'me', 'in', 'the', 'jingle', 'jangle', 'morning', 'll', 'come', 'followin', 'you', 'then', 'take', 'me', 'disappearin', 'through', 'the', 'smoke', 'rings', 'of', 'my', 'mind', 'down', 'the', 'foggy', 'ruins', 'of', 'time', 'far', 'past', 'the', 'frozen', 'leaves', 'the', 'haunted', 'frightened', 'trees', 'out', 'to', 'the', 'windy', 'beach', 'far', 'from', 'the', 'twisted', 'reach', 'of', 'crazy', 'sorrow', 'yes', 'to', 'dance', 'beneath', 'the', 'diamond', 'sky', 'with', 'one', 'hand', 'waving', 'free', 'silhouetted', 'by', 'the', 'sea', 'circled', 'by', 'the', 'circus', 'sands', 'with', 'all', 'memory', 'and', 'fate', 'driven', 'deep', 'beneath', 'the', 'waves', 'let', 'me', 'forget', 'about', 'today', 'until', 'tomorrow', 'hey', 'mr', 'tambourine', 'man', 'play', 'song', 'for', 'me', 'not', 'sleepy', 'and', 'there', 'is', 'no', 'place', 'going', 'to', 'hey', 'mr', 'tambourine', 'man', 'play', 'song', 'for', 'me', 'in', 'the', 'jingle', 'jangle', 'morning', 'll', 'come', 'followin', 'you', 'come', 'you', 'masters', 'of', 'war', 'you', 'that', 'build', 'all', 'the', 'guns', 'you', 'that', 'build', 'the', 'death', 'planes', 'you', 'that', 'build', 'the', 'big', 'bombs', 'you', 'that', 'hide', 'behind', 'walls', 'you', 'that', 'hide', 'behind', 'desks', 'just', 'want', 'you', 'to', 'know', 'can', 'see', 'through', 'your', 'masks', 'you', 'that', 'never', 'done', 'nothin', 'but', 'build', 'to', 'destroy', 'you', 'play', 'with', 'my', 'world', 'like', 'it', 'your', 'little', 'toy', 'you', 'put', 'gun', 'in', 'my', 'hand', 'and', 'you', 'hide', 'from', 'my', 'eyes', 'and', 'you', 'turn', 'and', 'run', 'farther', 'when', 'the', 'fast', 'bullets', 'fly', 'like', 'judas', 'of', 'old', 'you', 'lie', 'and', 'deceive', 'world', 'war', 'can', 'be', 'won', 'you', 'want', 'me', 'to', 'believe', 'but', 'see', 'through', 'your', 'eyes', 'and', 'see', 'through', 'your', 'brain', 'like', 'see', 'through', 'the', 'water', 'that', 'runs', 'down', 'my', 'drain', 'you', 'fasten', 'the', 'triggers', 'for', 'the', 'others', 'to', 'fire', 'then', 'you', 'set', 'back', 'and', 'watch', 'when', 'the', 'death', 'count', 'gets', 'higher', 'you', 'hide', 'in', 'your', 'mansion', 'as', 'young', 'people', 'blood', 'flows', 'out', 'of', 'their', 'bodies', 'and', 'is', 'buried', 'in', 'the', 'mud', 'you', 've', 'thrown', 'the', 'worst', 'fear', 'that', 'can', 'ever', 'be', 'hurled', 'fear', 'to', 'bring', 'children', 'into', 'the', 'world', 'for', 'threatening', 'my', 'baby', 'unborn', 'and', 'unnamed', 'you', 'ain', 'worth', 'the', 'blood', 'that', 'runs', 'in', 'your', 'veins', 'how', 'much', 'do', 'know', 'to', 'talk', 'out', 'of', 'turn', 'you', 'might', 'say', 'that', 'young', 'you', 'might', 'say', 'unlearned', 'but', 'there', 'one', 'thing', 'know', 'though', 'younger', 'than', 'you', 'even', 'jesus', 'would', 'never', 'forgive', 'what', 'you', 'do', 'let', 'me', 'ask', 'you', 'one', 'question', 'is', 'your', 'money', 'that', 'good', 'will', 'it', 'buy', 'you', 'forgiveness', 'do', 'you', 'think', 'that', 'it', 'could', 'think', 'you', 'will', 'find', 'when', 'your', 'death', 'takes', 'its', 'toll', 'all', 'the', 'money', 'you', 'made', 'will', 'never', 'buy', 'back', 'your', 'soul', 'and', 'hope', 'that', 'you', 'die', 'and', 'your', 'death', 'll', 'come', 'soon', 'will', 'follow', 'your', 'casket', 'in', 'the', 'pale', 'afternoon', 'and', 'll', 'watch', 'while', 'you', 're', 'lowered', 'down', 'to', 'your', 'deathbed', 'and', 'll', 'stand', 'er', 'your', 'grave', 'til', 'sure', 'that', 'you', 're', 'dead', 'nobody', 'feels', 'any', 'pain', 'tonight', 'as', 'stand', 'inside', 'the', 'rain', 'ev', 'rybody', 'knows', 'that', 'baby', 'got', 'new', 'clothes', 'but', 'lately', 'see', 'her', 'ribbons', 'and', 'her', 'bows', 'have', 'fallen', 'from', 'her', 'curls', 'she', 'takes', 'just', 'like', 'woman', 'yes', 'she', 'does', 'she', 'makes', 'love', 'just', 'like', 'woman', 'yes', 'she', 'does', 'and', 'she', 'aches', 'just', 'like', 'woman', 'but', 'she', 'breaks', 'just', 'like', 'little', 'girl', 'queen', 'mary', 'she', 'my', 'friend', 'yes', 'believe', 'll', 'go', 'see', 'her', 'again', 'nobody', 'has', 'to', 'guess', 'that', 'baby', 'can', 'be', 'blessed', 'till', 'she', 'sees', 'finally', 'that', 'she', 'like', 'all', 'the', 'rest', 'with', 'her', 'fog', 'her', 'amphetamine', 'and', 'her', 'pearls', 'she', 'takes', 'just', 'like', 'woman', 'yes', 'she', 'does', 'she', 'makes', 'love', 'just', 'like', 'woman', 'yes', 'she', 'does', 'and', 'she', 'aches', 'just', 'like', 'woman', 'but', 'she', 'breaks', 'just', 'like', 'little', 'girl', 'it', 'was', 'raining', 'from', 'the', 'first', 'and', 'was', 'dying', 'there', 'of', 'thirst', 'so', 'came', 'in', 'here', 'and', 'your', 'long', 'time', 'curse', 'hurts', 'but', 'what', 'worse', 'is', 'this', 'pain', 'in', 'here', 'can', 'stay', 'in', 'here', 'ain', 'it', 'clear', 'that', 'just', 'can', 'fit', 'yes', 'believe', 'it', 'time', 'for', 'us', 'to', 'quit', 'when', 'we', 'meet', 'again', 'introduced', 'as', 'friends', 'please', 'don', 'let', 'on', 'that', 'you', 'knew', 'me', 'when', 'was', 'hungry', 'and', 'it', 'was', 'your', 'world', 'ah', 'you', 'fake', 'just', 'like', 'woman', 'yes', 'you', 'do', 'you', 'make', 'love', 'just', 'like', 'woman', 'yes', 'you', 'do', 'then', 'you', 'ache', 'just', 'like', 'woman', 'but', 'you', 'break', 'just', 'like', 'little', 'girl', 'summer', 'days', 'summer', 'nights', 'are', 'gone', 'summer', 'days', 'and', 'the', 'summer', 'nights', 'are', 'gone', 'know', 'place', 'where', 'there', 'still', 'somethin', 'going', 'on', 'got', 'house', 'on', 'hill', 'got', 'hogs', 'all', 'out', 'in', 'the', 'mud', 'got', 'house', 'on', 'hill', 'got', 'hogs', 'out', 'lying', 'in', 'the', 'mud', 'got', 'long', 'haired', 'woman', 'she', 'got', 'royal', 'indian', 'blood', 'everybody', 'get', 'ready', 'lift', 'your', 'glasses', 'and', 'sing', 'everybody', 'get', 'ready', 'to', 'lift', 'your', 'glasses', 'and', 'sing', 'well', 'standin', 'on', 'the', 'table', 'proposing', 'toast', 'to', 'the', 'king', 'well', 'drivin', 'in', 'the', 'flats', 'in', 'cadillac', 'car', 'the', 'girls', 'all', 'say', 'you', 're', 'worn', 'out', 'star', 'my', 'pockets', 'are', 'loaded', 'and', 'spending', 'every', 'dime', 'how', 'can', 'you', 'say', 'you', 'love', 'someone', 'else', 'when', 'you', 'know', 'it', 'me', 'all', 'the', 'time', 'well', 'the', 'fog', 'so', 'thick', 'you', 'can', 'spy', 'the', 'land', 'the', 'fog', 'is', 'so', 'thick', 'that', 'you', 'can', 'even', 'spy', 'the', 'land', 'what', 'good', 'are', 'you', 'anyway', 'if', 'you', 'can', 'stand', 'up', 'to', 'some', 'old', 'businessman', 'wedding', 'bells', 'ringin', 'the', 'choir', 'is', 'beginning', 'to', 'sing', 'yes', 'the', 'wedding', 'bells', 'are', 'ringing', 'and', 'the', 'choir', 'is', 'beginning', 'to', 'sing', 'what', 'looks', 'good', 'in', 'the', 'day', 'at', 'night', 'is', 'another', 'thing', 'she', 'looking', 'into', 'my', 'eyes', 'she', 'holding', 'my', 'hand', 'she', 'looking', 'into', 'my', 'eyes', 'she', 'holding', 'my', 'hand', 'she', 'says', 'you', 'can', 'repeat', 'the', 'past', 'say', 'you', 'can', 'what', 'do', 'you', 'mean', 'you', 'can', 'of', 'course', 'you', 'can', 'where', 'do', 'you', 'come', 'from', 'where', 'do', 'you', 'go', 'sorry', 'that', 'nothin', 'you', 'would', 'need', 'to', 'know', 'well', 'my', 'back', 'has', 'been', 'to', 'the', 'wall', 'for', 'so', 'long', 'it', 'seems', 'like', 'it', 'stuck', 'why', 'don', 'you', 'break', 'my', 'heart', 'one', 'more', 'time', 'just', 'for', 'good', 'luck', 'got', 'eight', 'carburetors', 'boys', 'using', 'em', 'all', 'well', 'got', 'eight', 'carburetors', 'and', 'boys', 'using', 'em', 'all', 'short', 'on', 'gas', 'my', 'motor', 'starting', 'to', 'stall', 'my', 'dogs', 'are', 'barking', 'there', 'must', 'be', 'someone', 'around', 'my', 'dogs', 'are', 'barking', 'there', 'must', 'be', 'someone', 'around', 'got', 'my', 'hammer', 'ringin', 'pretty', 'baby', 'but', 'the', 'nails', 'ain', 'goin', 'down', 'you', 'got', 'something', 'to', 'say', 'speak', 'or', 'hold', 'your', 'peace', 'well', 'you', 'got', 'something', 'to', 'say', 'speak', 'now', 'or', 'hold', 'your', 'peace', 'if', 'it', 'information', 'you', 'want', 'you', 'can', 'go', 'get', 'it', 'from', 'the', 'police', 'politician', 'got', 'on', 'his', 'jogging', 'shoes', 'he', 'must', 'be', 'running', 'for', 'office', 'got', 'no', 'time', 'to', 'lose', 'he', 'been', 'suckin', 'the', 'blood', 'out', 'of', 'the', 'genius', 'of', 'generosity', 'you', 'been', 'rolling', 'your', 'eyes', 'you', 'been', 'teasing', 'me', 'standing', 'by', 'god', 'river', 'my', 'soul', 'is', 'beginnin', 'to', 'shake', 'standing', 'by', 'god', 'river', 'my', 'soul', 'is', 'beginnin', 'to', 'shake', 'countin', 'on', 'you', 'love', 'to', 'give', 'me', 'break', 'well', 'leaving', 'in', 'the', 'morning', 'as', 'soon', 'as', 'the', 'dark', 'clouds', 'lift', 'yes', 'leaving', 'in', 'the', 'morning', 'just', 'as', 'soon', 'as', 'the', 'dark', 'clouds', 'lift', 'gonna', 'break', 'the', 'roof', 'in', 'set', 'fire', 'to', 'the', 'place', 'as', 'parting', 'gift', 'summer', 'days', 'summer', 'nights', 'are', 'gone', 'summer', 'days', 'summer', 'nights', 'are', 'gone', 'know', 'place', 'where', 'there', 'still', 'somethin', 'going', 'on', 'worried', 'man', 'with', 'worried', 'mind', 'no', 'one', 'in', 'front', 'of', 'me', 'and', 'nothing', 'behind', 'there', 'woman', 'on', 'my', 'lap', 'and', 'she', 'drinking', 'champagne', 'got', 'white', 'skin', 'got', 'assassin', 'eyes', 'looking', 'up', 'into', 'the', 'sapphire', 'tinted', 'skies', 'well', 'dressed', 'waiting', 'on', 'the', 'last', 'train', 'standing', 'on', 'the', 'gallows', 'with', 'my', 'head', 'in', 'noose', 'any', 'minute', 'now', 'expecting', 'all', 'hell', 'to', 'break', 'loose', 'people', 'are', 'crazy', 'and', 'times', 'are', 'strange', 'locked', 'in', 'tight', 'out', 'of', 'range', 'used', 'to', 'care', 'but', 'things', 'have', 'changed', 'this', 'place', 'ain', 'doing', 'me', 'any', 'good', 'in', 'the', 'wrong', 'town', 'should', 'be', 'in', 'hollywood', 'just', 'for', 'second', 'there', 'thought', 'saw', 'something', 'move', 'gonna', 'take', 'dancing', 'lessons', 'do', 'the', 'jitterbug', 'rag', 'ain', 'no', 'shortcuts', 'gonna', 'dress', 'in', 'drag', 'only', 'fool', 'in', 'here', 'would', 'think', 'he', 'got', 'anything', 'to', 'prove', 'lot', 'of', 'water', 'under', 'the', 'bridge', 'lot', 'of', 'other', 'stuff', 'too', 'don', 'get', 'up', 'gentlemen', 'only', 'passing', 'through', 'people', 'are', 'crazy', 'and', 'times', 'are', 'strange', 'locked', 'in', 'tight', 'out', 'of', 'range', 'used', 'to', 'care', 'but', 'things', 'have', 'changed', 've', 'been', 'walking', 'forty', 'miles', 'of', 'bad', 'road', 'if', 'the', 'bible', 'is', 'right', 'the', 'world', 'will', 'explode', 've', 'been', 'trying', 'to', 'get', 'as', 'far', 'away', 'from', 'myself', 'as', 'can', 'some', 'things', 'are', 'too', 'hot', 'to', 'touch', 'the', 'human', 'mind', 'can', 'only', 'stand', 'so', 'much', 'you', 'can', 'win', 'with', 'losing', 'hand', 'feel', 'like', 'falling', 'in', 'love', 'with', 'the', 'first', 'woman', 'meet', 'putting', 'her', 'in', 'wheelbarrow', 'and', 'wheeling', 'her', 'down', 'the', 'street', 'people', 'are', 'crazy', 'and', 'times', 'are', 'strange', 'locked', 'in', 'tight', 'out', 'of', 'range', 'used', 'to', 'care', 'but', 'things', 'have', 'changed', 'hurt', 'easy', 'just', 'don', 'show', 'it', 'you', 'can', 'hurt', 'someone', 'and', 'not', 'even', 'know', 'it', 'the', 'next', 'sixty', 'seconds', 'could', 'be', 'like', 'an', 'eternity', 'gonna', 'get', 'low', 'down', 'gonna', 'fly', 'high', 'all', 'the', 'truth', 'in', 'the', 'world', 'adds', 'up', 'to', 'one', 'big', 'lie', 'in', 'love', 'with', 'woman', 'who', 'don', 'even', 'appeal', 'to', 'me', 'mr', 'jinx', 'and', 'miss', 'lucy', 'they', 'jumped', 'in', 'the', 'lake', 'not', 'that', 'eager', 'to', 'make', 'mistake', 'people', 'are', 'crazy', 'and', 'times', 'are', 'strange', 'locked', 'in', 'tight', 'out', 'of', 'range', 'used', 'to', 'care', 'but', 'things', 'have', 'changed', 'darkness', 'at', 'the', 'break', 'of', 'noon', 'shadows', 'even', 'the', 'silver', 'spoon', 'the', 'handmade', 'blade', 'the', 'child', 'balloon', 'eclipses', 'both', 'the', 'sun', 'and', 'moon', 'to', 'understand', 'you', 'know', 'too', 'soon', 'there', 'is', 'no', 'sense', 'in', 'trying', 'pointed', 'threats', 'they', 'bluff', 'with', 'scorn', 'suicide', 'remarks', 'are', 'torn', 'from', 'the', 'fool', 'gold', 'mouthpiece', 'the', 'hollow', 'horn', 'plays', 'wasted', 'words', 'proves', 'to', 'warn', 'that', 'he', 'not', 'busy', 'being', 'born', 'is', 'busy', 'dying', 'temptation', 'page', 'flies', 'out', 'the', 'door', 'you', 'follow', 'find', 'yourself', 'at', 'war', 'watch', 'waterfalls', 'of', 'pity', 'roar', 'you', 'feel', 'to', 'moan', 'but', 'unlike', 'before', 'you', 'discover', 'that', 'you', 'just', 'be', 'one', 'more', 'person', 'crying', 'so', 'don', 'fear', 'if', 'you', 'hear', 'foreign', 'sound', 'to', 'your', 'ear', 'it', 'alright', 'ma', 'only', 'sighing', 'as', 'some', 'warn', 'victory', 'some', 'downfall', 'private', 'reasons', 'great', 'or', 'small', 'can', 'be', 'seen', 'in', 'the', 'eyes', 'of', 'those', 'that', 'call', 'to', 'make', 'all', 'that', 'should', 'be', 'killed', 'to', 'crawl', 'while', 'others', 'say', 'don', 'hate', 'nothing', 'at', 'all', 'except', 'hatred', 'disillusioned', 'words', 'like', 'bullets', 'bark', 'as', 'human', 'gods', 'aim', 'for', 'their', 'mark', 'make', 'everything', 'from', 'toy', 'guns', 'that', 'spark', 'to', 'flesh', 'colored', 'christs', 'that', 'glow', 'in', 'the', 'dark', 'it', 'easy', 'to', 'see', 'without', 'looking', 'too', 'far', 'that', 'not', 'much', 'is', 'really', 'sacred', 'while', 'preachers', 'preach', 'of', 'evil', 'fates', 'teachers', 'teach', 'that', 'knowledge', 'waits', 'can', 'lead', 'to', 'hundred', 'dollar', 'plates', 'goodness', 'hides', 'behind', 'its', 'gates', 'but', 'even', 'the', 'president', 'of', 'the', 'united', 'states', 'sometimes', 'must', 'have', 'to', 'stand', 'naked', 'an', 'though', 'the', 'rules', 'of', 'the', 'road', 'have', 'been', 'lodged', 'it', 'only', 'people', 'games', 'that', 'you', 'got', 'to', 'dodge', 'and', 'it', 'alright', 'ma', 'can', 'make', 'it', 'advertising', 'signs', 'they', 'con', 'you', 'into', 'thinking', 'you', 're', 'the', 'one', 'that', 'can', 'do', 'what', 'never', 'been', 'done', 'that', 'can', 'win', 'what', 'never', 'been', 'won', 'meantime', 'life', 'outside', 'goes', 'on', 'all', 'around', 'you', 'you', 'lose', 'yourself', 'you', 'reappear', 'you', 'suddenly', 'find', 'you', 'got', 'nothing', 'to', 'fear', 'alone', 'you', 'stand', 'with', 'nobody', 'near', 'when', 'trembling', 'distant', 'voice', 'unclear', 'startles', 'your', 'sleeping', 'ears', 'to', 'hear', 'that', 'somebody', 'thinks', 'they', 'really', 'found', 'you', 'question', 'in', 'your', 'nerves', 'is', 'lit', 'yet', 'you', 'know', 'there', 'is', 'no', 'answer', 'fit', 'to', 'satisfy', 'insure', 'you', 'not', 'to', 'quit', 'to', 'keep', 'it', 'in', 'your', 'mind', 'and', 'not', 'forget', 'that', 'it', 'is', 'not', 'he', 'or', 'she', 'or', 'them', 'or', 'it', 'that', 'you', 'belong', 'to', 'although', 'the', 'masters', 'make', 'the', 'rules', 'for', 'the', 'wise', 'men', 'and', 'the', 'fools', 'got', 'nothing', 'ma', 'to', 'live', 'up', 'to', 'for', 'them', 'that', 'must', 'obey', 'authority', 'that', 'they', 'do', 'not', 'respect', 'in', 'any', 'degree', 'who', 'despise', 'their', 'jobs', 'their', 'destinies', 'speak', 'jealously', 'of', 'them', 'that', 'are', 'free', 'cultivate', 'their', 'flowers', 'to', 'be', 'nothing', 'more', 'than', 'something', 'they', 'invest', 'in', 'while', 'some', 'on', 'principles', 'baptized', 'to', 'strict', 'party', 'platform', 'ties', 'social', 'clubs', 'in', 'drag', 'disguise', 'outsiders', 'they', 'can', 'freely', 'criticize', 'tell', 'nothing', 'except', 'who', 'to', 'idolize', 'and', 'then', 'say', 'god', 'bless', 'him', 'while', 'one', 'who', 'sings', 'with', 'his', 'tongue', 'on', 'fire', 'gargles', 'in', 'the', 'rat', 'race', 'choir', 'bent', 'out', 'of', 'shape', 'from', 'society', 'pliers', 'cares', 'not', 'to', 'come', 'up', 'any', 'higher', 'but', 'rather', 'get', 'you', 'down', 'in', 'the', 'hole', 'that', 'he', 'in', 'but', 'mean', 'no', 'harm', 'nor', 'put', 'fault', 'on', 'anyone', 'that', 'lives', 'in', 'vault', 'but', 'it', 'alright', 'ma', 'if', 'can', 'please', 'him', 'old', 'lady', 'judges', 'watch', 'people', 'in', 'pairs', 'limited', 'in', 'sex', 'they', 'dare', 'to', 'push', 'fake', 'morals', 'insult', 'and', 'stare', 'while', 'money', 'doesn', 'talk', 'it', 'swears', 'obscenity', 'who', 'really', 'cares', 'propaganda', 'all', 'is', 'phony', 'while', 'them', 'that', 'defend', 'what', 'they', 'cannot', 'see', 'with', 'killer', 'pride', 'security', 'it', 'blows', 'the', 'minds', 'most', 'bitterly', 'for', 'them', 'that', 'think', 'death', 'honesty', 'won', 'fall', 'upon', 'them', 'naturally', 'life', 'sometimes', 'must', 'get', 'lonely', 'my', 'eyes', 'collide', 'head', 'on', 'with', 'stuffed', 'graveyards', 'false', 'gods', 'scuff', 'at', 'pettiness', 'which', 'plays', 'so', 'rough', 'walk', 'upside', 'down', 'inside', 'handcuffs', 'kick', 'my', 'legs', 'to', 'crash', 'it', 'off', 'say', 'okay', 'have', 'had', 'enough', 'what', 'else', 'can', 'you', 'show', 'me', 'and', 'if', 'my', 'thought', 'dreams', 'could', 'be', 'seen', 'they', 'probably', 'put', 'my', 'head', 'in', 'guillotine', 'but', 'it', 'alright', 'ma', 'it', 'life', 'and', 'life', 'only', 'walking', 'through', 'streets', 'that', 'are', 'dead', 'walking', 'walking', 'with', 'you', 'in', 'my', 'head', 'my', 'feet', 'are', 'so', 'tired', 'my', 'brain', 'is', 'so', 'wired', 'and', 'the', 'clouds', 'are', 'weeping', 'did', 'hear', 'someone', 'tell', 'lie', 'did', 'hear', 'someone', 'distant', 'cry', 'spoke', 'like', 'child', 'you', 'destroyed', 'me', 'with', 'smile', 'while', 'was', 'sleeping', 'sick', 'of', 'love', 'but', 'in', 'the', 'thick', 'of', 'it', 'this', 'kind', 'of', 'love', 'so', 'sick', 'of', 'it', 'see', 'see', 'lovers', 'in', 'the', 'meadow', 'see', 'see', 'silhouettes', 'in', 'the', 'window', 'watch', 'them', 'til', 'they', 're', 'gone', 'and', 'they', 'leave', 'me', 'hanging', 'on', 'to', 'shadow', 'sick', 'of', 'love', 'hear', 'the', 'clock', 'tick', 'this', 'kind', 'of', 'love', 'love', 'sick', 'sometimes', 'the', 'silence', 'can', 'be', 'like', 'the', 'thunder', 'sometimes', 'feel', 'like', 'being', 'plowed', 'under', 'could', 'you', 'ever', 'be', 'true', 'think', 'of', 'you', 'and', 'wonder', 'sick', 'of', 'love', 'wish', 'never', 'met', 'you', 'sick', 'of', 'love', 'trying', 'to', 'forget', 'you', 'just', 'don', 'know', 'what', 'to', 'do', 'give', 'anything', 'to', 'be', 'with', 'you', 'oh', 'the', 'ragman', 'draws', 'circles', 'up', 'and', 'down', 'the', 'block', 'ask', 'him', 'what', 'the', 'matter', 'was', 'but', 'know', 'that', 'he', 'don', 'talk', 'and', 'the', 'ladies', 'treat', 'me', 'kindly', 'and', 'furnish', 'me', 'with', 'tape', 'but', 'deep', 'inside', 'my', 'heart', 'know', 'can', 'escape', 'oh', 'mama', 'can', 'this', 'really', 'be', 'the', 'end', 'to', 'be', 'stuck', 'inside', 'of', 'mobile', 'with', 'the', 'memphis', 'blues', 'again', 'well', 'shakespeare', 'he', 'in', 'the', 'alley', 'with', 'his', 'pointed', 'shoes', 'and', 'his', 'bells', 'speaking', 'to', 'some', 'french', 'girl', 'who', 'says', 'she', 'knows', 'me', 'well', 'and', 'would', 'send', 'message', 'to', 'find', 'out', 'if', 'she', 'talked', 'but', 'the', 'post', 'office', 'has', 'been', 'stolen', 'and', 'the', 'mailbox', 'is', 'locked', 'oh', 'mama', 'can', 'this', 'really', 'be', 'the', 'end', 'to', 'be', 'stuck', 'inside', 'of', 'mobile', 'with', 'the', 'memphis', 'blues', 'again', 'mona', 'tried', 'to', 'tell', 'me', 'to', 'stay', 'away', 'from', 'the', 'train', 'line', 'she', 'said', 'that', 'all', 'the', 'railroad', 'men', 'just', 'drink', 'up', 'your', 'blood', 'like', 'wine', 'an', 'said', 'oh', 'didn', 'know', 'that', 'but', 'then', 'again', 'there', 'only', 'one', 've', 'met', 'an', 'he', 'just', 'smoked', 'my', 'eyelids', 'an', 'punched', 'my', 'cigarette', 'oh', 'mama', 'can', 'this', 'really', 'be', 'the', 'end', 'to', 'be', 'stuck', 'inside', 'of', 'mobile', 'with', 'the', 'memphis', 'blues', 'again', 'grandpa', 'died', 'last', 'week', 'and', 'now', 'he', 'buried', 'in', 'the', 'rocks', 'but', 'everybody', 'still', 'talks', 'about', 'how', 'badly', 'they', 'were', 'shocked', 'but', 'me', 'expected', 'it', 'to', 'happen', 'knew', 'he', 'lost', 'control', 'when', 'he', 'built', 'fire', 'on', 'main', 'street', 'and', 'shot', 'it', 'full', 'of', 'holes', 'oh', 'mama', 'can', 'this', 'really', 'be', 'the', 'end', 'to', 'be', 'stuck', 'inside', 'of', 'mobile', 'with', 'the', 'memphis', 'blues', 'again', 'now', 'the', 'senator', 'came', 'down', 'here', 'showing', 'ev', 'ryone', 'his', 'gun', 'handing', 'out', 'free', 'tickets', 'to', 'the', 'wedding', 'of', 'his', 'son', 'an', 'me', 'nearly', 'got', 'busted', 'an', 'wouldn', 'it', 'be', 'my', 'luck', 'to', 'get', 'caught', 'without', 'ticket', 'and', 'be', 'discovered', 'beneath', 'truck', 'oh', 'mama', 'can', 'this', 'really', 'be', 'the', 'end', 'to', 'be', 'stuck', 'inside', 'of', 'mobile', 'with', 'the', 'memphis', 'blues', 'again', 'now', 'the', 'preacher', 'looked', 'so', 'baffled', 'when', 'asked', 'him', 'why', 'he', 'dressed', 'with', 'twenty', 'pounds', 'of', 'headlines', 'stapled', 'to', 'his', 'chest', 'but', 'he', 'cursed', 'me', 'when', 'proved', 'it', 'to', 'him', 'then', 'whispered', 'not', 'even', 'you', 'can', 'hide', 'you', 'see', 'you', 're', 'just', 'like', 'me', 'hope', 'you', 're', 'satisfied', 'oh', 'mama', 'can', 'this', 'really', 'be', 'the', 'end', 'to', 'be', 'stuck', 'inside', 'of', 'mobile', 'with', 'the', 'memphis', 'blues', 'again', 'now', 'the', 'rainman', 'gave', 'me', 'two', 'cures', 'then', 'he', 'said', 'jump', 'right', 'in', 'the', 'one', 'was', 'texas', 'medicine', 'the', 'other', 'was', 'just', 'railroad', 'gin', 'an', 'like', 'fool', 'mixed', 'them', 'an', 'it', 'strangled', 'up', 'my', 'mind', 'an', 'now', 'people', 'just', 'get', 'uglier', 'an', 'have', 'no', 'sense', 'of', 'time', 'oh', 'mama', 'can', 'this', 'really', 'be', 'the', 'end', 'to', 'be', 'stuck', 'inside', 'of', 'mobile', 'with', 'the', 'memphis', 'blues', 'again', 'when', 'ruthie', 'says', 'come', 'see', 'her', 'in', 'her', 'honky', 'tonk', 'lagoon', 'where', 'can', 'watch', 'her', 'waltz', 'for', 'free', 'neath', 'her', 'panamanian', 'moon', 'an', 'say', 'aw', 'come', 'on', 'now', 'you', 'must', 'know', 'about', 'my', 'debutante', 'an', 'she', 'says', 'your', 'debutante', 'just', 'knows', 'what', 'you', 'need', 'but', 'know', 'what', 'you', 'want', 'oh', 'mama', 'can', 'this', 'really', 'be', 'the', 'end', 'to', 'be', 'stuck', 'inside', 'of', 'mobile', 'with', 'the', 'memphis', 'blues', 'again', 'now', 'the', 'bricks', 'lay', 'on', 'grand', 'street', 'where', 'the', 'neon', 'madmen', 'climb', 'they', 'all', 'fall', 'there', 'so', 'perfectly', 'it', 'all', 'seems', 'so', 'well', 'timed', 'an', 'here', 'sit', 'so', 'patiently', 'waiting', 'to', 'find', 'out', 'what', 'price', 'you', 'have', 'to', 'pay', 'to', 'get', 'out', 'of', 'going', 'through', 'all', 'these', 'things', 'twice', 'oh', 'mama', 'can', 'this', 'really', 'be', 'the', 'end', 'to', 'be', 'stuck', 'inside', 'of', 'mobile', 'with', 'the', 'memphis', 'blues', 'again', 'high', 'water', 'risin', 'risin', 'night', 'and', 'day', 'all', 'the', 'gold', 'and', 'silver', 'are', 'bein', 'stolen', 'away', 'big', 'joe', 'turner', 'lookin', 'east', 'and', 'west', 'from', 'the', 'dark', 'room', 'of', 'his', 'mind', 'he', 'made', 'it', 'to', 'kansas', 'city', 'twelfth', 'street', 'and', 'vine', 'nothin', 'standing', 'there', 'high', 'water', 'everywhere', 'high', 'water', 'risin', 'the', 'shacks', 'are', 'slidin', 'down', 'folks', 'lose', 'their', 'possessions', 'folks', 'are', 'leaving', 'town', 'bertha', 'mason', 'shook', 'it', 'broke', 'it', 'then', 'she', 'hung', 'it', 'on', 'wall', 'says', 'you', 're', 'dancin', 'with', 'whom', 'they', 'tell', 'you', 'to', 'or', 'you', 'don', 'dance', 'at', 'all', 'it', 'tough', 'out', 'there', 'high', 'water', 'everywhere', 'got', 'cravin', 'love', 'for', 'blazing', 'speed', 'got', 'hopped', 'up', 'mustang', 'ford', 'jump', 'into', 'the', 'wagon', 'love', 'throw', 'your', 'panties', 'on', 'the', 'board', 'can', 'write', 'you', 'poems', 'make', 'strong', 'man', 'lose', 'his', 'mind', 'no', 'pig', 'without', 'wig', 'hope', 'you', 'treat', 'me', 'kind', 'things', 'are', 'breakin', 'up', 'out', 'there', 'high', 'water', 'everywhere', 'high', 'water', 'risin', 'six', 'inches', 'bove', 'my', 'head', 'coffins', 'droppin', 'in', 'the', 'street', 'like', 'balloons', 'made', 'out', 'of', 'lead', 'water', 'pourin', 'into', 'vicksburg', 'don', 'know', 'what', 'goin', 'to', 'do', 'don', 'reach', 'out', 'for', 'me', 'she', 'said', 'can', 'you', 'see', 'drownin', 'too', 'it', 'rough', 'out', 'there', 'high', 'water', 'everywhere', 'well', 'george', 'lewis', 'told', 'the', 'englishman', 'the', 'italian', 'and', 'the', 'jew', 'you', 'can', 'open', 'your', 'mind', 'boys', 'to', 'every', 'conceivable', 'point', 'of', 'view', 'they', 'got', 'charles', 'darwin', 'trapped', 'out', 'there', 'on', 'highway', 'five', 'judge', 'says', 'to', 'the', 'high', 'sheriff', 'want', 'him', 'dead', 'or', 'alive', 'either', 'one', 'don', 'care', 'high', 'water', 'everywhere', 'the', 'cuckoo', 'is', 'pretty', 'bird', 'she', 'warbles', 'as', 'she', 'flies', 'preachin', 'the', 'word', 'of', 'god', 'puttin', 'out', 'your', 'eyes', 'asked', 'fat', 'nancy', 'for', 'somethin', 'to', 'eat', 'she', 'said', 'take', 'it', 'off', 'the', 'shelf', 'as', 'great', 'as', 'you', 'are', 'man', 'you', 'll', 'never', 'be', 'greater', 'than', 'yourself', 'told', 'her', 'didn', 'really', 'care', 'high', 'water', 'everywhere', 'gettin', 'up', 'in', 'the', 'morning', 'believe', 'll', 'dust', 'my', 'broom', 'keeping', 'away', 'from', 'the', 'women', 'givin', 'em', 'lots', 'of', 'room', 'thunder', 'rolling', 'over', 'clarkesdale', 'everything', 'is', 'looking', 'blue', 'just', 'can', 'be', 'happy', 'love', 'unless', 'you', 're', 'happy', 'too', 'it', 'bad', 'out', 'there', 'high', 'water', 'everywhere', 'they', 'sat', 'together', 'in', 'the', 'park', 'as', 'the', 'evening', 'sky', 'grew', 'dark', 'she', 'looked', 'at', 'him', 'and', 'he', 'felt', 'spark', 'tingle', 'to', 'his', 'bones', 'twas', 'then', 'he', 'felt', 'alone', 'and', 'wished', 'that', 'he', 'gone', 'straight', 'and', 'watched', 'out', 'for', 'simple', 'twist', 'of', 'fate', 'they', 'walked', 'along', 'by', 'the', 'old', 'canal', 'little', 'confused', 'remember', 'well', 'and', 'stopped', 'into', 'strange', 'hotel', 'with', 'neon', 'burnin', 'bright', 'he', 'felt', 'the', 'heat', 'of', 'the', 'night', 'hit', 'him', 'like', 'freight', 'train', 'moving', 'with', 'simple', 'twist', 'of', 'fate', 'saxophone', 'someplace', 'far', 'off', 'played', 'as', 'she', 'was', 'walkin', 'by', 'the', 'arcade', 'as', 'the', 'light', 'bust', 'through', 'beat', 'up', 'shade', 'where', 'he', 'was', 'wakin', 'up', 'she', 'dropped', 'coin', 'into', 'the', 'cup', 'of', 'blind', 'man', 'at', 'the', 'gate', 'and', 'forgot', 'about', 'simple', 'twist', 'of', 'fate', 'he', 'woke', 'up', 'the', 'room', 'was', 'bare', 'he', 'didn', 'see', 'her', 'anywhere', 'he', 'told', 'himself', 'he', 'didn', 'care', 'pushed', 'the', 'window', 'open', 'wide', 'felt', 'an', 'emptiness', 'inside', 'to', 'which', 'he', 'just', 'could', 'not', 'relate', 'brought', 'on', 'by', 'simple', 'twist', 'of', 'fate', 'he', 'hears', 'the', 'ticking', 'of', 'the', 'clocks', 'and', 'walks', 'along', 'with', 'parrot', 'that', 'talks', 'hunts', 'her', 'down', 'by', 'the', 'waterfront', 'docks', 'where', 'the', 'sailors', 'all', 'come', 'in', 'maybe', 'she', 'll', 'pick', 'him', 'out', 'again', 'how', 'long', 'must', 'he', 'wait', 'once', 'more', 'for', 'simple', 'twist', 'of', 'fate', 'people', 'tell', 'me', 'it', 'sin', 'to', 'know', 'and', 'feel', 'too', 'much', 'within', 'still', 'believe', 'she', 'was', 'my', 'twin', 'but', 'lost', 'the', 'ring', 'she', 'was', 'born', 'in', 'spring', 'but', 'was', 'born', 'too', 'late', 'blame', 'it', 'on', 'simple', 'twist', 'of', 'fate', 'come', 'gather', 'round', 'people', 'wherever', 'you', 'roam', 'and', 'admit', 'that', 'the', 'waters', 'around', 'you', 'have', 'grown', 'and', 'accept', 'it', 'that', 'soon', 'you', 'll', 'be', 'drenched', 'to', 'the', 'bone', 'if', 'your', 'time', 'to', 'you', 'is', 'worth', 'savin', 'then', 'you', 'better', 'start', 'swimmin', 'or', 'you', 'll', 'sink', 'like', 'stone', 'for', 'the', 'times', 'they', 'are', 'changin', 'come', 'writers', 'and', 'critics', 'who', 'prophesize', 'with', 'your', 'pen', 'and', 'keep', 'your', 'eyes', 'wide', 'the', 'chance', 'won', 'come', 'again', 'and', 'don', 'speak', 'too', 'soon', 'for', 'the', 'wheel', 'still', 'in', 'spin', 'and', 'there', 'no', 'tellin', 'who', 'that', 'it', 'namin', 'for', 'the', 'loser', 'now', 'will', 'be', 'later', 'to', 'win', 'for', 'the', 'times', 'they', 'are', 'changin', 'come', 'senators', 'congressmen', 'please', 'heed', 'the', 'call', 'don', 'stand', 'in', 'the', 'doorway', 'don', 'block', 'up', 'the', 'hall', 'for', 'he', 'that', 'gets', 'hurt', 'will', 'be', 'he', 'who', 'has', 'stalled', 'there', 'battle', 'outside', 'and', 'it', 'is', 'ragin', 'it', 'll', 'soon', 'shake', 'your', 'windows', 'and', 'rattle', 'your', 'walls', 'for', 'the', 'times', 'they', 'are', 'changin', 'come', 'mothers', 'and', 'fathers', 'throughout', 'the', 'land', 'and', 'don', 'criticize', 'what', 'you', 'can', 'understand', 'your', 'sons', 'and', 'your', 'daughters', 'are', 'beyond', 'your', 'command', 'your', 'old', 'road', 'is', 'rapidly', 'agin', 'please', 'get', 'out', 'of', 'the', 'new', 'one', 'if', 'you', 'can', 'lend', 'your', 'hand', 'for', 'the', 'times', 'they', 'are', 'changin', 'the', 'line', 'it', 'is', 'drawn', 'the', 'curse', 'it', 'is', 'cast', 'the', 'slow', 'one', 'now', 'will', 'later', 'be', 'fast', 'as', 'the', 'present', 'now', 'will', 'later', 'be', 'past', 'the', 'order', 'is', 'rapidly', 'fadin', 'and', 'the', 'first', 'one', 'now', 'will', 'later', 'be', 'last', 'for', 'the', 'times', 'they', 'are', 'changin', 'well', 'stranded', 'in', 'the', 'city', 'that', 'never', 'sleeps', 'some', 'of', 'these', 'women', 'they', 'just', 'give', 'me', 'the', 'creeps', 'avoidin', 'the', 'southside', 'the', 'best', 'can', 'these', 'memories', 'got', 'they', 'can', 'strangle', 'man', 'well', 'came', 'ashore', 'in', 'the', 'dead', 'of', 'the', 'night', 'lot', 'of', 'things', 'can', 'get', 'in', 'the', 'way', 'when', 'you', 're', 'tryin', 'to', 'do', 'what', 'right', 'you', 'don', 'understand', 'it', 'my', 'feelings', 'for', 'you', 'you', 'be', 'honest', 'with', 'me', 'if', 'only', 'you', 'knew', 'not', 'sorry', 'for', 'nothin', 've', 'done', 'glad', 'fought', 'only', 'wish', 'we', 'won', 'the', 'siamese', 'twins', 'are', 'comin', 'to', 'town', 'people', 'can', 'wait', 'they', 're', 'gathered', 'around', 'when', 'left', 'my', 'home', 'the', 'sky', 'split', 'open', 'wide', 'never', 'wanted', 'to', 'go', 'back', 'there', 'rather', 'have', 'died', 'you', 'don', 'understand', 'it', 'my', 'feelings', 'for', 'you', 'you', 'be', 'honest', 'with', 'me', 'if', 'only', 'you', 'knew', 'my', 'woman', 'got', 'face', 'like', 'teddy', 'bear', 'she', 'tossin', 'baseball', 'bat', 'in', 'the', 'air', 'the', 'meat', 'is', 'so', 'tough', 'you', 'can', 'cut', 'it', 'with', 'sword', 'crashin', 'my', 'car', 'trunk', 'first', 'into', 'the', 'boards', 'you', 'say', 'my', 'eyes', 'are', 'pretty', 'and', 'my', 'smile', 'is', 'nice', 'well', 'll', 'sell', 'it', 'to', 'ya', 'at', 'reduced', 'price', 'you', 'don', 'understand', 'it', 'my', 'feelings', 'for', 'you', 'you', 'be', 'honest', 'with', 'me', 'if', 'only', 'you', 'knew', 'some', 'things', 'are', 'too', 'terrible', 'to', 'be', 'true', 'won', 'come', 'here', 'no', 'more', 'if', 'it', 'bothers', 'you', 'the', 'southern', 'pacific', 'leaving', 'me', 'at', 'nine', 'forty', 'five', 'having', 'hard', 'time', 'believin', 'some', 'people', 'were', 'ever', 'alive', 'stark', 'naked', 'but', 'don', 'care', 'going', 'off', 'into', 'the', 'woods', 'huntin', 'bare', 'you', 'don', 'understand', 'it', 'my', 'feelings', 'for', 'you', 'well', 'you', 'be', 'honest', 'with', 'me', 'if', 'only', 'you', 'knew', 'here', 'to', 'create', 'the', 'new', 'imperial', 'empire', 'going', 'to', 'do', 'whatever', 'circumstances', 'require', 'care', 'so', 'much', 'for', 'you', 'didn', 'think', 'that', 'could', 'can', 'tell', 'my', 'heart', 'that', 'you', 're', 'no', 'good', 'well', 'my', 'parents', 'they', 'warned', 'me', 'not', 'to', 'waste', 'my', 'years', 'and', 'still', 'got', 'their', 'advice', 'oozing', 'out', 'of', 'my', 'ears', 'you', 'don', 'understand', 'it', 'my', 'feelings', 'for', 'you', 'well', 'you', 'be', 'honest', 'with', 'me', 'if', 'only', 'you', 'knew', 'thunder', 'on', 'the', 'mountain', 'fires', 'on', 'the', 'moon', 'there', 'ruckus', 'in', 'the', 'alley', 'and', 'the', 'sun', 'will', 'be', 'here', 'soon', 'today', 'the', 'day', 'gonna', 'grab', 'my', 'trombone', 'and', 'blow', 'well', 'there', 'hot', 'stuff', 'here', 'and', 'it', 'everywhere', 'go', 'was', 'thinkin', 'bout', 'alicia', 'keys', 'couldn', 'keep', 'from', 'crying', 'when', 'she', 'was', 'born', 'in', 'hell', 'kitchen', 'was', 'living', 'down', 'the', 'line', 'wondering', 'where', 'in', 'the', 'world', 'alicia', 'keys', 'could', 'be', 'been', 'looking', 'for', 'her', 'even', 'clear', 'through', 'tennessee', 'feel', 'like', 'my', 'soul', 'is', 'beginning', 'to', 'expand', 'look', 'into', 'my', 'heart', 'and', 'you', 'will', 'sort', 'of', 'understand', 'you', 'brought', 'me', 'here', 'now', 'you', 're', 'trying', 'to', 'run', 'me', 'away', 'the', 'writing', 'on', 'the', 'wall', 'come', 'read', 'it', 'come', 'see', 'what', 'it', 'say', 'thunder', 'on', 'the', 'mountain', 'rolling', 'like', 'drum', 'gonna', 'sleep', 'over', 'there', 'that', 'where', 'the', 'music', 'coming', 'from', 'don', 'need', 'any', 'guide', 'already', 'know', 'the', 'way', 'remember', 'this', 'your', 'servant', 'both', 'night', 'and', 'day', 'the', 'pistols', 'are', 'poppin', 'and', 'the', 'power', 'is', 'down', 'like', 'to', 'try', 'somethin', 'but', 'so', 'far', 'from', 'town', 'the', 'sun', 'keeps', 'shinin', 'and', 'the', 'north', 'wind', 'keeps', 'picking', 'up', 'speed', 'gonna', 'forget', 'about', 'myself', 'for', 'while', 'gonna', 'go', 'out', 'and', 'see', 'what', 'others', 'need', 've', 'been', 'sitting', 'down', 'studying', 'the', 'art', 'of', 'love', 'think', 'it', 'will', 'fit', 'me', 'like', 'glove', 'want', 'some', 'real', 'good', 'woman', 'to', 'do', 'just', 'what', 'say', 'everybody', 'got', 'to', 'wonder', 'what', 'the', 'matter', 'with', 'this', 'cruel', 'world', 'today', 'thunder', 'on', 'the', 'mountain', 'rolling', 'to', 'the', 'ground', 'gonna', 'get', 'up', 'in', 'the', 'morning', 'walk', 'the', 'hard', 'road', 'down', 'some', 'sweet', 'day', 'll', 'stand', 'beside', 'my', 'king', 'wouldn', 'betray', 'your', 'love', 'or', 'any', 'other', 'thing', 'gonna', 'raise', 'me', 'an', 'army', 'some', 'tough', 'sons', 'of', 'bitches', 'll', 'recruit', 'my', 'army', 'from', 'the', 'orphanages', 'been', 'to', 'st', 'herman', 'church', 'and', 've', 'said', 'my', 'religious', 'vows', 've', 'sucked', 'the', 'milk', 'out', 'of', 'thousand', 'cows', 'got', 'the', 'porkchops', 'she', 'got', 'the', 'pie', 'she', 'ain', 'no', 'angel', 'and', 'neither', 'am', 'shame', 'on', 'your', 'greed', 'shame', 'on', 'your', 'wicked', 'schemes', 'll', 'say', 'this', 'don', 'give', 'damn', 'about', 'your', 'dreams', 'thunder', 'on', 'the', 'mountain', 'heavy', 'as', 'can', 'be', 'mean', 'old', 'twister', 'bearing', 'down', 'on', 'me', 'all', 'the', 'ladies', 'of', 'washington', 'scrambling', 'to', 'get', 'out', 'of', 'town', 'looks', 'like', 'something', 'bad', 'gonna', 'happen', 'better', 'roll', 'your', 'airplane', 'down', 'everybody', 'going', 'and', 'want', 'to', 'go', 'too', 'don', 'wanna', 'take', 'chance', 'with', 'somebody', 'new', 'did', 'all', 'could', 'and', 'did', 'it', 'right', 'there', 'and', 'then', 've', 'already', 'confessed', 'no', 'need', 'to', 'confess', 'again', 'gonna', 'make', 'lot', 'of', 'money', 'gonna', 'go', 'up', 'north', 'll', 'plant', 'and', 'll', 'harvest', 'what', 'the', 'earth', 'brings', 'forth', 'the', 'hammer', 'on', 'the', 'table', 'the', 'pitchfork', 'on', 'the', 'shelf', 'for', 'the', 'love', 'of', 'god', 'you', 'ought', 'to', 'take', 'pity', 'on', 'yourself', 'stake', 'my', 'future', 'on', 'hell', 'of', 'past', 'looks', 'like', 'tomorrow', 'is', 'coming', 'on', 'fast', 'ain', 'complaining', 'bout', 'what', 'got', 'seen', 'better', 'times', 'but', 'who', 'has', 'not', 'silvio', 'silver', 'and', 'gold', 'won', 'buy', 'back', 'the', 'beat', 'of', 'heart', 'grown', 'cold', 'silvio', 'gotta', 'go', 'find', 'out', 'something', 'only', 'dead', 'men', 'know', 'honest', 'as', 'the', 'next', 'jade', 'rolling', 'that', 'stone', 'when', 'come', 'knocking', 'don', 'throw', 'me', 'no', 'bone', 'an', 'old', 'boll', 'weevil', 'looking', 'for', 'home', 'if', 'you', 'don', 'like', 'it', 'you', 'can', 'leave', 'me', 'alone', 'can', 'snap', 'my', 'fingers', 'and', 'require', 'the', 'rain', 'from', 'clear', 'blue', 'sky', 'and', 'turn', 'it', 'off', 'again', 'can', 'stroke', 'your', 'body', 'and', 'relieve', 'your', 'pain', 'and', 'charm', 'the', 'whistle', 'off', 'an', 'evening', 'train', 'give', 'what', 'got', 'until', 'got', 'no', 'more', 'take', 'what', 'get', 'until', 'even', 'the', 'score', 'you', 'know', 'love', 'you', 'and', 'furthermore', 'when', 'it', 'time', 'to', 'go', 'you', 'got', 'an', 'open', 'door', 'can', 'tell', 'you', 'fancy', 'can', 'tell', 'you', 'plain', 'you', 'give', 'something', 'up', 'for', 'everything', 'you', 'gain', 'since', 'every', 'pleasure', 'got', 'an', 'edge', 'of', 'pain', 'pay', 'for', 'your', 'ticket', 'and', 'don', 'complain', 'one', 'of', 'these', 'days', 'and', 'it', 'won', 'be', 'long', 'going', 'down', 'in', 'the', 'valley', 'and', 'sing', 'my', 'song', 'will', 'sing', 'it', 'loud', 'and', 'sing', 'it', 'strong', 'let', 'the', 'echo', 'decide', 'if', 'was', 'right', 'or', 'wrong', 'silvio', 'silver', 'and', 'gold', 'won', 'buy', 'back', 'the', 'beat', 'of', 'heart', 'grown', 'cold', 'silvio', 'gotta', 'go', 'find', 'out', 'something', 'only', 'dead', 'men', 'know', 'you', 'must', 'leave', 'now', 'take', 'what', 'you', 'need', 'you', 'think', 'will', 'last', 'but', 'whatever', 'you', 'wish', 'to', 'keep', 'you', 'better', 'grab', 'it', 'fast', 'yonder', 'stands', 'your', 'orphan', 'with', 'his', 'gun', 'crying', 'like', 'fire', 'in', 'the', 'sun', 'look', 'out', 'the', 'saints', 'are', 'comin', 'through', 'and', 'it', 'all', 'over', 'now', 'baby', 'blue', 'the', 'highway', 'is', 'for', 'gamblers', 'better', 'use', 'your', 'sense', 'take', 'what', 'you', 'have', 'gathered', 'from', 'coincidence', 'the', 'empty', 'handed', 'painter', 'from', 'your', 'streets', 'is', 'drawing', 'crazy', 'patterns', 'on', 'your', 'sheets', 'this', 'sky', 'too', 'is', 'folding', 'under', 'you', 'and', 'it', 'all', 'over', 'now', 'baby', 'blue', 'all', 'your', 'seasick', 'sailors', 'they', 'are', 'rowing', 'home', 'all', 'your', 'reindeer', 'armies', 'are', 'all', 'going', 'home', 'the', 'lover', 'who', 'just', 'walked', 'out', 'your', 'door', 'has', 'taken', 'all', 'his', 'blankets', 'from', 'the', 'floor', 'the', 'carpet', 'too', 'is', 'moving', 'under', 'you', 'and', 'it', 'all', 'over', 'now', 'baby', 'blue', 'leave', 'your', 'stepping', 'stones', 'behind', 'something', 'calls', 'for', 'you', 'forget', 'the', 'dead', 'you', 've', 'left', 'they', 'will', 'not', 'follow', 'you', 'the', 'vagabond', 'who', 'rapping', 'at', 'your', 'door', 'is', 'standing', 'in', 'the', 'clothes', 'that', 'you', 'once', 'wore', 'strike', 'another', 'match', 'go', 'start', 'anew', 'and', 'it', 'all', 'over', 'now', 'baby', 'blue', 'well', 'if', 'you', 're', 'travelin', 'in', 'the', 'north', 'country', 'fair', 'where', 'the', 'winds', 'hit', 'heavy', 'on', 'the', 'borderline', 'remember', 'me', 'to', 'one', 'who', 'lives', 'there', 'she', 'once', 'was', 'true', 'love', 'of', 'mine', 'well', 'if', 'you', 'go', 'when', 'the', 'snowflakes', 'storm', 'when', 'the', 'rivers', 'freeze', 'and', 'summer', 'ends', 'please', 'see', 'if', 'she', 'wearing', 'coat', 'so', 'warm', 'to', 'keep', 'her', 'from', 'the', 'howlin', 'winds', 'please', 'see', 'for', 'me', 'if', 'her', 'hair', 'hangs', 'long', 'if', 'it', 'rolls', 'and', 'flows', 'all', 'down', 'her', 'breast', 'please', 'see', 'for', 'me', 'if', 'her', 'hair', 'hangs', 'long', 'that', 'the', 'way', 'remember', 'her', 'best', 'wonderin', 'if', 'she', 'remembers', 'me', 'at', 'all', 'many', 'times', 've', 'often', 'prayed', 'in', 'the', 'darkness', 'of', 'my', 'night', 'in', 'the', 'brightness', 'of', 'my', 'day', 'so', 'if', 'you', 're', 'travelin', 'in', 'the', 'north', 'country', 'fair', 'where', 'the', 'winds', 'hit', 'heavy', 'on', 'the', 'borderline', 'remember', 'me', 'to', 'one', 'who', 'lives', 'there', 'she', 'once', 'was', 'true', 'love', 'of', 'mine', 'well', 'see', 'you', 'got', 'your', 'brand', 'new', 'leopard', 'skin', 'pill', 'box', 'hat', 'yes', 'see', 'you', 'got', 'your', 'brand', 'new', 'leopard', 'skin', 'pill', 'box', 'hat', 'well', 'you', 'must', 'tell', 'me', 'baby', 'how', 'your', 'head', 'feels', 'under', 'somethin', 'like', 'that', 'under', 'your', 'brand', 'new', 'leopard', 'skin', 'pill', 'box', 'hat', 'well', 'you', 'look', 'so', 'pretty', 'in', 'it', 'honey', 'can', 'jump', 'on', 'it', 'sometime', 'yes', 'just', 'wanna', 'see', 'if', 'it', 'really', 'that', 'expensive', 'kind', 'you', 'know', 'it', 'balances', 'on', 'your', 'head', 'just', 'like', 'mattress', 'balances', 'on', 'bottle', 'of', 'wine', 'your', 'brand', 'new', 'leopard', 'skin', 'pill', 'box', 'hat', 'well', 'if', 'you', 'wanna', 'see', 'the', 'sun', 'rise', 'honey', 'know', 'where', 'we', 'll', 'go', 'out', 'and', 'see', 'it', 'sometime', 'we', 'll', 'both', 'just', 'sit', 'there', 'and', 'stare', 'me', 'with', 'my', 'belt', 'wrapped', 'around', 'my', 'head', 'and', 'you', 'just', 'sittin', 'there', 'in', 'your', 'brand', 'new', 'leopard', 'skin', 'pill', 'box', 'hat', 'well', 'asked', 'the', 'doctor', 'if', 'could', 'see', 'you', 'it', 'bad', 'for', 'your', 'health', 'he', 'said', 'yes', 'disobeyed', 'his', 'orders', 'came', 'to', 'see', 'you', 'but', 'found', 'him', 'there', 'instead', 'you', 'know', 'don', 'mind', 'him', 'cheatin', 'on', 'me', 'but', 'sure', 'wish', 'he', 'take', 'that', 'off', 'his', 'head', 'your', 'brand', 'new', 'leopard', 'skin', 'pill', 'box', 'hat', 'well', 'see', 'you', 'got', 'new', 'boyfriend', 'you', 'know', 'never', 'seen', 'him', 'before', 'well', 'saw', 'him', 'makin', 'love', 'to', 'you', 'you', 'forgot', 'to', 'close', 'the', 'garage', 'door', 'you', 'might', 'think', 'he', 'loves', 'you', 'for', 'your', 'money', 'but', 'know', 'what', 'he', 'really', 'loves', 'you', 'for', 'it', 'your', 'brand', 'new', 'leopard', 'skin', 'pill', 'box', 'hat', 'spirit', 'on', 'the', 'water', 'darkness', 'on', 'the', 'face', 'of', 'the', 'deep', 'keep', 'thinking', 'about', 'you', 'baby', 'can', 'hardly', 'sleep', 'traveling', 'by', 'land', 'traveling', 'through', 'the', 'dawn', 'of', 'day', 'you', 're', 'always', 'on', 'my', 'mind', 'can', 'stay', 'away', 'forgotten', 'about', 'you', 'then', 'you', 'turned', 'up', 'again', 'always', 'knew', 'that', 'we', 'were', 'meant', 'to', 'be', 'more', 'than', 'friends', 'when', 'you', 'are', 'near', 'it', 'just', 'as', 'plain', 'as', 'it', 'can', 'be', 'wild', 'about', 'you', 'gal', 'you', 'ought', 'to', 'be', 'fool', 'about', 'me', 'can', 'explain', 'the', 'sources', 'of', 'this', 'hidden', 'pain', 'you', 'burned', 'your', 'way', 'into', 'my', 'heart', 'you', 'got', 'the', 'key', 'to', 'my', 'brain', 've', 'been', 'trampling', 'through', 'mud', 'praying', 'to', 'the', 'powers', 'above', 'sweating', 'blood', 'you', 'got', 'face', 'that', 'begs', 'for', 'love', 'life', 'without', 'you', 'doesn', 'mean', 'thing', 'to', 'me', 'if', 'can', 'have', 'you', 'll', 'throw', 'my', 'love', 'into', 'the', 'deep', 'blue', 'sea', 'sometimes', 'wonder', 'why', 'you', 'can', 'treat', 'me', 'right', 'you', 'do', 'good', 'all', 'day', 'then', 'you', 'do', 'wrong', 'all', 'night', 'when', 'you', 're', 'with', 'me', 'thousand', 'times', 'happier', 'than', 'could', 'ever', 'say', 'what', 'does', 'it', 'matter', 'what', 'price', 'pay', 'they', 'brag', 'about', 'your', 'sugar', 'brag', 'about', 'it', 'all', 'over', 'town', 'put', 'some', 'sugar', 'in', 'my', 'bowl', 'feel', 'like', 'laying', 'down', 'pale', 'as', 'ghost', 'holding', 'blossom', 'on', 'stem', 'you', 'ever', 'seen', 'ghost', 'no', 'but', 'you', 'have', 'heard', 'of', 'them', 'see', 'you', 'there', 'blinded', 'by', 'the', 'colors', 'see', 'take', 'good', 'care', 'of', 'what', 'belongs', 'to', 'me', 'hear', 'your', 'name', 'ringing', 'up', 'and', 'down', 'the', 'line', 'saying', 'it', 'plain', 'these', 'ties', 'are', 'strong', 'enough', 'to', 'bind', 'your', 'sweet', 'voice', 'calls', 'out', 'from', 'some', 'old', 'familiar', 'shrine', 'got', 'no', 'choice', 'can', 'believe', 'these', 'things', 'would', 'ever', 'fade', 'from', 'your', 'mind', 'could', 'live', 'forever', 'with', 'you', 'perfectly', 'you', 'don', 'ever', 'have', 'to', 'make', 'fuss', 'over', 'me', 'from', 'east', 'to', 'west', 'ever', 'since', 'the', 'world', 'began', 'only', 'mean', 'it', 'for', 'the', 'best', 'want', 'to', 'be', 'with', 'you', 'any', 'way', 'can', 'been', 'in', 'brawl', 'now', 'feeling', 'the', 'wall', 'going', 'away', 'baby', 'won', 'be', 'back', 'til', 'fall', 'high', 'on', 'the', 'hill', 'you', 'can', 'carry', 'all', 'my', 'thoughts', 'with', 'you', 'you', 've', 'numbed', 'my', 'will', 'this', 'love', 'could', 'tear', 'me', 'in', 'two', 'wanna', 'be', 'with', 'you', 'in', 'paradise', 'and', 'it', 'seems', 'so', 'unfair', 'can', 'go', 'to', 'paradise', 'no', 'more', 'killed', 'man', 'back', 'there', 'you', 'think', 'over', 'the', 'hill', 'you', 'think', 'past', 'my', 'prime', 'let', 'me', 'see', 'what', 'you', 'got', 'we', 'can', 'have', 'whoppin', 'good', 'time', 'what', 'the', 'matter', 'with', 'me', 'don', 'have', 'much', 'to', 'say', 'daylight', 'sneakin', 'through', 'the', 'window', 'and', 'still', 'in', 'this', 'all', 'night', 'café', 'walkin', 'to', 'and', 'fro', 'beneath', 'the', 'moon', 'out', 'to', 'where', 'the', 'trucks', 'are', 'rollin', 'slow', 'to', 'sit', 'down', 'on', 'this', 'bank', 'of', 'sand', 'and', 'watch', 'the', 'river', 'flow', 'wish', 'was', 'back', 'in', 'the', 'city', 'instead', 'of', 'this', 'old', 'bank', 'of', 'sand', 'with', 'the', 'sun', 'beating', 'down', 'over', 'the', 'chimney', 'tops', 'and', 'the', 'one', 'love', 'so', 'close', 'at', 'hand', 'if', 'had', 'wings', 'and', 'could', 'fly', 'know', 'where', 'would', 'go', 'but', 'right', 'now', 'll', 'just', 'sit', 'here', 'so', 'contentedly', 'and', 'watch', 'the', 'river', 'flow', 'people', 'disagreeing', 'on', 'all', 'just', 'about', 'everything', 'yeah', 'makes', 'you', 'stop', 'and', 'all', 'wonder', 'why', 'why', 'only', 'yesterday', 'saw', 'somebody', 'on', 'the', 'street', 'who', 'just', 'couldn', 'help', 'but', 'cry', 'oh', 'this', 'ol', 'river', 'keeps', 'on', 'rollin', 'though', 'no', 'matter', 'what', 'gets', 'in', 'the', 'way', 'and', 'which', 'way', 'the', 'wind', 'does', 'blow', 'and', 'as', 'long', 'as', 'it', 'does', 'll', 'just', 'sit', 'here', 'and', 'watch', 'the', 'river', 'flow', 'people', 'disagreeing', 'everywhere', 'you', 'look', 'makes', 'you', 'wanna', 'stop', 'and', 'read', 'book', 'why', 'only', 'yesterday', 'saw', 'somebody', 'on', 'the', 'street', 'that', 'was', 'really', 'shook', 'but', 'this', 'ol', 'river', 'keeps', 'on', 'rollin', 'though', 'no', 'matter', 'what', 'gets', 'in', 'the', 'way', 'and', 'which', 'way', 'the', 'wind', 'does', 'blow', 'and', 'as', 'long', 'as', 'it', 'does', 'll', 'just', 'sit', 'here', 'and', 'watch', 'the', 'river', 'flow', 'watch', 'the', 'river', 'flow', 'watchin', 'the', 'river', 'flow', 'watchin', 'the', 'river', 'flow', 'but', 'll', 'sit', 'down', 'on', 'this', 'bank', 'of', 'sand', 'and', 'watch', 'the', 'river', 'flow', 'may', 'god', 'bless', 'and', 'keep', 'you', 'always', 'may', 'your', 'wishes', 'all', 'come', 'true', 'may', 'you', 'always', 'do', 'for', 'others', 'and', 'let', 'others', 'do', 'for', 'you', 'may', 'you', 'build', 'ladder', 'to', 'the', 'stars', 'and', 'climb', 'on', 'every', 'rung', 'may', 'you', 'stay', 'forever', 'young', 'forever', 'young', 'forever', 'young', 'may', 'you', 'stay', 'forever', 'young', 'may', 'you', 'grow', 'up', 'to', 'be', 'righteous', 'may', 'you', 'grow', 'up', 'to', 'be', 'true', 'may', 'you', 'always', 'know', 'the', 'truth', 'and', 'see', 'the', 'lights', 'surrounding', 'you', 'may', 'you', 'always', 'be', 'courageous', 'stand', 'upright', 'and', 'be', 'strong', 'may', 'you', 'stay', 'forever', 'young', 'forever', 'young', 'forever', 'young', 'may', 'you', 'stay', 'forever', 'young', 'may', 'your', 'hands', 'always', 'be', 'busy', 'may', 'your', 'feet', 'always', 'be', 'swift', 'may', 'you', 'have', 'strong', 'foundation', 'when', 'the', 'winds', 'of', 'changes', 'shift', 'may', 'your', 'heart', 'always', 'be', 'joyful', 'may', 'your', 'song', 'always', 'be', 'sung', 'may', 'you', 'stay', 'forever', 'young', 'forever', 'young', 'forever', 'young', 'may', 'you', 'stay', 'forever', 'young', 'she', 'got', 'everything', 'she', 'needs', 'she', 'an', 'artist', 'she', 'don', 'look', 'back', 'she', 'got', 'everything', 'she', 'needs', 'she', 'an', 'artist', 'she', 'don', 'look', 'back', 'she', 'can', 'take', 'the', 'dark', 'out', 'of', 'the', 'nighttime', 'and', 'paint', 'the', 'daytime', 'black', 'you', 'will', 'start', 'out', 'standing', 'proud', 'to', 'steal', 'her', 'anything', 'she', 'sees', 'you', 'will', 'start', 'out', 'standing', 'proud', 'to', 'steal', 'her', 'anything', 'she', 'sees', 'but', 'you', 'will', 'wind', 'up', 'peeking', 'through', 'her', 'keyhole', 'down', 'upon', 'your', 'knees', 'she', 'never', 'stumbles', 'she', 'got', 'no', 'place', 'to', 'fall', 'she', 'never', 'stumbles', 'she', 'got', 'no', 'place', 'to', 'fall', 'she', 'nobody', 'child', 'the', 'law', 'can', 'touch', 'her', 'at', 'all', 'she', 'wears', 'an', 'egyptian', 'ring', 'that', 'sparkles', 'before', 'she', 'speaks', 'she', 'wears', 'an', 'egyptian', 'ring', 'that', 'sparkles', 'before', 'she', 'speaks', 'she', 'hypnotist', 'collector', 'you', 'are', 'walking', 'antique', 'bow', 'down', 'to', 'her', 'on', 'sunday', 'salute', 'her', 'when', 'her', 'birthday', 'comes', 'bow', 'down', 'to', 'her', 'on', 'sunday', 'salute', 'her', 'when', 'her', 'birthday', 'comes', 'for', 'halloween', 'give', 'her', 'trumpet', 'and', 'for', 'christmas', 'buy', 'her', 'drum', 'they', 'say', 'ev', 'rything', 'can', 'be', 'replaced', 'yet', 'ev', 'ry', 'distance', 'is', 'not', 'near', 'so', 'remember', 'ev', 'ry', 'face', 'of', 'ev', 'ry', 'man', 'who', 'put', 'me', 'here', 'see', 'my', 'light', 'come', 'shining', 'from', 'the', 'west', 'unto', 'the', 'east', 'any', 'day', 'now', 'any', 'day', 'now', 'shall', 'be', 'released', 'they', 'say', 'ev', 'ry', 'man', 'needs', 'protection', 'they', 'say', 'ev', 'ry', 'man', 'must', 'fall', 'yet', 'swear', 'see', 'my', 'reflection', 'some', 'place', 'so', 'high', 'above', 'this', 'wall', 'see', 'my', 'light', 'come', 'shining', 'from', 'the', 'west', 'unto', 'the', 'east', 'any', 'day', 'now', 'any', 'day', 'now', 'shall', 'be', 'released', 'standing', 'next', 'to', 'me', 'in', 'this', 'lonely', 'crowd', 'is', 'man', 'who', 'swears', 'he', 'not', 'to', 'blame', 'all', 'day', 'long', 'hear', 'him', 'shout', 'so', 'loud', 'crying', 'out', 'that', 'he', 'was', 'framed', 'see', 'my', 'light', 'come', 'shining', 'from', 'the', 'west', 'unto', 'the', 'east', 'any', 'day', 'now', 'any', 'day', 'now', 'shall', 'be', 'released', 'tweedle', 'dee', 'dum', 'and', 'tweedle', 'dee', 'dee', 'they', 're', 'throwing', 'knives', 'into', 'the', 'tree', 'two', 'big', 'bags', 'of', 'dead', 'man', 'bones', 'got', 'their', 'noses', 'to', 'the', 'grindstones', 'living', 'in', 'the', 'land', 'of', 'nod', 'trustin', 'their', 'fate', 'to', 'the', 'hands', 'of', 'god', 'they', 'pass', 'by', 'so', 'silently', 'tweedle', 'dee', 'dum', 'and', 'tweedle', 'dee', 'dee', 'well', 'they', 're', 'going', 'to', 'the', 'country', 'they', 're', 'gonna', 'retire', 'they', 're', 'taking', 'street', 'car', 'named', 'desire', 'looking', 'in', 'the', 'window', 'at', 'the', 'pecan', 'pie', 'lot', 'of', 'things', 'they', 'like', 'they', 'would', 'never', 'buy', 'neither', 'one', 'gonna', 'turn', 'and', 'run', 'they', 're', 'making', 'voyage', 'to', 'the', 'sun', 'his', 'master', 'voice', 'is', 'calling', 'me', 'says', 'tweedle', 'dee', 'dum', 'to', 'tweedle', 'dee', 'dee', 'tweedle', 'dee', 'dee', 'and', 'tweedle', 'dee', 'dum', 'all', 'that', 'and', 'more', 'and', 'then', 'some', 'they', 'walk', 'among', 'the', 'stately', 'trees', 'they', 'know', 'the', 'secrets', 'of', 'the', 'breeze', 'tweedle', 'dee', 'dum', 'said', 'to', 'tweedle', 'dee', 'dee', 'your', 'presence', 'is', 'obnoxious', 'to', 'me', 'they', 're', 'like', 'babies', 'sittin', 'on', 'woman', 'knee', 'tweedle', 'dee', 'dum', 'and', 'tweedle', 'dee', 'dee', 'well', 'the', 'rain', 'beating', 'down', 'on', 'my', 'window', 'pane', 'got', 'love', 'for', 'you', 'and', 'it', 'all', 'in', 'vain', 'brains', 'in', 'the', 'pot', 'they', 're', 'beginning', 'to', 'boil', 'they', 're', 'dripping', 'with', 'garlic', 'and', 'olive', 'oil', 'tweedle', 'dee', 'dee', 'he', 'on', 'his', 'hands', 'and', 'his', 'knees', 'saying', 'throw', 'me', 'somethin', 'mister', 'please', 'what', 'good', 'for', 'you', 'is', 'good', 'for', 'me', 'says', 'tweedle', 'dee', 'dum', 'to', 'tweedle', 'dee', 'dee', 'well', 'they', 're', 'living', 'in', 'happy', 'harmony', 'tweedle', 'dee', 'dum', 'and', 'tweedle', 'dee', 'dee', 'they', 're', 'one', 'day', 'older', 'and', 'dollar', 'short', 'they', 've', 'got', 'parade', 'permit', 'and', 'police', 'escort', 'they', 're', 'lying', 'low', 'and', 'they', 're', 'makin', 'hay', 'they', 'seem', 'determined', 'to', 'go', 'all', 'the', 'way', 'they', 'run', 'brick', 'and', 'tile', 'company', 'tweedle', 'dee', 'dum', 'and', 'tweedle', 'dee', 'dee', 'well', 'childish', 'dream', 'is', 'deathless', 'need', 'and', 'noble', 'truth', 'is', 'sacred', 'dream', 'my', 'pretty', 'baby', 'she', 'lookin', 'around', 'she', 'wearin', 'multi', 'thousand', 'dollar', 'gown', 'tweedle', 'dee', 'dee', 'is', 'lowdown', 'sorry', 'old', 'man', 'tweedle', 'dee', 'dum', 'he', 'll', 'stab', 'you', 'where', 'you', 'stand', 've', 'had', 'too', 'much', 'of', 'your', 'company', 'says', 'tweedle', 'dee', 'dum', 'to', 'tweedle', 'dee', 'dee', 'they', 're', 'selling', 'postcards', 'of', 'the', 'hanging', 'they', 're', 'painting', 'the', 'passports', 'brown', 'the', 'beauty', 'parlor', 'is', 'filled', 'with', 'sailors', 'the', 'circus', 'is', 'in', 'town', 'here', 'comes', 'the', 'blind', 'commissioner', 'they', 've', 'got', 'him', 'in', 'trance', 'one', 'hand', 'is', 'tied', 'to', 'the', 'tight', 'rope', 'walker', 'the', 'other', 'is', 'in', 'his', 'pants', 'and', 'the', 'riot', 'squad', 'they', 're', 'restless', 'they', 'need', 'somewhere', 'to', 'go', 'as', 'lady', 'and', 'look', 'out', 'tonight', 'from', 'desolation', 'row', 'cinderella', 'she', 'seems', 'so', 'easy', 'it', 'takes', 'one', 'to', 'know', 'one', 'she', 'smiles', 'and', 'puts', 'her', 'hands', 'in', 'her', 'back', 'pockets', 'bette', 'davis', 'style', 'and', 'in', 'comes', 'romeo', 'he', 'moaning', 'you', 'belong', 'to', 'me', 'believe', 'and', 'someone', 'says', 'you', 're', 'in', 'the', 'wrong', 'place', 'my', 'friend', 'you', 'better', 'leave', 'and', 'the', 'only', 'sound', 'that', 'left', 'after', 'the', 'ambulances', 'go', 'is', 'cinderella', 'sweeping', 'up', 'on', 'desolation', 'row', 'now', 'the', 'moon', 'is', 'almost', 'hidden', 'the', 'stars', 'are', 'beginning', 'to', 'hide', 'the', 'fortune', 'telling', 'lady', 'has', 'even', 'taken', 'all', 'her', 'things', 'inside', 'all', 'except', 'for', 'cain', 'and', 'abel', 'and', 'the', 'hunchback', 'of', 'notre', 'dame', 'everybody', 'is', 'making', 'love', 'or', 'else', 'expecting', 'rain', 'and', 'the', 'good', 'samaritan', 'he', 'dressing', 'he', 'getting', 'ready', 'for', 'the', 'show', 'he', 'going', 'to', 'the', 'carnival', 'tonight', 'on', 'desolation', 'row', 'now', 'ophelia', 'she', 'neath', 'the', 'window', 'for', 'her', 'feel', 'so', 'afraid', 'on', 'her', 'twenty', 'second', 'birthday', 'she', 'already', 'is', 'an', 'old', 'maid', 'to', 'her', 'death', 'is', 'quite', 'romantic', 'she', 'wears', 'an', 'iron', 'vest', 'her', 'profession', 'her', 'religion', 'her', 'sin', 'is', 'her', 'lifelessness', 'and', 'though', 'her', 'eyes', 'are', 'fixed', 'upon', 'noah', 'great', 'rainbow', 'she', 'spends', 'her', 'time', 'peeking', 'into', 'desolation', 'row', 'einstein', 'disguised', 'as', 'robin', 'hood', 'with', 'his', 'memories', 'in', 'trunk', 'passed', 'this', 'way', 'an', 'hour', 'ago', 'with', 'his', 'friend', 'jealous', 'monk', 'he', 'looked', 'so', 'immaculately', 'frightful', 'as', 'he', 'bummed', 'cigarette', 'then', 'he', 'went', 'off', 'sniffing', 'drainpipes', 'and', 'reciting', 'the', 'alphabet', 'now', 'you', 'would', 'not', 'think', 'to', 'look', 'at', 'him', 'but', 'he', 'was', 'famous', 'long', 'ago', 'for', 'playing', 'the', 'electric', 'violin', 'on', 'desolation', 'row', 'dr', 'filth', 'he', 'keeps', 'his', 'world', 'inside', 'of', 'leather', 'cup', 'but', 'all', 'his', 'sexless', 'patients', 'they', 're', 'trying', 'to', 'blow', 'it', 'up', 'now', 'his', 'nurse', 'some', 'local', 'loser', 'she', 'in', 'charge', 'of', 'the', 'cyanide', 'hole', 'and', 'she', 'also', 'keeps', 'the', 'cards', 'that', 'read', 'have', 'mercy', 'on', 'his', 'soul', 'they', 'all', 'play', 'on', 'pennywhistles', 'you', 'can', 'hear', 'them', 'blow', 'if', 'you', 'lean', 'your', 'head', 'out', 'far', 'enough', 'from', 'desolation', 'row', 'across', 'the', 'street', 'they', 've', 'nailed', 'the', 'curtains', 'they', 're', 'getting', 'ready', 'for', 'the', 'feast', 'the', 'phantom', 'of', 'the', 'opera', 'perfect', 'image', 'of', 'priest', 'they', 're', 'spoonfeeding', 'casanova', 'to', 'get', 'him', 'to', 'feel', 'more', 'assured', 'then', 'they', 'll', 'kill', 'him', 'with', 'self', 'confidence', 'after', 'poisoning', 'him', 'with', 'words', 'and', 'the', 'phantom', 'shouting', 'to', 'skinny', 'girls', 'get', 'outa', 'here', 'if', 'you', 'don', 'know', 'casanova', 'is', 'just', 'being', 'punished', 'for', 'going', 'to', 'desolation', 'row', 'now', 'at', 'midnight', 'all', 'the', 'agents', 'and', 'the', 'superhuman', 'crew', 'come', 'out', 'and', 'round', 'up', 'everyone', 'that', 'knows', 'more', 'than', 'they', 'do', 'then', 'they', 'bring', 'them', 'to', 'the', 'factory', 'where', 'the', 'heart', 'attack', 'machine', 'is', 'strapped', 'across', 'their', 'shoulders', 'and', 'then', 'the', 'kerosene', 'is', 'brought', 'down', 'from', 'the', 'castles', 'by', 'insurance', 'men', 'who', 'go', 'check', 'to', 'see', 'that', 'nobody', 'is', 'escaping', 'to', 'desolation', 'row', 'praise', 'be', 'to', 'nero', 'neptune', 'the', 'titanic', 'sails', 'at', 'dawn', 'and', 'everybody', 'shouting', 'which', 'side', 'are', 'you', 'on', 'and', 'ezra', 'pound', 'and', 'eliot', 'fighting', 'in', 'the', 'captain', 'tower', 'while', 'calypso', 'singers', 'laugh', 'at', 'them', 'and', 'fishermen', 'hold', 'flowers', 'between', 'the', 'windows', 'of', 'the', 'sea', 'where', 'lovely', 'mermaids', 'flow', 'and', 'nobody', 'has', 'to', 'think', 'too', 'much', 'about', 'desolation', 'row', 'yes', 'received', 'your', 'letter', 'yesterday', 'about', 'the', 'time', 'the', 'doorknob', 'broke', 'when', 'you', 'asked', 'how', 'was', 'doing', 'was', 'that', 'some', 'kind', 'of', 'joke', 'all', 'these', 'people', 'that', 'you', 'mention', 'yes', 'know', 'them', 'they', 're', 'quite', 'lame', 'had', 'to', 'rearrange', 'their', 'faces', 'and', 'give', 'them', 'all', 'another', 'name', 'right', 'now', 'can', 'read', 'too', 'good', 'don', 'send', 'me', 'no', 'more', 'letters', 'no', 'not', 'unless', 'you', 'mail', 'them', 'from', 'desolation', 'row', 'mama', 'take', 'this', 'badge', 'off', 'of', 'me', 'can', 'use', 'it', 'anymore', 'it', 'gettin', 'dark', 'too', 'dark', 'for', 'me', 'to', 'see', 'feel', 'like', 'knockin', 'on', 'heaven', 'door', 'knock', 'knock', 'knockin', 'on', 'heaven', 'door', 'knock', 'knock', 'knockin', 'on', 'heaven', 'door', 'knock', 'knock', 'knockin', 'on', 'heaven', 'door', 'knock', 'knock', 'knockin', 'on', 'heaven', 'door', 'mama', 'put', 'my', 'guns', 'in', 'the', 'ground', 'can', 'shoot', 'them', 'anymore', 'that', 'long', 'black', 'cloud', 'is', 'comin', 'down', 'feel', 'like', 'knockin', 'on', 'heaven', 'door', 'knock', 'knock', 'knockin', 'on', 'heaven', 'door', 'knock', 'knock', 'knockin', 'on', 'heaven', 'door', 'knock', 'knock', 'knockin', 'on', 'heaven', 'door', 'knock', 'knock', 'knockin', 'on', 'heaven', 'door', 'oh', 'where', 'have', 'you', 'been', 'my', 'blue', 'eyed', 'son', 'oh', 'where', 'have', 'you', 'been', 'my', 'darling', 'young', 'one', 've', 'stumbled', 'on', 'the', 'side', 'of', 'twelve', 'misty', 'mountains', 've', 'walked', 'and', 've', 'crawled', 'on', 'six', 'crooked', 'highways', 've', 'stepped', 'in', 'the', 'middle', 'of', 'seven', 'sad', 'forests', 've', 'been', 'out', 'in', 'front', 'of', 'dozen', 'dead', 'oceans', 've', 'been', 'ten', 'thousand', 'miles', 'in', 'the', 'mouth', 'of', 'graveyard', 'and', 'it', 'hard', 'and', 'it', 'hard', 'it', 'hard', 'and', 'it', 'hard', 'and', 'it', 'hard', 'rain', 'gonna', 'fall', 'oh', 'what', 'did', 'you', 'see', 'my', 'blue', 'eyed', 'son', 'oh', 'what', 'did', 'you', 'see', 'my', 'darling', 'young', 'one', 'saw', 'newborn', 'baby', 'with', 'wild', 'wolves', 'all', 'around', 'it', 'saw', 'highway', 'of', 'diamonds', 'with', 'nobody', 'on', 'it', 'saw', 'black', 'branch', 'with', 'blood', 'that', 'kept', 'drippin', 'saw', 'room', 'full', 'of', 'men', 'with', 'their', 'hammers', 'bleedin', 'saw', 'white', 'ladder', 'all', 'covered', 'with', 'water', 'saw', 'ten', 'thousand', 'talkers', 'whose', 'tongues', 'were', 'all', 'broken', 'saw', 'guns', 'and', 'sharp', 'swords', 'in', 'the', 'hands', 'of', 'young', 'children', 'and', 'it', 'hard', 'and', 'it', 'hard', 'it', 'hard', 'it', 'hard', 'and', 'it', 'hard', 'rain', 'gonna', 'fall', 'and', 'what', 'did', 'you', 'hear', 'my', 'blue', 'eyed', 'son', 'and', 'what', 'did', 'you', 'hear', 'my', 'darling', 'young', 'one', 'heard', 'the', 'sound', 'of', 'thunder', 'it', 'roared', 'out', 'warnin', 'heard', 'the', 'roar', 'of', 'wave', 'that', 'could', 'drown', 'the', 'whole', 'world', 'heard', 'one', 'hundred', 'drummers', 'whose', 'hands', 'were', 'blazin', 'heard', 'ten', 'thousand', 'whisperin', 'and', 'nobody', 'listenin', 'heard', 'one', 'person', 'starve', 'heard', 'many', 'people', 'laughin', 'heard', 'the', 'song', 'of', 'poet', 'who', 'died', 'in', 'the', 'gutter', 'heard', 'the', 'sound', 'of', 'clown', 'who', 'cried', 'in', 'the', 'alley', 'and', 'it', 'hard', 'and', 'it', 'hard', 'it', 'hard', 'it', 'hard', 'and', 'it', 'hard', 'rain', 'gonna', 'fall', 'oh', 'who', 'did', 'you', 'meet', 'my', 'blue', 'eyed', 'son', 'who', 'did', 'you', 'meet', 'my', 'darling', 'young', 'one', 'met', 'young', 'child', 'beside', 'dead', 'pony', 'met', 'white', 'man', 'who', 'walked', 'black', 'dog', 'met', 'young', 'woman', 'whose', 'body', 'was', 'burning', 'met', 'young', 'girl', 'she', 'gave', 'me', 'rainbow', 'met', 'one', 'man', 'who', 'was', 'wounded', 'in', 'love', 'met', 'another', 'man', 'who', 'was', 'wounded', 'with', 'hatred', 'and', 'it', 'hard', 'it', 'hard', 'it', 'hard', 'it', 'hard', 'it', 'hard', 'rain', 'gonna', 'fall', 'oh', 'what', 'll', 'you', 'do', 'now', 'my', 'blue', 'eyed', 'son', 'oh', 'what', 'll', 'you', 'do', 'now', 'my', 'darling', 'young', 'one', 'goin', 'back', 'out', 'fore', 'the', 'rain', 'starts', 'fallin', 'll', 'walk', 'to', 'the', 'depths', 'of', 'the', 'deepest', 'black', 'forest', 'where', 'the', 'people', 'are', 'many', 'and', 'their', 'hands', 'are', 'all', 'empty', 'where', 'the', 'pellets', 'of', 'poison', 'are', 'flooding', 'their', 'waters', 'where', 'the', 'home', 'in', 'the', 'valley', 'meets', 'the', 'damp', 'dirty', 'prison', 'where', 'the', 'executioner', 'face', 'is', 'always', 'well', 'hidden', 'where', 'hunger', 'is', 'ugly', 'where', 'souls', 'are', 'forgotten', 'where', 'black', 'is', 'the', 'color', 'where', 'none', 'is', 'the', 'number', 'and', 'll', 'tell', 'it', 'and', 'think', 'it', 'and', 'speak', 'it', 'and', 'breathe', 'it', 'and', 'reflect', 'it', 'from', 'the', 'mountain', 'so', 'all', 'souls', 'can', 'see', 'it', 'then', 'll', 'stand', 'on', 'the', 'ocean', 'until', 'start', 'sinkin', 'but', 'll', 'know', 'my', 'song', 'well', 'before', 'start', 'singin', 'and', 'it', 'hard', 'it', 'hard', 'it', 'hard', 'it', 'hard', 'it', 'hard', 'rain', 'gonna', 'fall', 'close', 'your', 'eyes', 'close', 'the', 'door', 'you', 'don', 'have', 'to', 'worry', 'anymore', 'll', 'be', 'your', 'baby', 'tonight', 'shut', 'the', 'light', 'shut', 'the', 'shade', 'you', 'don', 'have', 'to', 'be', 'afraid', 'll', 'be', 'your', 'baby', 'tonight', 'well', 'that', 'mockingbird', 'gonna', 'sail', 'away', 'we', 're', 'gonna', 'forget', 'it', 'that', 'big', 'fat', 'moon', 'is', 'gonna', 'shine', 'like', 'spoon', 'but', 'we', 're', 'gonna', 'let', 'it', 'you', 'won', 'regret', 'it', 'kick', 'your', 'shoes', 'off', 'do', 'not', 'fear', 'bring', 'that', 'bottle', 'over', 'here', 'll', 'be', 'your', 'baby', 'tonight', 'beginning', 'to', 'hear', 'voices', 'and', 'there', 'no', 'one', 'around', 'well', 'all', 'used', 'up', 'and', 'the', 'fields', 'have', 'turned', 'brown', 'went', 'to', 'church', 'on', 'sunday', 'and', 'she', 'passed', 'by', 'my', 'love', 'for', 'her', 'is', 'taking', 'such', 'long', 'time', 'to', 'die', 'waist', 'deep', 'waist', 'deep', 'in', 'the', 'mist', 'it', 'almost', 'like', 'almost', 'like', 'don', 'exist', 'twenty', 'miles', 'out', 'of', 'town', 'in', 'cold', 'irons', 'bound', 'the', 'walls', 'of', 'pride', 'are', 'high', 'and', 'wide', 'can', 'see', 'over', 'to', 'the', 'other', 'side', 'it', 'such', 'sad', 'thing', 'to', 'see', 'beauty', 'decay', 'it', 'sadder', 'still', 'to', 'feel', 'your', 'heart', 'torn', 'away', 'one', 'look', 'at', 'you', 'and', 'out', 'of', 'control', 'like', 'the', 'universe', 'has', 'swallowed', 'me', 'whole', 'twenty', 'miles', 'out', 'of', 'town', 'in', 'cold', 'irons', 'bound', 'there', 'too', 'many', 'people', 'too', 'many', 'to', 'recall', 'thought', 'some', 'of', 'were', 'friends', 'of', 'mine', 'was', 'wrong', 'about', 'all', 'well', 'the', 'road', 'is', 'rocky', 'and', 'the', 'hillside', 'mud', 'up', 'over', 'my', 'head', 'nothing', 'but', 'clouds', 'of', 'blood', 'found', 'my', 'world', 'found', 'my', 'world', 'in', 'you', 'but', 'your', 'love', 'just', 'hasn', 'proved', 'true', 'twenty', 'miles', 'out', 'of', 'town', 'in', 'cold', 'irons', 'bound', 'twenty', 'miles', 'out', 'of', 'town', 'in', 'cold', 'irons', 'bound', 'oh', 'the', 'winds', 'in', 'chicago', 'have', 'torn', 'me', 'to', 'shreds', 'reality', 'has', 'always', 'had', 'too', 'many', 'heads', 'some', 'things', 'last', 'longer', 'than', 'you', 'think', 'they', 'will', 'there', 'are', 'some', 'kind', 'of', 'things', 'you', 'can', 'never', 'kill', 'it', 'you', 'and', 'you', 'only', 'been', 'thinking', 'about', 'but', 'you', 'can', 'see', 'in', 'and', 'it', 'hard', 'lookin', 'out', 'twenty', 'miles', 'out', 'of', 'town', 'in', 'cold', 'irons', 'bound', 'well', 'the', 'fat', 'in', 'the', 'fire', 'and', 'the', 'water', 'in', 'the', 'tank', 'the', 'whiskey', 'in', 'the', 'jar', 'and', 'the', 'money', 'in', 'the', 'bank', 'tried', 'to', 'love', 'and', 'protect', 'you', 'because', 'cared', 'gonna', 'remember', 'forever', 'the', 'joy', 'that', 'we', 'shared', 'looking', 'at', 'you', 'and', 'on', 'my', 'bended', 'knee', 'you', 'have', 'no', 'idea', 'what', 'you', 'do', 'to', 'me', 'twenty', 'miles', 'out', 'of', 'town', 'in', 'cold', 'irons', 'bound', 'twenty', 'miles', 'out', 'of', 'town', 'in', 'cold', 'irons', 'bound', 'you', 'may', 'be', 'an', 'ambassador', 'to', 'england', 'or', 'france', 'you', 'may', 'like', 'to', 'gamble', 'you', 'might', 'like', 'to', 'dance', 'you', 'may', 'be', 'the', 'heavyweight', 'champion', 'of', 'the', 'world', 'you', 'may', 'be', 'socialite', 'with', 'long', 'string', 'of', 'pearls', 'but', 'you', 're', 'gonna', 'have', 'to', 'serve', 'somebody', 'yes', 'indeed', 'you', 're', 'gonna', 'have', 'to', 'serve', 'somebody', 'well', 'it', 'may', 'be', 'the', 'devil', 'or', 'it', 'may', 'be', 'the', 'lord', 'but', 'you', 're', 'gonna', 'have', 'to', 'serve', 'somebody', 'you', 'might', 'be', 'rock', 'roll', 'addict', 'prancing', 'on', 'the', 'stage', 'you', 'might', 'have', 'drugs', 'at', 'your', 'command', 'women', 'in', 'cage', 'you', 'may', 'be', 'businessman', 'or', 'some', 'high', 'degree', 'thief', 'they', 'may', 'call', 'you', 'doctor', 'or', 'they', 'may', 'call', 'you', 'chief', 'but', 'you', 're', 'gonna', 'have', 'to', 'serve', 'somebody', 'yes', 'indeed', 'you', 're', 'gonna', 'have', 'to', 'serve', 'somebody', 'well', 'it', 'may', 'be', 'the', 'devil', 'or', 'it', 'may', 'be', 'the', 'lord', 'but', 'you', 're', 'gonna', 'have', 'to', 'serve', 'somebody', 'you', 'may', 'be', 'state', 'trooper', 'you', 'might', 'be', 'young', 'turk', 'you', 'may', 'be', 'the', 'head', 'of', 'some', 'big', 'tv', 'network', 'you', 'may', 'be', 'rich', 'or', 'poor', 'you', 'may', 'be', 'blind', 'or', 'lame', 'you', 'may', 'be', 'living', 'in', 'another', 'country', 'under', 'another', 'name', 'but', 'you', 're', 'gonna', 'have', 'to', 'serve', 'somebody', 'yes', 'indeed', 'you', 're', 'gonna', 'have', 'to', 'serve', 'somebody', 'well', 'it', 'may', 'be', 'the', 'devil', 'or', 'it', 'may', 'be', 'the', 'lord', 'but', 'you', 're', 'gonna', 'have', 'to', 'serve', 'somebody', 'you', 'may', 'be', 'construction', 'worker', 'working', 'on', 'home', 'you', 'may', 'be', 'living', 'in', 'mansion', 'or', 'you', 'might', 'live', 'in', 'dome', 'you', 'might', 'own', 'guns', 'and', 'you', 'might', 'even', 'own', 'tanks', 'you', 'might', 'be', 'somebody', 'landlord', 'you', 'might', 'even', 'own', 'banks', 'but', 'you', 're', 'gonna', 'have', 'to', 'serve', 'somebody', 'yes', 'indeed', 'you', 're', 'gonna', 'have', 'to', 'serve', 'somebody', 'well', 'it', 'may', 'be', 'the', 'devil', 'or', 'it', 'may', 'be', 'the', 'lord', 'but', 'you', 're', 'gonna', 'have', 'to', 'serve', 'somebody', 'you', 'may', 'be', 'preacher', 'with', 'your', 'spiritual', 'pride', 'you', 'may', 'be', 'city', 'councilman', 'taking', 'bribes', 'on', 'the', 'side', 'you', 'may', 'be', 'workin', 'in', 'barbershop', 'you', 'may', 'know', 'how', 'to', 'cut', 'hair', 'you', 'may', 'be', 'somebody', 'mistress', 'may', 'be', 'somebody', 'heir', 'but', 'you', 're', 'gonna', 'have', 'to', 'serve', 'somebody', 'yes', 'indeed', 'you', 're', 'gonna', 'have', 'to', 'serve', 'somebody', 'well', 'it', 'may', 'be', 'the', 'devil', 'or', 'it', 'may', 'be', 'the', 'lord', 'but', 'you', 're', 'gonna', 'have', 'to', 'serve', 'somebody', 'might', 'like', 'to', 'wear', 'cotton', 'might', 'like', 'to', 'wear', 'silk', 'might', 'like', 'to', 'drink', 'whiskey', 'might', 'like', 'to', 'drink', 'milk', 'you', 'might', 'like', 'to', 'eat', 'caviar', 'you', 'might', 'like', 'to', 'eat', 'bread', 'you', 'may', 'be', 'sleeping', 'on', 'the', 'floor', 'sleeping', 'in', 'king', 'sized', 'bed', 'but', 'you', 're', 'gonna', 'have', 'to', 'serve', 'somebody', 'yes', 'indeed', 'you', 're', 'gonna', 'have', 'to', 'serve', 'somebody', 'well', 'it', 'may', 'be', 'the', 'devil', 'or', 'it', 'may', 'be', 'the', 'lord', 'but', 'you', 're', 'gonna', 'have', 'to', 'serve', 'somebody', 'you', 'may', 'call', 'me', 'terry', 'you', 'may', 'call', 'me', 'timmy', 'you', 'may', 'call', 'me', 'bobby', 'you', 'may', 'call', 'me', 'zimmy', 'you', 'may', 'call', 'me', 'you', 'may', 'call', 'me', 'ray', 'you', 'may', 'call', 'me', 'anything', 'but', 'no', 'matter', 'what', 'you', 'say', 'you', 're', 'gonna', 'have', 'to', 'serve', 'somebody', 'yes', 'indeed', 'you', 're', 'gonna', 'have', 'to', 'serve', 'somebody', 'well', 'it', 'may', 'be', 'the', 'devil', 'or', 'it', 'may', 'be', 'the', 'lord', 'but', 'you', 're', 'gonna', 'have', 'to', 'serve', 'somebody', 'lay', 'lady', 'lay', 'lay', 'across', 'my', 'big', 'brass', 'bed', 'lay', 'lady', 'lay', 'lay', 'across', 'my', 'big', 'brass', 'bed', 'whatever', 'colors', 'you', 'have', 'in', 'your', 'mind', 'll', 'show', 'them', 'to', 'you', 'and', 'you', 'll', 'see', 'them', 'shine', 'lay', 'lady', 'lay', 'lay', 'across', 'my', 'big', 'brass', 'bed', 'stay', 'lady', 'stay', 'stay', 'with', 'your', 'man', 'awhile', 'until', 'the', 'break', 'of', 'day', 'let', 'me', 'see', 'you', 'make', 'him', 'smile', 'his', 'clothes', 'are', 'dirty', 'but', 'his', 'hands', 'are', 'clean', 'and', 'you', 're', 'the', 'best', 'thing', 'that', 'he', 'ever', 'seen', 'stay', 'lady', 'stay', 'stay', 'with', 'your', 'man', 'awhile', 'why', 'wait', 'any', 'longer', 'for', 'the', 'world', 'to', 'begin', 'you', 'can', 'have', 'your', 'cake', 'and', 'eat', 'it', 'too', 'why', 'wait', 'any', 'longer', 'for', 'the', 'one', 'you', 'love', 'when', 'he', 'standing', 'in', 'front', 'of', 'you', 'lay', 'lady', 'lay', 'lay', 'across', 'my', 'big', 'brass', 'bed', 'stay', 'lady', 'stay', 'stay', 'while', 'the', 'night', 'is', 'still', 'ahead', 'long', 'to', 'see', 'you', 'in', 'the', 'morning', 'light', 'long', 'to', 'reach', 'for', 'you', 'in', 'the', 'night', 'stay', 'lady', 'stay', 'stay', 'while', 'the', 'night', 'is', 'still', 'ahead', 'love', 'you', 'pretty', 'baby', 'you', 're', 'the', 'only', 'love', 've', 'ever', 'known', 'just', 'as', 'long', 'as', 'you', 'stay', 'with', 'me', 'the', 'whole', 'world', 'is', 'my', 'throne', 'beyond', 'here', 'lies', 'nothin', 'nothin', 'we', 'can', 'call', 'our', 'own', 'movin', 'after', 'midnight', 'down', 'boulevards', 'of', 'broken', 'cars', 'don', 'know', 'what', 'to', 'do', 'without', 'it', 'without', 'this', 'love', 'that', 'we', 'call', 'ours', 'beyond', 'here', 'lies', 'nothin', 'nothin', 'but', 'the', 'moon', 'and', 'stars', 'down', 'every', 'street', 'there', 'window', 'and', 'every', 'window', 'made', 'of', 'glass', 'we', 'll', 'keep', 'on', 'lovin', 'pretty', 'baby', 'for', 'as', 'long', 'as', 'love', 'will', 'last', 'beyond', 'here', 'lies', 'nothin', 'but', 'the', 'mountains', 'of', 'the', 'past', 'my', 'ship', 'is', 'in', 'the', 'harbor', 'and', 'the', 'sails', 'are', 'spread', 'listen', 'to', 'me', 'pretty', 'baby', 'lay', 'your', 'hand', 'upon', 'my', 'head', 'beyond', 'here', 'lies', 'nothin', 'nothin', 'done', 'and', 'nothin', 'said', 'twas', 'in', 'another', 'lifetime', 'one', 'of', 'toil', 'and', 'blood', 'when', 'blackness', 'was', 'virtue', 'and', 'the', 'road', 'was', 'full', 'of', 'mud', 'came', 'in', 'from', 'the', 'wilderness', 'creature', 'void', 'of', 'form', 'come', 'in', 'she', 'said', 'll', 'give', 'you', 'shelter', 'from', 'the', 'storm', 'and', 'if', 'pass', 'this', 'way', 'again', 'you', 'can', 'rest', 'assured', 'll', 'always', 'do', 'my', 'best', 'for', 'her', 'on', 'that', 'give', 'my', 'word', 'in', 'world', 'of', 'steel', 'eyed', 'death', 'and', 'men', 'who', 'are', 'fighting', 'to', 'be', 'warm', 'come', 'in', 'she', 'said', 'll', 'give', 'you', 'shelter', 'from', 'the', 'storm', 'not', 'word', 'was', 'spoke', 'between', 'us', 'there', 'was', 'little', 'risk', 'involved', 'everything', 'up', 'to', 'that', 'point', 'had', 'been', 'left', 'unresolved', 'try', 'imagining', 'place', 'where', 'it', 'always', 'safe', 'and', 'warm', 'come', 'in', 'she', 'said', 'll', 'give', 'you', 'shelter', 'from', 'the', 'storm', 'was', 'burned', 'out', 'from', 'exhaustion', 'buried', 'in', 'the', 'hail', 'poisoned', 'in', 'the', 'bushes', 'an', 'blown', 'out', 'on', 'the', 'trail', 'hunted', 'like', 'crocodile', 'ravaged', 'in', 'the', 'corn', 'come', 'in', 'she', 'said', 'll', 'give', 'you', 'shelter', 'from', 'the', 'storm', 'suddenly', 'turned', 'around', 'and', 'she', 'was', 'standin', 'there', 'with', 'silver', 'bracelets', 'on', 'her', 'wrists', 'and', 'flowers', 'in', 'her', 'hair', 'she', 'walked', 'up', 'to', 'me', 'so', 'gracefully', 'and', 'took', 'my', 'crown', 'of', 'thorns', 'come', 'in', 'she', 'said', 'll', 'give', 'you', 'shelter', 'from', 'the', 'storm', 'now', 'there', 'wall', 'between', 'us', 'somethin', 'there', 'been', 'lost', 'took', 'too', 'much', 'for', 'granted', 'got', 'my', 'signals', 'crossed', 'just', 'to', 'think', 'that', 'it', 'all', 'began', 'on', 'long', 'forgotten', 'morn', 'come', 'in', 'she', 'said', 'll', 'give', 'you', 'shelter', 'from', 'the', 'storm', 'well', 'the', 'deputy', 'walks', 'on', 'hard', 'nails', 'and', 'the', 'preacher', 'rides', 'mount', 'but', 'nothing', 'really', 'matters', 'much', 'it', 'doom', 'alone', 'that', 'counts', 'and', 'the', 'one', 'eyed', 'undertaker', 'he', 'blows', 'futile', 'horn', 'come', 'in', 'she', 'said', 'll', 'give', 'you', 'shelter', 'from', 'the', 'storm', 've', 'heard', 'newborn', 'babies', 'wailin', 'like', 'mournin', 'dove', 'and', 'old', 'men', 'with', 'broken', 'teeth', 'stranded', 'without', 'love', 'do', 'understand', 'your', 'question', 'man', 'is', 'it', 'hopeless', 'and', 'forlorn', 'come', 'in', 'she', 'said', 'll', 'give', 'you', 'shelter', 'from', 'the', 'storm', 'in', 'little', 'hilltop', 'village', 'they', 'gambled', 'for', 'my', 'clothes', 'bargained', 'for', 'salvation', 'an', 'they', 'gave', 'me', 'lethal', 'dose', 'offered', 'up', 'my', 'innocence', 'and', 'got', 'repaid', 'with', 'scorn', 'come', 'in', 'she', 'said', 'll', 'give', 'you', 'shelter', 'from', 'the', 'storm', 'well', 'livin', 'in', 'foreign', 'country', 'but', 'bound', 'to', 'cross', 'the', 'line', 'beauty', 'walks', 'razor', 'edge', 'someday', 'll', 'make', 'it', 'mine', 'if', 'could', 'only', 'turn', 'back', 'the', 'clock', 'to', 'when', 'god', 'and', 'her', 'were', 'born', 'come', 'in', 'she', 'said', 'll', 'give', 'you', 'shelter', 'from', 'the', 'storm', 'ramona', 'come', 'closer', 'shut', 'softly', 'your', 'watery', 'eyes', 'the', 'pangs', 'of', 'your', 'sadness', 'shall', 'pass', 'as', 'your', 'senses', 'will', 'rise', 'the', 'flowers', 'of', 'the', 'city', 'though', 'breathlike', 'get', 'deathlike', 'at', 'times', 'and', 'there', 'no', 'use', 'in', 'tryin', 'deal', 'with', 'the', 'dyin', 'though', 'cannot', 'explain', 'that', 'in', 'lines', 'your', 'cracked', 'country', 'lips', 'still', 'wish', 'to', 'kiss', 'as', 'to', 'be', 'under', 'the', 'strength', 'of', 'your', 'skin', 'your', 'magnetic', 'movements', 'still', 'capture', 'the', 'minutes', 'in', 'but', 'it', 'grieves', 'my', 'heart', 'love', 'to', 'see', 'you', 'tryin', 'to', 'be', 'part', 'of', 'world', 'that', 'just', 'don', 'exist', 'it', 'all', 'just', 'dream', 'babe', 'vacuum', 'scheme', 'babe', 'that', 'sucks', 'you', 'into', 'feelin', 'like', 'this', 'can', 'see', 'that', 'your', 'head', 'has', 'been', 'twisted', 'and', 'fed', 'by', 'worthless', 'foam', 'from', 'the', 'mouth', 'can', 'tell', 'you', 'are', 'torn', 'between', 'stayin', 'and', 'returnin', 'on', 'back', 'to', 'the', 'south', 'you', 've', 'been', 'fooled', 'into', 'thinking', 'that', 'the', 'finishin', 'end', 'is', 'at', 'hand', 'yet', 'there', 'no', 'one', 'to', 'beat', 'you', 'no', 'one', 'defeat', 'you', 'cept', 'the', 'thoughts', 'of', 'yourself', 'feeling', 'bad', 've', 'heard', 'you', 'say', 'many', 'times', 'that', 'you', 're', 'better', 'no', 'one', 'and', 'no', 'one', 'is', 'better', 'you', 'if', 'you', 'really', 'believe', 'that', 'you', 'know', 'you', 'got', 'nothing', 'to', 'win', 'and', 'nothing', 'to', 'lose', 'from', 'fixtures', 'and', 'forces', 'and', 'friends', 'your', 'sorrow', 'does', 'stem', 'that', 'hype', 'you', 'and', 'type', 'you', 'making', 'you', 'feel', 'that', 'you', 'must', 'be', 'exactly', 'like', 'them', 'forever', 'talk', 'to', 'you', 'but', 'soon', 'my', 'words', 'they', 'would', 'turn', 'into', 'meaningless', 'ring', 'for', 'deep', 'in', 'my', 'heart', 'know', 'there', 'is', 'no', 'help', 'can', 'bring', 'everything', 'passes', 'everything', 'changes', 'just', 'do', 'what', 'you', 'think', 'you', 'should', 'do', 'and', 'someday', 'maybe', 'who', 'knows', 'baby', 'll', 'come', 'and', 'be', 'cryin', 'to', 'you', 'my', 'love', 'she', 'speaks', 'like', 'silence', 'without', 'ideals', 'or', 'violence', 'she', 'doesn', 'have', 'to', 'say', 'she', 'faithful', 'yet', 'she', 'true', 'like', 'ice', 'like', 'fire', 'people', 'carry', 'roses', 'make', 'promises', 'by', 'the', 'hours', 'my', 'love', 'she', 'laughs', 'like', 'the', 'flowers', 'valentines', 'can', 'buy', 'her', 'in', 'the', 'dime', 'stores', 'and', 'bus', 'stations', 'people', 'talk', 'of', 'situations', 'read', 'books', 'repeat', 'quotations', 'draw', 'conclusions', 'on', 'the', 'wall', 'some', 'speak', 'of', 'the', 'future', 'my', 'love', 'she', 'speaks', 'softly', 'she', 'knows', 'there', 'no', 'success', 'like', 'failure', 'and', 'that', 'failure', 'no', 'success', 'at', 'all', 'the', 'cloak', 'and', 'dagger', 'dangles', 'madams', 'light', 'the', 'candles', 'in', 'ceremonies', 'of', 'the', 'horsemen', 'even', 'the', 'pawn', 'must', 'hold', 'grudge', 'statues', 'made', 'of', 'matchsticks', 'crumble', 'into', 'one', 'another', 'my', 'love', 'winks', 'she', 'does', 'not', 'bother', 'she', 'knows', 'too', 'much', 'to', 'argue', 'or', 'to', 'judge', 'the', 'bridge', 'at', 'midnight', 'trembles', 'the', 'country', 'doctor', 'rambles', 'bankers', 'nieces', 'seek', 'perfection', 'expecting', 'all', 'the', 'gifts', 'that', 'wise', 'men', 'bring', 'the', 'wind', 'howls', 'like', 'hammer', 'the', 'night', 'blows', 'cold', 'and', 'rainy', 'my', 'love', 'she', 'like', 'some', 'raven', 'at', 'my', 'window', 'with', 'broken', 'wing', 'you', 'got', 'lotta', 'nerve', 'to', 'say', 'you', 'are', 'my', 'friend', 'when', 'was', 'down', 'you', 'just', 'stood', 'there', 'grinning', 'you', 'got', 'lotta', 'nerve', 'to', 'say', 'you', 'got', 'helping', 'hand', 'to', 'lend', 'you', 'just', 'want', 'to', 'be', 'on', 'the', 'side', 'that', 'winning', 'you', 'say', 'let', 'you', 'down', 'you', 'know', 'it', 'not', 'like', 'that', 'if', 'you', 're', 'so', 'hurt', 'why', 'then', 'don', 'you', 'show', 'it', 'you', 'say', 'you', 'lost', 'your', 'faith', 'but', 'that', 'not', 'where', 'it', 'at', 'you', 'had', 'no', 'faith', 'to', 'lose', 'and', 'you', 'know', 'it', 'know', 'the', 'reason', 'that', 'you', 'talk', 'behind', 'my', 'back', 'used', 'to', 'be', 'among', 'the', 'crowd', 'you', 're', 'in', 'with', 'do', 'you', 'take', 'me', 'for', 'such', 'fool', 'to', 'think', 'make', 'contact', 'with', 'the', 'one', 'who', 'tries', 'to', 'hide', 'what', 'he', 'don', 'know', 'to', 'begin', 'with', 'you', 'see', 'me', 'on', 'the', 'street', 'you', 'always', 'act', 'surprised', 'you', 'say', 'how', 'are', 'you', 'good', 'luck', 'but', 'you', 'don', 'mean', 'it', 'when', 'you', 'know', 'as', 'well', 'as', 'me', 'you', 'rather', 'see', 'me', 'paralyzed', 'why', 'don', 'you', 'just', 'come', 'out', 'once', 'and', 'scream', 'it', 'no', 'do', 'not', 'feel', 'that', 'good', 'when', 'see', 'the', 'heartbreaks', 'you', 'embrace', 'if', 'was', 'master', 'thief', 'perhaps', 'rob', 'them', 'and', 'now', 'know', 'you', 're', 'dissatisfied', 'with', 'your', 'position', 'and', 'your', 'place', 'don', 'you', 'understand', 'it', 'not', 'my', 'problem', 'wish', 'that', 'for', 'just', 'one', 'time', 'you', 'could', 'stand', 'inside', 'my', 'shoes', 'and', 'just', 'for', 'that', 'one', 'moment', 'could', 'be', 'you', 'yes', 'wish', 'that', 'for', 'just', 'one', 'time', 'you', 'could', 'stand', 'inside', 'my', 'shoes', 'you', 'know', 'what', 'drag', 'it', 'is', 'to', 'see', 'you', 'can', 'understand', 'she', 'let', 'go', 'of', 'my', 'hand', 'an', 'left', 'me', 'here', 'facing', 'the', 'wall', 'sure', 'like', 'know', 'why', 'she', 'did', 'go', 'but', 'can', 'get', 'close', 'her', 'at', 'all', 'though', 'we', 'kissed', 'through', 'the', 'wild', 'blazing', 'nighttime', 'she', 'said', 'she', 'would', 'never', 'forget', 'but', 'now', 'mornin', 'clear', 'it', 'like', 'ain', 'here', 'she', 'just', 'acts', 'like', 'we', 'never', 'have', 'met', 'it', 'all', 'new', 'me', 'like', 'some', 'mystery', 'it', 'could', 'even', 'be', 'like', 'myth', 'yet', 'it', 'hard', 'think', 'on', 'that', 'she', 'the', 'same', 'one', 'that', 'last', 'night', 'was', 'with', 'from', 'darkness', 'dreams', 're', 'deserted', 'am', 'still', 'dreamin', 'yet', 'wish', 'she', 'unlock', 'her', 'voice', 'once', 'an', 'talk', 'stead', 'of', 'acting', 'like', 'we', 'never', 'have', 'met', 'if', 'she', 'ain', 'feelin', 'well', 'then', 'why', 'don', 'she', 'tell', 'stead', 'of', 'turnin', 'her', 'back', 'my', 'face', 'without', 'any', 'doubt', 'she', 'seems', 'too', 'far', 'out', 'for', 'me', 'return', 'her', 'chase', 'though', 'the', 'night', 'ran', 'swirling', 'an', 'whirling', 'remember', 'her', 'whispering', 'yet', 'but', 'evidently', 'she', 'don', 'an', 'evidently', 'she', 'won', 'she', 'just', 'acts', 'like', 'we', 'never', 'have', 'met', 'if', 'didn', 'have', 'guess', 'gladly', 'confess', 'anything', 'might', 've', 'tried', 'if', 'was', 'with', 'er', 'too', 'long', 'or', 'have', 'done', 'something', 'wrong', 'wish', 'she', 'tell', 'me', 'what', 'it', 'is', 'll', 'run', 'an', 'hide', 'though', 'her', 'skirt', 'it', 'swayed', 'as', 'guitar', 'played', 'her', 'mouth', 'was', 'watery', 'and', 'wet', 'but', 'now', 'something', 'has', 'changed', 'for', 'she', 'ain', 'the', 'same', 'she', 'just', 'acts', 'like', 'we', 'never', 'have', 'met', 'leavin', 'today', 'll', 'be', 'on', 'my', 'way', 'of', 'this', 'can', 'say', 'very', 'much', 'but', 'if', 'you', 'want', 'me', 'to', 'can', 'be', 'just', 'like', 'you', 'an', 'pretend', 'that', 'we', 'never', 'have', 'touched', 'an', 'if', 'anybody', 'asks', 'me', 'is', 'it', 'easy', 'to', 'forget', 'll', 'say', 'it', 'easily', 'done', 'you', 'just', 'pick', 'anyone', 'an', 'pretend', 'that', 'you', 'never', 'have', 'met', 'when', 'they', 'came', 'for', 'him', 'in', 'the', 'garden', 'did', 'they', 'know', 'when', 'they', 'came', 'for', 'him', 'in', 'the', 'garden', 'did', 'they', 'know', 'did', 'they', 'know', 'he', 'was', 'the', 'son', 'of', 'god', 'did', 'they', 'know', 'that', 'he', 'was', 'lord', 'did', 'they', 'hear', 'when', 'he', 'told', 'peter', 'peter', 'put', 'up', 'your', 'sword', 'when', 'they', 'came', 'for', 'him', 'in', 'the', 'garden', 'did', 'they', 'know', 'when', 'they', 'came', 'for', 'him', 'in', 'the', 'garden', 'did', 'they', 'know', 'when', 'he', 'spoke', 'to', 'them', 'in', 'the', 'city', 'did', 'they', 'hear', 'when', 'he', 'spoke', 'to', 'them', 'in', 'the', 'city', 'did', 'they', 'hear', 'nicodemus', 'came', 'at', 'night', 'so', 'he', 'wouldn', 'be', 'seen', 'by', 'men', 'saying', 'master', 'tell', 'me', 'why', 'man', 'must', 'be', 'born', 'again', 'when', 'he', 'spoke', 'to', 'them', 'in', 'the', 'city', 'did', 'they', 'hear', 'when', 'he', 'spoke', 'to', 'them', 'in', 'the', 'city', 'did', 'they', 'hear', 'when', 'he', 'healed', 'the', 'blind', 'and', 'crippled', 'did', 'they', 'see', 'when', 'he', 'healed', 'the', 'blind', 'and', 'crippled', 'did', 'they', 'see', 'when', 'he', 'said', 'pick', 'up', 'your', 'bed', 'and', 'walk', 'why', 'must', 'you', 'criticize', 'same', 'thing', 'my', 'father', 'do', 'can', 'do', 'likewise', 'when', 'he', 'healed', 'the', 'blind', 'and', 'crippled', 'did', 'they', 'see', 'when', 'he', 'healed', 'the', 'blind', 'and', 'crippled', 'did', 'they', 'see', 'did', 'they', 'speak', 'out', 'against', 'him', 'did', 'they', 'dare', 'did', 'they', 'speak', 'out', 'against', 'him', 'did', 'they', 'dare', 'the', 'multitude', 'wanted', 'to', 'make', 'him', 'king', 'put', 'crown', 'upon', 'his', 'head', 'why', 'did', 'he', 'slip', 'away', 'to', 'quiet', 'place', 'instead', 'did', 'they', 'speak', 'out', 'against', 'him', 'did', 'they', 'dare', 'did', 'they', 'speak', 'out', 'against', 'him', 'did', 'they', 'dare', 'when', 'he', 'rose', 'from', 'the', 'dead', 'did', 'they', 'believe', 'when', 'he', 'rose', 'from', 'the', 'dead', 'did', 'they', 'believe', 'he', 'said', 'all', 'power', 'is', 'given', 'to', 'me', 'in', 'heaven', 'and', 'on', 'earth', 'did', 'they', 'know', 'right', 'then', 'and', 'there', 'what', 'the', 'power', 'was', 'worth', 'when', 'he', 'rose', 'from', 'the', 'dead', 'did', 'they', 'believe', 'when', 'he', 'rose', 'from', 'the', 'dead', 'did', 'they', 'believe', 'you', 'say', 'you', 'love', 'me', 'and', 'you', 're', 'thinkin', 'of', 'me', 'but', 'you', 'know', 'you', 'could', 'be', 'wrong', 'you', 'say', 'you', 'told', 'me', 'that', 'you', 'wanna', 'hold', 'me', 'but', 'you', 'know', 'you', 're', 'not', 'that', 'strong', 'just', 'can', 'do', 'what', 'done', 'before', 'just', 'can', 'beg', 'you', 'anymore', 'gonna', 'let', 'you', 'pass', 'and', 'll', 'go', 'last', 'then', 'time', 'will', 'tell', 'just', 'who', 'fell', 'and', 'who', 'been', 'left', 'behind', 'when', 'you', 'go', 'your', 'way', 'and', 'go', 'mine', 'you', 'say', 'you', 'disturb', 'me', 'and', 'you', 'don', 'deserve', 'me', 'but', 'you', 'know', 'sometimes', 'you', 'lie', 'you', 'say', 'you', 're', 'shakin', 'and', 'you', 're', 'always', 'achin', 'but', 'you', 'know', 'how', 'hard', 'you', 'try', 'sometimes', 'it', 'gets', 'so', 'hard', 'to', 'care', 'it', 'can', 'be', 'this', 'way', 'ev', 'rywhere', 'and', 'gonna', 'let', 'you', 'pass', 'yes', 'and', 'll', 'go', 'last', 'then', 'time', 'will', 'tell', 'just', 'who', 'fell', 'and', 'who', 'been', 'left', 'behind', 'when', 'you', 'go', 'your', 'way', 'and', 'go', 'mine', 'the', 'judge', 'he', 'holds', 'grudge', 'he', 'gonna', 'call', 'on', 'you', 'but', 'he', 'badly', 'built', 'and', 'he', 'walks', 'on', 'stilts', 'watch', 'out', 'he', 'don', 'fall', 'on', 'you', 'you', 'say', 'you', 're', 'sorry', 'for', 'tellin', 'stories', 'that', 'you', 'know', 'believe', 'are', 'true', 'you', 'say', 'ya', 'got', 'some', 'other', 'kinda', 'lover', 'and', 'yes', 'believe', 'you', 'do', 'you', 'say', 'my', 'kisses', 'are', 'not', 'like', 'his', 'but', 'this', 'time', 'not', 'gonna', 'tell', 'you', 'why', 'that', 'is', 'just', 'gonna', 'let', 'you', 'pass', 'yes', 'and', 'll', 'go', 'last', 'then', 'time', 'will', 'tell', 'who', 'fell', 'and', 'who', 'been', 'left', 'behind', 'when', 'you', 'go', 'your', 'way', 'and', 'go', 'mine', 'the', 'cat', 'in', 'the', 'well', 'the', 'wolf', 'is', 'looking', 'down', 'the', 'cat', 'in', 'the', 'well', 'the', 'wolf', 'is', 'looking', 'down', 'he', 'got', 'his', 'big', 'bushy', 'tail', 'dragging', 'all', 'over', 'the', 'ground', 'the', 'cat', 'in', 'the', 'well', 'the', 'gentle', 'lady', 'is', 'asleep', 'cat', 'in', 'the', 'well', 'the', 'gentle', 'lady', 'is', 'asleep', 'she', 'ain', 'hearing', 'thing', 'the', 'silence', 'is', 'stickin', 'her', 'deep', 'the', 'cat', 'in', 'the', 'well', 'and', 'grief', 'is', 'showing', 'its', 'face', 'the', 'world', 'being', 'slaughtered', 'and', 'it', 'such', 'bloody', 'disgrace', 'the', 'cat', 'in', 'the', 'well', 'the', 'horse', 'is', 'going', 'bumpety', 'bump', 'the', 'cat', 'in', 'the', 'well', 'and', 'the', 'horse', 'is', 'going', 'bumpety', 'bump', 'back', 'alley', 'sally', 'is', 'doing', 'the', 'american', 'jump', 'the', 'cat', 'in', 'the', 'well', 'and', 'papa', 'is', 'reading', 'the', 'news', 'his', 'hair', 'falling', 'out', 'and', 'all', 'of', 'his', 'daughters', 'need', 'shoes', 'the', 'cat', 'in', 'the', 'well', 'and', 'the', 'barn', 'is', 'full', 'of', 'bull', 'the', 'cat', 'in', 'the', 'well', 'and', 'the', 'barn', 'is', 'full', 'of', 'bull', 'the', 'night', 'is', 'so', 'long', 'and', 'the', 'table', 'is', 'oh', 'so', 'full', 'the', 'cat', 'in', 'the', 'well', 'and', 'the', 'servant', 'is', 'at', 'the', 'door', 'the', 'drinks', 'are', 'ready', 'and', 'the', 'dogs', 'are', 'going', 'to', 'war', 'the', 'cat', 'in', 'the', 'well', 'the', 'leaves', 'are', 'starting', 'to', 'fall', 'the', 'cat', 'in', 'the', 'well', 'leaves', 'are', 'starting', 'to', 'fall', 'goodnight', 'my', 'love', 'may', 'the', 'lord', 'have', 'mercy', 'on', 'us', 'all', 'oh', 'sailin', 'away', 'my', 'own', 'true', 'love', 'sailin', 'away', 'in', 'the', 'morning', 'is', 'there', 'something', 'can', 'send', 'you', 'from', 'across', 'the', 'sea', 'from', 'the', 'place', 'that', 'll', 'be', 'landing', 'no', 'there', 'nothin', 'you', 'can', 'send', 'me', 'my', 'own', 'true', 'love', 'there', 'nothin', 'wish', 'to', 'be', 'ownin', 'just', 'carry', 'yourself', 'back', 'to', 'me', 'unspoiled', 'from', 'across', 'that', 'lonesome', 'ocean', 'oh', 'but', 'just', 'thought', 'you', 'might', 'want', 'something', 'fine', 'made', 'of', 'silver', 'or', 'of', 'golden', 'either', 'from', 'the', 'mountains', 'of', 'madrid', 'or', 'from', 'the', 'coast', 'of', 'barcelona', 'oh', 'but', 'if', 'had', 'the', 'stars', 'from', 'the', 'darkest', 'night', 'and', 'the', 'diamonds', 'from', 'the', 'deepest', 'ocean', 'forsake', 'them', 'all', 'for', 'your', 'sweet', 'kiss', 'for', 'that', 'all', 'wishin', 'to', 'be', 'ownin', 'that', 'might', 'be', 'gone', 'long', 'time', 'and', 'it', 'only', 'that', 'askin', 'is', 'there', 'something', 'can', 'send', 'you', 'to', 'remember', 'me', 'by', 'to', 'make', 'your', 'time', 'more', 'easy', 'passin', 'oh', 'how', 'can', 'how', 'can', 'you', 'ask', 'me', 'again', 'it', 'only', 'brings', 'me', 'sorrow', 'the', 'same', 'thing', 'want', 'from', 'you', 'today', 'would', 'want', 'again', 'tomorrow', 'got', 'letter', 'on', 'lonesome', 'day', 'it', 'was', 'from', 'her', 'ship', 'sailin', 'saying', 'don', 'know', 'when', 'll', 'be', 'comin', 'back', 'again', 'it', 'depends', 'on', 'how', 'feelin', 'well', 'if', 'you', 'my', 'love', 'must', 'think', 'that', 'way', 'sure', 'your', 'mind', 'is', 'roamin', 'sure', 'your', 'heart', 'is', 'not', 'with', 'me', 'but', 'with', 'the', 'country', 'to', 'where', 'you', 're', 'goin', 'so', 'take', 'heed', 'take', 'heed', 'of', 'the', 'western', 'wind', 'take', 'heed', 'of', 'the', 'stormy', 'weather', 'and', 'yes', 'there', 'something', 'you', 'can', 'send', 'back', 'to', 'me', 'spanish', 'boots', 'of', 'spanish', 'leather', 'william', 'zanzinger', 'killed', 'poor', 'hattie', 'carroll', 'with', 'cane', 'that', 'he', 'twirled', 'around', 'his', 'diamond', 'ring', 'finger', 'at', 'baltimore', 'hotel', 'society', 'gath', 'rin', 'and', 'the', 'cops', 'were', 'called', 'in', 'and', 'his', 'weapon', 'took', 'from', 'him', 'as', 'they', 'rode', 'him', 'in', 'custody', 'down', 'to', 'the', 'station', 'and', 'booked', 'william', 'zanzinger', 'for', 'first', 'degree', 'murder', 'but', 'you', 'who', 'philosophize', 'disgrace', 'and', 'criticize', 'all', 'fears', 'take', 'the', 'rag', 'away', 'from', 'your', 'face', 'now', 'ain', 'the', 'time', 'for', 'your', 'tears', 'william', 'zanzinger', 'who', 'at', 'twenty', 'four', 'years', 'owns', 'tobacco', 'farm', 'of', 'six', 'hundred', 'acres', 'with', 'rich', 'wealthy', 'parents', 'who', 'provide', 'and', 'protect', 'him', 'and', 'high', 'office', 'relations', 'in', 'the', 'politics', 'of', 'maryland', 'reacted', 'to', 'his', 'deed', 'with', 'shrug', 'of', 'his', 'shoulders', 'and', 'swear', 'words', 'and', 'sneering', 'and', 'his', 'tongue', 'it', 'was', 'snarling', 'in', 'matter', 'of', 'minutes', 'on', 'bail', 'was', 'out', 'walking', 'but', 'you', 'who', 'philosophize', 'disgrace', 'and', 'criticize', 'all', 'fears', 'take', 'the', 'rag', 'away', 'from', 'your', 'face', 'now', 'ain', 'the', 'time', 'for', 'your', 'tears', 'hattie', 'carroll', 'was', 'maid', 'of', 'the', 'kitchen', 'she', 'was', 'fifty', 'one', 'years', 'old', 'and', 'gave', 'birth', 'to', 'ten', 'children', 'who', 'carried', 'the', 'dishes', 'and', 'took', 'out', 'the', 'garbage', 'and', 'never', 'sat', 'once', 'at', 'the', 'head', 'of', 'the', 'table', 'and', 'didn', 'even', 'talk', 'to', 'the', 'people', 'at', 'the', 'table', 'who', 'just', 'cleaned', 'up', 'all', 'the', 'food', 'from', 'the', 'table', 'and', 'emptied', 'the', 'ashtrays', 'on', 'whole', 'other', 'level', 'got', 'killed', 'by', 'blow', 'lay', 'slain', 'by', 'cane', 'that', 'sailed', 'through', 'the', 'air', 'and', 'came', 'down', 'through', 'the', 'room', 'doomed', 'and', 'determined', 'to', 'destroy', 'all', 'the', 'gentle', 'and', 'she', 'never', 'done', 'nothing', 'to', 'william', 'zanzinger', 'but', 'you', 'who', 'philosophize', 'disgrace', 'and', 'criticize', 'all', 'fears', 'take', 'the', 'rag', 'away', 'from', 'your', 'face', 'now', 'ain', 'the', 'time', 'for', 'your', 'tears', 'in', 'the', 'courtroom', 'of', 'honor', 'the', 'judge', 'pounded', 'his', 'gavel', 'to', 'show', 'that', 'all', 'equal', 'and', 'that', 'the', 'courts', 'are', 'on', 'the', 'level', 'and', 'that', 'the', 'strings', 'in', 'the', 'books', 'ain', 'pulled', 'and', 'persuaded', 'and', 'that', 'even', 'the', 'nobles', 'get', 'properly', 'handled', 'once', 'that', 'the', 'cops', 'have', 'chased', 'after', 'and', 'caught', 'em', 'and', 'that', 'the', 'ladder', 'of', 'law', 'has', 'no', 'top', 'and', 'no', 'bottom', 'stared', 'at', 'the', 'person', 'who', 'killed', 'for', 'no', 'reason', 'who', 'just', 'happened', 'to', 'be', 'feelin', 'that', 'way', 'without', 'warnin', 'and', 'he', 'spoke', 'through', 'his', 'cloak', 'most', 'deep', 'and', 'distinguished', 'and', 'handed', 'out', 'strongly', 'for', 'penalty', 'and', 'repentance', 'william', 'zanzinger', 'with', 'six', 'month', 'sentence', 'oh', 'but', 'you', 'who', 'philosophize', 'disgrace', 'and', 'criticize', 'all', 'fears', 'bury', 'the', 'rag', 'deep', 'in', 'your', 'face', 'for', 'now', 'the', 'time', 'for', 'your', 'tears', 'crickets', 'are', 'chirpin', 'the', 'water', 'is', 'high', 'there', 'soft', 'cotton', 'dress', 'on', 'the', 'line', 'hangin', 'dry', 'window', 'wide', 'open', 'african', 'trees', 'bent', 'over', 'backwards', 'from', 'hurricane', 'breeze', 'not', 'word', 'of', 'goodbye', 'not', 'even', 'note', 'she', 'gone', 'with', 'the', 'man', 'in', 'the', 'long', 'black', 'coat', 'somebody', 'seen', 'him', 'hanging', 'around', 'at', 'the', 'old', 'dance', 'hall', 'on', 'the', 'outskirts', 'of', 'town', 'he', 'looked', 'into', 'her', 'eyes', 'when', 'she', 'stopped', 'him', 'to', 'ask', 'if', 'he', 'wanted', 'to', 'dance', 'he', 'had', 'face', 'like', 'mask', 'somebody', 'said', 'from', 'the', 'bible', 'he', 'quote', 'there', 'was', 'dust', 'on', 'the', 'man', 'in', 'the', 'long', 'black', 'coat', 'preacher', 'was', 'talkin', 'there', 'sermon', 'he', 'gave', 'he', 'said', 'every', 'man', 'conscience', 'is', 'vile', 'and', 'depraved', 'you', 'cannot', 'depend', 'on', 'it', 'to', 'be', 'your', 'guide', 'when', 'it', 'you', 'who', 'must', 'keep', 'it', 'satisfied', 'it', 'ain', 'easy', 'to', 'swallow', 'it', 'sticks', 'in', 'the', 'throat', 'she', 'gave', 'her', 'heart', 'to', 'the', 'man', 'in', 'the', 'long', 'black', 'coat', 'there', 'are', 'no', 'mistakes', 'in', 'life', 'some', 'people', 'say', 'it', 'is', 'true', 'sometimes', 'you', 'can', 'see', 'it', 'that', 'way', 'but', 'people', 'don', 'live', 'or', 'die', 'people', 'just', 'float', 'she', 'went', 'with', 'the', 'man', 'in', 'the', 'long', 'black', 'coat', 'there', 'smoke', 'on', 'the', 'water', 'it', 'been', 'there', 'since', 'june', 'tree', 'trunks', 'uprooted', 'neath', 'the', 'high', 'crescent', 'moon', 'feel', 'the', 'pulse', 'and', 'vibration', 'and', 'the', 'rumbling', 'force', 'somebody', 'is', 'out', 'there', 'beating', 'dead', 'horse', 'she', 'never', 'said', 'nothing', 'there', 'was', 'nothing', 'she', 'wrote', 'she', 'gone', 'with', 'the', 'man', 'in', 'the', 'long', 'black', 'coat', 'broken', 'lines', 'broken', 'strings', 'broken', 'threads', 'broken', 'springs', 'broken', 'idols', 'broken', 'heads', 'people', 'sleeping', 'in', 'broken', 'beds', 'ain', 'no', 'use', 'jiving', 'ain', 'no', 'use', 'joking', 'everything', 'is', 'broken', 'broken', 'bottles', 'broken', 'plates', 'broken', 'switches', 'broken', 'gates', 'broken', 'dishes', 'broken', 'parts', 'streets', 'are', 'filled', 'with', 'broken', 'hearts', 'broken', 'words', 'never', 'meant', 'to', 'be', 'spoken', 'everything', 'is', 'broken', 'seem', 'like', 'every', 'time', 'you', 'stop', 'and', 'turn', 'around', 'something', 'else', 'just', 'hit', 'the', 'ground', 'broken', 'cutters', 'broken', 'saws', 'broken', 'buckles', 'broken', 'laws', 'broken', 'bodies', 'broken', 'bones', 'broken', 'voices', 'on', 'broken', 'phones', 'take', 'deep', 'breath', 'feel', 'like', 'you', 're', 'chokin', 'everything', 'is', 'broken', 'every', 'time', 'you', 'leave', 'and', 'go', 'off', 'someplace', 'things', 'fall', 'to', 'pieces', 'in', 'my', 'face', 'broken', 'hands', 'on', 'broken', 'ploughs', 'broken', 'treaties', 'broken', 'vows', 'broken', 'pipes', 'broken', 'tools', 'people', 'bending', 'broken', 'rules', 'hound', 'dog', 'howling', 'bullfrog', 'croaking', 'everything', 'is', 'broken', 'there', 'an', 'evenin', 'haze', 'settlin', 'over', 'the', 'town', 'starlight', 'by', 'the', 'edge', 'of', 'the', 'creek', 'the', 'buyin', 'power', 'of', 'the', 'proletariat', 'gone', 'down', 'money', 'gettin', 'shallow', 'and', 'weak', 'the', 'place', 'love', 'best', 'is', 'sweet', 'memory', 'it', 'new', 'path', 'that', 'we', 'trod', 'they', 'say', 'low', 'wages', 'are', 'reality', 'if', 'we', 'want', 'to', 'compete', 'abroad', 'my', 'cruel', 'weapons', 'have', 'been', 'put', 'on', 'the', 'shelf', 'come', 'sit', 'down', 'on', 'my', 'knee', 'you', 'are', 'dearer', 'to', 'me', 'than', 'myself', 'as', 'you', 'yourself', 'can', 'see', 'listenin', 'to', 'the', 'steel', 'rails', 'hum', 'got', 'both', 'eyes', 'tight', 'shut', 'just', 'sitting', 'here', 'trying', 'to', 'keep', 'the', 'hunger', 'from', 'creeping', 'it', 'way', 'into', 'my', 'gut', 'meet', 'me', 'at', 'the', 'bottom', 'don', 'lag', 'behind', 'bring', 'me', 'my', 'boots', 'and', 'shoes', 'you', 'can', 'hang', 'back', 'or', 'fight', 'your', 'best', 'on', 'the', 'front', 'line', 'sing', 'little', 'bit', 'of', 'these', 'workingman', 'blues', 'now', 'sailin', 'on', 'back', 'ready', 'for', 'the', 'long', 'haul', 'tossed', 'by', 'the', 'winds', 'and', 'the', 'seas', 'll', 'drag', 'em', 'all', 'down', 'to', 'hell', 'and', 'll', 'stand', 'em', 'at', 'the', 'wall', 'll', 'sell', 'em', 'to', 'their', 'enemies', 'tryin', 'to', 'feed', 'my', 'soul', 'with', 'thought', 'gonna', 'sleep', 'off', 'the', 'rest', 'of', 'the', 'day', 'sometimes', 'no', 'one', 'wants', 'what', 'we', 'got', 'sometimes', 'you', 'can', 'give', 'it', 'away', 'now', 'the', 'place', 'is', 'ringed', 'with', 'countless', 'foes', 'some', 'of', 'them', 'may', 'be', 'deaf', 'and', 'dumb', 'no', 'man', 'no', 'woman', 'knows', 'the', 'hour', 'that', 'sorrow', 'will', 'come', 'in', 'the', 'dark', 'hear', 'the', 'night', 'birds', 'call', 'can', 'hear', 'lover', 'breath', 'sleep', 'in', 'the', 'kitchen', 'with', 'my', 'feet', 'in', 'the', 'hall', 'sleep', 'is', 'like', 'temporary', 'death', 'meet', 'me', 'at', 'the', 'bottom', 'don', 'lag', 'behind', 'bring', 'me', 'my', 'boots', 'and', 'shoes', 'you', 'can', 'hang', 'back', 'or', 'fight', 'your', 'best', 'on', 'the', 'front', 'line', 'sing', 'little', 'bit', 'of', 'these', 'workingman', 'blues', 'well', 'they', 'burned', 'my', 'barn', 'they', 'stole', 'my', 'horse', 'can', 'save', 'dime', 'got', 'to', 'be', 'careful', 'don', 'want', 'to', 'be', 'forced', 'into', 'life', 'of', 'continual', 'crime', 'can', 'see', 'for', 'myself', 'that', 'the', 'sun', 'is', 'sinking', 'how', 'wish', 'you', 'were', 'here', 'to', 'see', 'tell', 'me', 'now', 'am', 'wrong', 'in', 'thinking', 'that', 'you', 'have', 'forgotten', 'me', 'now', 'they', 'worry', 'and', 'they', 'hurry', 'and', 'they', 'fuss', 'and', 'they', 'fret', 'they', 'waste', 'your', 'nights', 'and', 'days', 'them', 'will', 'forget', 'but', 'you', 'll', 'remember', 'always', 'old', 'memories', 'of', 'you', 'to', 'me', 'have', 'clung', 'you', 've', 'wounded', 'me', 'with', 'words', 'gonna', 'have', 'to', 'straighten', 'out', 'your', 'tongue', 'it', 'all', 'true', 'everything', 'you', 'have', 'heard', 'meet', 'me', 'at', 'the', 'bottom', 'don', 'lag', 'behind', 'bring', 'me', 'my', 'boots', 'and', 'shoes', 'you', 'can', 'hang', 'back', 'or', 'fight', 'your', 'best', 'on', 'the', 'front', 'line', 'sing', 'little', 'bit', 'of', 'these', 'workingman', 'blues', 'in', 'you', 'my', 'friend', 'find', 'no', 'blame', 'wanna', 'look', 'in', 'my', 'eyes', 'please', 'do', 'no', 'one', 'can', 'ever', 'claim', 'that', 'took', 'up', 'arms', 'against', 'you', 'all', 'across', 'the', 'peaceful', 'sacred', 'fields', 'they', 'will', 'lay', 'you', 'low', 'they', 'll', 'break', 'your', 'horns', 'and', 'slash', 'you', 'with', 'steel', 'say', 'it', 'so', 'it', 'must', 'be', 'so', 'now', 'down', 'on', 'my', 'luck', 'and', 'black', 'and', 'blue', 'gonna', 'give', 'you', 'another', 'chance', 'all', 'alone', 'and', 'expecting', 'you', 'to', 'lead', 'me', 'off', 'in', 'cheerful', 'dance', 'got', 'brand', 'new', 'suit', 'and', 'brand', 'new', 'wife', 'can', 'live', 'on', 'rice', 'and', 'beans', 'some', 'people', 'never', 'worked', 'day', 'in', 'their', 'life', 'don', 'know', 'what', 'work', 'even', 'means', 'meet', 'me', 'at', 'the', 'bottom', 'don', 'lag', 'behind', 'bring', 'me', 'my', 'boots', 'and', 'shoes', 'you', 'can', 'hang', 'back', 'or', 'fight', 'your', 'best', 'on', 'the', 'front', 'line', 'sing', 'little', 'bit', 'of', 'these', 'workingman', 'blues', 'señor', 'señor', 'do', 'you', 'know', 'where', 'we', 're', 'headin', 'lincoln', 'county', 'road', 'or', 'armageddon', 'seems', 'like', 'been', 'down', 'this', 'way', 'before', 'is', 'there', 'any', 'truth', 'in', 'that', 'señor', 'señor', 'señor', 'do', 'you', 'know', 'where', 'she', 'is', 'hidin', 'how', 'long', 'are', 'we', 'gonna', 'be', 'ridin', 'how', 'long', 'must', 'keep', 'my', 'eyes', 'glued', 'to', 'the', 'door', 'will', 'there', 'be', 'any', 'comfort', 'there', 'señor', 'there', 'wicked', 'wind', 'still', 'blowin', 'on', 'that', 'upper', 'deck', 'there', 'an', 'iron', 'cross', 'still', 'hangin', 'down', 'from', 'around', 'her', 'neck', 'there', 'marchin', 'band', 'still', 'playin', 'in', 'that', 'vacant', 'lot', 'where', 'she', 'held', 'me', 'in', 'her', 'arms', 'one', 'time', 'and', 'said', 'forget', 'me', 'not', 'señor', 'señor', 'can', 'see', 'that', 'painted', 'wagon', 'can', 'smell', 'the', 'tail', 'of', 'the', 'dragon', 'can', 'stand', 'the', 'suspense', 'anymore', 'can', 'you', 'tell', 'me', 'who', 'to', 'contact', 'here', 'señor', 'well', 'the', 'last', 'thing', 'remember', 'before', 'stripped', 'and', 'kneeled', 'was', 'that', 'trainload', 'of', 'fools', 'bogged', 'down', 'in', 'magnetic', 'field', 'gypsy', 'with', 'broken', 'flag', 'and', 'flashing', 'ring', 'said', 'son', 'this', 'ain', 'dream', 'no', 'more', 'it', 'the', 'real', 'thing', 'señor', 'señor', 'you', 'know', 'their', 'hearts', 'is', 'as', 'hard', 'as', 'leather', 'well', 'give', 'me', 'minute', 'let', 'me', 'get', 'it', 'together', 'just', 'gotta', 'pick', 'myself', 'up', 'off', 'the', 'floor', 'ready', 'when', 'you', 'are', 'señor', 'señor', 'señor', 'let', 'disconnect', 'these', 'cables', 'overturn', 'these', 'tables', 'this', 'place', 'don', 'make', 'sense', 'to', 'me', 'no', 'more', 'can', 'you', 'tell', 'me', 'what', 'we', 're', 'waiting', 'for', 'señor', 'crimson', 'flames', 'tied', 'through', 'my', 'ears', 'rollin', 'high', 'and', 'mighty', 'traps', 'pounced', 'with', 'fire', 'on', 'flaming', 'roads', 'using', 'ideas', 'as', 'my', 'maps', 'we', 'll', 'meet', 'on', 'edges', 'soon', 'said', 'proud', 'neath', 'heated', 'brow', 'ah', 'but', 'was', 'so', 'much', 'older', 'then', 'younger', 'than', 'that', 'now', 'half', 'wracked', 'prejudice', 'leaped', 'forth', 'rip', 'down', 'all', 'hate', 'screamed', 'lies', 'that', 'life', 'is', 'black', 'and', 'white', 'spoke', 'from', 'my', 'skull', 'dreamed', 'romantic', 'facts', 'of', 'musketeers', 'foundationed', 'deep', 'somehow', 'ah', 'but', 'was', 'so', 'much', 'older', 'then', 'younger', 'than', 'that', 'now', 'girls', 'faces', 'formed', 'the', 'forward', 'path', 'from', 'phony', 'jealousy', 'to', 'memorizing', 'politics', 'of', 'ancient', 'history', 'flung', 'down', 'by', 'corpse', 'evangelists', 'unthought', 'of', 'though', 'somehow', 'ah', 'but', 'was', 'so', 'much', 'older', 'then', 'younger', 'than', 'that', 'now', 'self', 'ordained', 'professor', 'tongue', 'too', 'serious', 'to', 'fool', 'spouted', 'out', 'that', 'liberty', 'is', 'just', 'equality', 'in', 'school', 'equality', 'spoke', 'the', 'word', 'as', 'if', 'wedding', 'vow', 'ah', 'but', 'was', 'so', 'much', 'older', 'then', 'younger', 'than', 'that', 'now', 'in', 'soldier', 'stance', 'aimed', 'my', 'hand', 'at', 'the', 'mongrel', 'dogs', 'who', 'teach', 'fearing', 'not', 'that', 'become', 'my', 'enemy', 'in', 'the', 'instant', 'that', 'preach', 'my', 'pathway', 'led', 'by', 'confusion', 'boats', 'mutiny', 'from', 'stern', 'to', 'bow', 'ah', 'but', 'was', 'so', 'much', 'older', 'then', 'younger', 'than', 'that', 'now', 'yes', 'my', 'guard', 'stood', 'hard', 'when', 'abstract', 'threats', 'too', 'noble', 'to', 'neglect', 'deceived', 'me', 'into', 'thinking', 'had', 'something', 'to', 'protect', 'good', 'and', 'bad', 'define', 'these', 'terms', 'quite', 'clear', 'no', 'doubt', 'somehow', 'ah', 'but', 'was', 'so', 'much', 'older', 'then', 'younger', 'than', 'that', 'now', 'they', 'ask', 'me', 'how', 'feel', 'and', 'if', 'my', 'love', 'is', 'real', 'and', 'how', 'know', 'll', 'make', 'it', 'through', 'and', 'they', 'they', 'look', 'at', 'me', 'and', 'frown', 'they', 'like', 'to', 'drive', 'me', 'from', 'this', 'town', 'they', 'don', 'want', 'me', 'around', 'cause', 'believe', 'in', 'you', 'they', 'show', 'me', 'to', 'the', 'door', 'they', 'say', 'don', 'come', 'back', 'no', 'more', 'cause', 'don', 'be', 'like', 'they', 'like', 'me', 'to', 'and', 'walk', 'out', 'on', 'my', 'own', 'thousand', 'miles', 'from', 'home', 'but', 'don', 'feel', 'alone', 'cause', 'believe', 'in', 'you', 'believe', 'in', 'you', 'even', 'through', 'the', 'tears', 'and', 'the', 'laughter', 'believe', 'in', 'you', 'even', 'though', 'we', 'be', 'apart', 'believe', 'in', 'you', 'even', 'on', 'the', 'morning', 'after', 'oh', 'when', 'the', 'dawn', 'is', 'nearing', 'oh', 'when', 'the', 'night', 'is', 'disappearing', 'oh', 'this', 'feeling', 'is', 'still', 'here', 'in', 'my', 'heart', 'don', 'let', 'me', 'drift', 'too', 'far', 'keep', 'me', 'where', 'you', 'are', 'where', 'will', 'always', 'be', 'renewed', 'and', 'that', 'which', 'you', 've', 'given', 'me', 'today', 'is', 'worth', 'more', 'than', 'could', 'pay', 'and', 'no', 'matter', 'what', 'they', 'say', 'believe', 'in', 'you', 'believe', 'in', 'you', 'when', 'winter', 'turn', 'to', 'summer', 'believe', 'in', 'you', 'when', 'white', 'turn', 'to', 'black', 'believe', 'in', 'you', 'even', 'though', 'be', 'outnumbered', 'oh', 'though', 'the', 'earth', 'may', 'shake', 'me', 'oh', 'though', 'my', 'friends', 'forsake', 'me', 'oh', 'even', 'that', 'couldn', 'make', 'me', 'go', 'back', 'don', 'let', 'me', 'change', 'my', 'heart', 'keep', 'me', 'set', 'apart', 'from', 'all', 'the', 'plans', 'they', 'do', 'pursue', 'and', 'don', 'mind', 'the', 'pain', 'don', 'mind', 'the', 'driving', 'rain', 'know', 'will', 'sustain', 'cause', 'believe', 'in', 'you', 'oh', 'help', 'me', 'in', 'my', 'weakness', 'heard', 'the', 'drifter', 'say', 'as', 'they', 'carried', 'him', 'from', 'the', 'courtroom', 'and', 'were', 'taking', 'him', 'away', 'my', 'trip', 'hasn', 'been', 'pleasant', 'one', 'and', 'my', 'time', 'it', 'isn', 'long', 'and', 'still', 'do', 'not', 'know', 'what', 'it', 'was', 'that', 've', 'done', 'wrong', 'well', 'the', 'judge', 'he', 'cast', 'his', 'robe', 'aside', 'tear', 'came', 'to', 'his', 'eye', 'you', 'fail', 'to', 'understand', 'he', 'said', 'why', 'must', 'you', 'even', 'try', 'outside', 'the', 'crowd', 'was', 'stirring', 'you', 'could', 'hear', 'it', 'from', 'the', 'door', 'inside', 'the', 'judge', 'was', 'stepping', 'down', 'while', 'the', 'jury', 'cried', 'for', 'more', 'oh', 'stop', 'that', 'cursed', 'jury', 'cried', 'the', 'attendant', 'and', 'the', 'nurse', 'the', 'trial', 'was', 'bad', 'enough', 'but', 'this', 'is', 'ten', 'times', 'worse', 'just', 'then', 'bolt', 'of', 'lightning', 'struck', 'the', 'courthouse', 'out', 'of', 'shape', 'and', 'while', 'ev', 'rybody', 'knelt', 'to', 'pray', 'the', 'drifter', 'did', 'escape', 'when', 'you', 're', 'lost', 'in', 'the', 'rain', 'in', 'juarez', 'and', 'it', 'eastertime', 'too', 'and', 'your', 'gravity', 'fails', 'and', 'negativity', 'don', 'pull', 'you', 'through', 'don', 'put', 'on', 'any', 'airs', 'when', 'you', 're', 'down', 'on', 'rue', 'morgue', 'avenue', 'they', 'got', 'some', 'hungry', 'women', 'there', 'and', 'they', 'really', 'make', 'mess', 'outta', 'you', 'now', 'if', 'you', 'see', 'saint', 'annie', 'please', 'tell', 'her', 'thanks', 'lot', 'cannot', 'move', 'my', 'fingers', 'are', 'all', 'in', 'knot', 'don', 'have', 'the', 'strength', 'to', 'get', 'up', 'and', 'take', 'another', 'shot', 'and', 'my', 'best', 'friend', 'my', 'doctor', 'won', 'even', 'say', 'what', 'it', 'is', 've', 'got', 'sweet', 'melinda', 'the', 'peasants', 'call', 'her', 'the', 'goddess', 'of', 'gloom', 'she', 'speaks', 'good', 'english', 'and', 'she', 'invites', 'you', 'up', 'into', 'her', 'room', 'and', 'you', 're', 'so', 'kind', 'and', 'careful', 'not', 'to', 'go', 'to', 'her', 'too', 'soon', 'and', 'she', 'takes', 'your', 'voice', 'and', 'leaves', 'you', 'howling', 'at', 'the', 'moon', 'up', 'on', 'housing', 'project', 'hill', 'it', 'either', 'fortune', 'or', 'fame', 'you', 'must', 'pick', 'up', 'one', 'or', 'the', 'other', 'though', 'neither', 'of', 'them', 'are', 'to', 'be', 'what', 'they', 'claim', 'if', 'you', 're', 'lookin', 'to', 'get', 'silly', 'you', 'better', 'go', 'back', 'to', 'from', 'where', 'you', 'came', 'because', 'the', 'cops', 'don', 'need', 'you', 'and', 'man', 'they', 'expect', 'the', 'same', 'now', 'all', 'the', 'authorities', 'they', 'just', 'stand', 'around', 'and', 'boast', 'how', 'they', 'blackmailed', 'the', 'sergeant', 'at', 'arms', 'into', 'leaving', 'his', 'post', 'and', 'picking', 'up', 'angel', 'who', 'just', 'arrived', 'here', 'from', 'the', 'coast', 'who', 'looked', 'so', 'fine', 'at', 'first', 'but', 'left', 'looking', 'just', 'like', 'ghost', 'started', 'out', 'on', 'burgundy', 'but', 'soon', 'hit', 'the', 'harder', 'stuff', 'everybody', 'said', 'they', 'stand', 'behind', 'me', 'when', 'the', 'game', 'got', 'rough', 'but', 'the', 'joke', 'was', 'on', 'me', 'there', 'was', 'nobody', 'even', 'there', 'to', 'call', 'my', 'bluff', 'going', 'back', 'to', 'new', 'york', 'city', 'do', 'believe', 've', 'had', 'enough', 'well', 'thought', 'that', 'the', 'rain', 'would', 'cool', 'things', 'down', 'but', 'it', 'looks', 'like', 'it', 'don', 'like', 'to', 'get', 'you', 'to', 'change', 'your', 'mind', 'but', 'it', 'looks', 'like', 'you', 'won', 'from', 'now', 'on', 'll', 'be', 'busy', 'ain', 'goin', 'nowhere', 'fast', 'just', 'glad', 'it', 'over', 'and', 'seeing', 'the', 'real', 'you', 'at', 'last', 'well', 'didn', 'risk', 'my', 'neck', 'for', 'you', 'didn', 'take', 'chances', 'didn', 'rise', 'above', 'it', 'all', 'for', 'you', 'the', 'most', 'unfortunate', 'circumstances', 'well', 'have', 'had', 'some', 'rotten', 'nights', 'didn', 'think', 'that', 'they', 'would', 'pass', 'just', 'thankful', 'and', 'grateful', 'to', 'be', 'seeing', 'the', 'real', 'you', 'at', 'last', 'hungry', 'and', 'irritable', 'and', 'tired', 'of', 'this', 'bag', 'of', 'tricks', 'at', 'one', 'time', 'there', 'was', 'nothing', 'wrong', 'with', 'me', 'that', 'you', 'could', 'not', 'fix', 'well', 'sailed', 'through', 'the', 'storm', 'strapped', 'to', 'the', 'mast', 'but', 'the', 'time', 'has', 'come', 'and', 'seeing', 'the', 'real', 'you', 'at', 'last', 'when', 'met', 'you', 'baby', 'you', 'didn', 'show', 'no', 'visible', 'scars', 'you', 'could', 'ride', 'like', 'annie', 'oakley', 'you', 'could', 'shoot', 'like', 'belle', 'starr', 'well', 'don', 'mind', 'reasonable', 'amount', 'of', 'trouble', 'trouble', 'always', 'comes', 'to', 'pass', 'but', 'all', 'care', 'about', 'now', 'is', 'that', 'seeing', 'the', 'real', 'you', 'at', 'last', 'well', 'gonna', 'quit', 'this', 'baby', 'talk', 'now', 'guess', 'should', 'have', 'known', 'got', 'troubles', 'think', 'maybe', 'you', 'got', 'troubles', 'think', 'maybe', 'we', 'better', 'leave', 'each', 'other', 'alone', 'whatever', 'you', 'gonna', 'do', 'please', 'do', 'it', 'fast', 'still', 'trying', 'to', 'get', 'used', 'to', 'seeing', 'the', 'real', 'you', 'at', 'last', 'what', 'good', 'am', 'if', 'like', 'all', 'the', 'rest', 'if', 'just', 'turn', 'away', 'when', 'see', 'how', 'you', 're', 'dressed', 'if', 'shut', 'myself', 'off', 'so', 'can', 'hear', 'you', 'cry', 'what', 'good', 'am', 'what', 'good', 'am', 'if', 'know', 'and', 'don', 'do', 'if', 'see', 'and', 'don', 'say', 'if', 'look', 'right', 'through', 'you', 'if', 'turn', 'deaf', 'ear', 'to', 'the', 'thunderin', 'sky', 'what', 'good', 'am', 'what', 'good', 'am', 'while', 'you', 'softly', 'weep', 'and', 'hear', 'in', 'my', 'head', 'what', 'you', 'say', 'in', 'your', 'sleep', 'and', 'freeze', 'in', 'the', 'moment', 'like', 'the', 'rest', 'who', 'don', 'try', 'what', 'good', 'am', 'what', 'good', 'am', 'then', 'to', 'others', 'and', 'me', 'if', 've', 'had', 'every', 'chance', 'and', 'yet', 'still', 'fail', 'to', 'see', 'if', 'my', 'hands', 'are', 'tied', 'must', 'not', 'wonder', 'within', 'who', 'tied', 'them', 'and', 'why', 'and', 'where', 'must', 'have', 'been', 'what', 'good', 'am', 'if', 'say', 'foolish', 'things', 'and', 'laugh', 'in', 'the', 'face', 'of', 'what', 'sorrow', 'brings', 'and', 'just', 'turn', 'my', 'back', 'while', 'you', 'silently', 'die', 'what', 'good', 'am', 'down', 'the', 'street', 'the', 'dogs', 'are', 'barkin', 'and', 'the', 'day', 'is', 'gettin', 'dark', 'as', 'the', 'night', 'comes', 'in', 'fallin', 'the', 'dogs', 'll', 'lose', 'their', 'bark', 'an', 'the', 'silent', 'night', 'will', 'shatter', 'from', 'the', 'sounds', 'inside', 'my', 'mind', 'for', 'one', 'too', 'many', 'mornings', 'and', 'thousand', 'miles', 'behind', 'from', 'the', 'crossroads', 'of', 'my', 'doorstep', 'my', 'eyes', 'they', 'start', 'to', 'fade', 'as', 'turn', 'my', 'head', 'back', 'to', 'the', 'room', 'where', 'my', 'love', 'and', 'have', 'laid', 'an', 'gaze', 'back', 'to', 'the', 'street', 'the', 'sidewalk', 'and', 'the', 'sign', 'and', 'one', 'too', 'many', 'mornings', 'an', 'thousand', 'miles', 'behind', 'it', 'restless', 'hungry', 'feeling', 'that', 'don', 'mean', 'no', 'one', 'no', 'good', 'when', 'ev', 'rything', 'sayin', 'you', 'can', 'say', 'it', 'just', 'as', 'good', 'you', 're', 'right', 'from', 'your', 'side', 'right', 'from', 'mine', 'we', 're', 'both', 'just', 'one', 'too', 'many', 'mornings', 'an', 'thousand', 'miles', 'behind', 'forgetful', 'heart', 'lost', 'your', 'power', 'of', 'recall', 'every', 'little', 'detail', 'you', 'don', 'remember', 'at', 'all', 'the', 'times', 'we', 'knew', 'who', 'would', 'remember', 'better', 'then', 'you', 'forgetful', 'heart', 'we', 'laughed', 'and', 'had', 'good', 'time', 'you', 'and', 'it', 'been', 'so', 'long', 'now', 'you', 're', 'content', 'to', 'let', 'the', 'days', 'go', 'by', 'when', 'you', 'were', 'there', 'you', 'were', 'the', 'answer', 'to', 'my', 'prayer', 'forgetful', 'heart', 'we', 'loved', 'with', 'all', 'the', 'love', 'that', 'life', 'can', 'give', 'what', 'can', 'say', 'without', 'you', 'it', 'so', 'hard', 'to', 'live', 'can', 'take', 'much', 'more', 'why', 'can', 'we', 'love', 'like', 'we', 'did', 'before', 'forgetful', 'heart', 'like', 'walking', 'shadow', 'in', 'my', 'brain', 'all', 'night', 'long', 'lay', 'awake', 'and', 'listen', 'to', 'the', 'sound', 'of', 'pain', 'the', 'door', 'has', 'closed', 'forevermore', 'if', 'indeed', 'there', 'ever', 'was', 'door', 'll', 'remember', 'you', 'when', 've', 'forgotten', 'all', 'the', 'rest', 'you', 'to', 'me', 'were', 'true', 'you', 'to', 'me', 'were', 'the', 'best', 'when', 'there', 'is', 'no', 'more', 'you', 'cut', 'to', 'the', 'core', 'quicker', 'than', 'anyone', 'knew', 'when', 'all', 'alone', 'in', 'the', 'great', 'unknown', 'll', 'remember', 'you', 'll', 'remember', 'you', 'at', 'the', 'end', 'of', 'the', 'trail', 'had', 'so', 'much', 'left', 'to', 'do', 'had', 'so', 'little', 'time', 'to', 'fail', 'there', 'some', 'people', 'that', 'you', 'don', 'forget', 'even', 'though', 'you', 've', 'only', 'seen', 'one', 'time', 'or', 'two', 'when', 'the', 'roses', 'fade', 'and', 'in', 'the', 'shade', 'll', 'remember', 'you', 'didn', 'didn', 'try', 'to', 'love', 'you', 'didn', 'didn', 'try', 'to', 'care', 'didn', 'sleep', 'didn', 'weep', 'beside', 'you', 'with', 'the', 'rain', 'blowing', 'in', 'your', 'hair', 'll', 'remember', 'you', 'when', 'the', 'wind', 'blows', 'through', 'the', 'piney', 'wood', 'it', 'was', 'you', 'who', 'came', 'right', 'through', 'it', 'was', 'you', 'who', 'understood', 'though', 'never', 'say', 'that', 'done', 'it', 'the', 'way', 'that', 'you', 'have', 'liked', 'me', 'to', 'in', 'the', 'end', 'my', 'dear', 'sweet', 'friend', 'll', 'remember', 'you', 'seen', 'the', 'arrow', 'on', 'the', 'doorpost', 'saying', 'this', 'land', 'is', 'condemned', 'all', 'the', 'way', 'from', 'new', 'orleans', 'to', 'jerusalem', 'traveled', 'through', 'east', 'texas', 'where', 'many', 'martyrs', 'fell', 'and', 'know', 'no', 'one', 'can', 'sing', 'the', 'blues', 'like', 'blind', 'willie', 'mctell', 'well', 'heard', 'that', 'hoot', 'owl', 'singing', 'as', 'they', 'were', 'taking', 'down', 'the', 'tents', 'the', 'stars', 'above', 'the', 'barren', 'trees', 'were', 'his', 'only', 'audience', 'them', 'charcoal', 'gypsy', 'maidens', 'can', 'strut', 'their', 'feathers', 'well', 'but', 'nobody', 'can', 'sing', 'the', 'blues', 'like', 'blind', 'willie', 'mctell', 'see', 'them', 'big', 'plantations', 'burning', 'hear', 'the', 'cracking', 'of', 'the', 'whips', 'smell', 'that', 'sweet', 'magnolia', 'blooming', 'see', 'the', 'ghosts', 'of', 'slavery', 'ships', 'can', 'hear', 'them', 'tribes', 'moaning', 'hear', 'that', 'undertaker', 'bell', 'nobody', 'can', 'sing', 'the', 'blues', 'like', 'blind', 'willie', 'mctell', 'there', 'woman', 'by', 'the', 'river', 'with', 'some', 'fine', 'young', 'handsome', 'man', 'he', 'dressed', 'up', 'like', 'squire', 'bootlegged', 'whiskey', 'in', 'his', 'hand', 'there', 'chain', 'gang', 'on', 'the', 'highway', 'can', 'hear', 'them', 'rebels', 'yell', 'and', 'know', 'no', 'one', 'can', 'sing', 'the', 'blues', 'like', 'blind', 'willie', 'mctell', 'well', 'god', 'is', 'in', 'his', 'heaven', 'and', 'we', 'all', 'want', 'what', 'his', 'but', 'power', 'and', 'greed', 'and', 'corruptible', 'seed', 'seem', 'to', 'be', 'all', 'that', 'there', 'is', 'gazing', 'out', 'the', 'window', 'of', 'the', 'st', 'james', 'hotel', 'and', 'know', 'no', 'one', 'can', 'sing', 'the', 'blues', 'like', 'blind', 'willie', 'mctell', 'of', 'war', 'and', 'peace', 'the', 'truth', 'just', 'twists', 'its', 'curfew', 'gull', 'just', 'glides', 'upon', 'four', 'legged', 'forest', 'clouds', 'the', 'cowboy', 'angel', 'rides', 'with', 'his', 'candle', 'lit', 'into', 'the', 'sun', 'though', 'its', 'glow', 'is', 'waxed', 'in', 'black', 'all', 'except', 'when', 'neath', 'the', 'trees', 'of', 'eden', 'the', 'lamppost', 'stands', 'with', 'folded', 'arms', 'its', 'iron', 'claws', 'attached', 'to', 'curbs', 'neath', 'holes', 'where', 'babies', 'wail', 'though', 'it', 'shadows', 'metal', 'badge', 'all', 'and', 'all', 'can', 'only', 'fall', 'with', 'crashing', 'but', 'meaningless', 'blow', 'no', 'sound', 'ever', 'comes', 'from', 'the', 'gates', 'of', 'eden', 'the', 'savage', 'soldier', 'sticks', 'his', 'head', 'in', 'sand', 'and', 'then', 'complains', 'unto', 'the', 'shoeless', 'hunter', 'who', 'gone', 'deaf', 'but', 'still', 'remains', 'upon', 'the', 'beach', 'where', 'hound', 'dogs', 'bay', 'at', 'ships', 'with', 'tattooed', 'sails', 'heading', 'for', 'the', 'gates', 'of', 'eden', 'with', 'time', 'rusted', 'compass', 'blade', 'aladdin', 'and', 'his', 'lamp', 'sits', 'with', 'utopian', 'hermit', 'monks', 'sidesaddle', 'on', 'the', 'golden', 'calf', 'and', 'on', 'their', 'promises', 'of', 'paradise', 'you', 'will', 'not', 'hear', 'laugh', 'all', 'except', 'inside', 'the', 'gates', 'of', 'eden', 'relationships', 'of', 'ownership', 'they', 'whisper', 'in', 'the', 'wings', 'to', 'those', 'condemned', 'to', 'act', 'accordingly', 'and', 'wait', 'for', 'succeeding', 'kings', 'and', 'try', 'to', 'harmonize', 'with', 'songs', 'the', 'lonesome', 'sparrow', 'sings', 'there', 'are', 'no', 'kings', 'inside', 'the', 'gates', 'of', 'eden', 'the', 'motorcycle', 'black', 'madonna', 'two', 'wheeled', 'gypsy', 'queen', 'and', 'her', 'silver', 'studded', 'phantom', 'cause', 'the', 'gray', 'flannel', 'dwarf', 'to', 'scream', 'as', 'he', 'weeps', 'to', 'wicked', 'birds', 'of', 'prey', 'who', 'pick', 'up', 'on', 'his', 'bread', 'crumb', 'sins', 'and', 'there', 'are', 'no', 'sins', 'inside', 'the', 'gates', 'of', 'eden', 'the', 'kingdoms', 'of', 'experience', 'in', 'the', 'precious', 'wind', 'they', 'rot', 'while', 'paupers', 'change', 'possessions', 'each', 'one', 'wishing', 'for', 'what', 'the', 'other', 'has', 'got', 'and', 'the', 'princess', 'and', 'the', 'prince', 'discuss', 'what', 'real', 'and', 'what', 'is', 'not', 'it', 'doesn', 'matter', 'inside', 'the', 'gates', 'of', 'eden', 'the', 'foreign', 'sun', 'it', 'squints', 'upon', 'bed', 'that', 'is', 'never', 'mine', 'as', 'friends', 'and', 'other', 'strangers', 'from', 'their', 'fates', 'try', 'to', 'resign', 'leaving', 'men', 'wholly', 'totally', 'free', 'to', 'do', 'anything', 'they', 'wish', 'to', 'do', 'but', 'die', 'and', 'there', 'are', 'no', 'trials', 'inside', 'the', 'gates', 'of', 'eden', 'at', 'dawn', 'my', 'lover', 'comes', 'to', 'me', 'and', 'tells', 'me', 'of', 'her', 'dreams', 'with', 'no', 'attempts', 'to', 'shovel', 'the', 'glimpse', 'into', 'the', 'ditch', 'of', 'what', 'each', 'one', 'means', 'at', 'times', 'think', 'there', 'are', 'no', 'words', 'but', 'these', 'to', 'tell', 'what', 'true', 'and', 'there', 'are', 'no', 'truths', 'outside', 'the', 'gates', 'of', 'eden', 'ain', 'it', 'just', 'like', 'the', 'night', 'to', 'play', 'tricks', 'when', 'you', 're', 'tryin', 'to', 'be', 'so', 'quiet', 'we', 'sit', 'here', 'stranded', 'though', 'we', 're', 'all', 'doin', 'our', 'best', 'to', 'deny', 'it', 'and', 'louise', 'holds', 'handful', 'of', 'rain', 'temptin', 'you', 'to', 'defy', 'it', 'lights', 'flicker', 'from', 'the', 'opposite', 'loft', 'in', 'this', 'room', 'the', 'heat', 'pipes', 'just', 'cough', 'the', 'country', 'music', 'station', 'plays', 'soft', 'but', 'there', 'nothing', 'really', 'nothing', 'to', 'turn', 'off', 'just', 'louise', 'and', 'her', 'lover', 'so', 'entwined', 'and', 'these', 'visions', 'of', 'johanna', 'that', 'conquer', 'my', 'mind', 'in', 'the', 'empty', 'lot', 'where', 'the', 'ladies', 'play', 'blindman', 'bluff', 'with', 'the', 'key', 'chain', 'and', 'the', 'all', 'night', 'girls', 'they', 'whisper', 'of', 'escapades', 'out', 'on', 'the', 'train', 'we', 'can', 'hear', 'the', 'night', 'watchman', 'click', 'his', 'flashlight', 'ask', 'himself', 'if', 'it', 'him', 'or', 'them', 'that', 'really', 'insane', 'louise', 'she', 'all', 'right', 'she', 'just', 'near', 'she', 'delicate', 'and', 'seems', 'like', 'the', 'mirror', 'but', 'she', 'just', 'makes', 'it', 'all', 'too', 'concise', 'and', 'too', 'clear', 'that', 'johanna', 'not', 'here', 'the', 'ghost', 'of', 'lectricity', 'howls', 'in', 'the', 'bones', 'of', 'her', 'face', 'where', 'these', 'visions', 'of', 'johanna', 'have', 'now', 'taken', 'my', 'place', 'now', 'little', 'boy', 'lost', 'he', 'takes', 'himself', 'so', 'seriously', 'he', 'brags', 'of', 'his', 'misery', 'he', 'likes', 'to', 'live', 'dangerously', 'and', 'when', 'bringing', 'her', 'name', 'up', 'he', 'speaks', 'of', 'farewell', 'kiss', 'to', 'me', 'he', 'sure', 'got', 'lotta', 'gall', 'to', 'be', 'so', 'useless', 'and', 'all', 'muttering', 'small', 'talk', 'at', 'the', 'wall', 'while', 'in', 'the', 'hall', 'how', 'can', 'explain', 'oh', 'it', 'so', 'hard', 'to', 'get', 'on', 'and', 'these', 'visions', 'of', 'johanna', 'they', 'kept', 'me', 'up', 'past', 'the', 'dawn', 'inside', 'the', 'museums', 'infinity', 'goes', 'up', 'on', 'trial', 'voices', 'echo', 'this', 'is', 'what', 'salvation', 'must', 'be', 'like', 'after', 'while', 'but', 'mona', 'lisa', 'musta', 'had', 'the', 'highway', 'blues', 'you', 'can', 'tell', 'by', 'the', 'way', 'she', 'smiles', 'see', 'the', 'primitive', 'wallflower', 'freeze', 'when', 'the', 'jelly', 'faced', 'women', 'all', 'sneeze', 'hear', 'the', 'one', 'with', 'the', 'mustache', 'say', 'jeeze', 'can', 'find', 'my', 'knees', 'oh', 'jewels', 'and', 'binoculars', 'hang', 'from', 'the', 'head', 'of', 'the', 'mule', 'but', 'these', 'visions', 'of', 'johanna', 'they', 'make', 'it', 'all', 'seem', 'so', 'cruel', 'the', 'peddler', 'now', 'speaks', 'to', 'the', 'countess', 'who', 'pretending', 'to', 'care', 'for', 'him', 'sayin', 'name', 'me', 'someone', 'that', 'not', 'parasite', 'and', 'll', 'go', 'out', 'and', 'say', 'prayer', 'for', 'him', 'but', 'like', 'louise', 'always', 'says', 'ya', 'can', 'look', 'at', 'much', 'can', 'ya', 'man', 'as', 'she', 'herself', 'prepares', 'for', 'him', 'and', 'madonna', 'she', 'still', 'has', 'not', 'showed', 'we', 'see', 'this', 'empty', 'cage', 'now', 'corrode', 'where', 'her', 'cape', 'of', 'the', 'stage', 'once', 'had', 'flowed', 'the', 'fiddler', 'he', 'now', 'steps', 'to', 'the', 'road', 'he', 'writes', 'ev', 'rything', 'been', 'returned', 'which', 'was', 'owed', 'on', 'the', 'back', 'of', 'the', 'fish', 'truck', 'that', 'loads', 'while', 'my', 'conscience', 'explodes', 'the', 'harmonicas', 'play', 'the', 'skeleton', 'keys', 'and', 'the', 'rain', 'and', 'these', 'visions', 'of', 'johanna', 'are', 'now', 'all', 'that', 'remain', 'the', 'guilty', 'undertaker', 'sighs', 'the', 'lonesome', 'organ', 'grinder', 'cries', 'the', 'silver', 'saxophones', 'say', 'should', 'refuse', 'you', 'the', 'cracked', 'bells', 'and', 'washed', 'out', 'horns', 'blow', 'into', 'my', 'face', 'with', 'scorn', 'but', 'it', 'not', 'that', 'way', 'wasn', 'born', 'to', 'lose', 'you', 'want', 'you', 'want', 'you', 'want', 'you', 'so', 'bad', 'honey', 'want', 'you', 'the', 'drunken', 'politician', 'leaps', 'upon', 'the', 'street', 'where', 'mothers', 'weep', 'and', 'the', 'saviors', 'who', 'are', 'fast', 'asleep', 'they', 'wait', 'for', 'you', 'and', 'wait', 'for', 'them', 'to', 'interrupt', 'me', 'drinkin', 'from', 'my', 'broken', 'cup', 'and', 'ask', 'me', 'to', 'open', 'up', 'the', 'gate', 'for', 'you', 'want', 'you', 'want', 'you', 'want', 'you', 'so', 'bad', 'honey', 'want', 'you', 'how', 'all', 'my', 'fathers', 'they', 've', 'gone', 'down', 'true', 'love', 'they', 've', 'been', 'without', 'it', 'but', 'all', 'their', 'daughters', 'put', 'me', 'down', 'cause', 'don', 'think', 'about', 'it', 'well', 'return', 'to', 'the', 'queen', 'of', 'spades', 'and', 'talk', 'with', 'my', 'chambermaid', 'she', 'knows', 'that', 'not', 'afraid', 'to', 'look', 'at', 'her', 'she', 'is', 'good', 'to', 'me', 'and', 'there', 'nothing', 'she', 'doesn', 'see', 'she', 'knows', 'where', 'like', 'to', 'be', 'but', 'it', 'doesn', 'matter', 'want', 'you', 'want', 'you', 'want', 'you', 'so', 'bad', 'honey', 'want', 'you', 'now', 'your', 'dancing', 'child', 'with', 'his', 'chinese', 'suit', 'he', 'spoke', 'to', 'me', 'took', 'his', 'flute', 'no', 'wasn', 'very', 'cute', 'to', 'him', 'was', 'but', 'did', 'it', 'though', 'because', 'he', 'lied', 'because', 'he', 'took', 'you', 'for', 'ride', 'and', 'because', 'time', 'was', 'on', 'his', 'side', 'and', 'because', 'want', 'you', 'want', 'you', 'want', 'you', 'so', 'bad', 'honey', 'want', 'you', 'our', 'conversation', 'was', 'short', 'and', 'sweet', 'it', 'nearly', 'swept', 'me', 'off', 'my', 'feet', 'and', 'back', 'in', 'the', 'rain', 'oh', 'oh', 'and', 'you', 'are', 'on', 'dry', 'land', 'you', 'made', 'it', 'there', 'somehow', 'you', 're', 'big', 'girl', 'now', 'bird', 'on', 'the', 'horizon', 'sittin', 'on', 'fence', 'he', 'singin', 'his', 'song', 'for', 'me', 'at', 'his', 'own', 'expense', 'and', 'just', 'like', 'that', 'bird', 'oh', 'oh', 'singin', 'just', 'for', 'you', 'hope', 'that', 'you', 'can', 'hear', 'hear', 'me', 'singin', 'through', 'these', 'tears', 'time', 'is', 'jet', 'plane', 'it', 'moves', 'too', 'fast', 'oh', 'but', 'what', 'shame', 'if', 'all', 'we', 've', 'shared', 'can', 'last', 'can', 'change', 'swear', 'oh', 'oh', 'see', 'what', 'you', 'can', 'do', 'can', 'make', 'it', 'through', 'you', 'can', 'make', 'it', 'too', 'love', 'is', 'so', 'simple', 'to', 'quote', 'phrase', 'you', 've', 'known', 'it', 'all', 'the', 'time', 'learnin', 'it', 'these', 'days', 'oh', 'know', 'where', 'can', 'find', 'you', 'oh', 'oh', 'in', 'somebody', 'room', 'it', 'price', 'have', 'to', 'pay', 'you', 're', 'big', 'girl', 'all', 'the', 'way', 'change', 'in', 'the', 'weather', 'is', 'known', 'to', 'be', 'extreme', 'but', 'what', 'the', 'sense', 'of', 'changing', 'horses', 'in', 'midstream', 'going', 'out', 'of', 'my', 'mind', 'oh', 'oh', 'with', 'pain', 'that', 'stops', 'and', 'starts', 'like', 'corkscrew', 'to', 'my', 'heart', 'ever', 'since', 'we', 've', 'been', 'apart', 'hollis', 'brown', 'he', 'lived', 'on', 'the', 'outside', 'of', 'town', 'hollis', 'brown', 'he', 'lived', 'on', 'the', 'outside', 'of', 'town', 'with', 'his', 'wife', 'and', 'five', 'children', 'and', 'his', 'cabin', 'fallin', 'down', 'you', 'looked', 'for', 'work', 'and', 'money', 'and', 'you', 'walked', 'rugged', 'mile', 'you', 'looked', 'for', 'work', 'and', 'money', 'and', 'you', 'walked', 'rugged', 'mile', 'your', 'children', 'are', 'so', 'hungry', 'that', 'they', 'don', 'know', 'how', 'to', 'smile', 'your', 'baby', 'eyes', 'look', 'crazy', 'they', 're', 'tuggin', 'at', 'your', 'sleeve', 'your', 'baby', 'eyes', 'look', 'crazy', 'they', 're', 'tuggin', 'at', 'your', 'sleeve', 'you', 'walk', 'the', 'floor', 'and', 'wonder', 'why', 'with', 'every', 'breath', 'you', 'breathe', 'the', 'rats', 'have', 'got', 'your', 'flour', 'bad', 'blood', 'it', 'got', 'your', 'mare', 'the', 'rats', 'have', 'got', 'your', 'flour', 'bad', 'blood', 'it', 'got', 'your', 'mare', 'if', 'there', 'anyone', 'that', 'knows', 'is', 'there', 'anyone', 'that', 'cares', 'you', 'prayed', 'to', 'the', 'lord', 'above', 'oh', 'please', 'send', 'you', 'friend', 'you', 'prayed', 'to', 'the', 'lord', 'above', 'oh', 'please', 'send', 'you', 'friend', 'your', 'empty', 'pockets', 'tell', 'yuh', 'that', 'you', 'ain', 'got', 'no', 'friend', 'your', 'babies', 'are', 'crying', 'louder', 'it', 'pounding', 'on', 'your', 'brain', 'your', 'babies', 'are', 'crying', 'louder', 'now', 'it', 'pounding', 'on', 'your', 'brain', 'your', 'wife', 'screams', 'are', 'stabbin', 'you', 'like', 'the', 'dirty', 'drivin', 'rain', 'your', 'grass', 'it', 'is', 'turning', 'black', 'there', 'no', 'water', 'in', 'your', 'well', 'your', 'grass', 'is', 'turning', 'black', 'there', 'no', 'water', 'in', 'your', 'well', 'you', 'spent', 'your', 'last', 'lone', 'dollar', 'on', 'seven', 'shotgun', 'shells', 'way', 'out', 'in', 'the', 'wilderness', 'cold', 'coyote', 'calls', 'way', 'out', 'in', 'the', 'wilderness', 'cold', 'coyote', 'calls', 'your', 'eyes', 'fix', 'on', 'the', 'shotgun', 'that', 'hangin', 'on', 'the', 'wall', 'your', 'brain', 'is', 'bleedin', 'and', 'your', 'legs', 'can', 'seem', 'to', 'stand', 'your', 'brain', 'is', 'bleedin', 'and', 'your', 'legs', 'can', 'seem', 'to', 'stand', 'your', 'eyes', 'fix', 'on', 'the', 'shotgun', 'that', 'you', 're', 'holdin', 'in', 'your', 'hand', 'there', 'seven', 'breezes', 'blowin', 'all', 'around', 'the', 'cabin', 'door', 'there', 'seven', 'breezes', 'blowin', 'all', 'around', 'the', 'cabin', 'door', 'seven', 'shots', 'ring', 'out', 'like', 'the', 'ocean', 'pounding', 'roar', 'there', 'seven', 'people', 'dead', 'on', 'south', 'dakota', 'farm', 'there', 'seven', 'people', 'dead', 'on', 'south', 'dakota', 'farm', 'somewhere', 'in', 'the', 'distance', 'there', 'seven', 'new', 'people', 'born', 'been', 'so', 'long', 'since', 'strange', 'woman', 'has', 'slept', 'in', 'my', 'bed', 'look', 'how', 'sweet', 'she', 'sleeps', 'how', 'free', 'must', 'be', 'her', 'dreams', 'in', 'another', 'lifetime', 'she', 'must', 'have', 'owned', 'the', 'world', 'or', 'been', 'faithfully', 'wed', 'to', 'some', 'righteous', 'king', 'who', 'wrote', 'psalms', 'beside', 'moonlit', 'streams', 'and', 'in', 'creation', 'where', 'one', 'nature', 'neither', 'honors', 'nor', 'forgives', 'and', 'one', 'says', 'to', 'the', 'other', 'no', 'man', 'sees', 'my', 'face', 'and', 'lives', 'think', 'll', 'go', 'out', 'and', 'go', 'for', 'walk', 'not', 'much', 'happenin', 'here', 'nothin', 'ever', 'does', 'besides', 'if', 'she', 'wakes', 'up', 'now', 'she', 'll', 'just', 'want', 'me', 'to', 'talk', 'got', 'nothin', 'to', 'say', 'specially', 'about', 'whatever', 'was', 'and', 'in', 'creation', 'where', 'one', 'nature', 'neither', 'honors', 'nor', 'forgives', 'and', 'one', 'says', 'to', 'the', 'other', 'no', 'man', 'sees', 'my', 'face', 'and', 'lives', 'took', 'an', 'untrodden', 'path', 'once', 'where', 'the', 'swift', 'don', 'win', 'the', 'race', 'it', 'goes', 'to', 'the', 'worthy', 'who', 'can', 'divide', 'the', 'word', 'of', 'truth', 'took', 'stranger', 'to', 'teach', 'me', 'to', 'look', 'into', 'justice', 'beautiful', 'face', 'and', 'to', 'see', 'an', 'eye', 'for', 'an', 'eye', 'and', 'tooth', 'for', 'tooth', 'and', 'in', 'creation', 'where', 'one', 'nature', 'neither', 'honors', 'nor', 'forgives', 'and', 'one', 'says', 'to', 'the', 'other', 'no', 'man', 'sees', 'my', 'face', 'and', 'lives', 'outside', 'of', 'two', 'men', 'on', 'train', 'platform', 'there', 'nobody', 'in', 'sight', 'they', 're', 'waiting', 'for', 'spring', 'to', 'come', 'smoking', 'down', 'the', 'track', 'the', 'world', 'could', 'come', 'to', 'an', 'end', 'tonight', 'but', 'that', 'all', 'right', 'she', 'should', 'still', 'be', 'there', 'sleepin', 'when', 'get', 'back', 'and', 'in', 'creation', 'where', 'one', 'nature', 'neither', 'honors', 'nor', 'forgives', 'and', 'one', 'says', 'to', 'the', 'other', 'no', 'man', 'sees', 'my', 'face', 'and', 'lives', 'noontime', 'and', 'still', 'pushin', 'myself', 'along', 'the', 'road', 'the', 'darkest', 'part', 'into', 'the', 'narrow', 'lanes', 'can', 'stumble', 'or', 'stay', 'put', 'someone', 'else', 'is', 'speakin', 'with', 'my', 'mouth', 'but', 'listening', 'only', 'to', 'my', 'heart', 've', 'made', 'shoes', 'for', 'everyone', 'even', 'you', 'while', 'still', 'go', 'barefoot', 'and', 'in', 'creation', 'where', 'one', 'nature', 'neither', 'honors', 'nor', 'forgives', 'and', 'one', 'says', 'to', 'the', 'other', 'no', 'man', 'sees', 'my', 'face', 'and', 'lives', 'perhaps', 'it', 'the', 'color', 'of', 'the', 'sun', 'cut', 'flat', 'an', 'cov', 'rin', 'the', 'crossroads', 'standing', 'at', 'or', 'maybe', 'it', 'the', 'weather', 'or', 'something', 'like', 'that', 'but', 'mama', 'you', 'been', 'on', 'my', 'mind', 'don', 'mean', 'trouble', 'please', 'don', 'put', 'me', 'down', 'or', 'get', 'upset', 'am', 'not', 'pleadin', 'or', 'sayin', 'can', 'forget', 'do', 'not', 'walk', 'the', 'floor', 'bowed', 'down', 'an', 'bent', 'but', 'yet', 'mama', 'you', 'been', 'on', 'my', 'mind', 'even', 'though', 'my', 'mind', 'is', 'hazy', 'an', 'my', 'thoughts', 'they', 'might', 'be', 'narrow', 'where', 'you', 'been', 'don', 'bother', 'me', 'nor', 'bring', 'me', 'down', 'in', 'sorrow', 'it', 'don', 'even', 'matter', 'to', 'me', 'where', 'you', 're', 'wakin', 'up', 'tomorrow', 'but', 'mama', 'you', 're', 'just', 'on', 'my', 'mind', 'am', 'not', 'askin', 'you', 'to', 'say', 'words', 'like', 'yes', 'or', 'no', 'please', 'understand', 'me', 'got', 'no', 'place', 'for', 'you', 'go', 'just', 'breathin', 'to', 'myself', 'pretendin', 'not', 'that', 'don', 'know', 'mama', 'you', 'been', 'on', 'my', 'mind', 'when', 'you', 'wake', 'up', 'in', 'the', 'mornin', 'baby', 'look', 'inside', 'your', 'mirror', 'you', 'know', 'won', 'be', 'next', 'to', 'you', 'you', 'know', 'won', 'be', 'near', 'just', 'be', 'curious', 'to', 'know', 'if', 'you', 'can', 'see', 'yourself', 'as', 'clear', 'as', 'someone', 'who', 'has', 'had', 'you', 'on', 'his', 'mind', 'when', 'the', 'rain', 'is', 'blowing', 'in', 'your', 'face', 'and', 'the', 'whole', 'world', 'is', 'on', 'your', 'case', 'could', 'offer', 'you', 'warm', 'embrace', 'to', 'make', 'you', 'feel', 'my', 'love', 'when', 'the', 'evening', 'shadows', 'and', 'the', 'stars', 'appear', 'and', 'there', 'is', 'no', 'one', 'there', 'to', 'dry', 'your', 'tears', 'could', 'hold', 'you', 'for', 'million', 'years', 'to', 'make', 'you', 'feel', 'my', 'love', 'know', 'you', 'haven', 'made', 'your', 'mind', 'up', 'yet', 'but', 'would', 'never', 'do', 'you', 'wrong', 've', 'known', 'it', 'from', 'the', 'moment', 'that', 'we', 'met', 'no', 'doubt', 'in', 'my', 'mind', 'where', 'you', 'belong', 'go', 'hungry', 'go', 'black', 'and', 'blue', 'go', 'crawling', 'down', 'the', 'avenue', 'there', 'nothing', 'that', 'wouldn', 'do', 'to', 'make', 'you', 'feel', 'my', 'love', 'the', 'storms', 'are', 'raging', 'on', 'the', 'rollin', 'sea', 'and', 'on', 'the', 'highway', 'of', 'regret', 'the', 'winds', 'of', 'change', 'are', 'blowing', 'wild', 'and', 'free', 'you', 'ain', 'seen', 'nothing', 'like', 'me', 'yet', 'could', 'make', 'you', 'happy', 'make', 'your', 'dreams', 'come', 'true', 'nothing', 'that', 'wouldn', 'do', 'go', 'to', 'the', 'ends', 'of', 'the', 'earth', 'for', 'you', 'to', 'make', 'you', 'feel', 'my', 'love', 'well', 'my', 'nerves', 'are', 'exploding', 'and', 'my', 'body', 'tense', 'feel', 'like', 'the', 'whole', 'world', 'got', 'me', 'pinned', 'up', 'against', 'the', 'fence', 've', 'been', 'hit', 'too', 'hard', 've', 'seen', 'too', 'much', 'nothing', 'can', 'heal', 'me', 'now', 'but', 'your', 'touch', 'don', 'know', 'what', 'gonna', 'do', 'was', 'all', 'right', 'til', 'fell', 'in', 'love', 'with', 'you', 'well', 'my', 'house', 'is', 'on', 'fire', 'burning', 'to', 'the', 'sky', 'thought', 'it', 'would', 'rain', 'but', 'the', 'clouds', 'passed', 'by', 'now', 'feel', 'like', 'coming', 'to', 'the', 'end', 'of', 'my', 'way', 'but', 'know', 'god', 'is', 'my', 'shield', 'and', 'he', 'won', 'lead', 'me', 'astray', 'still', 'don', 'know', 'what', 'gonna', 'do', 'was', 'all', 'right', 'til', 'fell', 'in', 'love', 'with', 'you', 'boys', 'in', 'the', 'street', 'beginning', 'to', 'play', 'girls', 'like', 'birds', 'flying', 'away', 'when', 'gone', 'you', 'will', 'remember', 'my', 'name', 'gonna', 'win', 'my', 'way', 'to', 'wealth', 'and', 'fame', 'don', 'know', 'what', 'gonna', 'do', 'was', 'all', 'right', 'til', 'fell', 'in', 'love', 'with', 'you', 'junk', 'is', 'piling', 'up', 'taking', 'up', 'space', 'my', 'eyes', 'feel', 'like', 'they', 're', 'falling', 'off', 'my', 'face', 'sweat', 'falling', 'down', 'staring', 'at', 'the', 'floor', 'thinking', 'about', 'that', 'girl', 'who', 'won', 'be', 'back', 'no', 'more', 'don', 'know', 'what', 'gonna', 'do', 'was', 'all', 'right', 'til', 'fell', 'in', 'love', 'with', 'you', 'well', 'tired', 'of', 'talking', 'tired', 'of', 'trying', 'to', 'explain', 'my', 'attempts', 'to', 'please', 'you', 'were', 'all', 'in', 'vain', 'tomorrow', 'night', 'before', 'the', 'sun', 'goes', 'down', 'if', 'still', 'among', 'the', 'living', 'll', 'be', 'dixie', 'bound', 'just', 'don', 'know', 'what', 'gonna', 'do', 'was', 'all', 'right', 'til', 'fell', 'in', 'love', 'with', 'you', 'god', 'knows', 'you', 'ain', 'pretty', 'god', 'knows', 'it', 'true', 'god', 'knows', 'there', 'ain', 'anybody', 'ever', 'gonna', 'take', 'the', 'place', 'of', 'you', 'god', 'knows', 'it', 'struggle', 'god', 'knows', 'it', 'crime', 'god', 'knows', 'there', 'gonna', 'be', 'no', 'more', 'water', 'but', 'fire', 'next', 'time', 'god', 'don', 'call', 'it', 'treason', 'god', 'don', 'call', 'it', 'wrong', 'it', 'was', 'supposed', 'to', 'last', 'season', 'but', 'it', 'been', 'so', 'strong', 'for', 'so', 'long', 'god', 'knows', 'it', 'fragile', 'god', 'knows', 'everything', 'god', 'knows', 'it', 'could', 'snap', 'apart', 'right', 'now', 'just', 'like', 'putting', 'scissors', 'to', 'string', 'god', 'knows', 'it', 'terrifying', 'god', 'sees', 'it', 'all', 'unfold', 'there', 'million', 'reasons', 'for', 'you', 'to', 'be', 'crying', 'you', 'been', 'so', 'bold', 'and', 'so', 'cold', 'god', 'knows', 'that', 'when', 'you', 'see', 'it', 'god', 'knows', 'you', 've', 'got', 'to', 'weep', 'god', 'knows', 'the', 'secrets', 'of', 'your', 'heart', 'he', 'll', 'tell', 'them', 'to', 'you', 'when', 'you', 're', 'asleep', 'god', 'knows', 'there', 'river', 'god', 'knows', 'how', 'to', 'make', 'it', 'flow', 'god', 'knows', 'you', 'ain', 'gonna', 'be', 'taking', 'nothing', 'with', 'you', 'when', 'you', 'go', 'god', 'knows', 'there', 'purpose', 'god', 'knows', 'there', 'chance', 'god', 'knows', 'you', 'can', 'rise', 'above', 'the', 'darkest', 'hour', 'of', 'any', 'circumstance', 'god', 'knows', 'there', 'heaven', 'god', 'knows', 'it', 'out', 'of', 'sight', 'god', 'knows', 'we', 'can', 'get', 'all', 'the', 'way', 'from', 'here', 'to', 'there', 'even', 'if', 'we', 've', 'got', 'to', 'walk', 'million', 'miles', 'by', 'candlelight', 'can', 'wait', 'wait', 'for', 'you', 'to', 'change', 'your', 'mind', 'it', 'late', 'trying', 'to', 'walk', 'the', 'line', 'well', 'it', 'way', 'past', 'midnight', 'and', 'there', 'are', 'people', 'all', 'around', 'some', 'on', 'their', 'way', 'up', 'some', 'on', 'their', 'way', 'down', 'the', 'air', 'burns', 'and', 'trying', 'to', 'think', 'straight', 'and', 'don', 'know', 'how', 'much', 'longer', 'can', 'wait', 'your', 'man', 'trying', 'to', 'recover', 'the', 'sweet', 'love', 'that', 'we', 'knew', 'you', 'understand', 'that', 'my', 'heart', 'can', 'go', 'on', 'beating', 'without', 'you', 'well', 'your', 'loveliness', 'has', 'wounded', 'me', 'reeling', 'from', 'the', 'blow', 'wish', 'knew', 'what', 'it', 'was', 'keeps', 'me', 'loving', 'you', 'so', 'breathing', 'hard', 'standing', 'at', 'the', 'gate', 'but', 'don', 'know', 'how', 'much', 'longer', 'can', 'wait', 'skies', 'are', 'grey', 'looking', 'for', 'anything', 'that', 'will', 'bring', 'happy', 'glow', 'night', 'or', 'day', 'it', 'doesn', 'matter', 'where', 'go', 'anymore', 'just', 'go', 'if', 'ever', 'saw', 'you', 'coming', 'don', 'know', 'what', 'would', 'do', 'like', 'to', 'think', 'could', 'control', 'myself', 'but', 'it', 'isn', 'true', 'that', 'how', 'it', 'is', 'when', 'things', 'disintegrate', 'and', 'don', 'know', 'how', 'much', 'longer', 'can', 'wait', 'doomed', 'to', 'love', 'you', 've', 'been', 'rolling', 'through', 'stormy', 'weather', 'thinking', 'of', 'you', 'and', 'all', 'the', 'places', 'we', 'could', 'roam', 'together', 'it', 'mighty', 'funny', 'the', 'end', 'of', 'time', 'has', 'just', 'begun', 'oh', 'honey', 'after', 'all', 'these', 'years', 'you', 're', 'still', 'the', 'one', 'while', 'strolling', 'through', 'the', 'lonely', 'graveyard', 'of', 'my', 'mind', 'left', 'my', 'life', 'with', 'you', 'somewhere', 'back', 'there', 'along', 'the', 'line', 'thought', 'somehow', 'that', 'would', 'be', 'spared', 'this', 'fate', 'but', 'don', 'know', 'how', 'much', 'longer', 'can', 'wait', 'in', 'the', 'time', 'of', 'my', 'confession', 'in', 'the', 'hour', 'of', 'my', 'deepest', 'need', 'when', 'the', 'pool', 'of', 'tears', 'beneath', 'my', 'feet', 'flood', 'every', 'newborn', 'seed', 'there', 'dyin', 'voice', 'within', 'me', 'reaching', 'out', 'somewhere', 'toiling', 'in', 'the', 'danger', 'and', 'in', 'the', 'morals', 'of', 'despair', 'don', 'have', 'the', 'inclination', 'to', 'look', 'back', 'on', 'any', 'mistake', 'like', 'cain', 'now', 'behold', 'this', 'chain', 'of', 'events', 'that', 'must', 'break', 'in', 'the', 'fury', 'of', 'the', 'moment', 'can', 'see', 'the', 'master', 'hand', 'in', 'every', 'leaf', 'that', 'trembles', 'in', 'every', 'grain', 'of', 'sand', 'oh', 'the', 'flowers', 'of', 'indulgence', 'and', 'the', 'weeds', 'of', 'yesteryear', 'like', 'criminals', 'they', 'have', 'choked', 'the', 'breath', 'of', 'conscience', 'and', 'good', 'cheer', 'the', 'sun', 'beat', 'down', 'upon', 'the', 'steps', 'of', 'time', 'to', 'light', 'the', 'way', 'to', 'ease', 'the', 'pain', 'of', 'idleness', 'and', 'the', 'memory', 'of', 'decay', 'gaze', 'into', 'the', 'doorway', 'of', 'temptation', 'angry', 'flame', 'and', 'every', 'time', 'pass', 'that', 'way', 'always', 'hear', 'my', 'name', 'then', 'onward', 'in', 'my', 'journey', 'come', 'to', 'understand', 'that', 'every', 'hair', 'is', 'numbered', 'like', 'every', 'grain', 'of', 'sand', 'have', 'gone', 'from', 'rags', 'to', 'riches', 'in', 'the', 'sorrow', 'of', 'the', 'night', 'in', 'the', 'violence', 'of', 'summer', 'dream', 'in', 'the', 'chill', 'of', 'wintry', 'light', 'in', 'the', 'bitter', 'dance', 'of', 'loneliness', 'fading', 'into', 'space', 'in', 'the', 'broken', 'mirror', 'of', 'innocence', 'on', 'each', 'forgotten', 'face', 'hear', 'the', 'ancient', 'footsteps', 'like', 'the', 'motion', 'of', 'the', 'sea', 'sometimes', 'turn', 'there', 'someone', 'there', 'other', 'times', 'it', 'only', 'me', 'am', 'hanging', 'in', 'the', 'balance', 'of', 'the', 'reality', 'of', 'man', 'like', 'every', 'sparrow', 'falling', 'like', 'every', 'grain', 'of', 'sand', 'well', 'your', 'railroad', 'gate', 'you', 'know', 'just', 'can', 'jump', 'it', 'sometimes', 'it', 'gets', 'so', 'hard', 'you', 'see', 'just', 'sitting', 'here', 'beating', 'on', 'my', 'trumpet', 'with', 'all', 'these', 'promises', 'you', 'left', 'for', 'me', 'but', 'where', 'are', 'you', 'tonight', 'sweet', 'marie', 'well', 'waited', 'for', 'you', 'when', 'was', 'half', 'sick', 'yes', 'waited', 'for', 'you', 'when', 'you', 'hated', 'me', 'well', 'waited', 'for', 'you', 'inside', 'of', 'the', 'frozen', 'traffic', 'when', 'you', 'knew', 'had', 'some', 'other', 'place', 'to', 'be', 'now', 'where', 'are', 'you', 'tonight', 'sweet', 'marie', 'well', 'anybody', 'can', 'be', 'just', 'like', 'me', 'obviously', 'but', 'then', 'now', 'again', 'not', 'too', 'many', 'can', 'be', 'like', 'you', 'fortunately', 'well', 'six', 'white', 'horses', 'that', 'you', 'did', 'promise', 'were', 'fin', 'lly', 'delivered', 'down', 'to', 'the', 'penitentiary', 'but', 'to', 'live', 'outside', 'the', 'law', 'you', 'must', 'be', 'honest', 'know', 'you', 'always', 'say', 'that', 'you', 'agree', 'but', 'where', 'are', 'you', 'tonight', 'sweet', 'marie', 'well', 'don', 'know', 'how', 'it', 'happened', 'but', 'the', 'riverboat', 'captain', 'he', 'knows', 'my', 'fate', 'but', 'ev', 'rybody', 'else', 'even', 'yourself', 'they', 're', 'just', 'gonna', 'have', 'to', 'wait', 'well', 'got', 'the', 'fever', 'down', 'in', 'my', 'pockets', 'the', 'persian', 'drunkard', 'he', 'follows', 'me', 'yes', 'can', 'take', 'him', 'to', 'your', 'house', 'but', 'can', 'unlock', 'it', 'you', 'see', 'you', 'forgot', 'to', 'leave', 'me', 'with', 'the', 'key', 'oh', 'where', 'are', 'you', 'tonight', 'sweet', 'marie', 'now', 'been', 'in', 'jail', 'when', 'all', 'my', 'mail', 'showed', 'that', 'man', 'can', 'give', 'his', 'address', 'out', 'to', 'bad', 'company', 'and', 'now', 'stand', 'here', 'lookin', 'at', 'your', 'yellow', 'railroad', 'in', 'the', 'ruins', 'of', 'your', 'balcony', 'wond', 'ring', 'where', 'you', 'are', 'tonight', 'sweet', 'marie', 'crash', 'on', 'the', 'levee', 'mama', 'water', 'gonna', 'overflow', 'swamp', 'gonna', 'rise', 'no', 'boat', 'gonna', 'row', 'now', 'you', 'can', 'train', 'on', 'down', 'to', 'williams', 'point', 'you', 'can', 'bust', 'your', 'feet', 'you', 'can', 'rock', 'this', 'joint', 'but', 'oh', 'mama', 'ain', 'you', 'gonna', 'miss', 'your', 'best', 'friend', 'now', 'you', 're', 'gonna', 'have', 'to', 'find', 'yourself', 'another', 'best', 'friend', 'somehow', 'now', 'don', 'you', 'try', 'an', 'move', 'me', 'you', 're', 'just', 'gonna', 'lose', 'there', 'crash', 'on', 'the', 'levee', 'and', 'mama', 'you', 've', 'been', 'refused', 'well', 'it', 'sugar', 'for', 'sugar', 'and', 'salt', 'for', 'salt', 'if', 'you', 'go', 'down', 'in', 'the', 'flood', 'it', 'gonna', 'be', 'your', 'own', 'fault', 'oh', 'mama', 'ain', 'you', 'gonna', 'miss', 'your', 'best', 'friend', 'now', 'you', 're', 'gonna', 'have', 'to', 'find', 'yourself', 'another', 'best', 'friend', 'somehow', 'well', 'that', 'high', 'tide', 'risin', 'mama', 'don', 'you', 'let', 'me', 'down', 'pack', 'up', 'your', 'suitcase', 'mama', 'don', 'you', 'make', 'sound', 'now', 'it', 'king', 'for', 'king', 'queen', 'for', 'queen', 'it', 'gonna', 'be', 'the', 'meanest', 'flood', 'that', 'anybody', 'seen', 'oh', 'mama', 'ain', 'you', 'gonna', 'miss', 'your', 'best', 'friend', 'now', 'yes', 'you', 're', 'gonna', 'have', 'to', 'find', 'yourself', 'another', 'best', 'friend', 'somehow', 'john', 'brown', 'went', 'off', 'to', 'war', 'to', 'fight', 'on', 'foreign', 'shore', 'his', 'mama', 'sure', 'was', 'proud', 'of', 'him', 'he', 'stood', 'straight', 'and', 'tall', 'in', 'his', 'uniform', 'and', 'all', 'his', 'mama', 'face', 'broke', 'out', 'all', 'in', 'grin', 'oh', 'son', 'you', 'look', 'so', 'fine', 'glad', 'you', 're', 'son', 'of', 'mine', 'you', 'make', 'me', 'proud', 'to', 'know', 'you', 'hold', 'gun', 'do', 'what', 'the', 'captain', 'says', 'lots', 'of', 'medals', 'you', 'will', 'get', 'and', 'we', 'll', 'put', 'them', 'on', 'the', 'wall', 'when', 'you', 'come', 'home', 'as', 'that', 'old', 'train', 'pulled', 'out', 'john', 'ma', 'began', 'to', 'shout', 'tellin', 'ev', 'ryone', 'in', 'the', 'neighborhood', 'that', 'my', 'son', 'that', 'about', 'to', 'go', 'he', 'soldier', 'now', 'you', 'know', 'she', 'made', 'well', 'sure', 'her', 'neighbors', 'understood', 'she', 'got', 'letter', 'once', 'in', 'while', 'and', 'her', 'face', 'broke', 'into', 'smile', 'as', 'she', 'showed', 'them', 'to', 'the', 'people', 'from', 'next', 'door', 'and', 'she', 'bragged', 'about', 'her', 'son', 'with', 'his', 'uniform', 'and', 'gun', 'and', 'these', 'things', 'you', 'called', 'good', 'old', 'fashioned', 'war', 'oh', 'good', 'old', 'fashioned', 'war', 'then', 'the', 'letters', 'ceased', 'to', 'come', 'for', 'long', 'time', 'they', 'did', 'not', 'come', 'they', 'ceased', 'to', 'come', 'for', 'about', 'ten', 'months', 'or', 'more', 'then', 'letter', 'finally', 'came', 'saying', 'go', 'down', 'and', 'meet', 'the', 'train', 'your', 'son', 'coming', 'home', 'from', 'the', 'war', 'she', 'smiled', 'and', 'went', 'right', 'down', 'she', 'looked', 'everywhere', 'around', 'but', 'she', 'could', 'not', 'see', 'her', 'soldier', 'son', 'in', 'sight', 'but', 'as', 'all', 'the', 'people', 'passed', 'she', 'saw', 'her', 'son', 'at', 'last', 'when', 'she', 'did', 'she', 'could', 'hardly', 'believe', 'her', 'eyes', 'oh', 'his', 'face', 'was', 'all', 'shot', 'up', 'and', 'his', 'hand', 'was', 'all', 'blown', 'off', 'and', 'he', 'wore', 'metal', 'brace', 'around', 'his', 'waist', 'he', 'whispered', 'kind', 'of', 'slow', 'in', 'voice', 'she', 'did', 'not', 'know', 'while', 'she', 'couldn', 'even', 'recognize', 'his', 'face', 'oh', 'lord', 'not', 'even', 'recognize', 'his', 'face', 'oh', 'tell', 'me', 'my', 'darling', 'son', 'pray', 'tell', 'me', 'what', 'they', 'done', 'how', 'is', 'it', 'you', 'come', 'to', 'be', 'this', 'way', 'he', 'tried', 'his', 'best', 'to', 'talk', 'but', 'his', 'mouth', 'could', 'hardly', 'move', 'and', 'the', 'mother', 'had', 'to', 'turn', 'her', 'face', 'away', 'don', 'you', 'remember', 'ma', 'when', 'went', 'off', 'to', 'war', 'you', 'thought', 'it', 'was', 'the', 'best', 'thing', 'could', 'do', 'was', 'on', 'the', 'battleground', 'you', 'were', 'home', 'acting', 'proud', 'you', 'wasn', 'there', 'standing', 'in', 'my', 'shoes', 'oh', 'and', 'thought', 'when', 'was', 'there', 'god', 'what', 'am', 'doing', 'here', 'tryin', 'to', 'kill', 'somebody', 'or', 'die', 'tryin', 'but', 'the', 'thing', 'that', 'scared', 'me', 'most', 'was', 'when', 'my', 'enemy', 'came', 'close', 'and', 'saw', 'that', 'his', 'face', 'looked', 'just', 'like', 'mine', 'oh', 'lord', 'just', 'like', 'mine', 'and', 'couldn', 'help', 'but', 'think', 'through', 'the', 'thunder', 'rolling', 'and', 'stink', 'that', 'was', 'just', 'puppet', 'in', 'play', 'and', 'through', 'the', 'roar', 'and', 'smoke', 'this', 'string', 'is', 'finally', 'broke', 'and', 'cannonball', 'blew', 'my', 'eyes', 'away', 'as', 'he', 'turned', 'away', 'to', 'walk', 'his', 'ma', 'was', 'still', 'in', 'shock', 'at', 'seein', 'the', 'metal', 'brace', 'that', 'helped', 'him', 'stand', 'but', 'as', 'he', 'turned', 'to', 'go', 'he', 'called', 'his', 'mother', 'close', 'and', 'he', 'dropped', 'his', 'medals', 'down', 'into', 'her', 'hand', 'the', 'sweet', 'pretty', 'things', 'are', 'in', 'bed', 'now', 'of', 'course', 'the', 'city', 'fathers', 'they', 're', 'trying', 'to', 'endorse', 'the', 'reincarnation', 'of', 'paul', 'revere', 'horse', 'but', 'the', 'town', 'has', 'no', 'need', 'to', 'be', 'nervous', 'the', 'ghost', 'of', 'belle', 'starr', 'she', 'hands', 'down', 'her', 'wits', 'to', 'jezebel', 'the', 'nun', 'she', 'violently', 'knits', 'bald', 'wig', 'for', 'jack', 'the', 'ripper', 'who', 'sits', 'at', 'the', 'head', 'of', 'the', 'chamber', 'of', 'commerce', 'mama', 'in', 'the', 'fact', 'ry', 'she', 'ain', 'got', 'no', 'shoes', 'daddy', 'in', 'the', 'alley', 'he', 'lookin', 'for', 'the', 'fuse', 'in', 'the', 'streets', 'with', 'the', 'tombstone', 'blues', 'the', 'hysterical', 'bride', 'in', 'the', 'penny', 'arcade', 'screaming', 'she', 'moans', 've', 'just', 'been', 'made', 'then', 'sends', 'out', 'for', 'the', 'doctor', 'who', 'pulls', 'down', 'the', 'shade', 'says', 'my', 'advice', 'is', 'to', 'not', 'let', 'the', 'boys', 'in', 'now', 'the', 'medicine', 'man', 'comes', 'and', 'he', 'shuffles', 'inside', 'he', 'walks', 'with', 'swagger', 'and', 'he', 'says', 'to', 'the', 'bride', 'stop', 'all', 'this', 'weeping', 'swallow', 'your', 'pride', 'you', 'will', 'not', 'die', 'it', 'not', 'poison', 'mama', 'in', 'the', 'fact', 'ry', 'she', 'ain', 'got', 'no', 'shoes', 'daddy', 'in', 'the', 'alley', 'he', 'lookin', 'for', 'the', 'fuse', 'in', 'the', 'streets', 'with', 'the', 'tombstone', 'blues', 'well', 'john', 'the', 'baptist', 'after', 'torturing', 'thief', 'looks', 'up', 'at', 'his', 'hero', 'the', 'commander', 'in', 'chief', 'saying', 'tell', 'me', 'great', 'hero', 'but', 'please', 'make', 'it', 'brief', 'is', 'there', 'hole', 'for', 'me', 'to', 'get', 'sick', 'in', 'the', 'commander', 'in', 'chief', 'answers', 'him', 'while', 'chasing', 'fly', 'saying', 'death', 'to', 'all', 'those', 'who', 'would', 'whimper', 'and', 'cry', 'and', 'dropping', 'barbell', 'he', 'points', 'to', 'the', 'sky', 'saying', 'the', 'sun', 'not', 'yellow', 'it', 'chicken', 'mama', 'in', 'the', 'fact', 'ry', 'she', 'ain', 'got', 'no', 'shoes', 'daddy', 'in', 'the', 'alley', 'he', 'lookin', 'for', 'the', 'fuse', 'in', 'the', 'streets', 'with', 'the', 'tombstone', 'blues', 'the', 'king', 'of', 'the', 'philistines', 'his', 'soldiers', 'to', 'save', 'puts', 'jawbones', 'on', 'their', 'tombstones', 'and', 'flatters', 'their', 'graves', 'puts', 'the', 'pied', 'pipers', 'in', 'prison', 'and', 'fattens', 'the', 'slaves', 'then', 'sends', 'them', 'out', 'to', 'the', 'jungle', 'gypsy', 'davey', 'with', 'blowtorch', 'he', 'burns', 'out', 'their', 'camps', 'with', 'his', 'faithful', 'slave', 'pedro', 'behind', 'him', 'he', 'tramps', 'with', 'fantastic', 'collection', 'of', 'stamps', 'to', 'win', 'friends', 'and', 'influence', 'his', 'uncle', 'mama', 'in', 'the', 'fact', 'ry', 'she', 'ain', 'got', 'no', 'shoes', 'daddy', 'in', 'the', 'alley', 'he', 'lookin', 'for', 'the', 'fuse', 'in', 'the', 'streets', 'with', 'the', 'tombstone', 'blues', 'the', 'geometry', 'of', 'innocence', 'flesh', 'on', 'the', 'bone', 'causes', 'galileo', 'math', 'book', 'to', 'get', 'thrown', 'at', 'delilah', 'who', 'sits', 'worthlessly', 'alone', 'but', 'the', 'tears', 'on', 'her', 'cheeks', 'are', 'from', 'laughter', 'now', 'wish', 'could', 'give', 'brother', 'bill', 'his', 'great', 'thrill', 'would', 'set', 'him', 'in', 'chains', 'at', 'the', 'top', 'of', 'the', 'hill', 'then', 'send', 'out', 'for', 'some', 'pillars', 'and', 'cecil', 'demille', 'he', 'could', 'die', 'happily', 'ever', 'after', 'mama', 'in', 'the', 'fact', 'ry', 'she', 'ain', 'got', 'no', 'shoes', 'daddy', 'in', 'the', 'alley', 'he', 'lookin', 'for', 'the', 'fuse', 'in', 'the', 'streets', 'with', 'the', 'tombstone', 'blues', 'where', 'ma', 'rainey', 'and', 'beethoven', 'once', 'unwrapped', 'their', 'bedroll', 'tuba', 'players', 'now', 'rehearse', 'around', 'the', 'flagpole', 'and', 'the', 'national', 'bank', 'at', 'profit', 'sells', 'road', 'maps', 'for', 'the', 'soul', 'to', 'the', 'old', 'folks', 'home', 'and', 'the', 'college', 'now', 'wish', 'could', 'write', 'you', 'melody', 'so', 'plain', 'that', 'could', 'hold', 'you', 'dear', 'lady', 'from', 'going', 'insane', 'that', 'could', 'ease', 'you', 'and', 'cool', 'you', 'and', 'cease', 'the', 'pain', 'of', 'your', 'useless', 'and', 'pointless', 'knowledge', 'mama', 'in', 'the', 'fact', 'ry', 'she', 'ain', 'got', 'no', 'shoes', 'daddy', 'in', 'the', 'alley', 'he', 'lookin', 'for', 'the', 'fuse', 'in', 'the', 'streets', 'with', 'the', 'tombstone', 'blues', 'well', 'you', 're', 'comin', 'down', 'high', 'street', 'walkin', 'in', 'the', 'sun', 'you', 'make', 'the', 'dead', 'man', 'rise', 'and', 'holler', 'she', 'the', 'one', 'jolene', 'jolene', 'baby', 'am', 'the', 'king', 'and', 'you', 're', 'the', 'queen', 'well', 'it', 'long', 'old', 'highway', 'don', 'ever', 'end', 've', 'got', 'saturday', 'night', 'special', 'back', 'again', 'll', 'sleep', 'by', 'your', 'door', 'lay', 'my', 'life', 'on', 'the', 'line', 'you', 'probably', 'don', 'know', 'but', 'gonna', 'make', 'you', 'mine', 'jolene', 'jolene', 'baby', 'am', 'the', 'king', 'and', 'you', 're', 'the', 'queen', 'keep', 'my', 'hands', 'in', 'my', 'pocket', 'movin', 'along', 'people', 'think', 'they', 'know', 'but', 'they', 're', 'all', 'wrong', 'you', 're', 'something', 'nice', 'gonna', 'grab', 'my', 'dice', 'can', 'say', 'haven', 'paid', 'the', 'price', 'jolene', 'jolene', 'baby', 'am', 'the', 'king', 'and', 'you', 're', 'the', 'queen', 'well', 'found', 'out', 'the', 'hard', 'way', 've', 'had', 'my', 'fill', 'you', 'can', 'find', 'somebody', 'with', 'his', 'back', 'to', 'hill', 'those', 'big', 'brown', 'eyes', 'they', 'set', 'off', 'spark', 'when', 'you', 'hold', 'me', 'in', 'your', 'arms', 'things', 'don', 'look', 'so', 'dark', 'jolene', 'jolene', 'baby', 'am', 'the', 'king', 'and', 'you', 're', 'the', 'queen', 'well', 'hangin', 'on', 'to', 'solid', 'rock', 'made', 'before', 'the', 'foundation', 'of', 'the', 'world', 'and', 'won', 'let', 'go', 'and', 'can', 'let', 'go', 'won', 'let', 'go', 'and', 'can', 'let', 'go', 'won', 'let', 'go', 'and', 'can', 'let', 'go', 'no', 'more', 'for', 'me', 'he', 'was', 'chastised', 'for', 'me', 'he', 'was', 'hated', 'for', 'me', 'he', 'was', 'rejected', 'by', 'world', 'that', 'he', 'created', 'nations', 'are', 'angry', 'cursed', 'are', 'some', 'people', 'are', 'expecting', 'false', 'peace', 'to', 'come', 'well', 'hangin', 'on', 'to', 'solid', 'rock', 'made', 'before', 'the', 'foundation', 'of', 'the', 'world', 'and', 'won', 'let', 'go', 'and', 'can', 'let', 'go', 'won', 'let', 'go', 'and', 'can', 'let', 'go', 'won', 'let', 'go', 'and', 'can', 'let', 'go', 'no', 'more', 'it', 'the', 'ways', 'of', 'the', 'flesh', 'to', 'war', 'against', 'the', 'spirit', 'twenty', 'four', 'hours', 'day', 'you', 'can', 'feel', 'it', 'and', 'you', 'can', 'hear', 'it', 'using', 'all', 'the', 'devices', 'under', 'the', 'sun', 'and', 'he', 'never', 'give', 'up', 'til', 'the', 'battle', 'lost', 'or', 'won', 'well', 'hangin', 'on', 'to', 'solid', 'rock', 'made', 'before', 'the', 'foundation', 'of', 'the', 'world', 'and', 'won', 'let', 'go', 'and', 'can', 'let', 'go', 'won', 'let', 'go', 'and', 'can', 'let', 'go', 'won', 'let', 'go', 'and', 'can', 'let', 'go', 'no', 'more', 'well', 'ride', 'on', 'mailtrain', 'baby', 'can', 'buy', 'thrill', 'well', 've', 'been', 'up', 'all', 'night', 'baby', 'leanin', 'on', 'the', 'windowsill', 'well', 'if', 'die', 'on', 'top', 'of', 'the', 'hill', 'and', 'if', 'don', 'make', 'it', 'you', 'know', 'my', 'baby', 'will', 'don', 'the', 'moon', 'look', 'good', 'mama', 'shinin', 'through', 'the', 'trees', 'don', 'the', 'brakeman', 'look', 'good', 'mama', 'flagging', 'down', 'the', 'double', 'don', 'the', 'sun', 'look', 'good', 'goin', 'down', 'over', 'the', 'sea', 'don', 'my', 'gal', 'look', 'fine', 'when', 'she', 'comin', 'after', 'me', 'now', 'the', 'wintertime', 'is', 'coming', 'the', 'windows', 'are', 'filled', 'with', 'frost', 'went', 'to', 'tell', 'everybody', 'but', 'could', 'not', 'get', 'across', 'well', 'wanna', 'be', 'your', 'lover', 'baby', 'don', 'wanna', 'be', 'your', 'boss', 'don', 'say', 'never', 'warned', 'you', 'when', 'your', 'train', 'gets', 'lost', 'well', 'today', 'has', 'been', 'sad', 'ol', 'lonesome', 'day', 'yeah', 'today', 'has', 'been', 'sad', 'ol', 'lonesome', 'day', 'just', 'sittin', 'here', 'thinking', 'with', 'my', 'mind', 'million', 'miles', 'away', 'well', 'they', 're', 'doing', 'the', 'double', 'shuffle', 'throwin', 'sand', 'on', 'the', 'floor', 'they', 're', 'doing', 'the', 'double', 'shuffle', 'they', 're', 'throwin', 'sand', 'on', 'the', 'floor', 'when', 'left', 'my', 'long', 'time', 'darlin', 'she', 'was', 'standing', 'in', 'the', 'door', 'well', 'my', 'pa', 'he', 'died', 'and', 'left', 'me', 'my', 'brother', 'got', 'killed', 'in', 'the', 'war', 'well', 'my', 'pa', 'he', 'died', 'and', 'left', 'me', 'my', 'brother', 'got', 'killed', 'in', 'the', 'war', 'my', 'sister', 'she', 'ran', 'off', 'and', 'got', 'married', 'never', 'was', 'heard', 'of', 'any', 'more', 'samantha', 'brown', 'lived', 'in', 'my', 'house', 'for', 'about', 'four', 'or', 'five', 'months', 'samantha', 'brown', 'lived', 'in', 'my', 'house', 'for', 'about', 'four', 'or', 'five', 'months', 'don', 'know', 'how', 'it', 'looked', 'to', 'other', 'people', 'never', 'slept', 'with', 'her', 'even', 'once', 'well', 'the', 'road', 'washed', 'out', 'weather', 'not', 'fit', 'for', 'man', 'or', 'beast', 'yeah', 'the', 'road', 'washed', 'out', 'weather', 'not', 'fit', 'for', 'man', 'or', 'beast', 'funny', 'how', 'the', 'things', 'you', 'have', 'the', 'hardest', 'time', 'parting', 'with', 'are', 'the', 'things', 'you', 'need', 'the', 'least', 'forty', 'miles', 'from', 'the', 'mill', 'droppin', 'it', 'into', 'overdrive', 'forty', 'miles', 'from', 'the', 'mill', 'droppin', 'it', 'into', 'overdrive', 'settin', 'my', 'dial', 'on', 'the', 'radio', 'wish', 'my', 'mother', 'was', 'still', 'alive', 'see', 'your', 'lover', 'man', 'comin', 'comin', 'cross', 'the', 'barren', 'field', 'see', 'your', 'lover', 'man', 'comin', 'comin', 'cross', 'the', 'barren', 'field', 'he', 'not', 'gentleman', 'at', 'all', 'he', 'rotten', 'to', 'the', 'core', 'he', 'coward', 'and', 'he', 'steals', 'well', 'my', 'captain', 'he', 'decorated', 'he', 'well', 'schooled', 'and', 'he', 'skilled', 'my', 'captain', 'he', 'decorated', 'he', 'well', 'schooled', 'and', 'he', 'skilled', 'he', 'not', 'sentimental', 'don', 'bother', 'him', 'at', 'all', 'how', 'many', 'of', 'his', 'pals', 'have', 'been', 'killed', 'last', 'night', 'the', 'wind', 'was', 'whisperin', 'was', 'trying', 'to', 'make', 'out', 'what', 'it', 'was', 'last', 'night', 'the', 'wind', 'was', 'whisperin', 'somethin', 'was', 'trying', 'to', 'make', 'out', 'what', 'it', 'was', 'tell', 'myself', 'something', 'comin', 'but', 'it', 'never', 'does', 'gonna', 'spare', 'the', 'defeated', 'gonna', 'speak', 'to', 'the', 'crowd', 'gonna', 'spare', 'the', 'defeated', 'boys', 'going', 'to', 'speak', 'to', 'the', 'crowd', 'am', 'goin', 'to', 'teach', 'peace', 'to', 'the', 'conquered', 'gonna', 'tame', 'the', 'proud', 'well', 'the', 'leaves', 'are', 'rustlin', 'in', 'the', 'wood', 'things', 'are', 'fallin', 'off', 'of', 'the', 'shelf', 'leaves', 'are', 'rustlin', 'in', 'the', 'wood', 'things', 'are', 'fallin', 'off', 'the', 'shelf', 'you', 'gonna', 'need', 'my', 'help', 'sweetheart', 'you', 'can', 'make', 'love', 'all', 'by', 'yourself', 'standing', 'on', 'the', 'waters', 'casting', 'your', 'bread', 'while', 'the', 'eyes', 'of', 'the', 'idol', 'with', 'the', 'iron', 'head', 'are', 'glowing', 'distant', 'ships', 'sailing', 'into', 'the', 'mist', 'you', 'were', 'born', 'with', 'snake', 'in', 'both', 'of', 'your', 'fists', 'while', 'hurricane', 'was', 'blowing', 'freedom', 'just', 'around', 'the', 'corner', 'for', 'you', 'but', 'with', 'the', 'truth', 'so', 'far', 'off', 'what', 'good', 'will', 'it', 'do', 'jokerman', 'dance', 'to', 'the', 'nightingale', 'tune', 'bird', 'fly', 'high', 'by', 'the', 'light', 'of', 'the', 'moon', 'oh', 'oh', 'oh', 'jokerman', 'so', 'swiftly', 'the', 'sun', 'sets', 'in', 'the', 'sky', 'you', 'rise', 'up', 'and', 'say', 'goodbye', 'to', 'no', 'one', 'fools', 'rush', 'in', 'where', 'angels', 'fear', 'to', 'tread', 'both', 'of', 'their', 'futures', 'so', 'full', 'of', 'dread', 'you', 'don', 'show', 'one', 'shedding', 'off', 'one', 'more', 'layer', 'of', 'skin', 'keeping', 'one', 'step', 'ahead', 'of', 'the', 'persecutor', 'within', 'jokerman', 'dance', 'to', 'the', 'nightingale', 'tune', 'bird', 'fly', 'high', 'by', 'the', 'light', 'of', 'the', 'moon', 'oh', 'oh', 'oh', 'jokerman', 'you', 're', 'man', 'of', 'the', 'mountains', 'you', 'can', 'walk', 'on', 'the', 'clouds', 'manipulator', 'of', 'crowds', 'you', 're', 'dream', 'twister', 'you', 're', 'going', 'to', 'sodom', 'and', 'gomorrah', 'but', 'what', 'do', 'you', 'care', 'ain', 'nobody', 'there', 'would', 'want', 'to', 'marry', 'your', 'sister', 'friend', 'to', 'the', 'martyr', 'friend', 'to', 'the', 'woman', 'of', 'shame', 'you', 'look', 'into', 'the', 'fiery', 'furnace', 'see', 'the', 'rich', 'man', 'without', 'any', 'name', 'jokerman', 'dance', 'to', 'the', 'nightingale', 'tune', 'bird', 'fly', 'high', 'by', 'the', 'light', 'of', 'the', 'moon', 'oh', 'oh', 'oh', 'jokerman', 'well', 'the', 'book', 'of', 'leviticus', 'and', 'deuteronomy', 'the', 'law', 'of', 'the', 'jungle', 'and', 'the', 'sea', 'are', 'your', 'only', 'teachers', 'in', 'the', 'smoke', 'of', 'the', 'twilight', 'on', 'milk', 'white', 'steed', 'michelangelo', 'indeed', 'could', 've', 'carved', 'out', 'your', 'features', 'resting', 'in', 'the', 'fields', 'far', 'from', 'the', 'turbulent', 'space', 'half', 'asleep', 'near', 'the', 'stars', 'with', 'small', 'dog', 'licking', 'your', 'face', 'jokerman', 'dance', 'to', 'the', 'nightingale', 'tune', 'bird', 'fly', 'high', 'by', 'the', 'light', 'of', 'the', 'moon', 'oh', 'oh', 'oh', 'jokerman', 'well', 'the', 'rifleman', 'stalking', 'the', 'sick', 'and', 'the', 'lame', 'preacherman', 'seeks', 'the', 'same', 'who', 'll', 'get', 'there', 'first', 'is', 'uncertain', 'nightsticks', 'and', 'water', 'cannons', 'tear', 'gas', 'padlocks', 'molotov', 'cocktails', 'and', 'rocks', 'behind', 'every', 'curtain', 'false', 'hearted', 'judges', 'dying', 'in', 'the', 'webs', 'that', 'they', 'spin', 'only', 'matter', 'of', 'time', 'til', 'night', 'comes', 'steppin', 'in', 'jokerman', 'dance', 'to', 'the', 'nightingale', 'tune', 'bird', 'fly', 'high', 'by', 'the', 'light', 'of', 'the', 'moon', 'oh', 'oh', 'oh', 'jokerman', 'it', 'shadowy', 'world', 'skies', 'are', 'slippery', 'grey', 'woman', 'just', 'gave', 'birth', 'to', 'prince', 'today', 'and', 'dressed', 'him', 'in', 'scarlet', 'he', 'll', 'put', 'the', 'priest', 'in', 'his', 'pocket', 'put', 'the', 'blade', 'to', 'the', 'heat', 'take', 'the', 'motherless', 'children', 'off', 'the', 'street', 'and', 'place', 'them', 'at', 'the', 'feet', 'of', 'harlot', 'oh', 'jokerman', 'you', 'know', 'what', 'he', 'wants', 'oh', 'jokerman', 'you', 'don', 'show', 'any', 'response', 'jokerman', 'dance', 'to', 'the', 'nightingale', 'tune', 'bird', 'fly', 'high', 'by', 'the', 'light', 'of', 'the', 'moon', 'oh', 'oh', 'oh', 'jokerman', 'the', 'man', 'in', 'me', 'will', 'do', 'nearly', 'any', 'task', 'and', 'as', 'for', 'compensation', 'there', 'little', 'he', 'would', 'ask', 'take', 'woman', 'like', 'you', 'to', 'get', 'through', 'to', 'the', 'man', 'in', 'me', 'storm', 'clouds', 'are', 'raging', 'all', 'around', 'my', 'door', 'think', 'to', 'myself', 'might', 'not', 'take', 'it', 'anymore', 'take', 'woman', 'like', 'your', 'kind', 'to', 'find', 'the', 'man', 'in', 'me', 'but', 'oh', 'what', 'wonderful', 'feeling', 'just', 'to', 'know', 'that', 'you', 'are', 'near', 'sets', 'my', 'heart', 'reeling', 'from', 'my', 'toes', 'up', 'to', 'my', 'ears', 'the', 'man', 'in', 'me', 'will', 'hide', 'sometimes', 'to', 'keep', 'from', 'bein', 'seen', 'but', 'that', 'just', 'because', 'he', 'doesn', 'want', 'to', 'turn', 'into', 'some', 'machine', 'took', 'woman', 'like', 'you', 'to', 'get', 'through', 'to', 'the', 'man', 'in', 'me', 'man', 'gave', 'names', 'to', 'all', 'the', 'animals', 'in', 'the', 'beginning', 'in', 'the', 'beginning', 'man', 'gave', 'names', 'to', 'all', 'the', 'animals', 'in', 'the', 'beginning', 'long', 'time', 'ago', 'he', 'saw', 'an', 'animal', 'that', 'liked', 'to', 'growl', 'big', 'furry', 'paws', 'and', 'he', 'liked', 'to', 'howl', 'great', 'big', 'furry', 'back', 'and', 'furry', 'hair', 'ah', 'think', 'll', 'call', 'it', 'bear', 'man', 'gave', 'names', 'to', 'all', 'the', 'animals', 'in', 'the', 'beginning', 'in', 'the', 'beginning', 'man', 'gave', 'names', 'to', 'all', 'the', 'animals', 'in', 'the', 'beginning', 'long', 'time', 'ago', 'he', 'saw', 'an', 'animal', 'up', 'on', 'hill', 'chewing', 'up', 'so', 'much', 'grass', 'until', 'she', 'was', 'filled', 'he', 'saw', 'milk', 'comin', 'out', 'but', 'he', 'didn', 'know', 'how', 'ah', 'think', 'll', 'call', 'it', 'cow', 'man', 'gave', 'names', 'to', 'all', 'the', 'animals', 'in', 'the', 'beginning', 'in', 'the', 'beginning', 'man', 'gave', 'names', 'to', 'all', 'the', 'animals', 'in', 'the', 'beginning', 'long', 'time', 'ago', 'he', 'saw', 'an', 'animal', 'that', 'liked', 'to', 'snort', 'horns', 'on', 'his', 'head', 'and', 'they', 'weren', 'too', 'short', 'it', 'looked', 'like', 'there', 'wasn', 'nothin', 'that', 'he', 'couldn', 'pull', 'ah', 'think', 'll', 'call', 'it', 'bull', 'man', 'gave', 'names', 'to', 'all', 'the', 'animals', 'in', 'the', 'beginning', 'in', 'the', 'beginning', 'man', 'gave', 'names', 'to', 'all', 'the', 'animals', 'in', 'the', 'beginning', 'long', 'time', 'ago', 'he', 'saw', 'an', 'animal', 'leavin', 'muddy', 'trail', 'real', 'dirty', 'face', 'and', 'curly', 'tail', 'he', 'wasn', 'too', 'small', 'and', 'he', 'wasn', 'too', 'big', 'ah', 'think', 'll', 'call', 'it', 'pig', 'man', 'gave', 'names', 'to', 'all', 'the', 'animals', 'in', 'the', 'beginning', 'in', 'the', 'beginning', 'man', 'gave', 'names', 'to', 'all', 'the', 'animals', 'in', 'the', 'beginning', 'long', 'time', 'ago', 'next', 'animal', 'that', 'he', 'did', 'meet', 'had', 'wool', 'on', 'his', 'back', 'and', 'hooves', 'on', 'his', 'feet', 'eating', 'grass', 'on', 'mountainside', 'so', 'steep', 'ah', 'think', 'll', 'call', 'it', 'sheep', 'man', 'gave', 'names', 'to', 'all', 'the', 'animals', 'in', 'the', 'beginning', 'in', 'the', 'beginning', 'man', 'gave', 'names', 'to', 'all', 'the', 'animals', 'in', 'the', 'beginning', 'long', 'time', 'ago', 'he', 'saw', 'an', 'animal', 'as', 'smooth', 'as', 'glass', 'slithering', 'his', 'way', 'through', 'the', 'grass', 'saw', 'him', 'disappear', 'by', 'tree', 'near', 'lake', 'shadows', 'are', 'falling', 'and', 've', 'been', 'here', 'all', 'day', 'it', 'too', 'hot', 'to', 'sleep', 'time', 'is', 'running', 'away', 'feel', 'like', 'my', 'soul', 'has', 'turned', 'into', 'steel', 've', 'still', 'got', 'the', 'scars', 'that', 'the', 'sun', 'didn', 'heal', 'there', 'not', 'even', 'room', 'enough', 'to', 'be', 'anywhere', 'it', 'not', 'dark', 'yet', 'but', 'it', 'getting', 'there', 'well', 'my', 'sense', 'of', 'humanity', 'has', 'gone', 'down', 'the', 'drain', 'behind', 'every', 'beautiful', 'thing', 'there', 'been', 'some', 'kind', 'of', 'pain', 'she', 'wrote', 'me', 'letter', 'and', 'she', 'wrote', 'it', 'so', 'kind', 'she', 'put', 'down', 'in', 'writing', 'what', 'was', 'in', 'her', 'mind', 'just', 'don', 'see', 'why', 'should', 'even', 'care', 'it', 'not', 'dark', 'yet', 'but', 'it', 'getting', 'there', 'well', 've', 'been', 'to', 'london', 'and', 've', 'been', 'to', 'gay', 'paree', 've', 'followed', 'the', 'river', 'and', 'got', 'to', 'the', 'sea', 've', 'been', 'down', 'on', 'the', 'bottom', 'of', 'world', 'full', 'of', 'lies', 'ain', 'looking', 'for', 'nothing', 'in', 'anyone', 'eyes', 'sometimes', 'my', 'burden', 'seems', 'more', 'than', 'can', 'bear', 'it', 'not', 'dark', 'yet', 'but', 'it', 'getting', 'there', 'was', 'born', 'here', 'and', 'll', 'die', 'here', 'against', 'my', 'will', 'know', 'it', 'looks', 'like', 'moving', 'but', 'standing', 'still', 'every', 'nerve', 'in', 'my', 'body', 'is', 'so', 'vacant', 'and', 'numb', 'can', 'even', 'remember', 'what', 'it', 'was', 'came', 'here', 'to', 'get', 'away', 'from', 'don', 'even', 'hear', 'murmur', 'of', 'prayer', 'it', 'not', 'dark', 'yet', 'but', 'it', 'getting', 'there', 'your', 'breath', 'is', 'sweet', 'your', 'eyes', 'are', 'like', 'two', 'jewels', 'in', 'the', 'sky', 'your', 'back', 'is', 'straight', 'your', 'hair', 'is', 'smooth', 'on', 'the', 'pillow', 'where', 'you', 'lie', 'but', 'don', 'sense', 'affection', 'no', 'gratitude', 'or', 'love', 'your', 'loyalty', 'is', 'not', 'to', 'me', 'but', 'to', 'the', 'stars', 'above', 'one', 'more', 'cup', 'of', 'coffee', 'for', 'the', 'road', 'one', 'more', 'cup', 'of', 'coffee', 'fore', 'go', 'to', 'the', 'valley', 'below', 'your', 'daddy', 'he', 'an', 'outlaw', 'and', 'wanderer', 'by', 'trade', 'he', 'll', 'teach', 'you', 'how', 'to', 'pick', 'and', 'choose', 'and', 'how', 'to', 'throw', 'the', 'blade', 'he', 'oversees', 'his', 'kingdom', 'so', 'no', 'stranger', 'does', 'intrude', 'his', 'voice', 'it', 'trembles', 'as', 'he', 'calls', 'out', 'for', 'another', 'plate', 'of', 'food', 'one', 'more', 'cup', 'of', 'coffee', 'for', 'the', 'road', 'one', 'more', 'cup', 'of', 'coffee', 'fore', 'go', 'to', 'the', 'valley', 'below', 'your', 'sister', 'sees', 'the', 'future', 'like', 'your', 'mama', 'and', 'yourself', 'you', 've', 'never', 'learned', 'to', 'read', 'or', 'write', 'there', 'no', 'books', 'upon', 'your', 'shelf', 'and', 'your', 'pleasure', 'knows', 'no', 'limits', 'your', 'voice', 'is', 'like', 'meadowlark', 'but', 'your', 'heart', 'is', 'like', 'an', 'ocean', 'mysterious', 'and', 'dark', 'one', 'more', 'cup', 'of', 'coffee', 'for', 'the', 'road', 'one', 'more', 'cup', 'of', 'coffee', 'fore', 'go', 'to', 'the', 'valley', 'below', 'there', 'was', 'little', 'boy', 'and', 'there', 'was', 'little', 'girl', 'and', 'they', 'lived', 'in', 'an', 'alley', 'under', 'the', 'red', 'sky', 'there', 'was', 'little', 'boy', 'and', 'there', 'was', 'little', 'girl', 'and', 'they', 'lived', 'in', 'an', 'alley', 'under', 'the', 'red', 'sky', 'there', 'was', 'an', 'old', 'man', 'and', 'he', 'lived', 'in', 'the', 'moon', 'one', 'summer', 'day', 'he', 'came', 'passing', 'by', 'there', 'was', 'an', 'old', 'man', 'and', 'he', 'lived', 'in', 'the', 'moon', 'and', 'one', 'day', 'he', 'came', 'passing', 'by', 'someday', 'little', 'girl', 'everything', 'for', 'you', 'is', 'gonna', 'be', 'new', 'someday', 'little', 'girl', 'you', 'll', 'have', 'diamond', 'as', 'big', 'as', 'your', 'shoe', 'let', 'the', 'wind', 'blow', 'low', 'let', 'the', 'wind', 'blow', 'high', 'one', 'day', 'the', 'little', 'boy', 'and', 'the', 'little', 'girl', 'were', 'both', 'baked', 'in', 'pie', 'let', 'the', 'wind', 'blow', 'low', 'let', 'the', 'wind', 'blow', 'high', 'one', 'day', 'the', 'little', 'boy', 'and', 'the', 'little', 'girl', 'were', 'both', 'baked', 'in', 'pie', 'this', 'is', 'the', 'key', 'to', 'the', 'kingdom', 'and', 'this', 'is', 'the', 'town', 'this', 'is', 'the', 'blind', 'horse', 'that', 'leads', 'you', 'around', 'let', 'the', 'bird', 'sing', 'let', 'the', 'bird', 'fly', 'one', 'day', 'the', 'man', 'in', 'the', 'moon', 'went', 'home', 'and', 'the', 'river', 'went', 'dry', 'let', 'the', 'bird', 'sing', 'let', 'the', 'bird', 'fly', 'the', 'man', 'in', 'the', 'moon', 'went', 'home', 'and', 'the', 'river', 'went', 'dry', 'god', 'don', 'make', 'no', 'promises', 'that', 'he', 'don', 'keep', 'you', 'got', 'some', 'big', 'dreams', 'baby', 'but', 'in', 'order', 'to', 'dream', 'you', 'gotta', 'still', 'be', 'asleep', 'when', 'you', 'gonna', 'wake', 'up', 'when', 'you', 'gonna', 'wake', 'up', 'when', 'you', 'gonna', 'wake', 'up', 'and', 'strengthen', 'the', 'things', 'that', 'remain', 'counterfeit', 'philosophies', 'have', 'polluted', 'all', 'of', 'your', 'thoughts', 'karl', 'marx', 'has', 'got', 'ya', 'by', 'the', 'throat', 'henry', 'kissinger', 'got', 'you', 'tied', 'up', 'in', 'knots', 'when', 'you', 'gonna', 'wake', 'up', 'when', 'you', 'gonna', 'wake', 'up', 'when', 'you', 'gonna', 'wake', 'up', 'and', 'strengthen', 'the', 'things', 'that', 'remain', 'you', 'got', 'innocent', 'men', 'in', 'jail', 'your', 'insane', 'asylums', 'are', 'filled', 'you', 'got', 'unrighteous', 'doctors', 'dealing', 'drugs', 'that', 'll', 'never', 'cure', 'your', 'ills', 'when', 'you', 'gonna', 'wake', 'up', 'when', 'you', 'gonna', 'wake', 'up', 'when', 'you', 'gonna', 'wake', 'up', 'and', 'strengthen', 'the', 'things', 'that', 'remain', 'you', 'got', 'men', 'who', 'can', 'hold', 'their', 'peace', 'and', 'women', 'who', 'can', 'control', 'their', 'tongues', 'the', 'rich', 'seduce', 'the', 'poor', 'and', 'the', 'old', 'are', 'seduced', 'by', 'the', 'young', 'when', 'you', 'gonna', 'wake', 'up', 'when', 'you', 'gonna', 'wake', 'up', 'when', 'you', 'gonna', 'wake', 'up', 'and', 'strengthen', 'the', 'things', 'that', 'remain', 'adulterers', 'in', 'churches', 'and', 'pornography', 'in', 'the', 'schools', 'you', 'got', 'gangsters', 'in', 'power', 'and', 'lawbreakers', 'making', 'rules', 'when', 'you', 'gonna', 'wake', 'up', 'when', 'you', 'gonna', 'wake', 'up', 'when', 'you', 'gonna', 'wake', 'up', 'and', 'strengthen', 'the', 'things', 'that', 'remain', 'spiritual', 'advisors', 'and', 'gurus', 'to', 'guide', 'your', 'every', 'move', 'instant', 'inner', 'peace', 'and', 'every', 'step', 'you', 'take', 'has', 'got', 'to', 'be', 'approved', 'when', 'you', 'gonna', 'wake', 'up', 'when', 'you', 'gonna', 'wake', 'up', 'when', 'you', 'gonna', 'wake', 'up', 'and', 'strengthen', 'the', 'things', 'that', 'remain', 'do', 'you', 'ever', 'wonder', 'just', 'what', 'god', 'requires', 'you', 'think', 'he', 'just', 'an', 'errand', 'boy', 'to', 'satisfy', 'your', 'wandering', 'desires', 'when', 'you', 'gonna', 'wake', 'up', 'when', 'you', 'gonna', 'wake', 'up', 'when', 'you', 'gonna', 'wake', 'up', 'and', 'strengthen', 'the', 'things', 'that', 'remain', 'you', 'can', 'take', 'it', 'with', 'you', 'and', 'you', 'know', 'that', 'it', 'too', 'worthless', 'to', 'be', 'sold', 'they', 'tell', 'you', 'time', 'is', 'money', 'as', 'if', 'your', 'life', 'was', 'worth', 'its', 'weight', 'in', 'gold', 'when', 'you', 'gonna', 'wake', 'up', 'when', 'you', 'gonna', 'wake', 'up', 'when', 'you', 'gonna', 'wake', 'up', 'and', 'strengthen', 'the', 'things', 'that', 'remain', 'there', 'man', 'up', 'on', 'cross', 'and', 'he', 'been', 'crucified', 'do', 'you', 'have', 'any', 'idea', 'why', 'or', 'for', 'who', 'he', 'died', 'when', 'you', 'gonna', 'wake', 'up', 'when', 'you', 'gonna', 'wake', 'up', 'when', 'you', 'gonna', 'wake', 'up', 'and', 'strengthen', 'the', 'things', 'that', 'remain', 'in', 'the', 'still', 'of', 'the', 'night', 'in', 'the', 'world', 'ancient', 'light', 'where', 'wisdom', 'grows', 'up', 'in', 'strife', 'my', 'bewildering', 'brain', 'toils', 'in', 'vain', 'through', 'the', 'darkness', 'on', 'the', 'pathways', 'of', 'life', 'each', 'invisible', 'prayer', 'is', 'like', 'cloud', 'in', 'the', 'air', 'tomorrow', 'keeps', 'turning', 'around', 'we', 'live', 'and', 'we', 'die', 'we', 'know', 'not', 'why', 'but', 'll', 'be', 'with', 'you', 'when', 'the', 'deal', 'goes', 'down', 'we', 'eat', 'and', 'we', 'drink', 'we', 'feel', 'and', 'we', 'think', 'far', 'down', 'the', 'street', 'we', 'stray', 'laugh', 'and', 'cry', 'and', 'haunted', 'by', 'things', 'never', 'meant', 'nor', 'wished', 'to', 'say', 'the', 'midnight', 'rain', 'follows', 'the', 'train', 'we', 'all', 'wear', 'the', 'same', 'thorny', 'crown', 'soul', 'to', 'soul', 'our', 'shadows', 'roll', 'and', 'll', 'be', 'with', 'you', 'when', 'the', 'deal', 'goes', 'down', 'the', 'moon', 'gives', 'light', 'and', 'shines', 'by', 'night', 'scarcely', 'feel', 'the', 'glow', 'we', 'learn', 'to', 'live', 'and', 'then', 'we', 'forgive', 'er', 'the', 'road', 'we', 're', 'bound', 'to', 'go', 'more', 'frailer', 'than', 'the', 'flowers', 'these', 'precious', 'hours', 'that', 'keep', 'us', 'so', 'tightly', 'bound', 'you', 'come', 'to', 'my', 'eyes', 'like', 'vision', 'from', 'the', 'skies', 'and', 'll', 'be', 'with', 'you', 'when', 'the', 'deal', 'goes', 'down', 'picked', 'up', 'rose', 'and', 'it', 'poked', 'through', 'my', 'clothes', 'followed', 'the', 'winding', 'stream', 'heard', 'deafening', 'noise', 'felt', 'transient', 'joys', 'know', 'they', 're', 'not', 'what', 'they', 'seem', 'in', 'this', 'earthly', 'domain', 'full', 'of', 'disappointment', 'and', 'pain', 'you', 'll', 'never', 'see', 'me', 'frown', 'owe', 'my', 'heart', 'to', 'you', 'and', 'that', 'sayin', 'it', 'true', 'and', 'll', 'be', 'with', 'you', 'when', 'the', 'deal', 'goes', 'down', 'the', 'air', 'is', 'getting', 'hotter', 'there', 'rumbling', 'in', 'the', 'skies', 've', 'been', 'wading', 'through', 'the', 'high', 'muddy', 'water', 'with', 'the', 'heat', 'rising', 'in', 'my', 'eyes', 'every', 'day', 'your', 'memory', 'grows', 'dimmer', 'it', 'doesn', 'haunt', 'me', 'like', 'it', 'did', 'before', 've', 'been', 'walking', 'through', 'the', 'middle', 'of', 'nowhere', 'trying', 'to', 'get', 'to', 'heaven', 'before', 'they', 'close', 'the', 'door', 'when', 'was', 'in', 'missouri', 'they', 'would', 'not', 'let', 'me', 'be', 'had', 'to', 'leave', 'there', 'in', 'hurry', 'only', 'saw', 'what', 'they', 'let', 'me', 'see', 'you', 'broke', 'heart', 'that', 'loved', 'you', 'now', 'you', 'can', 'seal', 'up', 'the', 'book', 'and', 'not', 'write', 'anymore', 've', 'been', 'walking', 'that', 'lonesome', 'valley', 'trying', 'to', 'get', 'to', 'heaven', 'before', 'they', 'close', 'the', 'door', 'people', 'on', 'the', 'platforms', 'waiting', 'for', 'the', 'trains', 'can', 'hear', 'their', 'hearts', 'beatin', 'like', 'pendulums', 'swinging', 'on', 'chains', 'tried', 'to', 'give', 'you', 'everything', 'that', 'your', 'heart', 'was', 'longing', 'for', 'just', 'going', 'down', 'the', 'road', 'feeling', 'bad', 'trying', 'to', 'get', 'to', 'heaven', 'before', 'they', 'close', 'the', 'door', 'going', 'down', 'the', 'river', 'down', 'to', 'new', 'orleans', 'they', 'tell', 'me', 'everything', 'is', 'gonna', 'be', 'all', 'right', 'but', 'don', 'know', 'what', 'all', 'right', 'even', 'means', 'was', 'riding', 'in', 'buggy', 'with', 'miss', 'mary', 'jane', 'miss', 'mary', 'jane', 'got', 'house', 'in', 'baltimore', 'been', 'all', 'around', 'the', 'world', 'boys', 'now', 'trying', 'to', 'get', 'to', 'heaven', 'before', 'they', 'close', 'the', 'door', 'gonna', 'sleep', 'down', 'in', 'the', 'parlor', 'and', 'relive', 'my', 'dreams', 'll', 'close', 'my', 'eyes', 'and', 'wonder', 'if', 'everything', 'is', 'as', 'hollow', 'as', 'it', 'seems', 'some', 'trains', 'don', 'pull', 'no', 'gamblers', 'no', 'midnight', 'ramblers', 'like', 'they', 'did', 'before', 'been', 'to', 'sugar', 'town', 'shook', 'the', 'sugar', 'down', 'now', 'trying', 'to', 'get', 'to', 'heaven', 'before', 'they', 'close', 'the', 'door', 'throw', 'my', 'ticket', 'out', 'the', 'window', 'throw', 'my', 'suitcase', 'out', 'there', 'too', 'throw', 'my', 'troubles', 'out', 'the', 'door', 'don', 'need', 'them', 'anymore', 'cause', 'tonight', 'll', 'be', 'staying', 'here', 'with', 'you', 'should', 'have', 'left', 'this', 'town', 'this', 'morning', 'but', 'it', 'was', 'more', 'than', 'could', 'do', 'oh', 'your', 'love', 'comes', 'on', 'so', 'strong', 'and', 've', 'waited', 'all', 'day', 'long', 'for', 'tonight', 'when', 'll', 'be', 'staying', 'here', 'with', 'you', 'is', 'it', 'really', 'any', 'wonder', 'the', 'love', 'that', 'stranger', 'might', 'receive', 'you', 'cast', 'your', 'spell', 'and', 'went', 'under', 'find', 'it', 'so', 'difficult', 'to', 'leave', 'can', 'hear', 'that', 'whistle', 'blowin', 'see', 'that', 'stationmaster', 'too', 'if', 'there', 'poor', 'boy', 'on', 'the', 'street', 'then', 'let', 'him', 'have', 'my', 'seat', 'cause', 'tonight', 'll', 'be', 'staying', 'here', 'with', 'you', 'throw', 'my', 'ticket', 'out', 'the', 'window', 'throw', 'my', 'suitcase', 'out', 'there', 'too', 'throw', 'my', 'troubles', 'out', 'the', 'door', 'don', 'need', 'them', 'anymore', 'cause', 'tonight', 'll', 'be', 'staying', 'here', 'with', 'you', 'lost', 'john', 'sitting', 'on', 'railroad', 'track', 'something', 'out', 'of', 'wack', 'blues', 'this', 'morning', 'falling', 'down', 'like', 'hail', 'gonna', 'leave', 'greasy', 'trail', 'gonna', 'travel', 'the', 'world', 'is', 'what', 'gonna', 'do', 'then', 'come', 'back', 'and', 'see', 'you', 'all', 'ever', 'do', 'is', 'struggle', 'and', 'strive', 'if', 'don', 'do', 'anybody', 'any', 'harm', 'might', 'make', 'it', 'back', 'home', 'alive', 'the', 'oldest', 'son', 'of', 'crazy', 'man', 'in', 'cowboy', 'band', 'got', 'pile', 'of', 'sins', 'to', 'pay', 'for', 'and', 'ain', 'got', 'time', 'to', 'hide', 'walk', 'through', 'blazing', 'fire', 'baby', 'if', 'knew', 'you', 'was', 'on', 'the', 'other', 'side', 'oh', 'miss', 'you', 'nettie', 'moore', 'and', 'my', 'happiness', 'is', 'er', 'winter', 'gone', 'the', 'river', 'on', 'the', 'rise', 'loved', 'you', 'then', 'and', 'ever', 'shall', 'but', 'there', 'no', 'one', 'here', 'that', 'left', 'to', 'tell', 'the', 'world', 'has', 'gone', 'black', 'before', 'my', 'eyes', 'the', 'world', 'of', 'research', 'has', 'gone', 'berserk', 'too', 'much', 'paperwork', 'albert', 'in', 'the', 'graveyard', 'frankie', 'raising', 'hell', 'beginning', 'to', 'believe', 'what', 'the', 'scriptures', 'tell', 'going', 'where', 'the', 'southern', 'crosses', 'the', 'yellow', 'dog', 'get', 'away', 'from', 'these', 'demagogues', 'and', 'these', 'bad', 'luck', 'women', 'stick', 'like', 'glue', 'it', 'either', 'one', 'or', 'the', 'other', 'or', 'neither', 'of', 'the', 'two', 'she', 'says', 'look', 'out', 'daddy', 'don', 'want', 'you', 'to', 'tear', 'your', 'pants', 'you', 'can', 'get', 'wrecked', 'in', 'this', 'dance', 'they', 'say', 'whiskey', 'will', 'kill', 'ya', 'but', 'don', 'think', 'it', 'will', 'riding', 'with', 'you', 'to', 'the', 'top', 'of', 'the', 'hill', 'oh', 'miss', 'you', 'nettie', 'moore', 'and', 'my', 'happiness', 'is', 'er', 'winter', 'gone', 'the', 'river', 'on', 'the', 'rise', 'loved', 'you', 'then', 'and', 'ever', 'shall', 'but', 'there', 'no', 'one', 'here', 'that', 'left', 'to', 'tell', 'the', 'world', 'has', 'gone', 'black', 'before', 'my', 'eyes', 'don', 'know', 'why', 'my', 'baby', 'never', 'looked', 'so', 'good', 'before', 'don', 'have', 'to', 'wonder', 'no', 'more', 'she', 'been', 'cooking', 'all', 'day', 'and', 'it', 'gonna', 'take', 'me', 'all', 'night', 'can', 'eat', 'all', 'that', 'stuff', 'in', 'single', 'bite', 'the', 'judge', 'is', 'coming', 'in', 'everybody', 'rise', 'lift', 'up', 'your', 'eyes', 'you', 'can', 'do', 'what', 'you', 'please', 'you', 'don', 'need', 'my', 'advice', 'before', 'you', 'call', 'me', 'any', 'dirty', 'names', 'you', 'better', 'think', 'twice', 'getting', 'light', 'outside', 'the', 'temperature', 'dropped', 'think', 'the', 'rain', 'has', 'stopped', 'going', 'to', 'make', 'you', 'come', 'to', 'grips', 'with', 'fate', 'when', 'through', 'with', 'you', 'you', 'll', 'learn', 'to', 'keep', 'your', 'business', 'straight', 'oh', 'miss', 'you', 'nettie', 'moore', 'and', 'my', 'happiness', 'is', 'er', 'winter', 'gone', 'the', 'river', 'on', 'the', 'rise', 'loved', 'you', 'then', 'and', 'ever', 'shall', 'but', 'there', 'no', 'one', 'here', 'that', 'left', 'to', 'tell', 'the', 'world', 'has', 'gone', 'black', 'before', 'my', 'eyes', 'the', 'bright', 'spark', 'of', 'the', 'steady', 'lights', 'has', 'dimmed', 'my', 'sights', 'when', 'you', 're', 'around', 'all', 'my', 'grief', 'gives', 'way', 'lifetime', 'with', 'you', 'is', 'like', 'some', 'heavenly', 'day', 'everything', 've', 'ever', 'known', 'to', 'be', 'right', 'has', 'proven', 'wrong', 'll', 'be', 'drifting', 'along', 'the', 'woman', 'lovin', 'she', 'rules', 'my', 'heart', 'no', 'knife', 'could', 'ever', 'cut', 'our', 'love', 'apart', 'today', 'll', 'stand', 'in', 'faith', 'and', 'raise', 'the', 'voice', 'of', 'praise', 'the', 'sun', 'is', 'strong', 'standing', 'in', 'the', 'light', 'wish', 'to', 'god', 'that', 'it', 'were', 'night', 'oh', 'miss', 'you', 'nettie', 'moore', 'and', 'my', 'happiness', 'is', 'er', 'winter', 'gone', 'the', 'river', 'on', 'the', 'rise', 'loved', 'you', 'then', 'and', 'ever', 'shall', 'but', 'there', 'no', 'one', 'here', 'that', 'left', 'to', 'tell', 'the', 'world', 'has', 'gone', 'black', 'before', 'my', 'eyes', 'just', 'like', 'old', 'saxophone', 'joe', 'when', 'he', 'got', 'the', 'hogshead', 'up', 'on', 'his', 'toe', 'oh', 'me', 'oh', 'my', 'love', 'that', 'country', 'pie', 'listen', 'to', 'the', 'fiddler', 'play', 'when', 'he', 'playin', 'til', 'the', 'break', 'of', 'day', 'oh', 'me', 'oh', 'my', 'love', 'that', 'country', 'pie', 'raspberry', 'strawberry', 'lemon', 'and', 'lime', 'what', 'do', 'care'], tags=[1])]"
            ]
          },
          "metadata": {
            "tags": []
          },
          "execution_count": 86
        }
      ]
    },
    {
      "cell_type": "markdown",
      "metadata": {
        "id": "eOEuiyyRRhqo",
        "colab_type": "text"
      },
      "source": [
        "# Topic Models\n",
        "* We could look to Topic Modeling\n",
        "* Apply LSA or LDA \n",
        "* Settle on number of topics using Coherence metric\n",
        "* Map documents to LSA / LDA space (vectorized document)\n",
        "* Compare similarity "
      ]
    },
    {
      "cell_type": "markdown",
      "metadata": {
        "id": "JC3-gwUuIBOn",
        "colab_type": "text"
      },
      "source": [
        "# Word2Vec\n",
        "* Approach to map a word to a low dimensional space\n",
        "* Build using a language model and word co-occurence (predict words)\n",
        "* Implemented using Skip-Gram or Continuous Bag of Words\n",
        "\n",
        "![Img](https://www.researchgate.net/profile/Nailah_Al-Madi/publication/319954363/figure/fig1/AS:552189871353858@1508663732919/CBOW-and-Skip-gram-models-architecture-1.png)"
      ]
    },
    {
      "cell_type": "markdown",
      "metadata": {
        "id": "BnWMMZbycOQA",
        "colab_type": "text"
      },
      "source": [
        "## Embedding Algebra"
      ]
    },
    {
      "cell_type": "markdown",
      "metadata": {
        "id": "qhIP7o55cAxR",
        "colab_type": "text"
      },
      "source": [
        "![](https://www.researchgate.net/profile/Joshua_Peterson2/publication/316921211/figure/fig2/AS:667626124619787@1536185880504/The-parallelogram-model-of-analogy-completes-the-analogy-king-queen-man-by.png)"
      ]
    },
    {
      "cell_type": "markdown",
      "metadata": {
        "id": "Mngqq6mBnSMK",
        "colab_type": "text"
      },
      "source": [
        "## Load\n",
        "* We'll pull global vectors built from wiki\n",
        "* This embedding represents words in 50 dimensions"
      ]
    },
    {
      "cell_type": "code",
      "metadata": {
        "id": "j5x8Z5m6LYQV",
        "colab_type": "code",
        "colab": {
          "base_uri": "https://localhost:8080/",
          "height": 71
        },
        "outputId": "09cf8f9b-fa46-4172-f7e6-9a2284fc32f0"
      },
      "source": [
        "wv = api.load('glove-wiki-gigaword-50')"
      ],
      "execution_count": 87,
      "outputs": [
        {
          "output_type": "stream",
          "text": [
            "/usr/local/lib/python3.6/dist-packages/smart_open/smart_open_lib.py:254: UserWarning: This function is deprecated, use smart_open.open instead. See the migration notes for details: https://github.com/RaRe-Technologies/smart_open/blob/master/README.rst#migrating-to-the-new-open-function\n",
            "  'See the migration notes for details: %s' % _MIGRATION_NOTES_URL\n"
          ],
          "name": "stderr"
        }
      ]
    },
    {
      "cell_type": "markdown",
      "metadata": {
        "id": "3MsEB3yIn3LD",
        "colab_type": "text"
      },
      "source": [
        "## GloVe\n",
        "* GloVe came out of Stanford (https://nlp.stanford.edu/pubs/glove.pdf)\n",
        "* Researched what is Word2Vec optimizing\n",
        "* Dramatic improvement in run time\n",
        "* Similar to Word2Vec\n",
        "  * Captures co-occurrence statistics\n",
        "  * Distance between embeddings"
      ]
    },
    {
      "cell_type": "markdown",
      "metadata": {
        "id": "T8yiFsHNJNYl",
        "colab_type": "text"
      },
      "source": [
        "# Mean of Word Embeddings\n",
        "* Look up the embedding for each word in the document's corpus\n",
        "* Average the unique embeddings in the document\n",
        "* Builds on the algebraic properties of embeddings in word2vec"
      ]
    },
    {
      "cell_type": "markdown",
      "metadata": {
        "id": "pKWejbEGQUVs",
        "colab_type": "text"
      },
      "source": [
        "## MOWE"
      ]
    },
    {
      "cell_type": "code",
      "metadata": {
        "id": "Btx8lBb8K6xC",
        "colab_type": "code",
        "colab": {}
      },
      "source": [
        "def compute_mowe(corpus):\n",
        "  mowe = []\n",
        "\n",
        "  for doc in corpus:\n",
        "    bag = set()\n",
        "    words = 0\n",
        "    vec = None\n",
        "\n",
        "    for word in doc.words:\n",
        "      if word in bag:\n",
        "        continue\n",
        "      bag.add(word)\n",
        "\n",
        "      if word in wv.vocab:\n",
        "        vec = wv.word_vec(word) if vec is None else vec + wv.word_vec(word)\n",
        "        words += 1\n",
        "\n",
        "    vec = vec / words\n",
        "    mowe.append(vec)\n",
        "  \n",
        "  return mowe\n",
        "\n",
        "train_mowe = compute_mowe(train_corpus)\n",
        "test_mowe  = compute_mowe(test_corpus)"
      ],
      "execution_count": 88,
      "outputs": []
    },
    {
      "cell_type": "code",
      "metadata": {
        "id": "UkSSRltcixl3",
        "colab_type": "code",
        "colab": {
          "base_uri": "https://localhost:8080/",
          "height": 238
        },
        "outputId": "cbfad651-a01d-43ff-8e92-43691d6b631b"
      },
      "source": [
        "train_mowe[0]"
      ],
      "execution_count": 89,
      "outputs": [
        {
          "output_type": "execute_result",
          "data": {
            "text/plain": [
              "array([ 1.54950336e-01,  4.86932844e-02, -5.89837367e-03, -2.91883439e-01,\n",
              "        2.88334399e-01,  6.17414564e-02, -2.34456003e-01,  9.05345753e-02,\n",
              "       -7.93985054e-02,  1.10978894e-01, -7.67452344e-02,  1.35282323e-01,\n",
              "       -1.06742002e-01,  4.55242582e-02,  3.58889312e-01,  2.27107227e-01,\n",
              "        5.71474433e-02,  1.24719357e-02, -1.33265048e-01, -3.96098226e-01,\n",
              "       -9.29171667e-02,  2.28529528e-01,  3.03278029e-01,  3.97048220e-02,\n",
              "        2.74321079e-01, -1.06808078e+00, -3.62022132e-01,  2.75569260e-01,\n",
              "        4.85836953e-01, -3.33712518e-01,  2.06391025e+00,  2.67924607e-01,\n",
              "       -1.57810912e-01, -2.93849725e-02, -8.08097050e-02,  5.92822805e-02,\n",
              "        3.92161235e-02,  1.40430881e-02,  1.35458097e-01, -2.66414702e-01,\n",
              "       -1.17865518e-01,  1.59786525e-03, -3.20789032e-02,  2.25130722e-01,\n",
              "        1.91300213e-01,  2.20919233e-02, -1.29248267e-02, -2.55970389e-01,\n",
              "       -1.10096335e-02, -2.80430745e-02], dtype=float32)"
            ]
          },
          "metadata": {
            "tags": []
          },
          "execution_count": 89
        }
      ]
    },
    {
      "cell_type": "markdown",
      "metadata": {
        "id": "gf8r2F6vQQmL",
        "colab_type": "text"
      },
      "source": [
        "## Similarity"
      ]
    },
    {
      "cell_type": "code",
      "metadata": {
        "id": "hWs99jzHf-po",
        "colab_type": "code",
        "colab": {
          "base_uri": "https://localhost:8080/",
          "height": 1000
        },
        "outputId": "cb6bbe44-3286-4a4f-b498-03abe43baf3b"
      },
      "source": [
        "results = []\n",
        "\n",
        "counter = 0\n",
        "for test_doc in test_mowe:\n",
        "  test_doc = test_mowe[counter].reshape(1, -1)\n",
        "\n",
        "  artist_sim = []\n",
        "  for train_doc in train_mowe:\n",
        "    sim = cosine_similarity(train_doc.reshape(1, -1), test_doc).squeeze()\n",
        "    artist_sim.append(sim)  \n",
        "  \n",
        "  max = np.argmax(artist_sim)\n",
        "  min = np.argmin(artist_sim)\n",
        "  results.append({\n",
        "      'artist' : id2artist[counter],\n",
        "      'most_similar' : id2artist[max],\n",
        "      'most': np.max(artist_sim),\n",
        "      'least_similar' : id2artist[min],\n",
        "      'least': np.min(artist_sim)\n",
        "  })\n",
        "  counter += 1\n",
        "\n",
        "frame = pd.DataFrame(results)\n",
        "print('Matches', np.sum(np.where(frame.artist == frame.most_similar, 1, 0)))\n",
        "frame"
      ],
      "execution_count": 90,
      "outputs": [
        {
          "output_type": "stream",
          "text": [
            "Matches 24\n"
          ],
          "name": "stdout"
        },
        {
          "output_type": "execute_result",
          "data": {
            "text/html": [
              "<div>\n",
              "<style scoped>\n",
              "    .dataframe tbody tr th:only-of-type {\n",
              "        vertical-align: middle;\n",
              "    }\n",
              "\n",
              "    .dataframe tbody tr th {\n",
              "        vertical-align: top;\n",
              "    }\n",
              "\n",
              "    .dataframe thead th {\n",
              "        text-align: right;\n",
              "    }\n",
              "</style>\n",
              "<table border=\"1\" class=\"dataframe\">\n",
              "  <thead>\n",
              "    <tr style=\"text-align: right;\">\n",
              "      <th></th>\n",
              "      <th>artist</th>\n",
              "      <th>most_similar</th>\n",
              "      <th>most</th>\n",
              "      <th>least_similar</th>\n",
              "      <th>least</th>\n",
              "    </tr>\n",
              "  </thead>\n",
              "  <tbody>\n",
              "    <tr>\n",
              "      <th>0</th>\n",
              "      <td>nirvana</td>\n",
              "      <td>nirvana</td>\n",
              "      <td>0.997396</td>\n",
              "      <td>missy-elliott</td>\n",
              "      <td>0.954433</td>\n",
              "    </tr>\n",
              "    <tr>\n",
              "      <th>1</th>\n",
              "      <td>bob-dylan</td>\n",
              "      <td>dolly-parton</td>\n",
              "      <td>0.996203</td>\n",
              "      <td>dickinson</td>\n",
              "      <td>0.961341</td>\n",
              "    </tr>\n",
              "    <tr>\n",
              "      <th>2</th>\n",
              "      <td>dolly-parton</td>\n",
              "      <td>dolly-parton</td>\n",
              "      <td>0.998775</td>\n",
              "      <td>dickinson</td>\n",
              "      <td>0.950177</td>\n",
              "    </tr>\n",
              "    <tr>\n",
              "      <th>3</th>\n",
              "      <td>jimi-hendrix</td>\n",
              "      <td>janisjoplin</td>\n",
              "      <td>0.997687</td>\n",
              "      <td>dickinson</td>\n",
              "      <td>0.939707</td>\n",
              "    </tr>\n",
              "    <tr>\n",
              "      <th>4</th>\n",
              "      <td>alicia-keys</td>\n",
              "      <td>al-green</td>\n",
              "      <td>0.998158</td>\n",
              "      <td>dickinson</td>\n",
              "      <td>0.942114</td>\n",
              "    </tr>\n",
              "    <tr>\n",
              "      <th>5</th>\n",
              "      <td>kanye-west</td>\n",
              "      <td>kanye-west</td>\n",
              "      <td>0.997076</td>\n",
              "      <td>dickinson</td>\n",
              "      <td>0.924841</td>\n",
              "    </tr>\n",
              "    <tr>\n",
              "      <th>6</th>\n",
              "      <td>rihanna</td>\n",
              "      <td>janisjoplin</td>\n",
              "      <td>0.997364</td>\n",
              "      <td>dickinson</td>\n",
              "      <td>0.939276</td>\n",
              "    </tr>\n",
              "    <tr>\n",
              "      <th>7</th>\n",
              "      <td>dj-khaled</td>\n",
              "      <td>dj-khaled</td>\n",
              "      <td>0.997465</td>\n",
              "      <td>dickinson</td>\n",
              "      <td>0.935030</td>\n",
              "    </tr>\n",
              "    <tr>\n",
              "      <th>8</th>\n",
              "      <td>eminem</td>\n",
              "      <td>eminem</td>\n",
              "      <td>0.998251</td>\n",
              "      <td>dickinson</td>\n",
              "      <td>0.946674</td>\n",
              "    </tr>\n",
              "    <tr>\n",
              "      <th>9</th>\n",
              "      <td>amy-winehouse</td>\n",
              "      <td>amy-winehouse</td>\n",
              "      <td>0.998092</td>\n",
              "      <td>dickinson</td>\n",
              "      <td>0.946748</td>\n",
              "    </tr>\n",
              "    <tr>\n",
              "      <th>10</th>\n",
              "      <td>ludacris</td>\n",
              "      <td>lil-wayne</td>\n",
              "      <td>0.998706</td>\n",
              "      <td>dickinson</td>\n",
              "      <td>0.936131</td>\n",
              "    </tr>\n",
              "    <tr>\n",
              "      <th>11</th>\n",
              "      <td>britney-spears</td>\n",
              "      <td>janisjoplin</td>\n",
              "      <td>0.997482</td>\n",
              "      <td>dickinson</td>\n",
              "      <td>0.946250</td>\n",
              "    </tr>\n",
              "    <tr>\n",
              "      <th>12</th>\n",
              "      <td>lorde</td>\n",
              "      <td>lorde</td>\n",
              "      <td>0.997481</td>\n",
              "      <td>dickinson</td>\n",
              "      <td>0.948548</td>\n",
              "    </tr>\n",
              "    <tr>\n",
              "      <th>13</th>\n",
              "      <td>radiohead</td>\n",
              "      <td>nirvana</td>\n",
              "      <td>0.996184</td>\n",
              "      <td>dickinson</td>\n",
              "      <td>0.956444</td>\n",
              "    </tr>\n",
              "    <tr>\n",
              "      <th>14</th>\n",
              "      <td>bruno-mars</td>\n",
              "      <td>bruno-mars</td>\n",
              "      <td>0.993583</td>\n",
              "      <td>dickinson</td>\n",
              "      <td>0.899167</td>\n",
              "    </tr>\n",
              "    <tr>\n",
              "      <th>15</th>\n",
              "      <td>missy-elliott</td>\n",
              "      <td>nicki-minaj</td>\n",
              "      <td>0.997429</td>\n",
              "      <td>dickinson</td>\n",
              "      <td>0.924309</td>\n",
              "    </tr>\n",
              "    <tr>\n",
              "      <th>16</th>\n",
              "      <td>nursery_rhymes</td>\n",
              "      <td>nursery_rhymes</td>\n",
              "      <td>0.991898</td>\n",
              "      <td>dickinson</td>\n",
              "      <td>0.922916</td>\n",
              "    </tr>\n",
              "    <tr>\n",
              "      <th>17</th>\n",
              "      <td>lin-manuel-miranda</td>\n",
              "      <td>lin-manuel-miranda</td>\n",
              "      <td>0.996609</td>\n",
              "      <td>missy-elliott</td>\n",
              "      <td>0.915357</td>\n",
              "    </tr>\n",
              "    <tr>\n",
              "      <th>18</th>\n",
              "      <td>dr-seuss</td>\n",
              "      <td>beatles</td>\n",
              "      <td>0.992659</td>\n",
              "      <td>dickinson</td>\n",
              "      <td>0.920755</td>\n",
              "    </tr>\n",
              "    <tr>\n",
              "      <th>19</th>\n",
              "      <td>blink-182</td>\n",
              "      <td>blink-182</td>\n",
              "      <td>0.998157</td>\n",
              "      <td>dickinson</td>\n",
              "      <td>0.949433</td>\n",
              "    </tr>\n",
              "    <tr>\n",
              "      <th>20</th>\n",
              "      <td>nickelback</td>\n",
              "      <td>nickelback</td>\n",
              "      <td>0.997151</td>\n",
              "      <td>dickinson</td>\n",
              "      <td>0.941702</td>\n",
              "    </tr>\n",
              "    <tr>\n",
              "      <th>21</th>\n",
              "      <td>joni-mitchell</td>\n",
              "      <td>joni-mitchell</td>\n",
              "      <td>0.997951</td>\n",
              "      <td>missy-elliott</td>\n",
              "      <td>0.959521</td>\n",
              "    </tr>\n",
              "    <tr>\n",
              "      <th>22</th>\n",
              "      <td>adele</td>\n",
              "      <td>adele</td>\n",
              "      <td>0.997932</td>\n",
              "      <td>missy-elliott</td>\n",
              "      <td>0.947952</td>\n",
              "    </tr>\n",
              "    <tr>\n",
              "      <th>23</th>\n",
              "      <td>al-green</td>\n",
              "      <td>al-green</td>\n",
              "      <td>0.997530</td>\n",
              "      <td>dickinson</td>\n",
              "      <td>0.937299</td>\n",
              "    </tr>\n",
              "    <tr>\n",
              "      <th>24</th>\n",
              "      <td>patti-smith</td>\n",
              "      <td>paul-simon</td>\n",
              "      <td>0.996169</td>\n",
              "      <td>missy-elliott</td>\n",
              "      <td>0.946835</td>\n",
              "    </tr>\n",
              "    <tr>\n",
              "      <th>25</th>\n",
              "      <td>johnny-cash</td>\n",
              "      <td>johnny-cash</td>\n",
              "      <td>0.995299</td>\n",
              "      <td>dickinson</td>\n",
              "      <td>0.935158</td>\n",
              "    </tr>\n",
              "    <tr>\n",
              "      <th>26</th>\n",
              "      <td>dickinson</td>\n",
              "      <td>dickinson</td>\n",
              "      <td>0.992140</td>\n",
              "      <td>missy-elliott</td>\n",
              "      <td>0.929531</td>\n",
              "    </tr>\n",
              "    <tr>\n",
              "      <th>27</th>\n",
              "      <td>paul-simon</td>\n",
              "      <td>paul-simon</td>\n",
              "      <td>0.997805</td>\n",
              "      <td>missy-elliott</td>\n",
              "      <td>0.949648</td>\n",
              "    </tr>\n",
              "    <tr>\n",
              "      <th>28</th>\n",
              "      <td>bieber</td>\n",
              "      <td>al-green</td>\n",
              "      <td>0.997808</td>\n",
              "      <td>dickinson</td>\n",
              "      <td>0.938821</td>\n",
              "    </tr>\n",
              "    <tr>\n",
              "      <th>29</th>\n",
              "      <td>r-kelly</td>\n",
              "      <td>janisjoplin</td>\n",
              "      <td>0.997492</td>\n",
              "      <td>dickinson</td>\n",
              "      <td>0.940692</td>\n",
              "    </tr>\n",
              "    <tr>\n",
              "      <th>30</th>\n",
              "      <td>lady-gaga</td>\n",
              "      <td>r-kelly</td>\n",
              "      <td>0.996190</td>\n",
              "      <td>dickinson</td>\n",
              "      <td>0.947124</td>\n",
              "    </tr>\n",
              "    <tr>\n",
              "      <th>31</th>\n",
              "      <td>bob-marley</td>\n",
              "      <td>bob-marley</td>\n",
              "      <td>0.996492</td>\n",
              "      <td>dickinson</td>\n",
              "      <td>0.934539</td>\n",
              "    </tr>\n",
              "    <tr>\n",
              "      <th>32</th>\n",
              "      <td>michael-jackson</td>\n",
              "      <td>alicia-keys</td>\n",
              "      <td>0.995898</td>\n",
              "      <td>dickinson</td>\n",
              "      <td>0.936080</td>\n",
              "    </tr>\n",
              "    <tr>\n",
              "      <th>33</th>\n",
              "      <td>bjork</td>\n",
              "      <td>al-green</td>\n",
              "      <td>0.993587</td>\n",
              "      <td>dickinson</td>\n",
              "      <td>0.945686</td>\n",
              "    </tr>\n",
              "    <tr>\n",
              "      <th>34</th>\n",
              "      <td>prince</td>\n",
              "      <td>prince</td>\n",
              "      <td>0.998304</td>\n",
              "      <td>dickinson</td>\n",
              "      <td>0.949587</td>\n",
              "    </tr>\n",
              "    <tr>\n",
              "      <th>35</th>\n",
              "      <td>lil-wayne</td>\n",
              "      <td>dj-khaled</td>\n",
              "      <td>0.996685</td>\n",
              "      <td>dickinson</td>\n",
              "      <td>0.933734</td>\n",
              "    </tr>\n",
              "    <tr>\n",
              "      <th>36</th>\n",
              "      <td>cake</td>\n",
              "      <td>blink-182</td>\n",
              "      <td>0.995750</td>\n",
              "      <td>dickinson</td>\n",
              "      <td>0.953599</td>\n",
              "    </tr>\n",
              "    <tr>\n",
              "      <th>37</th>\n",
              "      <td>disney</td>\n",
              "      <td>dolly-parton</td>\n",
              "      <td>0.994817</td>\n",
              "      <td>dickinson</td>\n",
              "      <td>0.948293</td>\n",
              "    </tr>\n",
              "    <tr>\n",
              "      <th>38</th>\n",
              "      <td>leonard-cohen</td>\n",
              "      <td>paul-simon</td>\n",
              "      <td>0.995279</td>\n",
              "      <td>missy-elliott</td>\n",
              "      <td>0.944784</td>\n",
              "    </tr>\n",
              "    <tr>\n",
              "      <th>39</th>\n",
              "      <td>janisjoplin</td>\n",
              "      <td>janisjoplin</td>\n",
              "      <td>0.996715</td>\n",
              "      <td>dickinson</td>\n",
              "      <td>0.920778</td>\n",
              "    </tr>\n",
              "    <tr>\n",
              "      <th>40</th>\n",
              "      <td>bruce-springsteen</td>\n",
              "      <td>bruce-springsteen</td>\n",
              "      <td>0.995634</td>\n",
              "      <td>dickinson</td>\n",
              "      <td>0.938621</td>\n",
              "    </tr>\n",
              "    <tr>\n",
              "      <th>41</th>\n",
              "      <td>beatles</td>\n",
              "      <td>janisjoplin</td>\n",
              "      <td>0.997262</td>\n",
              "      <td>dickinson</td>\n",
              "      <td>0.931601</td>\n",
              "    </tr>\n",
              "    <tr>\n",
              "      <th>42</th>\n",
              "      <td>notorious-big</td>\n",
              "      <td>lil-wayne</td>\n",
              "      <td>0.998318</td>\n",
              "      <td>dickinson</td>\n",
              "      <td>0.935270</td>\n",
              "    </tr>\n",
              "    <tr>\n",
              "      <th>43</th>\n",
              "      <td>drake</td>\n",
              "      <td>drake</td>\n",
              "      <td>0.998378</td>\n",
              "      <td>dickinson</td>\n",
              "      <td>0.935049</td>\n",
              "    </tr>\n",
              "    <tr>\n",
              "      <th>44</th>\n",
              "      <td>nicki-minaj</td>\n",
              "      <td>nicki-minaj</td>\n",
              "      <td>0.997915</td>\n",
              "      <td>dickinson</td>\n",
              "      <td>0.923757</td>\n",
              "    </tr>\n",
              "  </tbody>\n",
              "</table>\n",
              "</div>"
            ],
            "text/plain": [
              "                artist        most_similar      most  least_similar     least\n",
              "0              nirvana             nirvana  0.997396  missy-elliott  0.954433\n",
              "1            bob-dylan        dolly-parton  0.996203      dickinson  0.961341\n",
              "2         dolly-parton        dolly-parton  0.998775      dickinson  0.950177\n",
              "3         jimi-hendrix         janisjoplin  0.997687      dickinson  0.939707\n",
              "4          alicia-keys            al-green  0.998158      dickinson  0.942114\n",
              "5           kanye-west          kanye-west  0.997076      dickinson  0.924841\n",
              "6              rihanna         janisjoplin  0.997364      dickinson  0.939276\n",
              "7            dj-khaled           dj-khaled  0.997465      dickinson  0.935030\n",
              "8               eminem              eminem  0.998251      dickinson  0.946674\n",
              "9        amy-winehouse       amy-winehouse  0.998092      dickinson  0.946748\n",
              "10            ludacris           lil-wayne  0.998706      dickinson  0.936131\n",
              "11      britney-spears         janisjoplin  0.997482      dickinson  0.946250\n",
              "12               lorde               lorde  0.997481      dickinson  0.948548\n",
              "13           radiohead             nirvana  0.996184      dickinson  0.956444\n",
              "14          bruno-mars          bruno-mars  0.993583      dickinson  0.899167\n",
              "15       missy-elliott         nicki-minaj  0.997429      dickinson  0.924309\n",
              "16      nursery_rhymes      nursery_rhymes  0.991898      dickinson  0.922916\n",
              "17  lin-manuel-miranda  lin-manuel-miranda  0.996609  missy-elliott  0.915357\n",
              "18            dr-seuss             beatles  0.992659      dickinson  0.920755\n",
              "19           blink-182           blink-182  0.998157      dickinson  0.949433\n",
              "20          nickelback          nickelback  0.997151      dickinson  0.941702\n",
              "21       joni-mitchell       joni-mitchell  0.997951  missy-elliott  0.959521\n",
              "22               adele               adele  0.997932  missy-elliott  0.947952\n",
              "23            al-green            al-green  0.997530      dickinson  0.937299\n",
              "24         patti-smith          paul-simon  0.996169  missy-elliott  0.946835\n",
              "25         johnny-cash         johnny-cash  0.995299      dickinson  0.935158\n",
              "26           dickinson           dickinson  0.992140  missy-elliott  0.929531\n",
              "27          paul-simon          paul-simon  0.997805  missy-elliott  0.949648\n",
              "28              bieber            al-green  0.997808      dickinson  0.938821\n",
              "29             r-kelly         janisjoplin  0.997492      dickinson  0.940692\n",
              "30           lady-gaga             r-kelly  0.996190      dickinson  0.947124\n",
              "31          bob-marley          bob-marley  0.996492      dickinson  0.934539\n",
              "32     michael-jackson         alicia-keys  0.995898      dickinson  0.936080\n",
              "33               bjork            al-green  0.993587      dickinson  0.945686\n",
              "34              prince              prince  0.998304      dickinson  0.949587\n",
              "35           lil-wayne           dj-khaled  0.996685      dickinson  0.933734\n",
              "36                cake           blink-182  0.995750      dickinson  0.953599\n",
              "37              disney        dolly-parton  0.994817      dickinson  0.948293\n",
              "38       leonard-cohen          paul-simon  0.995279  missy-elliott  0.944784\n",
              "39         janisjoplin         janisjoplin  0.996715      dickinson  0.920778\n",
              "40   bruce-springsteen   bruce-springsteen  0.995634      dickinson  0.938621\n",
              "41             beatles         janisjoplin  0.997262      dickinson  0.931601\n",
              "42       notorious-big           lil-wayne  0.998318      dickinson  0.935270\n",
              "43               drake               drake  0.998378      dickinson  0.935049\n",
              "44         nicki-minaj         nicki-minaj  0.997915      dickinson  0.923757"
            ]
          },
          "metadata": {
            "tags": []
          },
          "execution_count": 90
        }
      ]
    },
    {
      "cell_type": "markdown",
      "metadata": {
        "id": "nNlt-9gqJNjT",
        "colab_type": "text"
      },
      "source": [
        "# Weighted MOWE\n",
        "* A weighted average approach builds on a simple average based on bag of words\n",
        "* We take the frequencies of the words in the document to weight"
      ]
    },
    {
      "cell_type": "markdown",
      "metadata": {
        "id": "YBKrzkT9k9AO",
        "colab_type": "text"
      },
      "source": [
        "## W-MOWE"
      ]
    },
    {
      "cell_type": "code",
      "metadata": {
        "id": "k1UZPLr4RCoT",
        "colab_type": "code",
        "colab": {}
      },
      "source": [
        "def compute_weighted_mowe(corpus):\n",
        "  mowe = []\n",
        "\n",
        "  for doc in corpus:\n",
        "    vec = None\n",
        "    words = 0\n",
        "\n",
        "    for word in doc.words:\n",
        "      if word in wv.vocab:\n",
        "        vec = wv.word_vec(word) if vec is None else vec + wv.word_vec(word)\n",
        "        words += 1\n",
        "\n",
        "    vec = vec / words\n",
        "    mowe.append(vec)\n",
        "  \n",
        "  return mowe\n",
        "\n",
        "train_weighted_mowe = compute_weighted_mowe(train_corpus)\n",
        "test_weighted_mowe  = compute_weighted_mowe(test_corpus)"
      ],
      "execution_count": 91,
      "outputs": []
    },
    {
      "cell_type": "code",
      "metadata": {
        "id": "p2qLi2Ymkwhw",
        "colab_type": "code",
        "colab": {
          "base_uri": "https://localhost:8080/",
          "height": 204
        },
        "outputId": "b0e01d28-f29f-473c-f9b1-0bbefdfb528e"
      },
      "source": [
        "train_weighted_mowe[0]"
      ],
      "execution_count": 92,
      "outputs": [
        {
          "output_type": "execute_result",
          "data": {
            "text/plain": [
              "array([ 0.19559497,  0.11724761,  0.00607274, -0.26764312,  0.37272996,\n",
              "       -0.00441005, -0.37493387,  0.06237694, -0.21506894,  0.08326995,\n",
              "       -0.07717003,  0.25325766, -0.2991491 , -0.05970439,  0.5339159 ,\n",
              "        0.28429908,  0.1188302 ,  0.03791129, -0.1660163 , -0.47083682,\n",
              "       -0.1320999 ,  0.32936293,  0.36215812,  0.08034883,  0.359624  ,\n",
              "       -1.5455637 , -0.4903922 ,  0.1924811 ,  0.47487378, -0.53221357,\n",
              "        2.87099   ,  0.3474461 , -0.3326021 , -0.12064427, -0.04965992,\n",
              "       -0.04459094,  0.107208  ,  0.05076714,  0.18876286, -0.28145605,\n",
              "       -0.1556599 ,  0.07327984, -0.05377859,  0.20016786,  0.10080919,\n",
              "        0.02889267, -0.07625623, -0.26759976, -0.04125334,  0.1480381 ],\n",
              "      dtype=float32)"
            ]
          },
          "metadata": {
            "tags": []
          },
          "execution_count": 92
        }
      ]
    },
    {
      "cell_type": "markdown",
      "metadata": {
        "id": "y6bwuVMxk6rW",
        "colab_type": "text"
      },
      "source": [
        "## Similarity"
      ]
    },
    {
      "cell_type": "code",
      "metadata": {
        "id": "cR-U8AnRjwKJ",
        "colab_type": "code",
        "colab": {
          "base_uri": "https://localhost:8080/",
          "height": 1000
        },
        "outputId": "25c1fbb3-9870-4467-a9b1-3de9d897b3c3"
      },
      "source": [
        "results = []\n",
        "\n",
        "counter = 0\n",
        "for test_doc in test_weighted_mowe:\n",
        "  test_doc = test_weighted_mowe[counter].reshape(1, -1)\n",
        "\n",
        "  artist_sim = []\n",
        "  for train_doc in train_weighted_mowe:\n",
        "    sim = cosine_similarity(train_doc.reshape(1, -1), test_doc).squeeze()\n",
        "    artist_sim.append(sim)  \n",
        "  \n",
        "  max = np.argmax(artist_sim)\n",
        "  min = np.argmin(artist_sim)\n",
        "  results.append({\n",
        "      'artist' : id2artist[counter],\n",
        "      'most_similar' : id2artist[max],\n",
        "      'most': np.max(artist_sim),\n",
        "      'least_similar' : id2artist[min],\n",
        "      'least': np.min(artist_sim)\n",
        "  })\n",
        "  counter += 1\n",
        "\n",
        "frame = pd.DataFrame(results)\n",
        "print('Matches', np.sum(np.where(frame.artist == frame.most_similar, 1, 0)))\n",
        "frame"
      ],
      "execution_count": 93,
      "outputs": [
        {
          "output_type": "stream",
          "text": [
            "Matches 30\n"
          ],
          "name": "stdout"
        },
        {
          "output_type": "execute_result",
          "data": {
            "text/html": [
              "<div>\n",
              "<style scoped>\n",
              "    .dataframe tbody tr th:only-of-type {\n",
              "        vertical-align: middle;\n",
              "    }\n",
              "\n",
              "    .dataframe tbody tr th {\n",
              "        vertical-align: top;\n",
              "    }\n",
              "\n",
              "    .dataframe thead th {\n",
              "        text-align: right;\n",
              "    }\n",
              "</style>\n",
              "<table border=\"1\" class=\"dataframe\">\n",
              "  <thead>\n",
              "    <tr style=\"text-align: right;\">\n",
              "      <th></th>\n",
              "      <th>artist</th>\n",
              "      <th>most_similar</th>\n",
              "      <th>most</th>\n",
              "      <th>least_similar</th>\n",
              "      <th>least</th>\n",
              "    </tr>\n",
              "  </thead>\n",
              "  <tbody>\n",
              "    <tr>\n",
              "      <th>0</th>\n",
              "      <td>nirvana</td>\n",
              "      <td>eminem</td>\n",
              "      <td>0.998748</td>\n",
              "      <td>nursery_rhymes</td>\n",
              "      <td>0.982941</td>\n",
              "    </tr>\n",
              "    <tr>\n",
              "      <th>1</th>\n",
              "      <td>bob-dylan</td>\n",
              "      <td>bob-dylan</td>\n",
              "      <td>0.999597</td>\n",
              "      <td>nursery_rhymes</td>\n",
              "      <td>0.988499</td>\n",
              "    </tr>\n",
              "    <tr>\n",
              "      <th>2</th>\n",
              "      <td>dolly-parton</td>\n",
              "      <td>jimi-hendrix</td>\n",
              "      <td>0.999089</td>\n",
              "      <td>dickinson</td>\n",
              "      <td>0.981122</td>\n",
              "    </tr>\n",
              "    <tr>\n",
              "      <th>3</th>\n",
              "      <td>jimi-hendrix</td>\n",
              "      <td>r-kelly</td>\n",
              "      <td>0.999065</td>\n",
              "      <td>dickinson</td>\n",
              "      <td>0.976016</td>\n",
              "    </tr>\n",
              "    <tr>\n",
              "      <th>4</th>\n",
              "      <td>alicia-keys</td>\n",
              "      <td>bieber</td>\n",
              "      <td>0.999369</td>\n",
              "      <td>dickinson</td>\n",
              "      <td>0.966633</td>\n",
              "    </tr>\n",
              "    <tr>\n",
              "      <th>5</th>\n",
              "      <td>kanye-west</td>\n",
              "      <td>kanye-west</td>\n",
              "      <td>0.999645</td>\n",
              "      <td>dickinson</td>\n",
              "      <td>0.974730</td>\n",
              "    </tr>\n",
              "    <tr>\n",
              "      <th>6</th>\n",
              "      <td>rihanna</td>\n",
              "      <td>michael-jackson</td>\n",
              "      <td>0.999473</td>\n",
              "      <td>dickinson</td>\n",
              "      <td>0.970357</td>\n",
              "    </tr>\n",
              "    <tr>\n",
              "      <th>7</th>\n",
              "      <td>dj-khaled</td>\n",
              "      <td>dj-khaled</td>\n",
              "      <td>0.999566</td>\n",
              "      <td>dickinson</td>\n",
              "      <td>0.975715</td>\n",
              "    </tr>\n",
              "    <tr>\n",
              "      <th>8</th>\n",
              "      <td>eminem</td>\n",
              "      <td>eminem</td>\n",
              "      <td>0.999473</td>\n",
              "      <td>dickinson</td>\n",
              "      <td>0.981217</td>\n",
              "    </tr>\n",
              "    <tr>\n",
              "      <th>9</th>\n",
              "      <td>amy-winehouse</td>\n",
              "      <td>amy-winehouse</td>\n",
              "      <td>0.999179</td>\n",
              "      <td>dickinson</td>\n",
              "      <td>0.979417</td>\n",
              "    </tr>\n",
              "    <tr>\n",
              "      <th>10</th>\n",
              "      <td>ludacris</td>\n",
              "      <td>ludacris</td>\n",
              "      <td>0.999674</td>\n",
              "      <td>dickinson</td>\n",
              "      <td>0.975157</td>\n",
              "    </tr>\n",
              "    <tr>\n",
              "      <th>11</th>\n",
              "      <td>britney-spears</td>\n",
              "      <td>britney-spears</td>\n",
              "      <td>0.999612</td>\n",
              "      <td>dickinson</td>\n",
              "      <td>0.965700</td>\n",
              "    </tr>\n",
              "    <tr>\n",
              "      <th>12</th>\n",
              "      <td>lorde</td>\n",
              "      <td>lorde</td>\n",
              "      <td>0.998750</td>\n",
              "      <td>dickinson</td>\n",
              "      <td>0.979298</td>\n",
              "    </tr>\n",
              "    <tr>\n",
              "      <th>13</th>\n",
              "      <td>radiohead</td>\n",
              "      <td>cake</td>\n",
              "      <td>0.998910</td>\n",
              "      <td>nursery_rhymes</td>\n",
              "      <td>0.985800</td>\n",
              "    </tr>\n",
              "    <tr>\n",
              "      <th>14</th>\n",
              "      <td>bruno-mars</td>\n",
              "      <td>bruno-mars</td>\n",
              "      <td>0.997774</td>\n",
              "      <td>dickinson</td>\n",
              "      <td>0.957522</td>\n",
              "    </tr>\n",
              "    <tr>\n",
              "      <th>15</th>\n",
              "      <td>missy-elliott</td>\n",
              "      <td>missy-elliott</td>\n",
              "      <td>0.999503</td>\n",
              "      <td>dickinson</td>\n",
              "      <td>0.963266</td>\n",
              "    </tr>\n",
              "    <tr>\n",
              "      <th>16</th>\n",
              "      <td>nursery_rhymes</td>\n",
              "      <td>nursery_rhymes</td>\n",
              "      <td>0.998062</td>\n",
              "      <td>al-green</td>\n",
              "      <td>0.969548</td>\n",
              "    </tr>\n",
              "    <tr>\n",
              "      <th>17</th>\n",
              "      <td>lin-manuel-miranda</td>\n",
              "      <td>lin-manuel-miranda</td>\n",
              "      <td>0.997963</td>\n",
              "      <td>missy-elliott</td>\n",
              "      <td>0.980488</td>\n",
              "    </tr>\n",
              "    <tr>\n",
              "      <th>18</th>\n",
              "      <td>dr-seuss</td>\n",
              "      <td>dr-seuss</td>\n",
              "      <td>0.996994</td>\n",
              "      <td>dickinson</td>\n",
              "      <td>0.983348</td>\n",
              "    </tr>\n",
              "    <tr>\n",
              "      <th>19</th>\n",
              "      <td>blink-182</td>\n",
              "      <td>blink-182</td>\n",
              "      <td>0.999133</td>\n",
              "      <td>nursery_rhymes</td>\n",
              "      <td>0.984386</td>\n",
              "    </tr>\n",
              "    <tr>\n",
              "      <th>20</th>\n",
              "      <td>nickelback</td>\n",
              "      <td>adele</td>\n",
              "      <td>0.999245</td>\n",
              "      <td>dickinson</td>\n",
              "      <td>0.978642</td>\n",
              "    </tr>\n",
              "    <tr>\n",
              "      <th>21</th>\n",
              "      <td>joni-mitchell</td>\n",
              "      <td>joni-mitchell</td>\n",
              "      <td>0.998963</td>\n",
              "      <td>al-green</td>\n",
              "      <td>0.972537</td>\n",
              "    </tr>\n",
              "    <tr>\n",
              "      <th>22</th>\n",
              "      <td>adele</td>\n",
              "      <td>adele</td>\n",
              "      <td>0.999713</td>\n",
              "      <td>nursery_rhymes</td>\n",
              "      <td>0.977219</td>\n",
              "    </tr>\n",
              "    <tr>\n",
              "      <th>23</th>\n",
              "      <td>al-green</td>\n",
              "      <td>al-green</td>\n",
              "      <td>0.999147</td>\n",
              "      <td>dickinson</td>\n",
              "      <td>0.965864</td>\n",
              "    </tr>\n",
              "    <tr>\n",
              "      <th>24</th>\n",
              "      <td>patti-smith</td>\n",
              "      <td>patti-smith</td>\n",
              "      <td>0.997954</td>\n",
              "      <td>janisjoplin</td>\n",
              "      <td>0.974032</td>\n",
              "    </tr>\n",
              "    <tr>\n",
              "      <th>25</th>\n",
              "      <td>johnny-cash</td>\n",
              "      <td>johnny-cash</td>\n",
              "      <td>0.997940</td>\n",
              "      <td>al-green</td>\n",
              "      <td>0.971801</td>\n",
              "    </tr>\n",
              "    <tr>\n",
              "      <th>26</th>\n",
              "      <td>dickinson</td>\n",
              "      <td>dickinson</td>\n",
              "      <td>0.999454</td>\n",
              "      <td>janisjoplin</td>\n",
              "      <td>0.964522</td>\n",
              "    </tr>\n",
              "    <tr>\n",
              "      <th>27</th>\n",
              "      <td>paul-simon</td>\n",
              "      <td>paul-simon</td>\n",
              "      <td>0.997961</td>\n",
              "      <td>al-green</td>\n",
              "      <td>0.974010</td>\n",
              "    </tr>\n",
              "    <tr>\n",
              "      <th>28</th>\n",
              "      <td>bieber</td>\n",
              "      <td>bieber</td>\n",
              "      <td>0.999678</td>\n",
              "      <td>dickinson</td>\n",
              "      <td>0.963385</td>\n",
              "    </tr>\n",
              "    <tr>\n",
              "      <th>29</th>\n",
              "      <td>r-kelly</td>\n",
              "      <td>r-kelly</td>\n",
              "      <td>0.999281</td>\n",
              "      <td>dickinson</td>\n",
              "      <td>0.972604</td>\n",
              "    </tr>\n",
              "    <tr>\n",
              "      <th>30</th>\n",
              "      <td>lady-gaga</td>\n",
              "      <td>britney-spears</td>\n",
              "      <td>0.998924</td>\n",
              "      <td>dickinson</td>\n",
              "      <td>0.963517</td>\n",
              "    </tr>\n",
              "    <tr>\n",
              "      <th>31</th>\n",
              "      <td>bob-marley</td>\n",
              "      <td>prince</td>\n",
              "      <td>0.997906</td>\n",
              "      <td>dickinson</td>\n",
              "      <td>0.977738</td>\n",
              "    </tr>\n",
              "    <tr>\n",
              "      <th>32</th>\n",
              "      <td>michael-jackson</td>\n",
              "      <td>rihanna</td>\n",
              "      <td>0.999071</td>\n",
              "      <td>dickinson</td>\n",
              "      <td>0.971215</td>\n",
              "    </tr>\n",
              "    <tr>\n",
              "      <th>33</th>\n",
              "      <td>bjork</td>\n",
              "      <td>beatles</td>\n",
              "      <td>0.996841</td>\n",
              "      <td>dickinson</td>\n",
              "      <td>0.972461</td>\n",
              "    </tr>\n",
              "    <tr>\n",
              "      <th>34</th>\n",
              "      <td>prince</td>\n",
              "      <td>prince</td>\n",
              "      <td>0.999275</td>\n",
              "      <td>dickinson</td>\n",
              "      <td>0.978409</td>\n",
              "    </tr>\n",
              "    <tr>\n",
              "      <th>35</th>\n",
              "      <td>lil-wayne</td>\n",
              "      <td>lil-wayne</td>\n",
              "      <td>0.999680</td>\n",
              "      <td>dickinson</td>\n",
              "      <td>0.967731</td>\n",
              "    </tr>\n",
              "    <tr>\n",
              "      <th>36</th>\n",
              "      <td>cake</td>\n",
              "      <td>radiohead</td>\n",
              "      <td>0.999056</td>\n",
              "      <td>nursery_rhymes</td>\n",
              "      <td>0.982955</td>\n",
              "    </tr>\n",
              "    <tr>\n",
              "      <th>37</th>\n",
              "      <td>disney</td>\n",
              "      <td>disney</td>\n",
              "      <td>0.999133</td>\n",
              "      <td>nursery_rhymes</td>\n",
              "      <td>0.982466</td>\n",
              "    </tr>\n",
              "    <tr>\n",
              "      <th>38</th>\n",
              "      <td>leonard-cohen</td>\n",
              "      <td>bob-dylan</td>\n",
              "      <td>0.999297</td>\n",
              "      <td>janisjoplin</td>\n",
              "      <td>0.984172</td>\n",
              "    </tr>\n",
              "    <tr>\n",
              "      <th>39</th>\n",
              "      <td>janisjoplin</td>\n",
              "      <td>janisjoplin</td>\n",
              "      <td>0.997625</td>\n",
              "      <td>dickinson</td>\n",
              "      <td>0.954905</td>\n",
              "    </tr>\n",
              "    <tr>\n",
              "      <th>40</th>\n",
              "      <td>bruce-springsteen</td>\n",
              "      <td>bruce-springsteen</td>\n",
              "      <td>0.999114</td>\n",
              "      <td>al-green</td>\n",
              "      <td>0.986835</td>\n",
              "    </tr>\n",
              "    <tr>\n",
              "      <th>41</th>\n",
              "      <td>beatles</td>\n",
              "      <td>r-kelly</td>\n",
              "      <td>0.998966</td>\n",
              "      <td>dickinson</td>\n",
              "      <td>0.977901</td>\n",
              "    </tr>\n",
              "    <tr>\n",
              "      <th>42</th>\n",
              "      <td>notorious-big</td>\n",
              "      <td>notorious-big</td>\n",
              "      <td>0.999661</td>\n",
              "      <td>dickinson</td>\n",
              "      <td>0.968636</td>\n",
              "    </tr>\n",
              "    <tr>\n",
              "      <th>43</th>\n",
              "      <td>drake</td>\n",
              "      <td>kanye-west</td>\n",
              "      <td>0.999515</td>\n",
              "      <td>dickinson</td>\n",
              "      <td>0.978693</td>\n",
              "    </tr>\n",
              "    <tr>\n",
              "      <th>44</th>\n",
              "      <td>nicki-minaj</td>\n",
              "      <td>nicki-minaj</td>\n",
              "      <td>0.999474</td>\n",
              "      <td>dickinson</td>\n",
              "      <td>0.969096</td>\n",
              "    </tr>\n",
              "  </tbody>\n",
              "</table>\n",
              "</div>"
            ],
            "text/plain": [
              "                artist        most_similar      most   least_similar     least\n",
              "0              nirvana              eminem  0.998748  nursery_rhymes  0.982941\n",
              "1            bob-dylan           bob-dylan  0.999597  nursery_rhymes  0.988499\n",
              "2         dolly-parton        jimi-hendrix  0.999089       dickinson  0.981122\n",
              "3         jimi-hendrix             r-kelly  0.999065       dickinson  0.976016\n",
              "4          alicia-keys              bieber  0.999369       dickinson  0.966633\n",
              "5           kanye-west          kanye-west  0.999645       dickinson  0.974730\n",
              "6              rihanna     michael-jackson  0.999473       dickinson  0.970357\n",
              "7            dj-khaled           dj-khaled  0.999566       dickinson  0.975715\n",
              "8               eminem              eminem  0.999473       dickinson  0.981217\n",
              "9        amy-winehouse       amy-winehouse  0.999179       dickinson  0.979417\n",
              "10            ludacris            ludacris  0.999674       dickinson  0.975157\n",
              "11      britney-spears      britney-spears  0.999612       dickinson  0.965700\n",
              "12               lorde               lorde  0.998750       dickinson  0.979298\n",
              "13           radiohead                cake  0.998910  nursery_rhymes  0.985800\n",
              "14          bruno-mars          bruno-mars  0.997774       dickinson  0.957522\n",
              "15       missy-elliott       missy-elliott  0.999503       dickinson  0.963266\n",
              "16      nursery_rhymes      nursery_rhymes  0.998062        al-green  0.969548\n",
              "17  lin-manuel-miranda  lin-manuel-miranda  0.997963   missy-elliott  0.980488\n",
              "18            dr-seuss            dr-seuss  0.996994       dickinson  0.983348\n",
              "19           blink-182           blink-182  0.999133  nursery_rhymes  0.984386\n",
              "20          nickelback               adele  0.999245       dickinson  0.978642\n",
              "21       joni-mitchell       joni-mitchell  0.998963        al-green  0.972537\n",
              "22               adele               adele  0.999713  nursery_rhymes  0.977219\n",
              "23            al-green            al-green  0.999147       dickinson  0.965864\n",
              "24         patti-smith         patti-smith  0.997954     janisjoplin  0.974032\n",
              "25         johnny-cash         johnny-cash  0.997940        al-green  0.971801\n",
              "26           dickinson           dickinson  0.999454     janisjoplin  0.964522\n",
              "27          paul-simon          paul-simon  0.997961        al-green  0.974010\n",
              "28              bieber              bieber  0.999678       dickinson  0.963385\n",
              "29             r-kelly             r-kelly  0.999281       dickinson  0.972604\n",
              "30           lady-gaga      britney-spears  0.998924       dickinson  0.963517\n",
              "31          bob-marley              prince  0.997906       dickinson  0.977738\n",
              "32     michael-jackson             rihanna  0.999071       dickinson  0.971215\n",
              "33               bjork             beatles  0.996841       dickinson  0.972461\n",
              "34              prince              prince  0.999275       dickinson  0.978409\n",
              "35           lil-wayne           lil-wayne  0.999680       dickinson  0.967731\n",
              "36                cake           radiohead  0.999056  nursery_rhymes  0.982955\n",
              "37              disney              disney  0.999133  nursery_rhymes  0.982466\n",
              "38       leonard-cohen           bob-dylan  0.999297     janisjoplin  0.984172\n",
              "39         janisjoplin         janisjoplin  0.997625       dickinson  0.954905\n",
              "40   bruce-springsteen   bruce-springsteen  0.999114        al-green  0.986835\n",
              "41             beatles             r-kelly  0.998966       dickinson  0.977901\n",
              "42       notorious-big       notorious-big  0.999661       dickinson  0.968636\n",
              "43               drake          kanye-west  0.999515       dickinson  0.978693\n",
              "44         nicki-minaj         nicki-minaj  0.999474       dickinson  0.969096"
            ]
          },
          "metadata": {
            "tags": []
          },
          "execution_count": 93
        }
      ]
    },
    {
      "cell_type": "markdown",
      "metadata": {
        "id": "B1BaN8azTaHO",
        "colab_type": "text"
      },
      "source": [
        "# Doc2Vec\n",
        "![](https://pbs.twimg.com/media/DdKR0ZOX4AEl_0N.jpg)\n"
      ]
    },
    {
      "cell_type": "markdown",
      "metadata": {
        "id": "RaryT4rkIHsL",
        "colab_type": "text"
      },
      "source": [
        "## Paragraph Vectors"
      ]
    },
    {
      "cell_type": "markdown",
      "metadata": {
        "id": "uI4E3iBwIOQF",
        "colab_type": "text"
      },
      "source": [
        "### Distributed Memory\n",
        "* PV-DM\n",
        "* Analogous to Word2Vec CBOW\n",
        "* The doc-vectors are obtained by training a neural network on the synthetic task of predicting a center word based an average of both context word-vectors and the full document’s doc-vector."
      ]
    },
    {
      "cell_type": "markdown",
      "metadata": {
        "id": "Qoj9OeYzITWB",
        "colab_type": "text"
      },
      "source": [
        "### Distributed Bag of Words \n",
        "* PV-DBOW\n",
        "* PV-DBOW is analogous to Word2Vec SkipGram. \n",
        "* The doc-vectors are obtained by training a neural network on the synthetic task of predicting a target word just from the full document’s doc-vector. (It is also common to combine this with skip-gram testing, using both the doc-vector and nearby word-vectors to predict a single target word, but only one at a time.)"
      ]
    },
    {
      "cell_type": "markdown",
      "metadata": {
        "id": "vPO-RdntkyqT",
        "colab_type": "text"
      },
      "source": [
        "![](https://i.stack.imgur.com/t7slV.png)"
      ]
    },
    {
      "cell_type": "markdown",
      "metadata": {
        "id": "NcnLBUfMH2aL",
        "colab_type": "text"
      },
      "source": [
        "## Gensim"
      ]
    },
    {
      "cell_type": "code",
      "metadata": {
        "id": "fezJ9G7ITcrC",
        "colab_type": "code",
        "colab": {}
      },
      "source": [
        "model = gensim.models.doc2vec.Doc2Vec(vector_size=50, min_count=2, epochs=40)"
      ],
      "execution_count": 94,
      "outputs": []
    },
    {
      "cell_type": "code",
      "metadata": {
        "id": "gfczr9DHYwjn",
        "colab_type": "code",
        "colab": {}
      },
      "source": [
        "model.build_vocab(train_corpus)"
      ],
      "execution_count": 95,
      "outputs": []
    },
    {
      "cell_type": "code",
      "metadata": {
        "id": "j_5I4uJCYwhb",
        "colab_type": "code",
        "colab": {}
      },
      "source": [
        "model.train(train_corpus, total_examples=model.corpus_count, epochs=model.epochs)"
      ],
      "execution_count": 96,
      "outputs": []
    },
    {
      "cell_type": "code",
      "metadata": {
        "id": "-8_a8nIBbEq2",
        "colab_type": "code",
        "colab": {
          "base_uri": "https://localhost:8080/",
          "height": 170
        },
        "outputId": "4603f2a6-903d-4448-e4a3-7869b0e0710f"
      },
      "source": [
        "vector = model.infer_vector(['what', 'age', 'are', 'you'])\n",
        "print(vector)"
      ],
      "execution_count": 97,
      "outputs": [
        {
          "output_type": "stream",
          "text": [
            "[-0.07568356 -0.15049233  0.11287741  0.24852103  0.0969092   0.06063254\n",
            " -0.02235721  0.13259408 -0.0823933   0.24891229  0.20082925  0.1533984\n",
            "  0.0744637  -0.290309    0.16146968  0.2336377  -0.433001   -0.22919615\n",
            " -0.01352799  0.13553731 -0.0786716  -0.18435977 -0.01631516 -0.00120235\n",
            "  0.30176806 -0.18565844  0.06484322  0.07710267  0.11713608  0.11530985\n",
            " -0.00547929  0.11736127  0.35931215 -0.03689464 -0.4049918  -0.01059677\n",
            "  0.1968253  -0.14210048 -0.19440651 -0.11083711  0.20551889  0.26681456\n",
            " -0.06362668  0.11165347  0.02112164  0.09843384 -0.15129791 -0.17440589\n",
            " -0.1104328   0.10460387]\n"
          ],
          "name": "stdout"
        }
      ]
    },
    {
      "cell_type": "code",
      "metadata": {
        "id": "BylBnTFRbROx",
        "colab_type": "code",
        "colab": {
          "base_uri": "https://localhost:8080/",
          "height": 71
        },
        "outputId": "47fc3dde-b530-4745-bf2c-c97fc3380c8f"
      },
      "source": [
        "ranks = []\n",
        "second_ranks = []\n",
        "for doc_id in range(len(train_corpus)):\n",
        "    inferred_vector = model.infer_vector(train_corpus[doc_id].words)\n",
        "    sims = model.docvecs.most_similar([inferred_vector], topn=len(model.docvecs))\n",
        "    rank = [docid for docid, sim in sims].index(doc_id)\n",
        "    ranks.append(rank)\n",
        "\n",
        "    second_ranks.append(sims[1])"
      ],
      "execution_count": 98,
      "outputs": [
        {
          "output_type": "stream",
          "text": [
            "/usr/local/lib/python3.6/dist-packages/gensim/matutils.py:737: FutureWarning: Conversion of the second argument of issubdtype from `int` to `np.signedinteger` is deprecated. In future, it will be treated as `np.int64 == np.dtype(int).type`.\n",
            "  if np.issubdtype(vec.dtype, np.int):\n"
          ],
          "name": "stderr"
        }
      ]
    },
    {
      "cell_type": "code",
      "metadata": {
        "id": "TTqLjOG6c5SP",
        "colab_type": "code",
        "colab": {
          "base_uri": "https://localhost:8080/",
          "height": 34
        },
        "outputId": "17a4c932-cbed-4b79-ca4d-46b9b186ae2c"
      },
      "source": [
        "counter = collections.Counter(ranks)\n",
        "print(counter)"
      ],
      "execution_count": 99,
      "outputs": [
        {
          "output_type": "stream",
          "text": [
            "Counter({0: 45})\n"
          ],
          "name": "stdout"
        }
      ]
    },
    {
      "cell_type": "code",
      "metadata": {
        "id": "z4PxEWM-r2bk",
        "colab_type": "code",
        "colab": {
          "base_uri": "https://localhost:8080/",
          "height": 1000
        },
        "outputId": "1f44437b-cc42-4682-b89e-7a2ee34d2e85"
      },
      "source": [
        "results = []\n",
        "for doc_id in range(len(test_corpus)):\n",
        "  inferred_vector = model.infer_vector(test_corpus[doc_id].words)\n",
        "  sims = model.docvecs.most_similar([inferred_vector], topn=len(model.docvecs))\n",
        "  max = sims[0][0]\n",
        "\n",
        "  results.append({\n",
        "      'artist' : id2artist[doc_id],\n",
        "      'most_similar' : id2artist[sims[0][0]],\n",
        "      'most': sims[0][1],\n",
        "      'least_similar' : id2artist[sims[len(sims) - 1][0]],\n",
        "      'least': sims[len(sims) - 1][1]\n",
        "  })\n",
        "pd.DataFrame(results)"
      ],
      "execution_count": 100,
      "outputs": [
        {
          "output_type": "stream",
          "text": [
            "/usr/local/lib/python3.6/dist-packages/gensim/matutils.py:737: FutureWarning: Conversion of the second argument of issubdtype from `int` to `np.signedinteger` is deprecated. In future, it will be treated as `np.int64 == np.dtype(int).type`.\n",
            "  if np.issubdtype(vec.dtype, np.int):\n"
          ],
          "name": "stderr"
        },
        {
          "output_type": "execute_result",
          "data": {
            "text/html": [
              "<div>\n",
              "<style scoped>\n",
              "    .dataframe tbody tr th:only-of-type {\n",
              "        vertical-align: middle;\n",
              "    }\n",
              "\n",
              "    .dataframe tbody tr th {\n",
              "        vertical-align: top;\n",
              "    }\n",
              "\n",
              "    .dataframe thead th {\n",
              "        text-align: right;\n",
              "    }\n",
              "</style>\n",
              "<table border=\"1\" class=\"dataframe\">\n",
              "  <thead>\n",
              "    <tr style=\"text-align: right;\">\n",
              "      <th></th>\n",
              "      <th>artist</th>\n",
              "      <th>most_similar</th>\n",
              "      <th>most</th>\n",
              "      <th>least_similar</th>\n",
              "      <th>least</th>\n",
              "    </tr>\n",
              "  </thead>\n",
              "  <tbody>\n",
              "    <tr>\n",
              "      <th>0</th>\n",
              "      <td>nirvana</td>\n",
              "      <td>nirvana</td>\n",
              "      <td>0.747425</td>\n",
              "      <td>dj-khaled</td>\n",
              "      <td>-0.254419</td>\n",
              "    </tr>\n",
              "    <tr>\n",
              "      <th>1</th>\n",
              "      <td>bob-dylan</td>\n",
              "      <td>bob-dylan</td>\n",
              "      <td>0.730770</td>\n",
              "      <td>lil-wayne</td>\n",
              "      <td>-0.139802</td>\n",
              "    </tr>\n",
              "    <tr>\n",
              "      <th>2</th>\n",
              "      <td>dolly-parton</td>\n",
              "      <td>dolly-parton</td>\n",
              "      <td>0.819038</td>\n",
              "      <td>nicki-minaj</td>\n",
              "      <td>-0.175378</td>\n",
              "    </tr>\n",
              "    <tr>\n",
              "      <th>3</th>\n",
              "      <td>jimi-hendrix</td>\n",
              "      <td>jimi-hendrix</td>\n",
              "      <td>0.869471</td>\n",
              "      <td>notorious-big</td>\n",
              "      <td>-0.110712</td>\n",
              "    </tr>\n",
              "    <tr>\n",
              "      <th>4</th>\n",
              "      <td>alicia-keys</td>\n",
              "      <td>bieber</td>\n",
              "      <td>0.691594</td>\n",
              "      <td>notorious-big</td>\n",
              "      <td>0.005449</td>\n",
              "    </tr>\n",
              "    <tr>\n",
              "      <th>5</th>\n",
              "      <td>kanye-west</td>\n",
              "      <td>kanye-west</td>\n",
              "      <td>0.939242</td>\n",
              "      <td>beatles</td>\n",
              "      <td>-0.234476</td>\n",
              "    </tr>\n",
              "    <tr>\n",
              "      <th>6</th>\n",
              "      <td>rihanna</td>\n",
              "      <td>rihanna</td>\n",
              "      <td>0.821656</td>\n",
              "      <td>johnny-cash</td>\n",
              "      <td>-0.212295</td>\n",
              "    </tr>\n",
              "    <tr>\n",
              "      <th>7</th>\n",
              "      <td>dj-khaled</td>\n",
              "      <td>dj-khaled</td>\n",
              "      <td>0.823635</td>\n",
              "      <td>patti-smith</td>\n",
              "      <td>-0.156614</td>\n",
              "    </tr>\n",
              "    <tr>\n",
              "      <th>8</th>\n",
              "      <td>eminem</td>\n",
              "      <td>eminem</td>\n",
              "      <td>0.786102</td>\n",
              "      <td>joni-mitchell</td>\n",
              "      <td>-0.149733</td>\n",
              "    </tr>\n",
              "    <tr>\n",
              "      <th>9</th>\n",
              "      <td>amy-winehouse</td>\n",
              "      <td>amy-winehouse</td>\n",
              "      <td>0.871744</td>\n",
              "      <td>lil-wayne</td>\n",
              "      <td>-0.078857</td>\n",
              "    </tr>\n",
              "    <tr>\n",
              "      <th>10</th>\n",
              "      <td>ludacris</td>\n",
              "      <td>ludacris</td>\n",
              "      <td>0.836814</td>\n",
              "      <td>jimi-hendrix</td>\n",
              "      <td>-0.149609</td>\n",
              "    </tr>\n",
              "    <tr>\n",
              "      <th>11</th>\n",
              "      <td>britney-spears</td>\n",
              "      <td>bieber</td>\n",
              "      <td>0.612899</td>\n",
              "      <td>johnny-cash</td>\n",
              "      <td>-0.031631</td>\n",
              "    </tr>\n",
              "    <tr>\n",
              "      <th>12</th>\n",
              "      <td>lorde</td>\n",
              "      <td>lorde</td>\n",
              "      <td>0.786762</td>\n",
              "      <td>notorious-big</td>\n",
              "      <td>-0.089940</td>\n",
              "    </tr>\n",
              "    <tr>\n",
              "      <th>13</th>\n",
              "      <td>radiohead</td>\n",
              "      <td>radiohead</td>\n",
              "      <td>0.840075</td>\n",
              "      <td>lil-wayne</td>\n",
              "      <td>-0.109297</td>\n",
              "    </tr>\n",
              "    <tr>\n",
              "      <th>14</th>\n",
              "      <td>bruno-mars</td>\n",
              "      <td>bruno-mars</td>\n",
              "      <td>0.749262</td>\n",
              "      <td>johnny-cash</td>\n",
              "      <td>-0.164424</td>\n",
              "    </tr>\n",
              "    <tr>\n",
              "      <th>15</th>\n",
              "      <td>missy-elliott</td>\n",
              "      <td>missy-elliott</td>\n",
              "      <td>0.885524</td>\n",
              "      <td>bruce-springsteen</td>\n",
              "      <td>-0.185514</td>\n",
              "    </tr>\n",
              "    <tr>\n",
              "      <th>16</th>\n",
              "      <td>nursery_rhymes</td>\n",
              "      <td>nursery_rhymes</td>\n",
              "      <td>0.957596</td>\n",
              "      <td>drake</td>\n",
              "      <td>-0.145042</td>\n",
              "    </tr>\n",
              "    <tr>\n",
              "      <th>17</th>\n",
              "      <td>lin-manuel-miranda</td>\n",
              "      <td>lin-manuel-miranda</td>\n",
              "      <td>0.938232</td>\n",
              "      <td>ludacris</td>\n",
              "      <td>-0.108610</td>\n",
              "    </tr>\n",
              "    <tr>\n",
              "      <th>18</th>\n",
              "      <td>dr-seuss</td>\n",
              "      <td>dr-seuss</td>\n",
              "      <td>0.868141</td>\n",
              "      <td>adele</td>\n",
              "      <td>-0.005357</td>\n",
              "    </tr>\n",
              "    <tr>\n",
              "      <th>19</th>\n",
              "      <td>blink-182</td>\n",
              "      <td>blink-182</td>\n",
              "      <td>0.847568</td>\n",
              "      <td>missy-elliott</td>\n",
              "      <td>-0.068286</td>\n",
              "    </tr>\n",
              "    <tr>\n",
              "      <th>20</th>\n",
              "      <td>nickelback</td>\n",
              "      <td>nickelback</td>\n",
              "      <td>0.827331</td>\n",
              "      <td>notorious-big</td>\n",
              "      <td>-0.093804</td>\n",
              "    </tr>\n",
              "    <tr>\n",
              "      <th>21</th>\n",
              "      <td>joni-mitchell</td>\n",
              "      <td>joni-mitchell</td>\n",
              "      <td>0.820696</td>\n",
              "      <td>lil-wayne</td>\n",
              "      <td>-0.273861</td>\n",
              "    </tr>\n",
              "    <tr>\n",
              "      <th>22</th>\n",
              "      <td>adele</td>\n",
              "      <td>adele</td>\n",
              "      <td>0.648462</td>\n",
              "      <td>kanye-west</td>\n",
              "      <td>-0.070968</td>\n",
              "    </tr>\n",
              "    <tr>\n",
              "      <th>23</th>\n",
              "      <td>al-green</td>\n",
              "      <td>al-green</td>\n",
              "      <td>0.783716</td>\n",
              "      <td>nicki-minaj</td>\n",
              "      <td>-0.161974</td>\n",
              "    </tr>\n",
              "    <tr>\n",
              "      <th>24</th>\n",
              "      <td>patti-smith</td>\n",
              "      <td>patti-smith</td>\n",
              "      <td>0.675066</td>\n",
              "      <td>ludacris</td>\n",
              "      <td>-0.285013</td>\n",
              "    </tr>\n",
              "    <tr>\n",
              "      <th>25</th>\n",
              "      <td>johnny-cash</td>\n",
              "      <td>johnny-cash</td>\n",
              "      <td>0.779793</td>\n",
              "      <td>rihanna</td>\n",
              "      <td>-0.167691</td>\n",
              "    </tr>\n",
              "    <tr>\n",
              "      <th>26</th>\n",
              "      <td>dickinson</td>\n",
              "      <td>dickinson</td>\n",
              "      <td>0.971937</td>\n",
              "      <td>dj-khaled</td>\n",
              "      <td>-0.171743</td>\n",
              "    </tr>\n",
              "    <tr>\n",
              "      <th>27</th>\n",
              "      <td>paul-simon</td>\n",
              "      <td>paul-simon</td>\n",
              "      <td>0.753238</td>\n",
              "      <td>drake</td>\n",
              "      <td>-0.150514</td>\n",
              "    </tr>\n",
              "    <tr>\n",
              "      <th>28</th>\n",
              "      <td>bieber</td>\n",
              "      <td>bieber</td>\n",
              "      <td>0.900644</td>\n",
              "      <td>johnny-cash</td>\n",
              "      <td>-0.204616</td>\n",
              "    </tr>\n",
              "    <tr>\n",
              "      <th>29</th>\n",
              "      <td>r-kelly</td>\n",
              "      <td>r-kelly</td>\n",
              "      <td>0.692377</td>\n",
              "      <td>nursery_rhymes</td>\n",
              "      <td>-0.099532</td>\n",
              "    </tr>\n",
              "    <tr>\n",
              "      <th>30</th>\n",
              "      <td>lady-gaga</td>\n",
              "      <td>rihanna</td>\n",
              "      <td>0.655837</td>\n",
              "      <td>johnny-cash</td>\n",
              "      <td>-0.109857</td>\n",
              "    </tr>\n",
              "    <tr>\n",
              "      <th>31</th>\n",
              "      <td>bob-marley</td>\n",
              "      <td>bob-marley</td>\n",
              "      <td>0.857910</td>\n",
              "      <td>lady-gaga</td>\n",
              "      <td>-0.132166</td>\n",
              "    </tr>\n",
              "    <tr>\n",
              "      <th>32</th>\n",
              "      <td>michael-jackson</td>\n",
              "      <td>michael-jackson</td>\n",
              "      <td>0.640975</td>\n",
              "      <td>lil-wayne</td>\n",
              "      <td>-0.091993</td>\n",
              "    </tr>\n",
              "    <tr>\n",
              "      <th>33</th>\n",
              "      <td>bjork</td>\n",
              "      <td>bjork</td>\n",
              "      <td>0.737972</td>\n",
              "      <td>missy-elliott</td>\n",
              "      <td>-0.153065</td>\n",
              "    </tr>\n",
              "    <tr>\n",
              "      <th>34</th>\n",
              "      <td>prince</td>\n",
              "      <td>missy-elliott</td>\n",
              "      <td>0.643149</td>\n",
              "      <td>joni-mitchell</td>\n",
              "      <td>0.038058</td>\n",
              "    </tr>\n",
              "    <tr>\n",
              "      <th>35</th>\n",
              "      <td>lil-wayne</td>\n",
              "      <td>lil-wayne</td>\n",
              "      <td>0.921407</td>\n",
              "      <td>joni-mitchell</td>\n",
              "      <td>-0.279393</td>\n",
              "    </tr>\n",
              "    <tr>\n",
              "      <th>36</th>\n",
              "      <td>cake</td>\n",
              "      <td>cake</td>\n",
              "      <td>0.777452</td>\n",
              "      <td>notorious-big</td>\n",
              "      <td>-0.264063</td>\n",
              "    </tr>\n",
              "    <tr>\n",
              "      <th>37</th>\n",
              "      <td>disney</td>\n",
              "      <td>disney</td>\n",
              "      <td>0.793122</td>\n",
              "      <td>lil-wayne</td>\n",
              "      <td>-0.246431</td>\n",
              "    </tr>\n",
              "    <tr>\n",
              "      <th>38</th>\n",
              "      <td>leonard-cohen</td>\n",
              "      <td>leonard-cohen</td>\n",
              "      <td>0.881737</td>\n",
              "      <td>lil-wayne</td>\n",
              "      <td>-0.249632</td>\n",
              "    </tr>\n",
              "    <tr>\n",
              "      <th>39</th>\n",
              "      <td>janisjoplin</td>\n",
              "      <td>janisjoplin</td>\n",
              "      <td>0.816728</td>\n",
              "      <td>bjork</td>\n",
              "      <td>-0.173180</td>\n",
              "    </tr>\n",
              "    <tr>\n",
              "      <th>40</th>\n",
              "      <td>bruce-springsteen</td>\n",
              "      <td>bruce-springsteen</td>\n",
              "      <td>0.851234</td>\n",
              "      <td>notorious-big</td>\n",
              "      <td>-0.185757</td>\n",
              "    </tr>\n",
              "    <tr>\n",
              "      <th>41</th>\n",
              "      <td>beatles</td>\n",
              "      <td>beatles</td>\n",
              "      <td>0.723645</td>\n",
              "      <td>kanye-west</td>\n",
              "      <td>-0.236222</td>\n",
              "    </tr>\n",
              "    <tr>\n",
              "      <th>42</th>\n",
              "      <td>notorious-big</td>\n",
              "      <td>notorious-big</td>\n",
              "      <td>0.960171</td>\n",
              "      <td>beatles</td>\n",
              "      <td>-0.257986</td>\n",
              "    </tr>\n",
              "    <tr>\n",
              "      <th>43</th>\n",
              "      <td>drake</td>\n",
              "      <td>drake</td>\n",
              "      <td>0.805298</td>\n",
              "      <td>bob-dylan</td>\n",
              "      <td>-0.167899</td>\n",
              "    </tr>\n",
              "    <tr>\n",
              "      <th>44</th>\n",
              "      <td>nicki-minaj</td>\n",
              "      <td>nicki-minaj</td>\n",
              "      <td>0.795825</td>\n",
              "      <td>bob-dylan</td>\n",
              "      <td>-0.226800</td>\n",
              "    </tr>\n",
              "  </tbody>\n",
              "</table>\n",
              "</div>"
            ],
            "text/plain": [
              "                artist        most_similar  ...      least_similar     least\n",
              "0              nirvana             nirvana  ...          dj-khaled -0.254419\n",
              "1            bob-dylan           bob-dylan  ...          lil-wayne -0.139802\n",
              "2         dolly-parton        dolly-parton  ...        nicki-minaj -0.175378\n",
              "3         jimi-hendrix        jimi-hendrix  ...      notorious-big -0.110712\n",
              "4          alicia-keys              bieber  ...      notorious-big  0.005449\n",
              "5           kanye-west          kanye-west  ...            beatles -0.234476\n",
              "6              rihanna             rihanna  ...        johnny-cash -0.212295\n",
              "7            dj-khaled           dj-khaled  ...        patti-smith -0.156614\n",
              "8               eminem              eminem  ...      joni-mitchell -0.149733\n",
              "9        amy-winehouse       amy-winehouse  ...          lil-wayne -0.078857\n",
              "10            ludacris            ludacris  ...       jimi-hendrix -0.149609\n",
              "11      britney-spears              bieber  ...        johnny-cash -0.031631\n",
              "12               lorde               lorde  ...      notorious-big -0.089940\n",
              "13           radiohead           radiohead  ...          lil-wayne -0.109297\n",
              "14          bruno-mars          bruno-mars  ...        johnny-cash -0.164424\n",
              "15       missy-elliott       missy-elliott  ...  bruce-springsteen -0.185514\n",
              "16      nursery_rhymes      nursery_rhymes  ...              drake -0.145042\n",
              "17  lin-manuel-miranda  lin-manuel-miranda  ...           ludacris -0.108610\n",
              "18            dr-seuss            dr-seuss  ...              adele -0.005357\n",
              "19           blink-182           blink-182  ...      missy-elliott -0.068286\n",
              "20          nickelback          nickelback  ...      notorious-big -0.093804\n",
              "21       joni-mitchell       joni-mitchell  ...          lil-wayne -0.273861\n",
              "22               adele               adele  ...         kanye-west -0.070968\n",
              "23            al-green            al-green  ...        nicki-minaj -0.161974\n",
              "24         patti-smith         patti-smith  ...           ludacris -0.285013\n",
              "25         johnny-cash         johnny-cash  ...            rihanna -0.167691\n",
              "26           dickinson           dickinson  ...          dj-khaled -0.171743\n",
              "27          paul-simon          paul-simon  ...              drake -0.150514\n",
              "28              bieber              bieber  ...        johnny-cash -0.204616\n",
              "29             r-kelly             r-kelly  ...     nursery_rhymes -0.099532\n",
              "30           lady-gaga             rihanna  ...        johnny-cash -0.109857\n",
              "31          bob-marley          bob-marley  ...          lady-gaga -0.132166\n",
              "32     michael-jackson     michael-jackson  ...          lil-wayne -0.091993\n",
              "33               bjork               bjork  ...      missy-elliott -0.153065\n",
              "34              prince       missy-elliott  ...      joni-mitchell  0.038058\n",
              "35           lil-wayne           lil-wayne  ...      joni-mitchell -0.279393\n",
              "36                cake                cake  ...      notorious-big -0.264063\n",
              "37              disney              disney  ...          lil-wayne -0.246431\n",
              "38       leonard-cohen       leonard-cohen  ...          lil-wayne -0.249632\n",
              "39         janisjoplin         janisjoplin  ...              bjork -0.173180\n",
              "40   bruce-springsteen   bruce-springsteen  ...      notorious-big -0.185757\n",
              "41             beatles             beatles  ...         kanye-west -0.236222\n",
              "42       notorious-big       notorious-big  ...            beatles -0.257986\n",
              "43               drake               drake  ...          bob-dylan -0.167899\n",
              "44         nicki-minaj         nicki-minaj  ...          bob-dylan -0.226800\n",
              "\n",
              "[45 rows x 5 columns]"
            ]
          },
          "metadata": {
            "tags": []
          },
          "execution_count": 100
        }
      ]
    },
    {
      "cell_type": "markdown",
      "metadata": {
        "id": "QFWg-lUftGka",
        "colab_type": "text"
      },
      "source": [
        "# BERT\n",
        "* Another approach involves use a transformer architecture\n",
        "* With a model like BERT we're:\n",
        "  * Classifying a sequence\n",
        "  * Reusing language understanding from the trained language model\n",
        "  * Fine tuning for our particular purpose\n",
        "* BERT has size limitations\n",
        "  * 512 Token limit (less [CLS] and [SEP])\n",
        "  * Truncate the documents to the max length \n",
        "  * Chunk the text (make multiple documents)\n",
        "  * Drop middle tokens (keep beginning and end)"
      ]
    },
    {
      "cell_type": "markdown",
      "metadata": {
        "id": "lPPdbN6bw9Gv",
        "colab_type": "text"
      },
      "source": [
        "## Pre-Training & Fine Tuning\n",
        "![](https://opendatascience.com/wp-content/uploads/2020/04/nlp7.png)"
      ]
    },
    {
      "cell_type": "markdown",
      "metadata": {
        "id": "0GabBG_AyyvX",
        "colab_type": "text"
      },
      "source": [
        "## Input\n",
        "![](https://miro.medium.com/max/2348/0*m_kXt3uqZH9e7H4w.png)"
      ]
    },
    {
      "cell_type": "markdown",
      "metadata": {
        "id": "Eay1-irfUQgk",
        "colab_type": "text"
      },
      "source": [
        "## Device\n",
        "* Test if CUDA is available, if so use the GPU else CPU"
      ]
    },
    {
      "cell_type": "code",
      "metadata": {
        "id": "bojl4RenUR07",
        "colab_type": "code",
        "colab": {
          "base_uri": "https://localhost:8080/",
          "height": 34
        },
        "outputId": "1ca1971c-bae1-4336-d5c3-5f27ac753c1f"
      },
      "source": [
        "if torch.cuda.is_available():    \n",
        "    device = torch.device(\"cuda\")\n",
        "    print('Using GPU', torch.cuda.get_device_name(0))\n",
        "else:\n",
        "    print('No GPU')\n",
        "    device = torch.device(\"cpu\")"
      ],
      "execution_count": 101,
      "outputs": [
        {
          "output_type": "stream",
          "text": [
            "Using GPU Tesla T4\n"
          ],
          "name": "stdout"
        }
      ]
    },
    {
      "cell_type": "markdown",
      "metadata": {
        "id": "XMQVST7xo_jz",
        "colab_type": "text"
      },
      "source": [
        "## Load Model\n",
        "* Load the BERT tokenizer"
      ]
    },
    {
      "cell_type": "code",
      "metadata": {
        "id": "Hs4i1JTkkRgA",
        "colab_type": "code",
        "colab": {}
      },
      "source": [
        "tokenizer = BertTokenizer.from_pretrained('bert-base-uncased', do_lower_case=True)"
      ],
      "execution_count": 102,
      "outputs": []
    },
    {
      "cell_type": "markdown",
      "metadata": {
        "id": "5WVQb3mCpJph",
        "colab_type": "text"
      },
      "source": [
        "## Batch Lyrics\n",
        "* Batch up the lyrics into bundles of \"BATCH\" size\n",
        "* We create a document / training instance per batch"
      ]
    },
    {
      "cell_type": "code",
      "metadata": {
        "id": "ISFmn1av9wiJ",
        "colab_type": "code",
        "colab": {
          "base_uri": "https://localhost:8080/",
          "height": 34
        },
        "outputId": "d9d1f94e-4066-4df4-fc77-c636de4fe2cd"
      },
      "source": [
        "BATCH = 200\n",
        "documents = []\n",
        "\n",
        "for words, artist_id in corpus:\n",
        "  for start in range(0, len(words), BATCH):\n",
        "    doc = words[start: start + BATCH]\n",
        "    documents.append((doc, artist_id))\n",
        "\n",
        "print(len(documents))"
      ],
      "execution_count": 120,
      "outputs": [
        {
          "output_type": "stream",
          "text": [
            "5642\n"
          ],
          "name": "stdout"
        }
      ]
    },
    {
      "cell_type": "markdown",
      "metadata": {
        "id": "38H6tLg7__FW",
        "colab_type": "text"
      },
      "source": [
        "## Encode\n",
        "* Call the tokenizer on each document\n",
        "* This will return a list of dictionaries with three items in each\n",
        "  * The encoded words\n",
        "  * The mask of the words (present or padding)\n",
        "  * The truth vector"
      ]
    },
    {
      "cell_type": "code",
      "metadata": {
        "id": "P5VKO-CZACYy",
        "colab_type": "code",
        "colab": {}
      },
      "source": [
        "X = []\n",
        "y = []\n",
        "\n",
        "for doc, artist_id in documents:\n",
        "  encoded = tokenizer.encode_plus(doc, \n",
        "                                  add_special_tokens = True,\n",
        "                                  pad_to_max_length=True,\n",
        "                                  truncation = True,\n",
        "                                  return_attention_mask=True,\n",
        "                                  max_length=128)\n",
        "  X.append(encoded)\n",
        "  y.append(artist_id)"
      ],
      "execution_count": 121,
      "outputs": []
    },
    {
      "cell_type": "markdown",
      "metadata": {
        "id": "uiPuOHRDBBd6",
        "colab_type": "text"
      },
      "source": [
        "## Train - Test\n",
        "* Split the encoded documents into train, test, validation"
      ]
    },
    {
      "cell_type": "code",
      "metadata": {
        "id": "1LBfSZmABFaJ",
        "colab_type": "code",
        "colab": {}
      },
      "source": [
        "X_train, X_test, y_train, y_test = train_test_split(X, y)\n",
        "X_train, X_val, y_train, y_val = train_test_split(X_train, y_train)"
      ],
      "execution_count": 122,
      "outputs": []
    },
    {
      "cell_type": "markdown",
      "metadata": {
        "id": "gXxFJwa_CfSD",
        "colab_type": "text"
      },
      "source": [
        "## PyTorch Tensors\n",
        "* Convert the lists in X_train, X_test & X_val into Tensors"
      ]
    },
    {
      "cell_type": "code",
      "metadata": {
        "id": "GhLTEyLECo9-",
        "colab_type": "code",
        "colab": {}
      },
      "source": [
        "X_train_inputs = torch.tensor([doc['input_ids'] for doc in X_train])\n",
        "X_test_inputs  = torch.tensor([doc['input_ids'] for doc in X_test])\n",
        "X_val_inputs   = torch.tensor([doc['input_ids'] for doc in X_val])\n",
        "\n",
        "y_train_labels = torch.tensor(y_train)\n",
        "y_test_labels  = torch.tensor(y_test)\n",
        "y_val_labels   = torch.tensor(y_val)\n",
        "\n",
        "X_train_masks  = torch.tensor([doc['attention_mask'] for doc in X_train])\n",
        "X_test_masks   = torch.tensor([doc['attention_mask'] for doc in X_test])\n",
        "X_val_masks    = torch.tensor([doc['attention_mask'] for doc in X_val])"
      ],
      "execution_count": 123,
      "outputs": []
    },
    {
      "cell_type": "markdown",
      "metadata": {
        "id": "qoMvepG_Dmqc",
        "colab_type": "text"
      },
      "source": [
        "## DataSet / Data Loader\n",
        "* Wrap up our tensors in a Dataset\n",
        "* Apply a sampler \n",
        "  * Random for Train\n",
        "  * Sequential for Test\n",
        "* Return a DataLoader that pulls in batches "
      ]
    },
    {
      "cell_type": "code",
      "metadata": {
        "id": "-MJ3PtgkDquC",
        "colab_type": "code",
        "colab": {}
      },
      "source": [
        "BATCH_SIZE = 8\n",
        "\n",
        "train_data       = TensorDataset(X_train_inputs, X_train_masks, y_train_labels)\n",
        "train_sampler    = RandomSampler(train_data)\n",
        "train_dataloader = DataLoader(train_data, sampler=train_sampler, batch_size=BATCH_SIZE)\n",
        "\n",
        "test_data        = TensorDataset(X_test_inputs, X_test_masks, y_test_labels)\n",
        "test_sampler     = SequentialSampler(test_data)\n",
        "test_dataloader  = DataLoader(test_data, sampler=test_sampler, batch_size=BATCH_SIZE)\n",
        "\n",
        "val_data         = TensorDataset(X_val_inputs, X_val_masks, y_val_labels)\n",
        "val_sampler      = SequentialSampler(val_data)\n",
        "val_dataloader   = DataLoader(val_data, sampler=val_sampler, batch_size=BATCH_SIZE) "
      ],
      "execution_count": 124,
      "outputs": []
    },
    {
      "cell_type": "markdown",
      "metadata": {
        "id": "Ia9MPr-Mpz-j",
        "colab_type": "text"
      },
      "source": [
        "## Model\n",
        "* Use the Bert-uncased model\n",
        "* We don't need the output of attention or hidden_state (i.e. no Decode)\n",
        "* Move the model onto the GPU"
      ]
    },
    {
      "cell_type": "code",
      "metadata": {
        "id": "cX1LOoSJpyrr",
        "colab_type": "code",
        "colab": {
          "base_uri": "https://localhost:8080/",
          "height": 1000
        },
        "outputId": "6dde8720-2e2e-40bb-8f24-d64e959ca438"
      },
      "source": [
        "labels = len(id2artist)\n",
        "model = BertForSequenceClassification.from_pretrained (\n",
        "    \"bert-base-uncased\", # 12-layer BERT model & uncased vocabulary\n",
        "    num_labels = labels, # The number of output labels\n",
        "    output_attentions = False,    # Don't return attentions weights.\n",
        "    output_hidden_states = False, # Don't return all hidden-states.\n",
        ")\n",
        "\n",
        "# Tell pytorch to run this model on the GPU.\n",
        "model.cuda()"
      ],
      "execution_count": 125,
      "outputs": [
        {
          "output_type": "stream",
          "text": [
            "Some weights of the model checkpoint at bert-base-uncased were not used when initializing BertForSequenceClassification: ['cls.predictions.bias', 'cls.predictions.transform.dense.weight', 'cls.predictions.transform.dense.bias', 'cls.predictions.decoder.weight', 'cls.seq_relationship.weight', 'cls.seq_relationship.bias', 'cls.predictions.transform.LayerNorm.weight', 'cls.predictions.transform.LayerNorm.bias']\n",
            "- This IS expected if you are initializing BertForSequenceClassification from the checkpoint of a model trained on another task or with another architecture (e.g. initializing a BertForSequenceClassification model from a BertForPretraining model).\n",
            "- This IS NOT expected if you are initializing BertForSequenceClassification from the checkpoint of a model that you expect to be exactly identical (initializing a BertForSequenceClassification model from a BertForSequenceClassification model).\n",
            "Some weights of BertForSequenceClassification were not initialized from the model checkpoint at bert-base-uncased and are newly initialized: ['classifier.weight', 'classifier.bias']\n",
            "You should probably TRAIN this model on a down-stream task to be able to use it for predictions and inference.\n"
          ],
          "name": "stderr"
        },
        {
          "output_type": "execute_result",
          "data": {
            "text/plain": [
              "BertForSequenceClassification(\n",
              "  (bert): BertModel(\n",
              "    (embeddings): BertEmbeddings(\n",
              "      (word_embeddings): Embedding(30522, 768, padding_idx=0)\n",
              "      (position_embeddings): Embedding(512, 768)\n",
              "      (token_type_embeddings): Embedding(2, 768)\n",
              "      (LayerNorm): LayerNorm((768,), eps=1e-12, elementwise_affine=True)\n",
              "      (dropout): Dropout(p=0.1, inplace=False)\n",
              "    )\n",
              "    (encoder): BertEncoder(\n",
              "      (layer): ModuleList(\n",
              "        (0): BertLayer(\n",
              "          (attention): BertAttention(\n",
              "            (self): BertSelfAttention(\n",
              "              (query): Linear(in_features=768, out_features=768, bias=True)\n",
              "              (key): Linear(in_features=768, out_features=768, bias=True)\n",
              "              (value): Linear(in_features=768, out_features=768, bias=True)\n",
              "              (dropout): Dropout(p=0.1, inplace=False)\n",
              "            )\n",
              "            (output): BertSelfOutput(\n",
              "              (dense): Linear(in_features=768, out_features=768, bias=True)\n",
              "              (LayerNorm): LayerNorm((768,), eps=1e-12, elementwise_affine=True)\n",
              "              (dropout): Dropout(p=0.1, inplace=False)\n",
              "            )\n",
              "          )\n",
              "          (intermediate): BertIntermediate(\n",
              "            (dense): Linear(in_features=768, out_features=3072, bias=True)\n",
              "          )\n",
              "          (output): BertOutput(\n",
              "            (dense): Linear(in_features=3072, out_features=768, bias=True)\n",
              "            (LayerNorm): LayerNorm((768,), eps=1e-12, elementwise_affine=True)\n",
              "            (dropout): Dropout(p=0.1, inplace=False)\n",
              "          )\n",
              "        )\n",
              "        (1): BertLayer(\n",
              "          (attention): BertAttention(\n",
              "            (self): BertSelfAttention(\n",
              "              (query): Linear(in_features=768, out_features=768, bias=True)\n",
              "              (key): Linear(in_features=768, out_features=768, bias=True)\n",
              "              (value): Linear(in_features=768, out_features=768, bias=True)\n",
              "              (dropout): Dropout(p=0.1, inplace=False)\n",
              "            )\n",
              "            (output): BertSelfOutput(\n",
              "              (dense): Linear(in_features=768, out_features=768, bias=True)\n",
              "              (LayerNorm): LayerNorm((768,), eps=1e-12, elementwise_affine=True)\n",
              "              (dropout): Dropout(p=0.1, inplace=False)\n",
              "            )\n",
              "          )\n",
              "          (intermediate): BertIntermediate(\n",
              "            (dense): Linear(in_features=768, out_features=3072, bias=True)\n",
              "          )\n",
              "          (output): BertOutput(\n",
              "            (dense): Linear(in_features=3072, out_features=768, bias=True)\n",
              "            (LayerNorm): LayerNorm((768,), eps=1e-12, elementwise_affine=True)\n",
              "            (dropout): Dropout(p=0.1, inplace=False)\n",
              "          )\n",
              "        )\n",
              "        (2): BertLayer(\n",
              "          (attention): BertAttention(\n",
              "            (self): BertSelfAttention(\n",
              "              (query): Linear(in_features=768, out_features=768, bias=True)\n",
              "              (key): Linear(in_features=768, out_features=768, bias=True)\n",
              "              (value): Linear(in_features=768, out_features=768, bias=True)\n",
              "              (dropout): Dropout(p=0.1, inplace=False)\n",
              "            )\n",
              "            (output): BertSelfOutput(\n",
              "              (dense): Linear(in_features=768, out_features=768, bias=True)\n",
              "              (LayerNorm): LayerNorm((768,), eps=1e-12, elementwise_affine=True)\n",
              "              (dropout): Dropout(p=0.1, inplace=False)\n",
              "            )\n",
              "          )\n",
              "          (intermediate): BertIntermediate(\n",
              "            (dense): Linear(in_features=768, out_features=3072, bias=True)\n",
              "          )\n",
              "          (output): BertOutput(\n",
              "            (dense): Linear(in_features=3072, out_features=768, bias=True)\n",
              "            (LayerNorm): LayerNorm((768,), eps=1e-12, elementwise_affine=True)\n",
              "            (dropout): Dropout(p=0.1, inplace=False)\n",
              "          )\n",
              "        )\n",
              "        (3): BertLayer(\n",
              "          (attention): BertAttention(\n",
              "            (self): BertSelfAttention(\n",
              "              (query): Linear(in_features=768, out_features=768, bias=True)\n",
              "              (key): Linear(in_features=768, out_features=768, bias=True)\n",
              "              (value): Linear(in_features=768, out_features=768, bias=True)\n",
              "              (dropout): Dropout(p=0.1, inplace=False)\n",
              "            )\n",
              "            (output): BertSelfOutput(\n",
              "              (dense): Linear(in_features=768, out_features=768, bias=True)\n",
              "              (LayerNorm): LayerNorm((768,), eps=1e-12, elementwise_affine=True)\n",
              "              (dropout): Dropout(p=0.1, inplace=False)\n",
              "            )\n",
              "          )\n",
              "          (intermediate): BertIntermediate(\n",
              "            (dense): Linear(in_features=768, out_features=3072, bias=True)\n",
              "          )\n",
              "          (output): BertOutput(\n",
              "            (dense): Linear(in_features=3072, out_features=768, bias=True)\n",
              "            (LayerNorm): LayerNorm((768,), eps=1e-12, elementwise_affine=True)\n",
              "            (dropout): Dropout(p=0.1, inplace=False)\n",
              "          )\n",
              "        )\n",
              "        (4): BertLayer(\n",
              "          (attention): BertAttention(\n",
              "            (self): BertSelfAttention(\n",
              "              (query): Linear(in_features=768, out_features=768, bias=True)\n",
              "              (key): Linear(in_features=768, out_features=768, bias=True)\n",
              "              (value): Linear(in_features=768, out_features=768, bias=True)\n",
              "              (dropout): Dropout(p=0.1, inplace=False)\n",
              "            )\n",
              "            (output): BertSelfOutput(\n",
              "              (dense): Linear(in_features=768, out_features=768, bias=True)\n",
              "              (LayerNorm): LayerNorm((768,), eps=1e-12, elementwise_affine=True)\n",
              "              (dropout): Dropout(p=0.1, inplace=False)\n",
              "            )\n",
              "          )\n",
              "          (intermediate): BertIntermediate(\n",
              "            (dense): Linear(in_features=768, out_features=3072, bias=True)\n",
              "          )\n",
              "          (output): BertOutput(\n",
              "            (dense): Linear(in_features=3072, out_features=768, bias=True)\n",
              "            (LayerNorm): LayerNorm((768,), eps=1e-12, elementwise_affine=True)\n",
              "            (dropout): Dropout(p=0.1, inplace=False)\n",
              "          )\n",
              "        )\n",
              "        (5): BertLayer(\n",
              "          (attention): BertAttention(\n",
              "            (self): BertSelfAttention(\n",
              "              (query): Linear(in_features=768, out_features=768, bias=True)\n",
              "              (key): Linear(in_features=768, out_features=768, bias=True)\n",
              "              (value): Linear(in_features=768, out_features=768, bias=True)\n",
              "              (dropout): Dropout(p=0.1, inplace=False)\n",
              "            )\n",
              "            (output): BertSelfOutput(\n",
              "              (dense): Linear(in_features=768, out_features=768, bias=True)\n",
              "              (LayerNorm): LayerNorm((768,), eps=1e-12, elementwise_affine=True)\n",
              "              (dropout): Dropout(p=0.1, inplace=False)\n",
              "            )\n",
              "          )\n",
              "          (intermediate): BertIntermediate(\n",
              "            (dense): Linear(in_features=768, out_features=3072, bias=True)\n",
              "          )\n",
              "          (output): BertOutput(\n",
              "            (dense): Linear(in_features=3072, out_features=768, bias=True)\n",
              "            (LayerNorm): LayerNorm((768,), eps=1e-12, elementwise_affine=True)\n",
              "            (dropout): Dropout(p=0.1, inplace=False)\n",
              "          )\n",
              "        )\n",
              "        (6): BertLayer(\n",
              "          (attention): BertAttention(\n",
              "            (self): BertSelfAttention(\n",
              "              (query): Linear(in_features=768, out_features=768, bias=True)\n",
              "              (key): Linear(in_features=768, out_features=768, bias=True)\n",
              "              (value): Linear(in_features=768, out_features=768, bias=True)\n",
              "              (dropout): Dropout(p=0.1, inplace=False)\n",
              "            )\n",
              "            (output): BertSelfOutput(\n",
              "              (dense): Linear(in_features=768, out_features=768, bias=True)\n",
              "              (LayerNorm): LayerNorm((768,), eps=1e-12, elementwise_affine=True)\n",
              "              (dropout): Dropout(p=0.1, inplace=False)\n",
              "            )\n",
              "          )\n",
              "          (intermediate): BertIntermediate(\n",
              "            (dense): Linear(in_features=768, out_features=3072, bias=True)\n",
              "          )\n",
              "          (output): BertOutput(\n",
              "            (dense): Linear(in_features=3072, out_features=768, bias=True)\n",
              "            (LayerNorm): LayerNorm((768,), eps=1e-12, elementwise_affine=True)\n",
              "            (dropout): Dropout(p=0.1, inplace=False)\n",
              "          )\n",
              "        )\n",
              "        (7): BertLayer(\n",
              "          (attention): BertAttention(\n",
              "            (self): BertSelfAttention(\n",
              "              (query): Linear(in_features=768, out_features=768, bias=True)\n",
              "              (key): Linear(in_features=768, out_features=768, bias=True)\n",
              "              (value): Linear(in_features=768, out_features=768, bias=True)\n",
              "              (dropout): Dropout(p=0.1, inplace=False)\n",
              "            )\n",
              "            (output): BertSelfOutput(\n",
              "              (dense): Linear(in_features=768, out_features=768, bias=True)\n",
              "              (LayerNorm): LayerNorm((768,), eps=1e-12, elementwise_affine=True)\n",
              "              (dropout): Dropout(p=0.1, inplace=False)\n",
              "            )\n",
              "          )\n",
              "          (intermediate): BertIntermediate(\n",
              "            (dense): Linear(in_features=768, out_features=3072, bias=True)\n",
              "          )\n",
              "          (output): BertOutput(\n",
              "            (dense): Linear(in_features=3072, out_features=768, bias=True)\n",
              "            (LayerNorm): LayerNorm((768,), eps=1e-12, elementwise_affine=True)\n",
              "            (dropout): Dropout(p=0.1, inplace=False)\n",
              "          )\n",
              "        )\n",
              "        (8): BertLayer(\n",
              "          (attention): BertAttention(\n",
              "            (self): BertSelfAttention(\n",
              "              (query): Linear(in_features=768, out_features=768, bias=True)\n",
              "              (key): Linear(in_features=768, out_features=768, bias=True)\n",
              "              (value): Linear(in_features=768, out_features=768, bias=True)\n",
              "              (dropout): Dropout(p=0.1, inplace=False)\n",
              "            )\n",
              "            (output): BertSelfOutput(\n",
              "              (dense): Linear(in_features=768, out_features=768, bias=True)\n",
              "              (LayerNorm): LayerNorm((768,), eps=1e-12, elementwise_affine=True)\n",
              "              (dropout): Dropout(p=0.1, inplace=False)\n",
              "            )\n",
              "          )\n",
              "          (intermediate): BertIntermediate(\n",
              "            (dense): Linear(in_features=768, out_features=3072, bias=True)\n",
              "          )\n",
              "          (output): BertOutput(\n",
              "            (dense): Linear(in_features=3072, out_features=768, bias=True)\n",
              "            (LayerNorm): LayerNorm((768,), eps=1e-12, elementwise_affine=True)\n",
              "            (dropout): Dropout(p=0.1, inplace=False)\n",
              "          )\n",
              "        )\n",
              "        (9): BertLayer(\n",
              "          (attention): BertAttention(\n",
              "            (self): BertSelfAttention(\n",
              "              (query): Linear(in_features=768, out_features=768, bias=True)\n",
              "              (key): Linear(in_features=768, out_features=768, bias=True)\n",
              "              (value): Linear(in_features=768, out_features=768, bias=True)\n",
              "              (dropout): Dropout(p=0.1, inplace=False)\n",
              "            )\n",
              "            (output): BertSelfOutput(\n",
              "              (dense): Linear(in_features=768, out_features=768, bias=True)\n",
              "              (LayerNorm): LayerNorm((768,), eps=1e-12, elementwise_affine=True)\n",
              "              (dropout): Dropout(p=0.1, inplace=False)\n",
              "            )\n",
              "          )\n",
              "          (intermediate): BertIntermediate(\n",
              "            (dense): Linear(in_features=768, out_features=3072, bias=True)\n",
              "          )\n",
              "          (output): BertOutput(\n",
              "            (dense): Linear(in_features=3072, out_features=768, bias=True)\n",
              "            (LayerNorm): LayerNorm((768,), eps=1e-12, elementwise_affine=True)\n",
              "            (dropout): Dropout(p=0.1, inplace=False)\n",
              "          )\n",
              "        )\n",
              "        (10): BertLayer(\n",
              "          (attention): BertAttention(\n",
              "            (self): BertSelfAttention(\n",
              "              (query): Linear(in_features=768, out_features=768, bias=True)\n",
              "              (key): Linear(in_features=768, out_features=768, bias=True)\n",
              "              (value): Linear(in_features=768, out_features=768, bias=True)\n",
              "              (dropout): Dropout(p=0.1, inplace=False)\n",
              "            )\n",
              "            (output): BertSelfOutput(\n",
              "              (dense): Linear(in_features=768, out_features=768, bias=True)\n",
              "              (LayerNorm): LayerNorm((768,), eps=1e-12, elementwise_affine=True)\n",
              "              (dropout): Dropout(p=0.1, inplace=False)\n",
              "            )\n",
              "          )\n",
              "          (intermediate): BertIntermediate(\n",
              "            (dense): Linear(in_features=768, out_features=3072, bias=True)\n",
              "          )\n",
              "          (output): BertOutput(\n",
              "            (dense): Linear(in_features=3072, out_features=768, bias=True)\n",
              "            (LayerNorm): LayerNorm((768,), eps=1e-12, elementwise_affine=True)\n",
              "            (dropout): Dropout(p=0.1, inplace=False)\n",
              "          )\n",
              "        )\n",
              "        (11): BertLayer(\n",
              "          (attention): BertAttention(\n",
              "            (self): BertSelfAttention(\n",
              "              (query): Linear(in_features=768, out_features=768, bias=True)\n",
              "              (key): Linear(in_features=768, out_features=768, bias=True)\n",
              "              (value): Linear(in_features=768, out_features=768, bias=True)\n",
              "              (dropout): Dropout(p=0.1, inplace=False)\n",
              "            )\n",
              "            (output): BertSelfOutput(\n",
              "              (dense): Linear(in_features=768, out_features=768, bias=True)\n",
              "              (LayerNorm): LayerNorm((768,), eps=1e-12, elementwise_affine=True)\n",
              "              (dropout): Dropout(p=0.1, inplace=False)\n",
              "            )\n",
              "          )\n",
              "          (intermediate): BertIntermediate(\n",
              "            (dense): Linear(in_features=768, out_features=3072, bias=True)\n",
              "          )\n",
              "          (output): BertOutput(\n",
              "            (dense): Linear(in_features=3072, out_features=768, bias=True)\n",
              "            (LayerNorm): LayerNorm((768,), eps=1e-12, elementwise_affine=True)\n",
              "            (dropout): Dropout(p=0.1, inplace=False)\n",
              "          )\n",
              "        )\n",
              "      )\n",
              "    )\n",
              "    (pooler): BertPooler(\n",
              "      (dense): Linear(in_features=768, out_features=768, bias=True)\n",
              "      (activation): Tanh()\n",
              "    )\n",
              "  )\n",
              "  (dropout): Dropout(p=0.1, inplace=False)\n",
              "  (classifier): Linear(in_features=768, out_features=45, bias=True)\n",
              ")"
            ]
          },
          "metadata": {
            "tags": []
          },
          "execution_count": 125
        }
      ]
    },
    {
      "cell_type": "code",
      "metadata": {
        "id": "EG_sD9bTqJMs",
        "colab_type": "code",
        "colab": {}
      },
      "source": [
        "optimizer = AdamW(model.parameters(),\n",
        "    lr  = 5e-5, # args.learning_rate - default is 5e-5.\n",
        "    eps = 1e-8  # args.adam_epsilon  - default is 1e-8.\n",
        ")"
      ],
      "execution_count": 126,
      "outputs": []
    },
    {
      "cell_type": "code",
      "metadata": {
        "id": "1WbVQuYZqkxa",
        "colab_type": "code",
        "colab": {}
      },
      "source": [
        "EPOCHS = 4\n",
        "\n",
        "# Total number of training steps is number of batches * number of epochs.\n",
        "total_steps = len(train_dataloader) * EPOCHS\n",
        "\n",
        "# Create the learning rate scheduler.\n",
        "scheduler = get_linear_schedule_with_warmup(optimizer, \n",
        "                                            num_warmup_steps = 0, # Default value in run_glue.py\n",
        "                                            num_training_steps = total_steps)"
      ],
      "execution_count": 127,
      "outputs": []
    },
    {
      "cell_type": "code",
      "metadata": {
        "id": "MOvvEikUqqmn",
        "colab_type": "code",
        "colab": {}
      },
      "source": [
        "def flat_accuracy(preds, labels):\n",
        "    pred_flat = np.argmax(preds, axis=1).flatten()\n",
        "    labels_flat = labels.flatten()\n",
        "    return np.sum(pred_flat == labels_flat) / len(labels_flat)"
      ],
      "execution_count": 128,
      "outputs": []
    },
    {
      "cell_type": "code",
      "metadata": {
        "id": "zfNSubFJqxnZ",
        "colab_type": "code",
        "colab": {}
      },
      "source": [
        "def format_time(elapsed):\n",
        "    return str(datetime.timedelta(seconds=int(round((elapsed)))))"
      ],
      "execution_count": 129,
      "outputs": []
    },
    {
      "cell_type": "markdown",
      "metadata": {
        "id": "brvsA_sjq6ix",
        "colab_type": "text"
      },
      "source": [
        "## Training"
      ]
    },
    {
      "cell_type": "code",
      "metadata": {
        "id": "2Xxd3yUutAxq",
        "colab_type": "code",
        "colab": {}
      },
      "source": [
        "SEED = 1003\n",
        "random.seed(SEED)\n",
        "np.random.seed(SEED)\n",
        "torch.manual_seed(SEED)\n",
        "torch.cuda.manual_seed_all(SEED)"
      ],
      "execution_count": 130,
      "outputs": []
    },
    {
      "cell_type": "code",
      "metadata": {
        "id": "NzK9DmTmq5_4",
        "colab_type": "code",
        "colab": {
          "base_uri": "https://localhost:8080/",
          "height": 1000
        },
        "outputId": "dd265f9c-c777-4e96-888c-852897264025"
      },
      "source": [
        "# Average Epoch Losses\n",
        "loss_values = []\n",
        "\n",
        "# Training Loop\n",
        "for epoch_i in range(0, EPOCHS):\n",
        "  print(\"\")\n",
        "  print('======== Epoch {:} / {:} ========'.format(epoch_i + 1, EPOCHS))\n",
        "  print('Training...')\n",
        "\n",
        "  # Measure how long the training epoch takes.\n",
        "  t0 = time.time()\n",
        "\n",
        "  # Reset the total loss for this epoch.\n",
        "  total_loss = 0\n",
        "\n",
        "  # Training mode\n",
        "  model.train()\n",
        "\n",
        "  # For each batch of training data...\n",
        "  for step, batch in enumerate(train_dataloader):\n",
        "\n",
        "    # Progress update every 100 batches.\n",
        "    if step % 20 == 0 and not step == 0:\n",
        "        # Calculate elapsed time in minutes.\n",
        "        elapsed = format_time(time.time() - t0)\n",
        "        \n",
        "        # Report progress.\n",
        "        print('  Batch {:>5,}  of  {:>5,}.    Elapsed: {:}.'.format(step, len(train_dataloader), elapsed))\n",
        "\n",
        "    # Use the dataloader to grab a batch\n",
        "    # Unpack into \"b_\" batch variables\n",
        "    #   input ids \n",
        "    #   attention masks\n",
        "    #   labels \n",
        "    b_input_ids = batch[0].to(device)\n",
        "    b_input_mask = batch[1].to(device)\n",
        "    b_labels = batch[2].to(device)\n",
        "\n",
        "    # Clear previous gradients \n",
        "    model.zero_grad()        \n",
        "\n",
        "    # Forward pass \n",
        "    outputs = model(b_input_ids, \n",
        "                token_type_ids=None, \n",
        "                attention_mask=b_input_mask, \n",
        "                labels=b_labels)\n",
        "    \n",
        "    # Take loss from the forward pass output\n",
        "    loss = outputs[0]\n",
        "\n",
        "    # Accumulate the training loss \n",
        "    total_loss += loss.item()\n",
        "\n",
        "    # Backward pass / calc gradients.\n",
        "    loss.backward()\n",
        "\n",
        "    # Clip gradients -- Prevent \"exploding gradients\"\n",
        "    torch.nn.utils.clip_grad_norm_(model.parameters(), 1.0)\n",
        "\n",
        "    # Update parameters (i.e. weights)\n",
        "    # Step using the gradient.\n",
        "    optimizer.step()\n",
        "\n",
        "    # Update the learning rate with our scheduler\n",
        "    scheduler.step()\n",
        "\n",
        "  # Calculate the average loss over the training data.\n",
        "  avg_train_loss = total_loss / len(train_dataloader)            \n",
        "  \n",
        "  # Store the loss value for plotting the learning curve.\n",
        "  loss_values.append(avg_train_loss)\n",
        "\n",
        "  print(\"\")\n",
        "  print(\"  Average training loss: {0:.2f}\".format(avg_train_loss))\n",
        "  print(\"  Training Epoch took: {:}\".format(format_time(time.time() - t0)))\n",
        "      \n",
        "  # Validation\n",
        "  print(\"\")\n",
        "  print(\"Running Validation...\")\n",
        "\n",
        "  t0 = time.time()\n",
        "\n",
        "  # Evaluation mode\n",
        "  model.eval()\n",
        "\n",
        "  # Tracking variables \n",
        "  eval_loss, eval_accuracy = 0, 0\n",
        "  nb_eval_steps, nb_eval_examples = 0, 0\n",
        "\n",
        "  # Evaluate data for one epoch\n",
        "  for batch in val_dataloader:    \n",
        "    # Add batch to GPU\n",
        "    batch = tuple(t.to(device) for t in batch)\n",
        "    \n",
        "    # Unpack the inputs from our dataloader\n",
        "    b_input_ids, b_input_mask, b_labels = batch\n",
        "    \n",
        "    # Telling the model not to compute or store gradients, saving memory and\n",
        "    # speeding up validation\n",
        "    with torch.no_grad():        \n",
        "      outputs = model(b_input_ids, \n",
        "                      token_type_ids=None, \n",
        "                      attention_mask=b_input_mask)\n",
        "    \n",
        "    # Get the \"logits\" output by the model. The \"logits\" are the output\n",
        "    # values prior to applying an activation function like the softmax.\n",
        "    logits = outputs[0]\n",
        "\n",
        "    # Move logits and labels to CPU\n",
        "    logits = logits.detach().cpu().numpy()\n",
        "    label_ids = b_labels.to('cpu').numpy()\n",
        "    \n",
        "    # Calculate the accuracy for this batch \n",
        "    # Flat_accuracy = flattened\n",
        "    tmp_eval_accuracy = flat_accuracy(logits, label_ids)\n",
        "    \n",
        "    # Accumulate \n",
        "    eval_accuracy += tmp_eval_accuracy\n",
        "\n",
        "    # Track the number of batches\n",
        "    nb_eval_steps += 1\n",
        "\n",
        "  # Final accuracy\n",
        "  print(\"  Accuracy: {0:.2f}\".format(eval_accuracy/nb_eval_steps))\n",
        "  print(\"  Validation took: {:}\".format(format_time(time.time() - t0)))"
      ],
      "execution_count": 131,
      "outputs": [
        {
          "output_type": "stream",
          "text": [
            "\n",
            "======== Epoch 1 / 4 ========\n",
            "Training...\n",
            "  Batch    20  of    397.    Elapsed: 0:00:05.\n",
            "  Batch    40  of    397.    Elapsed: 0:00:09.\n",
            "  Batch    60  of    397.    Elapsed: 0:00:14.\n",
            "  Batch    80  of    397.    Elapsed: 0:00:18.\n",
            "  Batch   100  of    397.    Elapsed: 0:00:23.\n",
            "  Batch   120  of    397.    Elapsed: 0:00:28.\n",
            "  Batch   140  of    397.    Elapsed: 0:00:32.\n",
            "  Batch   160  of    397.    Elapsed: 0:00:37.\n",
            "  Batch   180  of    397.    Elapsed: 0:00:41.\n",
            "  Batch   200  of    397.    Elapsed: 0:00:46.\n",
            "  Batch   220  of    397.    Elapsed: 0:00:50.\n",
            "  Batch   240  of    397.    Elapsed: 0:00:55.\n",
            "  Batch   260  of    397.    Elapsed: 0:00:59.\n",
            "  Batch   280  of    397.    Elapsed: 0:01:04.\n",
            "  Batch   300  of    397.    Elapsed: 0:01:08.\n",
            "  Batch   320  of    397.    Elapsed: 0:01:13.\n",
            "  Batch   340  of    397.    Elapsed: 0:01:17.\n",
            "  Batch   360  of    397.    Elapsed: 0:01:22.\n",
            "  Batch   380  of    397.    Elapsed: 0:01:26.\n",
            "\n",
            "  Average training loss: 3.54\n",
            "  Training Epoch took: 0:01:30\n",
            "\n",
            "Running Validation...\n",
            "  Accuracy: 0.14\n",
            "  Validation took: 0:00:09\n",
            "\n",
            "======== Epoch 2 / 4 ========\n",
            "Training...\n",
            "  Batch    20  of    397.    Elapsed: 0:00:04.\n",
            "  Batch    40  of    397.    Elapsed: 0:00:09.\n",
            "  Batch    60  of    397.    Elapsed: 0:00:14.\n",
            "  Batch    80  of    397.    Elapsed: 0:00:18.\n",
            "  Batch   100  of    397.    Elapsed: 0:00:23.\n",
            "  Batch   120  of    397.    Elapsed: 0:00:27.\n",
            "  Batch   140  of    397.    Elapsed: 0:00:32.\n",
            "  Batch   160  of    397.    Elapsed: 0:00:36.\n",
            "  Batch   180  of    397.    Elapsed: 0:00:41.\n",
            "  Batch   200  of    397.    Elapsed: 0:00:45.\n",
            "  Batch   220  of    397.    Elapsed: 0:00:50.\n",
            "  Batch   240  of    397.    Elapsed: 0:00:54.\n",
            "  Batch   260  of    397.    Elapsed: 0:00:58.\n",
            "  Batch   280  of    397.    Elapsed: 0:01:03.\n",
            "  Batch   300  of    397.    Elapsed: 0:01:07.\n",
            "  Batch   320  of    397.    Elapsed: 0:01:12.\n",
            "  Batch   340  of    397.    Elapsed: 0:01:16.\n",
            "  Batch   360  of    397.    Elapsed: 0:01:21.\n",
            "  Batch   380  of    397.    Elapsed: 0:01:25.\n",
            "\n",
            "  Average training loss: 3.00\n",
            "  Training Epoch took: 0:01:29\n",
            "\n",
            "Running Validation...\n",
            "  Accuracy: 0.16\n",
            "  Validation took: 0:00:09\n",
            "\n",
            "======== Epoch 3 / 4 ========\n",
            "Training...\n",
            "  Batch    20  of    397.    Elapsed: 0:00:05.\n",
            "  Batch    40  of    397.    Elapsed: 0:00:09.\n",
            "  Batch    60  of    397.    Elapsed: 0:00:13.\n",
            "  Batch    80  of    397.    Elapsed: 0:00:18.\n",
            "  Batch   100  of    397.    Elapsed: 0:00:22.\n",
            "  Batch   120  of    397.    Elapsed: 0:00:27.\n",
            "  Batch   140  of    397.    Elapsed: 0:00:31.\n",
            "  Batch   160  of    397.    Elapsed: 0:00:36.\n",
            "  Batch   180  of    397.    Elapsed: 0:00:40.\n",
            "  Batch   200  of    397.    Elapsed: 0:00:45.\n",
            "  Batch   220  of    397.    Elapsed: 0:00:49.\n",
            "  Batch   240  of    397.    Elapsed: 0:00:54.\n",
            "  Batch   260  of    397.    Elapsed: 0:00:58.\n",
            "  Batch   280  of    397.    Elapsed: 0:01:03.\n",
            "  Batch   300  of    397.    Elapsed: 0:01:07.\n",
            "  Batch   320  of    397.    Elapsed: 0:01:12.\n",
            "  Batch   340  of    397.    Elapsed: 0:01:16.\n",
            "  Batch   360  of    397.    Elapsed: 0:01:21.\n",
            "  Batch   380  of    397.    Elapsed: 0:01:25.\n",
            "\n",
            "  Average training loss: 2.66\n",
            "  Training Epoch took: 0:01:29\n",
            "\n",
            "Running Validation...\n",
            "  Accuracy: 0.22\n",
            "  Validation took: 0:00:09\n",
            "\n",
            "======== Epoch 4 / 4 ========\n",
            "Training...\n",
            "  Batch    20  of    397.    Elapsed: 0:00:04.\n",
            "  Batch    40  of    397.    Elapsed: 0:00:09.\n",
            "  Batch    60  of    397.    Elapsed: 0:00:13.\n",
            "  Batch    80  of    397.    Elapsed: 0:00:18.\n",
            "  Batch   100  of    397.    Elapsed: 0:00:22.\n",
            "  Batch   120  of    397.    Elapsed: 0:00:27.\n",
            "  Batch   140  of    397.    Elapsed: 0:00:31.\n",
            "  Batch   160  of    397.    Elapsed: 0:00:36.\n",
            "  Batch   180  of    397.    Elapsed: 0:00:40.\n",
            "  Batch   200  of    397.    Elapsed: 0:00:45.\n",
            "  Batch   220  of    397.    Elapsed: 0:00:49.\n",
            "  Batch   240  of    397.    Elapsed: 0:00:54.\n",
            "  Batch   260  of    397.    Elapsed: 0:00:58.\n",
            "  Batch   280  of    397.    Elapsed: 0:01:03.\n",
            "  Batch   300  of    397.    Elapsed: 0:01:07.\n",
            "  Batch   320  of    397.    Elapsed: 0:01:12.\n",
            "  Batch   340  of    397.    Elapsed: 0:01:16.\n",
            "  Batch   360  of    397.    Elapsed: 0:01:21.\n",
            "  Batch   380  of    397.    Elapsed: 0:01:25.\n",
            "\n",
            "  Average training loss: 2.34\n",
            "  Training Epoch took: 0:01:29\n",
            "\n",
            "Running Validation...\n",
            "  Accuracy: 0.27\n",
            "  Validation took: 0:00:09\n"
          ],
          "name": "stdout"
        }
      ]
    },
    {
      "cell_type": "markdown",
      "metadata": {
        "id": "zUUOf4km3Wqw",
        "colab_type": "text"
      },
      "source": [
        "## Plot"
      ]
    },
    {
      "cell_type": "code",
      "metadata": {
        "id": "jNhT4dOW3cXN",
        "colab_type": "code",
        "colab": {
          "base_uri": "https://localhost:8080/",
          "height": 513
        },
        "outputId": "8af0318d-a833-4b05-9695-39a8e37ff90d"
      },
      "source": [
        "plt.figure(figsize=(10,8))\n",
        "plt.plot(loss_values)\n",
        "plt.title('Training Loss')\n",
        "plt.xlabel('Epochs')\n",
        "plt.ylabel('Loss');"
      ],
      "execution_count": 142,
      "outputs": [
        {
          "output_type": "display_data",
          "data": {
            "image/png": "[encoded data removed]",
            "text/plain": [
              "<Figure size 720x576 with 1 Axes>"
            ]
          },
          "metadata": {
            "tags": [],
            "needs_background": "light"
          }
        }
      ]
    },
    {
      "cell_type": "markdown",
      "metadata": {
        "id": "RPCTL4vqWNVS",
        "colab_type": "text"
      },
      "source": [
        "## Test"
      ]
    },
    {
      "cell_type": "code",
      "metadata": {
        "id": "PlwdFy_eT5yy",
        "colab_type": "code",
        "colab": {
          "base_uri": "https://localhost:8080/",
          "height": 153
        },
        "outputId": "b723403a-069b-4a77-bbe6-1f0dcfb9c828"
      },
      "source": [
        "# Put model in evaluation mode\n",
        "model.eval()\n",
        "\n",
        "# Tracking variables \n",
        "predictions , true_labels = [], []\n",
        "\n",
        "# Measure elapsed time.\n",
        "t0 = time.time()\n",
        "\n",
        "# Predict \n",
        "for (step, batch) in enumerate(test_dataloader):\n",
        "    \n",
        "    # Add batch to GPU\n",
        "    batch = tuple(t.to(device) for t in batch)\n",
        "  \n",
        "    # Progress update every 100 batches.\n",
        "    if step % 20 == 0 and not step == 0:\n",
        "        # Calculate elapsed time in minutes.\n",
        "        elapsed = format_time(time.time() - t0)\n",
        "        \n",
        "        # Report progress.\n",
        "        print('  Batch {:>5,}  of  {:>5,}.    Elapsed: {:}.'.format(step, len(test_dataloader), elapsed))\n",
        "\n",
        "\n",
        "    # Unpack the inputs from our dataloader\n",
        "    b_input_ids, b_input_mask, b_labels = batch\n",
        "  \n",
        "    # Telling the model not to compute or store gradients, saving memory and \n",
        "    # speeding up prediction\n",
        "    with torch.no_grad():\n",
        "        # Forward pass, calculate logit predictions\n",
        "        outputs = model(b_input_ids, token_type_ids=None, \n",
        "                        attention_mask=b_input_mask)\n",
        "\n",
        "    logits = outputs[0]\n",
        "\n",
        "    # Move logits and labels to CPU\n",
        "    logits = logits.detach().cpu().numpy()\n",
        "    label_ids = b_labels.to('cpu').numpy()\n",
        "  \n",
        "    # Store predictions and true labels\n",
        "    predictions.append(logits)\n",
        "    true_labels.append(label_ids)\n"
      ],
      "execution_count": 147,
      "outputs": [
        {
          "output_type": "stream",
          "text": [
            "  Batch    20  of    177.    Elapsed: 0:00:01.\n",
            "  Batch    40  of    177.    Elapsed: 0:00:03.\n",
            "  Batch    60  of    177.    Elapsed: 0:00:04.\n",
            "  Batch    80  of    177.    Elapsed: 0:00:06.\n",
            "  Batch   100  of    177.    Elapsed: 0:00:07.\n",
            "  Batch   120  of    177.    Elapsed: 0:00:09.\n",
            "  Batch   140  of    177.    Elapsed: 0:00:10.\n",
            "  Batch   160  of    177.    Elapsed: 0:00:12.\n"
          ],
          "name": "stdout"
        }
      ]
    },
    {
      "cell_type": "code",
      "metadata": {
        "id": "OXWrni1YWWGr",
        "colab_type": "code",
        "colab": {}
      },
      "source": [
        "predictions = np.concatenate(predictions, axis=0)\n",
        "predictions_class = np.argmax(predictions, axis=1)\n",
        "\n",
        "true_labels_agg = np.concatenate(true_labels, axis=0)\n",
        "true_labels_class = true_labels_agg.T.squeeze()"
      ],
      "execution_count": 148,
      "outputs": []
    },
    {
      "cell_type": "markdown",
      "metadata": {
        "id": "Kj6FrrO53QVM",
        "colab_type": "text"
      },
      "source": [
        "## Accuracy"
      ]
    },
    {
      "cell_type": "code",
      "metadata": {
        "id": "ZOqmbLXPWlim",
        "colab_type": "code",
        "colab": {
          "base_uri": "https://localhost:8080/",
          "height": 955
        },
        "outputId": "08ecda1e-c6ec-4433-b947-6c8d2e3010de"
      },
      "source": [
        "print(classification_report(true_labels_class, predictions_class, target_names=id2artist))"
      ],
      "execution_count": 137,
      "outputs": [
        {
          "output_type": "stream",
          "text": [
            "                    precision    recall  f1-score   support\n",
            "\n",
            "           nirvana       0.00      0.00      0.00        13\n",
            "         bob-dylan       0.22      0.76      0.33        49\n",
            "      dolly-parton       0.00      0.00      0.00        23\n",
            "      jimi-hendrix       0.00      0.00      0.00        20\n",
            "       alicia-keys       0.00      0.00      0.00        34\n",
            "        kanye-west       0.39      0.79      0.52        61\n",
            "           rihanna       0.00      0.00      0.00        34\n",
            "         dj-khaled       0.30      0.17      0.22        41\n",
            "            eminem       0.34      0.73      0.47        82\n",
            "     amy-winehouse       0.00      0.00      0.00        20\n",
            "          ludacris       0.38      0.34      0.36        53\n",
            "    britney-spears       0.12      0.23      0.15        31\n",
            "             lorde       0.00      0.00      0.00        16\n",
            "         radiohead       0.00      0.00      0.00        13\n",
            "        bruno-mars       0.00      0.00      0.00        36\n",
            "     missy-elliott       0.68      0.50      0.57        50\n",
            "    nursery_rhymes       0.00      0.00      0.00        16\n",
            "lin-manuel-miranda       0.00      0.00      0.00         6\n",
            "          dr-seuss       0.00      0.00      0.00        10\n",
            "         blink-182       0.00      0.00      0.00        22\n",
            "        nickelback       0.27      0.32      0.29        41\n",
            "     joni-mitchell       0.00      0.00      0.00        23\n",
            "             adele       0.10      0.53      0.17        17\n",
            "          al-green       0.00      0.00      0.00        25\n",
            "       patti-smith       0.00      0.00      0.00        16\n",
            "       johnny-cash       0.00      0.00      0.00        19\n",
            "         dickinson       0.53      0.95      0.68        39\n",
            "        paul-simon       0.00      0.00      0.00        17\n",
            "            bieber       0.13      0.52      0.20        29\n",
            "           r-kelly       0.29      0.04      0.08        46\n",
            "         lady-gaga       0.29      0.05      0.09        38\n",
            "        bob-marley       0.00      0.00      0.00        19\n",
            "   michael-jackson       0.13      0.54      0.22        52\n",
            "             bjork       0.00      0.00      0.00        15\n",
            "            prince       0.46      0.64      0.54        69\n",
            "         lil-wayne       0.00      0.00      0.00        23\n",
            "              cake       0.00      0.00      0.00        16\n",
            "            disney       0.00      0.00      0.00        10\n",
            "     leonard-cohen       0.03      0.05      0.04        22\n",
            "       janisjoplin       0.50      0.30      0.37        27\n",
            " bruce-springsteen       0.11      0.03      0.05        32\n",
            "           beatles       0.00      0.00      0.00        20\n",
            "     notorious-big       0.30      0.12      0.17        57\n",
            "             drake       0.31      0.07      0.12        56\n",
            "       nicki-minaj       0.25      0.13      0.17        53\n",
            "\n",
            "          accuracy                           0.27      1411\n",
            "         macro avg       0.14      0.17      0.13      1411\n",
            "      weighted avg       0.21      0.27      0.20      1411\n",
            "\n"
          ],
          "name": "stdout"
        },
        {
          "output_type": "stream",
          "text": [
            "/usr/local/lib/python3.6/dist-packages/sklearn/metrics/_classification.py:1272: UndefinedMetricWarning: Precision and F-score are ill-defined and being set to 0.0 in labels with no predicted samples. Use `zero_division` parameter to control this behavior.\n",
            "  _warn_prf(average, modifier, msg_start, len(result))\n"
          ],
          "name": "stderr"
        }
      ]
    },
    {
      "cell_type": "code",
      "metadata": {
        "id": "E-EH_4zD4Kqj",
        "colab_type": "code",
        "colab": {}
      },
      "source": [
        ""
      ],
      "execution_count": null,
      "outputs": []
    }
  ]
}