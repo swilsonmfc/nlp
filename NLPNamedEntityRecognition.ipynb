{
  "nbformat": 4,
  "nbformat_minor": 0,
  "metadata": {
    "colab": {
      "name": "NLPNamedEntityRecognition",
      "provenance": [],
      "toc_visible": true,
      "authorship_tag": "ABX9TyOd7AelF12LTPBwm452mK7S",
      "include_colab_link": true
    },
    "kernelspec": {
      "name": "python3",
      "display_name": "Python 3"
    },
    "accelerator": "GPU"
  },
  "cells": [
    {
      "cell_type": "markdown",
      "metadata": {
        "id": "view-in-github",
        "colab_type": "text"
      },
      "source": [
        "<a href=\"https://colab.research.google.com/github/swilsonmfc/nlp/blob/master/NLPNamedEntityRecognition.ipynb\" target=\"_parent\"><img src=\"https://colab.research.google.com/assets/colab-badge.svg\" alt=\"Open In Colab\"/></a>"
      ]
    },
    {
      "cell_type": "markdown",
      "metadata": {
        "id": "dyip83LTH1lw",
        "colab_type": "text"
      },
      "source": [
        "# Named Entity Recognition\n",
        "![alt text](https://cdn.britannica.com/55/188355-050-D5E49258/Salvatore-Corsitto-The-Godfather-Marlon-Brando-Francis.jpg)\n"
      ]
    },
    {
      "cell_type": "markdown",
      "metadata": {
        "id": "GmF_3XuEILMa",
        "colab_type": "text"
      },
      "source": [
        "# Setup"
      ]
    },
    {
      "cell_type": "code",
      "metadata": {
        "id": "jvYfqhwjIbQZ",
        "colab_type": "code",
        "colab": {
          "base_uri": "https://localhost:8080/",
          "height": 360
        },
        "outputId": "6a0acb62-7430-4b64-979a-e5d873a84eb8"
      },
      "source": [
        "pip install transformers"
      ],
      "execution_count": 1,
      "outputs": [
        {
          "output_type": "stream",
          "text": [
            "Requirement already satisfied: transformers in /usr/local/lib/python3.6/dist-packages (3.0.2)\n",
            "Requirement already satisfied: sentencepiece!=0.1.92 in /usr/local/lib/python3.6/dist-packages (from transformers) (0.1.91)\n",
            "Requirement already satisfied: regex!=2019.12.17 in /usr/local/lib/python3.6/dist-packages (from transformers) (2019.12.20)\n",
            "Requirement already satisfied: numpy in /usr/local/lib/python3.6/dist-packages (from transformers) (1.18.5)\n",
            "Requirement already satisfied: sacremoses in /usr/local/lib/python3.6/dist-packages (from transformers) (0.0.43)\n",
            "Requirement already satisfied: tqdm>=4.27 in /usr/local/lib/python3.6/dist-packages (from transformers) (4.41.1)\n",
            "Requirement already satisfied: tokenizers==0.8.1.rc1 in /usr/local/lib/python3.6/dist-packages (from transformers) (0.8.1rc1)\n",
            "Requirement already satisfied: requests in /usr/local/lib/python3.6/dist-packages (from transformers) (2.23.0)\n",
            "Requirement already satisfied: dataclasses; python_version < \"3.7\" in /usr/local/lib/python3.6/dist-packages (from transformers) (0.7)\n",
            "Requirement already satisfied: filelock in /usr/local/lib/python3.6/dist-packages (from transformers) (3.0.12)\n",
            "Requirement already satisfied: packaging in /usr/local/lib/python3.6/dist-packages (from transformers) (20.4)\n",
            "Requirement already satisfied: joblib in /usr/local/lib/python3.6/dist-packages (from sacremoses->transformers) (0.16.0)\n",
            "Requirement already satisfied: six in /usr/local/lib/python3.6/dist-packages (from sacremoses->transformers) (1.15.0)\n",
            "Requirement already satisfied: click in /usr/local/lib/python3.6/dist-packages (from sacremoses->transformers) (7.1.2)\n",
            "Requirement already satisfied: idna<3,>=2.5 in /usr/local/lib/python3.6/dist-packages (from requests->transformers) (2.10)\n",
            "Requirement already satisfied: certifi>=2017.4.17 in /usr/local/lib/python3.6/dist-packages (from requests->transformers) (2020.6.20)\n",
            "Requirement already satisfied: chardet<4,>=3.0.2 in /usr/local/lib/python3.6/dist-packages (from requests->transformers) (3.0.4)\n",
            "Requirement already satisfied: urllib3!=1.25.0,!=1.25.1,<1.26,>=1.21.1 in /usr/local/lib/python3.6/dist-packages (from requests->transformers) (1.24.3)\n",
            "Requirement already satisfied: pyparsing>=2.0.2 in /usr/local/lib/python3.6/dist-packages (from packaging->transformers) (2.4.7)\n"
          ],
          "name": "stdout"
        }
      ]
    },
    {
      "cell_type": "code",
      "metadata": {
        "id": "CatZ31rMIffz",
        "colab_type": "code",
        "colab": {
          "base_uri": "https://localhost:8080/",
          "height": 34
        },
        "outputId": "06ec4151-5330-4ef4-d225-cc4b6aed641b"
      },
      "source": [
        "pip install wget"
      ],
      "execution_count": 2,
      "outputs": [
        {
          "output_type": "stream",
          "text": [
            "Requirement already satisfied: wget in /usr/local/lib/python3.6/dist-packages (3.2)\n"
          ],
          "name": "stdout"
        }
      ]
    },
    {
      "cell_type": "code",
      "metadata": {
        "id": "0QqjyWndH9f_",
        "colab_type": "code",
        "colab": {
          "base_uri": "https://localhost:8080/",
          "height": 71
        },
        "outputId": "456e5c18-abb6-4dba-fa3e-332702724561"
      },
      "source": [
        "import pandas as pd\n",
        "import numpy as np\n",
        "import matplotlib.pyplot as plt\n",
        "import seaborn as sns\n",
        "\n",
        "import torch\n",
        "import wget\n",
        "import csv\n",
        "import time\n",
        "import datetime\n",
        "import random\n",
        "import pprint as pp\n",
        "\n",
        "from transformers import BertTokenizer\n",
        "from transformers import BertForTokenClassification\n",
        "from transformers import AdamW\n",
        "from transformers import BertConfig\n",
        "from transformers import get_linear_schedule_with_warmup\n",
        "\n",
        "from torch.utils.data import TensorDataset\n",
        "from torch.utils.data import random_split\n",
        "from torch.utils.data import DataLoader\n",
        "from torch.utils.data import RandomSampler\n",
        "from torch.utils.data import SequentialSampler\n",
        "\n",
        "from sklearn.metrics import f1_score\n",
        "from sklearn.metrics import confusion_matrix\n",
        "from sklearn.metrics import classification_report"
      ],
      "execution_count": 3,
      "outputs": [
        {
          "output_type": "stream",
          "text": [
            "/usr/local/lib/python3.6/dist-packages/statsmodels/tools/_testing.py:19: FutureWarning: pandas.util.testing is deprecated. Use the functions in the public API at pandas.testing instead.\n",
            "  import pandas.util.testing as tm\n"
          ],
          "name": "stderr"
        }
      ]
    },
    {
      "cell_type": "markdown",
      "metadata": {
        "id": "E7BwC4tdVnJg",
        "colab_type": "text"
      },
      "source": [
        "# BERT\n",
        "* Fine-tuning BERT for token classification\n",
        "* BERT base & uncased\n",
        "\n",
        "![alt text](http://jalammar.github.io/images/bert-base-bert-large-encoders.png)"
      ]
    },
    {
      "cell_type": "code",
      "metadata": {
        "id": "HTz9ORQ7VoyO",
        "colab_type": "code",
        "colab": {}
      },
      "source": [
        "tokenizer = BertTokenizer.from_pretrained('bert-base-uncased')"
      ],
      "execution_count": 4,
      "outputs": []
    },
    {
      "cell_type": "markdown",
      "metadata": {
        "id": "B2cxwuZ7IRnv",
        "colab_type": "text"
      },
      "source": [
        "# GPU"
      ]
    },
    {
      "cell_type": "code",
      "metadata": {
        "id": "4Go60s9KIOAS",
        "colab_type": "code",
        "colab": {
          "base_uri": "https://localhost:8080/",
          "height": 51
        },
        "outputId": "2a3fdefb-17f7-4862-b259-2c807e8b8f97"
      },
      "source": [
        "if torch.cuda.is_available():       \n",
        "    print(f'There are {torch.cuda.device_count()} GPU(s).')\n",
        "    print(f'GPU Type: {torch.cuda.get_device_name(0)}')\n",
        "    device = torch.device(\"cuda\")\n",
        "else:\n",
        "    print('No GPU available, using CPU.')\n",
        "    device = torch.device(\"cpu\")"
      ],
      "execution_count": 5,
      "outputs": [
        {
          "output_type": "stream",
          "text": [
            "There are 1 GPU(s).\n",
            "GPU Type: Tesla T4\n"
          ],
          "name": "stdout"
        }
      ]
    },
    {
      "cell_type": "markdown",
      "metadata": {
        "id": "dDw_lzG9IvBr",
        "colab_type": "text"
      },
      "source": [
        "# Data\n",
        "* Using the MIT Movie Task\n",
        "* Formatted in BIO (or IOB) Format\n",
        "* BIO = Beginning, Inside, Outside\n",
        "\n",
        "TAG | EXAMPLE\n",
        "--- | ---\n",
        "ACTOR|Matt Damon\n",
        "YEAR|1980s\n",
        "TITLE|Pulp Fiction\n",
        "GENRE|science fiction\n",
        "DIRECTOR|George Lucas\n",
        "SONG|Aerosmith\n",
        "PLOT|Flying cars\n",
        "REVIEW|must see\n",
        "CHARACTER|Queen Elizabeth\n",
        "RATING|PG-13\n",
        "RATINGS_AVERAGE|best rated\n",
        "TRAILER|preview\n"
      ]
    },
    {
      "cell_type": "code",
      "metadata": {
        "id": "w6pcYXGFIvwc",
        "colab_type": "code",
        "colab": {}
      },
      "source": [
        "wget.download('https://groups.csail.mit.edu/sls/downloads/movie/engtrain.bio', './engtrain.bio')\n",
        "wget.download('https://groups.csail.mit.edu/sls/downloads/movie/engtest.bio',  './engtest.bio')"
      ],
      "execution_count": null,
      "outputs": []
    },
    {
      "cell_type": "code",
      "metadata": {
        "id": "bHRBs7o4JI8Z",
        "colab_type": "code",
        "colab": {}
      },
      "source": [
        "!ls"
      ],
      "execution_count": null,
      "outputs": []
    },
    {
      "cell_type": "markdown",
      "metadata": {
        "id": "Ku0ULMQIJgu0",
        "colab_type": "text"
      },
      "source": [
        "# Loader"
      ]
    },
    {
      "cell_type": "code",
      "metadata": {
        "id": "CbyUYBCyJM6O",
        "colab_type": "code",
        "colab": {}
      },
      "source": [
        "def read_bio(file):\n",
        "  \"\"\"\n",
        "  We read along, pushing tokens & any labels onto a local list \n",
        "  When we hit an empty line, the sentence is constructed\n",
        "  Append it to the sentences & labels lists, reset tokens and continue\n",
        "  \"\"\"\n",
        "  sentences = []\n",
        "  labels = []\n",
        "\n",
        "  # Lists to store the current iteration / sentence\n",
        "  tokens = []\n",
        "  token_labels = []\n",
        "\n",
        "  with open(file, newline = '') as lines:                                                                                          \n",
        "      reader = csv.reader(lines, delimiter='\\t')\n",
        "      for line in reader:\n",
        "          if line == []:\n",
        "              # Store full sentence\n",
        "              sentences.append(tokens)\n",
        "              labels.append(token_labels)           \n",
        "      \n",
        "              # Start new\n",
        "              tokens = []\n",
        "              token_labels = []        \n",
        "\n",
        "          else: \n",
        "              # Append to the sentence buffer\n",
        "              tokens.append(line[1])\n",
        "              token_labels.append(line[0])\n",
        "\n",
        "  return sentences, labels"
      ],
      "execution_count": 8,
      "outputs": []
    },
    {
      "cell_type": "code",
      "metadata": {
        "id": "cMkjaWnQqxvF",
        "colab_type": "code",
        "colab": {}
      },
      "source": [
        "sentences, labels = read_bio('./engtrain.bio')"
      ],
      "execution_count": 9,
      "outputs": []
    },
    {
      "cell_type": "code",
      "metadata": {
        "id": "13AFAlSxQuQ5",
        "colab_type": "code",
        "colab": {
          "base_uri": "https://localhost:8080/",
          "height": 357
        },
        "outputId": "09fbd591-68a8-4538-d72d-8066c7822408"
      },
      "source": [
        "for i in range(5):\n",
        "  print(f'{\" \".join(sentences[i])}')\n",
        "  print(f'{\" \".join(labels[i])}')\n",
        "  print('\\n')"
      ],
      "execution_count": 10,
      "outputs": [
        {
          "output_type": "stream",
          "text": [
            "what movies star bruce willis\n",
            "O O O B-ACTOR I-ACTOR\n",
            "\n",
            "\n",
            "show me films with drew barrymore from the 1980s\n",
            "O O O O B-ACTOR I-ACTOR O O B-YEAR\n",
            "\n",
            "\n",
            "what movies starred both al pacino and robert deniro\n",
            "O O O O B-ACTOR I-ACTOR O B-ACTOR I-ACTOR\n",
            "\n",
            "\n",
            "find me all of the movies that starred harold ramis and bill murray\n",
            "O O O O O O O O B-ACTOR I-ACTOR O B-ACTOR I-ACTOR\n",
            "\n",
            "\n",
            "find me a movie with a quote about baseball in it\n",
            "O O O O O O O O O O O\n",
            "\n",
            "\n"
          ],
          "name": "stdout"
        }
      ]
    },
    {
      "cell_type": "markdown",
      "metadata": {
        "id": "DZI_RCK6Vv-R",
        "colab_type": "text"
      },
      "source": [
        "# Tokenize"
      ]
    },
    {
      "cell_type": "markdown",
      "metadata": {
        "id": "jQLpaHEHqBjI",
        "colab_type": "text"
      },
      "source": [
        "## Label to Id Index\n",
        "* Create a mapping from our BIO labels to integer"
      ]
    },
    {
      "cell_type": "code",
      "metadata": {
        "id": "WVYYiASGORZB",
        "colab_type": "code",
        "colab": {}
      },
      "source": [
        "def generate_label_index(labels):\n",
        "  \"\"\"\n",
        "  Given a list of sentence labels (list of lists)\n",
        "  Construct a dictionary mapping each label to a unique integer\n",
        "  \"\"\"\n",
        "  unique  = set([label for sentence_labels in labels for label in sentence_labels])\n",
        "  mapping = {k: v for v, k in enumerate(unique)} \n",
        "  return mapping"
      ],
      "execution_count": 11,
      "outputs": []
    },
    {
      "cell_type": "code",
      "metadata": {
        "id": "HPrQCA715Z6g",
        "colab_type": "code",
        "colab": {}
      },
      "source": [
        "label2id = generate_label_index(labels)"
      ],
      "execution_count": 12,
      "outputs": []
    },
    {
      "cell_type": "code",
      "metadata": {
        "id": "mrZ18uHS9-er",
        "colab_type": "code",
        "colab": {
          "base_uri": "https://localhost:8080/",
          "height": 442
        },
        "outputId": "4eab7d1b-6b0f-44d6-b5dc-87da9b43371e"
      },
      "source": [
        "pp.pprint(label2id)"
      ],
      "execution_count": 13,
      "outputs": [
        {
          "output_type": "stream",
          "text": [
            "{'B-ACTOR': 7,\n",
            " 'B-CHARACTER': 18,\n",
            " 'B-DIRECTOR': 0,\n",
            " 'B-GENRE': 2,\n",
            " 'B-PLOT': 5,\n",
            " 'B-RATING': 12,\n",
            " 'B-RATINGS_AVERAGE': 15,\n",
            " 'B-REVIEW': 13,\n",
            " 'B-SONG': 20,\n",
            " 'B-TITLE': 8,\n",
            " 'B-TRAILER': 3,\n",
            " 'B-YEAR': 1,\n",
            " 'I-ACTOR': 6,\n",
            " 'I-CHARACTER': 16,\n",
            " 'I-DIRECTOR': 22,\n",
            " 'I-GENRE': 19,\n",
            " 'I-PLOT': 21,\n",
            " 'I-RATING': 11,\n",
            " 'I-RATINGS_AVERAGE': 14,\n",
            " 'I-REVIEW': 4,\n",
            " 'I-SONG': 9,\n",
            " 'I-TITLE': 24,\n",
            " 'I-TRAILER': 17,\n",
            " 'I-YEAR': 23,\n",
            " 'O': 10}\n"
          ],
          "name": "stdout"
        }
      ]
    },
    {
      "cell_type": "markdown",
      "metadata": {
        "id": "XpcNE8RpqGhS",
        "colab_type": "text"
      },
      "source": [
        "## Apply BERT Tokens\n",
        "* Encode the data for BERT"
      ]
    },
    {
      "cell_type": "code",
      "metadata": {
        "id": "mZiVAVk8QQbv",
        "colab_type": "code",
        "colab": {}
      },
      "source": [
        "def tokenize(sentences):\n",
        "  \"\"\"\n",
        "  Join sentence from token back into string for BERT\n",
        "  Take in the list of sentences and use the BERT encode_plus to:\n",
        "  * Add [CLS] to the start\n",
        "  * Add [SEP] to the end\n",
        "  * Add [PAD] to max length\n",
        "  * Map any tokens to an identifier\n",
        "  * Unknown tokens split using double-hash\n",
        "  * Return our attention mask and pytorch tensors\n",
        "  \"\"\"\n",
        "  input_ids = []\n",
        "  attention_masks = []\n",
        "\n",
        "  for sentence in sentences:\n",
        "      text = ' '.join(sentence)\n",
        "      encoded_dict = tokenizer.encode_plus(text, \n",
        "                                           add_special_tokens = True, \n",
        "                                           truncation = True,\n",
        "                                           max_length = 50,  \n",
        "                                           pad_to_max_length = True,\n",
        "                                           return_attention_mask = True,   \n",
        "                                           return_tensors = 'pt')\n",
        "      \n",
        "      # Append and process next sentence\n",
        "      input_ids.append(encoded_dict['input_ids'][0])\n",
        "      attention_masks.append(encoded_dict['attention_mask'][0])\n",
        "\n",
        "  return input_ids, attention_masks"
      ],
      "execution_count": 14,
      "outputs": []
    },
    {
      "cell_type": "code",
      "metadata": {
        "id": "bEutVYvX5Yju",
        "colab_type": "code",
        "colab": {}
      },
      "source": [
        "input_ids, attention_masks = tokenize(sentences)"
      ],
      "execution_count": 15,
      "outputs": []
    },
    {
      "cell_type": "code",
      "metadata": {
        "id": "YqQJyU8K-KAc",
        "colab_type": "code",
        "colab": {
          "base_uri": "https://localhost:8080/",
          "height": 102
        },
        "outputId": "e19ec946-b7cf-4ace-c613-5ae74495876e"
      },
      "source": [
        "pp.pprint(input_ids[2])"
      ],
      "execution_count": 16,
      "outputs": [
        {
          "output_type": "stream",
          "text": [
            "tensor([  101,  2054,  5691,  5652,  2119,  2632, 14397,  5740,  1998,  2728,\n",
            "         7939,  9711,   102,     0,     0,     0,     0,     0,     0,     0,\n",
            "            0,     0,     0,     0,     0,     0,     0,     0,     0,     0,\n",
            "            0,     0,     0,     0,     0,     0,     0,     0,     0,     0,\n",
            "            0,     0,     0,     0,     0,     0,     0,     0,     0,     0])\n"
          ],
          "name": "stdout"
        }
      ]
    },
    {
      "cell_type": "code",
      "metadata": {
        "id": "Be3cv3s--OQ-",
        "colab_type": "code",
        "colab": {
          "base_uri": "https://localhost:8080/",
          "height": 68
        },
        "outputId": "8ba5237b-e988-44ab-e157-9900af3075cc"
      },
      "source": [
        "pp.pprint(attention_masks[2])"
      ],
      "execution_count": 17,
      "outputs": [
        {
          "output_type": "stream",
          "text": [
            "tensor([1, 1, 1, 1, 1, 1, 1, 1, 1, 1, 1, 1, 1, 0, 0, 0, 0, 0, 0, 0, 0, 0, 0, 0,\n",
            "        0, 0, 0, 0, 0, 0, 0, 0, 0, 0, 0, 0, 0, 0, 0, 0, 0, 0, 0, 0, 0, 0, 0, 0,\n",
            "        0, 0])\n"
          ],
          "name": "stdout"
        }
      ]
    },
    {
      "cell_type": "markdown",
      "metadata": {
        "id": "stUwN-jeqLUN",
        "colab_type": "text"
      },
      "source": [
        "## Apply Custom Token\n",
        "* Interject our custom NER tokens into the BERT encodings"
      ]
    },
    {
      "cell_type": "code",
      "metadata": {
        "id": "xepUdRQBeNOO",
        "colab_type": "code",
        "colab": {}
      },
      "source": [
        "SPECIAL_TOKENS = [tokenizer.pad_token_id, \n",
        "                  tokenizer.cls_token_id, \n",
        "                  tokenizer.sep_token_id]\n",
        "NULL_LABEL_ID  = -100\n",
        "\n",
        "def label_sentences(input_ids, labels):\n",
        "  \"\"\"\n",
        "  BERT will add tokens and break apart unknown tokens\n",
        "  We encode these with our null indicator and label the tokens with our index\n",
        "  \n",
        "  For example:\n",
        "  * We have the sentence: Robert Deniro\n",
        "  * Our tokens are      : B-Actor, I-Actor\n",
        "  * Our token map       : B-Actor : 0\n",
        "                        : I-Actor : 18\n",
        "  * BERT made it [CLS] Rob ##ert De ##ni ##ro [SEP] [PAD] ...\n",
        "  * We need to apply our BIO tokens into the BERT tokenized list\n",
        "    - Skip any special tokens BERT adds\n",
        "    - Skip any ## tokens\n",
        "    - Then apply our token\n",
        "  * Our BERT encoded value should be -100, 0, -100, 18, -100, -100, -100 ...\n",
        "  \"\"\"\n",
        "  new_labels = []\n",
        "\n",
        "  for (sentence, orig_labels) in zip(input_ids, labels):\n",
        "      padded_labels = []\n",
        "      orig_labels_index = 0 \n",
        "\n",
        "      for token_id in sentence:\n",
        "        token_id = token_id.numpy().item()\n",
        "\n",
        "        if token_id in SPECIAL_TOKENS or tokenizer.ids_to_tokens[token_id][0:2] == '##':  \n",
        "          padded_labels.append(NULL_LABEL_ID)\n",
        "        else:\n",
        "          label_str = orig_labels[orig_labels_index]\n",
        "          padded_labels.append(label2id[label_str])\n",
        "          orig_labels_index += 1\n",
        "\n",
        "      new_labels.append(padded_labels)\n",
        "\n",
        "  return new_labels"
      ],
      "execution_count": 18,
      "outputs": []
    },
    {
      "cell_type": "code",
      "metadata": {
        "id": "jnUZn-HD5etO",
        "colab_type": "code",
        "colab": {}
      },
      "source": [
        "new_labels = label_sentences(input_ids, labels)"
      ],
      "execution_count": 19,
      "outputs": []
    },
    {
      "cell_type": "markdown",
      "metadata": {
        "id": "CyVRBXPh6yRT",
        "colab_type": "text"
      },
      "source": [
        "## Example"
      ]
    },
    {
      "cell_type": "code",
      "metadata": {
        "id": "bqitEA1WhnhF",
        "colab_type": "code",
        "colab": {
          "base_uri": "https://localhost:8080/",
          "height": 275
        },
        "outputId": "2eaa0b66-a5cf-41cf-ea40-404bdd63d2bb"
      },
      "source": [
        "print('\\nSentence:    ', sentences[2])\n",
        "print('\\nLabels:      ', labels[2])\n",
        "print('\\nBERT Tokens: ', tokenizer.tokenize(' '.join(sentences[2])))\n",
        "print('\\nToken IDs:   ', input_ids[2])\n",
        "print('\\nNew Labels:  ', new_labels[2])"
      ],
      "execution_count": 20,
      "outputs": [
        {
          "output_type": "stream",
          "text": [
            "\n",
            "Sentence:     ['what', 'movies', 'starred', 'both', 'al', 'pacino', 'and', 'robert', 'deniro']\n",
            "\n",
            "Labels:       ['O', 'O', 'O', 'O', 'B-ACTOR', 'I-ACTOR', 'O', 'B-ACTOR', 'I-ACTOR']\n",
            "\n",
            "BERT Tokens:  ['what', 'movies', 'starred', 'both', 'al', 'pac', '##ino', 'and', 'robert', 'den', '##iro']\n",
            "\n",
            "Token IDs:    tensor([  101,  2054,  5691,  5652,  2119,  2632, 14397,  5740,  1998,  2728,\n",
            "         7939,  9711,   102,     0,     0,     0,     0,     0,     0,     0,\n",
            "            0,     0,     0,     0,     0,     0,     0,     0,     0,     0,\n",
            "            0,     0,     0,     0,     0,     0,     0,     0,     0,     0,\n",
            "            0,     0,     0,     0,     0,     0,     0,     0,     0,     0])\n",
            "\n",
            "New Labels:   [-100, 10, 10, 10, 10, 7, 6, -100, 10, 7, 6, -100, -100, -100, -100, -100, -100, -100, -100, -100, -100, -100, -100, -100, -100, -100, -100, -100, -100, -100, -100, -100, -100, -100, -100, -100, -100, -100, -100, -100, -100, -100, -100, -100, -100, -100, -100, -100, -100, -100]\n"
          ],
          "name": "stdout"
        }
      ]
    },
    {
      "cell_type": "markdown",
      "metadata": {
        "id": "RlAnnFnWmTJ_",
        "colab_type": "text"
      },
      "source": [
        "## Tokens to Tensors"
      ]
    },
    {
      "cell_type": "code",
      "metadata": {
        "id": "4MREOQysi58z",
        "colab_type": "code",
        "colab": {}
      },
      "source": [
        "def tokens_to_tensors(input_ids, attention_masks, new_labels):\n",
        "  \"\"\"\n",
        "  Create pytorch tensors of correct size to train \n",
        "  \"\"\"\n",
        "  pt_input_ids       = torch.stack(input_ids, dim=0)\n",
        "  pt_attention_masks = torch.stack(attention_masks, dim=0)\n",
        "  pt_labels          = torch.tensor(new_labels, dtype=torch.long)\n",
        "  return pt_input_ids, pt_attention_masks, pt_labels\n",
        "\n",
        "pt_input_ids, pt_attention_masks, pt_labels = \\\n",
        "  tokens_to_tensors(input_ids, attention_masks, new_labels)"
      ],
      "execution_count": 21,
      "outputs": []
    },
    {
      "cell_type": "code",
      "metadata": {
        "id": "YnbobDuGcWgb",
        "colab_type": "code",
        "colab": {
          "base_uri": "https://localhost:8080/",
          "height": 425
        },
        "outputId": "9c53058f-4bc8-4a45-c869-0bf26ee29176"
      },
      "source": [
        "print('PyTorch Tensor Input Embeddings')\n",
        "print(pt_input_ids)\n",
        "\n",
        "print('PyTorch Tensor Attention Masks')\n",
        "print(pt_attention_masks)\n",
        "\n",
        "print('PyTorch Tensor Labels')\n",
        "print(pt_labels)"
      ],
      "execution_count": 39,
      "outputs": [
        {
          "output_type": "stream",
          "text": [
            "PyTorch Tensor Input Embeddings\n",
            "tensor([[ 101, 2054, 5691,  ...,    0,    0,    0],\n",
            "        [ 101, 2265, 2033,  ...,    0,    0,    0],\n",
            "        [ 101, 2054, 5691,  ...,    0,    0,    0],\n",
            "        ...,\n",
            "        [ 101, 2054, 2079,  ...,    0,    0,    0],\n",
            "        [ 101, 2265, 2033,  ...,    0,    0,    0],\n",
            "        [ 101, 1045, 2215,  ...,    0,    0,    0]])\n",
            "PyTorch Tensor Attention Masks\n",
            "tensor([[1, 1, 1,  ..., 0, 0, 0],\n",
            "        [1, 1, 1,  ..., 0, 0, 0],\n",
            "        [1, 1, 1,  ..., 0, 0, 0],\n",
            "        ...,\n",
            "        [1, 1, 1,  ..., 0, 0, 0],\n",
            "        [1, 1, 1,  ..., 0, 0, 0],\n",
            "        [1, 1, 1,  ..., 0, 0, 0]])\n",
            "PyTorch Tensor Labels\n",
            "tensor([[-100,   10,   10,  ..., -100, -100, -100],\n",
            "        [-100,   10,   10,  ..., -100, -100, -100],\n",
            "        [-100,   10,   10,  ..., -100, -100, -100],\n",
            "        ...,\n",
            "        [-100,   10,   10,  ..., -100, -100, -100],\n",
            "        [-100,   10,   10,  ..., -100, -100, -100],\n",
            "        [-100,   10,   10,  ..., -100, -100, -100]])\n"
          ],
          "name": "stdout"
        }
      ]
    },
    {
      "cell_type": "markdown",
      "metadata": {
        "id": "WWPVA_4tUyfv",
        "colab_type": "text"
      },
      "source": [
        "# BERT & Transformers\n",
        "* Images from http://jalammar.github.io/\n",
        "* For our example, we're using a length of 50\n",
        "\n",
        "![alt text](http://jalammar.github.io/images/bert-input-output.png)"
      ]
    },
    {
      "cell_type": "markdown",
      "metadata": {
        "id": "QAfqxg6rVZz_",
        "colab_type": "text"
      },
      "source": [
        "![alt text](http://jalammar.github.io/images/bert-encoders-input.png)"
      ]
    },
    {
      "cell_type": "markdown",
      "metadata": {
        "id": "g3RnCSSnVdJb",
        "colab_type": "text"
      },
      "source": [
        "![alt text](http://jalammar.github.io/images/t/encoder_with_tensors_2.png)"
      ]
    },
    {
      "cell_type": "markdown",
      "metadata": {
        "id": "rWVKEN39WPRI",
        "colab_type": "text"
      },
      "source": [
        "## Self-Attention \n",
        "* Query\n",
        "* Key\n",
        "* Value"
      ]
    },
    {
      "cell_type": "markdown",
      "metadata": {
        "id": "eMe4Lw9mV92P",
        "colab_type": "text"
      },
      "source": [
        "![alt text](http://jalammar.github.io/images/t/self-attention-matrix-calculation.png)"
      ]
    },
    {
      "cell_type": "markdown",
      "metadata": {
        "id": "opuKHDduWaPe",
        "colab_type": "text"
      },
      "source": [
        "## Output - Z"
      ]
    },
    {
      "cell_type": "markdown",
      "metadata": {
        "id": "x0pL6NscWU3N",
        "colab_type": "text"
      },
      "source": [
        "![alt text](http://jalammar.github.io/images/t/self-attention-matrix-calculation-2.png)"
      ]
    },
    {
      "cell_type": "markdown",
      "metadata": {
        "id": "xC-qNY3GXH16",
        "colab_type": "text"
      },
      "source": [
        "## Encoder"
      ]
    },
    {
      "cell_type": "markdown",
      "metadata": {
        "id": "yPGbep_nXAzZ",
        "colab_type": "text"
      },
      "source": [
        "![alt text](http://jalammar.github.io/images/t/transformer_resideual_layer_norm_2.png)"
      ]
    },
    {
      "cell_type": "markdown",
      "metadata": {
        "id": "Yp36Pt7uRnqt",
        "colab_type": "text"
      },
      "source": [
        "# Train"
      ]
    },
    {
      "cell_type": "markdown",
      "metadata": {
        "id": "wizN4kAGmSBH",
        "colab_type": "text"
      },
      "source": [
        "## Train-Test Split"
      ]
    },
    {
      "cell_type": "code",
      "metadata": {
        "id": "bme7_wDTmShU",
        "colab_type": "code",
        "colab": {
          "base_uri": "https://localhost:8080/",
          "height": 51
        },
        "outputId": "9ca4e824-44c2-469a-cbff-903ec38004b5"
      },
      "source": [
        "dataset = TensorDataset(pt_input_ids, pt_attention_masks, pt_labels)\n",
        "\n",
        "train_size = int(0.9 * len(dataset))\n",
        "val_size   = len(dataset) - train_size\n",
        "\n",
        "train_dataset, val_dataset = random_split(dataset, [train_size, val_size])\n",
        "\n",
        "print(f'{train_size:,} training examples')\n",
        "print(f'{val_size:,} validation examples')"
      ],
      "execution_count": 22,
      "outputs": [
        {
          "output_type": "stream",
          "text": [
            "8,797 training examples\n",
            "978 validation examples\n"
          ],
          "name": "stdout"
        }
      ]
    },
    {
      "cell_type": "markdown",
      "metadata": {
        "id": "mEyxTlZrma8v",
        "colab_type": "text"
      },
      "source": [
        "## Data Loaders"
      ]
    },
    {
      "cell_type": "code",
      "metadata": {
        "id": "MAhh5Y9S78kp",
        "colab_type": "code",
        "colab": {}
      },
      "source": [
        "BATCH_SIZE = 32"
      ],
      "execution_count": 23,
      "outputs": []
    },
    {
      "cell_type": "code",
      "metadata": {
        "id": "Bm8fEaCumeeM",
        "colab_type": "code",
        "colab": {}
      },
      "source": [
        "train_dataloader = DataLoader(\n",
        "            train_dataset,  \n",
        "            sampler = RandomSampler(train_dataset), \n",
        "            batch_size = BATCH_SIZE)\n",
        "\n",
        "validation_dataloader = DataLoader(\n",
        "            val_dataset, \n",
        "            sampler = SequentialSampler(val_dataset),\n",
        "            batch_size = BATCH_SIZE)"
      ],
      "execution_count": 24,
      "outputs": []
    },
    {
      "cell_type": "markdown",
      "metadata": {
        "id": "xA6gc-3Umsw-",
        "colab_type": "text"
      },
      "source": [
        "## Model"
      ]
    },
    {
      "cell_type": "code",
      "metadata": {
        "id": "boVugC0ZmuEV",
        "colab_type": "code",
        "colab": {
          "base_uri": "https://localhost:8080/",
          "height": 122
        },
        "outputId": "052e4265-4497-4aa9-e1e9-7c711e084460"
      },
      "source": [
        "# Load BertForTokenClassification \n",
        "model = BertForTokenClassification.from_pretrained(\n",
        "    \"bert-base-uncased\", \n",
        "    num_labels = len(label2id) + 1, \n",
        "    output_attentions = False, \n",
        "    output_hidden_states = False)\n",
        "\n",
        "# Run model on GPU.\n",
        "model.cuda();"
      ],
      "execution_count": 25,
      "outputs": [
        {
          "output_type": "stream",
          "text": [
            "Some weights of the model checkpoint at bert-base-uncased were not used when initializing BertForTokenClassification: ['cls.predictions.bias', 'cls.predictions.transform.dense.weight', 'cls.predictions.transform.dense.bias', 'cls.predictions.decoder.weight', 'cls.seq_relationship.weight', 'cls.seq_relationship.bias', 'cls.predictions.transform.LayerNorm.weight', 'cls.predictions.transform.LayerNorm.bias']\n",
            "- This IS expected if you are initializing BertForTokenClassification from the checkpoint of a model trained on another task or with another architecture (e.g. initializing a BertForSequenceClassification model from a BertForPretraining model).\n",
            "- This IS NOT expected if you are initializing BertForTokenClassification from the checkpoint of a model that you expect to be exactly identical (initializing a BertForSequenceClassification model from a BertForSequenceClassification model).\n",
            "Some weights of BertForTokenClassification were not initialized from the model checkpoint at bert-base-uncased and are newly initialized: ['classifier.weight', 'classifier.bias']\n",
            "You should probably TRAIN this model on a down-stream task to be able to use it for predictions and inference.\n"
          ],
          "name": "stderr"
        }
      ]
    },
    {
      "cell_type": "code",
      "metadata": {
        "id": "CWu5-XFpm0qV",
        "colab_type": "code",
        "colab": {}
      },
      "source": [
        "optimizer = AdamW(model.parameters(), lr = 5e-5, eps = 1e-8)"
      ],
      "execution_count": 26,
      "outputs": []
    },
    {
      "cell_type": "code",
      "metadata": {
        "id": "EhVHDOivm22d",
        "colab_type": "code",
        "colab": {}
      },
      "source": [
        "EPOCHS = 4\n",
        "total_steps = len(train_dataloader) * EPOCHS\n",
        "scheduler = get_linear_schedule_with_warmup(optimizer, \n",
        "                                            num_warmup_steps = 0,\n",
        "                                            num_training_steps = total_steps)"
      ],
      "execution_count": 27,
      "outputs": []
    },
    {
      "cell_type": "markdown",
      "metadata": {
        "id": "P7RFFJCYnINC",
        "colab_type": "text"
      },
      "source": [
        "## Training Loop"
      ]
    },
    {
      "cell_type": "code",
      "metadata": {
        "id": "EKMI1n9onMSp",
        "colab_type": "code",
        "colab": {}
      },
      "source": [
        "def format_time(elapsed):\n",
        "    '''\n",
        "    Takes a time in seconds and returns a string hh:mm:ss\n",
        "    '''\n",
        "    return str(datetime.timedelta(seconds=int(round(elapsed))))"
      ],
      "execution_count": 28,
      "outputs": []
    },
    {
      "cell_type": "code",
      "metadata": {
        "id": "HUtTTlVinJSr",
        "colab_type": "code",
        "colab": {
          "base_uri": "https://localhost:8080/",
          "height": 833
        },
        "outputId": "aac1b534-1529-40fd-8b3a-f7c8f36583ea"
      },
      "source": [
        "# This training code is based on the `run_glue.py` script here:\n",
        "# https://github.com/huggingface/transformers/blob/5bfcd0485ece086ebcbed2d008813037968a9e58/examples/run_glue.py#L128\n",
        "# Includes refinements from Chris McCormick AI https://www.chrismccormick.ai/\n",
        "seed_val = 1337\n",
        "\n",
        "random.seed(seed_val)\n",
        "np.random.seed(seed_val)\n",
        "torch.manual_seed(seed_val)\n",
        "torch.cuda.manual_seed_all(seed_val)\n",
        "\n",
        "# Store the average loss after each epoch so we can plot them.\n",
        "loss_values = []\n",
        "\n",
        "# For each epoch...\n",
        "for epoch_i in range(0, EPOCHS):\n",
        "    \n",
        "    # ========================================\n",
        "    #               Training\n",
        "    # ========================================\n",
        "    print(\"\")\n",
        "    print('======== Epoch {:} / {:} ========'.format(epoch_i + 1, EPOCHS))\n",
        "    print('Training...')\n",
        "\n",
        "    # Measure how long the training epoch takes.\n",
        "    t0 = time.time()\n",
        "\n",
        "    # Reset the total loss for this epoch.\n",
        "    total_loss = 0\n",
        "\n",
        "    # Put the model into training mode. Don't be mislead--the call to \n",
        "    # `train` just changes the *mode*, it doesn't *perform* the training.\n",
        "    # `dropout` and `batchnorm` layers behave differently during training\n",
        "    # vs. test (source: https://stackoverflow.com/questions/51433378/what-does-model-train-do-in-pytorch)\n",
        "    model.train()\n",
        "\n",
        "    # For each batch of training data...\n",
        "    for step, batch in enumerate(train_dataloader):\n",
        "\n",
        "        # Progress update every 40 batches.\n",
        "        if step % 40 == 0 and not step == 0:\n",
        "            # Calculate elapsed time in minutes.\n",
        "            elapsed = format_time(time.time() - t0)\n",
        "            \n",
        "            # Report progress.\n",
        "            print('  Batch {:>5,}  of  {:>5,}.    Elapsed: {:}.'.format(step, len(train_dataloader), elapsed))\n",
        "\n",
        "        # Unpack this training batch from our dataloader. \n",
        "        #\n",
        "        # As we unpack the batch, we'll also copy each tensor to the GPU using the \n",
        "        # `to` method.\n",
        "        #\n",
        "        # `batch` contains three pytorch tensors:\n",
        "        #   [0]: input ids \n",
        "        #   [1]: attention masks\n",
        "        #   [2]: labels \n",
        "        b_input_ids = batch[0].to(device)\n",
        "        b_input_mask = batch[1].to(device)\n",
        "        b_labels = batch[2].to(device)\n",
        "\n",
        "        # Always clear any previously calculated gradients before performing a\n",
        "        # backward pass. PyTorch doesn't do this automatically because \n",
        "        # accumulating the gradients is \"convenient while training RNNs\". \n",
        "        # (source: https://stackoverflow.com/questions/48001598/why-do-we-need-to-call-zero-grad-in-pytorch)\n",
        "        model.zero_grad()        \n",
        "\n",
        "        # Perform a forward pass (evaluate the model on this training batch).\n",
        "        # This will return the loss (rather than the model output) because we\n",
        "        # have provided the `labels`.\n",
        "        # The documentation for this `model` function is here: \n",
        "        # https://huggingface.co/transformers/v2.2.0/model_doc/bert.html#transformers.BertForSequenceClassification\n",
        "        outputs = model(b_input_ids, \n",
        "                    token_type_ids=None, \n",
        "                    attention_mask=b_input_mask, \n",
        "                    labels=b_labels)\n",
        "        \n",
        "        # The call to `model` always returns a tuple, so we need to pull the \n",
        "        # loss value out of the tuple.\n",
        "        loss = outputs[0]\n",
        "\n",
        "        # Accumulate the training loss over all of the batches so that we can\n",
        "        # calculate the average loss at the end. `loss` is a Tensor containing a\n",
        "        # single value; the `.item()` function just returns the Python value \n",
        "        # from the tensor.\n",
        "        total_loss += loss.item()\n",
        "\n",
        "        # Perform a backward pass to calculate the gradients.\n",
        "        loss.backward()\n",
        "\n",
        "        # Clip the norm of the gradients to 1.0.\n",
        "        # This is to help prevent the \"exploding gradients\" problem.\n",
        "        torch.nn.utils.clip_grad_norm_(model.parameters(), 1.0)\n",
        "\n",
        "        # Update parameters and take a step using the computed gradient.\n",
        "        # The optimizer dictates the \"update rule\"--how the parameters are\n",
        "        # modified based on their gradients, the learning rate, etc.\n",
        "        optimizer.step()\n",
        "\n",
        "        # Update the learning rate.\n",
        "        scheduler.step()\n",
        "\n",
        "    # Calculate the average loss over the training data.\n",
        "    avg_train_loss = total_loss / len(train_dataloader)            \n",
        "    \n",
        "    # Store the loss value for plotting the learning curve.\n",
        "    loss_values.append(avg_train_loss)\n",
        "\n",
        "    print(\"\")\n",
        "    print(\"  Average training loss: {0:.2f}\".format(avg_train_loss))\n",
        "    print(\"  Training epcoh took: {:}\".format(format_time(time.time() - t0)))"
      ],
      "execution_count": 29,
      "outputs": [
        {
          "output_type": "stream",
          "text": [
            "\n",
            "======== Epoch 1 / 4 ========\n",
            "Training...\n",
            "  Batch    40  of    275.    Elapsed: 0:00:12.\n",
            "  Batch    80  of    275.    Elapsed: 0:00:24.\n",
            "  Batch   120  of    275.    Elapsed: 0:00:36.\n",
            "  Batch   160  of    275.    Elapsed: 0:00:48.\n",
            "  Batch   200  of    275.    Elapsed: 0:01:00.\n",
            "  Batch   240  of    275.    Elapsed: 0:01:12.\n",
            "\n",
            "  Average training loss: 0.42\n",
            "  Training epcoh took: 0:01:22\n",
            "\n",
            "======== Epoch 2 / 4 ========\n",
            "Training...\n",
            "  Batch    40  of    275.    Elapsed: 0:00:12.\n",
            "  Batch    80  of    275.    Elapsed: 0:00:24.\n",
            "  Batch   120  of    275.    Elapsed: 0:00:36.\n",
            "  Batch   160  of    275.    Elapsed: 0:00:47.\n",
            "  Batch   200  of    275.    Elapsed: 0:00:59.\n",
            "  Batch   240  of    275.    Elapsed: 0:01:11.\n",
            "\n",
            "  Average training loss: 0.17\n",
            "  Training epcoh took: 0:01:21\n",
            "\n",
            "======== Epoch 3 / 4 ========\n",
            "Training...\n",
            "  Batch    40  of    275.    Elapsed: 0:00:12.\n",
            "  Batch    80  of    275.    Elapsed: 0:00:24.\n",
            "  Batch   120  of    275.    Elapsed: 0:00:35.\n",
            "  Batch   160  of    275.    Elapsed: 0:00:47.\n",
            "  Batch   200  of    275.    Elapsed: 0:00:59.\n",
            "  Batch   240  of    275.    Elapsed: 0:01:11.\n",
            "\n",
            "  Average training loss: 0.12\n",
            "  Training epcoh took: 0:01:21\n",
            "\n",
            "======== Epoch 4 / 4 ========\n",
            "Training...\n",
            "  Batch    40  of    275.    Elapsed: 0:00:12.\n",
            "  Batch    80  of    275.    Elapsed: 0:00:24.\n",
            "  Batch   120  of    275.    Elapsed: 0:00:35.\n",
            "  Batch   160  of    275.    Elapsed: 0:00:47.\n",
            "  Batch   200  of    275.    Elapsed: 0:00:59.\n",
            "  Batch   240  of    275.    Elapsed: 0:01:11.\n",
            "\n",
            "  Average training loss: 0.09\n",
            "  Training epcoh took: 0:01:21\n"
          ],
          "name": "stdout"
        }
      ]
    },
    {
      "cell_type": "markdown",
      "metadata": {
        "id": "GidKWI2HRx3C",
        "colab_type": "text"
      },
      "source": [
        "## Plots"
      ]
    },
    {
      "cell_type": "code",
      "metadata": {
        "id": "w4o65e2VGkxq",
        "colab_type": "code",
        "colab": {
          "base_uri": "https://localhost:8080/",
          "height": 530
        },
        "outputId": "cedbd1db-4d49-4cd5-baf7-626985afe522"
      },
      "source": [
        "plt.figure(figsize=(10,8))\n",
        "plt.plot(loss_values)\n",
        "plt.title('Loss')\n",
        "plt.xlabel('Epochs')"
      ],
      "execution_count": 30,
      "outputs": [
        {
          "output_type": "execute_result",
          "data": {
            "text/plain": [
              "Text(0.5, 0, 'Epochs')"
            ]
          },
          "metadata": {
            "tags": []
          },
          "execution_count": 30
        },
        {
          "output_type": "display_data",
          "data": {
            "image/png": "[encoded data removed]",
            "text/plain": [
              "<Figure size 720x576 with 1 Axes>"
            ]
          },
          "metadata": {
            "tags": [],
            "needs_background": "light"
          }
        }
      ]
    },
    {
      "cell_type": "markdown",
      "metadata": {
        "id": "8jaL2K-Pppmw",
        "colab_type": "text"
      },
      "source": [
        "# Test"
      ]
    },
    {
      "cell_type": "markdown",
      "metadata": {
        "id": "ak-ROBbeqtaZ",
        "colab_type": "text"
      },
      "source": [
        "## Load Test "
      ]
    },
    {
      "cell_type": "code",
      "metadata": {
        "id": "GsqXyyOapyFe",
        "colab_type": "code",
        "colab": {}
      },
      "source": [
        "test_sentences, test_labels = read_bio('./engtest.bio')\n",
        "test_input_ids, test_attention_masks = tokenize(test_sentences)\n",
        "test_new_labels = label_sentences(test_input_ids, test_labels)\n",
        "test_pt_input_ids, test_pt_attention_masks, test_pt_labels = \\\n",
        "  tokens_to_tensors(test_input_ids, test_attention_masks, test_new_labels)"
      ],
      "execution_count": 31,
      "outputs": []
    },
    {
      "cell_type": "markdown",
      "metadata": {
        "id": "F-SWvgBFrJNB",
        "colab_type": "text"
      },
      "source": [
        "## Data Loaders"
      ]
    },
    {
      "cell_type": "code",
      "metadata": {
        "id": "rIHhx4qcqsY6",
        "colab_type": "code",
        "colab": {}
      },
      "source": [
        "prediction_data = TensorDataset(test_pt_input_ids, test_pt_attention_masks, test_pt_labels)\n",
        "prediction_sampler = SequentialSampler(prediction_data)\n",
        "prediction_dataloader = DataLoader(prediction_data, sampler=prediction_sampler, batch_size=BATCH_SIZE)"
      ],
      "execution_count": 32,
      "outputs": []
    },
    {
      "cell_type": "markdown",
      "metadata": {
        "id": "9Bx7ZSKyrWiy",
        "colab_type": "text"
      },
      "source": [
        "## Predict"
      ]
    },
    {
      "cell_type": "code",
      "metadata": {
        "id": "4QXE_DZVrYTA",
        "colab_type": "code",
        "colab": {
          "base_uri": "https://localhost:8080/",
          "height": 34
        },
        "outputId": "1f524f5a-6f6d-46f3-cfb7-bb59807473f1"
      },
      "source": [
        "print(f'Predicting labels for {len(test_pt_input_ids):,} test set')\n",
        "\n",
        "model.eval()\n",
        "predictions , true_labels = [], []\n",
        "\n",
        "# Predict \n",
        "for batch in prediction_dataloader:\n",
        "  \n",
        "  # Add batch to GPU\n",
        "  batch = tuple(t.to(device) for t in batch)\n",
        "  \n",
        "  # Unpack from dataloader\n",
        "  b_input_ids, b_input_mask, b_labels = batch\n",
        "  \n",
        "  # Don't compute gradients\n",
        "  with torch.no_grad():\n",
        "      # Forward pass, calculate logits\n",
        "      outputs = model(b_input_ids, token_type_ids=None, \n",
        "                      attention_mask=b_input_mask)\n",
        "\n",
        "  logits = outputs[0]\n",
        "\n",
        "  # Move predictions & labels to cpu\n",
        "  logits = logits.detach().cpu().numpy()\n",
        "  label_ids = b_labels.to('cpu').numpy()\n",
        "  \n",
        "  predictions.append(logits)\n",
        "  true_labels.append(label_ids)"
      ],
      "execution_count": 33,
      "outputs": [
        {
          "output_type": "stream",
          "text": [
            "Predicting labels for 2,443 test set\n"
          ],
          "name": "stdout"
        }
      ]
    },
    {
      "cell_type": "markdown",
      "metadata": {
        "id": "7Zx0zhFjrtCS",
        "colab_type": "text"
      },
      "source": [
        "## Convert\n",
        "* We get a softmax of predictions per label by label type (for each sentence)\n",
        "* We take the largest probability as the label\n",
        "* Then flatten the sentences which gives us prediction per token"
      ]
    },
    {
      "cell_type": "code",
      "metadata": {
        "id": "t_FBVqmJrmIt",
        "colab_type": "code",
        "colab": {
          "base_uri": "https://localhost:8080/",
          "height": 85
        },
        "outputId": "0b1834f8-7968-430e-9984-23376345e332"
      },
      "source": [
        "# First, combine the results across the batches.\n",
        "all_predictions = np.concatenate(predictions, axis=0)\n",
        "all_true_labels = np.concatenate(true_labels, axis=0)\n",
        "print(f'Predictions shape: {all_predictions.shape}')\n",
        "\n",
        "# Pick argmax from predicted label scores\n",
        "predicted_label_ids = np.argmax(all_predictions, axis=2)\n",
        "print(f'Argmax shape: {predicted_label_ids.shape}')\n",
        "\n",
        "# Eliminate axis 0, sentences.\n",
        "predicted_label_ids = np.concatenate(predicted_label_ids, axis=0)\n",
        "all_true_labels = np.concatenate(all_true_labels, axis=0)\n",
        "\n",
        "print(f'Flattened: {predicted_label_ids.shape}')\n",
        "print(f'Ground truth: {all_true_labels.shape}')"
      ],
      "execution_count": 35,
      "outputs": [
        {
          "output_type": "stream",
          "text": [
            "Predictions shape: (2443, 50, 26)\n",
            "Argmax shape: (2443, 50)\n",
            "Flattened: (122150,)\n",
            "Ground truth: (122150,)\n"
          ],
          "name": "stdout"
        }
      ]
    },
    {
      "cell_type": "markdown",
      "metadata": {
        "id": "jHpkP84SAiE7",
        "colab_type": "text"
      },
      "source": [
        "## Filter\n",
        "* Strip out predictions on BERT tokens"
      ]
    },
    {
      "cell_type": "code",
      "metadata": {
        "id": "E4Twlao9rrYz",
        "colab_type": "code",
        "colab": {
          "base_uri": "https://localhost:8080/",
          "height": 51
        },
        "outputId": "26f771e3-4713-41a3-caa9-bee9cd3e3568"
      },
      "source": [
        "real_token_predictions = []\n",
        "real_token_labels = []\n",
        "\n",
        "for i in range(len(all_true_labels)):\n",
        "    if not all_true_labels[i] == NULL_LABEL_ID:\n",
        "        real_token_predictions.append(predicted_label_ids[i])\n",
        "        real_token_labels.append(all_true_labels[i])\n",
        "\n",
        "print(f'Before filtering : {len(all_true_labels):,}')\n",
        "print(f'After filtering  : {len(real_token_labels):,}')"
      ],
      "execution_count": 36,
      "outputs": [
        {
          "output_type": "stream",
          "text": [
            "Before filtering : 122,150\n",
            "After filtering  : 24,686\n"
          ],
          "name": "stdout"
        }
      ]
    },
    {
      "cell_type": "markdown",
      "metadata": {
        "id": "0jjvn0ZdryUI",
        "colab_type": "text"
      },
      "source": [
        "## Score\n",
        "* MIT Movie Scoring"
      ]
    },
    {
      "cell_type": "code",
      "metadata": {
        "id": "YbLpUCsDsMGZ",
        "colab_type": "code",
        "colab": {
          "base_uri": "https://localhost:8080/",
          "height": 561
        },
        "outputId": "3ede5cee-ccd3-4e2a-9e57-5e4613c28ef1"
      },
      "source": [
        "ivd = {v: k for k, v in label2id.items()}\n",
        "friendly_labels = [ivd[i] for i in range(len(ivd))]\n",
        "print(classification_report(real_token_labels, real_token_predictions, \n",
        "                            target_names=friendly_labels, zero_division=False))"
      ],
      "execution_count": 37,
      "outputs": [
        {
          "output_type": "stream",
          "text": [
            "                   precision    recall  f1-score   support\n",
            "\n",
            "       B-DIRECTOR       0.94      0.86      0.90       456\n",
            "           B-YEAR       0.95      0.95      0.95       720\n",
            "          B-GENRE       0.94      0.97      0.95      1117\n",
            "        B-TRAILER       0.82      0.90      0.86        30\n",
            "         I-REVIEW       0.41      0.16      0.23        45\n",
            "           B-PLOT       0.78      0.76      0.77       491\n",
            "          I-ACTOR       0.91      0.95      0.93       862\n",
            "          B-ACTOR       0.91      0.95      0.93       812\n",
            "          B-TITLE       0.88      0.90      0.89       562\n",
            "           I-SONG       0.90      0.79      0.84       119\n",
            "                O       0.97      0.98      0.97     14929\n",
            "         I-RATING       0.96      0.92      0.94       226\n",
            "         B-RATING       0.97      0.97      0.97       500\n",
            "         B-REVIEW       0.48      0.25      0.33        56\n",
            "I-RATINGS_AVERAGE       0.89      0.91      0.90       403\n",
            "B-RATINGS_AVERAGE       0.93      0.92      0.93       451\n",
            "      I-CHARACTER       0.61      0.53      0.57        75\n",
            "        I-TRAILER       0.00      0.00      0.00         8\n",
            "      B-CHARACTER       0.67      0.67      0.67        90\n",
            "          I-GENRE       0.85      0.75      0.80       222\n",
            "           B-SONG       0.70      0.72      0.71        54\n",
            "           I-PLOT       0.81      0.67      0.74       496\n",
            "       I-DIRECTOR       0.94      0.86      0.90       496\n",
            "           I-YEAR       0.97      0.98      0.97       610\n",
            "          I-TITLE       0.91      0.93      0.92       856\n",
            "\n",
            "         accuracy                           0.94     24686\n",
            "        macro avg       0.80      0.77      0.78     24686\n",
            "     weighted avg       0.94      0.94      0.94     24686\n",
            "\n"
          ],
          "name": "stdout"
        }
      ]
    },
    {
      "cell_type": "markdown",
      "metadata": {
        "id": "p5zWoCUSJZhQ",
        "colab_type": "text"
      },
      "source": [
        "# Closing\n",
        "* Pre-Transformers\n",
        "  * Paper 2018 https://www.aclweb.org/anthology/W18-5711.pdf\n",
        "  * F1-Score : 87.41\n",
        "  * BERT (Base, Uncased) : 94.%\n",
        "* Improving\n",
        "  * Bigger BERT\n",
        "  * More training data\n",
        "  * Speed https://github.com/hanxiao/bert-as-service\n",
        "* NLP Classification Tasks\n",
        "  * Document\n",
        "  * Sentence\n",
        "  * Token\n",
        "* Alternative Libraries\n",
        "  * SpaCy\n",
        "  * Stanford NER \n",
        "* Resources\n",
        "  * http://jalammar.github.io/illustrated-bert/\n",
        "  * https://www.chrismccormick.ai/\n",
        "  * https://github.com/cedrickchee/awesome-bert-nlp\n",
        "  * https://arxiv.org/pdf/1804.00247.pdf\n",
        "  * https://www.tensorflow.org/official_models/fine_tuning_bert\n",
        "  * https://www.depends-on-the-definition.com/named-entity-recognition-with-bert/\n"
      ]
    },
    {
      "cell_type": "code",
      "metadata": {
        "id": "iUmf6yKEO6fz",
        "colab_type": "code",
        "colab": {}
      },
      "source": [
        ""
      ],
      "execution_count": 37,
      "outputs": []
    }
  ]
}