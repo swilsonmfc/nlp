{
  "nbformat": 4,
  "nbformat_minor": 0,
  "metadata": {
    "colab": {
      "name": "Seq2SeqMath.ipynb",
      "provenance": [],
      "collapsed_sections": [],
      "toc_visible": true,
      "authorship_tag": "ABX9TyOBvRTlgvSPzHDLabUpv5Jv",
      "include_colab_link": true
    },
    "kernelspec": {
      "name": "python3",
      "display_name": "Python 3"
    },
    "accelerator": "GPU"
  },
  "cells": [
    {
      "cell_type": "markdown",
      "metadata": {
        "id": "view-in-github",
        "colab_type": "text"
      },
      "source": [
        "<a href=\"https://colab.research.google.com/github/swilsonmfc/nlp/blob/master/Seq2SeqMath.ipynb\" target=\"_parent\"><img src=\"https://colab.research.google.com/assets/colab-badge.svg\" alt=\"Open In Colab\"/></a>"
      ]
    },
    {
      "cell_type": "markdown",
      "metadata": {
        "id": "xcxqjGzOuWdv",
        "colab_type": "text"
      },
      "source": [
        "# Seq2Seq\n",
        "\n",
        "![](https://www.guru99.com/images/1/111318_0848_seq2seqSequ3.png)"
      ]
    },
    {
      "cell_type": "markdown",
      "metadata": {
        "id": "Dgnp5l7GueYc",
        "colab_type": "text"
      },
      "source": [
        "# Setup"
      ]
    },
    {
      "cell_type": "code",
      "metadata": {
        "id": "K5zDobpQuh4B",
        "colab_type": "code",
        "colab": {
          "base_uri": "https://localhost:8080/",
          "height": 71
        },
        "outputId": "6c21162c-68e3-4d5c-cd4d-7969dabf2765"
      },
      "source": [
        "import pandas as pd\n",
        "import numpy as np\n",
        "import matplotlib.pyplot as plt\n",
        "import seaborn as sns\n",
        "\n",
        "import datetime\n",
        "\n",
        "import tensorflow as tf\n",
        "import tensorflow.keras as keras\n",
        "\n",
        "from tensorflow.keras.models import Model\n",
        "from tensorflow.keras.models import Sequential\n",
        "from tensorflow.keras.layers import Input\n",
        "from tensorflow.keras.layers import Dense\n",
        "from tensorflow.keras.layers import LSTM\n",
        "from tensorflow.keras.layers import RepeatVector\n",
        "from tensorflow.keras.layers import TimeDistributed\n",
        "from tensorflow.keras.layers import GRU\n",
        "from tensorflow.keras.layers import Concatenate\n",
        "from tensorflow.keras.layers import Attention\n",
        "from tensorflow.keras.layers import Bidirectional\n",
        "from keras.callbacks import Callback\n",
        "\n",
        "from sklearn.metrics import accuracy_score"
      ],
      "execution_count": 1,
      "outputs": [
        {
          "output_type": "stream",
          "text": [
            "/usr/local/lib/python3.6/dist-packages/statsmodels/tools/_testing.py:19: FutureWarning: pandas.util.testing is deprecated. Use the functions in the public API at pandas.testing instead.\n",
            "  import pandas.util.testing as tm\n"
          ],
          "name": "stderr"
        }
      ]
    },
    {
      "cell_type": "code",
      "metadata": {
        "id": "22NeuvYkuvKp",
        "colab_type": "code",
        "colab": {}
      },
      "source": [
        "TRAINING_SIZE = 50000\n",
        "DIGITS = 3\n",
        "MAXLEN = DIGITS + 1 + DIGITS"
      ],
      "execution_count": 2,
      "outputs": []
    },
    {
      "cell_type": "markdown",
      "metadata": {
        "id": "h6lz-wehuyTM",
        "colab_type": "text"
      },
      "source": [
        "# Data\n",
        "* Adapted from https://keras.io/examples/nlp/addition_rnn"
      ]
    },
    {
      "cell_type": "code",
      "metadata": {
        "id": "RdL4QX3Juxis",
        "colab_type": "code",
        "colab": {
          "base_uri": "https://localhost:8080/",
          "height": 51
        },
        "outputId": "49c51e8f-869d-454f-be06-bc92631e4834"
      },
      "source": [
        "class CharacterTable:\n",
        "    \"\"\"Given a set of characters:\n",
        "    + Encode them to a one-hot integer representation\n",
        "    + Decode the one-hot or integer representation to their character output\n",
        "    + Decode a vector of probabilities to their character output\n",
        "    \"\"\"\n",
        "\n",
        "    def __init__(self, chars):\n",
        "        \"\"\"Initialize character table.\n",
        "        # Arguments\n",
        "            chars: Characters that can appear in the input.\n",
        "        \"\"\"\n",
        "        self.chars = sorted(set(chars))\n",
        "        self.char_indices = dict((c, i) for i, c in enumerate(self.chars))\n",
        "        self.indices_char = dict((i, c) for i, c in enumerate(self.chars))\n",
        "\n",
        "    def encode(self, C, num_rows):\n",
        "        \"\"\"One-hot encode given string C.\n",
        "        # Arguments\n",
        "            C: string, to be encoded.\n",
        "            num_rows: Number of rows in the returned one-hot encoding. This is\n",
        "                used to keep the # of rows for each data the same.\n",
        "        \"\"\"\n",
        "        x = np.zeros((num_rows, len(self.chars)))\n",
        "        for i, c in enumerate(C):\n",
        "            x[i, self.char_indices[c]] = 1\n",
        "        return x\n",
        "\n",
        "    def decode(self, x, calc_argmax=True):\n",
        "        \"\"\"Decode the given vector or 2D array to their character output.\n",
        "        # Arguments\n",
        "            x: A vector or a 2D array of probabilities or one-hot representations;\n",
        "                or a vector of character indices (used with `calc_argmax=False`).\n",
        "            calc_argmax: Whether to find the character index with maximum\n",
        "                probability, defaults to `True`.\n",
        "        \"\"\"\n",
        "        if calc_argmax:\n",
        "            x = x.argmax(axis=-1)\n",
        "        return \"\".join(self.indices_char[x] for x in x)\n",
        "\n",
        "\n",
        "# All the numbers, plus sign and space for padding.\n",
        "chars = \"0123456789+ \"\n",
        "ctable = CharacterTable(chars)\n",
        "\n",
        "questions = []\n",
        "expected = []\n",
        "seen = set()\n",
        "print(\"Generating data...\")\n",
        "while len(questions) < TRAINING_SIZE:\n",
        "    f = lambda: int(\n",
        "        \"\".join(\n",
        "            np.random.choice(list(\"0123456789\"))\n",
        "            for i in range(np.random.randint(1, DIGITS + 1))\n",
        "        )\n",
        "    )\n",
        "    a, b = f(), f()\n",
        "    # Skip any addition questions we've already seen\n",
        "    # Also skip any such that x+Y == Y+x (hence the sorting).\n",
        "    key = tuple(sorted((a, b)))\n",
        "    if key in seen:\n",
        "        continue\n",
        "    seen.add(key)\n",
        "    # Pad the data with spaces such that it is always MAXLEN.\n",
        "    q = \"{}+{}\".format(a, b)\n",
        "    query = q + \" \" * (MAXLEN - len(q))\n",
        "    ans = str(a + b)\n",
        "    # Answers can be of maximum size DIGITS + 1.\n",
        "    ans += \" \" * (DIGITS + 1 - len(ans))\n",
        "\n",
        "    questions.append(query)\n",
        "    expected.append(ans)\n",
        "print(\"Total questions:\", len(questions))"
      ],
      "execution_count": 3,
      "outputs": [
        {
          "output_type": "stream",
          "text": [
            "Generating data...\n",
            "Total questions: 50000\n"
          ],
          "name": "stdout"
        }
      ]
    },
    {
      "cell_type": "code",
      "metadata": {
        "id": "_pOQp-7cu1pB",
        "colab_type": "code",
        "colab": {
          "base_uri": "https://localhost:8080/",
          "height": 119
        },
        "outputId": "11c77fdc-af95-4b12-c461-500edc185bf7"
      },
      "source": [
        "x = np.zeros((len(questions), MAXLEN, len(chars)), dtype=np.bool)\n",
        "y = np.zeros((len(questions), MAXLEN, len(chars)), dtype=np.bool)\n",
        "for i, sentence in enumerate(questions):\n",
        "    x[i] = ctable.encode(sentence, MAXLEN)\n",
        "for i, sentence in enumerate(expected):\n",
        "    y[i] = ctable.encode(sentence, MAXLEN)\n",
        "\n",
        "# Shuffle (x, y) in unison as the later parts of x will almost all be larger\n",
        "# digits.\n",
        "indices = np.arange(len(y))\n",
        "np.random.shuffle(indices)\n",
        "x = x[indices]\n",
        "y = y[indices]\n",
        "\n",
        "# Explicitly set apart 10% for validation data that we never train over.\n",
        "split_at = len(x) - len(x) // 10\n",
        "(x_train, x_val) = x[:split_at], x[split_at:]\n",
        "(y_train, y_val) = y[:split_at], y[split_at:]\n",
        "\n",
        "print(\"Training Data:\")\n",
        "print(x_train.shape)\n",
        "print(y_train.shape)\n",
        "\n",
        "print(\"Validation Data:\")\n",
        "print(x_val.shape)\n",
        "print(y_val.shape)"
      ],
      "execution_count": 4,
      "outputs": [
        {
          "output_type": "stream",
          "text": [
            "Training Data:\n",
            "(45000, 7, 12)\n",
            "(45000, 7, 12)\n",
            "Validation Data:\n",
            "(5000, 7, 12)\n",
            "(5000, 7, 12)\n"
          ],
          "name": "stdout"
        }
      ]
    },
    {
      "cell_type": "markdown",
      "metadata": {
        "id": "K84ZqMYJ_OTI",
        "colab_type": "text"
      },
      "source": [
        "## Examples"
      ]
    },
    {
      "cell_type": "code",
      "metadata": {
        "id": "dWF3D14E_NOG",
        "colab_type": "code",
        "colab": {
          "base_uri": "https://localhost:8080/",
          "height": 255
        },
        "outputId": "c5813703-990e-49da-dcd1-e5b45c4f3d9e"
      },
      "source": [
        "x_train[0]"
      ],
      "execution_count": 5,
      "outputs": [
        {
          "output_type": "execute_result",
          "data": {
            "text/plain": [
              "array([[False, False, False, False, False, False, False, False, False,\n",
              "        False, False,  True],\n",
              "       [False, False, False, False, False, False, False, False, False,\n",
              "        False, False,  True],\n",
              "       [False, False, False, False, False,  True, False, False, False,\n",
              "        False, False, False],\n",
              "       [False,  True, False, False, False, False, False, False, False,\n",
              "        False, False, False],\n",
              "       [False, False, False, False, False, False, False, False, False,\n",
              "         True, False, False],\n",
              "       [False, False,  True, False, False, False, False, False, False,\n",
              "        False, False, False],\n",
              "       [ True, False, False, False, False, False, False, False, False,\n",
              "        False, False, False]])"
            ]
          },
          "metadata": {
            "tags": []
          },
          "execution_count": 5
        }
      ]
    },
    {
      "cell_type": "code",
      "metadata": {
        "id": "jhWSr_5I_b7U",
        "colab_type": "code",
        "colab": {
          "base_uri": "https://localhost:8080/",
          "height": 136
        },
        "outputId": "77497c8f-8ae9-4bde-be29-3a56c1f3dfa8"
      },
      "source": [
        "x_train[0].astype('int')"
      ],
      "execution_count": 6,
      "outputs": [
        {
          "output_type": "execute_result",
          "data": {
            "text/plain": [
              "array([[0, 0, 0, 0, 0, 0, 0, 0, 0, 0, 0, 1],\n",
              "       [0, 0, 0, 0, 0, 0, 0, 0, 0, 0, 0, 1],\n",
              "       [0, 0, 0, 0, 0, 1, 0, 0, 0, 0, 0, 0],\n",
              "       [0, 1, 0, 0, 0, 0, 0, 0, 0, 0, 0, 0],\n",
              "       [0, 0, 0, 0, 0, 0, 0, 0, 0, 1, 0, 0],\n",
              "       [0, 0, 1, 0, 0, 0, 0, 0, 0, 0, 0, 0],\n",
              "       [1, 0, 0, 0, 0, 0, 0, 0, 0, 0, 0, 0]])"
            ]
          },
          "metadata": {
            "tags": []
          },
          "execution_count": 6
        }
      ]
    },
    {
      "cell_type": "code",
      "metadata": {
        "id": "qOmfiefM_g4O",
        "colab_type": "code",
        "colab": {
          "base_uri": "https://localhost:8080/",
          "height": 35
        },
        "outputId": "719da5f4-d04c-41e0-a758-c794bbbc0961"
      },
      "source": [
        "ctable.decode(x_train[0])"
      ],
      "execution_count": 7,
      "outputs": [
        {
          "output_type": "execute_result",
          "data": {
            "application/vnd.google.colaboratory.intrinsic+json": {
              "type": "string"
            },
            "text/plain": [
              "'993+70 '"
            ]
          },
          "metadata": {
            "tags": []
          },
          "execution_count": 7
        }
      ]
    },
    {
      "cell_type": "markdown",
      "metadata": {
        "id": "lqv4nbchzydf",
        "colab_type": "text"
      },
      "source": [
        "y_train[0].astype('int')"
      ]
    },
    {
      "cell_type": "code",
      "metadata": {
        "id": "9HV0Aco0_lte",
        "colab_type": "code",
        "colab": {
          "base_uri": "https://localhost:8080/",
          "height": 35
        },
        "outputId": "d0603924-6c4b-4aaa-e4f7-371f16df7717"
      },
      "source": [
        "ctable.decode(y_train[0])"
      ],
      "execution_count": 8,
      "outputs": [
        {
          "output_type": "execute_result",
          "data": {
            "application/vnd.google.colaboratory.intrinsic+json": {
              "type": "string"
            },
            "text/plain": [
              "'1063   '"
            ]
          },
          "metadata": {
            "tags": []
          },
          "execution_count": 8
        }
      ]
    },
    {
      "cell_type": "markdown",
      "metadata": {
        "id": "xQowEpK0uA9P",
        "colab_type": "text"
      },
      "source": [
        "# Results\n",
        "* Compare accuracy of model\n",
        "* Compare complexity and time to train"
      ]
    },
    {
      "cell_type": "code",
      "metadata": {
        "id": "ixjR_ir8uCoA",
        "colab_type": "code",
        "colab": {}
      },
      "source": [
        "results_df = pd.DataFrame(columns=['Accuracy', 'Time', 'Parameters'])"
      ],
      "execution_count": 9,
      "outputs": []
    },
    {
      "cell_type": "markdown",
      "metadata": {
        "id": "t-mcqucUoc7M",
        "colab_type": "text"
      },
      "source": [
        "# Parameters\n",
        "* Fix number of epochs and batch size\n"
      ]
    },
    {
      "cell_type": "code",
      "metadata": {
        "id": "KZMVLEWlofuJ",
        "colab_type": "code",
        "colab": {}
      },
      "source": [
        "EPOCHS     = 10\n",
        "BATCH_SIZE = 32"
      ],
      "execution_count": 10,
      "outputs": []
    },
    {
      "cell_type": "markdown",
      "metadata": {
        "id": "TA2GdjVyu6mu",
        "colab_type": "text"
      },
      "source": [
        "# Helpers\n",
        "* Helper to plot random random examples and accuracy\n",
        "* Plotting history object"
      ]
    },
    {
      "cell_type": "code",
      "metadata": {
        "id": "ZD1OgtG0u-VO",
        "colab_type": "code",
        "colab": {}
      },
      "source": [
        "class PrintExamples(Callback):\n",
        "  def on_epoch_end(self, epoch, logs=None):\n",
        "    print(' ')\n",
        "    for i in range(10):\n",
        "      ind        = np.random.randint(0, len(x))\n",
        "      rowx, rowy = x[np.array([ind])], y[np.array([ind])]\n",
        "      preds      = np.argmax(model.predict(rowx), axis=-1)\n",
        "\n",
        "      q       = ctable.decode(rowx[0])\n",
        "      correct = ctable.decode(rowy[0])\n",
        "      guess   = ctable.decode(preds[0], calc_argmax=False)\n",
        "      print(f'  Q {q} = {correct} {\"☑ \" if correct == guess else \"☒ \"} {guess}')"
      ],
      "execution_count": 11,
      "outputs": []
    },
    {
      "cell_type": "code",
      "metadata": {
        "id": "pu5z2TvDMrQi",
        "colab_type": "code",
        "colab": {}
      },
      "source": [
        "def plot_performance(history, color_train='blue', color_val='red'):\n",
        "    fig, ax = plt.subplots(figsize=(12,10))\n",
        "    \n",
        "    acc = history.history['accuracy']\n",
        "    val_acc = history.history['val_accuracy']\n",
        "    epochs = range(1, len(acc) + 1)\n",
        "    ax = plt.subplot(2, 1, 1)\n",
        "    plt.plot(epochs, acc, 'bo', color=color_train, label='Train')\n",
        "    plt.plot(epochs, val_acc, 'b', color=color_val, label='Validation')\n",
        "    plt.title('Training & Validation Accuracy')\n",
        "    plt.ylabel('Accuracy')\n",
        "    ax.legend()\n",
        "    \n",
        "    ax = plt.subplot(2, 1, 2)\n",
        "    loss = history.history['loss']\n",
        "    val_loss = history.history['val_loss']\n",
        "    epochs = range(1, len(loss) + 1)    \n",
        "    plt.plot(epochs, loss, 'bo', color=color_train, label='Train')\n",
        "    plt.plot(epochs, val_loss, 'b', color=color_val, label='Validation')\n",
        "    plt.title('Training & Validation Loss')\n",
        "    plt.xlabel('Epochs')\n",
        "    plt.ylabel('Loss')\n",
        "    plt.legend()"
      ],
      "execution_count": 12,
      "outputs": []
    },
    {
      "cell_type": "markdown",
      "metadata": {
        "id": "ib1g2Jrgu32p",
        "colab_type": "text"
      },
      "source": [
        "# LSTM"
      ]
    },
    {
      "cell_type": "markdown",
      "metadata": {
        "id": "Eq-_SQTamstb",
        "colab_type": "text"
      },
      "source": [
        "## Base"
      ]
    },
    {
      "cell_type": "code",
      "metadata": {
        "id": "OVfXUfctu4Z7",
        "colab_type": "code",
        "colab": {
          "base_uri": "https://localhost:8080/",
          "height": 289
        },
        "outputId": "70639d55-1bb3-4331-c2fd-6f04a0ee0fb8"
      },
      "source": [
        "model = Sequential()\n",
        "# Encoder\n",
        "#  - Encode the input using a LSTM\n",
        "#  - The output of the LSTM represents the \"thought vector\"\n",
        "#  - In this example the size is 128\n",
        "#  - We can have a purely variable output not specifying max length\n",
        "model.add(LSTM(128, input_shape=(MAXLEN, len(chars))))\n",
        "\n",
        "# Decoder\n",
        "#  - For input to the decoder, we repeat the output of the encoder at each time step\n",
        "#  - We decode by passing the context vector through a LSTM\n",
        "#  - The LSTM receives the \"thought vector\" and is aware of its own state\n",
        "model.add(RepeatVector(MAXLEN))\n",
        "model.add(LSTM(128, return_sequences=True))\n",
        "\n",
        "# Output\n",
        "#  - We use a dense layer with softmax\n",
        "#  - Softmax indicates the item in the vocabulary we show in the output\n",
        "model.add(Dense(len(chars), activation=\"softmax\"))\n",
        "\n",
        "# Compilation\n",
        "#  - Our loss function is categorical_crossentropy\n",
        "#  - We use Adam optimizer (default learning rate)\n",
        "#  - Use accuracy as a metric for output\n",
        "model.compile(loss=\"categorical_crossentropy\", optimizer=\"adam\", metrics=[\"accuracy\"])\n",
        "model.summary()"
      ],
      "execution_count": 13,
      "outputs": [
        {
          "output_type": "stream",
          "text": [
            "Model: \"sequential\"\n",
            "_________________________________________________________________\n",
            "Layer (type)                 Output Shape              Param #   \n",
            "=================================================================\n",
            "lstm (LSTM)                  (None, 128)               72192     \n",
            "_________________________________________________________________\n",
            "repeat_vector (RepeatVector) (None, 7, 128)            0         \n",
            "_________________________________________________________________\n",
            "lstm_1 (LSTM)                (None, 7, 128)            131584    \n",
            "_________________________________________________________________\n",
            "dense (Dense)                (None, 7, 12)             1548      \n",
            "=================================================================\n",
            "Total params: 205,324\n",
            "Trainable params: 205,324\n",
            "Non-trainable params: 0\n",
            "_________________________________________________________________\n"
          ],
          "name": "stdout"
        }
      ]
    },
    {
      "cell_type": "code",
      "metadata": {
        "id": "DXL2Xc1raz6R",
        "colab_type": "code",
        "colab": {
          "base_uri": "https://localhost:8080/",
          "height": 533
        },
        "outputId": "f249f354-4aee-4680-821f-3beed6460546"
      },
      "source": [
        "tf.keras.utils.plot_model(model, show_shapes=True)"
      ],
      "execution_count": 14,
      "outputs": [
        {
          "output_type": "execute_result",
          "data": {
            "image/png": "[encoded data removed]",
            "text/plain": [
              "<IPython.core.display.Image object>"
            ]
          },
          "metadata": {
            "tags": []
          },
          "execution_count": 14
        }
      ]
    },
    {
      "cell_type": "code",
      "metadata": {
        "id": "bhmZ5ma2vXka",
        "colab_type": "code",
        "colab": {
          "base_uri": "https://localhost:8080/",
          "height": 1000
        },
        "outputId": "852805d8-5160-41ad-e3b6-871e1c5a76df"
      },
      "source": [
        "start = datetime.datetime.now()\n",
        "history_base_lstm = model.fit(\n",
        "    x_train,\n",
        "    y_train,\n",
        "    batch_size=BATCH_SIZE,\n",
        "    epochs=EPOCHS,\n",
        "    validation_data=(x_val, y_val),\n",
        "    callbacks=[PrintExamples()])\n",
        "end = datetime.datetime.now()"
      ],
      "execution_count": 15,
      "outputs": [
        {
          "output_type": "stream",
          "text": [
            "Epoch 1/10\n",
            "1405/1407 [============================>.] - ETA: 0s - loss: 1.0107 - accuracy: 0.6298 \n",
            "  Q 20+977  = 997     ☒  101    \n",
            "  Q 205+619 = 824     ☒  699    \n",
            "  Q 56+440  = 496     ☒  591    \n",
            "  Q 3+547   = 550     ☒  508    \n",
            "  Q 562+22  = 584     ☒  681    \n",
            "  Q 393+345 = 738     ☒  709    \n",
            "  Q 845+28  = 873     ☒  591    \n",
            "  Q 460+91  = 551     ☒  603    \n",
            "  Q 70+482  = 552     ☒  891    \n",
            "  Q 158+7   = 165     ☒  11     \n",
            "1407/1407 [==============================] - 11s 7ms/step - loss: 1.0106 - accuracy: 0.6298 - val_loss: 0.8899 - val_accuracy: 0.6648\n",
            "Epoch 2/10\n",
            "1407/1407 [==============================] - ETA: 0s - loss: 0.7801 - accuracy: 0.7038 \n",
            "  Q 1+508   = 509     ☒  510    \n",
            "  Q 140+489 = 629     ☒  617    \n",
            "  Q 74+919  = 993     ☒  977    \n",
            "  Q 464+59  = 523     ☒  537    \n",
            "  Q 631+693 = 1324    ☒  1303   \n",
            "  Q 963+4   = 967     ☒  968    \n",
            "  Q 85+261  = 346     ☑  346    \n",
            "  Q 366+90  = 456     ☒  436    \n",
            "  Q 401+3   = 404     ☒  415    \n",
            "  Q 165+63  = 228     ☒  247    \n",
            "1407/1407 [==============================] - 9s 7ms/step - loss: 0.7801 - accuracy: 0.7038 - val_loss: 0.6896 - val_accuracy: 0.7388\n",
            "Epoch 3/10\n",
            "1407/1407 [==============================] - ETA: 0s - loss: 0.6402 - accuracy: 0.7554 \n",
            "  Q 4+118   = 122     ☒  116    \n",
            "  Q 210+1   = 211     ☒  222    \n",
            "  Q 451+4   = 455     ☒  448    \n",
            "  Q 999+5   = 1004    ☒  190    \n",
            "  Q 40+959  = 999     ☒  900    \n",
            "  Q 730+503 = 1233    ☒  1288   \n",
            "  Q 751+90  = 841     ☒  840    \n",
            "  Q 572+3   = 575     ☒  571    \n",
            "  Q 1+135   = 136     ☒  126    \n",
            "  Q 98+77   = 175     ☒  165    \n",
            "1407/1407 [==============================] - 9s 7ms/step - loss: 0.6402 - accuracy: 0.7554 - val_loss: 0.6004 - val_accuracy: 0.7645\n",
            "Epoch 4/10\n",
            "1402/1407 [============================>.] - ETA: 0s - loss: 0.5606 - accuracy: 0.7851 \n",
            "  Q 717+885 = 1602    ☒  1604   \n",
            "  Q 94+42   = 136     ☒  134    \n",
            "  Q 51+604  = 655     ☒  674    \n",
            "  Q 285+36  = 321     ☒  324    \n",
            "  Q 12+153  = 165     ☒  164    \n",
            "  Q 375+196 = 571     ☒  544    \n",
            "  Q 677+42  = 719     ☒  700    \n",
            "  Q 2+393   = 395     ☒  391    \n",
            "  Q 341+2   = 343     ☒  344    \n",
            "  Q 6+262   = 268     ☒  264    \n",
            "1407/1407 [==============================] - 9s 7ms/step - loss: 0.5605 - accuracy: 0.7851 - val_loss: 0.5338 - val_accuracy: 0.7976\n",
            "Epoch 5/10\n",
            "1406/1407 [============================>.] - ETA: 0s - loss: 0.5108 - accuracy: 0.8038 \n",
            "  Q 69+835  = 904     ☒  909    \n",
            "  Q 296+82  = 378     ☒  379    \n",
            "  Q 227+644 = 871     ☒  884    \n",
            "  Q 485+4   = 489     ☒  494    \n",
            "  Q 654+97  = 751     ☒  742    \n",
            "  Q 4+43    = 47      ☒  48     \n",
            "  Q 412+140 = 552     ☒  550    \n",
            "  Q 799+0   = 799     ☒  790    \n",
            "  Q 429+7   = 436     ☒  432    \n",
            "  Q 954+8   = 962     ☒  969    \n",
            "1407/1407 [==============================] - 9s 7ms/step - loss: 0.5108 - accuracy: 0.8038 - val_loss: 0.5075 - val_accuracy: 0.8021\n",
            "Epoch 6/10\n",
            "1407/1407 [==============================] - ETA: 0s - loss: 0.4637 - accuracy: 0.8225 \n",
            "  Q 943+890 = 1833    ☒  18370  \n",
            "  Q 343+58  = 401     ☒  490    \n",
            "  Q 1+862   = 863     ☒  864    \n",
            "  Q 949+35  = 984     ☒  977    \n",
            "  Q 980+64  = 1044    ☒  1056   \n",
            "  Q 782+487 = 1269    ☒  12579  \n",
            "  Q 0+913   = 913     ☑  913    \n",
            "  Q 536+943 = 1479    ☒  1477   \n",
            "  Q 49+577  = 626     ☑  626    \n",
            "  Q 686+13  = 699     ☒  690    \n",
            "1407/1407 [==============================] - 9s 7ms/step - loss: 0.4637 - accuracy: 0.8225 - val_loss: 0.4488 - val_accuracy: 0.8252\n",
            "Epoch 7/10\n",
            "1406/1407 [============================>.] - ETA: 0s - loss: 0.3927 - accuracy: 0.8484 \n",
            "  Q 12+920  = 932     ☒  933    \n",
            "  Q 48+1    = 49      ☑  49     \n",
            "  Q 637+7   = 644     ☒  645    \n",
            "  Q 865+108 = 973     ☒  985    \n",
            "  Q 7+821   = 828     ☑  828    \n",
            "  Q 124+48  = 172     ☒  161    \n",
            "  Q 403+28  = 431     ☑  431    \n",
            "  Q 382+14  = 396     ☑  396    \n",
            "  Q 72+954  = 1026    ☒  1025   \n",
            "  Q 840+942 = 1782    ☒  1764   \n",
            "1407/1407 [==============================] - 9s 7ms/step - loss: 0.3927 - accuracy: 0.8484 - val_loss: 0.3470 - val_accuracy: 0.8692\n",
            "Epoch 8/10\n",
            "1407/1407 [==============================] - ETA: 0s - loss: 0.2991 - accuracy: 0.8870 \n",
            "  Q 292+5   = 297     ☑  297    \n",
            "  Q 8+195   = 203     ☑  203    \n",
            "  Q 774+7   = 781     ☑  781    \n",
            "  Q 2+658   = 660     ☒  650    \n",
            "  Q 17+471  = 488     ☑  488    \n",
            "  Q 938+7   = 945     ☑  945    \n",
            "  Q 49+653  = 702     ☑  702    \n",
            "  Q 392+138 = 530     ☒  535    \n",
            "  Q 794+740 = 1534    ☒  1533   \n",
            "  Q 877+2   = 879     ☒  889    \n",
            "1407/1407 [==============================] - 9s 7ms/step - loss: 0.2991 - accuracy: 0.8870 - val_loss: 0.2637 - val_accuracy: 0.9010\n",
            "Epoch 9/10\n",
            "1407/1407 [==============================] - ETA: 0s - loss: 0.2181 - accuracy: 0.9226 \n",
            "  Q 208+82  = 290     ☒  280    \n",
            "  Q 7+937   = 944     ☑  944    \n",
            "  Q 346+381 = 727     ☒  726    \n",
            "  Q 560+43  = 603     ☑  603    \n",
            "  Q 2+821   = 823     ☑  823    \n",
            "  Q 95+306  = 401     ☒  301    \n",
            "  Q 396+74  = 470     ☒  460    \n",
            "  Q 501+624 = 1125    ☑  1125   \n",
            "  Q 741+91  = 832     ☒  842    \n",
            "  Q 701+74  = 775     ☑  775    \n",
            "1407/1407 [==============================] - 9s 7ms/step - loss: 0.2181 - accuracy: 0.9226 - val_loss: 0.1903 - val_accuracy: 0.9329\n",
            "Epoch 10/10\n",
            "1403/1407 [============================>.] - ETA: 0s - loss: 0.1554 - accuracy: 0.9487 \n",
            "  Q 223+145 = 368     ☒  367    \n",
            "  Q 5+992   = 997     ☒  998    \n",
            "  Q 0+373   = 373     ☑  373    \n",
            "  Q 7+629   = 636     ☑  636    \n",
            "  Q 720+835 = 1555    ☑  1555   \n",
            "  Q 446+520 = 966     ☑  966    \n",
            "  Q 497+223 = 720     ☒  719    \n",
            "  Q 172+885 = 1057    ☒  1066   \n",
            "  Q 193+71  = 264     ☑  264    \n",
            "  Q 1+75    = 76      ☑  76     \n",
            "1407/1407 [==============================] - 10s 7ms/step - loss: 0.1553 - accuracy: 0.9487 - val_loss: 0.1302 - val_accuracy: 0.9589\n"
          ],
          "name": "stdout"
        }
      ]
    },
    {
      "cell_type": "code",
      "metadata": {
        "id": "VqrEqi0hmcMr",
        "colab_type": "code",
        "colab": {}
      },
      "source": [
        "time = (end - start).total_seconds() \n",
        "pred = model.predict(x_val)\n",
        "acc  = accuracy_score(\n",
        "        np.argmax(pred,  axis=2).reshape(-1),\n",
        "        np.argmax(y_val, axis=2).reshape(-1))\n",
        "results_df.loc['LSTM'] = [acc, time, model.count_params()]"
      ],
      "execution_count": 16,
      "outputs": []
    },
    {
      "cell_type": "code",
      "metadata": {
        "id": "VHPRpjG0uTs3",
        "colab_type": "code",
        "colab": {
          "base_uri": "https://localhost:8080/",
          "height": 621
        },
        "outputId": "ccef1a37-a444-4cd2-9290-ac818201521a"
      },
      "source": [
        "plot_performance(history_base_lstm)"
      ],
      "execution_count": 17,
      "outputs": [
        {
          "output_type": "display_data",
          "data": {
            "image/png": "[encoded data removed]",
            "text/plain": [
              "<Figure size 864x720 with 2 Axes>"
            ]
          },
          "metadata": {
            "tags": [],
            "needs_background": "light"
          }
        }
      ]
    },
    {
      "cell_type": "markdown",
      "metadata": {
        "id": "hIQDxnwAvGPh",
        "colab_type": "text"
      },
      "source": [
        "## Deep\n",
        "\n",
        "![](https://i.stack.imgur.com/3Lh2p.jpg)"
      ]
    },
    {
      "cell_type": "code",
      "metadata": {
        "id": "MWxFbqysgEu-",
        "colab_type": "code",
        "colab": {
          "base_uri": "https://localhost:8080/",
          "height": 323
        },
        "outputId": "7e447fc8-0667-4522-f885-3213eb8d09c2"
      },
      "source": [
        "model = Sequential()\n",
        "# Encoder\n",
        "#  - Encode the input using a LSTM\n",
        "#  - The output of the LSTM represents the \"thought vector\"\n",
        "#  - In this example the size is 128\n",
        "#  - We can have a purely variable output not specifying max length\n",
        "model.add(LSTM(128, input_shape=(MAXLEN, len(chars))))\n",
        "\n",
        "# Decoder\n",
        "#  - For input to the decoder, we repeat the output of the encoder at each time step\n",
        "#  - We decode by passing the context vector through two LSTM layers\n",
        "#  - The LSTM receives the \"thought vector\" and is aware of its own state\n",
        "model.add(RepeatVector(MAXLEN))\n",
        "model.add(LSTM(128, return_sequences=True))\n",
        "model.add(LSTM(128, return_sequences=True))\n",
        "\n",
        "# Output\n",
        "#  - We use a dense layer with softmax\n",
        "#  - Softmax indicates the item in the vocabulary we show in the output\n",
        "model.add(Dense(len(chars), activation=\"softmax\"))\n",
        "\n",
        "# Compilation\n",
        "#  - Our loss function is categorical_crossentropy\n",
        "#  - We use Adam optimizer (default learning rate)\n",
        "#  - Use accuracy as a metric for output\n",
        "model.compile(loss=\"categorical_crossentropy\", optimizer=\"adam\", metrics=[\"accuracy\"])\n",
        "model.summary()"
      ],
      "execution_count": 18,
      "outputs": [
        {
          "output_type": "stream",
          "text": [
            "Model: \"sequential_1\"\n",
            "_________________________________________________________________\n",
            "Layer (type)                 Output Shape              Param #   \n",
            "=================================================================\n",
            "lstm_2 (LSTM)                (None, 128)               72192     \n",
            "_________________________________________________________________\n",
            "repeat_vector_1 (RepeatVecto (None, 7, 128)            0         \n",
            "_________________________________________________________________\n",
            "lstm_3 (LSTM)                (None, 7, 128)            131584    \n",
            "_________________________________________________________________\n",
            "lstm_4 (LSTM)                (None, 7, 128)            131584    \n",
            "_________________________________________________________________\n",
            "dense_1 (Dense)              (None, 7, 12)             1548      \n",
            "=================================================================\n",
            "Total params: 336,908\n",
            "Trainable params: 336,908\n",
            "Non-trainable params: 0\n",
            "_________________________________________________________________\n"
          ],
          "name": "stdout"
        }
      ]
    },
    {
      "cell_type": "code",
      "metadata": {
        "id": "PagvfdycnSew",
        "colab_type": "code",
        "colab": {
          "base_uri": "https://localhost:8080/",
          "height": 644
        },
        "outputId": "16643b96-5536-4984-ceea-a6ee4bd21dcd"
      },
      "source": [
        "tf.keras.utils.plot_model(model, show_shapes=True)"
      ],
      "execution_count": 19,
      "outputs": [
        {
          "output_type": "execute_result",
          "data": {
            "image/png": "[encoded data removed]",
            "text/plain": [
              "<IPython.core.display.Image object>"
            ]
          },
          "metadata": {
            "tags": []
          },
          "execution_count": 19
        }
      ]
    },
    {
      "cell_type": "code",
      "metadata": {
        "id": "Q-nL4e7GgW85",
        "colab_type": "code",
        "colab": {
          "base_uri": "https://localhost:8080/",
          "height": 1000
        },
        "outputId": "4222292f-d427-48af-d275-22b42233d796"
      },
      "source": [
        "start = datetime.datetime.now()\n",
        "history_deep_lstm = model.fit(\n",
        "    x_train,\n",
        "    y_train,\n",
        "    batch_size=BATCH_SIZE,\n",
        "    epochs=EPOCHS,\n",
        "    validation_data=(x_val, y_val),\n",
        "    callbacks=[PrintExamples()])\n",
        "end = datetime.datetime.now()"
      ],
      "execution_count": 20,
      "outputs": [
        {
          "output_type": "stream",
          "text": [
            "Epoch 1/10\n",
            "1402/1407 [============================>.] - ETA: 0s - loss: 1.0115 - accuracy: 0.6269 \n",
            "  Q 44+633  = 677     ☒  796    \n",
            "  Q 36+368  = 404     ☒  396    \n",
            "  Q 804+498 = 1302    ☒  1066   \n",
            "  Q 88+584  = 672     ☒  766    \n",
            "  Q 39+299  = 338     ☒  216    \n",
            "  Q 156+77  = 233     ☒  396    \n",
            "  Q 111+32  = 143     ☒  216    \n",
            "  Q 323+119 = 442     ☒  696    \n",
            "  Q 0+53    = 53      ☒  11     \n",
            "  Q 753+779 = 1532    ☒  1466   \n",
            "1407/1407 [==============================] - 13s 10ms/step - loss: 1.0112 - accuracy: 0.6269 - val_loss: 0.8938 - val_accuracy: 0.6600\n",
            "Epoch 2/10\n",
            "1402/1407 [============================>.] - ETA: 0s - loss: 0.7843 - accuracy: 0.6997 \n",
            "  Q 3+193   = 196     ☒  111    \n",
            "  Q 521+90  = 611     ☒  622    \n",
            "  Q 811+621 = 1432    ☒  1331   \n",
            "  Q 57+53   = 110     ☒  113    \n",
            "  Q 488+67  = 555     ☒  552    \n",
            "  Q 47+708  = 755     ☒  722    \n",
            "  Q 441+90  = 531     ☒  512    \n",
            "  Q 56+489  = 545     ☒  522    \n",
            "  Q 947+289 = 1236    ☒  1111   \n",
            "  Q 233+915 = 1148    ☒  1111   \n",
            "1407/1407 [==============================] - 12s 8ms/step - loss: 0.7841 - accuracy: 0.6997 - val_loss: 0.7196 - val_accuracy: 0.7236\n",
            "Epoch 3/10\n",
            "1404/1407 [============================>.] - ETA: 0s - loss: 0.6477 - accuracy: 0.7508 \n",
            "  Q 268+354 = 622     ☒  672    \n",
            "  Q 17+24   = 41      ☒  47     \n",
            "  Q 956+66  = 1022    ☒  1012   \n",
            "  Q 668+30  = 698     ☒  692    \n",
            "  Q 90+52   = 142     ☒  132    \n",
            "  Q 73+472  = 545     ☒  542    \n",
            "  Q 62+626  = 688     ☒  692    \n",
            "  Q 8+640   = 648     ☒  642    \n",
            "  Q 438+9   = 447     ☑  447    \n",
            "  Q 918+168 = 1086    ☒  1072   \n",
            "1407/1407 [==============================] - 12s 8ms/step - loss: 0.6476 - accuracy: 0.7509 - val_loss: 0.5555 - val_accuracy: 0.7885\n",
            "Epoch 4/10\n",
            "1406/1407 [============================>.] - ETA: 0s - loss: 0.5131 - accuracy: 0.8019 \n",
            "  Q 26+197  = 223     ☒  221    \n",
            "  Q 76+556  = 632     ☒  634    \n",
            "  Q 115+98  = 213     ☒  211    \n",
            "  Q 8+662   = 670     ☒  664    \n",
            "  Q 683+224 = 907     ☒  891    \n",
            "  Q 91+31   = 122     ☒  111    \n",
            "  Q 206+400 = 606     ☒  610    \n",
            "  Q 14+291  = 305     ☒  301    \n",
            "  Q 872+2   = 874     ☑  874    \n",
            "  Q 14+312  = 326     ☒  334    \n",
            "1407/1407 [==============================] - 12s 8ms/step - loss: 0.5131 - accuracy: 0.8019 - val_loss: 0.4592 - val_accuracy: 0.8249\n",
            "Epoch 5/10\n",
            "1404/1407 [============================>.] - ETA: 0s - loss: 0.4479 - accuracy: 0.8277 \n",
            "  Q 638+272 = 910     ☑  910    \n",
            "  Q 580+446 = 1026    ☒  1021   \n",
            "  Q 81+181  = 262     ☒  261    \n",
            "  Q 20+518  = 538     ☒  638    \n",
            "  Q 655+60  = 715     ☒  710    \n",
            "  Q 874+13  = 887     ☒  880    \n",
            "  Q 456+3   = 459     ☒  458    \n",
            "  Q 467+127 = 594     ☒  595    \n",
            "  Q 14+66   = 80      ☒  81     \n",
            "  Q 51+31   = 82      ☒  81     \n",
            "1407/1407 [==============================] - 12s 8ms/step - loss: 0.4479 - accuracy: 0.8277 - val_loss: 0.4512 - val_accuracy: 0.8271\n",
            "Epoch 6/10\n",
            "1401/1407 [============================>.] - ETA: 0s - loss: 0.4156 - accuracy: 0.8406 \n",
            "  Q 681+39  = 720     ☒  711    \n",
            "  Q 992+643 = 1635    ☒  1631   \n",
            "  Q 12+355  = 367     ☒  365    \n",
            "  Q 702+883 = 1585    ☒  1583   \n",
            "  Q 96+56   = 152     ☒  151    \n",
            "  Q 197+210 = 407     ☒  401    \n",
            "  Q 145+717 = 862     ☒  864    \n",
            "  Q 782+48  = 830     ☒  831    \n",
            "  Q 125+9   = 134     ☒  131    \n",
            "  Q 7+992   = 999     ☒  990    \n",
            "1407/1407 [==============================] - 12s 8ms/step - loss: 0.4155 - accuracy: 0.8407 - val_loss: 0.3933 - val_accuracy: 0.8511\n",
            "Epoch 7/10\n",
            "1404/1407 [============================>.] - ETA: 0s - loss: 0.3988 - accuracy: 0.8466 \n",
            "  Q 920+713 = 1633    ☒  1628   \n",
            "  Q 93+41   = 134     ☒  131    \n",
            "  Q 266+5   = 271     ☒  263    \n",
            "  Q 67+802  = 869     ☒  861    \n",
            "  Q 5+367   = 372     ☒  373    \n",
            "  Q 757+419 = 1176    ☒  1171   \n",
            "  Q 87+676  = 763     ☑  763    \n",
            "  Q 962+229 = 1191    ☑  1191   \n",
            "  Q 982+57  = 1039    ☒  1033   \n",
            "  Q 863+279 = 1142    ☒  1141   \n",
            "1407/1407 [==============================] - 12s 8ms/step - loss: 0.3987 - accuracy: 0.8466 - val_loss: 0.3925 - val_accuracy: 0.8470\n",
            "Epoch 8/10\n",
            "1404/1407 [============================>.] - ETA: 0s - loss: 0.3872 - accuracy: 0.8517 \n",
            "  Q 638+596 = 1234    ☒  1231   \n",
            "  Q 822+667 = 1489    ☒  1488   \n",
            "  Q 144+4   = 148     ☒  159    \n",
            "  Q 91+67   = 158     ☑  158    \n",
            "  Q 20+12   = 32      ☒  31     \n",
            "  Q 493+91  = 584     ☒  589    \n",
            "  Q 155+620 = 775     ☒  778    \n",
            "  Q 60+287  = 347     ☒  349    \n",
            "  Q 204+80  = 284     ☒  281    \n",
            "  Q 490+241 = 731     ☑  731    \n",
            "1407/1407 [==============================] - 12s 8ms/step - loss: 0.3872 - accuracy: 0.8517 - val_loss: 0.3736 - val_accuracy: 0.8579\n",
            "Epoch 9/10\n",
            "1403/1407 [============================>.] - ETA: 0s - loss: 0.3612 - accuracy: 0.8618 \n",
            "  Q 412+371 = 783     ☒  786    \n",
            "  Q 84+46   = 130     ☒  131    \n",
            "  Q 933+3   = 936     ☑  936    \n",
            "  Q 97+332  = 429     ☒  420    \n",
            "  Q 877+294 = 1171    ☒  1160   \n",
            "  Q 641+95  = 736     ☑  736    \n",
            "  Q 277+22  = 299     ☑  299    \n",
            "  Q 3+760   = 763     ☑  763    \n",
            "  Q 331+92  = 423     ☑  423    \n",
            "  Q 156+456 = 612     ☑  612    \n",
            "1407/1407 [==============================] - 12s 8ms/step - loss: 0.3611 - accuracy: 0.8618 - val_loss: 0.3148 - val_accuracy: 0.8787\n",
            "Epoch 10/10\n",
            "1404/1407 [============================>.] - ETA: 0s - loss: 0.2277 - accuracy: 0.9173 \n",
            "  Q 48+395  = 443     ☑  443    \n",
            "  Q 138+880 = 1018    ☒  1019   \n",
            "  Q 971+17  = 988     ☑  988    \n",
            "  Q 847+50  = 897     ☑  897    \n",
            "  Q 4+433   = 437     ☑  437    \n",
            "  Q 90+17   = 107     ☑  107    \n",
            "  Q 551+73  = 624     ☑  624    \n",
            "  Q 94+430  = 524     ☑  524    \n",
            "  Q 789+24  = 813     ☑  813    \n",
            "  Q 491+846 = 1337    ☑  1337   \n",
            "1407/1407 [==============================] - 12s 8ms/step - loss: 0.2276 - accuracy: 0.9174 - val_loss: 0.1448 - val_accuracy: 0.9526\n"
          ],
          "name": "stdout"
        }
      ]
    },
    {
      "cell_type": "code",
      "metadata": {
        "id": "iNG_2I76k67N",
        "colab_type": "code",
        "colab": {}
      },
      "source": [
        "time = (end - start).total_seconds() \n",
        "pred = model.predict(x_val)\n",
        "acc  = accuracy_score(\n",
        "        np.argmax(pred,  axis=2).reshape(-1),\n",
        "        np.argmax(y_val, axis=2).reshape(-1))\n",
        "results_df.loc['LSTM DEEP'] = [acc, time, model.count_params()]"
      ],
      "execution_count": 21,
      "outputs": []
    },
    {
      "cell_type": "code",
      "metadata": {
        "id": "UNOdXVY2uRji",
        "colab_type": "code",
        "colab": {
          "base_uri": "https://localhost:8080/",
          "height": 621
        },
        "outputId": "9dadadd2-3df6-42ac-c2cc-b02a1cb48462"
      },
      "source": [
        "plot_performance(history_deep_lstm)"
      ],
      "execution_count": 22,
      "outputs": [
        {
          "output_type": "display_data",
          "data": {
            "image/png": "[encoded data removed]",
            "text/plain": [
              "<Figure size 864x720 with 2 Axes>"
            ]
          },
          "metadata": {
            "tags": [],
            "needs_background": "light"
          }
        }
      ]
    },
    {
      "cell_type": "markdown",
      "metadata": {
        "id": "C9I7WNk3oIZD",
        "colab_type": "text"
      },
      "source": [
        "## Bidirectional\n",
        "\n",
        "![](https://miro.medium.com/max/764/1*6QnPUSv_t9BY9Fv8_aLb-Q.png)"
      ]
    },
    {
      "cell_type": "code",
      "metadata": {
        "id": "bfuBwkq6m7D9",
        "colab_type": "code",
        "colab": {
          "base_uri": "https://localhost:8080/",
          "height": 289
        },
        "outputId": "75d019f0-7f72-46e6-b641-d1568b71527d"
      },
      "source": [
        "model = Sequential()\n",
        "# Encoder\n",
        "#  - Encode the input using a LSTM\n",
        "#  - We allow the encoder to look forward and backwards\n",
        "#  - We do need to decide how to \"combine\"\n",
        "#    - Default is concat\n",
        "#    - Other options sum, mul, ave\n",
        "#  - The output of the LSTM represents the \"thought vector\"\n",
        "#  - In this example the size is 128\n",
        "#  - We can have a purely variable output not specifying max length\n",
        "model.add(Bidirectional(LSTM(128), input_shape=(MAXLEN, len(chars))))\n",
        "\n",
        "# Decoder\n",
        "#  - For input to the decoder, we repeat the output of the encoder at each time step\n",
        "#  - We decode by passing the context vector through the LSTM layer\n",
        "#  - The LSTM receives the \"thought vector\" and is aware of its own state\n",
        "model.add(RepeatVector(MAXLEN))\n",
        "model.add(LSTM(128, return_sequences=True))\n",
        "\n",
        "# Output\n",
        "#  - We use a dense layer with softmax\n",
        "#  - Softmax indicates the item in the vocabulary we show in the output\n",
        "model.add(Dense(len(chars), activation=\"softmax\"))\n",
        "\n",
        "# Compilation\n",
        "#  - Our loss function is categorical_crossentropy\n",
        "#  - We use Adam optimizer (default learning rate)\n",
        "#  - Use accuracy as a metric for output\n",
        "model.compile(loss=\"categorical_crossentropy\", optimizer=\"adam\", metrics=[\"accuracy\"])\n",
        "model.summary()"
      ],
      "execution_count": 23,
      "outputs": [
        {
          "output_type": "stream",
          "text": [
            "Model: \"sequential_2\"\n",
            "_________________________________________________________________\n",
            "Layer (type)                 Output Shape              Param #   \n",
            "=================================================================\n",
            "bidirectional (Bidirectional (None, 256)               144384    \n",
            "_________________________________________________________________\n",
            "repeat_vector_2 (RepeatVecto (None, 7, 256)            0         \n",
            "_________________________________________________________________\n",
            "lstm_6 (LSTM)                (None, 7, 128)            197120    \n",
            "_________________________________________________________________\n",
            "dense_2 (Dense)              (None, 7, 12)             1548      \n",
            "=================================================================\n",
            "Total params: 343,052\n",
            "Trainable params: 343,052\n",
            "Non-trainable params: 0\n",
            "_________________________________________________________________\n"
          ],
          "name": "stdout"
        }
      ]
    },
    {
      "cell_type": "code",
      "metadata": {
        "id": "cBEOlz6unTvK",
        "colab_type": "code",
        "colab": {
          "base_uri": "https://localhost:8080/",
          "height": 533
        },
        "outputId": "174fa5b4-cd28-476e-fc7e-2f23c50504cf"
      },
      "source": [
        "tf.keras.utils.plot_model(model, show_shapes=True)"
      ],
      "execution_count": 24,
      "outputs": [
        {
          "output_type": "execute_result",
          "data": {
            "image/png": "[encoded data removed]",
            "text/plain": [
              "<IPython.core.display.Image object>"
            ]
          },
          "metadata": {
            "tags": []
          },
          "execution_count": 24
        }
      ]
    },
    {
      "cell_type": "code",
      "metadata": {
        "id": "izmrvr-_oCLi",
        "colab_type": "code",
        "colab": {
          "base_uri": "https://localhost:8080/",
          "height": 1000
        },
        "outputId": "a2bb75c3-f73e-4614-de28-d3cd19220fe2"
      },
      "source": [
        "start = datetime.datetime.now()\n",
        "history_bidi_lstm = model.fit(\n",
        "    x_train,\n",
        "    y_train,\n",
        "    batch_size=BATCH_SIZE,\n",
        "    epochs=EPOCHS,\n",
        "    validation_data=(x_val, y_val),\n",
        "    callbacks=[PrintExamples()])\n",
        "end = datetime.datetime.now()"
      ],
      "execution_count": 25,
      "outputs": [
        {
          "output_type": "stream",
          "text": [
            "Epoch 1/10\n",
            "1404/1407 [============================>.] - ETA: 0s - loss: 0.9668 - accuracy: 0.6399 \n",
            "  Q 858+51  = 909     ☒  902    \n",
            "  Q 98+709  = 807     ☒  804    \n",
            "  Q 21+400  = 421     ☒  411    \n",
            "  Q 92+640  = 732     ☒  772    \n",
            "  Q 901+948 = 1849    ☒  1777881\n",
            "  Q 865+219 = 1084    ☒  1142   \n",
            "  Q 109+93  = 202     ☒  210    \n",
            "  Q 96+31   = 127     ☒  100    \n",
            "  Q 560+555 = 1115    ☒  1120   \n",
            "  Q 212+513 = 725     ☒  744    \n",
            "1407/1407 [==============================] - 14s 10ms/step - loss: 0.9665 - accuracy: 0.6399 - val_loss: 0.8120 - val_accuracy: 0.6719\n",
            "Epoch 2/10\n",
            "1403/1407 [============================>.] - ETA: 0s - loss: 0.7244 - accuracy: 0.6969 \n",
            "  Q 865+426 = 1291    ☒  127188 \n",
            "  Q 952+37  = 989     ☒  978    \n",
            "  Q 91+895  = 986     ☒  971    \n",
            "  Q 115+7   = 122     ☒  117    \n",
            "  Q 87+46   = 133     ☒  122    \n",
            "  Q 818+724 = 1542    ☒  1572889\n",
            "  Q 727+329 = 1056    ☒  1078   \n",
            "  Q 167+325 = 492     ☒  478    \n",
            "  Q 545+668 = 1213    ☒  122228 \n",
            "  Q 39+859  = 898     ☒  978    \n",
            "1407/1407 [==============================] - 13s 9ms/step - loss: 0.7243 - accuracy: 0.6969 - val_loss: 0.6530 - val_accuracy: 0.7162\n",
            "Epoch 3/10\n",
            "1404/1407 [============================>.] - ETA: 0s - loss: 0.5932 - accuracy: 0.7389 \n",
            "  Q 62+262  = 324     ☒  327    \n",
            "  Q 475+831 = 1306    ☒  121667 \n",
            "  Q 1+165   = 166     ☒  167    \n",
            "  Q 689+8   = 697     ☒  694    \n",
            "  Q 30+427  = 457     ☒  447    \n",
            "  Q 468+3   = 471     ☒  466    \n",
            "  Q 281+636 = 917     ☒  902    \n",
            "  Q 233+1   = 234     ☒  224    \n",
            "  Q 68+176  = 244     ☒  247    \n",
            "  Q 86+535  = 621     ☒  614    \n",
            "1407/1407 [==============================] - 13s 9ms/step - loss: 0.5930 - accuracy: 0.7390 - val_loss: 0.5451 - val_accuracy: 0.7546\n",
            "Epoch 4/10\n",
            "1404/1407 [============================>.] - ETA: 0s - loss: 0.4765 - accuracy: 0.7890 \n",
            "  Q 53+138  = 191     ☑  191    \n",
            "  Q 832+62  = 894     ☒  893    \n",
            "  Q 688+77  = 765     ☒  764    \n",
            "  Q 555+0   = 555     ☑  555    \n",
            "  Q 89+844  = 933     ☒  932    \n",
            "  Q 979+5   = 984     ☒  983    \n",
            "  Q 386+1   = 387     ☒  388    \n",
            "  Q 840+4   = 844     ☒  842    \n",
            "  Q 83+877  = 960     ☒  951    \n",
            "  Q 185+26  = 211     ☒  201    \n",
            "1407/1407 [==============================] - 12s 9ms/step - loss: 0.4763 - accuracy: 0.7891 - val_loss: 0.3804 - val_accuracy: 0.8372\n",
            "Epoch 5/10\n",
            "1406/1407 [============================>.] - ETA: 0s - loss: 0.2845 - accuracy: 0.8818 \n",
            "  Q 530+725 = 1255    ☒  12546  \n",
            "  Q 885+583 = 1468    ☒  15688  \n",
            "  Q 33+97   = 130     ☒  120    \n",
            "  Q 845+431 = 1276    ☒  12767  \n",
            "  Q 978+45  = 1023    ☑  1023   \n",
            "  Q 23+16   = 39      ☒  38     \n",
            "  Q 82+962  = 1044    ☑  1044   \n",
            "  Q 27+58   = 85      ☑  85     \n",
            "  Q 78+20   = 98      ☑  98     \n",
            "  Q 104+452 = 556     ☑  556    \n",
            "1407/1407 [==============================] - 13s 9ms/step - loss: 0.2845 - accuracy: 0.8818 - val_loss: 0.2190 - val_accuracy: 0.9090\n",
            "Epoch 6/10\n",
            "1404/1407 [============================>.] - ETA: 0s - loss: 0.1673 - accuracy: 0.9390 \n",
            "  Q 134+60  = 194     ☑  194    \n",
            "  Q 880+516 = 1396    ☒  13967  \n",
            "  Q 606+26  = 632     ☑  632    \n",
            "  Q 119+678 = 797     ☒  896    \n",
            "  Q 658+766 = 1424    ☑  1424   \n",
            "  Q 334+50  = 384     ☑  384    \n",
            "  Q 381+817 = 1198    ☑  1198   \n",
            "  Q 656+829 = 1485    ☒  1484   \n",
            "  Q 683+20  = 703     ☑  703    \n",
            "  Q 96+917  = 1013    ☑  1013   \n",
            "1407/1407 [==============================] - 12s 9ms/step - loss: 0.1672 - accuracy: 0.9390 - val_loss: 0.1317 - val_accuracy: 0.9547\n",
            "Epoch 7/10\n",
            "1402/1407 [============================>.] - ETA: 0s - loss: 0.1085 - accuracy: 0.9626 \n",
            "  Q 587+185 = 772     ☒  773    \n",
            "  Q 32+612  = 644     ☑  644    \n",
            "  Q 381+63  = 444     ☑  444    \n",
            "  Q 762+60  = 822     ☑  822    \n",
            "  Q 105+48  = 153     ☑  153    \n",
            "  Q 14+423  = 437     ☑  437    \n",
            "  Q 135+936 = 1071    ☑  1071   \n",
            "  Q 667+240 = 907     ☑  907    \n",
            "  Q 84+592  = 676     ☑  676    \n",
            "  Q 690+2   = 692     ☑  692    \n",
            "1407/1407 [==============================] - 12s 9ms/step - loss: 0.1084 - accuracy: 0.9625 - val_loss: 0.0995 - val_accuracy: 0.9647\n",
            "Epoch 8/10\n",
            "1406/1407 [============================>.] - ETA: 0s - loss: 0.0765 - accuracy: 0.9725 \n",
            "  Q 947+28  = 975     ☑  975    \n",
            "  Q 93+258  = 351     ☑  351    \n",
            "  Q 41+640  = 681     ☑  681    \n",
            "  Q 8+279   = 287     ☑  287    \n",
            "  Q 10+862  = 872     ☑  872    \n",
            "  Q 487+35  = 522     ☑  522    \n",
            "  Q 42+278  = 320     ☑  320    \n",
            "  Q 35+33   = 68      ☑  68     \n",
            "  Q 72+201  = 273     ☑  273    \n",
            "  Q 24+997  = 1021    ☑  1021   \n",
            "1407/1407 [==============================] - 13s 9ms/step - loss: 0.0765 - accuracy: 0.9725 - val_loss: 0.0569 - val_accuracy: 0.9791\n",
            "Epoch 9/10\n",
            "1402/1407 [============================>.] - ETA: 0s - loss: 0.0595 - accuracy: 0.9777 \n",
            "  Q 370+31  = 401     ☒  301    \n",
            "  Q 83+35   = 118     ☑  118    \n",
            "  Q 74+972  = 1046    ☑  1046   \n",
            "  Q 58+151  = 209     ☑  209    \n",
            "  Q 502+43  = 545     ☑  545    \n",
            "  Q 590+46  = 636     ☑  636    \n",
            "  Q 228+154 = 382     ☑  382    \n",
            "  Q 70+337  = 407     ☑  407    \n",
            "  Q 119+11  = 130     ☒  120    \n",
            "  Q 405+26  = 431     ☑  431    \n",
            "1407/1407 [==============================] - 13s 9ms/step - loss: 0.0595 - accuracy: 0.9777 - val_loss: 0.0416 - val_accuracy: 0.9851\n",
            "Epoch 10/10\n",
            "1403/1407 [============================>.] - ETA: 0s - loss: 0.0483 - accuracy: 0.9816 \n",
            "  Q 27+62   = 89      ☑  89     \n",
            "  Q 244+313 = 557     ☑  557    \n",
            "  Q 69+351  = 420     ☑  420    \n",
            "  Q 153+492 = 645     ☑  645    \n",
            "  Q 656+9   = 665     ☑  665    \n",
            "  Q 963+9   = 972     ☑  972    \n",
            "  Q 570+90  = 660     ☑  660    \n",
            "  Q 718+99  = 817     ☑  817    \n",
            "  Q 198+19  = 217     ☑  217    \n",
            "  Q 31+286  = 317     ☑  317    \n",
            "1407/1407 [==============================] - 13s 9ms/step - loss: 0.0482 - accuracy: 0.9816 - val_loss: 0.0378 - val_accuracy: 0.9854\n"
          ],
          "name": "stdout"
        }
      ]
    },
    {
      "cell_type": "code",
      "metadata": {
        "id": "nmsjDalTdffW",
        "colab_type": "code",
        "colab": {}
      },
      "source": [
        "time = (end - start).total_seconds() \n",
        "pred = model.predict(x_val)\n",
        "acc  = accuracy_score(\n",
        "        np.argmax(pred,  axis=2).reshape(-1),\n",
        "        np.argmax(y_val, axis=2).reshape(-1))\n",
        "results_df.loc['LSTM BIDI'] = [acc, time, model.count_params()]"
      ],
      "execution_count": 26,
      "outputs": []
    },
    {
      "cell_type": "code",
      "metadata": {
        "id": "J4ykSMupuLpZ",
        "colab_type": "code",
        "colab": {
          "base_uri": "https://localhost:8080/",
          "height": 621
        },
        "outputId": "e23ed45a-5bd8-4a1d-9eaa-fdcf84db3ea7"
      },
      "source": [
        "plot_performance(history_bidi_lstm)"
      ],
      "execution_count": 27,
      "outputs": [
        {
          "output_type": "display_data",
          "data": {
            "image/png": "[encoded data removed]",
            "text/plain": [
              "<Figure size 864x720 with 2 Axes>"
            ]
          },
          "metadata": {
            "tags": [],
            "needs_background": "light"
          }
        }
      ]
    },
    {
      "cell_type": "markdown",
      "metadata": {
        "id": "o8n1LcRzmy_o",
        "colab_type": "text"
      },
      "source": [
        "# GRU\n",
        "![](https://ahmedabadmirror.indiatimes.com/thumb/64033616.cms?resizemode=4&width=400)"
      ]
    },
    {
      "cell_type": "markdown",
      "metadata": {
        "id": "2mvdyO5t5CKC",
        "colab_type": "text"
      },
      "source": [
        "![](https://cdn.shortpixel.ai/client/q_glossy,ret_img,w_1200/http://dprogrammer.org/wp-content/uploads/2019/04/RNN-vs-LSTM-vs-GRU-1200x361.png)"
      ]
    },
    {
      "cell_type": "markdown",
      "metadata": {
        "id": "n6UWN9gr3J5D",
        "colab_type": "text"
      },
      "source": [
        "* GRU is a variation of the LSTM \n",
        "* Like the LSTM it's able to solve the vanishing gradient problem\n",
        "  * Fewer parameters\n",
        "  * Fewer computations\n",
        "* Uses an update gate and a reset gate\n",
        "* Update gate controls what that flows into memory\n",
        "* Reset gate controls what flows out of memory\n",
        "* Each gate is a matrix of weights that decide what to pass to the output\n",
        "* Through back propagation, we \"learn\" to keep or drop information relevant to the prediction (how to minimize loss)"
      ]
    },
    {
      "cell_type": "markdown",
      "metadata": {
        "id": "7PefQqUKm4cV",
        "colab_type": "text"
      },
      "source": [
        "## Base"
      ]
    },
    {
      "cell_type": "code",
      "metadata": {
        "id": "cH5aNkiWmzue",
        "colab_type": "code",
        "colab": {
          "base_uri": "https://localhost:8080/",
          "height": 289
        },
        "outputId": "13309ea6-cf66-4d1a-bd94-06b3c8a27de8"
      },
      "source": [
        "model = Sequential()\n",
        "# Encoder\n",
        "#  - Encode the input using a GRU\n",
        "#  - The output of the GRU represents the \"thought vector\"\n",
        "#  - In this example the size is 128\n",
        "#  - We can have a purely variable output not specifying max length\n",
        "model.add(GRU(128, input_shape=(MAXLEN, len(chars))))\n",
        "\n",
        "# Decoder\n",
        "#  - For input to the decoder, we repeat the output of the encoder at each time step\n",
        "#  - We decode by passing the context vector through a GRU\n",
        "#  - The GRU receives the \"thought vector\" and is aware of its own state\n",
        "model.add(RepeatVector(MAXLEN))\n",
        "model.add(GRU(128, return_sequences=True))\n",
        "\n",
        "# Output\n",
        "#  - We use a dense layer with softmax\n",
        "#  - Softmax indicates the item in the vocabulary we show in the output\n",
        "model.add(Dense(len(chars), activation=\"softmax\"))\n",
        "\n",
        "# Compilation\n",
        "#  - Our loss function is categorical_crossentropy\n",
        "#  - We use Adam optimizer (default learning rate)\n",
        "#  - Use accuracy as a metric for output\n",
        "model.compile(loss=\"categorical_crossentropy\", optimizer=\"adam\", metrics=[\"accuracy\"])\n",
        "model.summary()"
      ],
      "execution_count": 28,
      "outputs": [
        {
          "output_type": "stream",
          "text": [
            "Model: \"sequential_3\"\n",
            "_________________________________________________________________\n",
            "Layer (type)                 Output Shape              Param #   \n",
            "=================================================================\n",
            "gru (GRU)                    (None, 128)               54528     \n",
            "_________________________________________________________________\n",
            "repeat_vector_3 (RepeatVecto (None, 7, 128)            0         \n",
            "_________________________________________________________________\n",
            "gru_1 (GRU)                  (None, 7, 128)            99072     \n",
            "_________________________________________________________________\n",
            "dense_3 (Dense)              (None, 7, 12)             1548      \n",
            "=================================================================\n",
            "Total params: 155,148\n",
            "Trainable params: 155,148\n",
            "Non-trainable params: 0\n",
            "_________________________________________________________________\n"
          ],
          "name": "stdout"
        }
      ]
    },
    {
      "cell_type": "code",
      "metadata": {
        "id": "sqiMPttWnVJq",
        "colab_type": "code",
        "colab": {
          "base_uri": "https://localhost:8080/",
          "height": 533
        },
        "outputId": "5d07d39a-ce2f-409b-f7a3-da657bf7de80"
      },
      "source": [
        "tf.keras.utils.plot_model(model, show_shapes=True)"
      ],
      "execution_count": 29,
      "outputs": [
        {
          "output_type": "execute_result",
          "data": {
            "image/png": "[encoded data removed]",
            "text/plain": [
              "<IPython.core.display.Image object>"
            ]
          },
          "metadata": {
            "tags": []
          },
          "execution_count": 29
        }
      ]
    },
    {
      "cell_type": "code",
      "metadata": {
        "id": "YOMTHpktnAhi",
        "colab_type": "code",
        "colab": {
          "base_uri": "https://localhost:8080/",
          "height": 1000
        },
        "outputId": "f7886d76-9433-415f-af51-1ce86eb2d42a"
      },
      "source": [
        "start = datetime.datetime.now()\n",
        "history_base_gru = model.fit(\n",
        "    x_train,\n",
        "    y_train,\n",
        "    batch_size=BATCH_SIZE,\n",
        "    epochs=EPOCHS,\n",
        "    validation_data=(x_val, y_val),\n",
        "    callbacks=[PrintExamples()])\n",
        "end = datetime.datetime.now()"
      ],
      "execution_count": 30,
      "outputs": [
        {
          "output_type": "stream",
          "text": [
            "Epoch 1/10\n",
            "1406/1407 [============================>.] - ETA: 0s - loss: 0.9565 - accuracy: 0.6451 \n",
            "  Q 5+717   = 722     ☒  740    \n",
            "  Q 375+92  = 467     ☒  437    \n",
            "  Q 153+38  = 191     ☒  110    \n",
            "  Q 492+0   = 492     ☒  450    \n",
            "  Q 934+45  = 979     ☒  907    \n",
            "  Q 642+45  = 687     ☒  670    \n",
            "  Q 579+208 = 787     ☒  900    \n",
            "  Q 5+624   = 629     ☒  600    \n",
            "  Q 375+595 = 970     ☒  107    \n",
            "  Q 65+207  = 272     ☒  370    \n",
            "1407/1407 [==============================] - 10s 7ms/step - loss: 0.9565 - accuracy: 0.6451 - val_loss: 0.7791 - val_accuracy: 0.7122\n",
            "Epoch 2/10\n",
            "1403/1407 [============================>.] - ETA: 0s - loss: 0.7239 - accuracy: 0.7239 \n",
            "  Q 272+4   = 276     ☒  264    \n",
            "  Q 813+4   = 817     ☒  822    \n",
            "  Q 34+26   = 60      ☒  66     \n",
            "  Q 4+462   = 466     ☒  444    \n",
            "  Q 71+221  = 292     ☒  306    \n",
            "  Q 874+56  = 930     ☒  921    \n",
            "  Q 86+593  = 679     ☒  656    \n",
            "  Q 703+989 = 1692    ☒  1612   \n",
            "  Q 201+26  = 227     ☒  264    \n",
            "  Q 71+465  = 536     ☒  545    \n",
            "1407/1407 [==============================] - 9s 6ms/step - loss: 0.7238 - accuracy: 0.7239 - val_loss: 0.6747 - val_accuracy: 0.7445\n",
            "Epoch 3/10\n",
            "1400/1407 [============================>.] - ETA: 0s - loss: 0.6394 - accuracy: 0.7533 \n",
            "  Q 5+771   = 776     ☒  777    \n",
            "  Q 607+27  = 634     ☒  632    \n",
            "  Q 899+69  = 968     ☒  956    \n",
            "  Q 25+326  = 351     ☒  367    \n",
            "  Q 266+95  = 361     ☒  347    \n",
            "  Q 102+905 = 1007    ☒  1044   \n",
            "  Q 863+368 = 1231    ☒  1297   \n",
            "  Q 729+44  = 773     ☒  776    \n",
            "  Q 5+687   = 692     ☒  696    \n",
            "  Q 889+3   = 892     ☒  997    \n",
            "1407/1407 [==============================] - 9s 6ms/step - loss: 0.6392 - accuracy: 0.7534 - val_loss: 0.6016 - val_accuracy: 0.7646\n",
            "Epoch 4/10\n",
            "1402/1407 [============================>.] - ETA: 0s - loss: 0.5673 - accuracy: 0.7777 \n",
            "  Q 3+529   = 532     ☒  531    \n",
            "  Q 355+2   = 357     ☒  353    \n",
            "  Q 41+71   = 112     ☒  113    \n",
            "  Q 90+269  = 359     ☒  353    \n",
            "  Q 789+4   = 793     ☒  791    \n",
            "  Q 117+21  = 138     ☒  132    \n",
            "  Q 41+730  = 771     ☒  763    \n",
            "  Q 37+679  = 716     ☒  710    \n",
            "  Q 55+323  = 378     ☒  376    \n",
            "  Q 90+90   = 180     ☒  171    \n",
            "1407/1407 [==============================] - 9s 6ms/step - loss: 0.5672 - accuracy: 0.7777 - val_loss: 0.5355 - val_accuracy: 0.7874\n",
            "Epoch 5/10\n",
            "1406/1407 [============================>.] - ETA: 0s - loss: 0.5172 - accuracy: 0.7963 \n",
            "  Q 563+9   = 572     ☒  568    \n",
            "  Q 59+22   = 81      ☒  83     \n",
            "  Q 52+326  = 378     ☒  375    \n",
            "  Q 257+113 = 370     ☒  378    \n",
            "  Q 1+949   = 950     ☒  945    \n",
            "  Q 574+45  = 619     ☒  625    \n",
            "  Q 327+35  = 362     ☒  369    \n",
            "  Q 565+45  = 610     ☒  614    \n",
            "  Q 159+70  = 229     ☒  225    \n",
            "  Q 679+0   = 679     ☒  685    \n",
            "1407/1407 [==============================] - 9s 6ms/step - loss: 0.5172 - accuracy: 0.7963 - val_loss: 0.5079 - val_accuracy: 0.8009\n",
            "Epoch 6/10\n",
            "1407/1407 [==============================] - ETA: 0s - loss: 0.4793 - accuracy: 0.8095 \n",
            "  Q 745+918 = 1663    ☒  1669   \n",
            "  Q 44+944  = 988     ☒  987    \n",
            "  Q 766+808 = 1574    ☒  1579   \n",
            "  Q 888+28  = 916     ☒  929    \n",
            "  Q 886+946 = 1832    ☒  1833   \n",
            "  Q 11+9    = 20      ☒  19     \n",
            "  Q 54+753  = 807     ☒  801    \n",
            "  Q 6+933   = 939     ☒  949    \n",
            "  Q 905+721 = 1626    ☒  1631   \n",
            "  Q 609+588 = 1197    ☒  1109   \n",
            "1407/1407 [==============================] - 10s 7ms/step - loss: 0.4793 - accuracy: 0.8095 - val_loss: 0.4675 - val_accuracy: 0.8125\n",
            "Epoch 7/10\n",
            "1405/1407 [============================>.] - ETA: 0s - loss: 0.4434 - accuracy: 0.8234 \n",
            "  Q 99+578  = 677     ☒  673    \n",
            "  Q 845+58  = 903     ☒  901    \n",
            "  Q 336+567 = 903     ☒  995    \n",
            "  Q 24+791  = 815     ☒  805    \n",
            "  Q 534+2   = 536     ☒  532    \n",
            "  Q 902+16  = 918     ☒  929    \n",
            "  Q 737+171 = 908     ☒  905    \n",
            "  Q 325+822 = 1147    ☑  1147   \n",
            "  Q 939+96  = 1035    ☒  1021   \n",
            "  Q 6+385   = 391     ☒  399    \n",
            "1407/1407 [==============================] - 9s 6ms/step - loss: 0.4433 - accuracy: 0.8234 - val_loss: 0.4375 - val_accuracy: 0.8260\n",
            "Epoch 8/10\n",
            "1404/1407 [============================>.] - ETA: 0s - loss: 0.4115 - accuracy: 0.8350 \n",
            "  Q 24+912  = 936     ☒  935    \n",
            "  Q 709+961 = 1670    ☒  1666   \n",
            "  Q 452+578 = 1030    ☒  11111  \n",
            "  Q 96+757  = 853     ☒  858    \n",
            "  Q 969+91  = 1060    ☒  1067   \n",
            "  Q 64+26   = 90      ☒  91     \n",
            "  Q 895+820 = 1715    ☒  1711   \n",
            "  Q 636+696 = 1332    ☒  1322   \n",
            "  Q 13+845  = 858     ☒  857    \n",
            "  Q 56+880  = 936     ☒  935    \n",
            "1407/1407 [==============================] - 9s 6ms/step - loss: 0.4114 - accuracy: 0.8350 - val_loss: 0.4026 - val_accuracy: 0.8366\n",
            "Epoch 9/10\n",
            "1400/1407 [============================>.] - ETA: 0s - loss: 0.3692 - accuracy: 0.8510 \n",
            "  Q 9+859   = 868     ☒  866    \n",
            "  Q 0+167   = 167     ☒  166    \n",
            "  Q 204+271 = 475     ☒  470    \n",
            "  Q 246+7   = 253     ☒  256    \n",
            "  Q 291+6   = 297     ☑  297    \n",
            "  Q 391+756 = 1147    ☒  1156   \n",
            "  Q 155+26  = 181     ☒  179    \n",
            "  Q 34+363  = 397     ☒  396    \n",
            "  Q 83+329  = 412     ☒  421    \n",
            "  Q 197+51  = 248     ☒  242    \n",
            "1407/1407 [==============================] - 9s 6ms/step - loss: 0.3690 - accuracy: 0.8511 - val_loss: 0.3443 - val_accuracy: 0.8550\n",
            "Epoch 10/10\n",
            "1400/1407 [============================>.] - ETA: 0s - loss: 0.2940 - accuracy: 0.8802 \n",
            "  Q 72+938  = 1010    ☑  1010   \n",
            "  Q 16+116  = 132     ☒  141    \n",
            "  Q 979+987 = 1966    ☒  1965  1\n",
            "  Q 82+232  = 314     ☒  324    \n",
            "  Q 173+635 = 808     ☒  817    \n",
            "  Q 874+92  = 966     ☑  966    \n",
            "  Q 410+28  = 438     ☑  438    \n",
            "  Q 390+411 = 801     ☒  815    \n",
            "  Q 56+126  = 182     ☒  181    \n",
            "  Q 177+895 = 1072    ☒  1075   \n",
            "1407/1407 [==============================] - 9s 6ms/step - loss: 0.2938 - accuracy: 0.8803 - val_loss: 0.2596 - val_accuracy: 0.8939\n"
          ],
          "name": "stdout"
        }
      ]
    },
    {
      "cell_type": "code",
      "metadata": {
        "id": "n9d9smvSn3ad",
        "colab_type": "code",
        "colab": {}
      },
      "source": [
        "time = (end - start).total_seconds() \n",
        "pred = model.predict(x_val)\n",
        "acc  = accuracy_score(\n",
        "        np.argmax(pred,  axis=2).reshape(-1),\n",
        "        np.argmax(y_val, axis=2).reshape(-1))\n",
        "results_df.loc['GRU'] = [acc, time, model.count_params()]"
      ],
      "execution_count": 31,
      "outputs": []
    },
    {
      "cell_type": "code",
      "metadata": {
        "id": "sA8ghf0uuI5n",
        "colab_type": "code",
        "colab": {
          "base_uri": "https://localhost:8080/",
          "height": 621
        },
        "outputId": "dfcf8e2a-c72b-45d6-e1b3-65a6e7c49590"
      },
      "source": [
        "plot_performance(history_base_gru)"
      ],
      "execution_count": 32,
      "outputs": [
        {
          "output_type": "display_data",
          "data": {
            "image/png": "[encoded data removed]",
            "text/plain": [
              "<Figure size 864x720 with 2 Axes>"
            ]
          },
          "metadata": {
            "tags": [],
            "needs_background": "light"
          }
        }
      ]
    },
    {
      "cell_type": "markdown",
      "metadata": {
        "id": "84eJyknYnc55",
        "colab_type": "text"
      },
      "source": [
        "## Deep"
      ]
    },
    {
      "cell_type": "code",
      "metadata": {
        "id": "IJlL7jH3ndil",
        "colab_type": "code",
        "colab": {
          "base_uri": "https://localhost:8080/",
          "height": 323
        },
        "outputId": "af21eda7-21f0-4b9c-c2e0-937c3cedf972"
      },
      "source": [
        "model = Sequential()\n",
        "# Encoder\n",
        "#  - Encode the input using a GRU\n",
        "#  - The output of the GRU represents the \"thought vector\"\n",
        "#  - In this example the size is 128\n",
        "#  - We can have a purely variable output not specifying max length\n",
        "model.add(GRU(128, input_shape=(MAXLEN, len(chars))))\n",
        "\n",
        "# Decoder\n",
        "#  - For input to the decoder, we repeat the output of the encoder at each time step\n",
        "#  - We decode by passing the context vector through two GRU layers\n",
        "#  - The GRU receives the \"thought vector\" and is aware of its own state\n",
        "model.add(RepeatVector(MAXLEN))\n",
        "model.add(GRU(128, return_sequences=True))\n",
        "model.add(GRU(128, return_sequences=True))\n",
        "\n",
        "# Output\n",
        "#  - We use a dense layer with softmax\n",
        "#  - Softmax indicates the item in the vocabulary we show in the output\n",
        "model.add(Dense(len(chars), activation=\"softmax\"))\n",
        "\n",
        "# Compilation\n",
        "#  - Our loss function is categorical_crossentropy\n",
        "#  - We use Adam optimizer (default learning rate)\n",
        "#  - Use accuracy as a metric for output\n",
        "model.compile(loss=\"categorical_crossentropy\", optimizer=\"adam\", metrics=[\"accuracy\"])\n",
        "model.summary()"
      ],
      "execution_count": 33,
      "outputs": [
        {
          "output_type": "stream",
          "text": [
            "Model: \"sequential_4\"\n",
            "_________________________________________________________________\n",
            "Layer (type)                 Output Shape              Param #   \n",
            "=================================================================\n",
            "gru_2 (GRU)                  (None, 128)               54528     \n",
            "_________________________________________________________________\n",
            "repeat_vector_4 (RepeatVecto (None, 7, 128)            0         \n",
            "_________________________________________________________________\n",
            "gru_3 (GRU)                  (None, 7, 128)            99072     \n",
            "_________________________________________________________________\n",
            "gru_4 (GRU)                  (None, 7, 128)            99072     \n",
            "_________________________________________________________________\n",
            "dense_4 (Dense)              (None, 7, 12)             1548      \n",
            "=================================================================\n",
            "Total params: 254,220\n",
            "Trainable params: 254,220\n",
            "Non-trainable params: 0\n",
            "_________________________________________________________________\n"
          ],
          "name": "stdout"
        }
      ]
    },
    {
      "cell_type": "code",
      "metadata": {
        "id": "bMHA3Yi1nrAb",
        "colab_type": "code",
        "colab": {
          "base_uri": "https://localhost:8080/",
          "height": 1000
        },
        "outputId": "5d5f45ab-3471-4769-cf74-837cb3308f62"
      },
      "source": [
        "start = datetime.datetime.now()\n",
        "history_deep_gru = model.fit(\n",
        "    x_train,\n",
        "    y_train,\n",
        "    batch_size=BATCH_SIZE,\n",
        "    epochs=EPOCHS,\n",
        "    validation_data=(x_val, y_val),\n",
        "    callbacks=[PrintExamples()])\n",
        "end = datetime.datetime.now()"
      ],
      "execution_count": 34,
      "outputs": [
        {
          "output_type": "stream",
          "text": [
            "Epoch 1/10\n",
            "1401/1407 [============================>.] - ETA: 0s - loss: 0.9362 - accuracy: 0.6488 \n",
            "  Q 573+3   = 576     ☒  666    \n",
            "  Q 53+991  = 1044    ☒  1022   \n",
            "  Q 38+511  = 549     ☒  566    \n",
            "  Q 3+304   = 307     ☒  366    \n",
            "  Q 899+473 = 1372    ☒  1376   \n",
            "  Q 643+325 = 968     ☒  106    \n",
            "  Q 861+545 = 1406    ☒  1416   \n",
            "  Q 13+443  = 456     ☒  461    \n",
            "  Q 16+65   = 81      ☒  70     \n",
            "  Q 468+57  = 525     ☒  526    \n",
            "1407/1407 [==============================] - 12s 9ms/step - loss: 0.9356 - accuracy: 0.6490 - val_loss: 0.7512 - val_accuracy: 0.7135\n",
            "Epoch 2/10\n",
            "1405/1407 [============================>.] - ETA: 0s - loss: 0.7081 - accuracy: 0.7298 \n",
            "  Q 771+6   = 777     ☒  796    \n",
            "  Q 634+753 = 1387    ☒  1366   \n",
            "  Q 500+282 = 782     ☒  706    \n",
            "  Q 23+948  = 971     ☒  955    \n",
            "  Q 94+43   = 137     ☒  133    \n",
            "  Q 619+61  = 680     ☒  766    \n",
            "  Q 72+696  = 768     ☒  796    \n",
            "  Q 277+491 = 768     ☒  706    \n",
            "  Q 143+710 = 853     ☒  836    \n",
            "  Q 918+87  = 1005    ☒  1022   \n",
            "1407/1407 [==============================] - 11s 8ms/step - loss: 0.7082 - accuracy: 0.7298 - val_loss: 0.6847 - val_accuracy: 0.7355\n",
            "Epoch 3/10\n",
            "1405/1407 [============================>.] - ETA: 0s - loss: 0.6665 - accuracy: 0.7444 \n",
            "  Q 83+894  = 977     ☒  966    \n",
            "  Q 25+98   = 123     ☒  129    \n",
            "  Q 10+670  = 680     ☒  622    \n",
            "  Q 153+37  = 190     ☒  298    \n",
            "  Q 67+24   = 91      ☒  92     \n",
            "  Q 235+10  = 245     ☒  216    \n",
            "  Q 358+129 = 487     ☒  488    \n",
            "  Q 20+264  = 284     ☒  266    \n",
            "  Q 34+2    = 36      ☒  31     \n",
            "  Q 416+393 = 809     ☒  818    \n",
            "1407/1407 [==============================] - 11s 8ms/step - loss: 0.6665 - accuracy: 0.7444 - val_loss: 0.6451 - val_accuracy: 0.7519\n",
            "Epoch 4/10\n",
            "1401/1407 [============================>.] - ETA: 0s - loss: 0.6286 - accuracy: 0.7574 \n",
            "  Q 1+637   = 638     ☒  616    \n",
            "  Q 291+50  = 341     ☒  336    \n",
            "  Q 971+256 = 1227    ☒  1288   \n",
            "  Q 470+812 = 1282    ☒  1266   \n",
            "  Q 92+68   = 160     ☒  172    \n",
            "  Q 99+895  = 994     ☒  988    \n",
            "  Q 930+3   = 933     ☒  936    \n",
            "  Q 220+227 = 447     ☒  486    \n",
            "  Q 29+265  = 294     ☒  298    \n",
            "  Q 51+637  = 688     ☒  686    \n",
            "1407/1407 [==============================] - 11s 8ms/step - loss: 0.6285 - accuracy: 0.7574 - val_loss: 0.5972 - val_accuracy: 0.7672\n",
            "Epoch 5/10\n",
            "1407/1407 [==============================] - ETA: 0s - loss: 0.5445 - accuracy: 0.7897 \n",
            "  Q 561+364 = 925     ☒  939    \n",
            "  Q 781+743 = 1524    ☒  1522   \n",
            "  Q 445+985 = 1430    ☒  1422   \n",
            "  Q 44+347  = 391     ☑  391    \n",
            "  Q 408+0   = 408     ☒  427    \n",
            "  Q 12+398  = 410     ☒  411    \n",
            "  Q 43+505  = 548     ☒  554    \n",
            "  Q 757+34  = 791     ☒  797    \n",
            "  Q 336+660 = 996     ☒  1013   \n",
            "  Q 45+863  = 908     ☒  911    \n",
            "1407/1407 [==============================] - 11s 8ms/step - loss: 0.5445 - accuracy: 0.7897 - val_loss: 0.4944 - val_accuracy: 0.8099\n",
            "Epoch 6/10\n",
            "1406/1407 [============================>.] - ETA: 0s - loss: 0.4705 - accuracy: 0.8176 \n",
            "  Q 14+932  = 946     ☒  944    \n",
            "  Q 445+401 = 846     ☒  854    \n",
            "  Q 422+337 = 759     ☒  754    \n",
            "  Q 610+12  = 622     ☒  624    \n",
            "  Q 12+205  = 217     ☒  215    \n",
            "  Q 85+973  = 1058    ☒  1051   \n",
            "  Q 406+78  = 484     ☒  481    \n",
            "  Q 668+9   = 677     ☒  671    \n",
            "  Q 912+591 = 1503    ☒  1401   \n",
            "  Q 665+371 = 1036    ☒  1038   \n",
            "1407/1407 [==============================] - 11s 8ms/step - loss: 0.4705 - accuracy: 0.8176 - val_loss: 0.4363 - val_accuracy: 0.8295\n",
            "Epoch 7/10\n",
            "1404/1407 [============================>.] - ETA: 0s - loss: 0.4215 - accuracy: 0.8369 \n",
            "  Q 2+107   = 109     ☒  119    \n",
            "  Q 286+545 = 831     ☒  839    \n",
            "  Q 68+996  = 1064    ☒  1069   \n",
            "  Q 90+24   = 114     ☒  116    \n",
            "  Q 51+58   = 109     ☒  116    \n",
            "  Q 81+53   = 134     ☒  138    \n",
            "  Q 75+57   = 132     ☒  139    \n",
            "  Q 725+138 = 863     ☒  866    \n",
            "  Q 414+66  = 480     ☒  476    \n",
            "  Q 79+597  = 676     ☑  676    \n",
            "1407/1407 [==============================] - 11s 8ms/step - loss: 0.4215 - accuracy: 0.8369 - val_loss: 0.4069 - val_accuracy: 0.8439\n",
            "Epoch 8/10\n",
            "1406/1407 [============================>.] - ETA: 0s - loss: 0.3987 - accuracy: 0.8462 \n",
            "  Q 33+943  = 976     ☑  976    \n",
            "  Q 2+144   = 146     ☑  146    \n",
            "  Q 984+629 = 1613    ☒  1616   \n",
            "  Q 60+115  = 175     ☒  176    \n",
            "  Q 16+89   = 105     ☒  106    \n",
            "  Q 85+881  = 966     ☑  966    \n",
            "  Q 102+873 = 975     ☒  966    \n",
            "  Q 581+67  = 648     ☒  646    \n",
            "  Q 331+5   = 336     ☑  336    \n",
            "  Q 94+319  = 413     ☒  410    \n",
            "1407/1407 [==============================] - 11s 8ms/step - loss: 0.3987 - accuracy: 0.8462 - val_loss: 0.3913 - val_accuracy: 0.8499\n",
            "Epoch 9/10\n",
            "1405/1407 [============================>.] - ETA: 0s - loss: 0.3849 - accuracy: 0.8523 \n",
            "  Q 443+644 = 1087    ☒  1086   \n",
            "  Q 563+10  = 573     ☒  578    \n",
            "  Q 647+85  = 732     ☒  731    \n",
            "  Q 79+994  = 1073    ☒  1071   \n",
            "  Q 359+826 = 1185    ☒  1186   \n",
            "  Q 59+26   = 85      ☒  80     \n",
            "  Q 134+49  = 183     ☒  189    \n",
            "  Q 82+812  = 894     ☒  896    \n",
            "  Q 9+490   = 499     ☒  490    \n",
            "  Q 51+393  = 444     ☒  440    \n",
            "1407/1407 [==============================] - 11s 8ms/step - loss: 0.3849 - accuracy: 0.8523 - val_loss: 0.3904 - val_accuracy: 0.8506\n",
            "Epoch 10/10\n",
            "1406/1407 [============================>.] - ETA: 0s - loss: 0.3713 - accuracy: 0.8574 \n",
            "  Q 550+42  = 592     ☒  597    \n",
            "  Q 56+484  = 540     ☑  540    \n",
            "  Q 204+981 = 1185    ☒  1187   \n",
            "  Q 794+969 = 1763    ☒  1767   \n",
            "  Q 89+854  = 943     ☒  940    \n",
            "  Q 314+26  = 340     ☒  348    \n",
            "  Q 53+858  = 911     ☒  910    \n",
            "  Q 9+135   = 144     ☒  148    \n",
            "  Q 333+345 = 678     ☒  677    \n",
            "  Q 519+18  = 537     ☒  538    \n",
            "1407/1407 [==============================] - 11s 8ms/step - loss: 0.3713 - accuracy: 0.8574 - val_loss: 0.3655 - val_accuracy: 0.8600\n"
          ],
          "name": "stdout"
        }
      ]
    },
    {
      "cell_type": "code",
      "metadata": {
        "id": "tplbJqpln6jC",
        "colab_type": "code",
        "colab": {}
      },
      "source": [
        "time = (end - start).total_seconds() \n",
        "pred = model.predict(x_val)\n",
        "acc  = accuracy_score(\n",
        "        np.argmax(pred,  axis=2).reshape(-1),\n",
        "        np.argmax(y_val, axis=2).reshape(-1))\n",
        "results_df.loc['GRU DEEP'] = [acc, time, model.count_params()]"
      ],
      "execution_count": 35,
      "outputs": []
    },
    {
      "cell_type": "code",
      "metadata": {
        "id": "TDLpjKrpt9ND",
        "colab_type": "code",
        "colab": {
          "base_uri": "https://localhost:8080/",
          "height": 621
        },
        "outputId": "072cc428-a449-48df-df5a-967cbe5da7e9"
      },
      "source": [
        "plot_performance(history_deep_gru)"
      ],
      "execution_count": 36,
      "outputs": [
        {
          "output_type": "display_data",
          "data": {
            "image/png": "[encoded data removed]",
            "text/plain": [
              "<Figure size 864x720 with 2 Axes>"
            ]
          },
          "metadata": {
            "tags": [],
            "needs_background": "light"
          }
        }
      ]
    },
    {
      "cell_type": "markdown",
      "metadata": {
        "id": "eUk1ewG3neKJ",
        "colab_type": "text"
      },
      "source": [
        "## Bidirectional"
      ]
    },
    {
      "cell_type": "code",
      "metadata": {
        "id": "pyqC1rAAnfno",
        "colab_type": "code",
        "colab": {
          "base_uri": "https://localhost:8080/",
          "height": 289
        },
        "outputId": "afdd195b-9b87-42a2-d4e6-19bc883f3a0e"
      },
      "source": [
        "model = Sequential()\n",
        "# Encoder\n",
        "#  - Encode the input using a GRU\n",
        "#  - We allow the encoder to look forward and backwards\n",
        "#  - We do need to decide how to \"combine\"\n",
        "#    - Default is concat\n",
        "#    - Other options sum, mul, ave\n",
        "#  - The output of the GRU represents the \"thought vector\"\n",
        "#  - In this example the size is 128\n",
        "#  - We can have a purely variable output not specifying max length\n",
        "model.add(Bidirectional(GRU(128), input_shape=(MAXLEN, len(chars))))\n",
        "\n",
        "# Decoder\n",
        "#  - For input to the decoder, we repeat the output of the encoder at each time step\n",
        "#  - We decode by passing the context vector through the GRU layer\n",
        "#  - The GRU receives the \"thought vector\" and is aware of its own state\n",
        "model.add(RepeatVector(MAXLEN))\n",
        "model.add(GRU(128, return_sequences=True))\n",
        "\n",
        "# Output\n",
        "#  - We use a dense layer with softmax\n",
        "#  - Softmax indicates the item in the vocabulary we show in the output\n",
        "model.add(Dense(len(chars), activation=\"softmax\"))\n",
        "\n",
        "# Compilation\n",
        "#  - Our loss function is categorical_crossentropy\n",
        "#  - We use Adam optimizer (default learning rate)\n",
        "#  - Use accuracy as a metric for output\n",
        "model.compile(loss=\"categorical_crossentropy\", optimizer=\"adam\", metrics=[\"accuracy\"])\n",
        "model.summary()"
      ],
      "execution_count": 37,
      "outputs": [
        {
          "output_type": "stream",
          "text": [
            "Model: \"sequential_5\"\n",
            "_________________________________________________________________\n",
            "Layer (type)                 Output Shape              Param #   \n",
            "=================================================================\n",
            "bidirectional_1 (Bidirection (None, 256)               109056    \n",
            "_________________________________________________________________\n",
            "repeat_vector_5 (RepeatVecto (None, 7, 256)            0         \n",
            "_________________________________________________________________\n",
            "gru_6 (GRU)                  (None, 7, 128)            148224    \n",
            "_________________________________________________________________\n",
            "dense_5 (Dense)              (None, 7, 12)             1548      \n",
            "=================================================================\n",
            "Total params: 258,828\n",
            "Trainable params: 258,828\n",
            "Non-trainable params: 0\n",
            "_________________________________________________________________\n"
          ],
          "name": "stdout"
        }
      ]
    },
    {
      "cell_type": "code",
      "metadata": {
        "id": "dq_-84Wbnsfr",
        "colab_type": "code",
        "colab": {
          "base_uri": "https://localhost:8080/",
          "height": 1000
        },
        "outputId": "992276d2-08cb-453f-bffd-c898f2e83366"
      },
      "source": [
        "start = datetime.datetime.now()\n",
        "history_bidi_gru = model.fit(\n",
        "    x_train,\n",
        "    y_train,\n",
        "    batch_size=BATCH_SIZE,\n",
        "    epochs=EPOCHS,\n",
        "    validation_data=(x_val, y_val),\n",
        "    callbacks=[PrintExamples()])\n",
        "end = datetime.datetime.now()"
      ],
      "execution_count": 38,
      "outputs": [
        {
          "output_type": "stream",
          "text": [
            "Epoch 1/10\n",
            "1407/1407 [==============================] - ETA: 0s - loss: 0.8837 - accuracy: 0.6705 \n",
            "  Q 902+70  = 972     ☒  901    \n",
            "  Q 369+95  = 464     ☒  439    \n",
            "  Q 35+278  = 313     ☒  386    \n",
            "  Q 611+388 = 999     ☒  1011   \n",
            "  Q 78+751  = 829     ☒  839    \n",
            "  Q 318+864 = 1182    ☒  1199   \n",
            "  Q 302+62  = 364     ☒  389    \n",
            "  Q 118+3   = 121     ☒  125    \n",
            "  Q 612+240 = 852     ☒  708    \n",
            "  Q 43+35   = 78      ☒  71     \n",
            "1407/1407 [==============================] - 13s 10ms/step - loss: 0.8837 - accuracy: 0.6705 - val_loss: 0.6924 - val_accuracy: 0.7258\n",
            "Epoch 2/10\n",
            "1400/1407 [============================>.] - ETA: 0s - loss: 0.5976 - accuracy: 0.7659 \n",
            "  Q 880+66  = 946     ☒  944    \n",
            "  Q 47+59   = 106     ☒  104    \n",
            "  Q 219+9   = 228     ☒  224    \n",
            "  Q 868+47  = 915     ☒  914    \n",
            "  Q 182+10  = 192     ☒  199    \n",
            "  Q 980+3   = 983     ☒  980    \n",
            "  Q 292+3   = 295     ☒  299    \n",
            "  Q 344+549 = 893     ☒  884    \n",
            "  Q 55+989  = 1044    ☑  1044   \n",
            "  Q 82+989  = 1071    ☒  1074   \n",
            "1407/1407 [==============================] - 11s 8ms/step - loss: 0.5973 - accuracy: 0.7661 - val_loss: 0.5192 - val_accuracy: 0.7992\n",
            "Epoch 3/10\n",
            "1407/1407 [==============================] - ETA: 0s - loss: 0.4738 - accuracy: 0.8127 \n",
            "  Q 673+10  = 683     ☒  688    \n",
            "  Q 966+452 = 1418    ☒  1428   \n",
            "  Q 799+25  = 824     ☒  820    \n",
            "  Q 974+354 = 1328    ☒  1338   \n",
            "  Q 6+228   = 234     ☒  233    \n",
            "  Q 361+8   = 369     ☒  368    \n",
            "  Q 771+808 = 1579    ☒  1585  1\n",
            "  Q 608+0   = 608     ☒  603    \n",
            "  Q 749+292 = 1041    ☒  104    \n",
            "  Q 244+69  = 313     ☒  310    \n",
            "1407/1407 [==============================] - 12s 8ms/step - loss: 0.4738 - accuracy: 0.8127 - val_loss: 0.4480 - val_accuracy: 0.8258\n",
            "Epoch 4/10\n",
            "1406/1407 [============================>.] - ETA: 0s - loss: 0.4022 - accuracy: 0.8370 \n",
            "  Q 25+965  = 990     ☑  990    \n",
            "  Q 733+550 = 1283    ☑  1283   \n",
            "  Q 652+5   = 657     ☒  656    \n",
            "  Q 291+7   = 298     ☒  297    \n",
            "  Q 816+12  = 828     ☑  828    \n",
            "  Q 395+19  = 414     ☒  410    \n",
            "  Q 473+39  = 512     ☒  510    \n",
            "  Q 37+506  = 543     ☒  541    \n",
            "  Q 57+452  = 509     ☒  508    \n",
            "  Q 503+704 = 1207    ☒  1202   \n",
            "1407/1407 [==============================] - 12s 8ms/step - loss: 0.4022 - accuracy: 0.8370 - val_loss: 0.3521 - val_accuracy: 0.8472\n",
            "Epoch 5/10\n",
            "1404/1407 [============================>.] - ETA: 0s - loss: 0.2542 - accuracy: 0.8798 \n",
            "  Q 84+639  = 723     ☒  723   8\n",
            "  Q 569+594 = 1163    ☒  1165   \n",
            "  Q 457+0   = 457     ☑  457    \n",
            "  Q 895+1   = 896     ☒  897    \n",
            "  Q 170+69  = 239     ☑  239    \n",
            "  Q 352+69  = 421     ☑  421    \n",
            "  Q 15+514  = 529     ☒  539    \n",
            "  Q 12+874  = 886     ☒  886   8\n",
            "  Q 42+754  = 796     ☒  786   8\n",
            "  Q 109+20  = 129     ☑  129    \n",
            "1407/1407 [==============================] - 12s 8ms/step - loss: 0.2540 - accuracy: 0.8799 - val_loss: 0.1982 - val_accuracy: 0.8857\n",
            "Epoch 6/10\n",
            "1407/1407 [==============================] - ETA: 0s - loss: 0.1352 - accuracy: 0.8915 \n",
            "  Q 783+77  = 860     ☒  860  89\n",
            "  Q 25+973  = 998     ☒  998   9\n",
            "  Q 444+1   = 445     ☒  445   5\n",
            "  Q 149+0   = 149     ☑  149    \n",
            "  Q 519+766 = 1285    ☒  1284  1\n",
            "  Q 906+208 = 1114    ☒  1123   \n",
            "  Q 58+239  = 297     ☒  297   6\n",
            "  Q 54+836  = 890     ☒  880   9\n",
            "  Q 392+78  = 470     ☒  460   9\n",
            "  Q 159+932 = 1091    ☑  1091   \n",
            "1407/1407 [==============================] - 12s 8ms/step - loss: 0.1352 - accuracy: 0.8915 - val_loss: 0.1065 - val_accuracy: 0.8736\n",
            "Epoch 7/10\n",
            "1407/1407 [==============================] - ETA: 0s - loss: 0.0841 - accuracy: 0.8764 \n",
            "  Q 691+23  = 714     ☒  714   8\n",
            "  Q 8+216   = 224     ☑  224    \n",
            "  Q 974+58  = 1032    ☒  1032 99\n",
            "  Q 192+12  = 204     ☑  204    \n",
            "  Q 726+2   = 728     ☑  728    \n",
            "  Q 512+26  = 538     ☑  538    \n",
            "  Q 41+757  = 798     ☒  798   8\n",
            "  Q 98+437  = 535     ☒  535   1\n",
            "  Q 52+599  = 651     ☒  661  99\n",
            "  Q 0+949   = 949     ☒  949   9\n",
            "1407/1407 [==============================] - 12s 8ms/step - loss: 0.0841 - accuracy: 0.8764 - val_loss: 0.0818 - val_accuracy: 0.8618\n",
            "Epoch 8/10\n",
            "1405/1407 [============================>.] - ETA: 0s - loss: 0.0604 - accuracy: 0.8698 \n",
            "  Q 681+912 = 1593    ☒  1593 11\n",
            "  Q 466+847 = 1313    ☒  1323  1\n",
            "  Q 23+720  = 743     ☒  742    \n",
            "  Q 7+177   = 184     ☑  184    \n",
            "  Q 939+14  = 953     ☑  953    \n",
            "  Q 174+5   = 179     ☒  179   8\n",
            "  Q 566+3   = 569     ☒  569   8\n",
            "  Q 21+1    = 22      ☑  22     \n",
            "  Q 80+35   = 115     ☒  115   1\n",
            "  Q 34+71   = 105     ☒  105   1\n",
            "1407/1407 [==============================] - 12s 8ms/step - loss: 0.0604 - accuracy: 0.8698 - val_loss: 0.0670 - val_accuracy: 0.8616\n",
            "Epoch 9/10\n",
            "1403/1407 [============================>.] - ETA: 0s - loss: 0.0450 - accuracy: 0.8757 \n",
            "  Q 58+71   = 129     ☒  129  11\n",
            "  Q 791+827 = 1618    ☒  1618  1\n",
            "  Q 861+64  = 925     ☒  925   9\n",
            "  Q 197+21  = 218     ☑  218    \n",
            "  Q 803+169 = 972     ☑  972    \n",
            "  Q 18+732  = 750     ☑  750    \n",
            "  Q 988+28  = 1016    ☒  1016  9\n",
            "  Q 844+9   = 853     ☑  853    \n",
            "  Q 35+62   = 97      ☒  97   88\n",
            "  Q 985+37  = 1022    ☒  1022  9\n",
            "1407/1407 [==============================] - 12s 8ms/step - loss: 0.0450 - accuracy: 0.8757 - val_loss: 0.0472 - val_accuracy: 0.8788\n",
            "Epoch 10/10\n",
            "1405/1407 [============================>.] - ETA: 0s - loss: 0.0366 - accuracy: 0.8772 \n",
            "  Q 128+9   = 137     ☑  137    \n",
            "  Q 95+586  = 681     ☒  681   9\n",
            "  Q 829+29  = 858     ☒  858  85\n",
            "  Q 869+17  = 886     ☒  886  88\n",
            "  Q 97+89   = 186     ☑  186    \n",
            "  Q 94+125  = 219     ☒  219   9\n",
            "  Q 136+79  = 215     ☑  215    \n",
            "  Q 81+460  = 541     ☒  541   3\n",
            "  Q 19+963  = 982     ☒  982  99\n",
            "  Q 223+181 = 404     ☑  404    \n",
            "1407/1407 [==============================] - 11s 8ms/step - loss: 0.0366 - accuracy: 0.8771 - val_loss: 0.0538 - val_accuracy: 0.8586\n"
          ],
          "name": "stdout"
        }
      ]
    },
    {
      "cell_type": "code",
      "metadata": {
        "id": "Ow72vRR_n-Fl",
        "colab_type": "code",
        "colab": {
          "base_uri": "https://localhost:8080/",
          "height": 34
        },
        "outputId": "297d35b1-efb1-4e51-c409-dcb99fd9abac"
      },
      "source": [
        "time = (end - start).total_seconds() \n",
        "pred = model.predict(x_val)\n",
        "acc  = accuracy_score(\n",
        "        np.argmax(pred,  axis=2).reshape(-1),\n",
        "        np.argmax(y_val, axis=2).reshape(-1))\n",
        "results_df.loc['GRU BIDI'] = [acc, time, model.count_params()]\n",
        "print(f'Accuracy on test set {acc:.3f}')"
      ],
      "execution_count": 39,
      "outputs": [
        {
          "output_type": "stream",
          "text": [
            "Accuracy on test set 0.859\n"
          ],
          "name": "stdout"
        }
      ]
    },
    {
      "cell_type": "code",
      "metadata": {
        "id": "EcUcWCDIs-Xy",
        "colab_type": "code",
        "colab": {
          "base_uri": "https://localhost:8080/",
          "height": 621
        },
        "outputId": "6745691e-05a1-4fb3-ba5d-dd70dcfab068"
      },
      "source": [
        "plot_performance(history_bidi_gru)"
      ],
      "execution_count": 40,
      "outputs": [
        {
          "output_type": "display_data",
          "data": {
            "image/png": "[encoded data removed]",
            "text/plain": [
              "<Figure size 864x720 with 2 Axes>"
            ]
          },
          "metadata": {
            "tags": [],
            "needs_background": "light"
          }
        }
      ]
    },
    {
      "cell_type": "markdown",
      "metadata": {
        "id": "hdF5Noehoy9F",
        "colab_type": "text"
      },
      "source": [
        "# Comparison\n",
        "* Tradeoff GRU\n",
        "  * Less Memory (Fewer) Parameters\n",
        "  * Faster Training Time\n",
        "  * Lower Accuracy\n",
        "* Bidirectional was a big boost - definitely consider using it\n",
        "* Deeper networks require longer training time"
      ]
    },
    {
      "cell_type": "code",
      "metadata": {
        "id": "oyJesXDhoz-I",
        "colab_type": "code",
        "colab": {
          "base_uri": "https://localhost:8080/",
          "height": 235
        },
        "outputId": "4ac98fd6-b08c-4899-e982-b5d7441d49d4"
      },
      "source": [
        "results_df"
      ],
      "execution_count": 41,
      "outputs": [
        {
          "output_type": "execute_result",
          "data": {
            "text/html": [
              "<div>\n",
              "<style scoped>\n",
              "    .dataframe tbody tr th:only-of-type {\n",
              "        vertical-align: middle;\n",
              "    }\n",
              "\n",
              "    .dataframe tbody tr th {\n",
              "        vertical-align: top;\n",
              "    }\n",
              "\n",
              "    .dataframe thead th {\n",
              "        text-align: right;\n",
              "    }\n",
              "</style>\n",
              "<table border=\"1\" class=\"dataframe\">\n",
              "  <thead>\n",
              "    <tr style=\"text-align: right;\">\n",
              "      <th></th>\n",
              "      <th>Accuracy</th>\n",
              "      <th>Time</th>\n",
              "      <th>Parameters</th>\n",
              "    </tr>\n",
              "  </thead>\n",
              "  <tbody>\n",
              "    <tr>\n",
              "      <th>LSTM</th>\n",
              "      <td>0.958914</td>\n",
              "      <td>100.166202</td>\n",
              "      <td>205324.0</td>\n",
              "    </tr>\n",
              "    <tr>\n",
              "      <th>LSTM DEEP</th>\n",
              "      <td>0.952629</td>\n",
              "      <td>122.978050</td>\n",
              "      <td>336908.0</td>\n",
              "    </tr>\n",
              "    <tr>\n",
              "      <th>LSTM BIDI</th>\n",
              "      <td>0.985400</td>\n",
              "      <td>131.010381</td>\n",
              "      <td>343052.0</td>\n",
              "    </tr>\n",
              "    <tr>\n",
              "      <th>GRU</th>\n",
              "      <td>0.893857</td>\n",
              "      <td>94.816122</td>\n",
              "      <td>155148.0</td>\n",
              "    </tr>\n",
              "    <tr>\n",
              "      <th>GRU DEEP</th>\n",
              "      <td>0.859971</td>\n",
              "      <td>113.809759</td>\n",
              "      <td>254220.0</td>\n",
              "    </tr>\n",
              "    <tr>\n",
              "      <th>GRU BIDI</th>\n",
              "      <td>0.858600</td>\n",
              "      <td>121.159214</td>\n",
              "      <td>258828.0</td>\n",
              "    </tr>\n",
              "  </tbody>\n",
              "</table>\n",
              "</div>"
            ],
            "text/plain": [
              "           Accuracy        Time  Parameters\n",
              "LSTM       0.958914  100.166202    205324.0\n",
              "LSTM DEEP  0.952629  122.978050    336908.0\n",
              "LSTM BIDI  0.985400  131.010381    343052.0\n",
              "GRU        0.893857   94.816122    155148.0\n",
              "GRU DEEP   0.859971  113.809759    254220.0\n",
              "GRU BIDI   0.858600  121.159214    258828.0"
            ]
          },
          "metadata": {
            "tags": []
          },
          "execution_count": 41
        }
      ]
    },
    {
      "cell_type": "markdown",
      "metadata": {
        "id": "XsPppAeho0y3",
        "colab_type": "text"
      },
      "source": [
        "# Recap\n",
        "* Introduction to seq2seq using simple example (adapted from keras.io)\n",
        "* Comparison of GRU and LSTM (visualizing tradeoff)\n",
        "* Bidirectional layers and hyper-parameters\n",
        "* Use of the RepeatVector layer"
      ]
    },
    {
      "cell_type": "code",
      "metadata": {
        "id": "FTjp6WXk_GtS",
        "colab_type": "code",
        "colab": {}
      },
      "source": [
        ""
      ],
      "execution_count": 41,
      "outputs": []
    }
  ]
}