{
  "nbformat": 4,
  "nbformat_minor": 0,
  "metadata": {
    "colab": {
      "name": "BERT.ipynb",
      "provenance": [],
      "collapsed_sections": [],
      "toc_visible": true,
      "authorship_tag": "ABX9TyNhWFMESekqpPeE/s1CtxL0",
      "include_colab_link": true
    },
    "kernelspec": {
      "name": "python3",
      "display_name": "Python 3"
    },
    "language_info": {
      "name": "python"
    }
  },
  "cells": [
    {
      "cell_type": "markdown",
      "metadata": {
        "id": "view-in-github",
        "colab_type": "text"
      },
      "source": [
        "<a href=\"https://colab.research.google.com/github/swilsonmfc/nlp/blob/master/BERT.ipynb\" target=\"_parent\"><img src=\"https://colab.research.google.com/assets/colab-badge.svg\" alt=\"Open In Colab\"/></a>"
      ]
    },
    {
      "cell_type": "markdown",
      "source": [
        "# BERT\n",
        "\n",
        "![](https://bloximages.newyork1.vip.townnews.com/dailynebraskan.com/content/tncms/assets/v3/editorial/e/19/e1994033-0f70-53ae-b737-27320f2433f0/51afb027be539.image.jpg)"
      ],
      "metadata": {
        "id": "QE416xMOGTpm"
      }
    },
    {
      "cell_type": "markdown",
      "source": [
        "# Install"
      ],
      "metadata": {
        "id": "ZNNyfmnvGX1A"
      }
    },
    {
      "cell_type": "code",
      "source": [
        "!pip install transformers"
      ],
      "metadata": {
        "colab": {
          "base_uri": "https://localhost:8080/"
        },
        "id": "bqUo_dzllEuK",
        "outputId": "7707b0c5-8535-4f79-da75-24e6f8d39431"
      },
      "execution_count": 1,
      "outputs": [
        {
          "output_type": "stream",
          "name": "stdout",
          "text": [
            "Requirement already satisfied: transformers in /usr/local/lib/python3.7/dist-packages (4.15.0)\n",
            "Requirement already satisfied: tqdm>=4.27 in /usr/local/lib/python3.7/dist-packages (from transformers) (4.62.3)\n",
            "Requirement already satisfied: huggingface-hub<1.0,>=0.1.0 in /usr/local/lib/python3.7/dist-packages (from transformers) (0.4.0)\n",
            "Requirement already satisfied: regex!=2019.12.17 in /usr/local/lib/python3.7/dist-packages (from transformers) (2019.12.20)\n",
            "Requirement already satisfied: tokenizers<0.11,>=0.10.1 in /usr/local/lib/python3.7/dist-packages (from transformers) (0.10.3)\n",
            "Requirement already satisfied: packaging>=20.0 in /usr/local/lib/python3.7/dist-packages (from transformers) (21.3)\n",
            "Requirement already satisfied: requests in /usr/local/lib/python3.7/dist-packages (from transformers) (2.23.0)\n",
            "Requirement already satisfied: numpy>=1.17 in /usr/local/lib/python3.7/dist-packages (from transformers) (1.19.5)\n",
            "Requirement already satisfied: sacremoses in /usr/local/lib/python3.7/dist-packages (from transformers) (0.0.47)\n",
            "Requirement already satisfied: filelock in /usr/local/lib/python3.7/dist-packages (from transformers) (3.4.2)\n",
            "Requirement already satisfied: pyyaml>=5.1 in /usr/local/lib/python3.7/dist-packages (from transformers) (6.0)\n",
            "Requirement already satisfied: importlib-metadata in /usr/local/lib/python3.7/dist-packages (from transformers) (4.10.0)\n",
            "Requirement already satisfied: typing-extensions>=3.7.4.3 in /usr/local/lib/python3.7/dist-packages (from huggingface-hub<1.0,>=0.1.0->transformers) (3.10.0.2)\n",
            "Requirement already satisfied: pyparsing!=3.0.5,>=2.0.2 in /usr/local/lib/python3.7/dist-packages (from packaging>=20.0->transformers) (3.0.6)\n",
            "Requirement already satisfied: zipp>=0.5 in /usr/local/lib/python3.7/dist-packages (from importlib-metadata->transformers) (3.7.0)\n",
            "Requirement already satisfied: certifi>=2017.4.17 in /usr/local/lib/python3.7/dist-packages (from requests->transformers) (2021.10.8)\n",
            "Requirement already satisfied: urllib3!=1.25.0,!=1.25.1,<1.26,>=1.21.1 in /usr/local/lib/python3.7/dist-packages (from requests->transformers) (1.24.3)\n",
            "Requirement already satisfied: idna<3,>=2.5 in /usr/local/lib/python3.7/dist-packages (from requests->transformers) (2.10)\n",
            "Requirement already satisfied: chardet<4,>=3.0.2 in /usr/local/lib/python3.7/dist-packages (from requests->transformers) (3.0.4)\n",
            "Requirement already satisfied: six in /usr/local/lib/python3.7/dist-packages (from sacremoses->transformers) (1.15.0)\n",
            "Requirement already satisfied: joblib in /usr/local/lib/python3.7/dist-packages (from sacremoses->transformers) (1.1.0)\n",
            "Requirement already satisfied: click in /usr/local/lib/python3.7/dist-packages (from sacremoses->transformers) (7.1.2)\n"
          ]
        }
      ]
    },
    {
      "cell_type": "markdown",
      "source": [
        "# Setup"
      ],
      "metadata": {
        "id": "irwiEAfHGZSs"
      }
    },
    {
      "cell_type": "code",
      "source": [
        "import numpy as np\n",
        "import pandas as pd\n",
        "import matplotlib.pyplot as plt\n",
        "import seaborn as sns\n",
        "\n",
        "from sklearn.model_selection import train_test_split\n",
        "from sklearn.linear_model import LogisticRegression\n",
        "from sklearn.model_selection import GridSearchCV\n",
        "from sklearn.model_selection import cross_val_score\n",
        "\n",
        "import torch\n",
        "import transformers as pb #pretrained bert"
      ],
      "metadata": {
        "id": "0lCrp8YmlLI6"
      },
      "execution_count": 2,
      "outputs": []
    },
    {
      "cell_type": "code",
      "source": [
        "import warnings\n",
        "warnings.filterwarnings('ignore')"
      ],
      "metadata": {
        "id": "9jpYBi35llvi"
      },
      "execution_count": 3,
      "outputs": []
    },
    {
      "cell_type": "markdown",
      "source": [
        "# BERT"
      ],
      "metadata": {
        "id": "oiFnGw4BGZpw"
      }
    },
    {
      "cell_type": "markdown",
      "source": [
        "## HuggingFace"
      ],
      "metadata": {
        "id": "Jgsvyt_tGZxp"
      }
    },
    {
      "cell_type": "code",
      "source": [
        "# Load models\n",
        "model_class, tokenizer_class, pretrained_weights = (pb.BertModel, pb.BertTokenizer, 'bert-base-uncased')\n",
        "\n",
        "# Load pretrained model/tokenizer weights\n",
        "tokenizer = tokenizer_class.from_pretrained(pretrained_weights)\n",
        "model     = model_class.from_pretrained(pretrained_weights)"
      ],
      "metadata": {
        "colab": {
          "base_uri": "https://localhost:8080/"
        },
        "id": "scgPaBAhlMO_",
        "outputId": "dc833871-0011-4f3a-fb94-e448ae27c50c"
      },
      "execution_count": 4,
      "outputs": [
        {
          "output_type": "stream",
          "name": "stderr",
          "text": [
            "Some weights of the model checkpoint at bert-base-uncased were not used when initializing BertModel: ['cls.predictions.bias', 'cls.seq_relationship.weight', 'cls.predictions.transform.LayerNorm.bias', 'cls.seq_relationship.bias', 'cls.predictions.transform.dense.bias', 'cls.predictions.transform.LayerNorm.weight', 'cls.predictions.transform.dense.weight', 'cls.predictions.decoder.weight']\n",
            "- This IS expected if you are initializing BertModel from the checkpoint of a model trained on another task or with another architecture (e.g. initializing a BertForSequenceClassification model from a BertForPreTraining model).\n",
            "- This IS NOT expected if you are initializing BertModel from the checkpoint of a model that you expect to be exactly identical (initializing a BertForSequenceClassification model from a BertForSequenceClassification model).\n"
          ]
        }
      ]
    },
    {
      "cell_type": "markdown",
      "source": [
        "## Config\n",
        "* HuggingFace config yields details about the configuration of the transformer\n",
        "  * Model Type\n",
        "  * Hidden size \n",
        "  * Intermediate size\n",
        "  * Attention heads\n",
        "  * Number of layers\n",
        "  * Vocabulary \n",
        "  * Max tokens \n",
        "  * Positional encoding"
      ],
      "metadata": {
        "id": "h-FAeavRBZG9"
      }
    },
    {
      "cell_type": "code",
      "source": [
        "model.config"
      ],
      "metadata": {
        "colab": {
          "base_uri": "https://localhost:8080/"
        },
        "id": "w6vgFpGg7-lZ",
        "outputId": "71d29e65-63ff-43aa-a320-be3986ec1cf6"
      },
      "execution_count": 5,
      "outputs": [
        {
          "output_type": "execute_result",
          "data": {
            "text/plain": [
              "BertConfig {\n",
              "  \"_name_or_path\": \"bert-base-uncased\",\n",
              "  \"architectures\": [\n",
              "    \"BertForMaskedLM\"\n",
              "  ],\n",
              "  \"attention_probs_dropout_prob\": 0.1,\n",
              "  \"classifier_dropout\": null,\n",
              "  \"gradient_checkpointing\": false,\n",
              "  \"hidden_act\": \"gelu\",\n",
              "  \"hidden_dropout_prob\": 0.1,\n",
              "  \"hidden_size\": 768,\n",
              "  \"initializer_range\": 0.02,\n",
              "  \"intermediate_size\": 3072,\n",
              "  \"layer_norm_eps\": 1e-12,\n",
              "  \"max_position_embeddings\": 512,\n",
              "  \"model_type\": \"bert\",\n",
              "  \"num_attention_heads\": 12,\n",
              "  \"num_hidden_layers\": 12,\n",
              "  \"pad_token_id\": 0,\n",
              "  \"position_embedding_type\": \"absolute\",\n",
              "  \"transformers_version\": \"4.15.0\",\n",
              "  \"type_vocab_size\": 2,\n",
              "  \"use_cache\": true,\n",
              "  \"vocab_size\": 30522\n",
              "}"
            ]
          },
          "metadata": {},
          "execution_count": 5
        }
      ]
    },
    {
      "cell_type": "markdown",
      "source": [
        "## Encoder Architecture\n",
        "![](https://www.researchgate.net/publication/349546860/figure/fig2/AS:994573320994818@1614136166736/The-Transformer-based-BERT-base-architecture-with-twelve-encoder-blocks.ppm)"
      ],
      "metadata": {
        "id": "Flqp9wnOEwRy"
      }
    },
    {
      "cell_type": "markdown",
      "source": [
        "## Self Attention"
      ],
      "metadata": {
        "id": "LIuiryTP4-2b"
      }
    },
    {
      "cell_type": "markdown",
      "source": [
        "## Intermediate Layers\n",
        "* Sridhar (2020) - Undivided Attention: Are Intermediate Layers Necessary for BERT?  (https://arxiv.org/pdf/2012.11881.pdf)\n",
        "* Paper doesn't find strong support for intermediate layers\n",
        "* 1-2% Increase in loss / reduction in accuracy on common NLP tasks\n",
        "* Removal of all intermediate layers reduces parameter size by 50% and increases throughput by 2.5X"
      ],
      "metadata": {
        "id": "a7ZaxBe9-pXQ"
      }
    },
    {
      "cell_type": "markdown",
      "source": [
        "## Masked Language Model\n",
        "* Language model is a probability distribution over words or sequences (NGrams)\n",
        "* MLM is a pre-training task where we hide a word and ask the model to predict the correct token\n",
        "* MLM forces the model to learn the contextuality of a word\n",
        "* MLM performs better than static word embeddings (i.e. polysemy) \n",
        "* Randomly select 15% of tokens for masking\n",
        "  * 80% replaced with a [MASK]\n",
        "  * 10% replace with a random word\n",
        "  * 10% use the original word"
      ],
      "metadata": {
        "id": "IIf-6B94EiGZ"
      }
    },
    {
      "cell_type": "markdown",
      "source": [
        "## Next Sentence Prediction\n",
        "* Uses this pattern [CLS] Sentence 1 [SEP] Sentence 2 [SEP]\n",
        "* The model must then decide if Sentence 2 follows Sentence 1\n",
        "* 50% of time, use next sentence, 50% use random sentence\n",
        "* The goal is to force the model to reasoning and semantic understanding\n"
      ],
      "metadata": {
        "id": "hcqpQEarEiI0"
      }
    },
    {
      "cell_type": "markdown",
      "source": [
        "## Tokenizer\n",
        "* Tokenizer transforms sentences into an array of tokens\n",
        "* BERT uses the WordPiece algorithm to break OOV into subwords\n",
        "* BERT adds:\n",
        "  * Token Types (Sentence 1 or Sentence 2)\n",
        "  * Attention masking (Token or Padding)\n",
        "  * Positional Encoding (in this model Absolute)\n",
        "* Tokenizer decodes tokens back into text"
      ],
      "metadata": {
        "id": "hsrkEHOkBZEQ"
      }
    },
    {
      "cell_type": "code",
      "source": [
        "# Break into words (i.e.WordPiece)\n",
        "text1 = 'The quick brown fox jumped over the lazy dog'\n",
        "tokenizer.tokenize(text1)"
      ],
      "metadata": {
        "colab": {
          "base_uri": "https://localhost:8080/"
        },
        "id": "cRHqVwvAvY8m",
        "outputId": "2c41f4cd-12c9-4f6f-d9b3-6749484ad69b"
      },
      "execution_count": 6,
      "outputs": [
        {
          "output_type": "execute_result",
          "data": {
            "text/plain": [
              "['the', 'quick', 'brown', 'fox', 'jumped', 'over', 'the', 'lazy', 'dog']"
            ]
          },
          "metadata": {},
          "execution_count": 6
        }
      ]
    },
    {
      "cell_type": "code",
      "source": [
        "# WordPiece will break OOV word fragments that exist in the vocabulary\n",
        "text2 = 'The quick brown fox jumped over the lazy martingale'\n",
        "tokenizer.tokenize(text2)"
      ],
      "metadata": {
        "colab": {
          "base_uri": "https://localhost:8080/"
        },
        "id": "x0cvsOCIv_Ru",
        "outputId": "9871f487-49d5-4309-d8e2-873f3bb61527"
      },
      "execution_count": 7,
      "outputs": [
        {
          "output_type": "execute_result",
          "data": {
            "text/plain": [
              "['the',\n",
              " 'quick',\n",
              " 'brown',\n",
              " 'fox',\n",
              " 'jumped',\n",
              " 'over',\n",
              " 'the',\n",
              " 'lazy',\n",
              " 'martin',\n",
              " '##gal',\n",
              " '##e']"
            ]
          },
          "metadata": {},
          "execution_count": 7
        }
      ]
    },
    {
      "cell_type": "code",
      "source": [
        "# Encoding will add extra tokens\n",
        "# For BERT we start the text with [CLS] and send with [SEP]\n",
        "tokens = tokenizer.encode(text1, add_special_tokens=True)\n",
        "tokens"
      ],
      "metadata": {
        "colab": {
          "base_uri": "https://localhost:8080/"
        },
        "id": "dEz_fd1Dvqa_",
        "outputId": "61295199-f1bf-4ef7-fefe-d386576d3f6a"
      },
      "execution_count": 8,
      "outputs": [
        {
          "output_type": "execute_result",
          "data": {
            "text/plain": [
              "[101, 1996, 4248, 2829, 4419, 5598, 2058, 1996, 13971, 3899, 102]"
            ]
          },
          "metadata": {},
          "execution_count": 8
        }
      ]
    },
    {
      "cell_type": "code",
      "source": [
        "# Decoding will convert tokens back to text\n",
        "tokenizer.decode(tokens)"
      ],
      "metadata": {
        "colab": {
          "base_uri": "https://localhost:8080/",
          "height": 35
        },
        "id": "FpCLJF88wdnb",
        "outputId": "b886138d-edf3-47ec-ba41-94150fa68c8c"
      },
      "execution_count": 9,
      "outputs": [
        {
          "output_type": "execute_result",
          "data": {
            "application/vnd.google.colaboratory.intrinsic+json": {
              "type": "string"
            },
            "text/plain": [
              "'[CLS] the quick brown fox jumped over the lazy dog [SEP]'"
            ]
          },
          "metadata": {},
          "execution_count": 9
        }
      ]
    },
    {
      "cell_type": "markdown",
      "source": [
        "## Padding and Masking\n",
        "* Padding is an important concept\n",
        "* Within a batch, we need to align the lengths of the sequences\n",
        "* Padding handles the alignment\n",
        "* BERT has a 512 token max length that it can process\n",
        "* Note:  If you're training a LM or Fine Tuning one, match sequence lengths to speed up training\n"
      ],
      "metadata": {
        "id": "AGJu_0NjxGfp"
      }
    },
    {
      "cell_type": "code",
      "source": [
        "# Combine sentences into a batch\n",
        "sentences = [text1, text2]"
      ],
      "metadata": {
        "id": "f2EBpTgVyYs9"
      },
      "execution_count": 10,
      "outputs": []
    },
    {
      "cell_type": "code",
      "source": [
        "# With a batch all of our lists need to be the same size (2 dimensional array)\n",
        "encoded = tokenizer(sentences)\n",
        "print('Token Ids     ', encoded['input_ids'])\n",
        "print('Token Type Ids', encoded['token_type_ids'])\n",
        "print('Attention Mask', encoded['attention_mask'])"
      ],
      "metadata": {
        "colab": {
          "base_uri": "https://localhost:8080/"
        },
        "id": "QHeT8aQ_xc6A",
        "outputId": "e0f197a9-505c-4256-c233-89a862db3d7c"
      },
      "execution_count": 11,
      "outputs": [
        {
          "output_type": "stream",
          "name": "stdout",
          "text": [
            "Token Ids      [[101, 1996, 4248, 2829, 4419, 5598, 2058, 1996, 13971, 3899, 102], [101, 1996, 4248, 2829, 4419, 5598, 2058, 1996, 13971, 3235, 9692, 2063, 102]]\n",
            "Token Type Ids [[0, 0, 0, 0, 0, 0, 0, 0, 0, 0, 0], [0, 0, 0, 0, 0, 0, 0, 0, 0, 0, 0, 0, 0]]\n",
            "Attention Mask [[1, 1, 1, 1, 1, 1, 1, 1, 1, 1, 1], [1, 1, 1, 1, 1, 1, 1, 1, 1, 1, 1, 1, 1]]\n"
          ]
        }
      ]
    },
    {
      "cell_type": "code",
      "source": [
        "# Token_Type_Ids tells BERT where the first / second sentence exists\n",
        "# This is related to its next sentence prediction task\n",
        "# Add padding and compare\n",
        "nsp = [[text1, text2]]\n",
        "encoded_nsp = tokenizer(nsp)\n",
        "print('Token Ids.    ', encoded_nsp['input_ids'])\n",
        "print('Token Type Ids', encoded_nsp['token_type_ids'])\n",
        "print('Decoded       ', tokenizer.decode(encoded_nsp['input_ids'][0]))"
      ],
      "metadata": {
        "colab": {
          "base_uri": "https://localhost:8080/"
        },
        "id": "L7jbjJL5ykY-",
        "outputId": "45382bfe-de72-42d2-ab2d-93600148a86a"
      },
      "execution_count": 12,
      "outputs": [
        {
          "output_type": "stream",
          "name": "stdout",
          "text": [
            "Token Ids.     [[101, 1996, 4248, 2829, 4419, 5598, 2058, 1996, 13971, 3899, 102, 1996, 4248, 2829, 4419, 5598, 2058, 1996, 13971, 3235, 9692, 2063, 102]]\n",
            "Token Type Ids [[0, 0, 0, 0, 0, 0, 0, 0, 0, 0, 0, 1, 1, 1, 1, 1, 1, 1, 1, 1, 1, 1, 1]]\n",
            "Decoded        [CLS] the quick brown fox jumped over the lazy dog [SEP] the quick brown fox jumped over the lazy martingale [SEP]\n"
          ]
        }
      ]
    },
    {
      "cell_type": "code",
      "source": [
        "# Attention Mask tells BERT where we've done padding (ignore)\n",
        "# Padding = True (or longest) -> Pad the input to the max length\n",
        "# Truncation will drop tokens past max length\n",
        "# Padded tokens need to be masked for BERT (Attention Mask)\n",
        "pad = [text1, text2]\n",
        "padded = tokenizer(pad, padding=True, max_length=10, truncation=True)\n",
        "print('Token Ids     ', padded['input_ids'])\n",
        "print('Token Type Ids', padded['token_type_ids'])\n",
        "print('Attention Mask', padded['attention_mask'])"
      ],
      "metadata": {
        "colab": {
          "base_uri": "https://localhost:8080/"
        },
        "id": "vVrxgkaFxVKA",
        "outputId": "b1b7f32c-ffd9-4280-f590-e59616c264cb"
      },
      "execution_count": 13,
      "outputs": [
        {
          "output_type": "stream",
          "name": "stdout",
          "text": [
            "Token Ids      [[101, 1996, 4248, 2829, 4419, 5598, 2058, 1996, 13971, 102], [101, 1996, 4248, 2829, 4419, 5598, 2058, 1996, 13971, 102]]\n",
            "Token Type Ids [[0, 0, 0, 0, 0, 0, 0, 0, 0, 0], [0, 0, 0, 0, 0, 0, 0, 0, 0, 0]]\n",
            "Attention Mask [[1, 1, 1, 1, 1, 1, 1, 1, 1, 1], [1, 1, 1, 1, 1, 1, 1, 1, 1, 1]]\n"
          ]
        }
      ]
    },
    {
      "cell_type": "markdown",
      "source": [
        "## Tensors\n",
        "* BERT is a deep learning model\n",
        "* Has robust support for both TensorFlow and PyTorch"
      ],
      "metadata": {
        "id": "711Ciddx2znj"
      }
    },
    {
      "cell_type": "code",
      "source": [
        "## Huggingface supports TensorFlow and PyTorch\n",
        "returned = [text1, text2]\n",
        "tf = tokenizer(returned, return_tensors='tf', padding=True)\n",
        "print('Token Ids     ', tf['input_ids'])\n",
        "print('Token Type Ids', tf['token_type_ids'])\n",
        "print('Attention Mask', tf['attention_mask'])"
      ],
      "metadata": {
        "colab": {
          "base_uri": "https://localhost:8080/"
        },
        "id": "_Z8_dkgT11ju",
        "outputId": "d442fd92-38d3-4512-e9ca-36b90f1a902e"
      },
      "execution_count": 14,
      "outputs": [
        {
          "output_type": "stream",
          "name": "stdout",
          "text": [
            "Token Ids      tf.Tensor(\n",
            "[[  101  1996  4248  2829  4419  5598  2058  1996 13971  3899   102     0\n",
            "      0]\n",
            " [  101  1996  4248  2829  4419  5598  2058  1996 13971  3235  9692  2063\n",
            "    102]], shape=(2, 13), dtype=int32)\n",
            "Token Type Ids tf.Tensor(\n",
            "[[0 0 0 0 0 0 0 0 0 0 0 0 0]\n",
            " [0 0 0 0 0 0 0 0 0 0 0 0 0]], shape=(2, 13), dtype=int32)\n",
            "Attention Mask tf.Tensor(\n",
            "[[1 1 1 1 1 1 1 1 1 1 1 0 0]\n",
            " [1 1 1 1 1 1 1 1 1 1 1 1 1]], shape=(2, 13), dtype=int32)\n"
          ]
        }
      ]
    },
    {
      "cell_type": "code",
      "source": [
        "## Huggingface also supports PyTorch\n",
        "returned = [text1, text2]\n",
        "pt = tokenizer(returned, return_tensors='pt', padding=True)\n",
        "print('Token Ids     ', pt['input_ids'])\n",
        "print('Token Type Ids', pt['token_type_ids'])\n",
        "print('Attention Mask', pt['attention_mask'])"
      ],
      "metadata": {
        "colab": {
          "base_uri": "https://localhost:8080/"
        },
        "id": "blWm-I5U2dNT",
        "outputId": "46bcccf5-e66a-470f-a80e-92dd43fec140"
      },
      "execution_count": 15,
      "outputs": [
        {
          "output_type": "stream",
          "name": "stdout",
          "text": [
            "Token Ids      tensor([[  101,  1996,  4248,  2829,  4419,  5598,  2058,  1996, 13971,  3899,\n",
            "           102,     0,     0],\n",
            "        [  101,  1996,  4248,  2829,  4419,  5598,  2058,  1996, 13971,  3235,\n",
            "          9692,  2063,   102]])\n",
            "Token Type Ids tensor([[0, 0, 0, 0, 0, 0, 0, 0, 0, 0, 0, 0, 0],\n",
            "        [0, 0, 0, 0, 0, 0, 0, 0, 0, 0, 0, 0, 0]])\n",
            "Attention Mask tensor([[1, 1, 1, 1, 1, 1, 1, 1, 1, 1, 1, 0, 0],\n",
            "        [1, 1, 1, 1, 1, 1, 1, 1, 1, 1, 1, 1, 1]])\n"
          ]
        }
      ]
    },
    {
      "cell_type": "markdown",
      "source": [
        "## Contextualize\n",
        "* Contextualizing means generating the word vectors based on the words in the sentence\n",
        "* The architecture of BERT generates a vector for the [CLS] token\n",
        "* The [CLS] token's vector is a summary over the sentence"
      ],
      "metadata": {
        "id": "81dqxYzY3Ga9"
      }
    },
    {
      "cell_type": "code",
      "source": [
        "# Contexualize text through BERT\n",
        "sentence  = [text1]\n",
        "tokenized = tokenizer(sentence, return_tensors='pt', padding=True)\n",
        "contextualized = model(tokenized['input_ids'], attention_mask=tokenized['attention_mask'])\n",
        "\n",
        "print('Tokens Size ', tokenized['input_ids'].shape)\n",
        "print('Hidden Size ', contextualized['last_hidden_state'].shape)\n",
        "print('Pooler Size ', contextualized['pooler_output'].shape)"
      ],
      "metadata": {
        "colab": {
          "base_uri": "https://localhost:8080/"
        },
        "id": "0sDpEMd54WEi",
        "outputId": "89d59cc9-6942-4a42-e111-df0dcf968021"
      },
      "execution_count": 16,
      "outputs": [
        {
          "output_type": "stream",
          "name": "stdout",
          "text": [
            "Tokens Size  torch.Size([1, 11])\n",
            "Hidden Size  torch.Size([1, 11, 768])\n",
            "Pooler Size  torch.Size([1, 768])\n"
          ]
        }
      ]
    },
    {
      "cell_type": "code",
      "source": [
        "# Hidden states are of size (hidden) and one is generated for each token\n",
        "contextualized['last_hidden_state']"
      ],
      "metadata": {
        "colab": {
          "base_uri": "https://localhost:8080/"
        },
        "id": "7dgGaHA37vvK",
        "outputId": "6dadcc18-723f-4b35-a114-f24f488104d2"
      },
      "execution_count": 17,
      "outputs": [
        {
          "output_type": "execute_result",
          "data": {
            "text/plain": [
              "tensor([[[-0.2228,  0.0073,  0.0482,  ..., -0.1574,  0.3288,  0.2621],\n",
              "         [-0.1737, -0.4096, -0.4983,  ..., -0.1880,  1.2044, -0.2952],\n",
              "         [-0.2977, -0.3981,  0.3797,  ..., -0.2138,  0.6636, -0.1649],\n",
              "         ...,\n",
              "         [-0.1303, -0.1154,  0.6148,  ...,  0.1015,  0.5442, -0.3730],\n",
              "         [-0.1986, -0.2065, -0.4074,  ...,  0.3007,  0.4622,  0.2973],\n",
              "         [ 0.6165, -0.0107, -0.5845,  ..., -0.0135, -0.4108, -0.2058]]],\n",
              "       grad_fn=<NativeLayerNormBackward0>)"
            ]
          },
          "metadata": {},
          "execution_count": 17
        }
      ]
    },
    {
      "cell_type": "code",
      "source": [
        "# Pooler Output is centered on the CLS token\n",
        "# This can be thought of as an \"embedding for the sentence\"\n",
        "contextualized['pooler_output']"
      ],
      "metadata": {
        "colab": {
          "base_uri": "https://localhost:8080/"
        },
        "id": "DdEerPAv7Yb3",
        "outputId": "bf4edfe3-fde3-445b-cefb-2f7754c74484"
      },
      "execution_count": 18,
      "outputs": [
        {
          "output_type": "execute_result",
          "data": {
            "text/plain": [
              "tensor([[-5.9401e-01, -1.0135e-01,  7.4267e-01,  2.0509e-01, -4.7075e-01,\n",
              "          5.0425e-02,  7.1633e-01,  1.0121e-01,  5.9343e-01, -9.9764e-01,\n",
              "          4.6877e-01, -4.8997e-01,  9.5637e-01, -5.3000e-01,  8.4247e-01,\n",
              "         -1.2446e-01,  2.8013e-01, -3.3503e-01,  1.2903e-01, -4.6546e-01,\n",
              "          3.8562e-01,  3.3221e-02,  7.0234e-01,  7.4542e-02,  2.0121e-01,\n",
              "         -6.1849e-01, -2.0614e-01,  8.3249e-01,  8.9590e-01,  5.4019e-01,\n",
              "         -3.4995e-01,  2.4872e-02, -9.5590e-01, -4.4388e-02,  7.3188e-01,\n",
              "         -9.2596e-01, -9.9329e-02, -5.8222e-01,  6.8173e-02,  1.0857e-01,\n",
              "         -7.4663e-01,  9.7963e-02,  9.5256e-01, -3.8399e-01, -3.1924e-01,\n",
              "         -2.4076e-01, -9.1113e-01,  1.2108e-01, -7.3049e-01, -7.3746e-01,\n",
              "         -6.3056e-01, -7.7027e-01, -5.7029e-02,  1.2736e-01,  1.6882e-01,\n",
              "          5.7926e-01, -2.5639e-01,  3.3097e-03,  4.6049e-02, -3.1789e-01,\n",
              "         -4.5671e-01, -1.7132e-02,  4.9119e-01, -7.0586e-01, -6.6945e-01,\n",
              "         -8.1122e-01,  4.2862e-02, -4.3730e-02,  1.2754e-01, -7.6101e-02,\n",
              "          5.9253e-01,  5.0482e-02,  3.6447e-01, -6.0837e-01, -7.0663e-01,\n",
              "          4.8501e-02, -2.3141e-01,  9.8237e-01,  1.3134e-01, -9.2927e-01,\n",
              "         -7.4954e-01, -6.0576e-01,  1.3017e-01,  7.9926e-01, -6.9964e-01,\n",
              "         -9.6222e-01,  7.0117e-02, -2.9593e-02, -9.6832e-01,  9.7512e-02,\n",
              "          1.4712e-01, -6.4123e-04, -7.8573e-01,  9.1750e-02,  1.1207e-01,\n",
              "          7.3341e-02, -4.8546e-02,  5.7707e-01,  2.1250e-02,  2.8201e-01,\n",
              "         -8.3859e-02, -6.9256e-02,  1.7613e-01, -1.5074e-01, -2.2550e-03,\n",
              "         -1.1610e-01, -1.4780e-01, -1.8638e-01, -5.4065e-01,  3.4865e-01,\n",
              "          1.5383e-01, -7.2077e-02,  7.6530e-02, -8.6986e-01,  3.7903e-01,\n",
              "         -6.4553e-02, -9.5421e-01, -1.7701e-01, -9.5821e-01,  4.2010e-01,\n",
              "          2.3552e-01, -3.7071e-02,  8.8578e-01,  6.8170e-01,  4.3395e-02,\n",
              "          1.4013e-01,  7.5075e-01, -9.9048e-01,  1.9173e-01,  1.7991e-01,\n",
              "          3.8979e-01,  3.3444e-02, -9.2366e-01, -8.6978e-01,  2.4566e-01,\n",
              "          8.7700e-01, -3.1298e-02,  9.4465e-01, -6.3984e-02,  8.4931e-01,\n",
              "          4.6784e-01,  2.4788e-01, -5.4534e-01, -2.0862e-01, -9.6765e-02,\n",
              "          5.2252e-02, -1.9507e-01,  1.5050e-01,  3.8545e-01, -2.6629e-01,\n",
              "          2.0178e-01, -9.7146e-02,  6.6148e-01, -8.3871e-01, -1.9566e-01,\n",
              "          8.5348e-01,  4.7667e-01,  7.8708e-01,  7.5412e-01,  2.6479e-03,\n",
              "         -1.6656e-01,  6.6575e-01, -1.6753e-01,  1.4042e-01,  2.2821e-01,\n",
              "          1.3749e-01, -3.9694e-01,  2.2068e-01, -6.3445e-01,  4.3309e-01,\n",
              "          1.2946e-01,  1.5830e-02,  6.9175e-01, -9.2677e-01, -8.0153e-02,\n",
              "          2.9065e-01,  9.5146e-01,  6.1215e-01,  3.3061e-02, -4.5394e-01,\n",
              "         -5.2761e-02, -1.7084e-01, -8.5481e-01,  9.2217e-01,  4.6412e-02,\n",
              "          8.8238e-02,  5.9351e-01, -2.4912e-01, -6.8924e-01, -5.1786e-01,\n",
              "          6.2037e-01,  2.8305e-01, -6.5794e-01,  1.0460e-01, -1.9270e-01,\n",
              "         -1.2403e-01,  4.7349e-01,  2.4028e-01, -6.4028e-02, -1.9550e-01,\n",
              "          1.8944e-01,  8.3247e-01,  8.3844e-01,  5.8467e-01, -6.9673e-01,\n",
              "          2.3143e-01, -7.0523e-01, -4.2398e-02, -1.3083e-02,  1.0728e-01,\n",
              "         -9.0691e-02,  9.7183e-01,  2.5099e-01,  8.4400e-02, -8.1845e-01,\n",
              "         -9.4698e-01, -4.7973e-02, -6.9126e-01,  1.9022e-01, -4.0607e-01,\n",
              "         -4.1603e-02,  6.4092e-01, -4.9736e-01,  1.1890e-01, -8.6433e-01,\n",
              "         -5.3949e-01,  9.5495e-02, -6.2483e-02,  1.4171e-01, -1.2945e-01,\n",
              "          6.5947e-02, -5.8881e-01, -1.9593e-01,  3.0085e-01,  7.6032e-01,\n",
              "          7.7587e-01, -5.2153e-01,  5.6837e-01, -2.5341e-02,  6.1738e-01,\n",
              "         -3.6017e-01,  8.5429e-01, -5.4625e-01, -1.3092e-01, -8.2929e-01,\n",
              "          6.0429e-01, -6.5622e-01,  5.6372e-01,  7.5134e-02, -7.5314e-01,\n",
              "         -6.6678e-01,  1.0262e-01,  6.0860e-03,  8.4451e-01, -3.1764e-01,\n",
              "          9.3607e-01, -3.6621e-02, -8.6139e-01,  1.5785e-03,  2.7370e-01,\n",
              "         -9.5369e-01, -4.6693e-01,  1.3894e-01, -7.2584e-01, -1.7846e-01,\n",
              "         -2.0664e-01, -8.7003e-01,  6.0080e-01,  2.8561e-02,  9.1245e-01,\n",
              "          3.1398e-01, -6.6984e-01, -9.9747e-02, -7.5845e-01, -2.2627e-01,\n",
              "          1.4926e-01,  7.9667e-01, -2.3003e-01, -9.0109e-01,  2.1259e-01,\n",
              "          2.8048e-01,  1.3278e-01,  8.0167e-01,  9.2507e-01,  8.0996e-01,\n",
              "          9.2602e-01,  7.4321e-01,  6.2773e-01,  1.2806e-01, -6.2319e-02,\n",
              "          9.9858e-01,  5.0419e-01, -9.4887e-01, -8.6625e-01, -2.6194e-01,\n",
              "          1.3761e-01, -9.8895e-01,  7.7813e-03,  1.5626e-01, -8.1753e-01,\n",
              "         -5.9481e-01,  9.3254e-01,  8.4971e-01, -9.8021e-01,  7.6742e-01,\n",
              "          8.3698e-01, -1.9129e-01, -5.2639e-01, -1.1592e-02,  9.3304e-01,\n",
              "         -2.1689e-02,  2.5739e-01, -5.3196e-02,  1.0444e-01,  5.6999e-01,\n",
              "         -5.9251e-01,  6.6369e-01,  6.0308e-01, -5.3568e-01, -4.1303e-02,\n",
              "         -4.0408e-01, -8.2299e-01, -5.5123e-01,  6.7317e-02, -3.8507e-01,\n",
              "         -8.8025e-01,  1.5444e-02, -4.3627e-01,  4.1077e-01, -8.2116e-02,\n",
              "          1.0024e-02, -4.7442e-01,  4.3610e-02, -7.5415e-01,  7.2344e-02,\n",
              "          2.8545e-01, -8.3513e-01, -3.3700e-01,  4.3506e-02, -4.8424e-01,\n",
              "          6.2514e-01, -8.6304e-01,  9.1040e-01, -1.9735e-01, -5.3964e-01,\n",
              "          9.8357e-01, -1.8612e-01, -6.1002e-01,  6.5689e-03, -7.4912e-02,\n",
              "          2.3020e-01,  9.7499e-01, -1.7604e-01, -9.3107e-01, -1.5606e-01,\n",
              "         -1.0058e-01, -7.3600e-02, -3.1623e-02,  9.8319e-01,  2.4302e-02,\n",
              "          6.4596e-01,  6.0557e-01,  9.0739e-01, -9.6126e-01, -6.4125e-01,\n",
              "         -6.9557e-01, -8.9823e-01,  8.8564e-01,  8.1167e-01,  7.4770e-02,\n",
              "         -3.7045e-01, -5.4656e-02,  4.6108e-01,  2.7325e-02, -8.6313e-01,\n",
              "          2.3277e-01,  1.5876e-01,  1.3867e-04,  7.7099e-01, -5.2510e-01,\n",
              "         -1.2681e-01,  2.0634e-01,  4.2687e-01,  4.0004e-01, -6.3562e-01,\n",
              "          2.6907e-01, -7.2709e-02, -4.3646e-02, -7.3294e-02,  1.3102e-02,\n",
              "         -8.9738e-01, -3.7382e-01,  9.7447e-01,  1.8730e-01, -6.7228e-01,\n",
              "          2.7779e-01, -1.6684e-03, -3.4897e-01,  5.5487e-02,  1.1425e-01,\n",
              "         -1.3885e-01, -6.5479e-01, -4.3492e-01, -7.5604e-01, -9.5525e-01,\n",
              "          4.1461e-01,  7.5448e-02, -7.5461e-02,  8.2948e-01, -1.0094e-01,\n",
              "          2.5496e-02, -2.6102e-01, -5.7739e-01, -1.0232e-01,  2.0872e-01,\n",
              "         -7.9646e-01,  9.0922e-01, -7.8915e-02,  1.5092e-01,  5.2060e-01,\n",
              "          7.6392e-01, -4.9262e-02, -4.2919e-01, -7.4033e-02, -7.8577e-01,\n",
              "          2.3880e-01, -8.4571e-01,  8.7017e-01, -7.3209e-01,  8.4981e-02,\n",
              "         -8.7382e-02, -4.8989e-01,  9.7923e-01, -1.0920e-01,  2.7342e-01,\n",
              "         -7.3420e-02,  5.5401e-01,  3.1208e-01, -3.8000e-01, -1.5833e-01,\n",
              "          1.1621e-01,  7.8819e-01,  8.8902e-03, -2.1781e-02, -9.0121e-01,\n",
              "         -7.4454e-01, -4.0682e-01, -8.1634e-01, -9.6377e-01,  6.2696e-01,\n",
              "          5.0186e-01, -6.0874e-02,  4.4812e-01, -2.8854e-01, -3.6176e-01,\n",
              "         -1.9461e-01,  1.0647e-01, -8.2426e-01,  7.2259e-01, -6.6267e-02,\n",
              "          2.0357e-01, -7.6276e-02,  1.8827e-01, -7.6365e-01,  8.4223e-01,\n",
              "          7.8695e-01,  2.9246e-01,  2.7911e-02, -5.1680e-01,  4.5356e-01,\n",
              "         -4.4777e-01,  6.3490e-01,  4.2373e-02,  9.8377e-01, -8.7023e-02,\n",
              "         -6.5778e-01,  5.4717e-01,  2.6903e-01,  9.3852e-02,  4.7727e-02,\n",
              "         -6.6895e-01,  1.7438e-02,  7.3447e-01,  7.5516e-01, -4.3853e-01,\n",
              "         -1.2338e-01,  9.8032e-02, -6.9777e-01, -6.6290e-01,  5.2757e-01,\n",
              "         -3.3263e-01, -8.1952e-02,  8.3499e-02, -3.6754e-02,  9.5283e-01,\n",
              "          5.8994e-02,  1.3864e-01, -4.3140e-02,  1.0499e-01, -3.5184e-02,\n",
              "         -8.0447e-03,  9.6312e-01,  1.8787e-01, -2.7061e-01, -9.6604e-01,\n",
              "          5.4462e-01, -7.3899e-01,  7.6224e-01,  5.5594e-01, -6.9534e-01,\n",
              "          1.8272e-01,  1.1904e-01, -6.2471e-02,  3.2837e-01,  3.4723e-02,\n",
              "         -1.5166e-01,  3.2999e-02,  5.9694e-02,  8.8504e-01, -2.5199e-01,\n",
              "         -9.1344e-01, -3.2129e-01,  8.7429e-02, -8.6044e-01, -7.8228e-02,\n",
              "         -2.4353e-01, -2.3041e-02, -1.4577e-01,  4.7012e-01,  3.1067e-01,\n",
              "         -1.0591e-01, -9.2277e-01,  1.1639e-02, -2.0986e-01,  9.0094e-01,\n",
              "         -2.7098e-02, -1.5471e-01, -8.0022e-01, -6.2126e-01, -4.6413e-01,\n",
              "          7.3142e-01, -8.5545e-01,  9.2112e-01, -9.1926e-01,  8.9509e-02,\n",
              "          9.5285e-01,  1.7068e-01, -6.9689e-01, -3.7213e-02, -1.9437e-02,\n",
              "          9.5879e-02,  3.9572e-01,  3.3627e-01, -8.6368e-01,  4.9744e-02,\n",
              "         -7.2894e-03,  6.6187e-02,  4.3730e-02,  4.0545e-01,  5.6387e-01,\n",
              "          2.3476e-02, -1.1747e-01, -2.3890e-01,  1.5233e-01,  1.2152e-01,\n",
              "          4.2825e-01, -1.0705e-01,  4.0860e-02, -9.3179e-02,  3.6659e-02,\n",
              "         -7.8361e-01, -1.5859e-02,  8.9298e-02, -2.7164e-01,  3.0411e-01,\n",
              "         -9.8272e-01, -5.4111e-01, -6.7987e-01, -1.0555e-02,  6.7194e-01,\n",
              "         -9.9196e-03, -3.3524e-01, -4.2659e-01,  7.4542e-01,  8.6669e-01,\n",
              "          4.9905e-01,  1.7869e-01,  3.1352e-01, -5.1896e-01, -6.3587e-02,\n",
              "          8.9729e-02,  4.7398e-02,  5.3224e-01,  5.2216e-01,  7.0270e-02,\n",
              "          9.8640e-01, -9.1170e-02, -3.3816e-02, -8.4192e-01,  7.2247e-02,\n",
              "         -5.7839e-02,  8.2578e-01, -6.0649e-01, -8.5132e-01,  1.0656e-01,\n",
              "         -3.3595e-02, -6.3625e-01,  3.1908e-02, -1.1027e-01, -2.7173e-01,\n",
              "          6.6089e-01,  8.5798e-01,  5.7218e-01, -2.0699e-01,  2.2997e-03,\n",
              "         -1.0776e-01, -1.7031e-01, -1.0825e-01, -7.1091e-01,  9.5465e-01,\n",
              "          2.2898e-01,  6.0280e-01,  6.0061e-01,  3.4785e-01,  8.8662e-01,\n",
              "         -3.6822e-02,  2.5431e-01, -7.8924e-02,  9.5400e-01,  4.1519e-02,\n",
              "         -7.4433e-01,  5.0421e-01, -9.4036e-01, -5.6622e-03, -7.9517e-01,\n",
              "          1.2715e-01, -9.1610e-02,  6.4625e-01, -2.4963e-02,  8.6602e-01,\n",
              "          6.9137e-01, -1.1899e-01,  3.6090e-01,  8.0222e-01,  2.0070e-01,\n",
              "         -7.9671e-01, -9.4951e-01, -9.6039e-01, -1.4285e-01, -2.8377e-01,\n",
              "          3.2259e-02,  7.2573e-02, -9.4705e-03,  5.9134e-02,  1.5994e-01,\n",
              "         -9.4646e-01,  7.9141e-01,  1.2506e-01, -7.1537e-01,  8.9175e-01,\n",
              "         -1.8184e-01, -7.7450e-02,  1.0486e-01, -9.5857e-01, -7.8142e-01,\n",
              "         -1.5708e-01, -1.0932e-01,  4.9098e-01,  2.2027e-01,  6.3598e-01,\n",
              "          1.1465e-01, -4.2911e-01,  1.1613e-01,  7.1209e-01, -1.4890e-01,\n",
              "         -9.6648e-01,  1.5985e-01,  6.4359e-01, -7.3221e-01,  8.8342e-01,\n",
              "         -6.1038e-01, -7.0518e-02,  7.4799e-01,  4.5201e-01,  7.5959e-01,\n",
              "          4.9900e-01,  1.9249e-01,  3.5888e-02,  3.3714e-01,  7.3869e-01,\n",
              "          8.2883e-01,  9.6218e-01,  6.4417e-01,  3.9209e-01,  6.5491e-01,\n",
              "          1.2093e-01,  3.7701e-01, -8.1936e-01, -4.1972e-02, -3.8316e-01,\n",
              "          1.5156e-01,  1.3902e-02, -7.9500e-02, -7.8581e-01,  6.4890e-01,\n",
              "          6.3507e-02,  8.5493e-02, -1.8687e-01,  2.0518e-01, -1.7907e-01,\n",
              "         -3.7523e-02, -5.0441e-01, -1.3029e-01,  2.3596e-01, -1.7661e-01,\n",
              "          7.8788e-01, -1.7481e-01,  1.0868e-01, -2.1169e-01,  8.7442e-02,\n",
              "          6.7623e-01, -8.0999e-01,  6.2878e-01,  1.9909e-01,  6.2322e-01,\n",
              "         -6.2182e-01, -2.6989e-01,  7.0192e-01, -5.2516e-01, -1.1768e-01,\n",
              "         -8.6056e-03, -4.1411e-01,  6.2122e-01,  1.7422e-02, -1.6902e-01,\n",
              "         -1.6634e-01,  4.2797e-01,  1.8457e-01,  1.4149e-01,  6.4175e-01,\n",
              "          6.7197e-01,  1.9226e-01,  4.2344e-03,  1.4374e-02, -5.3030e-02,\n",
              "         -9.4294e-01,  2.0327e-01,  4.2438e-01, -5.9544e-01,  4.5503e-01,\n",
              "         -6.8795e-01,  3.4782e-01, -8.6083e-01,  3.7453e-02, -3.6848e-01,\n",
              "         -6.1239e-01, -3.6919e-01, -9.0714e-02,  1.0978e-01,  4.0118e-01,\n",
              "         -5.5805e-01,  7.1270e-01,  5.6081e-01,  7.6660e-01,  1.6379e-01,\n",
              "          5.3379e-01, -4.4473e-01,  7.1683e-01]], grad_fn=<TanhBackward0>)"
            ]
          },
          "metadata": {},
          "execution_count": 18
        }
      ]
    },
    {
      "cell_type": "markdown",
      "source": [
        "## Fine Tuning\n",
        "* BERT was trained on MLM and NSP\n",
        "* These tasks do a good job building contextualized word embeddings\n",
        "* They are not designed for all tasks, specifically the upper layers of BERT need to be \"adjusted\" to specific problems"
      ],
      "metadata": {
        "id": "rpSbAKgwEsIi"
      }
    },
    {
      "cell_type": "markdown",
      "source": [
        "# What does BERT know?\n",
        "\n"
      ],
      "metadata": {
        "id": "gVq3ma8vGZ6S"
      }
    },
    {
      "cell_type": "markdown",
      "source": [
        "## Sources\n",
        "* Rodgers et. al. (2020) A Primer in BERTology: What we know about how BERT works (https://arxiv.org/abs/2002.12327)\n",
        "* Kovaleva et. al. (2019) Revealing the Dark Secrets of BERT (https://aclanthology.org/D19-1445/)\n",
        "* Jawahar et. al. (2019) What does BERT Learn about the Structure of Language (https://aclanthology.org/P19-1356/)\n",
        "* Goldberg (2019) Assessing BERT's Syntactic Abilities (https://arxiv.org/abs/1901.05287)\n",
        "* Tenney et. al. (2019) BERT Rediscovers the Classical NLP Piepleine (https://arxiv.org/abs/1905.05950)\n",
        "* Hewitt, Manning (2019) A Structural Probe for Finding Syntax in Word Representations (https://nlp.stanford.edu/pubs/hewitt2019structural.pdf)\n",
        "* Ethayarajh (2019) How Contextual are Contextualized Word Representations?  Comparing the Geometry of BERT, ELMo and GPT-2 Embeddings (https://arxiv.org/pdf/1909.00512)\n",
        "* Gordon (2020) Compressing BERT: Studying the Effects of Weight Pruning on Transfer Learning (https://aclanthology.org/2020.repl4nlp-1.18/)"
      ],
      "metadata": {
        "id": "Sr4rlI6I18Dz"
      }
    },
    {
      "cell_type": "markdown",
      "source": [
        "## Probing Tasks\n",
        "* Train a linear model to predict semantic and syntactic properties of words\n",
        "* Based on the idea that if a simple model can predict a linguistic property then the representation implicitly encodes this capability\n",
        "* Examples:\n",
        "  * Shallow - Word Count / Sentence Length\n",
        "  * Syntactic - Parse Depth\n",
        "  * Semantic - \n",
        "\n",
        "![](https://nlp.stanford.edu//~johnhew//public/ct/probing-diagram.png)"
      ],
      "metadata": {
        "id": "pN5awQfwG_LJ"
      }
    },
    {
      "cell_type": "markdown",
      "source": [
        "## BERT Embeddings\n",
        "* BERT makes conical embeddings (Anisotropic)\n",
        "* Look at same word in different contexts (sentences)\n",
        "* Cosine similarity of two random are very close\n",
        "* Cosine similarity tends to get closer in later layers"
      ],
      "metadata": {
        "id": "ZhWMQ4JbacVZ"
      }
    },
    {
      "cell_type": "markdown",
      "source": [
        "## BERT Layers\n",
        "* BERT lower layers learn shallow features\n",
        "* Intermediate layers learn syntactic features\n",
        "* Final layers are most task-specific\n",
        "  * These will have been trained on MLM & NSP \n",
        "  * Fine-Tune to make them useful"
      ],
      "metadata": {
        "id": "NfHTsfnweHLq"
      }
    },
    {
      "cell_type": "markdown",
      "source": [
        "## BERT Self-Attention \n",
        "* Attention heads tend to form one of five patterns\n",
        "* Attention heads often are redundant (perhaps due to dropout)\n"
      ],
      "metadata": {
        "id": "3VgCcymCaGwm"
      }
    },
    {
      "cell_type": "markdown",
      "source": [
        "![image.png](data:image/png;base64,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)"
      ],
      "metadata": {
        "id": "ISngqRnVZ9NR"
      }
    },
    {
      "cell_type": "markdown",
      "source": [
        "* BERT heads appear to have a form of specialization\n",
        "* No one head has all the syntactic tree information, it's spread across heads / layers\n"
      ],
      "metadata": {
        "id": "WSPVISdAav6R"
      }
    },
    {
      "cell_type": "markdown",
      "source": [
        "## Syntactic Knowledge\n",
        "* BERT representations are hierarchical (not linear) and not directly encoded in self-attention weights\n",
        "* May need more layers to handle longer connections\n",
        "* Ttakes subject - predicate agreement into account during the cloze task\n",
        "* Fails to undetstand negation\n",
        "\n"
      ],
      "metadata": {
        "id": "CFXfIieoGZ-f"
      }
    },
    {
      "cell_type": "markdown",
      "source": [
        "## Semantic Knowledge\n",
        "* BERT encodes information about entity types, relations, roles and proto-roles\n",
        "* Doesn't work with numbers well\n",
        "* Not strong in named entity replacement"
      ],
      "metadata": {
        "id": "GVTdfX-baVMI"
      }
    },
    {
      "cell_type": "markdown",
      "source": [
        "## World Knowledge\n",
        "* BERT cannot reason based on world knowledge\n",
        "* Struggles with inference and role-based event knowledge\n",
        "* Competitive on some relation types"
      ],
      "metadata": {
        "id": "inTjzpcvaaaL"
      }
    },
    {
      "cell_type": "markdown",
      "source": [
        "## Architecture & Training\n",
        "* BERT number of layers more important than number of heads\n",
        "* Larger batch size improves model (more noise)\n",
        "* Can be trained in recursive manner (warmup)\n",
        "* Train "
      ],
      "metadata": {
        "id": "QksSiokreWpr"
      }
    },
    {
      "cell_type": "markdown",
      "source": [
        "## Pre-Training\n",
        "![](https://www.mindspore.cn/tutorial/training/en/r1.2/_images/bert_model.PNG)"
      ],
      "metadata": {
        "id": "GjBLEpf8eeAU"
      }
    },
    {
      "cell_type": "markdown",
      "source": [
        "* BERT's pre-training can be significantly improved\n",
        "  * Phrase span masking\n",
        "  * Named entity masking\n",
        "  * Train longer, larger batch size\n",
        "* BERT's NSP task isn't very valuable "
      ],
      "metadata": {
        "id": "IxTwIf8haI_m"
      }
    },
    {
      "cell_type": "markdown",
      "source": [
        "## Fine-Tuning\n",
        "![](https://www.researchgate.net/profile/Lukas-Muttenthaler/publication/342197300/figure/fig2/AS:902897298571264@1592278899283/BERT-fine-tuning-21.ppm)"
      ],
      "metadata": {
        "id": "eS2PwirSeWsn"
      }
    },
    {
      "cell_type": "markdown",
      "source": [
        "* BERT should be fine tuned to domain and task - default final layers are task specific (i.e. MLM and NSP)\n",
        "  * During fine tuning last layers undergo the most change\n",
        "  \n",
        "* Consider more layers than just the final when fine-tuning BERT\n",
        "* Consider two-stage fine-tuning\n",
        "  * Train unsupervised on unlabeled domain text\n",
        "  * Fine tune supervised\n",
        "* Run few epochs (2-4) to avoid overfitting"
      ],
      "metadata": {
        "id": "aL3MIhp1eqm1"
      }
    },
    {
      "cell_type": "markdown",
      "source": [
        "## Overparameterization\n",
        "* Gordon (2020) 30-40% of weights can be pruned without hurting downstream tasks\n",
        "  * Even BERTsmall is overparameterized\n",
        "  * Intermediate layers can be omitted\n",
        "* BERT can be compressed without compromisizng accuracy\n",
        "  * Train large model on large data then compress\n",
        "  * Strategies\n",
        "    * Knowledge Distillation (Student-Teacher - DistBERT)\n",
        "    * Quantization (Reduce floating point precision)\n",
        "    * Pruning (Drop layers, Share Layers, Drop Nodes)"
      ],
      "metadata": {
        "id": "8oFdVS3Keg6q"
      }
    },
    {
      "cell_type": "code",
      "source": [
        ""
      ],
      "metadata": {
        "id": "1QiPvon4fcDj"
      },
      "execution_count": 18,
      "outputs": []
    }
  ]
}