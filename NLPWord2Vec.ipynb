{
  "nbformat": 4,
  "nbformat_minor": 0,
  "metadata": {
    "colab": {
      "name": "NLPWord2Vec.ipynb",
      "provenance": [],
      "collapsed_sections": [],
      "toc_visible": true,
      "authorship_tag": "ABX9TyMk5WqoA0Evf8blQdWPwdGj",
      "include_colab_link": true
    },
    "kernelspec": {
      "name": "python3",
      "display_name": "Python 3"
    }
  },
  "cells": [
    {
      "cell_type": "markdown",
      "metadata": {
        "id": "view-in-github",
        "colab_type": "text"
      },
      "source": [
        "<a href=\"https://colab.research.google.com/github/swilsonmfc/nlp/blob/master/NLPWord2Vec.ipynb\" target=\"_parent\"><img src=\"https://colab.research.google.com/assets/colab-badge.svg\" alt=\"Open In Colab\"/></a>"
      ]
    },
    {
      "cell_type": "markdown",
      "metadata": {
        "id": "gKjF8K60pEPj",
        "colab_type": "text"
      },
      "source": [
        "# Word2Vec\n",
        "![alt text](https://www.ed.ac.uk/files/styles/landscape_breakpoints_theme_uoe_mobile_1x/public/thumbnails/image/diagram-20190710.png?itok=2WZA_Q5G)"
      ]
    },
    {
      "cell_type": "markdown",
      "metadata": {
        "id": "zOif4VH6pGoO",
        "colab_type": "text"
      },
      "source": [
        "# Setup"
      ]
    },
    {
      "cell_type": "code",
      "metadata": {
        "id": "uwba9Ve9ojbH",
        "colab_type": "code",
        "colab": {
          "base_uri": "https://localhost:8080/",
          "height": 71
        },
        "outputId": "2c637551-b81a-4361-872e-5cf652a3d960"
      },
      "source": [
        "import pandas as pd\n",
        "import numpy as np\n",
        "import matplotlib.pyplot as plt\n",
        "import seaborn as sns\n",
        "import math\n",
        "\n",
        "import nltk\n",
        "from nltk.corpus import brown\n",
        "\n",
        "import gensim\n",
        "import gensim.downloader as api\n",
        "from gensim import corpora\n",
        "from gensim.models.word2vec import Word2Vec\n",
        "from gensim.models.word2vec import BrownCorpus\n",
        "from gensim.models.word2vec import Text8Corpus\n",
        "from gensim.models import FastText\n",
        "\n",
        "import tensorflow as tf\n",
        "import tensorflow.keras as keras\n",
        "import tensorflow.keras.backend as K\n",
        "\n",
        "from tensorflow.keras.preprocessing import text\n",
        "from tensorflow.keras.preprocessing import sequence\n",
        "\n",
        "from tensorflow.keras import Sequential\n",
        "from tensorflow.keras.layers import Dense\n",
        "from tensorflow.keras.layers import Embedding\n",
        "from tensorflow.keras.layers import Lambda\n",
        "from tensorflow.keras.layers import LSTM\n",
        "\n",
        "from sklearn.decomposition import PCA"
      ],
      "execution_count": 1,
      "outputs": [
        {
          "output_type": "stream",
          "text": [
            "/usr/local/lib/python3.6/dist-packages/statsmodels/tools/_testing.py:19: FutureWarning: pandas.util.testing is deprecated. Use the functions in the public API at pandas.testing instead.\n",
            "  import pandas.util.testing as tm\n"
          ],
          "name": "stderr"
        }
      ]
    },
    {
      "cell_type": "code",
      "metadata": {
        "id": "p-jC2bqzUAQZ",
        "colab_type": "code",
        "colab": {}
      },
      "source": [
        "import warnings\n",
        "warnings.filterwarnings(action='ignore', category=FutureWarning, module='gensim')\n",
        "warnings.filterwarnings(action='ignore', category=UserWarning, module='smart_open')"
      ],
      "execution_count": 0,
      "outputs": []
    },
    {
      "cell_type": "markdown",
      "metadata": {
        "id": "FIbPWsxKp9gB",
        "colab_type": "text"
      },
      "source": [
        "# Word Vectors\n"
      ]
    },
    {
      "cell_type": "markdown",
      "metadata": {
        "id": "gFr-WrUJQ7Nu",
        "colab_type": "text"
      },
      "source": [
        "## Training\n",
        "* http://mattmahoney.net/dc/textdata.html\n",
        "* Training time can be significant depending on size"
      ]
    },
    {
      "cell_type": "code",
      "metadata": {
        "id": "8otXzB3-pKOe",
        "colab_type": "code",
        "colab": {
          "base_uri": "https://localhost:8080/",
          "height": 71
        },
        "outputId": "b1727c9d-8b58-44d1-ceaa-a0e3c1e8208c"
      },
      "source": [
        "corpus = api.load('text8')  \n",
        "model = Word2Vec(corpus)"
      ],
      "execution_count": 227,
      "outputs": [
        {
          "output_type": "stream",
          "text": [
            "/usr/local/lib/python3.6/dist-packages/smart_open/smart_open_lib.py:253: UserWarning: This function is deprecated, use smart_open.open instead. See the migration notes for details: https://github.com/RaRe-Technologies/smart_open/blob/master/README.rst#migrating-to-the-new-open-function\n",
            "  'See the migration notes for details: %s' % _MIGRATION_NOTES_URL\n"
          ],
          "name": "stderr"
        }
      ]
    },
    {
      "cell_type": "markdown",
      "metadata": {
        "id": "-P0mWInLUuHK",
        "colab_type": "text"
      },
      "source": [
        "## Word Vector\n",
        "* A word represented in vector space\n",
        "* Feature Extraction\n",
        "* Synonyms\n",
        "* Compression / Dimensionality Reduction over OHE\n",
        "* Inputs to Neural Network"
      ]
    },
    {
      "cell_type": "code",
      "metadata": {
        "id": "tPABDnn7Uz5f",
        "colab_type": "code",
        "colab": {
          "base_uri": "https://localhost:8080/",
          "height": 374
        },
        "outputId": "0f874e09-fd24-4e16-c534-d57afafa19c2"
      },
      "source": [
        "model.wv.word_vec('virus')"
      ],
      "execution_count": 228,
      "outputs": [
        {
          "output_type": "execute_result",
          "data": {
            "text/plain": [
              "array([-2.4080207 , -1.0395763 , -0.7135606 , -0.37188014, -0.96751606,\n",
              "       -0.01468725,  0.21536088, -2.0003915 , -0.6006364 ,  0.59724116,\n",
              "        0.96112955, -2.0617826 , -0.2549099 , -0.42531288, -0.15461849,\n",
              "       -0.9498539 , -1.7507107 , -1.223472  , -0.44145644, -0.78241944,\n",
              "       -0.23322897, -0.5937527 , -0.02292824,  0.3214928 ,  0.4898421 ,\n",
              "       -0.24379008,  0.20622273, -0.76726556,  0.1160971 , -0.16946697,\n",
              "        0.7982875 ,  0.21153867, -0.895255  ,  1.8148847 , -0.679964  ,\n",
              "       -0.03285448,  0.56893   ,  0.03300843, -0.38285106, -0.9077875 ,\n",
              "       -1.4649669 ,  2.6878734 , -1.6149138 , -1.8937304 , -0.2662802 ,\n",
              "        0.8475861 , -0.07011241, -1.7100506 ,  1.458781  , -1.2715473 ,\n",
              "        1.4081233 , -0.3332512 ,  2.7273064 ,  0.17101087,  0.5699603 ,\n",
              "       -0.25514877, -0.05968575,  0.19803265,  0.2701553 ,  1.1600546 ,\n",
              "        1.7650723 , -0.6235442 , -1.5647223 ,  2.1319447 ,  0.6126159 ,\n",
              "       -0.6360212 ,  1.5377322 ,  0.730926  , -0.43580782,  2.3092432 ,\n",
              "        0.05690283,  1.0284503 , -0.3142586 , -0.80908245, -0.6116524 ,\n",
              "       -2.068926  ,  0.36604014, -2.6015308 , -0.38526008,  2.3210835 ,\n",
              "       -1.007839  , -0.08737554,  1.7131346 , -0.8979898 , -0.02955974,\n",
              "        1.3083383 ,  0.18242712,  0.34452197, -0.3307984 , -1.200983  ,\n",
              "        0.97993386,  0.64516586,  0.1828596 ,  0.02937341, -0.72844243,\n",
              "       -2.037768  , -1.6651919 , -1.6350188 , -0.35774648,  0.48522142],\n",
              "      dtype=float32)"
            ]
          },
          "metadata": {
            "tags": []
          },
          "execution_count": 228
        }
      ]
    },
    {
      "cell_type": "markdown",
      "metadata": {
        "id": "IGZNeEN1SKS4",
        "colab_type": "text"
      },
      "source": [
        "## Similarity"
      ]
    },
    {
      "cell_type": "code",
      "metadata": {
        "id": "g6IXfMaORCP4",
        "colab_type": "code",
        "colab": {
          "base_uri": "https://localhost:8080/",
          "height": 359
        },
        "outputId": "5ff3c945-4f0b-4ef6-b57a-83973a3b898d"
      },
      "source": [
        "pd.DataFrame(model.wv.most_similar(\"cool\"), columns=['Token', 'Score'])"
      ],
      "execution_count": 229,
      "outputs": [
        {
          "output_type": "execute_result",
          "data": {
            "text/html": [
              "<div>\n",
              "<style scoped>\n",
              "    .dataframe tbody tr th:only-of-type {\n",
              "        vertical-align: middle;\n",
              "    }\n",
              "\n",
              "    .dataframe tbody tr th {\n",
              "        vertical-align: top;\n",
              "    }\n",
              "\n",
              "    .dataframe thead th {\n",
              "        text-align: right;\n",
              "    }\n",
              "</style>\n",
              "<table border=\"1\" class=\"dataframe\">\n",
              "  <thead>\n",
              "    <tr style=\"text-align: right;\">\n",
              "      <th></th>\n",
              "      <th>Token</th>\n",
              "      <th>Score</th>\n",
              "    </tr>\n",
              "  </thead>\n",
              "  <tbody>\n",
              "    <tr>\n",
              "      <th>0</th>\n",
              "      <td>warm</td>\n",
              "      <td>0.859840</td>\n",
              "    </tr>\n",
              "    <tr>\n",
              "      <th>1</th>\n",
              "      <td>hot</td>\n",
              "      <td>0.845818</td>\n",
              "    </tr>\n",
              "    <tr>\n",
              "      <th>2</th>\n",
              "      <td>wet</td>\n",
              "      <td>0.844188</td>\n",
              "    </tr>\n",
              "    <tr>\n",
              "      <th>3</th>\n",
              "      <td>dry</td>\n",
              "      <td>0.830109</td>\n",
              "    </tr>\n",
              "    <tr>\n",
              "      <th>4</th>\n",
              "      <td>damp</td>\n",
              "      <td>0.778937</td>\n",
              "    </tr>\n",
              "    <tr>\n",
              "      <th>5</th>\n",
              "      <td>cloudy</td>\n",
              "      <td>0.762024</td>\n",
              "    </tr>\n",
              "    <tr>\n",
              "      <th>6</th>\n",
              "      <td>melt</td>\n",
              "      <td>0.753131</td>\n",
              "    </tr>\n",
              "    <tr>\n",
              "      <th>7</th>\n",
              "      <td>snow</td>\n",
              "      <td>0.751582</td>\n",
              "    </tr>\n",
              "    <tr>\n",
              "      <th>8</th>\n",
              "      <td>summers</td>\n",
              "      <td>0.751509</td>\n",
              "    </tr>\n",
              "    <tr>\n",
              "      <th>9</th>\n",
              "      <td>humid</td>\n",
              "      <td>0.731444</td>\n",
              "    </tr>\n",
              "  </tbody>\n",
              "</table>\n",
              "</div>"
            ],
            "text/plain": [
              "     Token     Score\n",
              "0     warm  0.859840\n",
              "1      hot  0.845818\n",
              "2      wet  0.844188\n",
              "3      dry  0.830109\n",
              "4     damp  0.778937\n",
              "5   cloudy  0.762024\n",
              "6     melt  0.753131\n",
              "7     snow  0.751582\n",
              "8  summers  0.751509\n",
              "9    humid  0.731444"
            ]
          },
          "metadata": {
            "tags": []
          },
          "execution_count": 229
        }
      ]
    },
    {
      "cell_type": "markdown",
      "metadata": {
        "id": "HUQgsiLuUIJR",
        "colab_type": "text"
      },
      "source": [
        "## Vector Math"
      ]
    },
    {
      "cell_type": "code",
      "metadata": {
        "id": "56T1oTW7SNKc",
        "colab_type": "code",
        "colab": {
          "base_uri": "https://localhost:8080/",
          "height": 34
        },
        "outputId": "3ee5ae58-fc72-4d0a-d254-6440c98aa0d0"
      },
      "source": [
        "result = model.wv.most_similar(positive=['king', 'woman'], negative=['man'])\n",
        "print(\"{}: {:.4f}\".format(*result[0]))"
      ],
      "execution_count": 230,
      "outputs": [
        {
          "output_type": "stream",
          "text": [
            "queen: 0.6777\n"
          ],
          "name": "stdout"
        }
      ]
    },
    {
      "cell_type": "code",
      "metadata": {
        "id": "BxgUxozb0Sm7",
        "colab_type": "code",
        "colab": {
          "base_uri": "https://localhost:8080/",
          "height": 34
        },
        "outputId": "57251585-f32a-4582-ca1f-fabe8a3b5c15"
      },
      "source": [
        "result = model.wv.most_similar(positive=['berlin', 'france'], negative=['germany'])\n",
        "print(\"{}: {:.4f}\".format(*result[0]))"
      ],
      "execution_count": 231,
      "outputs": [
        {
          "output_type": "stream",
          "text": [
            "paris: 0.7846\n"
          ],
          "name": "stdout"
        }
      ]
    },
    {
      "cell_type": "code",
      "metadata": {
        "id": "55GNT3hu2V2e",
        "colab_type": "code",
        "colab": {
          "base_uri": "https://localhost:8080/",
          "height": 34
        },
        "outputId": "2d0fc4ef-517f-4359-c1e7-a6f2d9c64a72"
      },
      "source": [
        "result = model.wv.most_similar(positive=['swim', 'playing'], negative=['play'])\n",
        "print(\"{}: {:.4f}\".format(*result[0]))"
      ],
      "execution_count": 232,
      "outputs": [
        {
          "output_type": "stream",
          "text": [
            "swimming: 0.6712\n"
          ],
          "name": "stdout"
        }
      ]
    },
    {
      "cell_type": "code",
      "metadata": {
        "id": "HHzU8DKxThVL",
        "colab_type": "code",
        "colab": {
          "base_uri": "https://localhost:8080/",
          "height": 34
        },
        "outputId": "bdc53496-27b9-44c0-b53a-9cb96e531a67"
      },
      "source": [
        "result = model.wv.most_similar(positive=['summer', 'snow'], negative=['hot'])\n",
        "print(\"{}: {:.4f}\".format(*result[0]))"
      ],
      "execution_count": 257,
      "outputs": [
        {
          "output_type": "stream",
          "text": [
            "winter: 0.7635\n"
          ],
          "name": "stdout"
        }
      ]
    },
    {
      "cell_type": "code",
      "metadata": {
        "id": "t4jaXofUbFox",
        "colab_type": "code",
        "colab": {
          "base_uri": "https://localhost:8080/",
          "height": 34
        },
        "outputId": "6dd0a0a6-9ef8-40e8-ebc5-5c60091e5ba5"
      },
      "source": [
        "result = model.wv.most_similar(positive=['party', 'quiet'], negative=['loud'])\n",
        "print(\"{}: {:.4f}\".format(*result[0]))"
      ],
      "execution_count": 234,
      "outputs": [
        {
          "output_type": "stream",
          "text": [
            "presidency: 0.6378\n"
          ],
          "name": "stdout"
        }
      ]
    },
    {
      "cell_type": "markdown",
      "metadata": {
        "id": "XZo7ikHMUTsa",
        "colab_type": "text"
      },
      "source": [
        "## Odd Out"
      ]
    },
    {
      "cell_type": "code",
      "metadata": {
        "id": "tIE2giQxURFc",
        "colab_type": "code",
        "colab": {
          "base_uri": "https://localhost:8080/",
          "height": 34
        },
        "outputId": "58aa2cd5-1cfc-4637-ab80-37681691b1af"
      },
      "source": [
        "model.wv.doesnt_match(['job', 'work', 'career', 'vacation'])"
      ],
      "execution_count": 235,
      "outputs": [
        {
          "output_type": "execute_result",
          "data": {
            "text/plain": [
              "'vacation'"
            ]
          },
          "metadata": {
            "tags": []
          },
          "execution_count": 235
        }
      ]
    },
    {
      "cell_type": "markdown",
      "metadata": {
        "id": "6_C6AjvlVuYG",
        "colab_type": "text"
      },
      "source": [
        "## PCA (Plotting)"
      ]
    },
    {
      "cell_type": "code",
      "metadata": {
        "id": "Y3ngElbsVwzb",
        "colab_type": "code",
        "colab": {
          "base_uri": "https://localhost:8080/",
          "height": 499
        },
        "outputId": "981c460f-da1e-4374-a455-4da7e4437065"
      },
      "source": [
        "def plot_pca(model, words=None, sample=0):\n",
        "    word_vectors = np.array([model.wv[w] for w in words])\n",
        "    pca = PCA().fit_transform(word_vectors)[:,:2]\n",
        "    \n",
        "    plt.figure(figsize=(10, 8))\n",
        "    plt.scatter(pca[:,0], pca[:,1], color='red')\n",
        "    for word, (x,y) in zip(words, pca):\n",
        "        plt.text(x + 0.05, y + 0.05, word)\n",
        "\n",
        "\n",
        "plot_pca(model, ['france', 'germany', 'italy', \n",
        "                 'japan', 'australia', 'india',\n",
        "                 'canada', 'usa', 'mexico', \n",
        "                 'brazil', 'peru', 'argentina'])\n",
        "plt.title('Countries');"
      ],
      "execution_count": 236,
      "outputs": [
        {
          "output_type": "display_data",
          "data": {
            "image/png": "[encoded data removed]",
            "text/plain": [
              "<Figure size 720x576 with 1 Axes>"
            ]
          },
          "metadata": {
            "tags": [],
            "needs_background": "light"
          }
        }
      ]
    },
    {
      "cell_type": "code",
      "metadata": {
        "id": "bYv0xsbnYT7P",
        "colab_type": "code",
        "colab": {
          "base_uri": "https://localhost:8080/",
          "height": 499
        },
        "outputId": "facdbfa1-318c-408a-84b1-7a38a42372c6"
      },
      "source": [
        "plot_pca(model, ['hamburger', 'hotdog', 'ribs',\n",
        "                 'salad', 'beans', 'potato',\n",
        "                 'fish', 'chicken', 'pizza',\n",
        "                 'grapes', 'corn', 'olive'])\n",
        "plt.title('Foods');"
      ],
      "execution_count": 237,
      "outputs": [
        {
          "output_type": "display_data",
          "data": {
            "image/png": "[encoded data removed]",
            "text/plain": [
              "<Figure size 720x576 with 1 Axes>"
            ]
          },
          "metadata": {
            "tags": [],
            "needs_background": "light"
          }
        }
      ]
    },
    {
      "cell_type": "markdown",
      "metadata": {
        "id": "MKxl7wUIp-t4",
        "colab_type": "text"
      },
      "source": [
        "![alt text](https://github.com/swilsonmfc/nlp/raw/master/Word2Vec/images/Cosine.png)"
      ]
    },
    {
      "cell_type": "markdown",
      "metadata": {
        "id": "8QdEke8bXFEm",
        "colab_type": "text"
      },
      "source": [
        "## Euclidean Distance\n",
        "* Straight line distance\n",
        "\n",
        "![alt text](http://mines.humanoriented.com/classes/2010/fall/csci568/portfolio_exports/sphilip/images/euclid_eqn.gif)"
      ]
    },
    {
      "cell_type": "markdown",
      "metadata": {
        "id": "vLApzBf3Nyxl",
        "colab_type": "text"
      },
      "source": [
        "## Cosine Similarity\n",
        "* Measures similarity between two items independent of their size\n",
        "* Measures the cosine of the angle between two vectors\n",
        "\n",
        "![alt text](https://i.stack.imgur.com/36r1U.png)\n"
      ]
    },
    {
      "cell_type": "markdown",
      "metadata": {
        "id": "AW2Y-N19Trj_",
        "colab_type": "text"
      },
      "source": [
        "# Architecture\n",
        "* [Distributed Representations of Words and Phrases and their Compositionality](https://arxiv.org/pdf/1310.4546.pdf)\n",
        "* [Efficient Estimation of Word Representations in Vector Space](https://arxiv.org/pdf/1301.3781.pdf)\n",
        "\n",
        "![alt text](https://www.researchgate.net/profile/Jose_Camacho-Collados/publication/325075918/figure/fig1/AS:625045625909251@1526033898828/Learning-architecture-of-the-CBOW-and-Skip-gram-models-of-Word2vec-Mikolov-et-al.png)"
      ]
    },
    {
      "cell_type": "markdown",
      "metadata": {
        "id": "m-OvS1-gcl_U",
        "colab_type": "text"
      },
      "source": [
        "# SkipGram\n",
        "* Predict the surrounding words given the context word"
      ]
    },
    {
      "cell_type": "markdown",
      "metadata": {
        "id": "j_dFSX3vLgS5",
        "colab_type": "text"
      },
      "source": [
        "![SkipGram](https://github.com/swilsonmfc/nlp/raw/master/Word2Vec/images/SkipGram.png)"
      ]
    },
    {
      "cell_type": "markdown",
      "metadata": {
        "id": "mpASXr8BLFeI",
        "colab_type": "text"
      },
      "source": [
        "## Model\n",
        "* We train the output, but drop it\n",
        "* We want the hidden layer (it's the embeddings)\n",
        "\n",
        "![alt text](https://qph.fs.quoracdn.net/main-qimg-3d6674075cc56348c2716326e370d50d)"
      ]
    },
    {
      "cell_type": "markdown",
      "metadata": {
        "id": "b2qZHdSe8rFk",
        "colab_type": "text"
      },
      "source": [
        "## Challenges\n",
        "* Memory challenges\n",
        "  * 10,000 word vocabulary\n",
        "  * 300 hidden layer / embedding size\n",
        "  * 10,000 * 300 = 3,000,000 weights\n",
        "  * Times 2 \n",
        "    * Hidden layer\n",
        "    * Output layer\n",
        "* Softmax computation is slow\n",
        "* Need many examples to prevent overfit"
      ]
    },
    {
      "cell_type": "markdown",
      "metadata": {
        "id": "FDi3vqIe5hTC",
        "colab_type": "text"
      },
      "source": [
        "## Subsample Frequent Words\n",
        "* Each time we see a word, there's a chance we'll drop the word (and it's training examples)\n",
        "* The rate is based on frequency and a sampling rate"
      ]
    },
    {
      "cell_type": "code",
      "metadata": {
        "id": "ZMIdICFIDc8D",
        "colab_type": "code",
        "colab": {
          "base_uri": "https://localhost:8080/",
          "height": 282
        },
        "outputId": "3d3bc564-cfdc-44ed-a6b2-ad0eb529073e"
      },
      "source": [
        "sample = 0.001\n",
        "def subsample(frac):\n",
        "  return (math.sqrt(frac / sample) + 1) * (sample / frac)\n",
        "\n",
        "x, y = [], []\n",
        "for rate in np.arange(0.002, 0.04, 0.001):\n",
        "  x.append(rate)\n",
        "  y.append(subsample(rate))\n",
        "plt.plot(x, y)"
      ],
      "execution_count": 222,
      "outputs": [
        {
          "output_type": "execute_result",
          "data": {
            "text/plain": [
              "[<matplotlib.lines.Line2D at 0x7f7906fc37f0>]"
            ]
          },
          "metadata": {
            "tags": []
          },
          "execution_count": 222
        },
        {
          "output_type": "display_data",
          "data": {
            "image/png": "[encoded data removed]",
            "text/plain": [
              "<Figure size 432x288 with 1 Axes>"
            ]
          },
          "metadata": {
            "tags": [],
            "needs_background": "light"
          }
        }
      ]
    },
    {
      "cell_type": "code",
      "metadata": {
        "id": "S8vbVjJKaMUr",
        "colab_type": "code",
        "colab": {
          "base_uri": "https://localhost:8080/",
          "height": 442
        },
        "outputId": "72632c68-b721-4325-a30c-fb74e5bef1ac"
      },
      "source": [
        "model.wv.index2entity[:25]"
      ],
      "execution_count": 254,
      "outputs": [
        {
          "output_type": "execute_result",
          "data": {
            "text/plain": [
              "['the',\n",
              " 'of',\n",
              " 'and',\n",
              " 'one',\n",
              " 'in',\n",
              " 'a',\n",
              " 'to',\n",
              " 'zero',\n",
              " 'nine',\n",
              " 'two',\n",
              " 'is',\n",
              " 'as',\n",
              " 'eight',\n",
              " 'for',\n",
              " 's',\n",
              " 'five',\n",
              " 'three',\n",
              " 'was',\n",
              " 'by',\n",
              " 'that',\n",
              " 'four',\n",
              " 'six',\n",
              " 'seven',\n",
              " 'with',\n",
              " 'on']"
            ]
          },
          "metadata": {
            "tags": []
          },
          "execution_count": 254
        }
      ]
    },
    {
      "cell_type": "markdown",
      "metadata": {
        "id": "cShrV-0j6fyu",
        "colab_type": "text"
      },
      "source": [
        "## Weighting Context Position\n",
        "* Each time we slide the window randomly select a window size from [1, Window]\n",
        "* All window sizes are equally likely\n",
        "* This has the effect of reducing further away from the context word"
      ]
    },
    {
      "cell_type": "code",
      "metadata": {
        "id": "xlKvRCcp7Gd8",
        "colab_type": "code",
        "colab": {
          "base_uri": "https://localhost:8080/",
          "height": 323
        },
        "outputId": "c55990e4-52b1-42c9-994f-cdbfdeb760e8"
      },
      "source": [
        "positions = {}\n",
        "\n",
        "# Brute force :)\n",
        "for window in [2, 5]:\n",
        "  position = [0] * window\n",
        "  for rand in range(1, window + 1):\n",
        "    for it in range(rand):\n",
        "      position[rand - 1] += 1\n",
        "  position = [p * 100 / len(position) for p in position] \n",
        "  positions[window] = position\n",
        "\n",
        "positions\n",
        "\n",
        "for key, value in positions.items():\n",
        "  print(f'Window Size {key}')\n",
        "  \n",
        "  counter = len(value)\n",
        "  for i in value:\n",
        "    print(f'  n-{counter} :  {i:.2f}%')\n",
        "    counter += -1\n",
        "\n",
        "  print(f'   X ')\n",
        "  \n",
        "  counter = 1\n",
        "  for i in value[::-1]:\n",
        "    print(f'  n+{counter} :  {i:.2f}%')\n",
        "    counter += 1"
      ],
      "execution_count": 218,
      "outputs": [
        {
          "output_type": "stream",
          "text": [
            "Window Size 2\n",
            "  n-2 :  50.00%\n",
            "  n-1 :  100.00%\n",
            "   X \n",
            "  n+1 :  100.00%\n",
            "  n+2 :  50.00%\n",
            "Window Size 5\n",
            "  n-5 :  20.00%\n",
            "  n-4 :  40.00%\n",
            "  n-3 :  60.00%\n",
            "  n-2 :  80.00%\n",
            "  n-1 :  100.00%\n",
            "   X \n",
            "  n+1 :  100.00%\n",
            "  n+2 :  80.00%\n",
            "  n+3 :  60.00%\n",
            "  n+4 :  40.00%\n",
            "  n+5 :  20.00%\n"
          ],
          "name": "stdout"
        }
      ]
    },
    {
      "cell_type": "markdown",
      "metadata": {
        "id": "-OT7nTd3Awjs",
        "colab_type": "text"
      },
      "source": [
        "## Negative Sampling\n",
        "* Rather than making small weight adjustments for each training example modify only a small percentage\n",
        "* Pick small number of negative words \n",
        "  * In our training setup, a positive example has a label of 1\n",
        "  * Our negative samples have a label of zero\n",
        "  * Randomly pick negative samples:\n",
        "    * 5-20 Small Dataset\n",
        "    * 2-5 Large Dataset\n",
        "    * Use likelihood of a word count raised to the 3/4 power\n",
        "\n",
        "![alt text](https://cdn-images-1.medium.com/max/1000/1*AH2nhhgon6ca8d_6TflGEA.png)\n",
        "\n",
        "\n",
        "\n"
      ]
    },
    {
      "cell_type": "markdown",
      "metadata": {
        "id": "spi4A6s4v3Zy",
        "colab_type": "text"
      },
      "source": [
        "# Continuous Bag of Words\n",
        "* The opposite of a SkipGram\n",
        "* Given the surrounding words predict the context word"
      ]
    },
    {
      "cell_type": "markdown",
      "metadata": {
        "id": "WyGvYAUWREQy",
        "colab_type": "text"
      },
      "source": [
        "![alt text](https://github.com/swilsonmfc/nlp/raw/master/Word2Vec/images/CBOW.png)"
      ]
    },
    {
      "cell_type": "markdown",
      "metadata": {
        "id": "HZgbnlIMF-1R",
        "colab_type": "text"
      },
      "source": [
        "## Model\n",
        "\n",
        "![alt text](https://ruder.io/content/images/2016/04/nn_language_model-1.jpg)"
      ]
    },
    {
      "cell_type": "markdown",
      "metadata": {
        "id": "7dywxDkHFKnI",
        "colab_type": "text"
      },
      "source": [
        "## Hierarchical Softmax\n",
        "* Can speed up training 25-50X with small accuracy loss (Sebastian Ruder)\n",
        "* Negative samples are predetermined using a Huffman encoding\n",
        "* Huffman encoding models the data into a binary tree structure where:\n",
        "  * Frequent items are stored closer the root\n",
        "  * Infrequent terms are stored deeper\n",
        "  * Traversing child nodes provides the negative samples\n",
        "* Hierarchical Softmax \n",
        "  * Think tree where each leaf is a class of softmax\n",
        "  * Avoid computing the probability distribution over all classes \n",
        "  * Instead compute the probability of a single given class given an input vector\n",
        "* Huffman Post: http://www.trevorsimonton.com/blog/2016/12/15/huffman-tree-in-word2vec.html\n",
        "* Hierarchical Softmax https://www.youtube.com/watch?v=B95LTf2rVWM\n",
        "* Great post from Sebastian Ruder on implementing Word Embeddings and SoftMax https://ruder.io/word-embeddings-softmax/\n",
        "\n",
        "![alt text](http://www.trevorsimonton.com/assets/posts/hufftree/out.png)"
      ]
    },
    {
      "cell_type": "markdown",
      "metadata": {
        "id": "5thYTbnGaP0G",
        "colab_type": "text"
      },
      "source": [
        "# Comparison\n",
        "* SkipGram\n",
        "  * Smaller training data (generates more examples)\n",
        "  * Better with rare words\n",
        "  * Slower training time (window size affects number of examples)\n",
        "* CBOW\n",
        "  * Larger training data\n",
        "  * Better with frequent words\n",
        "  * Better with syntax (play, plays, playing)\n",
        "\n"
      ]
    },
    {
      "cell_type": "markdown",
      "metadata": {
        "id": "Bh8vbKkyp-cf",
        "colab_type": "text"
      },
      "source": [
        "# Gensim\n",
        "* Open source project from RaRe Technologies (https://radimrehurek.com/gensim/)\n",
        "* Brown Corpus (https://en.wikipedia.org/wiki/Brown_Corpus)\n",
        "* Efficient at building word2vec models\n",
        "* Training options:\n",
        "  * min_count : minimum frequency to be included (default 5)\n",
        "  * size : number of dimensions in the embedding\n",
        "  * workers : parallelization (only if you have installed Cython)"
      ]
    },
    {
      "cell_type": "code",
      "metadata": {
        "id": "4U9uwWaOpwW4",
        "colab_type": "code",
        "colab": {
          "base_uri": "https://localhost:8080/",
          "height": 51
        },
        "outputId": "fa88158a-4567-420f-ee8f-48bb9f4d5b39"
      },
      "source": [
        "brown = nltk.download('brown')"
      ],
      "execution_count": 258,
      "outputs": [
        {
          "output_type": "stream",
          "text": [
            "[nltk_data] Downloading package brown to /root/nltk_data...\n",
            "[nltk_data]   Package brown is already up-to-date!\n"
          ],
          "name": "stdout"
        }
      ]
    },
    {
      "cell_type": "code",
      "metadata": {
        "id": "YvaBbC9NqdmP",
        "colab_type": "code",
        "colab": {
          "base_uri": "https://localhost:8080/",
          "height": 34
        },
        "outputId": "b28bc459-7276-4c3a-9541-77ec994b2b8f"
      },
      "source": [
        "nltk.corpus.brown.words()"
      ],
      "execution_count": 259,
      "outputs": [
        {
          "output_type": "execute_result",
          "data": {
            "text/plain": [
              "['The', 'Fulton', 'County', 'Grand', 'Jury', 'said', ...]"
            ]
          },
          "metadata": {
            "tags": []
          },
          "execution_count": 259
        }
      ]
    },
    {
      "cell_type": "code",
      "metadata": {
        "id": "HylHFYzS3J-G",
        "colab_type": "code",
        "colab": {
          "base_uri": "https://localhost:8080/",
          "height": 629
        },
        "outputId": "774a7b47-0808-4501-c672-7e027674298f"
      },
      "source": [
        "nltk.corpus.brown.sents()[100]"
      ],
      "execution_count": 260,
      "outputs": [
        {
          "output_type": "execute_result",
          "data": {
            "text/plain": [
              "['Daniel',\n",
              " 'personally',\n",
              " 'led',\n",
              " 'the',\n",
              " 'fight',\n",
              " 'for',\n",
              " 'the',\n",
              " 'measure',\n",
              " ',',\n",
              " 'which',\n",
              " 'he',\n",
              " 'had',\n",
              " 'watered',\n",
              " 'down',\n",
              " 'considerably',\n",
              " 'since',\n",
              " 'its',\n",
              " 'rejection',\n",
              " 'by',\n",
              " 'two',\n",
              " 'previous',\n",
              " 'Legislatures',\n",
              " ',',\n",
              " 'in',\n",
              " 'a',\n",
              " 'public',\n",
              " 'hearing',\n",
              " 'before',\n",
              " 'the',\n",
              " 'House',\n",
              " 'Committee',\n",
              " 'on',\n",
              " 'Revenue',\n",
              " 'and',\n",
              " 'Taxation',\n",
              " '.']"
            ]
          },
          "metadata": {
            "tags": []
          },
          "execution_count": 260
        }
      ]
    },
    {
      "cell_type": "code",
      "metadata": {
        "id": "gmQUDZK34VAl",
        "colab_type": "code",
        "colab": {}
      },
      "source": [
        "brown_model = Word2Vec(BrownCorpus('/root/nltk_data/corpora/brown/'))"
      ],
      "execution_count": 0,
      "outputs": []
    },
    {
      "cell_type": "code",
      "metadata": {
        "id": "zGn-SgQ3woyH",
        "colab_type": "code",
        "colab": {
          "base_uri": "https://localhost:8080/",
          "height": 34
        },
        "outputId": "3605ce21-e8a7-4c23-b850-faac56ab68b7"
      },
      "source": [
        "print(f'Size {len(brown_model.wv.vocab)}')"
      ],
      "execution_count": 261,
      "outputs": [
        {
          "output_type": "stream",
          "text": [
            "Size 15079\n"
          ],
          "name": "stdout"
        }
      ]
    },
    {
      "cell_type": "markdown",
      "metadata": {
        "id": "59Wt35i7HPtD",
        "colab_type": "text"
      },
      "source": [
        "# Applications\n",
        "\n",
        "## Transfer Learning\n",
        "  * Download pretrained models\n",
        "  * Trained over large but different corpora\n",
        "  * Different embedding sizes\n",
        "  * https://radimrehurek.com/gensim/auto_examples/howtos/run_downloader_api.html\n",
        "  * https://github.com/RaRe-Technologies/gensim-data\n",
        "\n"
      ]
    },
    {
      "cell_type": "code",
      "metadata": {
        "id": "mUslHxkJPVRd",
        "colab_type": "code",
        "colab": {
          "base_uri": "https://localhost:8080/",
          "height": 830
        },
        "outputId": "ad4908e6-c03d-47e2-e082-8546628a2042"
      },
      "source": [
        "info = api.info()\n",
        "pd.DataFrame(info)"
      ],
      "execution_count": 4,
      "outputs": [
        {
          "output_type": "execute_result",
          "data": {
            "text/html": [
              "<div>\n",
              "<style scoped>\n",
              "    .dataframe tbody tr th:only-of-type {\n",
              "        vertical-align: middle;\n",
              "    }\n",
              "\n",
              "    .dataframe tbody tr th {\n",
              "        vertical-align: top;\n",
              "    }\n",
              "\n",
              "    .dataframe thead th {\n",
              "        text-align: right;\n",
              "    }\n",
              "</style>\n",
              "<table border=\"1\" class=\"dataframe\">\n",
              "  <thead>\n",
              "    <tr style=\"text-align: right;\">\n",
              "      <th></th>\n",
              "      <th>corpora</th>\n",
              "      <th>models</th>\n",
              "    </tr>\n",
              "  </thead>\n",
              "  <tbody>\n",
              "    <tr>\n",
              "      <th>semeval-2016-2017-task3-subtaskBC</th>\n",
              "      <td>{'num_records': -1, 'record_format': 'dict', '...</td>\n",
              "      <td>NaN</td>\n",
              "    </tr>\n",
              "    <tr>\n",
              "      <th>semeval-2016-2017-task3-subtaskA-unannotated</th>\n",
              "      <td>{'num_records': 189941, 'record_format': 'dict...</td>\n",
              "      <td>NaN</td>\n",
              "    </tr>\n",
              "    <tr>\n",
              "      <th>patent-2017</th>\n",
              "      <td>{'num_records': 353197, 'record_format': 'dict...</td>\n",
              "      <td>NaN</td>\n",
              "    </tr>\n",
              "    <tr>\n",
              "      <th>quora-duplicate-questions</th>\n",
              "      <td>{'num_records': 404290, 'record_format': 'dict...</td>\n",
              "      <td>NaN</td>\n",
              "    </tr>\n",
              "    <tr>\n",
              "      <th>wiki-english-20171001</th>\n",
              "      <td>{'num_records': 4924894, 'record_format': 'dic...</td>\n",
              "      <td>NaN</td>\n",
              "    </tr>\n",
              "    <tr>\n",
              "      <th>text8</th>\n",
              "      <td>{'num_records': 1701, 'record_format': 'list o...</td>\n",
              "      <td>NaN</td>\n",
              "    </tr>\n",
              "    <tr>\n",
              "      <th>fake-news</th>\n",
              "      <td>{'num_records': 12999, 'record_format': 'dict'...</td>\n",
              "      <td>NaN</td>\n",
              "    </tr>\n",
              "    <tr>\n",
              "      <th>20-newsgroups</th>\n",
              "      <td>{'num_records': 18846, 'record_format': 'dict'...</td>\n",
              "      <td>NaN</td>\n",
              "    </tr>\n",
              "    <tr>\n",
              "      <th>__testing_matrix-synopsis</th>\n",
              "      <td>{'description': '[THIS IS ONLY FOR TESTING] Sy...</td>\n",
              "      <td>NaN</td>\n",
              "    </tr>\n",
              "    <tr>\n",
              "      <th>__testing_multipart-matrix-synopsis</th>\n",
              "      <td>{'description': '[THIS IS ONLY FOR TESTING] Sy...</td>\n",
              "      <td>NaN</td>\n",
              "    </tr>\n",
              "    <tr>\n",
              "      <th>fasttext-wiki-news-subwords-300</th>\n",
              "      <td>NaN</td>\n",
              "      <td>{'num_records': 999999, 'file_size': 100500711...</td>\n",
              "    </tr>\n",
              "    <tr>\n",
              "      <th>conceptnet-numberbatch-17-06-300</th>\n",
              "      <td>NaN</td>\n",
              "      <td>{'num_records': 1917247, 'file_size': 12254975...</td>\n",
              "    </tr>\n",
              "    <tr>\n",
              "      <th>word2vec-ruscorpora-300</th>\n",
              "      <td>NaN</td>\n",
              "      <td>{'num_records': 184973, 'file_size': 208427381...</td>\n",
              "    </tr>\n",
              "    <tr>\n",
              "      <th>word2vec-google-news-300</th>\n",
              "      <td>NaN</td>\n",
              "      <td>{'num_records': 3000000, 'file_size': 17435638...</td>\n",
              "    </tr>\n",
              "    <tr>\n",
              "      <th>glove-wiki-gigaword-50</th>\n",
              "      <td>NaN</td>\n",
              "      <td>{'num_records': 400000, 'file_size': 69182535,...</td>\n",
              "    </tr>\n",
              "    <tr>\n",
              "      <th>glove-wiki-gigaword-100</th>\n",
              "      <td>NaN</td>\n",
              "      <td>{'num_records': 400000, 'file_size': 134300434...</td>\n",
              "    </tr>\n",
              "    <tr>\n",
              "      <th>glove-wiki-gigaword-200</th>\n",
              "      <td>NaN</td>\n",
              "      <td>{'num_records': 400000, 'file_size': 264336934...</td>\n",
              "    </tr>\n",
              "    <tr>\n",
              "      <th>glove-wiki-gigaword-300</th>\n",
              "      <td>NaN</td>\n",
              "      <td>{'num_records': 400000, 'file_size': 394362229...</td>\n",
              "    </tr>\n",
              "    <tr>\n",
              "      <th>glove-twitter-25</th>\n",
              "      <td>NaN</td>\n",
              "      <td>{'num_records': 1193514, 'file_size': 10988500...</td>\n",
              "    </tr>\n",
              "    <tr>\n",
              "      <th>glove-twitter-50</th>\n",
              "      <td>NaN</td>\n",
              "      <td>{'num_records': 1193514, 'file_size': 20921693...</td>\n",
              "    </tr>\n",
              "    <tr>\n",
              "      <th>glove-twitter-100</th>\n",
              "      <td>NaN</td>\n",
              "      <td>{'num_records': 1193514, 'file_size': 40593299...</td>\n",
              "    </tr>\n",
              "    <tr>\n",
              "      <th>glove-twitter-200</th>\n",
              "      <td>NaN</td>\n",
              "      <td>{'num_records': 1193514, 'file_size': 79537310...</td>\n",
              "    </tr>\n",
              "    <tr>\n",
              "      <th>__testing_word2vec-matrix-synopsis</th>\n",
              "      <td>NaN</td>\n",
              "      <td>{'description': '[THIS IS ONLY FOR TESTING] Wo...</td>\n",
              "    </tr>\n",
              "  </tbody>\n",
              "</table>\n",
              "</div>"
            ],
            "text/plain": [
              "                                                                                        corpora                                             models\n",
              "semeval-2016-2017-task3-subtaskBC             {'num_records': -1, 'record_format': 'dict', '...                                                NaN\n",
              "semeval-2016-2017-task3-subtaskA-unannotated  {'num_records': 189941, 'record_format': 'dict...                                                NaN\n",
              "patent-2017                                   {'num_records': 353197, 'record_format': 'dict...                                                NaN\n",
              "quora-duplicate-questions                     {'num_records': 404290, 'record_format': 'dict...                                                NaN\n",
              "wiki-english-20171001                         {'num_records': 4924894, 'record_format': 'dic...                                                NaN\n",
              "text8                                         {'num_records': 1701, 'record_format': 'list o...                                                NaN\n",
              "fake-news                                     {'num_records': 12999, 'record_format': 'dict'...                                                NaN\n",
              "20-newsgroups                                 {'num_records': 18846, 'record_format': 'dict'...                                                NaN\n",
              "__testing_matrix-synopsis                     {'description': '[THIS IS ONLY FOR TESTING] Sy...                                                NaN\n",
              "__testing_multipart-matrix-synopsis           {'description': '[THIS IS ONLY FOR TESTING] Sy...                                                NaN\n",
              "fasttext-wiki-news-subwords-300                                                             NaN  {'num_records': 999999, 'file_size': 100500711...\n",
              "conceptnet-numberbatch-17-06-300                                                            NaN  {'num_records': 1917247, 'file_size': 12254975...\n",
              "word2vec-ruscorpora-300                                                                     NaN  {'num_records': 184973, 'file_size': 208427381...\n",
              "word2vec-google-news-300                                                                    NaN  {'num_records': 3000000, 'file_size': 17435638...\n",
              "glove-wiki-gigaword-50                                                                      NaN  {'num_records': 400000, 'file_size': 69182535,...\n",
              "glove-wiki-gigaword-100                                                                     NaN  {'num_records': 400000, 'file_size': 134300434...\n",
              "glove-wiki-gigaword-200                                                                     NaN  {'num_records': 400000, 'file_size': 264336934...\n",
              "glove-wiki-gigaword-300                                                                     NaN  {'num_records': 400000, 'file_size': 394362229...\n",
              "glove-twitter-25                                                                            NaN  {'num_records': 1193514, 'file_size': 10988500...\n",
              "glove-twitter-50                                                                            NaN  {'num_records': 1193514, 'file_size': 20921693...\n",
              "glove-twitter-100                                                                           NaN  {'num_records': 1193514, 'file_size': 40593299...\n",
              "glove-twitter-200                                                                           NaN  {'num_records': 1193514, 'file_size': 79537310...\n",
              "__testing_word2vec-matrix-synopsis                                                          NaN  {'description': '[THIS IS ONLY FOR TESTING] Wo..."
            ]
          },
          "metadata": {
            "tags": []
          },
          "execution_count": 4
        }
      ]
    },
    {
      "cell_type": "markdown",
      "metadata": {
        "id": "NqqcmKOhNWXH",
        "colab_type": "text"
      },
      "source": [
        "## Embeddings\n",
        "* Rather than words as OHE which have no relationships\n",
        "* Use embedding before processing text through a RNN\n",
        "  * Lookup embedding of word\n",
        "  * Pass embedding into models\n"
      ]
    },
    {
      "cell_type": "code",
      "metadata": {
        "id": "oCQe9r1OHo6N",
        "colab_type": "code",
        "colab": {}
      },
      "source": [
        "VOCAB_SIZE = 10000\n",
        "EMBED_SIZE = 100\n",
        "MAX_LENGTH = 50\n",
        "\n",
        "lang_model = Sequential()\n",
        "lang_model.add(Embedding(VOCAB_SIZE, EMBED_SIZE, input_length=MAX_LENGTH))\n",
        "lang_model.add(LSTM(units=32))\n",
        "lang_model.add(Dense(1, activation='sigmoid'))\n",
        "\n",
        "lang_model.compile(loss='binary_crossentropy', optimizer='adam', metrics=['accuracy'])"
      ],
      "execution_count": 0,
      "outputs": []
    },
    {
      "cell_type": "code",
      "metadata": {
        "id": "IJVYYjcHPz03",
        "colab_type": "code",
        "colab": {
          "base_uri": "https://localhost:8080/",
          "height": 255
        },
        "outputId": "8d640185-5317-4bc8-b50e-d1d99760ba4b"
      },
      "source": [
        "lang_model.summary()"
      ],
      "execution_count": 6,
      "outputs": [
        {
          "output_type": "stream",
          "text": [
            "Model: \"sequential\"\n",
            "_________________________________________________________________\n",
            "Layer (type)                 Output Shape              Param #   \n",
            "=================================================================\n",
            "embedding (Embedding)        (None, 50, 100)           1000000   \n",
            "_________________________________________________________________\n",
            "lstm (LSTM)                  (None, 32)                17024     \n",
            "_________________________________________________________________\n",
            "dense (Dense)                (None, 1)                 33        \n",
            "=================================================================\n",
            "Total params: 1,017,057\n",
            "Trainable params: 1,017,057\n",
            "Non-trainable params: 0\n",
            "_________________________________________________________________\n"
          ],
          "name": "stdout"
        }
      ]
    },
    {
      "cell_type": "code",
      "metadata": {
        "id": "CRMZtiZ5P22E",
        "colab_type": "code",
        "colab": {
          "base_uri": "https://localhost:8080/",
          "height": 422
        },
        "outputId": "8c196fda-d089-40c2-9eaf-b9ba4e730b3b"
      },
      "source": [
        "tf.keras.utils.plot_model(lang_model, show_shapes=True)"
      ],
      "execution_count": 8,
      "outputs": [
        {
          "output_type": "execute_result",
          "data": {
            "image/png": "[encoded data removed]",
            "text/plain": [
              "<IPython.core.display.Image object>"
            ]
          },
          "metadata": {
            "tags": []
          },
          "execution_count": 8
        }
      ]
    },
    {
      "cell_type": "markdown",
      "metadata": {
        "id": "ln96w-bfNNE_",
        "colab_type": "text"
      },
      "source": [
        "## *2Vec\n",
        "* Treat any sequence of data as a \"Word2Vec\" by training a CBOW or SkipGram model\n",
        "  * (Batter/Pitcher)2Vec http://www.sloansportsconference.com/wp-content/uploads/2018/02/1008.pdf\n",
        "  * Molecules mol2vec https://github.com/samoturk/mol2vec\n",
        "  * DNA dna2Vec https://arxiv.org/pdf/1701.06279.pdf"
      ]
    },
    {
      "cell_type": "code",
      "metadata": {
        "id": "d2yae0S-NQXw",
        "colab_type": "code",
        "colab": {}
      },
      "source": [
        ""
      ],
      "execution_count": 0,
      "outputs": []
    }
  ]
}