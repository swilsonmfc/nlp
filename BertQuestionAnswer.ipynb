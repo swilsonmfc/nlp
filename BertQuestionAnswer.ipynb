{
  "nbformat": 4,
  "nbformat_minor": 0,
  "metadata": {
    "colab": {
      "name": "BertQuestionAnswer.ipynb",
      "provenance": [],
      "collapsed_sections": [],
      "toc_visible": true,
      "authorship_tag": "ABX9TyNb6zOdKo5P3I5P2wLwHFwx",
      "include_colab_link": true
    },
    "kernelspec": {
      "name": "python3",
      "display_name": "Python 3"
    },
    "widgets": {
      "application/vnd.jupyter.widget-state+json": {
        "1a8ca03869de4cfdaf3583babea50060": {
          "model_module": "@jupyter-widgets/controls",
          "model_name": "HBoxModel",
          "state": {
            "_view_name": "HBoxView",
            "_dom_classes": [],
            "_model_name": "HBoxModel",
            "_view_module": "@jupyter-widgets/controls",
            "_model_module_version": "1.5.0",
            "_view_count": null,
            "_view_module_version": "1.5.0",
            "box_style": "",
            "layout": "IPY_MODEL_d483bea9ba4d4e09b887337b01e3ec14",
            "_model_module": "@jupyter-widgets/controls",
            "children": [
              "IPY_MODEL_95419e1a8938464297e27e8d1377eb58",
              "IPY_MODEL_c9b761e86bc146499b4a287fc807910c"
            ]
          }
        },
        "d483bea9ba4d4e09b887337b01e3ec14": {
          "model_module": "@jupyter-widgets/base",
          "model_name": "LayoutModel",
          "state": {
            "_view_name": "LayoutView",
            "grid_template_rows": null,
            "right": null,
            "justify_content": null,
            "_view_module": "@jupyter-widgets/base",
            "overflow": null,
            "_model_module_version": "1.2.0",
            "_view_count": null,
            "flex_flow": null,
            "width": null,
            "min_width": null,
            "border": null,
            "align_items": null,
            "bottom": null,
            "_model_module": "@jupyter-widgets/base",
            "top": null,
            "grid_column": null,
            "overflow_y": null,
            "overflow_x": null,
            "grid_auto_flow": null,
            "grid_area": null,
            "grid_template_columns": null,
            "flex": null,
            "_model_name": "LayoutModel",
            "justify_items": null,
            "grid_row": null,
            "max_height": null,
            "align_content": null,
            "visibility": null,
            "align_self": null,
            "height": null,
            "min_height": null,
            "padding": null,
            "grid_auto_rows": null,
            "grid_gap": null,
            "max_width": null,
            "order": null,
            "_view_module_version": "1.2.0",
            "grid_template_areas": null,
            "object_position": null,
            "object_fit": null,
            "grid_auto_columns": null,
            "margin": null,
            "display": null,
            "left": null
          }
        },
        "95419e1a8938464297e27e8d1377eb58": {
          "model_module": "@jupyter-widgets/controls",
          "model_name": "FloatProgressModel",
          "state": {
            "_view_name": "ProgressView",
            "style": "IPY_MODEL_81a48d43084f440d97c92d84e4047966",
            "_dom_classes": [],
            "description": "Downloading: 100%",
            "_model_name": "FloatProgressModel",
            "bar_style": "success",
            "max": 443,
            "_view_module": "@jupyter-widgets/controls",
            "_model_module_version": "1.5.0",
            "value": 443,
            "_view_count": null,
            "_view_module_version": "1.5.0",
            "orientation": "horizontal",
            "min": 0,
            "description_tooltip": null,
            "_model_module": "@jupyter-widgets/controls",
            "layout": "IPY_MODEL_92e773e91b31464c9bf1081ff6582e4f"
          }
        },
        "c9b761e86bc146499b4a287fc807910c": {
          "model_module": "@jupyter-widgets/controls",
          "model_name": "HTMLModel",
          "state": {
            "_view_name": "HTMLView",
            "style": "IPY_MODEL_2844f95bec8342fd8d896fba51c08226",
            "_dom_classes": [],
            "description": "",
            "_model_name": "HTMLModel",
            "placeholder": "​",
            "_view_module": "@jupyter-widgets/controls",
            "_model_module_version": "1.5.0",
            "value": " 443/443 [00:00&lt;00:00, 3.16kB/s]",
            "_view_count": null,
            "_view_module_version": "1.5.0",
            "description_tooltip": null,
            "_model_module": "@jupyter-widgets/controls",
            "layout": "IPY_MODEL_56e680a3a495417da1a0cbaa8cd7d8f9"
          }
        },
        "81a48d43084f440d97c92d84e4047966": {
          "model_module": "@jupyter-widgets/controls",
          "model_name": "ProgressStyleModel",
          "state": {
            "_view_name": "StyleView",
            "_model_name": "ProgressStyleModel",
            "description_width": "initial",
            "_view_module": "@jupyter-widgets/base",
            "_model_module_version": "1.5.0",
            "_view_count": null,
            "_view_module_version": "1.2.0",
            "bar_color": null,
            "_model_module": "@jupyter-widgets/controls"
          }
        },
        "92e773e91b31464c9bf1081ff6582e4f": {
          "model_module": "@jupyter-widgets/base",
          "model_name": "LayoutModel",
          "state": {
            "_view_name": "LayoutView",
            "grid_template_rows": null,
            "right": null,
            "justify_content": null,
            "_view_module": "@jupyter-widgets/base",
            "overflow": null,
            "_model_module_version": "1.2.0",
            "_view_count": null,
            "flex_flow": null,
            "width": null,
            "min_width": null,
            "border": null,
            "align_items": null,
            "bottom": null,
            "_model_module": "@jupyter-widgets/base",
            "top": null,
            "grid_column": null,
            "overflow_y": null,
            "overflow_x": null,
            "grid_auto_flow": null,
            "grid_area": null,
            "grid_template_columns": null,
            "flex": null,
            "_model_name": "LayoutModel",
            "justify_items": null,
            "grid_row": null,
            "max_height": null,
            "align_content": null,
            "visibility": null,
            "align_self": null,
            "height": null,
            "min_height": null,
            "padding": null,
            "grid_auto_rows": null,
            "grid_gap": null,
            "max_width": null,
            "order": null,
            "_view_module_version": "1.2.0",
            "grid_template_areas": null,
            "object_position": null,
            "object_fit": null,
            "grid_auto_columns": null,
            "margin": null,
            "display": null,
            "left": null
          }
        },
        "2844f95bec8342fd8d896fba51c08226": {
          "model_module": "@jupyter-widgets/controls",
          "model_name": "DescriptionStyleModel",
          "state": {
            "_view_name": "StyleView",
            "_model_name": "DescriptionStyleModel",
            "description_width": "",
            "_view_module": "@jupyter-widgets/base",
            "_model_module_version": "1.5.0",
            "_view_count": null,
            "_view_module_version": "1.2.0",
            "_model_module": "@jupyter-widgets/controls"
          }
        },
        "56e680a3a495417da1a0cbaa8cd7d8f9": {
          "model_module": "@jupyter-widgets/base",
          "model_name": "LayoutModel",
          "state": {
            "_view_name": "LayoutView",
            "grid_template_rows": null,
            "right": null,
            "justify_content": null,
            "_view_module": "@jupyter-widgets/base",
            "overflow": null,
            "_model_module_version": "1.2.0",
            "_view_count": null,
            "flex_flow": null,
            "width": null,
            "min_width": null,
            "border": null,
            "align_items": null,
            "bottom": null,
            "_model_module": "@jupyter-widgets/base",
            "top": null,
            "grid_column": null,
            "overflow_y": null,
            "overflow_x": null,
            "grid_auto_flow": null,
            "grid_area": null,
            "grid_template_columns": null,
            "flex": null,
            "_model_name": "LayoutModel",
            "justify_items": null,
            "grid_row": null,
            "max_height": null,
            "align_content": null,
            "visibility": null,
            "align_self": null,
            "height": null,
            "min_height": null,
            "padding": null,
            "grid_auto_rows": null,
            "grid_gap": null,
            "max_width": null,
            "order": null,
            "_view_module_version": "1.2.0",
            "grid_template_areas": null,
            "object_position": null,
            "object_fit": null,
            "grid_auto_columns": null,
            "margin": null,
            "display": null,
            "left": null
          }
        },
        "410e100a8f334e28b551f1c5fc6ccef8": {
          "model_module": "@jupyter-widgets/controls",
          "model_name": "HBoxModel",
          "state": {
            "_view_name": "HBoxView",
            "_dom_classes": [],
            "_model_name": "HBoxModel",
            "_view_module": "@jupyter-widgets/controls",
            "_model_module_version": "1.5.0",
            "_view_count": null,
            "_view_module_version": "1.5.0",
            "box_style": "",
            "layout": "IPY_MODEL_a8e4ab88731a4d1992b3f170716d353e",
            "_model_module": "@jupyter-widgets/controls",
            "children": [
              "IPY_MODEL_a42807739c8f47cb969738f4c459fcc4",
              "IPY_MODEL_25e684066f204ac28a2ebe1383d51470"
            ]
          }
        },
        "a8e4ab88731a4d1992b3f170716d353e": {
          "model_module": "@jupyter-widgets/base",
          "model_name": "LayoutModel",
          "state": {
            "_view_name": "LayoutView",
            "grid_template_rows": null,
            "right": null,
            "justify_content": null,
            "_view_module": "@jupyter-widgets/base",
            "overflow": null,
            "_model_module_version": "1.2.0",
            "_view_count": null,
            "flex_flow": null,
            "width": null,
            "min_width": null,
            "border": null,
            "align_items": null,
            "bottom": null,
            "_model_module": "@jupyter-widgets/base",
            "top": null,
            "grid_column": null,
            "overflow_y": null,
            "overflow_x": null,
            "grid_auto_flow": null,
            "grid_area": null,
            "grid_template_columns": null,
            "flex": null,
            "_model_name": "LayoutModel",
            "justify_items": null,
            "grid_row": null,
            "max_height": null,
            "align_content": null,
            "visibility": null,
            "align_self": null,
            "height": null,
            "min_height": null,
            "padding": null,
            "grid_auto_rows": null,
            "grid_gap": null,
            "max_width": null,
            "order": null,
            "_view_module_version": "1.2.0",
            "grid_template_areas": null,
            "object_position": null,
            "object_fit": null,
            "grid_auto_columns": null,
            "margin": null,
            "display": null,
            "left": null
          }
        },
        "a42807739c8f47cb969738f4c459fcc4": {
          "model_module": "@jupyter-widgets/controls",
          "model_name": "FloatProgressModel",
          "state": {
            "_view_name": "ProgressView",
            "style": "IPY_MODEL_1866e554e3564d029cc1b230b6d8e7bf",
            "_dom_classes": [],
            "description": "Downloading: 100%",
            "_model_name": "FloatProgressModel",
            "bar_style": "success",
            "max": 1340675298,
            "_view_module": "@jupyter-widgets/controls",
            "_model_module_version": "1.5.0",
            "value": 1340675298,
            "_view_count": null,
            "_view_module_version": "1.5.0",
            "orientation": "horizontal",
            "min": 0,
            "description_tooltip": null,
            "_model_module": "@jupyter-widgets/controls",
            "layout": "IPY_MODEL_d26baf31b4924a0da288c70ea0307379"
          }
        },
        "25e684066f204ac28a2ebe1383d51470": {
          "model_module": "@jupyter-widgets/controls",
          "model_name": "HTMLModel",
          "state": {
            "_view_name": "HTMLView",
            "style": "IPY_MODEL_18666640f9b04d2d937781448a43f22c",
            "_dom_classes": [],
            "description": "",
            "_model_name": "HTMLModel",
            "placeholder": "​",
            "_view_module": "@jupyter-widgets/controls",
            "_model_module_version": "1.5.0",
            "value": " 1.34G/1.34G [00:25&lt;00:00, 53.6MB/s]",
            "_view_count": null,
            "_view_module_version": "1.5.0",
            "description_tooltip": null,
            "_model_module": "@jupyter-widgets/controls",
            "layout": "IPY_MODEL_597ae79b7d7a40be9480d930da931dad"
          }
        },
        "1866e554e3564d029cc1b230b6d8e7bf": {
          "model_module": "@jupyter-widgets/controls",
          "model_name": "ProgressStyleModel",
          "state": {
            "_view_name": "StyleView",
            "_model_name": "ProgressStyleModel",
            "description_width": "initial",
            "_view_module": "@jupyter-widgets/base",
            "_model_module_version": "1.5.0",
            "_view_count": null,
            "_view_module_version": "1.2.0",
            "bar_color": null,
            "_model_module": "@jupyter-widgets/controls"
          }
        },
        "d26baf31b4924a0da288c70ea0307379": {
          "model_module": "@jupyter-widgets/base",
          "model_name": "LayoutModel",
          "state": {
            "_view_name": "LayoutView",
            "grid_template_rows": null,
            "right": null,
            "justify_content": null,
            "_view_module": "@jupyter-widgets/base",
            "overflow": null,
            "_model_module_version": "1.2.0",
            "_view_count": null,
            "flex_flow": null,
            "width": null,
            "min_width": null,
            "border": null,
            "align_items": null,
            "bottom": null,
            "_model_module": "@jupyter-widgets/base",
            "top": null,
            "grid_column": null,
            "overflow_y": null,
            "overflow_x": null,
            "grid_auto_flow": null,
            "grid_area": null,
            "grid_template_columns": null,
            "flex": null,
            "_model_name": "LayoutModel",
            "justify_items": null,
            "grid_row": null,
            "max_height": null,
            "align_content": null,
            "visibility": null,
            "align_self": null,
            "height": null,
            "min_height": null,
            "padding": null,
            "grid_auto_rows": null,
            "grid_gap": null,
            "max_width": null,
            "order": null,
            "_view_module_version": "1.2.0",
            "grid_template_areas": null,
            "object_position": null,
            "object_fit": null,
            "grid_auto_columns": null,
            "margin": null,
            "display": null,
            "left": null
          }
        },
        "18666640f9b04d2d937781448a43f22c": {
          "model_module": "@jupyter-widgets/controls",
          "model_name": "DescriptionStyleModel",
          "state": {
            "_view_name": "StyleView",
            "_model_name": "DescriptionStyleModel",
            "description_width": "",
            "_view_module": "@jupyter-widgets/base",
            "_model_module_version": "1.5.0",
            "_view_count": null,
            "_view_module_version": "1.2.0",
            "_model_module": "@jupyter-widgets/controls"
          }
        },
        "597ae79b7d7a40be9480d930da931dad": {
          "model_module": "@jupyter-widgets/base",
          "model_name": "LayoutModel",
          "state": {
            "_view_name": "LayoutView",
            "grid_template_rows": null,
            "right": null,
            "justify_content": null,
            "_view_module": "@jupyter-widgets/base",
            "overflow": null,
            "_model_module_version": "1.2.0",
            "_view_count": null,
            "flex_flow": null,
            "width": null,
            "min_width": null,
            "border": null,
            "align_items": null,
            "bottom": null,
            "_model_module": "@jupyter-widgets/base",
            "top": null,
            "grid_column": null,
            "overflow_y": null,
            "overflow_x": null,
            "grid_auto_flow": null,
            "grid_area": null,
            "grid_template_columns": null,
            "flex": null,
            "_model_name": "LayoutModel",
            "justify_items": null,
            "grid_row": null,
            "max_height": null,
            "align_content": null,
            "visibility": null,
            "align_self": null,
            "height": null,
            "min_height": null,
            "padding": null,
            "grid_auto_rows": null,
            "grid_gap": null,
            "max_width": null,
            "order": null,
            "_view_module_version": "1.2.0",
            "grid_template_areas": null,
            "object_position": null,
            "object_fit": null,
            "grid_auto_columns": null,
            "margin": null,
            "display": null,
            "left": null
          }
        },
        "10e9ff647283484280146ae1d53da295": {
          "model_module": "@jupyter-widgets/controls",
          "model_name": "HBoxModel",
          "state": {
            "_view_name": "HBoxView",
            "_dom_classes": [],
            "_model_name": "HBoxModel",
            "_view_module": "@jupyter-widgets/controls",
            "_model_module_version": "1.5.0",
            "_view_count": null,
            "_view_module_version": "1.5.0",
            "box_style": "",
            "layout": "IPY_MODEL_9ec6aa75f21b49378fadf08a5a644466",
            "_model_module": "@jupyter-widgets/controls",
            "children": [
              "IPY_MODEL_5b96d832ec754584bf70fb7c05a0ec82",
              "IPY_MODEL_a1e9169ae913469aa972402aa102a4b7"
            ]
          }
        },
        "9ec6aa75f21b49378fadf08a5a644466": {
          "model_module": "@jupyter-widgets/base",
          "model_name": "LayoutModel",
          "state": {
            "_view_name": "LayoutView",
            "grid_template_rows": null,
            "right": null,
            "justify_content": null,
            "_view_module": "@jupyter-widgets/base",
            "overflow": null,
            "_model_module_version": "1.2.0",
            "_view_count": null,
            "flex_flow": null,
            "width": null,
            "min_width": null,
            "border": null,
            "align_items": null,
            "bottom": null,
            "_model_module": "@jupyter-widgets/base",
            "top": null,
            "grid_column": null,
            "overflow_y": null,
            "overflow_x": null,
            "grid_auto_flow": null,
            "grid_area": null,
            "grid_template_columns": null,
            "flex": null,
            "_model_name": "LayoutModel",
            "justify_items": null,
            "grid_row": null,
            "max_height": null,
            "align_content": null,
            "visibility": null,
            "align_self": null,
            "height": null,
            "min_height": null,
            "padding": null,
            "grid_auto_rows": null,
            "grid_gap": null,
            "max_width": null,
            "order": null,
            "_view_module_version": "1.2.0",
            "grid_template_areas": null,
            "object_position": null,
            "object_fit": null,
            "grid_auto_columns": null,
            "margin": null,
            "display": null,
            "left": null
          }
        },
        "5b96d832ec754584bf70fb7c05a0ec82": {
          "model_module": "@jupyter-widgets/controls",
          "model_name": "FloatProgressModel",
          "state": {
            "_view_name": "ProgressView",
            "style": "IPY_MODEL_0d9750168ad940638419c60d4e07ef1a",
            "_dom_classes": [],
            "description": "Downloading: 100%",
            "_model_name": "FloatProgressModel",
            "bar_style": "success",
            "max": 231508,
            "_view_module": "@jupyter-widgets/controls",
            "_model_module_version": "1.5.0",
            "value": 231508,
            "_view_count": null,
            "_view_module_version": "1.5.0",
            "orientation": "horizontal",
            "min": 0,
            "description_tooltip": null,
            "_model_module": "@jupyter-widgets/controls",
            "layout": "IPY_MODEL_4709efd978c748618aaccf8362ae52fd"
          }
        },
        "a1e9169ae913469aa972402aa102a4b7": {
          "model_module": "@jupyter-widgets/controls",
          "model_name": "HTMLModel",
          "state": {
            "_view_name": "HTMLView",
            "style": "IPY_MODEL_6810e25f87c04537a28e0b1c959407e7",
            "_dom_classes": [],
            "description": "",
            "_model_name": "HTMLModel",
            "placeholder": "​",
            "_view_module": "@jupyter-widgets/controls",
            "_model_module_version": "1.5.0",
            "value": " 232k/232k [00:00&lt;00:00, 731kB/s]",
            "_view_count": null,
            "_view_module_version": "1.5.0",
            "description_tooltip": null,
            "_model_module": "@jupyter-widgets/controls",
            "layout": "IPY_MODEL_ce8fc1ff547f498986bcf519d143437b"
          }
        },
        "0d9750168ad940638419c60d4e07ef1a": {
          "model_module": "@jupyter-widgets/controls",
          "model_name": "ProgressStyleModel",
          "state": {
            "_view_name": "StyleView",
            "_model_name": "ProgressStyleModel",
            "description_width": "initial",
            "_view_module": "@jupyter-widgets/base",
            "_model_module_version": "1.5.0",
            "_view_count": null,
            "_view_module_version": "1.2.0",
            "bar_color": null,
            "_model_module": "@jupyter-widgets/controls"
          }
        },
        "4709efd978c748618aaccf8362ae52fd": {
          "model_module": "@jupyter-widgets/base",
          "model_name": "LayoutModel",
          "state": {
            "_view_name": "LayoutView",
            "grid_template_rows": null,
            "right": null,
            "justify_content": null,
            "_view_module": "@jupyter-widgets/base",
            "overflow": null,
            "_model_module_version": "1.2.0",
            "_view_count": null,
            "flex_flow": null,
            "width": null,
            "min_width": null,
            "border": null,
            "align_items": null,
            "bottom": null,
            "_model_module": "@jupyter-widgets/base",
            "top": null,
            "grid_column": null,
            "overflow_y": null,
            "overflow_x": null,
            "grid_auto_flow": null,
            "grid_area": null,
            "grid_template_columns": null,
            "flex": null,
            "_model_name": "LayoutModel",
            "justify_items": null,
            "grid_row": null,
            "max_height": null,
            "align_content": null,
            "visibility": null,
            "align_self": null,
            "height": null,
            "min_height": null,
            "padding": null,
            "grid_auto_rows": null,
            "grid_gap": null,
            "max_width": null,
            "order": null,
            "_view_module_version": "1.2.0",
            "grid_template_areas": null,
            "object_position": null,
            "object_fit": null,
            "grid_auto_columns": null,
            "margin": null,
            "display": null,
            "left": null
          }
        },
        "6810e25f87c04537a28e0b1c959407e7": {
          "model_module": "@jupyter-widgets/controls",
          "model_name": "DescriptionStyleModel",
          "state": {
            "_view_name": "StyleView",
            "_model_name": "DescriptionStyleModel",
            "description_width": "",
            "_view_module": "@jupyter-widgets/base",
            "_model_module_version": "1.5.0",
            "_view_count": null,
            "_view_module_version": "1.2.0",
            "_model_module": "@jupyter-widgets/controls"
          }
        },
        "ce8fc1ff547f498986bcf519d143437b": {
          "model_module": "@jupyter-widgets/base",
          "model_name": "LayoutModel",
          "state": {
            "_view_name": "LayoutView",
            "grid_template_rows": null,
            "right": null,
            "justify_content": null,
            "_view_module": "@jupyter-widgets/base",
            "overflow": null,
            "_model_module_version": "1.2.0",
            "_view_count": null,
            "flex_flow": null,
            "width": null,
            "min_width": null,
            "border": null,
            "align_items": null,
            "bottom": null,
            "_model_module": "@jupyter-widgets/base",
            "top": null,
            "grid_column": null,
            "overflow_y": null,
            "overflow_x": null,
            "grid_auto_flow": null,
            "grid_area": null,
            "grid_template_columns": null,
            "flex": null,
            "_model_name": "LayoutModel",
            "justify_items": null,
            "grid_row": null,
            "max_height": null,
            "align_content": null,
            "visibility": null,
            "align_self": null,
            "height": null,
            "min_height": null,
            "padding": null,
            "grid_auto_rows": null,
            "grid_gap": null,
            "max_width": null,
            "order": null,
            "_view_module_version": "1.2.0",
            "grid_template_areas": null,
            "object_position": null,
            "object_fit": null,
            "grid_auto_columns": null,
            "margin": null,
            "display": null,
            "left": null
          }
        }
      }
    }
  },
  "cells": [
    {
      "cell_type": "markdown",
      "metadata": {
        "id": "view-in-github",
        "colab_type": "text"
      },
      "source": [
        "<a href=\"https://colab.research.google.com/github/swilsonmfc/nlp/blob/master/BertQuestionAnswer.ipynb\" target=\"_parent\"><img src=\"https://colab.research.google.com/assets/colab-badge.svg\" alt=\"Open In Colab\"/></a>"
      ]
    },
    {
      "cell_type": "markdown",
      "metadata": {
        "id": "yOszw0BKI1dj"
      },
      "source": [
        "# BERT Question - Answer\n",
        "\n",
        "![](https://garzaprotocol.com/wp-content/uploads/questions-answers.jpg)"
      ]
    },
    {
      "cell_type": "markdown",
      "metadata": {
        "id": "KcfXgcRXcZDy"
      },
      "source": [
        "# Setup"
      ]
    },
    {
      "cell_type": "code",
      "metadata": {
        "id": "caoCjxEzJWUQ",
        "outputId": "81b3f0c9-745d-432b-9229-0dbb2ec457a8",
        "colab": {
          "base_uri": "https://localhost:8080/"
        }
      },
      "source": [
        "!pip install transformers"
      ],
      "execution_count": 19,
      "outputs": [
        {
          "output_type": "stream",
          "text": [
            "Requirement already satisfied: transformers in /usr/local/lib/python3.6/dist-packages (3.3.1)\n",
            "Requirement already satisfied: requests in /usr/local/lib/python3.6/dist-packages (from transformers) (2.23.0)\n",
            "Requirement already satisfied: numpy in /usr/local/lib/python3.6/dist-packages (from transformers) (1.18.5)\n",
            "Requirement already satisfied: tqdm>=4.27 in /usr/local/lib/python3.6/dist-packages (from transformers) (4.41.1)\n",
            "Requirement already satisfied: sentencepiece!=0.1.92 in /usr/local/lib/python3.6/dist-packages (from transformers) (0.1.91)\n",
            "Requirement already satisfied: filelock in /usr/local/lib/python3.6/dist-packages (from transformers) (3.0.12)\n",
            "Requirement already satisfied: dataclasses; python_version < \"3.7\" in /usr/local/lib/python3.6/dist-packages (from transformers) (0.7)\n",
            "Requirement already satisfied: tokenizers==0.8.1.rc2 in /usr/local/lib/python3.6/dist-packages (from transformers) (0.8.1rc2)\n",
            "Requirement already satisfied: regex!=2019.12.17 in /usr/local/lib/python3.6/dist-packages (from transformers) (2019.12.20)\n",
            "Requirement already satisfied: sacremoses in /usr/local/lib/python3.6/dist-packages (from transformers) (0.0.43)\n",
            "Requirement already satisfied: packaging in /usr/local/lib/python3.6/dist-packages (from transformers) (20.4)\n",
            "Requirement already satisfied: idna<3,>=2.5 in /usr/local/lib/python3.6/dist-packages (from requests->transformers) (2.10)\n",
            "Requirement already satisfied: urllib3!=1.25.0,!=1.25.1,<1.26,>=1.21.1 in /usr/local/lib/python3.6/dist-packages (from requests->transformers) (1.24.3)\n",
            "Requirement already satisfied: chardet<4,>=3.0.2 in /usr/local/lib/python3.6/dist-packages (from requests->transformers) (3.0.4)\n",
            "Requirement already satisfied: certifi>=2017.4.17 in /usr/local/lib/python3.6/dist-packages (from requests->transformers) (2020.6.20)\n",
            "Requirement already satisfied: six in /usr/local/lib/python3.6/dist-packages (from sacremoses->transformers) (1.15.0)\n",
            "Requirement already satisfied: joblib in /usr/local/lib/python3.6/dist-packages (from sacremoses->transformers) (0.16.0)\n",
            "Requirement already satisfied: click in /usr/local/lib/python3.6/dist-packages (from sacremoses->transformers) (7.1.2)\n",
            "Requirement already satisfied: pyparsing>=2.0.2 in /usr/local/lib/python3.6/dist-packages (from packaging->transformers) (2.4.7)\n"
          ],
          "name": "stdout"
        }
      ]
    },
    {
      "cell_type": "code",
      "metadata": {
        "id": "XJdoPrqEQn6D",
        "outputId": "ae1b078e-3526-47d1-aae1-badc8cfbf868",
        "colab": {
          "base_uri": "https://localhost:8080/"
        }
      },
      "source": [
        "!pip install wikipedia"
      ],
      "execution_count": 20,
      "outputs": [
        {
          "output_type": "stream",
          "text": [
            "Requirement already satisfied: wikipedia in /usr/local/lib/python3.6/dist-packages (1.4.0)\n",
            "Requirement already satisfied: beautifulsoup4 in /usr/local/lib/python3.6/dist-packages (from wikipedia) (4.6.3)\n",
            "Requirement already satisfied: requests<3.0.0,>=2.0.0 in /usr/local/lib/python3.6/dist-packages (from wikipedia) (2.23.0)\n",
            "Requirement already satisfied: certifi>=2017.4.17 in /usr/local/lib/python3.6/dist-packages (from requests<3.0.0,>=2.0.0->wikipedia) (2020.6.20)\n",
            "Requirement already satisfied: idna<3,>=2.5 in /usr/local/lib/python3.6/dist-packages (from requests<3.0.0,>=2.0.0->wikipedia) (2.10)\n",
            "Requirement already satisfied: urllib3!=1.25.0,!=1.25.1,<1.26,>=1.21.1 in /usr/local/lib/python3.6/dist-packages (from requests<3.0.0,>=2.0.0->wikipedia) (1.24.3)\n",
            "Requirement already satisfied: chardet<4,>=3.0.2 in /usr/local/lib/python3.6/dist-packages (from requests<3.0.0,>=2.0.0->wikipedia) (3.0.4)\n"
          ],
          "name": "stdout"
        }
      ]
    },
    {
      "cell_type": "code",
      "metadata": {
        "id": "gBp1IB-GI0DU"
      },
      "source": [
        "import pandas as pd\n",
        "import numpy as np\n",
        "import matplotlib.pyplot as plt\n",
        "import seaborn as sns\n",
        "\n",
        "from transformers import BertTokenizer\n",
        "from transformers import BertForQuestionAnswering\n",
        "\n",
        "import torch\n",
        "import wikipedia\n",
        "import json\n",
        "import textwrap"
      ],
      "execution_count": 21,
      "outputs": []
    },
    {
      "cell_type": "markdown",
      "metadata": {
        "id": "awP7vxnOgXMS"
      },
      "source": [
        "# Download Models"
      ]
    },
    {
      "cell_type": "code",
      "metadata": {
        "id": "c8RTAwNVJbuK",
        "outputId": "faa207da-9ad3-44ee-dbb8-ee272ce3ce2b",
        "colab": {
          "base_uri": "https://localhost:8080/",
          "height": 115,
          "referenced_widgets": [
            "1a8ca03869de4cfdaf3583babea50060",
            "d483bea9ba4d4e09b887337b01e3ec14",
            "95419e1a8938464297e27e8d1377eb58",
            "c9b761e86bc146499b4a287fc807910c",
            "81a48d43084f440d97c92d84e4047966",
            "92e773e91b31464c9bf1081ff6582e4f",
            "2844f95bec8342fd8d896fba51c08226",
            "56e680a3a495417da1a0cbaa8cd7d8f9",
            "410e100a8f334e28b551f1c5fc6ccef8",
            "a8e4ab88731a4d1992b3f170716d353e",
            "a42807739c8f47cb969738f4c459fcc4",
            "25e684066f204ac28a2ebe1383d51470",
            "1866e554e3564d029cc1b230b6d8e7bf",
            "d26baf31b4924a0da288c70ea0307379",
            "18666640f9b04d2d937781448a43f22c",
            "597ae79b7d7a40be9480d930da931dad"
          ]
        }
      },
      "source": [
        "model = BertForQuestionAnswering.from_pretrained('bert-large-uncased-whole-word-masking-finetuned-squad')"
      ],
      "execution_count": 22,
      "outputs": [
        {
          "output_type": "display_data",
          "data": {
            "application/vnd.jupyter.widget-view+json": {
              "model_id": "1a8ca03869de4cfdaf3583babea50060",
              "version_minor": 0,
              "version_major": 2
            },
            "text/plain": [
              "HBox(children=(FloatProgress(value=0.0, description='Downloading', max=443.0, style=ProgressStyle(description_…"
            ]
          },
          "metadata": {
            "tags": []
          }
        },
        {
          "output_type": "stream",
          "text": [
            "\n"
          ],
          "name": "stdout"
        },
        {
          "output_type": "display_data",
          "data": {
            "application/vnd.jupyter.widget-view+json": {
              "model_id": "410e100a8f334e28b551f1c5fc6ccef8",
              "version_minor": 0,
              "version_major": 2
            },
            "text/plain": [
              "HBox(children=(FloatProgress(value=0.0, description='Downloading', max=1340675298.0, style=ProgressStyle(descr…"
            ]
          },
          "metadata": {
            "tags": []
          }
        },
        {
          "output_type": "stream",
          "text": [
            "\n"
          ],
          "name": "stdout"
        }
      ]
    },
    {
      "cell_type": "code",
      "metadata": {
        "id": "2UzKc-VIPZD1",
        "outputId": "4bec50ae-3ce6-469c-c3d2-fcc81cccdde7",
        "colab": {
          "base_uri": "https://localhost:8080/",
          "height": 66,
          "referenced_widgets": [
            "10e9ff647283484280146ae1d53da295",
            "9ec6aa75f21b49378fadf08a5a644466",
            "5b96d832ec754584bf70fb7c05a0ec82",
            "a1e9169ae913469aa972402aa102a4b7",
            "0d9750168ad940638419c60d4e07ef1a",
            "4709efd978c748618aaccf8362ae52fd",
            "6810e25f87c04537a28e0b1c959407e7",
            "ce8fc1ff547f498986bcf519d143437b"
          ]
        }
      },
      "source": [
        "tokenizer = BertTokenizer.from_pretrained('bert-large-uncased-whole-word-masking-finetuned-squad')"
      ],
      "execution_count": 23,
      "outputs": [
        {
          "output_type": "display_data",
          "data": {
            "application/vnd.jupyter.widget-view+json": {
              "model_id": "10e9ff647283484280146ae1d53da295",
              "version_minor": 0,
              "version_major": 2
            },
            "text/plain": [
              "HBox(children=(FloatProgress(value=0.0, description='Downloading', max=231508.0, style=ProgressStyle(descripti…"
            ]
          },
          "metadata": {
            "tags": []
          }
        },
        {
          "output_type": "stream",
          "text": [
            "\n"
          ],
          "name": "stdout"
        }
      ]
    },
    {
      "cell_type": "markdown",
      "metadata": {
        "id": "XQu0Xk-G_QYj"
      },
      "source": [
        "# Using BERT\n",
        "* Tokenizes known text and word chunks (if not in vocabulary)\n",
        "* Uses embeddings - those embeddings can \"adapt\" given word context\n",
        "* Trained with special tokens:\n",
        "  * [CLS] Classification\n",
        "  * [SEP] Sentence 1, Sentence 2 (does sentence 2 follow sentence 1)\n",
        "* For Question & Answer:\n",
        "  * Sentence 1 = Question\n",
        "  * Sentence 2 = Text Context\n",
        "* Scoring\n",
        "  * Our goal is to find the part of the text context that answers the question\n",
        "  * We need to find the starting token of that text\n",
        "  * We also need the ending token\n",
        "  * We may want to say we don't know if the answer isn't there"
      ]
    },
    {
      "cell_type": "markdown",
      "metadata": {
        "id": "QgVRSiVQDcTc"
      },
      "source": [
        "## BERT\n",
        "\n",
        "![](https://miro.medium.com/max/2348/0*m_kXt3uqZH9e7H4w.png)"
      ]
    },
    {
      "cell_type": "markdown",
      "metadata": {
        "id": "InEFa2nTC6i_"
      },
      "source": [
        "## Question\n",
        "\n",
        "![](http://www.mccormickml.com/assets/BERT/SQuAD/input_formatting.png)"
      ]
    },
    {
      "cell_type": "markdown",
      "metadata": {
        "id": "UF-kzvJtDCa2"
      },
      "source": [
        "## Answer - Starting Token\n",
        "\n",
        "![](http://www.mccormickml.com/assets/BERT/SQuAD/start_token_classification.png)"
      ]
    },
    {
      "cell_type": "markdown",
      "metadata": {
        "id": "2K8L3RRODChR"
      },
      "source": [
        "## Answer - Ending Token\n",
        "* Note we may need a constraint where starting token is strictly <= ending token\n",
        "\n",
        "![](http://www.mccormickml.com/assets/BERT/SQuAD/end_token_classification.png)"
      ]
    },
    {
      "cell_type": "markdown",
      "metadata": {
        "id": "arKhyMolRM79"
      },
      "source": [
        "# Question Answer\n",
        "* Helper function that forms the question and answer into an arrangement that BERT can handle\n",
        "* Condense Subwords = Rewrite subword tokens back into human readable\n",
        "* Display Tokens = Show the q&a tokenized\n",
        "* Display Scores = Show the softmax by token for start and ending word "
      ]
    },
    {
      "cell_type": "code",
      "metadata": {
        "id": "LXtfOYZ5RMB1"
      },
      "source": [
        "def q_and_a(question, answer_text, condense_subwords=False, display_tokens=False, display_scores=False):\n",
        "  if len(answer_text) > 400:\n",
        "    answer_text = answer_text[0:400]\n",
        "\n",
        "  input_ids = tokenizer.encode(question, answer_text)\n",
        "  tokens = tokenizer.convert_ids_to_tokens(input_ids)\n",
        "\n",
        "  if display_tokens:\n",
        "    for token, id in zip(tokens, input_ids):\n",
        "        if id == tokenizer.sep_token_id:\n",
        "            print('')\n",
        "        print('{:<12} {:>6,}'.format(token, id))\n",
        "        if id == tokenizer.sep_token_id:\n",
        "            print('')\n",
        "    \n",
        "  sep_index = input_ids.index(tokenizer.sep_token_id)\n",
        "  num_seg_a = sep_index + 1\n",
        "  num_seg_b = len(input_ids) - num_seg_a\n",
        "\n",
        "  segment_ids = [0]*num_seg_a + [1]*num_seg_b\n",
        "  assert len(segment_ids) == len(input_ids)\n",
        "\n",
        "  out = model(torch.tensor([input_ids]), # The tokens representing our input text.\n",
        "              token_type_ids=torch.tensor([segment_ids])) # The segment IDs to differentiate question from answer_text\n",
        "\n",
        "  start_scores = out[0]\n",
        "  end_scores   = out[1]\n",
        "\n",
        "  answer_start = torch.argmax(start_scores)\n",
        "  answer_end = torch.argmax(end_scores)\n",
        "\n",
        "  answer = ' '.join(tokens[answer_start:answer_end+1])\n",
        "  if condense_subwords:\n",
        "    answer = answer.replace(' ##', '')\n",
        "  print('Answer: \"' + answer + '\"')\n",
        "\n",
        "  if display_scores:\n",
        "    s_scores = start_scores.detach().numpy().flatten()\n",
        "    e_scores = end_scores.detach().numpy().flatten()\n",
        "\n",
        "    token_labels = []\n",
        "    for (i, token) in enumerate(tokens):\n",
        "        token_labels.append('{:} - {:>2}'.format(token, i))\n",
        "\n",
        "    f, (ax1, ax2) = plt.subplots(1, 2, figsize=(10,8), sharey=True)\n",
        "    ax1 = sns.barplot(y=token_labels, x=s_scores, ci=None, orient='h', ax=ax1)\n",
        "    ax1.set_xticklabels(ax1.get_xticklabels(), rotation=90, ha=\"center\")\n",
        "    ax1.grid(True)\n",
        "    plt.title('Start Word Scores')\n",
        "\n",
        "    ax2 = sns.barplot(y=token_labels, x=e_scores, ci=None, orient='h', ax=ax2)\n",
        "    ax2.set_xticklabels(ax2.get_xticklabels(), rotation=90, ha=\"center\")\n",
        "    ax2.grid(True)\n",
        "    plt.title('End Word Scores')\n",
        "    plt.show()"
      ],
      "execution_count": 24,
      "outputs": []
    },
    {
      "cell_type": "markdown",
      "metadata": {
        "id": "vqc0RtniQ8hQ"
      },
      "source": [
        "# Wikipedia\n",
        "* Nice library that wraps up access to wikipedia\n",
        "  * Summary\n",
        "  * Search\n",
        "  * Page\n",
        "  * Suggestion\n",
        "* Given its use in many training datasets the library can be helpful!\n",
        "* We'll use the API to form some questions"
      ]
    },
    {
      "cell_type": "code",
      "metadata": {
        "id": "xHdfVPYHNAco",
        "outputId": "bac62be2-ca26-45e4-8b5b-502256b4daa7",
        "colab": {
          "base_uri": "https://localhost:8080/",
          "height": 188
        }
      },
      "source": [
        "wikipedia.summary(\"CNN\")"
      ],
      "execution_count": 25,
      "outputs": [
        {
          "output_type": "execute_result",
          "data": {
            "application/vnd.google.colaboratory.intrinsic+json": {
              "type": "string"
            },
            "text/plain": [
              "'Cable News Network (CNN) is an American news-based pay television channel owned by CNN Worldwide, a unit of the WarnerMedia News & Sports division of AT&T\\'s WarnerMedia. CNN was founded in 1980 by American media proprietor Ted Turner and Reese Schonfeld as a 24-hour cable news channel. Upon its launch in 1980, CNN was the first television channel to provide 24-hour news coverage, and was the first all-news television channel in the United States.While the news channel has numerous affiliates, CNN primarily broadcasts from 30 Hudson Yards in New York City, and studios in Washington, D.C. and Los Angeles. Its headquarters at the CNN Center in Atlanta is only used for weekend programming. CNN is sometimes referred to as CNN/U.S. (or CNN Domestic) to distinguish the U.S. channel from its international sister network, CNN International.\\nThe network is known for its dramatic live coverage of breaking news, some of which has drawn criticism as overly sensationalistic, and for its efforts to be nonpartisan, which have led to accusations of false balance.As of September 2018, CNN has 90.1 million television households as subscribers (97.7% of households with cable) in the United States. In 2019, CNN ranked third in viewership among cable news networks, behind rivals Fox News and MSNBC, averaging 972,000 viewers. CNN ranks 14th among all basic cable networks.Globally, CNN programming airs through CNN International, which can be seen by viewers in over 212 countries and territories. The US domestic version, sometimes referred to as CNN (US) is also available in Canada, some islands of the Caribbean and in Japan, where it was first broadcast on CNNj in 2003, with simultaneous translation in Japanese. Starting in late 2010, the high definition feed of CNN US was launched in Japan for American viewers under the name \"CNN/US HD\", and is distributed by Japan Cable Television (JCTV) to several different multi-channel TV providers, such as J:COM, SKY PerfecTV!, iTSCOM and the JCTVWiFi service.'"
            ]
          },
          "metadata": {
            "tags": []
          },
          "execution_count": 25
        }
      ]
    },
    {
      "cell_type": "code",
      "metadata": {
        "id": "6CWezCzKbLfC",
        "outputId": "d674c2b8-2cbf-4185-af2d-fb42541ac6e1",
        "colab": {
          "base_uri": "https://localhost:8080/"
        }
      },
      "source": [
        "wikipedia.search('Bill')"
      ],
      "execution_count": 26,
      "outputs": [
        {
          "output_type": "execute_result",
          "data": {
            "text/plain": [
              "['Bill',\n",
              " 'The Bill',\n",
              " 'Bill Clinton',\n",
              " 'Bill Gates',\n",
              " 'NBA Finals Most Valuable Player Award',\n",
              " 'Bill & Ted Face the Music',\n",
              " 'Bills, Bills, Bills',\n",
              " 'Bill Paxton',\n",
              " 'Bill of Rights 1689',\n",
              " 'Buffalo Bill']"
            ]
          },
          "metadata": {
            "tags": []
          },
          "execution_count": 26
        }
      ]
    },
    {
      "cell_type": "code",
      "metadata": {
        "id": "AWCVPz64b2qO",
        "outputId": "a00373e5-8b84-4c8c-ca14-db8f71c878b9",
        "colab": {
          "base_uri": "https://localhost:8080/",
          "height": 35
        }
      },
      "source": [
        "wikipedia.suggest('Orygun')"
      ],
      "execution_count": 27,
      "outputs": [
        {
          "output_type": "execute_result",
          "data": {
            "application/vnd.google.colaboratory.intrinsic+json": {
              "type": "string"
            },
            "text/plain": [
              "'oregon'"
            ]
          },
          "metadata": {
            "tags": []
          },
          "execution_count": 27
        }
      ]
    },
    {
      "cell_type": "code",
      "metadata": {
        "id": "pwgAQZ0pYN0T",
        "outputId": "a6c16609-ddb6-4434-e0f6-8016be196b63",
        "colab": {
          "base_uri": "https://localhost:8080/"
        }
      },
      "source": [
        "page = wikipedia.page('London Heathrow Airport')\n",
        "print('\\n======= Title ========')\n",
        "print(page.title)\n",
        "\n",
        "print('\\n======= URL ========')\n",
        "print(page.url)\n",
        "\n",
        "print('\\n======= Categories ========')\n",
        "print(page.categories)\n",
        "\n",
        "print('\\n======= Geo ========')\n",
        "print(page.coordinates)"
      ],
      "execution_count": 58,
      "outputs": [
        {
          "output_type": "stream",
          "text": [
            "\n",
            "======= Title ========\n",
            "Heathrow Airport\n",
            "\n",
            "======= URL ========\n",
            "https://en.wikipedia.org/wiki/Heathrow_Airport\n",
            "\n",
            "======= Categories ========\n",
            "['1929 establishments in England', 'Airports established in 1929', 'Airports in the London region', 'All articles containing potentially dated statements', 'All articles to be merged', 'All articles with unsourced statements', 'Articles containing potentially dated statements from 2013', 'Articles to be merged from May 2020', 'Articles with short description', 'Articles with unsourced statements from December 2019', 'Buildings and structures in the London Borough of Hillingdon', 'CS1 Dutch-language sources (nl)', 'CS1 errors: missing periodical', 'CS1 maint: archived copy as title', 'Commons category link is on Wikidata', 'Coordinates on Wikidata', 'EngvarB from July 2015', 'Heathrow Airport', 'Heathrow Airport Holdings', 'Pages containing links to subscription-only content', 'Proposed transport infrastructure in London', 'Public inquiries in the United Kingdom', 'Short description is different from Wikidata', 'Tourist attractions in the London Borough of Hillingdon', 'Transport in the London Borough of Hillingdon', 'Use dmy dates from August 2020', 'Webarchive template wayback links', 'Wikipedia articles needing clarification from December 2016', 'Wikipedia articles with GND identifiers', 'Wikipedia articles with LCCN identifiers', 'Wikipedia articles with NLI identifiers', 'Wikipedia articles with Trove identifiers', 'Wikipedia articles with VIAF identifiers', 'Wikipedia articles with WorldCat identifiers']\n",
            "\n",
            "======= Geo ========\n",
            "(Decimal('51.47749999999999914734871708787977695465087890625'), Decimal('-0.461388889999999995961132981392438523471355438232421875'))\n",
            "\n",
            "======= Section ========\n",
            "Heathrow Airport is used by over 80 airlines flying to 185 destinations in 84 countries. The airport is the primary hub of British Airways and is a base for Virgin Atlantic. It has four passenger terminals (numbered 2 to 5) and a cargo terminal. Of Heathrow's 78 million passengers in 2017, 94% were international travellers; the remaining 6% were bound for (or arriving from) places in the UK. The busiest single destination in passenger numbers is New York, with over 3 million passengers flying between Heathrow and JFK Airport in 2013.In the 1950s, Heathrow had six runways, arranged in three pairs at different angles in the shape of a hexagram with the permanent passenger terminal in the middle and the older terminal along the north edge of the field; two of its runways would always be within 30° of the wind direction. As the required length for runways has grown, Heathrow now has only two parallel runways running east–west. These are extended versions of the two east–west runways from the original hexagram. From the air, almost all of the original runways can still be seen, incorporated into the present system of taxiways. North of the northern runway and the former taxiway and aprons, now the site of extensive car parks, is the entrance to the access tunnel and the site of Heathrow's unofficial \"gate guardian\". For many years the home of a 40% scale model of a British Airways Concorde, G-CONC, the site has been occupied by a model of an Emirates Airbus A380 since 2008.Heathrow Airport has Anglican, Catholic, Free Church, Hindu, Jewish, Muslim and Sikh chaplains. There is a multi-faith prayer room and counselling room in each terminal, in addition to St. George's Interdenominational Chapel in an underground vault adjacent to the old control tower, where Christian services take place. The chaplains organise and lead prayers at certain times in the prayer room.The airport has its own resident press corps, consisting of six photographers and one TV crew, serving all the major newspapers and television stations around the world.Most of Heathrow's internal roads are initial letter coded by area: N in the north (e.g. Newall Road), E in the east (e.g. Elmdon Road), S in the south (e.g. Stratford Road), W in the west (e.g. Walrus Road), C in the centre (e.g. Camborne Road).\n"
          ],
          "name": "stdout"
        }
      ]
    },
    {
      "cell_type": "code",
      "metadata": {
        "id": "p7N9eNEgZQJj"
      },
      "source": [
        "print('\\n======= Content ========')\n",
        "print(page.content)"
      ],
      "execution_count": null,
      "outputs": []
    },
    {
      "cell_type": "code",
      "metadata": {
        "id": "GqpcFjwcZat6"
      },
      "source": [
        "print('\\n======= Section ========')\n",
        "print(page.section('Facilities'))"
      ],
      "execution_count": null,
      "outputs": []
    },
    {
      "cell_type": "code",
      "metadata": {
        "id": "zOF9t_p7X0W2"
      },
      "source": [
        "wikipedia.set_lang(\"fr\")\n",
        "wikipedia.summary(\"Google\", sentences=1)\n",
        "wikipedia.set_lang(\"en\")"
      ],
      "execution_count": 50,
      "outputs": []
    },
    {
      "cell_type": "markdown",
      "metadata": {
        "id": "AK0uvps3bHkz"
      },
      "source": [
        "# Examples"
      ]
    },
    {
      "cell_type": "code",
      "metadata": {
        "id": "PPwy6AgHQzrM",
        "outputId": "5f578d45-dfdf-4ff8-de57-253dc82f0da8",
        "colab": {
          "base_uri": "https://localhost:8080/"
        }
      },
      "source": [
        "q_and_a(\"What does the C in CNN stand for?\", wikipedia.summary('CNN'))"
      ],
      "execution_count": 28,
      "outputs": [
        {
          "output_type": "stream",
          "text": [
            "Answer: \"cable news network\"\n"
          ],
          "name": "stdout"
        }
      ]
    },
    {
      "cell_type": "code",
      "metadata": {
        "id": "0IxwxGpdSlGD",
        "outputId": "472108df-952f-427e-9e5a-d3b5bf2b11a1",
        "colab": {
          "base_uri": "https://localhost:8080/"
        }
      },
      "source": [
        "q_and_a('When were the Steelers created?', wikipedia.summary('Pittsburgh Steelers'))"
      ],
      "execution_count": 29,
      "outputs": [
        {
          "output_type": "stream",
          "text": [
            "Answer: \"1933\"\n"
          ],
          "name": "stdout"
        }
      ]
    },
    {
      "cell_type": "code",
      "metadata": {
        "id": "A1LQ25wNVCv7",
        "outputId": "55943522-ca5c-4677-f081-6dde8074c2b9",
        "colab": {
          "base_uri": "https://localhost:8080/"
        }
      },
      "source": [
        "q_and_a('What is in pudding?', wikipedia.summary('Pudding'))"
      ],
      "execution_count": 30,
      "outputs": [
        {
          "output_type": "stream",
          "text": [
            "Answer: \"a type of food that can be either a dessert or a sa ##vor ##y ( salty or spicy ) dish that is part of the main meal\"\n"
          ],
          "name": "stdout"
        }
      ]
    },
    {
      "cell_type": "code",
      "metadata": {
        "id": "851sAiYEVG-q",
        "outputId": "eab0f3bd-07fd-4d10-d149-d41457767a93",
        "colab": {
          "base_uri": "https://localhost:8080/"
        }
      },
      "source": [
        "q_and_a('What is a random forest?', wikipedia.summary('Random Forest'))"
      ],
      "execution_count": 31,
      "outputs": [
        {
          "output_type": "stream",
          "text": [
            "Answer: \"\"\n"
          ],
          "name": "stdout"
        }
      ]
    },
    {
      "cell_type": "code",
      "metadata": {
        "id": "GyEocHssXqIA",
        "outputId": "c13fb0fa-b359-420b-c0d3-00a6aaff0448",
        "colab": {
          "base_uri": "https://localhost:8080/"
        }
      },
      "source": [
        "q_and_a('What position does Tom Brady play?', wikipedia.summary('TomBrady'))"
      ],
      "execution_count": 32,
      "outputs": [
        {
          "output_type": "stream",
          "text": [
            "Answer: \"quarterback\"\n"
          ],
          "name": "stdout"
        }
      ]
    },
    {
      "cell_type": "code",
      "metadata": {
        "id": "Evr_AsjqZfJz",
        "outputId": "5e7a3bd5-575d-451e-d7a6-b415c8b0d076",
        "colab": {
          "base_uri": "https://localhost:8080/"
        }
      },
      "source": [
        "q_and_a('Who was the first president?', wikipedia.summary('List of presidents of the United States'))"
      ],
      "execution_count": 33,
      "outputs": [
        {
          "output_type": "stream",
          "text": [
            "Answer: \"1789\"\n"
          ],
          "name": "stdout"
        }
      ]
    },
    {
      "cell_type": "markdown",
      "metadata": {
        "id": "LJ3Hr8XAZnk7"
      },
      "source": [
        "# Scores"
      ]
    },
    {
      "cell_type": "code",
      "metadata": {
        "id": "yyN8JTe2hmkz",
        "outputId": "0cb2ce02-680b-43f3-9aea-203d7ff4ef96",
        "colab": {
          "base_uri": "https://localhost:8080/",
          "height": 502
        }
      },
      "source": [
        "q_and_a('Who is Jim Henson?', 'Jim Henson is a puppeteer.', condense_subwords=True, display_scores=True)"
      ],
      "execution_count": 34,
      "outputs": [
        {
          "output_type": "stream",
          "text": [
            "Answer: \"a puppeteer\"\n"
          ],
          "name": "stdout"
        },
        {
          "output_type": "display_data",
          "data": {
            "image/png": "[encoded data removed]",
            "text/plain": [
              "<Figure size 720x576 with 2 Axes>"
            ]
          },
          "metadata": {
            "tags": [],
            "needs_background": "light"
          }
        }
      ]
    },
    {
      "cell_type": "markdown",
      "metadata": {
        "id": "QEN5oY1eMmFR"
      },
      "source": [
        "# SQuaD\n",
        "\n",
        "![](https://miro.medium.com/max/1200/1*6ga054VrBMwLG4OC13bQoQ.png)\n",
        "\n",
        "* Stanford Question and Answer Dataset\n",
        "  * Imagenet of Q&A\n",
        "  * Human Level Performance EM 86.831, F1 89.452\n",
        "  * Top Model EM 90.724 F1 93.011\n",
        "* Scoring \n",
        "  * EM = Exact Match of one of the provided answers\n",
        "  * F1 = Token level match (partial credit)\n",
        "* SQuaD 1.1 = 100,000 Questions, Text Context and Answers\n",
        "* SQuaD 2.0 = 150,000 Questions, Text Context and Answers\n",
        "  * 50,000 Adverserial Examples (Engineered to look real)\n",
        "  * Must output nothing to get correct\n",
        "* Site hosts a running competition (taking your model, scoring dev & test)\n",
        "* https://rajpurkar.github.io/SQuAD-explorer/"
      ]
    },
    {
      "cell_type": "code",
      "metadata": {
        "id": "yWyqx82thvQy"
      },
      "source": [
        "answer_text = \"\"\"The word pharmacy is derived from its root word pharma which was a term used \n",
        "since the 15th–17th centuries. However, the original Greek roots from pharmakos imply \n",
        "sorcery or even poison. In addition to pharma responsibilities, the pharma offered general \n",
        "medical advice and a range of services that are now performed solely by other specialist \n",
        "practitioners, such as surgery and midwifery. The pharma (as it was referred to) often \n",
        "operated through a retail shop which, in addition to ingredients for medicines, sold \n",
        "tobacco and patent medicines. Often the place that did this was called an apothecary \n",
        "and several languages have this as the dominant term, though their practices are more \n",
        "akin to a modern pharmacy, in English the term apothecary would today be seen as outdated \n",
        "or only approproriate if herbal remedies were on offer to a large extent. The pharmas also \n",
        "used many other herbs not listed. The Greek word Pharmakeia (Greek: φαρμακεία) derives from \n",
        "pharmakon (φάρμακον), meaning \"drug\", \"medicine\" (or \"poison\").[n 1]\"\"\""
      ],
      "execution_count": 35,
      "outputs": []
    },
    {
      "cell_type": "code",
      "metadata": {
        "id": "iOUO54oqvCC8",
        "outputId": "17ad2391-9974-4a5a-bf82-d632840d815f",
        "colab": {
          "base_uri": "https://localhost:8080/"
        }
      },
      "source": [
        "question = \"What goods were sold in a pharma?\"\n",
        "q_and_a(question, answer_text, condense_subwords=True)"
      ],
      "execution_count": 36,
      "outputs": [
        {
          "output_type": "stream",
          "text": [
            "Answer: \"general medical advice and a range of services that are now performed solely by other specialist practitioners , such as surgery and midwifery\"\n"
          ],
          "name": "stdout"
        }
      ]
    },
    {
      "cell_type": "code",
      "metadata": {
        "id": "veJlJpmivG5v",
        "outputId": "c0d3b2eb-806d-47a1-c55f-4982d4b525e7",
        "colab": {
          "base_uri": "https://localhost:8080/"
        }
      },
      "source": [
        "question = \"What word is the word pharmacy taken from?\"\n",
        "q_and_a(question, answer_text, condense_subwords=True)"
      ],
      "execution_count": 37,
      "outputs": [
        {
          "output_type": "stream",
          "text": [
            "Answer: \"pharma\"\n"
          ],
          "name": "stdout"
        }
      ]
    },
    {
      "cell_type": "markdown",
      "metadata": {
        "id": "F-UbF6GyApXa"
      },
      "source": [
        "# Training Set"
      ]
    },
    {
      "cell_type": "markdown",
      "metadata": {
        "id": "6HVt06IsGFFb"
      },
      "source": [
        "## Download"
      ]
    },
    {
      "cell_type": "code",
      "metadata": {
        "id": "A0F2Em-Yv4Jt",
        "outputId": "44ffe9fd-7814-4c52-eb3c-1d061ba208c4",
        "colab": {
          "base_uri": "https://localhost:8080/"
        }
      },
      "source": [
        "!wget -O squad.json https://rajpurkar.github.io/SQuAD-explorer/dataset/train-v1.1.json"
      ],
      "execution_count": 38,
      "outputs": [
        {
          "output_type": "stream",
          "text": [
            "--2020-10-07 22:16:47--  https://rajpurkar.github.io/SQuAD-explorer/dataset/train-v1.1.json\n",
            "Resolving rajpurkar.github.io (rajpurkar.github.io)... 185.199.111.153, 185.199.108.153, 185.199.110.153, ...\n",
            "Connecting to rajpurkar.github.io (rajpurkar.github.io)|185.199.111.153|:443... connected.\n",
            "HTTP request sent, awaiting response... 200 OK\n",
            "Length: 30288272 (29M) [application/json]\n",
            "Saving to: ‘squad.json’\n",
            "\n",
            "squad.json          100%[===================>]  28.88M   114MB/s    in 0.3s    \n",
            "\n",
            "2020-10-07 22:16:48 (114 MB/s) - ‘squad.json’ saved [30288272/30288272]\n",
            "\n"
          ],
          "name": "stdout"
        }
      ]
    },
    {
      "cell_type": "markdown",
      "metadata": {
        "id": "76mc0jrrGGg9"
      },
      "source": [
        "## Parse"
      ]
    },
    {
      "cell_type": "code",
      "metadata": {
        "id": "OiYNqENgA4kc",
        "outputId": "5cbc63e1-d2d8-4322-f2bc-78b13c75d6d7",
        "colab": {
          "base_uri": "https://localhost:8080/"
        }
      },
      "source": [
        "with open('squad.json', 'r') as f:\n",
        "  j = json.load(f)\n",
        "\n",
        "cases = []\n",
        "for entry in j['data']:\n",
        "    title = entry['title']\n",
        "    for paragraph in entry['paragraphs']:\n",
        "        context = paragraph['context']\n",
        "        for qa in paragraph['qas']:\n",
        "            case = {}\n",
        "            case['title'] = title\n",
        "            case['context_text'] = context\n",
        "\n",
        "            case['qas_id'] = qa['id']\n",
        "            case['question_text'] = qa['question']\n",
        "            \n",
        "            answer = qa['answers'][0]\n",
        "            case['answer_text'] = answer['text']\n",
        "            case['start_position_character'] = answer['answer_start']                \n",
        "            \n",
        "            cases.append(case)\n",
        "print(f'Loaded {len(examples):,} cases')"
      ],
      "execution_count": 44,
      "outputs": [
        {
          "output_type": "stream",
          "text": [
            "Loaded 87,599 cases\n"
          ],
          "name": "stdout"
        }
      ]
    },
    {
      "cell_type": "markdown",
      "metadata": {
        "id": "I07x_5MFGDfm"
      },
      "source": [
        "## Display"
      ]
    },
    {
      "cell_type": "code",
      "metadata": {
        "id": "p-Exgm7VFrXW",
        "outputId": "aeaa8d99-b803-4bcc-9ca7-2d0ea401dccc",
        "colab": {
          "base_uri": "https://localhost:8080/",
          "height": 130
        }
      },
      "source": [
        "wrapper = textwrap.TextWrapper(width=80) \n",
        "case = cases[249]\n",
        "\n",
        "print('Title:', case['title'])\n",
        "print('ID:', case['qas_id'])\n",
        "\n",
        "print('\\n======== Question =========')\n",
        "print(case['question_text'])\n",
        "\n",
        "print('\\n======== Context =========')\n",
        "print(wrapper.fill(case['context_text']))\n",
        "\n",
        "print('\\n======== Answer =========')\n",
        "print(case['answer_text'])\n",
        "\n",
        "print('\\n======== Position =========')\n",
        "print(case['start_position_character'])\n"
      ],
      "execution_count": 1,
      "outputs": [
        {
          "output_type": "error",
          "ename": "SyntaxError",
          "evalue": "ignored",
          "traceback": [
            "\u001b[0;36m  File \u001b[0;32m\"<ipython-input-1-e3642f45a510>\"\u001b[0;36m, line \u001b[0;32m7\u001b[0m\n\u001b[0;31m    print('\\nQuestion\u001b[0m\n\u001b[0m                     ^\u001b[0m\n\u001b[0;31mSyntaxError\u001b[0m\u001b[0;31m:\u001b[0m EOL while scanning string literal\n"
          ]
        }
      ]
    },
    {
      "cell_type": "markdown",
      "metadata": {
        "id": "_JJETNIxDoE3"
      },
      "source": [
        "## Predict"
      ]
    },
    {
      "cell_type": "code",
      "metadata": {
        "id": "rQDfF8AKIgdj",
        "outputId": "04291590-bfbf-4eee-dd65-2a955051eae8",
        "colab": {
          "base_uri": "https://localhost:8080/"
        }
      },
      "source": [
        "q_and_a(case['question_text'], case['context_text'], condense_subwords=True)"
      ],
      "execution_count": 47,
      "outputs": [
        {
          "output_type": "stream",
          "text": [
            "Answer: \"celestine guynemer de la hailandiere\"\n"
          ],
          "name": "stdout"
        }
      ]
    }
  ]
}